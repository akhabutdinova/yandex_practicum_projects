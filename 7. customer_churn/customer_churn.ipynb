{
 "cells": [
  {
   "cell_type": "markdown",
   "metadata": {},
   "source": [
    "# Отток клиентов"
   ]
  },
  {
   "cell_type": "markdown",
   "metadata": {},
   "source": [
    "Из «Бета-Банка» стали уходить клиенты. Каждый месяц. Немного, но заметно. Банковские маркетологи посчитали: сохранять текущих клиентов дешевле, чем привлекать новых.\n",
    "\n",
    "Нужно спрогнозировать, уйдёт клиент из банка в ближайшее время или нет. Вам предоставлены исторические данные о поведении клиентов и расторжении договоров с банком. \n",
    "\n",
    "Постройте модель с предельно большим значением *F1*-меры. Чтобы сдать проект успешно, нужно довести метрику до 0.59. Проверьте *F1*-меру на тестовой выборке самостоятельно.\n",
    "\n",
    "Дополнительно измеряйте *AUC-ROC*, сравнивайте её значение с *F1*-мерой.\n",
    "\n",
    "Источник данных: [https://www.kaggle.com/barelydedicated/bank-customer-churn-modeling](https://www.kaggle.com/barelydedicated/bank-customer-churn-modeling)\n",
    "\n",
    "**Цель работы:** спрогнозировать, уйдёт ли клиент в ближайшее время из банка или нет.\n",
    "\n",
    "**Ход работы:**\n",
    "1.  Подготовка данных\n",
    "2.  Исследование задачи\n",
    "3.  Борьба с дисбалансом\n",
    "4.  Тестирование модели"
   ]
  },
  {
   "cell_type": "markdown",
   "metadata": {},
   "source": [
    "## Подготовка данных"
   ]
  },
  {
   "cell_type": "markdown",
   "metadata": {},
   "source": [
    "### Обзор данных"
   ]
  },
  {
   "cell_type": "markdown",
   "metadata": {},
   "source": [
    "Импортируем все необходимые в работе библиотеки и функции."
   ]
  },
  {
   "cell_type": "code",
   "execution_count": 1,
   "metadata": {},
   "outputs": [],
   "source": [
    "#импорт библиотек и функций\n",
    "import pandas as pd\n",
    "import matplotlib.pyplot as plt\n",
    "import numpy as np\n",
    "from sklearn.model_selection import train_test_split\n",
    "from sklearn.preprocessing import StandardScaler\n",
    "from sklearn.tree import DecisionTreeClassifier\n",
    "from sklearn.ensemble import RandomForestClassifier\n",
    "from sklearn.linear_model import LogisticRegression\n",
    "from sklearn.metrics import f1_score, roc_auc_score\n",
    "from sklearn.utils import shuffle"
   ]
  },
  {
   "cell_type": "markdown",
   "metadata": {},
   "source": [
    "Откроем и изучим файл с данными."
   ]
  },
  {
   "cell_type": "code",
   "execution_count": 2,
   "metadata": {
    "scrolled": true
   },
   "outputs": [
    {
     "data": {
      "text/html": [
       "<div>\n",
       "<style scoped>\n",
       "    .dataframe tbody tr th:only-of-type {\n",
       "        vertical-align: middle;\n",
       "    }\n",
       "\n",
       "    .dataframe tbody tr th {\n",
       "        vertical-align: top;\n",
       "    }\n",
       "\n",
       "    .dataframe thead th {\n",
       "        text-align: right;\n",
       "    }\n",
       "</style>\n",
       "<table border=\"1\" class=\"dataframe\">\n",
       "  <thead>\n",
       "    <tr style=\"text-align: right;\">\n",
       "      <th></th>\n",
       "      <th>RowNumber</th>\n",
       "      <th>CustomerId</th>\n",
       "      <th>Surname</th>\n",
       "      <th>CreditScore</th>\n",
       "      <th>Geography</th>\n",
       "      <th>Gender</th>\n",
       "      <th>Age</th>\n",
       "      <th>Tenure</th>\n",
       "      <th>Balance</th>\n",
       "      <th>NumOfProducts</th>\n",
       "      <th>HasCrCard</th>\n",
       "      <th>IsActiveMember</th>\n",
       "      <th>EstimatedSalary</th>\n",
       "      <th>Exited</th>\n",
       "    </tr>\n",
       "  </thead>\n",
       "  <tbody>\n",
       "    <tr>\n",
       "      <th>0</th>\n",
       "      <td>1</td>\n",
       "      <td>15634602</td>\n",
       "      <td>Hargrave</td>\n",
       "      <td>619</td>\n",
       "      <td>France</td>\n",
       "      <td>Female</td>\n",
       "      <td>42</td>\n",
       "      <td>2.0</td>\n",
       "      <td>0.00</td>\n",
       "      <td>1</td>\n",
       "      <td>1</td>\n",
       "      <td>1</td>\n",
       "      <td>101348.88</td>\n",
       "      <td>1</td>\n",
       "    </tr>\n",
       "    <tr>\n",
       "      <th>1</th>\n",
       "      <td>2</td>\n",
       "      <td>15647311</td>\n",
       "      <td>Hill</td>\n",
       "      <td>608</td>\n",
       "      <td>Spain</td>\n",
       "      <td>Female</td>\n",
       "      <td>41</td>\n",
       "      <td>1.0</td>\n",
       "      <td>83807.86</td>\n",
       "      <td>1</td>\n",
       "      <td>0</td>\n",
       "      <td>1</td>\n",
       "      <td>112542.58</td>\n",
       "      <td>0</td>\n",
       "    </tr>\n",
       "    <tr>\n",
       "      <th>2</th>\n",
       "      <td>3</td>\n",
       "      <td>15619304</td>\n",
       "      <td>Onio</td>\n",
       "      <td>502</td>\n",
       "      <td>France</td>\n",
       "      <td>Female</td>\n",
       "      <td>42</td>\n",
       "      <td>8.0</td>\n",
       "      <td>159660.80</td>\n",
       "      <td>3</td>\n",
       "      <td>1</td>\n",
       "      <td>0</td>\n",
       "      <td>113931.57</td>\n",
       "      <td>1</td>\n",
       "    </tr>\n",
       "    <tr>\n",
       "      <th>3</th>\n",
       "      <td>4</td>\n",
       "      <td>15701354</td>\n",
       "      <td>Boni</td>\n",
       "      <td>699</td>\n",
       "      <td>France</td>\n",
       "      <td>Female</td>\n",
       "      <td>39</td>\n",
       "      <td>1.0</td>\n",
       "      <td>0.00</td>\n",
       "      <td>2</td>\n",
       "      <td>0</td>\n",
       "      <td>0</td>\n",
       "      <td>93826.63</td>\n",
       "      <td>0</td>\n",
       "    </tr>\n",
       "    <tr>\n",
       "      <th>4</th>\n",
       "      <td>5</td>\n",
       "      <td>15737888</td>\n",
       "      <td>Mitchell</td>\n",
       "      <td>850</td>\n",
       "      <td>Spain</td>\n",
       "      <td>Female</td>\n",
       "      <td>43</td>\n",
       "      <td>2.0</td>\n",
       "      <td>125510.82</td>\n",
       "      <td>1</td>\n",
       "      <td>1</td>\n",
       "      <td>1</td>\n",
       "      <td>79084.10</td>\n",
       "      <td>0</td>\n",
       "    </tr>\n",
       "  </tbody>\n",
       "</table>\n",
       "</div>"
      ],
      "text/plain": [
       "   RowNumber  CustomerId   Surname  CreditScore Geography  Gender  Age  \\\n",
       "0          1    15634602  Hargrave          619    France  Female   42   \n",
       "1          2    15647311      Hill          608     Spain  Female   41   \n",
       "2          3    15619304      Onio          502    France  Female   42   \n",
       "3          4    15701354      Boni          699    France  Female   39   \n",
       "4          5    15737888  Mitchell          850     Spain  Female   43   \n",
       "\n",
       "   Tenure    Balance  NumOfProducts  HasCrCard  IsActiveMember  \\\n",
       "0     2.0       0.00              1          1               1   \n",
       "1     1.0   83807.86              1          0               1   \n",
       "2     8.0  159660.80              3          1               0   \n",
       "3     1.0       0.00              2          0               0   \n",
       "4     2.0  125510.82              1          1               1   \n",
       "\n",
       "   EstimatedSalary  Exited  \n",
       "0        101348.88       1  \n",
       "1        112542.58       0  \n",
       "2        113931.57       1  \n",
       "3         93826.63       0  \n",
       "4         79084.10       0  "
      ]
     },
     "execution_count": 2,
     "metadata": {},
     "output_type": "execute_result"
    }
   ],
   "source": [
    "#сохранение данных в переменной data, вывод первых 5 строк на экран\n",
    "data = pd.read_csv('/datasets/Churn.csv')\n",
    "data.head()"
   ]
  },
  {
   "cell_type": "code",
   "execution_count": 3,
   "metadata": {},
   "outputs": [
    {
     "name": "stdout",
     "output_type": "stream",
     "text": [
      "<class 'pandas.core.frame.DataFrame'>\n",
      "RangeIndex: 10000 entries, 0 to 9999\n",
      "Data columns (total 14 columns):\n",
      " #   Column           Non-Null Count  Dtype  \n",
      "---  ------           --------------  -----  \n",
      " 0   RowNumber        10000 non-null  int64  \n",
      " 1   CustomerId       10000 non-null  int64  \n",
      " 2   Surname          10000 non-null  object \n",
      " 3   CreditScore      10000 non-null  int64  \n",
      " 4   Geography        10000 non-null  object \n",
      " 5   Gender           10000 non-null  object \n",
      " 6   Age              10000 non-null  int64  \n",
      " 7   Tenure           9091 non-null   float64\n",
      " 8   Balance          10000 non-null  float64\n",
      " 9   NumOfProducts    10000 non-null  int64  \n",
      " 10  HasCrCard        10000 non-null  int64  \n",
      " 11  IsActiveMember   10000 non-null  int64  \n",
      " 12  EstimatedSalary  10000 non-null  float64\n",
      " 13  Exited           10000 non-null  int64  \n",
      "dtypes: float64(3), int64(8), object(3)\n",
      "memory usage: 1.1+ MB\n"
     ]
    }
   ],
   "source": [
    "#информация о данных\n",
    "data.info()"
   ]
  },
  {
   "cell_type": "markdown",
   "metadata": {},
   "source": [
    "Согласно документации и полученным данным, таблица состоит из 10000 объектов, **признаки:**\n",
    "* `RowNumber` - индекс строки в данных;\n",
    "* `CustomerId` - уникальный идентификатор клиента;\n",
    "* `Surname` - фамилия;\n",
    "* `CreditScore` - кредитный рейтинг;\n",
    "* `Geography` - страна проживания;\n",
    "* `Gender` - пол;\n",
    "* `Age` - возраст;\n",
    "* `Tenure` - сколько лет человек является клиентом банка;\n",
    "* `Balance` - баланс на счёте;\n",
    "* `NumOfProducts` - количество продуктов банка, используемых клиентом;\n",
    "* `HasCrCard` - наличие кредитной карты;\n",
    "* `IsActiveMember` - активность клиента;\n",
    "* `EstimatedSalary` - предполагаемая зарплата;\n",
    "\n",
    "**целевой признак:**\n",
    "* `Exited` - факт ухода клиента;"
   ]
  },
  {
   "cell_type": "markdown",
   "metadata": {},
   "source": [
    "**Выводы:**\n",
    "\n",
    "1. В столбце `Tenure` присутствуют пропущенные значения.\n",
    "2. Данные в столбце `Tenure` нужно преобразовать к типу `int`.\n",
    "3. Неинформативные признаки `RowNumber`, `CustomerId` и `Surname` нужно убрать из таблицы."
   ]
  },
  {
   "cell_type": "markdown",
   "metadata": {},
   "source": [
    "### Предобработка данных"
   ]
  },
  {
   "cell_type": "markdown",
   "metadata": {},
   "source": [
    "1. Пропуски присутствуют только в столбце `Tenure`, оценим количество пропущенных значений."
   ]
  },
  {
   "cell_type": "code",
   "execution_count": 4,
   "metadata": {},
   "outputs": [
    {
     "data": {
      "text/plain": [
       "0.0909"
      ]
     },
     "execution_count": 4,
     "metadata": {},
     "output_type": "execute_result"
    }
   ],
   "source": [
    "#доля пропусков в столбце Tenure\n",
    "len(data[data['Tenure'].isna()]) / len(data)"
   ]
  },
  {
   "cell_type": "markdown",
   "metadata": {},
   "source": [
    "В столбце пропущено примерно 9% значений, рассмотрим распределение значений."
   ]
  },
  {
   "cell_type": "code",
   "execution_count": 5,
   "metadata": {},
   "outputs": [
    {
     "data": {
      "image/png": "[encoded data removed]",
      "text/plain": [
       "<Figure size 432x288 with 1 Axes>"
      ]
     },
     "metadata": {
      "needs_background": "light"
     },
     "output_type": "display_data"
    }
   ],
   "source": [
    "#построение столбчатой диаграммы\n",
    "data.groupby('Tenure')['Tenure'].count().plot(kind='bar',     \n",
    "                                              title='Распределение значений Tenure',\n",
    "                                              xlabel='Tenure',\n",
    "                                              ylabel='Количество клиентов',\n",
    "                                              grid=True);"
   ]
  },
  {
   "cell_type": "markdown",
   "metadata": {},
   "source": [
    "Пропуски могли возникнуть из-за сбоя при выгрузке данных, возможно, это данные о клиентах, которые более 10 лет являются клиентами банка, либо о тех, которые только стали клиентами. 9% данных - слишком много, чтобы просто удалить их, потому заполним пропуски случайным значением от 0 до 10, также преобразуем данные к типу `int`."
   ]
  },
  {
   "cell_type": "code",
   "execution_count": 6,
   "metadata": {},
   "outputs": [],
   "source": [
    "#заполнение пропусков случайным значением от 0 до 10\n",
    "data['Tenure'] = data['Tenure'].fillna(pd.Series(np.random.randint(11, size=len(data))))\n",
    "#замена типа данных на int\n",
    "data['Tenure'] = data['Tenure'].astype('int')"
   ]
  },
  {
   "cell_type": "markdown",
   "metadata": {},
   "source": [
    "2. Уберем признаки, которые не влияют на факт ухода клиента из банка - `RowNumber`, `CustomerId` и `Surname`."
   ]
  },
  {
   "cell_type": "code",
   "execution_count": 8,
   "metadata": {},
   "outputs": [
    {
     "name": "stdout",
     "output_type": "stream",
     "text": [
      "<class 'pandas.core.frame.DataFrame'>\n",
      "RangeIndex: 10000 entries, 0 to 9999\n",
      "Data columns (total 11 columns):\n",
      " #   Column           Non-Null Count  Dtype  \n",
      "---  ------           --------------  -----  \n",
      " 0   CreditScore      10000 non-null  int64  \n",
      " 1   Geography        10000 non-null  object \n",
      " 2   Gender           10000 non-null  object \n",
      " 3   Age              10000 non-null  int64  \n",
      " 4   Tenure           10000 non-null  int64  \n",
      " 5   Balance          10000 non-null  float64\n",
      " 6   NumOfProducts    10000 non-null  int64  \n",
      " 7   HasCrCard        10000 non-null  int64  \n",
      " 8   IsActiveMember   10000 non-null  int64  \n",
      " 9   EstimatedSalary  10000 non-null  float64\n",
      " 10  Exited           10000 non-null  int64  \n",
      "dtypes: float64(2), int64(7), object(2)\n",
      "memory usage: 859.5+ KB\n"
     ]
    }
   ],
   "source": [
    "#удаление признаков RowNumber, CustomerId и Surname\n",
    "data = data.drop(['RowNumber', 'CustomerId', 'Surname'], axis=1)\n",
    "data.info()"
   ]
  },
  {
   "cell_type": "markdown",
   "metadata": {},
   "source": [
    "3. Проверим распределения признаков `CreditScore`, `Age`, `NumOfProucts` на наличие выбросов и аномалий."
   ]
  },
  {
   "cell_type": "code",
   "execution_count": 9,
   "metadata": {},
   "outputs": [
    {
     "data": {
      "image/png": "[encoded data removed]",
      "text/plain": [
       "<Figure size 432x288 with 1 Axes>"
      ]
     },
     "metadata": {
      "needs_background": "light"
     },
     "output_type": "display_data"
    }
   ],
   "source": [
    "#гистограмма для CreditScore\n",
    "ax = data.plot(kind='hist',\n",
    "               y='CreditScore',\n",
    "               bins=20,\n",
    "               title='Распределение значений CreditScore',\n",
    "               grid=True)\n",
    "ax.set(xlabel='CreditScore');"
   ]
  },
  {
   "cell_type": "markdown",
   "metadata": {},
   "source": [
    "Значения расположены на отрезке от 350 до 850, что соответствует действительности. В основном, значения кредитного скоринга лежат в отрезке от 0 до 850, а градация такова, что ниже 500 баллов - это низкий рейтинг, средний рейтинг лежит в отрезке от 500 до 600 баллов, хороший рейтинг - это 600-700 баллов, а все, что выше 700 - это очень хороший рейтинг."
   ]
  },
  {
   "cell_type": "code",
   "execution_count": 12,
   "metadata": {},
   "outputs": [
    {
     "data": {
      "image/png": "[encoded data removed]",
      "text/plain": [
       "<Figure size 432x288 with 1 Axes>"
      ]
     },
     "metadata": {
      "needs_background": "light"
     },
     "output_type": "display_data"
    }
   ],
   "source": [
    "#гистограмма для Age\n",
    "ax = data.plot(kind='hist',\n",
    "               y='Age',\n",
    "               bins=20,\n",
    "               title='Распределение значений Age',\n",
    "               grid=True)\n",
    "ax.set(xlabel='Age');"
   ]
  },
  {
   "cell_type": "markdown",
   "metadata": {},
   "source": [
    "Значения расположены на отрезке от 18 до 85, что соответствует действительности."
   ]
  },
  {
   "cell_type": "code",
   "execution_count": 13,
   "metadata": {},
   "outputs": [
    {
     "data": {
      "image/png": "[encoded data removed]",
      "text/plain": [
       "<Figure size 432x288 with 1 Axes>"
      ]
     },
     "metadata": {
      "needs_background": "light"
     },
     "output_type": "display_data"
    }
   ],
   "source": [
    "#столбчатая диаграмма для NumOfProducts\n",
    "data['NumOfProducts'].value_counts().plot(kind='bar',\n",
    "                                          title='Распределение значений NumOfProducts',\n",
    "                                          xlabel='NumOfProducts',\n",
    "                                          ylabel='Количество клиентов',\n",
    "                                          grid=True);"
   ]
  },
  {
   "cell_type": "markdown",
   "metadata": {},
   "source": [
    "Для признака NumOfProducts также не наблюдаются аномалии."
   ]
  },
  {
   "cell_type": "markdown",
   "metadata": {},
   "source": [
    "4. Рассмотрим целевой признак `Exited`, исследуем на баланс классов."
   ]
  },
  {
   "cell_type": "code",
   "execution_count": 14,
   "metadata": {},
   "outputs": [
    {
     "data": {
      "image/png": "[encoded data removed]",
      "text/plain": [
       "<Figure size 432x288 with 1 Axes>"
      ]
     },
     "metadata": {
      "needs_background": "light"
     },
     "output_type": "display_data"
    }
   ],
   "source": [
    "#построение столбчатой диаграммы для целевого признака\n",
    "data['Exited'].value_counts().plot(kind='bar', \n",
    "                                   title='Распределение значений Exited',\n",
    "                                   xlabel='Exited',\n",
    "                                   ylabel='Количество клиентов',\n",
    "                                   grid=True);"
   ]
  },
  {
   "cell_type": "markdown",
   "metadata": {},
   "source": [
    "Виден дисбаланс классов для целевого признака `Exited`, класс \"0\" примерно в 4 раза больше класса \"1\"."
   ]
  },
  {
   "cell_type": "markdown",
   "metadata": {},
   "source": [
    "5. Преобразуем категориальные признаки в числовые при помощи прямого кодирования."
   ]
  },
  {
   "cell_type": "code",
   "execution_count": 15,
   "metadata": {},
   "outputs": [
    {
     "data": {
      "text/html": [
       "<div>\n",
       "<style scoped>\n",
       "    .dataframe tbody tr th:only-of-type {\n",
       "        vertical-align: middle;\n",
       "    }\n",
       "\n",
       "    .dataframe tbody tr th {\n",
       "        vertical-align: top;\n",
       "    }\n",
       "\n",
       "    .dataframe thead th {\n",
       "        text-align: right;\n",
       "    }\n",
       "</style>\n",
       "<table border=\"1\" class=\"dataframe\">\n",
       "  <thead>\n",
       "    <tr style=\"text-align: right;\">\n",
       "      <th></th>\n",
       "      <th>CreditScore</th>\n",
       "      <th>Age</th>\n",
       "      <th>Tenure</th>\n",
       "      <th>Balance</th>\n",
       "      <th>NumOfProducts</th>\n",
       "      <th>HasCrCard</th>\n",
       "      <th>IsActiveMember</th>\n",
       "      <th>EstimatedSalary</th>\n",
       "      <th>Exited</th>\n",
       "      <th>Geography_Germany</th>\n",
       "      <th>Geography_Spain</th>\n",
       "      <th>Gender_Male</th>\n",
       "    </tr>\n",
       "  </thead>\n",
       "  <tbody>\n",
       "    <tr>\n",
       "      <th>0</th>\n",
       "      <td>619</td>\n",
       "      <td>42</td>\n",
       "      <td>2</td>\n",
       "      <td>0.00</td>\n",
       "      <td>1</td>\n",
       "      <td>1</td>\n",
       "      <td>1</td>\n",
       "      <td>101348.88</td>\n",
       "      <td>1</td>\n",
       "      <td>0</td>\n",
       "      <td>0</td>\n",
       "      <td>0</td>\n",
       "    </tr>\n",
       "    <tr>\n",
       "      <th>1</th>\n",
       "      <td>608</td>\n",
       "      <td>41</td>\n",
       "      <td>1</td>\n",
       "      <td>83807.86</td>\n",
       "      <td>1</td>\n",
       "      <td>0</td>\n",
       "      <td>1</td>\n",
       "      <td>112542.58</td>\n",
       "      <td>0</td>\n",
       "      <td>0</td>\n",
       "      <td>1</td>\n",
       "      <td>0</td>\n",
       "    </tr>\n",
       "    <tr>\n",
       "      <th>2</th>\n",
       "      <td>502</td>\n",
       "      <td>42</td>\n",
       "      <td>8</td>\n",
       "      <td>159660.80</td>\n",
       "      <td>3</td>\n",
       "      <td>1</td>\n",
       "      <td>0</td>\n",
       "      <td>113931.57</td>\n",
       "      <td>1</td>\n",
       "      <td>0</td>\n",
       "      <td>0</td>\n",
       "      <td>0</td>\n",
       "    </tr>\n",
       "    <tr>\n",
       "      <th>3</th>\n",
       "      <td>699</td>\n",
       "      <td>39</td>\n",
       "      <td>1</td>\n",
       "      <td>0.00</td>\n",
       "      <td>2</td>\n",
       "      <td>0</td>\n",
       "      <td>0</td>\n",
       "      <td>93826.63</td>\n",
       "      <td>0</td>\n",
       "      <td>0</td>\n",
       "      <td>0</td>\n",
       "      <td>0</td>\n",
       "    </tr>\n",
       "    <tr>\n",
       "      <th>4</th>\n",
       "      <td>850</td>\n",
       "      <td>43</td>\n",
       "      <td>2</td>\n",
       "      <td>125510.82</td>\n",
       "      <td>1</td>\n",
       "      <td>1</td>\n",
       "      <td>1</td>\n",
       "      <td>79084.10</td>\n",
       "      <td>0</td>\n",
       "      <td>0</td>\n",
       "      <td>1</td>\n",
       "      <td>0</td>\n",
       "    </tr>\n",
       "  </tbody>\n",
       "</table>\n",
       "</div>"
      ],
      "text/plain": [
       "   CreditScore  Age  Tenure    Balance  NumOfProducts  HasCrCard  \\\n",
       "0          619   42       2       0.00              1          1   \n",
       "1          608   41       1   83807.86              1          0   \n",
       "2          502   42       8  159660.80              3          1   \n",
       "3          699   39       1       0.00              2          0   \n",
       "4          850   43       2  125510.82              1          1   \n",
       "\n",
       "   IsActiveMember  EstimatedSalary  Exited  Geography_Germany  \\\n",
       "0               1        101348.88       1                  0   \n",
       "1               1        112542.58       0                  0   \n",
       "2               0        113931.57       1                  0   \n",
       "3               0         93826.63       0                  0   \n",
       "4               1         79084.10       0                  0   \n",
       "\n",
       "   Geography_Spain  Gender_Male  \n",
       "0                0            0  \n",
       "1                1            0  \n",
       "2                0            0  \n",
       "3                0            0  \n",
       "4                1            0  "
      ]
     },
     "execution_count": 15,
     "metadata": {},
     "output_type": "execute_result"
    }
   ],
   "source": [
    "#преобразование категориальных данных в числовые с помощью One-Hot Encoding\n",
    "data = pd.get_dummies(data, drop_first=True)\n",
    "data.head()"
   ]
  },
  {
   "cell_type": "markdown",
   "metadata": {},
   "source": [
    "Разделим данные на обучающую, валидационную и тестовую выборки."
   ]
  },
  {
   "cell_type": "code",
   "execution_count": 16,
   "metadata": {},
   "outputs": [
    {
     "name": "stdout",
     "output_type": "stream",
     "text": [
      "(6000, 11) (6000,) \n",
      " (2000, 11) (2000,) \n",
      " (2000, 11) (2000,)\n"
     ]
    }
   ],
   "source": [
    "#разделение на признаки и целевой признак\n",
    "features = data.drop('Exited', axis=1)\n",
    "target = data['Exited']\n",
    "\n",
    "#разделение на обучающую, валидационную и тестовую выборки\n",
    "features_train, features_valid, target_train, target_valid = train_test_split(features,\n",
    "                                                                              target,\n",
    "                                                                              test_size=0.4,\n",
    "                                                                              random_state=12345,\n",
    "                                                                              stratify=target) \n",
    "features_valid, features_test, target_valid, target_test = train_test_split(features_valid,\n",
    "                                                                            target_valid,\n",
    "                                                                            test_size=0.5, \n",
    "                                                                            random_state=12345,\n",
    "                                                                            stratify=target_valid)\n",
    "\n",
    "#проверка размеров выборок\n",
    "print(features_train.shape, target_train.shape, '\\n',\n",
    "      features_valid.shape, target_valid.shape, '\\n',\n",
    "      features_test.shape, target_test.shape)"
   ]
  },
  {
   "cell_type": "markdown",
   "metadata": {},
   "source": [
    "Приведем числовые признаки к одному масштабу при помощи стандартизации данных."
   ]
  },
  {
   "cell_type": "code",
   "execution_count": 17,
   "metadata": {},
   "outputs": [
    {
     "name": "stderr",
     "output_type": "stream",
     "text": [
      "/tmp/ipykernel_93/4193827484.py:8: SettingWithCopyWarning: \n",
      "A value is trying to be set on a copy of a slice from a DataFrame.\n",
      "Try using .loc[row_indexer,col_indexer] = value instead\n",
      "\n",
      "See the caveats in the documentation: https://pandas.pydata.org/pandas-docs/stable/user_guide/indexing.html#returning-a-view-versus-a-copy\n",
      "  features_train[numeric] = scaler.transform(features_train[numeric])\n",
      "/opt/conda/lib/python3.9/site-packages/pandas/core/indexing.py:1738: SettingWithCopyWarning: \n",
      "A value is trying to be set on a copy of a slice from a DataFrame.\n",
      "Try using .loc[row_indexer,col_indexer] = value instead\n",
      "\n",
      "See the caveats in the documentation: https://pandas.pydata.org/pandas-docs/stable/user_guide/indexing.html#returning-a-view-versus-a-copy\n",
      "  self._setitem_single_column(loc, value[:, i].tolist(), pi)\n"
     ]
    },
    {
     "data": {
      "text/html": [
       "<div>\n",
       "<style scoped>\n",
       "    .dataframe tbody tr th:only-of-type {\n",
       "        vertical-align: middle;\n",
       "    }\n",
       "\n",
       "    .dataframe tbody tr th {\n",
       "        vertical-align: top;\n",
       "    }\n",
       "\n",
       "    .dataframe thead th {\n",
       "        text-align: right;\n",
       "    }\n",
       "</style>\n",
       "<table border=\"1\" class=\"dataframe\">\n",
       "  <thead>\n",
       "    <tr style=\"text-align: right;\">\n",
       "      <th></th>\n",
       "      <th>CreditScore</th>\n",
       "      <th>Age</th>\n",
       "      <th>Tenure</th>\n",
       "      <th>Balance</th>\n",
       "      <th>NumOfProducts</th>\n",
       "      <th>HasCrCard</th>\n",
       "      <th>IsActiveMember</th>\n",
       "      <th>EstimatedSalary</th>\n",
       "      <th>Geography_Germany</th>\n",
       "      <th>Geography_Spain</th>\n",
       "      <th>Gender_Male</th>\n",
       "    </tr>\n",
       "  </thead>\n",
       "  <tbody>\n",
       "    <tr>\n",
       "      <th>2837</th>\n",
       "      <td>-1.040434</td>\n",
       "      <td>0.953312</td>\n",
       "      <td>0.340634</td>\n",
       "      <td>0.774657</td>\n",
       "      <td>-0.914708</td>\n",
       "      <td>0</td>\n",
       "      <td>1</td>\n",
       "      <td>-0.119110</td>\n",
       "      <td>1</td>\n",
       "      <td>0</td>\n",
       "      <td>0</td>\n",
       "    </tr>\n",
       "    <tr>\n",
       "      <th>9925</th>\n",
       "      <td>0.454006</td>\n",
       "      <td>-0.095244</td>\n",
       "      <td>-1.377715</td>\n",
       "      <td>1.910540</td>\n",
       "      <td>-0.914708</td>\n",
       "      <td>1</td>\n",
       "      <td>1</td>\n",
       "      <td>-0.258658</td>\n",
       "      <td>0</td>\n",
       "      <td>0</td>\n",
       "      <td>0</td>\n",
       "    </tr>\n",
       "    <tr>\n",
       "      <th>8746</th>\n",
       "      <td>0.103585</td>\n",
       "      <td>-0.476537</td>\n",
       "      <td>1.027974</td>\n",
       "      <td>0.481608</td>\n",
       "      <td>0.820981</td>\n",
       "      <td>0</td>\n",
       "      <td>1</td>\n",
       "      <td>1.422836</td>\n",
       "      <td>0</td>\n",
       "      <td>0</td>\n",
       "      <td>1</td>\n",
       "    </tr>\n",
       "    <tr>\n",
       "      <th>660</th>\n",
       "      <td>-0.184996</td>\n",
       "      <td>0.190726</td>\n",
       "      <td>1.371644</td>\n",
       "      <td>0.088439</td>\n",
       "      <td>-0.914708</td>\n",
       "      <td>1</td>\n",
       "      <td>1</td>\n",
       "      <td>-1.160427</td>\n",
       "      <td>1</td>\n",
       "      <td>0</td>\n",
       "      <td>0</td>\n",
       "    </tr>\n",
       "    <tr>\n",
       "      <th>3610</th>\n",
       "      <td>-0.720933</td>\n",
       "      <td>1.620574</td>\n",
       "      <td>-1.377715</td>\n",
       "      <td>0.879129</td>\n",
       "      <td>-0.914708</td>\n",
       "      <td>1</td>\n",
       "      <td>0</td>\n",
       "      <td>0.113236</td>\n",
       "      <td>0</td>\n",
       "      <td>0</td>\n",
       "      <td>0</td>\n",
       "    </tr>\n",
       "  </tbody>\n",
       "</table>\n",
       "</div>"
      ],
      "text/plain": [
       "      CreditScore       Age    Tenure   Balance  NumOfProducts  HasCrCard  \\\n",
       "2837    -1.040434  0.953312  0.340634  0.774657      -0.914708          0   \n",
       "9925     0.454006 -0.095244 -1.377715  1.910540      -0.914708          1   \n",
       "8746     0.103585 -0.476537  1.027974  0.481608       0.820981          0   \n",
       "660     -0.184996  0.190726  1.371644  0.088439      -0.914708          1   \n",
       "3610    -0.720933  1.620574 -1.377715  0.879129      -0.914708          1   \n",
       "\n",
       "      IsActiveMember  EstimatedSalary  Geography_Germany  Geography_Spain  \\\n",
       "2837               1        -0.119110                  1                0   \n",
       "9925               1        -0.258658                  0                0   \n",
       "8746               1         1.422836                  0                0   \n",
       "660                1        -1.160427                  1                0   \n",
       "3610               0         0.113236                  0                0   \n",
       "\n",
       "      Gender_Male  \n",
       "2837            0  \n",
       "9925            0  \n",
       "8746            1  \n",
       "660             0  \n",
       "3610            0  "
      ]
     },
     "execution_count": 17,
     "metadata": {},
     "output_type": "execute_result"
    }
   ],
   "source": [
    "#признаки для стандартизации\n",
    "numeric = ['CreditScore', 'Age', 'Tenure', 'Balance', 'NumOfProducts', 'EstimatedSalary']\n",
    "\n",
    "#стандартизация данных\n",
    "scaler = StandardScaler()\n",
    "scaler.fit(features_train[numeric])\n",
    "\n",
    "features_train[numeric] = scaler.transform(features_train[numeric])\n",
    "features_valid[numeric] = scaler.transform(features_valid[numeric])\n",
    "features_test[numeric] = scaler.transform(features_test[numeric])\n",
    "\n",
    "#проверка результата работы стандартизации\n",
    "features_train.head()"
   ]
  },
  {
   "cell_type": "markdown",
   "metadata": {},
   "source": [
    "### Вывод"
   ]
  },
  {
   "cell_type": "markdown",
   "metadata": {},
   "source": [
    "* Были убраны пропуски в столбце `Tenure`, также тип данных был приведен к `int`;\n",
    "* Удалены неинформативные признаки `RowNumber`, `CustomerId` и `Surname`;\n",
    "* `CreditScore`, `Age`, `NumOfProucts` были проверены на наличие аномалий и выбросов;\n",
    "* Для целевого признака `Exited` был обнаружен существенный дисбаланс классов;\n",
    "* При помощи прямого кодирования категориальные признаки были приведены к числовым, данные разделены на обучающую, валидационную и тестовую выборки, числовые признаки были приведены к одному масштабу."
   ]
  },
  {
   "cell_type": "markdown",
   "metadata": {},
   "source": [
    "## Исследование задачи"
   ]
  },
  {
   "cell_type": "markdown",
   "metadata": {},
   "source": [
    "Обучим модель без учета дисбаланса классов при помощи дерева решений, случайного леса и логистической регрессии."
   ]
  },
  {
   "cell_type": "markdown",
   "metadata": {},
   "source": [
    "### Дерево решений"
   ]
  },
  {
   "cell_type": "code",
   "execution_count": 18,
   "metadata": {},
   "outputs": [
    {
     "name": "stdout",
     "output_type": "stream",
     "text": [
      "max_depth: 7 \n",
      " F1-мера: 0.59\n",
      "AUC-ROC: 0.82\n",
      "CPU times: user 440 ms, sys: 6.35 ms, total: 446 ms\n",
      "Wall time: 474 ms\n"
     ]
    }
   ],
   "source": [
    "%%time\n",
    "\n",
    "best_model_dt = None\n",
    "best_result = 0\n",
    "best_depth = 0\n",
    "\n",
    "#обучаем модель при помощи дерева решений с разным max_depth, ищем лучшую модель\n",
    "for depth in range(2, 21):\n",
    "    model = DecisionTreeClassifier(max_depth=depth, random_state=12345)\n",
    "    model.fit(features_train, target_train)\n",
    "    predicted_valid = model.predict(features_valid)\n",
    "    \n",
    "    result = f1_score(target_valid, predicted_valid)\n",
    "    if result > best_result:\n",
    "        best_result = result\n",
    "        best_model_dt = model\n",
    "        best_depth = depth\n",
    "\n",
    "#вывод параметров лучшей модели\n",
    "print('max_depth:', best_depth, '\\n', 'F1-мера:', round(best_result, 2))\n",
    "\n",
    "#предсказываем вероятности классов, считаем auc_roc\n",
    "probabilities_valid = best_model_dt.predict_proba(features_valid)\n",
    "probabilities_one_valid = probabilities_valid[:, 1]\n",
    "auc_roc = roc_auc_score(target_valid, probabilities_one_valid)\n",
    "\n",
    "print('AUC-ROC:', round(auc_roc, 2))"
   ]
  },
  {
   "cell_type": "markdown",
   "metadata": {},
   "source": [
    "### Случайный лес"
   ]
  },
  {
   "cell_type": "code",
   "execution_count": 20,
   "metadata": {},
   "outputs": [
    {
     "name": "stdout",
     "output_type": "stream",
     "text": [
      "max_depth: 12 n_estimators: 40 \n",
      " F1-мера: 0.61\n",
      "AUC-ROC: 0.86\n",
      "CPU times: user 57.3 s, sys: 291 ms, total: 57.6 s\n",
      "Wall time: 57.6 s\n"
     ]
    }
   ],
   "source": [
    "%%time\n",
    "\n",
    "best_model_rf = None\n",
    "best_result = 0\n",
    "best_depth = 0\n",
    "best_est = 0\n",
    "\n",
    "#обучаем модель при помощи случайного леса с разными max_depth и n_estimators, \n",
    "#ищем лучшую модель\n",
    "for depth in range(2, 21):\n",
    "    for est in range(10, 101, 10):\n",
    "        model = RandomForestClassifier(max_depth=depth, n_estimators=est, random_state=12345)\n",
    "        model.fit(features_train, target_train)\n",
    "        predicted_valid = model.predict(features_valid)\n",
    "    \n",
    "        result = f1_score(target_valid, predicted_valid)\n",
    "        if result > best_result:\n",
    "            best_result = result\n",
    "            best_model_rf = model\n",
    "            best_depth = depth\n",
    "            best_est = est\n",
    "\n",
    "#вывод параметров лучшей модели\n",
    "print('max_depth:', best_depth, \n",
    "      'n_estimators:', best_est, '\\n', \n",
    "      'F1-мера:', round(best_result, 2))\n",
    "\n",
    "#предсказываем вероятности классов, считаем auc_roc\n",
    "probabilities_valid = best_model_rf.predict_proba(features_valid)\n",
    "probabilities_one_valid = probabilities_valid[:, 1]\n",
    "auc_roc = roc_auc_score(target_valid, probabilities_one_valid)\n",
    "\n",
    "print('AUC-ROC:', round(auc_roc, 2))"
   ]
  },
  {
   "cell_type": "markdown",
   "metadata": {},
   "source": [
    "### Логистическая регрессия"
   ]
  },
  {
   "cell_type": "code",
   "execution_count": 21,
   "metadata": {},
   "outputs": [
    {
     "name": "stdout",
     "output_type": "stream",
     "text": [
      "F1-мера: 0.3\n",
      "AUC-ROC: 0.79\n",
      "CPU times: user 69.2 ms, sys: 108 ms, total: 177 ms\n",
      "Wall time: 199 ms\n"
     ]
    }
   ],
   "source": [
    "%%time\n",
    "\n",
    "#обучаем модель при помощи логистической регрессии\n",
    "model_lr = LogisticRegression(solver='liblinear', random_state=12345)\n",
    "model_lr.fit(features_train, target_train)\n",
    "predicted_valid = model_lr.predict(features_valid)\n",
    "result = f1_score(target_valid, predicted_valid)\n",
    "\n",
    "print('F1-мера:', round(result, 2))\n",
    "\n",
    "#предсказываем вероятности классов, считаем auc_roc\n",
    "probabilities_valid = model_lr.predict_proba(features_valid)\n",
    "probabilities_one_valid = probabilities_valid[:, 1]\n",
    "auc_roc = roc_auc_score(target_valid, probabilities_one_valid)\n",
    "\n",
    "print('AUC-ROC:', round(auc_roc, 2))"
   ]
  },
  {
   "cell_type": "markdown",
   "metadata": {},
   "source": [
    "### Вывод"
   ]
  },
  {
   "cell_type": "markdown",
   "metadata": {},
   "source": [
    "При помощи алгоритмов дерева решений, случайного леса и логистической регрессии были обучены модели без учета дисбаланса классов. Логистическая регрессия дала самые плохие значения F1-меры и AUC-ROC, самые хорошие значения F1-меры и AUC-ROC показали модели, обученные при помощи случайного леса с гиперпараметрами max_depth=18 и n_estimators=30 и при помощи дерева решений с max_depth=7."
   ]
  },
  {
   "cell_type": "markdown",
   "metadata": {},
   "source": [
    "## Борьба с дисбалансом"
   ]
  },
  {
   "cell_type": "markdown",
   "metadata": {},
   "source": [
    "Избавимся от дисбаланса классов при помощи взвешивания классов, увеличения и уменьшения выборки и обучим модель при помощи дерева решений, случайного леса и логистической регрессии."
   ]
  },
  {
   "cell_type": "markdown",
   "metadata": {},
   "source": [
    "### Взвешивание классов"
   ]
  },
  {
   "cell_type": "markdown",
   "metadata": {},
   "source": [
    "* Дерево решений"
   ]
  },
  {
   "cell_type": "code",
   "execution_count": 22,
   "metadata": {},
   "outputs": [
    {
     "name": "stdout",
     "output_type": "stream",
     "text": [
      "max_depth: 6 \n",
      " F1-мера: 0.58\n",
      "AUC-ROC: 0.82\n",
      "CPU times: user 440 ms, sys: 16 ms, total: 456 ms\n",
      "Wall time: 529 ms\n"
     ]
    }
   ],
   "source": [
    "%%time\n",
    "\n",
    "best_model_dt_balanced = None\n",
    "best_result = 0\n",
    "best_depth = 0\n",
    "\n",
    "#обучаем модель при помощи дерева решений с разным max_depth, ищем лучшую модель\n",
    "for depth in range(2, 21):\n",
    "    model = DecisionTreeClassifier(max_depth=depth,\n",
    "                                   random_state=12345,\n",
    "                                   class_weight='balanced')\n",
    "    model.fit(features_train, target_train)\n",
    "    predicted_valid = model.predict(features_valid)\n",
    "    \n",
    "    result = f1_score(target_valid, predicted_valid)\n",
    "    if result > best_result:\n",
    "        best_result = result\n",
    "        best_model_dt_balanced = model\n",
    "        best_depth = depth\n",
    "\n",
    "#вывод параметров лучшей модели\n",
    "print('max_depth:', best_depth, '\\n', 'F1-мера:', round(best_result, 2))\n",
    "\n",
    "#предсказываем вероятности классов, считаем auc_roc\n",
    "probabilities_valid = best_model_dt_balanced.predict_proba(features_valid)\n",
    "probabilities_one_valid = probabilities_valid[:, 1]\n",
    "auc_roc = roc_auc_score(target_valid, probabilities_one_valid)\n",
    "\n",
    "print('AUC-ROC:', round(auc_roc, 2))"
   ]
  },
  {
   "cell_type": "markdown",
   "metadata": {},
   "source": [
    "* Случайный лес"
   ]
  },
  {
   "cell_type": "code",
   "execution_count": 23,
   "metadata": {},
   "outputs": [
    {
     "name": "stdout",
     "output_type": "stream",
     "text": [
      "max_depth: 8 n_estimators: 100 \n",
      " F1-мера: 0.65\n",
      "AUC-ROC: 0.87\n",
      "CPU times: user 57 s, sys: 324 ms, total: 57.3 s\n",
      "Wall time: 57.4 s\n"
     ]
    }
   ],
   "source": [
    "%%time\n",
    "\n",
    "best_model_rf_balanced = None\n",
    "best_result = 0\n",
    "best_depth = 0\n",
    "best_est = 0\n",
    "\n",
    "#обучаем модель при помощи случайного леса с разными max_depth и n_estimators, \n",
    "#ищем лучшую модель\n",
    "for depth in range(2, 21):\n",
    "    for est in range(10, 101, 10):\n",
    "        model = RandomForestClassifier(max_depth=depth, \n",
    "                                       n_estimators=est, \n",
    "                                       random_state=12345, \n",
    "                                       class_weight='balanced')\n",
    "        model.fit(features_train, target_train)\n",
    "        predicted_valid = model.predict(features_valid)\n",
    "    \n",
    "        result = f1_score(target_valid, predicted_valid)\n",
    "        if result > best_result:\n",
    "            best_result = result\n",
    "            best_model_rf_balanced = model\n",
    "            best_depth = depth\n",
    "            best_est = est\n",
    "\n",
    "#вывод параметров лучшей модели\n",
    "print('max_depth:', best_depth, \n",
    "      'n_estimators:', best_est, '\\n', \n",
    "      'F1-мера:', round(best_result, 2))\n",
    "\n",
    "#предсказываем вероятности классов, считаем auc_roc\n",
    "probabilities_valid = best_model_rf_balanced.predict_proba(features_valid)\n",
    "probabilities_one_valid = probabilities_valid[:, 1]\n",
    "auc_roc = roc_auc_score(target_valid, probabilities_one_valid)\n",
    "\n",
    "print('AUC-ROC:', round(auc_roc, 2))"
   ]
  },
  {
   "cell_type": "markdown",
   "metadata": {},
   "source": [
    "* Логистическая регрессия"
   ]
  },
  {
   "cell_type": "code",
   "execution_count": 24,
   "metadata": {},
   "outputs": [
    {
     "name": "stdout",
     "output_type": "stream",
     "text": [
      "F1-мера: 0.53\n",
      "AUC-ROC: 0.79\n",
      "CPU times: user 70.4 ms, sys: 92.2 ms, total: 163 ms\n",
      "Wall time: 161 ms\n"
     ]
    }
   ],
   "source": [
    "%%time\n",
    "\n",
    "#обучаем модель при помощи логистической регрессии\n",
    "model_lr_balanced = LogisticRegression(solver='liblinear',\n",
    "                                       random_state=12345,\n",
    "                                       class_weight='balanced')\n",
    "model_lr_balanced.fit(features_train, target_train)\n",
    "predicted_valid = model_lr_balanced.predict(features_valid)\n",
    "result = f1_score(target_valid, predicted_valid)\n",
    "\n",
    "print('F1-мера:', round(result, 2))\n",
    "\n",
    "#предсказываем вероятности классов, считаем auc_roc\n",
    "probabilities_valid = model_lr_balanced.predict_proba(features_valid)\n",
    "probabilities_one_valid = probabilities_valid[:, 1]\n",
    "auc_roc = roc_auc_score(target_valid, probabilities_one_valid)\n",
    "\n",
    "print('AUC-ROC:', round(auc_roc, 2))"
   ]
  },
  {
   "cell_type": "markdown",
   "metadata": {},
   "source": [
    "После придания объектам редкого класса большего веса значение F1-меры для лучшей модели дерева решений немного уменьшилось, для случайного леса показатели F1-меры и AUC-ROC заметно улучшились, для логистической регрессии значение F1-меры значительно выросло."
   ]
  },
  {
   "cell_type": "markdown",
   "metadata": {},
   "source": [
    "### Увеличение выборки"
   ]
  },
  {
   "cell_type": "code",
   "execution_count": 25,
   "metadata": {},
   "outputs": [
    {
     "data": {
      "text/plain": [
       "<AxesSubplot:title={'center':'Проверка баланса классов'}>"
      ]
     },
     "execution_count": 25,
     "metadata": {},
     "output_type": "execute_result"
    },
    {
     "data": {
      "image/png": "[encoded data removed]",
      "text/plain": [
       "<Figure size 432x288 with 1 Axes>"
      ]
     },
     "metadata": {
      "needs_background": "light"
     },
     "output_type": "display_data"
    }
   ],
   "source": [
    "#функция для увеличения выборки в repeat раз\n",
    "def upsample(features, target, repeat):\n",
    "    features_zeros = features[target == 0]\n",
    "    features_ones = features[target == 1]\n",
    "    target_zeros = target[target == 0]\n",
    "    target_ones = target[target == 1]\n",
    "    \n",
    "    features_upsampled = pd.concat([features_zeros] + [features_ones] * repeat)\n",
    "    target_upsampled = pd.concat([target_zeros] + [target_ones] * repeat)\n",
    "    \n",
    "    features_upsampled, target_upsampled = shuffle(\n",
    "        features_upsampled, target_upsampled, random_state=12345)\n",
    "    \n",
    "    return features_upsampled, target_upsampled\n",
    "\n",
    "features_upsampled, target_upsampled = upsample(features_train, target_train, 4)\n",
    "\n",
    "#проверка баланса классов\n",
    "target_upsampled.value_counts().plot(kind='bar', title='Проверка баланса классов')"
   ]
  },
  {
   "cell_type": "markdown",
   "metadata": {},
   "source": [
    "* Дерево решений"
   ]
  },
  {
   "cell_type": "code",
   "execution_count": 26,
   "metadata": {},
   "outputs": [
    {
     "name": "stdout",
     "output_type": "stream",
     "text": [
      "max_depth: 6 \n",
      " F1-мера: 0.58\n",
      "AUC-ROC: 0.83\n",
      "CPU times: user 620 ms, sys: 57 µs, total: 620 ms\n",
      "Wall time: 619 ms\n"
     ]
    }
   ],
   "source": [
    "%%time\n",
    "\n",
    "best_model_dt_upsampled = None\n",
    "best_result = 0\n",
    "best_depth = 0\n",
    "\n",
    "#обучаем модель при помощи дерева решений с разным max_depth, ищем лучшую модель\n",
    "for depth in range(2, 21):\n",
    "    model = DecisionTreeClassifier(max_depth=depth, random_state=12345)\n",
    "    model.fit(features_upsampled, target_upsampled)\n",
    "    predicted_valid = model.predict(features_valid)\n",
    "    \n",
    "    result = f1_score(target_valid, predicted_valid)\n",
    "    if result > best_result:\n",
    "        best_result = result\n",
    "        best_model_dt_upsampled = model\n",
    "        best_depth = depth\n",
    "\n",
    "#вывод параметров лучшей модели\n",
    "print('max_depth:', best_depth, '\\n', 'F1-мера:', round(best_result, 2))\n",
    "\n",
    "#предсказываем вероятности классов, считаем auc_roc\n",
    "probabilities_valid = best_model_dt_upsampled.predict_proba(features_valid)\n",
    "probabilities_one_valid = probabilities_valid[:, 1]\n",
    "auc_roc = roc_auc_score(target_valid, probabilities_one_valid)\n",
    "\n",
    "print('AUC-ROC:', round(auc_roc, 2))"
   ]
  },
  {
   "cell_type": "markdown",
   "metadata": {},
   "source": [
    "* Случайный лес"
   ]
  },
  {
   "cell_type": "code",
   "execution_count": 27,
   "metadata": {
    "scrolled": true
   },
   "outputs": [
    {
     "name": "stdout",
     "output_type": "stream",
     "text": [
      "max_depth: 10 n_estimators: 70 \n",
      " F1-мера: 0.65\n",
      "AUC-ROC: 0.87\n",
      "CPU times: user 1min 19s, sys: 312 ms, total: 1min 20s\n",
      "Wall time: 1min 20s\n"
     ]
    }
   ],
   "source": [
    "%%time\n",
    "\n",
    "best_model_rf_upsampled = None\n",
    "best_result = 0\n",
    "best_depth = 0\n",
    "best_est = 0\n",
    "\n",
    "#обучаем модель при помощи случайного леса с разными max_depth и n_estimators, \n",
    "#ищем лучшую модель\n",
    "for depth in range(2, 21):\n",
    "    for est in range(10, 101, 10):\n",
    "        model = RandomForestClassifier(max_depth=depth, n_estimators=est, random_state=12345)\n",
    "        model.fit(features_upsampled, target_upsampled)\n",
    "        predicted_valid = model.predict(features_valid)\n",
    "    \n",
    "        result = f1_score(target_valid, predicted_valid)\n",
    "        if result > best_result:\n",
    "            best_result = result\n",
    "            best_model_rf_upsampled = model\n",
    "            best_depth = depth\n",
    "            best_est = est\n",
    "\n",
    "#вывод параметров лучшей модели\n",
    "print('max_depth:', best_depth, \n",
    "      'n_estimators:', best_est, '\\n', \n",
    "      'F1-мера:', round(best_result, 2))\n",
    "\n",
    "#предсказываем вероятности классов, считаем auc_roc\n",
    "probabilities_valid = best_model_rf_upsampled.predict_proba(features_valid)\n",
    "probabilities_one_valid = probabilities_valid[:, 1]\n",
    "auc_roc = roc_auc_score(target_valid, probabilities_one_valid)\n",
    "\n",
    "print('AUC-ROC:', round(auc_roc, 2))"
   ]
  },
  {
   "cell_type": "markdown",
   "metadata": {},
   "source": [
    "* Логистическая регрессия"
   ]
  },
  {
   "cell_type": "code",
   "execution_count": 28,
   "metadata": {},
   "outputs": [
    {
     "name": "stdout",
     "output_type": "stream",
     "text": [
      "F1-мера: 0.53\n",
      "AUC-ROC: 0.79\n",
      "CPU times: user 21.4 ms, sys: 95.8 ms, total: 117 ms\n",
      "Wall time: 88.3 ms\n"
     ]
    }
   ],
   "source": [
    "%%time\n",
    "\n",
    "#обучаем модель при помощи логистической регрессии\n",
    "model_lr_upsampled = LogisticRegression(solver='liblinear', random_state=1234)\n",
    "model_lr_upsampled.fit(features_upsampled, target_upsampled)\n",
    "predicted_valid = model_lr_upsampled.predict(features_valid)\n",
    "result = f1_score(target_valid, predicted_valid)\n",
    "\n",
    "print('F1-мера:', round(result, 2))\n",
    "\n",
    "#предсказываем вероятности классов, считаем auc_roc\n",
    "probabilities_valid = model_lr_upsampled.predict_proba(features_valid)\n",
    "probabilities_one_valid = probabilities_valid[:, 1]\n",
    "auc_roc = roc_auc_score(target_valid, probabilities_one_valid)\n",
    "\n",
    "print('AUC-ROC:', round(auc_roc, 2))"
   ]
  },
  {
   "cell_type": "markdown",
   "metadata": {},
   "source": [
    "После увеличения выборки значения метрик для дерева решений не изменились, для случайного леса показатели F1-меры и AUC-ROC заметно улучшились, для логистической регрессии значение F1-меры также значительно выросло."
   ]
  },
  {
   "cell_type": "markdown",
   "metadata": {},
   "source": [
    "### Уменьшение выборки\n"
   ]
  },
  {
   "cell_type": "code",
   "execution_count": 29,
   "metadata": {},
   "outputs": [
    {
     "data": {
      "text/plain": [
       "<AxesSubplot:title={'center':'Проверка баланса классов'}>"
      ]
     },
     "execution_count": 29,
     "metadata": {},
     "output_type": "execute_result"
    },
    {
     "data": {
      "image/png": "[encoded data removed]",
      "text/plain": [
       "<Figure size 432x288 with 1 Axes>"
      ]
     },
     "metadata": {
      "needs_background": "light"
     },
     "output_type": "display_data"
    }
   ],
   "source": [
    "#функция для уменьшения выборки в fraction раз\n",
    "def downsample(features, target, fraction):\n",
    "    features_zeros = features[target == 0]\n",
    "    features_ones = features[target == 1]\n",
    "    target_zeros = target[target == 0]\n",
    "    target_ones = target[target == 1]\n",
    "\n",
    "    features_downsampled = pd.concat(\n",
    "        [features_zeros.sample(frac=fraction, random_state=12345)] + [features_ones])\n",
    "    target_downsampled = pd.concat(\n",
    "        [target_zeros.sample(frac=fraction, random_state=12345)] + [target_ones])\n",
    "    \n",
    "    features_downsampled, target_downsampled = shuffle(\n",
    "        features_downsampled, target_downsampled, random_state=12345)\n",
    "    \n",
    "    return features_downsampled, target_downsampled\n",
    "\n",
    "features_downsampled, target_downsampled = downsample(features_train, target_train, 0.25)\n",
    "\n",
    "#проверка баланса классов\n",
    "target_downsampled.value_counts().plot(kind='bar', title='Проверка баланса классов')"
   ]
  },
  {
   "cell_type": "markdown",
   "metadata": {},
   "source": [
    "* Дерево решений"
   ]
  },
  {
   "cell_type": "code",
   "execution_count": 30,
   "metadata": {},
   "outputs": [
    {
     "name": "stdout",
     "output_type": "stream",
     "text": [
      "max_depth: 6 \n",
      " F1-мера: 0.6\n",
      "AUC-ROC: 0.85\n",
      "CPU times: user 223 ms, sys: 3.98 ms, total: 226 ms\n",
      "Wall time: 233 ms\n"
     ]
    }
   ],
   "source": [
    "%%time\n",
    "\n",
    "best_model_dt_downsampled = None\n",
    "best_result = 0\n",
    "best_depth = 0\n",
    "\n",
    "#обучаем модель при помощи дерева решений с разным max_depth, ищем лучшую модель\n",
    "for depth in range(2, 21):\n",
    "    model = DecisionTreeClassifier(max_depth=depth, random_state=12345)\n",
    "    model.fit(features_downsampled, target_downsampled)\n",
    "    predicted_valid = model.predict(features_valid)\n",
    "    \n",
    "    result = f1_score(target_valid, predicted_valid)\n",
    "    if result > best_result:\n",
    "        best_result = result\n",
    "        best_model_dt_downsampled = model\n",
    "        best_depth = depth\n",
    "\n",
    "#вывод параметров лучшей модели\n",
    "print('max_depth:', best_depth, '\\n', 'F1-мера:', round(best_result, 2))\n",
    "\n",
    "#предсказываем вероятности классов, считаем auc_roc\n",
    "probabilities_valid = best_model_dt_downsampled.predict_proba(features_valid)\n",
    "probabilities_one_valid = probabilities_valid[:, 1]\n",
    "auc_roc = roc_auc_score(target_valid, probabilities_one_valid)\n",
    "\n",
    "print('AUC-ROC:', round(auc_roc, 2))"
   ]
  },
  {
   "cell_type": "markdown",
   "metadata": {},
   "source": [
    "* Случайный лес"
   ]
  },
  {
   "cell_type": "code",
   "execution_count": 31,
   "metadata": {},
   "outputs": [
    {
     "name": "stdout",
     "output_type": "stream",
     "text": [
      "max_depth: 7 n_estimators: 30 \n",
      " F1-мера: 0.64\n",
      "AUC-ROC: 0.87\n",
      "CPU times: user 32.6 s, sys: 148 ms, total: 32.8 s\n",
      "Wall time: 32.8 s\n"
     ]
    }
   ],
   "source": [
    "%%time\n",
    "\n",
    "best_model_rf_downsampled = None\n",
    "best_result = 0\n",
    "best_depth = 0\n",
    "best_est = 0\n",
    "\n",
    "#обучаем модель при помощи случайного леса с разными max_depth и n_estimators, \n",
    "#ищем лучшую модель\n",
    "for depth in range(2, 21):\n",
    "    for est in range(10, 101, 10):\n",
    "        model = RandomForestClassifier(max_depth=depth, n_estimators=est, random_state=12345)\n",
    "        model.fit(features_downsampled, target_downsampled)\n",
    "        predicted_valid = model.predict(features_valid)\n",
    "    \n",
    "        result = f1_score(target_valid, predicted_valid)\n",
    "        if result > best_result:\n",
    "            best_result = result\n",
    "            best_model_rf_downsampled = model\n",
    "            best_depth = depth\n",
    "            best_est = est\n",
    "\n",
    "#вывод параметров лучшей модели\n",
    "print('max_depth:', best_depth, \n",
    "      'n_estimators:', best_est, '\\n', \n",
    "      'F1-мера:', round(best_result, 2))\n",
    "\n",
    "#предсказываем вероятности классов, считаем auc_roc\n",
    "probabilities_valid = best_model_rf_downsampled.predict_proba(features_valid)\n",
    "probabilities_one_valid = probabilities_valid[:, 1]\n",
    "auc_roc = roc_auc_score(target_valid, probabilities_one_valid)\n",
    "\n",
    "print('AUC-ROC:', round(auc_roc, 2))"
   ]
  },
  {
   "cell_type": "markdown",
   "metadata": {},
   "source": [
    "* Логистическая регрессия"
   ]
  },
  {
   "cell_type": "code",
   "execution_count": 32,
   "metadata": {},
   "outputs": [
    {
     "name": "stdout",
     "output_type": "stream",
     "text": [
      "F1-мера: 0.53\n",
      "AUC-ROC: 0.79\n",
      "CPU times: user 32.3 ms, sys: 24.1 ms, total: 56.4 ms\n",
      "Wall time: 15.5 ms\n"
     ]
    }
   ],
   "source": [
    "%%time\n",
    "\n",
    "#обучаем модель при помощи логистической регрессии\n",
    "model_lr_downsampled = LogisticRegression(solver='liblinear', random_state=1234)\n",
    "model_lr_downsampled.fit(features_downsampled, target_downsampled)\n",
    "predicted_valid = model_lr_downsampled.predict(features_valid)\n",
    "result = f1_score(target_valid, predicted_valid)\n",
    "\n",
    "print('F1-мера:', round(result, 2))\n",
    "\n",
    "#предсказываем вероятности классов, считаем auc_roc\n",
    "probabilities_valid = model_lr_downsampled.predict_proba(features_valid)\n",
    "probabilities_one_valid = probabilities_valid[:, 1]\n",
    "auc_roc = roc_auc_score(target_valid, probabilities_one_valid)\n",
    "\n",
    "print('AUC-ROC:', round(auc_roc, 2))"
   ]
  },
  {
   "cell_type": "markdown",
   "metadata": {},
   "source": [
    "После уменьшения выборки показатели F1-меры и AUC-ROC для лучших моделей дерева решений и случайного леса улучшились, для логистической регрессии улучшилось значение F1-меры."
   ]
  },
  {
   "cell_type": "markdown",
   "metadata": {},
   "source": [
    "### Вывод"
   ]
  },
  {
   "cell_type": "markdown",
   "metadata": {},
   "source": [
    "После устранения дисбаланса классов лучших показателей метрик достигли модели случайного леса при max_depth=8 и n_estimators=100 после взвешивания классов и при max_depth=10 и n_estimators=70 после увеличения выборки, после взвешивания классов алгоритм сработал немного быстрее по времени, но проведем финальное тестирования для обеих моделей."
   ]
  },
  {
   "cell_type": "markdown",
   "metadata": {},
   "source": [
    "## Тестирование модели"
   ]
  },
  {
   "cell_type": "markdown",
   "metadata": {},
   "source": [
    "Проведем финальное тестирование лучших моделей."
   ]
  },
  {
   "cell_type": "markdown",
   "metadata": {},
   "source": [
    "* Случайный лес после взвешивания классов"
   ]
  },
  {
   "cell_type": "code",
   "execution_count": 33,
   "metadata": {},
   "outputs": [
    {
     "name": "stdout",
     "output_type": "stream",
     "text": [
      "F1-мера: 0.61 \n",
      " AUC-ROC: 0.86\n"
     ]
    }
   ],
   "source": [
    "#проверка модели на тестовой выборке\n",
    "predicted_test = best_model_rf_balanced.predict(features_test)\n",
    "\n",
    "probabilities_test = best_model_rf_balanced.predict_proba(features_test)\n",
    "probabilities_one_test = probabilities_test[:, 1]\n",
    "\n",
    "print('F1-мера:', round(f1_score(target_test, predicted_test), 2), '\\n', \n",
    "      'AUC-ROC:', round(roc_auc_score(target_test, probabilities_one_test), 2))"
   ]
  },
  {
   "cell_type": "markdown",
   "metadata": {},
   "source": [
    "* Случайный лес после увеличения выборки"
   ]
  },
  {
   "cell_type": "code",
   "execution_count": 34,
   "metadata": {},
   "outputs": [
    {
     "name": "stdout",
     "output_type": "stream",
     "text": [
      "F1-мера: 0.6 \n",
      " AUC-ROC: 0.85\n"
     ]
    }
   ],
   "source": [
    "#проверка модели на тестовой выборке\n",
    "predicted_test = best_model_rf_upsampled.predict(features_test)\n",
    "\n",
    "probabilities_test = best_model_rf_upsampled.predict_proba(features_test)\n",
    "probabilities_one_test = probabilities_test[:, 1]\n",
    "\n",
    "print('F1-мера:', round(f1_score(target_test, predicted_test), 2), '\\n', \n",
    "      'AUC-ROC:', round(roc_auc_score(target_test, probabilities_one_test), 2))"
   ]
  },
  {
   "cell_type": "markdown",
   "metadata": {},
   "source": [
    "### Вывод"
   ]
  },
  {
   "cell_type": "markdown",
   "metadata": {},
   "source": [
    "Лучшие показатели  F1-меры и AUC-ROC показала модель, обученная при помощи случайного леса с гиперпараметрами max_depth=8 и n_estimators=100 после взвешивания классов."
   ]
  },
  {
   "cell_type": "markdown",
   "metadata": {},
   "source": [
    "## Общий вывод"
   ]
  },
  {
   "cell_type": "markdown",
   "metadata": {},
   "source": [
    "В ходе данной работы данные о клиентах \"Бета-Банка\" были исследованы и подготовлены, были удалены пропуски и признаки, не влияющие на факт ухода клиента из банка, также был исследован баланс классов. Была найдена и протестирована лучшая модель, это модель, обученная при помощи случайного леса с гиперпараметрами max_depth=8 и n_estimators=100 после взвешивания классов, показатели метрик после финального тестирования F1-мера=0.61, AUC-ROC=0.86."
   ]
  }
 ],
 "metadata": {
  "ExecuteTimeLog": [
   {
    "duration": 68,
    "start_time": "2022-06-20T16:18:43.253Z"
   },
   {
    "duration": 397,
    "start_time": "2022-06-20T16:18:46.166Z"
   },
   {
    "duration": 109,
    "start_time": "2022-06-20T16:18:47.195Z"
   },
   {
    "duration": 15,
    "start_time": "2022-06-20T16:19:31.150Z"
   },
   {
    "duration": 5,
    "start_time": "2022-06-20T16:30:36.525Z"
   },
   {
    "duration": 20,
    "start_time": "2022-06-20T16:30:58.536Z"
   },
   {
    "duration": 5,
    "start_time": "2022-06-20T16:36:52.887Z"
   },
   {
    "duration": 39,
    "start_time": "2022-06-20T16:37:01.344Z"
   },
   {
    "duration": 9,
    "start_time": "2022-06-20T16:37:20.375Z"
   },
   {
    "duration": 5,
    "start_time": "2022-06-20T16:37:31.482Z"
   },
   {
    "duration": 20,
    "start_time": "2022-06-20T16:38:00.638Z"
   },
   {
    "duration": 30,
    "start_time": "2022-06-20T16:38:11.553Z"
   },
   {
    "duration": 20,
    "start_time": "2022-06-20T16:38:18.129Z"
   },
   {
    "duration": 19,
    "start_time": "2022-06-20T16:38:24.417Z"
   },
   {
    "duration": 21,
    "start_time": "2022-06-20T16:38:30.327Z"
   },
   {
    "duration": 19,
    "start_time": "2022-06-20T16:38:34.521Z"
   },
   {
    "duration": 24,
    "start_time": "2022-06-20T16:38:45.859Z"
   },
   {
    "duration": 43,
    "start_time": "2022-06-20T16:39:02.244Z"
   },
   {
    "duration": 20,
    "start_time": "2022-06-20T16:39:20.280Z"
   },
   {
    "duration": 21,
    "start_time": "2022-06-20T16:39:25.876Z"
   },
   {
    "duration": 5,
    "start_time": "2022-06-20T16:39:29.440Z"
   },
   {
    "duration": 7,
    "start_time": "2022-06-20T16:39:37.256Z"
   },
   {
    "duration": 7,
    "start_time": "2022-06-20T16:42:52.957Z"
   },
   {
    "duration": 8,
    "start_time": "2022-06-20T16:43:12.281Z"
   },
   {
    "duration": 22,
    "start_time": "2022-06-20T16:48:42.438Z"
   },
   {
    "duration": 5,
    "start_time": "2022-06-20T16:49:34.894Z"
   },
   {
    "duration": 505,
    "start_time": "2022-06-20T17:01:45.072Z"
   },
   {
    "duration": 404,
    "start_time": "2022-06-20T17:04:21.439Z"
   },
   {
    "duration": 53,
    "start_time": "2022-06-20T17:04:21.845Z"
   },
   {
    "duration": 12,
    "start_time": "2022-06-20T17:04:21.899Z"
   },
   {
    "duration": 5,
    "start_time": "2022-06-20T17:04:21.913Z"
   },
   {
    "duration": 409,
    "start_time": "2022-06-20T17:06:21.146Z"
   },
   {
    "duration": 55,
    "start_time": "2022-06-20T17:06:21.557Z"
   },
   {
    "duration": 13,
    "start_time": "2022-06-20T17:06:21.614Z"
   },
   {
    "duration": 4,
    "start_time": "2022-06-20T17:06:21.629Z"
   },
   {
    "duration": 17,
    "start_time": "2022-06-20T17:06:21.635Z"
   },
   {
    "duration": 981,
    "start_time": "2022-06-20T17:06:28.521Z"
   },
   {
    "duration": 48,
    "start_time": "2022-06-21T16:25:09.500Z"
   },
   {
    "duration": 419,
    "start_time": "2022-06-21T16:25:13.613Z"
   },
   {
    "duration": 109,
    "start_time": "2022-06-21T16:25:14.034Z"
   },
   {
    "duration": 12,
    "start_time": "2022-06-21T16:25:14.145Z"
   },
   {
    "duration": 10,
    "start_time": "2022-06-21T16:25:14.159Z"
   },
   {
    "duration": 127739,
    "start_time": "2022-06-21T16:25:14.171Z"
   },
   {
    "duration": 149,
    "start_time": "2022-06-21T16:29:02.335Z"
   },
   {
    "duration": 197,
    "start_time": "2022-06-21T16:29:10.122Z"
   },
   {
    "duration": 152,
    "start_time": "2022-06-21T16:29:25.101Z"
   },
   {
    "duration": 151,
    "start_time": "2022-06-21T16:29:29.504Z"
   },
   {
    "duration": 270,
    "start_time": "2022-06-21T16:29:34.238Z"
   },
   {
    "duration": 169,
    "start_time": "2022-06-21T16:29:40.979Z"
   },
   {
    "duration": 217,
    "start_time": "2022-06-21T16:34:03.115Z"
   },
   {
    "duration": 420,
    "start_time": "2022-06-21T16:35:58.820Z"
   },
   {
    "duration": 55,
    "start_time": "2022-06-21T16:35:59.242Z"
   },
   {
    "duration": 13,
    "start_time": "2022-06-21T16:35:59.298Z"
   },
   {
    "duration": 6,
    "start_time": "2022-06-21T16:35:59.313Z"
   },
   {
    "duration": 400,
    "start_time": "2022-06-21T16:36:48.156Z"
   },
   {
    "duration": 127926,
    "start_time": "2022-06-21T16:37:22.481Z"
   },
   {
    "duration": 428,
    "start_time": "2022-06-21T16:49:46.001Z"
   },
   {
    "duration": 58,
    "start_time": "2022-06-21T16:49:46.431Z"
   },
   {
    "duration": 12,
    "start_time": "2022-06-21T16:49:46.491Z"
   },
   {
    "duration": 6,
    "start_time": "2022-06-21T16:49:46.576Z"
   },
   {
    "duration": 7,
    "start_time": "2022-06-21T16:49:53.422Z"
   },
   {
    "duration": 6,
    "start_time": "2022-06-21T16:49:54.780Z"
   },
   {
    "duration": 5,
    "start_time": "2022-06-21T16:49:55.922Z"
   },
   {
    "duration": 5,
    "start_time": "2022-06-21T16:49:57.209Z"
   },
   {
    "duration": 405,
    "start_time": "2022-06-21T16:52:12.543Z"
   },
   {
    "duration": 58,
    "start_time": "2022-06-21T16:52:12.950Z"
   },
   {
    "duration": 13,
    "start_time": "2022-06-21T16:52:13.010Z"
   },
   {
    "duration": 7,
    "start_time": "2022-06-21T16:52:13.025Z"
   },
   {
    "duration": 439,
    "start_time": "2022-06-21T16:52:49.906Z"
   },
   {
    "duration": 54,
    "start_time": "2022-06-21T16:52:50.347Z"
   },
   {
    "duration": 14,
    "start_time": "2022-06-21T16:52:50.403Z"
   },
   {
    "duration": 7,
    "start_time": "2022-06-21T16:52:50.419Z"
   },
   {
    "duration": 7,
    "start_time": "2022-06-21T16:52:54.097Z"
   },
   {
    "duration": 6,
    "start_time": "2022-06-21T16:53:18.741Z"
   },
   {
    "duration": 382,
    "start_time": "2022-06-21T16:53:47.703Z"
   },
   {
    "duration": 212,
    "start_time": "2022-06-21T16:54:01.991Z"
   },
   {
    "duration": 199,
    "start_time": "2022-06-21T16:54:57.729Z"
   },
   {
    "duration": 138,
    "start_time": "2022-06-21T16:55:36.623Z"
   },
   {
    "duration": 78,
    "start_time": "2022-06-21T16:55:51.897Z"
   },
   {
    "duration": 6,
    "start_time": "2022-06-21T16:56:08.930Z"
   },
   {
    "duration": 4,
    "start_time": "2022-06-21T16:56:50.848Z"
   },
   {
    "duration": 7,
    "start_time": "2022-06-21T16:57:00.079Z"
   },
   {
    "duration": 5,
    "start_time": "2022-06-21T16:57:25.534Z"
   },
   {
    "duration": 5,
    "start_time": "2022-06-21T16:57:26.103Z"
   },
   {
    "duration": 126,
    "start_time": "2022-06-21T16:57:33.000Z"
   },
   {
    "duration": 199,
    "start_time": "2022-06-21T16:57:42.898Z"
   },
   {
    "duration": 175,
    "start_time": "2022-06-21T17:09:46.490Z"
   },
   {
    "duration": 193,
    "start_time": "2022-06-21T17:10:00.164Z"
   },
   {
    "duration": 179,
    "start_time": "2022-06-21T17:13:09.476Z"
   },
   {
    "duration": 14,
    "start_time": "2022-06-21T17:15:46.581Z"
   },
   {
    "duration": 16,
    "start_time": "2022-06-21T17:21:18.545Z"
   },
   {
    "duration": 15,
    "start_time": "2022-06-21T17:21:28.795Z"
   },
   {
    "duration": 32,
    "start_time": "2022-06-21T17:21:34.409Z"
   },
   {
    "duration": 374,
    "start_time": "2022-06-21T17:21:49.272Z"
   },
   {
    "duration": 54,
    "start_time": "2022-06-21T17:21:49.648Z"
   },
   {
    "duration": 14,
    "start_time": "2022-06-21T17:21:49.704Z"
   },
   {
    "duration": 16,
    "start_time": "2022-06-21T17:21:49.721Z"
   },
   {
    "duration": 548,
    "start_time": "2022-06-21T17:21:49.738Z"
   },
   {
    "duration": 18,
    "start_time": "2022-06-21T17:21:50.288Z"
   },
   {
    "duration": 38,
    "start_time": "2022-06-21T17:21:50.308Z"
   },
   {
    "duration": 84,
    "start_time": "2022-06-21T17:23:08.611Z"
   },
   {
    "duration": 12,
    "start_time": "2022-06-21T17:23:12.303Z"
   },
   {
    "duration": 455,
    "start_time": "2022-06-21T17:23:22.925Z"
   },
   {
    "duration": 72,
    "start_time": "2022-06-21T17:23:23.382Z"
   },
   {
    "duration": 16,
    "start_time": "2022-06-21T17:23:23.456Z"
   },
   {
    "duration": 34,
    "start_time": "2022-06-21T17:23:23.474Z"
   },
   {
    "duration": 449,
    "start_time": "2022-06-21T17:23:23.509Z"
   },
   {
    "duration": 5,
    "start_time": "2022-06-21T17:23:23.959Z"
   },
   {
    "duration": 18,
    "start_time": "2022-06-21T17:23:23.965Z"
   },
   {
    "duration": 6,
    "start_time": "2022-06-21T17:35:28.849Z"
   },
   {
    "duration": 145,
    "start_time": "2022-06-21T17:35:39.562Z"
   },
   {
    "duration": 143,
    "start_time": "2022-06-21T17:35:47.674Z"
   },
   {
    "duration": 180,
    "start_time": "2022-06-21T17:36:34.721Z"
   },
   {
    "duration": 195,
    "start_time": "2022-06-21T17:38:10.190Z"
   },
   {
    "duration": 134,
    "start_time": "2022-06-21T17:38:31.039Z"
   },
   {
    "duration": 141,
    "start_time": "2022-06-21T17:42:39.146Z"
   },
   {
    "duration": 116,
    "start_time": "2022-06-21T17:43:33.590Z"
   },
   {
    "duration": 166,
    "start_time": "2022-06-21T17:46:33.244Z"
   },
   {
    "duration": 180,
    "start_time": "2022-06-21T17:48:34.220Z"
   },
   {
    "duration": 177,
    "start_time": "2022-06-21T17:49:36.016Z"
   },
   {
    "duration": 12,
    "start_time": "2022-06-21T17:55:41.610Z"
   },
   {
    "duration": 15,
    "start_time": "2022-06-21T17:55:49.579Z"
   },
   {
    "duration": 916,
    "start_time": "2022-06-21T17:59:22.595Z"
   },
   {
    "duration": 419,
    "start_time": "2022-06-21T17:59:32.395Z"
   },
   {
    "duration": 53,
    "start_time": "2022-06-21T17:59:32.816Z"
   },
   {
    "duration": 11,
    "start_time": "2022-06-21T17:59:32.871Z"
   },
   {
    "duration": 10,
    "start_time": "2022-06-21T17:59:32.884Z"
   },
   {
    "duration": 436,
    "start_time": "2022-06-21T17:59:32.896Z"
   },
   {
    "duration": 5,
    "start_time": "2022-06-21T17:59:33.334Z"
   },
   {
    "duration": 30,
    "start_time": "2022-06-21T17:59:33.341Z"
   },
   {
    "duration": 184,
    "start_time": "2022-06-21T17:59:33.373Z"
   },
   {
    "duration": 190,
    "start_time": "2022-06-21T17:59:33.559Z"
   },
   {
    "duration": 165,
    "start_time": "2022-06-21T17:59:33.751Z"
   },
   {
    "duration": 846,
    "start_time": "2022-06-21T17:59:33.918Z"
   },
   {
    "duration": 0,
    "start_time": "2022-06-21T17:59:34.766Z"
   },
   {
    "duration": 5,
    "start_time": "2022-06-21T18:00:06.880Z"
   },
   {
    "duration": 19,
    "start_time": "2022-06-21T18:00:16.900Z"
   },
   {
    "duration": 691,
    "start_time": "2022-06-21T18:08:20.417Z"
   },
   {
    "duration": 14,
    "start_time": "2022-06-21T18:18:38.464Z"
   },
   {
    "duration": 11,
    "start_time": "2022-06-21T18:19:41.158Z"
   },
   {
    "duration": 15,
    "start_time": "2022-06-21T18:21:00.414Z"
   },
   {
    "duration": 129,
    "start_time": "2022-06-21T18:34:16.288Z"
   },
   {
    "duration": 139,
    "start_time": "2022-06-21T18:36:12.503Z"
   },
   {
    "duration": 230,
    "start_time": "2022-06-21T18:36:52.051Z"
   },
   {
    "duration": 137,
    "start_time": "2022-06-21T18:39:37.110Z"
   },
   {
    "duration": 117,
    "start_time": "2022-06-21T18:40:02.104Z"
   },
   {
    "duration": 160,
    "start_time": "2022-06-21T18:40:08.328Z"
   },
   {
    "duration": 131,
    "start_time": "2022-06-21T18:41:56.867Z"
   },
   {
    "duration": 17,
    "start_time": "2022-06-21T18:55:27.350Z"
   },
   {
    "duration": 15,
    "start_time": "2022-06-21T18:55:35.817Z"
   },
   {
    "duration": 17,
    "start_time": "2022-06-21T18:55:43.160Z"
   },
   {
    "duration": 58,
    "start_time": "2022-06-21T18:56:28.801Z"
   },
   {
    "duration": 14,
    "start_time": "2022-06-21T18:56:32.709Z"
   },
   {
    "duration": 14,
    "start_time": "2022-06-21T18:56:42.812Z"
   },
   {
    "duration": 39,
    "start_time": "2022-06-21T19:02:29.205Z"
   },
   {
    "duration": 1162,
    "start_time": "2022-06-21T19:02:40.127Z"
   },
   {
    "duration": 0,
    "start_time": "2022-06-21T19:02:41.292Z"
   },
   {
    "duration": 0,
    "start_time": "2022-06-21T19:02:41.292Z"
   },
   {
    "duration": 0,
    "start_time": "2022-06-21T19:02:41.294Z"
   },
   {
    "duration": 0,
    "start_time": "2022-06-21T19:02:41.296Z"
   },
   {
    "duration": 0,
    "start_time": "2022-06-21T19:02:41.297Z"
   },
   {
    "duration": 0,
    "start_time": "2022-06-21T19:02:41.298Z"
   },
   {
    "duration": 0,
    "start_time": "2022-06-21T19:02:41.300Z"
   },
   {
    "duration": 0,
    "start_time": "2022-06-21T19:02:41.301Z"
   },
   {
    "duration": 0,
    "start_time": "2022-06-21T19:02:41.302Z"
   },
   {
    "duration": 0,
    "start_time": "2022-06-21T19:02:41.303Z"
   },
   {
    "duration": 0,
    "start_time": "2022-06-21T19:02:41.304Z"
   },
   {
    "duration": 0,
    "start_time": "2022-06-21T19:02:41.305Z"
   },
   {
    "duration": 0,
    "start_time": "2022-06-21T19:02:41.305Z"
   },
   {
    "duration": 3,
    "start_time": "2022-06-21T19:03:16.441Z"
   },
   {
    "duration": 9,
    "start_time": "2022-06-21T19:03:27.385Z"
   },
   {
    "duration": 1091,
    "start_time": "2022-06-21T19:03:32.014Z"
   },
   {
    "duration": 53,
    "start_time": "2022-06-21T19:03:33.107Z"
   },
   {
    "duration": 12,
    "start_time": "2022-06-21T19:03:33.162Z"
   },
   {
    "duration": 6,
    "start_time": "2022-06-21T19:03:33.176Z"
   },
   {
    "duration": 396,
    "start_time": "2022-06-21T19:03:33.184Z"
   },
   {
    "duration": 4,
    "start_time": "2022-06-21T19:03:33.582Z"
   },
   {
    "duration": 21,
    "start_time": "2022-06-21T19:03:33.588Z"
   },
   {
    "duration": 163,
    "start_time": "2022-06-21T19:03:33.610Z"
   },
   {
    "duration": 182,
    "start_time": "2022-06-21T19:03:33.775Z"
   },
   {
    "duration": 123,
    "start_time": "2022-06-21T19:03:33.959Z"
   },
   {
    "duration": 135,
    "start_time": "2022-06-21T19:03:34.083Z"
   },
   {
    "duration": 21,
    "start_time": "2022-06-21T19:03:34.219Z"
   },
   {
    "duration": 14,
    "start_time": "2022-06-21T19:03:34.241Z"
   },
   {
    "duration": 127,
    "start_time": "2022-06-21T19:03:34.257Z"
   },
   {
    "duration": 24,
    "start_time": "2022-06-21T19:03:41.321Z"
   },
   {
    "duration": 29,
    "start_time": "2022-06-21T19:07:12.706Z"
   },
   {
    "duration": 34,
    "start_time": "2022-06-21T19:10:12.667Z"
   },
   {
    "duration": 37,
    "start_time": "2022-06-21T19:10:37.685Z"
   },
   {
    "duration": 45,
    "start_time": "2022-06-21T19:11:40.708Z"
   },
   {
    "duration": 1138,
    "start_time": "2022-06-21T19:37:33.342Z"
   },
   {
    "duration": 67,
    "start_time": "2022-06-21T19:37:34.483Z"
   },
   {
    "duration": 19,
    "start_time": "2022-06-21T19:37:34.553Z"
   },
   {
    "duration": 15,
    "start_time": "2022-06-21T19:37:34.575Z"
   },
   {
    "duration": 449,
    "start_time": "2022-06-21T19:37:34.592Z"
   },
   {
    "duration": 5,
    "start_time": "2022-06-21T19:37:35.042Z"
   },
   {
    "duration": 22,
    "start_time": "2022-06-21T19:37:35.049Z"
   },
   {
    "duration": 174,
    "start_time": "2022-06-21T19:37:35.073Z"
   },
   {
    "duration": 186,
    "start_time": "2022-06-21T19:37:35.249Z"
   },
   {
    "duration": 128,
    "start_time": "2022-06-21T19:37:35.437Z"
   },
   {
    "duration": 139,
    "start_time": "2022-06-21T19:37:35.568Z"
   },
   {
    "duration": 29,
    "start_time": "2022-06-21T19:37:35.709Z"
   },
   {
    "duration": 16,
    "start_time": "2022-06-21T19:37:35.739Z"
   },
   {
    "duration": 34,
    "start_time": "2022-06-21T19:37:35.756Z"
   },
   {
    "duration": 3,
    "start_time": "2022-06-21T19:37:59.201Z"
   },
   {
    "duration": 213,
    "start_time": "2022-06-21T19:44:41.173Z"
   },
   {
    "duration": 64,
    "start_time": "2022-06-21T19:45:16.024Z"
   },
   {
    "duration": 70,
    "start_time": "2022-06-21T19:45:20.749Z"
   },
   {
    "duration": 26,
    "start_time": "2022-06-21T19:45:31.705Z"
   },
   {
    "duration": 460,
    "start_time": "2022-06-21T19:47:01.345Z"
   },
   {
    "duration": 464,
    "start_time": "2022-06-21T19:47:09.221Z"
   },
   {
    "duration": 442,
    "start_time": "2022-06-21T19:49:40.317Z"
   },
   {
    "duration": 449,
    "start_time": "2022-06-21T19:53:38.641Z"
   },
   {
    "duration": 33,
    "start_time": "2022-06-21T19:53:41.389Z"
   },
   {
    "duration": 56423,
    "start_time": "2022-06-21T19:53:49.622Z"
   },
   {
    "duration": 24,
    "start_time": "2022-06-21T20:01:55.303Z"
   },
   {
    "duration": 93,
    "start_time": "2022-06-21T20:02:46.535Z"
   },
   {
    "duration": 70,
    "start_time": "2022-06-21T20:09:21.228Z"
   },
   {
    "duration": 114,
    "start_time": "2022-06-21T20:09:37.182Z"
   },
   {
    "duration": 1108,
    "start_time": "2022-06-21T20:09:43.208Z"
   },
   {
    "duration": 59,
    "start_time": "2022-06-21T20:09:44.318Z"
   },
   {
    "duration": 25,
    "start_time": "2022-06-21T20:09:44.379Z"
   },
   {
    "duration": 6,
    "start_time": "2022-06-21T20:09:44.406Z"
   },
   {
    "duration": 447,
    "start_time": "2022-06-21T20:09:44.414Z"
   },
   {
    "duration": 4,
    "start_time": "2022-06-21T20:09:44.863Z"
   },
   {
    "duration": 27,
    "start_time": "2022-06-21T20:09:44.868Z"
   },
   {
    "duration": 168,
    "start_time": "2022-06-21T20:09:44.896Z"
   },
   {
    "duration": 188,
    "start_time": "2022-06-21T20:09:45.066Z"
   },
   {
    "duration": 122,
    "start_time": "2022-06-21T20:09:45.255Z"
   },
   {
    "duration": 134,
    "start_time": "2022-06-21T20:09:45.379Z"
   },
   {
    "duration": 22,
    "start_time": "2022-06-21T20:09:45.515Z"
   },
   {
    "duration": 14,
    "start_time": "2022-06-21T20:09:45.539Z"
   },
   {
    "duration": 39,
    "start_time": "2022-06-21T20:09:45.556Z"
   },
   {
    "duration": 449,
    "start_time": "2022-06-21T20:09:45.596Z"
   },
   {
    "duration": 1127,
    "start_time": "2022-06-21T20:10:32.587Z"
   },
   {
    "duration": 55,
    "start_time": "2022-06-21T20:10:33.717Z"
   },
   {
    "duration": 13,
    "start_time": "2022-06-21T20:10:33.773Z"
   },
   {
    "duration": 9,
    "start_time": "2022-06-21T20:10:33.788Z"
   },
   {
    "duration": 394,
    "start_time": "2022-06-21T20:10:33.798Z"
   },
   {
    "duration": 6,
    "start_time": "2022-06-21T20:10:34.194Z"
   },
   {
    "duration": 25,
    "start_time": "2022-06-21T20:10:34.201Z"
   },
   {
    "duration": 191,
    "start_time": "2022-06-21T20:10:34.228Z"
   },
   {
    "duration": 243,
    "start_time": "2022-06-21T20:10:34.426Z"
   },
   {
    "duration": 124,
    "start_time": "2022-06-21T20:10:34.671Z"
   },
   {
    "duration": 133,
    "start_time": "2022-06-21T20:10:34.797Z"
   },
   {
    "duration": 18,
    "start_time": "2022-06-21T20:10:34.932Z"
   },
   {
    "duration": 17,
    "start_time": "2022-06-21T20:10:34.952Z"
   },
   {
    "duration": 60,
    "start_time": "2022-06-21T20:10:34.971Z"
   },
   {
    "duration": 442,
    "start_time": "2022-06-21T20:10:35.033Z"
   },
   {
    "duration": 56428,
    "start_time": "2022-06-21T20:10:35.477Z"
   },
   {
    "duration": 35,
    "start_time": "2022-06-21T20:11:31.907Z"
   },
   {
    "duration": 316,
    "start_time": "2022-06-21T20:11:46.421Z"
   },
   {
    "duration": 1138,
    "start_time": "2022-06-21T20:11:51.994Z"
   },
   {
    "duration": 54,
    "start_time": "2022-06-21T20:11:53.135Z"
   },
   {
    "duration": 14,
    "start_time": "2022-06-21T20:11:53.191Z"
   },
   {
    "duration": 22,
    "start_time": "2022-06-21T20:11:53.206Z"
   },
   {
    "duration": 421,
    "start_time": "2022-06-21T20:11:53.230Z"
   },
   {
    "duration": 5,
    "start_time": "2022-06-21T20:11:53.652Z"
   },
   {
    "duration": 28,
    "start_time": "2022-06-21T20:11:53.658Z"
   },
   {
    "duration": 180,
    "start_time": "2022-06-21T20:11:53.688Z"
   },
   {
    "duration": 201,
    "start_time": "2022-06-21T20:11:53.870Z"
   },
   {
    "duration": 131,
    "start_time": "2022-06-21T20:11:54.073Z"
   },
   {
    "duration": 140,
    "start_time": "2022-06-21T20:11:54.207Z"
   },
   {
    "duration": 19,
    "start_time": "2022-06-21T20:11:54.348Z"
   },
   {
    "duration": 39,
    "start_time": "2022-06-21T20:11:54.368Z"
   },
   {
    "duration": 62,
    "start_time": "2022-06-21T20:11:54.409Z"
   },
   {
    "duration": 515,
    "start_time": "2022-06-21T20:11:54.473Z"
   },
   {
    "duration": 56627,
    "start_time": "2022-06-21T20:11:54.990Z"
   },
   {
    "duration": 106,
    "start_time": "2022-06-21T20:12:51.619Z"
   },
   {
    "duration": 1165,
    "start_time": "2022-06-22T12:12:02.167Z"
   },
   {
    "duration": 92,
    "start_time": "2022-06-22T12:12:03.334Z"
   },
   {
    "duration": 13,
    "start_time": "2022-06-22T12:12:03.427Z"
   },
   {
    "duration": 14,
    "start_time": "2022-06-22T12:12:03.442Z"
   },
   {
    "duration": 635,
    "start_time": "2022-06-22T12:12:03.458Z"
   },
   {
    "duration": 6,
    "start_time": "2022-06-22T12:12:04.095Z"
   },
   {
    "duration": 29,
    "start_time": "2022-06-22T12:12:04.103Z"
   },
   {
    "duration": 197,
    "start_time": "2022-06-22T12:12:04.134Z"
   },
   {
    "duration": 211,
    "start_time": "2022-06-22T12:12:04.334Z"
   },
   {
    "duration": 160,
    "start_time": "2022-06-22T12:12:04.548Z"
   },
   {
    "duration": 147,
    "start_time": "2022-06-22T12:12:04.710Z"
   },
   {
    "duration": 24,
    "start_time": "2022-06-22T12:12:04.859Z"
   },
   {
    "duration": 114,
    "start_time": "2022-06-22T12:12:04.884Z"
   },
   {
    "duration": 48,
    "start_time": "2022-06-22T12:12:05.000Z"
   },
   {
    "duration": 472,
    "start_time": "2022-06-22T12:12:05.050Z"
   },
   {
    "duration": 60903,
    "start_time": "2022-06-22T12:12:05.524Z"
   },
   {
    "duration": 44,
    "start_time": "2022-06-22T12:13:06.429Z"
   },
   {
    "duration": 3,
    "start_time": "2022-06-22T12:18:07.790Z"
   },
   {
    "duration": 1067,
    "start_time": "2022-06-22T12:18:12.131Z"
   },
   {
    "duration": 58,
    "start_time": "2022-06-22T12:18:13.200Z"
   },
   {
    "duration": 17,
    "start_time": "2022-06-22T12:18:13.260Z"
   },
   {
    "duration": 14,
    "start_time": "2022-06-22T12:18:13.282Z"
   },
   {
    "duration": 461,
    "start_time": "2022-06-22T12:18:13.298Z"
   },
   {
    "duration": 8,
    "start_time": "2022-06-22T12:18:13.760Z"
   },
   {
    "duration": 29,
    "start_time": "2022-06-22T12:18:13.770Z"
   },
   {
    "duration": 172,
    "start_time": "2022-06-22T12:18:13.801Z"
   },
   {
    "duration": 245,
    "start_time": "2022-06-22T12:18:13.975Z"
   },
   {
    "duration": 140,
    "start_time": "2022-06-22T12:18:14.223Z"
   },
   {
    "duration": 177,
    "start_time": "2022-06-22T12:18:14.367Z"
   },
   {
    "duration": 19,
    "start_time": "2022-06-22T12:18:14.546Z"
   },
   {
    "duration": 22,
    "start_time": "2022-06-22T12:18:14.567Z"
   },
   {
    "duration": 58,
    "start_time": "2022-06-22T12:18:14.591Z"
   },
   {
    "duration": 518,
    "start_time": "2022-06-22T12:18:14.651Z"
   },
   {
    "duration": 63944,
    "start_time": "2022-06-22T12:18:15.170Z"
   },
   {
    "duration": 29,
    "start_time": "2022-06-22T12:19:19.117Z"
   },
   {
    "duration": 138,
    "start_time": "2022-06-22T12:20:17.398Z"
   },
   {
    "duration": 8,
    "start_time": "2022-06-22T12:31:31.387Z"
   },
   {
    "duration": 8,
    "start_time": "2022-06-22T12:33:23.498Z"
   },
   {
    "duration": 71,
    "start_time": "2022-06-22T12:34:10.479Z"
   },
   {
    "duration": 1420,
    "start_time": "2022-06-22T12:34:17.386Z"
   },
   {
    "duration": 66,
    "start_time": "2022-06-22T12:34:18.809Z"
   },
   {
    "duration": 17,
    "start_time": "2022-06-22T12:34:18.882Z"
   },
   {
    "duration": 42,
    "start_time": "2022-06-22T12:34:18.901Z"
   },
   {
    "duration": 246,
    "start_time": "2022-06-22T12:34:18.947Z"
   },
   {
    "duration": 8,
    "start_time": "2022-06-22T12:34:19.195Z"
   },
   {
    "duration": 45,
    "start_time": "2022-06-22T12:34:19.207Z"
   },
   {
    "duration": 274,
    "start_time": "2022-06-22T12:34:19.256Z"
   },
   {
    "duration": 217,
    "start_time": "2022-06-22T12:34:19.532Z"
   },
   {
    "duration": 156,
    "start_time": "2022-06-22T12:34:19.752Z"
   },
   {
    "duration": 159,
    "start_time": "2022-06-22T12:34:19.910Z"
   },
   {
    "duration": 20,
    "start_time": "2022-06-22T12:34:20.071Z"
   },
   {
    "duration": 115,
    "start_time": "2022-06-22T12:34:20.093Z"
   },
   {
    "duration": 41,
    "start_time": "2022-06-22T12:34:20.211Z"
   },
   {
    "duration": 472,
    "start_time": "2022-06-22T12:34:20.269Z"
   },
   {
    "duration": 1477,
    "start_time": "2022-06-22T12:34:51.061Z"
   },
   {
    "duration": 51,
    "start_time": "2022-06-22T12:34:52.540Z"
   },
   {
    "duration": 12,
    "start_time": "2022-06-22T12:34:52.592Z"
   },
   {
    "duration": 5,
    "start_time": "2022-06-22T12:34:52.606Z"
   },
   {
    "duration": 184,
    "start_time": "2022-06-22T12:34:52.612Z"
   },
   {
    "duration": 5,
    "start_time": "2022-06-22T12:34:52.798Z"
   },
   {
    "duration": 15,
    "start_time": "2022-06-22T12:34:52.804Z"
   },
   {
    "duration": 193,
    "start_time": "2022-06-22T12:34:52.821Z"
   },
   {
    "duration": 221,
    "start_time": "2022-06-22T12:34:53.015Z"
   },
   {
    "duration": 150,
    "start_time": "2022-06-22T12:34:53.238Z"
   },
   {
    "duration": 164,
    "start_time": "2022-06-22T12:34:53.390Z"
   },
   {
    "duration": 32,
    "start_time": "2022-06-22T12:34:53.557Z"
   },
   {
    "duration": 96,
    "start_time": "2022-06-22T12:34:53.591Z"
   },
   {
    "duration": 38,
    "start_time": "2022-06-22T12:34:53.689Z"
   },
   {
    "duration": 528,
    "start_time": "2022-06-22T12:34:53.728Z"
   },
   {
    "duration": 61381,
    "start_time": "2022-06-22T12:34:54.260Z"
   },
   {
    "duration": 37,
    "start_time": "2022-06-22T12:35:55.643Z"
   },
   {
    "duration": 1374,
    "start_time": "2022-06-22T12:37:11.771Z"
   },
   {
    "duration": 52,
    "start_time": "2022-06-22T12:37:13.147Z"
   },
   {
    "duration": 12,
    "start_time": "2022-06-22T12:37:13.201Z"
   },
   {
    "duration": 6,
    "start_time": "2022-06-22T12:37:13.215Z"
   },
   {
    "duration": 193,
    "start_time": "2022-06-22T12:37:13.223Z"
   },
   {
    "duration": 5,
    "start_time": "2022-06-22T12:37:13.417Z"
   },
   {
    "duration": 24,
    "start_time": "2022-06-22T12:37:13.424Z"
   },
   {
    "duration": 191,
    "start_time": "2022-06-22T12:37:13.449Z"
   },
   {
    "duration": 265,
    "start_time": "2022-06-22T12:37:13.641Z"
   },
   {
    "duration": 135,
    "start_time": "2022-06-22T12:37:13.908Z"
   },
   {
    "duration": 148,
    "start_time": "2022-06-22T12:37:14.045Z"
   },
   {
    "duration": 19,
    "start_time": "2022-06-22T12:37:14.195Z"
   },
   {
    "duration": 114,
    "start_time": "2022-06-22T12:37:14.215Z"
   },
   {
    "duration": 50,
    "start_time": "2022-06-22T12:37:14.331Z"
   },
   {
    "duration": 472,
    "start_time": "2022-06-22T12:37:14.383Z"
   },
   {
    "duration": 63128,
    "start_time": "2022-06-22T12:37:14.857Z"
   },
   {
    "duration": 311,
    "start_time": "2022-06-22T12:38:17.988Z"
   },
   {
    "duration": 153,
    "start_time": "2022-06-22T12:39:25.420Z"
   },
   {
    "duration": 1394,
    "start_time": "2022-06-22T12:39:34.093Z"
   },
   {
    "duration": 54,
    "start_time": "2022-06-22T12:39:35.490Z"
   },
   {
    "duration": 16,
    "start_time": "2022-06-22T12:39:35.546Z"
   },
   {
    "duration": 10,
    "start_time": "2022-06-22T12:39:35.565Z"
   },
   {
    "duration": 197,
    "start_time": "2022-06-22T12:39:35.577Z"
   },
   {
    "duration": 5,
    "start_time": "2022-06-22T12:39:35.776Z"
   },
   {
    "duration": 23,
    "start_time": "2022-06-22T12:39:35.783Z"
   },
   {
    "duration": 196,
    "start_time": "2022-06-22T12:39:35.808Z"
   },
   {
    "duration": 209,
    "start_time": "2022-06-22T12:39:36.006Z"
   },
   {
    "duration": 150,
    "start_time": "2022-06-22T12:39:36.219Z"
   },
   {
    "duration": 149,
    "start_time": "2022-06-22T12:39:36.371Z"
   },
   {
    "duration": 22,
    "start_time": "2022-06-22T12:39:36.522Z"
   },
   {
    "duration": 36,
    "start_time": "2022-06-22T12:39:36.548Z"
   },
   {
    "duration": 154,
    "start_time": "2022-06-22T12:39:36.586Z"
   },
   {
    "duration": 496,
    "start_time": "2022-06-22T12:39:36.742Z"
   },
   {
    "duration": 61963,
    "start_time": "2022-06-22T12:39:37.240Z"
   },
   {
    "duration": 72,
    "start_time": "2022-06-22T12:40:39.206Z"
   },
   {
    "duration": 113,
    "start_time": "2022-06-22T12:44:05.446Z"
   },
   {
    "duration": 47,
    "start_time": "2022-06-22T12:44:29.001Z"
   },
   {
    "duration": 1293,
    "start_time": "2022-06-22T15:03:26.292Z"
   },
   {
    "duration": 51,
    "start_time": "2022-06-22T15:03:27.587Z"
   },
   {
    "duration": 11,
    "start_time": "2022-06-22T15:03:27.640Z"
   },
   {
    "duration": 5,
    "start_time": "2022-06-22T15:03:27.653Z"
   },
   {
    "duration": 155,
    "start_time": "2022-06-22T15:03:27.660Z"
   },
   {
    "duration": 5,
    "start_time": "2022-06-22T15:03:27.817Z"
   },
   {
    "duration": 14,
    "start_time": "2022-06-22T15:03:27.824Z"
   },
   {
    "duration": 182,
    "start_time": "2022-06-22T15:03:27.840Z"
   },
   {
    "duration": 186,
    "start_time": "2022-06-22T15:03:28.023Z"
   },
   {
    "duration": 135,
    "start_time": "2022-06-22T15:03:28.211Z"
   },
   {
    "duration": 147,
    "start_time": "2022-06-22T15:03:28.348Z"
   },
   {
    "duration": 18,
    "start_time": "2022-06-22T15:03:28.497Z"
   },
   {
    "duration": 104,
    "start_time": "2022-06-22T15:03:28.516Z"
   },
   {
    "duration": 35,
    "start_time": "2022-06-22T15:03:28.622Z"
   },
   {
    "duration": 476,
    "start_time": "2022-06-22T15:03:28.658Z"
   },
   {
    "duration": 56612,
    "start_time": "2022-06-22T15:03:29.136Z"
   },
   {
    "duration": 38,
    "start_time": "2022-06-22T15:04:25.750Z"
   },
   {
    "duration": 64,
    "start_time": "2022-06-22T15:10:55.270Z"
   },
   {
    "duration": 4,
    "start_time": "2022-06-22T15:11:11.182Z"
   },
   {
    "duration": 110,
    "start_time": "2022-06-22T15:11:12.539Z"
   },
   {
    "duration": 20,
    "start_time": "2022-06-22T15:11:36.439Z"
   },
   {
    "duration": 1403,
    "start_time": "2022-06-22T15:11:43.337Z"
   },
   {
    "duration": 52,
    "start_time": "2022-06-22T15:11:44.742Z"
   },
   {
    "duration": 13,
    "start_time": "2022-06-22T15:11:44.798Z"
   },
   {
    "duration": 7,
    "start_time": "2022-06-22T15:11:44.813Z"
   },
   {
    "duration": 195,
    "start_time": "2022-06-22T15:11:44.822Z"
   },
   {
    "duration": 5,
    "start_time": "2022-06-22T15:11:45.019Z"
   },
   {
    "duration": 22,
    "start_time": "2022-06-22T15:11:45.026Z"
   },
   {
    "duration": 196,
    "start_time": "2022-06-22T15:11:45.050Z"
   },
   {
    "duration": 215,
    "start_time": "2022-06-22T15:11:45.248Z"
   },
   {
    "duration": 143,
    "start_time": "2022-06-22T15:11:45.467Z"
   },
   {
    "duration": 137,
    "start_time": "2022-06-22T15:11:45.612Z"
   },
   {
    "duration": 30,
    "start_time": "2022-06-22T15:11:45.751Z"
   },
   {
    "duration": 93,
    "start_time": "2022-06-22T15:11:45.783Z"
   },
   {
    "duration": 36,
    "start_time": "2022-06-22T15:11:45.878Z"
   },
   {
    "duration": 455,
    "start_time": "2022-06-22T15:11:45.915Z"
   },
   {
    "duration": 56622,
    "start_time": "2022-06-22T15:11:46.372Z"
   },
   {
    "duration": 76,
    "start_time": "2022-06-22T15:12:42.996Z"
   },
   {
    "duration": 6,
    "start_time": "2022-06-22T15:12:43.074Z"
   },
   {
    "duration": 289,
    "start_time": "2022-06-22T15:12:43.082Z"
   },
   {
    "duration": 108,
    "start_time": "2022-06-22T15:16:02.213Z"
   },
   {
    "duration": 1478,
    "start_time": "2022-06-22T15:16:27.543Z"
   },
   {
    "duration": 67,
    "start_time": "2022-06-22T15:16:29.024Z"
   },
   {
    "duration": 16,
    "start_time": "2022-06-22T15:16:29.097Z"
   },
   {
    "duration": 14,
    "start_time": "2022-06-22T15:16:29.115Z"
   },
   {
    "duration": 219,
    "start_time": "2022-06-22T15:16:29.132Z"
   },
   {
    "duration": 4,
    "start_time": "2022-06-22T15:16:29.353Z"
   },
   {
    "duration": 21,
    "start_time": "2022-06-22T15:16:29.359Z"
   },
   {
    "duration": 218,
    "start_time": "2022-06-22T15:16:29.383Z"
   },
   {
    "duration": 196,
    "start_time": "2022-06-22T15:16:29.604Z"
   },
   {
    "duration": 160,
    "start_time": "2022-06-22T15:16:29.802Z"
   },
   {
    "duration": 142,
    "start_time": "2022-06-22T15:16:29.967Z"
   },
   {
    "duration": 26,
    "start_time": "2022-06-22T15:16:30.110Z"
   },
   {
    "duration": 122,
    "start_time": "2022-06-22T15:16:30.138Z"
   },
   {
    "duration": 38,
    "start_time": "2022-06-22T15:16:30.268Z"
   },
   {
    "duration": 461,
    "start_time": "2022-06-22T15:16:30.308Z"
   },
   {
    "duration": 56406,
    "start_time": "2022-06-22T15:16:30.770Z"
   },
   {
    "duration": 194,
    "start_time": "2022-06-22T15:17:27.178Z"
   },
   {
    "duration": 93,
    "start_time": "2022-06-22T15:17:27.374Z"
   },
   {
    "duration": 223,
    "start_time": "2022-06-22T15:17:27.469Z"
   },
   {
    "duration": 127,
    "start_time": "2022-06-22T15:23:15.291Z"
   },
   {
    "duration": 17,
    "start_time": "2022-06-22T15:23:53.703Z"
   },
   {
    "duration": 109,
    "start_time": "2022-06-22T15:24:27.784Z"
   },
   {
    "duration": 66,
    "start_time": "2022-06-22T15:25:32.634Z"
   },
   {
    "duration": 19,
    "start_time": "2022-06-22T15:25:40.206Z"
   },
   {
    "duration": 21,
    "start_time": "2022-06-22T15:26:04.491Z"
   },
   {
    "duration": 67,
    "start_time": "2022-06-22T15:26:37.445Z"
   },
   {
    "duration": 64,
    "start_time": "2022-06-22T15:26:55.356Z"
   },
   {
    "duration": 23,
    "start_time": "2022-06-22T15:28:09.123Z"
   },
   {
    "duration": 26,
    "start_time": "2022-06-22T15:28:20.098Z"
   },
   {
    "duration": 26,
    "start_time": "2022-06-22T15:28:26.435Z"
   },
   {
    "duration": 29,
    "start_time": "2022-06-22T15:28:40.752Z"
   },
   {
    "duration": 33,
    "start_time": "2022-06-22T15:29:03.703Z"
   },
   {
    "duration": 32,
    "start_time": "2022-06-22T15:29:07.926Z"
   },
   {
    "duration": 192,
    "start_time": "2022-06-22T15:30:30.381Z"
   },
   {
    "duration": 1351,
    "start_time": "2022-06-22T15:30:45.033Z"
   },
   {
    "duration": 51,
    "start_time": "2022-06-22T15:30:46.386Z"
   },
   {
    "duration": 13,
    "start_time": "2022-06-22T15:30:46.441Z"
   },
   {
    "duration": 5,
    "start_time": "2022-06-22T15:30:46.456Z"
   },
   {
    "duration": 164,
    "start_time": "2022-06-22T15:30:46.462Z"
   },
   {
    "duration": 5,
    "start_time": "2022-06-22T15:30:46.627Z"
   },
   {
    "duration": 17,
    "start_time": "2022-06-22T15:30:46.633Z"
   },
   {
    "duration": 185,
    "start_time": "2022-06-22T15:30:46.651Z"
   },
   {
    "duration": 205,
    "start_time": "2022-06-22T15:30:46.839Z"
   },
   {
    "duration": 138,
    "start_time": "2022-06-22T15:30:47.046Z"
   },
   {
    "duration": 149,
    "start_time": "2022-06-22T15:30:47.186Z"
   },
   {
    "duration": 19,
    "start_time": "2022-06-22T15:30:47.336Z"
   },
   {
    "duration": 97,
    "start_time": "2022-06-22T15:30:47.356Z"
   },
   {
    "duration": 47,
    "start_time": "2022-06-22T15:30:47.455Z"
   },
   {
    "duration": 470,
    "start_time": "2022-06-22T15:30:47.504Z"
   },
   {
    "duration": 1391,
    "start_time": "2022-06-22T15:31:21.235Z"
   },
   {
    "duration": 50,
    "start_time": "2022-06-22T15:31:22.628Z"
   },
   {
    "duration": 11,
    "start_time": "2022-06-22T15:31:22.680Z"
   },
   {
    "duration": 5,
    "start_time": "2022-06-22T15:31:22.694Z"
   },
   {
    "duration": 173,
    "start_time": "2022-06-22T15:31:22.701Z"
   },
   {
    "duration": 4,
    "start_time": "2022-06-22T15:31:22.876Z"
   },
   {
    "duration": 16,
    "start_time": "2022-06-22T15:31:22.882Z"
   },
   {
    "duration": 183,
    "start_time": "2022-06-22T15:31:22.899Z"
   },
   {
    "duration": 192,
    "start_time": "2022-06-22T15:31:23.085Z"
   },
   {
    "duration": 129,
    "start_time": "2022-06-22T15:31:23.280Z"
   },
   {
    "duration": 137,
    "start_time": "2022-06-22T15:31:23.411Z"
   },
   {
    "duration": 32,
    "start_time": "2022-06-22T15:31:23.550Z"
   },
   {
    "duration": 98,
    "start_time": "2022-06-22T15:31:23.583Z"
   },
   {
    "duration": 36,
    "start_time": "2022-06-22T15:31:23.683Z"
   },
   {
    "duration": 474,
    "start_time": "2022-06-22T15:31:23.721Z"
   },
   {
    "duration": 55620,
    "start_time": "2022-06-22T15:31:24.197Z"
   },
   {
    "duration": 54,
    "start_time": "2022-06-22T15:32:19.818Z"
   },
   {
    "duration": 4,
    "start_time": "2022-06-22T15:32:19.874Z"
   },
   {
    "duration": 23,
    "start_time": "2022-06-22T15:32:19.968Z"
   },
   {
    "duration": 96,
    "start_time": "2022-06-22T15:32:19.993Z"
   },
   {
    "duration": 439,
    "start_time": "2022-06-22T15:32:20.091Z"
   },
   {
    "duration": 436,
    "start_time": "2022-06-22T15:32:56.391Z"
   },
   {
    "duration": 598,
    "start_time": "2022-06-22T15:33:17.848Z"
   },
   {
    "duration": 13,
    "start_time": "2022-06-22T15:34:07.337Z"
   },
   {
    "duration": 75458,
    "start_time": "2022-06-22T15:34:31.791Z"
   },
   {
    "duration": 427,
    "start_time": "2022-06-22T15:41:26.088Z"
   },
   {
    "duration": 485,
    "start_time": "2022-06-22T15:42:08.684Z"
   },
   {
    "duration": 55025,
    "start_time": "2022-06-22T15:43:17.810Z"
   },
   {
    "duration": 12,
    "start_time": "2022-06-22T15:48:34.583Z"
   },
   {
    "duration": 211,
    "start_time": "2022-06-22T15:49:27.004Z"
   },
   {
    "duration": 31814,
    "start_time": "2022-06-22T15:50:23.629Z"
   },
   {
    "duration": 55933,
    "start_time": "2022-06-22T15:53:49.593Z"
   },
   {
    "duration": 470,
    "start_time": "2022-06-22T16:00:23.623Z"
   },
   {
    "duration": 59260,
    "start_time": "2022-06-22T16:00:38.741Z"
   },
   {
    "duration": 1444,
    "start_time": "2022-06-22T16:02:24.418Z"
   },
   {
    "duration": 64,
    "start_time": "2022-06-22T16:02:25.865Z"
   },
   {
    "duration": 14,
    "start_time": "2022-06-22T16:02:25.930Z"
   },
   {
    "duration": 6,
    "start_time": "2022-06-22T16:02:25.946Z"
   },
   {
    "duration": 169,
    "start_time": "2022-06-22T16:02:25.954Z"
   },
   {
    "duration": 5,
    "start_time": "2022-06-22T16:02:26.124Z"
   },
   {
    "duration": 17,
    "start_time": "2022-06-22T16:02:26.131Z"
   },
   {
    "duration": 179,
    "start_time": "2022-06-22T16:02:26.149Z"
   },
   {
    "duration": 195,
    "start_time": "2022-06-22T16:02:26.330Z"
   },
   {
    "duration": 130,
    "start_time": "2022-06-22T16:02:26.527Z"
   },
   {
    "duration": 140,
    "start_time": "2022-06-22T16:02:26.659Z"
   },
   {
    "duration": 18,
    "start_time": "2022-06-22T16:02:26.800Z"
   },
   {
    "duration": 104,
    "start_time": "2022-06-22T16:02:26.820Z"
   },
   {
    "duration": 43,
    "start_time": "2022-06-22T16:02:26.926Z"
   },
   {
    "duration": 442,
    "start_time": "2022-06-22T16:02:26.971Z"
   },
   {
    "duration": 56511,
    "start_time": "2022-06-22T16:02:27.415Z"
   },
   {
    "duration": 142,
    "start_time": "2022-06-22T16:03:23.928Z"
   },
   {
    "duration": 542,
    "start_time": "2022-06-22T16:03:24.072Z"
   },
   {
    "duration": 56071,
    "start_time": "2022-06-22T16:03:24.616Z"
   },
   {
    "duration": 12,
    "start_time": "2022-06-22T16:04:20.689Z"
   },
   {
    "duration": 543,
    "start_time": "2022-06-22T16:04:20.703Z"
   },
   {
    "duration": 75692,
    "start_time": "2022-06-22T16:04:21.248Z"
   },
   {
    "duration": 12,
    "start_time": "2022-06-22T16:05:36.942Z"
   },
   {
    "duration": 237,
    "start_time": "2022-06-22T16:05:36.955Z"
   },
   {
    "duration": 32465,
    "start_time": "2022-06-22T16:05:37.194Z"
   },
   {
    "duration": 86,
    "start_time": "2022-06-22T16:08:18.816Z"
   },
   {
    "duration": 63,
    "start_time": "2022-06-22T16:08:51.275Z"
   },
   {
    "duration": 101,
    "start_time": "2022-06-22T16:17:51.303Z"
   },
   {
    "duration": 162,
    "start_time": "2022-06-22T16:18:01.997Z"
   },
   {
    "duration": 1253,
    "start_time": "2022-06-22T16:18:52.247Z"
   },
   {
    "duration": 48,
    "start_time": "2022-06-22T16:18:53.502Z"
   },
   {
    "duration": 11,
    "start_time": "2022-06-22T16:18:53.551Z"
   },
   {
    "duration": 6,
    "start_time": "2022-06-22T16:18:53.564Z"
   },
   {
    "duration": 169,
    "start_time": "2022-06-22T16:18:53.571Z"
   },
   {
    "duration": 5,
    "start_time": "2022-06-22T16:18:53.742Z"
   },
   {
    "duration": 22,
    "start_time": "2022-06-22T16:18:53.749Z"
   },
   {
    "duration": 165,
    "start_time": "2022-06-22T16:18:53.773Z"
   },
   {
    "duration": 180,
    "start_time": "2022-06-22T16:18:53.940Z"
   },
   {
    "duration": 130,
    "start_time": "2022-06-22T16:18:54.123Z"
   },
   {
    "duration": 140,
    "start_time": "2022-06-22T16:18:54.255Z"
   },
   {
    "duration": 19,
    "start_time": "2022-06-22T16:18:54.396Z"
   },
   {
    "duration": 102,
    "start_time": "2022-06-22T16:18:54.416Z"
   },
   {
    "duration": 34,
    "start_time": "2022-06-22T16:18:54.519Z"
   },
   {
    "duration": 450,
    "start_time": "2022-06-22T16:18:54.555Z"
   },
   {
    "duration": 54535,
    "start_time": "2022-06-22T16:18:55.007Z"
   },
   {
    "duration": 124,
    "start_time": "2022-06-22T16:19:49.544Z"
   },
   {
    "duration": 530,
    "start_time": "2022-06-22T16:19:49.671Z"
   },
   {
    "duration": 1225,
    "start_time": "2022-06-22T16:21:20.486Z"
   },
   {
    "duration": 49,
    "start_time": "2022-06-22T16:21:21.712Z"
   },
   {
    "duration": 12,
    "start_time": "2022-06-22T16:21:21.762Z"
   },
   {
    "duration": 6,
    "start_time": "2022-06-22T16:21:21.776Z"
   },
   {
    "duration": 172,
    "start_time": "2022-06-22T16:21:21.783Z"
   },
   {
    "duration": 12,
    "start_time": "2022-06-22T16:21:21.956Z"
   },
   {
    "duration": 12,
    "start_time": "2022-06-22T16:21:21.969Z"
   },
   {
    "duration": 169,
    "start_time": "2022-06-22T16:21:21.982Z"
   },
   {
    "duration": 176,
    "start_time": "2022-06-22T16:21:22.153Z"
   },
   {
    "duration": 125,
    "start_time": "2022-06-22T16:21:22.331Z"
   },
   {
    "duration": 124,
    "start_time": "2022-06-22T16:21:22.458Z"
   },
   {
    "duration": 17,
    "start_time": "2022-06-22T16:21:22.583Z"
   },
   {
    "duration": 98,
    "start_time": "2022-06-22T16:21:22.601Z"
   },
   {
    "duration": 35,
    "start_time": "2022-06-22T16:21:22.700Z"
   },
   {
    "duration": 443,
    "start_time": "2022-06-22T16:21:22.737Z"
   },
   {
    "duration": 55530,
    "start_time": "2022-06-22T16:21:23.182Z"
   },
   {
    "duration": 153,
    "start_time": "2022-06-22T16:22:18.714Z"
   },
   {
    "duration": 605,
    "start_time": "2022-06-22T16:22:18.869Z"
   },
   {
    "duration": 55629,
    "start_time": "2022-06-22T16:22:19.476Z"
   },
   {
    "duration": 12,
    "start_time": "2022-06-22T16:23:15.107Z"
   },
   {
    "duration": 547,
    "start_time": "2022-06-22T16:23:15.121Z"
   },
   {
    "duration": 76252,
    "start_time": "2022-06-22T16:23:15.669Z"
   },
   {
    "duration": 12,
    "start_time": "2022-06-22T16:24:31.922Z"
   },
   {
    "duration": 290,
    "start_time": "2022-06-22T16:24:31.935Z"
   },
   {
    "duration": 32354,
    "start_time": "2022-06-22T16:24:32.226Z"
   },
   {
    "duration": 90,
    "start_time": "2022-06-22T16:25:04.582Z"
   },
   {
    "duration": 66,
    "start_time": "2022-06-22T16:25:04.673Z"
   },
   {
    "duration": 415,
    "start_time": "2022-06-22T18:21:23.006Z"
   },
   {
    "duration": 117,
    "start_time": "2022-06-22T18:21:41.776Z"
   },
   {
    "duration": 157,
    "start_time": "2022-06-22T18:21:52.092Z"
   },
   {
    "duration": 1275,
    "start_time": "2022-06-22T18:26:55.227Z"
   },
   {
    "duration": 50,
    "start_time": "2022-06-22T18:26:56.504Z"
   },
   {
    "duration": 12,
    "start_time": "2022-06-22T18:26:56.555Z"
   },
   {
    "duration": 5,
    "start_time": "2022-06-22T18:26:56.568Z"
   },
   {
    "duration": 171,
    "start_time": "2022-06-22T18:26:56.575Z"
   },
   {
    "duration": 4,
    "start_time": "2022-06-22T18:26:56.748Z"
   },
   {
    "duration": 30,
    "start_time": "2022-06-22T18:26:56.753Z"
   },
   {
    "duration": 167,
    "start_time": "2022-06-22T18:26:56.785Z"
   },
   {
    "duration": 200,
    "start_time": "2022-06-22T18:26:56.953Z"
   },
   {
    "duration": 136,
    "start_time": "2022-06-22T18:26:57.155Z"
   },
   {
    "duration": 142,
    "start_time": "2022-06-22T18:26:57.293Z"
   },
   {
    "duration": 19,
    "start_time": "2022-06-22T18:26:57.436Z"
   },
   {
    "duration": 96,
    "start_time": "2022-06-22T18:26:57.457Z"
   },
   {
    "duration": 39,
    "start_time": "2022-06-22T18:26:57.569Z"
   },
   {
    "duration": 438,
    "start_time": "2022-06-22T18:26:57.610Z"
   },
   {
    "duration": 56464,
    "start_time": "2022-06-22T18:26:58.050Z"
   },
   {
    "duration": 161,
    "start_time": "2022-06-22T18:27:54.515Z"
   },
   {
    "duration": 649,
    "start_time": "2022-06-22T18:27:54.679Z"
   },
   {
    "duration": 56102,
    "start_time": "2022-06-22T18:27:55.329Z"
   },
   {
    "duration": 14,
    "start_time": "2022-06-22T18:28:51.433Z"
   },
   {
    "duration": 577,
    "start_time": "2022-06-22T18:28:51.448Z"
   },
   {
    "duration": 76751,
    "start_time": "2022-06-22T18:28:52.027Z"
   },
   {
    "duration": 11,
    "start_time": "2022-06-22T18:30:08.779Z"
   },
   {
    "duration": 267,
    "start_time": "2022-06-22T18:30:08.792Z"
   },
   {
    "duration": 33101,
    "start_time": "2022-06-22T18:30:09.068Z"
   },
   {
    "duration": 82,
    "start_time": "2022-06-22T18:30:42.171Z"
   },
   {
    "duration": 71,
    "start_time": "2022-06-22T18:30:42.268Z"
   },
   {
    "duration": 1368,
    "start_time": "2022-06-22T18:33:55.976Z"
   },
   {
    "duration": 51,
    "start_time": "2022-06-22T18:33:57.346Z"
   },
   {
    "duration": 14,
    "start_time": "2022-06-22T18:33:57.399Z"
   },
   {
    "duration": 6,
    "start_time": "2022-06-22T18:33:57.416Z"
   },
   {
    "duration": 217,
    "start_time": "2022-06-22T18:33:57.424Z"
   },
   {
    "duration": 4,
    "start_time": "2022-06-22T18:33:57.643Z"
   },
   {
    "duration": 27,
    "start_time": "2022-06-22T18:33:57.649Z"
   },
   {
    "duration": 168,
    "start_time": "2022-06-22T18:33:57.678Z"
   },
   {
    "duration": 205,
    "start_time": "2022-06-22T18:33:57.849Z"
   },
   {
    "duration": 139,
    "start_time": "2022-06-22T18:33:58.056Z"
   },
   {
    "duration": 145,
    "start_time": "2022-06-22T18:33:58.196Z"
   },
   {
    "duration": 30,
    "start_time": "2022-06-22T18:33:58.343Z"
   },
   {
    "duration": 107,
    "start_time": "2022-06-22T18:33:58.375Z"
   },
   {
    "duration": 38,
    "start_time": "2022-06-22T18:33:58.483Z"
   },
   {
    "duration": 503,
    "start_time": "2022-06-22T18:33:58.523Z"
   },
   {
    "duration": 55923,
    "start_time": "2022-06-22T18:33:59.029Z"
   },
   {
    "duration": 34,
    "start_time": "2022-06-22T18:34:54.954Z"
   },
   {
    "duration": 626,
    "start_time": "2022-06-22T18:34:54.990Z"
   },
   {
    "duration": 56969,
    "start_time": "2022-06-22T18:34:55.618Z"
   },
   {
    "duration": 15,
    "start_time": "2022-06-22T18:35:52.589Z"
   },
   {
    "duration": 552,
    "start_time": "2022-06-22T18:35:52.606Z"
   },
   {
    "duration": 76812,
    "start_time": "2022-06-22T18:35:53.160Z"
   },
   {
    "duration": 13,
    "start_time": "2022-06-22T18:37:09.974Z"
   },
   {
    "duration": 234,
    "start_time": "2022-06-22T18:37:09.989Z"
   },
   {
    "duration": 31370,
    "start_time": "2022-06-22T18:37:10.225Z"
   },
   {
    "duration": 87,
    "start_time": "2022-06-22T18:37:41.597Z"
   },
   {
    "duration": 60,
    "start_time": "2022-06-22T18:37:41.685Z"
   },
   {
    "duration": 1758,
    "start_time": "2022-06-23T06:02:15.387Z"
   },
   {
    "duration": 88,
    "start_time": "2022-06-23T06:02:17.148Z"
   },
   {
    "duration": 14,
    "start_time": "2022-06-23T06:02:17.238Z"
   },
   {
    "duration": 5,
    "start_time": "2022-06-23T06:02:17.254Z"
   },
   {
    "duration": 210,
    "start_time": "2022-06-23T06:02:17.260Z"
   },
   {
    "duration": 6,
    "start_time": "2022-06-23T06:02:17.472Z"
   },
   {
    "duration": 1543,
    "start_time": "2022-06-23T06:14:22.441Z"
   },
   {
    "duration": 56,
    "start_time": "2022-06-23T06:14:23.986Z"
   },
   {
    "duration": 15,
    "start_time": "2022-06-23T06:14:24.044Z"
   },
   {
    "duration": 6,
    "start_time": "2022-06-23T06:14:24.062Z"
   },
   {
    "duration": 218,
    "start_time": "2022-06-23T06:14:24.069Z"
   },
   {
    "duration": 5,
    "start_time": "2022-06-23T06:14:24.289Z"
   },
   {
    "duration": 4,
    "start_time": "2022-06-23T06:31:47.353Z"
   },
   {
    "duration": 56,
    "start_time": "2022-06-23T06:31:47.359Z"
   },
   {
    "duration": 13,
    "start_time": "2022-06-23T06:31:47.417Z"
   },
   {
    "duration": 10,
    "start_time": "2022-06-23T06:31:47.431Z"
   },
   {
    "duration": 173,
    "start_time": "2022-06-23T06:31:47.443Z"
   },
   {
    "duration": 5,
    "start_time": "2022-06-23T06:31:47.618Z"
   },
   {
    "duration": 135,
    "start_time": "2022-06-23T06:31:49.201Z"
   },
   {
    "duration": 140,
    "start_time": "2022-06-23T06:32:00.590Z"
   },
   {
    "duration": 143,
    "start_time": "2022-06-23T06:32:04.618Z"
   },
   {
    "duration": 7,
    "start_time": "2022-06-23T06:35:33.066Z"
   },
   {
    "duration": 181,
    "start_time": "2022-06-23T09:45:38.004Z"
   },
   {
    "duration": 4,
    "start_time": "2022-06-23T09:45:42.958Z"
   },
   {
    "duration": 61,
    "start_time": "2022-06-23T09:45:42.965Z"
   },
   {
    "duration": 92,
    "start_time": "2022-06-23T09:45:43.028Z"
   },
   {
    "duration": 5,
    "start_time": "2022-06-23T09:45:43.123Z"
   },
   {
    "duration": 189,
    "start_time": "2022-06-23T09:45:43.130Z"
   },
   {
    "duration": 6,
    "start_time": "2022-06-23T09:45:43.321Z"
   },
   {
    "duration": 152,
    "start_time": "2022-06-23T09:45:43.329Z"
   },
   {
    "duration": 15,
    "start_time": "2022-06-23T09:45:43.483Z"
   },
   {
    "duration": 220,
    "start_time": "2022-06-23T09:45:43.500Z"
   },
   {
    "duration": 6,
    "start_time": "2022-06-23T09:45:43.722Z"
   },
   {
    "duration": 211,
    "start_time": "2022-06-23T09:45:43.730Z"
   },
   {
    "duration": 152,
    "start_time": "2022-06-23T09:45:43.952Z"
   },
   {
    "duration": 151,
    "start_time": "2022-06-23T09:45:44.106Z"
   },
   {
    "duration": 18,
    "start_time": "2022-06-23T09:45:44.259Z"
   },
   {
    "duration": 19,
    "start_time": "2022-06-23T09:45:44.279Z"
   },
   {
    "duration": 65,
    "start_time": "2022-06-23T09:45:44.300Z"
   },
   {
    "duration": 482,
    "start_time": "2022-06-23T09:45:44.367Z"
   },
   {
    "duration": 509,
    "start_time": "2022-06-23T09:45:46.599Z"
   },
   {
    "duration": 11,
    "start_time": "2022-06-23T09:45:59.068Z"
   },
   {
    "duration": 30,
    "start_time": "2022-06-23T09:48:30.340Z"
   },
   {
    "duration": 169,
    "start_time": "2022-06-23T09:48:38.789Z"
   },
   {
    "duration": 133,
    "start_time": "2022-06-23T09:48:59.356Z"
   },
   {
    "duration": 14,
    "start_time": "2022-06-23T09:49:39.107Z"
   },
   {
    "duration": 6,
    "start_time": "2022-06-23T09:49:49.225Z"
   },
   {
    "duration": 532,
    "start_time": "2022-06-23T09:50:10.970Z"
   },
   {
    "duration": 176,
    "start_time": "2022-06-23T09:50:18.491Z"
   },
   {
    "duration": 727,
    "start_time": "2022-06-23T09:50:49.805Z"
   },
   {
    "duration": 741,
    "start_time": "2022-06-23T09:51:04.732Z"
   },
   {
    "duration": 680,
    "start_time": "2022-06-23T09:51:08.893Z"
   },
   {
    "duration": 766,
    "start_time": "2022-06-23T09:51:27.511Z"
   },
   {
    "duration": 111,
    "start_time": "2022-06-23T10:03:10.718Z"
   },
   {
    "duration": 81,
    "start_time": "2022-06-23T10:16:08.931Z"
   },
   {
    "duration": 1909,
    "start_time": "2022-06-23T19:13:40.119Z"
   },
   {
    "duration": 244,
    "start_time": "2022-06-23T19:13:44.270Z"
   },
   {
    "duration": 14,
    "start_time": "2022-06-23T19:13:51.189Z"
   },
   {
    "duration": 6,
    "start_time": "2022-06-23T19:13:58.099Z"
   },
   {
    "duration": 208,
    "start_time": "2022-06-23T19:13:58.107Z"
   },
   {
    "duration": 1572,
    "start_time": "2022-06-24T10:16:03.522Z"
   },
   {
    "duration": 189,
    "start_time": "2022-06-24T10:16:13.253Z"
   },
   {
    "duration": 14,
    "start_time": "2022-06-24T10:16:15.772Z"
   },
   {
    "duration": 6,
    "start_time": "2022-06-24T10:16:19.113Z"
   },
   {
    "duration": 154,
    "start_time": "2022-06-24T10:16:19.949Z"
   },
   {
    "duration": 3,
    "start_time": "2022-06-24T10:16:39.103Z"
   },
   {
    "duration": 50,
    "start_time": "2022-06-24T10:16:57.328Z"
   },
   {
    "duration": 15,
    "start_time": "2022-06-24T10:16:59.116Z"
   },
   {
    "duration": 6,
    "start_time": "2022-06-24T10:17:04.614Z"
   },
   {
    "duration": 173,
    "start_time": "2022-06-24T10:17:06.206Z"
   },
   {
    "duration": 6,
    "start_time": "2022-06-24T10:17:36.182Z"
   },
   {
    "duration": 129,
    "start_time": "2022-06-24T10:17:37.979Z"
   },
   {
    "duration": 202,
    "start_time": "2022-06-24T10:17:46.121Z"
   },
   {
    "duration": 6,
    "start_time": "2022-06-24T10:18:13.408Z"
   },
   {
    "duration": 136,
    "start_time": "2022-06-24T10:18:14.669Z"
   },
   {
    "duration": 3,
    "start_time": "2022-06-24T10:19:13.804Z"
   },
   {
    "duration": 4,
    "start_time": "2022-06-24T10:19:14.904Z"
   },
   {
    "duration": 3,
    "start_time": "2022-06-24T10:19:15.375Z"
   },
   {
    "duration": 4,
    "start_time": "2022-06-24T10:19:15.817Z"
   },
   {
    "duration": 5,
    "start_time": "2022-06-24T10:19:16.188Z"
   },
   {
    "duration": 3,
    "start_time": "2022-06-24T10:19:16.665Z"
   },
   {
    "duration": 4,
    "start_time": "2022-06-24T10:19:17.174Z"
   },
   {
    "duration": 4,
    "start_time": "2022-06-24T10:19:17.640Z"
   },
   {
    "duration": 3,
    "start_time": "2022-06-24T10:19:17.996Z"
   },
   {
    "duration": 3,
    "start_time": "2022-06-24T10:19:18.321Z"
   },
   {
    "duration": 4,
    "start_time": "2022-06-24T10:19:18.671Z"
   },
   {
    "duration": 4,
    "start_time": "2022-06-24T10:19:19.130Z"
   },
   {
    "duration": 4,
    "start_time": "2022-06-24T10:19:19.584Z"
   },
   {
    "duration": 3,
    "start_time": "2022-06-24T10:19:19.816Z"
   },
   {
    "duration": 4,
    "start_time": "2022-06-24T10:19:20.069Z"
   },
   {
    "duration": 3,
    "start_time": "2022-06-24T10:19:20.455Z"
   },
   {
    "duration": 4,
    "start_time": "2022-06-24T10:19:20.806Z"
   },
   {
    "duration": 4,
    "start_time": "2022-06-24T10:19:21.205Z"
   },
   {
    "duration": 4,
    "start_time": "2022-06-24T10:19:21.590Z"
   },
   {
    "duration": 3,
    "start_time": "2022-06-24T10:19:21.991Z"
   },
   {
    "duration": 3,
    "start_time": "2022-06-24T10:19:22.281Z"
   },
   {
    "duration": 4,
    "start_time": "2022-06-24T10:19:22.910Z"
   },
   {
    "duration": 186,
    "start_time": "2022-06-24T10:19:24.470Z"
   },
   {
    "duration": 131,
    "start_time": "2022-06-24T10:19:25.274Z"
   },
   {
    "duration": 124,
    "start_time": "2022-06-24T10:19:25.894Z"
   },
   {
    "duration": 4,
    "start_time": "2022-06-24T10:21:41.426Z"
   },
   {
    "duration": 44,
    "start_time": "2022-06-24T10:21:43.008Z"
   },
   {
    "duration": 12,
    "start_time": "2022-06-24T10:21:44.529Z"
   },
   {
    "duration": 5,
    "start_time": "2022-06-24T10:21:47.176Z"
   },
   {
    "duration": 144,
    "start_time": "2022-06-24T10:21:48.355Z"
   },
   {
    "duration": 4,
    "start_time": "2022-06-24T10:21:51.089Z"
   },
   {
    "duration": 150,
    "start_time": "2022-06-24T10:21:53.214Z"
   },
   {
    "duration": 3,
    "start_time": "2022-06-24T10:21:58.411Z"
   },
   {
    "duration": 124,
    "start_time": "2022-06-24T10:21:59.627Z"
   },
   {
    "duration": 151,
    "start_time": "2022-06-24T10:22:10.968Z"
   },
   {
    "duration": 45,
    "start_time": "2022-06-24T10:22:25.347Z"
   },
   {
    "duration": 7,
    "start_time": "2022-06-24T10:22:28.600Z"
   },
   {
    "duration": 141,
    "start_time": "2022-06-24T10:22:29.422Z"
   },
   {
    "duration": 6,
    "start_time": "2022-06-24T10:22:32.928Z"
   },
   {
    "duration": 139,
    "start_time": "2022-06-24T10:22:34.158Z"
   },
   {
    "duration": 3,
    "start_time": "2022-06-24T10:32:12.774Z"
   },
   {
    "duration": 5,
    "start_time": "2022-06-24T10:33:35.335Z"
   },
   {
    "duration": 48,
    "start_time": "2022-06-24T10:33:41.362Z"
   },
   {
    "duration": 6,
    "start_time": "2022-06-24T10:33:45.313Z"
   },
   {
    "duration": 118,
    "start_time": "2022-06-24T10:33:46.582Z"
   },
   {
    "duration": 105,
    "start_time": "2022-06-24T10:34:34.209Z"
   },
   {
    "duration": 90,
    "start_time": "2022-06-24T10:34:41.216Z"
   },
   {
    "duration": 46,
    "start_time": "2022-06-24T10:35:03.847Z"
   },
   {
    "duration": 14,
    "start_time": "2022-06-24T10:35:07.588Z"
   },
   {
    "duration": 5,
    "start_time": "2022-06-24T10:35:23.784Z"
   },
   {
    "duration": 116,
    "start_time": "2022-06-24T10:35:26.488Z"
   },
   {
    "duration": 6,
    "start_time": "2022-06-24T10:36:15.075Z"
   },
   {
    "duration": 46,
    "start_time": "2022-06-24T10:36:23.682Z"
   },
   {
    "duration": 20,
    "start_time": "2022-06-24T10:36:32.171Z"
   },
   {
    "duration": 35,
    "start_time": "2022-06-24T10:36:44.380Z"
   },
   {
    "duration": 7,
    "start_time": "2022-06-24T10:36:51.544Z"
   },
   {
    "duration": 119,
    "start_time": "2022-06-24T10:36:52.208Z"
   },
   {
    "duration": 9,
    "start_time": "2022-06-24T10:37:04.433Z"
   },
   {
    "duration": 6,
    "start_time": "2022-06-24T10:37:07.284Z"
   },
   {
    "duration": 9,
    "start_time": "2022-06-24T10:37:08.532Z"
   },
   {
    "duration": 54,
    "start_time": "2022-06-24T10:37:25.873Z"
   },
   {
    "duration": 30,
    "start_time": "2022-06-24T10:37:30.382Z"
   },
   {
    "duration": 24,
    "start_time": "2022-06-24T10:37:36.918Z"
   },
   {
    "duration": 67,
    "start_time": "2022-06-24T10:37:47.865Z"
   },
   {
    "duration": 17,
    "start_time": "2022-06-24T10:38:24.517Z"
   },
   {
    "duration": 6,
    "start_time": "2022-06-24T10:38:36.140Z"
   },
   {
    "duration": 115,
    "start_time": "2022-06-24T10:38:38.368Z"
   },
   {
    "duration": 5,
    "start_time": "2022-06-24T10:40:10.316Z"
   },
   {
    "duration": 142,
    "start_time": "2022-06-24T10:41:14.450Z"
   },
   {
    "duration": 154,
    "start_time": "2022-06-24T10:41:37.608Z"
   },
   {
    "duration": 205,
    "start_time": "2022-06-24T10:41:45.932Z"
   },
   {
    "duration": 120,
    "start_time": "2022-06-24T10:41:51.784Z"
   },
   {
    "duration": 118,
    "start_time": "2022-06-24T10:41:57.383Z"
   },
   {
    "duration": 3,
    "start_time": "2022-06-24T10:42:26.553Z"
   },
   {
    "duration": 45,
    "start_time": "2022-06-24T10:42:28.131Z"
   },
   {
    "duration": 11,
    "start_time": "2022-06-24T10:42:29.627Z"
   },
   {
    "duration": 6,
    "start_time": "2022-06-24T10:42:32.521Z"
   },
   {
    "duration": 171,
    "start_time": "2022-06-24T10:42:33.624Z"
   },
   {
    "duration": 5,
    "start_time": "2022-06-24T10:42:36.421Z"
   },
   {
    "duration": 121,
    "start_time": "2022-06-24T10:42:38.179Z"
   },
   {
    "duration": 12,
    "start_time": "2022-06-24T10:42:40.202Z"
   },
   {
    "duration": 162,
    "start_time": "2022-06-24T10:42:45.728Z"
   },
   {
    "duration": 5,
    "start_time": "2022-06-24T10:43:25.130Z"
   },
   {
    "duration": 12,
    "start_time": "2022-06-24T10:43:36.173Z"
   },
   {
    "duration": 9,
    "start_time": "2022-06-24T10:43:45.786Z"
   },
   {
    "duration": 1419,
    "start_time": "2022-06-24T10:54:12.753Z"
   },
   {
    "duration": 77,
    "start_time": "2022-06-24T10:54:16.483Z"
   },
   {
    "duration": 13,
    "start_time": "2022-06-24T10:54:17.813Z"
   },
   {
    "duration": 14,
    "start_time": "2022-06-24T10:54:20.824Z"
   },
   {
    "duration": 155,
    "start_time": "2022-06-24T10:54:21.529Z"
   },
   {
    "duration": 5,
    "start_time": "2022-06-24T10:54:23.995Z"
   },
   {
    "duration": 177,
    "start_time": "2022-06-24T10:54:25.995Z"
   },
   {
    "duration": 22,
    "start_time": "2022-06-24T10:54:27.517Z"
   },
   {
    "duration": 166,
    "start_time": "2022-06-24T10:54:29.195Z"
   },
   {
    "duration": 6,
    "start_time": "2022-06-24T10:54:31.409Z"
   },
   {
    "duration": 198,
    "start_time": "2022-06-24T10:54:32.742Z"
   },
   {
    "duration": 114,
    "start_time": "2022-06-24T10:54:42.603Z"
   },
   {
    "duration": 186,
    "start_time": "2022-06-24T10:54:44.692Z"
   },
   {
    "duration": 16,
    "start_time": "2022-06-24T10:54:47.211Z"
   },
   {
    "duration": 15,
    "start_time": "2022-06-24T10:54:49.594Z"
   },
   {
    "duration": 44,
    "start_time": "2022-06-24T10:54:53.396Z"
   },
   {
    "duration": 455,
    "start_time": "2022-06-24T10:54:59.440Z"
   },
   {
    "duration": 645,
    "start_time": "2022-06-24T10:55:06.640Z"
   },
   {
    "duration": 54912,
    "start_time": "2022-06-24T10:55:09.624Z"
   },
   {
    "duration": 95,
    "start_time": "2022-06-24T10:56:04.538Z"
   },
   {
    "duration": 129,
    "start_time": "2022-06-24T11:00:53.605Z"
   },
   {
    "duration": 509,
    "start_time": "2022-06-24T11:01:02.520Z"
   },
   {
    "duration": 59033,
    "start_time": "2022-06-24T11:01:06.776Z"
   },
   {
    "duration": 13,
    "start_time": "2022-06-24T11:04:01.799Z"
   },
   {
    "duration": 14,
    "start_time": "2022-06-24T11:05:58.284Z"
   },
   {
    "duration": 106,
    "start_time": "2022-06-24T11:06:48.915Z"
   },
   {
    "duration": 93,
    "start_time": "2022-06-24T11:07:28.844Z"
   },
   {
    "duration": 124,
    "start_time": "2022-06-24T11:07:43.348Z"
   },
   {
    "duration": 109,
    "start_time": "2022-06-24T11:08:44.143Z"
   },
   {
    "duration": 124,
    "start_time": "2022-06-24T11:09:02.724Z"
   },
   {
    "duration": 566,
    "start_time": "2022-06-24T11:12:02.873Z"
   },
   {
    "duration": 78053,
    "start_time": "2022-06-24T11:12:07.125Z"
   },
   {
    "duration": 62,
    "start_time": "2022-06-24T11:15:15.773Z"
   },
   {
    "duration": 30,
    "start_time": "2022-06-24T11:15:44.741Z"
   },
   {
    "duration": 228,
    "start_time": "2022-06-24T11:19:48.618Z"
   },
   {
    "duration": 31313,
    "start_time": "2022-06-24T11:19:50.971Z"
   },
   {
    "duration": 30,
    "start_time": "2022-06-24T11:20:40.540Z"
   },
   {
    "duration": 19,
    "start_time": "2022-06-24T11:20:58.428Z"
   },
   {
    "duration": 47,
    "start_time": "2022-06-24T11:22:54.245Z"
   },
   {
    "duration": 67,
    "start_time": "2022-06-24T11:22:57.571Z"
   },
   {
    "duration": 1406,
    "start_time": "2022-06-24T11:23:15.954Z"
   },
   {
    "duration": 50,
    "start_time": "2022-06-24T11:23:17.362Z"
   },
   {
    "duration": 17,
    "start_time": "2022-06-24T11:23:17.414Z"
   },
   {
    "duration": 9,
    "start_time": "2022-06-24T11:23:17.433Z"
   },
   {
    "duration": 181,
    "start_time": "2022-06-24T11:23:17.443Z"
   },
   {
    "duration": 8,
    "start_time": "2022-06-24T11:23:17.626Z"
   },
   {
    "duration": 134,
    "start_time": "2022-06-24T11:23:17.636Z"
   },
   {
    "duration": 18,
    "start_time": "2022-06-24T11:23:17.772Z"
   },
   {
    "duration": 221,
    "start_time": "2022-06-24T11:23:17.791Z"
   },
   {
    "duration": 16,
    "start_time": "2022-06-24T11:23:18.015Z"
   },
   {
    "duration": 21,
    "start_time": "2022-06-24T11:23:18.033Z"
   },
   {
    "duration": 192,
    "start_time": "2022-06-24T11:23:18.056Z"
   },
   {
    "duration": 137,
    "start_time": "2022-06-24T11:23:18.250Z"
   },
   {
    "duration": 215,
    "start_time": "2022-06-24T11:23:18.388Z"
   },
   {
    "duration": 27,
    "start_time": "2022-06-24T11:23:18.604Z"
   },
   {
    "duration": 16,
    "start_time": "2022-06-24T11:23:18.633Z"
   },
   {
    "duration": 39,
    "start_time": "2022-06-24T11:23:18.651Z"
   },
   {
    "duration": 479,
    "start_time": "2022-06-24T11:23:18.693Z"
   },
   {
    "duration": 659,
    "start_time": "2022-06-24T11:23:19.173Z"
   },
   {
    "duration": 57592,
    "start_time": "2022-06-24T11:23:19.834Z"
   },
   {
    "duration": 203,
    "start_time": "2022-06-24T11:24:17.430Z"
   },
   {
    "duration": 534,
    "start_time": "2022-06-24T11:24:17.635Z"
   },
   {
    "duration": 57401,
    "start_time": "2022-06-24T11:24:18.171Z"
   },
   {
    "duration": 174,
    "start_time": "2022-06-24T11:25:15.574Z"
   },
   {
    "duration": 280,
    "start_time": "2022-06-24T11:25:15.752Z"
   },
   {
    "duration": 624,
    "start_time": "2022-06-24T11:25:16.045Z"
   },
   {
    "duration": 80373,
    "start_time": "2022-06-24T11:25:16.671Z"
   },
   {
    "duration": 100,
    "start_time": "2022-06-24T11:26:37.047Z"
   },
   {
    "duration": 207,
    "start_time": "2022-06-24T11:26:37.149Z"
   },
   {
    "duration": 238,
    "start_time": "2022-06-24T11:26:37.359Z"
   },
   {
    "duration": 32847,
    "start_time": "2022-06-24T11:26:37.599Z"
   },
   {
    "duration": 81,
    "start_time": "2022-06-24T11:27:10.451Z"
   },
   {
    "duration": 151,
    "start_time": "2022-06-24T11:27:10.544Z"
   },
   {
    "duration": 76,
    "start_time": "2022-06-24T11:27:10.697Z"
   }
  ],
  "kernelspec": {
   "display_name": "Python 3 (ipykernel)",
   "language": "python",
   "name": "python3"
  },
  "language_info": {
   "codemirror_mode": {
    "name": "ipython",
    "version": 3
   },
   "file_extension": ".py",
   "mimetype": "text/x-python",
   "name": "python",
   "nbconvert_exporter": "python",
   "pygments_lexer": "ipython3",
   "version": "3.9.12"
  },
  "toc": {
   "base_numbering": 1,
   "nav_menu": {},
   "number_sections": true,
   "sideBar": true,
   "skip_h1_title": true,
   "title_cell": "Содержание",
   "title_sidebar": "Contents",
   "toc_cell": true,
   "toc_position": {
    "height": "calc(100% - 180px)",
    "left": "10px",
    "top": "150px",
    "width": "165px"
   },
   "toc_section_display": true,
   "toc_window_display": true
  }
 },
 "nbformat": 4,
 "nbformat_minor": 2
}
