{
 "cells": [
  {
   "cell_type": "markdown",
   "metadata": {},
   "source": [
    "# Исследование успешности компьютерных игр"
   ]
  },
  {
   "cell_type": "markdown",
   "metadata": {},
   "source": [
    "Интернет-магазин \"Стримчик\" продает компьютерные игры по всему миру. Из открытых источников доступны исторические данные о продажах игр, оценки пользователей и экспертов, жанры и платформы (например, Xbox или PlayStation). Нужно выявить определяющие успешность игры закономерности. Это позволит сделать ставку на потенциально популярный продукт и спланировать рекламные кампании.\n",
    "\n",
    "**Цель работы:** выявить определяющие успешность игры закономерности, спланировать кампанию на 2017 год на основании данных за 2016 год. \n",
    "\n",
    "**Ход исследования:**\n",
    "1. Обзор данных\n",
    "2. Подготовка данных:\n",
    "   * Переименование столбцов;\n",
    "   * Обработка пропусков;\n",
    "   * Замена типов данных;\n",
    "   * Расчет суммарных продаж\n",
    "3. Исследовательский анализ данных\n",
    "4. Составление портрета пользователя каждого региона:\n",
    "   * Определение топ-5 самых популярных платформ;\n",
    "   * Определение топ-5 самых популярных жанров;\n",
    "   * Изучение влияния рейтинга ESRB на продажи\n",
    "5. Проверка гипотез:\n",
    "   * Средние пользовательские рейтинги платформ Xbox One и PC одинаковые;\n",
    "   * Средние пользовательские рейтинги жанров Action и Sports разные."
   ]
  },
  {
   "cell_type": "markdown",
   "metadata": {},
   "source": [
    "## Обзор данных"
   ]
  },
  {
   "cell_type": "markdown",
   "metadata": {},
   "source": [
    "Откроем предоставленный файл и изучим данные в нем."
   ]
  },
  {
   "cell_type": "code",
   "execution_count": 1,
   "metadata": {},
   "outputs": [],
   "source": [
    "#импорт библиотек \n",
    "import pandas as pd\n",
    "import numpy as np\n",
    "import matplotlib.pyplot as plt\n",
    "import seaborn as sns"
   ]
  },
  {
   "cell_type": "code",
   "execution_count": 2,
   "metadata": {},
   "outputs": [
    {
     "data": {
      "text/html": [
       "<div>\n",
       "<style scoped>\n",
       "    .dataframe tbody tr th:only-of-type {\n",
       "        vertical-align: middle;\n",
       "    }\n",
       "\n",
       "    .dataframe tbody tr th {\n",
       "        vertical-align: top;\n",
       "    }\n",
       "\n",
       "    .dataframe thead th {\n",
       "        text-align: right;\n",
       "    }\n",
       "</style>\n",
       "<table border=\"1\" class=\"dataframe\">\n",
       "  <thead>\n",
       "    <tr style=\"text-align: right;\">\n",
       "      <th></th>\n",
       "      <th>Name</th>\n",
       "      <th>Platform</th>\n",
       "      <th>Year_of_Release</th>\n",
       "      <th>Genre</th>\n",
       "      <th>NA_sales</th>\n",
       "      <th>EU_sales</th>\n",
       "      <th>JP_sales</th>\n",
       "      <th>Other_sales</th>\n",
       "      <th>Critic_Score</th>\n",
       "      <th>User_Score</th>\n",
       "      <th>Rating</th>\n",
       "    </tr>\n",
       "  </thead>\n",
       "  <tbody>\n",
       "    <tr>\n",
       "      <th>0</th>\n",
       "      <td>Wii Sports</td>\n",
       "      <td>Wii</td>\n",
       "      <td>2006.0</td>\n",
       "      <td>Sports</td>\n",
       "      <td>41.36</td>\n",
       "      <td>28.96</td>\n",
       "      <td>3.77</td>\n",
       "      <td>8.45</td>\n",
       "      <td>76.0</td>\n",
       "      <td>8</td>\n",
       "      <td>E</td>\n",
       "    </tr>\n",
       "    <tr>\n",
       "      <th>1</th>\n",
       "      <td>Super Mario Bros.</td>\n",
       "      <td>NES</td>\n",
       "      <td>1985.0</td>\n",
       "      <td>Platform</td>\n",
       "      <td>29.08</td>\n",
       "      <td>3.58</td>\n",
       "      <td>6.81</td>\n",
       "      <td>0.77</td>\n",
       "      <td>NaN</td>\n",
       "      <td>NaN</td>\n",
       "      <td>NaN</td>\n",
       "    </tr>\n",
       "    <tr>\n",
       "      <th>2</th>\n",
       "      <td>Mario Kart Wii</td>\n",
       "      <td>Wii</td>\n",
       "      <td>2008.0</td>\n",
       "      <td>Racing</td>\n",
       "      <td>15.68</td>\n",
       "      <td>12.76</td>\n",
       "      <td>3.79</td>\n",
       "      <td>3.29</td>\n",
       "      <td>82.0</td>\n",
       "      <td>8.3</td>\n",
       "      <td>E</td>\n",
       "    </tr>\n",
       "    <tr>\n",
       "      <th>3</th>\n",
       "      <td>Wii Sports Resort</td>\n",
       "      <td>Wii</td>\n",
       "      <td>2009.0</td>\n",
       "      <td>Sports</td>\n",
       "      <td>15.61</td>\n",
       "      <td>10.93</td>\n",
       "      <td>3.28</td>\n",
       "      <td>2.95</td>\n",
       "      <td>80.0</td>\n",
       "      <td>8</td>\n",
       "      <td>E</td>\n",
       "    </tr>\n",
       "    <tr>\n",
       "      <th>4</th>\n",
       "      <td>Pokemon Red/Pokemon Blue</td>\n",
       "      <td>GB</td>\n",
       "      <td>1996.0</td>\n",
       "      <td>Role-Playing</td>\n",
       "      <td>11.27</td>\n",
       "      <td>8.89</td>\n",
       "      <td>10.22</td>\n",
       "      <td>1.00</td>\n",
       "      <td>NaN</td>\n",
       "      <td>NaN</td>\n",
       "      <td>NaN</td>\n",
       "    </tr>\n",
       "    <tr>\n",
       "      <th>5</th>\n",
       "      <td>Tetris</td>\n",
       "      <td>GB</td>\n",
       "      <td>1989.0</td>\n",
       "      <td>Puzzle</td>\n",
       "      <td>23.20</td>\n",
       "      <td>2.26</td>\n",
       "      <td>4.22</td>\n",
       "      <td>0.58</td>\n",
       "      <td>NaN</td>\n",
       "      <td>NaN</td>\n",
       "      <td>NaN</td>\n",
       "    </tr>\n",
       "    <tr>\n",
       "      <th>6</th>\n",
       "      <td>New Super Mario Bros.</td>\n",
       "      <td>DS</td>\n",
       "      <td>2006.0</td>\n",
       "      <td>Platform</td>\n",
       "      <td>11.28</td>\n",
       "      <td>9.14</td>\n",
       "      <td>6.50</td>\n",
       "      <td>2.88</td>\n",
       "      <td>89.0</td>\n",
       "      <td>8.5</td>\n",
       "      <td>E</td>\n",
       "    </tr>\n",
       "    <tr>\n",
       "      <th>7</th>\n",
       "      <td>Wii Play</td>\n",
       "      <td>Wii</td>\n",
       "      <td>2006.0</td>\n",
       "      <td>Misc</td>\n",
       "      <td>13.96</td>\n",
       "      <td>9.18</td>\n",
       "      <td>2.93</td>\n",
       "      <td>2.84</td>\n",
       "      <td>58.0</td>\n",
       "      <td>6.6</td>\n",
       "      <td>E</td>\n",
       "    </tr>\n",
       "    <tr>\n",
       "      <th>8</th>\n",
       "      <td>New Super Mario Bros. Wii</td>\n",
       "      <td>Wii</td>\n",
       "      <td>2009.0</td>\n",
       "      <td>Platform</td>\n",
       "      <td>14.44</td>\n",
       "      <td>6.94</td>\n",
       "      <td>4.70</td>\n",
       "      <td>2.24</td>\n",
       "      <td>87.0</td>\n",
       "      <td>8.4</td>\n",
       "      <td>E</td>\n",
       "    </tr>\n",
       "    <tr>\n",
       "      <th>9</th>\n",
       "      <td>Duck Hunt</td>\n",
       "      <td>NES</td>\n",
       "      <td>1984.0</td>\n",
       "      <td>Shooter</td>\n",
       "      <td>26.93</td>\n",
       "      <td>0.63</td>\n",
       "      <td>0.28</td>\n",
       "      <td>0.47</td>\n",
       "      <td>NaN</td>\n",
       "      <td>NaN</td>\n",
       "      <td>NaN</td>\n",
       "    </tr>\n",
       "  </tbody>\n",
       "</table>\n",
       "</div>"
      ],
      "text/plain": [
       "                        Name Platform  Year_of_Release         Genre  \\\n",
       "0                 Wii Sports      Wii           2006.0        Sports   \n",
       "1          Super Mario Bros.      NES           1985.0      Platform   \n",
       "2             Mario Kart Wii      Wii           2008.0        Racing   \n",
       "3          Wii Sports Resort      Wii           2009.0        Sports   \n",
       "4   Pokemon Red/Pokemon Blue       GB           1996.0  Role-Playing   \n",
       "5                     Tetris       GB           1989.0        Puzzle   \n",
       "6      New Super Mario Bros.       DS           2006.0      Platform   \n",
       "7                   Wii Play      Wii           2006.0          Misc   \n",
       "8  New Super Mario Bros. Wii      Wii           2009.0      Platform   \n",
       "9                  Duck Hunt      NES           1984.0       Shooter   \n",
       "\n",
       "   NA_sales  EU_sales  JP_sales  Other_sales  Critic_Score User_Score Rating  \n",
       "0     41.36     28.96      3.77         8.45          76.0          8      E  \n",
       "1     29.08      3.58      6.81         0.77           NaN        NaN    NaN  \n",
       "2     15.68     12.76      3.79         3.29          82.0        8.3      E  \n",
       "3     15.61     10.93      3.28         2.95          80.0          8      E  \n",
       "4     11.27      8.89     10.22         1.00           NaN        NaN    NaN  \n",
       "5     23.20      2.26      4.22         0.58           NaN        NaN    NaN  \n",
       "6     11.28      9.14      6.50         2.88          89.0        8.5      E  \n",
       "7     13.96      9.18      2.93         2.84          58.0        6.6      E  \n",
       "8     14.44      6.94      4.70         2.24          87.0        8.4      E  \n",
       "9     26.93      0.63      0.28         0.47           NaN        NaN    NaN  "
      ]
     },
     "execution_count": 2,
     "metadata": {},
     "output_type": "execute_result"
    }
   ],
   "source": [
    "#чтение и сохранение данных в переменную data, вывод первых 10 строк на экран\n",
    "data = pd.read_csv('/datasets/games.csv')\n",
    "data.head(10)"
   ]
  },
  {
   "cell_type": "code",
   "execution_count": 3,
   "metadata": {},
   "outputs": [
    {
     "name": "stdout",
     "output_type": "stream",
     "text": [
      "<class 'pandas.core.frame.DataFrame'>\n",
      "RangeIndex: 16715 entries, 0 to 16714\n",
      "Data columns (total 11 columns):\n",
      " #   Column           Non-Null Count  Dtype  \n",
      "---  ------           --------------  -----  \n",
      " 0   Name             16713 non-null  object \n",
      " 1   Platform         16715 non-null  object \n",
      " 2   Year_of_Release  16446 non-null  float64\n",
      " 3   Genre            16713 non-null  object \n",
      " 4   NA_sales         16715 non-null  float64\n",
      " 5   EU_sales         16715 non-null  float64\n",
      " 6   JP_sales         16715 non-null  float64\n",
      " 7   Other_sales      16715 non-null  float64\n",
      " 8   Critic_Score     8137 non-null   float64\n",
      " 9   User_Score       10014 non-null  object \n",
      " 10  Rating           9949 non-null   object \n",
      "dtypes: float64(6), object(5)\n",
      "memory usage: 1.4+ MB\n"
     ]
    }
   ],
   "source": [
    "#информация о данных\n",
    "data.info()"
   ]
  },
  {
   "cell_type": "markdown",
   "metadata": {},
   "source": [
    "Предоставленная таблица состоит из 11 столбцов, согласно документации и полученной информации:\n",
    "* `Name` - название игры, тип данных - `object`;\n",
    "* `Platform` - платформа, тип данных - `object`;\n",
    "* `Year_of_Release` - год выпуска, тип данных - `float`;\n",
    "* `Genre` - жанр игры, тип данных - `object`;\n",
    "* `NA_sales` - продажи в Северной Америке (миллионы проданных копий), тип данных - `float`;\n",
    "* `EU_sales` - продажи в Европе (миллионы проданных копий), тип данных - `float`;\n",
    "* `JP_sales` - продажи в Японии (миллионы проданных копий), тип данных - `float`;\n",
    "* `Other_sales` - продажи в других странах (миллионы проданных копий), тип данных - `float`;\n",
    "* `Critic_Score` - оценка критиков (максимум 100), тип данных - `float`;\n",
    "* `User_Score` - оценка пользователей (максимум 10), тип данных - `object`;\n",
    "* `Rating` - рейтинг от организации ESRB, тип данных - `object`."
   ]
  },
  {
   "cell_type": "markdown",
   "metadata": {},
   "source": [
    "В таблице 16715 записей, в столбцах `Name`, `Year_of_Release`, `Genre`, `Critic_Score`, `User_Score`, `Rating` количество записей отличается от количества записей в таблице, следовательно, в этих столбцах есть пропуски, которые нужно будет обработать. \n",
    "\n",
    "Также нужно будет привести названия столбцов к нижнему регистру. Столбец `Year_of_Release` содержит год релиза, его следует привести к типу `int`. Столбец `User_Score` нужно привести к типу `float`."
   ]
  },
  {
   "cell_type": "markdown",
   "metadata": {},
   "source": [
    "### Вывод"
   ]
  },
  {
   "cell_type": "markdown",
   "metadata": {},
   "source": [
    "На данном этапе был открыт и изучен предоставленный файл.\n",
    "1. Названия столбцов нужно привести к нижнему регистру.\n",
    "2. Столбец `Year_of_Release` следует привести к типу `int`, столбец `User_Score` к типу `float`.\n",
    "3. Также следует нужно обработать пропуски в столбцах `Name`, `Year_of_Release`, `Genre`, `Critic_Score`, `User_Score`, `Rating`."
   ]
  },
  {
   "cell_type": "markdown",
   "metadata": {},
   "source": [
    "## Подготовка данных"
   ]
  },
  {
   "cell_type": "markdown",
   "metadata": {},
   "source": [
    "### Переименование столбцов"
   ]
  },
  {
   "cell_type": "markdown",
   "metadata": {},
   "source": [
    "Приведем все названия столбцов к нижнему регистру."
   ]
  },
  {
   "cell_type": "code",
   "execution_count": 4,
   "metadata": {
    "scrolled": true
   },
   "outputs": [
    {
     "data": {
      "text/plain": [
       "Index(['name', 'platform', 'year_of_release', 'genre', 'na_sales', 'eu_sales',\n",
       "       'jp_sales', 'other_sales', 'critic_score', 'user_score', 'rating'],\n",
       "      dtype='object')"
      ]
     },
     "execution_count": 4,
     "metadata": {},
     "output_type": "execute_result"
    }
   ],
   "source": [
    "#приведение столбцов к нижнему регистру\n",
    "data.columns = data.columns.str.lower()\n",
    "data.columns"
   ]
  },
  {
   "cell_type": "markdown",
   "metadata": {},
   "source": [
    "### Обработка пропусков"
   ]
  },
  {
   "cell_type": "markdown",
   "metadata": {},
   "source": [
    "Обработаем пропуски в столбцах `name`, `year_of_release`, `genre`, `critic_score`, `user_score`, `rating`."
   ]
  },
  {
   "cell_type": "markdown",
   "metadata": {},
   "source": [
    "1. `name`"
   ]
  },
  {
   "cell_type": "markdown",
   "metadata": {},
   "source": [
    "Посмотрим, сколько пропусков в столбце `name`."
   ]
  },
  {
   "cell_type": "code",
   "execution_count": 5,
   "metadata": {
    "scrolled": true
   },
   "outputs": [
    {
     "data": {
      "text/plain": [
       "0.00011965300628178283"
      ]
     },
     "execution_count": 5,
     "metadata": {},
     "output_type": "execute_result"
    }
   ],
   "source": [
    "#доля пропусков в столбце name\n",
    "len(data[data['name'].isna()]) / len(data)"
   ]
  },
  {
   "cell_type": "markdown",
   "metadata": {},
   "source": [
    "Доля пропусков в столбце `name` очень маленькая, посмотрим, что это за строки."
   ]
  },
  {
   "cell_type": "code",
   "execution_count": 6,
   "metadata": {},
   "outputs": [
    {
     "data": {
      "text/html": [
       "<div>\n",
       "<style scoped>\n",
       "    .dataframe tbody tr th:only-of-type {\n",
       "        vertical-align: middle;\n",
       "    }\n",
       "\n",
       "    .dataframe tbody tr th {\n",
       "        vertical-align: top;\n",
       "    }\n",
       "\n",
       "    .dataframe thead th {\n",
       "        text-align: right;\n",
       "    }\n",
       "</style>\n",
       "<table border=\"1\" class=\"dataframe\">\n",
       "  <thead>\n",
       "    <tr style=\"text-align: right;\">\n",
       "      <th></th>\n",
       "      <th>name</th>\n",
       "      <th>platform</th>\n",
       "      <th>year_of_release</th>\n",
       "      <th>genre</th>\n",
       "      <th>na_sales</th>\n",
       "      <th>eu_sales</th>\n",
       "      <th>jp_sales</th>\n",
       "      <th>other_sales</th>\n",
       "      <th>critic_score</th>\n",
       "      <th>user_score</th>\n",
       "      <th>rating</th>\n",
       "    </tr>\n",
       "  </thead>\n",
       "  <tbody>\n",
       "    <tr>\n",
       "      <th>659</th>\n",
       "      <td>NaN</td>\n",
       "      <td>GEN</td>\n",
       "      <td>1993.0</td>\n",
       "      <td>NaN</td>\n",
       "      <td>1.78</td>\n",
       "      <td>0.53</td>\n",
       "      <td>0.00</td>\n",
       "      <td>0.08</td>\n",
       "      <td>NaN</td>\n",
       "      <td>NaN</td>\n",
       "      <td>NaN</td>\n",
       "    </tr>\n",
       "    <tr>\n",
       "      <th>14244</th>\n",
       "      <td>NaN</td>\n",
       "      <td>GEN</td>\n",
       "      <td>1993.0</td>\n",
       "      <td>NaN</td>\n",
       "      <td>0.00</td>\n",
       "      <td>0.00</td>\n",
       "      <td>0.03</td>\n",
       "      <td>0.00</td>\n",
       "      <td>NaN</td>\n",
       "      <td>NaN</td>\n",
       "      <td>NaN</td>\n",
       "    </tr>\n",
       "  </tbody>\n",
       "</table>\n",
       "</div>"
      ],
      "text/plain": [
       "      name platform  year_of_release genre  na_sales  eu_sales  jp_sales  \\\n",
       "659    NaN      GEN           1993.0   NaN      1.78      0.53      0.00   \n",
       "14244  NaN      GEN           1993.0   NaN      0.00      0.00      0.03   \n",
       "\n",
       "       other_sales  critic_score user_score rating  \n",
       "659           0.08           NaN        NaN    NaN  \n",
       "14244         0.00           NaN        NaN    NaN  "
      ]
     },
     "execution_count": 6,
     "metadata": {},
     "output_type": "execute_result"
    }
   ],
   "source": [
    "#строки с пропусками в столбце name\n",
    "data[data['name'].isna()]"
   ]
  },
  {
   "cell_type": "markdown",
   "metadata": {},
   "source": [
    "Кроме пропуска в столбце с названием игры есть пропуски во многих других столбцах, и если у первой игры неплохие значения продаж, то вторая игра довольно малоизестная. Скорее всего, пропуски возникли из-за ошибки при выгрузке или из-за сбоя в системе. Из-за малого количества информации об этих играх, удалим строки с пропусками в столбце `name`."
   ]
  },
  {
   "cell_type": "code",
   "execution_count": 7,
   "metadata": {},
   "outputs": [],
   "source": [
    "#удаление пропусков в столбце name, восстановление индексации\n",
    "data = data.dropna(subset=['name']).reset_index(drop=True)"
   ]
  },
  {
   "cell_type": "markdown",
   "metadata": {},
   "source": [
    "2. `year_of_release`"
   ]
  },
  {
   "cell_type": "markdown",
   "metadata": {},
   "source": [
    "Оценим долю пропусков в столбце `year_of_release`."
   ]
  },
  {
   "cell_type": "code",
   "execution_count": 8,
   "metadata": {},
   "outputs": [
    {
     "data": {
      "text/plain": [
       "0.016095255190570215"
      ]
     },
     "execution_count": 8,
     "metadata": {},
     "output_type": "execute_result"
    }
   ],
   "source": [
    "#доля пропусков в столбце year_of_release\n",
    "len(data[data['year_of_release'].isna()]) / len(data)"
   ]
  },
  {
   "cell_type": "markdown",
   "metadata": {},
   "source": [
    "1.6% пропусков, они могли появиться из-за сбоя в системе или при выгрузке данных. Удалим эти строки."
   ]
  },
  {
   "cell_type": "code",
   "execution_count": 9,
   "metadata": {},
   "outputs": [],
   "source": [
    "#удаление пропусков в столбце year_of_release, восстановление индексации\n",
    "data = data.dropna(subset=['year_of_release']).reset_index(drop=True)"
   ]
  },
  {
   "cell_type": "markdown",
   "metadata": {},
   "source": [
    "3. `genre`"
   ]
  },
  {
   "cell_type": "markdown",
   "metadata": {},
   "source": [
    "Рассмотрим процент пропусков в столбце `genre`."
   ]
  },
  {
   "cell_type": "code",
   "execution_count": 10,
   "metadata": {},
   "outputs": [
    {
     "data": {
      "text/plain": [
       "0.0"
      ]
     },
     "execution_count": 10,
     "metadata": {},
     "output_type": "execute_result"
    }
   ],
   "source": [
    "#доля пропусков в столбце genre\n",
    "len(data[data['genre'].isna()]) / len(data)"
   ]
  },
  {
   "cell_type": "markdown",
   "metadata": {},
   "source": [
    "В столбце не было найдено пустых значений, скорее всего, они были в записях о играх с пропуском в столбце с названием, а впоследствии удалены."
   ]
  },
  {
   "cell_type": "markdown",
   "metadata": {},
   "source": [
    "4. `critic_score`"
   ]
  },
  {
   "cell_type": "markdown",
   "metadata": {},
   "source": [
    "Посмотрим, сколько пропусков в столбце `critic_score`."
   ]
  },
  {
   "cell_type": "code",
   "execution_count": 11,
   "metadata": {},
   "outputs": [
    {
     "data": {
      "text/plain": [
       "0.5145341765993675"
      ]
     },
     "execution_count": 11,
     "metadata": {},
     "output_type": "execute_result"
    }
   ],
   "source": [
    "#доля пропусков в столбце critic_score\n",
    "len(data[data['critic_score'].isna()]) / len(data)"
   ]
  },
  {
   "cell_type": "markdown",
   "metadata": {},
   "source": [
    "Посмотрим, какие значения есть в столбце."
   ]
  },
  {
   "cell_type": "code",
   "execution_count": 12,
   "metadata": {},
   "outputs": [
    {
     "data": {
      "text/plain": [
       "array([76., nan, 82., 80., 89., 58., 87., 91., 61., 97., 95., 77., 88.,\n",
       "       83., 94., 93., 85., 86., 98., 96., 90., 84., 73., 74., 78., 92.,\n",
       "       71., 72., 68., 62., 49., 67., 81., 66., 56., 79., 70., 59., 64.,\n",
       "       75., 60., 63., 69., 50., 25., 42., 44., 55., 48., 57., 29., 47.,\n",
       "       65., 54., 20., 53., 37., 38., 33., 52., 30., 32., 43., 45., 51.,\n",
       "       40., 46., 39., 34., 41., 36., 31., 27., 35., 26., 19., 28., 23.,\n",
       "       24., 21., 17., 13.])"
      ]
     },
     "execution_count": 12,
     "metadata": {},
     "output_type": "execute_result"
    }
   ],
   "source": [
    "#уникальные значения столбца user_score\n",
    "data['critic_score'].unique()"
   ]
  },
  {
   "cell_type": "markdown",
   "metadata": {},
   "source": [
    "В столбце 51% пропусков, они могли возникнуть из-за ошибки в системе или при выгрузке данных. Возможно также, что пропуски присутствуют для игр, вышедших недавно, потому для них еще нет оценки. Пропуски оставим на своих местах."
   ]
  },
  {
   "cell_type": "markdown",
   "metadata": {},
   "source": [
    "5. `user_score`"
   ]
  },
  {
   "cell_type": "markdown",
   "metadata": {},
   "source": [
    "Оценим долю пропусков в столбце `user_score`."
   ]
  },
  {
   "cell_type": "code",
   "execution_count": 13,
   "metadata": {
    "scrolled": true
   },
   "outputs": [
    {
     "data": {
      "text/plain": [
       "0.4016662612503041"
      ]
     },
     "execution_count": 13,
     "metadata": {},
     "output_type": "execute_result"
    }
   ],
   "source": [
    "#доля пропусков в столбце user_score\n",
    "len(data[data['user_score'].isna()]) / len(data)"
   ]
  },
  {
   "cell_type": "markdown",
   "metadata": {},
   "source": [
    "Доля пропусков - 40%. Посмотрим, какие уникальные значения есть в столбце."
   ]
  },
  {
   "cell_type": "code",
   "execution_count": 14,
   "metadata": {},
   "outputs": [
    {
     "data": {
      "text/plain": [
       "array(['8', nan, '8.3', '8.5', '6.6', '8.4', '8.6', '7.7', '6.3', '7.4',\n",
       "       '8.2', '9', '7.9', '8.1', '8.7', '7.1', '3.4', '5.3', '4.8', '3.2',\n",
       "       '8.9', '6.4', '7.8', '7.5', '2.6', '7.2', '9.2', '7', '7.3', '4.3',\n",
       "       '7.6', '5.7', '5', '9.1', '6.5', 'tbd', '8.8', '6.9', '9.4', '6.8',\n",
       "       '6.1', '6.7', '5.4', '4', '4.9', '4.5', '9.3', '6.2', '4.2', '6',\n",
       "       '3.7', '4.1', '5.8', '5.6', '5.5', '4.4', '4.6', '5.9', '3.9',\n",
       "       '3.1', '2.9', '5.2', '3.3', '4.7', '5.1', '3.5', '2.5', '1.9', '3',\n",
       "       '2.7', '2.2', '2', '9.5', '2.1', '3.6', '2.8', '1.8', '3.8', '0',\n",
       "       '1.6', '9.6', '2.4', '1.7', '1.1', '0.3', '1.5', '0.7', '1.2',\n",
       "       '2.3', '0.5', '1.3', '0.2', '0.6', '1.4', '0.9', '1', '9.7'],\n",
       "      dtype=object)"
      ]
     },
     "execution_count": 14,
     "metadata": {},
     "output_type": "execute_result"
    }
   ],
   "source": [
    "#уникальные значения столбца user_score\n",
    "data['user_score'].unique()"
   ]
  },
  {
   "cell_type": "markdown",
   "metadata": {},
   "source": [
    "Можно заметить значение `tbd` (to be determined или to be decided), оно означает, что решение об оценке еще не принято. Так как для игр с оценкой tbd по сути оценки еще нет, заменим это значение на NaN."
   ]
  },
  {
   "cell_type": "code",
   "execution_count": 15,
   "metadata": {},
   "outputs": [],
   "source": [
    "#замена tbd на NaN\n",
    "data.loc[data['user_score']=='tbd', 'user_score'] = np.nan"
   ]
  },
  {
   "cell_type": "markdown",
   "metadata": {},
   "source": [
    "Остальные пропуски могут быть связаны с ошибкой при выгрузке данных или с ошибкой в системе, заполнять их не будем, так как логичной замены нет."
   ]
  },
  {
   "cell_type": "markdown",
   "metadata": {},
   "source": [
    "6. `rating`"
   ]
  },
  {
   "cell_type": "markdown",
   "metadata": {},
   "source": [
    "Посмотрим, сколько пропусков в столбце `rating`."
   ]
  },
  {
   "cell_type": "code",
   "execution_count": 16,
   "metadata": {},
   "outputs": [
    {
     "data": {
      "text/plain": [
       "0.5461566528825104"
      ]
     },
     "execution_count": 16,
     "metadata": {},
     "output_type": "execute_result"
    }
   ],
   "source": [
    "#доля пропусков в столбце rating\n",
    "len(data[data['user_score'].isna()]) / len(data)"
   ]
  },
  {
   "cell_type": "markdown",
   "metadata": {},
   "source": [
    "Посмотрим, какие уникальные значения есть в столбце `rating`."
   ]
  },
  {
   "cell_type": "code",
   "execution_count": 17,
   "metadata": {},
   "outputs": [
    {
     "data": {
      "text/plain": [
       "array(['E', nan, 'M', 'T', 'E10+', 'K-A', 'AO', 'EC', 'RP'], dtype=object)"
      ]
     },
     "execution_count": 17,
     "metadata": {},
     "output_type": "execute_result"
    }
   ],
   "source": [
    "#уникальные значения столбца rating\n",
    "data['rating'].unique()"
   ]
  },
  {
   "cell_type": "markdown",
   "metadata": {},
   "source": [
    "Разберемся, что это за значения. ESRB дает следующие расшифровки:\n",
    "* `EC`(Early childhood) - «Для детей младшего возраста»: игра подходит для детей от 3 лет;\n",
    "* `E` (Everyone) - «Для всех»: содержание вполне подходит для возрастной категории от 6 лет; \n",
    "* `K-A` (Kids to Adults) - «Для детей и взрослых»: содержание игры вполне подходит для возрастной категории от 6 лет и старше;\n",
    "* `E10+` (Everyone 10 and older) - «Для всех от 10 лет и старше»;\n",
    "* `T` (Teen) - «Подросткам»: игра подходит для лиц от 13 лет;\n",
    "* `M` (Mature) - «Для взрослых»: материалы игры не подходят для подростков младше 17 лет;\n",
    "* `AO` (Adults Only 18+) - «Только для взрослых»: содержание игры только для взрослых старше 18 лет;\n",
    "* `RP` (Rating Pending) - Рейтинг ожидается»: Продукт был отправлен в ESRB и ожидает присвоения рейтинга."
   ]
  },
  {
   "cell_type": "markdown",
   "metadata": {},
   "source": [
    "В столбце около 55% пропусков. ESRB определяет рейтинг для игр, выпущенных в США или Канаде, следовательно, для других регионов значения пропущены. Заполним пропуски значением 'Unknown'."
   ]
  },
  {
   "cell_type": "code",
   "execution_count": 18,
   "metadata": {},
   "outputs": [],
   "source": [
    "#заполнение пропусков значением Unknown\n",
    "data['rating'] = data['rating'].fillna('Unknown')"
   ]
  },
  {
   "cell_type": "markdown",
   "metadata": {},
   "source": [
    "### Замена типов данных"
   ]
  },
  {
   "cell_type": "markdown",
   "metadata": {},
   "source": [
    "Заменим тип данных столбца `year_of_release` на `int`, `user_score` на `float`."
   ]
  },
  {
   "cell_type": "code",
   "execution_count": 19,
   "metadata": {},
   "outputs": [
    {
     "name": "stdout",
     "output_type": "stream",
     "text": [
      "<class 'pandas.core.frame.DataFrame'>\n",
      "RangeIndex: 16444 entries, 0 to 16443\n",
      "Data columns (total 11 columns):\n",
      " #   Column           Non-Null Count  Dtype  \n",
      "---  ------           --------------  -----  \n",
      " 0   name             16444 non-null  object \n",
      " 1   platform         16444 non-null  object \n",
      " 2   year_of_release  16444 non-null  int64  \n",
      " 3   genre            16444 non-null  object \n",
      " 4   na_sales         16444 non-null  float64\n",
      " 5   eu_sales         16444 non-null  float64\n",
      " 6   jp_sales         16444 non-null  float64\n",
      " 7   other_sales      16444 non-null  float64\n",
      " 8   critic_score     7983 non-null   float64\n",
      " 9   user_score       7463 non-null   float64\n",
      " 10  rating           16444 non-null  object \n",
      "dtypes: float64(6), int64(1), object(4)\n",
      "memory usage: 1.4+ MB\n"
     ]
    }
   ],
   "source": [
    "#изменение типа данных year_of_release на int\n",
    "data['year_of_release'] = data['year_of_release'].astype('int')\n",
    "#изменение типа данных user_score на float\n",
    "data['user_score'] = data['user_score'].astype('float')\n",
    "data.info()"
   ]
  },
  {
   "cell_type": "markdown",
   "metadata": {},
   "source": [
    "### Расчет суммарных продаж"
   ]
  },
  {
   "cell_type": "markdown",
   "metadata": {},
   "source": [
    "Посчитаем суммарные продажи во всех регионах и запишем их в отдельный столбец."
   ]
  },
  {
   "cell_type": "code",
   "execution_count": 20,
   "metadata": {},
   "outputs": [
    {
     "data": {
      "text/html": [
       "<div>\n",
       "<style scoped>\n",
       "    .dataframe tbody tr th:only-of-type {\n",
       "        vertical-align: middle;\n",
       "    }\n",
       "\n",
       "    .dataframe tbody tr th {\n",
       "        vertical-align: top;\n",
       "    }\n",
       "\n",
       "    .dataframe thead th {\n",
       "        text-align: right;\n",
       "    }\n",
       "</style>\n",
       "<table border=\"1\" class=\"dataframe\">\n",
       "  <thead>\n",
       "    <tr style=\"text-align: right;\">\n",
       "      <th></th>\n",
       "      <th>name</th>\n",
       "      <th>platform</th>\n",
       "      <th>year_of_release</th>\n",
       "      <th>genre</th>\n",
       "      <th>na_sales</th>\n",
       "      <th>eu_sales</th>\n",
       "      <th>jp_sales</th>\n",
       "      <th>other_sales</th>\n",
       "      <th>critic_score</th>\n",
       "      <th>user_score</th>\n",
       "      <th>rating</th>\n",
       "      <th>sales_sum</th>\n",
       "    </tr>\n",
       "  </thead>\n",
       "  <tbody>\n",
       "    <tr>\n",
       "      <th>0</th>\n",
       "      <td>Wii Sports</td>\n",
       "      <td>Wii</td>\n",
       "      <td>2006</td>\n",
       "      <td>Sports</td>\n",
       "      <td>41.36</td>\n",
       "      <td>28.96</td>\n",
       "      <td>3.77</td>\n",
       "      <td>8.45</td>\n",
       "      <td>76.0</td>\n",
       "      <td>8.0</td>\n",
       "      <td>E</td>\n",
       "      <td>82.54</td>\n",
       "    </tr>\n",
       "    <tr>\n",
       "      <th>1</th>\n",
       "      <td>Super Mario Bros.</td>\n",
       "      <td>NES</td>\n",
       "      <td>1985</td>\n",
       "      <td>Platform</td>\n",
       "      <td>29.08</td>\n",
       "      <td>3.58</td>\n",
       "      <td>6.81</td>\n",
       "      <td>0.77</td>\n",
       "      <td>NaN</td>\n",
       "      <td>NaN</td>\n",
       "      <td>Unknown</td>\n",
       "      <td>40.24</td>\n",
       "    </tr>\n",
       "    <tr>\n",
       "      <th>2</th>\n",
       "      <td>Mario Kart Wii</td>\n",
       "      <td>Wii</td>\n",
       "      <td>2008</td>\n",
       "      <td>Racing</td>\n",
       "      <td>15.68</td>\n",
       "      <td>12.76</td>\n",
       "      <td>3.79</td>\n",
       "      <td>3.29</td>\n",
       "      <td>82.0</td>\n",
       "      <td>8.3</td>\n",
       "      <td>E</td>\n",
       "      <td>35.52</td>\n",
       "    </tr>\n",
       "    <tr>\n",
       "      <th>3</th>\n",
       "      <td>Wii Sports Resort</td>\n",
       "      <td>Wii</td>\n",
       "      <td>2009</td>\n",
       "      <td>Sports</td>\n",
       "      <td>15.61</td>\n",
       "      <td>10.93</td>\n",
       "      <td>3.28</td>\n",
       "      <td>2.95</td>\n",
       "      <td>80.0</td>\n",
       "      <td>8.0</td>\n",
       "      <td>E</td>\n",
       "      <td>32.77</td>\n",
       "    </tr>\n",
       "    <tr>\n",
       "      <th>4</th>\n",
       "      <td>Pokemon Red/Pokemon Blue</td>\n",
       "      <td>GB</td>\n",
       "      <td>1996</td>\n",
       "      <td>Role-Playing</td>\n",
       "      <td>11.27</td>\n",
       "      <td>8.89</td>\n",
       "      <td>10.22</td>\n",
       "      <td>1.00</td>\n",
       "      <td>NaN</td>\n",
       "      <td>NaN</td>\n",
       "      <td>Unknown</td>\n",
       "      <td>31.38</td>\n",
       "    </tr>\n",
       "  </tbody>\n",
       "</table>\n",
       "</div>"
      ],
      "text/plain": [
       "                       name platform  year_of_release         genre  na_sales  \\\n",
       "0                Wii Sports      Wii             2006        Sports     41.36   \n",
       "1         Super Mario Bros.      NES             1985      Platform     29.08   \n",
       "2            Mario Kart Wii      Wii             2008        Racing     15.68   \n",
       "3         Wii Sports Resort      Wii             2009        Sports     15.61   \n",
       "4  Pokemon Red/Pokemon Blue       GB             1996  Role-Playing     11.27   \n",
       "\n",
       "   eu_sales  jp_sales  other_sales  critic_score  user_score   rating  \\\n",
       "0     28.96      3.77         8.45          76.0         8.0        E   \n",
       "1      3.58      6.81         0.77           NaN         NaN  Unknown   \n",
       "2     12.76      3.79         3.29          82.0         8.3        E   \n",
       "3     10.93      3.28         2.95          80.0         8.0        E   \n",
       "4      8.89     10.22         1.00           NaN         NaN  Unknown   \n",
       "\n",
       "   sales_sum  \n",
       "0      82.54  \n",
       "1      40.24  \n",
       "2      35.52  \n",
       "3      32.77  \n",
       "4      31.38  "
      ]
     },
     "execution_count": 20,
     "metadata": {},
     "output_type": "execute_result"
    }
   ],
   "source": [
    "#расчет суммарных продаж, добавление в новый столбец sales_sum\n",
    "data['sales_sum'] = data['na_sales'] + data['eu_sales'] + data['jp_sales'] + data['other_sales']\n",
    "data.head()"
   ]
  },
  {
   "cell_type": "markdown",
   "metadata": {},
   "source": [
    "### Вывод"
   ]
  },
  {
   "cell_type": "markdown",
   "metadata": {},
   "source": [
    "На данном шаге были:\n",
    "1. Приведены названия столбцов к нижнему регистру;\n",
    "2. Обработаны пропуски в таблице;\n",
    "3. Приведены типы данных в столбце `year_of_release` к `int`, в столбце `user_score` к `float`;\n",
    "4. Посчитаны суммарные продажи по всем регионам и добавлены в столбец `sales_sum`."
   ]
  },
  {
   "cell_type": "markdown",
   "metadata": {},
   "source": [
    "## Исследовательский анализ данных"
   ]
  },
  {
   "cell_type": "markdown",
   "metadata": {},
   "source": [
    "Посмотрим, сколько игр выпускалось в разные годы, для этого построим гистограмму."
   ]
  },
  {
   "cell_type": "code",
   "execution_count": 22,
   "metadata": {
    "scrolled": true
   },
   "outputs": [
    {
     "data": {
      "text/plain": [
       "[Text(0.5, 0, 'Год'), Text(0, 0.5, 'Количество выпущенных игр')]"
      ]
     },
     "execution_count": 22,
     "metadata": {},
     "output_type": "execute_result"
    },
    {
     "data": {
      "image/png": "[encoded data removed]",
      "text/plain": [
       "<Figure size 432x288 with 1 Axes>"
      ]
     },
     "metadata": {
      "needs_background": "light"
     },
     "output_type": "display_data"
    }
   ],
   "source": [
    "#гистограмма с количеством выпускаемых игр по годам\n",
    "ax = data.plot(kind='hist', \n",
    "               y='year_of_release',\n",
    "               bins=30, \n",
    "               range=(1980, 2016),\n",
    "               title='Количество выпускаемых игр по годам',\n",
    "               label='Количество игр',\n",
    "               grid=True)\n",
    "ax.set(xlabel='Год', ylabel='Количество выпущенных игр')"
   ]
  },
  {
   "cell_type": "markdown",
   "metadata": {},
   "source": [
    "По гистограмме можно заметить, что примерно до 1995 года ежегодно выпускалось очень мало игр, примерно с 1998 года начался рост числа выпускаемых игр. В дальнейшем будем рассматривать только игры, выпущенные после 1998 года."
   ]
  },
  {
   "cell_type": "markdown",
   "metadata": {},
   "source": [
    "Посмотрим, как с 1998 года менялись продажи по платформам. Для начала выберем платформы с наибольшим числом продаваемых игр. "
   ]
  },
  {
   "cell_type": "code",
   "execution_count": 23,
   "metadata": {},
   "outputs": [
    {
     "data": {
      "text/html": [
       "<div>\n",
       "<style scoped>\n",
       "    .dataframe tbody tr th:only-of-type {\n",
       "        vertical-align: middle;\n",
       "    }\n",
       "\n",
       "    .dataframe tbody tr th {\n",
       "        vertical-align: top;\n",
       "    }\n",
       "\n",
       "    .dataframe thead th {\n",
       "        text-align: right;\n",
       "    }\n",
       "</style>\n",
       "<table border=\"1\" class=\"dataframe\">\n",
       "  <thead>\n",
       "    <tr style=\"text-align: right;\">\n",
       "      <th></th>\n",
       "      <th>sales_sum</th>\n",
       "    </tr>\n",
       "    <tr>\n",
       "      <th>platform</th>\n",
       "      <th></th>\n",
       "    </tr>\n",
       "  </thead>\n",
       "  <tbody>\n",
       "    <tr>\n",
       "      <th>PS2</th>\n",
       "      <td>1233.56</td>\n",
       "    </tr>\n",
       "    <tr>\n",
       "      <th>X360</th>\n",
       "      <td>961.24</td>\n",
       "    </tr>\n",
       "    <tr>\n",
       "      <th>PS3</th>\n",
       "      <td>931.34</td>\n",
       "    </tr>\n",
       "    <tr>\n",
       "      <th>Wii</th>\n",
       "      <td>891.18</td>\n",
       "    </tr>\n",
       "    <tr>\n",
       "      <th>DS</th>\n",
       "      <td>802.76</td>\n",
       "    </tr>\n",
       "    <tr>\n",
       "      <th>PS</th>\n",
       "      <td>454.72</td>\n",
       "    </tr>\n",
       "    <tr>\n",
       "      <th>PS4</th>\n",
       "      <td>314.14</td>\n",
       "    </tr>\n",
       "    <tr>\n",
       "      <th>GBA</th>\n",
       "      <td>312.88</td>\n",
       "    </tr>\n",
       "    <tr>\n",
       "      <th>PSP</th>\n",
       "      <td>289.53</td>\n",
       "    </tr>\n",
       "    <tr>\n",
       "      <th>3DS</th>\n",
       "      <td>257.81</td>\n",
       "    </tr>\n",
       "    <tr>\n",
       "      <th>XB</th>\n",
       "      <td>251.57</td>\n",
       "    </tr>\n",
       "    <tr>\n",
       "      <th>PC</th>\n",
       "      <td>213.72</td>\n",
       "    </tr>\n",
       "    <tr>\n",
       "      <th>GC</th>\n",
       "      <td>196.73</td>\n",
       "    </tr>\n",
       "    <tr>\n",
       "      <th>XOne</th>\n",
       "      <td>159.32</td>\n",
       "    </tr>\n",
       "    <tr>\n",
       "      <th>N64</th>\n",
       "      <td>144.41</td>\n",
       "    </tr>\n",
       "    <tr>\n",
       "      <th>GB</th>\n",
       "      <td>93.90</td>\n",
       "    </tr>\n",
       "    <tr>\n",
       "      <th>WiiU</th>\n",
       "      <td>82.19</td>\n",
       "    </tr>\n",
       "    <tr>\n",
       "      <th>PSV</th>\n",
       "      <td>53.81</td>\n",
       "    </tr>\n",
       "    <tr>\n",
       "      <th>DC</th>\n",
       "      <td>15.95</td>\n",
       "    </tr>\n",
       "    <tr>\n",
       "      <th>SAT</th>\n",
       "      <td>3.91</td>\n",
       "    </tr>\n",
       "    <tr>\n",
       "      <th>WS</th>\n",
       "      <td>1.42</td>\n",
       "    </tr>\n",
       "    <tr>\n",
       "      <th>SNES</th>\n",
       "      <td>0.48</td>\n",
       "    </tr>\n",
       "  </tbody>\n",
       "</table>\n",
       "</div>"
      ],
      "text/plain": [
       "          sales_sum\n",
       "platform           \n",
       "PS2         1233.56\n",
       "X360         961.24\n",
       "PS3          931.34\n",
       "Wii          891.18\n",
       "DS           802.76\n",
       "PS           454.72\n",
       "PS4          314.14\n",
       "GBA          312.88\n",
       "PSP          289.53\n",
       "3DS          257.81\n",
       "XB           251.57\n",
       "PC           213.72\n",
       "GC           196.73\n",
       "XOne         159.32\n",
       "N64          144.41\n",
       "GB            93.90\n",
       "WiiU          82.19\n",
       "PSV           53.81\n",
       "DC            15.95\n",
       "SAT            3.91\n",
       "WS             1.42\n",
       "SNES           0.48"
      ]
     },
     "execution_count": 23,
     "metadata": {},
     "output_type": "execute_result"
    }
   ],
   "source": [
    "#топ платформ по продажам после 1998 года - сводная таблица по платформам с суммой продаж\n",
    "data_platform = data[data['year_of_release']>=1998].pivot_table(index='platform', \n",
    "                                                                values='sales_sum', \n",
    "                                                                aggfunc='sum').sort_values(by='sales_sum', \n",
    "                                                                                           ascending=False) \n",
    "data_platform"
   ]
  },
  {
   "cell_type": "markdown",
   "metadata": {},
   "source": [
    "Будем считать платформами в наибольшим числом суммарных продаж те, у которых значение суммарных продаж больше 200 миллионов копий. Для наглядности построим для каждой популярной платформы график зависимости числа суммарных продаж от года."
   ]
  },
  {
   "cell_type": "code",
   "execution_count": 24,
   "metadata": {
    "scrolled": false
   },
   "outputs": [
    {
     "data": {
      "text/plain": [
       "<AxesSubplot:title={'center':'Суммарные продажи для популярных платформ по годам'}, xlabel='Год', ylabel='Суммарное количество продаж'>"
      ]
     },
     "execution_count": 24,
     "metadata": {},
     "output_type": "execute_result"
    },
    {
     "data": {
      "image/png": "[encoded data removed]",
      "text/plain": [
       "<Figure size 720x360 with 1 Axes>"
      ]
     },
     "metadata": {
      "needs_background": "light"
     },
     "output_type": "display_data"
    }
   ],
   "source": [
    "#выделяем платформы с продажами более 200 млн копий\n",
    "platform_top = data_platform[data_platform['sales_sum']>200].reset_index()['platform']\n",
    "#сводная таблица для популярных платформ после 1998 года с суммарным количеством продаж в год\n",
    "platform_top_pivot = data.query('platform in @platform_top and year_of_release>=1998')\n",
    "platform_top_pivot = platform_top_pivot.pivot_table(index='year_of_release',\n",
    "                                                    columns='platform',\n",
    "                                                    values='sales_sum',\n",
    "                                                    aggfunc='sum')\n",
    "#график зависимости суммарных продаж от года\n",
    "platform_top_pivot.plot(style='o-',\n",
    "                        figsize=(10, 5),\n",
    "                        xlim=(1998, 2016),\n",
    "                        title='Суммарные продажи для популярных платформ по годам',\n",
    "                        xlabel = 'Год',\n",
    "                        ylabel = 'Суммарное количество продаж',\n",
    "                        grid=True)"
   ]
  },
  {
   "cell_type": "markdown",
   "metadata": {},
   "source": [
    "По графику можно заметить, что для популярных платформ от появления до исчезновения проходит в основном от 7 до 12 лет. В настоящее время из всех популярных платформ после 1998 года актуальными на 2016 год являются 8, новейшая появилась в 2013 году. Будем считать актуальным периодом отрезок с 2013 по 2016 год."
   ]
  },
  {
   "cell_type": "markdown",
   "metadata": {},
   "source": [
    "Рассмотрим прибыль для платформ в актуальный период. Построим сводную таблицу и график зависимости количества продаж от года."
   ]
  },
  {
   "cell_type": "code",
   "execution_count": 25,
   "metadata": {},
   "outputs": [
    {
     "data": {
      "text/html": [
       "<div>\n",
       "<style scoped>\n",
       "    .dataframe tbody tr th:only-of-type {\n",
       "        vertical-align: middle;\n",
       "    }\n",
       "\n",
       "    .dataframe tbody tr th {\n",
       "        vertical-align: top;\n",
       "    }\n",
       "\n",
       "    .dataframe thead th {\n",
       "        text-align: right;\n",
       "    }\n",
       "</style>\n",
       "<table border=\"1\" class=\"dataframe\">\n",
       "  <thead>\n",
       "    <tr style=\"text-align: right;\">\n",
       "      <th>platform</th>\n",
       "      <th>3DS</th>\n",
       "      <th>DS</th>\n",
       "      <th>PC</th>\n",
       "      <th>PS3</th>\n",
       "      <th>PS4</th>\n",
       "      <th>PSP</th>\n",
       "      <th>PSV</th>\n",
       "      <th>Wii</th>\n",
       "      <th>WiiU</th>\n",
       "      <th>X360</th>\n",
       "      <th>XOne</th>\n",
       "    </tr>\n",
       "    <tr>\n",
       "      <th>year_of_release</th>\n",
       "      <th></th>\n",
       "      <th></th>\n",
       "      <th></th>\n",
       "      <th></th>\n",
       "      <th></th>\n",
       "      <th></th>\n",
       "      <th></th>\n",
       "      <th></th>\n",
       "      <th></th>\n",
       "      <th></th>\n",
       "      <th></th>\n",
       "    </tr>\n",
       "  </thead>\n",
       "  <tbody>\n",
       "    <tr>\n",
       "      <th>2013</th>\n",
       "      <td>56.57</td>\n",
       "      <td>1.54</td>\n",
       "      <td>12.38</td>\n",
       "      <td>113.25</td>\n",
       "      <td>25.99</td>\n",
       "      <td>3.14</td>\n",
       "      <td>10.59</td>\n",
       "      <td>8.59</td>\n",
       "      <td>21.65</td>\n",
       "      <td>88.58</td>\n",
       "      <td>18.96</td>\n",
       "    </tr>\n",
       "    <tr>\n",
       "      <th>2014</th>\n",
       "      <td>43.76</td>\n",
       "      <td>NaN</td>\n",
       "      <td>13.28</td>\n",
       "      <td>47.76</td>\n",
       "      <td>100.00</td>\n",
       "      <td>0.24</td>\n",
       "      <td>11.90</td>\n",
       "      <td>3.75</td>\n",
       "      <td>22.03</td>\n",
       "      <td>34.74</td>\n",
       "      <td>54.07</td>\n",
       "    </tr>\n",
       "    <tr>\n",
       "      <th>2015</th>\n",
       "      <td>27.78</td>\n",
       "      <td>NaN</td>\n",
       "      <td>8.52</td>\n",
       "      <td>16.82</td>\n",
       "      <td>118.90</td>\n",
       "      <td>0.12</td>\n",
       "      <td>6.25</td>\n",
       "      <td>1.14</td>\n",
       "      <td>16.35</td>\n",
       "      <td>11.96</td>\n",
       "      <td>60.14</td>\n",
       "    </tr>\n",
       "    <tr>\n",
       "      <th>2016</th>\n",
       "      <td>15.14</td>\n",
       "      <td>NaN</td>\n",
       "      <td>5.25</td>\n",
       "      <td>3.60</td>\n",
       "      <td>69.25</td>\n",
       "      <td>NaN</td>\n",
       "      <td>4.25</td>\n",
       "      <td>0.18</td>\n",
       "      <td>4.60</td>\n",
       "      <td>1.52</td>\n",
       "      <td>26.15</td>\n",
       "    </tr>\n",
       "  </tbody>\n",
       "</table>\n",
       "</div>"
      ],
      "text/plain": [
       "platform           3DS    DS     PC     PS3     PS4   PSP    PSV   Wii   WiiU  \\\n",
       "year_of_release                                                                 \n",
       "2013             56.57  1.54  12.38  113.25   25.99  3.14  10.59  8.59  21.65   \n",
       "2014             43.76   NaN  13.28   47.76  100.00  0.24  11.90  3.75  22.03   \n",
       "2015             27.78   NaN   8.52   16.82  118.90  0.12   6.25  1.14  16.35   \n",
       "2016             15.14   NaN   5.25    3.60   69.25   NaN   4.25  0.18   4.60   \n",
       "\n",
       "platform          X360   XOne  \n",
       "year_of_release                \n",
       "2013             88.58  18.96  \n",
       "2014             34.74  54.07  \n",
       "2015             11.96  60.14  \n",
       "2016              1.52  26.15  "
      ]
     },
     "execution_count": 25,
     "metadata": {},
     "output_type": "execute_result"
    }
   ],
   "source": [
    "#сводная таблица для платформ с суммарной прибылью по годам в период 2013-2016 \n",
    "platform_current = data[data['year_of_release']>=2013].pivot_table(index='year_of_release',\n",
    "                                                                   columns='platform',\n",
    "                                                                   values='sales_sum',\n",
    "                                                                   aggfunc='sum')\n",
    "platform_current"
   ]
  },
  {
   "cell_type": "code",
   "execution_count": 26,
   "metadata": {},
   "outputs": [
    {
     "data": {
      "text/plain": [
       "<AxesSubplot:title={'center':'Суммарные продажи для платформ по годам для периода 2013-2016'}, xlabel='Год', ylabel='Суммарное количество продаж'>"
      ]
     },
     "execution_count": 26,
     "metadata": {},
     "output_type": "execute_result"
    },
    {
     "data": {
      "image/png": "[encoded data removed]",
      "text/plain": [
       "<Figure size 720x360 with 1 Axes>"
      ]
     },
     "metadata": {
      "needs_background": "light"
     },
     "output_type": "display_data"
    }
   ],
   "source": [
    "#графики зависимости продаж от года для платформ\n",
    "platform_current.plot(kind='bar',\n",
    "                      xlim=(2013, 2016),\n",
    "                      figsize=(10, 5),\n",
    "                      title='Суммарные продажи для платформ по годам для периода 2013-2016',\n",
    "                      xlabel='Год',\n",
    "                      ylabel='Суммарное количество продаж',\n",
    "                      grid=True)"
   ]
  },
  {
   "cell_type": "markdown",
   "metadata": {},
   "source": [
    "По сводной таблице и графику видно, что платформы DS и PSP к 2016 году исчезли с рынка. Также можно заметить, что для всех платформ наблюдается падение продаж к 2016 году, скорее всего, это связано с незаконченным сбором данных за 2016 год. Рост продаж в актуальный период наблюдается только для платформ PS4 и XOne, для остальных платформ наблюдается падение суммарных продаж. Можно выделить 3 потенциально прибыльные платформы, которые лидируют по продажам к 2016 году: PS4, XOne и 3DS."
   ]
  },
  {
   "cell_type": "markdown",
   "metadata": {},
   "source": [
    "Построим диаграммы размаха по глобальным продажам игр в разбивке по платформам."
   ]
  },
  {
   "cell_type": "code",
   "execution_count": 27,
   "metadata": {},
   "outputs": [
    {
     "data": {
      "image/png": "[encoded data removed]",
      "text/plain": [
       "<Figure size 432x288 with 1 Axes>"
      ]
     },
     "metadata": {
      "needs_background": "light"
     },
     "output_type": "display_data"
    }
   ],
   "source": [
    "#выделим данные по актуальному периоду 2013-2016\n",
    "data_current = data[data['year_of_release']>=2013]\n",
    "#построение диаграмм размаха для платформ в полном размере\n",
    "plt.boxplot([data_current[data_current['platform']=='PS4']['sales_sum'],\n",
    "             data_current[data_current['platform']=='XOne']['sales_sum'],\n",
    "             data_current[data_current['platform']=='3DS']['sales_sum']], \n",
    "             labels=['PS4', 'XOne', '3DS'])\n",
    "plt.show()"
   ]
  },
  {
   "cell_type": "code",
   "execution_count": 28,
   "metadata": {},
   "outputs": [
    {
     "data": {
      "image/png": "[encoded data removed]",
      "text/plain": [
       "<Figure size 432x288 with 1 Axes>"
      ]
     },
     "metadata": {
      "needs_background": "light"
     },
     "output_type": "display_data"
    }
   ],
   "source": [
    "#построение диаграмм размаха для платформ в масштабированном размере\n",
    "plt.ylim(0, 2)\n",
    "plt.boxplot([data_current[data_current['platform']=='PS4']['sales_sum'],\n",
    "             data_current[data_current['platform']=='XOne']['sales_sum'],\n",
    "             data_current[data_current['platform']=='3DS']['sales_sum']], \n",
    "             labels=['PS4', 'XOne', '3DS'])\n",
    "plt.show()"
   ]
  },
  {
   "cell_type": "markdown",
   "metadata": {},
   "source": [
    "Для платформы PS4 медианное значение продаж - около 0.23 миллиона проданных копий, максимальное значение - около 14.5 млн, однако диаграмма размаха ограничена значением примерно 1.75 млн проданных копий.\n",
    "\n",
    "Для платформы XOne медианное значение продаж - около 0.25 миллионов проданных копий, максимальное значение - около 7.5 млн, диаграмма размаха ограничена значением примерно 1.6 млн проданных копий.\n",
    "\n",
    "Для платформы 3DS медианное значение продаж меньше, чем для двух предыдущих платформ, - около 0.1 миллиона проданных копий, максимальное значение - около 14.6 млн, диаграмма размаха ограничена значением примерно 0.6 млн проданных копий.\n",
    "\n",
    "Большое количество выбросов  приводит к большому количеству суммарных продаж для платформ."
   ]
  },
  {
   "cell_type": "markdown",
   "metadata": {},
   "source": [
    "Посмотрим, как влияют на продажи на популярных платформах отзывы пользователей и критиков. Построим диаграмму рассеяния и посчитаем корреляцию между отзывами и продажами. "
   ]
  },
  {
   "cell_type": "markdown",
   "metadata": {},
   "source": [
    "* `PS4`"
   ]
  },
  {
   "cell_type": "code",
   "execution_count": 30,
   "metadata": {},
   "outputs": [
    {
     "data": {
      "text/plain": [
       "<AxesSubplot:xlabel='Оценка критиков', ylabel='Суммарное количество продаж'>"
      ]
     },
     "execution_count": 30,
     "metadata": {},
     "output_type": "execute_result"
    },
    {
     "data": {
      "image/png": "[encoded data removed]",
      "text/plain": [
       "<Figure size 432x288 with 1 Axes>"
      ]
     },
     "metadata": {
      "needs_background": "light"
     },
     "output_type": "display_data"
    }
   ],
   "source": [
    "#построение диаграммы рассеяния для оценки критиков\n",
    "data_current[data_current['platform']=='PS4'].plot(x='critic_score',\n",
    "                                                   y='sales_sum',\n",
    "                                                   kind='scatter', \n",
    "                                                   xlabel='Оценка критиков',\n",
    "                                                   ylabel='Суммарное количество продаж')"
   ]
  },
  {
   "cell_type": "code",
   "execution_count": 31,
   "metadata": {},
   "outputs": [
    {
     "data": {
      "text/plain": [
       "0.4065679020617816"
      ]
     },
     "execution_count": 31,
     "metadata": {},
     "output_type": "execute_result"
    }
   ],
   "source": [
    "#вычисление коэффициента Пирсона\n",
    "data_current[data_current['platform']=='PS4']['critic_score'].corr(data_current[data_current['platform']=='PS4']['sales_sum'])"
   ]
  },
  {
   "cell_type": "markdown",
   "metadata": {},
   "source": [
    "По полученному графику заметно, что для PS4 с увеличением оценки критиков в некоторых случаях продажи игр растут. Коэффициент Пирсона 0.4 подтверждает, что связь между оценкой критиков и продажами есть, хоть и не сильная."
   ]
  },
  {
   "cell_type": "code",
   "execution_count": 32,
   "metadata": {},
   "outputs": [
    {
     "data": {
      "text/plain": [
       "<AxesSubplot:xlabel='Оценка пользователей', ylabel='Суммарное количество продаж'>"
      ]
     },
     "execution_count": 32,
     "metadata": {},
     "output_type": "execute_result"
    },
    {
     "data": {
      "image/png": "[encoded data removed]",
      "text/plain": [
       "<Figure size 432x288 with 1 Axes>"
      ]
     },
     "metadata": {
      "needs_background": "light"
     },
     "output_type": "display_data"
    }
   ],
   "source": [
    "#построение диаграммы рассеяния для оценки пользователей\n",
    "data_current[data_current['platform']=='PS4'].plot(x='user_score',\n",
    "                                                   y='sales_sum',\n",
    "                                                   kind='scatter', \n",
    "                                                   xlabel='Оценка пользователей',\n",
    "                                                   ylabel='Суммарное количество продаж')"
   ]
  },
  {
   "cell_type": "code",
   "execution_count": 33,
   "metadata": {},
   "outputs": [
    {
     "data": {
      "text/plain": [
       "-0.031957110204556424"
      ]
     },
     "execution_count": 33,
     "metadata": {},
     "output_type": "execute_result"
    }
   ],
   "source": [
    "#вычисление коэффициента Пирсона\n",
    "data_current[data_current['platform']=='PS4']['user_score'].corr(data_current[data_current['platform']=='PS4']['sales_sum'])"
   ]
  },
  {
   "cell_type": "markdown",
   "metadata": {},
   "source": [
    "По полученной диаграмме можно сказать, что для платформы PS4 оценка пользователей не влияет на продажи игр, коэффициент Пирсона -0.03 также это подтверждает."
   ]
  },
  {
   "cell_type": "markdown",
   "metadata": {},
   "source": [
    "* `XOne`"
   ]
  },
  {
   "cell_type": "code",
   "execution_count": 34,
   "metadata": {},
   "outputs": [
    {
     "data": {
      "text/plain": [
       "<AxesSubplot:xlabel='Оценка критиков', ylabel='Суммарное количество продаж'>"
      ]
     },
     "execution_count": 34,
     "metadata": {},
     "output_type": "execute_result"
    },
    {
     "data": {
      "image/png": "[encoded data removed]",
      "text/plain": [
       "<Figure size 432x288 with 1 Axes>"
      ]
     },
     "metadata": {
      "needs_background": "light"
     },
     "output_type": "display_data"
    }
   ],
   "source": [
    "#построение диаграммы рассеяния для оценки критиков\n",
    "data_current[data_current['platform']=='XOne'].plot(x='critic_score',\n",
    "                                                    y='sales_sum',\n",
    "                                                    kind='scatter', \n",
    "                                                    xlabel='Оценка критиков',\n",
    "                                                    ylabel='Суммарное количество продаж')"
   ]
  },
  {
   "cell_type": "code",
   "execution_count": 35,
   "metadata": {},
   "outputs": [
    {
     "data": {
      "text/plain": [
       "0.4169983280084017"
      ]
     },
     "execution_count": 35,
     "metadata": {},
     "output_type": "execute_result"
    }
   ],
   "source": [
    "#вычисление коэффициента Пирсона\n",
    "data_current[data_current['platform']=='XOne']['critic_score'].corr(data_current[data_current['platform']=='XOne']['sales_sum'])"
   ]
  },
  {
   "cell_type": "markdown",
   "metadata": {},
   "source": [
    "По полученному графику заметно, что для XOne с увеличением оценки критиков в некоторых случаях продажи игр растут. Коэффициент Пирсона 0.42 подтверждает, что связь между оценкой критиков и продажами есть, хоть и не сильная."
   ]
  },
  {
   "cell_type": "code",
   "execution_count": 36,
   "metadata": {},
   "outputs": [
    {
     "data": {
      "text/plain": [
       "<AxesSubplot:xlabel='Оценка пользователей', ylabel='Суммарное количество продаж'>"
      ]
     },
     "execution_count": 36,
     "metadata": {},
     "output_type": "execute_result"
    },
    {
     "data": {
      "image/png": "[encoded data removed]",
      "text/plain": [
       "<Figure size 432x288 with 1 Axes>"
      ]
     },
     "metadata": {
      "needs_background": "light"
     },
     "output_type": "display_data"
    }
   ],
   "source": [
    "#построение диаграммы рассеяния для оценки пользователей\n",
    "data_current[data_current['platform']=='XOne'].plot(x='user_score',\n",
    "                                                    y='sales_sum',\n",
    "                                                    kind='scatter', \n",
    "                                                    xlabel='Оценка пользователей',\n",
    "                                                    ylabel='Суммарное количество продаж')"
   ]
  },
  {
   "cell_type": "code",
   "execution_count": 37,
   "metadata": {},
   "outputs": [
    {
     "data": {
      "text/plain": [
       "-0.06892505328279416"
      ]
     },
     "execution_count": 37,
     "metadata": {},
     "output_type": "execute_result"
    }
   ],
   "source": [
    "#вычисление коэффициента Пирсона\n",
    "data_current[data_current['platform']=='XOne']['user_score'].corr(data_current[data_current['platform']=='XOne']['sales_sum'])"
   ]
  },
  {
   "cell_type": "markdown",
   "metadata": {},
   "source": [
    "По полученной диаграмме можно сказать, что для платформы XOne оценка пользователей не влияет на продажи игр, коэффициент Пирсона -0.07 также это подтверждает."
   ]
  },
  {
   "cell_type": "markdown",
   "metadata": {},
   "source": [
    "* `3DS`"
   ]
  },
  {
   "cell_type": "code",
   "execution_count": 38,
   "metadata": {},
   "outputs": [
    {
     "data": {
      "text/plain": [
       "<AxesSubplot:xlabel='Оценка критиков', ylabel='Суммарное количество продаж'>"
      ]
     },
     "execution_count": 38,
     "metadata": {},
     "output_type": "execute_result"
    },
    {
     "data": {
      "image/png": "[encoded data removed]",
      "text/plain": [
       "<Figure size 432x288 with 1 Axes>"
      ]
     },
     "metadata": {
      "needs_background": "light"
     },
     "output_type": "display_data"
    }
   ],
   "source": [
    "#построение диаграммы рассеяния для оценки критиков\n",
    "data_current[data_current['platform']=='3DS'].plot(x='critic_score',\n",
    "                                                   y='sales_sum',\n",
    "                                                   kind='scatter', \n",
    "                                                   xlabel='Оценка критиков',\n",
    "                                                   ylabel='Суммарное количество продаж')"
   ]
  },
  {
   "cell_type": "code",
   "execution_count": 39,
   "metadata": {},
   "outputs": [
    {
     "data": {
      "text/plain": [
       "0.3570566142288103"
      ]
     },
     "execution_count": 39,
     "metadata": {},
     "output_type": "execute_result"
    }
   ],
   "source": [
    "#вычисление коэффициента Пирсона\n",
    "data_current[data_current['platform']=='3DS']['critic_score'].corr(data_current[data_current['platform']=='3DS']['sales_sum'])"
   ]
  },
  {
   "cell_type": "markdown",
   "metadata": {},
   "source": [
    "По полученному графику заметно, что для 3DS с увеличением оценки критиков в некоторых случаях продажи игр растут. Коэффициент Пирсона 0.36 подтверждает, что связь между оценкой критиков и продажами есть, хоть и не сильная."
   ]
  },
  {
   "cell_type": "code",
   "execution_count": 40,
   "metadata": {},
   "outputs": [
    {
     "data": {
      "text/plain": [
       "<AxesSubplot:xlabel='Оценка пользователей', ylabel='Суммарное количество продаж'>"
      ]
     },
     "execution_count": 40,
     "metadata": {},
     "output_type": "execute_result"
    },
    {
     "data": {
      "image/png": "[encoded data removed]",
      "text/plain": [
       "<Figure size 432x288 with 1 Axes>"
      ]
     },
     "metadata": {
      "needs_background": "light"
     },
     "output_type": "display_data"
    }
   ],
   "source": [
    "#построение диаграммы рассеяния для оценки пользователей\n",
    "data_current[data_current['platform']=='3DS'].plot(x='user_score',\n",
    "                                                   y='sales_sum',\n",
    "                                                   kind='scatter', \n",
    "                                                   xlabel='Оценка пользователей',\n",
    "                                                   ylabel='Суммарное количество продаж')"
   ]
  },
  {
   "cell_type": "code",
   "execution_count": 41,
   "metadata": {},
   "outputs": [
    {
     "data": {
      "text/plain": [
       "0.24150411773563016"
      ]
     },
     "execution_count": 41,
     "metadata": {},
     "output_type": "execute_result"
    }
   ],
   "source": [
    "#вычисление коэффициента Пирсона\n",
    "data_current[data_current['platform']=='3DS']['user_score'].corr(data_current[data_current['platform']=='3DS']['sales_sum'])"
   ]
  },
  {
   "cell_type": "markdown",
   "metadata": {},
   "source": [
    "По полученной диаграмме можно сказать, что для платформы 3DS оценка пользователей иногда влияет на увеличение продаж игр, коэффициент Пирсона 0.24 также это подтверждает."
   ]
  },
  {
   "cell_type": "markdown",
   "metadata": {},
   "source": [
    "Рассмотрим общее расределение игр по жанрам. Посмотрим, для каких жанров значение продаж самое большое."
   ]
  },
  {
   "cell_type": "code",
   "execution_count": 42,
   "metadata": {},
   "outputs": [
    {
     "data": {
      "text/plain": [
       "<AxesSubplot:title={'center':'Суммарные продажи игр по жанрам'}, xlabel='genre'>"
      ]
     },
     "execution_count": 42,
     "metadata": {},
     "output_type": "execute_result"
    },
    {
     "data": {
      "image/png": "[encoded data removed]",
      "text/plain": [
       "<Figure size 432x288 with 1 Axes>"
      ]
     },
     "metadata": {
      "needs_background": "light"
     },
     "output_type": "display_data"
    }
   ],
   "source": [
    "#гистограмма распределения продаж по жанрам\n",
    "data_current.pivot_table(index='genre', \n",
    "                         values='sales_sum',\n",
    "                         aggfunc='sum').plot(kind='bar', \n",
    "                                             title='Суммарные продажи игр по жанрам')"
   ]
  },
  {
   "cell_type": "markdown",
   "metadata": {},
   "source": [
    "Сравним медианные значения продаж, для этого построим диаграммы размаха для каждого жанра."
   ]
  },
  {
   "cell_type": "code",
   "execution_count": 43,
   "metadata": {
    "scrolled": true
   },
   "outputs": [
    {
     "data": {
      "text/plain": [
       "<AxesSubplot:xlabel='sales_sum', ylabel='genre'>"
      ]
     },
     "execution_count": 43,
     "metadata": {},
     "output_type": "execute_result"
    },
    {
     "data": {
      "image/png": "[encoded data removed]",
      "text/plain": [
       "<Figure size 432x288 with 1 Axes>"
      ]
     },
     "metadata": {
      "needs_background": "light"
     },
     "output_type": "display_data"
    }
   ],
   "source": [
    "#диаграмма размаха в полном размере\n",
    "sns.boxplot(x=data_current['sales_sum'], y=data_current['genre'], orient='h')"
   ]
  },
  {
   "cell_type": "code",
   "execution_count": 44,
   "metadata": {},
   "outputs": [
    {
     "data": {
      "text/plain": [
       "<AxesSubplot:xlabel='sales_sum', ylabel='genre'>"
      ]
     },
     "execution_count": 44,
     "metadata": {},
     "output_type": "execute_result"
    },
    {
     "data": {
      "image/png": "[encoded data removed]",
      "text/plain": [
       "<Figure size 432x288 with 1 Axes>"
      ]
     },
     "metadata": {
      "needs_background": "light"
     },
     "output_type": "display_data"
    }
   ],
   "source": [
    "#диаграмма размаха в масштабированном размере\n",
    "plt.xlim(0, 3.5)\n",
    "sns.boxplot(x=data_current['sales_sum'], y=data_current['genre'], orient='h')"
   ]
  },
  {
   "cell_type": "markdown",
   "metadata": {},
   "source": [
    "По полученным диаграммам видно, что самые прибыльные жанры - это Shooter, Sports, Action и Platform, а самые низкие продажи у жанров Adventure, Puzzle и Strategy."
   ]
  },
  {
   "cell_type": "markdown",
   "metadata": {},
   "source": [
    "### Вывод"
   ]
  },
  {
   "cell_type": "markdown",
   "metadata": {},
   "source": [
    "На данном этапе на основании количества выпускаемых игр по годам и суммарным продажам по платформам был выявлен актуальный период для планирования кампании на 2017 год - это отрезок 2013-2016. Также были выделены 3 потенциально прибыльные платформы: PS4, XOne, 3DS, были построены и исследованы диаграммы размаха по продажам для этих платформ, а также было исследовано влияние оценок критиков и пользователей на продажи. Сделан вывод, что для платформ PS4 и XOne на рост продаж влияют оценки критиков, а для платформы 3DS на рост продаж влияют и оценки критиков, и оценки пользователей. Также были выявлены самые продаваемые жанры игр - Shooter, Sports, Action и Platform, самые низкие продажи у жанров Adventure, Puzzle и Strategy."
   ]
  },
  {
   "cell_type": "markdown",
   "metadata": {},
   "source": [
    "## Составление портрета пользователя каждого региона "
   ]
  },
  {
   "cell_type": "markdown",
   "metadata": {},
   "source": [
    "### Топ-5 самых популярных платформ для пользователя каждого региона "
   ]
  },
  {
   "cell_type": "markdown",
   "metadata": {},
   "source": [
    "* Северная Америка"
   ]
  },
  {
   "cell_type": "code",
   "execution_count": 45,
   "metadata": {},
   "outputs": [
    {
     "data": {
      "text/html": [
       "<div>\n",
       "<style scoped>\n",
       "    .dataframe tbody tr th:only-of-type {\n",
       "        vertical-align: middle;\n",
       "    }\n",
       "\n",
       "    .dataframe tbody tr th {\n",
       "        vertical-align: top;\n",
       "    }\n",
       "\n",
       "    .dataframe thead th {\n",
       "        text-align: right;\n",
       "    }\n",
       "</style>\n",
       "<table border=\"1\" class=\"dataframe\">\n",
       "  <thead>\n",
       "    <tr style=\"text-align: right;\">\n",
       "      <th></th>\n",
       "      <th>platform</th>\n",
       "      <th>na_sales</th>\n",
       "    </tr>\n",
       "  </thead>\n",
       "  <tbody>\n",
       "    <tr>\n",
       "      <th>0</th>\n",
       "      <td>PS4</td>\n",
       "      <td>108.74</td>\n",
       "    </tr>\n",
       "    <tr>\n",
       "      <th>1</th>\n",
       "      <td>XOne</td>\n",
       "      <td>93.12</td>\n",
       "    </tr>\n",
       "    <tr>\n",
       "      <th>2</th>\n",
       "      <td>X360</td>\n",
       "      <td>81.66</td>\n",
       "    </tr>\n",
       "    <tr>\n",
       "      <th>3</th>\n",
       "      <td>PS3</td>\n",
       "      <td>63.50</td>\n",
       "    </tr>\n",
       "    <tr>\n",
       "      <th>4</th>\n",
       "      <td>3DS</td>\n",
       "      <td>38.20</td>\n",
       "    </tr>\n",
       "  </tbody>\n",
       "</table>\n",
       "</div>"
      ],
      "text/plain": [
       "  platform  na_sales\n",
       "0      PS4    108.74\n",
       "1     XOne     93.12\n",
       "2     X360     81.66\n",
       "3      PS3     63.50\n",
       "4      3DS     38.20"
      ]
     },
     "execution_count": 45,
     "metadata": {},
     "output_type": "execute_result"
    }
   ],
   "source": [
    "#топ-5 самых популярных платформ в Северной Америке\n",
    "na_top_platform = data_current.pivot_table(index='platform',\n",
    "                                           values='na_sales',\n",
    "                                           aggfunc='sum').sort_values(by='na_sales',\n",
    "                                                                      ascending=False).reset_index()\n",
    "na_top_platform.head()"
   ]
  },
  {
   "cell_type": "markdown",
   "metadata": {},
   "source": [
    "* Европа"
   ]
  },
  {
   "cell_type": "code",
   "execution_count": 46,
   "metadata": {},
   "outputs": [
    {
     "data": {
      "text/html": [
       "<div>\n",
       "<style scoped>\n",
       "    .dataframe tbody tr th:only-of-type {\n",
       "        vertical-align: middle;\n",
       "    }\n",
       "\n",
       "    .dataframe tbody tr th {\n",
       "        vertical-align: top;\n",
       "    }\n",
       "\n",
       "    .dataframe thead th {\n",
       "        text-align: right;\n",
       "    }\n",
       "</style>\n",
       "<table border=\"1\" class=\"dataframe\">\n",
       "  <thead>\n",
       "    <tr style=\"text-align: right;\">\n",
       "      <th></th>\n",
       "      <th>platform</th>\n",
       "      <th>eu_sales</th>\n",
       "    </tr>\n",
       "  </thead>\n",
       "  <tbody>\n",
       "    <tr>\n",
       "      <th>0</th>\n",
       "      <td>PS4</td>\n",
       "      <td>141.09</td>\n",
       "    </tr>\n",
       "    <tr>\n",
       "      <th>1</th>\n",
       "      <td>PS3</td>\n",
       "      <td>67.81</td>\n",
       "    </tr>\n",
       "    <tr>\n",
       "      <th>2</th>\n",
       "      <td>XOne</td>\n",
       "      <td>51.59</td>\n",
       "    </tr>\n",
       "    <tr>\n",
       "      <th>3</th>\n",
       "      <td>X360</td>\n",
       "      <td>42.52</td>\n",
       "    </tr>\n",
       "    <tr>\n",
       "      <th>4</th>\n",
       "      <td>3DS</td>\n",
       "      <td>30.96</td>\n",
       "    </tr>\n",
       "  </tbody>\n",
       "</table>\n",
       "</div>"
      ],
      "text/plain": [
       "  platform  eu_sales\n",
       "0      PS4    141.09\n",
       "1      PS3     67.81\n",
       "2     XOne     51.59\n",
       "3     X360     42.52\n",
       "4      3DS     30.96"
      ]
     },
     "execution_count": 46,
     "metadata": {},
     "output_type": "execute_result"
    }
   ],
   "source": [
    "#топ-5 самых популярных платформ в Европе\n",
    "eu_top_platform = data_current.pivot_table(index='platform',\n",
    "                                           values='eu_sales',\n",
    "                                           aggfunc='sum').sort_values(by='eu_sales',\n",
    "                                                                      ascending=False).reset_index()\n",
    "eu_top_platform.head()"
   ]
  },
  {
   "cell_type": "markdown",
   "metadata": {},
   "source": [
    "* Япония"
   ]
  },
  {
   "cell_type": "code",
   "execution_count": 47,
   "metadata": {},
   "outputs": [
    {
     "data": {
      "text/html": [
       "<div>\n",
       "<style scoped>\n",
       "    .dataframe tbody tr th:only-of-type {\n",
       "        vertical-align: middle;\n",
       "    }\n",
       "\n",
       "    .dataframe tbody tr th {\n",
       "        vertical-align: top;\n",
       "    }\n",
       "\n",
       "    .dataframe thead th {\n",
       "        text-align: right;\n",
       "    }\n",
       "</style>\n",
       "<table border=\"1\" class=\"dataframe\">\n",
       "  <thead>\n",
       "    <tr style=\"text-align: right;\">\n",
       "      <th></th>\n",
       "      <th>platform</th>\n",
       "      <th>jp_sales</th>\n",
       "    </tr>\n",
       "  </thead>\n",
       "  <tbody>\n",
       "    <tr>\n",
       "      <th>0</th>\n",
       "      <td>3DS</td>\n",
       "      <td>67.81</td>\n",
       "    </tr>\n",
       "    <tr>\n",
       "      <th>1</th>\n",
       "      <td>PS3</td>\n",
       "      <td>23.35</td>\n",
       "    </tr>\n",
       "    <tr>\n",
       "      <th>2</th>\n",
       "      <td>PSV</td>\n",
       "      <td>18.59</td>\n",
       "    </tr>\n",
       "    <tr>\n",
       "      <th>3</th>\n",
       "      <td>PS4</td>\n",
       "      <td>15.96</td>\n",
       "    </tr>\n",
       "    <tr>\n",
       "      <th>4</th>\n",
       "      <td>WiiU</td>\n",
       "      <td>10.88</td>\n",
       "    </tr>\n",
       "  </tbody>\n",
       "</table>\n",
       "</div>"
      ],
      "text/plain": [
       "  platform  jp_sales\n",
       "0      3DS     67.81\n",
       "1      PS3     23.35\n",
       "2      PSV     18.59\n",
       "3      PS4     15.96\n",
       "4     WiiU     10.88"
      ]
     },
     "execution_count": 47,
     "metadata": {},
     "output_type": "execute_result"
    }
   ],
   "source": [
    "#топ-5 самых популярных платформ в Японии\n",
    "jp_top_platform = data_current.pivot_table(index='platform',\n",
    "                                           values='jp_sales',\n",
    "                                           aggfunc='sum').sort_values(by='jp_sales',\n",
    "                                                                      ascending=False).reset_index()\n",
    "jp_top_platform.head()"
   ]
  },
  {
   "cell_type": "markdown",
   "metadata": {},
   "source": [
    "Теперь построим круговые диаграммы для каждого региона."
   ]
  },
  {
   "cell_type": "code",
   "execution_count": 48,
   "metadata": {},
   "outputs": [
    {
     "data": {
      "text/plain": [
       "<AxesSubplot:title={'center':'Топ-5 платформ в Японии'}, ylabel='jp_sales'>"
      ]
     },
     "execution_count": 48,
     "metadata": {},
     "output_type": "execute_result"
    },
    {
     "data": {
      "image/png": "[encoded data removed]",
      "text/plain": [
       "<Figure size 432x288 with 1 Axes>"
      ]
     },
     "metadata": {},
     "output_type": "display_data"
    },
    {
     "data": {
      "image/png": "[encoded data removed]",
      "text/plain": [
       "<Figure size 432x288 with 1 Axes>"
      ]
     },
     "metadata": {},
     "output_type": "display_data"
    },
    {
     "data": {
      "image/png": "[encoded data removed]",
      "text/plain": [
       "<Figure size 432x288 with 1 Axes>"
      ]
     },
     "metadata": {},
     "output_type": "display_data"
    }
   ],
   "source": [
    "#заменяем значения не из топ-5 на Other\n",
    "na_top_platform['platform'] = na_top_platform['platform'].where(na_top_platform['platform'].isin(na_top_platform['platform'].head()), 'Other')\n",
    "eu_top_platform['platform'] = eu_top_platform['platform'].where(eu_top_platform['platform'].isin(eu_top_platform['platform'].head()), 'Other')\n",
    "jp_top_platform['platform'] = jp_top_platform['platform'].where(jp_top_platform['platform'].isin(jp_top_platform['platform'].head()), 'Other')\n",
    "#строим круговые диаграммы\n",
    "na_top_platform.groupby('platform').sum().plot(kind='pie',\n",
    "                                               y='na_sales',\n",
    "                                               legend=False, \n",
    "                                               title='Топ-5 платформ в Северной Америке')\n",
    "eu_top_platform.groupby('platform').sum().plot(kind='pie',\n",
    "                                               y='eu_sales',\n",
    "                                               legend=False,\n",
    "                                               title='Топ-5 платформ в Европе')\n",
    "jp_top_platform.groupby('platform').sum().plot(kind='pie',\n",
    "                                               y='jp_sales',\n",
    "                                               legend=False,\n",
    "                                               title='Топ-5 платформ в Японии')"
   ]
  },
  {
   "cell_type": "markdown",
   "metadata": {},
   "source": [
    "В Северной Америке и в Европе самой популярной платформой является PS4, в Японии же самой популярной платформой является 3DS, PS4 в Японии занимает только 4 место. Также в Северной Америке и в Европе все 3 потенциально прибыльные платформы, выявленные на предыдущем этапе (PS4, XOne, 3DS), вошли в топ-5, в Японии же XOne не входит в топ-5 самых популярных платформ. Также можно заметить, что суммарные продажи игр для различных платформ в Северной Америке и Европе выше, чем в Японии."
   ]
  },
  {
   "cell_type": "markdown",
   "metadata": {},
   "source": [
    "### Топ-5 самых популярных жанров для пользователя каждого региона "
   ]
  },
  {
   "cell_type": "markdown",
   "metadata": {},
   "source": [
    "* Северная Америка"
   ]
  },
  {
   "cell_type": "code",
   "execution_count": 49,
   "metadata": {},
   "outputs": [
    {
     "data": {
      "text/html": [
       "<div>\n",
       "<style scoped>\n",
       "    .dataframe tbody tr th:only-of-type {\n",
       "        vertical-align: middle;\n",
       "    }\n",
       "\n",
       "    .dataframe tbody tr th {\n",
       "        vertical-align: top;\n",
       "    }\n",
       "\n",
       "    .dataframe thead th {\n",
       "        text-align: right;\n",
       "    }\n",
       "</style>\n",
       "<table border=\"1\" class=\"dataframe\">\n",
       "  <thead>\n",
       "    <tr style=\"text-align: right;\">\n",
       "      <th></th>\n",
       "      <th>genre</th>\n",
       "      <th>na_sales</th>\n",
       "    </tr>\n",
       "  </thead>\n",
       "  <tbody>\n",
       "    <tr>\n",
       "      <th>0</th>\n",
       "      <td>Action</td>\n",
       "      <td>126.05</td>\n",
       "    </tr>\n",
       "    <tr>\n",
       "      <th>1</th>\n",
       "      <td>Shooter</td>\n",
       "      <td>109.74</td>\n",
       "    </tr>\n",
       "    <tr>\n",
       "      <th>2</th>\n",
       "      <td>Sports</td>\n",
       "      <td>65.27</td>\n",
       "    </tr>\n",
       "    <tr>\n",
       "      <th>3</th>\n",
       "      <td>Role-Playing</td>\n",
       "      <td>46.40</td>\n",
       "    </tr>\n",
       "    <tr>\n",
       "      <th>4</th>\n",
       "      <td>Misc</td>\n",
       "      <td>27.49</td>\n",
       "    </tr>\n",
       "  </tbody>\n",
       "</table>\n",
       "</div>"
      ],
      "text/plain": [
       "          genre  na_sales\n",
       "0        Action    126.05\n",
       "1       Shooter    109.74\n",
       "2        Sports     65.27\n",
       "3  Role-Playing     46.40\n",
       "4          Misc     27.49"
      ]
     },
     "execution_count": 49,
     "metadata": {},
     "output_type": "execute_result"
    }
   ],
   "source": [
    "#топ-5 самых популярных жанров в Северной Америке\n",
    "na_top_genre = data_current.pivot_table(index='genre',\n",
    "                                        values='na_sales',\n",
    "                                        aggfunc='sum').sort_values(by='na_sales',\n",
    "                                                                   ascending=False).reset_index()\n",
    "na_top_genre.head()"
   ]
  },
  {
   "cell_type": "markdown",
   "metadata": {},
   "source": [
    "* Европа"
   ]
  },
  {
   "cell_type": "code",
   "execution_count": 50,
   "metadata": {},
   "outputs": [
    {
     "data": {
      "text/html": [
       "<div>\n",
       "<style scoped>\n",
       "    .dataframe tbody tr th:only-of-type {\n",
       "        vertical-align: middle;\n",
       "    }\n",
       "\n",
       "    .dataframe tbody tr th {\n",
       "        vertical-align: top;\n",
       "    }\n",
       "\n",
       "    .dataframe thead th {\n",
       "        text-align: right;\n",
       "    }\n",
       "</style>\n",
       "<table border=\"1\" class=\"dataframe\">\n",
       "  <thead>\n",
       "    <tr style=\"text-align: right;\">\n",
       "      <th></th>\n",
       "      <th>genre</th>\n",
       "      <th>eu_sales</th>\n",
       "    </tr>\n",
       "  </thead>\n",
       "  <tbody>\n",
       "    <tr>\n",
       "      <th>0</th>\n",
       "      <td>Action</td>\n",
       "      <td>118.13</td>\n",
       "    </tr>\n",
       "    <tr>\n",
       "      <th>1</th>\n",
       "      <td>Shooter</td>\n",
       "      <td>87.86</td>\n",
       "    </tr>\n",
       "    <tr>\n",
       "      <th>2</th>\n",
       "      <td>Sports</td>\n",
       "      <td>60.52</td>\n",
       "    </tr>\n",
       "    <tr>\n",
       "      <th>3</th>\n",
       "      <td>Role-Playing</td>\n",
       "      <td>36.97</td>\n",
       "    </tr>\n",
       "    <tr>\n",
       "      <th>4</th>\n",
       "      <td>Racing</td>\n",
       "      <td>20.19</td>\n",
       "    </tr>\n",
       "  </tbody>\n",
       "</table>\n",
       "</div>"
      ],
      "text/plain": [
       "          genre  eu_sales\n",
       "0        Action    118.13\n",
       "1       Shooter     87.86\n",
       "2        Sports     60.52\n",
       "3  Role-Playing     36.97\n",
       "4        Racing     20.19"
      ]
     },
     "execution_count": 50,
     "metadata": {},
     "output_type": "execute_result"
    }
   ],
   "source": [
    "#топ-5 самых популярных жанров в Европе\n",
    "eu_top_genre = data_current.pivot_table(index='genre',\n",
    "                                        values='eu_sales',\n",
    "                                        aggfunc='sum').sort_values(by='eu_sales',\n",
    "                                                                   ascending=False).reset_index()\n",
    "eu_top_genre.head()"
   ]
  },
  {
   "cell_type": "markdown",
   "metadata": {},
   "source": [
    "* Япония"
   ]
  },
  {
   "cell_type": "code",
   "execution_count": 51,
   "metadata": {
    "scrolled": true
   },
   "outputs": [
    {
     "data": {
      "text/html": [
       "<div>\n",
       "<style scoped>\n",
       "    .dataframe tbody tr th:only-of-type {\n",
       "        vertical-align: middle;\n",
       "    }\n",
       "\n",
       "    .dataframe tbody tr th {\n",
       "        vertical-align: top;\n",
       "    }\n",
       "\n",
       "    .dataframe thead th {\n",
       "        text-align: right;\n",
       "    }\n",
       "</style>\n",
       "<table border=\"1\" class=\"dataframe\">\n",
       "  <thead>\n",
       "    <tr style=\"text-align: right;\">\n",
       "      <th></th>\n",
       "      <th>genre</th>\n",
       "      <th>jp_sales</th>\n",
       "    </tr>\n",
       "  </thead>\n",
       "  <tbody>\n",
       "    <tr>\n",
       "      <th>0</th>\n",
       "      <td>Role-Playing</td>\n",
       "      <td>51.04</td>\n",
       "    </tr>\n",
       "    <tr>\n",
       "      <th>1</th>\n",
       "      <td>Action</td>\n",
       "      <td>40.49</td>\n",
       "    </tr>\n",
       "    <tr>\n",
       "      <th>2</th>\n",
       "      <td>Misc</td>\n",
       "      <td>9.20</td>\n",
       "    </tr>\n",
       "    <tr>\n",
       "      <th>3</th>\n",
       "      <td>Fighting</td>\n",
       "      <td>7.65</td>\n",
       "    </tr>\n",
       "    <tr>\n",
       "      <th>4</th>\n",
       "      <td>Shooter</td>\n",
       "      <td>6.61</td>\n",
       "    </tr>\n",
       "  </tbody>\n",
       "</table>\n",
       "</div>"
      ],
      "text/plain": [
       "          genre  jp_sales\n",
       "0  Role-Playing     51.04\n",
       "1        Action     40.49\n",
       "2          Misc      9.20\n",
       "3      Fighting      7.65\n",
       "4       Shooter      6.61"
      ]
     },
     "execution_count": 51,
     "metadata": {},
     "output_type": "execute_result"
    }
   ],
   "source": [
    "#топ-5 самых популярных жанров в Японии\n",
    "jp_top_genre = data_current.pivot_table(index='genre',\n",
    "                                        values='jp_sales',\n",
    "                                        aggfunc='sum').sort_values(by='jp_sales',\n",
    "                                                                   ascending=False).reset_index()\n",
    "jp_top_genre.head()"
   ]
  },
  {
   "cell_type": "markdown",
   "metadata": {},
   "source": [
    "Построим круговые диаграммы для каждого региона."
   ]
  },
  {
   "cell_type": "code",
   "execution_count": 52,
   "metadata": {},
   "outputs": [
    {
     "data": {
      "text/plain": [
       "<AxesSubplot:title={'center':'Топ-5 жанров в Японии'}, ylabel='jp_sales'>"
      ]
     },
     "execution_count": 52,
     "metadata": {},
     "output_type": "execute_result"
    },
    {
     "data": {
      "image/png": "[encoded data removed]",
      "text/plain": [
       "<Figure size 432x288 with 1 Axes>"
      ]
     },
     "metadata": {},
     "output_type": "display_data"
    },
    {
     "data": {
      "image/png": "[encoded data removed]",
      "text/plain": [
       "<Figure size 432x288 with 1 Axes>"
      ]
     },
     "metadata": {},
     "output_type": "display_data"
    },
    {
     "data": {
      "image/png": "[encoded data removed]",
      "text/plain": [
       "<Figure size 432x288 with 1 Axes>"
      ]
     },
     "metadata": {},
     "output_type": "display_data"
    }
   ],
   "source": [
    "#заменяем значения не из топ-5 на Other\n",
    "na_top_genre['genre'] = na_top_genre['genre'].where(na_top_genre['genre'].isin(na_top_genre['genre'].head()), 'Other')\n",
    "eu_top_genre['genre'] = eu_top_genre['genre'].where(eu_top_genre['genre'].isin(eu_top_genre['genre'].head()), 'Other')\n",
    "jp_top_genre['genre'] = jp_top_genre['genre'].where(jp_top_genre['genre'].isin(jp_top_genre['genre'].head()), 'Other')\n",
    "#строим круговые диаграммы\n",
    "na_top_genre.groupby('genre').sum().plot(kind='pie',\n",
    "                                         y='na_sales',\n",
    "                                         legend=False, \n",
    "                                         title='Топ-5 жанров в Северной Америке')\n",
    "eu_top_genre.groupby('genre').sum().plot(kind='pie',\n",
    "                                         y='eu_sales',\n",
    "                                         legend=False,\n",
    "                                         title='Топ-5 жанров в Европе')\n",
    "jp_top_genre.groupby('genre').sum().plot(kind='pie',\n",
    "                                         y='jp_sales',\n",
    "                                         legend=False,\n",
    "                                         title='Топ-5 жанров в Японии')"
   ]
  },
  {
   "cell_type": "markdown",
   "metadata": {},
   "source": [
    "В Северной Америке и в Европе топ-5 жанров практически одинаков, за исключением последней позиции - в Северной Америке это Misc, в Европе Racing. Самый популярный жанр в Северной Америке и в Европе Action в Японии занимает 2 место, а самый популярный жанр в Японии Role-Playing занимает в Северной Америке и в Европе 4 место в топ-5. В целом, топ-5 для всех регионов состоят примерно из одних и тех же жанров, жанры Action, Role-Playing, Shooter есть во всех 3 рейтингах.\t"
   ]
  },
  {
   "cell_type": "markdown",
   "metadata": {},
   "source": [
    "### Влияние рейтинга ESRB на продажи в отдельном регионе"
   ]
  },
  {
   "cell_type": "markdown",
   "metadata": {},
   "source": [
    "* Северная Америка"
   ]
  },
  {
   "cell_type": "code",
   "execution_count": 53,
   "metadata": {
    "scrolled": true
   },
   "outputs": [
    {
     "data": {
      "text/html": [
       "<div>\n",
       "<style scoped>\n",
       "    .dataframe tbody tr th:only-of-type {\n",
       "        vertical-align: middle;\n",
       "    }\n",
       "\n",
       "    .dataframe tbody tr th {\n",
       "        vertical-align: top;\n",
       "    }\n",
       "\n",
       "    .dataframe thead th {\n",
       "        text-align: right;\n",
       "    }\n",
       "</style>\n",
       "<table border=\"1\" class=\"dataframe\">\n",
       "  <thead>\n",
       "    <tr style=\"text-align: right;\">\n",
       "      <th></th>\n",
       "      <th>na_sales</th>\n",
       "    </tr>\n",
       "    <tr>\n",
       "      <th>rating</th>\n",
       "      <th></th>\n",
       "    </tr>\n",
       "  </thead>\n",
       "  <tbody>\n",
       "    <tr>\n",
       "      <th>M</th>\n",
       "      <td>165.21</td>\n",
       "    </tr>\n",
       "    <tr>\n",
       "      <th>Unknown</th>\n",
       "      <td>89.42</td>\n",
       "    </tr>\n",
       "    <tr>\n",
       "      <th>E</th>\n",
       "      <td>79.05</td>\n",
       "    </tr>\n",
       "    <tr>\n",
       "      <th>E10+</th>\n",
       "      <td>54.24</td>\n",
       "    </tr>\n",
       "    <tr>\n",
       "      <th>T</th>\n",
       "      <td>49.79</td>\n",
       "    </tr>\n",
       "  </tbody>\n",
       "</table>\n",
       "</div>"
      ],
      "text/plain": [
       "         na_sales\n",
       "rating           \n",
       "M          165.21\n",
       "Unknown     89.42\n",
       "E           79.05\n",
       "E10+        54.24\n",
       "T           49.79"
      ]
     },
     "execution_count": 53,
     "metadata": {},
     "output_type": "execute_result"
    }
   ],
   "source": [
    "#продажи в Северной Америке в зависимости от рейтинга\n",
    "na_rating = data_current.pivot_table(index='rating',\n",
    "                                     values='na_sales',\n",
    "                                     aggfunc='sum').sort_values(by='na_sales',\n",
    "                                                                ascending=False)\n",
    "na_rating"
   ]
  },
  {
   "cell_type": "markdown",
   "metadata": {},
   "source": [
    "* Европа"
   ]
  },
  {
   "cell_type": "code",
   "execution_count": 54,
   "metadata": {},
   "outputs": [
    {
     "data": {
      "text/html": [
       "<div>\n",
       "<style scoped>\n",
       "    .dataframe tbody tr th:only-of-type {\n",
       "        vertical-align: middle;\n",
       "    }\n",
       "\n",
       "    .dataframe tbody tr th {\n",
       "        vertical-align: top;\n",
       "    }\n",
       "\n",
       "    .dataframe thead th {\n",
       "        text-align: right;\n",
       "    }\n",
       "</style>\n",
       "<table border=\"1\" class=\"dataframe\">\n",
       "  <thead>\n",
       "    <tr style=\"text-align: right;\">\n",
       "      <th></th>\n",
       "      <th>eu_sales</th>\n",
       "    </tr>\n",
       "    <tr>\n",
       "      <th>rating</th>\n",
       "      <th></th>\n",
       "    </tr>\n",
       "  </thead>\n",
       "  <tbody>\n",
       "    <tr>\n",
       "      <th>M</th>\n",
       "      <td>145.32</td>\n",
       "    </tr>\n",
       "    <tr>\n",
       "      <th>E</th>\n",
       "      <td>83.36</td>\n",
       "    </tr>\n",
       "    <tr>\n",
       "      <th>Unknown</th>\n",
       "      <td>78.91</td>\n",
       "    </tr>\n",
       "    <tr>\n",
       "      <th>E10+</th>\n",
       "      <td>42.69</td>\n",
       "    </tr>\n",
       "    <tr>\n",
       "      <th>T</th>\n",
       "      <td>41.95</td>\n",
       "    </tr>\n",
       "  </tbody>\n",
       "</table>\n",
       "</div>"
      ],
      "text/plain": [
       "         eu_sales\n",
       "rating           \n",
       "M          145.32\n",
       "E           83.36\n",
       "Unknown     78.91\n",
       "E10+        42.69\n",
       "T           41.95"
      ]
     },
     "execution_count": 54,
     "metadata": {},
     "output_type": "execute_result"
    }
   ],
   "source": [
    "#продажи в Европе в зависимости от рейтинга\n",
    "eu_rating = data_current.pivot_table(index='rating',\n",
    "                                     values='eu_sales',\n",
    "                                     aggfunc='sum').sort_values(by='eu_sales',\n",
    "                                                                ascending=False)\n",
    "eu_rating"
   ]
  },
  {
   "cell_type": "markdown",
   "metadata": {},
   "source": [
    "* Япония"
   ]
  },
  {
   "cell_type": "code",
   "execution_count": 55,
   "metadata": {},
   "outputs": [
    {
     "data": {
      "text/html": [
       "<div>\n",
       "<style scoped>\n",
       "    .dataframe tbody tr th:only-of-type {\n",
       "        vertical-align: middle;\n",
       "    }\n",
       "\n",
       "    .dataframe tbody tr th {\n",
       "        vertical-align: top;\n",
       "    }\n",
       "\n",
       "    .dataframe thead th {\n",
       "        text-align: right;\n",
       "    }\n",
       "</style>\n",
       "<table border=\"1\" class=\"dataframe\">\n",
       "  <thead>\n",
       "    <tr style=\"text-align: right;\">\n",
       "      <th></th>\n",
       "      <th>jp_sales</th>\n",
       "    </tr>\n",
       "    <tr>\n",
       "      <th>rating</th>\n",
       "      <th></th>\n",
       "    </tr>\n",
       "  </thead>\n",
       "  <tbody>\n",
       "    <tr>\n",
       "      <th>Unknown</th>\n",
       "      <td>85.05</td>\n",
       "    </tr>\n",
       "    <tr>\n",
       "      <th>T</th>\n",
       "      <td>20.59</td>\n",
       "    </tr>\n",
       "    <tr>\n",
       "      <th>E</th>\n",
       "      <td>15.14</td>\n",
       "    </tr>\n",
       "    <tr>\n",
       "      <th>M</th>\n",
       "      <td>14.11</td>\n",
       "    </tr>\n",
       "    <tr>\n",
       "      <th>E10+</th>\n",
       "      <td>5.89</td>\n",
       "    </tr>\n",
       "  </tbody>\n",
       "</table>\n",
       "</div>"
      ],
      "text/plain": [
       "         jp_sales\n",
       "rating           \n",
       "Unknown     85.05\n",
       "T           20.59\n",
       "E           15.14\n",
       "M           14.11\n",
       "E10+         5.89"
      ]
     },
     "execution_count": 55,
     "metadata": {},
     "output_type": "execute_result"
    }
   ],
   "source": [
    "#продажи в Японии в зависимости от рейтинга\n",
    "jp_rating = data_current.pivot_table(index='rating',\n",
    "                                     values='jp_sales',\n",
    "                                     aggfunc='sum').sort_values(by='jp_sales',\n",
    "                                                                ascending=False)\n",
    "jp_rating"
   ]
  },
  {
   "cell_type": "markdown",
   "metadata": {},
   "source": [
    "Построим круговые диаграммы для каждого региона."
   ]
  },
  {
   "cell_type": "code",
   "execution_count": 56,
   "metadata": {},
   "outputs": [
    {
     "data": {
      "text/plain": [
       "<AxesSubplot:title={'center':'Влияние рейтинга ESRB на продажи в Японии'}, ylabel='jp_sales'>"
      ]
     },
     "execution_count": 56,
     "metadata": {},
     "output_type": "execute_result"
    },
    {
     "data": {
      "image/png": "[encoded data removed]",
      "text/plain": [
       "<Figure size 432x288 with 1 Axes>"
      ]
     },
     "metadata": {},
     "output_type": "display_data"
    },
    {
     "data": {
      "image/png": "[encoded data removed]",
      "text/plain": [
       "<Figure size 432x288 with 1 Axes>"
      ]
     },
     "metadata": {},
     "output_type": "display_data"
    },
    {
     "data": {
      "image/png": "[encoded data removed]",
      "text/plain": [
       "<Figure size 432x288 with 1 Axes>"
      ]
     },
     "metadata": {},
     "output_type": "display_data"
    }
   ],
   "source": [
    "na_rating.plot(kind='pie', \n",
    "               y='na_sales', \n",
    "               legend=False, \n",
    "               title='Влияние рейтинга ESRB на продажи в Северной Америке')\n",
    "eu_rating.plot(kind='pie', \n",
    "               y='eu_sales', \n",
    "               legend=False, \n",
    "               title='Влияние рейтинга ESRB на продажи в Европе')\n",
    "jp_rating.plot(kind='pie', \n",
    "               y='jp_sales', \n",
    "               legend=False, \n",
    "               title='Влияние рейтинга ESRB на продажи в Японии')"
   ]
  },
  {
   "cell_type": "markdown",
   "metadata": {},
   "source": [
    "Рейтинг ESRB одинаково влияет на продажи в Северной Америке и Европе, чаще всего в этих регионах продаются игры с рейтингом M (для взрослых), затем идут игры с рейтингом E (для всех), далее игры с рейтингом E10+ (для всех от 10 лет и старше) и T (подросткам), причем продажи игр с рейтингом E10+ и T примерно одинаковы. Различие только в том, что игры не из США и Канады занимают в Северной Америке 2 место по продажам, а в Европе 3 место. В Японии самые большие продажи у игр без рейтинга ESRB, затем идут игры с рейтингом T (подросткам), за ними следуют игры с рейтингом E (для всех) и М (для взрослых), для рейтингов E и M продажи примерно одинаковы, и далее игры с рейтингом E10+ (для всех от 10 лет и старше)."
   ]
  },
  {
   "cell_type": "markdown",
   "metadata": {},
   "source": [
    "### Вывод"
   ]
  },
  {
   "cell_type": "markdown",
   "metadata": {},
   "source": [
    "Для пользователей Северной Америки, Европы и Японии был составлен портрет, для каждого региона был определен топ-5 самых популярных платформ, топ-5 самых популярных жанров, а также было определено влияние рейтинга ESRB на продажи. В целом портреты пользователей из Северной Америки и Европы во многом похожи, портреты пользователей из Японии заметно отличаются."
   ]
  },
  {
   "cell_type": "markdown",
   "metadata": {},
   "source": [
    "## Проверка гипотез"
   ]
  },
  {
   "cell_type": "markdown",
   "metadata": {},
   "source": [
    "### Средние пользовательские рейтинги платформ Xbox One и PC одинаковые"
   ]
  },
  {
   "cell_type": "markdown",
   "metadata": {},
   "source": [
    "Сформулируем гипотезы:\n",
    "* Нулевая гипотеза: средний пользовательский рейтинг платформы Xbox One равен среднему пользовательскому рейтингу платформы PC.\n",
    "* Альтернативная гипотеза: средний пользовательский рейтинг платформы Xbox One не равен среднему пользовательскому рейтингу платформы PC.\n",
    "\n",
    "Так как данные по платформам Xbox One и PC - это не зависящие друг от друга выборки и сравниваются средние двух генеральных совокупностей, то будем проверять гипотезу о равенстве средних двух генеральных совокупностей с помощью метода `scipy.stats.ttest_ind()`. Уровень статистической значимости alpha зададим равным 0.05."
   ]
  },
  {
   "cell_type": "code",
   "execution_count": 58,
   "metadata": {},
   "outputs": [
    {
     "name": "stdout",
     "output_type": "stream",
     "text": [
      "p-value: 0.14012658403611647\n",
      "Не получилось отвергнуть нулевую гипотезу\n"
     ]
    }
   ],
   "source": [
    "from scipy import stats as st\n",
    "alpha = 0.05\n",
    "res = st.ttest_ind(data_current[(data_current['platform']=='XOne') & ~(data_current['user_score'].isna())]['user_score'],\n",
    "                   data_current[(data_current['platform']=='PC') & ~(data_current['user_score'].isna())]['user_score'])\n",
    "print('p-value:', res.pvalue)\n",
    "#если p-value < alpha, то нулевую гипотезу отвергаем\n",
    "if res.pvalue < alpha:\n",
    "    print('Отвергаем нулевую гипотезу')\n",
    "else:\n",
    "    print('Не получилось отвергнуть нулевую гипотезу') "
   ]
  },
  {
   "cell_type": "markdown",
   "metadata": {},
   "source": [
    "Нулевую гипотезу отвергнуть не получилось, следовательно, средние пользовательские рейтинги платформ Xbox One и PC не различаются. \n",
    "\n",
    "Проверим вывод, посчитав средние пользовательские рейтинги по данным платформам."
   ]
  },
  {
   "cell_type": "code",
   "execution_count": 60,
   "metadata": {},
   "outputs": [
    {
     "name": "stdout",
     "output_type": "stream",
     "text": [
      "Средний пользовательский рейтинг платформы Xbox One: 6.521428571428572\n",
      "Средний пользовательский рейтинг платформы Xbox One: 6.269677419354839\n"
     ]
    }
   ],
   "source": [
    "print('Средний пользовательский рейтинг платформы Xbox One:', \n",
    "      data_current[data_current['platform']=='XOne']['user_score'].mean())\n",
    "print('Средний пользовательский рейтинг платформы Xbox One:', \n",
    "      data_current[data_current['platform']=='PC']['user_score'].mean())"
   ]
  },
  {
   "cell_type": "markdown",
   "metadata": {},
   "source": [
    "Значения действительно не сильно различаются, следовательно, вывод верный."
   ]
  },
  {
   "cell_type": "markdown",
   "metadata": {},
   "source": [
    "### Средние пользовательские рейтинги жанров Action и Sports разные"
   ]
  },
  {
   "cell_type": "markdown",
   "metadata": {},
   "source": [
    "Сформулируем гипотезы:\n",
    "* Нулевая гипотеза: средний пользовательский рейтинг жанра Action равен среднему пользовательскому рейтингу жанра Sports.\n",
    "* Альтернативная гипотеза: средний пользовательский рейтинг жанра Action не равен среднему пользовательскому рейтингу жанра Sports.\n",
    "\n",
    "Так как данные по жанрам Action и Sports - это не зависящие друг от друга выборки и сравниваются средние двух генеральных совокупностей, то будем проверять гипотезу о равенстве средних двух генеральных совокупностей с помощью метода `scipy.stats.ttest_ind()`. Уровень статистической значимости alpha зададим равным 0.05."
   ]
  },
  {
   "cell_type": "code",
   "execution_count": 61,
   "metadata": {},
   "outputs": [
    {
     "name": "stdout",
     "output_type": "stream",
     "text": [
      "p-value: 1.0517832389140023e-27\n",
      "Отвергаем нулевую гипотезу\n"
     ]
    }
   ],
   "source": [
    "alpha = 0.05\n",
    "res = st.ttest_ind(data_current[(data_current['genre']=='Action') & ~(data_current['user_score'].isna())]['user_score'],\n",
    "                   data_current[(data_current['genre']=='Sports') & ~(data_current['user_score'].isna())]['user_score'])\n",
    "print('p-value:', res.pvalue)\n",
    "#если p-value < alpha, то нулевую гипотезу отвергаем\n",
    "if res.pvalue < alpha:\n",
    "    print('Отвергаем нулевую гипотезу')\n",
    "else:\n",
    "    print('Не получилось отвергнуть нулевую гипотезу') "
   ]
  },
  {
   "cell_type": "markdown",
   "metadata": {},
   "source": [
    "Нулевую гипотезу отвергаем, следовательно, средние пользовательские рейтинги жанров Action и Sports различаются.\n",
    "\n",
    "\n",
    "Проверим вывод, посчитав средние пользовательские рейтинги по данным жанрам."
   ]
  },
  {
   "cell_type": "code",
   "execution_count": 62,
   "metadata": {},
   "outputs": [
    {
     "name": "stdout",
     "output_type": "stream",
     "text": [
      "Средний пользовательский рейтинг жанра Action: 6.837532133676093\n",
      "Средний пользовательский рейтинг жанра Sports: 5.238124999999999\n"
     ]
    }
   ],
   "source": [
    "print('Средний пользовательский рейтинг жанра Action:', \n",
    "      data_current[data_current['genre']=='Action']['user_score'].mean())\n",
    "print('Средний пользовательский рейтинг жанра Sports:', \n",
    "      data_current[data_current['genre']=='Sports']['user_score'].mean())"
   ]
  },
  {
   "cell_type": "markdown",
   "metadata": {},
   "source": [
    "Значения сильно различаются, следовательно, вывод верный."
   ]
  },
  {
   "cell_type": "markdown",
   "metadata": {},
   "source": [
    "### Вывод"
   ]
  },
  {
   "cell_type": "markdown",
   "metadata": {},
   "source": [
    "На данном шаге были проверены гипотезы и сделаны следующие выводы:\n",
    "* средние пользовательские рейтинги платформ Xbox One и PC не различаются;\n",
    "* средние пользовательские рейтинги жанров Action и Sports не различаются."
   ]
  },
  {
   "cell_type": "markdown",
   "metadata": {},
   "source": [
    "## Общий вывод"
   ]
  },
  {
   "cell_type": "markdown",
   "metadata": {},
   "source": [
    "В ходе данного исследования были изучены данные о продажах и оценках игр. Предоставленные данные были подготовлены, приведены к нужным типам, названия столбцов приведены к нижнему регистру, пропуски обработаны. Были посчитаны суммарные продажи во всех регионах и добавлены в отдельный столбец.\n",
    "\n",
    "Был проведен исследоательский анализ данных:\n",
    "* На основании количества выпускаемых игр по годам и суммарным продажам по платформам был выявлен актуальный период для планирования кампании на 2017 год - это отрезок 2013-2016; \n",
    "* Выделены 3 потенциально прибыльные платформы: PS4, XOne, 3DS; \n",
    "* Построены и исследованы диаграммы размаха по продажам для этих платформ;\n",
    "* Исследовано влияние оценок критиков и пользователей на продажи. Сделан вывод, что для платформ PS4 и XOne на рост продаж влияют оценки критиков, а для платформы 3DS на рост продаж влияют и оценки критиков, и оценки пользователей;\n",
    "* Выявлены самые продаваемые жанры игр - Shooter, Sports, Action и Platform, самые низкие продажи у жанров Adventure, Puzzle и Strategy.\n",
    "\n",
    "Также был составлен портрет пользователя каждого региона:\n",
    "* Определены топ-5 самых популярных платформ для каждого региона. В Северной Америке и в Европе самой популярной платформой является PS4, в Японии же самой популярной платформой является 3DS, PS4 в Японии занимает только 4 место. Также в Северной Америке и в Европе все 3 потенциально прибыльные платформы (PS4, XOne, 3DS) вошли в топ-5, в Японии же XOne не входит в топ-5 самых популярных платформ. Также можно заметить, что суммарные продажи игр для различных платформ в Северной Америке и Европе выше, чем в Японии.\n",
    "* Определены топ-5 самых популярных жанров для каждого региона. В Северной Америке и в Европе топ-5 жанров практически одинаков, за исключением последней позиции - в Северной Америке это Misc, в Европе Racing. Самый популярный жанр в Северной Америке и в Европе Action в Японии занимает 2 место, а самый популярный жанр в Японии Role-Playing занимает в Северной Америке и в Европе 4 место. В целом, топ-5 для всех регионов состоят примерно из одних и тех же жанров, жанры Action, Role-Playing, Shooter есть во всех 3 рейтингах.\n",
    "* Изучено влияние рейтинга ESRB на продажи в отдельном регионе. Рейтинг ESRB одинаково влияет на продажи в Северной Америке и Европе, чаще всего в этих регионах продаются игры с рейтингом M (для взрослых), затем идут игры с рейтингом E (для всех), далее игры с рейтингом E10+ (для всех от 10 лет и старше) и T (подросткам), причем продажи игр с рейтингом E10+ и T примерно одинаковы. Различие только в том, что игры не из США и Канады занимают в Северной Америке 2 место по продажам, а в Европе 3 место. В Японии самые большие продажи у игр без рейтинга ESRB, затем идут игры с рейтингом T (подросткам), за ними следуют игры с рейтингом E (для всех) и М (для взрослых), для рейтингов E и M продажи примерно одинаковы, и далее игры с рейтингом E10+ (для всех от 10 лет и старше).\n",
    "\n",
    "В целом портреты пользователей из Северной Америки и Европы во многом похожи, портрет пользователей из Японии заметно отличается.\n",
    "\n",
    "Были проверены следующие гипотезы:\n",
    "* Средние пользовательские рейтинги платформ Xbox One и PC одинаковые:\n",
    "\n",
    "После проверки гипотезы о равенстве среднего двух генеральных совокупностей нулевую гипотезу о равенстве средних пользовательских рейтингов платформ Xbox One и PC не получилось отвергнуть, следовательно, средние пользовательские рейтинги платформ не различаются.\n",
    "\n",
    "* Средние пользовательские рейтинги жанров Action и Sports разные:\n",
    "\n",
    "После проверки гипотезы о равенстве среднего двух генеральных совокупностей нулевая гипотеза о равенстве средних пользовательских рейтингов жанров Action и Sports была отвергнута, следовательно, средние пользовательские рейтинги жанров различаются.\n",
    "\n",
    "При планировании кампании на 2017 год:\n",
    "* в Северной Америке и Европе следует обратить внимание на платформу PS4, на игры жанров Action и Shooter, с рейтингом ESRB M и E и игры, выпущенные не в США или Канаде. Следует обращать внимание на оценки критиков;\n",
    "* В Японии нужно уделить внимание платформе 3DS, играм жанров Role-Playing и Action, произведенные не в США или Канаде, либо с рейтингом T. Обращать внимание стоит и на оценки критиков, и на оценки пользователей."
   ]
  }
 ],
 "metadata": {
  "ExecuteTimeLog": [
   {
    "duration": 442,
    "start_time": "2022-05-16T19:58:10.971Z"
   },
   {
    "duration": 15,
    "start_time": "2022-05-16T19:58:34.691Z"
   },
   {
    "duration": 51,
    "start_time": "2022-05-16T20:06:05.100Z"
   },
   {
    "duration": 50,
    "start_time": "2022-05-17T17:35:16.868Z"
   },
   {
    "duration": 437,
    "start_time": "2022-05-17T17:35:23.748Z"
   },
   {
    "duration": 16,
    "start_time": "2022-05-17T17:35:24.187Z"
   },
   {
    "duration": 15,
    "start_time": "2022-05-17T17:35:49.053Z"
   },
   {
    "duration": 13,
    "start_time": "2022-05-17T17:35:54.885Z"
   },
   {
    "duration": 4,
    "start_time": "2022-05-17T17:42:27.606Z"
   },
   {
    "duration": 61,
    "start_time": "2022-05-17T17:42:41.021Z"
   },
   {
    "duration": 3,
    "start_time": "2022-05-17T17:42:46.533Z"
   },
   {
    "duration": 5,
    "start_time": "2022-05-17T17:42:56.218Z"
   },
   {
    "duration": 18,
    "start_time": "2022-05-17T17:44:15.297Z"
   },
   {
    "duration": 15,
    "start_time": "2022-05-17T17:44:24.201Z"
   },
   {
    "duration": 779,
    "start_time": "2022-05-17T17:48:43.419Z"
   },
   {
    "duration": 7,
    "start_time": "2022-05-17T17:49:14.079Z"
   },
   {
    "duration": 5,
    "start_time": "2022-05-17T17:49:27.963Z"
   },
   {
    "duration": 57,
    "start_time": "2022-05-17T17:49:42.286Z"
   },
   {
    "duration": 7,
    "start_time": "2022-05-17T17:54:26.791Z"
   },
   {
    "duration": 16,
    "start_time": "2022-05-17T17:54:36.617Z"
   },
   {
    "duration": 20,
    "start_time": "2022-05-17T17:54:47.159Z"
   },
   {
    "duration": 15,
    "start_time": "2022-05-17T18:02:12.085Z"
   },
   {
    "duration": 464,
    "start_time": "2022-05-17T18:02:21.291Z"
   },
   {
    "duration": 14,
    "start_time": "2022-05-17T18:02:21.757Z"
   },
   {
    "duration": 6,
    "start_time": "2022-05-17T18:02:21.773Z"
   },
   {
    "duration": 96,
    "start_time": "2022-05-17T18:02:21.781Z"
   },
   {
    "duration": 0,
    "start_time": "2022-05-17T18:02:21.878Z"
   },
   {
    "duration": 0,
    "start_time": "2022-05-17T18:02:21.880Z"
   },
   {
    "duration": 5,
    "start_time": "2022-05-17T18:05:16.045Z"
   },
   {
    "duration": 462,
    "start_time": "2022-05-17T18:05:22.353Z"
   },
   {
    "duration": 14,
    "start_time": "2022-05-17T18:05:22.818Z"
   },
   {
    "duration": 6,
    "start_time": "2022-05-17T18:05:22.834Z"
   },
   {
    "duration": 10,
    "start_time": "2022-05-17T18:05:22.842Z"
   },
   {
    "duration": 24,
    "start_time": "2022-05-17T18:05:22.854Z"
   },
   {
    "duration": 34,
    "start_time": "2022-05-17T18:05:22.880Z"
   },
   {
    "duration": 15,
    "start_time": "2022-05-17T18:05:35.571Z"
   },
   {
    "duration": 66,
    "start_time": "2022-05-17T18:05:51.009Z"
   },
   {
    "duration": 15,
    "start_time": "2022-05-17T18:06:05.480Z"
   },
   {
    "duration": 17,
    "start_time": "2022-05-17T18:06:06.505Z"
   },
   {
    "duration": 17,
    "start_time": "2022-05-17T18:06:06.694Z"
   },
   {
    "duration": 16,
    "start_time": "2022-05-17T18:06:07.124Z"
   },
   {
    "duration": 15,
    "start_time": "2022-05-17T18:06:07.315Z"
   },
   {
    "duration": 6,
    "start_time": "2022-05-17T18:08:13.088Z"
   },
   {
    "duration": 13,
    "start_time": "2022-05-17T18:09:14.559Z"
   },
   {
    "duration": 11,
    "start_time": "2022-05-17T18:17:07.112Z"
   },
   {
    "duration": 8,
    "start_time": "2022-05-17T18:17:16.862Z"
   },
   {
    "duration": 12,
    "start_time": "2022-05-17T18:17:26.006Z"
   },
   {
    "duration": 22,
    "start_time": "2022-05-17T18:17:36.338Z"
   },
   {
    "duration": 14,
    "start_time": "2022-05-17T18:18:24.916Z"
   },
   {
    "duration": 475,
    "start_time": "2022-05-17T18:18:29.426Z"
   },
   {
    "duration": 13,
    "start_time": "2022-05-17T18:18:29.903Z"
   },
   {
    "duration": 5,
    "start_time": "2022-05-17T18:18:29.917Z"
   },
   {
    "duration": 8,
    "start_time": "2022-05-17T18:18:29.923Z"
   },
   {
    "duration": 13,
    "start_time": "2022-05-17T18:18:29.933Z"
   },
   {
    "duration": 18,
    "start_time": "2022-05-17T18:18:29.948Z"
   },
   {
    "duration": 70,
    "start_time": "2022-05-17T18:18:29.988Z"
   },
   {
    "duration": 14,
    "start_time": "2022-05-17T18:18:45.725Z"
   },
   {
    "duration": 454,
    "start_time": "2022-05-17T18:20:44.852Z"
   },
   {
    "duration": 14,
    "start_time": "2022-05-17T18:20:45.308Z"
   },
   {
    "duration": 4,
    "start_time": "2022-05-17T18:20:45.324Z"
   },
   {
    "duration": 7,
    "start_time": "2022-05-17T18:20:45.329Z"
   },
   {
    "duration": 13,
    "start_time": "2022-05-17T18:20:45.338Z"
   },
   {
    "duration": 36,
    "start_time": "2022-05-17T18:20:45.352Z"
   },
   {
    "duration": 5,
    "start_time": "2022-05-17T18:20:45.390Z"
   },
   {
    "duration": 67,
    "start_time": "2022-05-17T18:20:45.397Z"
   },
   {
    "duration": 6,
    "start_time": "2022-05-17T18:20:56.080Z"
   },
   {
    "duration": 20,
    "start_time": "2022-05-17T18:21:59.411Z"
   },
   {
    "duration": 6,
    "start_time": "2022-05-17T18:22:51.076Z"
   },
   {
    "duration": 6,
    "start_time": "2022-05-17T18:23:04.451Z"
   },
   {
    "duration": 9,
    "start_time": "2022-05-17T18:24:10.323Z"
   },
   {
    "duration": 21,
    "start_time": "2022-05-17T18:24:55.247Z"
   },
   {
    "duration": 4,
    "start_time": "2022-05-17T18:27:20.193Z"
   },
   {
    "duration": 6,
    "start_time": "2022-05-17T18:27:30.395Z"
   },
   {
    "duration": 4,
    "start_time": "2022-05-17T18:27:35.093Z"
   },
   {
    "duration": 4,
    "start_time": "2022-05-17T18:29:39.778Z"
   },
   {
    "duration": 5,
    "start_time": "2022-05-17T18:30:00.502Z"
   },
   {
    "duration": 6,
    "start_time": "2022-05-17T18:33:55.199Z"
   },
   {
    "duration": 7,
    "start_time": "2022-05-17T18:36:43.764Z"
   },
   {
    "duration": 8,
    "start_time": "2022-05-17T18:36:49.492Z"
   },
   {
    "duration": 20,
    "start_time": "2022-05-17T18:38:24.445Z"
   },
   {
    "duration": 5,
    "start_time": "2022-05-17T18:43:19.286Z"
   },
   {
    "duration": 116,
    "start_time": "2022-05-17T18:48:20.609Z"
   },
   {
    "duration": 7,
    "start_time": "2022-05-17T18:48:30.428Z"
   },
   {
    "duration": 7,
    "start_time": "2022-05-17T18:49:02.030Z"
   },
   {
    "duration": 7,
    "start_time": "2022-05-17T18:49:37.070Z"
   },
   {
    "duration": 8,
    "start_time": "2022-05-17T18:49:56.702Z"
   },
   {
    "duration": 5,
    "start_time": "2022-05-17T18:50:01.417Z"
   },
   {
    "duration": 7,
    "start_time": "2022-05-17T18:50:13.982Z"
   },
   {
    "duration": 5,
    "start_time": "2022-05-17T18:50:52.367Z"
   },
   {
    "duration": 15,
    "start_time": "2022-05-17T18:54:32.493Z"
   },
   {
    "duration": 16,
    "start_time": "2022-05-17T18:55:50.197Z"
   },
   {
    "duration": 6,
    "start_time": "2022-05-17T19:00:11.211Z"
   },
   {
    "duration": 4,
    "start_time": "2022-05-17T19:01:39.885Z"
   },
   {
    "duration": 15,
    "start_time": "2022-05-17T19:15:18.245Z"
   },
   {
    "duration": 557,
    "start_time": "2022-05-17T19:21:38.010Z"
   },
   {
    "duration": 142,
    "start_time": "2022-05-17T19:22:25.991Z"
   },
   {
    "duration": 125,
    "start_time": "2022-05-17T19:22:31.748Z"
   },
   {
    "duration": 122,
    "start_time": "2022-05-17T19:22:38.605Z"
   },
   {
    "duration": 208,
    "start_time": "2022-05-17T19:22:44.395Z"
   },
   {
    "duration": 156,
    "start_time": "2022-05-17T19:23:04.195Z"
   },
   {
    "duration": 146,
    "start_time": "2022-05-17T19:23:14.526Z"
   },
   {
    "duration": 451,
    "start_time": "2022-05-19T15:22:06.743Z"
   },
   {
    "duration": 22,
    "start_time": "2022-05-19T15:22:07.197Z"
   },
   {
    "duration": 6,
    "start_time": "2022-05-19T15:22:07.221Z"
   },
   {
    "duration": 24,
    "start_time": "2022-05-19T15:22:07.229Z"
   },
   {
    "duration": 17,
    "start_time": "2022-05-19T15:22:07.255Z"
   },
   {
    "duration": 23,
    "start_time": "2022-05-19T15:22:07.274Z"
   },
   {
    "duration": 11,
    "start_time": "2022-05-19T15:22:07.299Z"
   },
   {
    "duration": 24,
    "start_time": "2022-05-19T15:22:07.311Z"
   },
   {
    "duration": 11,
    "start_time": "2022-05-19T15:22:07.337Z"
   },
   {
    "duration": 14,
    "start_time": "2022-05-19T15:22:07.350Z"
   },
   {
    "duration": 14,
    "start_time": "2022-05-19T15:22:07.366Z"
   },
   {
    "duration": 22,
    "start_time": "2022-05-19T15:22:07.382Z"
   },
   {
    "duration": 21,
    "start_time": "2022-05-19T15:22:07.405Z"
   },
   {
    "duration": 18,
    "start_time": "2022-05-19T15:22:07.429Z"
   },
   {
    "duration": 11,
    "start_time": "2022-05-19T15:22:07.449Z"
   },
   {
    "duration": 18,
    "start_time": "2022-05-19T15:22:07.462Z"
   },
   {
    "duration": 27,
    "start_time": "2022-05-19T15:22:07.482Z"
   },
   {
    "duration": 20,
    "start_time": "2022-05-19T15:22:07.511Z"
   },
   {
    "duration": 453,
    "start_time": "2022-05-19T15:22:07.533Z"
   },
   {
    "duration": 21,
    "start_time": "2022-05-19T15:22:07.988Z"
   },
   {
    "duration": 87,
    "start_time": "2022-05-19T15:22:25.136Z"
   },
   {
    "duration": 15,
    "start_time": "2022-05-19T15:22:37.004Z"
   },
   {
    "duration": 15,
    "start_time": "2022-05-19T15:22:49.067Z"
   },
   {
    "duration": 174,
    "start_time": "2022-05-19T15:29:56.057Z"
   },
   {
    "duration": 223,
    "start_time": "2022-05-19T15:32:01.119Z"
   },
   {
    "duration": 278,
    "start_time": "2022-05-19T15:32:14.381Z"
   },
   {
    "duration": 273,
    "start_time": "2022-05-19T15:32:22.700Z"
   },
   {
    "duration": 199,
    "start_time": "2022-05-19T15:32:37.577Z"
   },
   {
    "duration": 287,
    "start_time": "2022-05-19T15:33:44.282Z"
   },
   {
    "duration": 204,
    "start_time": "2022-05-19T15:34:12.903Z"
   },
   {
    "duration": 209,
    "start_time": "2022-05-19T15:34:32.809Z"
   },
   {
    "duration": 43,
    "start_time": "2022-05-19T15:37:54.820Z"
   },
   {
    "duration": 251,
    "start_time": "2022-05-19T15:38:02.145Z"
   },
   {
    "duration": 239,
    "start_time": "2022-05-19T15:38:16.638Z"
   },
   {
    "duration": 239,
    "start_time": "2022-05-19T15:38:26.590Z"
   },
   {
    "duration": 284,
    "start_time": "2022-05-19T15:38:37.290Z"
   },
   {
    "duration": 26,
    "start_time": "2022-05-19T15:42:29.661Z"
   },
   {
    "duration": 18,
    "start_time": "2022-05-19T15:47:45.740Z"
   },
   {
    "duration": 25,
    "start_time": "2022-05-19T15:47:57.466Z"
   },
   {
    "duration": 8,
    "start_time": "2022-05-19T15:48:52.155Z"
   },
   {
    "duration": 7,
    "start_time": "2022-05-19T15:49:06.102Z"
   },
   {
    "duration": 436,
    "start_time": "2022-05-19T15:49:55.826Z"
   },
   {
    "duration": 12,
    "start_time": "2022-05-19T15:50:02.819Z"
   },
   {
    "duration": 19,
    "start_time": "2022-05-19T15:51:33.776Z"
   },
   {
    "duration": 9,
    "start_time": "2022-05-19T15:51:45.822Z"
   },
   {
    "duration": 13,
    "start_time": "2022-05-19T15:52:03.594Z"
   },
   {
    "duration": 8,
    "start_time": "2022-05-19T15:52:13.310Z"
   },
   {
    "duration": 9,
    "start_time": "2022-05-19T15:52:24.016Z"
   },
   {
    "duration": 6,
    "start_time": "2022-05-19T15:52:56.836Z"
   },
   {
    "duration": 9,
    "start_time": "2022-05-19T15:53:03.150Z"
   },
   {
    "duration": 18,
    "start_time": "2022-05-19T15:53:59.338Z"
   },
   {
    "duration": 7,
    "start_time": "2022-05-19T15:54:59.902Z"
   },
   {
    "duration": 9,
    "start_time": "2022-05-19T15:55:00.098Z"
   },
   {
    "duration": 16,
    "start_time": "2022-05-19T15:55:05.767Z"
   },
   {
    "duration": 26,
    "start_time": "2022-05-19T15:56:38.519Z"
   },
   {
    "duration": 6,
    "start_time": "2022-05-19T15:56:56.112Z"
   },
   {
    "duration": 8,
    "start_time": "2022-05-19T15:57:04.566Z"
   },
   {
    "duration": 25,
    "start_time": "2022-05-19T15:57:06.877Z"
   },
   {
    "duration": 7,
    "start_time": "2022-05-19T15:57:17.946Z"
   },
   {
    "duration": 28,
    "start_time": "2022-05-19T15:57:21.436Z"
   },
   {
    "duration": 6,
    "start_time": "2022-05-19T15:57:29.937Z"
   },
   {
    "duration": 23,
    "start_time": "2022-05-19T15:57:39.556Z"
   },
   {
    "duration": 26,
    "start_time": "2022-05-19T15:58:35.119Z"
   },
   {
    "duration": 25,
    "start_time": "2022-05-19T15:59:03.817Z"
   },
   {
    "duration": 32,
    "start_time": "2022-05-19T15:59:50.193Z"
   },
   {
    "duration": 19,
    "start_time": "2022-05-19T16:01:40.211Z"
   },
   {
    "duration": 45,
    "start_time": "2022-05-19T16:08:11.298Z"
   },
   {
    "duration": 50,
    "start_time": "2022-05-19T16:09:32.283Z"
   },
   {
    "duration": 43,
    "start_time": "2022-05-19T16:10:05.144Z"
   },
   {
    "duration": 1406,
    "start_time": "2022-05-19T16:13:26.089Z"
   },
   {
    "duration": 8,
    "start_time": "2022-05-19T16:13:56.731Z"
   },
   {
    "duration": 21,
    "start_time": "2022-05-19T16:14:05.284Z"
   },
   {
    "duration": 19,
    "start_time": "2022-05-19T16:14:07.951Z"
   },
   {
    "duration": 52,
    "start_time": "2022-05-19T16:14:19.481Z"
   },
   {
    "duration": 1406,
    "start_time": "2022-05-19T16:14:24.266Z"
   },
   {
    "duration": 20,
    "start_time": "2022-05-19T16:15:23.626Z"
   },
   {
    "duration": 33,
    "start_time": "2022-05-19T16:15:28.187Z"
   },
   {
    "duration": 43,
    "start_time": "2022-05-19T16:15:35.085Z"
   },
   {
    "duration": 5,
    "start_time": "2022-05-19T16:16:01.245Z"
   },
   {
    "duration": 8,
    "start_time": "2022-05-19T16:20:17.462Z"
   },
   {
    "duration": 19,
    "start_time": "2022-05-19T16:20:26.274Z"
   },
   {
    "duration": 21,
    "start_time": "2022-05-19T16:25:25.011Z"
   },
   {
    "duration": 21,
    "start_time": "2022-05-19T16:25:31.322Z"
   },
   {
    "duration": 43,
    "start_time": "2022-05-19T16:25:58.098Z"
   },
   {
    "duration": 352,
    "start_time": "2022-05-19T16:28:46.097Z"
   },
   {
    "duration": 274,
    "start_time": "2022-05-19T16:29:20.231Z"
   },
   {
    "duration": 416,
    "start_time": "2022-05-19T16:29:36.689Z"
   },
   {
    "duration": 234,
    "start_time": "2022-05-19T16:30:00.652Z"
   },
   {
    "duration": 241,
    "start_time": "2022-05-19T16:30:10.293Z"
   },
   {
    "duration": 32,
    "start_time": "2022-05-19T16:30:25.388Z"
   },
   {
    "duration": 224,
    "start_time": "2022-05-19T16:30:30.642Z"
   },
   {
    "duration": 224,
    "start_time": "2022-05-19T16:30:39.595Z"
   },
   {
    "duration": 479,
    "start_time": "2022-05-19T16:32:12.420Z"
   },
   {
    "duration": 33,
    "start_time": "2022-05-19T16:32:20.279Z"
   },
   {
    "duration": 229,
    "start_time": "2022-05-19T16:32:30.240Z"
   },
   {
    "duration": 220,
    "start_time": "2022-05-19T16:33:10.857Z"
   },
   {
    "duration": 241,
    "start_time": "2022-05-19T16:33:25.160Z"
   },
   {
    "duration": 253,
    "start_time": "2022-05-19T16:33:54.296Z"
   },
   {
    "duration": 332,
    "start_time": "2022-05-19T16:34:37.303Z"
   },
   {
    "duration": 310,
    "start_time": "2022-05-19T16:35:32.721Z"
   },
   {
    "duration": 293,
    "start_time": "2022-05-19T16:35:41.679Z"
   },
   {
    "duration": 241,
    "start_time": "2022-05-19T16:35:56.741Z"
   },
   {
    "duration": 313,
    "start_time": "2022-05-19T16:36:19.685Z"
   },
   {
    "duration": 315,
    "start_time": "2022-05-19T16:37:24.102Z"
   },
   {
    "duration": 350,
    "start_time": "2022-05-19T16:39:07.021Z"
   },
   {
    "duration": 303,
    "start_time": "2022-05-19T16:39:13.920Z"
   },
   {
    "duration": 301,
    "start_time": "2022-05-19T16:41:24.910Z"
   },
   {
    "duration": 469,
    "start_time": "2022-05-19T16:42:02.078Z"
   },
   {
    "duration": 321,
    "start_time": "2022-05-19T16:56:42.938Z"
   },
   {
    "duration": 24,
    "start_time": "2022-05-19T17:02:27.160Z"
   },
   {
    "duration": 30,
    "start_time": "2022-05-19T17:03:38.965Z"
   },
   {
    "duration": 184,
    "start_time": "2022-05-19T17:05:42.077Z"
   },
   {
    "duration": 275,
    "start_time": "2022-05-19T17:06:45.546Z"
   },
   {
    "duration": 284,
    "start_time": "2022-05-19T17:08:14.238Z"
   },
   {
    "duration": 301,
    "start_time": "2022-05-19T17:10:05.198Z"
   },
   {
    "duration": 301,
    "start_time": "2022-05-19T17:10:19.208Z"
   },
   {
    "duration": 26,
    "start_time": "2022-05-19T17:12:41.398Z"
   },
   {
    "duration": 288,
    "start_time": "2022-05-19T17:12:54.550Z"
   },
   {
    "duration": 49,
    "start_time": "2022-05-19T17:58:21.338Z"
   },
   {
    "duration": 254,
    "start_time": "2022-05-19T17:59:34.795Z"
   },
   {
    "duration": 27,
    "start_time": "2022-05-19T17:59:44.008Z"
   },
   {
    "duration": 334,
    "start_time": "2022-05-19T17:59:45.438Z"
   },
   {
    "duration": 321,
    "start_time": "2022-05-19T18:17:23.444Z"
   },
   {
    "duration": 24,
    "start_time": "2022-05-19T18:19:47.797Z"
   },
   {
    "duration": 27,
    "start_time": "2022-05-19T18:21:51.894Z"
   },
   {
    "duration": 14,
    "start_time": "2022-05-19T18:22:07.841Z"
   },
   {
    "duration": 218,
    "start_time": "2022-05-19T18:22:22.820Z"
   },
   {
    "duration": 118,
    "start_time": "2022-05-19T18:23:28.447Z"
   },
   {
    "duration": 118,
    "start_time": "2022-05-19T18:24:40.360Z"
   },
   {
    "duration": 126,
    "start_time": "2022-05-19T18:25:57.770Z"
   },
   {
    "duration": 118,
    "start_time": "2022-05-19T18:26:05.657Z"
   },
   {
    "duration": 10,
    "start_time": "2022-05-19T18:26:14.400Z"
   },
   {
    "duration": 10,
    "start_time": "2022-05-19T18:27:02.057Z"
   },
   {
    "duration": 9,
    "start_time": "2022-05-19T18:27:51.128Z"
   },
   {
    "duration": 2,
    "start_time": "2022-05-19T18:30:11.099Z"
   },
   {
    "duration": 704,
    "start_time": "2022-05-19T18:30:15.927Z"
   },
   {
    "duration": 70,
    "start_time": "2022-05-19T18:30:16.633Z"
   },
   {
    "duration": 15,
    "start_time": "2022-05-19T18:30:16.705Z"
   },
   {
    "duration": 4,
    "start_time": "2022-05-19T18:30:16.722Z"
   },
   {
    "duration": 10,
    "start_time": "2022-05-19T18:30:16.728Z"
   },
   {
    "duration": 20,
    "start_time": "2022-05-19T18:30:16.740Z"
   },
   {
    "duration": 43,
    "start_time": "2022-05-19T18:30:16.761Z"
   },
   {
    "duration": 7,
    "start_time": "2022-05-19T18:30:16.807Z"
   },
   {
    "duration": 4,
    "start_time": "2022-05-19T18:30:16.816Z"
   },
   {
    "duration": 6,
    "start_time": "2022-05-19T18:30:16.824Z"
   },
   {
    "duration": 6,
    "start_time": "2022-05-19T18:30:16.832Z"
   },
   {
    "duration": 6,
    "start_time": "2022-05-19T18:30:16.840Z"
   },
   {
    "duration": 7,
    "start_time": "2022-05-19T18:30:16.848Z"
   },
   {
    "duration": 40,
    "start_time": "2022-05-19T18:30:16.856Z"
   },
   {
    "duration": 8,
    "start_time": "2022-05-19T18:30:16.898Z"
   },
   {
    "duration": 12,
    "start_time": "2022-05-19T18:30:16.908Z"
   },
   {
    "duration": 15,
    "start_time": "2022-05-19T18:30:16.922Z"
   },
   {
    "duration": 19,
    "start_time": "2022-05-19T18:30:16.938Z"
   },
   {
    "duration": 38,
    "start_time": "2022-05-19T18:30:16.958Z"
   },
   {
    "duration": 244,
    "start_time": "2022-05-19T18:30:16.998Z"
   },
   {
    "duration": 25,
    "start_time": "2022-05-19T18:30:17.244Z"
   },
   {
    "duration": 408,
    "start_time": "2022-05-19T18:30:17.273Z"
   },
   {
    "duration": 27,
    "start_time": "2022-05-19T18:30:17.683Z"
   },
   {
    "duration": 308,
    "start_time": "2022-05-19T18:30:17.712Z"
   },
   {
    "duration": 125,
    "start_time": "2022-05-19T18:30:18.022Z"
   },
   {
    "duration": 197,
    "start_time": "2022-05-19T18:30:56.675Z"
   },
   {
    "duration": 297,
    "start_time": "2022-05-19T18:31:22.013Z"
   },
   {
    "duration": 4,
    "start_time": "2022-05-19T18:31:29.991Z"
   },
   {
    "duration": 380,
    "start_time": "2022-05-19T18:31:35.271Z"
   },
   {
    "duration": 28,
    "start_time": "2022-05-19T18:33:12.569Z"
   },
   {
    "duration": 19,
    "start_time": "2022-05-19T18:33:40.910Z"
   },
   {
    "duration": 34,
    "start_time": "2022-05-19T18:34:28.019Z"
   },
   {
    "duration": 11,
    "start_time": "2022-05-19T18:34:50.692Z"
   },
   {
    "duration": 12,
    "start_time": "2022-05-19T18:35:03.809Z"
   },
   {
    "duration": 26,
    "start_time": "2022-05-19T18:35:22.358Z"
   },
   {
    "duration": 27,
    "start_time": "2022-05-19T18:36:09.093Z"
   },
   {
    "duration": 28,
    "start_time": "2022-05-19T18:36:16.915Z"
   },
   {
    "duration": 25,
    "start_time": "2022-05-19T18:36:38.924Z"
   },
   {
    "duration": 220,
    "start_time": "2022-05-19T18:37:17.062Z"
   },
   {
    "duration": 220,
    "start_time": "2022-05-19T18:37:35.268Z"
   },
   {
    "duration": 122,
    "start_time": "2022-05-19T18:37:47.822Z"
   },
   {
    "duration": 116,
    "start_time": "2022-05-19T18:37:54.821Z"
   },
   {
    "duration": 112,
    "start_time": "2022-05-19T18:38:06.949Z"
   },
   {
    "duration": 15,
    "start_time": "2022-05-19T18:43:41.900Z"
   },
   {
    "duration": 13,
    "start_time": "2022-05-19T18:44:04.409Z"
   },
   {
    "duration": 106,
    "start_time": "2022-05-19T18:49:36.472Z"
   },
   {
    "duration": 104,
    "start_time": "2022-05-19T18:49:59.960Z"
   },
   {
    "duration": 12,
    "start_time": "2022-05-19T18:51:54.570Z"
   },
   {
    "duration": 117,
    "start_time": "2022-05-19T18:52:26.763Z"
   },
   {
    "duration": 113,
    "start_time": "2022-05-19T18:52:37.505Z"
   },
   {
    "duration": 28,
    "start_time": "2022-05-19T18:55:09.119Z"
   },
   {
    "duration": 11,
    "start_time": "2022-05-19T18:55:40.796Z"
   },
   {
    "duration": 28,
    "start_time": "2022-05-19T18:55:53.506Z"
   },
   {
    "duration": 11,
    "start_time": "2022-05-19T18:56:10.746Z"
   },
   {
    "duration": 11,
    "start_time": "2022-05-19T18:57:08.644Z"
   },
   {
    "duration": 12,
    "start_time": "2022-05-19T18:57:49.544Z"
   },
   {
    "duration": 134,
    "start_time": "2022-05-19T18:59:01.941Z"
   },
   {
    "duration": 183,
    "start_time": "2022-05-19T18:59:11.200Z"
   },
   {
    "duration": 12,
    "start_time": "2022-05-19T18:59:37.169Z"
   },
   {
    "duration": 13,
    "start_time": "2022-05-19T19:00:16.080Z"
   },
   {
    "duration": 112,
    "start_time": "2022-05-19T19:09:39.717Z"
   },
   {
    "duration": 10,
    "start_time": "2022-05-19T19:10:09.497Z"
   },
   {
    "duration": 117,
    "start_time": "2022-05-19T19:11:42.550Z"
   },
   {
    "duration": 118,
    "start_time": "2022-05-19T19:12:18.550Z"
   },
   {
    "duration": 10,
    "start_time": "2022-05-19T19:12:33.607Z"
   },
   {
    "duration": 5,
    "start_time": "2022-05-19T19:14:45.617Z"
   },
   {
    "duration": 7,
    "start_time": "2022-05-19T19:15:09.133Z"
   },
   {
    "duration": 118,
    "start_time": "2022-05-19T19:15:35.094Z"
   },
   {
    "duration": 9,
    "start_time": "2022-05-19T19:15:50.763Z"
   },
   {
    "duration": 6,
    "start_time": "2022-05-19T19:17:03.315Z"
   },
   {
    "duration": 7,
    "start_time": "2022-05-19T19:17:11.576Z"
   },
   {
    "duration": 7,
    "start_time": "2022-05-19T19:17:16.415Z"
   },
   {
    "duration": 92,
    "start_time": "2022-05-19T19:18:59.270Z"
   },
   {
    "duration": 9,
    "start_time": "2022-05-19T19:19:18.947Z"
   },
   {
    "duration": 7,
    "start_time": "2022-05-19T19:20:10.992Z"
   },
   {
    "duration": 141,
    "start_time": "2022-05-19T19:22:11.866Z"
   },
   {
    "duration": 143,
    "start_time": "2022-05-19T19:22:35.662Z"
   },
   {
    "duration": 9,
    "start_time": "2022-05-19T19:25:14.347Z"
   },
   {
    "duration": 7,
    "start_time": "2022-05-19T19:26:03.146Z"
   },
   {
    "duration": 147,
    "start_time": "2022-05-19T19:32:26.570Z"
   },
   {
    "duration": 8,
    "start_time": "2022-05-19T19:33:01.849Z"
   },
   {
    "duration": 143,
    "start_time": "2022-05-19T19:34:27.866Z"
   },
   {
    "duration": 7,
    "start_time": "2022-05-19T19:35:03.821Z"
   },
   {
    "duration": 127,
    "start_time": "2022-05-19T19:37:20.245Z"
   },
   {
    "duration": 7,
    "start_time": "2022-05-19T19:37:46.205Z"
   },
   {
    "duration": 136,
    "start_time": "2022-05-19T19:38:06.669Z"
   },
   {
    "duration": 8,
    "start_time": "2022-05-19T19:38:31.212Z"
   },
   {
    "duration": 28,
    "start_time": "2022-05-19T19:44:05.318Z"
   },
   {
    "duration": 414,
    "start_time": "2022-05-19T19:44:22.761Z"
   },
   {
    "duration": 1055,
    "start_time": "2022-05-19T19:44:51.391Z"
   },
   {
    "duration": 162,
    "start_time": "2022-05-19T19:45:07.685Z"
   },
   {
    "duration": 14,
    "start_time": "2022-05-19T19:45:16.400Z"
   },
   {
    "duration": 446,
    "start_time": "2022-05-19T19:46:24.865Z"
   },
   {
    "duration": 133,
    "start_time": "2022-05-19T19:46:41.480Z"
   },
   {
    "duration": 172,
    "start_time": "2022-05-19T19:46:50.757Z"
   },
   {
    "duration": 170,
    "start_time": "2022-05-19T19:47:05.160Z"
   },
   {
    "duration": 187,
    "start_time": "2022-05-19T19:47:11.160Z"
   },
   {
    "duration": 188,
    "start_time": "2022-05-19T19:47:29.276Z"
   },
   {
    "duration": 203,
    "start_time": "2022-05-19T19:48:52.958Z"
   },
   {
    "duration": 786,
    "start_time": "2022-05-19T19:49:49.008Z"
   },
   {
    "duration": 305,
    "start_time": "2022-05-19T19:50:57.382Z"
   },
   {
    "duration": 275,
    "start_time": "2022-05-19T19:52:38.136Z"
   },
   {
    "duration": 490,
    "start_time": "2022-05-19T19:52:40.417Z"
   },
   {
    "duration": 325,
    "start_time": "2022-05-19T19:52:49.491Z"
   },
   {
    "duration": 295,
    "start_time": "2022-05-19T19:53:03.814Z"
   },
   {
    "duration": 292,
    "start_time": "2022-05-19T19:53:19.386Z"
   },
   {
    "duration": 44,
    "start_time": "2022-05-19T19:55:12.885Z"
   },
   {
    "duration": 340,
    "start_time": "2022-05-19T19:55:19.977Z"
   },
   {
    "duration": 33,
    "start_time": "2022-05-19T19:55:29.800Z"
   },
   {
    "duration": 191,
    "start_time": "2022-05-19T19:55:37.994Z"
   },
   {
    "duration": 6,
    "start_time": "2022-05-19T20:03:48.382Z"
   },
   {
    "duration": 5,
    "start_time": "2022-05-19T20:04:01.677Z"
   },
   {
    "duration": 96,
    "start_time": "2022-05-19T20:05:30.023Z"
   },
   {
    "duration": 107,
    "start_time": "2022-05-19T20:05:49.406Z"
   },
   {
    "duration": 100,
    "start_time": "2022-05-19T20:05:56.839Z"
   },
   {
    "duration": 107,
    "start_time": "2022-05-19T20:06:16.868Z"
   },
   {
    "duration": 101,
    "start_time": "2022-05-19T20:06:30.065Z"
   },
   {
    "duration": 123,
    "start_time": "2022-05-19T20:06:44.010Z"
   },
   {
    "duration": 114,
    "start_time": "2022-05-20T19:15:29.164Z"
   },
   {
    "duration": 8,
    "start_time": "2022-05-20T19:15:36.211Z"
   },
   {
    "duration": 11,
    "start_time": "2022-05-20T19:16:13.512Z"
   },
   {
    "duration": 7,
    "start_time": "2022-05-20T19:19:54.725Z"
   },
   {
    "duration": 6,
    "start_time": "2022-05-20T19:20:03.631Z"
   },
   {
    "duration": 744,
    "start_time": "2022-05-20T19:42:34.416Z"
   },
   {
    "duration": 62,
    "start_time": "2022-05-20T19:42:35.161Z"
   },
   {
    "duration": 16,
    "start_time": "2022-05-20T19:42:35.225Z"
   },
   {
    "duration": 6,
    "start_time": "2022-05-20T19:42:35.243Z"
   },
   {
    "duration": 6,
    "start_time": "2022-05-20T19:42:35.252Z"
   },
   {
    "duration": 15,
    "start_time": "2022-05-20T19:42:35.259Z"
   },
   {
    "duration": 12,
    "start_time": "2022-05-20T19:42:35.275Z"
   },
   {
    "duration": 5,
    "start_time": "2022-05-20T19:42:35.288Z"
   },
   {
    "duration": 32,
    "start_time": "2022-05-20T19:42:35.294Z"
   },
   {
    "duration": 10,
    "start_time": "2022-05-20T19:42:35.328Z"
   },
   {
    "duration": 7,
    "start_time": "2022-05-20T19:42:35.340Z"
   },
   {
    "duration": 5,
    "start_time": "2022-05-20T19:42:35.349Z"
   },
   {
    "duration": 8,
    "start_time": "2022-05-20T19:42:35.356Z"
   },
   {
    "duration": 8,
    "start_time": "2022-05-20T19:42:35.367Z"
   },
   {
    "duration": 16,
    "start_time": "2022-05-20T19:42:35.376Z"
   },
   {
    "duration": 30,
    "start_time": "2022-05-20T19:42:35.394Z"
   },
   {
    "duration": 5,
    "start_time": "2022-05-20T19:42:35.426Z"
   },
   {
    "duration": 19,
    "start_time": "2022-05-20T19:42:35.432Z"
   },
   {
    "duration": 17,
    "start_time": "2022-05-20T19:42:35.453Z"
   },
   {
    "duration": 232,
    "start_time": "2022-05-20T19:42:35.471Z"
   },
   {
    "duration": 29,
    "start_time": "2022-05-20T19:42:35.705Z"
   },
   {
    "duration": 383,
    "start_time": "2022-05-20T19:42:35.736Z"
   },
   {
    "duration": 26,
    "start_time": "2022-05-20T19:42:36.121Z"
   },
   {
    "duration": 294,
    "start_time": "2022-05-20T19:42:36.148Z"
   },
   {
    "duration": 113,
    "start_time": "2022-05-20T19:42:36.444Z"
   },
   {
    "duration": 10,
    "start_time": "2022-05-20T19:42:36.558Z"
   },
   {
    "duration": 23,
    "start_time": "2022-05-20T19:42:36.569Z"
   },
   {
    "duration": 129,
    "start_time": "2022-05-20T19:42:36.594Z"
   },
   {
    "duration": 9,
    "start_time": "2022-05-20T19:42:36.724Z"
   },
   {
    "duration": 8,
    "start_time": "2022-05-20T19:42:36.735Z"
   },
   {
    "duration": 116,
    "start_time": "2022-05-20T19:42:36.745Z"
   },
   {
    "duration": 9,
    "start_time": "2022-05-20T19:42:36.862Z"
   },
   {
    "duration": 8,
    "start_time": "2022-05-20T19:42:36.873Z"
   },
   {
    "duration": 279,
    "start_time": "2022-05-20T19:42:36.883Z"
   },
   {
    "duration": 9,
    "start_time": "2022-05-20T19:42:37.164Z"
   },
   {
    "duration": 194,
    "start_time": "2022-05-20T19:42:37.175Z"
   },
   {
    "duration": 9,
    "start_time": "2022-05-20T19:42:37.371Z"
   },
   {
    "duration": 174,
    "start_time": "2022-05-20T19:42:37.381Z"
   },
   {
    "duration": 8,
    "start_time": "2022-05-20T19:42:37.557Z"
   },
   {
    "duration": 173,
    "start_time": "2022-05-20T19:42:37.567Z"
   },
   {
    "duration": 8,
    "start_time": "2022-05-20T19:42:37.745Z"
   },
   {
    "duration": 151,
    "start_time": "2022-05-20T19:42:37.755Z"
   },
   {
    "duration": 16,
    "start_time": "2022-05-20T19:42:37.907Z"
   },
   {
    "duration": 150,
    "start_time": "2022-05-20T19:42:37.925Z"
   },
   {
    "duration": 8,
    "start_time": "2022-05-20T19:42:38.077Z"
   },
   {
    "duration": 223,
    "start_time": "2022-05-20T19:42:38.086Z"
   },
   {
    "duration": 19,
    "start_time": "2022-05-20T19:42:38.311Z"
   },
   {
    "duration": 22,
    "start_time": "2022-05-20T19:42:38.331Z"
   },
   {
    "duration": 16,
    "start_time": "2022-05-20T19:42:38.356Z"
   },
   {
    "duration": 22,
    "start_time": "2022-05-20T19:42:38.374Z"
   },
   {
    "duration": 38,
    "start_time": "2022-05-20T19:42:38.398Z"
   },
   {
    "duration": 19,
    "start_time": "2022-05-20T19:42:38.438Z"
   },
   {
    "duration": 13,
    "start_time": "2022-05-20T19:42:38.458Z"
   },
   {
    "duration": 15,
    "start_time": "2022-05-20T19:42:38.473Z"
   },
   {
    "duration": 41,
    "start_time": "2022-05-20T19:42:38.490Z"
   },
   {
    "duration": 512,
    "start_time": "2022-05-20T19:42:38.533Z"
   },
   {
    "duration": 9,
    "start_time": "2022-05-20T19:42:39.047Z"
   },
   {
    "duration": 10,
    "start_time": "2022-05-20T19:52:55.856Z"
   },
   {
    "duration": 688,
    "start_time": "2022-05-20T19:53:03.940Z"
   },
   {
    "duration": 58,
    "start_time": "2022-05-20T19:53:04.630Z"
   },
   {
    "duration": 14,
    "start_time": "2022-05-20T19:53:04.690Z"
   },
   {
    "duration": 5,
    "start_time": "2022-05-20T19:53:04.705Z"
   },
   {
    "duration": 16,
    "start_time": "2022-05-20T19:53:04.712Z"
   },
   {
    "duration": 14,
    "start_time": "2022-05-20T19:53:04.730Z"
   },
   {
    "duration": 10,
    "start_time": "2022-05-20T19:53:04.746Z"
   },
   {
    "duration": 5,
    "start_time": "2022-05-20T19:53:04.758Z"
   },
   {
    "duration": 4,
    "start_time": "2022-05-20T19:53:04.765Z"
   },
   {
    "duration": 7,
    "start_time": "2022-05-20T19:53:04.771Z"
   },
   {
    "duration": 7,
    "start_time": "2022-05-20T19:53:04.780Z"
   },
   {
    "duration": 38,
    "start_time": "2022-05-20T19:53:04.789Z"
   },
   {
    "duration": 9,
    "start_time": "2022-05-20T19:53:04.829Z"
   },
   {
    "duration": 7,
    "start_time": "2022-05-20T19:53:04.841Z"
   },
   {
    "duration": 15,
    "start_time": "2022-05-20T19:53:04.849Z"
   },
   {
    "duration": 9,
    "start_time": "2022-05-20T19:53:04.866Z"
   },
   {
    "duration": 5,
    "start_time": "2022-05-20T19:53:04.876Z"
   },
   {
    "duration": 17,
    "start_time": "2022-05-20T19:53:04.883Z"
   },
   {
    "duration": 18,
    "start_time": "2022-05-20T19:53:04.922Z"
   },
   {
    "duration": 227,
    "start_time": "2022-05-20T19:53:04.941Z"
   },
   {
    "duration": 20,
    "start_time": "2022-05-20T19:53:05.170Z"
   },
   {
    "duration": 359,
    "start_time": "2022-05-20T19:53:05.192Z"
   },
   {
    "duration": 29,
    "start_time": "2022-05-20T19:53:05.553Z"
   },
   {
    "duration": 308,
    "start_time": "2022-05-20T19:53:05.584Z"
   },
   {
    "duration": 124,
    "start_time": "2022-05-20T19:53:05.893Z"
   },
   {
    "duration": 10,
    "start_time": "2022-05-20T19:53:06.018Z"
   },
   {
    "duration": 10,
    "start_time": "2022-05-20T19:53:06.029Z"
   },
   {
    "duration": 138,
    "start_time": "2022-05-20T19:53:06.040Z"
   },
   {
    "duration": 9,
    "start_time": "2022-05-20T19:53:06.180Z"
   },
   {
    "duration": 11,
    "start_time": "2022-05-20T19:53:06.190Z"
   },
   {
    "duration": 110,
    "start_time": "2022-05-20T19:53:06.202Z"
   },
   {
    "duration": 17,
    "start_time": "2022-05-20T19:53:06.313Z"
   },
   {
    "duration": 15,
    "start_time": "2022-05-20T19:53:06.331Z"
   },
   {
    "duration": 226,
    "start_time": "2022-05-20T19:53:06.348Z"
   },
   {
    "duration": 7,
    "start_time": "2022-05-20T19:53:06.576Z"
   },
   {
    "duration": 167,
    "start_time": "2022-05-20T19:53:06.585Z"
   },
   {
    "duration": 8,
    "start_time": "2022-05-20T19:53:06.754Z"
   },
   {
    "duration": 156,
    "start_time": "2022-05-20T19:53:06.764Z"
   },
   {
    "duration": 8,
    "start_time": "2022-05-20T19:53:06.922Z"
   },
   {
    "duration": 145,
    "start_time": "2022-05-20T19:53:06.931Z"
   },
   {
    "duration": 7,
    "start_time": "2022-05-20T19:53:07.080Z"
   },
   {
    "duration": 144,
    "start_time": "2022-05-20T19:53:07.089Z"
   },
   {
    "duration": 8,
    "start_time": "2022-05-20T19:53:07.235Z"
   },
   {
    "duration": 153,
    "start_time": "2022-05-20T19:53:07.244Z"
   },
   {
    "duration": 7,
    "start_time": "2022-05-20T19:53:07.399Z"
   },
   {
    "duration": 209,
    "start_time": "2022-05-20T19:53:07.408Z"
   },
   {
    "duration": 16,
    "start_time": "2022-05-20T19:53:07.619Z"
   },
   {
    "duration": 13,
    "start_time": "2022-05-20T19:53:07.637Z"
   },
   {
    "duration": 12,
    "start_time": "2022-05-20T19:53:07.652Z"
   },
   {
    "duration": 16,
    "start_time": "2022-05-20T19:53:07.665Z"
   },
   {
    "duration": 43,
    "start_time": "2022-05-20T19:53:07.683Z"
   },
   {
    "duration": 12,
    "start_time": "2022-05-20T19:53:07.727Z"
   },
   {
    "duration": 15,
    "start_time": "2022-05-20T19:53:07.741Z"
   },
   {
    "duration": 13,
    "start_time": "2022-05-20T19:53:07.757Z"
   },
   {
    "duration": 27,
    "start_time": "2022-05-20T19:53:07.772Z"
   },
   {
    "duration": 568,
    "start_time": "2022-05-20T19:53:07.801Z"
   },
   {
    "duration": 13,
    "start_time": "2022-05-20T19:53:08.371Z"
   },
   {
    "duration": 662,
    "start_time": "2022-05-20T19:55:55.669Z"
   },
   {
    "duration": 61,
    "start_time": "2022-05-20T19:55:56.333Z"
   },
   {
    "duration": 14,
    "start_time": "2022-05-20T19:55:56.395Z"
   },
   {
    "duration": 4,
    "start_time": "2022-05-20T19:55:56.411Z"
   },
   {
    "duration": 12,
    "start_time": "2022-05-20T19:55:56.417Z"
   },
   {
    "duration": 20,
    "start_time": "2022-05-20T19:55:56.430Z"
   },
   {
    "duration": 12,
    "start_time": "2022-05-20T19:55:56.452Z"
   },
   {
    "duration": 5,
    "start_time": "2022-05-20T19:55:56.465Z"
   },
   {
    "duration": 3,
    "start_time": "2022-05-20T19:55:56.472Z"
   },
   {
    "duration": 7,
    "start_time": "2022-05-20T19:55:56.477Z"
   },
   {
    "duration": 40,
    "start_time": "2022-05-20T19:55:56.486Z"
   },
   {
    "duration": 4,
    "start_time": "2022-05-20T19:55:56.528Z"
   },
   {
    "duration": 8,
    "start_time": "2022-05-20T19:55:56.534Z"
   },
   {
    "duration": 7,
    "start_time": "2022-05-20T19:55:56.543Z"
   },
   {
    "duration": 8,
    "start_time": "2022-05-20T19:55:56.552Z"
   },
   {
    "duration": 8,
    "start_time": "2022-05-20T19:55:56.561Z"
   },
   {
    "duration": 5,
    "start_time": "2022-05-20T19:55:56.570Z"
   },
   {
    "duration": 53,
    "start_time": "2022-05-20T19:55:56.576Z"
   },
   {
    "duration": 15,
    "start_time": "2022-05-20T19:55:56.631Z"
   },
   {
    "duration": 232,
    "start_time": "2022-05-20T19:55:56.648Z"
   },
   {
    "duration": 21,
    "start_time": "2022-05-20T19:55:56.881Z"
   },
   {
    "duration": 556,
    "start_time": "2022-05-20T19:55:56.903Z"
   },
   {
    "duration": 27,
    "start_time": "2022-05-20T19:55:57.461Z"
   },
   {
    "duration": 507,
    "start_time": "2022-05-20T19:55:57.490Z"
   },
   {
    "duration": 131,
    "start_time": "2022-05-20T19:55:57.999Z"
   },
   {
    "duration": 9,
    "start_time": "2022-05-20T19:55:58.132Z"
   },
   {
    "duration": 13,
    "start_time": "2022-05-20T19:55:58.143Z"
   },
   {
    "duration": 135,
    "start_time": "2022-05-20T19:55:58.159Z"
   },
   {
    "duration": 9,
    "start_time": "2022-05-20T19:55:58.295Z"
   },
   {
    "duration": 18,
    "start_time": "2022-05-20T19:55:58.306Z"
   },
   {
    "duration": 113,
    "start_time": "2022-05-20T19:55:58.326Z"
   },
   {
    "duration": 11,
    "start_time": "2022-05-20T19:55:58.440Z"
   },
   {
    "duration": 11,
    "start_time": "2022-05-20T19:55:58.453Z"
   },
   {
    "duration": 247,
    "start_time": "2022-05-20T19:55:58.466Z"
   },
   {
    "duration": 15,
    "start_time": "2022-05-20T19:55:58.714Z"
   },
   {
    "duration": 153,
    "start_time": "2022-05-20T19:55:58.731Z"
   },
   {
    "duration": 7,
    "start_time": "2022-05-20T19:55:58.886Z"
   },
   {
    "duration": 182,
    "start_time": "2022-05-20T19:55:58.895Z"
   },
   {
    "duration": 8,
    "start_time": "2022-05-20T19:55:59.079Z"
   },
   {
    "duration": 157,
    "start_time": "2022-05-20T19:55:59.089Z"
   },
   {
    "duration": 8,
    "start_time": "2022-05-20T19:55:59.248Z"
   },
   {
    "duration": 153,
    "start_time": "2022-05-20T19:55:59.257Z"
   },
   {
    "duration": 17,
    "start_time": "2022-05-20T19:55:59.412Z"
   },
   {
    "duration": 155,
    "start_time": "2022-05-20T19:55:59.430Z"
   },
   {
    "duration": 8,
    "start_time": "2022-05-20T19:55:59.586Z"
   },
   {
    "duration": 214,
    "start_time": "2022-05-20T19:55:59.595Z"
   },
   {
    "duration": 22,
    "start_time": "2022-05-20T19:55:59.811Z"
   },
   {
    "duration": 13,
    "start_time": "2022-05-20T19:55:59.835Z"
   },
   {
    "duration": 13,
    "start_time": "2022-05-20T19:55:59.850Z"
   },
   {
    "duration": 14,
    "start_time": "2022-05-20T19:55:59.865Z"
   },
   {
    "duration": 43,
    "start_time": "2022-05-20T19:55:59.881Z"
   },
   {
    "duration": 15,
    "start_time": "2022-05-20T19:55:59.926Z"
   },
   {
    "duration": 17,
    "start_time": "2022-05-20T19:55:59.943Z"
   },
   {
    "duration": 15,
    "start_time": "2022-05-20T19:55:59.962Z"
   },
   {
    "duration": 14,
    "start_time": "2022-05-20T19:55:59.978Z"
   },
   {
    "duration": 540,
    "start_time": "2022-05-20T19:55:59.993Z"
   },
   {
    "duration": 8,
    "start_time": "2022-05-20T19:56:00.535Z"
   },
   {
    "duration": 894,
    "start_time": "2022-05-21T11:26:54.664Z"
   },
   {
    "duration": 229,
    "start_time": "2022-05-21T11:26:55.560Z"
   },
   {
    "duration": 21,
    "start_time": "2022-05-21T11:26:55.791Z"
   },
   {
    "duration": 6,
    "start_time": "2022-05-21T11:26:55.814Z"
   },
   {
    "duration": 15,
    "start_time": "2022-05-21T11:26:55.823Z"
   },
   {
    "duration": 31,
    "start_time": "2022-05-21T11:26:55.840Z"
   },
   {
    "duration": 15,
    "start_time": "2022-05-21T11:26:55.884Z"
   },
   {
    "duration": 22,
    "start_time": "2022-05-21T11:26:55.901Z"
   },
   {
    "duration": 20,
    "start_time": "2022-05-21T11:26:55.926Z"
   },
   {
    "duration": 17,
    "start_time": "2022-05-21T11:26:55.948Z"
   },
   {
    "duration": 11,
    "start_time": "2022-05-21T11:26:55.968Z"
   },
   {
    "duration": 23,
    "start_time": "2022-05-21T11:26:55.982Z"
   },
   {
    "duration": 21,
    "start_time": "2022-05-21T11:26:56.008Z"
   },
   {
    "duration": 15,
    "start_time": "2022-05-21T11:26:56.033Z"
   },
   {
    "duration": 26,
    "start_time": "2022-05-21T11:26:56.051Z"
   },
   {
    "duration": 22,
    "start_time": "2022-05-21T11:26:56.079Z"
   },
   {
    "duration": 12,
    "start_time": "2022-05-21T11:26:56.104Z"
   },
   {
    "duration": 27,
    "start_time": "2022-05-21T11:26:56.117Z"
   },
   {
    "duration": 38,
    "start_time": "2022-05-21T11:26:56.146Z"
   },
   {
    "duration": 238,
    "start_time": "2022-05-21T11:26:56.186Z"
   },
   {
    "duration": 21,
    "start_time": "2022-05-21T11:26:56.425Z"
   },
   {
    "duration": 397,
    "start_time": "2022-05-21T11:26:56.448Z"
   },
   {
    "duration": 27,
    "start_time": "2022-05-21T11:26:56.848Z"
   },
   {
    "duration": 325,
    "start_time": "2022-05-21T11:26:56.876Z"
   },
   {
    "duration": 137,
    "start_time": "2022-05-21T11:26:57.202Z"
   },
   {
    "duration": 10,
    "start_time": "2022-05-21T11:26:57.341Z"
   },
   {
    "duration": 11,
    "start_time": "2022-05-21T11:26:57.353Z"
   },
   {
    "duration": 166,
    "start_time": "2022-05-21T11:26:57.383Z"
   },
   {
    "duration": 12,
    "start_time": "2022-05-21T11:26:57.551Z"
   },
   {
    "duration": 22,
    "start_time": "2022-05-21T11:26:57.566Z"
   },
   {
    "duration": 126,
    "start_time": "2022-05-21T11:26:57.590Z"
   },
   {
    "duration": 12,
    "start_time": "2022-05-21T11:26:57.718Z"
   },
   {
    "duration": 7,
    "start_time": "2022-05-21T11:26:57.732Z"
   },
   {
    "duration": 278,
    "start_time": "2022-05-21T11:26:57.741Z"
   },
   {
    "duration": 10,
    "start_time": "2022-05-21T11:26:58.021Z"
   },
   {
    "duration": 212,
    "start_time": "2022-05-21T11:26:58.034Z"
   },
   {
    "duration": 8,
    "start_time": "2022-05-21T11:26:58.248Z"
   },
   {
    "duration": 156,
    "start_time": "2022-05-21T11:26:58.257Z"
   },
   {
    "duration": 7,
    "start_time": "2022-05-21T11:26:58.415Z"
   },
   {
    "duration": 160,
    "start_time": "2022-05-21T11:26:58.423Z"
   },
   {
    "duration": 7,
    "start_time": "2022-05-21T11:26:58.587Z"
   },
   {
    "duration": 142,
    "start_time": "2022-05-21T11:26:58.595Z"
   },
   {
    "duration": 8,
    "start_time": "2022-05-21T11:26:58.739Z"
   },
   {
    "duration": 149,
    "start_time": "2022-05-21T11:26:58.748Z"
   },
   {
    "duration": 8,
    "start_time": "2022-05-21T11:26:58.899Z"
   },
   {
    "duration": 249,
    "start_time": "2022-05-21T11:26:58.909Z"
   },
   {
    "duration": 25,
    "start_time": "2022-05-21T11:26:59.160Z"
   },
   {
    "duration": 15,
    "start_time": "2022-05-21T11:26:59.187Z"
   },
   {
    "duration": 15,
    "start_time": "2022-05-21T11:26:59.204Z"
   },
   {
    "duration": 13,
    "start_time": "2022-05-21T11:26:59.221Z"
   },
   {
    "duration": 14,
    "start_time": "2022-05-21T11:26:59.236Z"
   },
   {
    "duration": 45,
    "start_time": "2022-05-21T11:26:59.251Z"
   },
   {
    "duration": 14,
    "start_time": "2022-05-21T11:26:59.298Z"
   },
   {
    "duration": 15,
    "start_time": "2022-05-21T11:26:59.315Z"
   },
   {
    "duration": 17,
    "start_time": "2022-05-21T11:26:59.332Z"
   },
   {
    "duration": 513,
    "start_time": "2022-05-21T11:26:59.351Z"
   },
   {
    "duration": 7,
    "start_time": "2022-05-21T11:26:59.866Z"
   },
   {
    "duration": 138,
    "start_time": "2022-05-21T11:32:13.078Z"
   },
   {
    "duration": 746,
    "start_time": "2022-05-21T11:32:33.415Z"
   },
   {
    "duration": 69,
    "start_time": "2022-05-21T11:32:34.163Z"
   },
   {
    "duration": 14,
    "start_time": "2022-05-21T11:32:34.234Z"
   },
   {
    "duration": 6,
    "start_time": "2022-05-21T11:32:34.250Z"
   },
   {
    "duration": 8,
    "start_time": "2022-05-21T11:32:34.259Z"
   },
   {
    "duration": 14,
    "start_time": "2022-05-21T11:32:34.285Z"
   },
   {
    "duration": 17,
    "start_time": "2022-05-21T11:32:34.300Z"
   },
   {
    "duration": 6,
    "start_time": "2022-05-21T11:32:34.319Z"
   },
   {
    "duration": 6,
    "start_time": "2022-05-21T11:32:34.328Z"
   },
   {
    "duration": 7,
    "start_time": "2022-05-21T11:32:34.336Z"
   },
   {
    "duration": 7,
    "start_time": "2022-05-21T11:32:34.344Z"
   },
   {
    "duration": 6,
    "start_time": "2022-05-21T11:32:34.389Z"
   },
   {
    "duration": 13,
    "start_time": "2022-05-21T11:32:34.397Z"
   },
   {
    "duration": 8,
    "start_time": "2022-05-21T11:32:34.414Z"
   },
   {
    "duration": 6,
    "start_time": "2022-05-21T11:32:34.424Z"
   },
   {
    "duration": 17,
    "start_time": "2022-05-21T11:32:34.432Z"
   },
   {
    "duration": 6,
    "start_time": "2022-05-21T11:32:34.451Z"
   },
   {
    "duration": 33,
    "start_time": "2022-05-21T11:32:34.459Z"
   },
   {
    "duration": 16,
    "start_time": "2022-05-21T11:32:34.494Z"
   },
   {
    "duration": 122,
    "start_time": "2022-05-21T11:32:34.511Z"
   },
   {
    "duration": 291,
    "start_time": "2022-05-21T11:32:34.634Z"
   },
   {
    "duration": 22,
    "start_time": "2022-05-21T11:32:34.927Z"
   },
   {
    "duration": 390,
    "start_time": "2022-05-21T11:32:34.951Z"
   },
   {
    "duration": 26,
    "start_time": "2022-05-21T11:32:35.343Z"
   },
   {
    "duration": 309,
    "start_time": "2022-05-21T11:32:35.370Z"
   },
   {
    "duration": 156,
    "start_time": "2022-05-21T11:32:35.683Z"
   },
   {
    "duration": 11,
    "start_time": "2022-05-21T11:32:35.842Z"
   },
   {
    "duration": 7,
    "start_time": "2022-05-21T11:32:35.856Z"
   },
   {
    "duration": 182,
    "start_time": "2022-05-21T11:32:35.864Z"
   },
   {
    "duration": 10,
    "start_time": "2022-05-21T11:32:36.048Z"
   },
   {
    "duration": 25,
    "start_time": "2022-05-21T11:32:36.060Z"
   },
   {
    "duration": 112,
    "start_time": "2022-05-21T11:32:36.088Z"
   },
   {
    "duration": 10,
    "start_time": "2022-05-21T11:32:36.202Z"
   },
   {
    "duration": 10,
    "start_time": "2022-05-21T11:32:36.213Z"
   },
   {
    "duration": 244,
    "start_time": "2022-05-21T11:32:36.225Z"
   },
   {
    "duration": 13,
    "start_time": "2022-05-21T11:32:36.471Z"
   },
   {
    "duration": 167,
    "start_time": "2022-05-21T11:32:36.486Z"
   },
   {
    "duration": 8,
    "start_time": "2022-05-21T11:32:36.654Z"
   },
   {
    "duration": 183,
    "start_time": "2022-05-21T11:32:36.663Z"
   },
   {
    "duration": 8,
    "start_time": "2022-05-21T11:32:36.848Z"
   },
   {
    "duration": 188,
    "start_time": "2022-05-21T11:32:36.860Z"
   },
   {
    "duration": 8,
    "start_time": "2022-05-21T11:32:37.050Z"
   },
   {
    "duration": 146,
    "start_time": "2022-05-21T11:32:37.060Z"
   },
   {
    "duration": 7,
    "start_time": "2022-05-21T11:32:37.208Z"
   },
   {
    "duration": 147,
    "start_time": "2022-05-21T11:32:37.217Z"
   },
   {
    "duration": 8,
    "start_time": "2022-05-21T11:32:37.366Z"
   },
   {
    "duration": 204,
    "start_time": "2022-05-21T11:32:37.384Z"
   },
   {
    "duration": 19,
    "start_time": "2022-05-21T11:32:37.590Z"
   },
   {
    "duration": 16,
    "start_time": "2022-05-21T11:32:37.610Z"
   },
   {
    "duration": 14,
    "start_time": "2022-05-21T11:32:37.628Z"
   },
   {
    "duration": 45,
    "start_time": "2022-05-21T11:32:37.643Z"
   },
   {
    "duration": 21,
    "start_time": "2022-05-21T11:32:37.690Z"
   },
   {
    "duration": 17,
    "start_time": "2022-05-21T11:32:37.714Z"
   },
   {
    "duration": 14,
    "start_time": "2022-05-21T11:32:37.733Z"
   },
   {
    "duration": 43,
    "start_time": "2022-05-21T11:32:37.749Z"
   },
   {
    "duration": 13,
    "start_time": "2022-05-21T11:32:37.793Z"
   },
   {
    "duration": 552,
    "start_time": "2022-05-21T11:32:37.807Z"
   },
   {
    "duration": 9,
    "start_time": "2022-05-21T11:32:38.361Z"
   },
   {
    "duration": 16,
    "start_time": "2022-05-21T11:44:56.758Z"
   },
   {
    "duration": 8,
    "start_time": "2022-05-21T11:46:16.314Z"
   },
   {
    "duration": 308,
    "start_time": "2022-05-21T11:51:26.614Z"
   },
   {
    "duration": 219,
    "start_time": "2022-05-21T11:53:08.770Z"
   },
   {
    "duration": 233,
    "start_time": "2022-05-21T11:55:32.883Z"
   },
   {
    "duration": 262,
    "start_time": "2022-05-21T11:55:55.263Z"
   },
   {
    "duration": 215,
    "start_time": "2022-05-21T11:56:27.292Z"
   },
   {
    "duration": 61,
    "start_time": "2022-05-21T13:59:54.140Z"
   },
   {
    "duration": 913,
    "start_time": "2022-05-21T13:59:58.714Z"
   },
   {
    "duration": 90,
    "start_time": "2022-05-21T13:59:59.629Z"
   },
   {
    "duration": 14,
    "start_time": "2022-05-21T13:59:59.721Z"
   },
   {
    "duration": 10,
    "start_time": "2022-05-21T13:59:59.737Z"
   },
   {
    "duration": 9,
    "start_time": "2022-05-21T13:59:59.749Z"
   },
   {
    "duration": 15,
    "start_time": "2022-05-21T13:59:59.764Z"
   },
   {
    "duration": 15,
    "start_time": "2022-05-21T13:59:59.781Z"
   },
   {
    "duration": 6,
    "start_time": "2022-05-21T13:59:59.797Z"
   },
   {
    "duration": 117,
    "start_time": "2022-05-21T13:59:59.805Z"
   },
   {
    "duration": 0,
    "start_time": "2022-05-21T13:59:59.926Z"
   },
   {
    "duration": 0,
    "start_time": "2022-05-21T13:59:59.927Z"
   },
   {
    "duration": 0,
    "start_time": "2022-05-21T13:59:59.928Z"
   },
   {
    "duration": 0,
    "start_time": "2022-05-21T13:59:59.930Z"
   },
   {
    "duration": 0,
    "start_time": "2022-05-21T13:59:59.931Z"
   },
   {
    "duration": 0,
    "start_time": "2022-05-21T13:59:59.932Z"
   },
   {
    "duration": 0,
    "start_time": "2022-05-21T13:59:59.934Z"
   },
   {
    "duration": 0,
    "start_time": "2022-05-21T13:59:59.935Z"
   },
   {
    "duration": 0,
    "start_time": "2022-05-21T13:59:59.936Z"
   },
   {
    "duration": 1,
    "start_time": "2022-05-21T13:59:59.937Z"
   },
   {
    "duration": 0,
    "start_time": "2022-05-21T13:59:59.938Z"
   },
   {
    "duration": 0,
    "start_time": "2022-05-21T13:59:59.965Z"
   },
   {
    "duration": 0,
    "start_time": "2022-05-21T13:59:59.966Z"
   },
   {
    "duration": 0,
    "start_time": "2022-05-21T13:59:59.967Z"
   },
   {
    "duration": 0,
    "start_time": "2022-05-21T13:59:59.968Z"
   },
   {
    "duration": 0,
    "start_time": "2022-05-21T13:59:59.969Z"
   },
   {
    "duration": 0,
    "start_time": "2022-05-21T13:59:59.971Z"
   },
   {
    "duration": 0,
    "start_time": "2022-05-21T13:59:59.972Z"
   },
   {
    "duration": 0,
    "start_time": "2022-05-21T13:59:59.973Z"
   },
   {
    "duration": 0,
    "start_time": "2022-05-21T13:59:59.975Z"
   },
   {
    "duration": 0,
    "start_time": "2022-05-21T13:59:59.976Z"
   },
   {
    "duration": 0,
    "start_time": "2022-05-21T13:59:59.978Z"
   },
   {
    "duration": 0,
    "start_time": "2022-05-21T13:59:59.979Z"
   },
   {
    "duration": 0,
    "start_time": "2022-05-21T13:59:59.981Z"
   },
   {
    "duration": 0,
    "start_time": "2022-05-21T13:59:59.982Z"
   },
   {
    "duration": 0,
    "start_time": "2022-05-21T13:59:59.983Z"
   },
   {
    "duration": 0,
    "start_time": "2022-05-21T13:59:59.984Z"
   },
   {
    "duration": 0,
    "start_time": "2022-05-21T13:59:59.986Z"
   },
   {
    "duration": 0,
    "start_time": "2022-05-21T13:59:59.987Z"
   },
   {
    "duration": 0,
    "start_time": "2022-05-21T13:59:59.988Z"
   },
   {
    "duration": 0,
    "start_time": "2022-05-21T13:59:59.989Z"
   },
   {
    "duration": 0,
    "start_time": "2022-05-21T13:59:59.990Z"
   },
   {
    "duration": 0,
    "start_time": "2022-05-21T13:59:59.991Z"
   },
   {
    "duration": 0,
    "start_time": "2022-05-21T13:59:59.993Z"
   },
   {
    "duration": 0,
    "start_time": "2022-05-21T13:59:59.994Z"
   },
   {
    "duration": 0,
    "start_time": "2022-05-21T13:59:59.995Z"
   },
   {
    "duration": 0,
    "start_time": "2022-05-21T13:59:59.996Z"
   },
   {
    "duration": 0,
    "start_time": "2022-05-21T13:59:59.998Z"
   },
   {
    "duration": 0,
    "start_time": "2022-05-21T13:59:59.999Z"
   },
   {
    "duration": 0,
    "start_time": "2022-05-21T14:00:00.000Z"
   },
   {
    "duration": 0,
    "start_time": "2022-05-21T14:00:00.066Z"
   },
   {
    "duration": 0,
    "start_time": "2022-05-21T14:00:00.067Z"
   },
   {
    "duration": 0,
    "start_time": "2022-05-21T14:00:00.069Z"
   },
   {
    "duration": 0,
    "start_time": "2022-05-21T14:00:00.070Z"
   },
   {
    "duration": 0,
    "start_time": "2022-05-21T14:00:00.071Z"
   },
   {
    "duration": 0,
    "start_time": "2022-05-21T14:00:00.073Z"
   },
   {
    "duration": 0,
    "start_time": "2022-05-21T14:00:00.074Z"
   },
   {
    "duration": 0,
    "start_time": "2022-05-21T14:00:00.075Z"
   },
   {
    "duration": 0,
    "start_time": "2022-05-21T14:00:00.076Z"
   },
   {
    "duration": 0,
    "start_time": "2022-05-21T14:00:00.077Z"
   },
   {
    "duration": 0,
    "start_time": "2022-05-21T14:00:00.079Z"
   },
   {
    "duration": 12,
    "start_time": "2022-05-21T14:00:37.850Z"
   },
   {
    "duration": 9,
    "start_time": "2022-05-21T14:00:43.904Z"
   },
   {
    "duration": 15,
    "start_time": "2022-05-21T14:00:55.965Z"
   },
   {
    "duration": 7,
    "start_time": "2022-05-21T14:01:02.197Z"
   },
   {
    "duration": 827,
    "start_time": "2022-05-21T14:06:56.020Z"
   },
   {
    "duration": 62,
    "start_time": "2022-05-21T14:06:56.849Z"
   },
   {
    "duration": 15,
    "start_time": "2022-05-21T14:06:56.913Z"
   },
   {
    "duration": 5,
    "start_time": "2022-05-21T14:06:56.930Z"
   },
   {
    "duration": 28,
    "start_time": "2022-05-21T14:06:56.937Z"
   },
   {
    "duration": 19,
    "start_time": "2022-05-21T14:06:56.967Z"
   },
   {
    "duration": 31,
    "start_time": "2022-05-21T14:06:56.987Z"
   },
   {
    "duration": 5,
    "start_time": "2022-05-21T14:06:57.020Z"
   },
   {
    "duration": 13,
    "start_time": "2022-05-21T14:06:57.027Z"
   },
   {
    "duration": 6,
    "start_time": "2022-05-21T14:06:57.042Z"
   },
   {
    "duration": 19,
    "start_time": "2022-05-21T14:06:57.049Z"
   },
   {
    "duration": 5,
    "start_time": "2022-05-21T14:06:57.069Z"
   },
   {
    "duration": 10,
    "start_time": "2022-05-21T14:06:57.076Z"
   },
   {
    "duration": 5,
    "start_time": "2022-05-21T14:06:57.088Z"
   },
   {
    "duration": 9,
    "start_time": "2022-05-21T14:06:57.095Z"
   },
   {
    "duration": 9,
    "start_time": "2022-05-21T14:06:57.105Z"
   },
   {
    "duration": 10,
    "start_time": "2022-05-21T14:06:57.116Z"
   },
   {
    "duration": 48,
    "start_time": "2022-05-21T14:06:57.127Z"
   },
   {
    "duration": 17,
    "start_time": "2022-05-21T14:06:57.177Z"
   },
   {
    "duration": 121,
    "start_time": "2022-05-21T14:06:57.196Z"
   },
   {
    "duration": 261,
    "start_time": "2022-05-21T14:06:57.319Z"
   },
   {
    "duration": 21,
    "start_time": "2022-05-21T14:06:57.582Z"
   },
   {
    "duration": 386,
    "start_time": "2022-05-21T14:06:57.605Z"
   },
   {
    "duration": 29,
    "start_time": "2022-05-21T14:06:57.993Z"
   },
   {
    "duration": 305,
    "start_time": "2022-05-21T14:06:58.023Z"
   },
   {
    "duration": 122,
    "start_time": "2022-05-21T14:06:58.330Z"
   },
   {
    "duration": 10,
    "start_time": "2022-05-21T14:06:58.466Z"
   },
   {
    "duration": 8,
    "start_time": "2022-05-21T14:06:58.480Z"
   },
   {
    "duration": 154,
    "start_time": "2022-05-21T14:06:58.490Z"
   },
   {
    "duration": 18,
    "start_time": "2022-05-21T14:06:58.646Z"
   },
   {
    "duration": 7,
    "start_time": "2022-05-21T14:06:58.666Z"
   },
   {
    "duration": 123,
    "start_time": "2022-05-21T14:06:58.675Z"
   },
   {
    "duration": 10,
    "start_time": "2022-05-21T14:06:58.799Z"
   },
   {
    "duration": 9,
    "start_time": "2022-05-21T14:06:58.810Z"
   },
   {
    "duration": 309,
    "start_time": "2022-05-21T14:06:58.821Z"
   },
   {
    "duration": 6,
    "start_time": "2022-05-21T14:06:59.132Z"
   },
   {
    "duration": 166,
    "start_time": "2022-05-21T14:06:59.140Z"
   },
   {
    "duration": 7,
    "start_time": "2022-05-21T14:06:59.308Z"
   },
   {
    "duration": 171,
    "start_time": "2022-05-21T14:06:59.317Z"
   },
   {
    "duration": 9,
    "start_time": "2022-05-21T14:06:59.490Z"
   },
   {
    "duration": 166,
    "start_time": "2022-05-21T14:06:59.500Z"
   },
   {
    "duration": 7,
    "start_time": "2022-05-21T14:06:59.668Z"
   },
   {
    "duration": 151,
    "start_time": "2022-05-21T14:06:59.677Z"
   },
   {
    "duration": 9,
    "start_time": "2022-05-21T14:06:59.830Z"
   },
   {
    "duration": 151,
    "start_time": "2022-05-21T14:06:59.841Z"
   },
   {
    "duration": 8,
    "start_time": "2022-05-21T14:06:59.994Z"
   },
   {
    "duration": 234,
    "start_time": "2022-05-21T14:07:00.004Z"
   },
   {
    "duration": 26,
    "start_time": "2022-05-21T14:07:00.240Z"
   },
   {
    "duration": 14,
    "start_time": "2022-05-21T14:07:00.268Z"
   },
   {
    "duration": 14,
    "start_time": "2022-05-21T14:07:00.284Z"
   },
   {
    "duration": 32,
    "start_time": "2022-05-21T14:07:00.299Z"
   },
   {
    "duration": 33,
    "start_time": "2022-05-21T14:07:00.333Z"
   },
   {
    "duration": 21,
    "start_time": "2022-05-21T14:07:00.368Z"
   },
   {
    "duration": 30,
    "start_time": "2022-05-21T14:07:00.392Z"
   },
   {
    "duration": 34,
    "start_time": "2022-05-21T14:07:00.424Z"
   },
   {
    "duration": 29,
    "start_time": "2022-05-21T14:07:00.460Z"
   },
   {
    "duration": 39,
    "start_time": "2022-05-21T14:07:00.490Z"
   },
   {
    "duration": 555,
    "start_time": "2022-05-21T14:07:00.531Z"
   },
   {
    "duration": 243,
    "start_time": "2022-05-21T14:07:01.088Z"
   },
   {
    "duration": 9,
    "start_time": "2022-05-21T14:07:01.333Z"
   },
   {
    "duration": 7,
    "start_time": "2022-05-21T15:23:41.405Z"
   },
   {
    "duration": 5,
    "start_time": "2022-05-21T15:24:04.981Z"
   },
   {
    "duration": 782,
    "start_time": "2022-05-21T15:24:13.261Z"
   },
   {
    "duration": 84,
    "start_time": "2022-05-21T15:24:14.045Z"
   },
   {
    "duration": 18,
    "start_time": "2022-05-21T15:24:14.131Z"
   },
   {
    "duration": 15,
    "start_time": "2022-05-21T15:24:14.151Z"
   },
   {
    "duration": 11,
    "start_time": "2022-05-21T15:24:14.168Z"
   },
   {
    "duration": 15,
    "start_time": "2022-05-21T15:24:14.181Z"
   },
   {
    "duration": 11,
    "start_time": "2022-05-21T15:24:14.198Z"
   },
   {
    "duration": 6,
    "start_time": "2022-05-21T15:24:14.211Z"
   },
   {
    "duration": 48,
    "start_time": "2022-05-21T15:24:14.219Z"
   },
   {
    "duration": 7,
    "start_time": "2022-05-21T15:24:14.269Z"
   },
   {
    "duration": 7,
    "start_time": "2022-05-21T15:24:14.277Z"
   },
   {
    "duration": 6,
    "start_time": "2022-05-21T15:24:14.286Z"
   },
   {
    "duration": 9,
    "start_time": "2022-05-21T15:24:14.294Z"
   },
   {
    "duration": 7,
    "start_time": "2022-05-21T15:24:14.306Z"
   },
   {
    "duration": 50,
    "start_time": "2022-05-21T15:24:14.315Z"
   },
   {
    "duration": 9,
    "start_time": "2022-05-21T15:24:14.367Z"
   },
   {
    "duration": 6,
    "start_time": "2022-05-21T15:24:14.378Z"
   },
   {
    "duration": 20,
    "start_time": "2022-05-21T15:24:14.386Z"
   },
   {
    "duration": 21,
    "start_time": "2022-05-21T15:24:14.408Z"
   },
   {
    "duration": 129,
    "start_time": "2022-05-21T15:24:14.466Z"
   },
   {
    "duration": 248,
    "start_time": "2022-05-21T15:24:14.597Z"
   },
   {
    "duration": 29,
    "start_time": "2022-05-21T15:24:14.848Z"
   },
   {
    "duration": 407,
    "start_time": "2022-05-21T15:24:14.880Z"
   },
   {
    "duration": 26,
    "start_time": "2022-05-21T15:24:15.289Z"
   },
   {
    "duration": 312,
    "start_time": "2022-05-21T15:24:15.318Z"
   },
   {
    "duration": 133,
    "start_time": "2022-05-21T15:24:15.632Z"
   },
   {
    "duration": 9,
    "start_time": "2022-05-21T15:24:15.767Z"
   },
   {
    "duration": 9,
    "start_time": "2022-05-21T15:24:15.777Z"
   },
   {
    "duration": 145,
    "start_time": "2022-05-21T15:24:15.788Z"
   },
   {
    "duration": 10,
    "start_time": "2022-05-21T15:24:15.935Z"
   },
   {
    "duration": 23,
    "start_time": "2022-05-21T15:24:15.947Z"
   },
   {
    "duration": 116,
    "start_time": "2022-05-21T15:24:15.972Z"
   },
   {
    "duration": 11,
    "start_time": "2022-05-21T15:24:16.090Z"
   },
   {
    "duration": 9,
    "start_time": "2022-05-21T15:24:16.102Z"
   },
   {
    "duration": 259,
    "start_time": "2022-05-21T15:24:16.113Z"
   },
   {
    "duration": 8,
    "start_time": "2022-05-21T15:24:16.374Z"
   },
   {
    "duration": 171,
    "start_time": "2022-05-21T15:24:16.384Z"
   },
   {
    "duration": 20,
    "start_time": "2022-05-21T15:24:16.557Z"
   },
   {
    "duration": 167,
    "start_time": "2022-05-21T15:24:16.579Z"
   },
   {
    "duration": 16,
    "start_time": "2022-05-21T15:24:16.749Z"
   },
   {
    "duration": 164,
    "start_time": "2022-05-21T15:24:16.770Z"
   },
   {
    "duration": 8,
    "start_time": "2022-05-21T15:24:16.935Z"
   },
   {
    "duration": 141,
    "start_time": "2022-05-21T15:24:16.964Z"
   },
   {
    "duration": 7,
    "start_time": "2022-05-21T15:24:17.107Z"
   },
   {
    "duration": 158,
    "start_time": "2022-05-21T15:24:17.116Z"
   },
   {
    "duration": 9,
    "start_time": "2022-05-21T15:24:17.277Z"
   },
   {
    "duration": 244,
    "start_time": "2022-05-21T15:24:17.287Z"
   },
   {
    "duration": 15,
    "start_time": "2022-05-21T15:24:17.533Z"
   },
   {
    "duration": 30,
    "start_time": "2022-05-21T15:24:17.550Z"
   },
   {
    "duration": 16,
    "start_time": "2022-05-21T15:24:17.582Z"
   },
   {
    "duration": 18,
    "start_time": "2022-05-21T15:24:17.600Z"
   },
   {
    "duration": 16,
    "start_time": "2022-05-21T15:24:17.620Z"
   },
   {
    "duration": 24,
    "start_time": "2022-05-21T15:24:17.666Z"
   },
   {
    "duration": 16,
    "start_time": "2022-05-21T15:24:17.692Z"
   },
   {
    "duration": 14,
    "start_time": "2022-05-21T15:24:17.710Z"
   },
   {
    "duration": 45,
    "start_time": "2022-05-21T15:24:17.726Z"
   },
   {
    "duration": 11,
    "start_time": "2022-05-21T15:24:17.773Z"
   },
   {
    "duration": 490,
    "start_time": "2022-05-21T15:24:17.786Z"
   },
   {
    "duration": 232,
    "start_time": "2022-05-21T15:24:18.278Z"
   },
   {
    "duration": 7,
    "start_time": "2022-05-21T15:24:18.512Z"
   },
   {
    "duration": 6,
    "start_time": "2022-05-21T15:26:11.580Z"
   },
   {
    "duration": 8,
    "start_time": "2022-05-21T15:26:31.288Z"
   },
   {
    "duration": 5,
    "start_time": "2022-05-21T15:26:55.079Z"
   },
   {
    "duration": 754,
    "start_time": "2022-05-21T15:29:56.884Z"
   },
   {
    "duration": 64,
    "start_time": "2022-05-21T15:29:57.640Z"
   },
   {
    "duration": 16,
    "start_time": "2022-05-21T15:29:57.705Z"
   },
   {
    "duration": 5,
    "start_time": "2022-05-21T15:29:57.723Z"
   },
   {
    "duration": 34,
    "start_time": "2022-05-21T15:29:57.731Z"
   },
   {
    "duration": 16,
    "start_time": "2022-05-21T15:29:57.767Z"
   },
   {
    "duration": 13,
    "start_time": "2022-05-21T15:29:57.786Z"
   },
   {
    "duration": 6,
    "start_time": "2022-05-21T15:29:57.801Z"
   },
   {
    "duration": 11,
    "start_time": "2022-05-21T15:29:57.809Z"
   },
   {
    "duration": 44,
    "start_time": "2022-05-21T15:29:57.821Z"
   },
   {
    "duration": 7,
    "start_time": "2022-05-21T15:29:57.867Z"
   },
   {
    "duration": 12,
    "start_time": "2022-05-21T15:29:57.875Z"
   },
   {
    "duration": 7,
    "start_time": "2022-05-21T15:29:57.889Z"
   },
   {
    "duration": 6,
    "start_time": "2022-05-21T15:29:57.899Z"
   },
   {
    "duration": 6,
    "start_time": "2022-05-21T15:29:57.906Z"
   },
   {
    "duration": 11,
    "start_time": "2022-05-21T15:29:57.914Z"
   },
   {
    "duration": 39,
    "start_time": "2022-05-21T15:29:57.927Z"
   },
   {
    "duration": 5,
    "start_time": "2022-05-21T15:29:57.968Z"
   },
   {
    "duration": 19,
    "start_time": "2022-05-21T15:29:57.975Z"
   },
   {
    "duration": 18,
    "start_time": "2022-05-21T15:29:57.996Z"
   },
   {
    "duration": 158,
    "start_time": "2022-05-21T15:29:58.016Z"
   },
   {
    "duration": 252,
    "start_time": "2022-05-21T15:29:58.176Z"
   },
   {
    "duration": 40,
    "start_time": "2022-05-21T15:29:58.431Z"
   },
   {
    "duration": 393,
    "start_time": "2022-05-21T15:29:58.474Z"
   },
   {
    "duration": 47,
    "start_time": "2022-05-21T15:29:58.870Z"
   },
   {
    "duration": 531,
    "start_time": "2022-05-21T15:29:58.920Z"
   },
   {
    "duration": 141,
    "start_time": "2022-05-21T15:29:59.453Z"
   },
   {
    "duration": 11,
    "start_time": "2022-05-21T15:29:59.596Z"
   },
   {
    "duration": 10,
    "start_time": "2022-05-21T15:29:59.609Z"
   },
   {
    "duration": 167,
    "start_time": "2022-05-21T15:29:59.622Z"
   },
   {
    "duration": 11,
    "start_time": "2022-05-21T15:29:59.791Z"
   },
   {
    "duration": 12,
    "start_time": "2022-05-21T15:29:59.804Z"
   },
   {
    "duration": 131,
    "start_time": "2022-05-21T15:29:59.818Z"
   },
   {
    "duration": 20,
    "start_time": "2022-05-21T15:29:59.951Z"
   },
   {
    "duration": 11,
    "start_time": "2022-05-21T15:29:59.973Z"
   },
   {
    "duration": 264,
    "start_time": "2022-05-21T15:29:59.987Z"
   },
   {
    "duration": 17,
    "start_time": "2022-05-21T15:30:00.253Z"
   },
   {
    "duration": 173,
    "start_time": "2022-05-21T15:30:00.272Z"
   },
   {
    "duration": 8,
    "start_time": "2022-05-21T15:30:00.447Z"
   },
   {
    "duration": 178,
    "start_time": "2022-05-21T15:30:00.465Z"
   },
   {
    "duration": 18,
    "start_time": "2022-05-21T15:30:00.647Z"
   },
   {
    "duration": 193,
    "start_time": "2022-05-21T15:30:00.667Z"
   },
   {
    "duration": 8,
    "start_time": "2022-05-21T15:30:00.865Z"
   },
   {
    "duration": 176,
    "start_time": "2022-05-21T15:30:00.875Z"
   },
   {
    "duration": 16,
    "start_time": "2022-05-21T15:30:01.053Z"
   },
   {
    "duration": 209,
    "start_time": "2022-05-21T15:30:01.071Z"
   },
   {
    "duration": 11,
    "start_time": "2022-05-21T15:30:01.282Z"
   },
   {
    "duration": 258,
    "start_time": "2022-05-21T15:30:01.296Z"
   },
   {
    "duration": 20,
    "start_time": "2022-05-21T15:30:01.556Z"
   },
   {
    "duration": 23,
    "start_time": "2022-05-21T15:30:01.577Z"
   },
   {
    "duration": 23,
    "start_time": "2022-05-21T15:30:01.602Z"
   },
   {
    "duration": 53,
    "start_time": "2022-05-21T15:30:01.627Z"
   },
   {
    "duration": 21,
    "start_time": "2022-05-21T15:30:01.683Z"
   },
   {
    "duration": 37,
    "start_time": "2022-05-21T15:30:01.706Z"
   },
   {
    "duration": 24,
    "start_time": "2022-05-21T15:30:01.745Z"
   },
   {
    "duration": 42,
    "start_time": "2022-05-21T15:30:01.772Z"
   },
   {
    "duration": 30,
    "start_time": "2022-05-21T15:30:01.816Z"
   },
   {
    "duration": 25,
    "start_time": "2022-05-21T15:30:01.847Z"
   },
   {
    "duration": 610,
    "start_time": "2022-05-21T15:30:01.875Z"
   },
   {
    "duration": 261,
    "start_time": "2022-05-21T15:30:02.487Z"
   },
   {
    "duration": 16,
    "start_time": "2022-05-21T15:30:02.750Z"
   },
   {
    "duration": 30,
    "start_time": "2022-05-21T15:32:24.634Z"
   },
   {
    "duration": 368,
    "start_time": "2022-05-21T15:32:30.966Z"
   },
   {
    "duration": 24,
    "start_time": "2022-05-21T15:33:47.863Z"
   },
   {
    "duration": 370,
    "start_time": "2022-05-21T15:33:55.075Z"
   },
   {
    "duration": 32,
    "start_time": "2022-05-21T15:34:42.162Z"
   },
   {
    "duration": 231,
    "start_time": "2022-05-21T15:34:49.089Z"
   },
   {
    "duration": 204,
    "start_time": "2022-05-21T15:34:57.615Z"
   },
   {
    "duration": 228,
    "start_time": "2022-05-21T15:35:58.265Z"
   },
   {
    "duration": 35,
    "start_time": "2022-05-21T15:36:35.023Z"
   },
   {
    "duration": 339,
    "start_time": "2022-05-21T15:36:39.767Z"
   },
   {
    "duration": 26,
    "start_time": "2022-05-21T15:37:04.875Z"
   },
   {
    "duration": 552,
    "start_time": "2022-05-21T15:37:08.661Z"
   },
   {
    "duration": 458,
    "start_time": "2022-05-21T15:45:29.724Z"
   },
   {
    "duration": 159,
    "start_time": "2022-05-21T15:45:56.381Z"
   },
   {
    "duration": 161,
    "start_time": "2022-05-21T15:46:10.858Z"
   },
   {
    "duration": 152,
    "start_time": "2022-05-21T15:46:20.606Z"
   },
   {
    "duration": 145,
    "start_time": "2022-05-21T15:46:36.658Z"
   },
   {
    "duration": 141,
    "start_time": "2022-05-21T15:46:45.877Z"
   },
   {
    "duration": 122,
    "start_time": "2022-05-21T15:49:58.124Z"
   },
   {
    "duration": 116,
    "start_time": "2022-05-21T15:50:43.375Z"
   },
   {
    "duration": 222,
    "start_time": "2022-05-21T15:50:53.312Z"
   },
   {
    "duration": 232,
    "start_time": "2022-05-21T15:51:00.724Z"
   },
   {
    "duration": 243,
    "start_time": "2022-05-21T15:51:38.365Z"
   },
   {
    "duration": 200,
    "start_time": "2022-05-21T15:53:48.722Z"
   },
   {
    "duration": 234,
    "start_time": "2022-05-21T15:54:02.965Z"
   },
   {
    "duration": 215,
    "start_time": "2022-05-21T15:54:17.593Z"
   },
   {
    "duration": 261,
    "start_time": "2022-05-21T15:58:56.445Z"
   },
   {
    "duration": 424,
    "start_time": "2022-05-21T15:59:08.665Z"
   },
   {
    "duration": 228,
    "start_time": "2022-05-21T15:59:32.152Z"
   },
   {
    "duration": 145,
    "start_time": "2022-05-21T16:03:43.558Z"
   },
   {
    "duration": 123,
    "start_time": "2022-05-21T16:04:10.424Z"
   },
   {
    "duration": 133,
    "start_time": "2022-05-21T16:06:11.102Z"
   },
   {
    "duration": 146,
    "start_time": "2022-05-21T16:06:27.761Z"
   },
   {
    "duration": 181,
    "start_time": "2022-05-21T16:07:38.984Z"
   },
   {
    "duration": 132,
    "start_time": "2022-05-21T16:08:05.800Z"
   },
   {
    "duration": 125,
    "start_time": "2022-05-21T16:08:28.252Z"
   },
   {
    "duration": 169,
    "start_time": "2022-05-21T16:09:22.858Z"
   },
   {
    "duration": 149,
    "start_time": "2022-05-21T16:09:47.242Z"
   },
   {
    "duration": 146,
    "start_time": "2022-05-21T16:10:05.551Z"
   },
   {
    "duration": 143,
    "start_time": "2022-05-21T16:10:30.108Z"
   },
   {
    "duration": 123,
    "start_time": "2022-05-21T16:14:00.870Z"
   },
   {
    "duration": 126,
    "start_time": "2022-05-21T16:14:21.756Z"
   },
   {
    "duration": 134,
    "start_time": "2022-05-21T16:14:57.158Z"
   },
   {
    "duration": 137,
    "start_time": "2022-05-21T16:15:57.255Z"
   },
   {
    "duration": 130,
    "start_time": "2022-05-21T16:19:10.175Z"
   },
   {
    "duration": 114,
    "start_time": "2022-05-21T16:19:15.967Z"
   },
   {
    "duration": 401,
    "start_time": "2022-05-21T16:34:03.347Z"
   },
   {
    "duration": 267,
    "start_time": "2022-05-21T16:36:34.811Z"
   },
   {
    "duration": 280,
    "start_time": "2022-05-21T16:38:20.224Z"
   },
   {
    "duration": 280,
    "start_time": "2022-05-21T16:38:28.146Z"
   },
   {
    "duration": 277,
    "start_time": "2022-05-21T16:40:26.102Z"
   },
   {
    "duration": 286,
    "start_time": "2022-05-21T16:41:31.185Z"
   },
   {
    "duration": 169,
    "start_time": "2022-05-21T16:42:16.958Z"
   },
   {
    "duration": 136,
    "start_time": "2022-05-21T16:42:30.950Z"
   },
   {
    "duration": 304,
    "start_time": "2022-05-21T16:42:51.810Z"
   },
   {
    "duration": 280,
    "start_time": "2022-05-21T16:43:05.460Z"
   },
   {
    "duration": 527,
    "start_time": "2022-05-21T16:43:58.633Z"
   },
   {
    "duration": 267,
    "start_time": "2022-05-21T16:44:46.719Z"
   },
   {
    "duration": 281,
    "start_time": "2022-05-21T16:44:52.231Z"
   },
   {
    "duration": 300,
    "start_time": "2022-05-21T16:46:01.724Z"
   },
   {
    "duration": 16,
    "start_time": "2022-05-21T16:59:07.364Z"
   },
   {
    "duration": 21,
    "start_time": "2022-05-21T16:59:50.551Z"
   },
   {
    "duration": 17,
    "start_time": "2022-05-21T17:00:12.851Z"
   },
   {
    "duration": 16,
    "start_time": "2022-05-21T17:00:40.424Z"
   },
   {
    "duration": 13,
    "start_time": "2022-05-21T17:01:04.091Z"
   },
   {
    "duration": 308,
    "start_time": "2022-05-21T17:01:22.435Z"
   },
   {
    "duration": 16,
    "start_time": "2022-05-21T17:02:33.732Z"
   },
   {
    "duration": 16,
    "start_time": "2022-05-21T17:02:44.351Z"
   },
   {
    "duration": 18,
    "start_time": "2022-05-21T17:02:59.090Z"
   },
   {
    "duration": 12,
    "start_time": "2022-05-21T17:04:59.799Z"
   },
   {
    "duration": 11,
    "start_time": "2022-05-21T17:06:37.322Z"
   },
   {
    "duration": 11,
    "start_time": "2022-05-21T17:08:33.432Z"
   },
   {
    "duration": 16,
    "start_time": "2022-05-21T17:08:39.919Z"
   },
   {
    "duration": 9,
    "start_time": "2022-05-21T17:09:14.971Z"
   },
   {
    "duration": 8,
    "start_time": "2022-05-21T17:09:48.987Z"
   },
   {
    "duration": 15,
    "start_time": "2022-05-21T17:10:53.555Z"
   },
   {
    "duration": 294,
    "start_time": "2022-05-21T17:12:24.873Z"
   },
   {
    "duration": 273,
    "start_time": "2022-05-21T17:25:47.868Z"
   },
   {
    "duration": 284,
    "start_time": "2022-05-21T17:26:04.016Z"
   },
   {
    "duration": 408,
    "start_time": "2022-05-21T17:26:20.152Z"
   },
   {
    "duration": 87,
    "start_time": "2022-05-21T17:26:37.777Z"
   },
   {
    "duration": 15,
    "start_time": "2022-05-21T17:28:08.856Z"
   },
   {
    "duration": 9,
    "start_time": "2022-05-21T17:28:31.210Z"
   },
   {
    "duration": 17,
    "start_time": "2022-05-21T17:28:34.301Z"
   },
   {
    "duration": 9,
    "start_time": "2022-05-21T17:28:36.911Z"
   },
   {
    "duration": 10,
    "start_time": "2022-05-21T17:30:24.072Z"
   },
   {
    "duration": 11,
    "start_time": "2022-05-21T17:30:41.552Z"
   },
   {
    "duration": 13,
    "start_time": "2022-05-21T17:31:11.249Z"
   },
   {
    "duration": 13,
    "start_time": "2022-05-21T17:31:25.810Z"
   },
   {
    "duration": 12,
    "start_time": "2022-05-21T17:31:49.663Z"
   },
   {
    "duration": 12,
    "start_time": "2022-05-21T17:31:55.049Z"
   },
   {
    "duration": 14,
    "start_time": "2022-05-21T17:32:07.767Z"
   },
   {
    "duration": 17,
    "start_time": "2022-05-21T17:32:41.387Z"
   },
   {
    "duration": 24,
    "start_time": "2022-05-21T17:39:14.351Z"
   },
   {
    "duration": 21,
    "start_time": "2022-05-21T17:39:29.915Z"
   },
   {
    "duration": 44,
    "start_time": "2022-05-21T17:40:32.088Z"
   },
   {
    "duration": 11,
    "start_time": "2022-05-21T17:40:40.468Z"
   },
   {
    "duration": 10,
    "start_time": "2022-05-21T17:41:07.555Z"
   },
   {
    "duration": 18,
    "start_time": "2022-05-21T17:41:11.557Z"
   },
   {
    "duration": 9,
    "start_time": "2022-05-21T17:41:15.586Z"
   },
   {
    "duration": 7,
    "start_time": "2022-05-21T17:42:24.747Z"
   },
   {
    "duration": 15,
    "start_time": "2022-05-21T17:43:27.927Z"
   },
   {
    "duration": 290,
    "start_time": "2022-05-21T17:43:40.496Z"
   },
   {
    "duration": 295,
    "start_time": "2022-05-21T17:44:02.858Z"
   },
   {
    "duration": 139,
    "start_time": "2022-05-21T17:45:47.188Z"
   },
   {
    "duration": 298,
    "start_time": "2022-05-21T17:47:27.948Z"
   },
   {
    "duration": 563,
    "start_time": "2022-05-21T17:47:45.357Z"
   },
   {
    "duration": 771,
    "start_time": "2022-05-21T17:47:59.877Z"
   },
   {
    "duration": 121,
    "start_time": "2022-05-21T17:48:18.632Z"
   },
   {
    "duration": 92,
    "start_time": "2022-05-21T17:48:31.297Z"
   },
   {
    "duration": 14,
    "start_time": "2022-05-21T17:48:40.956Z"
   },
   {
    "duration": 94,
    "start_time": "2022-05-21T17:51:47.986Z"
   },
   {
    "duration": 11,
    "start_time": "2022-05-21T17:53:39.027Z"
   },
   {
    "duration": 9,
    "start_time": "2022-05-21T17:53:43.900Z"
   },
   {
    "duration": 24,
    "start_time": "2022-05-21T17:53:51.343Z"
   },
   {
    "duration": 21,
    "start_time": "2022-05-21T17:53:55.496Z"
   },
   {
    "duration": 798,
    "start_time": "2022-05-21T17:54:11.588Z"
   },
   {
    "duration": 202,
    "start_time": "2022-05-21T17:55:31.577Z"
   },
   {
    "duration": 17,
    "start_time": "2022-05-21T17:56:10.407Z"
   },
   {
    "duration": 16,
    "start_time": "2022-05-21T17:56:16.228Z"
   },
   {
    "duration": 208,
    "start_time": "2022-05-21T17:56:35.626Z"
   },
   {
    "duration": 400,
    "start_time": "2022-05-21T17:56:53.134Z"
   },
   {
    "duration": 294,
    "start_time": "2022-05-21T17:58:10.698Z"
   },
   {
    "duration": 308,
    "start_time": "2022-05-21T17:59:10.096Z"
   },
   {
    "duration": 307,
    "start_time": "2022-05-21T17:59:35.280Z"
   },
   {
    "duration": 275,
    "start_time": "2022-05-21T18:00:06.976Z"
   },
   {
    "duration": 318,
    "start_time": "2022-05-21T18:00:48.028Z"
   },
   {
    "duration": 387,
    "start_time": "2022-05-21T18:01:00.766Z"
   },
   {
    "duration": 79,
    "start_time": "2022-05-21T18:01:24.956Z"
   },
   {
    "duration": 112,
    "start_time": "2022-05-21T18:01:59.397Z"
   },
   {
    "duration": 132,
    "start_time": "2022-05-21T18:02:46.954Z"
   },
   {
    "duration": 99,
    "start_time": "2022-05-21T18:03:21.028Z"
   },
   {
    "duration": 147,
    "start_time": "2022-05-21T18:04:52.457Z"
   },
   {
    "duration": 112,
    "start_time": "2022-05-21T18:05:28.095Z"
   },
   {
    "duration": 284,
    "start_time": "2022-05-21T18:07:38.516Z"
   },
   {
    "duration": 325,
    "start_time": "2022-05-21T18:08:00.356Z"
   },
   {
    "duration": 321,
    "start_time": "2022-05-21T18:09:13.818Z"
   },
   {
    "duration": 156,
    "start_time": "2022-05-21T18:09:23.576Z"
   },
   {
    "duration": 17,
    "start_time": "2022-05-21T18:11:54.606Z"
   },
   {
    "duration": 19,
    "start_time": "2022-05-21T18:12:53.845Z"
   },
   {
    "duration": 562,
    "start_time": "2022-05-21T18:16:16.494Z"
   },
   {
    "duration": 17,
    "start_time": "2022-05-21T18:16:32.470Z"
   },
   {
    "duration": 26,
    "start_time": "2022-05-21T18:16:40.953Z"
   },
   {
    "duration": 22,
    "start_time": "2022-05-21T18:16:49.264Z"
   },
   {
    "duration": 594,
    "start_time": "2022-05-21T18:16:52.206Z"
   },
   {
    "duration": 17,
    "start_time": "2022-05-21T18:23:47.357Z"
   },
   {
    "duration": 25,
    "start_time": "2022-05-21T18:23:49.003Z"
   },
   {
    "duration": 19,
    "start_time": "2022-05-21T18:24:57.156Z"
   },
   {
    "duration": 12,
    "start_time": "2022-05-21T18:25:19.022Z"
   },
   {
    "duration": 178,
    "start_time": "2022-05-21T18:25:37.920Z"
   },
   {
    "duration": 3,
    "start_time": "2022-05-21T18:26:33.491Z"
   },
   {
    "duration": 4,
    "start_time": "2022-05-21T18:26:34.659Z"
   },
   {
    "duration": 99,
    "start_time": "2022-05-21T18:26:38.191Z"
   },
   {
    "duration": 298,
    "start_time": "2022-05-21T18:27:22.368Z"
   },
   {
    "duration": 9,
    "start_time": "2022-05-21T18:28:17.079Z"
   },
   {
    "duration": 8,
    "start_time": "2022-05-21T18:28:25.458Z"
   },
   {
    "duration": 9,
    "start_time": "2022-05-21T18:29:51.570Z"
   },
   {
    "duration": 10,
    "start_time": "2022-05-21T18:32:51.400Z"
   },
   {
    "duration": 7,
    "start_time": "2022-05-21T18:35:59.773Z"
   },
   {
    "duration": 32,
    "start_time": "2022-05-21T18:36:55.293Z"
   },
   {
    "duration": 6,
    "start_time": "2022-05-21T18:36:59.786Z"
   },
   {
    "duration": 7,
    "start_time": "2022-05-21T18:37:28.156Z"
   },
   {
    "duration": 8,
    "start_time": "2022-05-21T18:39:19.491Z"
   },
   {
    "duration": 1307,
    "start_time": "2022-05-21T19:02:32.230Z"
   },
   {
    "duration": 90,
    "start_time": "2022-05-21T19:02:33.539Z"
   },
   {
    "duration": 23,
    "start_time": "2022-05-21T19:02:33.631Z"
   },
   {
    "duration": 7,
    "start_time": "2022-05-21T19:02:33.665Z"
   },
   {
    "duration": 19,
    "start_time": "2022-05-21T19:02:33.676Z"
   },
   {
    "duration": 21,
    "start_time": "2022-05-21T19:02:33.697Z"
   },
   {
    "duration": 45,
    "start_time": "2022-05-21T19:02:33.720Z"
   },
   {
    "duration": 7,
    "start_time": "2022-05-21T19:02:33.767Z"
   },
   {
    "duration": 12,
    "start_time": "2022-05-21T19:02:33.776Z"
   },
   {
    "duration": 8,
    "start_time": "2022-05-21T19:02:33.790Z"
   },
   {
    "duration": 11,
    "start_time": "2022-05-21T19:02:33.800Z"
   },
   {
    "duration": 5,
    "start_time": "2022-05-21T19:02:33.813Z"
   },
   {
    "duration": 12,
    "start_time": "2022-05-21T19:02:33.820Z"
   },
   {
    "duration": 7,
    "start_time": "2022-05-21T19:02:33.867Z"
   },
   {
    "duration": 11,
    "start_time": "2022-05-21T19:02:33.876Z"
   },
   {
    "duration": 17,
    "start_time": "2022-05-21T19:02:33.890Z"
   },
   {
    "duration": 6,
    "start_time": "2022-05-21T19:02:33.910Z"
   },
   {
    "duration": 7,
    "start_time": "2022-05-21T19:02:33.918Z"
   },
   {
    "duration": 41,
    "start_time": "2022-05-21T19:02:33.927Z"
   },
   {
    "duration": 22,
    "start_time": "2022-05-21T19:02:33.970Z"
   },
   {
    "duration": 136,
    "start_time": "2022-05-21T19:02:33.994Z"
   },
   {
    "duration": 277,
    "start_time": "2022-05-21T19:02:34.132Z"
   },
   {
    "duration": 27,
    "start_time": "2022-05-21T19:02:34.411Z"
   },
   {
    "duration": 499,
    "start_time": "2022-05-21T19:02:34.440Z"
   },
   {
    "duration": 37,
    "start_time": "2022-05-21T19:02:34.941Z"
   },
   {
    "duration": 328,
    "start_time": "2022-05-21T19:02:34.980Z"
   },
   {
    "duration": 134,
    "start_time": "2022-05-21T19:02:35.310Z"
   },
   {
    "duration": 135,
    "start_time": "2022-05-21T19:02:35.446Z"
   },
   {
    "duration": 166,
    "start_time": "2022-05-21T19:02:35.583Z"
   },
   {
    "duration": 16,
    "start_time": "2022-05-21T19:02:35.751Z"
   },
   {
    "duration": 163,
    "start_time": "2022-05-21T19:02:35.769Z"
   },
   {
    "duration": 7,
    "start_time": "2022-05-21T19:02:35.934Z"
   },
   {
    "duration": 175,
    "start_time": "2022-05-21T19:02:35.943Z"
   },
   {
    "duration": 8,
    "start_time": "2022-05-21T19:02:36.120Z"
   },
   {
    "duration": 165,
    "start_time": "2022-05-21T19:02:36.130Z"
   },
   {
    "duration": 10,
    "start_time": "2022-05-21T19:02:36.297Z"
   },
   {
    "duration": 168,
    "start_time": "2022-05-21T19:02:36.308Z"
   },
   {
    "duration": 8,
    "start_time": "2022-05-21T19:02:36.479Z"
   },
   {
    "duration": 175,
    "start_time": "2022-05-21T19:02:36.489Z"
   },
   {
    "duration": 9,
    "start_time": "2022-05-21T19:02:36.667Z"
   },
   {
    "duration": 329,
    "start_time": "2022-05-21T19:02:36.681Z"
   },
   {
    "duration": 311,
    "start_time": "2022-05-21T19:02:37.012Z"
   },
   {
    "duration": 345,
    "start_time": "2022-05-21T19:02:37.326Z"
   },
   {
    "duration": 17,
    "start_time": "2022-05-21T19:02:37.673Z"
   },
   {
    "duration": 18,
    "start_time": "2022-05-21T19:02:37.692Z"
   },
   {
    "duration": 16,
    "start_time": "2022-05-21T19:02:37.712Z"
   },
   {
    "duration": 425,
    "start_time": "2022-05-21T19:02:37.766Z"
   },
   {
    "duration": 23,
    "start_time": "2022-05-21T19:02:38.194Z"
   },
   {
    "duration": 22,
    "start_time": "2022-05-21T19:02:38.266Z"
   },
   {
    "duration": 24,
    "start_time": "2022-05-21T19:02:38.290Z"
   },
   {
    "duration": 915,
    "start_time": "2022-05-21T19:02:38.366Z"
   },
   {
    "duration": 22,
    "start_time": "2022-05-21T19:02:39.284Z"
   },
   {
    "duration": 73,
    "start_time": "2022-05-21T19:02:39.309Z"
   },
   {
    "duration": 22,
    "start_time": "2022-05-21T19:02:39.384Z"
   },
   {
    "duration": 530,
    "start_time": "2022-05-21T19:02:39.409Z"
   },
   {
    "duration": 26,
    "start_time": "2022-05-21T19:02:39.942Z"
   },
   {
    "duration": 12,
    "start_time": "2022-05-21T19:02:39.970Z"
   },
   {
    "duration": 279,
    "start_time": "2022-05-21T19:02:39.985Z"
   },
   {
    "duration": 7,
    "start_time": "2022-05-21T19:02:40.266Z"
   },
   {
    "duration": 13,
    "start_time": "2022-05-21T19:02:40.275Z"
   },
   {
    "duration": 8,
    "start_time": "2022-05-21T19:02:40.291Z"
   },
   {
    "duration": 1124,
    "start_time": "2022-05-22T11:46:16.678Z"
   },
   {
    "duration": 59,
    "start_time": "2022-05-22T11:46:17.804Z"
   },
   {
    "duration": 12,
    "start_time": "2022-05-22T11:46:17.865Z"
   },
   {
    "duration": 5,
    "start_time": "2022-05-22T11:46:17.879Z"
   },
   {
    "duration": 9,
    "start_time": "2022-05-22T11:46:17.885Z"
   },
   {
    "duration": 14,
    "start_time": "2022-05-22T11:46:17.895Z"
   },
   {
    "duration": 12,
    "start_time": "2022-05-22T11:46:17.911Z"
   },
   {
    "duration": 5,
    "start_time": "2022-05-22T11:46:17.924Z"
   },
   {
    "duration": 7,
    "start_time": "2022-05-22T11:46:17.952Z"
   },
   {
    "duration": 6,
    "start_time": "2022-05-22T11:46:17.961Z"
   },
   {
    "duration": 7,
    "start_time": "2022-05-22T11:46:17.969Z"
   },
   {
    "duration": 7,
    "start_time": "2022-05-22T11:46:17.978Z"
   },
   {
    "duration": 7,
    "start_time": "2022-05-22T11:46:17.987Z"
   },
   {
    "duration": 6,
    "start_time": "2022-05-22T11:46:17.995Z"
   },
   {
    "duration": 6,
    "start_time": "2022-05-22T11:46:18.002Z"
   },
   {
    "duration": 42,
    "start_time": "2022-05-22T11:46:18.010Z"
   },
   {
    "duration": 5,
    "start_time": "2022-05-22T11:46:18.054Z"
   },
   {
    "duration": 9,
    "start_time": "2022-05-22T11:46:18.060Z"
   },
   {
    "duration": 20,
    "start_time": "2022-05-22T11:46:18.070Z"
   },
   {
    "duration": 17,
    "start_time": "2022-05-22T11:46:18.091Z"
   },
   {
    "duration": 109,
    "start_time": "2022-05-22T11:46:18.109Z"
   },
   {
    "duration": 233,
    "start_time": "2022-05-22T11:46:18.219Z"
   },
   {
    "duration": 19,
    "start_time": "2022-05-22T11:46:18.453Z"
   },
   {
    "duration": 418,
    "start_time": "2022-05-22T11:46:18.474Z"
   },
   {
    "duration": 26,
    "start_time": "2022-05-22T11:46:18.893Z"
   },
   {
    "duration": 274,
    "start_time": "2022-05-22T11:46:18.921Z"
   },
   {
    "duration": 134,
    "start_time": "2022-05-22T11:46:19.196Z"
   },
   {
    "duration": 125,
    "start_time": "2022-05-22T11:46:19.333Z"
   },
   {
    "duration": 553,
    "start_time": "2022-05-22T11:46:19.460Z"
   },
   {
    "duration": 172,
    "start_time": "2022-05-22T11:46:20.015Z"
   },
   {
    "duration": 8,
    "start_time": "2022-05-22T11:46:20.189Z"
   },
   {
    "duration": 160,
    "start_time": "2022-05-22T11:46:20.198Z"
   },
   {
    "duration": 8,
    "start_time": "2022-05-22T11:46:20.360Z"
   },
   {
    "duration": 245,
    "start_time": "2022-05-22T11:46:20.370Z"
   },
   {
    "duration": 7,
    "start_time": "2022-05-22T11:46:20.617Z"
   },
   {
    "duration": 154,
    "start_time": "2022-05-22T11:46:20.625Z"
   },
   {
    "duration": 7,
    "start_time": "2022-05-22T11:46:20.781Z"
   },
   {
    "duration": 147,
    "start_time": "2022-05-22T11:46:20.789Z"
   },
   {
    "duration": 7,
    "start_time": "2022-05-22T11:46:20.938Z"
   },
   {
    "duration": 147,
    "start_time": "2022-05-22T11:46:20.946Z"
   },
   {
    "duration": 7,
    "start_time": "2022-05-22T11:46:21.094Z"
   },
   {
    "duration": 205,
    "start_time": "2022-05-22T11:46:21.103Z"
   },
   {
    "duration": 263,
    "start_time": "2022-05-22T11:46:21.310Z"
   },
   {
    "duration": 261,
    "start_time": "2022-05-22T11:46:21.575Z"
   },
   {
    "duration": 21,
    "start_time": "2022-05-22T11:46:21.838Z"
   },
   {
    "duration": 16,
    "start_time": "2022-05-22T11:46:21.861Z"
   },
   {
    "duration": 18,
    "start_time": "2022-05-22T11:46:21.879Z"
   },
   {
    "duration": 302,
    "start_time": "2022-05-22T11:46:21.899Z"
   },
   {
    "duration": 16,
    "start_time": "2022-05-22T11:46:22.202Z"
   },
   {
    "duration": 17,
    "start_time": "2022-05-22T11:46:22.219Z"
   },
   {
    "duration": 29,
    "start_time": "2022-05-22T11:46:22.237Z"
   },
   {
    "duration": 307,
    "start_time": "2022-05-22T11:46:22.268Z"
   },
   {
    "duration": 18,
    "start_time": "2022-05-22T11:46:22.577Z"
   },
   {
    "duration": 15,
    "start_time": "2022-05-22T11:46:22.597Z"
   },
   {
    "duration": 42,
    "start_time": "2022-05-22T11:46:22.614Z"
   },
   {
    "duration": 365,
    "start_time": "2022-05-22T11:46:22.658Z"
   },
   {
    "duration": 10,
    "start_time": "2022-05-22T11:46:23.025Z"
   },
   {
    "duration": 24,
    "start_time": "2022-05-22T11:46:23.037Z"
   },
   {
    "duration": 221,
    "start_time": "2022-05-22T11:46:23.063Z"
   },
   {
    "duration": 7,
    "start_time": "2022-05-22T11:46:23.286Z"
   },
   {
    "duration": 11,
    "start_time": "2022-05-22T11:46:23.295Z"
   },
   {
    "duration": 11,
    "start_time": "2022-05-22T11:46:23.307Z"
   },
   {
    "duration": 11,
    "start_time": "2022-05-22T11:57:26.420Z"
   }
  ],
  "kernelspec": {
   "display_name": "Python 3 (ipykernel)",
   "language": "python",
   "name": "python3"
  },
  "language_info": {
   "codemirror_mode": {
    "name": "ipython",
    "version": 3
   },
   "file_extension": ".py",
   "mimetype": "text/x-python",
   "name": "python",
   "nbconvert_exporter": "python",
   "pygments_lexer": "ipython3",
   "version": "3.9.7"
  },
  "toc": {
   "base_numbering": 1,
   "nav_menu": {},
   "number_sections": true,
   "sideBar": true,
   "skip_h1_title": true,
   "title_cell": "Table of Contents",
   "title_sidebar": "Contents",
   "toc_cell": false,
   "toc_position": {
    "height": "calc(100% - 180px)",
    "left": "10px",
    "top": "150px",
    "width": "278.682px"
   },
   "toc_section_display": true,
   "toc_window_display": true
  }
 },
 "nbformat": 4,
 "nbformat_minor": 2
}
