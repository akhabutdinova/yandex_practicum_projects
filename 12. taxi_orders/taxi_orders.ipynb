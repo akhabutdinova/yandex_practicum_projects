{
 "cells": [
  {
   "cell_type": "markdown",
   "metadata": {},
   "source": [
    "#  Прогнозирование заказов такси"
   ]
  },
  {
   "cell_type": "markdown",
   "metadata": {},
   "source": [
    "Компания «Чётенькое такси» собрала исторические данные о заказах такси в аэропортах. Чтобы привлекать больше водителей в период пиковой нагрузки, нужно спрогнозировать количество заказов такси на следующий час. Постройте модель для такого предсказания.\n",
    "\n",
    "Значение метрики *RMSE* на тестовой выборке должно быть не больше 48.\n",
    "\n",
    "Вам нужно:\n",
    "\n",
    "1. Загрузить данные и выполнить их ресемплирование по одному часу.\n",
    "2. Проанализировать данные.\n",
    "3. Обучить разные модели с различными гиперпараметрами. Сделать тестовую выборку размером 10% от исходных данных.\n",
    "4. Проверить данные на тестовой выборке и сделать выводы.\n",
    "\n",
    "\n",
    "Данные лежат в файле `taxi.csv`. Количество заказов находится в столбце `num_orders` (от англ. *number of orders*, «число заказов»).\n",
    "\n",
    "**Цель работы:** построить модель, предсказывающую количество заказов такси на следующий час.\n",
    "\n",
    "**Ход работы:**\n",
    "1. Подготовка данных;\n",
    "2. Анализ данных;\n",
    "3. Обучение моделей;\n",
    "4. Тестирование."
   ]
  },
  {
   "cell_type": "markdown",
   "metadata": {},
   "source": [
    "## Подготовка"
   ]
  },
  {
   "cell_type": "markdown",
   "metadata": {},
   "source": [
    "Импортируем необходимые библиотеки."
   ]
  },
  {
   "cell_type": "code",
   "execution_count": 1,
   "metadata": {},
   "outputs": [],
   "source": [
    "import pandas as pd\n",
    "import matplotlib.pyplot as plt\n",
    "from statsmodels.tsa.seasonal import seasonal_decompose\n",
    "from sklearn.model_selection import train_test_split, RandomizedSearchCV, TimeSeriesSplit, cross_val_score\n",
    "from sklearn.metrics import mean_squared_error \n",
    "from sklearn.tree import DecisionTreeRegressor\n",
    "from sklearn.ensemble import RandomForestRegressor\n",
    "from sklearn.linear_model import LinearRegression"
   ]
  },
  {
   "cell_type": "markdown",
   "metadata": {},
   "source": [
    "Загрузим предоставленные данные."
   ]
  },
  {
   "cell_type": "code",
   "execution_count": 2,
   "metadata": {
    "scrolled": true
   },
   "outputs": [
    {
     "data": {
      "text/html": [
       "<div>\n",
       "<style scoped>\n",
       "    .dataframe tbody tr th:only-of-type {\n",
       "        vertical-align: middle;\n",
       "    }\n",
       "\n",
       "    .dataframe tbody tr th {\n",
       "        vertical-align: top;\n",
       "    }\n",
       "\n",
       "    .dataframe thead th {\n",
       "        text-align: right;\n",
       "    }\n",
       "</style>\n",
       "<table border=\"1\" class=\"dataframe\">\n",
       "  <thead>\n",
       "    <tr style=\"text-align: right;\">\n",
       "      <th></th>\n",
       "      <th>num_orders</th>\n",
       "    </tr>\n",
       "    <tr>\n",
       "      <th>datetime</th>\n",
       "      <th></th>\n",
       "    </tr>\n",
       "  </thead>\n",
       "  <tbody>\n",
       "    <tr>\n",
       "      <th>2018-03-01 00:00:00</th>\n",
       "      <td>9</td>\n",
       "    </tr>\n",
       "    <tr>\n",
       "      <th>2018-03-01 00:10:00</th>\n",
       "      <td>14</td>\n",
       "    </tr>\n",
       "    <tr>\n",
       "      <th>2018-03-01 00:20:00</th>\n",
       "      <td>28</td>\n",
       "    </tr>\n",
       "    <tr>\n",
       "      <th>2018-03-01 00:30:00</th>\n",
       "      <td>20</td>\n",
       "    </tr>\n",
       "    <tr>\n",
       "      <th>2018-03-01 00:40:00</th>\n",
       "      <td>32</td>\n",
       "    </tr>\n",
       "  </tbody>\n",
       "</table>\n",
       "</div>"
      ],
      "text/plain": [
       "                     num_orders\n",
       "datetime                       \n",
       "2018-03-01 00:00:00           9\n",
       "2018-03-01 00:10:00          14\n",
       "2018-03-01 00:20:00          28\n",
       "2018-03-01 00:30:00          20\n",
       "2018-03-01 00:40:00          32"
      ]
     },
     "execution_count": 2,
     "metadata": {},
     "output_type": "execute_result"
    }
   ],
   "source": [
    "data = pd.read_csv('/datasets/taxi.csv', index_col=[0], parse_dates=[0])\n",
    "data.head()"
   ]
  },
  {
   "cell_type": "code",
   "execution_count": 3,
   "metadata": {},
   "outputs": [
    {
     "data": {
      "text/plain": [
       "(26496, 1)"
      ]
     },
     "execution_count": 3,
     "metadata": {},
     "output_type": "execute_result"
    }
   ],
   "source": [
    "data.shape"
   ]
  },
  {
   "cell_type": "markdown",
   "metadata": {},
   "source": [
    "Отсортируем индексы в хронологическом порядке, а затем выполним ресемплирование по 1 часу."
   ]
  },
  {
   "cell_type": "code",
   "execution_count": 4,
   "metadata": {
    "scrolled": true
   },
   "outputs": [
    {
     "data": {
      "text/html": [
       "<div>\n",
       "<style scoped>\n",
       "    .dataframe tbody tr th:only-of-type {\n",
       "        vertical-align: middle;\n",
       "    }\n",
       "\n",
       "    .dataframe tbody tr th {\n",
       "        vertical-align: top;\n",
       "    }\n",
       "\n",
       "    .dataframe thead th {\n",
       "        text-align: right;\n",
       "    }\n",
       "</style>\n",
       "<table border=\"1\" class=\"dataframe\">\n",
       "  <thead>\n",
       "    <tr style=\"text-align: right;\">\n",
       "      <th></th>\n",
       "      <th>num_orders</th>\n",
       "    </tr>\n",
       "    <tr>\n",
       "      <th>datetime</th>\n",
       "      <th></th>\n",
       "    </tr>\n",
       "  </thead>\n",
       "  <tbody>\n",
       "    <tr>\n",
       "      <th>2018-03-01 00:00:00</th>\n",
       "      <td>124</td>\n",
       "    </tr>\n",
       "    <tr>\n",
       "      <th>2018-03-01 01:00:00</th>\n",
       "      <td>85</td>\n",
       "    </tr>\n",
       "    <tr>\n",
       "      <th>2018-03-01 02:00:00</th>\n",
       "      <td>71</td>\n",
       "    </tr>\n",
       "    <tr>\n",
       "      <th>2018-03-01 03:00:00</th>\n",
       "      <td>66</td>\n",
       "    </tr>\n",
       "    <tr>\n",
       "      <th>2018-03-01 04:00:00</th>\n",
       "      <td>43</td>\n",
       "    </tr>\n",
       "  </tbody>\n",
       "</table>\n",
       "</div>"
      ],
      "text/plain": [
       "                     num_orders\n",
       "datetime                       \n",
       "2018-03-01 00:00:00         124\n",
       "2018-03-01 01:00:00          85\n",
       "2018-03-01 02:00:00          71\n",
       "2018-03-01 03:00:00          66\n",
       "2018-03-01 04:00:00          43"
      ]
     },
     "execution_count": 4,
     "metadata": {},
     "output_type": "execute_result"
    }
   ],
   "source": [
    "data.sort_index(inplace=True)\n",
    "data = data.resample('1H').sum()\n",
    "data.head()"
   ]
  },
  {
   "cell_type": "markdown",
   "metadata": {},
   "source": [
    "Оценим временной промежуток предоставленных данных."
   ]
  },
  {
   "cell_type": "code",
   "execution_count": 5,
   "metadata": {},
   "outputs": [
    {
     "name": "stdout",
     "output_type": "stream",
     "text": [
      "2018-03-01 00:00:00 - 2018-08-31 23:00:00\n"
     ]
    }
   ],
   "source": [
    "print(data.index.min(), '-' , data.index.max())"
   ]
  },
  {
   "cell_type": "markdown",
   "metadata": {},
   "source": [
    "## Анализ"
   ]
  },
  {
   "cell_type": "markdown",
   "metadata": {},
   "source": [
    "Разложим данные на тренд и сезонную компоненту и построим их графики."
   ]
  },
  {
   "cell_type": "code",
   "execution_count": 6,
   "metadata": {},
   "outputs": [
    {
     "data": {
      "image/png": "[encoded data removed]",
      "text/plain": [
       "<Figure size 720x864 with 3 Axes>"
      ]
     },
     "metadata": {
      "needs_background": "light"
     },
     "output_type": "display_data"
    }
   ],
   "source": [
    "decomposed = seasonal_decompose(data)\n",
    "\n",
    "plt.figure(figsize=(10, 12))\n",
    "plt.subplot(311)\n",
    "decomposed.trend.plot(ax=plt.gca())\n",
    "plt.title('Trend')\n",
    "\n",
    "plt.subplot(312)\n",
    "decomposed.seasonal.plot(ax=plt.gca()) \n",
    "plt.title('Seasonality')\n",
    "\n",
    "plt.subplot(313)\n",
    "decomposed.resid.plot(ax=plt.gca()) \n",
    "plt.title('Residuals')\n",
    "plt.tight_layout()"
   ]
  },
  {
   "cell_type": "markdown",
   "metadata": {},
   "source": [
    "Тренд показывет почти линейный рост числа заказов в зависимости от времени. Чтобы оценить сезонность, построим график сезонной составляющей за первые 15 дней августа 2018."
   ]
  },
  {
   "cell_type": "code",
   "execution_count": 7,
   "metadata": {},
   "outputs": [
    {
     "data": {
      "text/plain": [
       "<AxesSubplot:xlabel='datetime'>"
      ]
     },
     "execution_count": 7,
     "metadata": {},
     "output_type": "execute_result"
    },
    {
     "data": {
      "image/png": "[encoded data removed]",
      "text/plain": [
       "<Figure size 864x360 with 1 Axes>"
      ]
     },
     "metadata": {
      "needs_background": "light"
     },
     "output_type": "display_data"
    }
   ],
   "source": [
    "plt.figure(figsize=(12, 5))\n",
    "decomposed.seasonal['2018-08-01':'2018-08-15'].plot()"
   ]
  },
  {
   "cell_type": "markdown",
   "metadata": {},
   "source": [
    "График сезонной составляющей показывает изменение количества заказов такси в зависимости от времени суток - ночью число заказов минимально и растет оно ближе к вечеру."
   ]
  },
  {
   "cell_type": "markdown",
   "metadata": {},
   "source": [
    "## Обучение"
   ]
  },
  {
   "cell_type": "markdown",
   "metadata": {},
   "source": [
    "Напишем функцию для создания признаков."
   ]
  },
  {
   "cell_type": "code",
   "execution_count": 8,
   "metadata": {},
   "outputs": [],
   "source": [
    "def make_features(data, max_lag, rolling_mean_size):\n",
    "    data['year'] = data.index.year\n",
    "    data['month'] = data.index.month\n",
    "    data['day'] = data.index.day\n",
    "    data['dayofweek'] = data.index.dayofweek\n",
    "    \n",
    "    for lag in range(1, max_lag + 1):\n",
    "        data['lag_{}'.format(lag)] = data['num_orders'].shift(lag)\n",
    "        \n",
    "    data['rolling_mean'] = data['num_orders'].shift().rolling(rolling_mean_size).mean()"
   ]
  },
  {
   "cell_type": "code",
   "execution_count": 9,
   "metadata": {},
   "outputs": [
    {
     "data": {
      "text/html": [
       "<div>\n",
       "<style scoped>\n",
       "    .dataframe tbody tr th:only-of-type {\n",
       "        vertical-align: middle;\n",
       "    }\n",
       "\n",
       "    .dataframe tbody tr th {\n",
       "        vertical-align: top;\n",
       "    }\n",
       "\n",
       "    .dataframe thead th {\n",
       "        text-align: right;\n",
       "    }\n",
       "</style>\n",
       "<table border=\"1\" class=\"dataframe\">\n",
       "  <thead>\n",
       "    <tr style=\"text-align: right;\">\n",
       "      <th></th>\n",
       "      <th>num_orders</th>\n",
       "      <th>year</th>\n",
       "      <th>month</th>\n",
       "      <th>day</th>\n",
       "      <th>dayofweek</th>\n",
       "      <th>lag_1</th>\n",
       "      <th>lag_2</th>\n",
       "      <th>lag_3</th>\n",
       "      <th>lag_4</th>\n",
       "      <th>lag_5</th>\n",
       "      <th>...</th>\n",
       "      <th>lag_22</th>\n",
       "      <th>lag_23</th>\n",
       "      <th>lag_24</th>\n",
       "      <th>lag_25</th>\n",
       "      <th>lag_26</th>\n",
       "      <th>lag_27</th>\n",
       "      <th>lag_28</th>\n",
       "      <th>lag_29</th>\n",
       "      <th>lag_30</th>\n",
       "      <th>rolling_mean</th>\n",
       "    </tr>\n",
       "    <tr>\n",
       "      <th>datetime</th>\n",
       "      <th></th>\n",
       "      <th></th>\n",
       "      <th></th>\n",
       "      <th></th>\n",
       "      <th></th>\n",
       "      <th></th>\n",
       "      <th></th>\n",
       "      <th></th>\n",
       "      <th></th>\n",
       "      <th></th>\n",
       "      <th></th>\n",
       "      <th></th>\n",
       "      <th></th>\n",
       "      <th></th>\n",
       "      <th></th>\n",
       "      <th></th>\n",
       "      <th></th>\n",
       "      <th></th>\n",
       "      <th></th>\n",
       "      <th></th>\n",
       "      <th></th>\n",
       "    </tr>\n",
       "  </thead>\n",
       "  <tbody>\n",
       "    <tr>\n",
       "      <th>2018-03-01 00:00:00</th>\n",
       "      <td>124</td>\n",
       "      <td>2018</td>\n",
       "      <td>3</td>\n",
       "      <td>1</td>\n",
       "      <td>3</td>\n",
       "      <td>NaN</td>\n",
       "      <td>NaN</td>\n",
       "      <td>NaN</td>\n",
       "      <td>NaN</td>\n",
       "      <td>NaN</td>\n",
       "      <td>...</td>\n",
       "      <td>NaN</td>\n",
       "      <td>NaN</td>\n",
       "      <td>NaN</td>\n",
       "      <td>NaN</td>\n",
       "      <td>NaN</td>\n",
       "      <td>NaN</td>\n",
       "      <td>NaN</td>\n",
       "      <td>NaN</td>\n",
       "      <td>NaN</td>\n",
       "      <td>NaN</td>\n",
       "    </tr>\n",
       "    <tr>\n",
       "      <th>2018-03-01 01:00:00</th>\n",
       "      <td>85</td>\n",
       "      <td>2018</td>\n",
       "      <td>3</td>\n",
       "      <td>1</td>\n",
       "      <td>3</td>\n",
       "      <td>124.0</td>\n",
       "      <td>NaN</td>\n",
       "      <td>NaN</td>\n",
       "      <td>NaN</td>\n",
       "      <td>NaN</td>\n",
       "      <td>...</td>\n",
       "      <td>NaN</td>\n",
       "      <td>NaN</td>\n",
       "      <td>NaN</td>\n",
       "      <td>NaN</td>\n",
       "      <td>NaN</td>\n",
       "      <td>NaN</td>\n",
       "      <td>NaN</td>\n",
       "      <td>NaN</td>\n",
       "      <td>NaN</td>\n",
       "      <td>NaN</td>\n",
       "    </tr>\n",
       "    <tr>\n",
       "      <th>2018-03-01 02:00:00</th>\n",
       "      <td>71</td>\n",
       "      <td>2018</td>\n",
       "      <td>3</td>\n",
       "      <td>1</td>\n",
       "      <td>3</td>\n",
       "      <td>85.0</td>\n",
       "      <td>124.0</td>\n",
       "      <td>NaN</td>\n",
       "      <td>NaN</td>\n",
       "      <td>NaN</td>\n",
       "      <td>...</td>\n",
       "      <td>NaN</td>\n",
       "      <td>NaN</td>\n",
       "      <td>NaN</td>\n",
       "      <td>NaN</td>\n",
       "      <td>NaN</td>\n",
       "      <td>NaN</td>\n",
       "      <td>NaN</td>\n",
       "      <td>NaN</td>\n",
       "      <td>NaN</td>\n",
       "      <td>NaN</td>\n",
       "    </tr>\n",
       "    <tr>\n",
       "      <th>2018-03-01 03:00:00</th>\n",
       "      <td>66</td>\n",
       "      <td>2018</td>\n",
       "      <td>3</td>\n",
       "      <td>1</td>\n",
       "      <td>3</td>\n",
       "      <td>71.0</td>\n",
       "      <td>85.0</td>\n",
       "      <td>124.0</td>\n",
       "      <td>NaN</td>\n",
       "      <td>NaN</td>\n",
       "      <td>...</td>\n",
       "      <td>NaN</td>\n",
       "      <td>NaN</td>\n",
       "      <td>NaN</td>\n",
       "      <td>NaN</td>\n",
       "      <td>NaN</td>\n",
       "      <td>NaN</td>\n",
       "      <td>NaN</td>\n",
       "      <td>NaN</td>\n",
       "      <td>NaN</td>\n",
       "      <td>NaN</td>\n",
       "    </tr>\n",
       "    <tr>\n",
       "      <th>2018-03-01 04:00:00</th>\n",
       "      <td>43</td>\n",
       "      <td>2018</td>\n",
       "      <td>3</td>\n",
       "      <td>1</td>\n",
       "      <td>3</td>\n",
       "      <td>66.0</td>\n",
       "      <td>71.0</td>\n",
       "      <td>85.0</td>\n",
       "      <td>124.0</td>\n",
       "      <td>NaN</td>\n",
       "      <td>...</td>\n",
       "      <td>NaN</td>\n",
       "      <td>NaN</td>\n",
       "      <td>NaN</td>\n",
       "      <td>NaN</td>\n",
       "      <td>NaN</td>\n",
       "      <td>NaN</td>\n",
       "      <td>NaN</td>\n",
       "      <td>NaN</td>\n",
       "      <td>NaN</td>\n",
       "      <td>NaN</td>\n",
       "    </tr>\n",
       "  </tbody>\n",
       "</table>\n",
       "<p>5 rows × 36 columns</p>\n",
       "</div>"
      ],
      "text/plain": [
       "                     num_orders  year  month  day  dayofweek  lag_1  lag_2  \\\n",
       "datetime                                                                     \n",
       "2018-03-01 00:00:00         124  2018      3    1          3    NaN    NaN   \n",
       "2018-03-01 01:00:00          85  2018      3    1          3  124.0    NaN   \n",
       "2018-03-01 02:00:00          71  2018      3    1          3   85.0  124.0   \n",
       "2018-03-01 03:00:00          66  2018      3    1          3   71.0   85.0   \n",
       "2018-03-01 04:00:00          43  2018      3    1          3   66.0   71.0   \n",
       "\n",
       "                     lag_3  lag_4  lag_5  ...  lag_22  lag_23  lag_24  lag_25  \\\n",
       "datetime                                  ...                                   \n",
       "2018-03-01 00:00:00    NaN    NaN    NaN  ...     NaN     NaN     NaN     NaN   \n",
       "2018-03-01 01:00:00    NaN    NaN    NaN  ...     NaN     NaN     NaN     NaN   \n",
       "2018-03-01 02:00:00    NaN    NaN    NaN  ...     NaN     NaN     NaN     NaN   \n",
       "2018-03-01 03:00:00  124.0    NaN    NaN  ...     NaN     NaN     NaN     NaN   \n",
       "2018-03-01 04:00:00   85.0  124.0    NaN  ...     NaN     NaN     NaN     NaN   \n",
       "\n",
       "                     lag_26  lag_27  lag_28  lag_29  lag_30  rolling_mean  \n",
       "datetime                                                                   \n",
       "2018-03-01 00:00:00     NaN     NaN     NaN     NaN     NaN           NaN  \n",
       "2018-03-01 01:00:00     NaN     NaN     NaN     NaN     NaN           NaN  \n",
       "2018-03-01 02:00:00     NaN     NaN     NaN     NaN     NaN           NaN  \n",
       "2018-03-01 03:00:00     NaN     NaN     NaN     NaN     NaN           NaN  \n",
       "2018-03-01 04:00:00     NaN     NaN     NaN     NaN     NaN           NaN  \n",
       "\n",
       "[5 rows x 36 columns]"
      ]
     },
     "execution_count": 9,
     "metadata": {},
     "output_type": "execute_result"
    }
   ],
   "source": [
    "make_features(data, 30, 30)\n",
    "data.head()"
   ]
  },
  {
   "cell_type": "markdown",
   "metadata": {},
   "source": [
    "Разделим данные на обучающую и тестовую выборки."
   ]
  },
  {
   "cell_type": "code",
   "execution_count": 10,
   "metadata": {
    "scrolled": true
   },
   "outputs": [
    {
     "name": "stdout",
     "output_type": "stream",
     "text": [
      "2018-03-02 06:00:00 - 2018-08-13 13:00:00\n",
      "2018-08-13 14:00:00 - 2018-08-31 23:00:00\n"
     ]
    }
   ],
   "source": [
    "train, test = train_test_split(data, test_size=0.1, shuffle=False, random_state=12345)\n",
    "train = train.dropna()\n",
    "print(train.index.min(), '-', train.index.max())\n",
    "print(test.index.min(), '-', test.index.max())"
   ]
  },
  {
   "cell_type": "markdown",
   "metadata": {},
   "source": [
    "Разделим выборки на признаки и целевой признак."
   ]
  },
  {
   "cell_type": "code",
   "execution_count": 11,
   "metadata": {},
   "outputs": [],
   "source": [
    "features_train = train.drop('num_orders', axis=1)\n",
    "features_test = test.drop('num_orders', axis=1)\n",
    "target_train = train['num_orders']\n",
    "target_test = test['num_orders']"
   ]
  },
  {
   "cell_type": "markdown",
   "metadata": {},
   "source": [
    "Напишем функцию для подбора гиперпараметров и выбора лучшей модели."
   ]
  },
  {
   "cell_type": "code",
   "execution_count": 12,
   "metadata": {},
   "outputs": [],
   "source": [
    "def best_model(model, param):\n",
    "    cv = TimeSeriesSplit(n_splits=2)\n",
    "    grid = RandomizedSearchCV(model, param, cv=cv, scoring='neg_root_mean_squared_error')\n",
    "    grid.fit(features_train, target_train)\n",
    "    best_model = grid.best_estimator_\n",
    "    rmse = abs(grid.best_score_)\n",
    "    print('RMSE:', round(rmse, 2), 'Параметры:', grid.best_params_)\n",
    "    return best_model"
   ]
  },
  {
   "cell_type": "markdown",
   "metadata": {},
   "source": [
    "* Дерево решений"
   ]
  },
  {
   "cell_type": "code",
   "execution_count": 13,
   "metadata": {},
   "outputs": [
    {
     "name": "stdout",
     "output_type": "stream",
     "text": [
      "RMSE: 34.98 Параметры: {'max_depth': 4}\n"
     ]
    }
   ],
   "source": [
    "model_dt = DecisionTreeRegressor(random_state=12345)\n",
    "param = {'max_depth': range(1,21,1)}\n",
    "best_model_dt = best_model(model_dt, param)"
   ]
  },
  {
   "cell_type": "markdown",
   "metadata": {},
   "source": [
    "* Случайный лес"
   ]
  },
  {
   "cell_type": "code",
   "execution_count": 14,
   "metadata": {},
   "outputs": [
    {
     "name": "stdout",
     "output_type": "stream",
     "text": [
      "RMSE: 28.38 Параметры: {'n_estimators': 60, 'max_depth': 16}\n"
     ]
    }
   ],
   "source": [
    "model_rf = RandomForestRegressor(random_state=12345)\n",
    "param = {'max_depth': range(1,21,1),\n",
    "         'n_estimators':range(10,100,10)}\n",
    "best_model_rf = best_model(model_rf, param)"
   ]
  },
  {
   "cell_type": "markdown",
   "metadata": {},
   "source": [
    "* Линейная регрессия"
   ]
  },
  {
   "cell_type": "code",
   "execution_count": 15,
   "metadata": {},
   "outputs": [
    {
     "name": "stdout",
     "output_type": "stream",
     "text": [
      "RMSE: 27.87\n"
     ]
    }
   ],
   "source": [
    "model_lr = LinearRegression()\n",
    "model_lr.fit(features_train, target_train)\n",
    "cv = TimeSeriesSplit(n_splits=2)\n",
    "mse = cross_val_score(model_lr, features_train, target_train, cv=cv, scoring='neg_mean_squared_error')\n",
    "print('RMSE:', round(abs(mse.mean())**0.5, 2))"
   ]
  },
  {
   "cell_type": "markdown",
   "metadata": {},
   "source": [
    "## Тестирование"
   ]
  },
  {
   "cell_type": "markdown",
   "metadata": {},
   "source": [
    "Лучший результат RMSE показала модель линейной регрессии, проведем ее тестирование."
   ]
  },
  {
   "cell_type": "code",
   "execution_count": 16,
   "metadata": {},
   "outputs": [
    {
     "name": "stdout",
     "output_type": "stream",
     "text": [
      "RMSE: 46.89\n"
     ]
    }
   ],
   "source": [
    "predictions = model_lr.predict(features_test)\n",
    "print('RMSE:', round(mean_squared_error(target_test, predictions)**0.5, 2))"
   ]
  },
  {
   "cell_type": "markdown",
   "metadata": {},
   "source": [
    "Построим графики реального и предсказанного рядов."
   ]
  },
  {
   "cell_type": "code",
   "execution_count": 17,
   "metadata": {},
   "outputs": [
    {
     "data": {
      "image/png": "[encoded data removed]",
      "text/plain": [
       "<Figure size 864x432 with 1 Axes>"
      ]
     },
     "metadata": {
      "needs_background": "light"
     },
     "output_type": "display_data"
    }
   ],
   "source": [
    "plt.figure(figsize=(12, 6))\n",
    "plt.plot(target_test, label='Исходный ряд')\n",
    "plt.plot(target_test.index, predictions, label='Предсказание')\n",
    "plt.title('Сравнение исходного и предсказанного рядов')\n",
    "plt.legend()\n",
    "plt.show();"
   ]
  },
  {
   "cell_type": "markdown",
   "metadata": {},
   "source": [
    "## Вывод"
   ]
  },
  {
   "cell_type": "markdown",
   "metadata": {},
   "source": [
    "В ходе данной работы были пронализированы данные о заказах такси и были построены несколько моделей для прогнозирования количества заказов на следующий час. В результате была выбрана модель линейной регрессии, RMSE на тестовой выборке 46.89."
   ]
  }
 ],
 "metadata": {
  "ExecuteTimeLog": [
   {
    "duration": 378,
    "start_time": "2022-09-02T18:29:00.324Z"
   },
   {
    "duration": 112,
    "start_time": "2022-09-02T18:29:50.180Z"
   },
   {
    "duration": 52,
    "start_time": "2022-09-02T18:29:58.232Z"
   },
   {
    "duration": 61,
    "start_time": "2022-09-02T18:31:18.739Z"
   },
   {
    "duration": 49,
    "start_time": "2022-09-02T18:32:04.657Z"
   },
   {
    "duration": 50,
    "start_time": "2022-09-02T18:33:20.186Z"
   },
   {
    "duration": 14,
    "start_time": "2022-09-02T18:36:49.189Z"
   },
   {
    "duration": 10,
    "start_time": "2022-09-02T18:37:04.780Z"
   },
   {
    "duration": 10,
    "start_time": "2022-09-02T18:37:27.223Z"
   },
   {
    "duration": 627,
    "start_time": "2022-09-02T18:40:03.967Z"
   },
   {
    "duration": 637,
    "start_time": "2022-09-02T18:42:03.935Z"
   },
   {
    "duration": 3,
    "start_time": "2022-09-02T18:42:53.937Z"
   },
   {
    "duration": 753,
    "start_time": "2022-09-02T18:44:41.254Z"
   },
   {
    "duration": 4,
    "start_time": "2022-09-02T18:48:03.359Z"
   },
   {
    "duration": 4,
    "start_time": "2022-09-02T18:48:23.439Z"
   },
   {
    "duration": 763,
    "start_time": "2022-09-02T18:51:14.216Z"
   },
   {
    "duration": 583,
    "start_time": "2022-09-02T18:51:28.495Z"
   },
   {
    "duration": 425,
    "start_time": "2022-09-02T18:51:39.514Z"
   },
   {
    "duration": 501,
    "start_time": "2022-09-02T18:52:17.949Z"
   },
   {
    "duration": 693,
    "start_time": "2022-09-02T18:52:30.177Z"
   },
   {
    "duration": 721,
    "start_time": "2022-09-02T18:52:45.912Z"
   },
   {
    "duration": 727,
    "start_time": "2022-09-02T18:52:51.534Z"
   },
   {
    "duration": 919,
    "start_time": "2022-09-02T18:54:23.017Z"
   },
   {
    "duration": 195,
    "start_time": "2022-09-02T18:56:18.622Z"
   },
   {
    "duration": 277,
    "start_time": "2022-09-02T18:56:35.339Z"
   },
   {
    "duration": 238,
    "start_time": "2022-09-02T18:56:48.323Z"
   },
   {
    "duration": 235,
    "start_time": "2022-09-02T18:56:57.778Z"
   },
   {
    "duration": 202,
    "start_time": "2022-09-02T18:57:23.684Z"
   },
   {
    "duration": 174,
    "start_time": "2022-09-02T18:57:53.510Z"
   },
   {
    "duration": 203,
    "start_time": "2022-09-02T18:57:57.966Z"
   },
   {
    "duration": 192,
    "start_time": "2022-09-02T18:58:15.295Z"
   },
   {
    "duration": 184,
    "start_time": "2022-09-02T18:58:38.655Z"
   },
   {
    "duration": 339,
    "start_time": "2022-09-02T19:08:41.053Z"
   },
   {
    "duration": 7,
    "start_time": "2022-09-02T19:11:13.953Z"
   },
   {
    "duration": 5,
    "start_time": "2022-09-02T19:11:28.462Z"
   },
   {
    "duration": 1421,
    "start_time": "2022-09-04T19:11:24.903Z"
   },
   {
    "duration": 150,
    "start_time": "2022-09-04T19:11:26.326Z"
   },
   {
    "duration": 11,
    "start_time": "2022-09-04T19:11:26.478Z"
   },
   {
    "duration": 27,
    "start_time": "2022-09-04T19:11:26.492Z"
   },
   {
    "duration": 803,
    "start_time": "2022-09-04T19:11:26.521Z"
   },
   {
    "duration": 180,
    "start_time": "2022-09-04T19:11:27.326Z"
   },
   {
    "duration": 5,
    "start_time": "2022-09-04T19:11:27.508Z"
   },
   {
    "duration": 4,
    "start_time": "2022-09-04T19:16:44.602Z"
   },
   {
    "duration": 94,
    "start_time": "2022-09-04T19:17:57.217Z"
   },
   {
    "duration": 4,
    "start_time": "2022-09-04T19:17:59.678Z"
   },
   {
    "duration": 8,
    "start_time": "2022-09-04T19:18:00.597Z"
   },
   {
    "duration": 12,
    "start_time": "2022-09-04T19:18:08.877Z"
   },
   {
    "duration": 8,
    "start_time": "2022-09-04T19:18:47.580Z"
   },
   {
    "duration": 5,
    "start_time": "2022-09-04T19:21:23.231Z"
   },
   {
    "duration": 2,
    "start_time": "2022-09-04T19:23:18.899Z"
   },
   {
    "duration": 8,
    "start_time": "2022-09-04T19:24:52.482Z"
   },
   {
    "duration": 106,
    "start_time": "2022-09-04T19:25:23.680Z"
   },
   {
    "duration": 9,
    "start_time": "2022-09-04T19:25:28.487Z"
   },
   {
    "duration": 4,
    "start_time": "2022-09-04T19:52:26.736Z"
   },
   {
    "duration": 70,
    "start_time": "2022-09-04T19:54:45.105Z"
   },
   {
    "duration": 19,
    "start_time": "2022-09-04T19:55:18.569Z"
   },
   {
    "duration": 4,
    "start_time": "2022-09-04T19:55:59.704Z"
   },
   {
    "duration": 4,
    "start_time": "2022-09-04T19:56:04.659Z"
   },
   {
    "duration": 3704,
    "start_time": "2022-09-04T19:56:05.461Z"
   },
   {
    "duration": 4057,
    "start_time": "2022-09-04T19:56:28.271Z"
   },
   {
    "duration": 440,
    "start_time": "2022-09-04T19:58:38.217Z"
   },
   {
    "duration": 13,
    "start_time": "2022-09-04T20:02:54.189Z"
   },
   {
    "duration": 3,
    "start_time": "2022-09-04T20:03:45.187Z"
   },
   {
    "duration": 31,
    "start_time": "2022-09-04T20:03:49.833Z"
   },
   {
    "duration": 31,
    "start_time": "2022-09-04T20:04:09.997Z"
   },
   {
    "duration": 30,
    "start_time": "2022-09-04T20:04:54.730Z"
   },
   {
    "duration": 38143,
    "start_time": "2022-09-04T20:06:08.582Z"
   },
   {
    "duration": 1314,
    "start_time": "2022-09-04T20:07:42.548Z"
   },
   {
    "duration": 59,
    "start_time": "2022-09-04T20:07:43.864Z"
   },
   {
    "duration": 4,
    "start_time": "2022-09-04T20:07:43.924Z"
   },
   {
    "duration": 13,
    "start_time": "2022-09-04T20:07:43.929Z"
   },
   {
    "duration": 3,
    "start_time": "2022-09-04T20:07:43.944Z"
   },
   {
    "duration": 839,
    "start_time": "2022-09-04T20:07:43.949Z"
   },
   {
    "duration": 182,
    "start_time": "2022-09-04T20:07:44.790Z"
   },
   {
    "duration": 4,
    "start_time": "2022-09-04T20:07:44.973Z"
   },
   {
    "duration": 33,
    "start_time": "2022-09-04T20:07:44.978Z"
   },
   {
    "duration": 13,
    "start_time": "2022-09-04T20:07:45.013Z"
   },
   {
    "duration": 8,
    "start_time": "2022-09-04T20:07:45.028Z"
   },
   {
    "duration": 7,
    "start_time": "2022-09-04T20:07:45.038Z"
   },
   {
    "duration": 772,
    "start_time": "2022-09-04T20:07:45.046Z"
   },
   {
    "duration": 20003,
    "start_time": "2022-09-04T20:07:45.824Z"
   },
   {
    "duration": 122,
    "start_time": "2022-09-04T20:08:05.829Z"
   },
   {
    "duration": 0,
    "start_time": "2022-09-04T20:08:05.952Z"
   },
   {
    "duration": 31,
    "start_time": "2022-09-04T20:08:35.469Z"
   },
   {
    "duration": 1373,
    "start_time": "2022-09-04T20:12:19.896Z"
   },
   {
    "duration": 58,
    "start_time": "2022-09-04T20:12:21.270Z"
   },
   {
    "duration": 3,
    "start_time": "2022-09-04T20:12:21.330Z"
   },
   {
    "duration": 13,
    "start_time": "2022-09-04T20:12:21.335Z"
   },
   {
    "duration": 3,
    "start_time": "2022-09-04T20:12:21.349Z"
   },
   {
    "duration": 868,
    "start_time": "2022-09-04T20:12:21.353Z"
   },
   {
    "duration": 177,
    "start_time": "2022-09-04T20:12:22.223Z"
   },
   {
    "duration": 15,
    "start_time": "2022-09-04T20:12:22.402Z"
   },
   {
    "duration": 23,
    "start_time": "2022-09-04T20:12:22.419Z"
   },
   {
    "duration": 8,
    "start_time": "2022-09-04T20:12:22.444Z"
   },
   {
    "duration": 7,
    "start_time": "2022-09-04T20:12:22.453Z"
   },
   {
    "duration": 12,
    "start_time": "2022-09-04T20:12:22.462Z"
   },
   {
    "duration": 701,
    "start_time": "2022-09-04T20:12:22.476Z"
   },
   {
    "duration": 20164,
    "start_time": "2022-09-04T20:12:23.179Z"
   },
   {
    "duration": 88,
    "start_time": "2022-09-04T20:12:43.345Z"
   },
   {
    "duration": 251148,
    "start_time": "2022-09-04T20:12:43.435Z"
   },
   {
    "duration": 6,
    "start_time": "2022-09-04T20:18:44.699Z"
   },
   {
    "duration": 6,
    "start_time": "2022-09-04T20:18:50.844Z"
   },
   {
    "duration": 17,
    "start_time": "2022-09-04T20:19:00.591Z"
   },
   {
    "duration": 9,
    "start_time": "2022-09-04T20:19:02.291Z"
   },
   {
    "duration": 9,
    "start_time": "2022-09-04T20:19:03.303Z"
   },
   {
    "duration": 4,
    "start_time": "2022-09-04T20:19:04.274Z"
   },
   {
    "duration": 822,
    "start_time": "2022-09-04T20:19:05.400Z"
   },
   {
    "duration": 20641,
    "start_time": "2022-09-04T20:19:06.937Z"
   },
   {
    "duration": 55,
    "start_time": "2022-09-04T20:19:27.581Z"
   },
   {
    "duration": 42,
    "start_time": "2022-09-04T20:20:04.121Z"
   },
   {
    "duration": 14,
    "start_time": "2022-09-04T20:20:06.427Z"
   },
   {
    "duration": 5,
    "start_time": "2022-09-04T20:20:07.652Z"
   },
   {
    "duration": 3,
    "start_time": "2022-09-04T20:20:08.677Z"
   },
   {
    "duration": 3843,
    "start_time": "2022-09-04T20:20:09.621Z"
   },
   {
    "duration": 23870,
    "start_time": "2022-09-04T20:20:13.466Z"
   },
   {
    "duration": 0,
    "start_time": "2022-09-04T20:20:37.337Z"
   },
   {
    "duration": 29,
    "start_time": "2022-09-04T20:20:55.391Z"
   },
   {
    "duration": 10,
    "start_time": "2022-09-04T20:20:56.734Z"
   },
   {
    "duration": 5,
    "start_time": "2022-09-04T20:20:57.593Z"
   },
   {
    "duration": 3,
    "start_time": "2022-09-04T20:20:58.577Z"
   },
   {
    "duration": 3227,
    "start_time": "2022-09-04T20:20:59.783Z"
   },
   {
    "duration": 95885,
    "start_time": "2022-09-04T20:21:03.014Z"
   },
   {
    "duration": 1121,
    "start_time": "2022-09-04T20:22:38.901Z"
   },
   {
    "duration": 9,
    "start_time": "2022-09-04T20:22:40.024Z"
   },
   {
    "duration": 1389,
    "start_time": "2022-09-04T20:23:01.957Z"
   },
   {
    "duration": 54,
    "start_time": "2022-09-04T20:23:03.348Z"
   },
   {
    "duration": 12,
    "start_time": "2022-09-04T20:23:03.404Z"
   },
   {
    "duration": 19,
    "start_time": "2022-09-04T20:23:03.418Z"
   },
   {
    "duration": 3,
    "start_time": "2022-09-04T20:23:03.438Z"
   },
   {
    "duration": 857,
    "start_time": "2022-09-04T20:23:03.443Z"
   },
   {
    "duration": 220,
    "start_time": "2022-09-04T20:23:04.302Z"
   },
   {
    "duration": 4,
    "start_time": "2022-09-04T20:23:04.524Z"
   },
   {
    "duration": 31,
    "start_time": "2022-09-04T20:23:04.529Z"
   },
   {
    "duration": 9,
    "start_time": "2022-09-04T20:23:04.562Z"
   },
   {
    "duration": 5,
    "start_time": "2022-09-04T20:23:04.572Z"
   },
   {
    "duration": 26,
    "start_time": "2022-09-04T20:23:04.579Z"
   },
   {
    "duration": 937,
    "start_time": "2022-09-04T20:23:04.609Z"
   },
   {
    "duration": 23475,
    "start_time": "2022-09-04T20:23:05.548Z"
   },
   {
    "duration": 97,
    "start_time": "2022-09-04T20:23:29.025Z"
   },
   {
    "duration": 7,
    "start_time": "2022-09-04T20:23:29.124Z"
   },
   {
    "duration": 19,
    "start_time": "2022-09-04T20:23:40.139Z"
   },
   {
    "duration": 10,
    "start_time": "2022-09-04T20:23:41.594Z"
   },
   {
    "duration": 6,
    "start_time": "2022-09-04T20:23:42.657Z"
   },
   {
    "duration": 3,
    "start_time": "2022-09-04T20:23:43.721Z"
   },
   {
    "duration": 711,
    "start_time": "2022-09-04T20:23:44.661Z"
   },
   {
    "duration": 24882,
    "start_time": "2022-09-04T20:23:46.190Z"
   },
   {
    "duration": 60,
    "start_time": "2022-09-04T20:24:11.074Z"
   },
   {
    "duration": 5,
    "start_time": "2022-09-04T20:24:11.137Z"
   },
   {
    "duration": 24,
    "start_time": "2022-09-04T20:24:38.643Z"
   },
   {
    "duration": 10,
    "start_time": "2022-09-04T20:24:40.159Z"
   },
   {
    "duration": 8,
    "start_time": "2022-09-04T20:24:41.114Z"
   },
   {
    "duration": 4,
    "start_time": "2022-09-04T20:24:41.991Z"
   },
   {
    "duration": 1269,
    "start_time": "2022-09-04T20:24:42.915Z"
   },
   {
    "duration": 31984,
    "start_time": "2022-09-04T20:24:45.115Z"
   },
   {
    "duration": 515,
    "start_time": "2022-09-04T20:25:17.106Z"
   },
   {
    "duration": 86,
    "start_time": "2022-09-04T20:25:17.623Z"
   },
   {
    "duration": 1318,
    "start_time": "2022-09-04T20:25:32.844Z"
   },
   {
    "duration": 62,
    "start_time": "2022-09-04T20:25:34.164Z"
   },
   {
    "duration": 4,
    "start_time": "2022-09-04T20:25:34.227Z"
   },
   {
    "duration": 19,
    "start_time": "2022-09-04T20:25:34.233Z"
   },
   {
    "duration": 3,
    "start_time": "2022-09-04T20:25:34.255Z"
   },
   {
    "duration": 892,
    "start_time": "2022-09-04T20:25:34.260Z"
   },
   {
    "duration": 185,
    "start_time": "2022-09-04T20:25:35.154Z"
   },
   {
    "duration": 4,
    "start_time": "2022-09-04T20:25:35.340Z"
   },
   {
    "duration": 22,
    "start_time": "2022-09-04T20:25:35.345Z"
   },
   {
    "duration": 8,
    "start_time": "2022-09-04T20:25:35.368Z"
   },
   {
    "duration": 5,
    "start_time": "2022-09-04T20:25:35.378Z"
   },
   {
    "duration": 34,
    "start_time": "2022-09-04T20:25:35.385Z"
   },
   {
    "duration": 562,
    "start_time": "2022-09-04T20:25:35.420Z"
   },
   {
    "duration": 12147,
    "start_time": "2022-09-04T20:25:35.985Z"
   },
   {
    "duration": 30,
    "start_time": "2022-09-04T20:25:48.133Z"
   },
   {
    "duration": 15,
    "start_time": "2022-09-04T20:25:48.209Z"
   },
   {
    "duration": 1456,
    "start_time": "2022-09-04T20:26:14.824Z"
   },
   {
    "duration": 72,
    "start_time": "2022-09-04T20:26:16.282Z"
   },
   {
    "duration": 4,
    "start_time": "2022-09-04T20:26:16.356Z"
   },
   {
    "duration": 13,
    "start_time": "2022-09-04T20:26:16.362Z"
   },
   {
    "duration": 3,
    "start_time": "2022-09-04T20:26:16.376Z"
   },
   {
    "duration": 875,
    "start_time": "2022-09-04T20:26:16.381Z"
   },
   {
    "duration": 196,
    "start_time": "2022-09-04T20:26:17.258Z"
   },
   {
    "duration": 3,
    "start_time": "2022-09-04T20:26:17.456Z"
   },
   {
    "duration": 57,
    "start_time": "2022-09-04T20:26:17.461Z"
   },
   {
    "duration": 13,
    "start_time": "2022-09-04T20:26:17.522Z"
   },
   {
    "duration": 5,
    "start_time": "2022-09-04T20:26:17.537Z"
   },
   {
    "duration": 5,
    "start_time": "2022-09-04T20:26:17.544Z"
   },
   {
    "duration": 2921,
    "start_time": "2022-09-04T20:26:17.551Z"
   },
   {
    "duration": 78241,
    "start_time": "2022-09-04T20:26:20.474Z"
   },
   {
    "duration": 1290,
    "start_time": "2022-09-04T20:27:38.717Z"
   },
   {
    "duration": 95,
    "start_time": "2022-09-04T20:27:40.013Z"
   },
   {
    "duration": 1606,
    "start_time": "2022-09-04T20:31:38.462Z"
   },
   {
    "duration": 57,
    "start_time": "2022-09-04T20:31:40.071Z"
   },
   {
    "duration": 6,
    "start_time": "2022-09-04T20:31:40.130Z"
   },
   {
    "duration": 19,
    "start_time": "2022-09-04T20:31:40.138Z"
   },
   {
    "duration": 4,
    "start_time": "2022-09-04T20:31:40.160Z"
   },
   {
    "duration": 1053,
    "start_time": "2022-09-04T20:31:40.167Z"
   },
   {
    "duration": 210,
    "start_time": "2022-09-04T20:31:41.222Z"
   },
   {
    "duration": 5,
    "start_time": "2022-09-04T20:31:41.433Z"
   },
   {
    "duration": 46,
    "start_time": "2022-09-04T20:31:41.439Z"
   },
   {
    "duration": 23,
    "start_time": "2022-09-04T20:31:41.486Z"
   },
   {
    "duration": 5,
    "start_time": "2022-09-04T20:31:41.511Z"
   },
   {
    "duration": 7,
    "start_time": "2022-09-04T20:31:41.518Z"
   },
   {
    "duration": 2668,
    "start_time": "2022-09-04T20:31:41.527Z"
   },
   {
    "duration": 84186,
    "start_time": "2022-09-04T20:31:44.197Z"
   },
   {
    "duration": 1143,
    "start_time": "2022-09-04T20:33:08.384Z"
   },
   {
    "duration": 89,
    "start_time": "2022-09-04T20:33:09.529Z"
   },
   {
    "duration": 1545,
    "start_time": "2022-09-07T17:59:00.323Z"
   },
   {
    "duration": 4,
    "start_time": "2022-09-07T17:59:53.698Z"
   },
   {
    "duration": 4,
    "start_time": "2022-09-07T18:00:18.931Z"
   },
   {
    "duration": 198,
    "start_time": "2022-09-07T18:00:20.967Z"
   },
   {
    "duration": 4,
    "start_time": "2022-09-07T18:00:22.709Z"
   },
   {
    "duration": 16,
    "start_time": "2022-09-07T18:00:24.003Z"
   },
   {
    "duration": 4,
    "start_time": "2022-09-07T18:00:25.287Z"
   },
   {
    "duration": 1084,
    "start_time": "2022-09-07T18:00:26.418Z"
   },
   {
    "duration": 222,
    "start_time": "2022-09-07T18:00:27.796Z"
   },
   {
    "duration": 6,
    "start_time": "2022-09-07T18:00:31.630Z"
   },
   {
    "duration": 55,
    "start_time": "2022-09-07T18:00:33.786Z"
   },
   {
    "duration": 14,
    "start_time": "2022-09-07T18:00:35.308Z"
   },
   {
    "duration": 6,
    "start_time": "2022-09-07T18:00:36.635Z"
   },
   {
    "duration": 5,
    "start_time": "2022-09-07T18:00:39.061Z"
   },
   {
    "duration": 3,
    "start_time": "2022-09-07T18:01:22.791Z"
   },
   {
    "duration": 5,
    "start_time": "2022-09-07T18:05:05.468Z"
   },
   {
    "duration": 740,
    "start_time": "2022-09-07T18:05:07.267Z"
   },
   {
    "duration": 27209,
    "start_time": "2022-09-07T18:05:29.144Z"
   },
   {
    "duration": 1038,
    "start_time": "2022-09-07T18:05:56.355Z"
   },
   {
    "duration": 322,
    "start_time": "2022-09-07T18:06:36.973Z"
   },
   {
    "duration": 10,
    "start_time": "2022-09-07T18:06:39.737Z"
   },
   {
    "duration": 234,
    "start_time": "2022-09-07T18:10:03.049Z"
   },
   {
    "duration": 217,
    "start_time": "2022-09-07T18:10:28.746Z"
   },
   {
    "duration": 174,
    "start_time": "2022-09-07T18:10:39.102Z"
   },
   {
    "duration": 188,
    "start_time": "2022-09-07T18:10:44.340Z"
   },
   {
    "duration": 185,
    "start_time": "2022-09-07T18:10:49.654Z"
   },
   {
    "duration": 190,
    "start_time": "2022-09-07T18:11:01.865Z"
   },
   {
    "duration": 202,
    "start_time": "2022-09-07T18:12:04.919Z"
   },
   {
    "duration": 208,
    "start_time": "2022-09-07T18:13:09.277Z"
   },
   {
    "duration": 207,
    "start_time": "2022-09-07T18:13:35.621Z"
   },
   {
    "duration": 222,
    "start_time": "2022-09-07T18:13:40.677Z"
   },
   {
    "duration": 1429,
    "start_time": "2022-09-07T18:15:55.579Z"
   },
   {
    "duration": 70,
    "start_time": "2022-09-07T18:15:57.010Z"
   },
   {
    "duration": 4,
    "start_time": "2022-09-07T18:15:57.082Z"
   },
   {
    "duration": 14,
    "start_time": "2022-09-07T18:15:57.087Z"
   },
   {
    "duration": 4,
    "start_time": "2022-09-07T18:15:57.102Z"
   },
   {
    "duration": 913,
    "start_time": "2022-09-07T18:15:57.107Z"
   },
   {
    "duration": 188,
    "start_time": "2022-09-07T18:15:58.022Z"
   },
   {
    "duration": 4,
    "start_time": "2022-09-07T18:15:58.211Z"
   },
   {
    "duration": 85,
    "start_time": "2022-09-07T18:15:58.217Z"
   },
   {
    "duration": 12,
    "start_time": "2022-09-07T18:15:58.305Z"
   },
   {
    "duration": 26,
    "start_time": "2022-09-07T18:15:58.318Z"
   },
   {
    "duration": 18,
    "start_time": "2022-09-07T18:15:58.346Z"
   },
   {
    "duration": 144,
    "start_time": "2022-09-07T18:15:58.366Z"
   },
   {
    "duration": 0,
    "start_time": "2022-09-07T18:15:58.512Z"
   },
   {
    "duration": 0,
    "start_time": "2022-09-07T18:15:58.513Z"
   },
   {
    "duration": 0,
    "start_time": "2022-09-07T18:15:58.514Z"
   },
   {
    "duration": 0,
    "start_time": "2022-09-07T18:15:58.515Z"
   },
   {
    "duration": 1465,
    "start_time": "2022-09-07T18:16:48.713Z"
   },
   {
    "duration": 0,
    "start_time": "2022-09-07T18:16:50.181Z"
   },
   {
    "duration": 0,
    "start_time": "2022-09-07T18:16:50.183Z"
   },
   {
    "duration": 0,
    "start_time": "2022-09-07T18:16:50.184Z"
   },
   {
    "duration": 0,
    "start_time": "2022-09-07T18:16:50.185Z"
   },
   {
    "duration": 0,
    "start_time": "2022-09-07T18:16:50.186Z"
   },
   {
    "duration": 0,
    "start_time": "2022-09-07T18:16:50.187Z"
   },
   {
    "duration": 0,
    "start_time": "2022-09-07T18:16:50.189Z"
   },
   {
    "duration": 0,
    "start_time": "2022-09-07T18:16:50.190Z"
   },
   {
    "duration": 0,
    "start_time": "2022-09-07T18:16:50.190Z"
   },
   {
    "duration": 0,
    "start_time": "2022-09-07T18:16:50.191Z"
   },
   {
    "duration": 0,
    "start_time": "2022-09-07T18:16:50.193Z"
   },
   {
    "duration": 0,
    "start_time": "2022-09-07T18:16:50.194Z"
   },
   {
    "duration": 0,
    "start_time": "2022-09-07T18:16:50.195Z"
   },
   {
    "duration": 0,
    "start_time": "2022-09-07T18:16:50.196Z"
   },
   {
    "duration": 0,
    "start_time": "2022-09-07T18:16:50.197Z"
   },
   {
    "duration": 0,
    "start_time": "2022-09-07T18:16:50.198Z"
   },
   {
    "duration": 1456,
    "start_time": "2022-09-07T18:17:07.351Z"
   },
   {
    "duration": 57,
    "start_time": "2022-09-07T18:17:08.809Z"
   },
   {
    "duration": 6,
    "start_time": "2022-09-07T18:17:08.868Z"
   },
   {
    "duration": 27,
    "start_time": "2022-09-07T18:17:08.876Z"
   },
   {
    "duration": 4,
    "start_time": "2022-09-07T18:17:08.905Z"
   },
   {
    "duration": 947,
    "start_time": "2022-09-07T18:17:08.911Z"
   },
   {
    "duration": 210,
    "start_time": "2022-09-07T18:17:09.860Z"
   },
   {
    "duration": 15,
    "start_time": "2022-09-07T18:17:10.072Z"
   },
   {
    "duration": 44,
    "start_time": "2022-09-07T18:17:10.089Z"
   },
   {
    "duration": 14,
    "start_time": "2022-09-07T18:17:10.136Z"
   },
   {
    "duration": 6,
    "start_time": "2022-09-07T18:17:10.153Z"
   },
   {
    "duration": 26,
    "start_time": "2022-09-07T18:17:10.161Z"
   },
   {
    "duration": 724,
    "start_time": "2022-09-07T18:17:10.190Z"
   },
   {
    "duration": 25527,
    "start_time": "2022-09-07T18:17:10.916Z"
   },
   {
    "duration": 543,
    "start_time": "2022-09-07T18:17:36.445Z"
   },
   {
    "duration": 11,
    "start_time": "2022-09-07T18:17:36.990Z"
   },
   {
    "duration": 360,
    "start_time": "2022-09-07T18:17:37.087Z"
   },
   {
    "duration": 1407,
    "start_time": "2022-09-07T18:19:06.446Z"
   },
   {
    "duration": 56,
    "start_time": "2022-09-07T18:19:07.855Z"
   },
   {
    "duration": 3,
    "start_time": "2022-09-07T18:19:07.913Z"
   },
   {
    "duration": 21,
    "start_time": "2022-09-07T18:19:07.918Z"
   },
   {
    "duration": 4,
    "start_time": "2022-09-07T18:19:07.941Z"
   },
   {
    "duration": 948,
    "start_time": "2022-09-07T18:19:07.946Z"
   },
   {
    "duration": 205,
    "start_time": "2022-09-07T18:19:08.896Z"
   },
   {
    "duration": 4,
    "start_time": "2022-09-07T18:19:09.103Z"
   },
   {
    "duration": 55,
    "start_time": "2022-09-07T18:19:09.110Z"
   },
   {
    "duration": 27,
    "start_time": "2022-09-07T18:19:09.166Z"
   },
   {
    "duration": 5,
    "start_time": "2022-09-07T18:19:09.195Z"
   },
   {
    "duration": 21,
    "start_time": "2022-09-07T18:19:09.202Z"
   },
   {
    "duration": 934,
    "start_time": "2022-09-07T18:19:09.225Z"
   },
   {
    "duration": 20665,
    "start_time": "2022-09-07T18:19:10.161Z"
   },
   {
    "duration": 466,
    "start_time": "2022-09-07T18:19:30.828Z"
   },
   {
    "duration": 97,
    "start_time": "2022-09-07T18:19:31.301Z"
   },
   {
    "duration": 392,
    "start_time": "2022-09-07T18:19:31.486Z"
   },
   {
    "duration": 5,
    "start_time": "2022-09-07T18:20:11.351Z"
   },
   {
    "duration": 371,
    "start_time": "2022-09-07T18:20:15.825Z"
   },
   {
    "duration": 1509,
    "start_time": "2022-09-07T18:20:19.964Z"
   },
   {
    "duration": 56,
    "start_time": "2022-09-07T18:20:21.475Z"
   },
   {
    "duration": 4,
    "start_time": "2022-09-07T18:20:21.533Z"
   },
   {
    "duration": 16,
    "start_time": "2022-09-07T18:20:21.538Z"
   },
   {
    "duration": 3,
    "start_time": "2022-09-07T18:20:21.556Z"
   },
   {
    "duration": 939,
    "start_time": "2022-09-07T18:20:21.561Z"
   },
   {
    "duration": 193,
    "start_time": "2022-09-07T18:20:22.501Z"
   },
   {
    "duration": 4,
    "start_time": "2022-09-07T18:20:22.695Z"
   },
   {
    "duration": 48,
    "start_time": "2022-09-07T18:20:22.701Z"
   },
   {
    "duration": 12,
    "start_time": "2022-09-07T18:20:22.751Z"
   },
   {
    "duration": 6,
    "start_time": "2022-09-07T18:20:22.786Z"
   },
   {
    "duration": 6,
    "start_time": "2022-09-07T18:20:22.793Z"
   },
   {
    "duration": 854,
    "start_time": "2022-09-07T18:20:22.801Z"
   },
   {
    "duration": 16648,
    "start_time": "2022-09-07T18:20:23.656Z"
   },
   {
    "duration": 0,
    "start_time": "2022-09-07T18:20:40.306Z"
   },
   {
    "duration": 0,
    "start_time": "2022-09-07T18:20:40.307Z"
   },
   {
    "duration": 0,
    "start_time": "2022-09-07T18:20:40.308Z"
   },
   {
    "duration": 1311,
    "start_time": "2022-09-07T18:20:48.588Z"
   },
   {
    "duration": 54,
    "start_time": "2022-09-07T18:20:49.901Z"
   },
   {
    "duration": 4,
    "start_time": "2022-09-07T18:20:49.957Z"
   },
   {
    "duration": 16,
    "start_time": "2022-09-07T18:20:49.963Z"
   },
   {
    "duration": 3,
    "start_time": "2022-09-07T18:20:49.980Z"
   },
   {
    "duration": 805,
    "start_time": "2022-09-07T18:20:49.985Z"
   },
   {
    "duration": 271,
    "start_time": "2022-09-07T18:20:50.792Z"
   },
   {
    "duration": 4,
    "start_time": "2022-09-07T18:20:51.065Z"
   },
   {
    "duration": 54,
    "start_time": "2022-09-07T18:20:51.070Z"
   },
   {
    "duration": 10,
    "start_time": "2022-09-07T18:20:51.127Z"
   },
   {
    "duration": 5,
    "start_time": "2022-09-07T18:20:51.139Z"
   },
   {
    "duration": 6,
    "start_time": "2022-09-07T18:20:51.146Z"
   },
   {
    "duration": 825,
    "start_time": "2022-09-07T18:20:51.154Z"
   },
   {
    "duration": 17411,
    "start_time": "2022-09-07T18:20:51.981Z"
   },
   {
    "duration": 296,
    "start_time": "2022-09-07T18:21:09.394Z"
   },
   {
    "duration": 101,
    "start_time": "2022-09-07T18:21:09.692Z"
   },
   {
    "duration": 496,
    "start_time": "2022-09-07T18:21:09.795Z"
   }
  ],
  "kernelspec": {
   "display_name": "Python 3 (ipykernel)",
   "language": "python",
   "name": "python3"
  },
  "language_info": {
   "codemirror_mode": {
    "name": "ipython",
    "version": 3
   },
   "file_extension": ".py",
   "mimetype": "text/x-python",
   "name": "python",
   "nbconvert_exporter": "python",
   "pygments_lexer": "ipython3",
   "version": "3.9.12"
  },
  "toc": {
   "base_numbering": 1,
   "nav_menu": {},
   "number_sections": true,
   "sideBar": true,
   "skip_h1_title": true,
   "title_cell": "Содержание",
   "title_sidebar": "Contents",
   "toc_cell": true,
   "toc_position": {},
   "toc_section_display": true,
   "toc_window_display": false
  }
 },
 "nbformat": 4,
 "nbformat_minor": 2
}
