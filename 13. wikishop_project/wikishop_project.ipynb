{
 "cells": [
  {
   "cell_type": "markdown",
   "metadata": {},
   "source": [
    "# Проект для «Викишоп»"
   ]
  },
  {
   "cell_type": "markdown",
   "metadata": {},
   "source": [
    "Интернет-магазин «Викишоп» запускает новый сервис. Теперь пользователи могут редактировать и дополнять описания товаров, как в вики-сообществах. То есть клиенты предлагают свои правки и комментируют изменения других. Магазину нужен инструмент, который будет искать токсичные комментарии и отправлять их на модерацию. \n",
    "\n",
    "Обучите модель классифицировать комментарии на позитивные и негативные. В вашем распоряжении набор данных с разметкой о токсичности правок.\n",
    "\n",
    "Постройте модель со значением метрики качества *F1* не меньше 0.75. \n",
    "\n",
    "**Инструкция по выполнению проекта**\n",
    "\n",
    "1. Загрузите и подготовьте данные.\n",
    "2. Обучите разные модели. \n",
    "3. Сделайте выводы.\n",
    "\n",
    "Для выполнения проекта применять *BERT* необязательно, но вы можете попробовать.\n",
    "\n",
    "**Описание данных**\n",
    "\n",
    "Данные находятся в файле `toxic_comments.csv`. Столбец *text* в нём содержит текст комментария, а *toxic* — целевой признак.\n",
    "\n",
    "**Цель работы:** построить модель, классифицирующую комментарии на позитивные и негативные."
   ]
  },
  {
   "cell_type": "markdown",
   "metadata": {},
   "source": [
    "## Подготовка"
   ]
  },
  {
   "cell_type": "markdown",
   "metadata": {},
   "source": [
    "Импортируем необходимые в работе библиотеки."
   ]
  },
  {
   "cell_type": "code",
   "execution_count": 1,
   "metadata": {},
   "outputs": [],
   "source": [
    "import pandas as pd\n",
    "import re \n",
    "from sklearn.model_selection import train_test_split\n",
    "import nltk\n",
    "from nltk.stem import WordNetLemmatizer \n",
    "from nltk.corpus import stopwords as nltk_stopwords \n",
    "from sklearn.feature_extraction.text import TfidfVectorizer\n",
    "from sklearn.linear_model import LogisticRegression\n",
    "from sklearn.tree import DecisionTreeClassifier\n",
    "from sklearn.ensemble import RandomForestClassifier\n",
    "from catboost import CatBoostRegressor\n",
    "from sklearn.model_selection import RandomizedSearchCV, cross_val_score\n",
    "from sklearn.metrics import f1_score"
   ]
  },
  {
   "cell_type": "markdown",
   "metadata": {},
   "source": [
    "Загрузим и изучим предоставленные данные."
   ]
  },
  {
   "cell_type": "code",
   "execution_count": 2,
   "metadata": {},
   "outputs": [
    {
     "data": {
      "text/html": [
       "<div>\n",
       "<style scoped>\n",
       "    .dataframe tbody tr th:only-of-type {\n",
       "        vertical-align: middle;\n",
       "    }\n",
       "\n",
       "    .dataframe tbody tr th {\n",
       "        vertical-align: top;\n",
       "    }\n",
       "\n",
       "    .dataframe thead th {\n",
       "        text-align: right;\n",
       "    }\n",
       "</style>\n",
       "<table border=\"1\" class=\"dataframe\">\n",
       "  <thead>\n",
       "    <tr style=\"text-align: right;\">\n",
       "      <th></th>\n",
       "      <th>text</th>\n",
       "      <th>toxic</th>\n",
       "    </tr>\n",
       "  </thead>\n",
       "  <tbody>\n",
       "    <tr>\n",
       "      <th>0</th>\n",
       "      <td>Explanation\\nWhy the edits made under my usern...</td>\n",
       "      <td>0</td>\n",
       "    </tr>\n",
       "    <tr>\n",
       "      <th>1</th>\n",
       "      <td>D'aww! He matches this background colour I'm s...</td>\n",
       "      <td>0</td>\n",
       "    </tr>\n",
       "    <tr>\n",
       "      <th>2</th>\n",
       "      <td>Hey man, I'm really not trying to edit war. It...</td>\n",
       "      <td>0</td>\n",
       "    </tr>\n",
       "    <tr>\n",
       "      <th>3</th>\n",
       "      <td>\"\\nMore\\nI can't make any real suggestions on ...</td>\n",
       "      <td>0</td>\n",
       "    </tr>\n",
       "    <tr>\n",
       "      <th>4</th>\n",
       "      <td>You, sir, are my hero. Any chance you remember...</td>\n",
       "      <td>0</td>\n",
       "    </tr>\n",
       "  </tbody>\n",
       "</table>\n",
       "</div>"
      ],
      "text/plain": [
       "                                                text  toxic\n",
       "0  Explanation\\nWhy the edits made under my usern...      0\n",
       "1  D'aww! He matches this background colour I'm s...      0\n",
       "2  Hey man, I'm really not trying to edit war. It...      0\n",
       "3  \"\\nMore\\nI can't make any real suggestions on ...      0\n",
       "4  You, sir, are my hero. Any chance you remember...      0"
      ]
     },
     "execution_count": 2,
     "metadata": {},
     "output_type": "execute_result"
    }
   ],
   "source": [
    "data = pd.read_csv('/datasets/toxic_comments.csv', index_col=0)\n",
    "data.head()"
   ]
  },
  {
   "cell_type": "code",
   "execution_count": 3,
   "metadata": {},
   "outputs": [
    {
     "name": "stdout",
     "output_type": "stream",
     "text": [
      "<class 'pandas.core.frame.DataFrame'>\n",
      "Int64Index: 159292 entries, 0 to 159450\n",
      "Data columns (total 2 columns):\n",
      " #   Column  Non-Null Count   Dtype \n",
      "---  ------  --------------   ----- \n",
      " 0   text    159292 non-null  object\n",
      " 1   toxic   159292 non-null  int64 \n",
      "dtypes: int64(1), object(1)\n",
      "memory usage: 3.6+ MB\n"
     ]
    }
   ],
   "source": [
    "data.info()"
   ]
  },
  {
   "cell_type": "markdown",
   "metadata": {},
   "source": [
    "Проверим данные на наличие пропусков и дубликатов."
   ]
  },
  {
   "cell_type": "code",
   "execution_count": 4,
   "metadata": {},
   "outputs": [
    {
     "data": {
      "text/plain": [
       "text     0\n",
       "toxic    0\n",
       "dtype: int64"
      ]
     },
     "execution_count": 4,
     "metadata": {},
     "output_type": "execute_result"
    }
   ],
   "source": [
    "data.isna().sum()"
   ]
  },
  {
   "cell_type": "code",
   "execution_count": 5,
   "metadata": {},
   "outputs": [
    {
     "data": {
      "text/plain": [
       "0"
      ]
     },
     "execution_count": 5,
     "metadata": {},
     "output_type": "execute_result"
    }
   ],
   "source": [
    "data.duplicated().sum()"
   ]
  },
  {
   "cell_type": "markdown",
   "metadata": {},
   "source": [
    "Пропуски и явные дубликаты отсутствуют. Проверим баланс классов целевого признака."
   ]
  },
  {
   "cell_type": "code",
   "execution_count": 6,
   "metadata": {},
   "outputs": [
    {
     "data": {
      "image/png": "[encoded data removed]",
      "text/plain": [
       "<Figure size 432x288 with 1 Axes>"
      ]
     },
     "metadata": {
      "needs_background": "light"
     },
     "output_type": "display_data"
    }
   ],
   "source": [
    "data['toxic'].value_counts().plot(kind='bar', title='Распределение классов');"
   ]
  },
  {
   "cell_type": "markdown",
   "metadata": {},
   "source": [
    "Очевидно превосходство класса 0."
   ]
  },
  {
   "cell_type": "markdown",
   "metadata": {},
   "source": [
    "Напишем функции для лемматизации и очистки текста от лишних символов."
   ]
  },
  {
   "cell_type": "code",
   "execution_count": 7,
   "metadata": {},
   "outputs": [
    {
     "name": "stderr",
     "output_type": "stream",
     "text": [
      "[nltk_data] Downloading package wordnet to /home/jovyan/nltk_data...\n",
      "[nltk_data]   Package wordnet is already up-to-date!\n"
     ]
    }
   ],
   "source": [
    "nltk.download('wordnet')\n",
    "lemmatizer = WordNetLemmatizer()\n",
    "def lemmatize(text):\n",
    "    word_list = nltk.word_tokenize(text)\n",
    "    lemm_list = [lemmatizer.lemmatize(word) for word in word_list]\n",
    "    lemm_text = \" \".join(lemm_list)\n",
    "    return lemm_text"
   ]
  },
  {
   "cell_type": "code",
   "execution_count": 8,
   "metadata": {},
   "outputs": [],
   "source": [
    "def clear_text(text):\n",
    "    return \" \".join(re.sub(r'[^a-zA-Z]', ' ', text).split())"
   ]
  },
  {
   "cell_type": "code",
   "execution_count": 9,
   "metadata": {},
   "outputs": [
    {
     "data": {
      "text/html": [
       "<div>\n",
       "<style scoped>\n",
       "    .dataframe tbody tr th:only-of-type {\n",
       "        vertical-align: middle;\n",
       "    }\n",
       "\n",
       "    .dataframe tbody tr th {\n",
       "        vertical-align: top;\n",
       "    }\n",
       "\n",
       "    .dataframe thead th {\n",
       "        text-align: right;\n",
       "    }\n",
       "</style>\n",
       "<table border=\"1\" class=\"dataframe\">\n",
       "  <thead>\n",
       "    <tr style=\"text-align: right;\">\n",
       "      <th></th>\n",
       "      <th>text</th>\n",
       "      <th>toxic</th>\n",
       "      <th>lemm_text</th>\n",
       "    </tr>\n",
       "  </thead>\n",
       "  <tbody>\n",
       "    <tr>\n",
       "      <th>0</th>\n",
       "      <td>Explanation\\nWhy the edits made under my usern...</td>\n",
       "      <td>0</td>\n",
       "      <td>Explanation Why the edits made under my userna...</td>\n",
       "    </tr>\n",
       "    <tr>\n",
       "      <th>1</th>\n",
       "      <td>D'aww! He matches this background colour I'm s...</td>\n",
       "      <td>0</td>\n",
       "      <td>D aww He match this background colour I m seem...</td>\n",
       "    </tr>\n",
       "    <tr>\n",
       "      <th>2</th>\n",
       "      <td>Hey man, I'm really not trying to edit war. It...</td>\n",
       "      <td>0</td>\n",
       "      <td>Hey man I m really not trying to edit war It s...</td>\n",
       "    </tr>\n",
       "    <tr>\n",
       "      <th>3</th>\n",
       "      <td>\"\\nMore\\nI can't make any real suggestions on ...</td>\n",
       "      <td>0</td>\n",
       "      <td>More I can t make any real suggestion on impro...</td>\n",
       "    </tr>\n",
       "    <tr>\n",
       "      <th>4</th>\n",
       "      <td>You, sir, are my hero. Any chance you remember...</td>\n",
       "      <td>0</td>\n",
       "      <td>You sir are my hero Any chance you remember wh...</td>\n",
       "    </tr>\n",
       "  </tbody>\n",
       "</table>\n",
       "</div>"
      ],
      "text/plain": [
       "                                                text  toxic  \\\n",
       "0  Explanation\\nWhy the edits made under my usern...      0   \n",
       "1  D'aww! He matches this background colour I'm s...      0   \n",
       "2  Hey man, I'm really not trying to edit war. It...      0   \n",
       "3  \"\\nMore\\nI can't make any real suggestions on ...      0   \n",
       "4  You, sir, are my hero. Any chance you remember...      0   \n",
       "\n",
       "                                           lemm_text  \n",
       "0  Explanation Why the edits made under my userna...  \n",
       "1  D aww He match this background colour I m seem...  \n",
       "2  Hey man I m really not trying to edit war It s...  \n",
       "3  More I can t make any real suggestion on impro...  \n",
       "4  You sir are my hero Any chance you remember wh...  "
      ]
     },
     "execution_count": 9,
     "metadata": {},
     "output_type": "execute_result"
    }
   ],
   "source": [
    "corpus = data['text'].values\n",
    "data['lemm_text'] = [lemmatize(clear_text(corpus[i])) for i in range(len(corpus))]\n",
    "data.head()"
   ]
  },
  {
   "cell_type": "markdown",
   "metadata": {},
   "source": [
    "Разделим данные на обучающую и тестовую выборки."
   ]
  },
  {
   "cell_type": "code",
   "execution_count": 10,
   "metadata": {},
   "outputs": [
    {
     "name": "stdout",
     "output_type": "stream",
     "text": [
      "(119469,) (39823,) (119469,) (39823,)\n"
     ]
    }
   ],
   "source": [
    "features = data['lemm_text']\n",
    "target = data['toxic']\n",
    "X_train, X_test, y_train, y_test = train_test_split(features, \n",
    "                                                    target, \n",
    "                                                    test_size=0.25,\n",
    "                                                    random_state=12345)\n",
    "print(X_train.shape, X_test.shape, y_train.shape, y_test.shape)"
   ]
  },
  {
   "cell_type": "markdown",
   "metadata": {},
   "source": [
    "Переведем тексты в векторный формат."
   ]
  },
  {
   "cell_type": "code",
   "execution_count": 11,
   "metadata": {},
   "outputs": [
    {
     "name": "stderr",
     "output_type": "stream",
     "text": [
      "[nltk_data] Downloading package stopwords to /home/jovyan/nltk_data...\n",
      "[nltk_data]   Package stopwords is already up-to-date!\n"
     ]
    },
    {
     "name": "stdout",
     "output_type": "stream",
     "text": [
      "(119469, 137912) (39823, 137912)\n"
     ]
    }
   ],
   "source": [
    "nltk.download('stopwords')\n",
    "stopwords = set(nltk_stopwords.words('english'))\n",
    "count_tf_idf = TfidfVectorizer(stop_words=stopwords)\n",
    "X_train = count_tf_idf.fit_transform(X_train)\n",
    "X_test = count_tf_idf.transform(X_test)\n",
    "\n",
    "print(X_train.shape, X_test.shape)"
   ]
  },
  {
   "cell_type": "markdown",
   "metadata": {},
   "source": [
    "## Обучение"
   ]
  },
  {
   "cell_type": "markdown",
   "metadata": {},
   "source": [
    "Обучим несколько моделей и сравним их показатели F1-меры."
   ]
  },
  {
   "cell_type": "markdown",
   "metadata": {},
   "source": [
    "### Логистическая регрессия"
   ]
  },
  {
   "cell_type": "code",
   "execution_count": 12,
   "metadata": {},
   "outputs": [
    {
     "name": "stdout",
     "output_type": "stream",
     "text": [
      "F1: 0.7589746420957431 Параметры: {'C': 10}\n"
     ]
    }
   ],
   "source": [
    "model_lr = LogisticRegression(random_state=12345, solver='liblinear', max_iter=1000)\n",
    "\n",
    "param = {'C': range(1,11,1)}\n",
    "grid = RandomizedSearchCV(model_lr, param, n_iter=5, scoring='f1')\n",
    "grid.fit(X_train, y_train)\n",
    "best_model_lr = grid.best_estimator_\n",
    "f1_lr = grid.best_score_\n",
    "print('F1:', f1_lr, 'Параметры:', grid.best_params_)"
   ]
  },
  {
   "cell_type": "markdown",
   "metadata": {},
   "source": [
    "### Дерево решений"
   ]
  },
  {
   "cell_type": "code",
   "execution_count": 13,
   "metadata": {},
   "outputs": [
    {
     "name": "stdout",
     "output_type": "stream",
     "text": [
      "F1: 0.644800376637028 Параметры: {'max_depth': 20}\n"
     ]
    }
   ],
   "source": [
    "model_dt = DecisionTreeClassifier(random_state=12345)\n",
    "\n",
    "param = {'max_depth': range(1,21,1)}\n",
    "grid = RandomizedSearchCV(model_dt, param, n_iter=5, scoring='f1')\n",
    "grid.fit(X_train, y_train)\n",
    "best_model_dt = grid.best_estimator_\n",
    "f1_dt = grid.best_score_\n",
    "print('F1:', f1_dt, 'Параметры:', grid.best_params_)"
   ]
  },
  {
   "cell_type": "markdown",
   "metadata": {},
   "source": [
    "### Случайный лес"
   ]
  },
  {
   "cell_type": "code",
   "execution_count": 14,
   "metadata": {},
   "outputs": [
    {
     "name": "stdout",
     "output_type": "stream",
     "text": [
      "F1: 0.0 Параметры: {'n_estimators': 20, 'max_depth': 3}\n"
     ]
    }
   ],
   "source": [
    "model_rf = RandomForestClassifier(random_state=12345)\n",
    "\n",
    "param = {'max_depth': range(1,11,1),\n",
    "         'n_estimators':range(10,50,10)}\n",
    "grid = RandomizedSearchCV(model_rf, param, n_iter=5, scoring='f1')\n",
    "grid.fit(X_train, y_train)\n",
    "best_model_rf = grid.best_estimator_\n",
    "f1_rf = grid.best_score_\n",
    "print('F1:', f1_rf, 'Параметры:', grid.best_params_)"
   ]
  },
  {
   "cell_type": "markdown",
   "metadata": {},
   "source": [
    "Лучший результат показала модель логистической регрессии, проверим ее на тестовой выборке."
   ]
  },
  {
   "cell_type": "code",
   "execution_count": 15,
   "metadata": {
    "scrolled": true
   },
   "outputs": [
    {
     "data": {
      "text/plain": [
       "0.7801221543586897"
      ]
     },
     "execution_count": 15,
     "metadata": {},
     "output_type": "execute_result"
    }
   ],
   "source": [
    "predictions = best_model_lr.predict(X_test)\n",
    "f1_score(y_test, predictions)"
   ]
  },
  {
   "cell_type": "markdown",
   "metadata": {},
   "source": [
    "## Выводы"
   ]
  },
  {
   "cell_type": "markdown",
   "metadata": {},
   "source": [
    "В ходе данной работы были изучены предоставленные данные, тексты были лемматизированы, очищены от лишних символов и переведены в векторный формат. Были обучены несколько моделей, классифицирующих комментарии, лучший результат показала модель логистической регресcии(C=10, solver='liblinear', max_iter=1000), значение F1-меры на тестовой выборке 0.78."
   ]
  }
 ],
 "metadata": {
  "ExecuteTimeLog": [
   {
    "duration": 368,
    "start_time": "2022-09-13T17:49:32.479Z"
   },
   {
    "duration": 2351,
    "start_time": "2022-09-13T17:50:28.336Z"
   },
   {
    "duration": 776,
    "start_time": "2022-09-13T17:50:38.523Z"
   },
   {
    "duration": 807,
    "start_time": "2022-09-13T17:55:32.084Z"
   },
   {
    "duration": 431,
    "start_time": "2022-09-13T17:57:07.223Z"
   },
   {
    "duration": 904,
    "start_time": "2022-09-13T17:57:07.655Z"
   },
   {
    "duration": 60,
    "start_time": "2022-09-13T17:58:55.322Z"
   },
   {
    "duration": 942,
    "start_time": "2022-09-13T18:06:06.266Z"
   },
   {
    "duration": 397,
    "start_time": "2022-09-14T10:01:23.453Z"
   },
   {
    "duration": 3317,
    "start_time": "2022-09-14T10:01:23.851Z"
   },
   {
    "duration": 358,
    "start_time": "2022-09-14T17:09:02.832Z"
   },
   {
    "duration": 3277,
    "start_time": "2022-09-14T17:09:07.576Z"
   },
   {
    "duration": 718,
    "start_time": "2022-09-14T17:09:15.211Z"
   },
   {
    "duration": 31,
    "start_time": "2022-09-14T17:10:05.936Z"
   },
   {
    "duration": 26,
    "start_time": "2022-09-14T17:11:30.520Z"
   },
   {
    "duration": 202,
    "start_time": "2022-09-14T17:11:53.083Z"
   },
   {
    "duration": 6,
    "start_time": "2022-09-14T17:15:33.632Z"
   },
   {
    "duration": 556,
    "start_time": "2022-09-14T17:15:53.594Z"
   },
   {
    "duration": 95,
    "start_time": "2022-09-14T17:15:57.441Z"
   },
   {
    "duration": 93,
    "start_time": "2022-09-14T17:16:31.890Z"
   },
   {
    "duration": 1741,
    "start_time": "2022-09-14T17:19:26.597Z"
   },
   {
    "duration": 4,
    "start_time": "2022-09-14T17:34:35.538Z"
   },
   {
    "duration": 4,
    "start_time": "2022-09-14T17:36:11.744Z"
   },
   {
    "duration": 429,
    "start_time": "2022-09-14T17:41:07.452Z"
   },
   {
    "duration": 773,
    "start_time": "2022-09-14T17:41:07.887Z"
   },
   {
    "duration": 42,
    "start_time": "2022-09-14T17:41:08.661Z"
   },
   {
    "duration": 25,
    "start_time": "2022-09-14T17:41:08.704Z"
   },
   {
    "duration": 208,
    "start_time": "2022-09-14T17:41:08.731Z"
   },
   {
    "duration": 432,
    "start_time": "2022-09-14T17:41:08.940Z"
   },
   {
    "duration": 1754,
    "start_time": "2022-09-14T17:41:09.376Z"
   },
   {
    "duration": 7,
    "start_time": "2022-09-14T17:41:11.132Z"
   },
   {
    "duration": 7,
    "start_time": "2022-09-14T17:41:11.140Z"
   },
   {
    "duration": 758,
    "start_time": "2022-09-14T17:41:59.873Z"
   },
   {
    "duration": 73,
    "start_time": "2022-09-14T17:42:43.259Z"
   },
   {
    "duration": 0,
    "start_time": "2022-09-14T17:44:06.705Z"
   },
   {
    "duration": 0,
    "start_time": "2022-09-14T18:36:02.480Z"
   },
   {
    "duration": 1032,
    "start_time": "2022-09-14T18:36:04.537Z"
   },
   {
    "duration": 785,
    "start_time": "2022-09-14T18:36:08.320Z"
   },
   {
    "duration": 1260,
    "start_time": "2022-09-14T18:38:56.602Z"
   },
   {
    "duration": 739,
    "start_time": "2022-09-14T18:38:58.452Z"
   },
   {
    "duration": 31,
    "start_time": "2022-09-14T18:39:01.248Z"
   },
   {
    "duration": 26,
    "start_time": "2022-09-14T18:39:05.796Z"
   },
   {
    "duration": 212,
    "start_time": "2022-09-14T18:39:07.304Z"
   },
   {
    "duration": 280,
    "start_time": "2022-09-14T18:39:08.664Z"
   },
   {
    "duration": 1725,
    "start_time": "2022-09-14T18:39:11.735Z"
   },
   {
    "duration": 260,
    "start_time": "2022-09-14T18:39:14.252Z"
   },
   {
    "duration": 3,
    "start_time": "2022-09-14T18:39:18.740Z"
   },
   {
    "duration": 7825,
    "start_time": "2022-09-14T18:39:19.978Z"
   },
   {
    "duration": 56,
    "start_time": "2022-09-14T18:45:44.564Z"
   },
   {
    "duration": 4090,
    "start_time": "2022-09-14T18:45:55.056Z"
   },
   {
    "duration": 28,
    "start_time": "2022-09-14T18:47:43.124Z"
   },
   {
    "duration": 1183,
    "start_time": "2022-09-14T18:48:27.724Z"
   },
   {
    "duration": 752,
    "start_time": "2022-09-14T18:48:28.909Z"
   },
   {
    "duration": 32,
    "start_time": "2022-09-14T18:48:29.662Z"
   },
   {
    "duration": 25,
    "start_time": "2022-09-14T18:48:29.695Z"
   },
   {
    "duration": 216,
    "start_time": "2022-09-14T18:48:29.722Z"
   },
   {
    "duration": 276,
    "start_time": "2022-09-14T18:48:29.940Z"
   },
   {
    "duration": 1715,
    "start_time": "2022-09-14T18:48:30.217Z"
   },
   {
    "duration": 240,
    "start_time": "2022-09-14T18:48:31.933Z"
   },
   {
    "duration": 3,
    "start_time": "2022-09-14T18:48:32.175Z"
   },
   {
    "duration": 7720,
    "start_time": "2022-09-14T18:48:32.179Z"
   },
   {
    "duration": 3,
    "start_time": "2022-09-14T18:51:10.905Z"
   },
   {
    "duration": 113,
    "start_time": "2022-09-14T18:54:03.969Z"
   },
   {
    "duration": 3,
    "start_time": "2022-09-14T18:54:38.417Z"
   },
   {
    "duration": 9,
    "start_time": "2022-09-14T18:54:43.290Z"
   },
   {
    "duration": 56,
    "start_time": "2022-09-14T18:55:11.401Z"
   },
   {
    "duration": 4077,
    "start_time": "2022-09-14T18:56:17.241Z"
   },
   {
    "duration": 35,
    "start_time": "2022-09-14T18:56:40.841Z"
   },
   {
    "duration": 44,
    "start_time": "2022-09-14T18:58:16.437Z"
   },
   {
    "duration": 6172,
    "start_time": "2022-09-14T19:01:12.950Z"
   },
   {
    "duration": 11,
    "start_time": "2022-09-14T19:03:15.940Z"
   },
   {
    "duration": 1270,
    "start_time": "2022-09-14T19:04:14.080Z"
   },
   {
    "duration": 805,
    "start_time": "2022-09-14T19:04:15.352Z"
   },
   {
    "duration": 32,
    "start_time": "2022-09-14T19:04:16.158Z"
   },
   {
    "duration": 31,
    "start_time": "2022-09-14T19:04:16.192Z"
   },
   {
    "duration": 229,
    "start_time": "2022-09-14T19:04:16.225Z"
   },
   {
    "duration": 298,
    "start_time": "2022-09-14T19:04:16.456Z"
   },
   {
    "duration": 1787,
    "start_time": "2022-09-14T19:04:16.756Z"
   },
   {
    "duration": 330,
    "start_time": "2022-09-14T19:04:18.545Z"
   },
   {
    "duration": 4,
    "start_time": "2022-09-14T19:04:18.877Z"
   },
   {
    "duration": 7833,
    "start_time": "2022-09-14T19:04:18.883Z"
   },
   {
    "duration": 32,
    "start_time": "2022-09-14T19:04:26.717Z"
   },
   {
    "duration": 6292,
    "start_time": "2022-09-14T19:04:26.751Z"
   },
   {
    "duration": 133,
    "start_time": "2022-09-14T19:05:21.172Z"
   },
   {
    "duration": 1265,
    "start_time": "2022-09-14T19:05:32.367Z"
   },
   {
    "duration": 783,
    "start_time": "2022-09-14T19:05:33.634Z"
   },
   {
    "duration": 30,
    "start_time": "2022-09-14T19:05:34.419Z"
   },
   {
    "duration": 37,
    "start_time": "2022-09-14T19:05:34.451Z"
   },
   {
    "duration": 226,
    "start_time": "2022-09-14T19:05:34.490Z"
   },
   {
    "duration": 293,
    "start_time": "2022-09-14T19:05:34.717Z"
   },
   {
    "duration": 1765,
    "start_time": "2022-09-14T19:05:35.012Z"
   },
   {
    "duration": 320,
    "start_time": "2022-09-14T19:05:36.779Z"
   },
   {
    "duration": 2,
    "start_time": "2022-09-14T19:05:37.101Z"
   },
   {
    "duration": 7785,
    "start_time": "2022-09-14T19:05:37.105Z"
   },
   {
    "duration": 29,
    "start_time": "2022-09-14T19:05:44.891Z"
   },
   {
    "duration": 6112,
    "start_time": "2022-09-14T19:05:44.921Z"
   },
   {
    "duration": 1269,
    "start_time": "2022-09-14T19:06:34.169Z"
   },
   {
    "duration": 793,
    "start_time": "2022-09-14T19:06:35.439Z"
   },
   {
    "duration": 35,
    "start_time": "2022-09-14T19:06:36.234Z"
   },
   {
    "duration": 27,
    "start_time": "2022-09-14T19:06:36.278Z"
   },
   {
    "duration": 231,
    "start_time": "2022-09-14T19:06:36.306Z"
   },
   {
    "duration": 292,
    "start_time": "2022-09-14T19:06:36.539Z"
   },
   {
    "duration": 1792,
    "start_time": "2022-09-14T19:06:36.833Z"
   },
   {
    "duration": 248,
    "start_time": "2022-09-14T19:06:38.627Z"
   },
   {
    "duration": 3,
    "start_time": "2022-09-14T19:06:38.877Z"
   },
   {
    "duration": 7710,
    "start_time": "2022-09-14T19:06:38.882Z"
   },
   {
    "duration": 29,
    "start_time": "2022-09-14T19:06:46.593Z"
   },
   {
    "duration": 6227,
    "start_time": "2022-09-14T19:06:46.624Z"
   },
   {
    "duration": 68,
    "start_time": "2022-09-14T19:12:45.584Z"
   },
   {
    "duration": 3,
    "start_time": "2022-09-14T19:15:24.366Z"
   },
   {
    "duration": 39671,
    "start_time": "2022-09-14T19:18:23.807Z"
   },
   {
    "duration": 40526,
    "start_time": "2022-09-14T19:19:10.353Z"
   },
   {
    "duration": 9238,
    "start_time": "2022-09-14T19:24:18.310Z"
   },
   {
    "duration": 40315,
    "start_time": "2022-09-14T19:24:28.370Z"
   },
   {
    "duration": 4,
    "start_time": "2022-09-14T19:25:41.002Z"
   },
   {
    "duration": 8731,
    "start_time": "2022-09-14T19:25:45.047Z"
   },
   {
    "duration": 227236,
    "start_time": "2022-09-14T19:25:54.542Z"
   },
   {
    "duration": 219147,
    "start_time": "2022-09-14T19:32:10.535Z"
   },
   {
    "duration": 223031,
    "start_time": "2022-09-14T19:36:13.447Z"
   },
   {
    "duration": 449019,
    "start_time": "2022-09-14T19:39:56.480Z"
   },
   {
    "duration": 1332,
    "start_time": "2022-09-14T19:48:19.740Z"
   },
   {
    "duration": 3400,
    "start_time": "2022-09-14T19:48:21.074Z"
   },
   {
    "duration": 33,
    "start_time": "2022-09-14T19:48:24.476Z"
   },
   {
    "duration": 28,
    "start_time": "2022-09-14T19:48:24.511Z"
   },
   {
    "duration": 245,
    "start_time": "2022-09-14T19:48:24.541Z"
   },
   {
    "duration": 412,
    "start_time": "2022-09-14T19:48:24.788Z"
   },
   {
    "duration": 1849,
    "start_time": "2022-09-14T19:48:25.202Z"
   },
   {
    "duration": 259,
    "start_time": "2022-09-14T19:48:27.052Z"
   },
   {
    "duration": 3,
    "start_time": "2022-09-14T19:48:27.312Z"
   },
   {
    "duration": 7754,
    "start_time": "2022-09-14T19:48:27.316Z"
   },
   {
    "duration": 28,
    "start_time": "2022-09-14T19:48:35.078Z"
   },
   {
    "duration": 6208,
    "start_time": "2022-09-14T19:48:35.108Z"
   },
   {
    "duration": 222769,
    "start_time": "2022-09-14T19:48:41.317Z"
   },
   {
    "duration": 119622,
    "start_time": "2022-09-14T19:52:24.178Z"
   },
   {
    "duration": 1395,
    "start_time": "2022-09-14T19:57:41.456Z"
   },
   {
    "duration": 3325,
    "start_time": "2022-09-14T19:57:42.853Z"
   },
   {
    "duration": 32,
    "start_time": "2022-09-14T19:57:46.179Z"
   },
   {
    "duration": 26,
    "start_time": "2022-09-14T19:57:46.212Z"
   },
   {
    "duration": 227,
    "start_time": "2022-09-14T19:57:46.240Z"
   },
   {
    "duration": 385,
    "start_time": "2022-09-14T19:57:46.468Z"
   },
   {
    "duration": 1793,
    "start_time": "2022-09-14T19:57:46.855Z"
   },
   {
    "duration": 191,
    "start_time": "2022-09-14T19:57:48.650Z"
   },
   {
    "duration": 2,
    "start_time": "2022-09-14T19:57:48.843Z"
   },
   {
    "duration": 7819,
    "start_time": "2022-09-14T19:57:48.847Z"
   },
   {
    "duration": 36,
    "start_time": "2022-09-14T19:57:56.668Z"
   },
   {
    "duration": 6241,
    "start_time": "2022-09-14T19:57:56.706Z"
   },
   {
    "duration": 107341,
    "start_time": "2022-09-14T19:58:02.949Z"
   },
   {
    "duration": 160541,
    "start_time": "2022-09-14T19:59:50.292Z"
   },
   {
    "duration": 1355,
    "start_time": "2022-09-14T20:10:20.487Z"
   },
   {
    "duration": 3350,
    "start_time": "2022-09-14T20:10:31.104Z"
   },
   {
    "duration": 31,
    "start_time": "2022-09-14T20:10:34.456Z"
   },
   {
    "duration": 33,
    "start_time": "2022-09-14T20:10:34.488Z"
   },
   {
    "duration": 223,
    "start_time": "2022-09-14T20:10:34.523Z"
   },
   {
    "duration": 389,
    "start_time": "2022-09-14T20:10:36.171Z"
   },
   {
    "duration": 1795,
    "start_time": "2022-09-14T20:10:37.938Z"
   },
   {
    "duration": 261,
    "start_time": "2022-09-14T20:10:39.735Z"
   },
   {
    "duration": 3,
    "start_time": "2022-09-14T20:10:40.021Z"
   },
   {
    "duration": 7665,
    "start_time": "2022-09-14T20:10:43.742Z"
   },
   {
    "duration": 33,
    "start_time": "2022-09-14T20:10:51.410Z"
   },
   {
    "duration": 6194,
    "start_time": "2022-09-14T20:10:51.445Z"
   },
   {
    "duration": 105060,
    "start_time": "2022-09-14T20:11:03.095Z"
   },
   {
    "duration": 1361,
    "start_time": "2022-09-14T20:13:22.204Z"
   },
   {
    "duration": 3399,
    "start_time": "2022-09-14T20:13:23.589Z"
   },
   {
    "duration": 34,
    "start_time": "2022-09-14T20:13:26.990Z"
   },
   {
    "duration": 28,
    "start_time": "2022-09-14T20:13:27.026Z"
   },
   {
    "duration": 216,
    "start_time": "2022-09-14T20:13:29.230Z"
   },
   {
    "duration": 395,
    "start_time": "2022-09-14T20:13:30.535Z"
   },
   {
    "duration": 1770,
    "start_time": "2022-09-14T20:13:32.778Z"
   },
   {
    "duration": 189,
    "start_time": "2022-09-14T20:13:34.550Z"
   },
   {
    "duration": 3,
    "start_time": "2022-09-14T20:13:34.744Z"
   },
   {
    "duration": 7849,
    "start_time": "2022-09-14T20:13:36.476Z"
   },
   {
    "duration": 32,
    "start_time": "2022-09-14T20:13:44.327Z"
   },
   {
    "duration": 6278,
    "start_time": "2022-09-14T20:13:44.361Z"
   },
   {
    "duration": 1292,
    "start_time": "2022-09-14T20:17:47.824Z"
   },
   {
    "duration": 3377,
    "start_time": "2022-09-14T20:17:52.899Z"
   },
   {
    "duration": 34,
    "start_time": "2022-09-14T20:17:57.168Z"
   },
   {
    "duration": 27,
    "start_time": "2022-09-14T20:18:17.159Z"
   },
   {
    "duration": 216,
    "start_time": "2022-09-14T20:18:18.071Z"
   },
   {
    "duration": 112,
    "start_time": "2022-09-14T20:18:19.934Z"
   },
   {
    "duration": 1792,
    "start_time": "2022-09-14T20:18:21.738Z"
   },
   {
    "duration": 253,
    "start_time": "2022-09-14T20:18:23.532Z"
   },
   {
    "duration": 3,
    "start_time": "2022-09-14T20:18:23.787Z"
   },
   {
    "duration": 7818,
    "start_time": "2022-09-14T20:18:24.001Z"
   },
   {
    "duration": 36,
    "start_time": "2022-09-14T20:18:31.820Z"
   },
   {
    "duration": 6212,
    "start_time": "2022-09-14T20:18:31.857Z"
   },
   {
    "duration": 46,
    "start_time": "2022-09-14T20:20:00.046Z"
   },
   {
    "duration": 1367,
    "start_time": "2022-09-14T20:20:32.069Z"
   },
   {
    "duration": 3428,
    "start_time": "2022-09-14T20:20:33.437Z"
   },
   {
    "duration": 34,
    "start_time": "2022-09-14T20:20:36.867Z"
   },
   {
    "duration": 29,
    "start_time": "2022-09-14T20:20:36.903Z"
   },
   {
    "duration": 233,
    "start_time": "2022-09-14T20:20:36.934Z"
   },
   {
    "duration": 387,
    "start_time": "2022-09-14T20:20:37.168Z"
   },
   {
    "duration": 1827,
    "start_time": "2022-09-14T20:20:37.556Z"
   },
   {
    "duration": 263,
    "start_time": "2022-09-14T20:20:39.385Z"
   },
   {
    "duration": 3,
    "start_time": "2022-09-14T20:20:39.649Z"
   },
   {
    "duration": 7680,
    "start_time": "2022-09-14T20:20:39.654Z"
   },
   {
    "duration": 30,
    "start_time": "2022-09-14T20:20:47.336Z"
   },
   {
    "duration": 6202,
    "start_time": "2022-09-14T20:20:47.377Z"
   },
   {
    "duration": 39896,
    "start_time": "2022-09-14T20:20:53.581Z"
   },
   {
    "duration": 0,
    "start_time": "2022-09-14T20:21:33.479Z"
   },
   {
    "duration": 41421,
    "start_time": "2022-09-14T20:21:46.767Z"
   },
   {
    "duration": 144814,
    "start_time": "2022-09-14T20:22:32.493Z"
   },
   {
    "duration": 1262,
    "start_time": "2022-09-14T20:25:19.735Z"
   },
   {
    "duration": 799,
    "start_time": "2022-09-14T20:25:20.999Z"
   },
   {
    "duration": 32,
    "start_time": "2022-09-14T20:25:21.799Z"
   },
   {
    "duration": 40,
    "start_time": "2022-09-14T20:25:21.838Z"
   },
   {
    "duration": 228,
    "start_time": "2022-09-14T20:25:21.880Z"
   },
   {
    "duration": 391,
    "start_time": "2022-09-14T20:25:22.109Z"
   },
   {
    "duration": 1798,
    "start_time": "2022-09-14T20:25:22.501Z"
   },
   {
    "duration": 191,
    "start_time": "2022-09-14T20:25:24.301Z"
   },
   {
    "duration": 2,
    "start_time": "2022-09-14T20:25:24.494Z"
   },
   {
    "duration": 7745,
    "start_time": "2022-09-14T20:25:24.498Z"
   },
   {
    "duration": 38,
    "start_time": "2022-09-14T20:25:32.244Z"
   },
   {
    "duration": 6338,
    "start_time": "2022-09-14T20:25:32.284Z"
   },
   {
    "duration": 104957,
    "start_time": "2022-09-14T20:25:38.623Z"
   },
   {
    "duration": 120028,
    "start_time": "2022-09-14T20:27:23.582Z"
   },
   {
    "duration": 1278,
    "start_time": "2022-09-14T20:30:10.338Z"
   },
   {
    "duration": 800,
    "start_time": "2022-09-14T20:30:11.618Z"
   },
   {
    "duration": 31,
    "start_time": "2022-09-14T20:30:12.419Z"
   },
   {
    "duration": 36,
    "start_time": "2022-09-14T20:30:12.452Z"
   },
   {
    "duration": 224,
    "start_time": "2022-09-14T20:30:12.490Z"
   },
   {
    "duration": 376,
    "start_time": "2022-09-14T20:30:12.716Z"
   },
   {
    "duration": 1761,
    "start_time": "2022-09-14T20:30:13.093Z"
   },
   {
    "duration": 268,
    "start_time": "2022-09-14T20:30:14.856Z"
   },
   {
    "duration": 2,
    "start_time": "2022-09-14T20:30:15.127Z"
   },
   {
    "duration": 7677,
    "start_time": "2022-09-14T20:30:15.131Z"
   },
   {
    "duration": 38,
    "start_time": "2022-09-14T20:30:22.810Z"
   },
   {
    "duration": 6419,
    "start_time": "2022-09-14T20:30:22.849Z"
   },
   {
    "duration": 68643,
    "start_time": "2022-09-14T20:30:29.270Z"
   },
   {
    "duration": 0,
    "start_time": "2022-09-14T20:31:37.915Z"
   },
   {
    "duration": 5,
    "start_time": "2022-09-14T20:32:44.806Z"
   },
   {
    "duration": 697,
    "start_time": "2022-09-14T20:32:46.203Z"
   },
   {
    "duration": 30,
    "start_time": "2022-09-14T20:32:48.077Z"
   },
   {
    "duration": 26,
    "start_time": "2022-09-14T20:32:50.152Z"
   },
   {
    "duration": 190,
    "start_time": "2022-09-14T20:32:50.887Z"
   },
   {
    "duration": 112,
    "start_time": "2022-09-14T20:32:51.945Z"
   },
   {
    "duration": 3,
    "start_time": "2022-09-14T20:32:53.731Z"
   },
   {
    "duration": 3,
    "start_time": "2022-09-14T20:32:55.297Z"
   },
   {
    "duration": 1707,
    "start_time": "2022-09-14T20:32:56.236Z"
   },
   {
    "duration": 4735,
    "start_time": "2022-09-14T20:33:08.431Z"
   },
   {
    "duration": 1399,
    "start_time": "2022-09-14T20:33:36.955Z"
   },
   {
    "duration": 789,
    "start_time": "2022-09-14T20:33:38.356Z"
   },
   {
    "duration": 34,
    "start_time": "2022-09-14T20:33:39.146Z"
   },
   {
    "duration": 28,
    "start_time": "2022-09-14T20:33:39.182Z"
   },
   {
    "duration": 246,
    "start_time": "2022-09-14T20:33:39.211Z"
   },
   {
    "duration": 403,
    "start_time": "2022-09-14T20:33:39.458Z"
   },
   {
    "duration": 175,
    "start_time": "2022-09-14T20:33:39.863Z"
   },
   {
    "duration": 2,
    "start_time": "2022-09-14T20:33:40.040Z"
   },
   {
    "duration": 5925,
    "start_time": "2022-09-14T20:33:40.044Z"
   },
   {
    "duration": 31,
    "start_time": "2022-09-14T20:33:45.971Z"
   },
   {
    "duration": 6174,
    "start_time": "2022-09-14T20:33:46.004Z"
   },
   {
    "duration": 230704,
    "start_time": "2022-09-14T20:33:52.180Z"
   },
   {
    "duration": 105331,
    "start_time": "2022-09-14T20:37:42.886Z"
   },
   {
    "duration": 1274,
    "start_time": "2022-09-14T20:41:35.415Z"
   },
   {
    "duration": 804,
    "start_time": "2022-09-14T20:41:36.691Z"
   },
   {
    "duration": 31,
    "start_time": "2022-09-14T20:41:37.497Z"
   },
   {
    "duration": 26,
    "start_time": "2022-09-14T20:41:37.530Z"
   },
   {
    "duration": 259,
    "start_time": "2022-09-14T20:41:37.558Z"
   },
   {
    "duration": 424,
    "start_time": "2022-09-14T20:41:37.818Z"
   },
   {
    "duration": 247,
    "start_time": "2022-09-14T20:41:38.244Z"
   },
   {
    "duration": 3,
    "start_time": "2022-09-14T20:41:38.492Z"
   },
   {
    "duration": 6006,
    "start_time": "2022-09-14T20:41:38.496Z"
   },
   {
    "duration": 33,
    "start_time": "2022-09-14T20:41:44.503Z"
   },
   {
    "duration": 6444,
    "start_time": "2022-09-14T20:41:44.537Z"
   },
   {
    "duration": 117006,
    "start_time": "2022-09-14T20:41:50.983Z"
   },
   {
    "duration": 0,
    "start_time": "2022-09-14T20:43:47.991Z"
   },
   {
    "duration": 228572,
    "start_time": "2022-09-14T20:43:50.908Z"
   },
   {
    "duration": 254048,
    "start_time": "2022-09-14T20:47:39.483Z"
   },
   {
    "duration": 0,
    "start_time": "2022-09-14T20:51:53.533Z"
   },
   {
    "duration": 73,
    "start_time": "2022-09-14T20:51:58.107Z"
   },
   {
    "duration": 97,
    "start_time": "2022-09-14T20:52:04.641Z"
   },
   {
    "duration": 1351,
    "start_time": "2022-09-14T20:52:22.062Z"
   },
   {
    "duration": 828,
    "start_time": "2022-09-14T20:52:23.415Z"
   },
   {
    "duration": 36,
    "start_time": "2022-09-14T20:52:24.245Z"
   },
   {
    "duration": 28,
    "start_time": "2022-09-14T20:52:24.283Z"
   },
   {
    "duration": 245,
    "start_time": "2022-09-14T20:52:24.312Z"
   },
   {
    "duration": 391,
    "start_time": "2022-09-14T20:52:24.558Z"
   },
   {
    "duration": 206,
    "start_time": "2022-09-14T20:52:24.950Z"
   },
   {
    "duration": 4,
    "start_time": "2022-09-14T20:52:25.158Z"
   },
   {
    "duration": 5995,
    "start_time": "2022-09-14T20:52:25.164Z"
   },
   {
    "duration": 45,
    "start_time": "2022-09-14T20:52:31.161Z"
   },
   {
    "duration": 6258,
    "start_time": "2022-09-14T20:52:31.208Z"
   },
   {
    "duration": 17467,
    "start_time": "2022-09-14T20:52:37.467Z"
   },
   {
    "duration": 0,
    "start_time": "2022-09-14T20:52:54.936Z"
   },
   {
    "duration": 0,
    "start_time": "2022-09-14T20:52:54.937Z"
   },
   {
    "duration": 1370,
    "start_time": "2022-09-14T20:53:09.649Z"
   },
   {
    "duration": 812,
    "start_time": "2022-09-14T20:53:11.021Z"
   },
   {
    "duration": 42,
    "start_time": "2022-09-14T20:53:11.835Z"
   },
   {
    "duration": 28,
    "start_time": "2022-09-14T20:53:11.879Z"
   },
   {
    "duration": 233,
    "start_time": "2022-09-14T20:53:11.909Z"
   },
   {
    "duration": 401,
    "start_time": "2022-09-14T20:53:12.144Z"
   },
   {
    "duration": 186,
    "start_time": "2022-09-14T20:53:12.546Z"
   },
   {
    "duration": 3,
    "start_time": "2022-09-14T20:53:12.734Z"
   },
   {
    "duration": 5932,
    "start_time": "2022-09-14T20:53:12.738Z"
   },
   {
    "duration": 40,
    "start_time": "2022-09-14T20:53:18.672Z"
   },
   {
    "duration": 6434,
    "start_time": "2022-09-14T20:53:18.714Z"
   },
   {
    "duration": 49442,
    "start_time": "2022-09-14T20:53:25.150Z"
   },
   {
    "duration": 232310,
    "start_time": "2022-09-14T20:54:14.594Z"
   },
   {
    "duration": 50546,
    "start_time": "2022-09-14T20:58:06.906Z"
   },
   {
    "duration": 65443,
    "start_time": "2022-09-14T20:59:29.352Z"
   },
   {
    "duration": 65630,
    "start_time": "2022-09-14T21:01:18.270Z"
   },
   {
    "duration": 16,
    "start_time": "2022-09-14T21:03:22.036Z"
   },
   {
    "duration": 46183,
    "start_time": "2022-09-14T21:03:33.834Z"
   },
   {
    "duration": 0,
    "start_time": "2022-09-14T21:07:24.509Z"
   },
   {
    "duration": 317276,
    "start_time": "2022-09-14T21:07:26.214Z"
   },
   {
    "duration": 13,
    "start_time": "2022-09-14T21:13:16.504Z"
   },
   {
    "duration": 17,
    "start_time": "2022-09-14T21:13:34.291Z"
   },
   {
    "duration": 1264,
    "start_time": "2022-09-14T21:14:52.474Z"
   },
   {
    "duration": 752,
    "start_time": "2022-09-14T21:14:53.740Z"
   },
   {
    "duration": 28,
    "start_time": "2022-09-14T21:14:54.493Z"
   },
   {
    "duration": 24,
    "start_time": "2022-09-14T21:14:54.523Z"
   },
   {
    "duration": 217,
    "start_time": "2022-09-14T21:14:54.549Z"
   },
   {
    "duration": 354,
    "start_time": "2022-09-14T21:14:54.767Z"
   },
   {
    "duration": 169,
    "start_time": "2022-09-14T21:14:55.123Z"
   },
   {
    "duration": 3,
    "start_time": "2022-09-14T21:14:55.293Z"
   },
   {
    "duration": 5983,
    "start_time": "2022-09-14T21:14:55.297Z"
   },
   {
    "duration": 33,
    "start_time": "2022-09-14T21:15:01.281Z"
   },
   {
    "duration": 5976,
    "start_time": "2022-09-14T21:15:01.316Z"
   },
   {
    "duration": 330296,
    "start_time": "2022-09-14T21:15:07.293Z"
   },
   {
    "duration": 219126,
    "start_time": "2022-09-14T21:20:37.590Z"
   },
   {
    "duration": 44279,
    "start_time": "2022-09-14T21:24:16.719Z"
   },
   {
    "duration": 16,
    "start_time": "2022-09-14T21:25:00.999Z"
   },
   {
    "duration": 49,
    "start_time": "2022-09-15T10:32:51.554Z"
   },
   {
    "duration": 1468,
    "start_time": "2022-09-15T10:32:54.894Z"
   },
   {
    "duration": 3779,
    "start_time": "2022-09-15T10:32:57.366Z"
   },
   {
    "duration": 33,
    "start_time": "2022-09-15T10:33:02.582Z"
   },
   {
    "duration": 33,
    "start_time": "2022-09-15T10:33:04.216Z"
   },
   {
    "duration": 239,
    "start_time": "2022-09-15T10:33:05.759Z"
   },
   {
    "duration": 631,
    "start_time": "2022-09-15T10:33:07.317Z"
   },
   {
    "duration": 298,
    "start_time": "2022-09-15T10:33:09.325Z"
   },
   {
    "duration": 3,
    "start_time": "2022-09-15T10:33:10.984Z"
   },
   {
    "duration": 1322,
    "start_time": "2022-09-15T10:33:11.972Z"
   },
   {
    "duration": 5,
    "start_time": "2022-09-15T10:34:02.462Z"
   },
   {
    "duration": 3,
    "start_time": "2022-09-15T10:34:03.848Z"
   },
   {
    "duration": 84216,
    "start_time": "2022-09-15T10:34:04.486Z"
   },
   {
    "duration": 4,
    "start_time": "2022-09-15T10:36:05.567Z"
   },
   {
    "duration": 3,
    "start_time": "2022-09-15T10:36:06.366Z"
   },
   {
    "duration": 82070,
    "start_time": "2022-09-15T10:36:07.134Z"
   },
   {
    "duration": 1346,
    "start_time": "2022-09-15T10:39:38.908Z"
   },
   {
    "duration": 863,
    "start_time": "2022-09-15T10:39:40.256Z"
   },
   {
    "duration": 36,
    "start_time": "2022-09-15T10:39:41.121Z"
   },
   {
    "duration": 37,
    "start_time": "2022-09-15T10:39:41.160Z"
   },
   {
    "duration": 231,
    "start_time": "2022-09-15T10:39:41.199Z"
   },
   {
    "duration": 455,
    "start_time": "2022-09-15T10:39:41.431Z"
   },
   {
    "duration": 211,
    "start_time": "2022-09-15T10:39:41.889Z"
   },
   {
    "duration": 4,
    "start_time": "2022-09-15T10:39:42.102Z"
   },
   {
    "duration": 83283,
    "start_time": "2022-09-15T10:39:42.107Z"
   },
   {
    "duration": 33,
    "start_time": "2022-09-15T10:41:05.392Z"
   },
   {
    "duration": 6698,
    "start_time": "2022-09-15T10:41:05.428Z"
   },
   {
    "duration": 357685,
    "start_time": "2022-09-15T10:41:12.128Z"
   },
   {
    "duration": 329237,
    "start_time": "2022-09-15T10:47:09.815Z"
   },
   {
    "duration": 72199,
    "start_time": "2022-09-15T10:52:39.054Z"
   },
   {
    "duration": 18,
    "start_time": "2022-09-15T10:53:51.255Z"
   }
  ],
  "kernelspec": {
   "display_name": "Python 3 (ipykernel)",
   "language": "python",
   "name": "python3"
  },
  "language_info": {
   "codemirror_mode": {
    "name": "ipython",
    "version": 3
   },
   "file_extension": ".py",
   "mimetype": "text/x-python",
   "name": "python",
   "nbconvert_exporter": "python",
   "pygments_lexer": "ipython3",
   "version": "3.9.12"
  },
  "toc": {
   "base_numbering": 1,
   "nav_menu": {},
   "number_sections": true,
   "sideBar": true,
   "skip_h1_title": true,
   "title_cell": "Содержание",
   "title_sidebar": "Contents",
   "toc_cell": true,
   "toc_position": {
    "height": "calc(100% - 180px)",
    "left": "10px",
    "top": "150px",
    "width": "165px"
   },
   "toc_section_display": true,
   "toc_window_display": true
  }
 },
 "nbformat": 4,
 "nbformat_minor": 2
}
