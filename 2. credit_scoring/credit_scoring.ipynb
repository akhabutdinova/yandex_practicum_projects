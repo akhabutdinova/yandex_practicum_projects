{
 "cells": [
  {
   "cell_type": "markdown",
   "id": "37b3be39",
   "metadata": {},
   "source": [
    "# Исследование надежности заемщиков."
   ]
  },
  {
   "cell_type": "markdown",
   "id": "0023bfd5",
   "metadata": {},
   "source": [
    "**Цель исследования:**\n",
    "\n",
    "Проверить, влияет ли семейное положение и количество детей клиента на факт погашения кредита в срок.\n",
    "\n",
    "Исследование будет включать следующие шаги:\n",
    "1. Обзор данных.\n",
    "2. Предобработка данных.\n",
    "3. Ответы на вопросы:\n",
    "* Есть ли зависимость между количеством детей и возвратом кредита в срок?\n",
    "* Есть ли зависимость между семейным положением и возвратом кредита в срок?\n",
    "* Есть ли зависимость между уровнем дохода и возвратом кредита в срок?\n",
    "* Как разные цели кредита влияют на его возврат в срок?"
   ]
  },
  {
   "cell_type": "markdown",
   "id": "c75bc75d",
   "metadata": {},
   "source": [
    "### Шаг 1. Обзор данных"
   ]
  },
  {
   "cell_type": "markdown",
   "id": "44ebaff7",
   "metadata": {},
   "source": [
    "Составим представление о входных данных. Для этого выведем на экран первые 10 строк таблицы, а также получим общую информацию о ней."
   ]
  },
  {
   "cell_type": "code",
   "execution_count": 1,
   "id": "9805cc74",
   "metadata": {
    "scrolled": false
   },
   "outputs": [
    {
     "data": {
      "text/html": [
       "<div>\n",
       "<style scoped>\n",
       "    .dataframe tbody tr th:only-of-type {\n",
       "        vertical-align: middle;\n",
       "    }\n",
       "\n",
       "    .dataframe tbody tr th {\n",
       "        vertical-align: top;\n",
       "    }\n",
       "\n",
       "    .dataframe thead th {\n",
       "        text-align: right;\n",
       "    }\n",
       "</style>\n",
       "<table border=\"1\" class=\"dataframe\">\n",
       "  <thead>\n",
       "    <tr style=\"text-align: right;\">\n",
       "      <th></th>\n",
       "      <th>children</th>\n",
       "      <th>days_employed</th>\n",
       "      <th>dob_years</th>\n",
       "      <th>education</th>\n",
       "      <th>education_id</th>\n",
       "      <th>family_status</th>\n",
       "      <th>family_status_id</th>\n",
       "      <th>gender</th>\n",
       "      <th>income_type</th>\n",
       "      <th>debt</th>\n",
       "      <th>total_income</th>\n",
       "      <th>purpose</th>\n",
       "    </tr>\n",
       "  </thead>\n",
       "  <tbody>\n",
       "    <tr>\n",
       "      <th>0</th>\n",
       "      <td>1</td>\n",
       "      <td>-8437.673028</td>\n",
       "      <td>42</td>\n",
       "      <td>высшее</td>\n",
       "      <td>0</td>\n",
       "      <td>женат / замужем</td>\n",
       "      <td>0</td>\n",
       "      <td>F</td>\n",
       "      <td>сотрудник</td>\n",
       "      <td>0</td>\n",
       "      <td>253875.639453</td>\n",
       "      <td>покупка жилья</td>\n",
       "    </tr>\n",
       "    <tr>\n",
       "      <th>1</th>\n",
       "      <td>1</td>\n",
       "      <td>-4024.803754</td>\n",
       "      <td>36</td>\n",
       "      <td>среднее</td>\n",
       "      <td>1</td>\n",
       "      <td>женат / замужем</td>\n",
       "      <td>0</td>\n",
       "      <td>F</td>\n",
       "      <td>сотрудник</td>\n",
       "      <td>0</td>\n",
       "      <td>112080.014102</td>\n",
       "      <td>приобретение автомобиля</td>\n",
       "    </tr>\n",
       "    <tr>\n",
       "      <th>2</th>\n",
       "      <td>0</td>\n",
       "      <td>-5623.422610</td>\n",
       "      <td>33</td>\n",
       "      <td>Среднее</td>\n",
       "      <td>1</td>\n",
       "      <td>женат / замужем</td>\n",
       "      <td>0</td>\n",
       "      <td>M</td>\n",
       "      <td>сотрудник</td>\n",
       "      <td>0</td>\n",
       "      <td>145885.952297</td>\n",
       "      <td>покупка жилья</td>\n",
       "    </tr>\n",
       "    <tr>\n",
       "      <th>3</th>\n",
       "      <td>3</td>\n",
       "      <td>-4124.747207</td>\n",
       "      <td>32</td>\n",
       "      <td>среднее</td>\n",
       "      <td>1</td>\n",
       "      <td>женат / замужем</td>\n",
       "      <td>0</td>\n",
       "      <td>M</td>\n",
       "      <td>сотрудник</td>\n",
       "      <td>0</td>\n",
       "      <td>267628.550329</td>\n",
       "      <td>дополнительное образование</td>\n",
       "    </tr>\n",
       "    <tr>\n",
       "      <th>4</th>\n",
       "      <td>0</td>\n",
       "      <td>340266.072047</td>\n",
       "      <td>53</td>\n",
       "      <td>среднее</td>\n",
       "      <td>1</td>\n",
       "      <td>гражданский брак</td>\n",
       "      <td>1</td>\n",
       "      <td>F</td>\n",
       "      <td>пенсионер</td>\n",
       "      <td>0</td>\n",
       "      <td>158616.077870</td>\n",
       "      <td>сыграть свадьбу</td>\n",
       "    </tr>\n",
       "    <tr>\n",
       "      <th>5</th>\n",
       "      <td>0</td>\n",
       "      <td>-926.185831</td>\n",
       "      <td>27</td>\n",
       "      <td>высшее</td>\n",
       "      <td>0</td>\n",
       "      <td>гражданский брак</td>\n",
       "      <td>1</td>\n",
       "      <td>M</td>\n",
       "      <td>компаньон</td>\n",
       "      <td>0</td>\n",
       "      <td>255763.565419</td>\n",
       "      <td>покупка жилья</td>\n",
       "    </tr>\n",
       "    <tr>\n",
       "      <th>6</th>\n",
       "      <td>0</td>\n",
       "      <td>-2879.202052</td>\n",
       "      <td>43</td>\n",
       "      <td>высшее</td>\n",
       "      <td>0</td>\n",
       "      <td>женат / замужем</td>\n",
       "      <td>0</td>\n",
       "      <td>F</td>\n",
       "      <td>компаньон</td>\n",
       "      <td>0</td>\n",
       "      <td>240525.971920</td>\n",
       "      <td>операции с жильем</td>\n",
       "    </tr>\n",
       "    <tr>\n",
       "      <th>7</th>\n",
       "      <td>0</td>\n",
       "      <td>-152.779569</td>\n",
       "      <td>50</td>\n",
       "      <td>СРЕДНЕЕ</td>\n",
       "      <td>1</td>\n",
       "      <td>женат / замужем</td>\n",
       "      <td>0</td>\n",
       "      <td>M</td>\n",
       "      <td>сотрудник</td>\n",
       "      <td>0</td>\n",
       "      <td>135823.934197</td>\n",
       "      <td>образование</td>\n",
       "    </tr>\n",
       "    <tr>\n",
       "      <th>8</th>\n",
       "      <td>2</td>\n",
       "      <td>-6929.865299</td>\n",
       "      <td>35</td>\n",
       "      <td>ВЫСШЕЕ</td>\n",
       "      <td>0</td>\n",
       "      <td>гражданский брак</td>\n",
       "      <td>1</td>\n",
       "      <td>F</td>\n",
       "      <td>сотрудник</td>\n",
       "      <td>0</td>\n",
       "      <td>95856.832424</td>\n",
       "      <td>на проведение свадьбы</td>\n",
       "    </tr>\n",
       "    <tr>\n",
       "      <th>9</th>\n",
       "      <td>0</td>\n",
       "      <td>-2188.756445</td>\n",
       "      <td>41</td>\n",
       "      <td>среднее</td>\n",
       "      <td>1</td>\n",
       "      <td>женат / замужем</td>\n",
       "      <td>0</td>\n",
       "      <td>M</td>\n",
       "      <td>сотрудник</td>\n",
       "      <td>0</td>\n",
       "      <td>144425.938277</td>\n",
       "      <td>покупка жилья для семьи</td>\n",
       "    </tr>\n",
       "  </tbody>\n",
       "</table>\n",
       "</div>"
      ],
      "text/plain": [
       "   children  days_employed  dob_years education  education_id  \\\n",
       "0         1   -8437.673028         42    высшее             0   \n",
       "1         1   -4024.803754         36   среднее             1   \n",
       "2         0   -5623.422610         33   Среднее             1   \n",
       "3         3   -4124.747207         32   среднее             1   \n",
       "4         0  340266.072047         53   среднее             1   \n",
       "5         0    -926.185831         27    высшее             0   \n",
       "6         0   -2879.202052         43    высшее             0   \n",
       "7         0    -152.779569         50   СРЕДНЕЕ             1   \n",
       "8         2   -6929.865299         35    ВЫСШЕЕ             0   \n",
       "9         0   -2188.756445         41   среднее             1   \n",
       "\n",
       "      family_status  family_status_id gender income_type  debt   total_income  \\\n",
       "0   женат / замужем                 0      F   сотрудник     0  253875.639453   \n",
       "1   женат / замужем                 0      F   сотрудник     0  112080.014102   \n",
       "2   женат / замужем                 0      M   сотрудник     0  145885.952297   \n",
       "3   женат / замужем                 0      M   сотрудник     0  267628.550329   \n",
       "4  гражданский брак                 1      F   пенсионер     0  158616.077870   \n",
       "5  гражданский брак                 1      M   компаньон     0  255763.565419   \n",
       "6   женат / замужем                 0      F   компаньон     0  240525.971920   \n",
       "7   женат / замужем                 0      M   сотрудник     0  135823.934197   \n",
       "8  гражданский брак                 1      F   сотрудник     0   95856.832424   \n",
       "9   женат / замужем                 0      M   сотрудник     0  144425.938277   \n",
       "\n",
       "                      purpose  \n",
       "0               покупка жилья  \n",
       "1     приобретение автомобиля  \n",
       "2               покупка жилья  \n",
       "3  дополнительное образование  \n",
       "4             сыграть свадьбу  \n",
       "5               покупка жилья  \n",
       "6           операции с жильем  \n",
       "7                 образование  \n",
       "8       на проведение свадьбы  \n",
       "9     покупка жилья для семьи  "
      ]
     },
     "execution_count": 1,
     "metadata": {},
     "output_type": "execute_result"
    }
   ],
   "source": [
    "#импорт библиотеки pandas\n",
    "import pandas as pd\n",
    "#чтение файла с данными и сохранение в переменную data\n",
    "data = pd.read_csv('/datasets/data.csv')\n",
    "#вывод первых 10 строк таблицы на экран\n",
    "data.head(10)"
   ]
  },
  {
   "cell_type": "code",
   "execution_count": 2,
   "id": "65de6fa2",
   "metadata": {
    "scrolled": true
   },
   "outputs": [
    {
     "name": "stdout",
     "output_type": "stream",
     "text": [
      "<class 'pandas.core.frame.DataFrame'>\n",
      "RangeIndex: 21525 entries, 0 to 21524\n",
      "Data columns (total 12 columns):\n",
      " #   Column            Non-Null Count  Dtype  \n",
      "---  ------            --------------  -----  \n",
      " 0   children          21525 non-null  int64  \n",
      " 1   days_employed     19351 non-null  float64\n",
      " 2   dob_years         21525 non-null  int64  \n",
      " 3   education         21525 non-null  object \n",
      " 4   education_id      21525 non-null  int64  \n",
      " 5   family_status     21525 non-null  object \n",
      " 6   family_status_id  21525 non-null  int64  \n",
      " 7   gender            21525 non-null  object \n",
      " 8   income_type       21525 non-null  object \n",
      " 9   debt              21525 non-null  int64  \n",
      " 10  total_income      19351 non-null  float64\n",
      " 11  purpose           21525 non-null  object \n",
      "dtypes: float64(2), int64(5), object(5)\n",
      "memory usage: 2.0+ MB\n"
     ]
    }
   ],
   "source": [
    "#получение информации о данных в таблице\n",
    "data.info()"
   ]
  },
  {
   "cell_type": "markdown",
   "id": "d52ef866",
   "metadata": {},
   "source": [
    "Таблица состоит из 12 столбцов, согласно документации и полученной информации:\n",
    "* `children` — количество детей в семье, тип данных — `int`;\n",
    "* `days_emloyed`— общий трудовой стаж в днях, тип данных — `float`;\n",
    "* `dob_years` — возраст клиента в годах, тип данных — `int`;\n",
    "* `education` — уровень образования клиента, тип данных — `object`;\n",
    "* `education_id` — идентификатор уровня образования, тип данных — `int`;\n",
    "* `family_status` — семейное положение, тип данных — `object`;\n",
    "* `family_status_id` — идентификатор семейного положения, тип данных — `int`;\n",
    "* `gender` — пол клиента, тип данных — `object`;\n",
    "* `income_type` — тип занятости, тип данных — `object`;\n",
    "* `debt` — имел ли задолженность по возврату кредитов, тип данных — `int`;\n",
    "* `total_income` — ежемесячный доход, тип данных — `float`;\n",
    "* `purpose` — цель получения кредита, тип данных — `object`."
   ]
  },
  {
   "cell_type": "markdown",
   "id": "ec0c045a",
   "metadata": {},
   "source": [
    "### Шаг 2.1 Заполнение пропусков"
   ]
  },
  {
   "cell_type": "markdown",
   "id": "f833ef3e",
   "metadata": {},
   "source": [
    "В двух столбцах, `days_employed` и `total_income`, количество значений отличается от общего количества, следовательно, в этих столбцах есть пропуски. Столбец `days_employed` будет обработан на следующем шаге, пока заполним пропуски в столбце `total_income`."
   ]
  },
  {
   "cell_type": "code",
   "execution_count": 3,
   "id": "25358c01",
   "metadata": {
    "scrolled": true
   },
   "outputs": [
    {
     "data": {
      "text/html": [
       "<div>\n",
       "<style scoped>\n",
       "    .dataframe tbody tr th:only-of-type {\n",
       "        vertical-align: middle;\n",
       "    }\n",
       "\n",
       "    .dataframe tbody tr th {\n",
       "        vertical-align: top;\n",
       "    }\n",
       "\n",
       "    .dataframe thead th {\n",
       "        text-align: right;\n",
       "    }\n",
       "</style>\n",
       "<table border=\"1\" class=\"dataframe\">\n",
       "  <thead>\n",
       "    <tr style=\"text-align: right;\">\n",
       "      <th></th>\n",
       "      <th>children</th>\n",
       "      <th>days_employed</th>\n",
       "      <th>dob_years</th>\n",
       "      <th>education</th>\n",
       "      <th>education_id</th>\n",
       "      <th>family_status</th>\n",
       "      <th>family_status_id</th>\n",
       "      <th>gender</th>\n",
       "      <th>income_type</th>\n",
       "      <th>debt</th>\n",
       "      <th>total_income</th>\n",
       "      <th>purpose</th>\n",
       "    </tr>\n",
       "  </thead>\n",
       "  <tbody>\n",
       "    <tr>\n",
       "      <th>12</th>\n",
       "      <td>0</td>\n",
       "      <td>NaN</td>\n",
       "      <td>65</td>\n",
       "      <td>среднее</td>\n",
       "      <td>1</td>\n",
       "      <td>гражданский брак</td>\n",
       "      <td>1</td>\n",
       "      <td>M</td>\n",
       "      <td>пенсионер</td>\n",
       "      <td>0</td>\n",
       "      <td>NaN</td>\n",
       "      <td>сыграть свадьбу</td>\n",
       "    </tr>\n",
       "    <tr>\n",
       "      <th>26</th>\n",
       "      <td>0</td>\n",
       "      <td>NaN</td>\n",
       "      <td>41</td>\n",
       "      <td>среднее</td>\n",
       "      <td>1</td>\n",
       "      <td>женат / замужем</td>\n",
       "      <td>0</td>\n",
       "      <td>M</td>\n",
       "      <td>госслужащий</td>\n",
       "      <td>0</td>\n",
       "      <td>NaN</td>\n",
       "      <td>образование</td>\n",
       "    </tr>\n",
       "    <tr>\n",
       "      <th>29</th>\n",
       "      <td>0</td>\n",
       "      <td>NaN</td>\n",
       "      <td>63</td>\n",
       "      <td>среднее</td>\n",
       "      <td>1</td>\n",
       "      <td>Не женат / не замужем</td>\n",
       "      <td>4</td>\n",
       "      <td>F</td>\n",
       "      <td>пенсионер</td>\n",
       "      <td>0</td>\n",
       "      <td>NaN</td>\n",
       "      <td>строительство жилой недвижимости</td>\n",
       "    </tr>\n",
       "    <tr>\n",
       "      <th>41</th>\n",
       "      <td>0</td>\n",
       "      <td>NaN</td>\n",
       "      <td>50</td>\n",
       "      <td>среднее</td>\n",
       "      <td>1</td>\n",
       "      <td>женат / замужем</td>\n",
       "      <td>0</td>\n",
       "      <td>F</td>\n",
       "      <td>госслужащий</td>\n",
       "      <td>0</td>\n",
       "      <td>NaN</td>\n",
       "      <td>сделка с подержанным автомобилем</td>\n",
       "    </tr>\n",
       "    <tr>\n",
       "      <th>55</th>\n",
       "      <td>0</td>\n",
       "      <td>NaN</td>\n",
       "      <td>54</td>\n",
       "      <td>среднее</td>\n",
       "      <td>1</td>\n",
       "      <td>гражданский брак</td>\n",
       "      <td>1</td>\n",
       "      <td>F</td>\n",
       "      <td>пенсионер</td>\n",
       "      <td>1</td>\n",
       "      <td>NaN</td>\n",
       "      <td>сыграть свадьбу</td>\n",
       "    </tr>\n",
       "    <tr>\n",
       "      <th>65</th>\n",
       "      <td>0</td>\n",
       "      <td>NaN</td>\n",
       "      <td>21</td>\n",
       "      <td>среднее</td>\n",
       "      <td>1</td>\n",
       "      <td>Не женат / не замужем</td>\n",
       "      <td>4</td>\n",
       "      <td>M</td>\n",
       "      <td>компаньон</td>\n",
       "      <td>0</td>\n",
       "      <td>NaN</td>\n",
       "      <td>операции с коммерческой недвижимостью</td>\n",
       "    </tr>\n",
       "    <tr>\n",
       "      <th>67</th>\n",
       "      <td>0</td>\n",
       "      <td>NaN</td>\n",
       "      <td>52</td>\n",
       "      <td>высшее</td>\n",
       "      <td>0</td>\n",
       "      <td>женат / замужем</td>\n",
       "      <td>0</td>\n",
       "      <td>F</td>\n",
       "      <td>пенсионер</td>\n",
       "      <td>0</td>\n",
       "      <td>NaN</td>\n",
       "      <td>покупка жилья для семьи</td>\n",
       "    </tr>\n",
       "    <tr>\n",
       "      <th>72</th>\n",
       "      <td>1</td>\n",
       "      <td>NaN</td>\n",
       "      <td>32</td>\n",
       "      <td>высшее</td>\n",
       "      <td>0</td>\n",
       "      <td>женат / замужем</td>\n",
       "      <td>0</td>\n",
       "      <td>M</td>\n",
       "      <td>госслужащий</td>\n",
       "      <td>0</td>\n",
       "      <td>NaN</td>\n",
       "      <td>операции с коммерческой недвижимостью</td>\n",
       "    </tr>\n",
       "    <tr>\n",
       "      <th>82</th>\n",
       "      <td>2</td>\n",
       "      <td>NaN</td>\n",
       "      <td>50</td>\n",
       "      <td>высшее</td>\n",
       "      <td>0</td>\n",
       "      <td>женат / замужем</td>\n",
       "      <td>0</td>\n",
       "      <td>F</td>\n",
       "      <td>сотрудник</td>\n",
       "      <td>0</td>\n",
       "      <td>NaN</td>\n",
       "      <td>жилье</td>\n",
       "    </tr>\n",
       "    <tr>\n",
       "      <th>83</th>\n",
       "      <td>0</td>\n",
       "      <td>NaN</td>\n",
       "      <td>52</td>\n",
       "      <td>среднее</td>\n",
       "      <td>1</td>\n",
       "      <td>женат / замужем</td>\n",
       "      <td>0</td>\n",
       "      <td>M</td>\n",
       "      <td>сотрудник</td>\n",
       "      <td>0</td>\n",
       "      <td>NaN</td>\n",
       "      <td>жилье</td>\n",
       "    </tr>\n",
       "  </tbody>\n",
       "</table>\n",
       "</div>"
      ],
      "text/plain": [
       "    children  days_employed  dob_years education  education_id  \\\n",
       "12         0            NaN         65   среднее             1   \n",
       "26         0            NaN         41   среднее             1   \n",
       "29         0            NaN         63   среднее             1   \n",
       "41         0            NaN         50   среднее             1   \n",
       "55         0            NaN         54   среднее             1   \n",
       "65         0            NaN         21   среднее             1   \n",
       "67         0            NaN         52    высшее             0   \n",
       "72         1            NaN         32    высшее             0   \n",
       "82         2            NaN         50    высшее             0   \n",
       "83         0            NaN         52   среднее             1   \n",
       "\n",
       "            family_status  family_status_id gender  income_type  debt  \\\n",
       "12       гражданский брак                 1      M    пенсионер     0   \n",
       "26        женат / замужем                 0      M  госслужащий     0   \n",
       "29  Не женат / не замужем                 4      F    пенсионер     0   \n",
       "41        женат / замужем                 0      F  госслужащий     0   \n",
       "55       гражданский брак                 1      F    пенсионер     1   \n",
       "65  Не женат / не замужем                 4      M    компаньон     0   \n",
       "67        женат / замужем                 0      F    пенсионер     0   \n",
       "72        женат / замужем                 0      M  госслужащий     0   \n",
       "82        женат / замужем                 0      F    сотрудник     0   \n",
       "83        женат / замужем                 0      M    сотрудник     0   \n",
       "\n",
       "    total_income                                purpose  \n",
       "12           NaN                        сыграть свадьбу  \n",
       "26           NaN                            образование  \n",
       "29           NaN       строительство жилой недвижимости  \n",
       "41           NaN       сделка с подержанным автомобилем  \n",
       "55           NaN                        сыграть свадьбу  \n",
       "65           NaN  операции с коммерческой недвижимостью  \n",
       "67           NaN                покупка жилья для семьи  \n",
       "72           NaN  операции с коммерческой недвижимостью  \n",
       "82           NaN                                  жилье  \n",
       "83           NaN                                  жилье  "
      ]
     },
     "execution_count": 3,
     "metadata": {},
     "output_type": "execute_result"
    }
   ],
   "source": [
    "#вывод первых 10 строк таблицы с пропущенными значениями в столбце total_income \n",
    "data[data['total_income'].isna()].head(10)"
   ]
  },
  {
   "cell_type": "markdown",
   "id": "c2e66e0a",
   "metadata": {},
   "source": [
    "Можно заметить, что значения в столбцах `days_employed` и `total_income` пропущены в одних и тех же строках, по крайней мере, для первых 10 записей с пропусками. Проверим, справедливо ли это для всей таблицы."
   ]
  },
  {
   "cell_type": "code",
   "execution_count": 4,
   "id": "57ad135e",
   "metadata": {},
   "outputs": [
    {
     "data": {
      "text/plain": [
       "0"
      ]
     },
     "execution_count": 4,
     "metadata": {},
     "output_type": "execute_result"
    }
   ],
   "source": [
    "#определяем количество таких записей, для которых в столбце total_income пропущено значение,\n",
    "#а в столбце days_employed - нет\n",
    "#data[data['total_income'].isna()].loc[data['days_employed'].isna()==False].shape[0]\n",
    "data.loc[(data['total_income'].isna()) & (data['days_employed'].isna()==False)].shape[0]"
   ]
  },
  {
   "cell_type": "markdown",
   "id": "3982140a",
   "metadata": {},
   "source": [
    "Так как нет ни одной строки, для которой было бы справедливо наличие пропуска в столбце `total_income` и отсутствие пропуска в `days_employed`, можно сделать вывод, что пропуски в обоих столбцах находятся в одних и тех же строках. \n",
    "\n",
    "Проверим, какую долю составляют пропущенные значения."
   ]
  },
  {
   "cell_type": "code",
   "execution_count": 5,
   "id": "476c2766",
   "metadata": {},
   "outputs": [
    {
     "data": {
      "text/plain": [
       "0.10099883855981417"
      ]
     },
     "execution_count": 5,
     "metadata": {},
     "output_type": "execute_result"
    }
   ],
   "source": [
    "#делим количество пустых записей на количество всех записей\n",
    "(data.shape[0] - data['total_income'].count())/data.shape[0]"
   ]
  },
  {
   "cell_type": "markdown",
   "id": "6b4785ae",
   "metadata": {},
   "source": [
    "Пропущенные значения составляют примерно десятую часть от всех записей в таблице. Скорее всего, пропуски могли возникнуть из-за некорректного заполнения этих сведений, либо же из-за ошибок в системе или при выгрузке данных. Также 10% - это слишком большое количество, чтобы просто удалить пустые записи. Заполнять пустые значения в столбце `total_income` будем медианным значением, так как среднее арифметическое может некорректно характеризовать данные из-за возможных сильно выбивающихся значений дохода."
   ]
  },
  {
   "cell_type": "code",
   "execution_count": 6,
   "id": "d75cdad9",
   "metadata": {},
   "outputs": [
    {
     "data": {
      "text/plain": [
       "0"
      ]
     },
     "execution_count": 6,
     "metadata": {},
     "output_type": "execute_result"
    }
   ],
   "source": [
    "#замена пустых значений в столбце total_income на медианное значение\n",
    "data['total_income'] = data['total_income'].fillna(data['total_income'].median())\n",
    "#проверка на отсутствие пустых значений в столбце после замены\n",
    "len(data[data['total_income'].isna()])"
   ]
  },
  {
   "cell_type": "markdown",
   "id": "433e09eb",
   "metadata": {},
   "source": [
    "### Шаг 2.2 Проверка данных на аномалии и исправления."
   ]
  },
  {
   "cell_type": "markdown",
   "id": "96268b7d",
   "metadata": {},
   "source": [
    "Рассмотрим столбец `days_employed`. В нём присутствуют отрицательные значения, а также значения слишком большие для того, чтобы быть трудовым стажем в днях. Например, для строки с индексом 4 посчитаем трудовой стаж в годах."
   ]
  },
  {
   "cell_type": "code",
   "execution_count": 7,
   "id": "e3c44995",
   "metadata": {},
   "outputs": [
    {
     "data": {
      "text/plain": [
       "932.2358138269094"
      ]
     },
     "execution_count": 7,
     "metadata": {},
     "output_type": "execute_result"
    }
   ],
   "source": [
    "#вычисление трудового стажа в годах\n",
    "data.loc[4, 'days_employed']/365"
   ]
  },
  {
   "cell_type": "markdown",
   "id": "02553ac4",
   "metadata": {},
   "source": [
    "Очевидно, что трудовой стаж не может составлять 932 года. Посмотрим, какая доля в столбце `days_employed` отрицательных значений или значений стажа более 100 лет."
   ]
  },
  {
   "cell_type": "code",
   "execution_count": 8,
   "id": "72c91f6a",
   "metadata": {},
   "outputs": [
    {
     "data": {
      "text/plain": [
       "0.8990011614401858"
      ]
     },
     "execution_count": 8,
     "metadata": {},
     "output_type": "execute_result"
    }
   ],
   "source": [
    "#вычисление доли некорректных или отрицательных значений \n",
    "data[(data['days_employed']<0) | (data['days_employed']>100*365)]['days_employed'].count()/data.shape[0]"
   ]
  },
  {
   "cell_type": "markdown",
   "id": "bcb05f69",
   "metadata": {},
   "source": [
    "Почти 90% данных имеют некорректное или отрицательное значение. Такое могло произойти из-за системного сбоя при заполнении таблицы, сбоя при выгрузке данных, либо же значения стажа заполнялись не в днях, а другой единице измерения, например, в часах. "
   ]
  },
  {
   "cell_type": "markdown",
   "id": "e595d478",
   "metadata": {},
   "source": [
    "На предыдущем шаге также было выявлено, что десятая часть данных в столбце `days_employed` пропущена. Заполним ее медианным значением."
   ]
  },
  {
   "cell_type": "code",
   "execution_count": 9,
   "id": "7161947a",
   "metadata": {},
   "outputs": [
    {
     "data": {
      "text/plain": [
       "0"
      ]
     },
     "execution_count": 9,
     "metadata": {},
     "output_type": "execute_result"
    }
   ],
   "source": [
    "#замена пустых значений в столбце days_employed на медианное значение\n",
    "data['days_employed'] = data['days_employed'].fillna(data['days_employed'].median())\n",
    "#проверка на отсутствие пустых значений в столбце после замены\n",
    "len(data[data['days_employed'].isna()])"
   ]
  },
  {
   "cell_type": "markdown",
   "id": "073f4f88",
   "metadata": {},
   "source": [
    "### Шаг 2.3. Изменение типов данных."
   ]
  },
  {
   "cell_type": "markdown",
   "id": "5776c29b",
   "metadata": {},
   "source": [
    "Заменим вещественный тип данных в столбце `total_income` на целочисленный."
   ]
  },
  {
   "cell_type": "code",
   "execution_count": 10,
   "id": "5952c1a6",
   "metadata": {},
   "outputs": [
    {
     "name": "stdout",
     "output_type": "stream",
     "text": [
      "<class 'pandas.core.frame.DataFrame'>\n",
      "RangeIndex: 21525 entries, 0 to 21524\n",
      "Data columns (total 12 columns):\n",
      " #   Column            Non-Null Count  Dtype  \n",
      "---  ------            --------------  -----  \n",
      " 0   children          21525 non-null  int64  \n",
      " 1   days_employed     21525 non-null  float64\n",
      " 2   dob_years         21525 non-null  int64  \n",
      " 3   education         21525 non-null  object \n",
      " 4   education_id      21525 non-null  int64  \n",
      " 5   family_status     21525 non-null  object \n",
      " 6   family_status_id  21525 non-null  int64  \n",
      " 7   gender            21525 non-null  object \n",
      " 8   income_type       21525 non-null  object \n",
      " 9   debt              21525 non-null  int64  \n",
      " 10  total_income      21525 non-null  int64  \n",
      " 11  purpose           21525 non-null  object \n",
      "dtypes: float64(1), int64(6), object(5)\n",
      "memory usage: 2.0+ MB\n"
     ]
    }
   ],
   "source": [
    "#замена в столбце типа float на тип int\n",
    "data['total_income'] = data['total_income'].astype('int')\n",
    "#проверка изменения типа данных\n",
    "data.info()"
   ]
  },
  {
   "cell_type": "markdown",
   "id": "6c3ff93d",
   "metadata": {},
   "source": [
    "### Шаг 2.4. Удаление дубликатов."
   ]
  },
  {
   "cell_type": "markdown",
   "id": "dc3bca10",
   "metadata": {},
   "source": [
    "Проверим, есть ли в таблице строки-дубликаты. Для этого применим метод `duplicated()`, а затем посчитаем количество найденных строк-дубликатов."
   ]
  },
  {
   "cell_type": "code",
   "execution_count": 11,
   "id": "0de14896",
   "metadata": {},
   "outputs": [
    {
     "data": {
      "text/plain": [
       "54"
      ]
     },
     "execution_count": 11,
     "metadata": {},
     "output_type": "execute_result"
    }
   ],
   "source": [
    "#находим строки-дубликаты и считаем их количество\n",
    "data.duplicated().sum()"
   ]
  },
  {
   "cell_type": "markdown",
   "id": "ba7e50a1",
   "metadata": {},
   "source": [
    "В таблице 54 явных дубликата, они могли возникнуть из-за сбоя системного или при выгрузке данных, либо же данные о каких-то клиентах могли быть случайно занесены несколько раз. Удалим явные дубликаты."
   ]
  },
  {
   "cell_type": "code",
   "execution_count": 12,
   "id": "8a309d54",
   "metadata": {},
   "outputs": [],
   "source": [
    "#удаление явных дубликатов и восстановление порядка индексов\n",
    "data = data.drop_duplicates().reset_index(drop=True)"
   ]
  },
  {
   "cell_type": "markdown",
   "id": "8ef728eb",
   "metadata": {},
   "source": [
    "Теперь проверим наличие неявных дубликатов, посмотрим, из-за каких столбцов строки могут отличаться только из-за регистра букв. Такими столбцами могут быть `education`, `family_status`, `income_type`, `purpose`."
   ]
  },
  {
   "cell_type": "code",
   "execution_count": 13,
   "id": "76cc13fc",
   "metadata": {},
   "outputs": [
    {
     "data": {
      "text/plain": [
       "array(['высшее', 'среднее', 'Среднее', 'СРЕДНЕЕ', 'ВЫСШЕЕ',\n",
       "       'неоконченное высшее', 'начальное', 'Высшее',\n",
       "       'НЕОКОНЧЕННОЕ ВЫСШЕЕ', 'Неоконченное высшее', 'НАЧАЛЬНОЕ',\n",
       "       'Начальное', 'Ученая степень', 'УЧЕНАЯ СТЕПЕНЬ', 'ученая степень'],\n",
       "      dtype=object)"
      ]
     },
     "execution_count": 13,
     "metadata": {},
     "output_type": "execute_result"
    }
   ],
   "source": [
    "#вывод уникальных значений в столбце education\n",
    "data['education'].unique()"
   ]
  },
  {
   "cell_type": "code",
   "execution_count": 14,
   "id": "aeafd994",
   "metadata": {},
   "outputs": [
    {
     "data": {
      "text/plain": [
       "array(['женат / замужем', 'гражданский брак', 'вдовец / вдова',\n",
       "       'в разводе', 'Не женат / не замужем'], dtype=object)"
      ]
     },
     "execution_count": 14,
     "metadata": {},
     "output_type": "execute_result"
    }
   ],
   "source": [
    "#вывод уникальных значений в столбце family_status\n",
    "data['family_status'].unique()"
   ]
  },
  {
   "cell_type": "code",
   "execution_count": 15,
   "id": "036b42d0",
   "metadata": {},
   "outputs": [
    {
     "data": {
      "text/plain": [
       "array(['сотрудник', 'пенсионер', 'компаньон', 'госслужащий',\n",
       "       'безработный', 'предприниматель', 'студент', 'в декрете'],\n",
       "      dtype=object)"
      ]
     },
     "execution_count": 15,
     "metadata": {},
     "output_type": "execute_result"
    }
   ],
   "source": [
    "#вывод уникальных значений в столбце income_type\n",
    "data['income_type'].unique()"
   ]
  },
  {
   "cell_type": "code",
   "execution_count": 16,
   "id": "48e8a616",
   "metadata": {},
   "outputs": [
    {
     "data": {
      "text/plain": [
       "array(['покупка жилья', 'приобретение автомобиля',\n",
       "       'дополнительное образование', 'сыграть свадьбу',\n",
       "       'операции с жильем', 'образование', 'на проведение свадьбы',\n",
       "       'покупка жилья для семьи', 'покупка недвижимости',\n",
       "       'покупка коммерческой недвижимости', 'покупка жилой недвижимости',\n",
       "       'строительство собственной недвижимости', 'недвижимость',\n",
       "       'строительство недвижимости', 'на покупку подержанного автомобиля',\n",
       "       'на покупку своего автомобиля',\n",
       "       'операции с коммерческой недвижимостью',\n",
       "       'строительство жилой недвижимости', 'жилье',\n",
       "       'операции со своей недвижимостью', 'автомобили',\n",
       "       'заняться образованием', 'сделка с подержанным автомобилем',\n",
       "       'получение образования', 'автомобиль', 'свадьба',\n",
       "       'получение дополнительного образования', 'покупка своего жилья',\n",
       "       'операции с недвижимостью', 'получение высшего образования',\n",
       "       'свой автомобиль', 'сделка с автомобилем',\n",
       "       'профильное образование', 'высшее образование',\n",
       "       'покупка жилья для сдачи', 'на покупку автомобиля', 'ремонт жилью',\n",
       "       'заняться высшим образованием'], dtype=object)"
      ]
     },
     "execution_count": 16,
     "metadata": {},
     "output_type": "execute_result"
    }
   ],
   "source": [
    "#вывод уникальных значений в столбце purpose\n",
    "data['purpose'].unique()"
   ]
  },
  {
   "cell_type": "markdown",
   "id": "a2900a6d",
   "metadata": {},
   "source": [
    "Из всех рассмотренных столбцов значения только из-за регистра букв отличаются в столбце `education`. Приведем все значения к нижнему регистру."
   ]
  },
  {
   "cell_type": "code",
   "execution_count": 17,
   "id": "6f4ca4db",
   "metadata": {},
   "outputs": [
    {
     "data": {
      "text/plain": [
       "array(['высшее', 'среднее', 'неоконченное высшее', 'начальное',\n",
       "       'ученая степень'], dtype=object)"
      ]
     },
     "execution_count": 17,
     "metadata": {},
     "output_type": "execute_result"
    }
   ],
   "source": [
    "#перевод значений в столбце в нижний регистр\n",
    "data['education'] = data['education'].str.lower()\n",
    "#вывод уникальных значений для проверки\n",
    "data['education'].unique()"
   ]
  },
  {
   "cell_type": "markdown",
   "id": "d7c9efaf",
   "metadata": {},
   "source": [
    "Теперь снова проверим, есть ли дубликаты, и посчитаем их количество."
   ]
  },
  {
   "cell_type": "code",
   "execution_count": 18,
   "id": "db665174",
   "metadata": {},
   "outputs": [
    {
     "data": {
      "text/plain": [
       "17"
      ]
     },
     "execution_count": 18,
     "metadata": {},
     "output_type": "execute_result"
    }
   ],
   "source": [
    "#находим строки-дубликаты и считаем их количество\n",
    "data.duplicated().sum()"
   ]
  },
  {
   "cell_type": "markdown",
   "id": "0c98ba29",
   "metadata": {},
   "source": [
    "После приведения всех данных к одному регистру выявились еще 17 дубликатов, удалим их."
   ]
  },
  {
   "cell_type": "code",
   "execution_count": 19,
   "id": "ae029224",
   "metadata": {},
   "outputs": [],
   "source": [
    "#удаление дубликатов и восстановление порядка индексов\n",
    "data = data.drop_duplicates().reset_index(drop=True)"
   ]
  },
  {
   "cell_type": "markdown",
   "id": "6fada2f9",
   "metadata": {},
   "source": [
    "### Шаг 2.5. Формирование дополнительных датафреймов словарей, декомпозиция исходного датафрейма."
   ]
  },
  {
   "cell_type": "markdown",
   "id": "13a7b4d3",
   "metadata": {},
   "source": [
    "Чтобы оптимизировать работу с данными, уберем из исходной таблицы столбцы `education` и `family_status` и создадим 2 новых датафрейма-\"словаря\", в которых каждому значению `education` и каждому значению `family_status` будет соответствовать свой идентификатор."
   ]
  },
  {
   "cell_type": "code",
   "execution_count": 20,
   "id": "dd8647f5",
   "metadata": {},
   "outputs": [
    {
     "data": {
      "text/html": [
       "<div>\n",
       "<style scoped>\n",
       "    .dataframe tbody tr th:only-of-type {\n",
       "        vertical-align: middle;\n",
       "    }\n",
       "\n",
       "    .dataframe tbody tr th {\n",
       "        vertical-align: top;\n",
       "    }\n",
       "\n",
       "    .dataframe thead th {\n",
       "        text-align: right;\n",
       "    }\n",
       "</style>\n",
       "<table border=\"1\" class=\"dataframe\">\n",
       "  <thead>\n",
       "    <tr style=\"text-align: right;\">\n",
       "      <th></th>\n",
       "      <th>education_id</th>\n",
       "      <th>education</th>\n",
       "    </tr>\n",
       "  </thead>\n",
       "  <tbody>\n",
       "    <tr>\n",
       "      <th>0</th>\n",
       "      <td>0</td>\n",
       "      <td>высшее</td>\n",
       "    </tr>\n",
       "    <tr>\n",
       "      <th>1</th>\n",
       "      <td>1</td>\n",
       "      <td>среднее</td>\n",
       "    </tr>\n",
       "    <tr>\n",
       "      <th>2</th>\n",
       "      <td>2</td>\n",
       "      <td>неоконченное высшее</td>\n",
       "    </tr>\n",
       "    <tr>\n",
       "      <th>3</th>\n",
       "      <td>3</td>\n",
       "      <td>начальное</td>\n",
       "    </tr>\n",
       "    <tr>\n",
       "      <th>4</th>\n",
       "      <td>4</td>\n",
       "      <td>ученая степень</td>\n",
       "    </tr>\n",
       "  </tbody>\n",
       "</table>\n",
       "</div>"
      ],
      "text/plain": [
       "   education_id            education\n",
       "0             0               высшее\n",
       "1             1              среднее\n",
       "2             2  неоконченное высшее\n",
       "3             3            начальное\n",
       "4             4       ученая степень"
      ]
     },
     "execution_count": 20,
     "metadata": {},
     "output_type": "execute_result"
    }
   ],
   "source": [
    "#создание нового датафрейма и удаление дубликатов\n",
    "education_dict = data[['education_id', 'education']]\n",
    "education_dict = education_dict.drop_duplicates().reset_index(drop=True)\n",
    "education_dict"
   ]
  },
  {
   "cell_type": "code",
   "execution_count": 21,
   "id": "f69f39ea",
   "metadata": {},
   "outputs": [
    {
     "data": {
      "text/html": [
       "<div>\n",
       "<style scoped>\n",
       "    .dataframe tbody tr th:only-of-type {\n",
       "        vertical-align: middle;\n",
       "    }\n",
       "\n",
       "    .dataframe tbody tr th {\n",
       "        vertical-align: top;\n",
       "    }\n",
       "\n",
       "    .dataframe thead th {\n",
       "        text-align: right;\n",
       "    }\n",
       "</style>\n",
       "<table border=\"1\" class=\"dataframe\">\n",
       "  <thead>\n",
       "    <tr style=\"text-align: right;\">\n",
       "      <th></th>\n",
       "      <th>family_status_id</th>\n",
       "      <th>family_status</th>\n",
       "    </tr>\n",
       "  </thead>\n",
       "  <tbody>\n",
       "    <tr>\n",
       "      <th>0</th>\n",
       "      <td>0</td>\n",
       "      <td>женат / замужем</td>\n",
       "    </tr>\n",
       "    <tr>\n",
       "      <th>1</th>\n",
       "      <td>1</td>\n",
       "      <td>гражданский брак</td>\n",
       "    </tr>\n",
       "    <tr>\n",
       "      <th>2</th>\n",
       "      <td>2</td>\n",
       "      <td>вдовец / вдова</td>\n",
       "    </tr>\n",
       "    <tr>\n",
       "      <th>3</th>\n",
       "      <td>3</td>\n",
       "      <td>в разводе</td>\n",
       "    </tr>\n",
       "    <tr>\n",
       "      <th>4</th>\n",
       "      <td>4</td>\n",
       "      <td>Не женат / не замужем</td>\n",
       "    </tr>\n",
       "  </tbody>\n",
       "</table>\n",
       "</div>"
      ],
      "text/plain": [
       "   family_status_id          family_status\n",
       "0                 0        женат / замужем\n",
       "1                 1       гражданский брак\n",
       "2                 2         вдовец / вдова\n",
       "3                 3              в разводе\n",
       "4                 4  Не женат / не замужем"
      ]
     },
     "execution_count": 21,
     "metadata": {},
     "output_type": "execute_result"
    }
   ],
   "source": [
    "#создание нового датафрейма и удаление дубликатов\n",
    "family_status_dict = data[['family_status_id', 'family_status']]\n",
    "family_status_dict = family_status_dict.drop_duplicates().reset_index(drop=True)\n",
    "family_status_dict"
   ]
  },
  {
   "cell_type": "code",
   "execution_count": 22,
   "id": "e2c1a8fc",
   "metadata": {
    "scrolled": true
   },
   "outputs": [
    {
     "data": {
      "text/html": [
       "<div>\n",
       "<style scoped>\n",
       "    .dataframe tbody tr th:only-of-type {\n",
       "        vertical-align: middle;\n",
       "    }\n",
       "\n",
       "    .dataframe tbody tr th {\n",
       "        vertical-align: top;\n",
       "    }\n",
       "\n",
       "    .dataframe thead th {\n",
       "        text-align: right;\n",
       "    }\n",
       "</style>\n",
       "<table border=\"1\" class=\"dataframe\">\n",
       "  <thead>\n",
       "    <tr style=\"text-align: right;\">\n",
       "      <th></th>\n",
       "      <th>children</th>\n",
       "      <th>days_employed</th>\n",
       "      <th>dob_years</th>\n",
       "      <th>education_id</th>\n",
       "      <th>family_status_id</th>\n",
       "      <th>gender</th>\n",
       "      <th>income_type</th>\n",
       "      <th>debt</th>\n",
       "      <th>total_income</th>\n",
       "      <th>purpose</th>\n",
       "    </tr>\n",
       "  </thead>\n",
       "  <tbody>\n",
       "    <tr>\n",
       "      <th>0</th>\n",
       "      <td>1</td>\n",
       "      <td>-8437.673028</td>\n",
       "      <td>42</td>\n",
       "      <td>0</td>\n",
       "      <td>0</td>\n",
       "      <td>F</td>\n",
       "      <td>сотрудник</td>\n",
       "      <td>0</td>\n",
       "      <td>253875</td>\n",
       "      <td>покупка жилья</td>\n",
       "    </tr>\n",
       "    <tr>\n",
       "      <th>1</th>\n",
       "      <td>1</td>\n",
       "      <td>-4024.803754</td>\n",
       "      <td>36</td>\n",
       "      <td>1</td>\n",
       "      <td>0</td>\n",
       "      <td>F</td>\n",
       "      <td>сотрудник</td>\n",
       "      <td>0</td>\n",
       "      <td>112080</td>\n",
       "      <td>приобретение автомобиля</td>\n",
       "    </tr>\n",
       "    <tr>\n",
       "      <th>2</th>\n",
       "      <td>0</td>\n",
       "      <td>-5623.422610</td>\n",
       "      <td>33</td>\n",
       "      <td>1</td>\n",
       "      <td>0</td>\n",
       "      <td>M</td>\n",
       "      <td>сотрудник</td>\n",
       "      <td>0</td>\n",
       "      <td>145885</td>\n",
       "      <td>покупка жилья</td>\n",
       "    </tr>\n",
       "    <tr>\n",
       "      <th>3</th>\n",
       "      <td>3</td>\n",
       "      <td>-4124.747207</td>\n",
       "      <td>32</td>\n",
       "      <td>1</td>\n",
       "      <td>0</td>\n",
       "      <td>M</td>\n",
       "      <td>сотрудник</td>\n",
       "      <td>0</td>\n",
       "      <td>267628</td>\n",
       "      <td>дополнительное образование</td>\n",
       "    </tr>\n",
       "    <tr>\n",
       "      <th>4</th>\n",
       "      <td>0</td>\n",
       "      <td>340266.072047</td>\n",
       "      <td>53</td>\n",
       "      <td>1</td>\n",
       "      <td>1</td>\n",
       "      <td>F</td>\n",
       "      <td>пенсионер</td>\n",
       "      <td>0</td>\n",
       "      <td>158616</td>\n",
       "      <td>сыграть свадьбу</td>\n",
       "    </tr>\n",
       "  </tbody>\n",
       "</table>\n",
       "</div>"
      ],
      "text/plain": [
       "   children  days_employed  dob_years  education_id  family_status_id gender  \\\n",
       "0         1   -8437.673028         42             0                 0      F   \n",
       "1         1   -4024.803754         36             1                 0      F   \n",
       "2         0   -5623.422610         33             1                 0      M   \n",
       "3         3   -4124.747207         32             1                 0      M   \n",
       "4         0  340266.072047         53             1                 1      F   \n",
       "\n",
       "  income_type  debt  total_income                     purpose  \n",
       "0   сотрудник     0        253875               покупка жилья  \n",
       "1   сотрудник     0        112080     приобретение автомобиля  \n",
       "2   сотрудник     0        145885               покупка жилья  \n",
       "3   сотрудник     0        267628  дополнительное образование  \n",
       "4   пенсионер     0        158616             сыграть свадьбу  "
      ]
     },
     "execution_count": 22,
     "metadata": {},
     "output_type": "execute_result"
    }
   ],
   "source": [
    "#удаление в исходной таблице столбцов education и family_status\n",
    "data = data.drop(columns=['education', 'family_status'], axis=1)\n",
    "data.head()"
   ]
  },
  {
   "cell_type": "markdown",
   "id": "57b62f1f",
   "metadata": {},
   "source": [
    "### Шаг 2.6. Категоризация дохода."
   ]
  },
  {
   "cell_type": "markdown",
   "id": "aaf13520",
   "metadata": {},
   "source": [
    "Создадим в исходной таблице столбец с указанием категории дохода, где:\n",
    "* 0-30000 - категория `E`;\n",
    "* 30001-50000 - категория `D`;\n",
    "* 50001-200000 - категория `C`;\n",
    "* 200001-1000000 - категория `B`;\n",
    "* 1000001 и выше - категория `A`. \n",
    "\n",
    "Для этого напишем функцию, которая на вход будет получать значение дохода клиента, а возвращать будет категорию."
   ]
  },
  {
   "cell_type": "code",
   "execution_count": 23,
   "id": "ad1bc454",
   "metadata": {},
   "outputs": [],
   "source": [
    "#функция, возвращающая категорию дохода на основании значения дохода\n",
    "def total_income_category(total_income):\n",
    "    if 0 <= total_income <= 30000:\n",
    "        return 'E'\n",
    "    elif total_income <= 50000:\n",
    "        return 'D'\n",
    "    elif total_income <= 200000:\n",
    "        return 'C'\n",
    "    elif total_income <= 1000000:\n",
    "        return 'B'\n",
    "    return 'A'"
   ]
  },
  {
   "cell_type": "markdown",
   "id": "453981df",
   "metadata": {},
   "source": [
    "Добавим столбец с категорией дохода с помощью метода `apply()`."
   ]
  },
  {
   "cell_type": "code",
   "execution_count": 24,
   "id": "1268b9d5",
   "metadata": {},
   "outputs": [
    {
     "data": {
      "text/html": [
       "<div>\n",
       "<style scoped>\n",
       "    .dataframe tbody tr th:only-of-type {\n",
       "        vertical-align: middle;\n",
       "    }\n",
       "\n",
       "    .dataframe tbody tr th {\n",
       "        vertical-align: top;\n",
       "    }\n",
       "\n",
       "    .dataframe thead th {\n",
       "        text-align: right;\n",
       "    }\n",
       "</style>\n",
       "<table border=\"1\" class=\"dataframe\">\n",
       "  <thead>\n",
       "    <tr style=\"text-align: right;\">\n",
       "      <th></th>\n",
       "      <th>children</th>\n",
       "      <th>days_employed</th>\n",
       "      <th>dob_years</th>\n",
       "      <th>education_id</th>\n",
       "      <th>family_status_id</th>\n",
       "      <th>gender</th>\n",
       "      <th>income_type</th>\n",
       "      <th>debt</th>\n",
       "      <th>total_income</th>\n",
       "      <th>purpose</th>\n",
       "      <th>total_income_category</th>\n",
       "    </tr>\n",
       "  </thead>\n",
       "  <tbody>\n",
       "    <tr>\n",
       "      <th>0</th>\n",
       "      <td>1</td>\n",
       "      <td>-8437.673028</td>\n",
       "      <td>42</td>\n",
       "      <td>0</td>\n",
       "      <td>0</td>\n",
       "      <td>F</td>\n",
       "      <td>сотрудник</td>\n",
       "      <td>0</td>\n",
       "      <td>253875</td>\n",
       "      <td>покупка жилья</td>\n",
       "      <td>B</td>\n",
       "    </tr>\n",
       "    <tr>\n",
       "      <th>1</th>\n",
       "      <td>1</td>\n",
       "      <td>-4024.803754</td>\n",
       "      <td>36</td>\n",
       "      <td>1</td>\n",
       "      <td>0</td>\n",
       "      <td>F</td>\n",
       "      <td>сотрудник</td>\n",
       "      <td>0</td>\n",
       "      <td>112080</td>\n",
       "      <td>приобретение автомобиля</td>\n",
       "      <td>C</td>\n",
       "    </tr>\n",
       "    <tr>\n",
       "      <th>2</th>\n",
       "      <td>0</td>\n",
       "      <td>-5623.422610</td>\n",
       "      <td>33</td>\n",
       "      <td>1</td>\n",
       "      <td>0</td>\n",
       "      <td>M</td>\n",
       "      <td>сотрудник</td>\n",
       "      <td>0</td>\n",
       "      <td>145885</td>\n",
       "      <td>покупка жилья</td>\n",
       "      <td>C</td>\n",
       "    </tr>\n",
       "    <tr>\n",
       "      <th>3</th>\n",
       "      <td>3</td>\n",
       "      <td>-4124.747207</td>\n",
       "      <td>32</td>\n",
       "      <td>1</td>\n",
       "      <td>0</td>\n",
       "      <td>M</td>\n",
       "      <td>сотрудник</td>\n",
       "      <td>0</td>\n",
       "      <td>267628</td>\n",
       "      <td>дополнительное образование</td>\n",
       "      <td>B</td>\n",
       "    </tr>\n",
       "    <tr>\n",
       "      <th>4</th>\n",
       "      <td>0</td>\n",
       "      <td>340266.072047</td>\n",
       "      <td>53</td>\n",
       "      <td>1</td>\n",
       "      <td>1</td>\n",
       "      <td>F</td>\n",
       "      <td>пенсионер</td>\n",
       "      <td>0</td>\n",
       "      <td>158616</td>\n",
       "      <td>сыграть свадьбу</td>\n",
       "      <td>C</td>\n",
       "    </tr>\n",
       "    <tr>\n",
       "      <th>5</th>\n",
       "      <td>0</td>\n",
       "      <td>-926.185831</td>\n",
       "      <td>27</td>\n",
       "      <td>0</td>\n",
       "      <td>1</td>\n",
       "      <td>M</td>\n",
       "      <td>компаньон</td>\n",
       "      <td>0</td>\n",
       "      <td>255763</td>\n",
       "      <td>покупка жилья</td>\n",
       "      <td>B</td>\n",
       "    </tr>\n",
       "    <tr>\n",
       "      <th>6</th>\n",
       "      <td>0</td>\n",
       "      <td>-2879.202052</td>\n",
       "      <td>43</td>\n",
       "      <td>0</td>\n",
       "      <td>0</td>\n",
       "      <td>F</td>\n",
       "      <td>компаньон</td>\n",
       "      <td>0</td>\n",
       "      <td>240525</td>\n",
       "      <td>операции с жильем</td>\n",
       "      <td>B</td>\n",
       "    </tr>\n",
       "    <tr>\n",
       "      <th>7</th>\n",
       "      <td>0</td>\n",
       "      <td>-152.779569</td>\n",
       "      <td>50</td>\n",
       "      <td>1</td>\n",
       "      <td>0</td>\n",
       "      <td>M</td>\n",
       "      <td>сотрудник</td>\n",
       "      <td>0</td>\n",
       "      <td>135823</td>\n",
       "      <td>образование</td>\n",
       "      <td>C</td>\n",
       "    </tr>\n",
       "    <tr>\n",
       "      <th>8</th>\n",
       "      <td>2</td>\n",
       "      <td>-6929.865299</td>\n",
       "      <td>35</td>\n",
       "      <td>0</td>\n",
       "      <td>1</td>\n",
       "      <td>F</td>\n",
       "      <td>сотрудник</td>\n",
       "      <td>0</td>\n",
       "      <td>95856</td>\n",
       "      <td>на проведение свадьбы</td>\n",
       "      <td>C</td>\n",
       "    </tr>\n",
       "    <tr>\n",
       "      <th>9</th>\n",
       "      <td>0</td>\n",
       "      <td>-2188.756445</td>\n",
       "      <td>41</td>\n",
       "      <td>1</td>\n",
       "      <td>0</td>\n",
       "      <td>M</td>\n",
       "      <td>сотрудник</td>\n",
       "      <td>0</td>\n",
       "      <td>144425</td>\n",
       "      <td>покупка жилья для семьи</td>\n",
       "      <td>C</td>\n",
       "    </tr>\n",
       "  </tbody>\n",
       "</table>\n",
       "</div>"
      ],
      "text/plain": [
       "   children  days_employed  dob_years  education_id  family_status_id gender  \\\n",
       "0         1   -8437.673028         42             0                 0      F   \n",
       "1         1   -4024.803754         36             1                 0      F   \n",
       "2         0   -5623.422610         33             1                 0      M   \n",
       "3         3   -4124.747207         32             1                 0      M   \n",
       "4         0  340266.072047         53             1                 1      F   \n",
       "5         0    -926.185831         27             0                 1      M   \n",
       "6         0   -2879.202052         43             0                 0      F   \n",
       "7         0    -152.779569         50             1                 0      M   \n",
       "8         2   -6929.865299         35             0                 1      F   \n",
       "9         0   -2188.756445         41             1                 0      M   \n",
       "\n",
       "  income_type  debt  total_income                     purpose  \\\n",
       "0   сотрудник     0        253875               покупка жилья   \n",
       "1   сотрудник     0        112080     приобретение автомобиля   \n",
       "2   сотрудник     0        145885               покупка жилья   \n",
       "3   сотрудник     0        267628  дополнительное образование   \n",
       "4   пенсионер     0        158616             сыграть свадьбу   \n",
       "5   компаньон     0        255763               покупка жилья   \n",
       "6   компаньон     0        240525           операции с жильем   \n",
       "7   сотрудник     0        135823                 образование   \n",
       "8   сотрудник     0         95856       на проведение свадьбы   \n",
       "9   сотрудник     0        144425     покупка жилья для семьи   \n",
       "\n",
       "  total_income_category  \n",
       "0                     B  \n",
       "1                     C  \n",
       "2                     C  \n",
       "3                     B  \n",
       "4                     C  \n",
       "5                     B  \n",
       "6                     B  \n",
       "7                     C  \n",
       "8                     C  \n",
       "9                     C  "
      ]
     },
     "execution_count": 24,
     "metadata": {},
     "output_type": "execute_result"
    }
   ],
   "source": [
    "#создание нового столбца с категорией дохода\n",
    "data['total_income_category'] = data['total_income'].apply(total_income_category)\n",
    "data.head(10)"
   ]
  },
  {
   "cell_type": "markdown",
   "id": "d50e7eff",
   "metadata": {},
   "source": [
    "### Шаг 2.7. Категоризация целей кредита."
   ]
  },
  {
   "cell_type": "markdown",
   "id": "accc4dab",
   "metadata": {},
   "source": [
    "Добавим категоризацию целей кредита со следующими категориями:\n",
    "* операции с автомобилем;\n",
    "* операции с недвижимостью;\n",
    "* проведение свадьбы;\n",
    "* получение образования.\n",
    "\n",
    "Для начала изучим данные в столбце `purpose` и посмотрим, какие подстроки помогут в категоризации."
   ]
  },
  {
   "cell_type": "code",
   "execution_count": 25,
   "id": "06e8c0da",
   "metadata": {},
   "outputs": [
    {
     "data": {
      "text/plain": [
       "array(['покупка жилья', 'приобретение автомобиля',\n",
       "       'дополнительное образование', 'сыграть свадьбу',\n",
       "       'операции с жильем', 'образование', 'на проведение свадьбы',\n",
       "       'покупка жилья для семьи', 'покупка недвижимости',\n",
       "       'покупка коммерческой недвижимости', 'покупка жилой недвижимости',\n",
       "       'строительство собственной недвижимости', 'недвижимость',\n",
       "       'строительство недвижимости', 'на покупку подержанного автомобиля',\n",
       "       'на покупку своего автомобиля',\n",
       "       'операции с коммерческой недвижимостью',\n",
       "       'строительство жилой недвижимости', 'жилье',\n",
       "       'операции со своей недвижимостью', 'автомобили',\n",
       "       'заняться образованием', 'сделка с подержанным автомобилем',\n",
       "       'получение образования', 'автомобиль', 'свадьба',\n",
       "       'получение дополнительного образования', 'покупка своего жилья',\n",
       "       'операции с недвижимостью', 'получение высшего образования',\n",
       "       'свой автомобиль', 'сделка с автомобилем',\n",
       "       'профильное образование', 'высшее образование',\n",
       "       'покупка жилья для сдачи', 'на покупку автомобиля', 'ремонт жилью',\n",
       "       'заняться высшим образованием'], dtype=object)"
      ]
     },
     "execution_count": 25,
     "metadata": {},
     "output_type": "execute_result"
    }
   ],
   "source": [
    "#вывод уникальных значений столбца purpose\n",
    "data['purpose'].unique()"
   ]
  },
  {
   "cell_type": "markdown",
   "id": "25187982",
   "metadata": {},
   "source": [
    "После изучения этих данных напишем функцию, которая на основании подстроки из данных столбца `purpose` будет возвращать категорию целей кредита."
   ]
  },
  {
   "cell_type": "code",
   "execution_count": 26,
   "id": "2e0846cf",
   "metadata": {},
   "outputs": [],
   "source": [
    "#функция, принимающая на вход цель кредита и возвращающая ее категорию\n",
    "def purpose_category(purpose):\n",
    "    if 'автомобил' in purpose:\n",
    "        return 'операции с автомобилем'\n",
    "    elif 'свадьб' in purpose:\n",
    "        return 'проведение свадьбы'\n",
    "    elif 'образовани' in purpose:\n",
    "        return 'получение образования'\n",
    "    return 'операции с недвижимостью'"
   ]
  },
  {
   "cell_type": "markdown",
   "id": "2ec7bb4b",
   "metadata": {},
   "source": [
    "Добавим столбец с категорией цели кредита с помощью метода `apply()`."
   ]
  },
  {
   "cell_type": "code",
   "execution_count": 27,
   "id": "ee8e2679",
   "metadata": {},
   "outputs": [
    {
     "data": {
      "text/html": [
       "<div>\n",
       "<style scoped>\n",
       "    .dataframe tbody tr th:only-of-type {\n",
       "        vertical-align: middle;\n",
       "    }\n",
       "\n",
       "    .dataframe tbody tr th {\n",
       "        vertical-align: top;\n",
       "    }\n",
       "\n",
       "    .dataframe thead th {\n",
       "        text-align: right;\n",
       "    }\n",
       "</style>\n",
       "<table border=\"1\" class=\"dataframe\">\n",
       "  <thead>\n",
       "    <tr style=\"text-align: right;\">\n",
       "      <th></th>\n",
       "      <th>children</th>\n",
       "      <th>days_employed</th>\n",
       "      <th>dob_years</th>\n",
       "      <th>education_id</th>\n",
       "      <th>family_status_id</th>\n",
       "      <th>gender</th>\n",
       "      <th>income_type</th>\n",
       "      <th>debt</th>\n",
       "      <th>total_income</th>\n",
       "      <th>purpose</th>\n",
       "      <th>total_income_category</th>\n",
       "      <th>purpose_category</th>\n",
       "    </tr>\n",
       "  </thead>\n",
       "  <tbody>\n",
       "    <tr>\n",
       "      <th>0</th>\n",
       "      <td>1</td>\n",
       "      <td>-8437.673028</td>\n",
       "      <td>42</td>\n",
       "      <td>0</td>\n",
       "      <td>0</td>\n",
       "      <td>F</td>\n",
       "      <td>сотрудник</td>\n",
       "      <td>0</td>\n",
       "      <td>253875</td>\n",
       "      <td>покупка жилья</td>\n",
       "      <td>B</td>\n",
       "      <td>операции с недвижимостью</td>\n",
       "    </tr>\n",
       "    <tr>\n",
       "      <th>1</th>\n",
       "      <td>1</td>\n",
       "      <td>-4024.803754</td>\n",
       "      <td>36</td>\n",
       "      <td>1</td>\n",
       "      <td>0</td>\n",
       "      <td>F</td>\n",
       "      <td>сотрудник</td>\n",
       "      <td>0</td>\n",
       "      <td>112080</td>\n",
       "      <td>приобретение автомобиля</td>\n",
       "      <td>C</td>\n",
       "      <td>операции с автомобилем</td>\n",
       "    </tr>\n",
       "    <tr>\n",
       "      <th>2</th>\n",
       "      <td>0</td>\n",
       "      <td>-5623.422610</td>\n",
       "      <td>33</td>\n",
       "      <td>1</td>\n",
       "      <td>0</td>\n",
       "      <td>M</td>\n",
       "      <td>сотрудник</td>\n",
       "      <td>0</td>\n",
       "      <td>145885</td>\n",
       "      <td>покупка жилья</td>\n",
       "      <td>C</td>\n",
       "      <td>операции с недвижимостью</td>\n",
       "    </tr>\n",
       "    <tr>\n",
       "      <th>3</th>\n",
       "      <td>3</td>\n",
       "      <td>-4124.747207</td>\n",
       "      <td>32</td>\n",
       "      <td>1</td>\n",
       "      <td>0</td>\n",
       "      <td>M</td>\n",
       "      <td>сотрудник</td>\n",
       "      <td>0</td>\n",
       "      <td>267628</td>\n",
       "      <td>дополнительное образование</td>\n",
       "      <td>B</td>\n",
       "      <td>получение образования</td>\n",
       "    </tr>\n",
       "    <tr>\n",
       "      <th>4</th>\n",
       "      <td>0</td>\n",
       "      <td>340266.072047</td>\n",
       "      <td>53</td>\n",
       "      <td>1</td>\n",
       "      <td>1</td>\n",
       "      <td>F</td>\n",
       "      <td>пенсионер</td>\n",
       "      <td>0</td>\n",
       "      <td>158616</td>\n",
       "      <td>сыграть свадьбу</td>\n",
       "      <td>C</td>\n",
       "      <td>проведение свадьбы</td>\n",
       "    </tr>\n",
       "    <tr>\n",
       "      <th>5</th>\n",
       "      <td>0</td>\n",
       "      <td>-926.185831</td>\n",
       "      <td>27</td>\n",
       "      <td>0</td>\n",
       "      <td>1</td>\n",
       "      <td>M</td>\n",
       "      <td>компаньон</td>\n",
       "      <td>0</td>\n",
       "      <td>255763</td>\n",
       "      <td>покупка жилья</td>\n",
       "      <td>B</td>\n",
       "      <td>операции с недвижимостью</td>\n",
       "    </tr>\n",
       "    <tr>\n",
       "      <th>6</th>\n",
       "      <td>0</td>\n",
       "      <td>-2879.202052</td>\n",
       "      <td>43</td>\n",
       "      <td>0</td>\n",
       "      <td>0</td>\n",
       "      <td>F</td>\n",
       "      <td>компаньон</td>\n",
       "      <td>0</td>\n",
       "      <td>240525</td>\n",
       "      <td>операции с жильем</td>\n",
       "      <td>B</td>\n",
       "      <td>операции с недвижимостью</td>\n",
       "    </tr>\n",
       "    <tr>\n",
       "      <th>7</th>\n",
       "      <td>0</td>\n",
       "      <td>-152.779569</td>\n",
       "      <td>50</td>\n",
       "      <td>1</td>\n",
       "      <td>0</td>\n",
       "      <td>M</td>\n",
       "      <td>сотрудник</td>\n",
       "      <td>0</td>\n",
       "      <td>135823</td>\n",
       "      <td>образование</td>\n",
       "      <td>C</td>\n",
       "      <td>получение образования</td>\n",
       "    </tr>\n",
       "    <tr>\n",
       "      <th>8</th>\n",
       "      <td>2</td>\n",
       "      <td>-6929.865299</td>\n",
       "      <td>35</td>\n",
       "      <td>0</td>\n",
       "      <td>1</td>\n",
       "      <td>F</td>\n",
       "      <td>сотрудник</td>\n",
       "      <td>0</td>\n",
       "      <td>95856</td>\n",
       "      <td>на проведение свадьбы</td>\n",
       "      <td>C</td>\n",
       "      <td>проведение свадьбы</td>\n",
       "    </tr>\n",
       "    <tr>\n",
       "      <th>9</th>\n",
       "      <td>0</td>\n",
       "      <td>-2188.756445</td>\n",
       "      <td>41</td>\n",
       "      <td>1</td>\n",
       "      <td>0</td>\n",
       "      <td>M</td>\n",
       "      <td>сотрудник</td>\n",
       "      <td>0</td>\n",
       "      <td>144425</td>\n",
       "      <td>покупка жилья для семьи</td>\n",
       "      <td>C</td>\n",
       "      <td>операции с недвижимостью</td>\n",
       "    </tr>\n",
       "  </tbody>\n",
       "</table>\n",
       "</div>"
      ],
      "text/plain": [
       "   children  days_employed  dob_years  education_id  family_status_id gender  \\\n",
       "0         1   -8437.673028         42             0                 0      F   \n",
       "1         1   -4024.803754         36             1                 0      F   \n",
       "2         0   -5623.422610         33             1                 0      M   \n",
       "3         3   -4124.747207         32             1                 0      M   \n",
       "4         0  340266.072047         53             1                 1      F   \n",
       "5         0    -926.185831         27             0                 1      M   \n",
       "6         0   -2879.202052         43             0                 0      F   \n",
       "7         0    -152.779569         50             1                 0      M   \n",
       "8         2   -6929.865299         35             0                 1      F   \n",
       "9         0   -2188.756445         41             1                 0      M   \n",
       "\n",
       "  income_type  debt  total_income                     purpose  \\\n",
       "0   сотрудник     0        253875               покупка жилья   \n",
       "1   сотрудник     0        112080     приобретение автомобиля   \n",
       "2   сотрудник     0        145885               покупка жилья   \n",
       "3   сотрудник     0        267628  дополнительное образование   \n",
       "4   пенсионер     0        158616             сыграть свадьбу   \n",
       "5   компаньон     0        255763               покупка жилья   \n",
       "6   компаньон     0        240525           операции с жильем   \n",
       "7   сотрудник     0        135823                 образование   \n",
       "8   сотрудник     0         95856       на проведение свадьбы   \n",
       "9   сотрудник     0        144425     покупка жилья для семьи   \n",
       "\n",
       "  total_income_category          purpose_category  \n",
       "0                     B  операции с недвижимостью  \n",
       "1                     C    операции с автомобилем  \n",
       "2                     C  операции с недвижимостью  \n",
       "3                     B     получение образования  \n",
       "4                     C        проведение свадьбы  \n",
       "5                     B  операции с недвижимостью  \n",
       "6                     B  операции с недвижимостью  \n",
       "7                     C     получение образования  \n",
       "8                     C        проведение свадьбы  \n",
       "9                     C  операции с недвижимостью  "
      ]
     },
     "execution_count": 27,
     "metadata": {},
     "output_type": "execute_result"
    }
   ],
   "source": [
    "#создание нового столбца с категорией цели кредита\n",
    "data['purpose_category'] = data['purpose'].apply(purpose_category)\n",
    "data.head(10)"
   ]
  },
  {
   "cell_type": "markdown",
   "id": "74ea2dc2",
   "metadata": {},
   "source": [
    "### Ответы на вопросы."
   ]
  },
  {
   "cell_type": "markdown",
   "id": "d20d7b69",
   "metadata": {},
   "source": [
    "##### Вопрос 1:"
   ]
  },
  {
   "cell_type": "markdown",
   "id": "f4ca074a",
   "metadata": {},
   "source": [
    "Есть ли зависимость между количеством детей и возвратом кредита в срок?"
   ]
  },
  {
   "cell_type": "markdown",
   "id": "dbcbcb80",
   "metadata": {},
   "source": [
    "##### Вывод 1:"
   ]
  },
  {
   "cell_type": "markdown",
   "id": "6c07663e",
   "metadata": {},
   "source": [
    "Для проверки того, есть ли зависимость между количеством детей и возвратом кредита в срок, создадим сводную таблицу. Так как наличие задолженности по кредиту в таблице обозначается как 1, а отсутствие - 0, то сгруппируем данные по количеству детей и применим функцию нахождения среднего к столбцу `debt`."
   ]
  },
  {
   "cell_type": "code",
   "execution_count": 28,
   "id": "14b52162",
   "metadata": {
    "scrolled": true
   },
   "outputs": [
    {
     "data": {
      "text/html": [
       "<div>\n",
       "<style scoped>\n",
       "    .dataframe tbody tr th:only-of-type {\n",
       "        vertical-align: middle;\n",
       "    }\n",
       "\n",
       "    .dataframe tbody tr th {\n",
       "        vertical-align: top;\n",
       "    }\n",
       "\n",
       "    .dataframe thead th {\n",
       "        text-align: right;\n",
       "    }\n",
       "</style>\n",
       "<table border=\"1\" class=\"dataframe\">\n",
       "  <thead>\n",
       "    <tr style=\"text-align: right;\">\n",
       "      <th></th>\n",
       "      <th>debt</th>\n",
       "    </tr>\n",
       "    <tr>\n",
       "      <th>children</th>\n",
       "      <th></th>\n",
       "    </tr>\n",
       "  </thead>\n",
       "  <tbody>\n",
       "    <tr>\n",
       "      <th>-1</th>\n",
       "      <td>0.021277</td>\n",
       "    </tr>\n",
       "    <tr>\n",
       "      <th>0</th>\n",
       "      <td>0.075438</td>\n",
       "    </tr>\n",
       "    <tr>\n",
       "      <th>1</th>\n",
       "      <td>0.092346</td>\n",
       "    </tr>\n",
       "    <tr>\n",
       "      <th>2</th>\n",
       "      <td>0.094542</td>\n",
       "    </tr>\n",
       "    <tr>\n",
       "      <th>3</th>\n",
       "      <td>0.081818</td>\n",
       "    </tr>\n",
       "    <tr>\n",
       "      <th>4</th>\n",
       "      <td>0.097561</td>\n",
       "    </tr>\n",
       "    <tr>\n",
       "      <th>5</th>\n",
       "      <td>0.000000</td>\n",
       "    </tr>\n",
       "    <tr>\n",
       "      <th>20</th>\n",
       "      <td>0.105263</td>\n",
       "    </tr>\n",
       "  </tbody>\n",
       "</table>\n",
       "</div>"
      ],
      "text/plain": [
       "              debt\n",
       "children          \n",
       "-1        0.021277\n",
       " 0        0.075438\n",
       " 1        0.092346\n",
       " 2        0.094542\n",
       " 3        0.081818\n",
       " 4        0.097561\n",
       " 5        0.000000\n",
       " 20       0.105263"
      ]
     },
     "execution_count": 28,
     "metadata": {},
     "output_type": "execute_result"
    }
   ],
   "source": [
    "#создание сводной таблицы с группировкой по количеству детей\n",
    "#и со средним значением по столбцу debt\n",
    "children_pivot = data.pivot_table(index='children', values='debt', aggfunc='mean')\n",
    "children_pivot"
   ]
  },
  {
   "cell_type": "markdown",
   "id": "6db3a07a",
   "metadata": {},
   "source": [
    "В полученной таблице есть значение количества детей -1, скорее всего, это означает отсутствие данных о наличии детей у клиента.\n",
    "\n",
    "Из полученной сводной таблицы видно, что чаще всего не имеют задолженности по кредитам клиенты без детей (примерно 7.5% задолженностей), а также что у многодетных клиентов чаще всего возникают проблемы с возвратом кредита в срок (примерно 10.5% задолженностей). У клиентов с 1-4 детьми примерно одинаковые значения, 8-9.5% задолженностей. "
   ]
  },
  {
   "cell_type": "markdown",
   "id": "a4f103eb",
   "metadata": {},
   "source": [
    "##### Вопрос 2:"
   ]
  },
  {
   "cell_type": "markdown",
   "id": "0bcfc176",
   "metadata": {},
   "source": [
    "Есть ли зависимость между семейным положением и возвратом кредита в срок?"
   ]
  },
  {
   "cell_type": "markdown",
   "id": "b7abb163",
   "metadata": {},
   "source": [
    "##### Вывод 2:"
   ]
  },
  {
   "cell_type": "markdown",
   "id": "1247ef05",
   "metadata": {},
   "source": [
    "Составим сводную таблицу с группировкой по семейному положению, но для начала для удобства объединим таблицу с данными с таблицей-словарем `family_status_dict`."
   ]
  },
  {
   "cell_type": "code",
   "execution_count": 29,
   "id": "45d75afa",
   "metadata": {},
   "outputs": [
    {
     "data": {
      "text/html": [
       "<div>\n",
       "<style scoped>\n",
       "    .dataframe tbody tr th:only-of-type {\n",
       "        vertical-align: middle;\n",
       "    }\n",
       "\n",
       "    .dataframe tbody tr th {\n",
       "        vertical-align: top;\n",
       "    }\n",
       "\n",
       "    .dataframe thead th {\n",
       "        text-align: right;\n",
       "    }\n",
       "</style>\n",
       "<table border=\"1\" class=\"dataframe\">\n",
       "  <thead>\n",
       "    <tr style=\"text-align: right;\">\n",
       "      <th></th>\n",
       "      <th>debt</th>\n",
       "    </tr>\n",
       "    <tr>\n",
       "      <th>family_status</th>\n",
       "      <th></th>\n",
       "    </tr>\n",
       "  </thead>\n",
       "  <tbody>\n",
       "    <tr>\n",
       "      <th>Не женат / не замужем</th>\n",
       "      <td>0.097509</td>\n",
       "    </tr>\n",
       "    <tr>\n",
       "      <th>в разводе</th>\n",
       "      <td>0.071130</td>\n",
       "    </tr>\n",
       "    <tr>\n",
       "      <th>вдовец / вдова</th>\n",
       "      <td>0.065693</td>\n",
       "    </tr>\n",
       "    <tr>\n",
       "      <th>гражданский брак</th>\n",
       "      <td>0.093471</td>\n",
       "    </tr>\n",
       "    <tr>\n",
       "      <th>женат / замужем</th>\n",
       "      <td>0.075452</td>\n",
       "    </tr>\n",
       "  </tbody>\n",
       "</table>\n",
       "</div>"
      ],
      "text/plain": [
       "                           debt\n",
       "family_status                  \n",
       "Не женат / не замужем  0.097509\n",
       "в разводе              0.071130\n",
       "вдовец / вдова         0.065693\n",
       "гражданский брак       0.093471\n",
       "женат / замужем        0.075452"
      ]
     },
     "execution_count": 29,
     "metadata": {},
     "output_type": "execute_result"
    }
   ],
   "source": [
    "#объединение таблиц data и family_status_dict\n",
    "data_final = data.merge(family_status_dict, on='family_status_id', how='left')\n",
    "#создание сводной таблицы с группировкой по семейному положению\n",
    "#и со средним значением по столбцу debt\n",
    "data_final.pivot_table(index='family_status', values='debt', aggfunc='mean')"
   ]
  },
  {
   "cell_type": "markdown",
   "id": "8ecde147",
   "metadata": {},
   "source": [
    "Из полученной сводной таблицы можно сделать вывод, что вдовцы и вдовы чаще возвращают кредит вовремя (около 6.6% задолженностей), а неженатые/незамужние или клиенты в гражданском браке чаще остальных имеют задолженности по кредиту (около 9.8% и 9.3% соответственно). Женатые или замужние клиенты и клиенты в разводе имеют примерно одинаковый процент задолженностей, около 7-7.5%."
   ]
  },
  {
   "cell_type": "markdown",
   "id": "b29b7d52",
   "metadata": {},
   "source": [
    "##### Вопрос 3:"
   ]
  },
  {
   "cell_type": "markdown",
   "id": "96b9a5e4",
   "metadata": {},
   "source": [
    "Есть ли зависимость между уровнем дохода и возвратом кредита в срок?"
   ]
  },
  {
   "cell_type": "markdown",
   "id": "537c6e96",
   "metadata": {},
   "source": [
    "##### Вывод 3:"
   ]
  },
  {
   "cell_type": "markdown",
   "id": "850eedeb",
   "metadata": {},
   "source": [
    "Составим сводную таблицу с группировкой по категории дохода."
   ]
  },
  {
   "cell_type": "code",
   "execution_count": 30,
   "id": "a9871186",
   "metadata": {},
   "outputs": [
    {
     "data": {
      "text/html": [
       "<div>\n",
       "<style scoped>\n",
       "    .dataframe tbody tr th:only-of-type {\n",
       "        vertical-align: middle;\n",
       "    }\n",
       "\n",
       "    .dataframe tbody tr th {\n",
       "        vertical-align: top;\n",
       "    }\n",
       "\n",
       "    .dataframe thead th {\n",
       "        text-align: right;\n",
       "    }\n",
       "</style>\n",
       "<table border=\"1\" class=\"dataframe\">\n",
       "  <thead>\n",
       "    <tr style=\"text-align: right;\">\n",
       "      <th></th>\n",
       "      <th>debt</th>\n",
       "    </tr>\n",
       "    <tr>\n",
       "      <th>total_income_category</th>\n",
       "      <th></th>\n",
       "    </tr>\n",
       "  </thead>\n",
       "  <tbody>\n",
       "    <tr>\n",
       "      <th>A</th>\n",
       "      <td>0.080000</td>\n",
       "    </tr>\n",
       "    <tr>\n",
       "      <th>B</th>\n",
       "      <td>0.070621</td>\n",
       "    </tr>\n",
       "    <tr>\n",
       "      <th>C</th>\n",
       "      <td>0.084915</td>\n",
       "    </tr>\n",
       "    <tr>\n",
       "      <th>D</th>\n",
       "      <td>0.060000</td>\n",
       "    </tr>\n",
       "    <tr>\n",
       "      <th>E</th>\n",
       "      <td>0.090909</td>\n",
       "    </tr>\n",
       "  </tbody>\n",
       "</table>\n",
       "</div>"
      ],
      "text/plain": [
       "                           debt\n",
       "total_income_category          \n",
       "A                      0.080000\n",
       "B                      0.070621\n",
       "C                      0.084915\n",
       "D                      0.060000\n",
       "E                      0.090909"
      ]
     },
     "execution_count": 30,
     "metadata": {},
     "output_type": "execute_result"
    }
   ],
   "source": [
    "#создание сводной таблицы с группировкой по категории дохода\n",
    "#и со средним значением по столбцу debt\n",
    "data.pivot_table(index='total_income_category', values='debt', aggfunc='mean')"
   ]
  },
  {
   "cell_type": "markdown",
   "id": "55c3bf1f",
   "metadata": {},
   "source": [
    "Чаще всего (около 9% задолженностей) имеют задолженности по кредиту клиенты с категорией дохода E (доход менее 30000), а реже всего - клиенты с категорией дохода D (доход более 30000 и менее 50000, 6% задолженностей) и клиенты с категорией дохода B (доход более 200000 и менее 1000000, 7% задолженностей). Клиенты с категорией дохода A (более 1000000) и категорией дохода C (более 50000 и менее 200000) имеют показатели 8% и 8.5% задолженностей соответственно."
   ]
  },
  {
   "cell_type": "markdown",
   "id": "5458d37a",
   "metadata": {},
   "source": [
    "##### Вопрос 4:"
   ]
  },
  {
   "cell_type": "markdown",
   "id": "a907c5d3",
   "metadata": {},
   "source": [
    "Как разные цели кредита влияют на его возврат в срок?"
   ]
  },
  {
   "cell_type": "markdown",
   "id": "c43c841a",
   "metadata": {},
   "source": [
    "##### Вывод 4:"
   ]
  },
  {
   "cell_type": "markdown",
   "id": "0d5ebf23",
   "metadata": {},
   "source": [
    "Составим сводную таблицу с группировкой по категории цели кредита."
   ]
  },
  {
   "cell_type": "code",
   "execution_count": 31,
   "id": "d66770b0",
   "metadata": {},
   "outputs": [
    {
     "data": {
      "text/html": [
       "<div>\n",
       "<style scoped>\n",
       "    .dataframe tbody tr th:only-of-type {\n",
       "        vertical-align: middle;\n",
       "    }\n",
       "\n",
       "    .dataframe tbody tr th {\n",
       "        vertical-align: top;\n",
       "    }\n",
       "\n",
       "    .dataframe thead th {\n",
       "        text-align: right;\n",
       "    }\n",
       "</style>\n",
       "<table border=\"1\" class=\"dataframe\">\n",
       "  <thead>\n",
       "    <tr style=\"text-align: right;\">\n",
       "      <th></th>\n",
       "      <th>debt</th>\n",
       "    </tr>\n",
       "    <tr>\n",
       "      <th>purpose_category</th>\n",
       "      <th></th>\n",
       "    </tr>\n",
       "  </thead>\n",
       "  <tbody>\n",
       "    <tr>\n",
       "      <th>операции с автомобилем</th>\n",
       "      <td>0.093590</td>\n",
       "    </tr>\n",
       "    <tr>\n",
       "      <th>операции с недвижимостью</th>\n",
       "      <td>0.072334</td>\n",
       "    </tr>\n",
       "    <tr>\n",
       "      <th>получение образования</th>\n",
       "      <td>0.092200</td>\n",
       "    </tr>\n",
       "    <tr>\n",
       "      <th>проведение свадьбы</th>\n",
       "      <td>0.080034</td>\n",
       "    </tr>\n",
       "  </tbody>\n",
       "</table>\n",
       "</div>"
      ],
      "text/plain": [
       "                              debt\n",
       "purpose_category                  \n",
       "операции с автомобилем    0.093590\n",
       "операции с недвижимостью  0.072334\n",
       "получение образования     0.092200\n",
       "проведение свадьбы        0.080034"
      ]
     },
     "execution_count": 31,
     "metadata": {},
     "output_type": "execute_result"
    }
   ],
   "source": [
    "#создание сводной таблицы с группировкой по категории цели кредита\n",
    "#и со средним значением по столбцу debt\n",
    "data.pivot_table(index='purpose_category', values='debt', aggfunc='mean')"
   ]
  },
  {
   "cell_type": "markdown",
   "id": "6bba112e",
   "metadata": {},
   "source": [
    "Из полученной сводной таблицы можно сделать вывод, что клиенты чаще всего возвращают вовремя кредиты, взятые на операции с недвижимостью (около 7.2% задолженностей) и на проведение свадьбы (около 8% задолженностей), а реже всего - кредиты, взятые на операции с автомобилем (около 9.4% задолженностей) и на получение образования (около 9.2% задолженностей). "
   ]
  },
  {
   "cell_type": "markdown",
   "id": "8c20edc1",
   "metadata": {},
   "source": [
    "## Общий вывод:"
   ]
  },
  {
   "cell_type": "markdown",
   "id": "715d1f8e",
   "metadata": {},
   "source": [
    "В ходе данного проекта были изучены данные кредитного отдела банка и проведена их предобработка. Были выявлены и заполнены пропуски в столбцах `days_employed` и `total_income`, выявлены аномалии в столбце `days_employed`, изменен тип данных в столбце `total_income`, а также были удалены строки-дубликаты. Для оптимизации работы с данными были созданы 2 датафрейма-\"словаря\", один с уровнем образования и идентификатором уровня образования, а другой с семейным положением и идентификатором семейного положения. Также значения уровня дохода и цели кредита были объединены по категориям. \n",
    "\n",
    "Было исследовано влияние различных факторов на возврат кредита в срок и получены следующие выводы:\n",
    "1) Чаще всего кредиты в срок возвращают клиенты без детей, а многодетные клиенты чаще всего имеют задолженности по кредитам;\n",
    "\n",
    "2) Вдовцы и вдовы реже всего имеют задолженности по кредитам, а неженатые/незамужние клиенты и клиенты в гражданском браке чаще имеют проблемы с возвратом кредита вовремя;\n",
    "\n",
    "3) Клиенты с доходом менее 30000 чаще имеют задолженности по кредитам, а реже всего - клиенты с доходом от 30000 до 50000 и клиенты с доходом от 200000 до 1000000;\n",
    "\n",
    "4) Кредиты, взятые на операции с автомобилем и на получение образования, чаще всего не возвращаются вовремя, а кредиты, взятые на операции с недвижимостью и проведение свадьбы, клиенты чаще возвращают в срок.\n",
    "\n",
    "Также для всех факторов показатели задолженности не сильно отличаются друг от друга и не превышают 10.5%."
   ]
  }
 ],
 "metadata": {
  "ExecuteTimeLog": [
   {
    "duration": 550,
    "start_time": "2022-04-07T10:29:30.051Z"
   },
   {
    "duration": 100,
    "start_time": "2022-04-07T10:33:06.133Z"
   },
   {
    "duration": 70,
    "start_time": "2022-04-07T10:36:34.181Z"
   },
   {
    "duration": 20,
    "start_time": "2022-04-07T10:36:35.345Z"
   },
   {
    "duration": 80,
    "start_time": "2022-04-07T10:36:49.413Z"
   },
   {
    "duration": 22,
    "start_time": "2022-04-07T10:38:30.326Z"
   },
   {
    "duration": 85,
    "start_time": "2022-04-07T10:40:53.391Z"
   },
   {
    "duration": 7,
    "start_time": "2022-04-07T11:17:16.183Z"
   },
   {
    "duration": 172,
    "start_time": "2022-04-07T11:17:45.269Z"
   },
   {
    "duration": 7,
    "start_time": "2022-04-07T11:18:22.580Z"
   },
   {
    "duration": 35,
    "start_time": "2022-04-07T11:20:43.367Z"
   },
   {
    "duration": 35,
    "start_time": "2022-04-07T11:21:37.563Z"
   },
   {
    "duration": 29,
    "start_time": "2022-04-07T11:22:45.411Z"
   },
   {
    "duration": 8,
    "start_time": "2022-04-07T11:23:10.256Z"
   },
   {
    "duration": 6,
    "start_time": "2022-04-07T11:23:44.606Z"
   },
   {
    "duration": 34,
    "start_time": "2022-04-07T11:24:22.000Z"
   },
   {
    "duration": 8,
    "start_time": "2022-04-07T11:27:45.859Z"
   },
   {
    "duration": 6,
    "start_time": "2022-04-07T11:34:34.847Z"
   },
   {
    "duration": 8,
    "start_time": "2022-04-07T11:35:20.135Z"
   },
   {
    "duration": 5,
    "start_time": "2022-04-07T11:36:31.599Z"
   },
   {
    "duration": 6,
    "start_time": "2022-04-07T11:36:53.995Z"
   },
   {
    "duration": 7,
    "start_time": "2022-04-07T11:37:10.864Z"
   },
   {
    "duration": 47,
    "start_time": "2022-04-07T11:43:44.880Z"
   },
   {
    "duration": 21,
    "start_time": "2022-04-07T11:45:21.563Z"
   },
   {
    "duration": 23,
    "start_time": "2022-04-07T11:47:59.209Z"
   },
   {
    "duration": 21,
    "start_time": "2022-04-07T11:48:05.302Z"
   },
   {
    "duration": 23,
    "start_time": "2022-04-07T11:49:59.019Z"
   },
   {
    "duration": 79,
    "start_time": "2022-04-09T10:28:07.809Z"
   },
   {
    "duration": 572,
    "start_time": "2022-04-09T10:28:15.660Z"
   },
   {
    "duration": 21,
    "start_time": "2022-04-09T10:28:18.462Z"
   },
   {
    "duration": 45,
    "start_time": "2022-04-09T10:28:20.725Z"
   },
   {
    "duration": 38,
    "start_time": "2022-04-09T10:29:03.489Z"
   },
   {
    "duration": 47,
    "start_time": "2022-04-09T10:29:12.402Z"
   },
   {
    "duration": 33,
    "start_time": "2022-04-09T10:31:06.923Z"
   },
   {
    "duration": 19,
    "start_time": "2022-04-09T10:31:19.688Z"
   },
   {
    "duration": 7,
    "start_time": "2022-04-09T10:34:56.968Z"
   },
   {
    "duration": 33,
    "start_time": "2022-04-09T10:44:42.128Z"
   },
   {
    "duration": 23,
    "start_time": "2022-04-09T10:45:00.273Z"
   },
   {
    "duration": 32,
    "start_time": "2022-04-09T10:45:10.690Z"
   },
   {
    "duration": 32,
    "start_time": "2022-04-09T10:45:12.690Z"
   },
   {
    "duration": 31,
    "start_time": "2022-04-09T10:45:24.816Z"
   },
   {
    "duration": 141,
    "start_time": "2022-04-09T10:45:28.840Z"
   },
   {
    "duration": 21,
    "start_time": "2022-04-09T10:45:30.767Z"
   },
   {
    "duration": 21,
    "start_time": "2022-04-09T10:45:35.238Z"
   },
   {
    "duration": 7,
    "start_time": "2022-04-09T10:45:37.815Z"
   },
   {
    "duration": 13,
    "start_time": "2022-04-09T11:11:34.554Z"
   },
   {
    "duration": 32,
    "start_time": "2022-04-09T11:11:37.264Z"
   },
   {
    "duration": 12,
    "start_time": "2022-04-09T11:11:43.363Z"
   },
   {
    "duration": 9,
    "start_time": "2022-04-09T11:11:47.096Z"
   },
   {
    "duration": 10,
    "start_time": "2022-04-09T11:12:31.655Z"
   },
   {
    "duration": 9,
    "start_time": "2022-04-09T11:15:39.630Z"
   },
   {
    "duration": 14,
    "start_time": "2022-04-09T11:15:55.994Z"
   },
   {
    "duration": 9,
    "start_time": "2022-04-09T11:16:10.619Z"
   },
   {
    "duration": 9,
    "start_time": "2022-04-09T11:16:31.148Z"
   },
   {
    "duration": 7,
    "start_time": "2022-04-09T11:19:14.419Z"
   },
   {
    "duration": 7,
    "start_time": "2022-04-09T11:19:15.859Z"
   },
   {
    "duration": 9,
    "start_time": "2022-04-09T11:19:19.973Z"
   },
   {
    "duration": 10,
    "start_time": "2022-04-09T11:19:49.186Z"
   },
   {
    "duration": 7,
    "start_time": "2022-04-09T11:20:08.489Z"
   },
   {
    "duration": 10,
    "start_time": "2022-04-09T11:20:13.665Z"
   },
   {
    "duration": 13,
    "start_time": "2022-04-09T11:20:21.322Z"
   },
   {
    "duration": 13,
    "start_time": "2022-04-09T11:20:58.305Z"
   },
   {
    "duration": 15,
    "start_time": "2022-04-09T11:25:28.463Z"
   },
   {
    "duration": 33,
    "start_time": "2022-04-09T11:25:35.665Z"
   },
   {
    "duration": 34,
    "start_time": "2022-04-09T11:26:23.585Z"
   },
   {
    "duration": 33,
    "start_time": "2022-04-09T11:27:00.521Z"
   },
   {
    "duration": 172,
    "start_time": "2022-04-09T11:27:13.562Z"
   },
   {
    "duration": 22,
    "start_time": "2022-04-09T11:27:21.857Z"
   },
   {
    "duration": 33,
    "start_time": "2022-04-09T11:27:37.911Z"
   },
   {
    "duration": 14,
    "start_time": "2022-04-09T11:28:17.975Z"
   },
   {
    "duration": 33,
    "start_time": "2022-04-09T11:28:50.444Z"
   },
   {
    "duration": 9,
    "start_time": "2022-04-09T11:28:58.265Z"
   },
   {
    "duration": 10,
    "start_time": "2022-04-09T11:31:54.360Z"
   },
   {
    "duration": 5,
    "start_time": "2022-04-09T11:45:21.899Z"
   },
   {
    "duration": 6,
    "start_time": "2022-04-09T11:45:52.820Z"
   },
   {
    "duration": 7,
    "start_time": "2022-04-09T11:45:53.855Z"
   },
   {
    "duration": 7,
    "start_time": "2022-04-09T11:46:01.253Z"
   },
   {
    "duration": 10,
    "start_time": "2022-04-09T11:46:31.487Z"
   },
   {
    "duration": 9,
    "start_time": "2022-04-09T11:46:36.511Z"
   },
   {
    "duration": 8,
    "start_time": "2022-04-09T11:49:38.880Z"
   },
   {
    "duration": 11,
    "start_time": "2022-04-09T11:49:52.994Z"
   },
   {
    "duration": 11,
    "start_time": "2022-04-09T11:50:18.965Z"
   },
   {
    "duration": 9,
    "start_time": "2022-04-09T12:12:07.385Z"
   },
   {
    "duration": 7,
    "start_time": "2022-04-09T12:13:56.356Z"
   },
   {
    "duration": 16,
    "start_time": "2022-04-09T12:14:28.744Z"
   },
   {
    "duration": 0,
    "start_time": "2022-04-09T12:14:47.098Z"
   },
   {
    "duration": 3201,
    "start_time": "2022-04-09T12:14:49.573Z"
   },
   {
    "duration": 1643,
    "start_time": "2022-04-09T12:14:58.776Z"
   },
   {
    "duration": 10,
    "start_time": "2022-04-09T12:15:28.989Z"
   },
   {
    "duration": 8,
    "start_time": "2022-04-09T12:15:34.119Z"
   },
   {
    "duration": 9,
    "start_time": "2022-04-09T12:15:44.543Z"
   },
   {
    "duration": 32,
    "start_time": "2022-04-09T12:15:52.561Z"
   },
   {
    "duration": 25,
    "start_time": "2022-04-09T12:16:01.281Z"
   },
   {
    "duration": 34,
    "start_time": "2022-04-09T12:16:34.955Z"
   },
   {
    "duration": 27,
    "start_time": "2022-04-09T12:18:16.924Z"
   },
   {
    "duration": 23,
    "start_time": "2022-04-09T12:19:35.801Z"
   },
   {
    "duration": 9,
    "start_time": "2022-04-09T12:21:25.030Z"
   },
   {
    "duration": 11,
    "start_time": "2022-04-09T12:21:29.934Z"
   },
   {
    "duration": 10,
    "start_time": "2022-04-09T12:21:40.677Z"
   },
   {
    "duration": 8,
    "start_time": "2022-04-09T12:21:54.186Z"
   },
   {
    "duration": 9,
    "start_time": "2022-04-09T12:21:55.011Z"
   },
   {
    "duration": 16,
    "start_time": "2022-04-09T12:22:25.480Z"
   },
   {
    "duration": 11,
    "start_time": "2022-04-09T12:22:32.064Z"
   },
   {
    "duration": 14,
    "start_time": "2022-04-09T12:26:16.050Z"
   },
   {
    "duration": 9,
    "start_time": "2022-04-09T12:27:57.832Z"
   },
   {
    "duration": 125,
    "start_time": "2022-04-10T17:07:16.150Z"
   },
   {
    "duration": 47,
    "start_time": "2022-04-10T17:07:23.266Z"
   },
   {
    "duration": 513,
    "start_time": "2022-04-10T17:07:27.886Z"
   },
   {
    "duration": 16,
    "start_time": "2022-04-10T17:07:30.548Z"
   },
   {
    "duration": 15,
    "start_time": "2022-04-10T17:07:33.683Z"
   },
   {
    "duration": 8,
    "start_time": "2022-04-10T17:07:36.091Z"
   },
   {
    "duration": 6,
    "start_time": "2022-04-10T17:07:37.756Z"
   },
   {
    "duration": 5,
    "start_time": "2022-04-10T17:07:45.586Z"
   },
   {
    "duration": 8,
    "start_time": "2022-04-10T17:07:48.472Z"
   },
   {
    "duration": 1456,
    "start_time": "2022-04-10T19:06:17.162Z"
   },
   {
    "duration": 90,
    "start_time": "2022-04-10T19:06:40.074Z"
   },
   {
    "duration": 1375,
    "start_time": "2022-04-10T19:06:45.828Z"
   },
   {
    "duration": 7,
    "start_time": "2022-04-10T19:06:50.663Z"
   },
   {
    "duration": 1424,
    "start_time": "2022-04-10T19:06:52.254Z"
   },
   {
    "duration": 5,
    "start_time": "2022-04-10T19:08:32.836Z"
   },
   {
    "duration": 4,
    "start_time": "2022-04-10T19:08:43.787Z"
   },
   {
    "duration": 6,
    "start_time": "2022-04-10T19:17:48.858Z"
   },
   {
    "duration": 7,
    "start_time": "2022-04-10T19:18:03.602Z"
   },
   {
    "duration": 24,
    "start_time": "2022-04-10T19:18:08.012Z"
   },
   {
    "duration": 14,
    "start_time": "2022-04-10T19:18:18.700Z"
   },
   {
    "duration": 7,
    "start_time": "2022-04-10T19:18:46.733Z"
   },
   {
    "duration": 6,
    "start_time": "2022-04-10T19:19:00.163Z"
   },
   {
    "duration": 8,
    "start_time": "2022-04-10T19:19:43.914Z"
   },
   {
    "duration": 6,
    "start_time": "2022-04-10T19:20:17.701Z"
   },
   {
    "duration": 8,
    "start_time": "2022-04-10T19:20:56.188Z"
   },
   {
    "duration": 9,
    "start_time": "2022-04-10T19:25:00.417Z"
   },
   {
    "duration": 9,
    "start_time": "2022-04-10T19:25:07.210Z"
   },
   {
    "duration": 7,
    "start_time": "2022-04-10T19:25:21.856Z"
   },
   {
    "duration": 7,
    "start_time": "2022-04-10T19:25:45.164Z"
   },
   {
    "duration": 7,
    "start_time": "2022-04-10T19:25:52.690Z"
   },
   {
    "duration": 8,
    "start_time": "2022-04-10T19:28:24.746Z"
   },
   {
    "duration": 8,
    "start_time": "2022-04-10T19:28:39.260Z"
   },
   {
    "duration": 9,
    "start_time": "2022-04-10T19:35:26.679Z"
   },
   {
    "duration": 12,
    "start_time": "2022-04-10T19:39:16.894Z"
   },
   {
    "duration": 15,
    "start_time": "2022-04-10T19:39:31.786Z"
   },
   {
    "duration": 38,
    "start_time": "2022-04-10T19:41:46.674Z"
   },
   {
    "duration": 19,
    "start_time": "2022-04-10T19:42:13.542Z"
   },
   {
    "duration": 18,
    "start_time": "2022-04-10T19:42:59.779Z"
   },
   {
    "duration": 16,
    "start_time": "2022-04-10T19:44:29.525Z"
   },
   {
    "duration": 31,
    "start_time": "2022-04-10T19:46:59.277Z"
   },
   {
    "duration": 34,
    "start_time": "2022-04-10T19:47:16.108Z"
   },
   {
    "duration": 33,
    "start_time": "2022-04-10T19:47:18.076Z"
   },
   {
    "duration": 43,
    "start_time": "2022-04-10T19:47:36.028Z"
   },
   {
    "duration": 33,
    "start_time": "2022-04-10T19:47:43.937Z"
   },
   {
    "duration": 32,
    "start_time": "2022-04-10T19:49:01.842Z"
   },
   {
    "duration": 18,
    "start_time": "2022-04-10T19:49:06.826Z"
   },
   {
    "duration": 5,
    "start_time": "2022-04-10T19:54:44.085Z"
   },
   {
    "duration": 7,
    "start_time": "2022-04-10T19:55:18.811Z"
   },
   {
    "duration": 5,
    "start_time": "2022-04-10T19:56:00.620Z"
   },
   {
    "duration": 5,
    "start_time": "2022-04-10T19:56:30.564Z"
   },
   {
    "duration": 6,
    "start_time": "2022-04-10T19:56:54.420Z"
   },
   {
    "duration": 9,
    "start_time": "2022-04-10T20:03:45.920Z"
   },
   {
    "duration": 14,
    "start_time": "2022-04-10T20:04:13.995Z"
   },
   {
    "duration": 15,
    "start_time": "2022-04-10T20:04:33.322Z"
   },
   {
    "duration": 19,
    "start_time": "2022-04-10T20:06:12.895Z"
   },
   {
    "duration": 33,
    "start_time": "2022-04-10T20:07:19.872Z"
   },
   {
    "duration": 21,
    "start_time": "2022-04-10T20:10:07.389Z"
   },
   {
    "duration": 34,
    "start_time": "2022-04-10T20:10:21.029Z"
   },
   {
    "duration": 20,
    "start_time": "2022-04-10T20:10:25.880Z"
   },
   {
    "duration": 509,
    "start_time": "2022-04-11T09:52:46.281Z"
   },
   {
    "duration": 18,
    "start_time": "2022-04-11T09:52:49.112Z"
   },
   {
    "duration": 15,
    "start_time": "2022-04-11T09:52:51.583Z"
   },
   {
    "duration": 8,
    "start_time": "2022-04-11T09:52:53.518Z"
   },
   {
    "duration": 5,
    "start_time": "2022-04-11T09:52:54.994Z"
   },
   {
    "duration": 8,
    "start_time": "2022-04-11T09:52:56.881Z"
   },
   {
    "duration": 7,
    "start_time": "2022-04-11T09:52:58.545Z"
   },
   {
    "duration": 6,
    "start_time": "2022-04-11T09:53:00.246Z"
   },
   {
    "duration": 17,
    "start_time": "2022-04-11T09:53:02.109Z"
   },
   {
    "duration": 17,
    "start_time": "2022-04-11T09:53:03.903Z"
   },
   {
    "duration": 20,
    "start_time": "2022-04-11T09:53:05.209Z"
   },
   {
    "duration": 5,
    "start_time": "2022-04-11T09:53:05.978Z"
   },
   {
    "duration": 6,
    "start_time": "2022-04-11T09:53:07.026Z"
   },
   {
    "duration": 5,
    "start_time": "2022-04-11T09:53:08.177Z"
   },
   {
    "duration": 6,
    "start_time": "2022-04-11T09:53:09.610Z"
   },
   {
    "duration": 16,
    "start_time": "2022-04-11T09:53:11.216Z"
   },
   {
    "duration": 18,
    "start_time": "2022-04-11T09:53:12.281Z"
   },
   {
    "duration": 20,
    "start_time": "2022-04-11T09:53:13.602Z"
   },
   {
    "duration": 5,
    "start_time": "2022-04-11T10:01:28.050Z"
   },
   {
    "duration": 10,
    "start_time": "2022-04-11T10:01:59.493Z"
   },
   {
    "duration": 11,
    "start_time": "2022-04-11T10:02:26.485Z"
   },
   {
    "duration": 14,
    "start_time": "2022-04-11T10:02:38.227Z"
   },
   {
    "duration": 12,
    "start_time": "2022-04-11T10:02:47.049Z"
   },
   {
    "duration": 12,
    "start_time": "2022-04-11T10:05:29.753Z"
   },
   {
    "duration": 22,
    "start_time": "2022-04-11T10:08:52.808Z"
   },
   {
    "duration": 21,
    "start_time": "2022-04-11T10:09:00.754Z"
   },
   {
    "duration": 17,
    "start_time": "2022-04-11T10:09:22.196Z"
   },
   {
    "duration": 70,
    "start_time": "2022-04-11T10:09:32.326Z"
   },
   {
    "duration": 12,
    "start_time": "2022-04-11T10:11:00.917Z"
   },
   {
    "duration": 11,
    "start_time": "2022-04-11T10:11:55.294Z"
   },
   {
    "duration": 10,
    "start_time": "2022-04-11T10:11:59.866Z"
   },
   {
    "duration": 12,
    "start_time": "2022-04-11T10:12:10.010Z"
   },
   {
    "duration": 13,
    "start_time": "2022-04-11T10:12:26.193Z"
   },
   {
    "duration": 14,
    "start_time": "2022-04-11T10:12:41.272Z"
   },
   {
    "duration": 11,
    "start_time": "2022-04-11T10:12:42.398Z"
   },
   {
    "duration": 18,
    "start_time": "2022-04-11T10:12:49.399Z"
   },
   {
    "duration": 11,
    "start_time": "2022-04-11T10:13:20.839Z"
   },
   {
    "duration": 68,
    "start_time": "2022-04-11T10:13:23.825Z"
   },
   {
    "duration": 14,
    "start_time": "2022-04-11T10:13:26.026Z"
   },
   {
    "duration": 14,
    "start_time": "2022-04-11T10:13:28.751Z"
   },
   {
    "duration": 6,
    "start_time": "2022-04-11T10:13:29.843Z"
   },
   {
    "duration": 5,
    "start_time": "2022-04-11T10:13:30.866Z"
   },
   {
    "duration": 7,
    "start_time": "2022-04-11T10:13:31.882Z"
   },
   {
    "duration": 4,
    "start_time": "2022-04-11T10:13:33.376Z"
   },
   {
    "duration": 8,
    "start_time": "2022-04-11T10:13:34.370Z"
   },
   {
    "duration": 7,
    "start_time": "2022-04-11T10:13:35.588Z"
   },
   {
    "duration": 16,
    "start_time": "2022-04-11T10:13:36.793Z"
   },
   {
    "duration": 17,
    "start_time": "2022-04-11T10:13:38.626Z"
   },
   {
    "duration": 19,
    "start_time": "2022-04-11T10:13:39.850Z"
   },
   {
    "duration": 5,
    "start_time": "2022-04-11T10:13:41.029Z"
   },
   {
    "duration": 6,
    "start_time": "2022-04-11T10:13:41.941Z"
   },
   {
    "duration": 5,
    "start_time": "2022-04-11T10:13:43.025Z"
   },
   {
    "duration": 6,
    "start_time": "2022-04-11T10:13:44.204Z"
   },
   {
    "duration": 15,
    "start_time": "2022-04-11T10:13:45.921Z"
   },
   {
    "duration": 18,
    "start_time": "2022-04-11T10:13:47.337Z"
   },
   {
    "duration": 19,
    "start_time": "2022-04-11T10:13:48.053Z"
   },
   {
    "duration": 12,
    "start_time": "2022-04-11T10:13:49.487Z"
   },
   {
    "duration": 13,
    "start_time": "2022-04-11T10:13:51.584Z"
   },
   {
    "duration": 11,
    "start_time": "2022-04-11T10:13:53.088Z"
   },
   {
    "duration": 4,
    "start_time": "2022-04-11T10:25:03.883Z"
   },
   {
    "duration": 20,
    "start_time": "2022-04-11T10:27:23.349Z"
   },
   {
    "duration": 6,
    "start_time": "2022-04-11T10:35:35.449Z"
   },
   {
    "duration": 3,
    "start_time": "2022-04-11T10:44:28.256Z"
   },
   {
    "duration": 1580,
    "start_time": "2022-04-11T10:46:56.951Z"
   },
   {
    "duration": 19,
    "start_time": "2022-04-11T10:47:07.783Z"
   },
   {
    "duration": 10,
    "start_time": "2022-04-11T10:51:56.182Z"
   },
   {
    "duration": 6,
    "start_time": "2022-04-11T10:52:07.381Z"
   },
   {
    "duration": 8,
    "start_time": "2022-04-11T10:52:18.297Z"
   },
   {
    "duration": 5,
    "start_time": "2022-04-11T10:53:41.914Z"
   },
   {
    "duration": 9,
    "start_time": "2022-04-11T10:53:53.664Z"
   },
   {
    "duration": 11,
    "start_time": "2022-04-11T10:54:13.326Z"
   },
   {
    "duration": 11,
    "start_time": "2022-04-11T10:55:53.729Z"
   },
   {
    "duration": 10,
    "start_time": "2022-04-11T10:59:08.570Z"
   },
   {
    "duration": 11,
    "start_time": "2022-04-11T11:03:16.570Z"
   },
   {
    "duration": 8,
    "start_time": "2022-04-11T11:10:47.934Z"
   },
   {
    "duration": 51,
    "start_time": "2022-04-11T11:10:58.847Z"
   },
   {
    "duration": 15,
    "start_time": "2022-04-11T11:11:26.476Z"
   },
   {
    "duration": 45,
    "start_time": "2022-04-11T11:12:35.955Z"
   },
   {
    "duration": 13,
    "start_time": "2022-04-11T11:13:50.144Z"
   },
   {
    "duration": 22,
    "start_time": "2022-04-11T11:14:17.547Z"
   },
   {
    "duration": 4,
    "start_time": "2022-04-11T11:17:50.836Z"
   },
   {
    "duration": 31,
    "start_time": "2022-04-11T11:19:38.616Z"
   },
   {
    "duration": 44,
    "start_time": "2022-04-11T11:19:49.229Z"
   },
   {
    "duration": 18,
    "start_time": "2022-04-11T11:20:39.096Z"
   },
   {
    "duration": 16,
    "start_time": "2022-04-11T11:21:05.811Z"
   },
   {
    "duration": 15,
    "start_time": "2022-04-11T11:21:13.243Z"
   },
   {
    "duration": 18,
    "start_time": "2022-04-11T11:21:20.240Z"
   },
   {
    "duration": 18,
    "start_time": "2022-04-11T11:23:45.826Z"
   },
   {
    "duration": 16,
    "start_time": "2022-04-11T11:23:54.379Z"
   },
   {
    "duration": 13,
    "start_time": "2022-04-11T11:24:33.245Z"
   },
   {
    "duration": 13,
    "start_time": "2022-04-11T11:24:45.934Z"
   },
   {
    "duration": 14,
    "start_time": "2022-04-11T11:24:58.929Z"
   },
   {
    "duration": 14,
    "start_time": "2022-04-11T11:27:29.518Z"
   },
   {
    "duration": 2613,
    "start_time": "2022-04-11T11:29:14.484Z"
   },
   {
    "duration": 112,
    "start_time": "2022-04-11T11:31:13.665Z"
   },
   {
    "duration": 1816,
    "start_time": "2022-04-11T11:31:43.539Z"
   },
   {
    "duration": 11,
    "start_time": "2022-04-11T11:32:08.707Z"
   },
   {
    "duration": 127,
    "start_time": "2022-04-11T11:32:42.138Z"
   },
   {
    "duration": 11,
    "start_time": "2022-04-11T11:33:09.429Z"
   },
   {
    "duration": 12,
    "start_time": "2022-04-11T11:33:10.549Z"
   },
   {
    "duration": 134,
    "start_time": "2022-04-11T11:33:22.440Z"
   },
   {
    "duration": 637,
    "start_time": "2022-04-11T17:18:07.757Z"
   },
   {
    "duration": 22,
    "start_time": "2022-04-11T17:18:11.998Z"
   },
   {
    "duration": 22,
    "start_time": "2022-04-11T17:18:14.499Z"
   },
   {
    "duration": 12,
    "start_time": "2022-04-11T17:18:17.360Z"
   },
   {
    "duration": 6,
    "start_time": "2022-04-11T17:18:18.939Z"
   },
   {
    "duration": 11,
    "start_time": "2022-04-11T17:18:20.113Z"
   },
   {
    "duration": 8,
    "start_time": "2022-04-11T17:18:21.643Z"
   },
   {
    "duration": 12,
    "start_time": "2022-04-11T17:18:22.781Z"
   },
   {
    "duration": 9,
    "start_time": "2022-04-11T17:18:24.578Z"
   },
   {
    "duration": 22,
    "start_time": "2022-04-11T17:18:26.045Z"
   },
   {
    "duration": 26,
    "start_time": "2022-04-11T17:18:27.891Z"
   },
   {
    "duration": 43,
    "start_time": "2022-04-11T17:18:29.205Z"
   },
   {
    "duration": 12,
    "start_time": "2022-04-11T17:18:30.603Z"
   },
   {
    "duration": 8,
    "start_time": "2022-04-11T17:18:32.617Z"
   },
   {
    "duration": 7,
    "start_time": "2022-04-11T17:18:33.844Z"
   },
   {
    "duration": 9,
    "start_time": "2022-04-11T17:18:34.932Z"
   },
   {
    "duration": 20,
    "start_time": "2022-04-11T17:18:36.629Z"
   },
   {
    "duration": 29,
    "start_time": "2022-04-11T17:18:36.968Z"
   },
   {
    "duration": 30,
    "start_time": "2022-04-11T17:18:39.165Z"
   },
   {
    "duration": 28,
    "start_time": "2022-04-11T17:18:40.938Z"
   },
   {
    "duration": 16,
    "start_time": "2022-04-11T17:18:42.322Z"
   },
   {
    "duration": 18,
    "start_time": "2022-04-11T17:18:44.166Z"
   },
   {
    "duration": 18,
    "start_time": "2022-04-11T17:18:45.804Z"
   },
   {
    "duration": 10,
    "start_time": "2022-04-11T17:18:48.280Z"
   },
   {
    "duration": 47,
    "start_time": "2022-04-11T17:18:51.642Z"
   },
   {
    "duration": 10,
    "start_time": "2022-04-11T17:18:53.993Z"
   },
   {
    "duration": 5,
    "start_time": "2022-04-11T17:18:56.757Z"
   },
   {
    "duration": 47,
    "start_time": "2022-04-11T17:18:59.344Z"
   },
   {
    "duration": 19,
    "start_time": "2022-04-11T17:21:35.634Z"
   },
   {
    "duration": 20,
    "start_time": "2022-04-11T17:22:47.430Z"
   },
   {
    "duration": 23,
    "start_time": "2022-04-11T17:23:44.765Z"
   },
   {
    "duration": 20,
    "start_time": "2022-04-11T17:24:28.135Z"
   },
   {
    "duration": 30,
    "start_time": "2022-04-11T17:24:40.742Z"
   },
   {
    "duration": 48,
    "start_time": "2022-04-11T17:25:32.522Z"
   },
   {
    "duration": 61,
    "start_time": "2022-04-11T17:25:39.986Z"
   },
   {
    "duration": 21,
    "start_time": "2022-04-11T17:26:23.820Z"
   },
   {
    "duration": 20,
    "start_time": "2022-04-11T17:26:46.451Z"
   },
   {
    "duration": 19,
    "start_time": "2022-04-11T17:32:12.064Z"
   },
   {
    "duration": 45,
    "start_time": "2022-04-11T17:32:19.255Z"
   },
   {
    "duration": 38,
    "start_time": "2022-04-11T17:33:28.121Z"
   },
   {
    "duration": 26,
    "start_time": "2022-04-11T18:08:05.376Z"
   },
   {
    "duration": 14,
    "start_time": "2022-04-11T18:41:54.486Z"
   },
   {
    "duration": 12,
    "start_time": "2022-04-11T18:42:10.632Z"
   },
   {
    "duration": 8,
    "start_time": "2022-04-11T18:42:29.562Z"
   },
   {
    "duration": 10,
    "start_time": "2022-04-11T18:42:46.669Z"
   },
   {
    "duration": 95,
    "start_time": "2022-04-11T18:53:58.423Z"
   },
   {
    "duration": 129,
    "start_time": "2022-04-11T18:54:15.340Z"
   },
   {
    "duration": 93,
    "start_time": "2022-04-11T18:55:59.095Z"
   },
   {
    "duration": 634,
    "start_time": "2022-04-11T18:56:20.805Z"
   },
   {
    "duration": 21,
    "start_time": "2022-04-11T18:56:24.332Z"
   },
   {
    "duration": 41,
    "start_time": "2022-04-11T18:56:31.363Z"
   },
   {
    "duration": 17,
    "start_time": "2022-04-11T18:56:42.495Z"
   },
   {
    "duration": 7,
    "start_time": "2022-04-11T18:56:44.530Z"
   },
   {
    "duration": 12,
    "start_time": "2022-04-11T18:56:47.431Z"
   },
   {
    "duration": 7,
    "start_time": "2022-04-11T18:56:51.761Z"
   },
   {
    "duration": 11,
    "start_time": "2022-04-11T18:56:56.201Z"
   },
   {
    "duration": 9,
    "start_time": "2022-04-11T18:57:00.221Z"
   },
   {
    "duration": 29,
    "start_time": "2022-04-11T18:57:04.870Z"
   },
   {
    "duration": 28,
    "start_time": "2022-04-11T18:57:16.293Z"
   },
   {
    "duration": 39,
    "start_time": "2022-04-11T18:57:18.161Z"
   },
   {
    "duration": 14,
    "start_time": "2022-04-11T18:57:21.372Z"
   },
   {
    "duration": 9,
    "start_time": "2022-04-11T18:57:23.321Z"
   },
   {
    "duration": 9,
    "start_time": "2022-04-11T18:57:24.552Z"
   },
   {
    "duration": 18,
    "start_time": "2022-04-11T18:57:25.681Z"
   },
   {
    "duration": 23,
    "start_time": "2022-04-11T18:57:29.223Z"
   },
   {
    "duration": 30,
    "start_time": "2022-04-11T18:57:35.010Z"
   },
   {
    "duration": 28,
    "start_time": "2022-04-11T18:57:36.731Z"
   },
   {
    "duration": 18,
    "start_time": "2022-04-11T18:57:42.399Z"
   },
   {
    "duration": 20,
    "start_time": "2022-04-11T18:57:45.433Z"
   },
   {
    "duration": 18,
    "start_time": "2022-04-11T18:57:48.349Z"
   },
   {
    "duration": 5,
    "start_time": "2022-04-11T18:57:55.652Z"
   },
   {
    "duration": 32,
    "start_time": "2022-04-11T18:57:58.304Z"
   },
   {
    "duration": 10,
    "start_time": "2022-04-11T18:58:08.073Z"
   },
   {
    "duration": 5,
    "start_time": "2022-04-11T18:58:10.903Z"
   },
   {
    "duration": 32,
    "start_time": "2022-04-11T18:58:17.285Z"
   },
   {
    "duration": 25,
    "start_time": "2022-04-11T18:58:29.560Z"
   },
   {
    "duration": 41,
    "start_time": "2022-04-11T18:58:34.171Z"
   },
   {
    "duration": 21,
    "start_time": "2022-04-11T18:58:47.683Z"
   },
   {
    "duration": 22,
    "start_time": "2022-04-11T18:59:00.572Z"
   },
   {
    "duration": 475,
    "start_time": "2022-04-21T17:18:34.978Z"
   },
   {
    "duration": 14,
    "start_time": "2022-04-21T17:18:38.119Z"
   },
   {
    "duration": 13,
    "start_time": "2022-04-21T17:18:42.056Z"
   },
   {
    "duration": 8,
    "start_time": "2022-04-21T17:18:44.648Z"
   },
   {
    "duration": 5,
    "start_time": "2022-04-21T17:18:46.660Z"
   },
   {
    "duration": 6,
    "start_time": "2022-04-21T17:18:48.378Z"
   },
   {
    "duration": 3,
    "start_time": "2022-04-21T17:18:49.948Z"
   },
   {
    "duration": 5,
    "start_time": "2022-04-21T17:32:56.268Z"
   },
   {
    "duration": 6,
    "start_time": "2022-04-21T17:37:11.446Z"
   },
   {
    "duration": 5,
    "start_time": "2022-04-21T17:37:26.656Z"
   },
   {
    "duration": 4,
    "start_time": "2022-04-21T17:38:01.493Z"
   },
   {
    "duration": 4,
    "start_time": "2022-04-21T17:39:37.298Z"
   },
   {
    "duration": 58,
    "start_time": "2022-04-21T17:41:52.370Z"
   },
   {
    "duration": 5,
    "start_time": "2022-04-21T17:42:06.210Z"
   },
   {
    "duration": 10,
    "start_time": "2022-04-21T17:43:23.802Z"
   },
   {
    "duration": 418,
    "start_time": "2022-04-21T17:47:31.030Z"
   },
   {
    "duration": 16,
    "start_time": "2022-04-21T17:47:33.138Z"
   },
   {
    "duration": 15,
    "start_time": "2022-04-21T17:47:35.480Z"
   },
   {
    "duration": 8,
    "start_time": "2022-04-21T17:47:37.610Z"
   },
   {
    "duration": 4,
    "start_time": "2022-04-21T17:47:40.530Z"
   },
   {
    "duration": 6,
    "start_time": "2022-04-21T17:47:42.313Z"
   },
   {
    "duration": 4,
    "start_time": "2022-04-21T17:47:44.129Z"
   },
   {
    "duration": 7,
    "start_time": "2022-04-21T17:47:45.880Z"
   },
   {
    "duration": 6,
    "start_time": "2022-04-21T17:47:47.439Z"
   },
   {
    "duration": 14,
    "start_time": "2022-04-21T17:47:49.161Z"
   },
   {
    "duration": 16,
    "start_time": "2022-04-21T17:47:52.358Z"
   },
   {
    "duration": 19,
    "start_time": "2022-04-21T17:47:54.710Z"
   },
   {
    "duration": 5,
    "start_time": "2022-04-21T17:47:56.048Z"
   },
   {
    "duration": 5,
    "start_time": "2022-04-21T17:47:58.060Z"
   },
   {
    "duration": 5,
    "start_time": "2022-04-21T17:47:59.109Z"
   },
   {
    "duration": 5,
    "start_time": "2022-04-21T17:48:00.600Z"
   },
   {
    "duration": 14,
    "start_time": "2022-04-21T17:48:02.520Z"
   },
   {
    "duration": 18,
    "start_time": "2022-04-21T17:48:03.789Z"
   },
   {
    "duration": 22,
    "start_time": "2022-04-21T17:48:05.139Z"
   },
   {
    "duration": 13,
    "start_time": "2022-04-21T17:48:07.079Z"
   },
   {
    "duration": 12,
    "start_time": "2022-04-21T17:48:08.539Z"
   },
   {
    "duration": 12,
    "start_time": "2022-04-21T17:48:10.567Z"
   },
   {
    "duration": 3,
    "start_time": "2022-04-21T17:48:12.919Z"
   },
   {
    "duration": 17,
    "start_time": "2022-04-21T17:48:15.118Z"
   },
   {
    "duration": 7,
    "start_time": "2022-04-21T17:48:18.399Z"
   },
   {
    "duration": 3,
    "start_time": "2022-04-21T17:48:20.767Z"
   },
   {
    "duration": 17,
    "start_time": "2022-04-21T17:48:22.888Z"
   },
   {
    "duration": 16,
    "start_time": "2022-04-21T17:48:25.929Z"
   },
   {
    "duration": 25,
    "start_time": "2022-04-21T17:48:29.009Z"
   },
   {
    "duration": 15,
    "start_time": "2022-04-21T17:48:30.829Z"
   },
   {
    "duration": 15,
    "start_time": "2022-04-21T17:48:33.010Z"
   }
  ],
  "kernelspec": {
   "display_name": "Python 3 (ipykernel)",
   "language": "python",
   "name": "python3"
  },
  "language_info": {
   "codemirror_mode": {
    "name": "ipython",
    "version": 3
   },
   "file_extension": ".py",
   "mimetype": "text/x-python",
   "name": "python",
   "nbconvert_exporter": "python",
   "pygments_lexer": "ipython3",
   "version": "3.9.7"
  },
  "toc": {
   "base_numbering": 1,
   "nav_menu": {},
   "number_sections": true,
   "sideBar": true,
   "skip_h1_title": true,
   "title_cell": "Table of Contents",
   "title_sidebar": "Contents",
   "toc_cell": false,
   "toc_position": {},
   "toc_section_display": true,
   "toc_window_display": false
  }
 },
 "nbformat": 4,
 "nbformat_minor": 5
}
