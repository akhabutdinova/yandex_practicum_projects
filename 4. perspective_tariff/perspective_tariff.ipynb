{
 "cells": [
  {
   "cell_type": "markdown",
   "metadata": {},
   "source": [
    "# Определение перспективного тарифа для телеком-компании\n",
    "\n",
    "В компании \"Мегалайн\" (федеральный оператор сотовой связи) клиентам предлагают два тарифных плана: \"Смарт\" и \"Ультра\". Чтобы скорректировать рекламный бюджет, коммерческий департамент хочет понять, какой тариф приносит больше денег. \n",
    "\n",
    "В распоряжении данные 500 пользователей «Мегалайна»: кто они, откуда, каким тарифом пользуются, сколько звонков и сообщений каждый отправил за 2018 год. Нужно проанализировать поведение клиентов и сделать вывод — какой тариф лучше.\n",
    "\n",
    "**Цель работы:** проанализировать поведение клиентов и выяснить, какой тариф приносит большую прибыль.\n",
    "\n",
    "**Ход исследования:**\n",
    "1. Изучение данных из файлов;\n",
    "2. Подготовка данных:\n",
    "  * Удаление столбцов;\n",
    "  * Замена типов данных;\n",
    "  * Поиск и исправление ошибок;\n",
    "  * Расчеты;\n",
    "3. Анализ данных;\n",
    "4. Проверка гипотез:\n",
    "  * средняя выручка пользователей тарифов «Ультра» и «Смарт» различаются;\n",
    "  * средняя выручка пользователей из Москвы отличается от выручки пользователей из других регионов."
   ]
  },
  {
   "cell_type": "markdown",
   "metadata": {},
   "source": [
    "## Изучение данных из файлов"
   ]
  },
  {
   "cell_type": "markdown",
   "metadata": {},
   "source": [
    "Откроем и изучим предоставленные файлы."
   ]
  },
  {
   "cell_type": "code",
   "execution_count": 1,
   "metadata": {
    "scrolled": true
   },
   "outputs": [
    {
     "data": {
      "text/html": [
       "<div>\n",
       "<style scoped>\n",
       "    .dataframe tbody tr th:only-of-type {\n",
       "        vertical-align: middle;\n",
       "    }\n",
       "\n",
       "    .dataframe tbody tr th {\n",
       "        vertical-align: top;\n",
       "    }\n",
       "\n",
       "    .dataframe thead th {\n",
       "        text-align: right;\n",
       "    }\n",
       "</style>\n",
       "<table border=\"1\" class=\"dataframe\">\n",
       "  <thead>\n",
       "    <tr style=\"text-align: right;\">\n",
       "      <th></th>\n",
       "      <th>id</th>\n",
       "      <th>call_date</th>\n",
       "      <th>duration</th>\n",
       "      <th>user_id</th>\n",
       "    </tr>\n",
       "  </thead>\n",
       "  <tbody>\n",
       "    <tr>\n",
       "      <th>0</th>\n",
       "      <td>1000_0</td>\n",
       "      <td>2018-07-25</td>\n",
       "      <td>0.00</td>\n",
       "      <td>1000</td>\n",
       "    </tr>\n",
       "    <tr>\n",
       "      <th>1</th>\n",
       "      <td>1000_1</td>\n",
       "      <td>2018-08-17</td>\n",
       "      <td>0.00</td>\n",
       "      <td>1000</td>\n",
       "    </tr>\n",
       "    <tr>\n",
       "      <th>2</th>\n",
       "      <td>1000_2</td>\n",
       "      <td>2018-06-11</td>\n",
       "      <td>2.85</td>\n",
       "      <td>1000</td>\n",
       "    </tr>\n",
       "    <tr>\n",
       "      <th>3</th>\n",
       "      <td>1000_3</td>\n",
       "      <td>2018-09-21</td>\n",
       "      <td>13.80</td>\n",
       "      <td>1000</td>\n",
       "    </tr>\n",
       "    <tr>\n",
       "      <th>4</th>\n",
       "      <td>1000_4</td>\n",
       "      <td>2018-12-15</td>\n",
       "      <td>5.18</td>\n",
       "      <td>1000</td>\n",
       "    </tr>\n",
       "  </tbody>\n",
       "</table>\n",
       "</div>"
      ],
      "text/plain": [
       "       id   call_date  duration  user_id\n",
       "0  1000_0  2018-07-25      0.00     1000\n",
       "1  1000_1  2018-08-17      0.00     1000\n",
       "2  1000_2  2018-06-11      2.85     1000\n",
       "3  1000_3  2018-09-21     13.80     1000\n",
       "4  1000_4  2018-12-15      5.18     1000"
      ]
     },
     "execution_count": 1,
     "metadata": {},
     "output_type": "execute_result"
    }
   ],
   "source": [
    "#импорт библиотеки pandas\n",
    "import pandas as pd\n",
    "#чтение файла calls.csv и сохранение в переменную calls\n",
    "calls = pd.read_csv('/datasets/calls.csv')\n",
    "#вывод первых 5 строк на экран\n",
    "calls.head()"
   ]
  },
  {
   "cell_type": "code",
   "execution_count": 2,
   "metadata": {},
   "outputs": [
    {
     "name": "stdout",
     "output_type": "stream",
     "text": [
      "<class 'pandas.core.frame.DataFrame'>\n",
      "RangeIndex: 202607 entries, 0 to 202606\n",
      "Data columns (total 4 columns):\n",
      " #   Column     Non-Null Count   Dtype  \n",
      "---  ------     --------------   -----  \n",
      " 0   id         202607 non-null  object \n",
      " 1   call_date  202607 non-null  object \n",
      " 2   duration   202607 non-null  float64\n",
      " 3   user_id    202607 non-null  int64  \n",
      "dtypes: float64(1), int64(1), object(2)\n",
      "memory usage: 6.2+ MB\n"
     ]
    }
   ],
   "source": [
    "#получение информации о данных\n",
    "calls.info()"
   ]
  },
  {
   "cell_type": "markdown",
   "metadata": {},
   "source": [
    "Таблица `calls` содержит информацию о звонках и состоит из 4 столбцов:\n",
    "* `id` - уникальный номер звонка, тип данных - `object`;\n",
    "* `call_date` - дата звонка, тип данных - `object`;\n",
    "* `duration` - длительность звонка в минутах, тип данных - `float`;\n",
    "* `user_id` - идентификатор пользователя, сделавшего звонок, тип данных - `int`.\n",
    "\n",
    "Размеры столбцов совпадают с количеством строк, следовательно, пропусков в таблице нет. "
   ]
  },
  {
   "cell_type": "code",
   "execution_count": 3,
   "metadata": {
    "scrolled": false
   },
   "outputs": [
    {
     "data": {
      "text/html": [
       "<div>\n",
       "<style scoped>\n",
       "    .dataframe tbody tr th:only-of-type {\n",
       "        vertical-align: middle;\n",
       "    }\n",
       "\n",
       "    .dataframe tbody tr th {\n",
       "        vertical-align: top;\n",
       "    }\n",
       "\n",
       "    .dataframe thead th {\n",
       "        text-align: right;\n",
       "    }\n",
       "</style>\n",
       "<table border=\"1\" class=\"dataframe\">\n",
       "  <thead>\n",
       "    <tr style=\"text-align: right;\">\n",
       "      <th></th>\n",
       "      <th>Unnamed: 0</th>\n",
       "      <th>id</th>\n",
       "      <th>mb_used</th>\n",
       "      <th>session_date</th>\n",
       "      <th>user_id</th>\n",
       "    </tr>\n",
       "  </thead>\n",
       "  <tbody>\n",
       "    <tr>\n",
       "      <th>0</th>\n",
       "      <td>0</td>\n",
       "      <td>1000_0</td>\n",
       "      <td>112.95</td>\n",
       "      <td>2018-11-25</td>\n",
       "      <td>1000</td>\n",
       "    </tr>\n",
       "    <tr>\n",
       "      <th>1</th>\n",
       "      <td>1</td>\n",
       "      <td>1000_1</td>\n",
       "      <td>1052.81</td>\n",
       "      <td>2018-09-07</td>\n",
       "      <td>1000</td>\n",
       "    </tr>\n",
       "    <tr>\n",
       "      <th>2</th>\n",
       "      <td>2</td>\n",
       "      <td>1000_2</td>\n",
       "      <td>1197.26</td>\n",
       "      <td>2018-06-25</td>\n",
       "      <td>1000</td>\n",
       "    </tr>\n",
       "    <tr>\n",
       "      <th>3</th>\n",
       "      <td>3</td>\n",
       "      <td>1000_3</td>\n",
       "      <td>550.27</td>\n",
       "      <td>2018-08-22</td>\n",
       "      <td>1000</td>\n",
       "    </tr>\n",
       "    <tr>\n",
       "      <th>4</th>\n",
       "      <td>4</td>\n",
       "      <td>1000_4</td>\n",
       "      <td>302.56</td>\n",
       "      <td>2018-09-24</td>\n",
       "      <td>1000</td>\n",
       "    </tr>\n",
       "  </tbody>\n",
       "</table>\n",
       "</div>"
      ],
      "text/plain": [
       "   Unnamed: 0      id  mb_used session_date  user_id\n",
       "0           0  1000_0   112.95   2018-11-25     1000\n",
       "1           1  1000_1  1052.81   2018-09-07     1000\n",
       "2           2  1000_2  1197.26   2018-06-25     1000\n",
       "3           3  1000_3   550.27   2018-08-22     1000\n",
       "4           4  1000_4   302.56   2018-09-24     1000"
      ]
     },
     "execution_count": 3,
     "metadata": {},
     "output_type": "execute_result"
    }
   ],
   "source": [
    "#чтение файла internet.csv и сохранение в переменную internet, вывод первых 5 строк на экран\n",
    "internet = pd.read_csv('/datasets/internet.csv')\n",
    "internet.head()"
   ]
  },
  {
   "cell_type": "code",
   "execution_count": 4,
   "metadata": {},
   "outputs": [
    {
     "name": "stdout",
     "output_type": "stream",
     "text": [
      "<class 'pandas.core.frame.DataFrame'>\n",
      "RangeIndex: 149396 entries, 0 to 149395\n",
      "Data columns (total 5 columns):\n",
      " #   Column        Non-Null Count   Dtype  \n",
      "---  ------        --------------   -----  \n",
      " 0   Unnamed: 0    149396 non-null  int64  \n",
      " 1   id            149396 non-null  object \n",
      " 2   mb_used       149396 non-null  float64\n",
      " 3   session_date  149396 non-null  object \n",
      " 4   user_id       149396 non-null  int64  \n",
      "dtypes: float64(1), int64(2), object(2)\n",
      "memory usage: 5.7+ MB\n"
     ]
    }
   ],
   "source": [
    "#получение информации о данных\n",
    "internet.info()"
   ]
  },
  {
   "cell_type": "markdown",
   "metadata": {},
   "source": [
    "Таблица `internet` содержит информацию об интернет-сессиях и состоит из 4 столбцов:\n",
    "* `id` - уникальный номер сессии, тип данных - `object`;\n",
    "* `mb_used` - объём потраченного за сессию интернет-трафика (в мегабайтах), тип данных - `float`;\n",
    "* `session_date` - дата интернет-сессии, тип данных - `object`;\n",
    "* `user_id` - идентификатор пользователя, тип данных - `int`.\n",
    "\n",
    "Столбец `Unnamed: 0` повторяет индексацию таблицы, его можно удалить.\n",
    "\n",
    "Размеры всех столбцов и количество строк одинаковы, значит, пропусков в таблице нет."
   ]
  },
  {
   "cell_type": "code",
   "execution_count": 5,
   "metadata": {
    "scrolled": true
   },
   "outputs": [
    {
     "data": {
      "text/html": [
       "<div>\n",
       "<style scoped>\n",
       "    .dataframe tbody tr th:only-of-type {\n",
       "        vertical-align: middle;\n",
       "    }\n",
       "\n",
       "    .dataframe tbody tr th {\n",
       "        vertical-align: top;\n",
       "    }\n",
       "\n",
       "    .dataframe thead th {\n",
       "        text-align: right;\n",
       "    }\n",
       "</style>\n",
       "<table border=\"1\" class=\"dataframe\">\n",
       "  <thead>\n",
       "    <tr style=\"text-align: right;\">\n",
       "      <th></th>\n",
       "      <th>id</th>\n",
       "      <th>message_date</th>\n",
       "      <th>user_id</th>\n",
       "    </tr>\n",
       "  </thead>\n",
       "  <tbody>\n",
       "    <tr>\n",
       "      <th>0</th>\n",
       "      <td>1000_0</td>\n",
       "      <td>2018-06-27</td>\n",
       "      <td>1000</td>\n",
       "    </tr>\n",
       "    <tr>\n",
       "      <th>1</th>\n",
       "      <td>1000_1</td>\n",
       "      <td>2018-10-08</td>\n",
       "      <td>1000</td>\n",
       "    </tr>\n",
       "    <tr>\n",
       "      <th>2</th>\n",
       "      <td>1000_2</td>\n",
       "      <td>2018-08-04</td>\n",
       "      <td>1000</td>\n",
       "    </tr>\n",
       "    <tr>\n",
       "      <th>3</th>\n",
       "      <td>1000_3</td>\n",
       "      <td>2018-06-16</td>\n",
       "      <td>1000</td>\n",
       "    </tr>\n",
       "    <tr>\n",
       "      <th>4</th>\n",
       "      <td>1000_4</td>\n",
       "      <td>2018-12-05</td>\n",
       "      <td>1000</td>\n",
       "    </tr>\n",
       "  </tbody>\n",
       "</table>\n",
       "</div>"
      ],
      "text/plain": [
       "       id message_date  user_id\n",
       "0  1000_0   2018-06-27     1000\n",
       "1  1000_1   2018-10-08     1000\n",
       "2  1000_2   2018-08-04     1000\n",
       "3  1000_3   2018-06-16     1000\n",
       "4  1000_4   2018-12-05     1000"
      ]
     },
     "execution_count": 5,
     "metadata": {},
     "output_type": "execute_result"
    }
   ],
   "source": [
    "#чтение файла messages.csv и сохранение в переменную messages, вывод первых 5 строк на экран\n",
    "messages = pd.read_csv('/datasets/messages.csv')\n",
    "messages.head()"
   ]
  },
  {
   "cell_type": "code",
   "execution_count": 6,
   "metadata": {},
   "outputs": [
    {
     "name": "stdout",
     "output_type": "stream",
     "text": [
      "<class 'pandas.core.frame.DataFrame'>\n",
      "RangeIndex: 123036 entries, 0 to 123035\n",
      "Data columns (total 3 columns):\n",
      " #   Column        Non-Null Count   Dtype \n",
      "---  ------        --------------   ----- \n",
      " 0   id            123036 non-null  object\n",
      " 1   message_date  123036 non-null  object\n",
      " 2   user_id       123036 non-null  int64 \n",
      "dtypes: int64(1), object(2)\n",
      "memory usage: 2.8+ MB\n"
     ]
    }
   ],
   "source": [
    "#получение информации о данных\n",
    "messages.info()"
   ]
  },
  {
   "cell_type": "markdown",
   "metadata": {},
   "source": [
    "Таблица `messages` содержит информацию о сообщениях и состоит из 3 столбцов:\n",
    "* `id` - уникальный номер сообщения, тип данных - `object`;\n",
    "* `message_date` - дата сообщения, тип данных - `object`;\n",
    "* `user_id` - идентификатор пользователя, отправившего сообщение, тип данных - `int`.\n",
    "\n",
    "Пропусков в таблице нет, так как количество записей и размеры столбцов совпадают."
   ]
  },
  {
   "cell_type": "code",
   "execution_count": 7,
   "metadata": {},
   "outputs": [
    {
     "data": {
      "text/html": [
       "<div>\n",
       "<style scoped>\n",
       "    .dataframe tbody tr th:only-of-type {\n",
       "        vertical-align: middle;\n",
       "    }\n",
       "\n",
       "    .dataframe tbody tr th {\n",
       "        vertical-align: top;\n",
       "    }\n",
       "\n",
       "    .dataframe thead th {\n",
       "        text-align: right;\n",
       "    }\n",
       "</style>\n",
       "<table border=\"1\" class=\"dataframe\">\n",
       "  <thead>\n",
       "    <tr style=\"text-align: right;\">\n",
       "      <th></th>\n",
       "      <th>messages_included</th>\n",
       "      <th>mb_per_month_included</th>\n",
       "      <th>minutes_included</th>\n",
       "      <th>rub_monthly_fee</th>\n",
       "      <th>rub_per_gb</th>\n",
       "      <th>rub_per_message</th>\n",
       "      <th>rub_per_minute</th>\n",
       "      <th>tariff_name</th>\n",
       "    </tr>\n",
       "  </thead>\n",
       "  <tbody>\n",
       "    <tr>\n",
       "      <th>0</th>\n",
       "      <td>50</td>\n",
       "      <td>15360</td>\n",
       "      <td>500</td>\n",
       "      <td>550</td>\n",
       "      <td>200</td>\n",
       "      <td>3</td>\n",
       "      <td>3</td>\n",
       "      <td>smart</td>\n",
       "    </tr>\n",
       "    <tr>\n",
       "      <th>1</th>\n",
       "      <td>1000</td>\n",
       "      <td>30720</td>\n",
       "      <td>3000</td>\n",
       "      <td>1950</td>\n",
       "      <td>150</td>\n",
       "      <td>1</td>\n",
       "      <td>1</td>\n",
       "      <td>ultra</td>\n",
       "    </tr>\n",
       "  </tbody>\n",
       "</table>\n",
       "</div>"
      ],
      "text/plain": [
       "   messages_included  mb_per_month_included  minutes_included  \\\n",
       "0                 50                  15360               500   \n",
       "1               1000                  30720              3000   \n",
       "\n",
       "   rub_monthly_fee  rub_per_gb  rub_per_message  rub_per_minute tariff_name  \n",
       "0              550         200                3               3       smart  \n",
       "1             1950         150                1               1       ultra  "
      ]
     },
     "execution_count": 7,
     "metadata": {},
     "output_type": "execute_result"
    }
   ],
   "source": [
    "#чтение файла tariffs.csv и сохранение в переменную tariffs, вывод на экран\n",
    "tariffs = pd.read_csv('/datasets/tariffs.csv')\n",
    "tariffs"
   ]
  },
  {
   "cell_type": "code",
   "execution_count": 8,
   "metadata": {},
   "outputs": [
    {
     "name": "stdout",
     "output_type": "stream",
     "text": [
      "<class 'pandas.core.frame.DataFrame'>\n",
      "RangeIndex: 2 entries, 0 to 1\n",
      "Data columns (total 8 columns):\n",
      " #   Column                 Non-Null Count  Dtype \n",
      "---  ------                 --------------  ----- \n",
      " 0   messages_included      2 non-null      int64 \n",
      " 1   mb_per_month_included  2 non-null      int64 \n",
      " 2   minutes_included       2 non-null      int64 \n",
      " 3   rub_monthly_fee        2 non-null      int64 \n",
      " 4   rub_per_gb             2 non-null      int64 \n",
      " 5   rub_per_message        2 non-null      int64 \n",
      " 6   rub_per_minute         2 non-null      int64 \n",
      " 7   tariff_name            2 non-null      object\n",
      "dtypes: int64(7), object(1)\n",
      "memory usage: 256.0+ bytes\n"
     ]
    }
   ],
   "source": [
    "#получение информации о данных\n",
    "tariffs.info()"
   ]
  },
  {
   "cell_type": "markdown",
   "metadata": {},
   "source": [
    "Таблица `tariffs` содержит информацию о тарифах и состоит из 8 столбцов:\n",
    "* `messages_included` - количество сообщений в месяц, включённых в абонентскую плату, тип данных - `int`;\n",
    "* `mb_per_month_included` - объём интернет-трафика, включённого в абонентскую плату (в мегабайтах), тип данных - `int`;\n",
    "* `minutes_included` - количество минут разговора в месяц, включённых в абонентскую плату, тип данных - `int`;\n",
    "* `rub_monthly_fee` - ежемесячная абонентская плата в рублях, тип данных - `int`;\n",
    "* `rub_per_gb` - стоимость дополнительного гигабайта интернет-трафика сверх тарифного пакета, тип данных - `int`;\n",
    "* `rub_per_message` - стоимость отправки сообщения сверх тарифного пакета, тип данных - `int`;\n",
    "* `rub_per_minute` - стоимость минуты разговора сверх тарифного пакета, тип данных - `int`;\n",
    "* `tariff_name` - название тарифа, тип данных - `object`.\n",
    "\n",
    "Оператор предлоставляет два тарифных плана:\n",
    "* `\"Смарт\"`\n",
    "1. Ежемесячная плата: 550 рублей\n",
    "2. Включено 500 минут разговора, 50 сообщений и 15 Гб интернет-трафика\n",
    "3. Стоимость услуг сверх тарифного пакета:\n",
    "  * минута разговора: 3 рубля\n",
    "  * сообщение: 3 рубля\n",
    "  * 1 Гб интернет-трафика: 200 рублей\n",
    "\n",
    "\n",
    "* `\"Ультра\"`\n",
    "1. Ежемесячная плата: 1950 рублей\n",
    "2. Включено 3000 минут разговора, 1000 сообщений и 30 Гб интернет-трафика\n",
    "3. Стоимость услуг сверх тарифного пакета:\n",
    "  * минута разговора: 1 рубль\n",
    "  * сообщение: 1 рубль\n",
    "  * 1 Гб интернет-трафика: 150 рублей"
   ]
  },
  {
   "cell_type": "code",
   "execution_count": 9,
   "metadata": {},
   "outputs": [
    {
     "data": {
      "text/html": [
       "<div>\n",
       "<style scoped>\n",
       "    .dataframe tbody tr th:only-of-type {\n",
       "        vertical-align: middle;\n",
       "    }\n",
       "\n",
       "    .dataframe tbody tr th {\n",
       "        vertical-align: top;\n",
       "    }\n",
       "\n",
       "    .dataframe thead th {\n",
       "        text-align: right;\n",
       "    }\n",
       "</style>\n",
       "<table border=\"1\" class=\"dataframe\">\n",
       "  <thead>\n",
       "    <tr style=\"text-align: right;\">\n",
       "      <th></th>\n",
       "      <th>user_id</th>\n",
       "      <th>age</th>\n",
       "      <th>churn_date</th>\n",
       "      <th>city</th>\n",
       "      <th>first_name</th>\n",
       "      <th>last_name</th>\n",
       "      <th>reg_date</th>\n",
       "      <th>tariff</th>\n",
       "    </tr>\n",
       "  </thead>\n",
       "  <tbody>\n",
       "    <tr>\n",
       "      <th>0</th>\n",
       "      <td>1000</td>\n",
       "      <td>52</td>\n",
       "      <td>NaN</td>\n",
       "      <td>Краснодар</td>\n",
       "      <td>Рафаил</td>\n",
       "      <td>Верещагин</td>\n",
       "      <td>2018-05-25</td>\n",
       "      <td>ultra</td>\n",
       "    </tr>\n",
       "    <tr>\n",
       "      <th>1</th>\n",
       "      <td>1001</td>\n",
       "      <td>41</td>\n",
       "      <td>NaN</td>\n",
       "      <td>Москва</td>\n",
       "      <td>Иван</td>\n",
       "      <td>Ежов</td>\n",
       "      <td>2018-11-01</td>\n",
       "      <td>smart</td>\n",
       "    </tr>\n",
       "    <tr>\n",
       "      <th>2</th>\n",
       "      <td>1002</td>\n",
       "      <td>59</td>\n",
       "      <td>NaN</td>\n",
       "      <td>Стерлитамак</td>\n",
       "      <td>Евгений</td>\n",
       "      <td>Абрамович</td>\n",
       "      <td>2018-06-17</td>\n",
       "      <td>smart</td>\n",
       "    </tr>\n",
       "    <tr>\n",
       "      <th>3</th>\n",
       "      <td>1003</td>\n",
       "      <td>23</td>\n",
       "      <td>NaN</td>\n",
       "      <td>Москва</td>\n",
       "      <td>Белла</td>\n",
       "      <td>Белякова</td>\n",
       "      <td>2018-08-17</td>\n",
       "      <td>ultra</td>\n",
       "    </tr>\n",
       "    <tr>\n",
       "      <th>4</th>\n",
       "      <td>1004</td>\n",
       "      <td>68</td>\n",
       "      <td>NaN</td>\n",
       "      <td>Новокузнецк</td>\n",
       "      <td>Татьяна</td>\n",
       "      <td>Авдеенко</td>\n",
       "      <td>2018-05-14</td>\n",
       "      <td>ultra</td>\n",
       "    </tr>\n",
       "  </tbody>\n",
       "</table>\n",
       "</div>"
      ],
      "text/plain": [
       "   user_id  age churn_date         city first_name  last_name    reg_date  \\\n",
       "0     1000   52        NaN    Краснодар     Рафаил  Верещагин  2018-05-25   \n",
       "1     1001   41        NaN       Москва       Иван       Ежов  2018-11-01   \n",
       "2     1002   59        NaN  Стерлитамак    Евгений  Абрамович  2018-06-17   \n",
       "3     1003   23        NaN       Москва      Белла   Белякова  2018-08-17   \n",
       "4     1004   68        NaN  Новокузнецк    Татьяна   Авдеенко  2018-05-14   \n",
       "\n",
       "  tariff  \n",
       "0  ultra  \n",
       "1  smart  \n",
       "2  smart  \n",
       "3  ultra  \n",
       "4  ultra  "
      ]
     },
     "execution_count": 9,
     "metadata": {},
     "output_type": "execute_result"
    }
   ],
   "source": [
    "#чтение файла users.csv и сохранение в переменную users, вывод на экран первых 5 строк\n",
    "users = pd.read_csv('/datasets/users.csv')\n",
    "users.head()"
   ]
  },
  {
   "cell_type": "code",
   "execution_count": 10,
   "metadata": {},
   "outputs": [
    {
     "name": "stdout",
     "output_type": "stream",
     "text": [
      "<class 'pandas.core.frame.DataFrame'>\n",
      "RangeIndex: 500 entries, 0 to 499\n",
      "Data columns (total 8 columns):\n",
      " #   Column      Non-Null Count  Dtype \n",
      "---  ------      --------------  ----- \n",
      " 0   user_id     500 non-null    int64 \n",
      " 1   age         500 non-null    int64 \n",
      " 2   churn_date  38 non-null     object\n",
      " 3   city        500 non-null    object\n",
      " 4   first_name  500 non-null    object\n",
      " 5   last_name   500 non-null    object\n",
      " 6   reg_date    500 non-null    object\n",
      " 7   tariff      500 non-null    object\n",
      "dtypes: int64(2), object(6)\n",
      "memory usage: 31.4+ KB\n"
     ]
    }
   ],
   "source": [
    "#получение информации о данных\n",
    "users.info()"
   ]
  },
  {
   "cell_type": "markdown",
   "metadata": {},
   "source": [
    "Таблица `users` содержит информацию о пользователях и состоит из 8 столбцов:\n",
    "* `user_id` - уникальный идентификатор пользователя, тип данных - `int`;\n",
    "* `age` - возраст пользователя (годы), тип данных - `int`;\n",
    "* `churn_date` - дата прекращения пользования тарифом (если значение пропущено, то тариф ещё действовал на момент выгрузки данных), тип данных - `object`;\n",
    "* `city` - город проживания пользователя, тип данных - `object`;\n",
    "* `first_name` - имя пользователя, тип данных - `object`;\n",
    "* `last_name` - фамилия пользователя, тип данных - `object`;\n",
    "* `reg_date` - дата подключения тарифа (день, месяц, год), тип данных - `object`;\n",
    "* `tariff` - название тарифного плана, тип данных - `object`.\n",
    "\n",
    "Пропусков в таблице нет, кроме столбца `churn_date`, но это означает, что клиент все еще пользуется тарифом."
   ]
  },
  {
   "cell_type": "markdown",
   "metadata": {},
   "source": [
    "### Вывод"
   ]
  },
  {
   "cell_type": "markdown",
   "metadata": {},
   "source": [
    "На данном этапе были прочитаны и изучены 5 предоставленных файлов:\n",
    "* `calls.csv` - информация о звонках;\n",
    "* `internet.csv` - информация об интернет-сессиях;\n",
    "* `messages.csv` - информация о сообщениях;\n",
    "* `tariffs.csv` - информация о тарифах;\n",
    "* `users.csv` - информация о пользователях.\n",
    "\n",
    "1. Для столбца `call_date` таблицы `calls` нужно изменить тип данных на `datetime`.\n",
    "2. Для столбца `session_date` таблицы `internet` нужно изменить тип данных на `datetime`, а столбец `Unnamed: 0` удалить, так как он повторяет индексацию таблицы.\n",
    "3. Для столбца `message_date` таблицы `messages` нужно изменить тип данных на `datetime`.\n",
    "4. Для столбцов `churn_date` и `reg_date` таблицы `users` нужно изменить тип данных на `datetime`."
   ]
  },
  {
   "cell_type": "markdown",
   "metadata": {},
   "source": [
    "## Подготовка данных"
   ]
  },
  {
   "cell_type": "markdown",
   "metadata": {},
   "source": [
    "### Удаление столбцов"
   ]
  },
  {
   "cell_type": "markdown",
   "metadata": {},
   "source": [
    "На предыдущем шаге было решено удалить столбец `Unnamed: 0` таблицы `internet`."
   ]
  },
  {
   "cell_type": "code",
   "execution_count": 11,
   "metadata": {},
   "outputs": [
    {
     "name": "stdout",
     "output_type": "stream",
     "text": [
      "<class 'pandas.core.frame.DataFrame'>\n",
      "RangeIndex: 149396 entries, 0 to 149395\n",
      "Data columns (total 4 columns):\n",
      " #   Column        Non-Null Count   Dtype  \n",
      "---  ------        --------------   -----  \n",
      " 0   id            149396 non-null  object \n",
      " 1   mb_used       149396 non-null  float64\n",
      " 2   session_date  149396 non-null  object \n",
      " 3   user_id       149396 non-null  int64  \n",
      "dtypes: float64(1), int64(1), object(2)\n",
      "memory usage: 4.6+ MB\n"
     ]
    }
   ],
   "source": [
    "#удаление столбца, вывод обновленной информации\n",
    "internet = internet.drop(columns='Unnamed: 0', axis=1)\n",
    "internet.info()"
   ]
  },
  {
   "cell_type": "markdown",
   "metadata": {},
   "source": [
    "### Замена типов данных"
   ]
  },
  {
   "cell_type": "markdown",
   "metadata": {},
   "source": [
    "Заменим на `datetime` типы данных столбцов `call_date` таблицы `calls`, `session_date` таблицы `internet`, `message_date` таблицы `messages`, `churn_date` и `reg_date` таблицы `users`."
   ]
  },
  {
   "cell_type": "code",
   "execution_count": 12,
   "metadata": {},
   "outputs": [
    {
     "name": "stdout",
     "output_type": "stream",
     "text": [
      "<class 'pandas.core.frame.DataFrame'>\n",
      "RangeIndex: 202607 entries, 0 to 202606\n",
      "Data columns (total 4 columns):\n",
      " #   Column     Non-Null Count   Dtype         \n",
      "---  ------     --------------   -----         \n",
      " 0   id         202607 non-null  object        \n",
      " 1   call_date  202607 non-null  datetime64[ns]\n",
      " 2   duration   202607 non-null  float64       \n",
      " 3   user_id    202607 non-null  int64         \n",
      "dtypes: datetime64[ns](1), float64(1), int64(1), object(1)\n",
      "memory usage: 6.2+ MB\n"
     ]
    }
   ],
   "source": [
    "#замена типа данных на datetime и проверка изменения\n",
    "calls['call_date'] = pd.to_datetime(calls['call_date'], format='%Y-%m-%d')\n",
    "calls.info()"
   ]
  },
  {
   "cell_type": "code",
   "execution_count": 13,
   "metadata": {},
   "outputs": [
    {
     "name": "stdout",
     "output_type": "stream",
     "text": [
      "<class 'pandas.core.frame.DataFrame'>\n",
      "RangeIndex: 149396 entries, 0 to 149395\n",
      "Data columns (total 4 columns):\n",
      " #   Column        Non-Null Count   Dtype         \n",
      "---  ------        --------------   -----         \n",
      " 0   id            149396 non-null  object        \n",
      " 1   mb_used       149396 non-null  float64       \n",
      " 2   session_date  149396 non-null  datetime64[ns]\n",
      " 3   user_id       149396 non-null  int64         \n",
      "dtypes: datetime64[ns](1), float64(1), int64(1), object(1)\n",
      "memory usage: 4.6+ MB\n"
     ]
    }
   ],
   "source": [
    "internet['session_date'] = pd.to_datetime(internet['session_date'], format='%Y-%m-%d')\n",
    "internet.info()"
   ]
  },
  {
   "cell_type": "code",
   "execution_count": 14,
   "metadata": {},
   "outputs": [
    {
     "name": "stdout",
     "output_type": "stream",
     "text": [
      "<class 'pandas.core.frame.DataFrame'>\n",
      "RangeIndex: 123036 entries, 0 to 123035\n",
      "Data columns (total 3 columns):\n",
      " #   Column        Non-Null Count   Dtype         \n",
      "---  ------        --------------   -----         \n",
      " 0   id            123036 non-null  object        \n",
      " 1   message_date  123036 non-null  datetime64[ns]\n",
      " 2   user_id       123036 non-null  int64         \n",
      "dtypes: datetime64[ns](1), int64(1), object(1)\n",
      "memory usage: 2.8+ MB\n"
     ]
    }
   ],
   "source": [
    "messages['message_date'] = pd.to_datetime(messages['message_date'], format='%Y-%m-%d')\n",
    "messages.info()"
   ]
  },
  {
   "cell_type": "code",
   "execution_count": 15,
   "metadata": {
    "scrolled": true
   },
   "outputs": [
    {
     "name": "stdout",
     "output_type": "stream",
     "text": [
      "<class 'pandas.core.frame.DataFrame'>\n",
      "RangeIndex: 500 entries, 0 to 499\n",
      "Data columns (total 8 columns):\n",
      " #   Column      Non-Null Count  Dtype         \n",
      "---  ------      --------------  -----         \n",
      " 0   user_id     500 non-null    int64         \n",
      " 1   age         500 non-null    int64         \n",
      " 2   churn_date  38 non-null     datetime64[ns]\n",
      " 3   city        500 non-null    object        \n",
      " 4   first_name  500 non-null    object        \n",
      " 5   last_name   500 non-null    object        \n",
      " 6   reg_date    500 non-null    datetime64[ns]\n",
      " 7   tariff      500 non-null    object        \n",
      "dtypes: datetime64[ns](2), int64(2), object(4)\n",
      "memory usage: 31.4+ KB\n"
     ]
    }
   ],
   "source": [
    "users['churn_date'] = pd.to_datetime(users['churn_date'], format='%Y-%m-%d')\n",
    "users['reg_date'] = pd.to_datetime(users['reg_date'], format='%Y-%m-%d')\n",
    "users.info()"
   ]
  },
  {
   "cell_type": "markdown",
   "metadata": {},
   "source": [
    "### Поиск и исправление ошибок"
   ]
  },
  {
   "cell_type": "markdown",
   "metadata": {},
   "source": [
    "Рассмотрим каждую таблицу для поиска ошибок в данных, начнем с таблицы `calls`."
   ]
  },
  {
   "cell_type": "code",
   "execution_count": 16,
   "metadata": {
    "scrolled": true
   },
   "outputs": [
    {
     "data": {
      "text/html": [
       "<div>\n",
       "<style scoped>\n",
       "    .dataframe tbody tr th:only-of-type {\n",
       "        vertical-align: middle;\n",
       "    }\n",
       "\n",
       "    .dataframe tbody tr th {\n",
       "        vertical-align: top;\n",
       "    }\n",
       "\n",
       "    .dataframe thead th {\n",
       "        text-align: right;\n",
       "    }\n",
       "</style>\n",
       "<table border=\"1\" class=\"dataframe\">\n",
       "  <thead>\n",
       "    <tr style=\"text-align: right;\">\n",
       "      <th></th>\n",
       "      <th>id</th>\n",
       "      <th>call_date</th>\n",
       "      <th>duration</th>\n",
       "      <th>user_id</th>\n",
       "    </tr>\n",
       "  </thead>\n",
       "  <tbody>\n",
       "    <tr>\n",
       "      <th>0</th>\n",
       "      <td>1000_0</td>\n",
       "      <td>2018-07-25</td>\n",
       "      <td>0.00</td>\n",
       "      <td>1000</td>\n",
       "    </tr>\n",
       "    <tr>\n",
       "      <th>1</th>\n",
       "      <td>1000_1</td>\n",
       "      <td>2018-08-17</td>\n",
       "      <td>0.00</td>\n",
       "      <td>1000</td>\n",
       "    </tr>\n",
       "    <tr>\n",
       "      <th>2</th>\n",
       "      <td>1000_2</td>\n",
       "      <td>2018-06-11</td>\n",
       "      <td>2.85</td>\n",
       "      <td>1000</td>\n",
       "    </tr>\n",
       "    <tr>\n",
       "      <th>3</th>\n",
       "      <td>1000_3</td>\n",
       "      <td>2018-09-21</td>\n",
       "      <td>13.80</td>\n",
       "      <td>1000</td>\n",
       "    </tr>\n",
       "    <tr>\n",
       "      <th>4</th>\n",
       "      <td>1000_4</td>\n",
       "      <td>2018-12-15</td>\n",
       "      <td>5.18</td>\n",
       "      <td>1000</td>\n",
       "    </tr>\n",
       "  </tbody>\n",
       "</table>\n",
       "</div>"
      ],
      "text/plain": [
       "       id  call_date  duration  user_id\n",
       "0  1000_0 2018-07-25      0.00     1000\n",
       "1  1000_1 2018-08-17      0.00     1000\n",
       "2  1000_2 2018-06-11      2.85     1000\n",
       "3  1000_3 2018-09-21     13.80     1000\n",
       "4  1000_4 2018-12-15      5.18     1000"
      ]
     },
     "execution_count": 16,
     "metadata": {},
     "output_type": "execute_result"
    }
   ],
   "source": [
    "#вывод первых 5 строк\n",
    "calls.head()"
   ]
  },
  {
   "cell_type": "markdown",
   "metadata": {},
   "source": [
    "Посмотрим, есть ли дубликаты в таблице."
   ]
  },
  {
   "cell_type": "code",
   "execution_count": 17,
   "metadata": {},
   "outputs": [
    {
     "data": {
      "text/plain": [
       "array([False])"
      ]
     },
     "execution_count": 17,
     "metadata": {},
     "output_type": "execute_result"
    }
   ],
   "source": [
    "calls.duplicated().unique()"
   ]
  },
  {
   "cell_type": "markdown",
   "metadata": {},
   "source": [
    "Дубликаты не были найдены. Для таблицы `calls` ошибки могли возникнуть в столбце с продолжительностью звонка. В случае нулевой продолжительности звонка ошибки нет - это пропущенные звонки. Посмотрим, есть ли слишком большие или отрицательные значения в столбце."
   ]
  },
  {
   "cell_type": "code",
   "execution_count": 18,
   "metadata": {},
   "outputs": [
    {
     "data": {
      "text/plain": [
       "95088     38.00\n",
       "178737    37.35\n",
       "5865      36.47\n",
       "39777     36.12\n",
       "60889     35.95\n",
       "          ...  \n",
       "45132      0.00\n",
       "144950     0.00\n",
       "144952     0.00\n",
       "45127      0.00\n",
       "0          0.00\n",
       "Name: duration, Length: 202607, dtype: float64"
      ]
     },
     "execution_count": 18,
     "metadata": {},
     "output_type": "execute_result"
    }
   ],
   "source": [
    "#сортировка столбца duration по убыванию\n",
    "calls['duration'].sort_values(ascending=False)"
   ]
  },
  {
   "cell_type": "markdown",
   "metadata": {},
   "source": [
    "Самая большая продолжительность звонка 38 минут, отрицательных значений в столбце нет, следовательно, ошибок в таблице `calls` нет."
   ]
  },
  {
   "cell_type": "markdown",
   "metadata": {},
   "source": [
    "Рассмотрим таблицу `internet`."
   ]
  },
  {
   "cell_type": "code",
   "execution_count": 19,
   "metadata": {
    "scrolled": false
   },
   "outputs": [
    {
     "data": {
      "text/html": [
       "<div>\n",
       "<style scoped>\n",
       "    .dataframe tbody tr th:only-of-type {\n",
       "        vertical-align: middle;\n",
       "    }\n",
       "\n",
       "    .dataframe tbody tr th {\n",
       "        vertical-align: top;\n",
       "    }\n",
       "\n",
       "    .dataframe thead th {\n",
       "        text-align: right;\n",
       "    }\n",
       "</style>\n",
       "<table border=\"1\" class=\"dataframe\">\n",
       "  <thead>\n",
       "    <tr style=\"text-align: right;\">\n",
       "      <th></th>\n",
       "      <th>id</th>\n",
       "      <th>mb_used</th>\n",
       "      <th>session_date</th>\n",
       "      <th>user_id</th>\n",
       "    </tr>\n",
       "  </thead>\n",
       "  <tbody>\n",
       "    <tr>\n",
       "      <th>0</th>\n",
       "      <td>1000_0</td>\n",
       "      <td>112.95</td>\n",
       "      <td>2018-11-25</td>\n",
       "      <td>1000</td>\n",
       "    </tr>\n",
       "    <tr>\n",
       "      <th>1</th>\n",
       "      <td>1000_1</td>\n",
       "      <td>1052.81</td>\n",
       "      <td>2018-09-07</td>\n",
       "      <td>1000</td>\n",
       "    </tr>\n",
       "    <tr>\n",
       "      <th>2</th>\n",
       "      <td>1000_2</td>\n",
       "      <td>1197.26</td>\n",
       "      <td>2018-06-25</td>\n",
       "      <td>1000</td>\n",
       "    </tr>\n",
       "    <tr>\n",
       "      <th>3</th>\n",
       "      <td>1000_3</td>\n",
       "      <td>550.27</td>\n",
       "      <td>2018-08-22</td>\n",
       "      <td>1000</td>\n",
       "    </tr>\n",
       "    <tr>\n",
       "      <th>4</th>\n",
       "      <td>1000_4</td>\n",
       "      <td>302.56</td>\n",
       "      <td>2018-09-24</td>\n",
       "      <td>1000</td>\n",
       "    </tr>\n",
       "  </tbody>\n",
       "</table>\n",
       "</div>"
      ],
      "text/plain": [
       "       id  mb_used session_date  user_id\n",
       "0  1000_0   112.95   2018-11-25     1000\n",
       "1  1000_1  1052.81   2018-09-07     1000\n",
       "2  1000_2  1197.26   2018-06-25     1000\n",
       "3  1000_3   550.27   2018-08-22     1000\n",
       "4  1000_4   302.56   2018-09-24     1000"
      ]
     },
     "execution_count": 19,
     "metadata": {},
     "output_type": "execute_result"
    }
   ],
   "source": [
    "#вывод первых 5 строк\n",
    "internet.head()"
   ]
  },
  {
   "cell_type": "markdown",
   "metadata": {},
   "source": [
    "Найдем дубликаты в таблице."
   ]
  },
  {
   "cell_type": "code",
   "execution_count": 20,
   "metadata": {},
   "outputs": [
    {
     "data": {
      "text/plain": [
       "array([False])"
      ]
     },
     "execution_count": 20,
     "metadata": {},
     "output_type": "execute_result"
    }
   ],
   "source": [
    "internet.duplicated().unique()"
   ]
  },
  {
   "cell_type": "markdown",
   "metadata": {},
   "source": [
    "В таблице нет дубликатов. Посмотрим, какие есть значения объема трафика в таблице."
   ]
  },
  {
   "cell_type": "code",
   "execution_count": 21,
   "metadata": {},
   "outputs": [
    {
     "data": {
      "text/plain": [
       "137493    1724.83\n",
       "119156    1702.75\n",
       "7063      1651.55\n",
       "103480    1651.25\n",
       "140299    1623.92\n",
       "           ...   \n",
       "118555       0.00\n",
       "112336       0.00\n",
       "118557       0.00\n",
       "15836        0.00\n",
       "115856       0.00\n",
       "Name: mb_used, Length: 149396, dtype: float64"
      ]
     },
     "execution_count": 21,
     "metadata": {},
     "output_type": "execute_result"
    }
   ],
   "source": [
    "#сортировка столбца mb_used по убыванию\n",
    "internet['mb_used'].sort_values(ascending=False)"
   ]
  },
  {
   "cell_type": "markdown",
   "metadata": {},
   "source": [
    "Самое большое значение - 1724.83, что вполне правдоподобно, а самое маленькое - 0, скорее всего, это те интернет-сессии, которые были завершены сразу же после начала, либо попытки выхода в интернет с отсутствием подключения к интернету. "
   ]
  },
  {
   "cell_type": "markdown",
   "metadata": {},
   "source": [
    "Рассмотрим таблицу `messages`."
   ]
  },
  {
   "cell_type": "code",
   "execution_count": 22,
   "metadata": {},
   "outputs": [
    {
     "data": {
      "text/html": [
       "<div>\n",
       "<style scoped>\n",
       "    .dataframe tbody tr th:only-of-type {\n",
       "        vertical-align: middle;\n",
       "    }\n",
       "\n",
       "    .dataframe tbody tr th {\n",
       "        vertical-align: top;\n",
       "    }\n",
       "\n",
       "    .dataframe thead th {\n",
       "        text-align: right;\n",
       "    }\n",
       "</style>\n",
       "<table border=\"1\" class=\"dataframe\">\n",
       "  <thead>\n",
       "    <tr style=\"text-align: right;\">\n",
       "      <th></th>\n",
       "      <th>id</th>\n",
       "      <th>message_date</th>\n",
       "      <th>user_id</th>\n",
       "    </tr>\n",
       "  </thead>\n",
       "  <tbody>\n",
       "    <tr>\n",
       "      <th>0</th>\n",
       "      <td>1000_0</td>\n",
       "      <td>2018-06-27</td>\n",
       "      <td>1000</td>\n",
       "    </tr>\n",
       "    <tr>\n",
       "      <th>1</th>\n",
       "      <td>1000_1</td>\n",
       "      <td>2018-10-08</td>\n",
       "      <td>1000</td>\n",
       "    </tr>\n",
       "    <tr>\n",
       "      <th>2</th>\n",
       "      <td>1000_2</td>\n",
       "      <td>2018-08-04</td>\n",
       "      <td>1000</td>\n",
       "    </tr>\n",
       "    <tr>\n",
       "      <th>3</th>\n",
       "      <td>1000_3</td>\n",
       "      <td>2018-06-16</td>\n",
       "      <td>1000</td>\n",
       "    </tr>\n",
       "    <tr>\n",
       "      <th>4</th>\n",
       "      <td>1000_4</td>\n",
       "      <td>2018-12-05</td>\n",
       "      <td>1000</td>\n",
       "    </tr>\n",
       "  </tbody>\n",
       "</table>\n",
       "</div>"
      ],
      "text/plain": [
       "       id message_date  user_id\n",
       "0  1000_0   2018-06-27     1000\n",
       "1  1000_1   2018-10-08     1000\n",
       "2  1000_2   2018-08-04     1000\n",
       "3  1000_3   2018-06-16     1000\n",
       "4  1000_4   2018-12-05     1000"
      ]
     },
     "execution_count": 22,
     "metadata": {},
     "output_type": "execute_result"
    }
   ],
   "source": [
    "#вывод первых 5 строк\n",
    "messages.head()"
   ]
  },
  {
   "cell_type": "markdown",
   "metadata": {},
   "source": [
    "Проверим на наличие дубликатов."
   ]
  },
  {
   "cell_type": "code",
   "execution_count": 23,
   "metadata": {},
   "outputs": [
    {
     "data": {
      "text/plain": [
       "array([False])"
      ]
     },
     "execution_count": 23,
     "metadata": {},
     "output_type": "execute_result"
    }
   ],
   "source": [
    "messages.duplicated().unique()"
   ]
  },
  {
   "cell_type": "markdown",
   "metadata": {},
   "source": [
    "Дубликатов нет. Таблица `messages` содержит только идентификатор пользователя, идентификатор сообщения и дату отправки, потому там вряд ли есть ошибки.\n",
    "\n",
    "Таблица `tariffs` содержит данные о тарифах, ошибок в ней точно нет.\n",
    "\n",
    "Рассмотрим таблицу `users`. "
   ]
  },
  {
   "cell_type": "code",
   "execution_count": 24,
   "metadata": {
    "scrolled": true
   },
   "outputs": [
    {
     "data": {
      "text/html": [
       "<div>\n",
       "<style scoped>\n",
       "    .dataframe tbody tr th:only-of-type {\n",
       "        vertical-align: middle;\n",
       "    }\n",
       "\n",
       "    .dataframe tbody tr th {\n",
       "        vertical-align: top;\n",
       "    }\n",
       "\n",
       "    .dataframe thead th {\n",
       "        text-align: right;\n",
       "    }\n",
       "</style>\n",
       "<table border=\"1\" class=\"dataframe\">\n",
       "  <thead>\n",
       "    <tr style=\"text-align: right;\">\n",
       "      <th></th>\n",
       "      <th>user_id</th>\n",
       "      <th>age</th>\n",
       "      <th>churn_date</th>\n",
       "      <th>city</th>\n",
       "      <th>first_name</th>\n",
       "      <th>last_name</th>\n",
       "      <th>reg_date</th>\n",
       "      <th>tariff</th>\n",
       "    </tr>\n",
       "  </thead>\n",
       "  <tbody>\n",
       "    <tr>\n",
       "      <th>0</th>\n",
       "      <td>1000</td>\n",
       "      <td>52</td>\n",
       "      <td>NaT</td>\n",
       "      <td>Краснодар</td>\n",
       "      <td>Рафаил</td>\n",
       "      <td>Верещагин</td>\n",
       "      <td>2018-05-25</td>\n",
       "      <td>ultra</td>\n",
       "    </tr>\n",
       "    <tr>\n",
       "      <th>1</th>\n",
       "      <td>1001</td>\n",
       "      <td>41</td>\n",
       "      <td>NaT</td>\n",
       "      <td>Москва</td>\n",
       "      <td>Иван</td>\n",
       "      <td>Ежов</td>\n",
       "      <td>2018-11-01</td>\n",
       "      <td>smart</td>\n",
       "    </tr>\n",
       "    <tr>\n",
       "      <th>2</th>\n",
       "      <td>1002</td>\n",
       "      <td>59</td>\n",
       "      <td>NaT</td>\n",
       "      <td>Стерлитамак</td>\n",
       "      <td>Евгений</td>\n",
       "      <td>Абрамович</td>\n",
       "      <td>2018-06-17</td>\n",
       "      <td>smart</td>\n",
       "    </tr>\n",
       "    <tr>\n",
       "      <th>3</th>\n",
       "      <td>1003</td>\n",
       "      <td>23</td>\n",
       "      <td>NaT</td>\n",
       "      <td>Москва</td>\n",
       "      <td>Белла</td>\n",
       "      <td>Белякова</td>\n",
       "      <td>2018-08-17</td>\n",
       "      <td>ultra</td>\n",
       "    </tr>\n",
       "    <tr>\n",
       "      <th>4</th>\n",
       "      <td>1004</td>\n",
       "      <td>68</td>\n",
       "      <td>NaT</td>\n",
       "      <td>Новокузнецк</td>\n",
       "      <td>Татьяна</td>\n",
       "      <td>Авдеенко</td>\n",
       "      <td>2018-05-14</td>\n",
       "      <td>ultra</td>\n",
       "    </tr>\n",
       "  </tbody>\n",
       "</table>\n",
       "</div>"
      ],
      "text/plain": [
       "   user_id  age churn_date         city first_name  last_name   reg_date  \\\n",
       "0     1000   52        NaT    Краснодар     Рафаил  Верещагин 2018-05-25   \n",
       "1     1001   41        NaT       Москва       Иван       Ежов 2018-11-01   \n",
       "2     1002   59        NaT  Стерлитамак    Евгений  Абрамович 2018-06-17   \n",
       "3     1003   23        NaT       Москва      Белла   Белякова 2018-08-17   \n",
       "4     1004   68        NaT  Новокузнецк    Татьяна   Авдеенко 2018-05-14   \n",
       "\n",
       "  tariff  \n",
       "0  ultra  \n",
       "1  smart  \n",
       "2  smart  \n",
       "3  ultra  \n",
       "4  ultra  "
      ]
     },
     "execution_count": 24,
     "metadata": {},
     "output_type": "execute_result"
    }
   ],
   "source": [
    "#вывод первых 5 строк\n",
    "users.head()"
   ]
  },
  {
   "cell_type": "markdown",
   "metadata": {},
   "source": [
    "Посмотрим, есть ли в таблице дубликаты."
   ]
  },
  {
   "cell_type": "code",
   "execution_count": 25,
   "metadata": {},
   "outputs": [
    {
     "data": {
      "text/plain": [
       "array([False])"
      ]
     },
     "execution_count": 25,
     "metadata": {},
     "output_type": "execute_result"
    }
   ],
   "source": [
    "users.duplicated().unique()"
   ]
  },
  {
   "cell_type": "markdown",
   "metadata": {},
   "source": [
    "В таблице нет дубликатов. В столбце `churn_date` есть пропуски, но это значит, что клиент все еще пользуется тарифом. Проверим, есть ли ошибки в возрасте пользователей."
   ]
  },
  {
   "cell_type": "code",
   "execution_count": 26,
   "metadata": {},
   "outputs": [
    {
     "data": {
      "text/plain": [
       "array([18, 19, 20, 21, 22, 23, 24, 25, 26, 27, 28, 29, 30, 31, 32, 33, 34,\n",
       "       35, 36, 37, 38, 39, 40, 41, 42, 43, 44, 45, 46, 47, 48, 49, 50, 51,\n",
       "       52, 53, 54, 55, 56, 57, 58, 59, 60, 61, 62, 63, 64, 65, 66, 67, 68,\n",
       "       69, 70, 71, 72, 73, 74, 75])"
      ]
     },
     "execution_count": 26,
     "metadata": {},
     "output_type": "execute_result"
    }
   ],
   "source": [
    "#сортировка столбца age и вывод уникальных значений\n",
    "users['age'].sort_values().unique()"
   ]
  },
  {
   "cell_type": "markdown",
   "metadata": {},
   "source": [
    "Возраст пользователей от 18 до 75 лет, что похоже на правду. Ошибок в таблице `users` нет."
   ]
  },
  {
   "cell_type": "markdown",
   "metadata": {},
   "source": [
    "### Расчеты"
   ]
  },
  {
   "cell_type": "markdown",
   "metadata": {},
   "source": [
    "1. Посчитаем количество звонков и израсходованных минут разговора для каждого пользователя по месяцам. Для начала добавим в таблицу `calls` столбец `month` с месяцем звонка, а затем создадим две сводные таблицы: первая с количеством звонков каждого клиента по месяцам, вторая - с суммарной длительностью разговора по месяцам для каждого пользователя. "
   ]
  },
  {
   "cell_type": "code",
   "execution_count": 27,
   "metadata": {
    "scrolled": true
   },
   "outputs": [
    {
     "data": {
      "text/html": [
       "<div>\n",
       "<style scoped>\n",
       "    .dataframe tbody tr th:only-of-type {\n",
       "        vertical-align: middle;\n",
       "    }\n",
       "\n",
       "    .dataframe tbody tr th {\n",
       "        vertical-align: top;\n",
       "    }\n",
       "\n",
       "    .dataframe thead th {\n",
       "        text-align: right;\n",
       "    }\n",
       "</style>\n",
       "<table border=\"1\" class=\"dataframe\">\n",
       "  <thead>\n",
       "    <tr style=\"text-align: right;\">\n",
       "      <th></th>\n",
       "      <th>id</th>\n",
       "      <th>call_date</th>\n",
       "      <th>duration</th>\n",
       "      <th>user_id</th>\n",
       "      <th>month</th>\n",
       "    </tr>\n",
       "  </thead>\n",
       "  <tbody>\n",
       "    <tr>\n",
       "      <th>0</th>\n",
       "      <td>1000_0</td>\n",
       "      <td>2018-07-25</td>\n",
       "      <td>0.00</td>\n",
       "      <td>1000</td>\n",
       "      <td>7</td>\n",
       "    </tr>\n",
       "    <tr>\n",
       "      <th>1</th>\n",
       "      <td>1000_1</td>\n",
       "      <td>2018-08-17</td>\n",
       "      <td>0.00</td>\n",
       "      <td>1000</td>\n",
       "      <td>8</td>\n",
       "    </tr>\n",
       "    <tr>\n",
       "      <th>2</th>\n",
       "      <td>1000_2</td>\n",
       "      <td>2018-06-11</td>\n",
       "      <td>2.85</td>\n",
       "      <td>1000</td>\n",
       "      <td>6</td>\n",
       "    </tr>\n",
       "    <tr>\n",
       "      <th>3</th>\n",
       "      <td>1000_3</td>\n",
       "      <td>2018-09-21</td>\n",
       "      <td>13.80</td>\n",
       "      <td>1000</td>\n",
       "      <td>9</td>\n",
       "    </tr>\n",
       "    <tr>\n",
       "      <th>4</th>\n",
       "      <td>1000_4</td>\n",
       "      <td>2018-12-15</td>\n",
       "      <td>5.18</td>\n",
       "      <td>1000</td>\n",
       "      <td>12</td>\n",
       "    </tr>\n",
       "  </tbody>\n",
       "</table>\n",
       "</div>"
      ],
      "text/plain": [
       "       id  call_date  duration  user_id  month\n",
       "0  1000_0 2018-07-25      0.00     1000      7\n",
       "1  1000_1 2018-08-17      0.00     1000      8\n",
       "2  1000_2 2018-06-11      2.85     1000      6\n",
       "3  1000_3 2018-09-21     13.80     1000      9\n",
       "4  1000_4 2018-12-15      5.18     1000     12"
      ]
     },
     "execution_count": 27,
     "metadata": {},
     "output_type": "execute_result"
    }
   ],
   "source": [
    "#добавляем столбец month\n",
    "calls['month'] = calls['call_date'].dt.month\n",
    "calls.head()"
   ]
  },
  {
   "cell_type": "markdown",
   "metadata": {},
   "source": [
    "Оператор всегда округляет вверх продолжительность звонка до целых минут, потому округлим значения в столбце `duration`."
   ]
  },
  {
   "cell_type": "code",
   "execution_count": 28,
   "metadata": {},
   "outputs": [
    {
     "data": {
      "text/html": [
       "<div>\n",
       "<style scoped>\n",
       "    .dataframe tbody tr th:only-of-type {\n",
       "        vertical-align: middle;\n",
       "    }\n",
       "\n",
       "    .dataframe tbody tr th {\n",
       "        vertical-align: top;\n",
       "    }\n",
       "\n",
       "    .dataframe thead th {\n",
       "        text-align: right;\n",
       "    }\n",
       "</style>\n",
       "<table border=\"1\" class=\"dataframe\">\n",
       "  <thead>\n",
       "    <tr style=\"text-align: right;\">\n",
       "      <th></th>\n",
       "      <th>id</th>\n",
       "      <th>call_date</th>\n",
       "      <th>duration</th>\n",
       "      <th>user_id</th>\n",
       "      <th>month</th>\n",
       "    </tr>\n",
       "  </thead>\n",
       "  <tbody>\n",
       "    <tr>\n",
       "      <th>0</th>\n",
       "      <td>1000_0</td>\n",
       "      <td>2018-07-25</td>\n",
       "      <td>0.0</td>\n",
       "      <td>1000</td>\n",
       "      <td>7</td>\n",
       "    </tr>\n",
       "    <tr>\n",
       "      <th>1</th>\n",
       "      <td>1000_1</td>\n",
       "      <td>2018-08-17</td>\n",
       "      <td>0.0</td>\n",
       "      <td>1000</td>\n",
       "      <td>8</td>\n",
       "    </tr>\n",
       "    <tr>\n",
       "      <th>2</th>\n",
       "      <td>1000_2</td>\n",
       "      <td>2018-06-11</td>\n",
       "      <td>3.0</td>\n",
       "      <td>1000</td>\n",
       "      <td>6</td>\n",
       "    </tr>\n",
       "    <tr>\n",
       "      <th>3</th>\n",
       "      <td>1000_3</td>\n",
       "      <td>2018-09-21</td>\n",
       "      <td>14.0</td>\n",
       "      <td>1000</td>\n",
       "      <td>9</td>\n",
       "    </tr>\n",
       "    <tr>\n",
       "      <th>4</th>\n",
       "      <td>1000_4</td>\n",
       "      <td>2018-12-15</td>\n",
       "      <td>6.0</td>\n",
       "      <td>1000</td>\n",
       "      <td>12</td>\n",
       "    </tr>\n",
       "  </tbody>\n",
       "</table>\n",
       "</div>"
      ],
      "text/plain": [
       "       id  call_date  duration  user_id  month\n",
       "0  1000_0 2018-07-25       0.0     1000      7\n",
       "1  1000_1 2018-08-17       0.0     1000      8\n",
       "2  1000_2 2018-06-11       3.0     1000      6\n",
       "3  1000_3 2018-09-21      14.0     1000      9\n",
       "4  1000_4 2018-12-15       6.0     1000     12"
      ]
     },
     "execution_count": 28,
     "metadata": {},
     "output_type": "execute_result"
    }
   ],
   "source": [
    "import numpy as np\n",
    "#округляем количество минут вверх\n",
    "calls['duration'] = np.ceil(calls['duration'])\n",
    "calls.head()"
   ]
  },
  {
   "cell_type": "markdown",
   "metadata": {},
   "source": [
    "Создаем сводные таблицы."
   ]
  },
  {
   "cell_type": "code",
   "execution_count": 29,
   "metadata": {},
   "outputs": [
    {
     "data": {
      "text/html": [
       "<div>\n",
       "<style scoped>\n",
       "    .dataframe tbody tr th:only-of-type {\n",
       "        vertical-align: middle;\n",
       "    }\n",
       "\n",
       "    .dataframe tbody tr th {\n",
       "        vertical-align: top;\n",
       "    }\n",
       "\n",
       "    .dataframe thead th {\n",
       "        text-align: right;\n",
       "    }\n",
       "</style>\n",
       "<table border=\"1\" class=\"dataframe\">\n",
       "  <thead>\n",
       "    <tr style=\"text-align: right;\">\n",
       "      <th></th>\n",
       "      <th></th>\n",
       "      <th>duration</th>\n",
       "    </tr>\n",
       "    <tr>\n",
       "      <th>user_id</th>\n",
       "      <th>month</th>\n",
       "      <th></th>\n",
       "    </tr>\n",
       "  </thead>\n",
       "  <tbody>\n",
       "    <tr>\n",
       "      <th rowspan=\"8\" valign=\"top\">1000</th>\n",
       "      <th>5</th>\n",
       "      <td>22</td>\n",
       "    </tr>\n",
       "    <tr>\n",
       "      <th>6</th>\n",
       "      <td>43</td>\n",
       "    </tr>\n",
       "    <tr>\n",
       "      <th>7</th>\n",
       "      <td>47</td>\n",
       "    </tr>\n",
       "    <tr>\n",
       "      <th>8</th>\n",
       "      <td>52</td>\n",
       "    </tr>\n",
       "    <tr>\n",
       "      <th>9</th>\n",
       "      <td>58</td>\n",
       "    </tr>\n",
       "    <tr>\n",
       "      <th>10</th>\n",
       "      <td>57</td>\n",
       "    </tr>\n",
       "    <tr>\n",
       "      <th>11</th>\n",
       "      <td>43</td>\n",
       "    </tr>\n",
       "    <tr>\n",
       "      <th>12</th>\n",
       "      <td>46</td>\n",
       "    </tr>\n",
       "    <tr>\n",
       "      <th rowspan=\"2\" valign=\"top\">1001</th>\n",
       "      <th>11</th>\n",
       "      <td>59</td>\n",
       "    </tr>\n",
       "    <tr>\n",
       "      <th>12</th>\n",
       "      <td>63</td>\n",
       "    </tr>\n",
       "  </tbody>\n",
       "</table>\n",
       "</div>"
      ],
      "text/plain": [
       "               duration\n",
       "user_id month          \n",
       "1000    5            22\n",
       "        6            43\n",
       "        7            47\n",
       "        8            52\n",
       "        9            58\n",
       "        10           57\n",
       "        11           43\n",
       "        12           46\n",
       "1001    11           59\n",
       "        12           63"
      ]
     },
     "execution_count": 29,
     "metadata": {},
     "output_type": "execute_result"
    }
   ],
   "source": [
    "#создаем сводную таблицу с количеством звонков\n",
    "#user_id и month будут индексами для дальнейшего удобства в подсчете помесячной выручки\n",
    "calls_count = calls.pivot_table(index=['user_id','month'],\n",
    "                                values='duration',\n",
    "                                aggfunc='count')\n",
    "calls_count.head(10)"
   ]
  },
  {
   "cell_type": "code",
   "execution_count": 30,
   "metadata": {
    "scrolled": true
   },
   "outputs": [
    {
     "data": {
      "text/html": [
       "<div>\n",
       "<style scoped>\n",
       "    .dataframe tbody tr th:only-of-type {\n",
       "        vertical-align: middle;\n",
       "    }\n",
       "\n",
       "    .dataframe tbody tr th {\n",
       "        vertical-align: top;\n",
       "    }\n",
       "\n",
       "    .dataframe thead th {\n",
       "        text-align: right;\n",
       "    }\n",
       "</style>\n",
       "<table border=\"1\" class=\"dataframe\">\n",
       "  <thead>\n",
       "    <tr style=\"text-align: right;\">\n",
       "      <th></th>\n",
       "      <th></th>\n",
       "      <th>duration</th>\n",
       "    </tr>\n",
       "    <tr>\n",
       "      <th>user_id</th>\n",
       "      <th>month</th>\n",
       "      <th></th>\n",
       "    </tr>\n",
       "  </thead>\n",
       "  <tbody>\n",
       "    <tr>\n",
       "      <th rowspan=\"8\" valign=\"top\">1000</th>\n",
       "      <th>5</th>\n",
       "      <td>159.0</td>\n",
       "    </tr>\n",
       "    <tr>\n",
       "      <th>6</th>\n",
       "      <td>172.0</td>\n",
       "    </tr>\n",
       "    <tr>\n",
       "      <th>7</th>\n",
       "      <td>340.0</td>\n",
       "    </tr>\n",
       "    <tr>\n",
       "      <th>8</th>\n",
       "      <td>408.0</td>\n",
       "    </tr>\n",
       "    <tr>\n",
       "      <th>9</th>\n",
       "      <td>466.0</td>\n",
       "    </tr>\n",
       "    <tr>\n",
       "      <th>10</th>\n",
       "      <td>350.0</td>\n",
       "    </tr>\n",
       "    <tr>\n",
       "      <th>11</th>\n",
       "      <td>338.0</td>\n",
       "    </tr>\n",
       "    <tr>\n",
       "      <th>12</th>\n",
       "      <td>333.0</td>\n",
       "    </tr>\n",
       "    <tr>\n",
       "      <th rowspan=\"2\" valign=\"top\">1001</th>\n",
       "      <th>11</th>\n",
       "      <td>430.0</td>\n",
       "    </tr>\n",
       "    <tr>\n",
       "      <th>12</th>\n",
       "      <td>414.0</td>\n",
       "    </tr>\n",
       "  </tbody>\n",
       "</table>\n",
       "</div>"
      ],
      "text/plain": [
       "               duration\n",
       "user_id month          \n",
       "1000    5         159.0\n",
       "        6         172.0\n",
       "        7         340.0\n",
       "        8         408.0\n",
       "        9         466.0\n",
       "        10        350.0\n",
       "        11        338.0\n",
       "        12        333.0\n",
       "1001    11        430.0\n",
       "        12        414.0"
      ]
     },
     "execution_count": 30,
     "metadata": {},
     "output_type": "execute_result"
    }
   ],
   "source": [
    "#создаем сводную таблицу с израсходованными минутами\n",
    "calls_sum = calls.pivot_table(index=['user_id','month'],\n",
    "                              values='duration',\n",
    "                              aggfunc='sum')\n",
    "calls_sum.head(10)"
   ]
  },
  {
   "cell_type": "markdown",
   "metadata": {},
   "source": [
    "2. Вычислим количество отправленных сообщений каждым пользователем по месяцам. Для этого добавим столбец `month` с номером месяца в таблицу `messages`, а затем создадим сводную таблицу с количеством сообщений по месяцам."
   ]
  },
  {
   "cell_type": "code",
   "execution_count": 31,
   "metadata": {},
   "outputs": [
    {
     "data": {
      "text/html": [
       "<div>\n",
       "<style scoped>\n",
       "    .dataframe tbody tr th:only-of-type {\n",
       "        vertical-align: middle;\n",
       "    }\n",
       "\n",
       "    .dataframe tbody tr th {\n",
       "        vertical-align: top;\n",
       "    }\n",
       "\n",
       "    .dataframe thead th {\n",
       "        text-align: right;\n",
       "    }\n",
       "</style>\n",
       "<table border=\"1\" class=\"dataframe\">\n",
       "  <thead>\n",
       "    <tr style=\"text-align: right;\">\n",
       "      <th></th>\n",
       "      <th>id</th>\n",
       "      <th>message_date</th>\n",
       "      <th>user_id</th>\n",
       "      <th>month</th>\n",
       "    </tr>\n",
       "  </thead>\n",
       "  <tbody>\n",
       "    <tr>\n",
       "      <th>0</th>\n",
       "      <td>1000_0</td>\n",
       "      <td>2018-06-27</td>\n",
       "      <td>1000</td>\n",
       "      <td>6</td>\n",
       "    </tr>\n",
       "    <tr>\n",
       "      <th>1</th>\n",
       "      <td>1000_1</td>\n",
       "      <td>2018-10-08</td>\n",
       "      <td>1000</td>\n",
       "      <td>10</td>\n",
       "    </tr>\n",
       "    <tr>\n",
       "      <th>2</th>\n",
       "      <td>1000_2</td>\n",
       "      <td>2018-08-04</td>\n",
       "      <td>1000</td>\n",
       "      <td>8</td>\n",
       "    </tr>\n",
       "    <tr>\n",
       "      <th>3</th>\n",
       "      <td>1000_3</td>\n",
       "      <td>2018-06-16</td>\n",
       "      <td>1000</td>\n",
       "      <td>6</td>\n",
       "    </tr>\n",
       "    <tr>\n",
       "      <th>4</th>\n",
       "      <td>1000_4</td>\n",
       "      <td>2018-12-05</td>\n",
       "      <td>1000</td>\n",
       "      <td>12</td>\n",
       "    </tr>\n",
       "  </tbody>\n",
       "</table>\n",
       "</div>"
      ],
      "text/plain": [
       "       id message_date  user_id  month\n",
       "0  1000_0   2018-06-27     1000      6\n",
       "1  1000_1   2018-10-08     1000     10\n",
       "2  1000_2   2018-08-04     1000      8\n",
       "3  1000_3   2018-06-16     1000      6\n",
       "4  1000_4   2018-12-05     1000     12"
      ]
     },
     "execution_count": 31,
     "metadata": {},
     "output_type": "execute_result"
    }
   ],
   "source": [
    "#добавление столбца month\n",
    "messages['month'] = messages['message_date'].dt.month\n",
    "messages.head()"
   ]
  },
  {
   "cell_type": "code",
   "execution_count": 32,
   "metadata": {},
   "outputs": [
    {
     "data": {
      "text/html": [
       "<div>\n",
       "<style scoped>\n",
       "    .dataframe tbody tr th:only-of-type {\n",
       "        vertical-align: middle;\n",
       "    }\n",
       "\n",
       "    .dataframe tbody tr th {\n",
       "        vertical-align: top;\n",
       "    }\n",
       "\n",
       "    .dataframe thead th {\n",
       "        text-align: right;\n",
       "    }\n",
       "</style>\n",
       "<table border=\"1\" class=\"dataframe\">\n",
       "  <thead>\n",
       "    <tr style=\"text-align: right;\">\n",
       "      <th></th>\n",
       "      <th></th>\n",
       "      <th>messages</th>\n",
       "    </tr>\n",
       "    <tr>\n",
       "      <th>user_id</th>\n",
       "      <th>month</th>\n",
       "      <th></th>\n",
       "    </tr>\n",
       "  </thead>\n",
       "  <tbody>\n",
       "    <tr>\n",
       "      <th rowspan=\"8\" valign=\"top\">1000</th>\n",
       "      <th>5</th>\n",
       "      <td>22</td>\n",
       "    </tr>\n",
       "    <tr>\n",
       "      <th>6</th>\n",
       "      <td>60</td>\n",
       "    </tr>\n",
       "    <tr>\n",
       "      <th>7</th>\n",
       "      <td>75</td>\n",
       "    </tr>\n",
       "    <tr>\n",
       "      <th>8</th>\n",
       "      <td>81</td>\n",
       "    </tr>\n",
       "    <tr>\n",
       "      <th>9</th>\n",
       "      <td>57</td>\n",
       "    </tr>\n",
       "    <tr>\n",
       "      <th>10</th>\n",
       "      <td>73</td>\n",
       "    </tr>\n",
       "    <tr>\n",
       "      <th>11</th>\n",
       "      <td>58</td>\n",
       "    </tr>\n",
       "    <tr>\n",
       "      <th>12</th>\n",
       "      <td>70</td>\n",
       "    </tr>\n",
       "    <tr>\n",
       "      <th rowspan=\"2\" valign=\"top\">1002</th>\n",
       "      <th>6</th>\n",
       "      <td>4</td>\n",
       "    </tr>\n",
       "    <tr>\n",
       "      <th>7</th>\n",
       "      <td>11</td>\n",
       "    </tr>\n",
       "  </tbody>\n",
       "</table>\n",
       "</div>"
      ],
      "text/plain": [
       "               messages\n",
       "user_id month          \n",
       "1000    5            22\n",
       "        6            60\n",
       "        7            75\n",
       "        8            81\n",
       "        9            57\n",
       "        10           73\n",
       "        11           58\n",
       "        12           70\n",
       "1002    6             4\n",
       "        7            11"
      ]
     },
     "execution_count": 32,
     "metadata": {},
     "output_type": "execute_result"
    }
   ],
   "source": [
    "#создание сводной таблицы с количеством отправленных сообщений\n",
    "messages_count = messages.pivot_table(index=['user_id','month'],\n",
    "                                      values='id',\n",
    "                                      aggfunc='count')\n",
    "#переименование столбца с количеством сообщений \n",
    "messages_count = messages_count.rename(columns={'id': 'messages'})\n",
    "messages_count.head(10)"
   ]
  },
  {
   "cell_type": "markdown",
   "metadata": {},
   "source": [
    "3. Посчитаем объем израсходованного каждым пользователем интернет-трафика по месяцам. Добавим столбец `month` в таблицу `internet`, создадим сводную таблицу с количеством потраченных мегабайт."
   ]
  },
  {
   "cell_type": "code",
   "execution_count": 33,
   "metadata": {},
   "outputs": [
    {
     "data": {
      "text/html": [
       "<div>\n",
       "<style scoped>\n",
       "    .dataframe tbody tr th:only-of-type {\n",
       "        vertical-align: middle;\n",
       "    }\n",
       "\n",
       "    .dataframe tbody tr th {\n",
       "        vertical-align: top;\n",
       "    }\n",
       "\n",
       "    .dataframe thead th {\n",
       "        text-align: right;\n",
       "    }\n",
       "</style>\n",
       "<table border=\"1\" class=\"dataframe\">\n",
       "  <thead>\n",
       "    <tr style=\"text-align: right;\">\n",
       "      <th></th>\n",
       "      <th>id</th>\n",
       "      <th>mb_used</th>\n",
       "      <th>session_date</th>\n",
       "      <th>user_id</th>\n",
       "      <th>month</th>\n",
       "    </tr>\n",
       "  </thead>\n",
       "  <tbody>\n",
       "    <tr>\n",
       "      <th>0</th>\n",
       "      <td>1000_0</td>\n",
       "      <td>112.95</td>\n",
       "      <td>2018-11-25</td>\n",
       "      <td>1000</td>\n",
       "      <td>11</td>\n",
       "    </tr>\n",
       "    <tr>\n",
       "      <th>1</th>\n",
       "      <td>1000_1</td>\n",
       "      <td>1052.81</td>\n",
       "      <td>2018-09-07</td>\n",
       "      <td>1000</td>\n",
       "      <td>9</td>\n",
       "    </tr>\n",
       "    <tr>\n",
       "      <th>2</th>\n",
       "      <td>1000_2</td>\n",
       "      <td>1197.26</td>\n",
       "      <td>2018-06-25</td>\n",
       "      <td>1000</td>\n",
       "      <td>6</td>\n",
       "    </tr>\n",
       "    <tr>\n",
       "      <th>3</th>\n",
       "      <td>1000_3</td>\n",
       "      <td>550.27</td>\n",
       "      <td>2018-08-22</td>\n",
       "      <td>1000</td>\n",
       "      <td>8</td>\n",
       "    </tr>\n",
       "    <tr>\n",
       "      <th>4</th>\n",
       "      <td>1000_4</td>\n",
       "      <td>302.56</td>\n",
       "      <td>2018-09-24</td>\n",
       "      <td>1000</td>\n",
       "      <td>9</td>\n",
       "    </tr>\n",
       "  </tbody>\n",
       "</table>\n",
       "</div>"
      ],
      "text/plain": [
       "       id  mb_used session_date  user_id  month\n",
       "0  1000_0   112.95   2018-11-25     1000     11\n",
       "1  1000_1  1052.81   2018-09-07     1000      9\n",
       "2  1000_2  1197.26   2018-06-25     1000      6\n",
       "3  1000_3   550.27   2018-08-22     1000      8\n",
       "4  1000_4   302.56   2018-09-24     1000      9"
      ]
     },
     "execution_count": 33,
     "metadata": {},
     "output_type": "execute_result"
    }
   ],
   "source": [
    "#добавление столбца month\n",
    "internet['month'] = internet['session_date'].dt.month\n",
    "internet.head()"
   ]
  },
  {
   "cell_type": "code",
   "execution_count": 34,
   "metadata": {},
   "outputs": [
    {
     "data": {
      "text/html": [
       "<div>\n",
       "<style scoped>\n",
       "    .dataframe tbody tr th:only-of-type {\n",
       "        vertical-align: middle;\n",
       "    }\n",
       "\n",
       "    .dataframe tbody tr th {\n",
       "        vertical-align: top;\n",
       "    }\n",
       "\n",
       "    .dataframe thead th {\n",
       "        text-align: right;\n",
       "    }\n",
       "</style>\n",
       "<table border=\"1\" class=\"dataframe\">\n",
       "  <thead>\n",
       "    <tr style=\"text-align: right;\">\n",
       "      <th></th>\n",
       "      <th></th>\n",
       "      <th>mb_used</th>\n",
       "    </tr>\n",
       "    <tr>\n",
       "      <th>user_id</th>\n",
       "      <th>month</th>\n",
       "      <th></th>\n",
       "    </tr>\n",
       "  </thead>\n",
       "  <tbody>\n",
       "    <tr>\n",
       "      <th rowspan=\"8\" valign=\"top\">1000</th>\n",
       "      <th>5</th>\n",
       "      <td>2253.49</td>\n",
       "    </tr>\n",
       "    <tr>\n",
       "      <th>6</th>\n",
       "      <td>23233.77</td>\n",
       "    </tr>\n",
       "    <tr>\n",
       "      <th>7</th>\n",
       "      <td>14003.64</td>\n",
       "    </tr>\n",
       "    <tr>\n",
       "      <th>8</th>\n",
       "      <td>14055.93</td>\n",
       "    </tr>\n",
       "    <tr>\n",
       "      <th>9</th>\n",
       "      <td>14568.91</td>\n",
       "    </tr>\n",
       "    <tr>\n",
       "      <th>10</th>\n",
       "      <td>14702.49</td>\n",
       "    </tr>\n",
       "    <tr>\n",
       "      <th>11</th>\n",
       "      <td>14756.47</td>\n",
       "    </tr>\n",
       "    <tr>\n",
       "      <th>12</th>\n",
       "      <td>9817.61</td>\n",
       "    </tr>\n",
       "    <tr>\n",
       "      <th rowspan=\"2\" valign=\"top\">1001</th>\n",
       "      <th>11</th>\n",
       "      <td>18429.34</td>\n",
       "    </tr>\n",
       "    <tr>\n",
       "      <th>12</th>\n",
       "      <td>14036.66</td>\n",
       "    </tr>\n",
       "  </tbody>\n",
       "</table>\n",
       "</div>"
      ],
      "text/plain": [
       "                mb_used\n",
       "user_id month          \n",
       "1000    5       2253.49\n",
       "        6      23233.77\n",
       "        7      14003.64\n",
       "        8      14055.93\n",
       "        9      14568.91\n",
       "        10     14702.49\n",
       "        11     14756.47\n",
       "        12      9817.61\n",
       "1001    11     18429.34\n",
       "        12     14036.66"
      ]
     },
     "execution_count": 34,
     "metadata": {},
     "output_type": "execute_result"
    }
   ],
   "source": [
    "#создание сводной таблицы с израсходованным объемом трафика\n",
    "internet_sum = internet.pivot_table(index=['user_id','month'],\n",
    "                                    values='mb_used',\n",
    "                                    aggfunc='sum')\n",
    "internet_sum.head(10)"
   ]
  },
  {
   "cell_type": "markdown",
   "metadata": {},
   "source": [
    "4. Теперь вычислим помесячную выручку с каждого пользователя. Для начала объединим таблицы `calls_sum`, `messages_count`, `internet_sum`, `users` и `tariffs` в одну таблицу с помощью метода `merge`, атрибут `how` будет принимать значение `outer`, потому что нам нужны все данные из всех таблиц."
   ]
  },
  {
   "cell_type": "code",
   "execution_count": 35,
   "metadata": {
    "scrolled": true
   },
   "outputs": [
    {
     "data": {
      "text/html": [
       "<div>\n",
       "<style scoped>\n",
       "    .dataframe tbody tr th:only-of-type {\n",
       "        vertical-align: middle;\n",
       "    }\n",
       "\n",
       "    .dataframe tbody tr th {\n",
       "        vertical-align: top;\n",
       "    }\n",
       "\n",
       "    .dataframe thead th {\n",
       "        text-align: right;\n",
       "    }\n",
       "</style>\n",
       "<table border=\"1\" class=\"dataframe\">\n",
       "  <thead>\n",
       "    <tr style=\"text-align: right;\">\n",
       "      <th></th>\n",
       "      <th>user_id</th>\n",
       "      <th>month</th>\n",
       "      <th>duration</th>\n",
       "      <th>messages</th>\n",
       "      <th>mb_used</th>\n",
       "      <th>age</th>\n",
       "      <th>churn_date</th>\n",
       "      <th>city</th>\n",
       "      <th>first_name</th>\n",
       "      <th>last_name</th>\n",
       "      <th>reg_date</th>\n",
       "      <th>tariff</th>\n",
       "      <th>messages_included</th>\n",
       "      <th>mb_per_month_included</th>\n",
       "      <th>minutes_included</th>\n",
       "      <th>rub_monthly_fee</th>\n",
       "      <th>rub_per_gb</th>\n",
       "      <th>rub_per_message</th>\n",
       "      <th>rub_per_minute</th>\n",
       "      <th>tariff_name</th>\n",
       "    </tr>\n",
       "  </thead>\n",
       "  <tbody>\n",
       "    <tr>\n",
       "      <th>0</th>\n",
       "      <td>1000</td>\n",
       "      <td>5.0</td>\n",
       "      <td>159.0</td>\n",
       "      <td>22.0</td>\n",
       "      <td>2253.49</td>\n",
       "      <td>52</td>\n",
       "      <td>NaT</td>\n",
       "      <td>Краснодар</td>\n",
       "      <td>Рафаил</td>\n",
       "      <td>Верещагин</td>\n",
       "      <td>2018-05-25</td>\n",
       "      <td>ultra</td>\n",
       "      <td>1000</td>\n",
       "      <td>30720</td>\n",
       "      <td>3000</td>\n",
       "      <td>1950</td>\n",
       "      <td>150</td>\n",
       "      <td>1</td>\n",
       "      <td>1</td>\n",
       "      <td>ultra</td>\n",
       "    </tr>\n",
       "    <tr>\n",
       "      <th>1</th>\n",
       "      <td>1000</td>\n",
       "      <td>6.0</td>\n",
       "      <td>172.0</td>\n",
       "      <td>60.0</td>\n",
       "      <td>23233.77</td>\n",
       "      <td>52</td>\n",
       "      <td>NaT</td>\n",
       "      <td>Краснодар</td>\n",
       "      <td>Рафаил</td>\n",
       "      <td>Верещагин</td>\n",
       "      <td>2018-05-25</td>\n",
       "      <td>ultra</td>\n",
       "      <td>1000</td>\n",
       "      <td>30720</td>\n",
       "      <td>3000</td>\n",
       "      <td>1950</td>\n",
       "      <td>150</td>\n",
       "      <td>1</td>\n",
       "      <td>1</td>\n",
       "      <td>ultra</td>\n",
       "    </tr>\n",
       "    <tr>\n",
       "      <th>2</th>\n",
       "      <td>1000</td>\n",
       "      <td>7.0</td>\n",
       "      <td>340.0</td>\n",
       "      <td>75.0</td>\n",
       "      <td>14003.64</td>\n",
       "      <td>52</td>\n",
       "      <td>NaT</td>\n",
       "      <td>Краснодар</td>\n",
       "      <td>Рафаил</td>\n",
       "      <td>Верещагин</td>\n",
       "      <td>2018-05-25</td>\n",
       "      <td>ultra</td>\n",
       "      <td>1000</td>\n",
       "      <td>30720</td>\n",
       "      <td>3000</td>\n",
       "      <td>1950</td>\n",
       "      <td>150</td>\n",
       "      <td>1</td>\n",
       "      <td>1</td>\n",
       "      <td>ultra</td>\n",
       "    </tr>\n",
       "    <tr>\n",
       "      <th>3</th>\n",
       "      <td>1000</td>\n",
       "      <td>8.0</td>\n",
       "      <td>408.0</td>\n",
       "      <td>81.0</td>\n",
       "      <td>14055.93</td>\n",
       "      <td>52</td>\n",
       "      <td>NaT</td>\n",
       "      <td>Краснодар</td>\n",
       "      <td>Рафаил</td>\n",
       "      <td>Верещагин</td>\n",
       "      <td>2018-05-25</td>\n",
       "      <td>ultra</td>\n",
       "      <td>1000</td>\n",
       "      <td>30720</td>\n",
       "      <td>3000</td>\n",
       "      <td>1950</td>\n",
       "      <td>150</td>\n",
       "      <td>1</td>\n",
       "      <td>1</td>\n",
       "      <td>ultra</td>\n",
       "    </tr>\n",
       "    <tr>\n",
       "      <th>4</th>\n",
       "      <td>1000</td>\n",
       "      <td>9.0</td>\n",
       "      <td>466.0</td>\n",
       "      <td>57.0</td>\n",
       "      <td>14568.91</td>\n",
       "      <td>52</td>\n",
       "      <td>NaT</td>\n",
       "      <td>Краснодар</td>\n",
       "      <td>Рафаил</td>\n",
       "      <td>Верещагин</td>\n",
       "      <td>2018-05-25</td>\n",
       "      <td>ultra</td>\n",
       "      <td>1000</td>\n",
       "      <td>30720</td>\n",
       "      <td>3000</td>\n",
       "      <td>1950</td>\n",
       "      <td>150</td>\n",
       "      <td>1</td>\n",
       "      <td>1</td>\n",
       "      <td>ultra</td>\n",
       "    </tr>\n",
       "  </tbody>\n",
       "</table>\n",
       "</div>"
      ],
      "text/plain": [
       "   user_id  month  duration  messages   mb_used  age churn_date       city  \\\n",
       "0     1000    5.0     159.0      22.0   2253.49   52        NaT  Краснодар   \n",
       "1     1000    6.0     172.0      60.0  23233.77   52        NaT  Краснодар   \n",
       "2     1000    7.0     340.0      75.0  14003.64   52        NaT  Краснодар   \n",
       "3     1000    8.0     408.0      81.0  14055.93   52        NaT  Краснодар   \n",
       "4     1000    9.0     466.0      57.0  14568.91   52        NaT  Краснодар   \n",
       "\n",
       "  first_name  last_name   reg_date tariff  messages_included  \\\n",
       "0     Рафаил  Верещагин 2018-05-25  ultra               1000   \n",
       "1     Рафаил  Верещагин 2018-05-25  ultra               1000   \n",
       "2     Рафаил  Верещагин 2018-05-25  ultra               1000   \n",
       "3     Рафаил  Верещагин 2018-05-25  ultra               1000   \n",
       "4     Рафаил  Верещагин 2018-05-25  ultra               1000   \n",
       "\n",
       "   mb_per_month_included  minutes_included  rub_monthly_fee  rub_per_gb  \\\n",
       "0                  30720              3000             1950         150   \n",
       "1                  30720              3000             1950         150   \n",
       "2                  30720              3000             1950         150   \n",
       "3                  30720              3000             1950         150   \n",
       "4                  30720              3000             1950         150   \n",
       "\n",
       "   rub_per_message  rub_per_minute tariff_name  \n",
       "0                1               1       ultra  \n",
       "1                1               1       ultra  \n",
       "2                1               1       ultra  \n",
       "3                1               1       ultra  \n",
       "4                1               1       ultra  "
      ]
     },
     "execution_count": 35,
     "metadata": {},
     "output_type": "execute_result"
    }
   ],
   "source": [
    "#объединение таблиц calls_sum и messages_count в таблицу income\n",
    "income = calls_sum.merge(messages_count, on=['user_id', 'month'], how='outer')\n",
    "#присоединяем к income таблицу internet_sum, убираем мультииндекс\n",
    "income = income.merge(internet_sum, on=['user_id', 'month'], how='outer').reset_index()\n",
    "#присоединяем к income таблицу users\n",
    "income = income.merge(users, on='user_id', how='outer')\n",
    "#присоединяем к income таблицу tariffs\n",
    "income = income.merge(tariffs, left_on='tariff', right_on='tariff_name', how='outer')\n",
    "#заменяем пустые значения в столбцах duration, messages, mb_used на 0\n",
    "income.loc[:, 'duration':'mb_used'] = income.loc[:, 'duration':'mb_used'].fillna(0)\n",
    "income.head()"
   ]
  },
  {
   "cell_type": "markdown",
   "metadata": {},
   "source": [
    "Создадим функцию, которая для каждой строки будет возвращать значение прибыли с каждого пользователя за месяц. "
   ]
  },
  {
   "cell_type": "code",
   "execution_count": 36,
   "metadata": {
    "scrolled": true
   },
   "outputs": [
    {
     "data": {
      "text/html": [
       "<div>\n",
       "<style scoped>\n",
       "    .dataframe tbody tr th:only-of-type {\n",
       "        vertical-align: middle;\n",
       "    }\n",
       "\n",
       "    .dataframe tbody tr th {\n",
       "        vertical-align: top;\n",
       "    }\n",
       "\n",
       "    .dataframe thead th {\n",
       "        text-align: right;\n",
       "    }\n",
       "</style>\n",
       "<table border=\"1\" class=\"dataframe\">\n",
       "  <thead>\n",
       "    <tr style=\"text-align: right;\">\n",
       "      <th></th>\n",
       "      <th>user_id</th>\n",
       "      <th>month</th>\n",
       "      <th>duration</th>\n",
       "      <th>messages</th>\n",
       "      <th>mb_used</th>\n",
       "      <th>age</th>\n",
       "      <th>churn_date</th>\n",
       "      <th>city</th>\n",
       "      <th>first_name</th>\n",
       "      <th>last_name</th>\n",
       "      <th>...</th>\n",
       "      <th>tariff</th>\n",
       "      <th>messages_included</th>\n",
       "      <th>mb_per_month_included</th>\n",
       "      <th>minutes_included</th>\n",
       "      <th>rub_monthly_fee</th>\n",
       "      <th>rub_per_gb</th>\n",
       "      <th>rub_per_message</th>\n",
       "      <th>rub_per_minute</th>\n",
       "      <th>tariff_name</th>\n",
       "      <th>total_income</th>\n",
       "    </tr>\n",
       "  </thead>\n",
       "  <tbody>\n",
       "    <tr>\n",
       "      <th>0</th>\n",
       "      <td>1000</td>\n",
       "      <td>5.0</td>\n",
       "      <td>159.0</td>\n",
       "      <td>22.0</td>\n",
       "      <td>2253.49</td>\n",
       "      <td>52</td>\n",
       "      <td>NaT</td>\n",
       "      <td>Краснодар</td>\n",
       "      <td>Рафаил</td>\n",
       "      <td>Верещагин</td>\n",
       "      <td>...</td>\n",
       "      <td>ultra</td>\n",
       "      <td>1000</td>\n",
       "      <td>30720</td>\n",
       "      <td>3000</td>\n",
       "      <td>1950</td>\n",
       "      <td>150</td>\n",
       "      <td>1</td>\n",
       "      <td>1</td>\n",
       "      <td>ultra</td>\n",
       "      <td>1950.0</td>\n",
       "    </tr>\n",
       "    <tr>\n",
       "      <th>1</th>\n",
       "      <td>1000</td>\n",
       "      <td>6.0</td>\n",
       "      <td>172.0</td>\n",
       "      <td>60.0</td>\n",
       "      <td>23233.77</td>\n",
       "      <td>52</td>\n",
       "      <td>NaT</td>\n",
       "      <td>Краснодар</td>\n",
       "      <td>Рафаил</td>\n",
       "      <td>Верещагин</td>\n",
       "      <td>...</td>\n",
       "      <td>ultra</td>\n",
       "      <td>1000</td>\n",
       "      <td>30720</td>\n",
       "      <td>3000</td>\n",
       "      <td>1950</td>\n",
       "      <td>150</td>\n",
       "      <td>1</td>\n",
       "      <td>1</td>\n",
       "      <td>ultra</td>\n",
       "      <td>1950.0</td>\n",
       "    </tr>\n",
       "    <tr>\n",
       "      <th>2</th>\n",
       "      <td>1000</td>\n",
       "      <td>7.0</td>\n",
       "      <td>340.0</td>\n",
       "      <td>75.0</td>\n",
       "      <td>14003.64</td>\n",
       "      <td>52</td>\n",
       "      <td>NaT</td>\n",
       "      <td>Краснодар</td>\n",
       "      <td>Рафаил</td>\n",
       "      <td>Верещагин</td>\n",
       "      <td>...</td>\n",
       "      <td>ultra</td>\n",
       "      <td>1000</td>\n",
       "      <td>30720</td>\n",
       "      <td>3000</td>\n",
       "      <td>1950</td>\n",
       "      <td>150</td>\n",
       "      <td>1</td>\n",
       "      <td>1</td>\n",
       "      <td>ultra</td>\n",
       "      <td>1950.0</td>\n",
       "    </tr>\n",
       "    <tr>\n",
       "      <th>3</th>\n",
       "      <td>1000</td>\n",
       "      <td>8.0</td>\n",
       "      <td>408.0</td>\n",
       "      <td>81.0</td>\n",
       "      <td>14055.93</td>\n",
       "      <td>52</td>\n",
       "      <td>NaT</td>\n",
       "      <td>Краснодар</td>\n",
       "      <td>Рафаил</td>\n",
       "      <td>Верещагин</td>\n",
       "      <td>...</td>\n",
       "      <td>ultra</td>\n",
       "      <td>1000</td>\n",
       "      <td>30720</td>\n",
       "      <td>3000</td>\n",
       "      <td>1950</td>\n",
       "      <td>150</td>\n",
       "      <td>1</td>\n",
       "      <td>1</td>\n",
       "      <td>ultra</td>\n",
       "      <td>1950.0</td>\n",
       "    </tr>\n",
       "    <tr>\n",
       "      <th>4</th>\n",
       "      <td>1000</td>\n",
       "      <td>9.0</td>\n",
       "      <td>466.0</td>\n",
       "      <td>57.0</td>\n",
       "      <td>14568.91</td>\n",
       "      <td>52</td>\n",
       "      <td>NaT</td>\n",
       "      <td>Краснодар</td>\n",
       "      <td>Рафаил</td>\n",
       "      <td>Верещагин</td>\n",
       "      <td>...</td>\n",
       "      <td>ultra</td>\n",
       "      <td>1000</td>\n",
       "      <td>30720</td>\n",
       "      <td>3000</td>\n",
       "      <td>1950</td>\n",
       "      <td>150</td>\n",
       "      <td>1</td>\n",
       "      <td>1</td>\n",
       "      <td>ultra</td>\n",
       "      <td>1950.0</td>\n",
       "    </tr>\n",
       "    <tr>\n",
       "      <th>5</th>\n",
       "      <td>1000</td>\n",
       "      <td>10.0</td>\n",
       "      <td>350.0</td>\n",
       "      <td>73.0</td>\n",
       "      <td>14702.49</td>\n",
       "      <td>52</td>\n",
       "      <td>NaT</td>\n",
       "      <td>Краснодар</td>\n",
       "      <td>Рафаил</td>\n",
       "      <td>Верещагин</td>\n",
       "      <td>...</td>\n",
       "      <td>ultra</td>\n",
       "      <td>1000</td>\n",
       "      <td>30720</td>\n",
       "      <td>3000</td>\n",
       "      <td>1950</td>\n",
       "      <td>150</td>\n",
       "      <td>1</td>\n",
       "      <td>1</td>\n",
       "      <td>ultra</td>\n",
       "      <td>1950.0</td>\n",
       "    </tr>\n",
       "    <tr>\n",
       "      <th>6</th>\n",
       "      <td>1000</td>\n",
       "      <td>11.0</td>\n",
       "      <td>338.0</td>\n",
       "      <td>58.0</td>\n",
       "      <td>14756.47</td>\n",
       "      <td>52</td>\n",
       "      <td>NaT</td>\n",
       "      <td>Краснодар</td>\n",
       "      <td>Рафаил</td>\n",
       "      <td>Верещагин</td>\n",
       "      <td>...</td>\n",
       "      <td>ultra</td>\n",
       "      <td>1000</td>\n",
       "      <td>30720</td>\n",
       "      <td>3000</td>\n",
       "      <td>1950</td>\n",
       "      <td>150</td>\n",
       "      <td>1</td>\n",
       "      <td>1</td>\n",
       "      <td>ultra</td>\n",
       "      <td>1950.0</td>\n",
       "    </tr>\n",
       "    <tr>\n",
       "      <th>7</th>\n",
       "      <td>1000</td>\n",
       "      <td>12.0</td>\n",
       "      <td>333.0</td>\n",
       "      <td>70.0</td>\n",
       "      <td>9817.61</td>\n",
       "      <td>52</td>\n",
       "      <td>NaT</td>\n",
       "      <td>Краснодар</td>\n",
       "      <td>Рафаил</td>\n",
       "      <td>Верещагин</td>\n",
       "      <td>...</td>\n",
       "      <td>ultra</td>\n",
       "      <td>1000</td>\n",
       "      <td>30720</td>\n",
       "      <td>3000</td>\n",
       "      <td>1950</td>\n",
       "      <td>150</td>\n",
       "      <td>1</td>\n",
       "      <td>1</td>\n",
       "      <td>ultra</td>\n",
       "      <td>1950.0</td>\n",
       "    </tr>\n",
       "    <tr>\n",
       "      <th>8</th>\n",
       "      <td>1003</td>\n",
       "      <td>8.0</td>\n",
       "      <td>380.0</td>\n",
       "      <td>37.0</td>\n",
       "      <td>8565.21</td>\n",
       "      <td>23</td>\n",
       "      <td>NaT</td>\n",
       "      <td>Москва</td>\n",
       "      <td>Белла</td>\n",
       "      <td>Белякова</td>\n",
       "      <td>...</td>\n",
       "      <td>ultra</td>\n",
       "      <td>1000</td>\n",
       "      <td>30720</td>\n",
       "      <td>3000</td>\n",
       "      <td>1950</td>\n",
       "      <td>150</td>\n",
       "      <td>1</td>\n",
       "      <td>1</td>\n",
       "      <td>ultra</td>\n",
       "      <td>1950.0</td>\n",
       "    </tr>\n",
       "    <tr>\n",
       "      <th>9</th>\n",
       "      <td>1003</td>\n",
       "      <td>9.0</td>\n",
       "      <td>961.0</td>\n",
       "      <td>91.0</td>\n",
       "      <td>12468.87</td>\n",
       "      <td>23</td>\n",
       "      <td>NaT</td>\n",
       "      <td>Москва</td>\n",
       "      <td>Белла</td>\n",
       "      <td>Белякова</td>\n",
       "      <td>...</td>\n",
       "      <td>ultra</td>\n",
       "      <td>1000</td>\n",
       "      <td>30720</td>\n",
       "      <td>3000</td>\n",
       "      <td>1950</td>\n",
       "      <td>150</td>\n",
       "      <td>1</td>\n",
       "      <td>1</td>\n",
       "      <td>ultra</td>\n",
       "      <td>1950.0</td>\n",
       "    </tr>\n",
       "  </tbody>\n",
       "</table>\n",
       "<p>10 rows × 21 columns</p>\n",
       "</div>"
      ],
      "text/plain": [
       "   user_id  month  duration  messages   mb_used  age churn_date       city  \\\n",
       "0     1000    5.0     159.0      22.0   2253.49   52        NaT  Краснодар   \n",
       "1     1000    6.0     172.0      60.0  23233.77   52        NaT  Краснодар   \n",
       "2     1000    7.0     340.0      75.0  14003.64   52        NaT  Краснодар   \n",
       "3     1000    8.0     408.0      81.0  14055.93   52        NaT  Краснодар   \n",
       "4     1000    9.0     466.0      57.0  14568.91   52        NaT  Краснодар   \n",
       "5     1000   10.0     350.0      73.0  14702.49   52        NaT  Краснодар   \n",
       "6     1000   11.0     338.0      58.0  14756.47   52        NaT  Краснодар   \n",
       "7     1000   12.0     333.0      70.0   9817.61   52        NaT  Краснодар   \n",
       "8     1003    8.0     380.0      37.0   8565.21   23        NaT     Москва   \n",
       "9     1003    9.0     961.0      91.0  12468.87   23        NaT     Москва   \n",
       "\n",
       "  first_name  last_name  ... tariff messages_included  mb_per_month_included  \\\n",
       "0     Рафаил  Верещагин  ...  ultra              1000                  30720   \n",
       "1     Рафаил  Верещагин  ...  ultra              1000                  30720   \n",
       "2     Рафаил  Верещагин  ...  ultra              1000                  30720   \n",
       "3     Рафаил  Верещагин  ...  ultra              1000                  30720   \n",
       "4     Рафаил  Верещагин  ...  ultra              1000                  30720   \n",
       "5     Рафаил  Верещагин  ...  ultra              1000                  30720   \n",
       "6     Рафаил  Верещагин  ...  ultra              1000                  30720   \n",
       "7     Рафаил  Верещагин  ...  ultra              1000                  30720   \n",
       "8      Белла   Белякова  ...  ultra              1000                  30720   \n",
       "9      Белла   Белякова  ...  ultra              1000                  30720   \n",
       "\n",
       "   minutes_included  rub_monthly_fee  rub_per_gb  rub_per_message  \\\n",
       "0              3000             1950         150                1   \n",
       "1              3000             1950         150                1   \n",
       "2              3000             1950         150                1   \n",
       "3              3000             1950         150                1   \n",
       "4              3000             1950         150                1   \n",
       "5              3000             1950         150                1   \n",
       "6              3000             1950         150                1   \n",
       "7              3000             1950         150                1   \n",
       "8              3000             1950         150                1   \n",
       "9              3000             1950         150                1   \n",
       "\n",
       "   rub_per_minute  tariff_name total_income  \n",
       "0               1        ultra       1950.0  \n",
       "1               1        ultra       1950.0  \n",
       "2               1        ultra       1950.0  \n",
       "3               1        ultra       1950.0  \n",
       "4               1        ultra       1950.0  \n",
       "5               1        ultra       1950.0  \n",
       "6               1        ultra       1950.0  \n",
       "7               1        ultra       1950.0  \n",
       "8               1        ultra       1950.0  \n",
       "9               1        ultra       1950.0  \n",
       "\n",
       "[10 rows x 21 columns]"
      ]
     },
     "execution_count": 36,
     "metadata": {},
     "output_type": "execute_result"
    }
   ],
   "source": [
    "#функция возвращает значение выручки за месяц, \n",
    "#сначала вычисляется прибыль за количество минут, сообщений и трафика(в гигабайтах),\n",
    "#потраченных сверх тарифа, затем прибавляется ежемесячная плата\n",
    "def total_income(row):\n",
    "    total = np.maximum(row['duration'] - row['minutes_included'], 0) * row['rub_per_minute']\n",
    "    total += np.maximum(row['messages'] - row['messages_included'], 0) * row['rub_per_message']\n",
    "    #округляем трафик до целых Гб\n",
    "    total += np.ceil(np.maximum(row['mb_used'] - row['mb_per_month_included'], 0) / 1024) * row['rub_per_gb']\n",
    "    total += row['rub_monthly_fee']\n",
    "    return total\n",
    "    \n",
    "income['total_income'] = income.apply(total_income, axis=1)  \n",
    "income.head(10)"
   ]
  },
  {
   "cell_type": "markdown",
   "metadata": {},
   "source": [
    "Соберем финальную таблицу со значением выручки с каждого пользователя за каждый месяц."
   ]
  },
  {
   "cell_type": "code",
   "execution_count": 37,
   "metadata": {
    "scrolled": true
   },
   "outputs": [
    {
     "data": {
      "text/html": [
       "<div>\n",
       "<style scoped>\n",
       "    .dataframe tbody tr th:only-of-type {\n",
       "        vertical-align: middle;\n",
       "    }\n",
       "\n",
       "    .dataframe tbody tr th {\n",
       "        vertical-align: top;\n",
       "    }\n",
       "\n",
       "    .dataframe thead th {\n",
       "        text-align: right;\n",
       "    }\n",
       "</style>\n",
       "<table border=\"1\" class=\"dataframe\">\n",
       "  <thead>\n",
       "    <tr style=\"text-align: right;\">\n",
       "      <th>month</th>\n",
       "      <th>1</th>\n",
       "      <th>2</th>\n",
       "      <th>3</th>\n",
       "      <th>4</th>\n",
       "      <th>5</th>\n",
       "      <th>6</th>\n",
       "      <th>7</th>\n",
       "      <th>8</th>\n",
       "      <th>9</th>\n",
       "      <th>10</th>\n",
       "      <th>11</th>\n",
       "      <th>12</th>\n",
       "    </tr>\n",
       "    <tr>\n",
       "      <th>user_id</th>\n",
       "      <th></th>\n",
       "      <th></th>\n",
       "      <th></th>\n",
       "      <th></th>\n",
       "      <th></th>\n",
       "      <th></th>\n",
       "      <th></th>\n",
       "      <th></th>\n",
       "      <th></th>\n",
       "      <th></th>\n",
       "      <th></th>\n",
       "      <th></th>\n",
       "    </tr>\n",
       "  </thead>\n",
       "  <tbody>\n",
       "    <tr>\n",
       "      <th>1000</th>\n",
       "      <td>NaN</td>\n",
       "      <td>NaN</td>\n",
       "      <td>NaN</td>\n",
       "      <td>NaN</td>\n",
       "      <td>1950.0</td>\n",
       "      <td>1950.0</td>\n",
       "      <td>1950.0</td>\n",
       "      <td>1950.0</td>\n",
       "      <td>1950.0</td>\n",
       "      <td>1950.0</td>\n",
       "      <td>1950.0</td>\n",
       "      <td>1950.0</td>\n",
       "    </tr>\n",
       "    <tr>\n",
       "      <th>1001</th>\n",
       "      <td>NaN</td>\n",
       "      <td>NaN</td>\n",
       "      <td>NaN</td>\n",
       "      <td>NaN</td>\n",
       "      <td>NaN</td>\n",
       "      <td>NaN</td>\n",
       "      <td>NaN</td>\n",
       "      <td>NaN</td>\n",
       "      <td>NaN</td>\n",
       "      <td>NaN</td>\n",
       "      <td>1150.0</td>\n",
       "      <td>550.0</td>\n",
       "    </tr>\n",
       "    <tr>\n",
       "      <th>1002</th>\n",
       "      <td>NaN</td>\n",
       "      <td>NaN</td>\n",
       "      <td>NaN</td>\n",
       "      <td>NaN</td>\n",
       "      <td>NaN</td>\n",
       "      <td>550.0</td>\n",
       "      <td>1150.0</td>\n",
       "      <td>1550.0</td>\n",
       "      <td>950.0</td>\n",
       "      <td>550.0</td>\n",
       "      <td>1350.0</td>\n",
       "      <td>1150.0</td>\n",
       "    </tr>\n",
       "    <tr>\n",
       "      <th>1003</th>\n",
       "      <td>NaN</td>\n",
       "      <td>NaN</td>\n",
       "      <td>NaN</td>\n",
       "      <td>NaN</td>\n",
       "      <td>NaN</td>\n",
       "      <td>NaN</td>\n",
       "      <td>NaN</td>\n",
       "      <td>1950.0</td>\n",
       "      <td>1950.0</td>\n",
       "      <td>1950.0</td>\n",
       "      <td>1950.0</td>\n",
       "      <td>1950.0</td>\n",
       "    </tr>\n",
       "    <tr>\n",
       "      <th>1004</th>\n",
       "      <td>NaN</td>\n",
       "      <td>NaN</td>\n",
       "      <td>NaN</td>\n",
       "      <td>NaN</td>\n",
       "      <td>1950.0</td>\n",
       "      <td>1950.0</td>\n",
       "      <td>1950.0</td>\n",
       "      <td>1950.0</td>\n",
       "      <td>1950.0</td>\n",
       "      <td>1950.0</td>\n",
       "      <td>1950.0</td>\n",
       "      <td>1950.0</td>\n",
       "    </tr>\n",
       "    <tr>\n",
       "      <th>1005</th>\n",
       "      <td>550.0</td>\n",
       "      <td>550.0</td>\n",
       "      <td>886.0</td>\n",
       "      <td>1186.0</td>\n",
       "      <td>835.0</td>\n",
       "      <td>886.0</td>\n",
       "      <td>775.0</td>\n",
       "      <td>949.0</td>\n",
       "      <td>556.0</td>\n",
       "      <td>1219.0</td>\n",
       "      <td>694.0</td>\n",
       "      <td>838.0</td>\n",
       "    </tr>\n",
       "    <tr>\n",
       "      <th>1006</th>\n",
       "      <td>NaN</td>\n",
       "      <td>550.0</td>\n",
       "      <td>950.0</td>\n",
       "      <td>550.0</td>\n",
       "      <td>550.0</td>\n",
       "      <td>550.0</td>\n",
       "      <td>1550.0</td>\n",
       "      <td>1350.0</td>\n",
       "      <td>750.0</td>\n",
       "      <td>1550.0</td>\n",
       "      <td>550.0</td>\n",
       "      <td>1350.0</td>\n",
       "    </tr>\n",
       "    <tr>\n",
       "      <th>1007</th>\n",
       "      <td>NaN</td>\n",
       "      <td>NaN</td>\n",
       "      <td>NaN</td>\n",
       "      <td>550.0</td>\n",
       "      <td>1150.0</td>\n",
       "      <td>685.0</td>\n",
       "      <td>981.0</td>\n",
       "      <td>1750.0</td>\n",
       "      <td>1015.0</td>\n",
       "      <td>550.0</td>\n",
       "      <td>990.0</td>\n",
       "      <td>550.0</td>\n",
       "    </tr>\n",
       "    <tr>\n",
       "      <th>1008</th>\n",
       "      <td>NaN</td>\n",
       "      <td>NaN</td>\n",
       "      <td>NaN</td>\n",
       "      <td>NaN</td>\n",
       "      <td>NaN</td>\n",
       "      <td>NaN</td>\n",
       "      <td>NaN</td>\n",
       "      <td>NaN</td>\n",
       "      <td>NaN</td>\n",
       "      <td>NaN</td>\n",
       "      <td>NaN</td>\n",
       "      <td>568.0</td>\n",
       "    </tr>\n",
       "    <tr>\n",
       "      <th>1009</th>\n",
       "      <td>NaN</td>\n",
       "      <td>NaN</td>\n",
       "      <td>550.0</td>\n",
       "      <td>550.0</td>\n",
       "      <td>550.0</td>\n",
       "      <td>750.0</td>\n",
       "      <td>2550.0</td>\n",
       "      <td>2350.0</td>\n",
       "      <td>1950.0</td>\n",
       "      <td>1550.0</td>\n",
       "      <td>950.0</td>\n",
       "      <td>1350.0</td>\n",
       "    </tr>\n",
       "  </tbody>\n",
       "</table>\n",
       "</div>"
      ],
      "text/plain": [
       "month       1      2      3       4       5       6       7       8       9   \\\n",
       "user_id                                                                        \n",
       "1000       NaN    NaN    NaN     NaN  1950.0  1950.0  1950.0  1950.0  1950.0   \n",
       "1001       NaN    NaN    NaN     NaN     NaN     NaN     NaN     NaN     NaN   \n",
       "1002       NaN    NaN    NaN     NaN     NaN   550.0  1150.0  1550.0   950.0   \n",
       "1003       NaN    NaN    NaN     NaN     NaN     NaN     NaN  1950.0  1950.0   \n",
       "1004       NaN    NaN    NaN     NaN  1950.0  1950.0  1950.0  1950.0  1950.0   \n",
       "1005     550.0  550.0  886.0  1186.0   835.0   886.0   775.0   949.0   556.0   \n",
       "1006       NaN  550.0  950.0   550.0   550.0   550.0  1550.0  1350.0   750.0   \n",
       "1007       NaN    NaN    NaN   550.0  1150.0   685.0   981.0  1750.0  1015.0   \n",
       "1008       NaN    NaN    NaN     NaN     NaN     NaN     NaN     NaN     NaN   \n",
       "1009       NaN    NaN  550.0   550.0   550.0   750.0  2550.0  2350.0  1950.0   \n",
       "\n",
       "month        10      11      12  \n",
       "user_id                          \n",
       "1000     1950.0  1950.0  1950.0  \n",
       "1001        NaN  1150.0   550.0  \n",
       "1002      550.0  1350.0  1150.0  \n",
       "1003     1950.0  1950.0  1950.0  \n",
       "1004     1950.0  1950.0  1950.0  \n",
       "1005     1219.0   694.0   838.0  \n",
       "1006     1550.0   550.0  1350.0  \n",
       "1007      550.0   990.0   550.0  \n",
       "1008        NaN     NaN   568.0  \n",
       "1009     1550.0   950.0  1350.0  "
      ]
     },
     "execution_count": 37,
     "metadata": {},
     "output_type": "execute_result"
    }
   ],
   "source": [
    "#создание сводной таблицы с прибылью с пользователей за месяц\n",
    "income_pivot = income.pivot_table(index='user_id', columns='month', values='total_income')\n",
    "#приведем месяцы к типу int\n",
    "income_pivot.columns = income_pivot.columns.astype('int')\n",
    "income_pivot.head(10)"
   ]
  },
  {
   "cell_type": "markdown",
   "metadata": {},
   "source": [
    "Также посчитаем среднюю помесячную выручку с каждого пользователя для каждого тарифа."
   ]
  },
  {
   "cell_type": "code",
   "execution_count": 38,
   "metadata": {},
   "outputs": [
    {
     "data": {
      "text/html": [
       "<div>\n",
       "<style scoped>\n",
       "    .dataframe tbody tr th:only-of-type {\n",
       "        vertical-align: middle;\n",
       "    }\n",
       "\n",
       "    .dataframe tbody tr th {\n",
       "        vertical-align: top;\n",
       "    }\n",
       "\n",
       "    .dataframe thead th {\n",
       "        text-align: right;\n",
       "    }\n",
       "</style>\n",
       "<table border=\"1\" class=\"dataframe\">\n",
       "  <thead>\n",
       "    <tr style=\"text-align: right;\">\n",
       "      <th>month</th>\n",
       "      <th>1</th>\n",
       "      <th>2</th>\n",
       "      <th>3</th>\n",
       "      <th>4</th>\n",
       "      <th>5</th>\n",
       "      <th>6</th>\n",
       "      <th>7</th>\n",
       "      <th>8</th>\n",
       "      <th>9</th>\n",
       "      <th>10</th>\n",
       "      <th>11</th>\n",
       "      <th>12</th>\n",
       "    </tr>\n",
       "  </thead>\n",
       "  <tbody>\n",
       "    <tr>\n",
       "      <th>total_income</th>\n",
       "      <td>721.323529</td>\n",
       "      <td>827.603448</td>\n",
       "      <td>1164.623377</td>\n",
       "      <td>963.089286</td>\n",
       "      <td>1197.510638</td>\n",
       "      <td>1204.018293</td>\n",
       "      <td>1223.950249</td>\n",
       "      <td>1320.595745</td>\n",
       "      <td>1249.946154</td>\n",
       "      <td>1364.853741</td>\n",
       "      <td>1343.047468</td>\n",
       "      <td>1578.531157</td>\n",
       "    </tr>\n",
       "  </tbody>\n",
       "</table>\n",
       "</div>"
      ],
      "text/plain": [
       "month                 1           2            3           4            5   \\\n",
       "total_income  721.323529  827.603448  1164.623377  963.089286  1197.510638   \n",
       "\n",
       "month                  6            7            8            9            10  \\\n",
       "total_income  1204.018293  1223.950249  1320.595745  1249.946154  1364.853741   \n",
       "\n",
       "month                  11           12  \n",
       "total_income  1343.047468  1578.531157  "
      ]
     },
     "execution_count": 38,
     "metadata": {},
     "output_type": "execute_result"
    }
   ],
   "source": [
    "#создание сводной таблицы со средней выручкой для тарифа \"Смарт\"\n",
    "income_smart_mean = income[income['tariff']=='smart'].pivot_table(columns='month', \n",
    "                                              values='total_income', \n",
    "                                              aggfunc='mean')\n",
    "income_smart_mean.columns = income_smart_mean.columns.astype('int')\n",
    "income_smart_mean"
   ]
  },
  {
   "cell_type": "code",
   "execution_count": 39,
   "metadata": {
    "scrolled": true
   },
   "outputs": [
    {
     "data": {
      "text/html": [
       "<div>\n",
       "<style scoped>\n",
       "    .dataframe tbody tr th:only-of-type {\n",
       "        vertical-align: middle;\n",
       "    }\n",
       "\n",
       "    .dataframe tbody tr th {\n",
       "        vertical-align: top;\n",
       "    }\n",
       "\n",
       "    .dataframe thead th {\n",
       "        text-align: right;\n",
       "    }\n",
       "</style>\n",
       "<table border=\"1\" class=\"dataframe\">\n",
       "  <thead>\n",
       "    <tr style=\"text-align: right;\">\n",
       "      <th>month</th>\n",
       "      <th>1</th>\n",
       "      <th>2</th>\n",
       "      <th>3</th>\n",
       "      <th>4</th>\n",
       "      <th>5</th>\n",
       "      <th>6</th>\n",
       "      <th>7</th>\n",
       "      <th>8</th>\n",
       "      <th>9</th>\n",
       "      <th>10</th>\n",
       "      <th>11</th>\n",
       "      <th>12</th>\n",
       "    </tr>\n",
       "  </thead>\n",
       "  <tbody>\n",
       "    <tr>\n",
       "      <th>total_income</th>\n",
       "      <td>1950.0</td>\n",
       "      <td>1975.0</td>\n",
       "      <td>2014.864865</td>\n",
       "      <td>2001.818182</td>\n",
       "      <td>2059.701493</td>\n",
       "      <td>2039.285714</td>\n",
       "      <td>2118.131868</td>\n",
       "      <td>2083.17757</td>\n",
       "      <td>2024.347826</td>\n",
       "      <td>2065.853659</td>\n",
       "      <td>2092.164179</td>\n",
       "      <td>2138.848921</td>\n",
       "    </tr>\n",
       "  </tbody>\n",
       "</table>\n",
       "</div>"
      ],
      "text/plain": [
       "month             1       2            3            4            5   \\\n",
       "total_income  1950.0  1975.0  2014.864865  2001.818182  2059.701493   \n",
       "\n",
       "month                  6            7           8            9            10  \\\n",
       "total_income  2039.285714  2118.131868  2083.17757  2024.347826  2065.853659   \n",
       "\n",
       "month                  11           12  \n",
       "total_income  2092.164179  2138.848921  "
      ]
     },
     "execution_count": 39,
     "metadata": {},
     "output_type": "execute_result"
    }
   ],
   "source": [
    "#создание сводной таблицы со средней выручкой для тарифа \"Ультра\"\n",
    "income_ultra_mean = income[income['tariff']=='ultra'].pivot_table(columns='month', \n",
    "                                              values='total_income', \n",
    "                                              aggfunc='mean')\n",
    "income_ultra_mean.columns = income_smart_mean.columns.astype('int')\n",
    "income_ultra_mean"
   ]
  },
  {
   "cell_type": "markdown",
   "metadata": {},
   "source": [
    "Из полученных таблиц можно сделать вывод, что тариф \"Ультра\" приносит большую выручку каждый месяц с одного пользователя, чем тариф \"Смарт\"."
   ]
  },
  {
   "cell_type": "markdown",
   "metadata": {},
   "source": [
    "### Вывод"
   ]
  },
  {
   "cell_type": "markdown",
   "metadata": {},
   "source": [
    "На данном этапе:\n",
    "1. Был удален столбец `Unnamed: 0` таблицы `internet`.\n",
    "2. Были заменены на `datetime` типы данных столбцов `call_date` таблицы `calls`, `session_date` таблицы `internet`, `message_date` таблицы `messages`, `churn_date` и `reg_date` таблицы `users`.\n",
    "3. Для каждого пользователя были посчитаны:\n",
    "  * количество сделанных звонков и израсходованных минут разговора по месяцам;\n",
    "  * количество отправленных сообщений по месяцам;\n",
    "  * объем израсходованного интернет-трафика по месяцам;\n",
    "  * помесячная выручка с каждого пользователя.\n",
    "4. Была посчитана средняя выручка с каждого пользователя в месяц для каждого тарифа, был сделан вывод, что тариф \"Ультра\" приносит большую выручку в месяц, чем тариф \"Смарт\"."
   ]
  },
  {
   "cell_type": "markdown",
   "metadata": {},
   "source": [
    "## Анализ данных"
   ]
  },
  {
   "cell_type": "markdown",
   "metadata": {},
   "source": [
    "Для каждого тарифа опишем поведение клиентов. Посмотрим, сколько минут разговора, сообщений и объем трафика требуется ежемесячно пользователям каждого тарифа. "
   ]
  },
  {
   "cell_type": "markdown",
   "metadata": {},
   "source": [
    "### Минуты разговора"
   ]
  },
  {
   "cell_type": "markdown",
   "metadata": {},
   "source": [
    "Вычислим среднее количество, дисперсию и стандартное отклонение для каждого тарифа. Так как нам доступна не генеральная совокупность, а выборка, то будем считать несмещенную оценку для дисперсии и для стандартного отклонения."
   ]
  },
  {
   "cell_type": "markdown",
   "metadata": {},
   "source": [
    "* Тариф \"Смарт\""
   ]
  },
  {
   "cell_type": "code",
   "execution_count": 40,
   "metadata": {},
   "outputs": [
    {
     "data": {
      "text/html": [
       "<div>\n",
       "<style scoped>\n",
       "    .dataframe tbody tr th:only-of-type {\n",
       "        vertical-align: middle;\n",
       "    }\n",
       "\n",
       "    .dataframe tbody tr th {\n",
       "        vertical-align: top;\n",
       "    }\n",
       "\n",
       "    .dataframe thead th {\n",
       "        text-align: right;\n",
       "    }\n",
       "</style>\n",
       "<table border=\"1\" class=\"dataframe\">\n",
       "  <thead>\n",
       "    <tr style=\"text-align: right;\">\n",
       "      <th></th>\n",
       "      <th>user_id</th>\n",
       "      <th>month</th>\n",
       "      <th>duration</th>\n",
       "      <th>messages</th>\n",
       "      <th>mb_used</th>\n",
       "      <th>age</th>\n",
       "      <th>churn_date</th>\n",
       "      <th>city</th>\n",
       "      <th>first_name</th>\n",
       "      <th>last_name</th>\n",
       "      <th>...</th>\n",
       "      <th>tariff</th>\n",
       "      <th>messages_included</th>\n",
       "      <th>mb_per_month_included</th>\n",
       "      <th>minutes_included</th>\n",
       "      <th>rub_monthly_fee</th>\n",
       "      <th>rub_per_gb</th>\n",
       "      <th>rub_per_message</th>\n",
       "      <th>rub_per_minute</th>\n",
       "      <th>tariff_name</th>\n",
       "      <th>total_income</th>\n",
       "    </tr>\n",
       "  </thead>\n",
       "  <tbody>\n",
       "    <tr>\n",
       "      <th>986</th>\n",
       "      <td>1001</td>\n",
       "      <td>11.0</td>\n",
       "      <td>430.0</td>\n",
       "      <td>0.0</td>\n",
       "      <td>18429.34</td>\n",
       "      <td>41</td>\n",
       "      <td>NaT</td>\n",
       "      <td>Москва</td>\n",
       "      <td>Иван</td>\n",
       "      <td>Ежов</td>\n",
       "      <td>...</td>\n",
       "      <td>smart</td>\n",
       "      <td>50</td>\n",
       "      <td>15360</td>\n",
       "      <td>500</td>\n",
       "      <td>550</td>\n",
       "      <td>200</td>\n",
       "      <td>3</td>\n",
       "      <td>3</td>\n",
       "      <td>smart</td>\n",
       "      <td>1150.0</td>\n",
       "    </tr>\n",
       "    <tr>\n",
       "      <th>987</th>\n",
       "      <td>1001</td>\n",
       "      <td>12.0</td>\n",
       "      <td>414.0</td>\n",
       "      <td>0.0</td>\n",
       "      <td>14036.66</td>\n",
       "      <td>41</td>\n",
       "      <td>NaT</td>\n",
       "      <td>Москва</td>\n",
       "      <td>Иван</td>\n",
       "      <td>Ежов</td>\n",
       "      <td>...</td>\n",
       "      <td>smart</td>\n",
       "      <td>50</td>\n",
       "      <td>15360</td>\n",
       "      <td>500</td>\n",
       "      <td>550</td>\n",
       "      <td>200</td>\n",
       "      <td>3</td>\n",
       "      <td>3</td>\n",
       "      <td>smart</td>\n",
       "      <td>550.0</td>\n",
       "    </tr>\n",
       "    <tr>\n",
       "      <th>988</th>\n",
       "      <td>1002</td>\n",
       "      <td>6.0</td>\n",
       "      <td>117.0</td>\n",
       "      <td>4.0</td>\n",
       "      <td>10856.82</td>\n",
       "      <td>59</td>\n",
       "      <td>NaT</td>\n",
       "      <td>Стерлитамак</td>\n",
       "      <td>Евгений</td>\n",
       "      <td>Абрамович</td>\n",
       "      <td>...</td>\n",
       "      <td>smart</td>\n",
       "      <td>50</td>\n",
       "      <td>15360</td>\n",
       "      <td>500</td>\n",
       "      <td>550</td>\n",
       "      <td>200</td>\n",
       "      <td>3</td>\n",
       "      <td>3</td>\n",
       "      <td>smart</td>\n",
       "      <td>550.0</td>\n",
       "    </tr>\n",
       "    <tr>\n",
       "      <th>989</th>\n",
       "      <td>1002</td>\n",
       "      <td>7.0</td>\n",
       "      <td>214.0</td>\n",
       "      <td>11.0</td>\n",
       "      <td>17580.10</td>\n",
       "      <td>59</td>\n",
       "      <td>NaT</td>\n",
       "      <td>Стерлитамак</td>\n",
       "      <td>Евгений</td>\n",
       "      <td>Абрамович</td>\n",
       "      <td>...</td>\n",
       "      <td>smart</td>\n",
       "      <td>50</td>\n",
       "      <td>15360</td>\n",
       "      <td>500</td>\n",
       "      <td>550</td>\n",
       "      <td>200</td>\n",
       "      <td>3</td>\n",
       "      <td>3</td>\n",
       "      <td>smart</td>\n",
       "      <td>1150.0</td>\n",
       "    </tr>\n",
       "    <tr>\n",
       "      <th>990</th>\n",
       "      <td>1002</td>\n",
       "      <td>8.0</td>\n",
       "      <td>289.0</td>\n",
       "      <td>13.0</td>\n",
       "      <td>20319.26</td>\n",
       "      <td>59</td>\n",
       "      <td>NaT</td>\n",
       "      <td>Стерлитамак</td>\n",
       "      <td>Евгений</td>\n",
       "      <td>Абрамович</td>\n",
       "      <td>...</td>\n",
       "      <td>smart</td>\n",
       "      <td>50</td>\n",
       "      <td>15360</td>\n",
       "      <td>500</td>\n",
       "      <td>550</td>\n",
       "      <td>200</td>\n",
       "      <td>3</td>\n",
       "      <td>3</td>\n",
       "      <td>smart</td>\n",
       "      <td>1550.0</td>\n",
       "    </tr>\n",
       "  </tbody>\n",
       "</table>\n",
       "<p>5 rows × 21 columns</p>\n",
       "</div>"
      ],
      "text/plain": [
       "     user_id  month  duration  messages   mb_used  age churn_date  \\\n",
       "986     1001   11.0     430.0       0.0  18429.34   41        NaT   \n",
       "987     1001   12.0     414.0       0.0  14036.66   41        NaT   \n",
       "988     1002    6.0     117.0       4.0  10856.82   59        NaT   \n",
       "989     1002    7.0     214.0      11.0  17580.10   59        NaT   \n",
       "990     1002    8.0     289.0      13.0  20319.26   59        NaT   \n",
       "\n",
       "            city first_name  last_name  ... tariff messages_included  \\\n",
       "986       Москва       Иван       Ежов  ...  smart                50   \n",
       "987       Москва       Иван       Ежов  ...  smart                50   \n",
       "988  Стерлитамак    Евгений  Абрамович  ...  smart                50   \n",
       "989  Стерлитамак    Евгений  Абрамович  ...  smart                50   \n",
       "990  Стерлитамак    Евгений  Абрамович  ...  smart                50   \n",
       "\n",
       "     mb_per_month_included  minutes_included  rub_monthly_fee  rub_per_gb  \\\n",
       "986                  15360               500              550         200   \n",
       "987                  15360               500              550         200   \n",
       "988                  15360               500              550         200   \n",
       "989                  15360               500              550         200   \n",
       "990                  15360               500              550         200   \n",
       "\n",
       "     rub_per_message  rub_per_minute  tariff_name total_income  \n",
       "986                3               3        smart       1150.0  \n",
       "987                3               3        smart        550.0  \n",
       "988                3               3        smart        550.0  \n",
       "989                3               3        smart       1150.0  \n",
       "990                3               3        smart       1550.0  \n",
       "\n",
       "[5 rows x 21 columns]"
      ]
     },
     "execution_count": 40,
     "metadata": {},
     "output_type": "execute_result"
    }
   ],
   "source": [
    "#выделение данных о тарифе \"Смарт\"\n",
    "smart = income[income['tariff']=='smart']\n",
    "smart.head()"
   ]
  },
  {
   "cell_type": "code",
   "execution_count": 41,
   "metadata": {},
   "outputs": [
    {
     "data": {
      "text/plain": [
       "417.747533632287"
      ]
     },
     "execution_count": 41,
     "metadata": {},
     "output_type": "execute_result"
    }
   ],
   "source": [
    "#среднее количество минут для тарифа \"Смарт\"\n",
    "smart['duration'].mean()"
   ]
  },
  {
   "cell_type": "code",
   "execution_count": 42,
   "metadata": {},
   "outputs": [
    {
     "data": {
      "text/plain": [
       "36281.39383644458"
      ]
     },
     "execution_count": 42,
     "metadata": {},
     "output_type": "execute_result"
    }
   ],
   "source": [
    "#дисперсия для тарифа \"Смарт\"(т.к. у нас в распоряжении только выборка, то ddof=1)\n",
    "np.var(smart['duration'], ddof=1)"
   ]
  },
  {
   "cell_type": "code",
   "execution_count": 43,
   "metadata": {
    "scrolled": true
   },
   "outputs": [
    {
     "data": {
      "text/plain": [
       "190.4767540579285"
      ]
     },
     "execution_count": 43,
     "metadata": {},
     "output_type": "execute_result"
    }
   ],
   "source": [
    "#стандартное отклонение для тарифа \"Смарт\"\n",
    "np.std(smart['duration'], ddof=1)"
   ]
  },
  {
   "cell_type": "markdown",
   "metadata": {},
   "source": [
    "Найдем по правилу трех сигм промежуток, в котором лежит большинство значений для тарифа \"Смарт\"."
   ]
  },
  {
   "cell_type": "code",
   "execution_count": 44,
   "metadata": {},
   "outputs": [
    {
     "name": "stdout",
     "output_type": "stream",
     "text": [
      "-153.68272854149853 989.1777958060725\n"
     ]
    }
   ],
   "source": [
    "print(smart['duration'].mean() - 3 * np.std(smart['duration'], ddof=1), \n",
    "      smart['duration'].mean() + 3 * np.std(smart['duration'], ddof=1))"
   ]
  },
  {
   "cell_type": "markdown",
   "metadata": {},
   "source": [
    "Так как значение времени не может быть отрицательным, промежуток, в котором лежит около 99% значений - (0, 989)."
   ]
  },
  {
   "cell_type": "markdown",
   "metadata": {},
   "source": [
    "* Тариф \"Ультра\""
   ]
  },
  {
   "cell_type": "code",
   "execution_count": 45,
   "metadata": {},
   "outputs": [
    {
     "data": {
      "text/html": [
       "<div>\n",
       "<style scoped>\n",
       "    .dataframe tbody tr th:only-of-type {\n",
       "        vertical-align: middle;\n",
       "    }\n",
       "\n",
       "    .dataframe tbody tr th {\n",
       "        vertical-align: top;\n",
       "    }\n",
       "\n",
       "    .dataframe thead th {\n",
       "        text-align: right;\n",
       "    }\n",
       "</style>\n",
       "<table border=\"1\" class=\"dataframe\">\n",
       "  <thead>\n",
       "    <tr style=\"text-align: right;\">\n",
       "      <th></th>\n",
       "      <th>user_id</th>\n",
       "      <th>month</th>\n",
       "      <th>duration</th>\n",
       "      <th>messages</th>\n",
       "      <th>mb_used</th>\n",
       "      <th>age</th>\n",
       "      <th>churn_date</th>\n",
       "      <th>city</th>\n",
       "      <th>first_name</th>\n",
       "      <th>last_name</th>\n",
       "      <th>...</th>\n",
       "      <th>tariff</th>\n",
       "      <th>messages_included</th>\n",
       "      <th>mb_per_month_included</th>\n",
       "      <th>minutes_included</th>\n",
       "      <th>rub_monthly_fee</th>\n",
       "      <th>rub_per_gb</th>\n",
       "      <th>rub_per_message</th>\n",
       "      <th>rub_per_minute</th>\n",
       "      <th>tariff_name</th>\n",
       "      <th>total_income</th>\n",
       "    </tr>\n",
       "  </thead>\n",
       "  <tbody>\n",
       "    <tr>\n",
       "      <th>0</th>\n",
       "      <td>1000</td>\n",
       "      <td>5.0</td>\n",
       "      <td>159.0</td>\n",
       "      <td>22.0</td>\n",
       "      <td>2253.49</td>\n",
       "      <td>52</td>\n",
       "      <td>NaT</td>\n",
       "      <td>Краснодар</td>\n",
       "      <td>Рафаил</td>\n",
       "      <td>Верещагин</td>\n",
       "      <td>...</td>\n",
       "      <td>ultra</td>\n",
       "      <td>1000</td>\n",
       "      <td>30720</td>\n",
       "      <td>3000</td>\n",
       "      <td>1950</td>\n",
       "      <td>150</td>\n",
       "      <td>1</td>\n",
       "      <td>1</td>\n",
       "      <td>ultra</td>\n",
       "      <td>1950.0</td>\n",
       "    </tr>\n",
       "    <tr>\n",
       "      <th>1</th>\n",
       "      <td>1000</td>\n",
       "      <td>6.0</td>\n",
       "      <td>172.0</td>\n",
       "      <td>60.0</td>\n",
       "      <td>23233.77</td>\n",
       "      <td>52</td>\n",
       "      <td>NaT</td>\n",
       "      <td>Краснодар</td>\n",
       "      <td>Рафаил</td>\n",
       "      <td>Верещагин</td>\n",
       "      <td>...</td>\n",
       "      <td>ultra</td>\n",
       "      <td>1000</td>\n",
       "      <td>30720</td>\n",
       "      <td>3000</td>\n",
       "      <td>1950</td>\n",
       "      <td>150</td>\n",
       "      <td>1</td>\n",
       "      <td>1</td>\n",
       "      <td>ultra</td>\n",
       "      <td>1950.0</td>\n",
       "    </tr>\n",
       "    <tr>\n",
       "      <th>2</th>\n",
       "      <td>1000</td>\n",
       "      <td>7.0</td>\n",
       "      <td>340.0</td>\n",
       "      <td>75.0</td>\n",
       "      <td>14003.64</td>\n",
       "      <td>52</td>\n",
       "      <td>NaT</td>\n",
       "      <td>Краснодар</td>\n",
       "      <td>Рафаил</td>\n",
       "      <td>Верещагин</td>\n",
       "      <td>...</td>\n",
       "      <td>ultra</td>\n",
       "      <td>1000</td>\n",
       "      <td>30720</td>\n",
       "      <td>3000</td>\n",
       "      <td>1950</td>\n",
       "      <td>150</td>\n",
       "      <td>1</td>\n",
       "      <td>1</td>\n",
       "      <td>ultra</td>\n",
       "      <td>1950.0</td>\n",
       "    </tr>\n",
       "    <tr>\n",
       "      <th>3</th>\n",
       "      <td>1000</td>\n",
       "      <td>8.0</td>\n",
       "      <td>408.0</td>\n",
       "      <td>81.0</td>\n",
       "      <td>14055.93</td>\n",
       "      <td>52</td>\n",
       "      <td>NaT</td>\n",
       "      <td>Краснодар</td>\n",
       "      <td>Рафаил</td>\n",
       "      <td>Верещагин</td>\n",
       "      <td>...</td>\n",
       "      <td>ultra</td>\n",
       "      <td>1000</td>\n",
       "      <td>30720</td>\n",
       "      <td>3000</td>\n",
       "      <td>1950</td>\n",
       "      <td>150</td>\n",
       "      <td>1</td>\n",
       "      <td>1</td>\n",
       "      <td>ultra</td>\n",
       "      <td>1950.0</td>\n",
       "    </tr>\n",
       "    <tr>\n",
       "      <th>4</th>\n",
       "      <td>1000</td>\n",
       "      <td>9.0</td>\n",
       "      <td>466.0</td>\n",
       "      <td>57.0</td>\n",
       "      <td>14568.91</td>\n",
       "      <td>52</td>\n",
       "      <td>NaT</td>\n",
       "      <td>Краснодар</td>\n",
       "      <td>Рафаил</td>\n",
       "      <td>Верещагин</td>\n",
       "      <td>...</td>\n",
       "      <td>ultra</td>\n",
       "      <td>1000</td>\n",
       "      <td>30720</td>\n",
       "      <td>3000</td>\n",
       "      <td>1950</td>\n",
       "      <td>150</td>\n",
       "      <td>1</td>\n",
       "      <td>1</td>\n",
       "      <td>ultra</td>\n",
       "      <td>1950.0</td>\n",
       "    </tr>\n",
       "  </tbody>\n",
       "</table>\n",
       "<p>5 rows × 21 columns</p>\n",
       "</div>"
      ],
      "text/plain": [
       "   user_id  month  duration  messages   mb_used  age churn_date       city  \\\n",
       "0     1000    5.0     159.0      22.0   2253.49   52        NaT  Краснодар   \n",
       "1     1000    6.0     172.0      60.0  23233.77   52        NaT  Краснодар   \n",
       "2     1000    7.0     340.0      75.0  14003.64   52        NaT  Краснодар   \n",
       "3     1000    8.0     408.0      81.0  14055.93   52        NaT  Краснодар   \n",
       "4     1000    9.0     466.0      57.0  14568.91   52        NaT  Краснодар   \n",
       "\n",
       "  first_name  last_name  ... tariff messages_included  mb_per_month_included  \\\n",
       "0     Рафаил  Верещагин  ...  ultra              1000                  30720   \n",
       "1     Рафаил  Верещагин  ...  ultra              1000                  30720   \n",
       "2     Рафаил  Верещагин  ...  ultra              1000                  30720   \n",
       "3     Рафаил  Верещагин  ...  ultra              1000                  30720   \n",
       "4     Рафаил  Верещагин  ...  ultra              1000                  30720   \n",
       "\n",
       "   minutes_included  rub_monthly_fee  rub_per_gb  rub_per_message  \\\n",
       "0              3000             1950         150                1   \n",
       "1              3000             1950         150                1   \n",
       "2              3000             1950         150                1   \n",
       "3              3000             1950         150                1   \n",
       "4              3000             1950         150                1   \n",
       "\n",
       "   rub_per_minute  tariff_name total_income  \n",
       "0               1        ultra       1950.0  \n",
       "1               1        ultra       1950.0  \n",
       "2               1        ultra       1950.0  \n",
       "3               1        ultra       1950.0  \n",
       "4               1        ultra       1950.0  \n",
       "\n",
       "[5 rows x 21 columns]"
      ]
     },
     "execution_count": 45,
     "metadata": {},
     "output_type": "execute_result"
    }
   ],
   "source": [
    "#выделение данных о тарифе \"Ультра\"\n",
    "ultra = income[income['tariff']=='ultra']\n",
    "ultra.head()"
   ]
  },
  {
   "cell_type": "code",
   "execution_count": 46,
   "metadata": {},
   "outputs": [
    {
     "data": {
      "text/plain": [
       "526.0892494929006"
      ]
     },
     "execution_count": 46,
     "metadata": {},
     "output_type": "execute_result"
    }
   ],
   "source": [
    "#среднее количество минут для тарифа \"Ультра\"\n",
    "ultra['duration'].mean()"
   ]
  },
  {
   "cell_type": "code",
   "execution_count": 47,
   "metadata": {},
   "outputs": [
    {
     "data": {
      "text/plain": [
       "101052.49354928387"
      ]
     },
     "execution_count": 47,
     "metadata": {},
     "output_type": "execute_result"
    }
   ],
   "source": [
    "#дисперсия для тарифа \"Ультра\"\n",
    "np.var(ultra['duration'], ddof=1)"
   ]
  },
  {
   "cell_type": "code",
   "execution_count": 48,
   "metadata": {},
   "outputs": [
    {
     "data": {
      "text/plain": [
       "317.8875485911392"
      ]
     },
     "execution_count": 48,
     "metadata": {},
     "output_type": "execute_result"
    }
   ],
   "source": [
    "#стандартное отклонение для тарифа \"Ультра\"\n",
    "np.std(ultra['duration'], ddof=1)"
   ]
  },
  {
   "cell_type": "markdown",
   "metadata": {},
   "source": [
    "Найдем по правилу трех сигм промежуток, в котором лежит большинство значений для тарифа \"Ультра\"."
   ]
  },
  {
   "cell_type": "code",
   "execution_count": 49,
   "metadata": {},
   "outputs": [
    {
     "name": "stdout",
     "output_type": "stream",
     "text": [
      "-427.57339628051693 1479.7518952663181\n"
     ]
    }
   ],
   "source": [
    "print(ultra['duration'].mean() - 3 * np.std(ultra['duration'], ddof=1), \n",
    "      ultra['duration'].mean() + 3 * np.std(ultra['duration'], ddof=1))"
   ]
  },
  {
   "cell_type": "markdown",
   "metadata": {},
   "source": [
    "Промежуток, в котором лежит около 99% значений - (0, 1480)."
   ]
  },
  {
   "cell_type": "markdown",
   "metadata": {},
   "source": [
    "Построим гистограммы для минут разговора в месяц пользователей каждого тарифа."
   ]
  },
  {
   "cell_type": "code",
   "execution_count": 50,
   "metadata": {},
   "outputs": [
    {
     "data": {
      "text/plain": [
       "<AxesSubplot:title={'center':'Количество минут разговора в месяц'}, ylabel='Frequency'>"
      ]
     },
     "execution_count": 50,
     "metadata": {},
     "output_type": "execute_result"
    },
    {
     "data": {
      "image/png": "[encoded data removed]",
      "text/plain": [
       "<Figure size 432x288 with 1 Axes>"
      ]
     },
     "metadata": {
      "needs_background": "light"
     },
     "output_type": "display_data"
    }
   ],
   "source": [
    "#построение гистограмм \n",
    "ax = smart.plot(kind='hist',\n",
    "                y='duration',\n",
    "                histtype='step',\n",
    "                linewidth=3,\n",
    "                alpha=0.7,\n",
    "                label='Смарт',\n",
    "                title='Количество минут разговора в месяц')\n",
    "ultra.plot(kind='hist',\n",
    "           y='duration',\n",
    "           histtype='step',\n",
    "           linewidth=3,\n",
    "           alpha=0.7,\n",
    "           label='Ультра',\n",
    "           ax=ax,\n",
    "           grid=True)"
   ]
  },
  {
   "cell_type": "markdown",
   "metadata": {},
   "source": [
    "* Для пользователей тарифа \"Смарт\" среднее количество минут разговора в месяц - 418 при 500 минутах, включенных в пакет тарифа, а для пользователей тарифа \"Ультра\" среднее количество - 526 при 3000 минутах, включенных в пакет. \n",
    "* По гистограмме можно сделать вывод, что пользователям тарифа \"Смарт\" часто не хватает минут разговора пакета, тогда как пользователи тарифа \"Ультра\" к дополнительной покупке минут почти не прибегают. \n",
    "* Обе гистограммы близки к нормальному распределению.\n",
    "* По правилу трех сигм, большинство значений (около 99%) времени разговора в месяц для тарифа \"Смарт\" находятся в промежутке (0, 989), для тарифа \"Ультра\" в промежутке (0, 1480)."
   ]
  },
  {
   "cell_type": "markdown",
   "metadata": {},
   "source": [
    "### Количество сообщений"
   ]
  },
  {
   "cell_type": "markdown",
   "metadata": {},
   "source": [
    "Вычислим среднее количество, дисперсию и стандартное отклонение для каждого тарифа."
   ]
  },
  {
   "cell_type": "markdown",
   "metadata": {},
   "source": [
    "* Тариф \"Смарт\""
   ]
  },
  {
   "cell_type": "code",
   "execution_count": 51,
   "metadata": {},
   "outputs": [
    {
     "data": {
      "text/plain": [
       "33.36905829596412"
      ]
     },
     "execution_count": 51,
     "metadata": {},
     "output_type": "execute_result"
    }
   ],
   "source": [
    "#среднее количество сообщений для тарифа \"Смарт\"\n",
    "smart['messages'].mean()"
   ]
  },
  {
   "cell_type": "code",
   "execution_count": 52,
   "metadata": {},
   "outputs": [
    {
     "data": {
      "text/plain": [
       "796.9552557301129"
      ]
     },
     "execution_count": 52,
     "metadata": {},
     "output_type": "execute_result"
    }
   ],
   "source": [
    "#дисперсия для тарифа \"Смарт\"\n",
    "np.var(smart['messages'], ddof=1)"
   ]
  },
  {
   "cell_type": "code",
   "execution_count": 53,
   "metadata": {},
   "outputs": [
    {
     "data": {
      "text/plain": [
       "28.230395954185852"
      ]
     },
     "execution_count": 53,
     "metadata": {},
     "output_type": "execute_result"
    }
   ],
   "source": [
    "#стандартное отклонение для тарифа \"Смарт\"\n",
    "np.std(smart['messages'], ddof=1)"
   ]
  },
  {
   "cell_type": "markdown",
   "metadata": {},
   "source": [
    "Найдем по правилу трех сигм промежуток, в котором лежит большинство значений для тарифа \"Смарт\"."
   ]
  },
  {
   "cell_type": "code",
   "execution_count": 54,
   "metadata": {},
   "outputs": [
    {
     "name": "stdout",
     "output_type": "stream",
     "text": [
      "-51.32212956659343 118.06024615852168\n"
     ]
    }
   ],
   "source": [
    "print(smart['messages'].mean() - 3 * np.std(smart['messages'], ddof=1), \n",
    "      smart['messages'].mean() + 3 * np.std(smart['messages'], ddof=1))"
   ]
  },
  {
   "cell_type": "markdown",
   "metadata": {},
   "source": [
    "Количество сообщений - неотрицательное число, промежуток, в котором лежит около 99% значений - (0, 118)."
   ]
  },
  {
   "cell_type": "markdown",
   "metadata": {},
   "source": [
    "* Тариф \"Ультра\""
   ]
  },
  {
   "cell_type": "code",
   "execution_count": 55,
   "metadata": {},
   "outputs": [
    {
     "data": {
      "text/plain": [
       "49.31338742393509"
      ]
     },
     "execution_count": 55,
     "metadata": {},
     "output_type": "execute_result"
    }
   ],
   "source": [
    "#среднее количество сообщений для тарифа \"Ультра\"\n",
    "ultra['messages'].mean()"
   ]
  },
  {
   "cell_type": "code",
   "execution_count": 56,
   "metadata": {},
   "outputs": [
    {
     "data": {
      "text/plain": [
       "2285.4174246558414"
      ]
     },
     "execution_count": 56,
     "metadata": {},
     "output_type": "execute_result"
    }
   ],
   "source": [
    "#дисперсия для тарифа \"Ультра\"\n",
    "np.var(ultra['messages'], ddof=1)"
   ]
  },
  {
   "cell_type": "code",
   "execution_count": 57,
   "metadata": {
    "scrolled": true
   },
   "outputs": [
    {
     "data": {
      "text/plain": [
       "47.80603962530092"
      ]
     },
     "execution_count": 57,
     "metadata": {},
     "output_type": "execute_result"
    }
   ],
   "source": [
    "#стандартное отклонение для тарифа \"Ультра\"\n",
    "np.std(ultra['messages'], ddof=1)"
   ]
  },
  {
   "cell_type": "markdown",
   "metadata": {},
   "source": [
    "Найдем по правилу трех сигм промежуток, в котором лежит большинство значений для тарифа \"Ультра\"."
   ]
  },
  {
   "cell_type": "code",
   "execution_count": 58,
   "metadata": {},
   "outputs": [
    {
     "name": "stdout",
     "output_type": "stream",
     "text": [
      "-94.10473145196767 192.73150629983786\n"
     ]
    }
   ],
   "source": [
    "print(ultra['messages'].mean() - 3 * np.std(ultra['messages'], ddof=1), \n",
    "      ultra['messages'].mean() + 3 * np.std(ultra['messages'], ddof=1))"
   ]
  },
  {
   "cell_type": "markdown",
   "metadata": {},
   "source": [
    "Промежуток, в котором лежит около 99% значений - (0, 193)."
   ]
  },
  {
   "cell_type": "markdown",
   "metadata": {},
   "source": [
    "Построим гистограммы для количества сообщений в месяц пользователей каждого тарифа."
   ]
  },
  {
   "cell_type": "code",
   "execution_count": 59,
   "metadata": {},
   "outputs": [
    {
     "data": {
      "text/plain": [
       "<AxesSubplot:title={'center':'Количество сообщений в месяц'}, ylabel='Frequency'>"
      ]
     },
     "execution_count": 59,
     "metadata": {},
     "output_type": "execute_result"
    },
    {
     "data": {
      "image/png": "[encoded data removed]",
      "text/plain": [
       "<Figure size 432x288 with 1 Axes>"
      ]
     },
     "metadata": {
      "needs_background": "light"
     },
     "output_type": "display_data"
    }
   ],
   "source": [
    "#построение гистограмм \n",
    "ax = smart.plot(kind='hist',\n",
    "                y='messages',\n",
    "                histtype='step',\n",
    "                linewidth=3,\n",
    "                alpha=0.7,\n",
    "                label='Смарт',\n",
    "                title='Количество сообщений в месяц')\n",
    "ultra.plot(kind='hist',\n",
    "           y='messages',\n",
    "           histtype='step',\n",
    "           linewidth=3,\n",
    "           alpha=0.7,\n",
    "           label='Ультра',\n",
    "           ax=ax,\n",
    "           grid=True)"
   ]
  },
  {
   "cell_type": "markdown",
   "metadata": {},
   "source": [
    "* Для пользователей тарифа \"Смарт\" среднее количество сообщений в месяц - 33 при 50 сообщениях, включенных в пакет тарифа, а для пользователей тарифа \"Ультра\" среднее количество - 49 при 1000 сообщениях, включенных в пакет. \n",
    "* По гистограмме можно сделать вывод, что пользователям тарифа \"Смарт\" часто не хватает количества сообщений пакета, тогда как пользователи тарифа \"Ультра\" к дополнительной покупке сообщений почти не прибегают. \n",
    "* Обе гистограммы близки к распределению Пуассона.\n",
    "* По правилу трех сигм, большинство значений (около 99%) количества сообщений в месяц для тарифа \"Смарт\" находятся в промежутке (0, 118), для тарифа \"Ультра\" в промежутке (0, 193)."
   ]
  },
  {
   "cell_type": "markdown",
   "metadata": {},
   "source": [
    "### Количество интернет-трафика"
   ]
  },
  {
   "cell_type": "markdown",
   "metadata": {},
   "source": [
    "Вычислим среднее количество, дисперсию и стандартное отклонение для каждого тарифа."
   ]
  },
  {
   "cell_type": "markdown",
   "metadata": {},
   "source": [
    "* Тариф \"Смарт\""
   ]
  },
  {
   "cell_type": "code",
   "execution_count": 60,
   "metadata": {},
   "outputs": [
    {
     "data": {
      "text/plain": [
       "16201.118654708522"
      ]
     },
     "execution_count": 60,
     "metadata": {},
     "output_type": "execute_result"
    }
   ],
   "source": [
    "#среднее количество трафика для тарифа \"Смарт\"\n",
    "smart['mb_used'].mean()"
   ]
  },
  {
   "cell_type": "code",
   "execution_count": 61,
   "metadata": {},
   "outputs": [
    {
     "data": {
      "text/plain": [
       "34564843.48129716"
      ]
     },
     "execution_count": 61,
     "metadata": {},
     "output_type": "execute_result"
    }
   ],
   "source": [
    "#дисперсия для тарифа \"Смарт\"\n",
    "np.var(smart['mb_used'], ddof=1)"
   ]
  },
  {
   "cell_type": "code",
   "execution_count": 62,
   "metadata": {},
   "outputs": [
    {
     "data": {
      "text/plain": [
       "5879.187314697258"
      ]
     },
     "execution_count": 62,
     "metadata": {},
     "output_type": "execute_result"
    }
   ],
   "source": [
    "#стандартное отклонение для тарифа \"Смарт\"\n",
    "np.std(smart['mb_used'], ddof=1)"
   ]
  },
  {
   "cell_type": "markdown",
   "metadata": {},
   "source": [
    "Найдем по правилу трех сигм промежуток, в котором лежит большинство значений для тарифа \"Смарт\"."
   ]
  },
  {
   "cell_type": "code",
   "execution_count": 63,
   "metadata": {},
   "outputs": [
    {
     "name": "stdout",
     "output_type": "stream",
     "text": [
      "-1436.4432893832545 33838.680598800296\n"
     ]
    }
   ],
   "source": [
    "print(smart['mb_used'].mean() - 3 * np.std(smart['mb_used'], ddof=1), \n",
    "      smart['mb_used'].mean() + 3 * np.std(smart['mb_used'], ddof=1))"
   ]
  },
  {
   "cell_type": "markdown",
   "metadata": {},
   "source": [
    "Количество трафика - неотрицательное число, промежуток, в котором лежит около 99% значений - (0, 33839)."
   ]
  },
  {
   "cell_type": "markdown",
   "metadata": {},
   "source": [
    "* Тариф \"Ультра\""
   ]
  },
  {
   "cell_type": "code",
   "execution_count": 64,
   "metadata": {},
   "outputs": [
    {
     "data": {
      "text/plain": [
       "19449.059969574035"
      ]
     },
     "execution_count": 64,
     "metadata": {},
     "output_type": "execute_result"
    }
   ],
   "source": [
    "#среднее количество трафика для тарифа \"Ультра\"\n",
    "ultra['mb_used'].mean()"
   ]
  },
  {
   "cell_type": "code",
   "execution_count": 65,
   "metadata": {},
   "outputs": [
    {
     "data": {
      "text/plain": [
       "102032129.46482122"
      ]
     },
     "execution_count": 65,
     "metadata": {},
     "output_type": "execute_result"
    }
   ],
   "source": [
    "#дисперсия для тарифа \"Смарт\"\n",
    "np.var(ultra['mb_used'], ddof=1)"
   ]
  },
  {
   "cell_type": "code",
   "execution_count": 66,
   "metadata": {},
   "outputs": [
    {
     "data": {
      "text/plain": [
       "10101.095458653048"
      ]
     },
     "execution_count": 66,
     "metadata": {},
     "output_type": "execute_result"
    }
   ],
   "source": [
    "#стандартное отклонение для тарифа \"Смарт\"\n",
    "np.std(ultra['mb_used'], ddof=1)"
   ]
  },
  {
   "cell_type": "markdown",
   "metadata": {},
   "source": [
    "Найдем по правилу трех сигм промежуток, в котором лежит большинство значений для тарифа \"Ультра\"."
   ]
  },
  {
   "cell_type": "code",
   "execution_count": 67,
   "metadata": {},
   "outputs": [
    {
     "name": "stdout",
     "output_type": "stream",
     "text": [
      "-10854.226406385107 49752.34634553318\n"
     ]
    }
   ],
   "source": [
    "print(ultra['mb_used'].mean() - 3 * np.std(ultra['mb_used'], ddof=1), \n",
    "      ultra['mb_used'].mean() + 3 * np.std(ultra['mb_used'], ddof=1))"
   ]
  },
  {
   "cell_type": "markdown",
   "metadata": {},
   "source": [
    "Промежуток, в котором лежит около 99% значений - (0, 49752)."
   ]
  },
  {
   "cell_type": "markdown",
   "metadata": {},
   "source": [
    "Построим гистограммы для количества интернет-трафика в мегабайтах в месяц пользователей каждого тарифа."
   ]
  },
  {
   "cell_type": "code",
   "execution_count": 68,
   "metadata": {},
   "outputs": [
    {
     "data": {
      "text/plain": [
       "<AxesSubplot:title={'center':'Количество интернет-трафика в месяц'}, ylabel='Frequency'>"
      ]
     },
     "execution_count": 68,
     "metadata": {},
     "output_type": "execute_result"
    },
    {
     "data": {
      "image/png": "[encoded data removed]",
      "text/plain": [
       "<Figure size 432x288 with 1 Axes>"
      ]
     },
     "metadata": {
      "needs_background": "light"
     },
     "output_type": "display_data"
    }
   ],
   "source": [
    "#построение гистограмм \n",
    "ax = smart.plot(kind='hist',\n",
    "                y='mb_used',\n",
    "                histtype='step',\n",
    "                linewidth=3,\n",
    "                alpha=0.7,\n",
    "                label='Смарт',\n",
    "                title='Количество интернет-трафика в месяц')\n",
    "ultra.plot(kind='hist',\n",
    "           y='mb_used',\n",
    "           histtype='step',\n",
    "           linewidth=3,\n",
    "           alpha=0.7,\n",
    "           label='Ультра',\n",
    "           ax=ax,\n",
    "           grid=True)"
   ]
  },
  {
   "cell_type": "markdown",
   "metadata": {},
   "source": [
    "* Для пользователей тарифа \"Смарт\" среднее количество трафика в мегабайтах в месяц - 16201 при 15 Гб (15360 Мб), включенных в пакет тарифа, а для пользователей тарифа \"Ультра\" среднее количество - 19449 при 30 Гб (30720 Мб), включенных в пакет. \n",
    "* По гистограмме можно сделать вывод, что пользователям тарифа \"Смарт\" очень часто не хватает количества трафика пакета, пользователи тарифа \"Ультра\" тоже довольно часто вынуждены покупать дополнительный трафик. \n",
    "* Обе гистограммы близки к нормальному распределению.\n",
    "* По правилу трех сигм, большинство значений (около 99%) количества интернет-трафика в мегабайтах в месяц для тарифа \"Смарт\" находятся в промежутке (0, 33839), для тарифа \"Ультра\" в промежутке (0, 49752)."
   ]
  },
  {
   "cell_type": "markdown",
   "metadata": {},
   "source": [
    "### Вывод"
   ]
  },
  {
   "cell_type": "markdown",
   "metadata": {},
   "source": [
    "На данном шаге было описано поведение клиентов, проанализировано необходимое пользователям каждого тарифа количество минут разговора, сообщений и интернет-трафика в месяц. Было обнаружено, что пользователям тарифа \"Смарт\" часто не хватает количества минут и сообщений, но чаще всего не хватает трафика, тогда как пользователи тарифа \"Ультра\" не нуждаются в дополнительных минутах или сообщениях, но иногда им не хватает количества интернет-трафика."
   ]
  },
  {
   "cell_type": "markdown",
   "metadata": {},
   "source": [
    "## Проверка гипотез"
   ]
  },
  {
   "cell_type": "markdown",
   "metadata": {},
   "source": [
    "На данном этапе будут проверены две гипотезы:\n",
    "* средняя выручка пользователей тарифов «Ультра» и «Смарт» различаются;\n",
    "* средняя выручка пользователей из Москвы отличается от выручки пользователей из других регионов."
   ]
  },
  {
   "cell_type": "markdown",
   "metadata": {},
   "source": [
    "### Средняя выручка пользователей тарифов «Ультра» и «Смарт» различаются"
   ]
  },
  {
   "cell_type": "markdown",
   "metadata": {},
   "source": [
    "Сформулируем гипотезы:\n",
    "* Нулевая гипотеза: Средняя выручка пользователей тарифа \"Смарт\" равна средней выручке пользователей тарифа \"Ультра\".\n",
    "* Альтернативная гипотеза: Средняя выручка пользователей тарифа \"Смарт\" не равна средней выручке пользователей тарифа \"Ультра\".\n",
    "\n",
    "Так как сравниваются средние двух генеральных совокупностей, а данные по тарифам \"Смарт\" и \"Ультра\" - это не зависящие друг от друга выборки, то будем проверять гипотезу о равенстве средних двух генеральных совокупностей с помощью метода `scipy.stats.ttest_ind()`."
   ]
  },
  {
   "cell_type": "code",
   "execution_count": 69,
   "metadata": {},
   "outputs": [
    {
     "name": "stdout",
     "output_type": "stream",
     "text": [
      "p-value: 8.081909555489933e-161\n",
      "Отвергаем нулевую гипотезу\n"
     ]
    }
   ],
   "source": [
    "from scipy import stats as st\n",
    "#критический уровень статистической значимости\n",
    "alpha = 0.05\n",
    "#проверка гипотезы\n",
    "results = st.ttest_ind(smart['total_income'], ultra['total_income'])\n",
    "#вывод p-value\n",
    "print('p-value:', results.pvalue)\n",
    "#если p-value < alpha, то нулевую гипотезу отвергаем, иначе отвергнуть не можем\n",
    "if results.pvalue < alpha:\n",
    "    print(\"Отвергаем нулевую гипотезу\")\n",
    "else:\n",
    "    print(\"Не получилось отвергнуть нулевую гипотезу\") "
   ]
  },
  {
   "cell_type": "markdown",
   "metadata": {},
   "source": [
    "p-value меньше критического уровня статистической значимости, значит, нулевую гипотезу, что средние выручки пользователей тарифа \"Смарт\" и \"Ультра\" равны, отвергаем. Следовательно, средняя выручка пользователей тарифа \"Смарт\" и средняя выручка пользователей тарифа \"Ультра\" различаются."
   ]
  },
  {
   "cell_type": "markdown",
   "metadata": {},
   "source": [
    "### Средняя выручка пользователей из Москвы отличается от выручки пользователей из других регионов"
   ]
  },
  {
   "cell_type": "markdown",
   "metadata": {},
   "source": [
    "Сформулируем гипотезы:\n",
    "* Нулевая гипотеза: Средняя выручка пользователей из Москвы равна средней выручке пользователей из других регионов.\n",
    "* Альтернативная гипотеза: Средняя выручка пользователей из Москвы не равна средней выручке пользователей из других регионов.\n",
    "\n",
    "Так как сравниваются средние двух генеральных совокупностей, а данные по Москве и другим регионам - это не зависящие друг от друга выборки, то будем проверять гипотезу о равенстве средних двух генеральных совокупностей с помощью метода `scipy.stats.ttest_ind()`."
   ]
  },
  {
   "cell_type": "code",
   "execution_count": 70,
   "metadata": {},
   "outputs": [
    {
     "name": "stdout",
     "output_type": "stream",
     "text": [
      "p-value: 0.5400751614511182\n",
      "Не получилось отвергнуть нулевую гипотезу\n"
     ]
    }
   ],
   "source": [
    "#критический уровень статистической значимости\n",
    "alpha = 0.05\n",
    "#проверка гипотезы\n",
    "results = st.ttest_ind(income[income['city']=='Москва']['total_income'], \n",
    "                       income[income['city']!='Москва']['total_income'])\n",
    "#вывод p-value\n",
    "print('p-value:', results.pvalue)\n",
    "#если p-value < alpha, то нулевую гипотезу отвергаем, иначе отвергнуть не можем\n",
    "if results.pvalue < alpha:\n",
    "    print(\"Отвергаем нулевую гипотезу\")\n",
    "else:\n",
    "    print(\"Не получилось отвергнуть нулевую гипотезу\") "
   ]
  },
  {
   "cell_type": "markdown",
   "metadata": {},
   "source": [
    "p-value больше критического уровня статистической значимости, значит, нулевую гипотезу, что средние выручки пользователей из Москвы и из других регионов равны, отвергнуть нельзя. Следовательно, средняя выручка пользователей из Москвы и средняя выручка пользователей из других регионов не различаются."
   ]
  },
  {
   "cell_type": "markdown",
   "metadata": {},
   "source": [
    "### Вывод"
   ]
  },
  {
   "cell_type": "markdown",
   "metadata": {},
   "source": [
    "Были сформулированы нулевые и альтернативные гипотезы, задан критический уровень статистической значимости. Были сделаны следующие выводы:\n",
    "* Средняя выручка пользователей тарифа \"Смарт\" и средняя выручка пользователей тарифа \"Ультра\" различаются.\n",
    "* Средняя выручка пользователей из Москвы и средняя выручка пользователей из других регионов не различаются."
   ]
  },
  {
   "cell_type": "markdown",
   "metadata": {},
   "source": [
    "## Общий вывод"
   ]
  },
  {
   "cell_type": "markdown",
   "metadata": {},
   "source": [
    "В ходе данного исследования были изучены данные 500 пользователей оператора сотовой связи \"Мегалайн\" за 2018 год. Данные были подготовлены, приведены к нужным типам, изучены на предмет наличия ошибок. \n",
    "\n",
    "Для каждого пользователя были посчитаны:\n",
    "* количество сделанных звонков и израсходованных минут разговора по месяцам;\n",
    "* количество отправленных сообщений по месяцам;\n",
    "* объем израсходованного интернет-трафика по месяцам;\n",
    "* помесячная выручка с каждого пользователя.\n",
    "\n",
    "Было проанализировано поведение клиентов опрератора, а именно минуты разговора, количество сообщений и объём интернет-трафика, необходимые в месяц, были посчитаны среднее, дисперсия, стандартное отклонение для каждого параметра и построены гистограммы. Также по правилу трех сигм были определены отрезки, в которых лежит большинство значений. Было обнаружено, что пользователям тарифа \"Смарт\" часто не хватает количества минут и сообщений, и очень часто не хватает объёма интернет-трафика, тогда как пользователи тарифа \"Ультра\" не нуждаются в дополнительных минутах или сообщениях, но иногда им не хватает количества интернет-трафика.\n",
    "\n",
    "Были проверены следующие гипотезы:\n",
    "* средняя выручка пользователей тарифов «Ультра» и «Смарт» различаются:\n",
    "\n",
    "После проверки гипотезы о равенстве среднего двух генеральных совокупностей нулевая гипотеза о равенстве средних выручек двух тарифов была отвергнута. Следовательно, средняя выручка пользователей тарифа \"Смарт\" и средняя выручка пользователей тарифа \"Ультра\" различаются.\n",
    "\n",
    "* средняя выручка пользователей из Москвы отличается от выручки пользователей из других регионов:\n",
    "\n",
    "После проверки гипотезы о равенстве среднего двух генеральных совокупностей нулевую гипотезу о равенстве средних выручек пользователей из Москвы и из других регионов не получилось отвергнуть. Следовательно, средняя выручка пользователей из Москвы и средняя выручка пользователей из других регионов не различаются.\n",
    "\n",
    "В ходе данного исследования был сделан вывод, что тариф \"Ультра\" приносит компании \"Мегалайн\" большую выручку в месяц, чем тариф \"Смарт\". Но большинство пользователей тарифа \"Ультра\" использует менее 1480 минут в месяц при предоставленных 3000 минут в пакете и менее 193 сообщений при 1000 сообщениях в пакете, так что возможно условия тарифа следует подкорректирвать, как и условия тарифа \"Смарт\", где пользователям часто не хватает количества минут, сообщений и интернет-трафика."
   ]
  },
  {
   "cell_type": "markdown",
   "metadata": {},
   "source": [
    "   "
   ]
  }
 ],
 "metadata": {
  "ExecuteTimeLog": [
   {
    "duration": 608,
    "start_time": "2022-05-08T16:42:08.091Z"
   },
   {
    "duration": 187,
    "start_time": "2022-05-08T16:42:33.867Z"
   },
   {
    "duration": 150,
    "start_time": "2022-05-08T16:42:42.661Z"
   },
   {
    "duration": 24,
    "start_time": "2022-05-08T16:44:15.310Z"
   },
   {
    "duration": 171,
    "start_time": "2022-05-08T16:51:13.689Z"
   },
   {
    "duration": 23,
    "start_time": "2022-05-08T16:52:37.243Z"
   },
   {
    "duration": 194,
    "start_time": "2022-05-08T16:56:02.768Z"
   },
   {
    "duration": 145,
    "start_time": "2022-05-08T16:56:16.410Z"
   },
   {
    "duration": 82,
    "start_time": "2022-05-08T16:58:08.335Z"
   },
   {
    "duration": 20,
    "start_time": "2022-05-08T16:58:31.665Z"
   },
   {
    "duration": 15,
    "start_time": "2022-05-08T17:00:52.837Z"
   },
   {
    "duration": 16,
    "start_time": "2022-05-08T17:01:01.627Z"
   },
   {
    "duration": 11,
    "start_time": "2022-05-08T17:01:30.247Z"
   },
   {
    "duration": 29,
    "start_time": "2022-05-08T17:13:41.653Z"
   },
   {
    "duration": 25,
    "start_time": "2022-05-08T17:13:52.725Z"
   },
   {
    "duration": 14,
    "start_time": "2022-05-08T17:14:28.833Z"
   },
   {
    "duration": 193,
    "start_time": "2022-05-08T17:24:12.997Z"
   },
   {
    "duration": 204,
    "start_time": "2022-05-08T17:24:26.388Z"
   },
   {
    "duration": 11,
    "start_time": "2022-05-08T17:35:17.840Z"
   },
   {
    "duration": 13,
    "start_time": "2022-05-08T17:35:55.243Z"
   },
   {
    "duration": 12,
    "start_time": "2022-05-08T17:36:03.330Z"
   },
   {
    "duration": 13,
    "start_time": "2022-05-08T17:36:16.171Z"
   },
   {
    "duration": 26,
    "start_time": "2022-05-08T17:36:35.430Z"
   },
   {
    "duration": 27,
    "start_time": "2022-05-08T17:37:14.120Z"
   },
   {
    "duration": 26,
    "start_time": "2022-05-08T17:37:32.961Z"
   },
   {
    "duration": 24,
    "start_time": "2022-05-08T17:38:01.300Z"
   },
   {
    "duration": 67,
    "start_time": "2022-05-08T17:38:14.200Z"
   },
   {
    "duration": 11,
    "start_time": "2022-05-08T17:38:30.710Z"
   },
   {
    "duration": 575,
    "start_time": "2022-05-08T17:38:35.779Z"
   },
   {
    "duration": 26,
    "start_time": "2022-05-08T17:38:36.356Z"
   },
   {
    "duration": 141,
    "start_time": "2022-05-08T17:38:36.384Z"
   },
   {
    "duration": 31,
    "start_time": "2022-05-08T17:38:36.528Z"
   },
   {
    "duration": 121,
    "start_time": "2022-05-08T17:38:36.561Z"
   },
   {
    "duration": 18,
    "start_time": "2022-05-08T17:38:36.684Z"
   },
   {
    "duration": 23,
    "start_time": "2022-05-08T17:38:36.704Z"
   },
   {
    "duration": 26,
    "start_time": "2022-05-08T17:38:36.729Z"
   },
   {
    "duration": 33,
    "start_time": "2022-05-08T17:38:36.757Z"
   },
   {
    "duration": 12,
    "start_time": "2022-05-08T17:38:36.792Z"
   },
   {
    "duration": 32,
    "start_time": "2022-05-08T17:38:36.805Z"
   },
   {
    "duration": 36,
    "start_time": "2022-05-08T17:43:37.049Z"
   },
   {
    "duration": 64,
    "start_time": "2022-05-08T17:43:47.569Z"
   },
   {
    "duration": 37,
    "start_time": "2022-05-08T18:08:05.871Z"
   },
   {
    "duration": 34,
    "start_time": "2022-05-08T18:08:47.723Z"
   },
   {
    "duration": 18,
    "start_time": "2022-05-08T18:09:47.194Z"
   },
   {
    "duration": 9,
    "start_time": "2022-05-08T18:13:50.094Z"
   },
   {
    "duration": 9,
    "start_time": "2022-05-08T18:15:00.339Z"
   },
   {
    "duration": 7,
    "start_time": "2022-05-08T18:15:16.326Z"
   },
   {
    "duration": 24,
    "start_time": "2022-05-08T18:15:30.808Z"
   },
   {
    "duration": 88,
    "start_time": "2022-05-08T18:16:09.528Z"
   },
   {
    "duration": 33,
    "start_time": "2022-05-08T18:16:27.379Z"
   },
   {
    "duration": 12,
    "start_time": "2022-05-08T18:17:27.566Z"
   },
   {
    "duration": 29,
    "start_time": "2022-05-08T18:18:16.616Z"
   },
   {
    "duration": 9,
    "start_time": "2022-05-08T18:25:15.137Z"
   },
   {
    "duration": 28,
    "start_time": "2022-05-08T18:26:06.342Z"
   },
   {
    "duration": 23,
    "start_time": "2022-05-08T18:26:53.923Z"
   },
   {
    "duration": 21,
    "start_time": "2022-05-08T18:35:56.006Z"
   },
   {
    "duration": 11,
    "start_time": "2022-05-08T18:36:07.431Z"
   },
   {
    "duration": 11,
    "start_time": "2022-05-08T18:42:48.547Z"
   },
   {
    "duration": 15,
    "start_time": "2022-05-08T18:43:09.051Z"
   },
   {
    "duration": 5,
    "start_time": "2022-05-08T18:44:02.688Z"
   },
   {
    "duration": 5,
    "start_time": "2022-05-08T18:44:29.749Z"
   },
   {
    "duration": 5,
    "start_time": "2022-05-08T18:44:41.780Z"
   },
   {
    "duration": 8,
    "start_time": "2022-05-08T18:45:01.950Z"
   },
   {
    "duration": 5,
    "start_time": "2022-05-08T18:45:22.489Z"
   },
   {
    "duration": 5,
    "start_time": "2022-05-08T18:46:39.217Z"
   },
   {
    "duration": 11,
    "start_time": "2022-05-08T19:00:11.321Z"
   },
   {
    "duration": 78,
    "start_time": "2022-05-09T18:15:16.322Z"
   },
   {
    "duration": 732,
    "start_time": "2022-05-09T18:15:23.189Z"
   },
   {
    "duration": 47,
    "start_time": "2022-05-09T18:15:23.925Z"
   },
   {
    "duration": 195,
    "start_time": "2022-05-09T18:15:23.974Z"
   },
   {
    "duration": 29,
    "start_time": "2022-05-09T18:15:24.171Z"
   },
   {
    "duration": 133,
    "start_time": "2022-05-09T18:15:24.203Z"
   },
   {
    "duration": 34,
    "start_time": "2022-05-09T18:15:24.338Z"
   },
   {
    "duration": 21,
    "start_time": "2022-05-09T18:15:24.374Z"
   },
   {
    "duration": 15,
    "start_time": "2022-05-09T18:15:24.397Z"
   },
   {
    "duration": 59,
    "start_time": "2022-05-09T18:15:24.415Z"
   },
   {
    "duration": 15,
    "start_time": "2022-05-09T18:15:24.477Z"
   },
   {
    "duration": 69,
    "start_time": "2022-05-09T18:15:24.494Z"
   },
   {
    "duration": 71,
    "start_time": "2022-05-09T18:15:24.565Z"
   },
   {
    "duration": 60,
    "start_time": "2022-05-09T18:15:24.651Z"
   },
   {
    "duration": 73,
    "start_time": "2022-05-09T18:15:24.716Z"
   },
   {
    "duration": 20,
    "start_time": "2022-05-09T18:15:24.792Z"
   },
   {
    "duration": 16,
    "start_time": "2022-05-09T18:15:24.814Z"
   },
   {
    "duration": 40,
    "start_time": "2022-05-09T18:15:24.853Z"
   },
   {
    "duration": 12,
    "start_time": "2022-05-09T18:15:24.895Z"
   },
   {
    "duration": 64,
    "start_time": "2022-05-09T18:15:24.909Z"
   },
   {
    "duration": 16,
    "start_time": "2022-05-09T18:15:24.975Z"
   },
   {
    "duration": 8,
    "start_time": "2022-05-09T18:15:24.993Z"
   },
   {
    "duration": 206,
    "start_time": "2022-05-09T18:15:25.004Z"
   },
   {
    "duration": 11,
    "start_time": "2022-05-09T18:15:49.672Z"
   },
   {
    "duration": 558,
    "start_time": "2022-05-09T18:16:11.835Z"
   },
   {
    "duration": 11,
    "start_time": "2022-05-09T18:16:27.440Z"
   },
   {
    "duration": 41,
    "start_time": "2022-05-09T18:18:26.525Z"
   },
   {
    "duration": 41,
    "start_time": "2022-05-09T18:18:59.006Z"
   },
   {
    "duration": 44,
    "start_time": "2022-05-09T18:20:11.059Z"
   },
   {
    "duration": 60,
    "start_time": "2022-05-09T18:21:05.478Z"
   },
   {
    "duration": 61,
    "start_time": "2022-05-09T18:21:31.081Z"
   },
   {
    "duration": 876,
    "start_time": "2022-05-09T18:25:50.832Z"
   },
   {
    "duration": 51,
    "start_time": "2022-05-09T18:25:51.711Z"
   },
   {
    "duration": 196,
    "start_time": "2022-05-09T18:25:51.765Z"
   },
   {
    "duration": 32,
    "start_time": "2022-05-09T18:25:51.964Z"
   },
   {
    "duration": 141,
    "start_time": "2022-05-09T18:25:51.999Z"
   },
   {
    "duration": 39,
    "start_time": "2022-05-09T18:25:52.142Z"
   },
   {
    "duration": 18,
    "start_time": "2022-05-09T18:25:52.184Z"
   },
   {
    "duration": 15,
    "start_time": "2022-05-09T18:25:52.204Z"
   },
   {
    "duration": 45,
    "start_time": "2022-05-09T18:25:52.221Z"
   },
   {
    "duration": 16,
    "start_time": "2022-05-09T18:25:52.268Z"
   },
   {
    "duration": 36,
    "start_time": "2022-05-09T18:25:52.286Z"
   },
   {
    "duration": 104,
    "start_time": "2022-05-09T18:25:52.324Z"
   },
   {
    "duration": 73,
    "start_time": "2022-05-09T18:25:52.430Z"
   },
   {
    "duration": 70,
    "start_time": "2022-05-09T18:25:52.507Z"
   },
   {
    "duration": 20,
    "start_time": "2022-05-09T18:25:52.579Z"
   },
   {
    "duration": 18,
    "start_time": "2022-05-09T18:25:52.601Z"
   },
   {
    "duration": 61,
    "start_time": "2022-05-09T18:25:52.622Z"
   },
   {
    "duration": 12,
    "start_time": "2022-05-09T18:25:52.685Z"
   },
   {
    "duration": 54,
    "start_time": "2022-05-09T18:25:52.699Z"
   },
   {
    "duration": 17,
    "start_time": "2022-05-09T18:25:52.758Z"
   },
   {
    "duration": 18,
    "start_time": "2022-05-09T18:25:52.778Z"
   },
   {
    "duration": 99,
    "start_time": "2022-05-09T18:25:52.798Z"
   },
   {
    "duration": 39,
    "start_time": "2022-05-09T18:32:14.348Z"
   },
   {
    "duration": 49,
    "start_time": "2022-05-09T18:32:19.551Z"
   },
   {
    "duration": 40,
    "start_time": "2022-05-09T18:32:33.983Z"
   },
   {
    "duration": 138,
    "start_time": "2022-05-09T18:32:40.732Z"
   },
   {
    "duration": 63,
    "start_time": "2022-05-09T18:33:03.134Z"
   },
   {
    "duration": 55,
    "start_time": "2022-05-09T18:33:18.826Z"
   },
   {
    "duration": 55,
    "start_time": "2022-05-09T18:39:39.661Z"
   },
   {
    "duration": 21,
    "start_time": "2022-05-09T18:40:53.746Z"
   },
   {
    "duration": 29,
    "start_time": "2022-05-09T18:41:02.115Z"
   },
   {
    "duration": 61,
    "start_time": "2022-05-09T18:42:25.614Z"
   },
   {
    "duration": 37,
    "start_time": "2022-05-09T18:43:15.727Z"
   },
   {
    "duration": 60,
    "start_time": "2022-05-09T18:44:26.125Z"
   },
   {
    "duration": 55,
    "start_time": "2022-05-09T18:49:23.283Z"
   },
   {
    "duration": 59,
    "start_time": "2022-05-09T18:50:15.538Z"
   },
   {
    "duration": 60,
    "start_time": "2022-05-09T18:53:31.166Z"
   },
   {
    "duration": 52,
    "start_time": "2022-05-09T18:56:41.401Z"
   },
   {
    "duration": 1346,
    "start_time": "2022-05-09T19:31:18.380Z"
   },
   {
    "duration": 29,
    "start_time": "2022-05-09T19:31:36.061Z"
   },
   {
    "duration": 6,
    "start_time": "2022-05-09T19:31:53.348Z"
   },
   {
    "duration": 10,
    "start_time": "2022-05-09T19:32:02.289Z"
   },
   {
    "duration": 69,
    "start_time": "2022-05-09T19:33:23.474Z"
   },
   {
    "duration": 63,
    "start_time": "2022-05-09T19:34:14.232Z"
   },
   {
    "duration": 13,
    "start_time": "2022-05-09T19:34:44.791Z"
   },
   {
    "duration": 13,
    "start_time": "2022-05-09T19:34:57.589Z"
   },
   {
    "duration": 13,
    "start_time": "2022-05-09T19:34:59.411Z"
   },
   {
    "duration": 13,
    "start_time": "2022-05-09T19:35:04.536Z"
   },
   {
    "duration": 988,
    "start_time": "2022-05-09T19:35:15.450Z"
   },
   {
    "duration": 47,
    "start_time": "2022-05-09T19:35:16.441Z"
   },
   {
    "duration": 217,
    "start_time": "2022-05-09T19:35:16.490Z"
   },
   {
    "duration": 42,
    "start_time": "2022-05-09T19:35:16.710Z"
   },
   {
    "duration": 119,
    "start_time": "2022-05-09T19:35:16.754Z"
   },
   {
    "duration": 41,
    "start_time": "2022-05-09T19:35:16.877Z"
   },
   {
    "duration": 47,
    "start_time": "2022-05-09T19:35:16.921Z"
   },
   {
    "duration": 17,
    "start_time": "2022-05-09T19:35:16.970Z"
   },
   {
    "duration": 33,
    "start_time": "2022-05-09T19:35:16.991Z"
   },
   {
    "duration": 16,
    "start_time": "2022-05-09T19:35:17.053Z"
   },
   {
    "duration": 42,
    "start_time": "2022-05-09T19:35:17.072Z"
   },
   {
    "duration": 102,
    "start_time": "2022-05-09T19:35:17.117Z"
   },
   {
    "duration": 75,
    "start_time": "2022-05-09T19:35:17.221Z"
   },
   {
    "duration": 73,
    "start_time": "2022-05-09T19:35:17.298Z"
   },
   {
    "duration": 21,
    "start_time": "2022-05-09T19:35:17.374Z"
   },
   {
    "duration": 14,
    "start_time": "2022-05-09T19:35:17.397Z"
   },
   {
    "duration": 65,
    "start_time": "2022-05-09T19:35:17.413Z"
   },
   {
    "duration": 11,
    "start_time": "2022-05-09T19:35:17.480Z"
   },
   {
    "duration": 35,
    "start_time": "2022-05-09T19:35:17.493Z"
   },
   {
    "duration": 16,
    "start_time": "2022-05-09T19:35:17.551Z"
   },
   {
    "duration": 10,
    "start_time": "2022-05-09T19:35:17.569Z"
   },
   {
    "duration": 51,
    "start_time": "2022-05-09T19:35:17.582Z"
   },
   {
    "duration": 67,
    "start_time": "2022-05-09T19:35:17.651Z"
   },
   {
    "duration": 68,
    "start_time": "2022-05-09T19:35:17.721Z"
   },
   {
    "duration": 29,
    "start_time": "2022-05-09T19:35:17.791Z"
   },
   {
    "duration": 79,
    "start_time": "2022-05-09T19:35:17.823Z"
   },
   {
    "duration": 53,
    "start_time": "2022-05-09T19:35:17.904Z"
   },
   {
    "duration": 54,
    "start_time": "2022-05-09T19:35:17.961Z"
   },
   {
    "duration": 40,
    "start_time": "2022-05-09T19:35:18.017Z"
   },
   {
    "duration": 13,
    "start_time": "2022-05-09T19:35:25.297Z"
   },
   {
    "duration": 12,
    "start_time": "2022-05-09T19:35:26.474Z"
   },
   {
    "duration": 46,
    "start_time": "2022-05-09T19:35:42.683Z"
   },
   {
    "duration": 3,
    "start_time": "2022-05-09T19:36:25.332Z"
   },
   {
    "duration": 49,
    "start_time": "2022-05-09T19:36:41.809Z"
   },
   {
    "duration": 57,
    "start_time": "2022-05-09T19:38:08.013Z"
   },
   {
    "duration": 8,
    "start_time": "2022-05-09T19:38:34.137Z"
   },
   {
    "duration": 1611,
    "start_time": "2022-05-09T19:38:44.384Z"
   },
   {
    "duration": 22,
    "start_time": "2022-05-09T19:43:03.721Z"
   },
   {
    "duration": 742,
    "start_time": "2022-05-09T19:43:10.643Z"
   },
   {
    "duration": 34,
    "start_time": "2022-05-09T19:43:11.388Z"
   },
   {
    "duration": 198,
    "start_time": "2022-05-09T19:43:11.425Z"
   },
   {
    "duration": 40,
    "start_time": "2022-05-09T19:43:11.626Z"
   },
   {
    "duration": 124,
    "start_time": "2022-05-09T19:43:11.670Z"
   },
   {
    "duration": 25,
    "start_time": "2022-05-09T19:43:11.797Z"
   },
   {
    "duration": 38,
    "start_time": "2022-05-09T19:43:11.824Z"
   },
   {
    "duration": 15,
    "start_time": "2022-05-09T19:43:11.864Z"
   },
   {
    "duration": 31,
    "start_time": "2022-05-09T19:43:11.881Z"
   },
   {
    "duration": 16,
    "start_time": "2022-05-09T19:43:11.914Z"
   },
   {
    "duration": 58,
    "start_time": "2022-05-09T19:43:11.932Z"
   },
   {
    "duration": 100,
    "start_time": "2022-05-09T19:43:11.993Z"
   },
   {
    "duration": 72,
    "start_time": "2022-05-09T19:43:12.095Z"
   },
   {
    "duration": 50,
    "start_time": "2022-05-09T19:43:12.173Z"
   },
   {
    "duration": 47,
    "start_time": "2022-05-09T19:43:12.225Z"
   },
   {
    "duration": 12,
    "start_time": "2022-05-09T19:43:12.275Z"
   },
   {
    "duration": 41,
    "start_time": "2022-05-09T19:43:12.289Z"
   },
   {
    "duration": 15,
    "start_time": "2022-05-09T19:43:12.357Z"
   },
   {
    "duration": 33,
    "start_time": "2022-05-09T19:43:12.375Z"
   },
   {
    "duration": 51,
    "start_time": "2022-05-09T19:43:12.411Z"
   },
   {
    "duration": 10,
    "start_time": "2022-05-09T19:43:12.465Z"
   },
   {
    "duration": 44,
    "start_time": "2022-05-09T19:43:12.477Z"
   },
   {
    "duration": 96,
    "start_time": "2022-05-09T19:43:12.524Z"
   },
   {
    "duration": 70,
    "start_time": "2022-05-09T19:43:12.623Z"
   },
   {
    "duration": 27,
    "start_time": "2022-05-09T19:43:12.695Z"
   },
   {
    "duration": 88,
    "start_time": "2022-05-09T19:43:12.724Z"
   },
   {
    "duration": 41,
    "start_time": "2022-05-09T19:43:12.814Z"
   },
   {
    "duration": 55,
    "start_time": "2022-05-09T19:43:12.858Z"
   },
   {
    "duration": 69,
    "start_time": "2022-05-09T19:43:12.915Z"
   },
   {
    "duration": 51,
    "start_time": "2022-05-09T19:44:17.939Z"
   },
   {
    "duration": 733,
    "start_time": "2022-05-09T19:44:27.323Z"
   },
   {
    "duration": 37,
    "start_time": "2022-05-09T19:44:28.059Z"
   },
   {
    "duration": 190,
    "start_time": "2022-05-09T19:44:28.098Z"
   },
   {
    "duration": 28,
    "start_time": "2022-05-09T19:44:28.290Z"
   },
   {
    "duration": 149,
    "start_time": "2022-05-09T19:44:28.321Z"
   },
   {
    "duration": 26,
    "start_time": "2022-05-09T19:44:28.472Z"
   },
   {
    "duration": 22,
    "start_time": "2022-05-09T19:44:28.500Z"
   },
   {
    "duration": 33,
    "start_time": "2022-05-09T19:44:28.525Z"
   },
   {
    "duration": 51,
    "start_time": "2022-05-09T19:44:28.563Z"
   },
   {
    "duration": 14,
    "start_time": "2022-05-09T19:44:28.617Z"
   },
   {
    "duration": 51,
    "start_time": "2022-05-09T19:44:28.633Z"
   },
   {
    "duration": 81,
    "start_time": "2022-05-09T19:44:28.686Z"
   },
   {
    "duration": 54,
    "start_time": "2022-05-09T19:44:28.770Z"
   },
   {
    "duration": 66,
    "start_time": "2022-05-09T19:44:28.828Z"
   },
   {
    "duration": 19,
    "start_time": "2022-05-09T19:44:28.896Z"
   },
   {
    "duration": 46,
    "start_time": "2022-05-09T19:44:28.917Z"
   },
   {
    "duration": 39,
    "start_time": "2022-05-09T19:44:28.966Z"
   },
   {
    "duration": 13,
    "start_time": "2022-05-09T19:44:29.007Z"
   },
   {
    "duration": 54,
    "start_time": "2022-05-09T19:44:29.023Z"
   },
   {
    "duration": 14,
    "start_time": "2022-05-09T19:44:29.080Z"
   },
   {
    "duration": 10,
    "start_time": "2022-05-09T19:44:29.096Z"
   },
   {
    "duration": 72,
    "start_time": "2022-05-09T19:44:29.108Z"
   },
   {
    "duration": 82,
    "start_time": "2022-05-09T19:44:29.182Z"
   },
   {
    "duration": 54,
    "start_time": "2022-05-09T19:44:29.266Z"
   },
   {
    "duration": 50,
    "start_time": "2022-05-09T19:44:29.322Z"
   },
   {
    "duration": 56,
    "start_time": "2022-05-09T19:44:29.375Z"
   },
   {
    "duration": 47,
    "start_time": "2022-05-09T19:44:29.433Z"
   },
   {
    "duration": 78,
    "start_time": "2022-05-09T19:44:29.482Z"
   },
   {
    "duration": 50,
    "start_time": "2022-05-09T19:44:29.562Z"
   },
   {
    "duration": 52,
    "start_time": "2022-05-09T19:44:40.686Z"
   },
   {
    "duration": 12,
    "start_time": "2022-05-09T19:45:55.964Z"
   },
   {
    "duration": 50,
    "start_time": "2022-05-09T19:46:20.825Z"
   },
   {
    "duration": 193,
    "start_time": "2022-05-09T19:47:00.734Z"
   },
   {
    "duration": 38,
    "start_time": "2022-05-09T19:48:52.977Z"
   },
   {
    "duration": 40,
    "start_time": "2022-05-09T19:50:42.029Z"
   },
   {
    "duration": 11,
    "start_time": "2022-05-09T19:57:12.919Z"
   },
   {
    "duration": 10,
    "start_time": "2022-05-09T19:57:18.609Z"
   },
   {
    "duration": 27,
    "start_time": "2022-05-09T19:57:31.734Z"
   },
   {
    "duration": 6,
    "start_time": "2022-05-09T19:58:54.829Z"
   },
   {
    "duration": 28,
    "start_time": "2022-05-09T19:59:00.069Z"
   },
   {
    "duration": 29,
    "start_time": "2022-05-09T19:59:39.721Z"
   },
   {
    "duration": 12,
    "start_time": "2022-05-09T20:02:22.353Z"
   },
   {
    "duration": 87,
    "start_time": "2022-05-09T20:02:35.463Z"
   },
   {
    "duration": 6,
    "start_time": "2022-05-09T20:02:44.287Z"
   },
   {
    "duration": 713,
    "start_time": "2022-05-09T20:02:57.661Z"
   },
   {
    "duration": 76,
    "start_time": "2022-05-09T20:02:58.378Z"
   },
   {
    "duration": 181,
    "start_time": "2022-05-09T20:02:58.457Z"
   },
   {
    "duration": 40,
    "start_time": "2022-05-09T20:02:58.640Z"
   },
   {
    "duration": 126,
    "start_time": "2022-05-09T20:02:58.685Z"
   },
   {
    "duration": 38,
    "start_time": "2022-05-09T20:02:58.814Z"
   },
   {
    "duration": 19,
    "start_time": "2022-05-09T20:02:58.855Z"
   },
   {
    "duration": 13,
    "start_time": "2022-05-09T20:02:58.877Z"
   },
   {
    "duration": 31,
    "start_time": "2022-05-09T20:02:58.893Z"
   },
   {
    "duration": 35,
    "start_time": "2022-05-09T20:02:58.927Z"
   },
   {
    "duration": 40,
    "start_time": "2022-05-09T20:02:58.965Z"
   },
   {
    "duration": 93,
    "start_time": "2022-05-09T20:02:59.008Z"
   },
   {
    "duration": 74,
    "start_time": "2022-05-09T20:02:59.104Z"
   },
   {
    "duration": 46,
    "start_time": "2022-05-09T20:02:59.184Z"
   },
   {
    "duration": 21,
    "start_time": "2022-05-09T20:02:59.252Z"
   },
   {
    "duration": 14,
    "start_time": "2022-05-09T20:02:59.275Z"
   },
   {
    "duration": 62,
    "start_time": "2022-05-09T20:02:59.291Z"
   },
   {
    "duration": 18,
    "start_time": "2022-05-09T20:02:59.356Z"
   },
   {
    "duration": 35,
    "start_time": "2022-05-09T20:02:59.376Z"
   },
   {
    "duration": 45,
    "start_time": "2022-05-09T20:02:59.414Z"
   },
   {
    "duration": 13,
    "start_time": "2022-05-09T20:02:59.462Z"
   },
   {
    "duration": 75,
    "start_time": "2022-05-09T20:02:59.478Z"
   },
   {
    "duration": 16,
    "start_time": "2022-05-09T20:02:59.556Z"
   },
   {
    "duration": 125,
    "start_time": "2022-05-09T20:02:59.574Z"
   },
   {
    "duration": 6,
    "start_time": "2022-05-09T20:02:59.702Z"
   },
   {
    "duration": 89,
    "start_time": "2022-05-09T20:02:59.711Z"
   },
   {
    "duration": 28,
    "start_time": "2022-05-09T20:02:59.802Z"
   },
   {
    "duration": 73,
    "start_time": "2022-05-09T20:02:59.832Z"
   },
   {
    "duration": 48,
    "start_time": "2022-05-09T20:02:59.907Z"
   },
   {
    "duration": 54,
    "start_time": "2022-05-09T20:02:59.957Z"
   },
   {
    "duration": 47,
    "start_time": "2022-05-09T20:03:00.013Z"
   },
   {
    "duration": 33,
    "start_time": "2022-05-09T20:03:00.062Z"
   },
   {
    "duration": 53,
    "start_time": "2022-05-09T20:04:49.293Z"
   },
   {
    "duration": 560,
    "start_time": "2022-05-10T13:19:20.144Z"
   },
   {
    "duration": 28,
    "start_time": "2022-05-10T13:19:20.706Z"
   },
   {
    "duration": 151,
    "start_time": "2022-05-10T13:19:20.736Z"
   },
   {
    "duration": 28,
    "start_time": "2022-05-10T13:19:20.889Z"
   },
   {
    "duration": 98,
    "start_time": "2022-05-10T13:19:20.920Z"
   },
   {
    "duration": 19,
    "start_time": "2022-05-10T13:19:21.019Z"
   },
   {
    "duration": 14,
    "start_time": "2022-05-10T13:19:21.040Z"
   },
   {
    "duration": 10,
    "start_time": "2022-05-10T13:19:21.055Z"
   },
   {
    "duration": 27,
    "start_time": "2022-05-10T13:19:21.067Z"
   },
   {
    "duration": 11,
    "start_time": "2022-05-10T13:19:21.108Z"
   },
   {
    "duration": 29,
    "start_time": "2022-05-10T13:19:21.121Z"
   },
   {
    "duration": 74,
    "start_time": "2022-05-10T13:19:21.151Z"
   },
   {
    "duration": 43,
    "start_time": "2022-05-10T13:19:21.227Z"
   },
   {
    "duration": 54,
    "start_time": "2022-05-10T13:19:21.274Z"
   },
   {
    "duration": 14,
    "start_time": "2022-05-10T13:19:21.330Z"
   },
   {
    "duration": 8,
    "start_time": "2022-05-10T13:19:21.346Z"
   },
   {
    "duration": 52,
    "start_time": "2022-05-10T13:19:21.356Z"
   },
   {
    "duration": 8,
    "start_time": "2022-05-10T13:19:21.410Z"
   },
   {
    "duration": 25,
    "start_time": "2022-05-10T13:19:21.420Z"
   },
   {
    "duration": 12,
    "start_time": "2022-05-10T13:19:21.447Z"
   },
   {
    "duration": 6,
    "start_time": "2022-05-10T13:19:21.461Z"
   },
   {
    "duration": 67,
    "start_time": "2022-05-10T13:19:21.469Z"
   },
   {
    "duration": 50,
    "start_time": "2022-05-10T13:19:21.538Z"
   },
   {
    "duration": 59,
    "start_time": "2022-05-10T13:19:21.589Z"
   },
   {
    "duration": 21,
    "start_time": "2022-05-10T13:19:21.650Z"
   },
   {
    "duration": 64,
    "start_time": "2022-05-10T13:19:21.672Z"
   },
   {
    "duration": 24,
    "start_time": "2022-05-10T13:19:21.738Z"
   },
   {
    "duration": 61,
    "start_time": "2022-05-10T13:19:21.763Z"
   },
   {
    "duration": 18,
    "start_time": "2022-05-10T13:19:21.826Z"
   },
   {
    "duration": 6,
    "start_time": "2022-05-10T13:19:21.845Z"
   },
   {
    "duration": 4,
    "start_time": "2022-05-10T13:22:42.460Z"
   },
   {
    "duration": 98,
    "start_time": "2022-05-10T13:22:59.256Z"
   },
   {
    "duration": 3,
    "start_time": "2022-05-10T13:25:34.069Z"
   },
   {
    "duration": 9,
    "start_time": "2022-05-10T13:25:51.172Z"
   },
   {
    "duration": 10,
    "start_time": "2022-05-10T13:26:00.075Z"
   },
   {
    "duration": 30,
    "start_time": "2022-05-10T13:39:31.445Z"
   },
   {
    "duration": 34,
    "start_time": "2022-05-10T13:39:57.193Z"
   },
   {
    "duration": 33,
    "start_time": "2022-05-10T13:40:38.496Z"
   },
   {
    "duration": 34,
    "start_time": "2022-05-10T13:40:42.152Z"
   },
   {
    "duration": 34,
    "start_time": "2022-05-10T13:41:13.902Z"
   },
   {
    "duration": 34,
    "start_time": "2022-05-10T13:41:19.915Z"
   },
   {
    "duration": 28,
    "start_time": "2022-05-10T13:41:52.863Z"
   },
   {
    "duration": 15,
    "start_time": "2022-05-10T13:43:39.520Z"
   },
   {
    "duration": 57,
    "start_time": "2022-05-10T13:47:39.759Z"
   },
   {
    "duration": 40,
    "start_time": "2022-05-10T13:48:02.875Z"
   },
   {
    "duration": 66,
    "start_time": "2022-05-10T13:48:37.681Z"
   },
   {
    "duration": 81,
    "start_time": "2022-05-10T13:49:00.450Z"
   },
   {
    "duration": 87,
    "start_time": "2022-05-10T13:49:08.251Z"
   },
   {
    "duration": 569,
    "start_time": "2022-05-10T13:49:15.156Z"
   },
   {
    "duration": 30,
    "start_time": "2022-05-10T13:49:15.727Z"
   },
   {
    "duration": 170,
    "start_time": "2022-05-10T13:49:15.760Z"
   },
   {
    "duration": 42,
    "start_time": "2022-05-10T13:49:15.932Z"
   },
   {
    "duration": 152,
    "start_time": "2022-05-10T13:49:15.977Z"
   },
   {
    "duration": 27,
    "start_time": "2022-05-10T13:49:16.131Z"
   },
   {
    "duration": 18,
    "start_time": "2022-05-10T13:49:16.160Z"
   },
   {
    "duration": 41,
    "start_time": "2022-05-10T13:49:16.180Z"
   },
   {
    "duration": 28,
    "start_time": "2022-05-10T13:49:16.224Z"
   },
   {
    "duration": 16,
    "start_time": "2022-05-10T13:49:16.254Z"
   },
   {
    "duration": 72,
    "start_time": "2022-05-10T13:49:16.273Z"
   },
   {
    "duration": 83,
    "start_time": "2022-05-10T13:49:16.347Z"
   },
   {
    "duration": 45,
    "start_time": "2022-05-10T13:49:16.432Z"
   },
   {
    "duration": 55,
    "start_time": "2022-05-10T13:49:16.481Z"
   },
   {
    "duration": 16,
    "start_time": "2022-05-10T13:49:16.539Z"
   },
   {
    "duration": 13,
    "start_time": "2022-05-10T13:49:16.558Z"
   },
   {
    "duration": 61,
    "start_time": "2022-05-10T13:49:16.573Z"
   },
   {
    "duration": 11,
    "start_time": "2022-05-10T13:49:16.637Z"
   },
   {
    "duration": 56,
    "start_time": "2022-05-10T13:49:16.652Z"
   },
   {
    "duration": 18,
    "start_time": "2022-05-10T13:49:16.711Z"
   },
   {
    "duration": 8,
    "start_time": "2022-05-10T13:49:16.731Z"
   },
   {
    "duration": 37,
    "start_time": "2022-05-10T13:49:16.741Z"
   },
   {
    "duration": 56,
    "start_time": "2022-05-10T13:49:16.807Z"
   },
   {
    "duration": 60,
    "start_time": "2022-05-10T13:49:16.866Z"
   },
   {
    "duration": 22,
    "start_time": "2022-05-10T13:49:16.928Z"
   },
   {
    "duration": 85,
    "start_time": "2022-05-10T13:49:16.952Z"
   },
   {
    "duration": 0,
    "start_time": "2022-05-10T13:49:17.039Z"
   },
   {
    "duration": 0,
    "start_time": "2022-05-10T13:49:17.040Z"
   },
   {
    "duration": 0,
    "start_time": "2022-05-10T13:49:17.043Z"
   },
   {
    "duration": 64,
    "start_time": "2022-05-10T13:50:01.882Z"
   },
   {
    "duration": 61,
    "start_time": "2022-05-10T13:50:07.464Z"
   },
   {
    "duration": 81,
    "start_time": "2022-05-10T13:50:33.959Z"
   },
   {
    "duration": 26,
    "start_time": "2022-05-10T13:50:43.572Z"
   },
   {
    "duration": 42,
    "start_time": "2022-05-10T13:50:44.963Z"
   },
   {
    "duration": 39,
    "start_time": "2022-05-10T13:51:05.400Z"
   },
   {
    "duration": 35,
    "start_time": "2022-05-10T13:51:08.048Z"
   },
   {
    "duration": 12,
    "start_time": "2022-05-10T13:54:02.325Z"
   },
   {
    "duration": 56,
    "start_time": "2022-05-10T13:54:08.661Z"
   },
   {
    "duration": 74,
    "start_time": "2022-05-10T13:54:25.780Z"
   },
   {
    "duration": 44,
    "start_time": "2022-05-10T13:54:34.644Z"
   },
   {
    "duration": 3,
    "start_time": "2022-05-10T13:56:52.716Z"
   },
   {
    "duration": 22,
    "start_time": "2022-05-10T13:57:02.550Z"
   },
   {
    "duration": 5,
    "start_time": "2022-05-10T13:58:23.436Z"
   },
   {
    "duration": 6,
    "start_time": "2022-05-10T14:00:13.158Z"
   },
   {
    "duration": 5,
    "start_time": "2022-05-10T14:00:31.599Z"
   },
   {
    "duration": 6,
    "start_time": "2022-05-10T14:01:51.037Z"
   },
   {
    "duration": 8,
    "start_time": "2022-05-10T14:03:31.881Z"
   },
   {
    "duration": 9,
    "start_time": "2022-05-10T14:03:53.345Z"
   },
   {
    "duration": 54,
    "start_time": "2022-05-10T14:03:59.197Z"
   },
   {
    "duration": 34,
    "start_time": "2022-05-10T14:04:10.067Z"
   },
   {
    "duration": 615,
    "start_time": "2022-05-10T14:06:19.600Z"
   },
   {
    "duration": 27,
    "start_time": "2022-05-10T14:06:20.217Z"
   },
   {
    "duration": 150,
    "start_time": "2022-05-10T14:06:20.245Z"
   },
   {
    "duration": 25,
    "start_time": "2022-05-10T14:06:20.403Z"
   },
   {
    "duration": 96,
    "start_time": "2022-05-10T14:06:20.430Z"
   },
   {
    "duration": 20,
    "start_time": "2022-05-10T14:06:20.528Z"
   },
   {
    "duration": 16,
    "start_time": "2022-05-10T14:06:20.550Z"
   },
   {
    "duration": 11,
    "start_time": "2022-05-10T14:06:20.568Z"
   },
   {
    "duration": 47,
    "start_time": "2022-05-10T14:06:20.581Z"
   },
   {
    "duration": 11,
    "start_time": "2022-05-10T14:06:20.632Z"
   },
   {
    "duration": 44,
    "start_time": "2022-05-10T14:06:20.645Z"
   },
   {
    "duration": 67,
    "start_time": "2022-05-10T14:06:20.691Z"
   },
   {
    "duration": 56,
    "start_time": "2022-05-10T14:06:20.760Z"
   },
   {
    "duration": 34,
    "start_time": "2022-05-10T14:06:20.818Z"
   },
   {
    "duration": 15,
    "start_time": "2022-05-10T14:06:20.854Z"
   },
   {
    "duration": 38,
    "start_time": "2022-05-10T14:06:20.871Z"
   },
   {
    "duration": 32,
    "start_time": "2022-05-10T14:06:20.911Z"
   },
   {
    "duration": 10,
    "start_time": "2022-05-10T14:06:20.945Z"
   },
   {
    "duration": 60,
    "start_time": "2022-05-10T14:06:20.957Z"
   },
   {
    "duration": 16,
    "start_time": "2022-05-10T14:06:21.019Z"
   },
   {
    "duration": 8,
    "start_time": "2022-05-10T14:06:21.037Z"
   },
   {
    "duration": 66,
    "start_time": "2022-05-10T14:06:21.047Z"
   },
   {
    "duration": 72,
    "start_time": "2022-05-10T14:06:21.115Z"
   },
   {
    "duration": 73,
    "start_time": "2022-05-10T14:06:21.190Z"
   },
   {
    "duration": 45,
    "start_time": "2022-05-10T14:06:21.266Z"
   },
   {
    "duration": 58,
    "start_time": "2022-05-10T14:06:21.313Z"
   },
   {
    "duration": 50,
    "start_time": "2022-05-10T14:06:21.373Z"
   },
   {
    "duration": 62,
    "start_time": "2022-05-10T14:06:21.428Z"
   },
   {
    "duration": 20,
    "start_time": "2022-05-10T14:06:21.492Z"
   },
   {
    "duration": 7,
    "start_time": "2022-05-10T14:06:21.515Z"
   },
   {
    "duration": 10,
    "start_time": "2022-05-10T14:06:21.525Z"
   },
   {
    "duration": 142,
    "start_time": "2022-05-10T14:06:21.537Z"
   },
   {
    "duration": 15,
    "start_time": "2022-05-10T14:08:03.358Z"
   },
   {
    "duration": 33,
    "start_time": "2022-05-10T14:10:26.250Z"
   },
   {
    "duration": 48,
    "start_time": "2022-05-10T14:11:21.882Z"
   },
   {
    "duration": 44,
    "start_time": "2022-05-10T14:11:43.071Z"
   },
   {
    "duration": 62,
    "start_time": "2022-05-10T14:12:47.308Z"
   },
   {
    "duration": 54,
    "start_time": "2022-05-10T14:14:22.465Z"
   },
   {
    "duration": 42,
    "start_time": "2022-05-10T14:14:35.512Z"
   },
   {
    "duration": 42,
    "start_time": "2022-05-10T14:14:44.031Z"
   },
   {
    "duration": 39,
    "start_time": "2022-05-10T14:15:25.542Z"
   },
   {
    "duration": 15,
    "start_time": "2022-05-10T14:15:45.020Z"
   },
   {
    "duration": 4,
    "start_time": "2022-05-10T14:18:38.192Z"
   },
   {
    "duration": 42,
    "start_time": "2022-05-10T14:18:45.553Z"
   },
   {
    "duration": 36,
    "start_time": "2022-05-10T14:20:16.919Z"
   },
   {
    "duration": 34,
    "start_time": "2022-05-10T14:22:57.590Z"
   },
   {
    "duration": 21,
    "start_time": "2022-05-10T14:23:20.427Z"
   },
   {
    "duration": 40,
    "start_time": "2022-05-10T14:23:27.408Z"
   },
   {
    "duration": 552,
    "start_time": "2022-05-10T14:23:42.667Z"
   },
   {
    "duration": 28,
    "start_time": "2022-05-10T14:23:43.221Z"
   },
   {
    "duration": 148,
    "start_time": "2022-05-10T14:23:43.251Z"
   },
   {
    "duration": 27,
    "start_time": "2022-05-10T14:23:43.401Z"
   },
   {
    "duration": 98,
    "start_time": "2022-05-10T14:23:43.430Z"
   },
   {
    "duration": 20,
    "start_time": "2022-05-10T14:23:43.530Z"
   },
   {
    "duration": 14,
    "start_time": "2022-05-10T14:23:43.552Z"
   },
   {
    "duration": 10,
    "start_time": "2022-05-10T14:23:43.568Z"
   },
   {
    "duration": 31,
    "start_time": "2022-05-10T14:23:43.610Z"
   },
   {
    "duration": 11,
    "start_time": "2022-05-10T14:23:43.645Z"
   },
   {
    "duration": 31,
    "start_time": "2022-05-10T14:23:43.658Z"
   },
   {
    "duration": 67,
    "start_time": "2022-05-10T14:23:43.690Z"
   },
   {
    "duration": 55,
    "start_time": "2022-05-10T14:23:43.759Z"
   },
   {
    "duration": 34,
    "start_time": "2022-05-10T14:23:43.816Z"
   },
   {
    "duration": 16,
    "start_time": "2022-05-10T14:23:43.852Z"
   },
   {
    "duration": 39,
    "start_time": "2022-05-10T14:23:43.870Z"
   },
   {
    "duration": 41,
    "start_time": "2022-05-10T14:23:43.911Z"
   },
   {
    "duration": 9,
    "start_time": "2022-05-10T14:23:43.954Z"
   },
   {
    "duration": 50,
    "start_time": "2022-05-10T14:23:43.965Z"
   },
   {
    "duration": 15,
    "start_time": "2022-05-10T14:23:44.017Z"
   },
   {
    "duration": 7,
    "start_time": "2022-05-10T14:23:44.034Z"
   },
   {
    "duration": 33,
    "start_time": "2022-05-10T14:23:44.043Z"
   },
   {
    "duration": 76,
    "start_time": "2022-05-10T14:23:44.079Z"
   },
   {
    "duration": 58,
    "start_time": "2022-05-10T14:23:44.157Z"
   },
   {
    "duration": 20,
    "start_time": "2022-05-10T14:23:44.217Z"
   },
   {
    "duration": 75,
    "start_time": "2022-05-10T14:23:44.239Z"
   },
   {
    "duration": 24,
    "start_time": "2022-05-10T14:23:44.316Z"
   },
   {
    "duration": 40,
    "start_time": "2022-05-10T14:23:44.344Z"
   },
   {
    "duration": 7,
    "start_time": "2022-05-10T14:23:44.407Z"
   },
   {
    "duration": 7,
    "start_time": "2022-05-10T14:23:44.417Z"
   },
   {
    "duration": 10,
    "start_time": "2022-05-10T14:23:44.426Z"
   },
   {
    "duration": 34,
    "start_time": "2022-05-10T14:23:44.438Z"
   },
   {
    "duration": 58,
    "start_time": "2022-05-10T14:23:44.473Z"
   },
   {
    "duration": 70,
    "start_time": "2022-05-10T14:24:27.892Z"
   },
   {
    "duration": 36,
    "start_time": "2022-05-10T14:24:37.813Z"
   },
   {
    "duration": 36,
    "start_time": "2022-05-10T14:25:32.716Z"
   },
   {
    "duration": 92,
    "start_time": "2022-05-10T14:25:45.384Z"
   },
   {
    "duration": 32,
    "start_time": "2022-05-10T14:25:51.700Z"
   },
   {
    "duration": 27,
    "start_time": "2022-05-10T14:34:02.214Z"
   },
   {
    "duration": 50,
    "start_time": "2022-05-10T14:34:24.923Z"
   },
   {
    "duration": 44,
    "start_time": "2022-05-10T14:34:58.221Z"
   },
   {
    "duration": 36,
    "start_time": "2022-05-10T14:38:23.236Z"
   },
   {
    "duration": 86,
    "start_time": "2022-05-10T14:40:18.858Z"
   },
   {
    "duration": 14,
    "start_time": "2022-05-10T14:41:15.377Z"
   },
   {
    "duration": 783,
    "start_time": "2022-05-10T14:42:07.968Z"
   },
   {
    "duration": 9,
    "start_time": "2022-05-10T14:43:01.068Z"
   },
   {
    "duration": 33,
    "start_time": "2022-05-10T14:43:06.531Z"
   },
   {
    "duration": 59,
    "start_time": "2022-05-10T14:43:42.000Z"
   },
   {
    "duration": 11,
    "start_time": "2022-05-10T14:44:36.959Z"
   },
   {
    "duration": 14,
    "start_time": "2022-05-10T14:44:54.793Z"
   },
   {
    "duration": 14,
    "start_time": "2022-05-10T14:44:59.940Z"
   },
   {
    "duration": 51,
    "start_time": "2022-05-10T14:45:28.557Z"
   },
   {
    "duration": 13,
    "start_time": "2022-05-10T14:45:58.535Z"
   },
   {
    "duration": 109,
    "start_time": "2022-05-10T14:46:09.844Z"
   },
   {
    "duration": 36,
    "start_time": "2022-05-10T14:47:17.004Z"
   },
   {
    "duration": 47,
    "start_time": "2022-05-10T14:47:45.326Z"
   },
   {
    "duration": 42,
    "start_time": "2022-05-10T14:47:49.316Z"
   },
   {
    "duration": 9,
    "start_time": "2022-05-10T14:48:00.351Z"
   },
   {
    "duration": 34,
    "start_time": "2022-05-10T14:48:02.324Z"
   },
   {
    "duration": 9,
    "start_time": "2022-05-10T16:34:25.208Z"
   },
   {
    "duration": 91,
    "start_time": "2022-05-10T16:37:18.310Z"
   },
   {
    "duration": 13,
    "start_time": "2022-05-10T16:39:56.089Z"
   },
   {
    "duration": 15,
    "start_time": "2022-05-10T16:40:21.279Z"
   },
   {
    "duration": 37,
    "start_time": "2022-05-10T16:40:37.408Z"
   },
   {
    "duration": 11,
    "start_time": "2022-05-10T16:44:02.181Z"
   },
   {
    "duration": 12,
    "start_time": "2022-05-10T16:49:13.399Z"
   },
   {
    "duration": 587,
    "start_time": "2022-05-10T17:04:29.845Z"
   },
   {
    "duration": 45,
    "start_time": "2022-05-10T17:04:30.434Z"
   },
   {
    "duration": 164,
    "start_time": "2022-05-10T17:04:30.481Z"
   },
   {
    "duration": 40,
    "start_time": "2022-05-10T17:04:30.647Z"
   },
   {
    "duration": 105,
    "start_time": "2022-05-10T17:04:30.690Z"
   },
   {
    "duration": 30,
    "start_time": "2022-05-10T17:04:30.797Z"
   },
   {
    "duration": 26,
    "start_time": "2022-05-10T17:04:30.829Z"
   },
   {
    "duration": 15,
    "start_time": "2022-05-10T17:04:30.857Z"
   },
   {
    "duration": 41,
    "start_time": "2022-05-10T17:04:30.875Z"
   },
   {
    "duration": 16,
    "start_time": "2022-05-10T17:04:30.919Z"
   },
   {
    "duration": 41,
    "start_time": "2022-05-10T17:04:30.937Z"
   },
   {
    "duration": 75,
    "start_time": "2022-05-10T17:04:30.980Z"
   },
   {
    "duration": 57,
    "start_time": "2022-05-10T17:04:31.057Z"
   },
   {
    "duration": 37,
    "start_time": "2022-05-10T17:04:31.117Z"
   },
   {
    "duration": 15,
    "start_time": "2022-05-10T17:04:31.155Z"
   },
   {
    "duration": 37,
    "start_time": "2022-05-10T17:04:31.172Z"
   },
   {
    "duration": 36,
    "start_time": "2022-05-10T17:04:31.211Z"
   },
   {
    "duration": 10,
    "start_time": "2022-05-10T17:04:31.249Z"
   },
   {
    "duration": 56,
    "start_time": "2022-05-10T17:04:31.261Z"
   },
   {
    "duration": 15,
    "start_time": "2022-05-10T17:04:31.320Z"
   },
   {
    "duration": 16,
    "start_time": "2022-05-10T17:04:31.338Z"
   },
   {
    "duration": 54,
    "start_time": "2022-05-10T17:04:31.356Z"
   },
   {
    "duration": 47,
    "start_time": "2022-05-10T17:04:31.412Z"
   },
   {
    "duration": 48,
    "start_time": "2022-05-10T17:04:31.461Z"
   },
   {
    "duration": 26,
    "start_time": "2022-05-10T17:04:31.511Z"
   },
   {
    "duration": 32,
    "start_time": "2022-05-10T17:04:31.539Z"
   },
   {
    "duration": 45,
    "start_time": "2022-05-10T17:04:31.573Z"
   },
   {
    "duration": 30,
    "start_time": "2022-05-10T17:04:31.620Z"
   },
   {
    "duration": 18,
    "start_time": "2022-05-10T17:14:24.774Z"
   },
   {
    "duration": 15,
    "start_time": "2022-05-10T17:15:29.143Z"
   },
   {
    "duration": 26,
    "start_time": "2022-05-10T17:15:35.553Z"
   },
   {
    "duration": 33,
    "start_time": "2022-05-10T17:15:51.485Z"
   },
   {
    "duration": 28,
    "start_time": "2022-05-10T17:17:21.991Z"
   },
   {
    "duration": 26,
    "start_time": "2022-05-10T17:17:27.444Z"
   },
   {
    "duration": 37,
    "start_time": "2022-05-10T17:18:09.345Z"
   },
   {
    "duration": 27,
    "start_time": "2022-05-10T17:18:32.382Z"
   },
   {
    "duration": 24,
    "start_time": "2022-05-10T17:18:40.851Z"
   },
   {
    "duration": 26,
    "start_time": "2022-05-10T17:18:43.501Z"
   },
   {
    "duration": 26,
    "start_time": "2022-05-10T17:18:46.442Z"
   },
   {
    "duration": 663,
    "start_time": "2022-05-10T17:19:08.229Z"
   },
   {
    "duration": 28,
    "start_time": "2022-05-10T17:19:08.894Z"
   },
   {
    "duration": 152,
    "start_time": "2022-05-10T17:19:08.924Z"
   },
   {
    "duration": 33,
    "start_time": "2022-05-10T17:19:09.077Z"
   },
   {
    "duration": 104,
    "start_time": "2022-05-10T17:19:09.112Z"
   },
   {
    "duration": 21,
    "start_time": "2022-05-10T17:19:09.219Z"
   },
   {
    "duration": 16,
    "start_time": "2022-05-10T17:19:09.242Z"
   },
   {
    "duration": 15,
    "start_time": "2022-05-10T17:19:09.260Z"
   },
   {
    "duration": 46,
    "start_time": "2022-05-10T17:19:09.277Z"
   },
   {
    "duration": 12,
    "start_time": "2022-05-10T17:19:09.325Z"
   },
   {
    "duration": 45,
    "start_time": "2022-05-10T17:19:09.339Z"
   },
   {
    "duration": 60,
    "start_time": "2022-05-10T17:19:09.408Z"
   },
   {
    "duration": 66,
    "start_time": "2022-05-10T17:19:09.470Z"
   },
   {
    "duration": 37,
    "start_time": "2022-05-10T17:19:09.539Z"
   },
   {
    "duration": 33,
    "start_time": "2022-05-10T17:19:09.578Z"
   },
   {
    "duration": 12,
    "start_time": "2022-05-10T17:19:09.612Z"
   },
   {
    "duration": 33,
    "start_time": "2022-05-10T17:19:09.626Z"
   },
   {
    "duration": 10,
    "start_time": "2022-05-10T17:19:09.661Z"
   },
   {
    "duration": 65,
    "start_time": "2022-05-10T17:19:09.673Z"
   },
   {
    "duration": 14,
    "start_time": "2022-05-10T17:19:09.740Z"
   },
   {
    "duration": 8,
    "start_time": "2022-05-10T17:19:09.756Z"
   },
   {
    "duration": 62,
    "start_time": "2022-05-10T17:19:09.765Z"
   },
   {
    "duration": 41,
    "start_time": "2022-05-10T17:19:09.828Z"
   },
   {
    "duration": 50,
    "start_time": "2022-05-10T17:19:09.871Z"
   },
   {
    "duration": 21,
    "start_time": "2022-05-10T17:19:09.923Z"
   },
   {
    "duration": 34,
    "start_time": "2022-05-10T17:19:09.946Z"
   },
   {
    "duration": 46,
    "start_time": "2022-05-10T17:19:09.981Z"
   },
   {
    "duration": 35,
    "start_time": "2022-05-10T17:19:10.029Z"
   },
   {
    "duration": 55,
    "start_time": "2022-05-10T17:19:10.066Z"
   },
   {
    "duration": 68,
    "start_time": "2022-05-10T17:20:30.815Z"
   },
   {
    "duration": 35,
    "start_time": "2022-05-10T17:22:07.138Z"
   },
   {
    "duration": 73,
    "start_time": "2022-05-10T17:22:13.601Z"
   },
   {
    "duration": 26,
    "start_time": "2022-05-10T17:22:53.874Z"
   },
   {
    "duration": 81,
    "start_time": "2022-05-10T17:22:59.016Z"
   },
   {
    "duration": 30,
    "start_time": "2022-05-10T17:24:48.976Z"
   },
   {
    "duration": 27,
    "start_time": "2022-05-10T17:25:16.685Z"
   },
   {
    "duration": 31,
    "start_time": "2022-05-10T17:26:19.235Z"
   },
   {
    "duration": 31,
    "start_time": "2022-05-10T17:26:27.872Z"
   },
   {
    "duration": 8,
    "start_time": "2022-05-10T17:28:40.733Z"
   },
   {
    "duration": 9,
    "start_time": "2022-05-10T17:28:51.023Z"
   },
   {
    "duration": 71,
    "start_time": "2022-05-10T17:28:57.265Z"
   },
   {
    "duration": 10,
    "start_time": "2022-05-10T17:29:12.942Z"
   },
   {
    "duration": 11,
    "start_time": "2022-05-10T17:29:20.654Z"
   },
   {
    "duration": 7,
    "start_time": "2022-05-10T17:31:00.056Z"
   },
   {
    "duration": 12,
    "start_time": "2022-05-10T17:31:25.164Z"
   },
   {
    "duration": 8,
    "start_time": "2022-05-10T17:32:28.653Z"
   },
   {
    "duration": 36,
    "start_time": "2022-05-10T17:36:34.840Z"
   },
   {
    "duration": 48,
    "start_time": "2022-05-10T17:37:29.841Z"
   },
   {
    "duration": 107,
    "start_time": "2022-05-10T17:37:42.381Z"
   },
   {
    "duration": 73,
    "start_time": "2022-05-10T17:37:49.131Z"
   },
   {
    "duration": 7,
    "start_time": "2022-05-10T17:38:10.560Z"
   },
   {
    "duration": 52,
    "start_time": "2022-05-10T17:38:16.479Z"
   },
   {
    "duration": 28,
    "start_time": "2022-05-10T17:38:22.170Z"
   },
   {
    "duration": 48,
    "start_time": "2022-05-10T17:38:30.920Z"
   },
   {
    "duration": 71,
    "start_time": "2022-05-10T17:39:01.092Z"
   },
   {
    "duration": 78,
    "start_time": "2022-05-10T17:39:13.120Z"
   },
   {
    "duration": 25,
    "start_time": "2022-05-10T17:39:24.941Z"
   },
   {
    "duration": 41,
    "start_time": "2022-05-10T17:39:36.060Z"
   },
   {
    "duration": 48,
    "start_time": "2022-05-10T17:39:52.032Z"
   },
   {
    "duration": 38,
    "start_time": "2022-05-10T17:40:01.661Z"
   },
   {
    "duration": 28,
    "start_time": "2022-05-10T17:40:13.310Z"
   },
   {
    "duration": 26,
    "start_time": "2022-05-10T17:40:18.240Z"
   },
   {
    "duration": 73,
    "start_time": "2022-05-10T17:41:28.082Z"
   },
   {
    "duration": 582,
    "start_time": "2022-05-10T17:42:39.434Z"
   },
   {
    "duration": 27,
    "start_time": "2022-05-10T17:42:40.018Z"
   },
   {
    "duration": 153,
    "start_time": "2022-05-10T17:42:40.047Z"
   },
   {
    "duration": 26,
    "start_time": "2022-05-10T17:42:40.201Z"
   },
   {
    "duration": 118,
    "start_time": "2022-05-10T17:42:40.230Z"
   },
   {
    "duration": 20,
    "start_time": "2022-05-10T17:42:40.349Z"
   },
   {
    "duration": 15,
    "start_time": "2022-05-10T17:42:40.371Z"
   },
   {
    "duration": 28,
    "start_time": "2022-05-10T17:42:40.388Z"
   },
   {
    "duration": 29,
    "start_time": "2022-05-10T17:42:40.417Z"
   },
   {
    "duration": 11,
    "start_time": "2022-05-10T17:42:40.448Z"
   },
   {
    "duration": 34,
    "start_time": "2022-05-10T17:42:40.461Z"
   },
   {
    "duration": 64,
    "start_time": "2022-05-10T17:42:40.496Z"
   },
   {
    "duration": 59,
    "start_time": "2022-05-10T17:42:40.561Z"
   },
   {
    "duration": 32,
    "start_time": "2022-05-10T17:42:40.623Z"
   },
   {
    "duration": 14,
    "start_time": "2022-05-10T17:42:40.656Z"
   },
   {
    "duration": 11,
    "start_time": "2022-05-10T17:42:40.672Z"
   },
   {
    "duration": 30,
    "start_time": "2022-05-10T17:42:40.708Z"
   },
   {
    "duration": 8,
    "start_time": "2022-05-10T17:42:40.740Z"
   },
   {
    "duration": 29,
    "start_time": "2022-05-10T17:42:40.750Z"
   },
   {
    "duration": 33,
    "start_time": "2022-05-10T17:42:40.780Z"
   },
   {
    "duration": 6,
    "start_time": "2022-05-10T17:42:40.816Z"
   },
   {
    "duration": 32,
    "start_time": "2022-05-10T17:42:40.824Z"
   },
   {
    "duration": 72,
    "start_time": "2022-05-10T17:42:40.858Z"
   },
   {
    "duration": 34,
    "start_time": "2022-05-10T17:42:40.932Z"
   },
   {
    "duration": 43,
    "start_time": "2022-05-10T17:42:40.967Z"
   },
   {
    "duration": 36,
    "start_time": "2022-05-10T17:42:41.011Z"
   },
   {
    "duration": 26,
    "start_time": "2022-05-10T17:42:41.049Z"
   },
   {
    "duration": 68,
    "start_time": "2022-05-10T17:42:41.077Z"
   },
   {
    "duration": 89,
    "start_time": "2022-05-10T17:42:41.147Z"
   },
   {
    "duration": 109,
    "start_time": "2022-05-10T17:43:03.583Z"
   },
   {
    "duration": 203,
    "start_time": "2022-05-10T17:52:57.566Z"
   },
   {
    "duration": 234,
    "start_time": "2022-05-10T17:54:36.203Z"
   },
   {
    "duration": 200,
    "start_time": "2022-05-10T17:54:48.695Z"
   },
   {
    "duration": 180,
    "start_time": "2022-05-10T17:55:11.212Z"
   },
   {
    "duration": 174,
    "start_time": "2022-05-10T17:55:21.143Z"
   },
   {
    "duration": 544,
    "start_time": "2022-05-10T17:55:30.294Z"
   },
   {
    "duration": 546,
    "start_time": "2022-05-10T17:55:44.126Z"
   },
   {
    "duration": 189,
    "start_time": "2022-05-10T17:55:51.224Z"
   },
   {
    "duration": 189,
    "start_time": "2022-05-10T17:56:42.254Z"
   },
   {
    "duration": 227,
    "start_time": "2022-05-10T17:59:04.533Z"
   },
   {
    "duration": 187,
    "start_time": "2022-05-10T17:59:22.096Z"
   },
   {
    "duration": 35,
    "start_time": "2022-05-10T18:00:36.353Z"
   },
   {
    "duration": 32,
    "start_time": "2022-05-10T18:02:47.304Z"
   },
   {
    "duration": 51,
    "start_time": "2022-05-10T18:03:05.593Z"
   },
   {
    "duration": 187,
    "start_time": "2022-05-10T18:03:22.714Z"
   },
   {
    "duration": 33,
    "start_time": "2022-05-10T18:03:27.249Z"
   },
   {
    "duration": 30,
    "start_time": "2022-05-10T18:04:50.336Z"
   },
   {
    "duration": 15,
    "start_time": "2022-05-10T18:05:24.227Z"
   },
   {
    "duration": 32,
    "start_time": "2022-05-10T18:05:38.467Z"
   },
   {
    "duration": 32,
    "start_time": "2022-05-10T18:06:55.747Z"
   },
   {
    "duration": 34,
    "start_time": "2022-05-10T18:07:13.067Z"
   },
   {
    "duration": 36,
    "start_time": "2022-05-10T18:07:20.887Z"
   },
   {
    "duration": 33,
    "start_time": "2022-05-10T18:07:35.317Z"
   },
   {
    "duration": 27,
    "start_time": "2022-05-10T18:08:51.637Z"
   },
   {
    "duration": 37,
    "start_time": "2022-05-10T18:15:25.197Z"
   },
   {
    "duration": 202,
    "start_time": "2022-05-10T18:23:23.406Z"
   },
   {
    "duration": 191,
    "start_time": "2022-05-10T18:23:33.645Z"
   },
   {
    "duration": 33,
    "start_time": "2022-05-10T18:23:46.837Z"
   },
   {
    "duration": 102,
    "start_time": "2022-05-10T18:31:43.453Z"
   },
   {
    "duration": 108,
    "start_time": "2022-05-10T18:31:56.024Z"
   },
   {
    "duration": 52,
    "start_time": "2022-05-10T18:33:33.943Z"
   },
   {
    "duration": 8,
    "start_time": "2022-05-10T18:35:28.187Z"
   },
   {
    "duration": 515,
    "start_time": "2022-05-10T18:35:37.163Z"
   },
   {
    "duration": 28,
    "start_time": "2022-05-10T18:35:37.680Z"
   },
   {
    "duration": 134,
    "start_time": "2022-05-10T18:35:37.710Z"
   },
   {
    "duration": 22,
    "start_time": "2022-05-10T18:35:37.846Z"
   },
   {
    "duration": 94,
    "start_time": "2022-05-10T18:35:37.871Z"
   },
   {
    "duration": 19,
    "start_time": "2022-05-10T18:35:37.966Z"
   },
   {
    "duration": 22,
    "start_time": "2022-05-10T18:35:37.987Z"
   },
   {
    "duration": 10,
    "start_time": "2022-05-10T18:35:38.011Z"
   },
   {
    "duration": 25,
    "start_time": "2022-05-10T18:35:38.022Z"
   },
   {
    "duration": 10,
    "start_time": "2022-05-10T18:35:38.049Z"
   },
   {
    "duration": 29,
    "start_time": "2022-05-10T18:35:38.061Z"
   },
   {
    "duration": 52,
    "start_time": "2022-05-10T18:35:38.108Z"
   },
   {
    "duration": 58,
    "start_time": "2022-05-10T18:35:38.162Z"
   },
   {
    "duration": 32,
    "start_time": "2022-05-10T18:35:38.223Z"
   },
   {
    "duration": 14,
    "start_time": "2022-05-10T18:35:38.257Z"
   },
   {
    "duration": 36,
    "start_time": "2022-05-10T18:35:38.272Z"
   },
   {
    "duration": 104,
    "start_time": "2022-05-10T18:35:38.310Z"
   },
   {
    "duration": 29,
    "start_time": "2022-05-10T18:35:38.415Z"
   },
   {
    "duration": 8,
    "start_time": "2022-05-10T18:35:38.446Z"
   },
   {
    "duration": 73,
    "start_time": "2022-05-10T18:35:38.456Z"
   },
   {
    "duration": 24,
    "start_time": "2022-05-10T18:35:38.531Z"
   },
   {
    "duration": 8,
    "start_time": "2022-05-10T18:35:38.557Z"
   },
   {
    "duration": 14,
    "start_time": "2022-05-10T18:35:38.567Z"
   },
   {
    "duration": 6,
    "start_time": "2022-05-10T18:35:38.607Z"
   },
   {
    "duration": 32,
    "start_time": "2022-05-10T18:35:38.615Z"
   },
   {
    "duration": 58,
    "start_time": "2022-05-10T18:35:38.649Z"
   },
   {
    "duration": 31,
    "start_time": "2022-05-10T18:35:38.709Z"
   },
   {
    "duration": 21,
    "start_time": "2022-05-10T18:35:38.742Z"
   },
   {
    "duration": 52,
    "start_time": "2022-05-10T18:35:38.765Z"
   },
   {
    "duration": 24,
    "start_time": "2022-05-10T18:35:38.819Z"
   },
   {
    "duration": 28,
    "start_time": "2022-05-10T18:35:38.845Z"
   },
   {
    "duration": 66,
    "start_time": "2022-05-10T18:35:38.875Z"
   },
   {
    "duration": 195,
    "start_time": "2022-05-10T18:35:38.942Z"
   },
   {
    "duration": 32,
    "start_time": "2022-05-10T18:35:39.138Z"
   },
   {
    "duration": 42,
    "start_time": "2022-05-10T18:36:44.323Z"
   },
   {
    "duration": 7,
    "start_time": "2022-05-10T18:37:56.279Z"
   },
   {
    "duration": 48,
    "start_time": "2022-05-10T19:09:47.339Z"
   },
   {
    "duration": 6,
    "start_time": "2022-05-10T19:10:49.680Z"
   },
   {
    "duration": 67,
    "start_time": "2022-05-10T19:18:25.719Z"
   },
   {
    "duration": 7,
    "start_time": "2022-05-10T19:18:49.057Z"
   },
   {
    "duration": 6,
    "start_time": "2022-05-10T19:19:31.494Z"
   },
   {
    "duration": 7,
    "start_time": "2022-05-10T19:19:39.808Z"
   },
   {
    "duration": 7,
    "start_time": "2022-05-10T19:19:45.647Z"
   },
   {
    "duration": 7,
    "start_time": "2022-05-10T19:22:57.827Z"
   },
   {
    "duration": 6,
    "start_time": "2022-05-10T19:27:42.013Z"
   },
   {
    "duration": 6,
    "start_time": "2022-05-10T19:27:55.612Z"
   },
   {
    "duration": 6,
    "start_time": "2022-05-10T19:27:56.673Z"
   },
   {
    "duration": 25,
    "start_time": "2022-05-10T19:37:18.315Z"
   },
   {
    "duration": 24,
    "start_time": "2022-05-10T19:38:09.301Z"
   },
   {
    "duration": 5,
    "start_time": "2022-05-10T19:38:17.273Z"
   },
   {
    "duration": 5,
    "start_time": "2022-05-10T19:38:27.693Z"
   },
   {
    "duration": 5,
    "start_time": "2022-05-10T19:38:34.782Z"
   },
   {
    "duration": 22,
    "start_time": "2022-05-10T19:39:02.008Z"
   },
   {
    "duration": 5,
    "start_time": "2022-05-10T19:39:29.672Z"
   },
   {
    "duration": 5,
    "start_time": "2022-05-10T19:39:31.131Z"
   },
   {
    "duration": 5,
    "start_time": "2022-05-10T19:39:32.314Z"
   },
   {
    "duration": 579,
    "start_time": "2022-05-10T19:40:40.876Z"
   },
   {
    "duration": 315,
    "start_time": "2022-05-10T19:42:47.930Z"
   },
   {
    "duration": 378,
    "start_time": "2022-05-10T19:43:30.080Z"
   },
   {
    "duration": 309,
    "start_time": "2022-05-10T19:43:39.341Z"
   },
   {
    "duration": 319,
    "start_time": "2022-05-10T19:47:20.646Z"
   },
   {
    "duration": 295,
    "start_time": "2022-05-10T19:47:31.325Z"
   },
   {
    "duration": 169,
    "start_time": "2022-05-10T19:47:56.497Z"
   },
   {
    "duration": 182,
    "start_time": "2022-05-10T19:52:15.509Z"
   },
   {
    "duration": 174,
    "start_time": "2022-05-10T19:52:50.498Z"
   },
   {
    "duration": 240,
    "start_time": "2022-05-10T19:53:15.767Z"
   },
   {
    "duration": 730,
    "start_time": "2022-05-11T18:24:23.375Z"
   },
   {
    "duration": 48,
    "start_time": "2022-05-11T18:24:24.108Z"
   },
   {
    "duration": 182,
    "start_time": "2022-05-11T18:24:24.159Z"
   },
   {
    "duration": 36,
    "start_time": "2022-05-11T18:24:24.343Z"
   },
   {
    "duration": 131,
    "start_time": "2022-05-11T18:24:24.383Z"
   },
   {
    "duration": 35,
    "start_time": "2022-05-11T18:24:24.517Z"
   },
   {
    "duration": 19,
    "start_time": "2022-05-11T18:24:24.555Z"
   },
   {
    "duration": 15,
    "start_time": "2022-05-11T18:24:24.577Z"
   },
   {
    "duration": 56,
    "start_time": "2022-05-11T18:24:24.595Z"
   },
   {
    "duration": 15,
    "start_time": "2022-05-11T18:24:24.653Z"
   },
   {
    "duration": 37,
    "start_time": "2022-05-11T18:24:24.672Z"
   },
   {
    "duration": 100,
    "start_time": "2022-05-11T18:24:24.712Z"
   },
   {
    "duration": 71,
    "start_time": "2022-05-11T18:24:24.814Z"
   },
   {
    "duration": 62,
    "start_time": "2022-05-11T18:24:24.890Z"
   },
   {
    "duration": 21,
    "start_time": "2022-05-11T18:24:24.954Z"
   },
   {
    "duration": 32,
    "start_time": "2022-05-11T18:24:24.977Z"
   },
   {
    "duration": 158,
    "start_time": "2022-05-11T18:24:25.011Z"
   },
   {
    "duration": 37,
    "start_time": "2022-05-11T18:24:25.171Z"
   },
   {
    "duration": 12,
    "start_time": "2022-05-11T18:24:25.211Z"
   },
   {
    "duration": 65,
    "start_time": "2022-05-11T18:24:25.252Z"
   },
   {
    "duration": 48,
    "start_time": "2022-05-11T18:24:25.320Z"
   },
   {
    "duration": 10,
    "start_time": "2022-05-11T18:24:25.370Z"
   },
   {
    "duration": 81,
    "start_time": "2022-05-11T18:24:25.381Z"
   },
   {
    "duration": 17,
    "start_time": "2022-05-11T18:24:25.464Z"
   },
   {
    "duration": 25,
    "start_time": "2022-05-11T18:24:25.483Z"
   },
   {
    "duration": 15,
    "start_time": "2022-05-11T18:24:25.510Z"
   },
   {
    "duration": 60,
    "start_time": "2022-05-11T18:24:25.528Z"
   },
   {
    "duration": 89,
    "start_time": "2022-05-11T18:24:25.591Z"
   },
   {
    "duration": 42,
    "start_time": "2022-05-11T18:24:25.683Z"
   },
   {
    "duration": 41,
    "start_time": "2022-05-11T18:24:25.728Z"
   },
   {
    "duration": 43,
    "start_time": "2022-05-11T18:24:25.772Z"
   },
   {
    "duration": 55,
    "start_time": "2022-05-11T18:24:25.817Z"
   },
   {
    "duration": 37,
    "start_time": "2022-05-11T18:24:25.876Z"
   },
   {
    "duration": 85,
    "start_time": "2022-05-11T18:24:25.916Z"
   },
   {
    "duration": 309,
    "start_time": "2022-05-11T18:24:26.003Z"
   },
   {
    "duration": 58,
    "start_time": "2022-05-11T18:24:26.315Z"
   },
   {
    "duration": 33,
    "start_time": "2022-05-11T18:24:26.375Z"
   },
   {
    "duration": 7,
    "start_time": "2022-05-11T18:24:26.411Z"
   },
   {
    "duration": 21,
    "start_time": "2022-05-11T18:24:26.451Z"
   },
   {
    "duration": 17,
    "start_time": "2022-05-11T18:24:26.474Z"
   },
   {
    "duration": 33,
    "start_time": "2022-05-11T18:24:26.496Z"
   },
   {
    "duration": 21,
    "start_time": "2022-05-11T18:24:26.532Z"
   },
   {
    "duration": 13,
    "start_time": "2022-05-11T18:24:26.555Z"
   },
   {
    "duration": 26,
    "start_time": "2022-05-11T18:24:26.571Z"
   },
   {
    "duration": 914,
    "start_time": "2022-05-11T18:24:26.599Z"
   },
   {
    "duration": 50,
    "start_time": "2022-05-11T18:24:38.710Z"
   },
   {
    "duration": 45,
    "start_time": "2022-05-11T18:24:49.693Z"
   },
   {
    "duration": 268,
    "start_time": "2022-05-11T18:25:26.818Z"
   },
   {
    "duration": 253,
    "start_time": "2022-05-11T18:26:28.599Z"
   },
   {
    "duration": 291,
    "start_time": "2022-05-11T18:32:55.858Z"
   },
   {
    "duration": 255,
    "start_time": "2022-05-11T18:33:05.728Z"
   },
   {
    "duration": 247,
    "start_time": "2022-05-11T18:34:20.509Z"
   },
   {
    "duration": 247,
    "start_time": "2022-05-11T18:34:44.466Z"
   },
   {
    "duration": 254,
    "start_time": "2022-05-11T18:36:55.055Z"
   },
   {
    "duration": 7,
    "start_time": "2022-05-11T18:37:37.379Z"
   },
   {
    "duration": 6,
    "start_time": "2022-05-11T18:38:55.852Z"
   },
   {
    "duration": 7,
    "start_time": "2022-05-11T18:39:23.481Z"
   },
   {
    "duration": 6,
    "start_time": "2022-05-11T18:40:37.783Z"
   },
   {
    "duration": 6,
    "start_time": "2022-05-11T18:40:38.816Z"
   },
   {
    "duration": 7,
    "start_time": "2022-05-11T18:40:40.136Z"
   },
   {
    "duration": 232,
    "start_time": "2022-05-11T18:41:33.373Z"
   },
   {
    "duration": 231,
    "start_time": "2022-05-11T18:42:03.575Z"
   },
   {
    "duration": 213,
    "start_time": "2022-05-11T18:42:14.698Z"
   },
   {
    "duration": 242,
    "start_time": "2022-05-11T18:42:42.698Z"
   },
   {
    "duration": 482,
    "start_time": "2022-05-11T18:50:47.211Z"
   },
   {
    "duration": 238,
    "start_time": "2022-05-11T18:50:57.718Z"
   },
   {
    "duration": 285,
    "start_time": "2022-05-11T18:51:08.765Z"
   },
   {
    "duration": 262,
    "start_time": "2022-05-11T18:52:30.615Z"
   },
   {
    "duration": 330,
    "start_time": "2022-05-11T18:58:18.761Z"
   },
   {
    "duration": 259,
    "start_time": "2022-05-11T18:59:04.545Z"
   },
   {
    "duration": 19,
    "start_time": "2022-05-11T19:06:03.433Z"
   },
   {
    "duration": 21,
    "start_time": "2022-05-11T19:06:08.592Z"
   },
   {
    "duration": 31,
    "start_time": "2022-05-11T19:06:16.161Z"
   },
   {
    "duration": 46,
    "start_time": "2022-05-11T19:06:39.070Z"
   },
   {
    "duration": 260,
    "start_time": "2022-05-11T19:14:50.323Z"
   },
   {
    "duration": 385,
    "start_time": "2022-05-11T19:15:38.598Z"
   },
   {
    "duration": 9,
    "start_time": "2022-05-11T19:24:51.935Z"
   },
   {
    "duration": 9,
    "start_time": "2022-05-11T19:27:23.794Z"
   },
   {
    "duration": 9,
    "start_time": "2022-05-11T19:31:59.962Z"
   },
   {
    "duration": 8,
    "start_time": "2022-05-11T19:32:45.624Z"
   },
   {
    "duration": 8,
    "start_time": "2022-05-11T19:42:37.781Z"
   },
   {
    "duration": 7,
    "start_time": "2022-05-11T19:43:08.735Z"
   },
   {
    "duration": 12,
    "start_time": "2022-05-11T19:43:27.043Z"
   },
   {
    "duration": 7,
    "start_time": "2022-05-11T19:43:45.093Z"
   },
   {
    "duration": 8,
    "start_time": "2022-05-11T19:44:15.596Z"
   },
   {
    "duration": 6,
    "start_time": "2022-05-11T19:44:56.445Z"
   },
   {
    "duration": 14,
    "start_time": "2022-05-11T19:44:57.550Z"
   },
   {
    "duration": 64,
    "start_time": "2022-05-11T19:47:51.207Z"
   },
   {
    "duration": 798,
    "start_time": "2022-05-11T19:47:59.917Z"
   },
   {
    "duration": 54,
    "start_time": "2022-05-11T19:48:00.719Z"
   },
   {
    "duration": 209,
    "start_time": "2022-05-11T19:48:00.777Z"
   },
   {
    "duration": 30,
    "start_time": "2022-05-11T19:48:00.988Z"
   },
   {
    "duration": 147,
    "start_time": "2022-05-11T19:48:01.021Z"
   },
   {
    "duration": 39,
    "start_time": "2022-05-11T19:48:01.171Z"
   },
   {
    "duration": 20,
    "start_time": "2022-05-11T19:48:01.213Z"
   },
   {
    "duration": 22,
    "start_time": "2022-05-11T19:48:01.253Z"
   },
   {
    "duration": 58,
    "start_time": "2022-05-11T19:48:01.277Z"
   },
   {
    "duration": 31,
    "start_time": "2022-05-11T19:48:01.338Z"
   },
   {
    "duration": 51,
    "start_time": "2022-05-11T19:48:01.374Z"
   },
   {
    "duration": 123,
    "start_time": "2022-05-11T19:48:01.428Z"
   },
   {
    "duration": 99,
    "start_time": "2022-05-11T19:48:01.557Z"
   },
   {
    "duration": 54,
    "start_time": "2022-05-11T19:48:01.664Z"
   },
   {
    "duration": 64,
    "start_time": "2022-05-11T19:48:01.720Z"
   },
   {
    "duration": 14,
    "start_time": "2022-05-11T19:48:01.787Z"
   },
   {
    "duration": 180,
    "start_time": "2022-05-11T19:48:01.803Z"
   },
   {
    "duration": 39,
    "start_time": "2022-05-11T19:48:01.985Z"
   },
   {
    "duration": 41,
    "start_time": "2022-05-11T19:48:02.026Z"
   },
   {
    "duration": 115,
    "start_time": "2022-05-11T19:48:02.070Z"
   },
   {
    "duration": 31,
    "start_time": "2022-05-11T19:48:02.188Z"
   },
   {
    "duration": 11,
    "start_time": "2022-05-11T19:48:02.221Z"
   },
   {
    "duration": 94,
    "start_time": "2022-05-11T19:48:02.268Z"
   },
   {
    "duration": 21,
    "start_time": "2022-05-11T19:48:02.365Z"
   },
   {
    "duration": 12,
    "start_time": "2022-05-11T19:48:02.389Z"
   },
   {
    "duration": 8,
    "start_time": "2022-05-11T19:48:02.403Z"
   },
   {
    "duration": 90,
    "start_time": "2022-05-11T19:48:02.413Z"
   },
   {
    "duration": 56,
    "start_time": "2022-05-11T19:48:02.506Z"
   },
   {
    "duration": 49,
    "start_time": "2022-05-11T19:48:02.565Z"
   },
   {
    "duration": 53,
    "start_time": "2022-05-11T19:48:02.616Z"
   },
   {
    "duration": 48,
    "start_time": "2022-05-11T19:48:02.671Z"
   },
   {
    "duration": 52,
    "start_time": "2022-05-11T19:48:02.721Z"
   },
   {
    "duration": 46,
    "start_time": "2022-05-11T19:48:02.775Z"
   },
   {
    "duration": 84,
    "start_time": "2022-05-11T19:48:02.824Z"
   },
   {
    "duration": 307,
    "start_time": "2022-05-11T19:48:02.911Z"
   },
   {
    "duration": 71,
    "start_time": "2022-05-11T19:48:03.220Z"
   },
   {
    "duration": 34,
    "start_time": "2022-05-11T19:48:03.293Z"
   },
   {
    "duration": 33,
    "start_time": "2022-05-11T19:48:03.330Z"
   },
   {
    "duration": 13,
    "start_time": "2022-05-11T19:48:03.366Z"
   },
   {
    "duration": 9,
    "start_time": "2022-05-11T19:48:03.381Z"
   },
   {
    "duration": 8,
    "start_time": "2022-05-11T19:48:03.399Z"
   },
   {
    "duration": 70,
    "start_time": "2022-05-11T19:48:03.409Z"
   },
   {
    "duration": 9,
    "start_time": "2022-05-11T19:48:03.483Z"
   },
   {
    "duration": 8,
    "start_time": "2022-05-11T19:48:03.495Z"
   },
   {
    "duration": 14,
    "start_time": "2022-05-11T19:48:03.506Z"
   },
   {
    "duration": 6,
    "start_time": "2022-05-11T19:48:03.522Z"
   },
   {
    "duration": 688,
    "start_time": "2022-05-11T19:48:03.531Z"
   },
   {
    "duration": 6,
    "start_time": "2022-05-11T19:48:04.221Z"
   },
   {
    "duration": 26,
    "start_time": "2022-05-11T19:48:04.229Z"
   },
   {
    "duration": 22,
    "start_time": "2022-05-11T19:48:04.259Z"
   },
   {
    "duration": 11,
    "start_time": "2022-05-11T19:48:04.287Z"
   },
   {
    "duration": 14,
    "start_time": "2022-05-11T19:48:04.301Z"
   },
   {
    "duration": 7,
    "start_time": "2022-05-11T19:48:04.317Z"
   },
   {
    "duration": 8,
    "start_time": "2022-05-11T19:48:04.327Z"
   },
   {
    "duration": 17,
    "start_time": "2022-05-11T19:48:04.360Z"
   },
   {
    "duration": 398,
    "start_time": "2022-05-11T19:48:04.380Z"
   },
   {
    "duration": 6,
    "start_time": "2022-05-11T19:48:04.781Z"
   },
   {
    "duration": 9,
    "start_time": "2022-05-11T19:48:04.790Z"
   },
   {
    "duration": 7,
    "start_time": "2022-05-11T19:48:04.801Z"
   },
   {
    "duration": 8,
    "start_time": "2022-05-11T19:48:04.810Z"
   },
   {
    "duration": 40,
    "start_time": "2022-05-11T19:48:04.820Z"
   },
   {
    "duration": 10,
    "start_time": "2022-05-11T19:48:04.866Z"
   },
   {
    "duration": 10,
    "start_time": "2022-05-11T19:50:14.391Z"
   },
   {
    "duration": 9,
    "start_time": "2022-05-11T19:50:54.733Z"
   },
   {
    "duration": 335,
    "start_time": "2022-05-11T19:52:10.071Z"
   },
   {
    "duration": 750,
    "start_time": "2022-05-11T20:27:19.636Z"
   },
   {
    "duration": 907,
    "start_time": "2022-05-12T18:04:03.040Z"
   },
   {
    "duration": 773,
    "start_time": "2022-05-12T18:04:06.917Z"
   },
   {
    "duration": 35,
    "start_time": "2022-05-12T18:04:07.692Z"
   },
   {
    "duration": 186,
    "start_time": "2022-05-12T18:04:07.729Z"
   },
   {
    "duration": 42,
    "start_time": "2022-05-12T18:04:07.918Z"
   },
   {
    "duration": 120,
    "start_time": "2022-05-12T18:04:07.963Z"
   },
   {
    "duration": 25,
    "start_time": "2022-05-12T18:04:08.085Z"
   },
   {
    "duration": 20,
    "start_time": "2022-05-12T18:04:08.112Z"
   },
   {
    "duration": 16,
    "start_time": "2022-05-12T18:04:08.151Z"
   },
   {
    "duration": 34,
    "start_time": "2022-05-12T18:04:08.169Z"
   },
   {
    "duration": 15,
    "start_time": "2022-05-12T18:04:08.205Z"
   },
   {
    "duration": 56,
    "start_time": "2022-05-12T18:04:08.223Z"
   },
   {
    "duration": 80,
    "start_time": "2022-05-12T18:04:08.281Z"
   },
   {
    "duration": 54,
    "start_time": "2022-05-12T18:04:08.364Z"
   },
   {
    "duration": 60,
    "start_time": "2022-05-12T18:04:08.423Z"
   },
   {
    "duration": 19,
    "start_time": "2022-05-12T18:04:08.485Z"
   },
   {
    "duration": 11,
    "start_time": "2022-05-12T18:04:08.506Z"
   },
   {
    "duration": 137,
    "start_time": "2022-05-12T18:04:08.551Z"
   },
   {
    "duration": 35,
    "start_time": "2022-05-12T18:04:08.690Z"
   },
   {
    "duration": 34,
    "start_time": "2022-05-12T18:04:08.727Z"
   },
   {
    "duration": 76,
    "start_time": "2022-05-12T18:04:08.762Z"
   },
   {
    "duration": 34,
    "start_time": "2022-05-12T18:04:08.840Z"
   },
   {
    "duration": 10,
    "start_time": "2022-05-12T18:04:08.877Z"
   },
   {
    "duration": 85,
    "start_time": "2022-05-12T18:04:08.889Z"
   },
   {
    "duration": 15,
    "start_time": "2022-05-12T18:04:08.976Z"
   },
   {
    "duration": 19,
    "start_time": "2022-05-12T18:04:08.993Z"
   },
   {
    "duration": 9,
    "start_time": "2022-05-12T18:04:09.015Z"
   },
   {
    "duration": 61,
    "start_time": "2022-05-12T18:04:09.026Z"
   },
   {
    "duration": 65,
    "start_time": "2022-05-12T18:04:09.090Z"
   },
   {
    "duration": 40,
    "start_time": "2022-05-12T18:04:09.157Z"
   },
   {
    "duration": 27,
    "start_time": "2022-05-12T18:04:09.199Z"
   },
   {
    "duration": 41,
    "start_time": "2022-05-12T18:04:09.251Z"
   },
   {
    "duration": 33,
    "start_time": "2022-05-12T18:04:09.294Z"
   },
   {
    "duration": 40,
    "start_time": "2022-05-12T18:04:09.352Z"
   },
   {
    "duration": 79,
    "start_time": "2022-05-12T18:04:09.394Z"
   },
   {
    "duration": 302,
    "start_time": "2022-05-12T18:04:09.475Z"
   },
   {
    "duration": 45,
    "start_time": "2022-05-12T18:04:09.779Z"
   },
   {
    "duration": 55,
    "start_time": "2022-05-12T18:04:09.827Z"
   },
   {
    "duration": 9,
    "start_time": "2022-05-12T18:04:09.885Z"
   },
   {
    "duration": 9,
    "start_time": "2022-05-12T18:04:09.897Z"
   },
   {
    "duration": 44,
    "start_time": "2022-05-12T18:04:09.909Z"
   },
   {
    "duration": 7,
    "start_time": "2022-05-12T18:04:09.961Z"
   },
   {
    "duration": 33,
    "start_time": "2022-05-12T18:04:09.971Z"
   },
   {
    "duration": 6,
    "start_time": "2022-05-12T18:04:10.007Z"
   },
   {
    "duration": 40,
    "start_time": "2022-05-12T18:04:10.015Z"
   },
   {
    "duration": 9,
    "start_time": "2022-05-12T18:04:10.057Z"
   },
   {
    "duration": 9,
    "start_time": "2022-05-12T18:04:10.068Z"
   },
   {
    "duration": 905,
    "start_time": "2022-05-12T18:04:10.080Z"
   },
   {
    "duration": 7,
    "start_time": "2022-05-12T18:04:10.988Z"
   },
   {
    "duration": 13,
    "start_time": "2022-05-12T18:04:10.997Z"
   },
   {
    "duration": 8,
    "start_time": "2022-05-12T18:04:11.013Z"
   },
   {
    "duration": 30,
    "start_time": "2022-05-12T18:04:11.023Z"
   },
   {
    "duration": 12,
    "start_time": "2022-05-12T18:04:11.056Z"
   },
   {
    "duration": 12,
    "start_time": "2022-05-12T18:04:11.071Z"
   },
   {
    "duration": 11,
    "start_time": "2022-05-12T18:04:11.086Z"
   },
   {
    "duration": 10,
    "start_time": "2022-05-12T18:04:11.099Z"
   },
   {
    "duration": 264,
    "start_time": "2022-05-12T18:04:11.111Z"
   },
   {
    "duration": 6,
    "start_time": "2022-05-12T18:04:11.378Z"
   },
   {
    "duration": 10,
    "start_time": "2022-05-12T18:04:11.386Z"
   },
   {
    "duration": 8,
    "start_time": "2022-05-12T18:04:11.398Z"
   },
   {
    "duration": 7,
    "start_time": "2022-05-12T18:04:11.408Z"
   },
   {
    "duration": 39,
    "start_time": "2022-05-12T18:04:11.417Z"
   },
   {
    "duration": 8,
    "start_time": "2022-05-12T18:04:11.458Z"
   },
   {
    "duration": 10,
    "start_time": "2022-05-12T18:04:11.468Z"
   },
   {
    "duration": 9,
    "start_time": "2022-05-12T18:04:11.480Z"
   },
   {
    "duration": 270,
    "start_time": "2022-05-12T18:04:11.492Z"
   },
   {
    "duration": 589,
    "start_time": "2022-05-12T18:04:11.764Z"
   },
   {
    "duration": 12,
    "start_time": "2022-05-12T18:06:55.952Z"
   },
   {
    "duration": 716,
    "start_time": "2022-05-12T18:28:42.378Z"
   },
   {
    "duration": 34,
    "start_time": "2022-05-12T18:28:43.096Z"
   },
   {
    "duration": 194,
    "start_time": "2022-05-12T18:28:43.132Z"
   },
   {
    "duration": 46,
    "start_time": "2022-05-12T18:28:43.329Z"
   },
   {
    "duration": 125,
    "start_time": "2022-05-12T18:28:43.378Z"
   },
   {
    "duration": 25,
    "start_time": "2022-05-12T18:28:43.505Z"
   },
   {
    "duration": 38,
    "start_time": "2022-05-12T18:28:43.532Z"
   },
   {
    "duration": 17,
    "start_time": "2022-05-12T18:28:43.572Z"
   },
   {
    "duration": 33,
    "start_time": "2022-05-12T18:28:43.591Z"
   },
   {
    "duration": 34,
    "start_time": "2022-05-12T18:28:43.629Z"
   },
   {
    "duration": 36,
    "start_time": "2022-05-12T18:28:43.667Z"
   },
   {
    "duration": 97,
    "start_time": "2022-05-12T18:28:43.705Z"
   },
   {
    "duration": 73,
    "start_time": "2022-05-12T18:28:43.804Z"
   },
   {
    "duration": 43,
    "start_time": "2022-05-12T18:28:43.880Z"
   },
   {
    "duration": 45,
    "start_time": "2022-05-12T18:28:43.925Z"
   },
   {
    "duration": 18,
    "start_time": "2022-05-12T18:28:43.972Z"
   },
   {
    "duration": 153,
    "start_time": "2022-05-12T18:28:43.992Z"
   },
   {
    "duration": 40,
    "start_time": "2022-05-12T18:28:44.147Z"
   },
   {
    "duration": 11,
    "start_time": "2022-05-12T18:28:44.190Z"
   },
   {
    "duration": 88,
    "start_time": "2022-05-12T18:28:44.203Z"
   },
   {
    "duration": 30,
    "start_time": "2022-05-12T18:28:44.293Z"
   },
   {
    "duration": 29,
    "start_time": "2022-05-12T18:28:44.325Z"
   },
   {
    "duration": 71,
    "start_time": "2022-05-12T18:28:44.356Z"
   },
   {
    "duration": 29,
    "start_time": "2022-05-12T18:28:44.430Z"
   },
   {
    "duration": 17,
    "start_time": "2022-05-12T18:28:44.462Z"
   },
   {
    "duration": 6,
    "start_time": "2022-05-12T18:28:44.481Z"
   },
   {
    "duration": 69,
    "start_time": "2022-05-12T18:28:44.490Z"
   },
   {
    "duration": 50,
    "start_time": "2022-05-12T18:28:44.568Z"
   },
   {
    "duration": 71,
    "start_time": "2022-05-12T18:28:44.620Z"
   },
   {
    "duration": 28,
    "start_time": "2022-05-12T18:28:44.693Z"
   },
   {
    "duration": 71,
    "start_time": "2022-05-12T18:28:44.724Z"
   },
   {
    "duration": 56,
    "start_time": "2022-05-12T18:28:44.797Z"
   },
   {
    "duration": 40,
    "start_time": "2022-05-12T18:28:44.857Z"
   },
   {
    "duration": 91,
    "start_time": "2022-05-12T18:28:44.900Z"
   },
   {
    "duration": 305,
    "start_time": "2022-05-12T18:28:44.993Z"
   },
   {
    "duration": 58,
    "start_time": "2022-05-12T18:28:45.300Z"
   },
   {
    "duration": 35,
    "start_time": "2022-05-12T18:28:45.362Z"
   },
   {
    "duration": 5,
    "start_time": "2022-05-12T18:28:45.399Z"
   },
   {
    "duration": 11,
    "start_time": "2022-05-12T18:28:45.406Z"
   },
   {
    "duration": 49,
    "start_time": "2022-05-12T18:28:45.419Z"
   },
   {
    "duration": 13,
    "start_time": "2022-05-12T18:28:45.470Z"
   },
   {
    "duration": 39,
    "start_time": "2022-05-12T18:28:45.485Z"
   },
   {
    "duration": 26,
    "start_time": "2022-05-12T18:28:45.526Z"
   },
   {
    "duration": 13,
    "start_time": "2022-05-12T18:28:45.555Z"
   },
   {
    "duration": 10,
    "start_time": "2022-05-12T18:28:45.570Z"
   },
   {
    "duration": 24,
    "start_time": "2022-05-12T18:28:45.583Z"
   },
   {
    "duration": 862,
    "start_time": "2022-05-12T18:28:45.609Z"
   },
   {
    "duration": 7,
    "start_time": "2022-05-12T18:28:46.474Z"
   },
   {
    "duration": 20,
    "start_time": "2022-05-12T18:28:46.484Z"
   },
   {
    "duration": 20,
    "start_time": "2022-05-12T18:28:46.507Z"
   },
   {
    "duration": 25,
    "start_time": "2022-05-12T18:28:46.530Z"
   },
   {
    "duration": 33,
    "start_time": "2022-05-12T18:28:46.559Z"
   },
   {
    "duration": 26,
    "start_time": "2022-05-12T18:28:46.594Z"
   },
   {
    "duration": 23,
    "start_time": "2022-05-12T18:28:46.622Z"
   },
   {
    "duration": 138,
    "start_time": "2022-05-12T18:28:46.648Z"
   },
   {
    "duration": 280,
    "start_time": "2022-05-12T18:28:46.788Z"
   },
   {
    "duration": 5,
    "start_time": "2022-05-12T18:28:47.071Z"
   },
   {
    "duration": 31,
    "start_time": "2022-05-12T18:28:47.078Z"
   },
   {
    "duration": 30,
    "start_time": "2022-05-12T18:28:47.111Z"
   },
   {
    "duration": 37,
    "start_time": "2022-05-12T18:28:47.144Z"
   },
   {
    "duration": 31,
    "start_time": "2022-05-12T18:28:47.183Z"
   },
   {
    "duration": 19,
    "start_time": "2022-05-12T18:28:47.216Z"
   },
   {
    "duration": 38,
    "start_time": "2022-05-12T18:28:47.237Z"
   },
   {
    "duration": 18,
    "start_time": "2022-05-12T18:28:47.277Z"
   },
   {
    "duration": 280,
    "start_time": "2022-05-12T18:28:47.297Z"
   },
   {
    "duration": 580,
    "start_time": "2022-05-12T18:28:47.580Z"
   },
   {
    "duration": 12,
    "start_time": "2022-05-12T18:28:48.165Z"
   },
   {
    "duration": 254,
    "start_time": "2022-05-12T18:54:04.165Z"
   },
   {
    "duration": 237,
    "start_time": "2022-05-12T18:54:11.617Z"
   },
   {
    "duration": 239,
    "start_time": "2022-05-12T18:54:38.344Z"
   },
   {
    "duration": 767,
    "start_time": "2022-05-12T18:57:44.020Z"
   },
   {
    "duration": 33,
    "start_time": "2022-05-12T18:57:44.790Z"
   },
   {
    "duration": 173,
    "start_time": "2022-05-12T18:57:44.825Z"
   },
   {
    "duration": 29,
    "start_time": "2022-05-12T18:57:45.002Z"
   },
   {
    "duration": 138,
    "start_time": "2022-05-12T18:57:45.033Z"
   },
   {
    "duration": 24,
    "start_time": "2022-05-12T18:57:45.173Z"
   },
   {
    "duration": 19,
    "start_time": "2022-05-12T18:57:45.199Z"
   },
   {
    "duration": 15,
    "start_time": "2022-05-12T18:57:45.220Z"
   },
   {
    "duration": 38,
    "start_time": "2022-05-12T18:57:45.237Z"
   },
   {
    "duration": 15,
    "start_time": "2022-05-12T18:57:45.280Z"
   },
   {
    "duration": 40,
    "start_time": "2022-05-12T18:57:45.298Z"
   },
   {
    "duration": 120,
    "start_time": "2022-05-12T18:57:45.340Z"
   },
   {
    "duration": 98,
    "start_time": "2022-05-12T18:57:45.462Z"
   },
   {
    "duration": 50,
    "start_time": "2022-05-12T18:57:45.563Z"
   },
   {
    "duration": 53,
    "start_time": "2022-05-12T18:57:45.615Z"
   },
   {
    "duration": 16,
    "start_time": "2022-05-12T18:57:45.670Z"
   },
   {
    "duration": 269,
    "start_time": "2022-05-12T18:57:45.689Z"
   },
   {
    "duration": 36,
    "start_time": "2022-05-12T18:57:45.960Z"
   },
   {
    "duration": 11,
    "start_time": "2022-05-12T18:57:45.998Z"
   },
   {
    "duration": 101,
    "start_time": "2022-05-12T18:57:46.012Z"
   },
   {
    "duration": 43,
    "start_time": "2022-05-12T18:57:46.115Z"
   },
   {
    "duration": 11,
    "start_time": "2022-05-12T18:57:46.160Z"
   },
   {
    "duration": 82,
    "start_time": "2022-05-12T18:57:46.173Z"
   },
   {
    "duration": 16,
    "start_time": "2022-05-12T18:57:46.257Z"
   },
   {
    "duration": 15,
    "start_time": "2022-05-12T18:57:46.276Z"
   },
   {
    "duration": 7,
    "start_time": "2022-05-12T18:57:46.293Z"
   },
   {
    "duration": 69,
    "start_time": "2022-05-12T18:57:46.302Z"
   },
   {
    "duration": 48,
    "start_time": "2022-05-12T18:57:46.377Z"
   },
   {
    "duration": 61,
    "start_time": "2022-05-12T18:57:46.427Z"
   },
   {
    "duration": 30,
    "start_time": "2022-05-12T18:57:46.490Z"
   },
   {
    "duration": 66,
    "start_time": "2022-05-12T18:57:46.523Z"
   },
   {
    "duration": 61,
    "start_time": "2022-05-12T18:57:46.592Z"
   },
   {
    "duration": 43,
    "start_time": "2022-05-12T18:57:46.656Z"
   },
   {
    "duration": 90,
    "start_time": "2022-05-12T18:57:46.702Z"
   },
   {
    "duration": 378,
    "start_time": "2022-05-12T18:57:46.794Z"
   },
   {
    "duration": 45,
    "start_time": "2022-05-12T18:57:47.175Z"
   },
   {
    "duration": 50,
    "start_time": "2022-05-12T18:57:47.223Z"
   },
   {
    "duration": 6,
    "start_time": "2022-05-12T18:57:47.276Z"
   },
   {
    "duration": 10,
    "start_time": "2022-05-12T18:57:47.284Z"
   },
   {
    "duration": 7,
    "start_time": "2022-05-12T18:57:47.296Z"
   },
   {
    "duration": 7,
    "start_time": "2022-05-12T18:57:47.305Z"
   },
   {
    "duration": 32,
    "start_time": "2022-05-12T18:57:47.353Z"
   },
   {
    "duration": 9,
    "start_time": "2022-05-12T18:57:47.388Z"
   },
   {
    "duration": 8,
    "start_time": "2022-05-12T18:57:47.399Z"
   },
   {
    "duration": 43,
    "start_time": "2022-05-12T18:57:47.409Z"
   },
   {
    "duration": 7,
    "start_time": "2022-05-12T18:57:47.454Z"
   },
   {
    "duration": 619,
    "start_time": "2022-05-12T18:57:47.464Z"
   },
   {
    "duration": 7,
    "start_time": "2022-05-12T18:57:48.085Z"
   },
   {
    "duration": 8,
    "start_time": "2022-05-12T18:57:48.094Z"
   },
   {
    "duration": 7,
    "start_time": "2022-05-12T18:57:48.105Z"
   },
   {
    "duration": 43,
    "start_time": "2022-05-12T18:57:48.114Z"
   },
   {
    "duration": 9,
    "start_time": "2022-05-12T18:57:48.159Z"
   },
   {
    "duration": 8,
    "start_time": "2022-05-12T18:57:48.170Z"
   },
   {
    "duration": 9,
    "start_time": "2022-05-12T18:57:48.181Z"
   },
   {
    "duration": 7,
    "start_time": "2022-05-12T18:57:48.192Z"
   },
   {
    "duration": 403,
    "start_time": "2022-05-12T18:57:48.201Z"
   },
   {
    "duration": 6,
    "start_time": "2022-05-12T18:57:48.606Z"
   },
   {
    "duration": 8,
    "start_time": "2022-05-12T18:57:48.614Z"
   },
   {
    "duration": 29,
    "start_time": "2022-05-12T18:57:48.624Z"
   },
   {
    "duration": 7,
    "start_time": "2022-05-12T18:57:48.655Z"
   },
   {
    "duration": 8,
    "start_time": "2022-05-12T18:57:48.664Z"
   },
   {
    "duration": 7,
    "start_time": "2022-05-12T18:57:48.675Z"
   },
   {
    "duration": 8,
    "start_time": "2022-05-12T18:57:48.685Z"
   },
   {
    "duration": 56,
    "start_time": "2022-05-12T18:57:48.696Z"
   },
   {
    "duration": 266,
    "start_time": "2022-05-12T18:57:48.755Z"
   },
   {
    "duration": 559,
    "start_time": "2022-05-12T18:57:49.024Z"
   },
   {
    "duration": 12,
    "start_time": "2022-05-12T18:57:49.585Z"
   },
   {
    "duration": 22,
    "start_time": "2022-05-12T18:59:30.179Z"
   },
   {
    "duration": 48,
    "start_time": "2022-05-12T18:59:54.733Z"
   },
   {
    "duration": 32,
    "start_time": "2022-05-12T19:00:23.114Z"
   },
   {
    "duration": 32,
    "start_time": "2022-05-12T19:00:53.421Z"
   },
   {
    "duration": 838,
    "start_time": "2022-05-12T19:01:34.542Z"
   },
   {
    "duration": 36,
    "start_time": "2022-05-12T19:01:35.383Z"
   },
   {
    "duration": 363,
    "start_time": "2022-05-12T19:01:35.423Z"
   },
   {
    "duration": 78,
    "start_time": "2022-05-12T19:01:35.789Z"
   },
   {
    "duration": 230,
    "start_time": "2022-05-12T19:01:35.873Z"
   },
   {
    "duration": 26,
    "start_time": "2022-05-12T19:01:36.105Z"
   },
   {
    "duration": 43,
    "start_time": "2022-05-12T19:01:36.133Z"
   },
   {
    "duration": 17,
    "start_time": "2022-05-12T19:01:36.178Z"
   },
   {
    "duration": 42,
    "start_time": "2022-05-12T19:01:36.197Z"
   },
   {
    "duration": 25,
    "start_time": "2022-05-12T19:01:36.241Z"
   },
   {
    "duration": 42,
    "start_time": "2022-05-12T19:01:36.268Z"
   },
   {
    "duration": 95,
    "start_time": "2022-05-12T19:01:36.312Z"
   },
   {
    "duration": 72,
    "start_time": "2022-05-12T19:01:36.410Z"
   },
   {
    "duration": 47,
    "start_time": "2022-05-12T19:01:36.486Z"
   },
   {
    "duration": 22,
    "start_time": "2022-05-12T19:01:36.552Z"
   },
   {
    "duration": 16,
    "start_time": "2022-05-12T19:01:36.576Z"
   },
   {
    "duration": 175,
    "start_time": "2022-05-12T19:01:36.594Z"
   },
   {
    "duration": 37,
    "start_time": "2022-05-12T19:01:36.772Z"
   },
   {
    "duration": 12,
    "start_time": "2022-05-12T19:01:36.812Z"
   },
   {
    "duration": 101,
    "start_time": "2022-05-12T19:01:36.826Z"
   },
   {
    "duration": 49,
    "start_time": "2022-05-12T19:01:36.929Z"
   },
   {
    "duration": 11,
    "start_time": "2022-05-12T19:01:36.980Z"
   },
   {
    "duration": 98,
    "start_time": "2022-05-12T19:01:36.994Z"
   },
   {
    "duration": 16,
    "start_time": "2022-05-12T19:01:37.095Z"
   },
   {
    "duration": 37,
    "start_time": "2022-05-12T19:01:37.114Z"
   },
   {
    "duration": 7,
    "start_time": "2022-05-12T19:01:37.154Z"
   },
   {
    "duration": 46,
    "start_time": "2022-05-12T19:01:37.163Z"
   },
   {
    "duration": 52,
    "start_time": "2022-05-12T19:01:37.251Z"
   },
   {
    "duration": 69,
    "start_time": "2022-05-12T19:01:37.305Z"
   },
   {
    "duration": 30,
    "start_time": "2022-05-12T19:01:37.376Z"
   },
   {
    "duration": 75,
    "start_time": "2022-05-12T19:01:37.408Z"
   },
   {
    "duration": 35,
    "start_time": "2022-05-12T19:01:37.485Z"
   },
   {
    "duration": 64,
    "start_time": "2022-05-12T19:01:37.522Z"
   },
   {
    "duration": 84,
    "start_time": "2022-05-12T19:01:37.589Z"
   },
   {
    "duration": 324,
    "start_time": "2022-05-12T19:01:37.676Z"
   },
   {
    "duration": 63,
    "start_time": "2022-05-12T19:01:38.002Z"
   },
   {
    "duration": 37,
    "start_time": "2022-05-12T19:01:38.067Z"
   },
   {
    "duration": 8,
    "start_time": "2022-05-12T19:01:38.107Z"
   },
   {
    "duration": 40,
    "start_time": "2022-05-12T19:01:38.118Z"
   },
   {
    "duration": 13,
    "start_time": "2022-05-12T19:01:38.161Z"
   },
   {
    "duration": 8,
    "start_time": "2022-05-12T19:01:38.181Z"
   },
   {
    "duration": 71,
    "start_time": "2022-05-12T19:01:38.191Z"
   },
   {
    "duration": 9,
    "start_time": "2022-05-12T19:01:38.264Z"
   },
   {
    "duration": 38,
    "start_time": "2022-05-12T19:01:38.276Z"
   },
   {
    "duration": 12,
    "start_time": "2022-05-12T19:01:38.316Z"
   },
   {
    "duration": 23,
    "start_time": "2022-05-12T19:01:38.331Z"
   },
   {
    "duration": 667,
    "start_time": "2022-05-12T19:01:38.357Z"
   },
   {
    "duration": 7,
    "start_time": "2022-05-12T19:01:39.027Z"
   },
   {
    "duration": 7,
    "start_time": "2022-05-12T19:01:39.053Z"
   },
   {
    "duration": 10,
    "start_time": "2022-05-12T19:01:39.063Z"
   },
   {
    "duration": 10,
    "start_time": "2022-05-12T19:01:39.076Z"
   },
   {
    "duration": 8,
    "start_time": "2022-05-12T19:01:39.089Z"
   },
   {
    "duration": 53,
    "start_time": "2022-05-12T19:01:39.101Z"
   },
   {
    "duration": 8,
    "start_time": "2022-05-12T19:01:39.158Z"
   },
   {
    "duration": 9,
    "start_time": "2022-05-12T19:01:39.168Z"
   },
   {
    "duration": 307,
    "start_time": "2022-05-12T19:01:39.180Z"
   },
   {
    "duration": 6,
    "start_time": "2022-05-12T19:01:39.490Z"
   },
   {
    "duration": 10,
    "start_time": "2022-05-12T19:01:39.499Z"
   },
   {
    "duration": 9,
    "start_time": "2022-05-12T19:01:39.512Z"
   },
   {
    "duration": 8,
    "start_time": "2022-05-12T19:01:39.553Z"
   },
   {
    "duration": 9,
    "start_time": "2022-05-12T19:01:39.563Z"
   },
   {
    "duration": 9,
    "start_time": "2022-05-12T19:01:39.575Z"
   },
   {
    "duration": 9,
    "start_time": "2022-05-12T19:01:39.587Z"
   },
   {
    "duration": 9,
    "start_time": "2022-05-12T19:01:39.598Z"
   },
   {
    "duration": 275,
    "start_time": "2022-05-12T19:01:39.653Z"
   },
   {
    "duration": 623,
    "start_time": "2022-05-12T19:01:39.930Z"
   },
   {
    "duration": 14,
    "start_time": "2022-05-12T19:01:40.556Z"
   },
   {
    "duration": 140,
    "start_time": "2022-05-12T19:19:37.628Z"
   },
   {
    "duration": 148,
    "start_time": "2022-05-12T19:21:18.916Z"
   },
   {
    "duration": 127,
    "start_time": "2022-05-12T19:22:25.684Z"
   },
   {
    "duration": 130,
    "start_time": "2022-05-12T19:29:40.074Z"
   },
   {
    "duration": 146,
    "start_time": "2022-05-12T19:33:37.549Z"
   },
   {
    "duration": 605,
    "start_time": "2022-05-12T19:51:17.225Z"
   },
   {
    "duration": 31,
    "start_time": "2022-05-12T19:51:17.832Z"
   },
   {
    "duration": 128,
    "start_time": "2022-05-12T19:51:17.865Z"
   },
   {
    "duration": 33,
    "start_time": "2022-05-12T19:51:17.996Z"
   },
   {
    "duration": 103,
    "start_time": "2022-05-12T19:51:18.031Z"
   },
   {
    "duration": 27,
    "start_time": "2022-05-12T19:51:18.136Z"
   },
   {
    "duration": 15,
    "start_time": "2022-05-12T19:51:18.165Z"
   },
   {
    "duration": 11,
    "start_time": "2022-05-12T19:51:18.182Z"
   },
   {
    "duration": 27,
    "start_time": "2022-05-12T19:51:18.195Z"
   },
   {
    "duration": 11,
    "start_time": "2022-05-12T19:51:18.226Z"
   },
   {
    "duration": 48,
    "start_time": "2022-05-12T19:51:18.239Z"
   },
   {
    "duration": 49,
    "start_time": "2022-05-12T19:51:18.290Z"
   },
   {
    "duration": 51,
    "start_time": "2022-05-12T19:51:18.341Z"
   },
   {
    "duration": 31,
    "start_time": "2022-05-12T19:51:18.394Z"
   },
   {
    "duration": 13,
    "start_time": "2022-05-12T19:51:18.426Z"
   },
   {
    "duration": 9,
    "start_time": "2022-05-12T19:51:18.462Z"
   },
   {
    "duration": 109,
    "start_time": "2022-05-12T19:51:18.473Z"
   },
   {
    "duration": 34,
    "start_time": "2022-05-12T19:51:18.584Z"
   },
   {
    "duration": 10,
    "start_time": "2022-05-12T19:51:18.620Z"
   },
   {
    "duration": 66,
    "start_time": "2022-05-12T19:51:18.632Z"
   },
   {
    "duration": 22,
    "start_time": "2022-05-12T19:51:18.700Z"
   },
   {
    "duration": 7,
    "start_time": "2022-05-12T19:51:18.724Z"
   },
   {
    "duration": 67,
    "start_time": "2022-05-12T19:51:18.732Z"
   },
   {
    "duration": 14,
    "start_time": "2022-05-12T19:51:18.800Z"
   },
   {
    "duration": 11,
    "start_time": "2022-05-12T19:51:18.816Z"
   },
   {
    "duration": 7,
    "start_time": "2022-05-12T19:51:18.829Z"
   },
   {
    "duration": 37,
    "start_time": "2022-05-12T19:51:18.861Z"
   },
   {
    "duration": 35,
    "start_time": "2022-05-12T19:51:18.902Z"
   },
   {
    "duration": 40,
    "start_time": "2022-05-12T19:51:18.938Z"
   },
   {
    "duration": 18,
    "start_time": "2022-05-12T19:51:18.980Z"
   },
   {
    "duration": 30,
    "start_time": "2022-05-12T19:51:18.999Z"
   },
   {
    "duration": 50,
    "start_time": "2022-05-12T19:51:19.030Z"
   },
   {
    "duration": 28,
    "start_time": "2022-05-12T19:51:19.082Z"
   },
   {
    "duration": 56,
    "start_time": "2022-05-12T19:51:19.111Z"
   },
   {
    "duration": 157,
    "start_time": "2022-05-12T19:51:19.169Z"
   },
   {
    "duration": 41,
    "start_time": "2022-05-12T19:51:19.328Z"
   },
   {
    "duration": 29,
    "start_time": "2022-05-12T19:51:19.371Z"
   },
   {
    "duration": 5,
    "start_time": "2022-05-12T19:51:19.402Z"
   },
   {
    "duration": 13,
    "start_time": "2022-05-12T19:51:19.409Z"
   },
   {
    "duration": 7,
    "start_time": "2022-05-12T19:51:19.424Z"
   },
   {
    "duration": 9,
    "start_time": "2022-05-12T19:51:19.432Z"
   },
   {
    "duration": 45,
    "start_time": "2022-05-12T19:51:19.443Z"
   },
   {
    "duration": 6,
    "start_time": "2022-05-12T19:51:19.490Z"
   },
   {
    "duration": 6,
    "start_time": "2022-05-12T19:51:19.498Z"
   },
   {
    "duration": 7,
    "start_time": "2022-05-12T19:51:19.506Z"
   },
   {
    "duration": 6,
    "start_time": "2022-05-12T19:51:19.515Z"
   },
   {
    "duration": 589,
    "start_time": "2022-05-12T19:51:19.523Z"
   },
   {
    "duration": 5,
    "start_time": "2022-05-12T19:51:20.114Z"
   },
   {
    "duration": 8,
    "start_time": "2022-05-12T19:51:20.121Z"
   },
   {
    "duration": 5,
    "start_time": "2022-05-12T19:51:20.131Z"
   },
   {
    "duration": 27,
    "start_time": "2022-05-12T19:51:20.138Z"
   },
   {
    "duration": 5,
    "start_time": "2022-05-12T19:51:20.167Z"
   },
   {
    "duration": 8,
    "start_time": "2022-05-12T19:51:20.173Z"
   },
   {
    "duration": 7,
    "start_time": "2022-05-12T19:51:20.182Z"
   },
   {
    "duration": 5,
    "start_time": "2022-05-12T19:51:20.190Z"
   },
   {
    "duration": 170,
    "start_time": "2022-05-12T19:51:20.197Z"
   },
   {
    "duration": 4,
    "start_time": "2022-05-12T19:51:20.369Z"
   },
   {
    "duration": 18,
    "start_time": "2022-05-12T19:51:20.375Z"
   },
   {
    "duration": 16,
    "start_time": "2022-05-12T19:51:20.394Z"
   },
   {
    "duration": 20,
    "start_time": "2022-05-12T19:51:20.412Z"
   },
   {
    "duration": 9,
    "start_time": "2022-05-12T19:51:20.434Z"
   },
   {
    "duration": 12,
    "start_time": "2022-05-12T19:51:20.444Z"
   },
   {
    "duration": 29,
    "start_time": "2022-05-12T19:51:20.458Z"
   },
   {
    "duration": 29,
    "start_time": "2022-05-12T19:51:20.489Z"
   },
   {
    "duration": 207,
    "start_time": "2022-05-12T19:51:20.520Z"
   },
   {
    "duration": 445,
    "start_time": "2022-05-12T19:51:20.729Z"
   },
   {
    "duration": 8,
    "start_time": "2022-05-12T19:51:21.176Z"
   },
   {
    "duration": 28,
    "start_time": "2022-05-12T19:51:34.981Z"
   },
   {
    "duration": 17,
    "start_time": "2022-05-12T19:52:14.098Z"
   },
   {
    "duration": 43,
    "start_time": "2022-05-12T19:53:00.847Z"
   },
   {
    "duration": 48,
    "start_time": "2022-05-12T19:54:15.536Z"
   },
   {
    "duration": 32,
    "start_time": "2022-05-12T20:02:39.364Z"
   },
   {
    "duration": 187,
    "start_time": "2022-05-12T20:04:45.346Z"
   },
   {
    "duration": 192,
    "start_time": "2022-05-12T20:15:45.285Z"
   },
   {
    "duration": 144,
    "start_time": "2022-05-12T20:17:02.247Z"
   },
   {
    "duration": 124,
    "start_time": "2022-05-12T20:25:57.186Z"
   },
   {
    "duration": 164,
    "start_time": "2022-05-12T20:29:32.899Z"
   },
   {
    "duration": 38,
    "start_time": "2022-05-12T20:43:00.028Z"
   },
   {
    "duration": 28,
    "start_time": "2022-05-12T20:46:35.766Z"
   },
   {
    "duration": 12,
    "start_time": "2022-05-12T20:46:49.646Z"
   },
   {
    "duration": 18,
    "start_time": "2022-05-12T20:47:20.045Z"
   },
   {
    "duration": 16,
    "start_time": "2022-05-12T20:48:54.604Z"
   },
   {
    "duration": 9,
    "start_time": "2022-05-12T20:49:56.597Z"
   },
   {
    "duration": 10,
    "start_time": "2022-05-12T20:50:02.226Z"
   },
   {
    "duration": 19,
    "start_time": "2022-05-12T20:53:33.851Z"
   },
   {
    "duration": 2387,
    "start_time": "2022-05-12T20:54:02.620Z"
   },
   {
    "duration": 28,
    "start_time": "2022-05-12T20:54:20.967Z"
   },
   {
    "duration": 4,
    "start_time": "2022-05-12T20:54:27.558Z"
   },
   {
    "duration": 11,
    "start_time": "2022-05-12T20:54:28.228Z"
   },
   {
    "duration": 11,
    "start_time": "2022-05-12T20:54:42.830Z"
   },
   {
    "duration": 8,
    "start_time": "2022-05-12T20:55:37.614Z"
   },
   {
    "duration": 589,
    "start_time": "2022-05-12T20:56:07.717Z"
   },
   {
    "duration": 25,
    "start_time": "2022-05-12T20:56:08.308Z"
   },
   {
    "duration": 134,
    "start_time": "2022-05-12T20:56:08.334Z"
   },
   {
    "duration": 20,
    "start_time": "2022-05-12T20:56:08.470Z"
   },
   {
    "duration": 92,
    "start_time": "2022-05-12T20:56:08.491Z"
   },
   {
    "duration": 20,
    "start_time": "2022-05-12T20:56:08.585Z"
   },
   {
    "duration": 14,
    "start_time": "2022-05-12T20:56:08.607Z"
   },
   {
    "duration": 12,
    "start_time": "2022-05-12T20:56:08.622Z"
   },
   {
    "duration": 38,
    "start_time": "2022-05-12T20:56:08.636Z"
   },
   {
    "duration": 12,
    "start_time": "2022-05-12T20:56:08.679Z"
   },
   {
    "duration": 32,
    "start_time": "2022-05-12T20:56:08.693Z"
   },
   {
    "duration": 83,
    "start_time": "2022-05-12T20:56:08.726Z"
   },
   {
    "duration": 63,
    "start_time": "2022-05-12T20:56:08.811Z"
   },
   {
    "duration": 46,
    "start_time": "2022-05-12T20:56:08.876Z"
   },
   {
    "duration": 15,
    "start_time": "2022-05-12T20:56:08.924Z"
   },
   {
    "duration": 24,
    "start_time": "2022-05-12T20:56:08.941Z"
   },
   {
    "duration": 105,
    "start_time": "2022-05-12T20:56:08.967Z"
   },
   {
    "duration": 26,
    "start_time": "2022-05-12T20:56:09.074Z"
   },
   {
    "duration": 8,
    "start_time": "2022-05-12T20:56:09.101Z"
   },
   {
    "duration": 66,
    "start_time": "2022-05-12T20:56:09.110Z"
   },
   {
    "duration": 21,
    "start_time": "2022-05-12T20:56:09.178Z"
   },
   {
    "duration": 6,
    "start_time": "2022-05-12T20:56:09.201Z"
   },
   {
    "duration": 63,
    "start_time": "2022-05-12T20:56:09.209Z"
   },
   {
    "duration": 12,
    "start_time": "2022-05-12T20:56:09.275Z"
   },
   {
    "duration": 8,
    "start_time": "2022-05-12T20:56:09.290Z"
   },
   {
    "duration": 5,
    "start_time": "2022-05-12T20:56:09.300Z"
   },
   {
    "duration": 61,
    "start_time": "2022-05-12T20:56:09.307Z"
   },
   {
    "duration": 48,
    "start_time": "2022-05-12T20:56:09.373Z"
   },
   {
    "duration": 52,
    "start_time": "2022-05-12T20:56:09.422Z"
   },
   {
    "duration": 23,
    "start_time": "2022-05-12T20:56:09.476Z"
   },
   {
    "duration": 29,
    "start_time": "2022-05-12T20:56:09.501Z"
   },
   {
    "duration": 42,
    "start_time": "2022-05-12T20:56:09.532Z"
   },
   {
    "duration": 25,
    "start_time": "2022-05-12T20:56:09.575Z"
   },
   {
    "duration": 60,
    "start_time": "2022-05-12T20:56:09.602Z"
   },
   {
    "duration": 235,
    "start_time": "2022-05-12T20:56:09.663Z"
   },
   {
    "duration": 28,
    "start_time": "2022-05-12T20:56:09.900Z"
   },
   {
    "duration": 43,
    "start_time": "2022-05-12T20:56:09.930Z"
   },
   {
    "duration": 9,
    "start_time": "2022-05-12T20:56:09.975Z"
   },
   {
    "duration": 8,
    "start_time": "2022-05-12T20:56:09.986Z"
   },
   {
    "duration": 7,
    "start_time": "2022-05-12T20:56:09.995Z"
   },
   {
    "duration": 6,
    "start_time": "2022-05-12T20:56:10.003Z"
   },
   {
    "duration": 52,
    "start_time": "2022-05-12T20:56:10.010Z"
   },
   {
    "duration": 5,
    "start_time": "2022-05-12T20:56:10.064Z"
   },
   {
    "duration": 9,
    "start_time": "2022-05-12T20:56:10.071Z"
   },
   {
    "duration": 12,
    "start_time": "2022-05-12T20:56:10.082Z"
   },
   {
    "duration": 8,
    "start_time": "2022-05-12T20:56:10.095Z"
   },
   {
    "duration": 412,
    "start_time": "2022-05-12T20:56:10.105Z"
   },
   {
    "duration": 5,
    "start_time": "2022-05-12T20:56:10.519Z"
   },
   {
    "duration": 8,
    "start_time": "2022-05-12T20:56:10.525Z"
   },
   {
    "duration": 8,
    "start_time": "2022-05-12T20:56:10.534Z"
   },
   {
    "duration": 19,
    "start_time": "2022-05-12T20:56:10.543Z"
   },
   {
    "duration": 6,
    "start_time": "2022-05-12T20:56:10.564Z"
   },
   {
    "duration": 6,
    "start_time": "2022-05-12T20:56:10.571Z"
   },
   {
    "duration": 9,
    "start_time": "2022-05-12T20:56:10.579Z"
   },
   {
    "duration": 8,
    "start_time": "2022-05-12T20:56:10.590Z"
   },
   {
    "duration": 168,
    "start_time": "2022-05-12T20:56:10.600Z"
   },
   {
    "duration": 4,
    "start_time": "2022-05-12T20:56:10.771Z"
   },
   {
    "duration": 7,
    "start_time": "2022-05-12T20:56:10.776Z"
   },
   {
    "duration": 9,
    "start_time": "2022-05-12T20:56:10.784Z"
   },
   {
    "duration": 11,
    "start_time": "2022-05-12T20:56:10.794Z"
   },
   {
    "duration": 12,
    "start_time": "2022-05-12T20:56:10.807Z"
   },
   {
    "duration": 6,
    "start_time": "2022-05-12T20:56:10.821Z"
   },
   {
    "duration": 10,
    "start_time": "2022-05-12T20:56:10.828Z"
   },
   {
    "duration": 26,
    "start_time": "2022-05-12T20:56:10.839Z"
   },
   {
    "duration": 165,
    "start_time": "2022-05-12T20:56:10.867Z"
   },
   {
    "duration": 563,
    "start_time": "2022-05-12T20:56:11.034Z"
   },
   {
    "duration": 10,
    "start_time": "2022-05-12T20:56:11.599Z"
   },
   {
    "duration": 547,
    "start_time": "2022-05-12T21:04:21.480Z"
   },
   {
    "duration": 25,
    "start_time": "2022-05-12T21:04:22.029Z"
   },
   {
    "duration": 132,
    "start_time": "2022-05-12T21:04:22.056Z"
   },
   {
    "duration": 22,
    "start_time": "2022-05-12T21:04:22.190Z"
   },
   {
    "duration": 92,
    "start_time": "2022-05-12T21:04:22.213Z"
   },
   {
    "duration": 17,
    "start_time": "2022-05-12T21:04:22.307Z"
   },
   {
    "duration": 15,
    "start_time": "2022-05-12T21:04:22.326Z"
   },
   {
    "duration": 25,
    "start_time": "2022-05-12T21:04:22.342Z"
   },
   {
    "duration": 28,
    "start_time": "2022-05-12T21:04:22.369Z"
   },
   {
    "duration": 9,
    "start_time": "2022-05-12T21:04:22.401Z"
   },
   {
    "duration": 29,
    "start_time": "2022-05-12T21:04:22.412Z"
   },
   {
    "duration": 53,
    "start_time": "2022-05-12T21:04:22.443Z"
   },
   {
    "duration": 37,
    "start_time": "2022-05-12T21:04:22.498Z"
   },
   {
    "duration": 49,
    "start_time": "2022-05-12T21:04:22.536Z"
   },
   {
    "duration": 13,
    "start_time": "2022-05-12T21:04:22.587Z"
   },
   {
    "duration": 12,
    "start_time": "2022-05-12T21:04:22.602Z"
   },
   {
    "duration": 118,
    "start_time": "2022-05-12T21:04:22.616Z"
   },
   {
    "duration": 37,
    "start_time": "2022-05-12T21:04:22.736Z"
   },
   {
    "duration": 9,
    "start_time": "2022-05-12T21:04:22.775Z"
   },
   {
    "duration": 52,
    "start_time": "2022-05-12T21:04:22.786Z"
   },
   {
    "duration": 39,
    "start_time": "2022-05-12T21:04:22.840Z"
   },
   {
    "duration": 7,
    "start_time": "2022-05-12T21:04:22.881Z"
   },
   {
    "duration": 47,
    "start_time": "2022-05-12T21:04:22.890Z"
   },
   {
    "duration": 26,
    "start_time": "2022-05-12T21:04:22.939Z"
   },
   {
    "duration": 8,
    "start_time": "2022-05-12T21:04:22.966Z"
   },
   {
    "duration": 6,
    "start_time": "2022-05-12T21:04:22.975Z"
   },
   {
    "duration": 27,
    "start_time": "2022-05-12T21:04:22.983Z"
   },
   {
    "duration": 59,
    "start_time": "2022-05-12T21:04:23.015Z"
   },
   {
    "duration": 29,
    "start_time": "2022-05-12T21:04:23.075Z"
   },
   {
    "duration": 18,
    "start_time": "2022-05-12T21:04:23.106Z"
   },
   {
    "duration": 51,
    "start_time": "2022-05-12T21:04:23.125Z"
   },
   {
    "duration": 22,
    "start_time": "2022-05-12T21:04:23.177Z"
   },
   {
    "duration": 25,
    "start_time": "2022-05-12T21:04:23.201Z"
   },
   {
    "duration": 60,
    "start_time": "2022-05-12T21:04:23.228Z"
   },
   {
    "duration": 161,
    "start_time": "2022-05-12T21:04:23.290Z"
   },
   {
    "duration": 33,
    "start_time": "2022-05-12T21:04:23.453Z"
   },
   {
    "duration": 18,
    "start_time": "2022-05-12T21:04:23.488Z"
   },
   {
    "duration": 3,
    "start_time": "2022-05-12T21:04:23.508Z"
   },
   {
    "duration": 6,
    "start_time": "2022-05-12T21:04:23.513Z"
   },
   {
    "duration": 5,
    "start_time": "2022-05-12T21:04:23.521Z"
   },
   {
    "duration": 36,
    "start_time": "2022-05-12T21:04:23.527Z"
   },
   {
    "duration": 20,
    "start_time": "2022-05-12T21:04:23.564Z"
   },
   {
    "duration": 6,
    "start_time": "2022-05-12T21:04:23.586Z"
   },
   {
    "duration": 7,
    "start_time": "2022-05-12T21:04:23.593Z"
   },
   {
    "duration": 7,
    "start_time": "2022-05-12T21:04:23.601Z"
   },
   {
    "duration": 6,
    "start_time": "2022-05-12T21:04:23.610Z"
   },
   {
    "duration": 445,
    "start_time": "2022-05-12T21:04:23.617Z"
   },
   {
    "duration": 4,
    "start_time": "2022-05-12T21:04:24.063Z"
   },
   {
    "duration": 8,
    "start_time": "2022-05-12T21:04:24.068Z"
   },
   {
    "duration": 7,
    "start_time": "2022-05-12T21:04:24.077Z"
   },
   {
    "duration": 9,
    "start_time": "2022-05-12T21:04:24.085Z"
   },
   {
    "duration": 6,
    "start_time": "2022-05-12T21:04:24.095Z"
   },
   {
    "duration": 6,
    "start_time": "2022-05-12T21:04:24.103Z"
   },
   {
    "duration": 6,
    "start_time": "2022-05-12T21:04:24.111Z"
   },
   {
    "duration": 6,
    "start_time": "2022-05-12T21:04:24.118Z"
   },
   {
    "duration": 160,
    "start_time": "2022-05-12T21:04:24.163Z"
   },
   {
    "duration": 5,
    "start_time": "2022-05-12T21:04:24.325Z"
   },
   {
    "duration": 6,
    "start_time": "2022-05-12T21:04:24.332Z"
   },
   {
    "duration": 23,
    "start_time": "2022-05-12T21:04:24.339Z"
   },
   {
    "duration": 5,
    "start_time": "2022-05-12T21:04:24.364Z"
   },
   {
    "duration": 6,
    "start_time": "2022-05-12T21:04:24.370Z"
   },
   {
    "duration": 7,
    "start_time": "2022-05-12T21:04:24.377Z"
   },
   {
    "duration": 6,
    "start_time": "2022-05-12T21:04:24.386Z"
   },
   {
    "duration": 7,
    "start_time": "2022-05-12T21:04:24.393Z"
   },
   {
    "duration": 213,
    "start_time": "2022-05-12T21:04:24.402Z"
   },
   {
    "duration": 555,
    "start_time": "2022-05-12T21:04:24.617Z"
   },
   {
    "duration": 10,
    "start_time": "2022-05-12T21:04:25.174Z"
   },
   {
    "duration": 282,
    "start_time": "2022-05-13T15:42:44.771Z"
   },
   {
    "duration": 555,
    "start_time": "2022-05-13T15:42:51.384Z"
   },
   {
    "duration": 36,
    "start_time": "2022-05-13T15:42:51.941Z"
   },
   {
    "duration": 137,
    "start_time": "2022-05-13T15:42:51.979Z"
   },
   {
    "duration": 21,
    "start_time": "2022-05-13T15:42:52.118Z"
   },
   {
    "duration": 93,
    "start_time": "2022-05-13T15:42:52.141Z"
   },
   {
    "duration": 17,
    "start_time": "2022-05-13T15:42:52.235Z"
   },
   {
    "duration": 22,
    "start_time": "2022-05-13T15:42:52.254Z"
   },
   {
    "duration": 11,
    "start_time": "2022-05-13T15:42:52.277Z"
   },
   {
    "duration": 34,
    "start_time": "2022-05-13T15:42:52.289Z"
   },
   {
    "duration": 11,
    "start_time": "2022-05-13T15:42:52.325Z"
   },
   {
    "duration": 34,
    "start_time": "2022-05-13T15:42:52.337Z"
   },
   {
    "duration": 48,
    "start_time": "2022-05-13T15:42:52.373Z"
   },
   {
    "duration": 54,
    "start_time": "2022-05-13T15:42:52.422Z"
   },
   {
    "duration": 30,
    "start_time": "2022-05-13T15:42:52.479Z"
   },
   {
    "duration": 12,
    "start_time": "2022-05-13T15:42:52.510Z"
   },
   {
    "duration": 11,
    "start_time": "2022-05-13T15:42:52.523Z"
   },
   {
    "duration": 117,
    "start_time": "2022-05-13T15:42:52.536Z"
   },
   {
    "duration": 39,
    "start_time": "2022-05-13T15:42:52.655Z"
   },
   {
    "duration": 7,
    "start_time": "2022-05-13T15:42:52.696Z"
   },
   {
    "duration": 46,
    "start_time": "2022-05-13T15:42:52.705Z"
   },
   {
    "duration": 38,
    "start_time": "2022-05-13T15:42:52.753Z"
   },
   {
    "duration": 7,
    "start_time": "2022-05-13T15:42:52.793Z"
   },
   {
    "duration": 45,
    "start_time": "2022-05-13T15:42:52.802Z"
   },
   {
    "duration": 26,
    "start_time": "2022-05-13T15:42:52.849Z"
   },
   {
    "duration": 7,
    "start_time": "2022-05-13T15:42:52.877Z"
   },
   {
    "duration": 5,
    "start_time": "2022-05-13T15:42:52.886Z"
   },
   {
    "duration": 28,
    "start_time": "2022-05-13T15:42:52.892Z"
   },
   {
    "duration": 5,
    "start_time": "2022-05-13T15:42:52.921Z"
   },
   {
    "duration": 62,
    "start_time": "2022-05-13T15:42:52.927Z"
   },
   {
    "duration": 28,
    "start_time": "2022-05-13T15:42:52.991Z"
   },
   {
    "duration": 18,
    "start_time": "2022-05-13T15:42:53.021Z"
   },
   {
    "duration": 50,
    "start_time": "2022-05-13T15:42:53.040Z"
   },
   {
    "duration": 22,
    "start_time": "2022-05-13T15:42:53.092Z"
   },
   {
    "duration": 27,
    "start_time": "2022-05-13T15:42:53.116Z"
   },
   {
    "duration": 60,
    "start_time": "2022-05-13T15:42:53.144Z"
   },
   {
    "duration": 185,
    "start_time": "2022-05-13T15:42:53.206Z"
   },
   {
    "duration": 27,
    "start_time": "2022-05-13T15:42:53.393Z"
   },
   {
    "duration": 19,
    "start_time": "2022-05-13T15:42:53.421Z"
   },
   {
    "duration": 4,
    "start_time": "2022-05-13T15:42:53.442Z"
   },
   {
    "duration": 4,
    "start_time": "2022-05-13T15:42:53.471Z"
   },
   {
    "duration": 4,
    "start_time": "2022-05-13T15:42:53.480Z"
   },
   {
    "duration": 6,
    "start_time": "2022-05-13T15:42:53.485Z"
   },
   {
    "duration": 22,
    "start_time": "2022-05-13T15:42:53.492Z"
   },
   {
    "duration": 6,
    "start_time": "2022-05-13T15:42:53.516Z"
   },
   {
    "duration": 9,
    "start_time": "2022-05-13T15:42:53.523Z"
   },
   {
    "duration": 39,
    "start_time": "2022-05-13T15:42:53.533Z"
   },
   {
    "duration": 5,
    "start_time": "2022-05-13T15:42:53.573Z"
   },
   {
    "duration": 546,
    "start_time": "2022-05-13T15:42:53.580Z"
   },
   {
    "duration": 4,
    "start_time": "2022-05-13T15:42:54.128Z"
   },
   {
    "duration": 9,
    "start_time": "2022-05-13T15:42:54.134Z"
   },
   {
    "duration": 6,
    "start_time": "2022-05-13T15:42:54.145Z"
   },
   {
    "duration": 19,
    "start_time": "2022-05-13T15:42:54.153Z"
   },
   {
    "duration": 5,
    "start_time": "2022-05-13T15:42:54.173Z"
   },
   {
    "duration": 5,
    "start_time": "2022-05-13T15:42:54.180Z"
   },
   {
    "duration": 5,
    "start_time": "2022-05-13T15:42:54.186Z"
   },
   {
    "duration": 5,
    "start_time": "2022-05-13T15:42:54.193Z"
   },
   {
    "duration": 174,
    "start_time": "2022-05-13T15:42:54.200Z"
   },
   {
    "duration": 4,
    "start_time": "2022-05-13T15:42:54.376Z"
   },
   {
    "duration": 7,
    "start_time": "2022-05-13T15:42:54.382Z"
   },
   {
    "duration": 6,
    "start_time": "2022-05-13T15:42:54.390Z"
   },
   {
    "duration": 5,
    "start_time": "2022-05-13T15:42:54.397Z"
   },
   {
    "duration": 4,
    "start_time": "2022-05-13T15:42:54.404Z"
   },
   {
    "duration": 5,
    "start_time": "2022-05-13T15:42:54.410Z"
   },
   {
    "duration": 10,
    "start_time": "2022-05-13T15:42:54.416Z"
   },
   {
    "duration": 47,
    "start_time": "2022-05-13T15:42:54.428Z"
   },
   {
    "duration": 150,
    "start_time": "2022-05-13T15:42:54.477Z"
   },
   {
    "duration": 438,
    "start_time": "2022-05-13T15:42:54.628Z"
   },
   {
    "duration": 10,
    "start_time": "2022-05-13T15:42:55.068Z"
   },
   {
    "duration": 10,
    "start_time": "2022-05-13T15:43:30.082Z"
   },
   {
    "duration": 17,
    "start_time": "2022-05-13T15:43:50.434Z"
   },
   {
    "duration": 584,
    "start_time": "2022-05-13T15:44:15.099Z"
   },
   {
    "duration": 25,
    "start_time": "2022-05-13T15:44:15.685Z"
   },
   {
    "duration": 146,
    "start_time": "2022-05-13T15:44:15.712Z"
   },
   {
    "duration": 29,
    "start_time": "2022-05-13T15:44:15.860Z"
   },
   {
    "duration": 92,
    "start_time": "2022-05-13T15:44:15.892Z"
   },
   {
    "duration": 20,
    "start_time": "2022-05-13T15:44:15.986Z"
   },
   {
    "duration": 16,
    "start_time": "2022-05-13T15:44:16.008Z"
   },
   {
    "duration": 11,
    "start_time": "2022-05-13T15:44:16.025Z"
   },
   {
    "duration": 42,
    "start_time": "2022-05-13T15:44:16.038Z"
   },
   {
    "duration": 10,
    "start_time": "2022-05-13T15:44:16.082Z"
   },
   {
    "duration": 27,
    "start_time": "2022-05-13T15:44:16.094Z"
   },
   {
    "duration": 69,
    "start_time": "2022-05-13T15:44:16.123Z"
   },
   {
    "duration": 38,
    "start_time": "2022-05-13T15:44:16.194Z"
   },
   {
    "duration": 47,
    "start_time": "2022-05-13T15:44:16.235Z"
   },
   {
    "duration": 13,
    "start_time": "2022-05-13T15:44:16.284Z"
   },
   {
    "duration": 12,
    "start_time": "2022-05-13T15:44:16.299Z"
   },
   {
    "duration": 127,
    "start_time": "2022-05-13T15:44:16.313Z"
   },
   {
    "duration": 32,
    "start_time": "2022-05-13T15:44:16.442Z"
   },
   {
    "duration": 9,
    "start_time": "2022-05-13T15:44:16.476Z"
   },
   {
    "duration": 52,
    "start_time": "2022-05-13T15:44:16.486Z"
   },
   {
    "duration": 53,
    "start_time": "2022-05-13T15:44:16.540Z"
   },
   {
    "duration": 10,
    "start_time": "2022-05-13T15:44:16.595Z"
   },
   {
    "duration": 85,
    "start_time": "2022-05-13T15:44:16.607Z"
   },
   {
    "duration": 14,
    "start_time": "2022-05-13T15:44:16.694Z"
   },
   {
    "duration": 12,
    "start_time": "2022-05-13T15:44:16.710Z"
   },
   {
    "duration": 5,
    "start_time": "2022-05-13T15:44:16.724Z"
   },
   {
    "duration": 59,
    "start_time": "2022-05-13T15:44:16.731Z"
   },
   {
    "duration": 15,
    "start_time": "2022-05-13T15:44:16.792Z"
   },
   {
    "duration": 63,
    "start_time": "2022-05-13T15:44:16.809Z"
   },
   {
    "duration": 45,
    "start_time": "2022-05-13T15:44:16.874Z"
   },
   {
    "duration": 25,
    "start_time": "2022-05-13T15:44:16.921Z"
   },
   {
    "duration": 68,
    "start_time": "2022-05-13T15:44:16.948Z"
   },
   {
    "duration": 28,
    "start_time": "2022-05-13T15:44:17.018Z"
   },
   {
    "duration": 58,
    "start_time": "2022-05-13T15:44:17.048Z"
   },
   {
    "duration": 65,
    "start_time": "2022-05-13T15:44:17.109Z"
   },
   {
    "duration": 159,
    "start_time": "2022-05-13T15:44:17.176Z"
   },
   {
    "duration": 39,
    "start_time": "2022-05-13T15:44:17.337Z"
   },
   {
    "duration": 20,
    "start_time": "2022-05-13T15:44:17.378Z"
   },
   {
    "duration": 5,
    "start_time": "2022-05-13T15:44:17.399Z"
   },
   {
    "duration": 7,
    "start_time": "2022-05-13T15:44:17.405Z"
   },
   {
    "duration": 5,
    "start_time": "2022-05-13T15:44:17.416Z"
   },
   {
    "duration": 6,
    "start_time": "2022-05-13T15:44:17.422Z"
   },
   {
    "duration": 59,
    "start_time": "2022-05-13T15:44:17.430Z"
   },
   {
    "duration": 6,
    "start_time": "2022-05-13T15:44:17.492Z"
   },
   {
    "duration": 9,
    "start_time": "2022-05-13T15:44:17.499Z"
   },
   {
    "duration": 11,
    "start_time": "2022-05-13T15:44:17.510Z"
   },
   {
    "duration": 7,
    "start_time": "2022-05-13T15:44:17.523Z"
   },
   {
    "duration": 409,
    "start_time": "2022-05-13T15:44:17.532Z"
   },
   {
    "duration": 5,
    "start_time": "2022-05-13T15:44:17.942Z"
   },
   {
    "duration": 6,
    "start_time": "2022-05-13T15:44:17.948Z"
   },
   {
    "duration": 18,
    "start_time": "2022-05-13T15:44:17.956Z"
   },
   {
    "duration": 6,
    "start_time": "2022-05-13T15:44:17.975Z"
   },
   {
    "duration": 6,
    "start_time": "2022-05-13T15:44:17.983Z"
   },
   {
    "duration": 6,
    "start_time": "2022-05-13T15:44:17.990Z"
   },
   {
    "duration": 6,
    "start_time": "2022-05-13T15:44:17.997Z"
   },
   {
    "duration": 6,
    "start_time": "2022-05-13T15:44:18.005Z"
   },
   {
    "duration": 188,
    "start_time": "2022-05-13T15:44:18.013Z"
   },
   {
    "duration": 5,
    "start_time": "2022-05-13T15:44:18.203Z"
   },
   {
    "duration": 7,
    "start_time": "2022-05-13T15:44:18.209Z"
   },
   {
    "duration": 5,
    "start_time": "2022-05-13T15:44:18.218Z"
   },
   {
    "duration": 6,
    "start_time": "2022-05-13T15:44:18.224Z"
   },
   {
    "duration": 5,
    "start_time": "2022-05-13T15:44:18.232Z"
   },
   {
    "duration": 33,
    "start_time": "2022-05-13T15:44:18.239Z"
   },
   {
    "duration": 5,
    "start_time": "2022-05-13T15:44:18.273Z"
   },
   {
    "duration": 7,
    "start_time": "2022-05-13T15:44:18.280Z"
   },
   {
    "duration": 264,
    "start_time": "2022-05-13T15:44:18.289Z"
   },
   {
    "duration": 453,
    "start_time": "2022-05-13T15:44:18.555Z"
   },
   {
    "duration": 9,
    "start_time": "2022-05-13T15:44:19.009Z"
   },
   {
    "duration": 91,
    "start_time": "2022-05-13T15:47:51.043Z"
   },
   {
    "duration": 12,
    "start_time": "2022-05-13T15:48:01.414Z"
   },
   {
    "duration": 14,
    "start_time": "2022-05-13T15:52:40.532Z"
   },
   {
    "duration": 27,
    "start_time": "2022-05-13T15:53:32.753Z"
   },
   {
    "duration": 548,
    "start_time": "2022-05-13T15:54:52.725Z"
   },
   {
    "duration": 23,
    "start_time": "2022-05-13T15:54:53.276Z"
   },
   {
    "duration": 152,
    "start_time": "2022-05-13T15:54:53.300Z"
   },
   {
    "duration": 33,
    "start_time": "2022-05-13T15:54:53.453Z"
   },
   {
    "duration": 94,
    "start_time": "2022-05-13T15:54:53.488Z"
   },
   {
    "duration": 30,
    "start_time": "2022-05-13T15:54:53.583Z"
   },
   {
    "duration": 20,
    "start_time": "2022-05-13T15:54:53.615Z"
   },
   {
    "duration": 37,
    "start_time": "2022-05-13T15:54:53.637Z"
   },
   {
    "duration": 28,
    "start_time": "2022-05-13T15:54:53.676Z"
   },
   {
    "duration": 9,
    "start_time": "2022-05-13T15:54:53.706Z"
   },
   {
    "duration": 29,
    "start_time": "2022-05-13T15:54:53.717Z"
   },
   {
    "duration": 61,
    "start_time": "2022-05-13T15:54:53.747Z"
   },
   {
    "duration": 40,
    "start_time": "2022-05-13T15:54:53.810Z"
   },
   {
    "duration": 30,
    "start_time": "2022-05-13T15:54:53.871Z"
   },
   {
    "duration": 13,
    "start_time": "2022-05-13T15:54:53.903Z"
   },
   {
    "duration": 9,
    "start_time": "2022-05-13T15:54:53.919Z"
   },
   {
    "duration": 135,
    "start_time": "2022-05-13T15:54:53.930Z"
   },
   {
    "duration": 29,
    "start_time": "2022-05-13T15:54:54.070Z"
   },
   {
    "duration": 9,
    "start_time": "2022-05-13T15:54:54.101Z"
   },
   {
    "duration": 73,
    "start_time": "2022-05-13T15:54:54.112Z"
   },
   {
    "duration": 24,
    "start_time": "2022-05-13T15:54:54.187Z"
   },
   {
    "duration": 8,
    "start_time": "2022-05-13T15:54:54.213Z"
   },
   {
    "duration": 71,
    "start_time": "2022-05-13T15:54:54.222Z"
   },
   {
    "duration": 10,
    "start_time": "2022-05-13T15:54:54.295Z"
   },
   {
    "duration": 7,
    "start_time": "2022-05-13T15:54:54.306Z"
   },
   {
    "duration": 5,
    "start_time": "2022-05-13T15:54:54.315Z"
   },
   {
    "duration": 54,
    "start_time": "2022-05-13T15:54:54.321Z"
   },
   {
    "duration": 11,
    "start_time": "2022-05-13T15:54:54.377Z"
   },
   {
    "duration": 35,
    "start_time": "2022-05-13T15:54:54.390Z"
   },
   {
    "duration": 55,
    "start_time": "2022-05-13T15:54:54.428Z"
   },
   {
    "duration": 18,
    "start_time": "2022-05-13T15:54:54.485Z"
   },
   {
    "duration": 31,
    "start_time": "2022-05-13T15:54:54.504Z"
   },
   {
    "duration": 42,
    "start_time": "2022-05-13T15:54:54.537Z"
   },
   {
    "duration": 27,
    "start_time": "2022-05-13T15:54:54.580Z"
   },
   {
    "duration": 36,
    "start_time": "2022-05-13T15:54:54.609Z"
   },
   {
    "duration": 97,
    "start_time": "2022-05-13T15:54:54.670Z"
   },
   {
    "duration": 0,
    "start_time": "2022-05-13T15:54:54.770Z"
   },
   {
    "duration": 0,
    "start_time": "2022-05-13T15:54:54.772Z"
   },
   {
    "duration": 0,
    "start_time": "2022-05-13T15:54:54.773Z"
   },
   {
    "duration": 0,
    "start_time": "2022-05-13T15:54:54.775Z"
   },
   {
    "duration": 1,
    "start_time": "2022-05-13T15:54:54.776Z"
   },
   {
    "duration": 0,
    "start_time": "2022-05-13T15:54:54.778Z"
   },
   {
    "duration": 0,
    "start_time": "2022-05-13T15:54:54.779Z"
   },
   {
    "duration": 0,
    "start_time": "2022-05-13T15:54:54.781Z"
   },
   {
    "duration": 0,
    "start_time": "2022-05-13T15:54:54.782Z"
   },
   {
    "duration": 0,
    "start_time": "2022-05-13T15:54:54.784Z"
   },
   {
    "duration": 0,
    "start_time": "2022-05-13T15:54:54.785Z"
   },
   {
    "duration": 0,
    "start_time": "2022-05-13T15:54:54.787Z"
   },
   {
    "duration": 0,
    "start_time": "2022-05-13T15:54:54.788Z"
   },
   {
    "duration": 0,
    "start_time": "2022-05-13T15:54:54.790Z"
   },
   {
    "duration": 0,
    "start_time": "2022-05-13T15:54:54.791Z"
   },
   {
    "duration": 0,
    "start_time": "2022-05-13T15:54:54.792Z"
   },
   {
    "duration": 0,
    "start_time": "2022-05-13T15:54:54.793Z"
   },
   {
    "duration": 0,
    "start_time": "2022-05-13T15:54:54.795Z"
   },
   {
    "duration": 0,
    "start_time": "2022-05-13T15:54:54.796Z"
   },
   {
    "duration": 0,
    "start_time": "2022-05-13T15:54:54.797Z"
   },
   {
    "duration": 0,
    "start_time": "2022-05-13T15:54:54.798Z"
   },
   {
    "duration": 0,
    "start_time": "2022-05-13T15:54:54.800Z"
   },
   {
    "duration": 0,
    "start_time": "2022-05-13T15:54:54.801Z"
   },
   {
    "duration": 0,
    "start_time": "2022-05-13T15:54:54.803Z"
   },
   {
    "duration": 0,
    "start_time": "2022-05-13T15:54:54.804Z"
   },
   {
    "duration": 0,
    "start_time": "2022-05-13T15:54:54.806Z"
   },
   {
    "duration": 0,
    "start_time": "2022-05-13T15:54:54.807Z"
   },
   {
    "duration": 0,
    "start_time": "2022-05-13T15:54:54.808Z"
   },
   {
    "duration": 0,
    "start_time": "2022-05-13T15:54:54.809Z"
   },
   {
    "duration": 1,
    "start_time": "2022-05-13T15:54:54.810Z"
   },
   {
    "duration": 0,
    "start_time": "2022-05-13T15:54:54.871Z"
   },
   {
    "duration": 0,
    "start_time": "2022-05-13T15:54:54.873Z"
   },
   {
    "duration": 93,
    "start_time": "2022-05-13T15:56:32.754Z"
   },
   {
    "duration": 531,
    "start_time": "2022-05-13T15:57:10.224Z"
   },
   {
    "duration": 28,
    "start_time": "2022-05-13T15:57:10.757Z"
   },
   {
    "duration": 139,
    "start_time": "2022-05-13T15:57:10.787Z"
   },
   {
    "duration": 21,
    "start_time": "2022-05-13T15:57:10.928Z"
   },
   {
    "duration": 98,
    "start_time": "2022-05-13T15:57:10.952Z"
   },
   {
    "duration": 32,
    "start_time": "2022-05-13T15:57:11.052Z"
   },
   {
    "duration": 16,
    "start_time": "2022-05-13T15:57:11.086Z"
   },
   {
    "duration": 10,
    "start_time": "2022-05-13T15:57:11.103Z"
   },
   {
    "duration": 26,
    "start_time": "2022-05-13T15:57:11.114Z"
   },
   {
    "duration": 10,
    "start_time": "2022-05-13T15:57:11.141Z"
   },
   {
    "duration": 39,
    "start_time": "2022-05-13T15:57:11.152Z"
   },
   {
    "duration": 45,
    "start_time": "2022-05-13T15:57:11.193Z"
   },
   {
    "duration": 55,
    "start_time": "2022-05-13T15:57:11.240Z"
   },
   {
    "duration": 29,
    "start_time": "2022-05-13T15:57:11.298Z"
   },
   {
    "duration": 12,
    "start_time": "2022-05-13T15:57:11.328Z"
   },
   {
    "duration": 40,
    "start_time": "2022-05-13T15:57:11.341Z"
   },
   {
    "duration": 102,
    "start_time": "2022-05-13T15:57:11.383Z"
   },
   {
    "duration": 27,
    "start_time": "2022-05-13T15:57:11.487Z"
   },
   {
    "duration": 8,
    "start_time": "2022-05-13T15:57:11.515Z"
   },
   {
    "duration": 66,
    "start_time": "2022-05-13T15:57:11.524Z"
   },
   {
    "duration": 23,
    "start_time": "2022-05-13T15:57:11.591Z"
   },
   {
    "duration": 8,
    "start_time": "2022-05-13T15:57:11.616Z"
   },
   {
    "duration": 66,
    "start_time": "2022-05-13T15:57:11.626Z"
   },
   {
    "duration": 10,
    "start_time": "2022-05-13T15:57:11.694Z"
   },
   {
    "duration": 7,
    "start_time": "2022-05-13T15:57:11.705Z"
   },
   {
    "duration": 4,
    "start_time": "2022-05-13T15:57:11.714Z"
   },
   {
    "duration": 57,
    "start_time": "2022-05-13T15:57:11.719Z"
   },
   {
    "duration": 12,
    "start_time": "2022-05-13T15:57:11.777Z"
   },
   {
    "duration": 34,
    "start_time": "2022-05-13T15:57:11.790Z"
   },
   {
    "duration": 56,
    "start_time": "2022-05-13T15:57:11.825Z"
   },
   {
    "duration": 18,
    "start_time": "2022-05-13T15:57:11.882Z"
   },
   {
    "duration": 30,
    "start_time": "2022-05-13T15:57:11.902Z"
   },
   {
    "duration": 22,
    "start_time": "2022-05-13T15:57:11.933Z"
   },
   {
    "duration": 35,
    "start_time": "2022-05-13T15:57:11.972Z"
   },
   {
    "duration": 35,
    "start_time": "2022-05-13T15:57:12.009Z"
   },
   {
    "duration": 86,
    "start_time": "2022-05-13T15:57:12.046Z"
   },
   {
    "duration": 0,
    "start_time": "2022-05-13T15:57:12.134Z"
   },
   {
    "duration": 0,
    "start_time": "2022-05-13T15:57:12.135Z"
   },
   {
    "duration": 0,
    "start_time": "2022-05-13T15:57:12.136Z"
   },
   {
    "duration": 0,
    "start_time": "2022-05-13T15:57:12.137Z"
   },
   {
    "duration": 0,
    "start_time": "2022-05-13T15:57:12.138Z"
   },
   {
    "duration": 0,
    "start_time": "2022-05-13T15:57:12.139Z"
   },
   {
    "duration": 0,
    "start_time": "2022-05-13T15:57:12.140Z"
   },
   {
    "duration": 0,
    "start_time": "2022-05-13T15:57:12.141Z"
   },
   {
    "duration": 0,
    "start_time": "2022-05-13T15:57:12.142Z"
   },
   {
    "duration": 0,
    "start_time": "2022-05-13T15:57:12.143Z"
   },
   {
    "duration": 0,
    "start_time": "2022-05-13T15:57:12.144Z"
   },
   {
    "duration": 0,
    "start_time": "2022-05-13T15:57:12.145Z"
   },
   {
    "duration": 0,
    "start_time": "2022-05-13T15:57:12.145Z"
   },
   {
    "duration": 0,
    "start_time": "2022-05-13T15:57:12.147Z"
   },
   {
    "duration": 0,
    "start_time": "2022-05-13T15:57:12.148Z"
   },
   {
    "duration": 0,
    "start_time": "2022-05-13T15:57:12.150Z"
   },
   {
    "duration": 0,
    "start_time": "2022-05-13T15:57:12.151Z"
   },
   {
    "duration": 0,
    "start_time": "2022-05-13T15:57:12.152Z"
   },
   {
    "duration": 0,
    "start_time": "2022-05-13T15:57:12.154Z"
   },
   {
    "duration": 0,
    "start_time": "2022-05-13T15:57:12.155Z"
   },
   {
    "duration": 0,
    "start_time": "2022-05-13T15:57:12.157Z"
   },
   {
    "duration": 0,
    "start_time": "2022-05-13T15:57:12.158Z"
   },
   {
    "duration": 0,
    "start_time": "2022-05-13T15:57:12.159Z"
   },
   {
    "duration": 0,
    "start_time": "2022-05-13T15:57:12.161Z"
   },
   {
    "duration": 0,
    "start_time": "2022-05-13T15:57:12.162Z"
   },
   {
    "duration": 0,
    "start_time": "2022-05-13T15:57:12.163Z"
   },
   {
    "duration": 0,
    "start_time": "2022-05-13T15:57:12.164Z"
   },
   {
    "duration": 0,
    "start_time": "2022-05-13T15:57:12.166Z"
   },
   {
    "duration": 0,
    "start_time": "2022-05-13T15:57:12.167Z"
   },
   {
    "duration": 0,
    "start_time": "2022-05-13T15:57:12.168Z"
   },
   {
    "duration": 0,
    "start_time": "2022-05-13T15:57:12.170Z"
   },
   {
    "duration": 0,
    "start_time": "2022-05-13T15:57:12.176Z"
   },
   {
    "duration": 153,
    "start_time": "2022-05-13T15:57:51.985Z"
   },
   {
    "duration": 30,
    "start_time": "2022-05-13T15:58:07.446Z"
   },
   {
    "duration": 584,
    "start_time": "2022-05-13T15:58:36.602Z"
   },
   {
    "duration": 24,
    "start_time": "2022-05-13T15:58:37.188Z"
   },
   {
    "duration": 137,
    "start_time": "2022-05-13T15:58:37.213Z"
   },
   {
    "duration": 25,
    "start_time": "2022-05-13T15:58:37.351Z"
   },
   {
    "duration": 86,
    "start_time": "2022-05-13T15:58:37.378Z"
   },
   {
    "duration": 25,
    "start_time": "2022-05-13T15:58:37.466Z"
   },
   {
    "duration": 14,
    "start_time": "2022-05-13T15:58:37.493Z"
   },
   {
    "duration": 10,
    "start_time": "2022-05-13T15:58:37.508Z"
   },
   {
    "duration": 26,
    "start_time": "2022-05-13T15:58:37.519Z"
   },
   {
    "duration": 10,
    "start_time": "2022-05-13T15:58:37.546Z"
   },
   {
    "duration": 29,
    "start_time": "2022-05-13T15:58:37.557Z"
   },
   {
    "duration": 109,
    "start_time": "2022-05-13T15:58:37.588Z"
   },
   {
    "duration": 38,
    "start_time": "2022-05-13T15:58:37.698Z"
   },
   {
    "duration": 52,
    "start_time": "2022-05-13T15:58:37.739Z"
   },
   {
    "duration": 11,
    "start_time": "2022-05-13T15:58:37.793Z"
   },
   {
    "duration": 11,
    "start_time": "2022-05-13T15:58:37.806Z"
   },
   {
    "duration": 207,
    "start_time": "2022-05-13T15:58:37.819Z"
   },
   {
    "duration": 28,
    "start_time": "2022-05-13T15:58:38.027Z"
   },
   {
    "duration": 9,
    "start_time": "2022-05-13T15:58:38.080Z"
   },
   {
    "duration": 48,
    "start_time": "2022-05-13T15:58:38.090Z"
   },
   {
    "duration": 23,
    "start_time": "2022-05-13T15:58:38.139Z"
   },
   {
    "duration": 15,
    "start_time": "2022-05-13T15:58:38.163Z"
   },
   {
    "duration": 58,
    "start_time": "2022-05-13T15:58:38.180Z"
   },
   {
    "duration": 10,
    "start_time": "2022-05-13T15:58:38.239Z"
   },
   {
    "duration": 8,
    "start_time": "2022-05-13T15:58:38.250Z"
   },
   {
    "duration": 5,
    "start_time": "2022-05-13T15:58:38.275Z"
   },
   {
    "duration": 33,
    "start_time": "2022-05-13T15:58:38.282Z"
   },
   {
    "duration": 10,
    "start_time": "2022-05-13T15:58:38.317Z"
   },
   {
    "duration": 34,
    "start_time": "2022-05-13T15:58:38.328Z"
   },
   {
    "duration": 32,
    "start_time": "2022-05-13T15:58:38.371Z"
   },
   {
    "duration": 18,
    "start_time": "2022-05-13T15:58:38.405Z"
   },
   {
    "duration": 31,
    "start_time": "2022-05-13T15:58:38.425Z"
   },
   {
    "duration": 33,
    "start_time": "2022-05-13T15:58:38.457Z"
   },
   {
    "duration": 24,
    "start_time": "2022-05-13T15:58:38.492Z"
   },
   {
    "duration": 34,
    "start_time": "2022-05-13T15:58:38.518Z"
   },
   {
    "duration": 162,
    "start_time": "2022-05-13T15:58:38.553Z"
   },
   {
    "duration": 77,
    "start_time": "2022-05-13T15:58:38.716Z"
   },
   {
    "duration": 19,
    "start_time": "2022-05-13T15:58:38.795Z"
   },
   {
    "duration": 4,
    "start_time": "2022-05-13T15:58:38.816Z"
   },
   {
    "duration": 5,
    "start_time": "2022-05-13T15:58:38.822Z"
   },
   {
    "duration": 4,
    "start_time": "2022-05-13T15:58:38.831Z"
   },
   {
    "duration": 9,
    "start_time": "2022-05-13T15:58:38.837Z"
   },
   {
    "duration": 34,
    "start_time": "2022-05-13T15:58:38.870Z"
   },
   {
    "duration": 4,
    "start_time": "2022-05-13T15:58:38.906Z"
   },
   {
    "duration": 13,
    "start_time": "2022-05-13T15:58:38.912Z"
   },
   {
    "duration": 5,
    "start_time": "2022-05-13T15:58:38.926Z"
   },
   {
    "duration": 6,
    "start_time": "2022-05-13T15:58:38.933Z"
   },
   {
    "duration": 399,
    "start_time": "2022-05-13T15:58:38.941Z"
   },
   {
    "duration": 5,
    "start_time": "2022-05-13T15:58:39.342Z"
   },
   {
    "duration": 7,
    "start_time": "2022-05-13T15:58:39.348Z"
   },
   {
    "duration": 6,
    "start_time": "2022-05-13T15:58:39.378Z"
   },
   {
    "duration": 9,
    "start_time": "2022-05-13T15:58:39.385Z"
   },
   {
    "duration": 7,
    "start_time": "2022-05-13T15:58:39.396Z"
   },
   {
    "duration": 5,
    "start_time": "2022-05-13T15:58:39.404Z"
   },
   {
    "duration": 5,
    "start_time": "2022-05-13T15:58:39.410Z"
   },
   {
    "duration": 4,
    "start_time": "2022-05-13T15:58:39.417Z"
   },
   {
    "duration": 173,
    "start_time": "2022-05-13T15:58:39.423Z"
   },
   {
    "duration": 5,
    "start_time": "2022-05-13T15:58:39.597Z"
   },
   {
    "duration": 7,
    "start_time": "2022-05-13T15:58:39.603Z"
   },
   {
    "duration": 4,
    "start_time": "2022-05-13T15:58:39.612Z"
   },
   {
    "duration": 5,
    "start_time": "2022-05-13T15:58:39.618Z"
   },
   {
    "duration": 4,
    "start_time": "2022-05-13T15:58:39.624Z"
   },
   {
    "duration": 5,
    "start_time": "2022-05-13T15:58:39.630Z"
   },
   {
    "duration": 39,
    "start_time": "2022-05-13T15:58:39.637Z"
   },
   {
    "duration": 6,
    "start_time": "2022-05-13T15:58:39.677Z"
   },
   {
    "duration": 160,
    "start_time": "2022-05-13T15:58:39.684Z"
   },
   {
    "duration": 451,
    "start_time": "2022-05-13T15:58:39.846Z"
   },
   {
    "duration": 9,
    "start_time": "2022-05-13T15:58:40.299Z"
   },
   {
    "duration": 588,
    "start_time": "2022-05-13T16:05:37.460Z"
   },
   {
    "duration": 24,
    "start_time": "2022-05-13T16:05:38.050Z"
   },
   {
    "duration": 137,
    "start_time": "2022-05-13T16:05:38.076Z"
   },
   {
    "duration": 20,
    "start_time": "2022-05-13T16:05:38.215Z"
   },
   {
    "duration": 96,
    "start_time": "2022-05-13T16:05:38.238Z"
   },
   {
    "duration": 18,
    "start_time": "2022-05-13T16:05:38.335Z"
   },
   {
    "duration": 30,
    "start_time": "2022-05-13T16:05:38.354Z"
   },
   {
    "duration": 15,
    "start_time": "2022-05-13T16:05:38.385Z"
   },
   {
    "duration": 31,
    "start_time": "2022-05-13T16:05:38.402Z"
   },
   {
    "duration": 10,
    "start_time": "2022-05-13T16:05:38.434Z"
   },
   {
    "duration": 27,
    "start_time": "2022-05-13T16:05:38.446Z"
   },
   {
    "duration": 58,
    "start_time": "2022-05-13T16:05:38.474Z"
   },
   {
    "duration": 49,
    "start_time": "2022-05-13T16:05:38.533Z"
   },
   {
    "duration": 30,
    "start_time": "2022-05-13T16:05:38.586Z"
   },
   {
    "duration": 12,
    "start_time": "2022-05-13T16:05:38.618Z"
   },
   {
    "duration": 13,
    "start_time": "2022-05-13T16:05:38.632Z"
   },
   {
    "duration": 124,
    "start_time": "2022-05-13T16:05:38.646Z"
   },
   {
    "duration": 29,
    "start_time": "2022-05-13T16:05:38.772Z"
   },
   {
    "duration": 8,
    "start_time": "2022-05-13T16:05:38.803Z"
   },
   {
    "duration": 72,
    "start_time": "2022-05-13T16:05:38.813Z"
   },
   {
    "duration": 23,
    "start_time": "2022-05-13T16:05:38.886Z"
   },
   {
    "duration": 8,
    "start_time": "2022-05-13T16:05:38.911Z"
   },
   {
    "duration": 67,
    "start_time": "2022-05-13T16:05:38.920Z"
   },
   {
    "duration": 10,
    "start_time": "2022-05-13T16:05:38.988Z"
   },
   {
    "duration": 7,
    "start_time": "2022-05-13T16:05:39.000Z"
   },
   {
    "duration": 4,
    "start_time": "2022-05-13T16:05:39.009Z"
   },
   {
    "duration": 33,
    "start_time": "2022-05-13T16:05:39.014Z"
   },
   {
    "duration": 40,
    "start_time": "2022-05-13T16:05:39.048Z"
   },
   {
    "duration": 37,
    "start_time": "2022-05-13T16:05:39.090Z"
   },
   {
    "duration": 28,
    "start_time": "2022-05-13T16:05:39.129Z"
   },
   {
    "duration": 32,
    "start_time": "2022-05-13T16:05:39.159Z"
   },
   {
    "duration": 29,
    "start_time": "2022-05-13T16:05:39.193Z"
   },
   {
    "duration": 21,
    "start_time": "2022-05-13T16:05:39.224Z"
   },
   {
    "duration": 52,
    "start_time": "2022-05-13T16:05:39.246Z"
   },
   {
    "duration": 35,
    "start_time": "2022-05-13T16:05:39.299Z"
   },
   {
    "duration": 180,
    "start_time": "2022-05-13T16:05:39.336Z"
   },
   {
    "duration": 27,
    "start_time": "2022-05-13T16:05:39.517Z"
   },
   {
    "duration": 37,
    "start_time": "2022-05-13T16:05:39.545Z"
   },
   {
    "duration": 5,
    "start_time": "2022-05-13T16:05:39.584Z"
   },
   {
    "duration": 5,
    "start_time": "2022-05-13T16:05:39.591Z"
   },
   {
    "duration": 4,
    "start_time": "2022-05-13T16:05:39.601Z"
   },
   {
    "duration": 5,
    "start_time": "2022-05-13T16:05:39.607Z"
   },
   {
    "duration": 20,
    "start_time": "2022-05-13T16:05:39.613Z"
   },
   {
    "duration": 6,
    "start_time": "2022-05-13T16:05:39.680Z"
   },
   {
    "duration": 6,
    "start_time": "2022-05-13T16:05:39.687Z"
   },
   {
    "duration": 6,
    "start_time": "2022-05-13T16:05:39.694Z"
   },
   {
    "duration": 7,
    "start_time": "2022-05-13T16:05:39.701Z"
   },
   {
    "duration": 415,
    "start_time": "2022-05-13T16:05:39.710Z"
   },
   {
    "duration": 4,
    "start_time": "2022-05-13T16:05:40.127Z"
   },
   {
    "duration": 9,
    "start_time": "2022-05-13T16:05:40.133Z"
   },
   {
    "duration": 8,
    "start_time": "2022-05-13T16:05:40.143Z"
   },
   {
    "duration": 26,
    "start_time": "2022-05-13T16:05:40.153Z"
   },
   {
    "duration": 9,
    "start_time": "2022-05-13T16:05:40.181Z"
   },
   {
    "duration": 5,
    "start_time": "2022-05-13T16:05:40.192Z"
   },
   {
    "duration": 5,
    "start_time": "2022-05-13T16:05:40.199Z"
   },
   {
    "duration": 5,
    "start_time": "2022-05-13T16:05:40.206Z"
   },
   {
    "duration": 175,
    "start_time": "2022-05-13T16:05:40.213Z"
   },
   {
    "duration": 4,
    "start_time": "2022-05-13T16:05:40.389Z"
   },
   {
    "duration": 10,
    "start_time": "2022-05-13T16:05:40.395Z"
   },
   {
    "duration": 9,
    "start_time": "2022-05-13T16:05:40.407Z"
   },
   {
    "duration": 6,
    "start_time": "2022-05-13T16:05:40.417Z"
   },
   {
    "duration": 6,
    "start_time": "2022-05-13T16:05:40.424Z"
   },
   {
    "duration": 6,
    "start_time": "2022-05-13T16:05:40.432Z"
   },
   {
    "duration": 5,
    "start_time": "2022-05-13T16:05:40.439Z"
   },
   {
    "duration": 28,
    "start_time": "2022-05-13T16:05:40.446Z"
   },
   {
    "duration": 164,
    "start_time": "2022-05-13T16:05:40.476Z"
   },
   {
    "duration": 471,
    "start_time": "2022-05-13T16:05:40.642Z"
   },
   {
    "duration": 11,
    "start_time": "2022-05-13T16:05:41.115Z"
   },
   {
    "duration": 18,
    "start_time": "2022-05-13T16:08:38.330Z"
   },
   {
    "duration": 19,
    "start_time": "2022-05-13T16:09:14.984Z"
   },
   {
    "duration": 22,
    "start_time": "2022-05-13T16:09:39.170Z"
   },
   {
    "duration": 19,
    "start_time": "2022-05-13T16:10:42.415Z"
   },
   {
    "duration": 18,
    "start_time": "2022-05-13T16:11:11.535Z"
   },
   {
    "duration": 537,
    "start_time": "2022-05-13T16:28:39.694Z"
   },
   {
    "duration": 25,
    "start_time": "2022-05-13T16:28:40.233Z"
   },
   {
    "duration": 194,
    "start_time": "2022-05-13T16:28:40.260Z"
   },
   {
    "duration": 44,
    "start_time": "2022-05-13T16:28:40.456Z"
   },
   {
    "duration": 136,
    "start_time": "2022-05-13T16:28:40.502Z"
   },
   {
    "duration": 37,
    "start_time": "2022-05-13T16:28:40.640Z"
   },
   {
    "duration": 15,
    "start_time": "2022-05-13T16:28:40.679Z"
   },
   {
    "duration": 10,
    "start_time": "2022-05-13T16:28:40.695Z"
   },
   {
    "duration": 25,
    "start_time": "2022-05-13T16:28:40.707Z"
   },
   {
    "duration": 10,
    "start_time": "2022-05-13T16:28:40.734Z"
   },
   {
    "duration": 39,
    "start_time": "2022-05-13T16:28:40.745Z"
   },
   {
    "duration": 48,
    "start_time": "2022-05-13T16:28:40.786Z"
   },
   {
    "duration": 68,
    "start_time": "2022-05-13T16:28:40.835Z"
   },
   {
    "duration": 48,
    "start_time": "2022-05-13T16:28:40.907Z"
   },
   {
    "duration": 28,
    "start_time": "2022-05-13T16:28:40.957Z"
   },
   {
    "duration": 12,
    "start_time": "2022-05-13T16:28:40.987Z"
   },
   {
    "duration": 116,
    "start_time": "2022-05-13T16:28:41.001Z"
   },
   {
    "duration": 27,
    "start_time": "2022-05-13T16:28:41.119Z"
   },
   {
    "duration": 23,
    "start_time": "2022-05-13T16:28:41.148Z"
   },
   {
    "duration": 45,
    "start_time": "2022-05-13T16:28:41.173Z"
   },
   {
    "duration": 23,
    "start_time": "2022-05-13T16:28:41.220Z"
   },
   {
    "duration": 34,
    "start_time": "2022-05-13T16:28:41.245Z"
   },
   {
    "duration": 48,
    "start_time": "2022-05-13T16:28:41.280Z"
   },
   {
    "duration": 9,
    "start_time": "2022-05-13T16:28:41.330Z"
   },
   {
    "duration": 31,
    "start_time": "2022-05-13T16:28:41.341Z"
   },
   {
    "duration": 5,
    "start_time": "2022-05-13T16:28:41.373Z"
   },
   {
    "duration": 33,
    "start_time": "2022-05-13T16:28:41.379Z"
   },
   {
    "duration": 10,
    "start_time": "2022-05-13T16:28:41.414Z"
   },
   {
    "duration": 55,
    "start_time": "2022-05-13T16:28:41.425Z"
   },
   {
    "duration": 30,
    "start_time": "2022-05-13T16:28:41.481Z"
   },
   {
    "duration": 19,
    "start_time": "2022-05-13T16:28:41.512Z"
   },
   {
    "duration": 56,
    "start_time": "2022-05-13T16:28:41.532Z"
   },
   {
    "duration": 22,
    "start_time": "2022-05-13T16:28:41.589Z"
   },
   {
    "duration": 27,
    "start_time": "2022-05-13T16:28:41.613Z"
   },
   {
    "duration": 56,
    "start_time": "2022-05-13T16:28:41.642Z"
   },
   {
    "duration": 189,
    "start_time": "2022-05-13T16:28:41.699Z"
   },
   {
    "duration": 38,
    "start_time": "2022-05-13T16:28:41.890Z"
   },
   {
    "duration": 22,
    "start_time": "2022-05-13T16:28:41.930Z"
   },
   {
    "duration": 18,
    "start_time": "2022-05-13T16:28:41.972Z"
   },
   {
    "duration": 19,
    "start_time": "2022-05-13T16:28:41.992Z"
   },
   {
    "duration": 5,
    "start_time": "2022-05-13T16:28:42.015Z"
   },
   {
    "duration": 6,
    "start_time": "2022-05-13T16:28:42.021Z"
   },
   {
    "duration": 5,
    "start_time": "2022-05-13T16:28:42.028Z"
   },
   {
    "duration": 40,
    "start_time": "2022-05-13T16:28:42.034Z"
   },
   {
    "duration": 24,
    "start_time": "2022-05-13T16:28:42.075Z"
   },
   {
    "duration": 4,
    "start_time": "2022-05-13T16:28:42.101Z"
   },
   {
    "duration": 7,
    "start_time": "2022-05-13T16:28:42.107Z"
   },
   {
    "duration": 5,
    "start_time": "2022-05-13T16:28:42.116Z"
   },
   {
    "duration": 6,
    "start_time": "2022-05-13T16:28:42.123Z"
   },
   {
    "duration": 466,
    "start_time": "2022-05-13T16:28:42.131Z"
   },
   {
    "duration": 5,
    "start_time": "2022-05-13T16:28:42.599Z"
   },
   {
    "duration": 5,
    "start_time": "2022-05-13T16:28:42.607Z"
   },
   {
    "duration": 6,
    "start_time": "2022-05-13T16:28:42.614Z"
   },
   {
    "duration": 6,
    "start_time": "2022-05-13T16:28:42.622Z"
   },
   {
    "duration": 7,
    "start_time": "2022-05-13T16:28:42.629Z"
   },
   {
    "duration": 5,
    "start_time": "2022-05-13T16:28:42.672Z"
   },
   {
    "duration": 6,
    "start_time": "2022-05-13T16:28:42.679Z"
   },
   {
    "duration": 6,
    "start_time": "2022-05-13T16:28:42.687Z"
   },
   {
    "duration": 171,
    "start_time": "2022-05-13T16:28:42.695Z"
   },
   {
    "duration": 5,
    "start_time": "2022-05-13T16:28:42.867Z"
   },
   {
    "duration": 7,
    "start_time": "2022-05-13T16:28:42.874Z"
   },
   {
    "duration": 5,
    "start_time": "2022-05-13T16:28:42.882Z"
   },
   {
    "duration": 6,
    "start_time": "2022-05-13T16:28:42.889Z"
   },
   {
    "duration": 8,
    "start_time": "2022-05-13T16:28:42.897Z"
   },
   {
    "duration": 6,
    "start_time": "2022-05-13T16:28:42.907Z"
   },
   {
    "duration": 9,
    "start_time": "2022-05-13T16:28:42.914Z"
   },
   {
    "duration": 9,
    "start_time": "2022-05-13T16:28:42.925Z"
   },
   {
    "duration": 147,
    "start_time": "2022-05-13T16:28:42.972Z"
   },
   {
    "duration": 484,
    "start_time": "2022-05-13T16:28:43.121Z"
   },
   {
    "duration": 9,
    "start_time": "2022-05-13T16:28:43.607Z"
   },
   {
    "duration": 110,
    "start_time": "2022-05-13T18:34:59.518Z"
   },
   {
    "duration": 106,
    "start_time": "2022-05-13T18:37:43.927Z"
   },
   {
    "duration": 100,
    "start_time": "2022-05-13T18:38:43.726Z"
   },
   {
    "duration": 112,
    "start_time": "2022-05-13T18:39:53.871Z"
   }
  ],
  "kernelspec": {
   "display_name": "Python 3 (ipykernel)",
   "language": "python",
   "name": "python3"
  },
  "language_info": {
   "codemirror_mode": {
    "name": "ipython",
    "version": 3
   },
   "file_extension": ".py",
   "mimetype": "text/x-python",
   "name": "python",
   "nbconvert_exporter": "python",
   "pygments_lexer": "ipython3",
   "version": "3.9.7"
  },
  "toc": {
   "base_numbering": 1,
   "nav_menu": {
    "height": "12px",
    "width": "286px"
   },
   "number_sections": true,
   "sideBar": true,
   "skip_h1_title": true,
   "title_cell": "Table of Contents",
   "title_sidebar": "Contents",
   "toc_cell": false,
   "toc_position": {},
   "toc_section_display": true,
   "toc_window_display": false
  }
 },
 "nbformat": 4,
 "nbformat_minor": 2
}
