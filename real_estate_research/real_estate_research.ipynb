{
 "cells": [
  {
   "cell_type": "markdown",
   "metadata": {
    "toc": true
   },
   "source": [
    "<h1>Содержание<span class=\"tocSkip\"></span></h1>\n",
    "<div class=\"toc\"><ul class=\"toc-item\"><li><span><a href=\"#Изучение-данных-из-файла\" data-toc-modified-id=\"Изучение-данных-из-файла-1\"><span class=\"toc-item-num\">1&nbsp;&nbsp;</span>Изучение данных из файла</a></span><ul class=\"toc-item\"><li><span><a href=\"#Вывод\" data-toc-modified-id=\"Вывод-1.1\"><span class=\"toc-item-num\">1.1&nbsp;&nbsp;</span>Вывод</a></span></li></ul></li><li><span><a href=\"#Предобработка-данных\" data-toc-modified-id=\"Предобработка-данных-2\"><span class=\"toc-item-num\">2&nbsp;&nbsp;</span>Предобработка данных</a></span><ul class=\"toc-item\"><li><span><a href=\"#Переименование-столбцов\" data-toc-modified-id=\"Переименование-столбцов-2.1\"><span class=\"toc-item-num\">2.1&nbsp;&nbsp;</span>Переименование столбцов</a></span></li><li><span><a href=\"#Работа-с-пропущенными-значениями\" data-toc-modified-id=\"Работа-с-пропущенными-значениями-2.2\"><span class=\"toc-item-num\">2.2&nbsp;&nbsp;</span>Работа с пропущенными значениями</a></span></li><li><span><a href=\"#Замена-типов-данных\" data-toc-modified-id=\"Замена-типов-данных-2.3\"><span class=\"toc-item-num\">2.3&nbsp;&nbsp;</span>Замена типов данных</a></span></li><li><span><a href=\"#Вывод\" data-toc-modified-id=\"Вывод-2.4\"><span class=\"toc-item-num\">2.4&nbsp;&nbsp;</span>Вывод</a></span></li></ul></li><li><span><a href=\"#Расчёты-и-добавление-результатов-в-таблицу\" data-toc-modified-id=\"Расчёты-и-добавление-результатов-в-таблицу-3\"><span class=\"toc-item-num\">3&nbsp;&nbsp;</span>Расчёты и добавление результатов в таблицу</a></span><ul class=\"toc-item\"><li><span><a href=\"#Вывод\" data-toc-modified-id=\"Вывод-3.1\"><span class=\"toc-item-num\">3.1&nbsp;&nbsp;</span>Вывод</a></span></li></ul></li><li><span><a href=\"#Исследовательский-анализ-данных\" data-toc-modified-id=\"Исследовательский-анализ-данных-4\"><span class=\"toc-item-num\">4&nbsp;&nbsp;</span>Исследовательский анализ данных</a></span><ul class=\"toc-item\"><li><span><a href=\"#Изучение-площади,-цены,-числа-комнат,-высоты-потолков\" data-toc-modified-id=\"Изучение-площади,-цены,-числа-комнат,-высоты-потолков-4.1\"><span class=\"toc-item-num\">4.1&nbsp;&nbsp;</span>Изучение площади, цены, числа комнат, высоты потолков</a></span></li><li><span><a href=\"#Изучение-времени-продажи-квартиры\" data-toc-modified-id=\"Изучение-времени-продажи-квартиры-4.2\"><span class=\"toc-item-num\">4.2&nbsp;&nbsp;</span>Изучение времени продажи квартиры</a></span></li><li><span><a href=\"#Удаление-редких-и-выбивающихся-значений\" data-toc-modified-id=\"Удаление-редких-и-выбивающихся-значений-4.3\"><span class=\"toc-item-num\">4.3&nbsp;&nbsp;</span>Удаление редких и выбивающихся значений</a></span></li><li><span><a href=\"#Изучение-влияния-факторов-на-стоимость-квартиры\" data-toc-modified-id=\"Изучение-влияния-факторов-на-стоимость-квартиры-4.4\"><span class=\"toc-item-num\">4.4&nbsp;&nbsp;</span>Изучение влияния факторов на стоимость квартиры</a></span></li><li><span><a href=\"#Изучение-цен-за-квадратный-метр-для-населенных-пунктов\" data-toc-modified-id=\"Изучение-цен-за-квадратный-метр-для-населенных-пунктов-4.5\"><span class=\"toc-item-num\">4.5&nbsp;&nbsp;</span>Изучение цен за квадратный метр для населенных пунктов</a></span></li><li><span><a href=\"#Определение-центральной-области\" data-toc-modified-id=\"Определение-центральной-области-4.6\"><span class=\"toc-item-num\">4.6&nbsp;&nbsp;</span>Определение центральной области</a></span></li><li><span><a href=\"#Изучение-параметров-квартир-в-центре\" data-toc-modified-id=\"Изучение-параметров-квартир-в-центре-4.7\"><span class=\"toc-item-num\">4.7&nbsp;&nbsp;</span>Изучение параметров квартир в центре</a></span></li><li><span><a href=\"#Вывод\" data-toc-modified-id=\"Вывод-4.8\"><span class=\"toc-item-num\">4.8&nbsp;&nbsp;</span>Вывод</a></span></li></ul></li><li><span><a href=\"#Общий-вывод\" data-toc-modified-id=\"Общий-вывод-5\"><span class=\"toc-item-num\">5&nbsp;&nbsp;</span>Общий вывод</a></span></li><li><span><a href=\"#Чек-лист-готовности-проекта\" data-toc-modified-id=\"Чек-лист-готовности-проекта-6\"><span class=\"toc-item-num\">6&nbsp;&nbsp;</span>Чек-лист готовности проекта</a></span></li></ul></div>"
   ]
  },
  {
   "cell_type": "markdown",
   "metadata": {},
   "source": [
    "# Исследование объявлений о продаже квартир\n",
    "\n",
    "В вашем распоряжении данные сервиса Яндекc Недвижимость — архив объявлений о продаже квартир в Санкт-Петербурге и соседних населённых пунктах за несколько лет. Нужно научиться определять рыночную стоимость объектов недвижимости. Ваша задача — установить параметры. Это позволит построить автоматизированную систему: она отследит аномалии и мошенническую деятельность. \n",
    "\n",
    "По каждой квартире на продажу доступны два вида данных. Первые вписаны пользователем, вторые получены автоматически на основе картографических данных. Например, расстояние до центра, аэропорта, ближайшего парка и водоёма. \n",
    "\n",
    "**Цель исследования:** научиться определять рыночную стоимость объектов недвижимости.\n",
    "\n",
    "**Ход исследования**\n",
    "1. Изучение данных из файла.\n",
    "2. Предобработка данных:\n",
    "* Переименование столбцов;\n",
    "* Работа с пропущенными значениями;\n",
    "* Замена типов данных.\n",
    "3. Расчеты и добавление результатов в таблицу.\n",
    "4. Исследовательский анализ данных:\n",
    "* Изучение площади, цены, числа комнат, высоты потолков;\n",
    "* Изучение времени продажи квартиры;\n",
    "* Удаление редких и выбивающихся значений;\n",
    "* Изучение влияния факторов на стоимость квартиры;\n",
    "* Изучение цен за квадратный метр для населенных пунктов;\n",
    "* Определение центральной области;\n",
    "* Изучение параметров квартир в центре."
   ]
  },
  {
   "cell_type": "markdown",
   "metadata": {},
   "source": [
    "## Изучение данных из файла"
   ]
  },
  {
   "cell_type": "markdown",
   "metadata": {},
   "source": [
    "Составим представление о предоставленных данных."
   ]
  },
  {
   "cell_type": "code",
   "execution_count": 1,
   "metadata": {},
   "outputs": [
    {
     "data": {
      "text/html": [
       "<div>\n",
       "<style scoped>\n",
       "    .dataframe tbody tr th:only-of-type {\n",
       "        vertical-align: middle;\n",
       "    }\n",
       "\n",
       "    .dataframe tbody tr th {\n",
       "        vertical-align: top;\n",
       "    }\n",
       "\n",
       "    .dataframe thead th {\n",
       "        text-align: right;\n",
       "    }\n",
       "</style>\n",
       "<table border=\"1\" class=\"dataframe\">\n",
       "  <thead>\n",
       "    <tr style=\"text-align: right;\">\n",
       "      <th></th>\n",
       "      <th>total_images\\tlast_price\\ttotal_area\\tfirst_day_exposition\\trooms\\tceiling_height\\tfloors_total\\tliving_area\\tfloor\\tis_apartment\\tstudio\\topen_plan\\tkitchen_area\\tbalcony\\tlocality_name\\tairports_nearest\\tcityCenters_nearest\\tparks_around3000\\tparks_nearest\\tponds_around3000\\tponds_nearest\\tdays_exposition</th>\n",
       "    </tr>\n",
       "  </thead>\n",
       "  <tbody>\n",
       "    <tr>\n",
       "      <th>0</th>\n",
       "      <td>20\\t13000000.0\\t108.0\\t2019-03-07T00:00:00\\t3\\...</td>\n",
       "    </tr>\n",
       "    <tr>\n",
       "      <th>1</th>\n",
       "      <td>7\\t3350000.0\\t40.4\\t2018-12-04T00:00:00\\t1\\t\\t...</td>\n",
       "    </tr>\n",
       "    <tr>\n",
       "      <th>2</th>\n",
       "      <td>10\\t5196000.0\\t56.0\\t2015-08-20T00:00:00\\t2\\t\\...</td>\n",
       "    </tr>\n",
       "    <tr>\n",
       "      <th>3</th>\n",
       "      <td>0\\t64900000.0\\t159.0\\t2015-07-24T00:00:00\\t3\\t...</td>\n",
       "    </tr>\n",
       "    <tr>\n",
       "      <th>4</th>\n",
       "      <td>2\\t10000000.0\\t100.0\\t2018-06-19T00:00:00\\t2\\t...</td>\n",
       "    </tr>\n",
       "  </tbody>\n",
       "</table>\n",
       "</div>"
      ],
      "text/plain": [
       "  total_images\\tlast_price\\ttotal_area\\tfirst_day_exposition\\trooms\\tceiling_height\\tfloors_total\\tliving_area\\tfloor\\tis_apartment\\tstudio\\topen_plan\\tkitchen_area\\tbalcony\\tlocality_name\\tairports_nearest\\tcityCenters_nearest\\tparks_around3000\\tparks_nearest\\tponds_around3000\\tponds_nearest\\tdays_exposition\n",
       "0  20\\t13000000.0\\t108.0\\t2019-03-07T00:00:00\\t3\\...                                                                                                                                                                                                                                                                  \n",
       "1  7\\t3350000.0\\t40.4\\t2018-12-04T00:00:00\\t1\\t\\t...                                                                                                                                                                                                                                                                  \n",
       "2  10\\t5196000.0\\t56.0\\t2015-08-20T00:00:00\\t2\\t\\...                                                                                                                                                                                                                                                                  \n",
       "3  0\\t64900000.0\\t159.0\\t2015-07-24T00:00:00\\t3\\t...                                                                                                                                                                                                                                                                  \n",
       "4  2\\t10000000.0\\t100.0\\t2018-06-19T00:00:00\\t2\\t...                                                                                                                                                                                                                                                                  "
      ]
     },
     "execution_count": 1,
     "metadata": {},
     "output_type": "execute_result"
    }
   ],
   "source": [
    "#импорт библиотек pandas, matplotlib, чтение файла и сохранение в переменную data, \n",
    "#вывод первых 5 строк\n",
    "import pandas as pd\n",
    "import matplotlib.pyplot as plt\n",
    "data = pd.read_csv('/datasets/real_estate_data.csv')\n",
    "data.head()"
   ]
  },
  {
   "cell_type": "markdown",
   "metadata": {},
   "source": [
    "Данные слиплись в одну строку, это произошло из-за того, что предоставленные данные в файле csv были разделены не запятыми, а знаком табуляции."
   ]
  },
  {
   "cell_type": "code",
   "execution_count": 2,
   "metadata": {},
   "outputs": [
    {
     "data": {
      "text/html": [
       "<div>\n",
       "<style scoped>\n",
       "    .dataframe tbody tr th:only-of-type {\n",
       "        vertical-align: middle;\n",
       "    }\n",
       "\n",
       "    .dataframe tbody tr th {\n",
       "        vertical-align: top;\n",
       "    }\n",
       "\n",
       "    .dataframe thead th {\n",
       "        text-align: right;\n",
       "    }\n",
       "</style>\n",
       "<table border=\"1\" class=\"dataframe\">\n",
       "  <thead>\n",
       "    <tr style=\"text-align: right;\">\n",
       "      <th></th>\n",
       "      <th>total_images</th>\n",
       "      <th>last_price</th>\n",
       "      <th>total_area</th>\n",
       "      <th>first_day_exposition</th>\n",
       "      <th>rooms</th>\n",
       "      <th>ceiling_height</th>\n",
       "      <th>floors_total</th>\n",
       "      <th>living_area</th>\n",
       "      <th>floor</th>\n",
       "      <th>is_apartment</th>\n",
       "      <th>...</th>\n",
       "      <th>kitchen_area</th>\n",
       "      <th>balcony</th>\n",
       "      <th>locality_name</th>\n",
       "      <th>airports_nearest</th>\n",
       "      <th>cityCenters_nearest</th>\n",
       "      <th>parks_around3000</th>\n",
       "      <th>parks_nearest</th>\n",
       "      <th>ponds_around3000</th>\n",
       "      <th>ponds_nearest</th>\n",
       "      <th>days_exposition</th>\n",
       "    </tr>\n",
       "  </thead>\n",
       "  <tbody>\n",
       "    <tr>\n",
       "      <th>0</th>\n",
       "      <td>20</td>\n",
       "      <td>13000000.0</td>\n",
       "      <td>108.0</td>\n",
       "      <td>2019-03-07T00:00:00</td>\n",
       "      <td>3</td>\n",
       "      <td>2.70</td>\n",
       "      <td>16.0</td>\n",
       "      <td>51.0</td>\n",
       "      <td>8</td>\n",
       "      <td>NaN</td>\n",
       "      <td>...</td>\n",
       "      <td>25.0</td>\n",
       "      <td>NaN</td>\n",
       "      <td>Санкт-Петербург</td>\n",
       "      <td>18863.0</td>\n",
       "      <td>16028.0</td>\n",
       "      <td>1.0</td>\n",
       "      <td>482.0</td>\n",
       "      <td>2.0</td>\n",
       "      <td>755.0</td>\n",
       "      <td>NaN</td>\n",
       "    </tr>\n",
       "    <tr>\n",
       "      <th>1</th>\n",
       "      <td>7</td>\n",
       "      <td>3350000.0</td>\n",
       "      <td>40.4</td>\n",
       "      <td>2018-12-04T00:00:00</td>\n",
       "      <td>1</td>\n",
       "      <td>NaN</td>\n",
       "      <td>11.0</td>\n",
       "      <td>18.6</td>\n",
       "      <td>1</td>\n",
       "      <td>NaN</td>\n",
       "      <td>...</td>\n",
       "      <td>11.0</td>\n",
       "      <td>2.0</td>\n",
       "      <td>посёлок Шушары</td>\n",
       "      <td>12817.0</td>\n",
       "      <td>18603.0</td>\n",
       "      <td>0.0</td>\n",
       "      <td>NaN</td>\n",
       "      <td>0.0</td>\n",
       "      <td>NaN</td>\n",
       "      <td>81.0</td>\n",
       "    </tr>\n",
       "    <tr>\n",
       "      <th>2</th>\n",
       "      <td>10</td>\n",
       "      <td>5196000.0</td>\n",
       "      <td>56.0</td>\n",
       "      <td>2015-08-20T00:00:00</td>\n",
       "      <td>2</td>\n",
       "      <td>NaN</td>\n",
       "      <td>5.0</td>\n",
       "      <td>34.3</td>\n",
       "      <td>4</td>\n",
       "      <td>NaN</td>\n",
       "      <td>...</td>\n",
       "      <td>8.3</td>\n",
       "      <td>0.0</td>\n",
       "      <td>Санкт-Петербург</td>\n",
       "      <td>21741.0</td>\n",
       "      <td>13933.0</td>\n",
       "      <td>1.0</td>\n",
       "      <td>90.0</td>\n",
       "      <td>2.0</td>\n",
       "      <td>574.0</td>\n",
       "      <td>558.0</td>\n",
       "    </tr>\n",
       "    <tr>\n",
       "      <th>3</th>\n",
       "      <td>0</td>\n",
       "      <td>64900000.0</td>\n",
       "      <td>159.0</td>\n",
       "      <td>2015-07-24T00:00:00</td>\n",
       "      <td>3</td>\n",
       "      <td>NaN</td>\n",
       "      <td>14.0</td>\n",
       "      <td>NaN</td>\n",
       "      <td>9</td>\n",
       "      <td>NaN</td>\n",
       "      <td>...</td>\n",
       "      <td>NaN</td>\n",
       "      <td>0.0</td>\n",
       "      <td>Санкт-Петербург</td>\n",
       "      <td>28098.0</td>\n",
       "      <td>6800.0</td>\n",
       "      <td>2.0</td>\n",
       "      <td>84.0</td>\n",
       "      <td>3.0</td>\n",
       "      <td>234.0</td>\n",
       "      <td>424.0</td>\n",
       "    </tr>\n",
       "    <tr>\n",
       "      <th>4</th>\n",
       "      <td>2</td>\n",
       "      <td>10000000.0</td>\n",
       "      <td>100.0</td>\n",
       "      <td>2018-06-19T00:00:00</td>\n",
       "      <td>2</td>\n",
       "      <td>3.03</td>\n",
       "      <td>14.0</td>\n",
       "      <td>32.0</td>\n",
       "      <td>13</td>\n",
       "      <td>NaN</td>\n",
       "      <td>...</td>\n",
       "      <td>41.0</td>\n",
       "      <td>NaN</td>\n",
       "      <td>Санкт-Петербург</td>\n",
       "      <td>31856.0</td>\n",
       "      <td>8098.0</td>\n",
       "      <td>2.0</td>\n",
       "      <td>112.0</td>\n",
       "      <td>1.0</td>\n",
       "      <td>48.0</td>\n",
       "      <td>121.0</td>\n",
       "    </tr>\n",
       "  </tbody>\n",
       "</table>\n",
       "<p>5 rows × 22 columns</p>\n",
       "</div>"
      ],
      "text/plain": [
       "   total_images  last_price  total_area first_day_exposition  rooms  \\\n",
       "0            20  13000000.0       108.0  2019-03-07T00:00:00      3   \n",
       "1             7   3350000.0        40.4  2018-12-04T00:00:00      1   \n",
       "2            10   5196000.0        56.0  2015-08-20T00:00:00      2   \n",
       "3             0  64900000.0       159.0  2015-07-24T00:00:00      3   \n",
       "4             2  10000000.0       100.0  2018-06-19T00:00:00      2   \n",
       "\n",
       "   ceiling_height  floors_total  living_area  floor is_apartment  ...  \\\n",
       "0            2.70          16.0         51.0      8          NaN  ...   \n",
       "1             NaN          11.0         18.6      1          NaN  ...   \n",
       "2             NaN           5.0         34.3      4          NaN  ...   \n",
       "3             NaN          14.0          NaN      9          NaN  ...   \n",
       "4            3.03          14.0         32.0     13          NaN  ...   \n",
       "\n",
       "   kitchen_area  balcony    locality_name  airports_nearest  \\\n",
       "0          25.0      NaN  Санкт-Петербург           18863.0   \n",
       "1          11.0      2.0   посёлок Шушары           12817.0   \n",
       "2           8.3      0.0  Санкт-Петербург           21741.0   \n",
       "3           NaN      0.0  Санкт-Петербург           28098.0   \n",
       "4          41.0      NaN  Санкт-Петербург           31856.0   \n",
       "\n",
       "  cityCenters_nearest  parks_around3000  parks_nearest  ponds_around3000  \\\n",
       "0             16028.0               1.0          482.0               2.0   \n",
       "1             18603.0               0.0            NaN               0.0   \n",
       "2             13933.0               1.0           90.0               2.0   \n",
       "3              6800.0               2.0           84.0               3.0   \n",
       "4              8098.0               2.0          112.0               1.0   \n",
       "\n",
       "   ponds_nearest  days_exposition  \n",
       "0          755.0              NaN  \n",
       "1            NaN             81.0  \n",
       "2          574.0            558.0  \n",
       "3          234.0            424.0  \n",
       "4           48.0            121.0  \n",
       "\n",
       "[5 rows x 22 columns]"
      ]
     },
     "execution_count": 2,
     "metadata": {},
     "output_type": "execute_result"
    }
   ],
   "source": [
    "#чтение файла и сохранение в переменную data, вывод первых 5 строк\n",
    "data = pd.read_csv('/datasets/real_estate_data.csv', sep='\\t')\n",
    "data.head()"
   ]
  },
  {
   "cell_type": "code",
   "execution_count": 3,
   "metadata": {},
   "outputs": [
    {
     "name": "stdout",
     "output_type": "stream",
     "text": [
      "<class 'pandas.core.frame.DataFrame'>\n",
      "RangeIndex: 23699 entries, 0 to 23698\n",
      "Data columns (total 22 columns):\n",
      " #   Column                Non-Null Count  Dtype  \n",
      "---  ------                --------------  -----  \n",
      " 0   total_images          23699 non-null  int64  \n",
      " 1   last_price            23699 non-null  float64\n",
      " 2   total_area            23699 non-null  float64\n",
      " 3   first_day_exposition  23699 non-null  object \n",
      " 4   rooms                 23699 non-null  int64  \n",
      " 5   ceiling_height        14504 non-null  float64\n",
      " 6   floors_total          23613 non-null  float64\n",
      " 7   living_area           21796 non-null  float64\n",
      " 8   floor                 23699 non-null  int64  \n",
      " 9   is_apartment          2775 non-null   object \n",
      " 10  studio                23699 non-null  bool   \n",
      " 11  open_plan             23699 non-null  bool   \n",
      " 12  kitchen_area          21421 non-null  float64\n",
      " 13  balcony               12180 non-null  float64\n",
      " 14  locality_name         23650 non-null  object \n",
      " 15  airports_nearest      18157 non-null  float64\n",
      " 16  cityCenters_nearest   18180 non-null  float64\n",
      " 17  parks_around3000      18181 non-null  float64\n",
      " 18  parks_nearest         8079 non-null   float64\n",
      " 19  ponds_around3000      18181 non-null  float64\n",
      " 20  ponds_nearest         9110 non-null   float64\n",
      " 21  days_exposition       20518 non-null  float64\n",
      "dtypes: bool(2), float64(14), int64(3), object(3)\n",
      "memory usage: 3.7+ MB\n"
     ]
    }
   ],
   "source": [
    "#получение информации о данных\n",
    "data.info()"
   ]
  },
  {
   "cell_type": "markdown",
   "metadata": {},
   "source": [
    "Таблица состоит из 22 столбцов, согласно документации и полученной информации:\n",
    "* `total_images` - число фотографий квартиры в объявлении, тип данных - `int`;\n",
    "* `last_price` - цена на момент снятия с публикации, тип данных - `float`;\n",
    "* `total_area` - площадь квартиры в квадратных метрах (м²), тип данных - `float`;\n",
    "* `first_day_exposition` - дата публикации, тип данных - `object`;\n",
    "* `rooms` - число комнат, тип данных - `int`;\n",
    "* `ceiling_height` - высота потолков (м), тип данных - `float`;\n",
    "* `floors_total` - всего этажей в доме, тип данных - `float`;\n",
    "* `living_area` - жилая площадь в квадратных метрах (м²), тип данных - `float`;\n",
    "* `floor` - этаж, тип данных - `int`;\n",
    "* `is_apartment` - апартаменты (булев тип), тип данных - `object`;\n",
    "* `studio` - квартира-студия (булев тип), тип данных - `bool`;\n",
    "* `open_plan` - свободная планировка (булев тип), тип данных - `bool`;\n",
    "* `kitchen_area` - площадь кухни в квадратных метрах (м²), тип данных - `float`;\n",
    "* `balcony`- число балконов, тип данных - `float`;\n",
    "* `locality_name` - название населённого пункта, тип данных - `object`;\n",
    "* `airports_nearest` - расстояние до ближайшего аэропорта в метрах (м), тип данных - `float`;\n",
    "* `cityCenters_nearest` - расстояние до центра города (м), тип данных - `float`;\n",
    "* `parks_around3000` - число парков в радиусе 3 км, тип данных - `float`;\n",
    "* `parks_nearest` - расстояние до ближайшего парка (м), тип данных - `float`;\n",
    "* `ponds_around3000` - число водоёмов в радиусе 3 км, тип данных - `float`;\n",
    "* `ponds_nearest` - расстояние до ближайшего водоёма (м), тип данных - `float`;\n",
    "* `days_exposition` - сколько дней было размещено объявление (от публикации до снятия), тип данных - `float`."
   ]
  },
  {
   "cell_type": "markdown",
   "metadata": {},
   "source": [
    "### Вывод"
   ]
  },
  {
   "cell_type": "markdown",
   "metadata": {},
   "source": [
    "На данном этапе был прочитан предоставленный файл, данные и информация о них были изучены.\n",
    "* Название столбцов `cityCenters_nearest`, `parks_around3000`, `ponds_around3000` нужно привести к змеиному регистру.\n",
    "* Количество записей в столбце совпадает с количеством записей в таблице только для столбцов `total_images`, `last_price`, `total_area`, `first_day_exposition`, `rooms`, `floor`, `studio` и `open_plan`, следовательно, в этих столбцах нет пропусков значений, в остальных же столбцах пропуски присутствуют. \n",
    "* Нужно заменить тип данных в столбце `first_day_exposition` на `datetime`, в столбце `is_apartment` на `bool`, а в столбцах `floors_total`, `balcony`, `parks_around_3000`, `ponds_around_3000` на `int`."
   ]
  },
  {
   "cell_type": "markdown",
   "metadata": {},
   "source": [
    "## Предобработка данных"
   ]
  },
  {
   "cell_type": "markdown",
   "metadata": {},
   "source": [
    "### Переименование столбцов"
   ]
  },
  {
   "cell_type": "markdown",
   "metadata": {},
   "source": [
    "Приведем все названия столбцов к змеиному регистру."
   ]
  },
  {
   "cell_type": "code",
   "execution_count": 4,
   "metadata": {
    "scrolled": false
   },
   "outputs": [
    {
     "data": {
      "text/plain": [
       "Index(['total_images', 'last_price', 'total_area', 'first_day_exposition',\n",
       "       'rooms', 'ceiling_height', 'floors_total', 'living_area', 'floor',\n",
       "       'is_apartment', 'studio', 'open_plan', 'kitchen_area', 'balcony',\n",
       "       'locality_name', 'airports_nearest', 'city_centers_nearest',\n",
       "       'parks_around_3000', 'parks_nearest', 'ponds_around_3000',\n",
       "       'ponds_nearest', 'days_exposition'],\n",
       "      dtype='object')"
      ]
     },
     "execution_count": 4,
     "metadata": {},
     "output_type": "execute_result"
    }
   ],
   "source": [
    "#переименование столбцов cityCenters_nearest, parks_around3000, ponds_around3000\n",
    "data = data.rename(columns = {\n",
    "    'cityCenters_nearest': 'city_centers_nearest',\n",
    "    'parks_around3000': 'parks_around_3000',\n",
    "    'ponds_around3000': 'ponds_around_3000'\n",
    "})\n",
    "#вывод названий столбцов\n",
    "data.columns"
   ]
  },
  {
   "cell_type": "markdown",
   "metadata": {},
   "source": [
    "### Работа с пропущенными значениями"
   ]
  },
  {
   "cell_type": "markdown",
   "metadata": {},
   "source": [
    "На этапе изучения данных было выяснено, что в 14 столбцах есть пропущенные значения. Рассмотрим каждый из них."
   ]
  },
  {
   "cell_type": "markdown",
   "metadata": {},
   "source": [
    "1. `ceiling_height`\n",
    "\n",
    "Оценим долю пропущенных значений."
   ]
  },
  {
   "cell_type": "code",
   "execution_count": 5,
   "metadata": {},
   "outputs": [
    {
     "data": {
      "text/plain": [
       "0.38799105447487237"
      ]
     },
     "execution_count": 5,
     "metadata": {},
     "output_type": "execute_result"
    }
   ],
   "source": [
    "#делим количество пропущенных значений на количество записей в таблице\n",
    "len(data[data['ceiling_height'].isna()]) / len(data)"
   ]
  },
  {
   "cell_type": "markdown",
   "metadata": {},
   "source": [
    "Почти 39% пропусков, избавиться от них нельзя, заполнить тоже никаким образом невозможно. Скорее всего, пропуски возникли из-за ошибки в системе или из-за ошибки при выгрузке данных, либо эти данные не были указаны или заполнены некорректно. "
   ]
  },
  {
   "cell_type": "markdown",
   "metadata": {},
   "source": [
    "2. `floors_total`\n",
    "\n",
    "Посмотрим на количество пропусков."
   ]
  },
  {
   "cell_type": "code",
   "execution_count": 6,
   "metadata": {},
   "outputs": [
    {
     "data": {
      "text/plain": [
       "0.0036288450989493226"
      ]
     },
     "execution_count": 6,
     "metadata": {},
     "output_type": "execute_result"
    }
   ],
   "source": [
    "#делим количество пропущенных значений на количество записей в таблице\n",
    "len(data[data['floors_total'].isna()]) / len(data)"
   ]
  },
  {
   "cell_type": "markdown",
   "metadata": {},
   "source": [
    "Всего 0.36% значений от всей таблицы, удалим эти строки."
   ]
  },
  {
   "cell_type": "code",
   "execution_count": 7,
   "metadata": {},
   "outputs": [
    {
     "data": {
      "text/plain": [
       "0"
      ]
     },
     "execution_count": 7,
     "metadata": {},
     "output_type": "execute_result"
    }
   ],
   "source": [
    "#удаление пропусков в столбце floors_total, восстановление индексации\n",
    "data = data.dropna(subset=['floors_total']).reset_index(drop=True)\n",
    "#проверка на отсутствие пропущенных значений\n",
    "len(data[data['floors_total'].isna()])"
   ]
  },
  {
   "cell_type": "markdown",
   "metadata": {},
   "source": [
    "Пропуски могли образоваться из-за ошибки в системе или из-за ошибки при выгрузке данных, эти данные могли быть не были указаны при подаче объявления либо заполнены некорректно."
   ]
  },
  {
   "cell_type": "markdown",
   "metadata": {},
   "source": [
    "3. `living_area`\n",
    "\n",
    "Рассмотрим процент пропусков."
   ]
  },
  {
   "cell_type": "code",
   "execution_count": 8,
   "metadata": {},
   "outputs": [
    {
     "data": {
      "text/plain": [
       "0.07919366450683946"
      ]
     },
     "execution_count": 8,
     "metadata": {},
     "output_type": "execute_result"
    }
   ],
   "source": [
    "#делим количество пропущенных значений на количество записей в таблице\n",
    "len(data[data['living_area'].isna()]) / len(data)"
   ]
  },
  {
   "cell_type": "markdown",
   "metadata": {},
   "source": [
    "8% слишком много, чтобы избавиться от этих данных. Скорее всего, пропущенные значения могли образоваться из-за того, что жилая площадь была по каким-то причинам не указана при подаче объявления или из-за ошибки в системе или при выгрузке данных. Заполнить эти данные нельзя никакими значениями, потому оставим пропуски.  "
   ]
  },
  {
   "cell_type": "markdown",
   "metadata": {},
   "source": [
    "4. `is_apartment`\n",
    "\n",
    "Оценим долю пропусков в столбце."
   ]
  },
  {
   "cell_type": "code",
   "execution_count": 9,
   "metadata": {},
   "outputs": [
    {
     "data": {
      "text/plain": [
       "0.8824799898361072"
      ]
     },
     "execution_count": 9,
     "metadata": {},
     "output_type": "execute_result"
    }
   ],
   "source": [
    "#делим количество пропущенных значений на количество записей в таблице\n",
    "len(data[data['is_apartment'].isna()]) / len(data)"
   ]
  },
  {
   "cell_type": "markdown",
   "metadata": {},
   "source": [
    "88% пропущенных значений для столбца похоже на ошибку в системе, при заполнении или при выгрузке. Оставим пропущенные значения на своих местах."
   ]
  },
  {
   "cell_type": "markdown",
   "metadata": {},
   "source": [
    "5. `kitchen_area`\n",
    "\n",
    "Посмотрим количество пропущенных значений."
   ]
  },
  {
   "cell_type": "code",
   "execution_count": 10,
   "metadata": {},
   "outputs": [
    {
     "data": {
      "text/plain": [
       "0.09448185321644857"
      ]
     },
     "execution_count": 10,
     "metadata": {},
     "output_type": "execute_result"
    }
   ],
   "source": [
    "#делим количество пропущенных значений на количество записей в таблице\n",
    "len(data[data['kitchen_area'].isna()]) / len(data)"
   ]
  },
  {
   "cell_type": "markdown",
   "metadata": {},
   "source": [
    "Скорее всего, в столбце присутствуют пропуски для квартир со свободной планировкой или квартир-студий. Сравним количество пропусков в столбце и количество записей о квартирах со свободной планировкой или о студиях и с пропуском в столбце `kitchen_area`."
   ]
  },
  {
   "cell_type": "code",
   "execution_count": 11,
   "metadata": {},
   "outputs": [
    {
     "data": {
      "text/plain": [
       "2231"
      ]
     },
     "execution_count": 11,
     "metadata": {},
     "output_type": "execute_result"
    }
   ],
   "source": [
    "#количество пропусков в столбце kitchen_area\n",
    "len(data[data['kitchen_area'].isna()])"
   ]
  },
  {
   "cell_type": "code",
   "execution_count": 12,
   "metadata": {},
   "outputs": [
    {
     "data": {
      "text/plain": [
       "213"
      ]
     },
     "execution_count": 12,
     "metadata": {},
     "output_type": "execute_result"
    }
   ],
   "source": [
    "#количество записей о квартирах со свободной планировкой или о студиях\n",
    "#и с пропуском в столбце kitchen_area\n",
    "len(data[((data['open_plan']==True) | (data['studio']==True)) & (data['kitchen_area'].isna())])"
   ]
  },
  {
   "cell_type": "code",
   "execution_count": 13,
   "metadata": {},
   "outputs": [
    {
     "data": {
      "text/plain": [
       "213"
      ]
     },
     "execution_count": 13,
     "metadata": {},
     "output_type": "execute_result"
    }
   ],
   "source": [
    "#количество записей о квартирах со свободной планировкой или о студиях\n",
    "len(data[(data['studio']==True) | (data['open_plan']==True)])"
   ]
  },
  {
   "cell_type": "markdown",
   "metadata": {},
   "source": [
    "Количество записей о квартирах-студиях или квартирах со свободной планировкой совпадает с количеством записей о квартирах-студиях или квартирах со свободной планировкой и с пропуском в столбце `kitchen_area`, следовательно, для таких квартир действительно отсутствуют данные о площади кухни, но это количество все равно меньше количества всех пропусков в столбце `kitchen_area`. Значит, пропуски могут быть связаны также с тем, что либо площадь кухни не была указана по какой-то причине изначально, либо же произошла какая-то ошибка в системе или при выгрузке данных. В любом случае, оставим значения NaN на своих местах."
   ]
  },
  {
   "cell_type": "markdown",
   "metadata": {},
   "source": [
    "6. `balcony`\n",
    "\n",
    "Если число балконов не указано, скорее всего, в квартире нет балконов. Заполним пропуски значением 0."
   ]
  },
  {
   "cell_type": "code",
   "execution_count": 14,
   "metadata": {},
   "outputs": [
    {
     "data": {
      "text/plain": [
       "0"
      ]
     },
     "execution_count": 14,
     "metadata": {},
     "output_type": "execute_result"
    }
   ],
   "source": [
    "#заполнение пропусков значением 0\n",
    "data['balcony'] = data['balcony'].fillna(0)\n",
    "#проверка на отсутствие пропусков\n",
    "len(data[data['balcony'].isna()])"
   ]
  },
  {
   "cell_type": "markdown",
   "metadata": {},
   "source": [
    "7. `locality_name`\n",
    "\n",
    "Оценим количество пропусков. "
   ]
  },
  {
   "cell_type": "code",
   "execution_count": 15,
   "metadata": {},
   "outputs": [
    {
     "data": {
      "text/plain": [
       "0.002032778554186253"
      ]
     },
     "execution_count": 15,
     "metadata": {},
     "output_type": "execute_result"
    }
   ],
   "source": [
    "#делим количество пропущенных значений на количество записей в таблице\n",
    "len(data[data['locality_name'].isna()]) / len(data)"
   ]
  },
  {
   "cell_type": "markdown",
   "metadata": {},
   "source": [
    "Всего 0.2% можно удалить без вреда."
   ]
  },
  {
   "cell_type": "code",
   "execution_count": 16,
   "metadata": {},
   "outputs": [
    {
     "data": {
      "text/plain": [
       "0"
      ]
     },
     "execution_count": 16,
     "metadata": {},
     "output_type": "execute_result"
    }
   ],
   "source": [
    "#удаление пропусков в столбце locality_name, восстановление индексации\n",
    "data = data.dropna(subset=['locality_name']).reset_index(drop=True)\n",
    "#проверка на отсутствие пропущенных значений\n",
    "len(data[data['locality_name'].isna()])"
   ]
  },
  {
   "cell_type": "markdown",
   "metadata": {},
   "source": [
    "8. `airports_nearest`\n",
    "\n",
    "Посмотрим на долю пропусков в столбце."
   ]
  },
  {
   "cell_type": "code",
   "execution_count": 17,
   "metadata": {},
   "outputs": [
    {
     "data": {
      "text/plain": [
       "0.2344154466369616"
      ]
     },
     "execution_count": 17,
     "metadata": {},
     "output_type": "execute_result"
    }
   ],
   "source": [
    "#делим количество пропущенных значений на количество записей в таблице\n",
    "len(data[data['airports_nearest'].isna()]) / len(data)"
   ]
  },
  {
   "cell_type": "markdown",
   "metadata": {},
   "source": [
    "23% данных пропущены, они могли быть потеряны при подаче объявления или из-за ошибки в системе/при выгрузке данных. Пропущенные значения восстановить невозможно, оставим все как есть."
   ]
  },
  {
   "cell_type": "markdown",
   "metadata": {},
   "source": [
    "9. `city_centers_nearest`\n",
    "\n",
    "Оценим процент пропущенных значений."
   ]
  },
  {
   "cell_type": "code",
   "execution_count": 18,
   "metadata": {},
   "outputs": [
    {
     "data": {
      "text/plain": [
       "0.23343942287290473"
      ]
     },
     "execution_count": 18,
     "metadata": {},
     "output_type": "execute_result"
    }
   ],
   "source": [
    "#делим количество пропущенных значений на количество записей в таблице\n",
    "len(data[data['city_centers_nearest'].isna()]) / len(data)"
   ]
  },
  {
   "cell_type": "markdown",
   "metadata": {},
   "source": [
    "23% данных могли быть пропущены при подаче объявления или из-за ошибки в системе или при выгрузке данных. Пропущенные значения восстановить невозможно, оставим их на своих местах."
   ]
  },
  {
   "cell_type": "markdown",
   "metadata": {},
   "source": [
    "10. `parks_around_3000`\n",
    "\n",
    "Скорее всего, пропуск значения в столбце `parks_around_3000` означает отсутствие парка в радиусе 3 км. Заполним пропуски значением 0."
   ]
  },
  {
   "cell_type": "code",
   "execution_count": 19,
   "metadata": {},
   "outputs": [
    {
     "data": {
      "text/plain": [
       "0"
      ]
     },
     "execution_count": 19,
     "metadata": {},
     "output_type": "execute_result"
    }
   ],
   "source": [
    "#заполнение пропусков значением 0\n",
    "data['parks_around_3000'] = data['parks_around_3000'].fillna(0)\n",
    "#проверка на отсутствие пропусков\n",
    "len(data[data['parks_around_3000'].isna()])"
   ]
  },
  {
   "cell_type": "markdown",
   "metadata": {},
   "source": [
    "11. `parks_nearest`\n",
    "\n",
    "Возможно, отсутствие значения связано с отсутствием парка в радиусе 3 км."
   ]
  },
  {
   "cell_type": "code",
   "execution_count": 20,
   "metadata": {},
   "outputs": [
    {
     "data": {
      "text/plain": [
       "15535"
      ]
     },
     "execution_count": 20,
     "metadata": {},
     "output_type": "execute_result"
    }
   ],
   "source": [
    "#количество пропусков в столбце parks_nearest\n",
    "len(data[data['parks_nearest'].isna()])"
   ]
  },
  {
   "cell_type": "code",
   "execution_count": 21,
   "metadata": {},
   "outputs": [
    {
     "data": {
      "text/plain": [
       "15535"
      ]
     },
     "execution_count": 21,
     "metadata": {},
     "output_type": "execute_result"
    }
   ],
   "source": [
    "#количество записей, для которых в столбце parks_nearest пропуск и в столбце parks_around_3000 0\n",
    "len(data[(data['parks_nearest'].isna()) & (data['parks_around_3000'] == 0)])"
   ]
  },
  {
   "cell_type": "markdown",
   "metadata": {},
   "source": [
    "Следовательно, для всех пропусков в столбце `parks_nearest` справедливо отсутствие парка в радиусе 3 км. Пропуски оставим на своих местах."
   ]
  },
  {
   "cell_type": "markdown",
   "metadata": {},
   "source": [
    "12. `ponds_around_3000` \n",
    "\n",
    "Скорее всего, пропуск значения в столбце `ponds_around_3000` означает отсутствие водоема в радиусе 3 км. Заполним пропуски значением 0."
   ]
  },
  {
   "cell_type": "code",
   "execution_count": 22,
   "metadata": {},
   "outputs": [
    {
     "data": {
      "text/plain": [
       "0"
      ]
     },
     "execution_count": 22,
     "metadata": {},
     "output_type": "execute_result"
    }
   ],
   "source": [
    "#заполнение пропусков значением 0\n",
    "data['ponds_around_3000'] = data['ponds_around_3000'].fillna(0)\n",
    "#проверка на отсутствие пропусков\n",
    "len(data[data['ponds_around_3000'].isna()])"
   ]
  },
  {
   "cell_type": "markdown",
   "metadata": {},
   "source": [
    "13. `ponds_nearest` \n",
    "\n",
    "Возможно, отсутствие значения связано с отсутствием водоема в радиусе 3 км."
   ]
  },
  {
   "cell_type": "code",
   "execution_count": 23,
   "metadata": {},
   "outputs": [
    {
     "data": {
      "text/plain": [
       "14529"
      ]
     },
     "execution_count": 23,
     "metadata": {},
     "output_type": "execute_result"
    }
   ],
   "source": [
    "#количество пропусков в столбце ponds_nearest\n",
    "len(data[data['ponds_nearest'].isna()])"
   ]
  },
  {
   "cell_type": "code",
   "execution_count": 24,
   "metadata": {},
   "outputs": [
    {
     "data": {
      "text/plain": [
       "14529"
      ]
     },
     "execution_count": 24,
     "metadata": {},
     "output_type": "execute_result"
    }
   ],
   "source": [
    "#количество записей, для которых в столбце ponds_nearest пропуск и в столбце ponds_around_3000 0\n",
    "len(data[(data['ponds_nearest'].isna()) & (data['ponds_around_3000'] == 0)])"
   ]
  },
  {
   "cell_type": "markdown",
   "metadata": {},
   "source": [
    "Следовательно, для всех пропусков в столбце `ponds_nearest` справедливо отсутствие водоема в радиусе 3 км. Пропуски оставим на своих местах."
   ]
  },
  {
   "cell_type": "markdown",
   "metadata": {},
   "source": [
    "14. `days_exposition`\n",
    "\n",
    "Оценим процент пропущенных значений."
   ]
  },
  {
   "cell_type": "code",
   "execution_count": 25,
   "metadata": {
    "scrolled": true
   },
   "outputs": [
    {
     "data": {
      "text/plain": [
       "0.13456397199236156"
      ]
     },
     "execution_count": 25,
     "metadata": {},
     "output_type": "execute_result"
    }
   ],
   "source": [
    "#делим количество пропущенных значений на количество записей в таблице\n",
    "len(data[data['days_exposition'].isna()]) / len(data)"
   ]
  },
  {
   "cell_type": "markdown",
   "metadata": {},
   "source": [
    "Пропуски в этом столбце могут быть связаны с тем, что объявление не было снято на момент выгрузки данных, либо с ошибкой в системе, либо с ошибкой при выгрузке данных. Оставим пропуски на своих местах."
   ]
  },
  {
   "cell_type": "markdown",
   "metadata": {},
   "source": [
    "### Замена типов данных"
   ]
  },
  {
   "cell_type": "markdown",
   "metadata": {},
   "source": [
    "Заменим тип данных в столбце `is_apartment` на `bool`, в столбце `first_day_exposition` на `datetime`, `floors_total`, `balcony`, `parks_around_3000`, `ponds_around_3000` на `int` (количество этажей, балконов, парков, водоемов и дней - это целое число)."
   ]
  },
  {
   "cell_type": "code",
   "execution_count": 26,
   "metadata": {
    "scrolled": true
   },
   "outputs": [
    {
     "name": "stdout",
     "output_type": "stream",
     "text": [
      "<class 'pandas.core.frame.DataFrame'>\n",
      "RangeIndex: 23565 entries, 0 to 23564\n",
      "Data columns (total 22 columns):\n",
      " #   Column                Non-Null Count  Dtype         \n",
      "---  ------                --------------  -----         \n",
      " 0   total_images          23565 non-null  int64         \n",
      " 1   last_price            23565 non-null  float64       \n",
      " 2   total_area            23565 non-null  float64       \n",
      " 3   first_day_exposition  23565 non-null  datetime64[ns]\n",
      " 4   rooms                 23565 non-null  int64         \n",
      " 5   ceiling_height        14481 non-null  float64       \n",
      " 6   floors_total          23565 non-null  int64         \n",
      " 7   living_area           21700 non-null  float64       \n",
      " 8   floor                 23565 non-null  int64         \n",
      " 9   is_apartment          23565 non-null  bool          \n",
      " 10  studio                23565 non-null  bool          \n",
      " 11  open_plan             23565 non-null  bool          \n",
      " 12  kitchen_area          21343 non-null  float64       \n",
      " 13  balcony               23565 non-null  int64         \n",
      " 14  locality_name         23565 non-null  object        \n",
      " 15  airports_nearest      18041 non-null  float64       \n",
      " 16  city_centers_nearest  18064 non-null  float64       \n",
      " 17  parks_around_3000     23565 non-null  int64         \n",
      " 18  parks_nearest         8030 non-null   float64       \n",
      " 19  ponds_around_3000     23565 non-null  int64         \n",
      " 20  ponds_nearest         9036 non-null   float64       \n",
      " 21  days_exposition       20394 non-null  float64       \n",
      "dtypes: bool(3), datetime64[ns](1), float64(10), int64(7), object(1)\n",
      "memory usage: 3.5+ MB\n"
     ]
    }
   ],
   "source": [
    "#замена типа на bool\n",
    "data['is_apartment'] = data['is_apartment'].astype('bool')\n",
    "#замена типа на datetime\n",
    "data['first_day_exposition'] = pd.to_datetime(\n",
    "    data['first_day_exposition'],\n",
    "    format='%Y-%m-%dT%H:%M:%S'\n",
    ")\n",
    "#замена типа на int\n",
    "data[['floors_total',\n",
    "      'balcony',\n",
    "      'parks_around_3000', \n",
    "      'ponds_around_3000']] = data[['floors_total',\n",
    "                                    'balcony', \n",
    "                                    'parks_around_3000',\n",
    "                                    'ponds_around_3000']].astype('int')\n",
    "\n",
    "#получение обновленной информации о таблице\n",
    "data.info()"
   ]
  },
  {
   "cell_type": "markdown",
   "metadata": {},
   "source": [
    "### Вывод"
   ]
  },
  {
   "cell_type": "markdown",
   "metadata": {},
   "source": [
    "На этапе предобработки данных:\n",
    "* Заменены названия 3 столбцов: `cityCenters_nearest` на `city_centers_nearest`, `parks_around3000` на `parks_around_3000`, `ponds_around3000` на `ponds_around_3000`;\n",
    "* Найдены пропущенные значения в 14 столбцах, в столбцах `balcony`, `parks_around_3000`, `ponds_around_3000` была предположена и проведена замена пропусков, в столбцах `floors_total` и `locality_name` было очень мало пропусков, потому такие записи были удалены, для остальных столбцов с пропущенными значениями логичной замены нельзя предположить.\n",
    "* Изменены типы данных в столбце `is_apartment` с `object` на `bool`, в столбце `first_day_exposition` с `object` на `datetime`, в столбцах `floors_total`, `balcony`, `parks_around_3000`, `ponds_around_3000` с `float` на `int`."
   ]
  },
  {
   "cell_type": "markdown",
   "metadata": {},
   "source": [
    "## Расчёты и добавление результатов в таблицу"
   ]
  },
  {
   "cell_type": "markdown",
   "metadata": {},
   "source": [
    "Посчитаем и добавим в таблицу:\n",
    "* цену квадратного метра;\n",
    "* день недели, месяц и год публикации объявления;\n",
    "* этаж квартиры (первый/последний/другой);\n",
    "* соотношение жилой и общей площади, а также отношение площади кухни к общей.\n",
    "\n",
    "Начнем с цены за квадратный метр, для этого нужно поделить значения столбца `last_price` на значение `total_area`."
   ]
  },
  {
   "cell_type": "code",
   "execution_count": 27,
   "metadata": {},
   "outputs": [],
   "source": [
    "#вычисляем цену за квадратный метр, округляем до 2 знаков после запятой, \n",
    "#добавляем результат в новый столбец\n",
    "data['price_per_square_meter'] = round(data['last_price'] / data['total_area'], 2)"
   ]
  },
  {
   "cell_type": "markdown",
   "metadata": {},
   "source": [
    "День недели публикации найдем с помощью метода `dt.weekday`, месяц - с помощью `dt.month`, год - с помощью `dt.year`."
   ]
  },
  {
   "cell_type": "code",
   "execution_count": 28,
   "metadata": {},
   "outputs": [],
   "source": [
    "#ищем день недели, месяц и год и добавляем в новые столбцы\n",
    "data['weekday_exposition'] = data['first_day_exposition'].dt.weekday\n",
    "data['month_exposition'] = data['first_day_exposition'].dt.month\n",
    "data['year_exposition'] = data['first_day_exposition'].dt.year"
   ]
  },
  {
   "cell_type": "markdown",
   "metadata": {},
   "source": [
    "Для указания этажа квартиры создадим функцию, которая будет возвращать нужную категорию, а затем применим эту функцию к строкам."
   ]
  },
  {
   "cell_type": "code",
   "execution_count": 29,
   "metadata": {},
   "outputs": [],
   "source": [
    "#функция, которая принимает на вход строку таблицы и возвращает категорию этажа\n",
    "def floor_category(row):\n",
    "    if row['floor'] == 1:\n",
    "        return 'первый'\n",
    "    elif row['floor'] == row['floors_total']:\n",
    "        return 'последний'\n",
    "    return 'другой'\n",
    "\n",
    "#применяем функцию к строкам и помещаем результат ее работы в новый столбец\n",
    "data['floor_category'] = data.apply(floor_category, axis=1)"
   ]
  },
  {
   "cell_type": "markdown",
   "metadata": {},
   "source": [
    "Отношение жилой площади к общей - это отношение столбца `living_area` к столбцу `total_area`, отношение площади кухни к общей - это отношение столбца `kitchen_area` к столбцу `total_area`. Значения округлим до 2 знаков после запятой."
   ]
  },
  {
   "cell_type": "code",
   "execution_count": 30,
   "metadata": {
    "scrolled": true
   },
   "outputs": [
    {
     "data": {
      "text/html": [
       "<div>\n",
       "<style scoped>\n",
       "    .dataframe tbody tr th:only-of-type {\n",
       "        vertical-align: middle;\n",
       "    }\n",
       "\n",
       "    .dataframe tbody tr th {\n",
       "        vertical-align: top;\n",
       "    }\n",
       "\n",
       "    .dataframe thead th {\n",
       "        text-align: right;\n",
       "    }\n",
       "</style>\n",
       "<table border=\"1\" class=\"dataframe\">\n",
       "  <thead>\n",
       "    <tr style=\"text-align: right;\">\n",
       "      <th></th>\n",
       "      <th>total_images</th>\n",
       "      <th>last_price</th>\n",
       "      <th>total_area</th>\n",
       "      <th>first_day_exposition</th>\n",
       "      <th>rooms</th>\n",
       "      <th>ceiling_height</th>\n",
       "      <th>floors_total</th>\n",
       "      <th>living_area</th>\n",
       "      <th>floor</th>\n",
       "      <th>is_apartment</th>\n",
       "      <th>...</th>\n",
       "      <th>ponds_around_3000</th>\n",
       "      <th>ponds_nearest</th>\n",
       "      <th>days_exposition</th>\n",
       "      <th>price_per_square_meter</th>\n",
       "      <th>weekday_exposition</th>\n",
       "      <th>month_exposition</th>\n",
       "      <th>year_exposition</th>\n",
       "      <th>floor_category</th>\n",
       "      <th>living_total_ratio</th>\n",
       "      <th>kitchen_total_ratio</th>\n",
       "    </tr>\n",
       "  </thead>\n",
       "  <tbody>\n",
       "    <tr>\n",
       "      <th>0</th>\n",
       "      <td>20</td>\n",
       "      <td>13000000.0</td>\n",
       "      <td>108.0</td>\n",
       "      <td>2019-03-07</td>\n",
       "      <td>3</td>\n",
       "      <td>2.70</td>\n",
       "      <td>16</td>\n",
       "      <td>51.0</td>\n",
       "      <td>8</td>\n",
       "      <td>True</td>\n",
       "      <td>...</td>\n",
       "      <td>2</td>\n",
       "      <td>755.0</td>\n",
       "      <td>NaN</td>\n",
       "      <td>120370.37</td>\n",
       "      <td>3</td>\n",
       "      <td>3</td>\n",
       "      <td>2019</td>\n",
       "      <td>другой</td>\n",
       "      <td>0.47</td>\n",
       "      <td>0.23</td>\n",
       "    </tr>\n",
       "    <tr>\n",
       "      <th>1</th>\n",
       "      <td>7</td>\n",
       "      <td>3350000.0</td>\n",
       "      <td>40.4</td>\n",
       "      <td>2018-12-04</td>\n",
       "      <td>1</td>\n",
       "      <td>NaN</td>\n",
       "      <td>11</td>\n",
       "      <td>18.6</td>\n",
       "      <td>1</td>\n",
       "      <td>True</td>\n",
       "      <td>...</td>\n",
       "      <td>0</td>\n",
       "      <td>NaN</td>\n",
       "      <td>81.0</td>\n",
       "      <td>82920.79</td>\n",
       "      <td>1</td>\n",
       "      <td>12</td>\n",
       "      <td>2018</td>\n",
       "      <td>первый</td>\n",
       "      <td>0.46</td>\n",
       "      <td>0.27</td>\n",
       "    </tr>\n",
       "    <tr>\n",
       "      <th>2</th>\n",
       "      <td>10</td>\n",
       "      <td>5196000.0</td>\n",
       "      <td>56.0</td>\n",
       "      <td>2015-08-20</td>\n",
       "      <td>2</td>\n",
       "      <td>NaN</td>\n",
       "      <td>5</td>\n",
       "      <td>34.3</td>\n",
       "      <td>4</td>\n",
       "      <td>True</td>\n",
       "      <td>...</td>\n",
       "      <td>2</td>\n",
       "      <td>574.0</td>\n",
       "      <td>558.0</td>\n",
       "      <td>92785.71</td>\n",
       "      <td>3</td>\n",
       "      <td>8</td>\n",
       "      <td>2015</td>\n",
       "      <td>другой</td>\n",
       "      <td>0.61</td>\n",
       "      <td>0.15</td>\n",
       "    </tr>\n",
       "    <tr>\n",
       "      <th>3</th>\n",
       "      <td>0</td>\n",
       "      <td>64900000.0</td>\n",
       "      <td>159.0</td>\n",
       "      <td>2015-07-24</td>\n",
       "      <td>3</td>\n",
       "      <td>NaN</td>\n",
       "      <td>14</td>\n",
       "      <td>NaN</td>\n",
       "      <td>9</td>\n",
       "      <td>True</td>\n",
       "      <td>...</td>\n",
       "      <td>3</td>\n",
       "      <td>234.0</td>\n",
       "      <td>424.0</td>\n",
       "      <td>408176.10</td>\n",
       "      <td>4</td>\n",
       "      <td>7</td>\n",
       "      <td>2015</td>\n",
       "      <td>другой</td>\n",
       "      <td>NaN</td>\n",
       "      <td>NaN</td>\n",
       "    </tr>\n",
       "    <tr>\n",
       "      <th>4</th>\n",
       "      <td>2</td>\n",
       "      <td>10000000.0</td>\n",
       "      <td>100.0</td>\n",
       "      <td>2018-06-19</td>\n",
       "      <td>2</td>\n",
       "      <td>3.03</td>\n",
       "      <td>14</td>\n",
       "      <td>32.0</td>\n",
       "      <td>13</td>\n",
       "      <td>True</td>\n",
       "      <td>...</td>\n",
       "      <td>1</td>\n",
       "      <td>48.0</td>\n",
       "      <td>121.0</td>\n",
       "      <td>100000.00</td>\n",
       "      <td>1</td>\n",
       "      <td>6</td>\n",
       "      <td>2018</td>\n",
       "      <td>другой</td>\n",
       "      <td>0.32</td>\n",
       "      <td>0.41</td>\n",
       "    </tr>\n",
       "  </tbody>\n",
       "</table>\n",
       "<p>5 rows × 29 columns</p>\n",
       "</div>"
      ],
      "text/plain": [
       "   total_images  last_price  total_area first_day_exposition  rooms  \\\n",
       "0            20  13000000.0       108.0           2019-03-07      3   \n",
       "1             7   3350000.0        40.4           2018-12-04      1   \n",
       "2            10   5196000.0        56.0           2015-08-20      2   \n",
       "3             0  64900000.0       159.0           2015-07-24      3   \n",
       "4             2  10000000.0       100.0           2018-06-19      2   \n",
       "\n",
       "   ceiling_height  floors_total  living_area  floor  is_apartment  ...  \\\n",
       "0            2.70            16         51.0      8          True  ...   \n",
       "1             NaN            11         18.6      1          True  ...   \n",
       "2             NaN             5         34.3      4          True  ...   \n",
       "3             NaN            14          NaN      9          True  ...   \n",
       "4            3.03            14         32.0     13          True  ...   \n",
       "\n",
       "   ponds_around_3000  ponds_nearest  days_exposition  price_per_square_meter  \\\n",
       "0                  2          755.0              NaN               120370.37   \n",
       "1                  0            NaN             81.0                82920.79   \n",
       "2                  2          574.0            558.0                92785.71   \n",
       "3                  3          234.0            424.0               408176.10   \n",
       "4                  1           48.0            121.0               100000.00   \n",
       "\n",
       "  weekday_exposition  month_exposition  year_exposition  floor_category  \\\n",
       "0                  3                 3             2019          другой   \n",
       "1                  1                12             2018          первый   \n",
       "2                  3                 8             2015          другой   \n",
       "3                  4                 7             2015          другой   \n",
       "4                  1                 6             2018          другой   \n",
       "\n",
       "   living_total_ratio  kitchen_total_ratio  \n",
       "0                0.47                 0.23  \n",
       "1                0.46                 0.27  \n",
       "2                0.61                 0.15  \n",
       "3                 NaN                  NaN  \n",
       "4                0.32                 0.41  \n",
       "\n",
       "[5 rows x 29 columns]"
      ]
     },
     "execution_count": 30,
     "metadata": {},
     "output_type": "execute_result"
    }
   ],
   "source": [
    "#вычисление отношения жилой площади к общей и добавление новый столбец\n",
    "data['living_total_ratio'] = round(data['living_area'] / data['total_area'], 2)\n",
    "#вычисление отношения площади кухни к общей и добавление новый столбец\n",
    "data['kitchen_total_ratio'] = round(data['kitchen_area'] / data['total_area'], 2)\n",
    "#вывод первых 10 строк таблицы\n",
    "data.head()"
   ]
  },
  {
   "cell_type": "markdown",
   "metadata": {},
   "source": [
    "### Вывод"
   ]
  },
  {
   "cell_type": "markdown",
   "metadata": {},
   "source": [
    "На данном этапе были вычислены и добавлены в таблицу:\n",
    "* цена квадратного метра;\n",
    "* день недели, месяц и год публикации объявления;\n",
    "* этаж квартиры (первый/последний/другой);\n",
    "* соотношение жилой и общей площади, а также отношение площади кухни к общей."
   ]
  },
  {
   "cell_type": "markdown",
   "metadata": {},
   "source": [
    "## Исследовательский анализ данных"
   ]
  },
  {
   "cell_type": "markdown",
   "metadata": {},
   "source": [
    "### Изучение площади, цены, числа комнат, высоты потолков"
   ]
  },
  {
   "cell_type": "markdown",
   "metadata": {},
   "source": [
    "Изучим следующие параметры: площадь, цена, число комнат, высота потолков. Построим гистограммы для каждого параметра."
   ]
  },
  {
   "cell_type": "markdown",
   "metadata": {},
   "source": [
    "* Площадь"
   ]
  },
  {
   "cell_type": "code",
   "execution_count": 31,
   "metadata": {},
   "outputs": [
    {
     "data": {
      "text/plain": [
       "count    23565.000000\n",
       "mean        60.322824\n",
       "std         35.657060\n",
       "min         12.000000\n",
       "25%         40.000000\n",
       "50%         52.000000\n",
       "75%         69.700000\n",
       "max        900.000000\n",
       "Name: total_area, dtype: float64"
      ]
     },
     "execution_count": 31,
     "metadata": {},
     "output_type": "execute_result"
    }
   ],
   "source": [
    "#получаем представление о выборке\n",
    "data['total_area'].describe()"
   ]
  },
  {
   "cell_type": "code",
   "execution_count": 32,
   "metadata": {},
   "outputs": [
    {
     "data": {
      "text/plain": [
       "array([[<AxesSubplot:title={'center':'total_area'}>]], dtype=object)"
      ]
     },
     "execution_count": 32,
     "metadata": {},
     "output_type": "execute_result"
    },
    {
     "data": {
      "image/png": "[encoded data removed]",
      "text/plain": [
       "<Figure size 432x288 with 1 Axes>"
      ]
     },
     "metadata": {
      "needs_background": "light"
     },
     "output_type": "display_data"
    }
   ],
   "source": [
    "#строим гистограмму\n",
    "data.hist('total_area', bins=30, range=(0,300))"
   ]
  },
  {
   "cell_type": "markdown",
   "metadata": {},
   "source": [
    "Распределение значений похоже на распределение Пуассона, а большинство значений лежит в отрезке от 40 до 69.7, что выглядит правдоподобно. Минимальное значение - 12, что вполне может быть достоверно, например, для небольшой квартиры-студии, максимальное значение - 900, что также правдоподобно."
   ]
  },
  {
   "cell_type": "markdown",
   "metadata": {},
   "source": [
    "* Цена"
   ]
  },
  {
   "cell_type": "code",
   "execution_count": 33,
   "metadata": {},
   "outputs": [
    {
     "data": {
      "text/plain": [
       "count    2.356500e+04\n",
       "mean     6.540058e+06\n",
       "std      1.091093e+07\n",
       "min      1.219000e+04\n",
       "25%      3.400000e+06\n",
       "50%      4.646000e+06\n",
       "75%      6.790000e+06\n",
       "max      7.630000e+08\n",
       "Name: last_price, dtype: float64"
      ]
     },
     "execution_count": 33,
     "metadata": {},
     "output_type": "execute_result"
    }
   ],
   "source": [
    "#получаем представление о выборке\n",
    "data['last_price'].describe()"
   ]
  },
  {
   "cell_type": "code",
   "execution_count": 34,
   "metadata": {},
   "outputs": [
    {
     "data": {
      "text/plain": [
       "array([[<AxesSubplot:title={'center':'last_price'}>]], dtype=object)"
      ]
     },
     "execution_count": 34,
     "metadata": {},
     "output_type": "execute_result"
    },
    {
     "data": {
      "image/png": "[encoded data removed]",
      "text/plain": [
       "<Figure size 432x288 with 1 Axes>"
      ]
     },
     "metadata": {
      "needs_background": "light"
     },
     "output_type": "display_data"
    }
   ],
   "source": [
    "#строим гистограмму\n",
    "data.hist('last_price', bins=30, range=(0, 0.4*10**8))"
   ]
  },
  {
   "cell_type": "markdown",
   "metadata": {},
   "source": [
    "Распределение значений похоже на распределение Пуассона, большинство значений лежит в отрезке от 3400000 до 6790000, что выглядит правдоподобно. Минимальное значение - 12190, что больше похоже на ошибку, максимальное значение - 763000000, что правдоподобно."
   ]
  },
  {
   "cell_type": "markdown",
   "metadata": {},
   "source": [
    "* Число комнат"
   ]
  },
  {
   "cell_type": "code",
   "execution_count": 35,
   "metadata": {},
   "outputs": [
    {
     "data": {
      "text/plain": [
       "count    23565.000000\n",
       "mean         2.070656\n",
       "std          1.078591\n",
       "min          0.000000\n",
       "25%          1.000000\n",
       "50%          2.000000\n",
       "75%          3.000000\n",
       "max         19.000000\n",
       "Name: rooms, dtype: float64"
      ]
     },
     "execution_count": 35,
     "metadata": {},
     "output_type": "execute_result"
    }
   ],
   "source": [
    "#получаем представление о выборке\n",
    "data['rooms'].describe()"
   ]
  },
  {
   "cell_type": "code",
   "execution_count": 36,
   "metadata": {
    "scrolled": true
   },
   "outputs": [
    {
     "data": {
      "text/plain": [
       "array([[<AxesSubplot:title={'center':'rooms'}>]], dtype=object)"
      ]
     },
     "execution_count": 36,
     "metadata": {},
     "output_type": "execute_result"
    },
    {
     "data": {
      "image/png": "[encoded data removed]",
      "text/plain": [
       "<Figure size 432x288 with 1 Axes>"
      ]
     },
     "metadata": {
      "needs_background": "light"
     },
     "output_type": "display_data"
    }
   ],
   "source": [
    "#строим гистограмму\n",
    "data.hist('rooms', bins=20)"
   ]
  },
  {
   "cell_type": "markdown",
   "metadata": {},
   "source": [
    "Минимальное значение числа комнат - 0. Скорее всего, такое свойственно квартирам-студиям или квартирам со свободной планировкой, проверим, так ли это."
   ]
  },
  {
   "cell_type": "code",
   "execution_count": 37,
   "metadata": {},
   "outputs": [
    {
     "data": {
      "text/plain": [
       "194"
      ]
     },
     "execution_count": 37,
     "metadata": {},
     "output_type": "execute_result"
    }
   ],
   "source": [
    "#количество квартир с 0 комнат\n",
    "len(data[data['rooms'] == 0])"
   ]
  },
  {
   "cell_type": "code",
   "execution_count": 38,
   "metadata": {},
   "outputs": [
    {
     "data": {
      "text/plain": [
       "194"
      ]
     },
     "execution_count": 38,
     "metadata": {},
     "output_type": "execute_result"
    }
   ],
   "source": [
    "#количество квартир с 0 комнат, которые при этом квартиры со свободной планировкой или студии\n",
    "len(data[(data['rooms'] == 0) & ((data['studio'] == True) | (data['open_plan'] == True))])"
   ]
  },
  {
   "cell_type": "markdown",
   "metadata": {},
   "source": [
    "Количества совпадают, следовательно, предположение верно."
   ]
  },
  {
   "cell_type": "markdown",
   "metadata": {},
   "source": [
    "Распределение значений похоже на распределение Пуассона, большинство значений лежит в отрезке от 1 до 3, что выглядит правдоподобно. Минимальное значение - 0, что свойственно для квартир-студий или квартир со свободной планировкой, максимальное значение - 19, что правдоподобно."
   ]
  },
  {
   "cell_type": "markdown",
   "metadata": {},
   "source": [
    "* Высота потолков"
   ]
  },
  {
   "cell_type": "code",
   "execution_count": 39,
   "metadata": {},
   "outputs": [
    {
     "data": {
      "text/plain": [
       "count    14481.000000\n",
       "mean         2.771283\n",
       "std          1.261983\n",
       "min          1.000000\n",
       "25%          2.510000\n",
       "50%          2.650000\n",
       "75%          2.800000\n",
       "max        100.000000\n",
       "Name: ceiling_height, dtype: float64"
      ]
     },
     "execution_count": 39,
     "metadata": {},
     "output_type": "execute_result"
    }
   ],
   "source": [
    "#получаем представление о выборке\n",
    "data['ceiling_height'].describe()"
   ]
  },
  {
   "cell_type": "code",
   "execution_count": 40,
   "metadata": {},
   "outputs": [
    {
     "data": {
      "text/plain": [
       "array([[<AxesSubplot:title={'center':'ceiling_height'}>]], dtype=object)"
      ]
     },
     "execution_count": 40,
     "metadata": {},
     "output_type": "execute_result"
    },
    {
     "data": {
      "image/png": "[encoded data removed]",
      "text/plain": [
       "<Figure size 432x288 with 1 Axes>"
      ]
     },
     "metadata": {
      "needs_background": "light"
     },
     "output_type": "display_data"
    }
   ],
   "source": [
    "#строим гистограмму\n",
    "data.hist('ceiling_height', bins=10, range=(2.2,4))"
   ]
  },
  {
   "cell_type": "markdown",
   "metadata": {},
   "source": [
    "Большинство значений лежит в отрезке от 2.51 до 2.8, что выглядит правдоподобно. Минимальное значение - 1, максимальное значение - 100, скорее всего, такое произошло из-за ошибки."
   ]
  },
  {
   "cell_type": "markdown",
   "metadata": {},
   "source": [
    "### Изучение времени продажи квартиры"
   ]
  },
  {
   "cell_type": "markdown",
   "metadata": {},
   "source": [
    "Изучим время продажи квартиры, построим гистограмму, посчитаем среднее и медиану"
   ]
  },
  {
   "cell_type": "code",
   "execution_count": 41,
   "metadata": {},
   "outputs": [
    {
     "data": {
      "text/plain": [
       "array([[<AxesSubplot:title={'center':'days_exposition'}>]], dtype=object)"
      ]
     },
     "execution_count": 41,
     "metadata": {},
     "output_type": "execute_result"
    },
    {
     "data": {
      "image/png": "[encoded data removed]",
      "text/plain": [
       "<Figure size 432x288 with 1 Axes>"
      ]
     },
     "metadata": {
      "needs_background": "light"
     },
     "output_type": "display_data"
    }
   ],
   "source": [
    "#строим гистограмму\n",
    "data.hist('days_exposition', bins=30, range=(0,1200))"
   ]
  },
  {
   "cell_type": "code",
   "execution_count": 42,
   "metadata": {},
   "outputs": [
    {
     "data": {
      "text/plain": [
       "count    20394.000000\n",
       "mean       180.741395\n",
       "std        219.732782\n",
       "min          1.000000\n",
       "25%         45.000000\n",
       "50%         95.000000\n",
       "75%        231.000000\n",
       "max       1580.000000\n",
       "Name: days_exposition, dtype: float64"
      ]
     },
     "execution_count": 42,
     "metadata": {},
     "output_type": "execute_result"
    }
   ],
   "source": [
    "#получаем представление о выборке\n",
    "data['days_exposition'].describe()"
   ]
  },
  {
   "cell_type": "markdown",
   "metadata": {},
   "source": [
    "Среднее значение времени продажи квартиры - 181 день, медианное - 95 дней. Большинство квартир продают за промежуток времени от 45 дней до 231 дня. Построим диаграмму размаха, чтобы выяснить, что считать слишком быстрой или слишком медленной продажей."
   ]
  },
  {
   "cell_type": "code",
   "execution_count": 43,
   "metadata": {},
   "outputs": [
    {
     "data": {
      "text/plain": [
       "<AxesSubplot:>"
      ]
     },
     "execution_count": 43,
     "metadata": {},
     "output_type": "execute_result"
    },
    {
     "data": {
      "image/png": "[encoded data removed]",
      "text/plain": [
       "<Figure size 432x288 with 1 Axes>"
      ]
     },
     "metadata": {
      "needs_background": "light"
     },
     "output_type": "display_data"
    }
   ],
   "source": [
    "#построение диаграммы размаха\n",
    "plt.ylim(0, 600)\n",
    "data.boxplot('days_exposition')"
   ]
  },
  {
   "cell_type": "markdown",
   "metadata": {},
   "source": [
    "Нижняя граница совпадает с минимумом. Верхняя граница, где начинаются выбросы - около 510. Будем считать, что кварира продана слишком медленно, если она продавалась более 510 дней, и слишком быстро, если она продана быстрее, чем за неделю."
   ]
  },
  {
   "cell_type": "markdown",
   "metadata": {},
   "source": [
    "### Удаление редких и выбивающихся значений"
   ]
  },
  {
   "cell_type": "markdown",
   "metadata": {},
   "source": [
    "На предыдущих шагах выбивающиеся значения были выявлены в столбцах `last_price` и `ceiling_height`. Оценим, сколько значений цены менее 300000."
   ]
  },
  {
   "cell_type": "code",
   "execution_count": 44,
   "metadata": {},
   "outputs": [
    {
     "data": {
      "text/plain": [
       "1"
      ]
     },
     "execution_count": 44,
     "metadata": {},
     "output_type": "execute_result"
    }
   ],
   "source": [
    "#количество цен менее 300000\n",
    "len(data[data['last_price'] < 300000])"
   ]
  },
  {
   "cell_type": "markdown",
   "metadata": {},
   "source": [
    "Такое значение только одно, уберем эту запись из таблицы."
   ]
  },
  {
   "cell_type": "code",
   "execution_count": 45,
   "metadata": {},
   "outputs": [],
   "source": [
    "#перезапись таблицы\n",
    "data = data[data['last_price'] >= 300000]"
   ]
  },
  {
   "cell_type": "markdown",
   "metadata": {},
   "source": [
    "Значения высоты потолка менее 2.4 м и более 4 м выглядит неправдоподобно. Посмотрим, сколько таких значений и уберем их из таблицы."
   ]
  },
  {
   "cell_type": "code",
   "execution_count": 46,
   "metadata": {},
   "outputs": [
    {
     "data": {
      "text/plain": [
       "0.00407401120353081"
      ]
     },
     "execution_count": 46,
     "metadata": {},
     "output_type": "execute_result"
    }
   ],
   "source": [
    "#количество значений высоты потолка менее 2.4 и более 4\n",
    "len(data[(data['ceiling_height'] < 2.4)  | (data['ceiling_height'] > 4)]) / len(data)"
   ]
  },
  {
   "cell_type": "code",
   "execution_count": 47,
   "metadata": {},
   "outputs": [],
   "source": [
    "#перезапись таблицы\n",
    "data = data[(data['ceiling_height'].isna()) | (data['ceiling_height'] >= 2.4)  & (data['ceiling_height'] <= 4)]"
   ]
  },
  {
   "cell_type": "markdown",
   "metadata": {},
   "source": [
    "Восстановим порядок индексов в таблице."
   ]
  },
  {
   "cell_type": "code",
   "execution_count": 48,
   "metadata": {},
   "outputs": [],
   "source": [
    "#восстановление порядка индексов\n",
    "data = data.reset_index(drop=True)"
   ]
  },
  {
   "cell_type": "markdown",
   "metadata": {},
   "source": [
    "### Изучение влияния факторов на стоимость квартиры"
   ]
  },
  {
   "cell_type": "markdown",
   "metadata": {},
   "source": [
    "Изучим зависимость стоимости квартиры от площади, числа комнат, удаленности от центра, этажа и даты размещения."
   ]
  },
  {
   "cell_type": "markdown",
   "metadata": {},
   "source": [
    "* Зависимость цены от площади\n",
    "\n",
    "Построим диаграмму рассеяния и вычислим коэффициент корреляции."
   ]
  },
  {
   "cell_type": "code",
   "execution_count": 49,
   "metadata": {},
   "outputs": [
    {
     "data": {
      "text/plain": [
       "<AxesSubplot:xlabel='total_area', ylabel='last_price'>"
      ]
     },
     "execution_count": 49,
     "metadata": {},
     "output_type": "execute_result"
    },
    {
     "data": {
      "image/png": "[encoded data removed]",
      "text/plain": [
       "<Figure size 432x288 with 1 Axes>"
      ]
     },
     "metadata": {
      "needs_background": "light"
     },
     "output_type": "display_data"
    }
   ],
   "source": [
    "#построение диаграммы рассеяния\n",
    "data.plot(x='total_area',\n",
    "          y='last_price',\n",
    "          kind='scatter',\n",
    "          xlim=(0, 400),\n",
    "          ylim=(0, 10**8),\n",
    "          alpha=0.5)"
   ]
  },
  {
   "cell_type": "code",
   "execution_count": 50,
   "metadata": {},
   "outputs": [
    {
     "data": {
      "text/plain": [
       "0.6468156720716399"
      ]
     },
     "execution_count": 50,
     "metadata": {},
     "output_type": "execute_result"
    }
   ],
   "source": [
    "#нахождение коэффициента корреляции\n",
    "data['last_price'].corr(data['total_area'])"
   ]
  },
  {
   "cell_type": "markdown",
   "metadata": {},
   "source": [
    "Между площадью квартиры и ее стоимостью есть зависимость (чем больше площадь, тем больше стоимость), но коэффициент Пирсона = 0.65 говорит о том, что эта зависимость не слишком сильная (справедлива она не всегда)."
   ]
  },
  {
   "cell_type": "markdown",
   "metadata": {},
   "source": [
    "* Зависимость цены от числа комнат"
   ]
  },
  {
   "cell_type": "code",
   "execution_count": 51,
   "metadata": {},
   "outputs": [
    {
     "data": {
      "text/plain": [
       "<AxesSubplot:xlabel='rooms', ylabel='last_price'>"
      ]
     },
     "execution_count": 51,
     "metadata": {},
     "output_type": "execute_result"
    },
    {
     "data": {
      "image/png": "[encoded data removed]",
      "text/plain": [
       "<Figure size 432x288 with 1 Axes>"
      ]
     },
     "metadata": {
      "needs_background": "light"
     },
     "output_type": "display_data"
    }
   ],
   "source": [
    "#построение диаграммы рассеяния\n",
    "data.plot(x='rooms',\n",
    "          y='last_price',\n",
    "          kind='scatter',\n",
    "          xlim=(0, 10),\n",
    "          ylim=(0, 10**8),\n",
    "          alpha=0.1)"
   ]
  },
  {
   "cell_type": "code",
   "execution_count": 52,
   "metadata": {},
   "outputs": [
    {
     "data": {
      "text/plain": [
       "0.35898584577755527"
      ]
     },
     "execution_count": 52,
     "metadata": {},
     "output_type": "execute_result"
    }
   ],
   "source": [
    "#нахождение коэффициента корреляции\n",
    "data['last_price'].corr(data['rooms'])"
   ]
  },
  {
   "cell_type": "markdown",
   "metadata": {},
   "source": [
    "Между стоимостью квартиры и количеством комнат есть зависимость (чем больше комнат, тем больше стоимость), но достаточно слабая, коэффициент Пирсона = 0.36 это подтверждает."
   ]
  },
  {
   "cell_type": "markdown",
   "metadata": {},
   "source": [
    "* Зависимость цены от удаленности от центра"
   ]
  },
  {
   "cell_type": "code",
   "execution_count": 53,
   "metadata": {},
   "outputs": [
    {
     "data": {
      "text/plain": [
       "<AxesSubplot:xlabel='city_centers_nearest', ylabel='last_price'>"
      ]
     },
     "execution_count": 53,
     "metadata": {},
     "output_type": "execute_result"
    },
    {
     "data": {
      "image/png": "[encoded data removed]",
      "text/plain": [
       "<Figure size 432x288 with 1 Axes>"
      ]
     },
     "metadata": {
      "needs_background": "light"
     },
     "output_type": "display_data"
    }
   ],
   "source": [
    "#построение диаграммы рассеяния\n",
    "data.plot(x='city_centers_nearest',\n",
    "          y='last_price',\n",
    "          kind='scatter',          \n",
    "          ylim=(0, 10**8),\n",
    "          alpha=0.1)"
   ]
  },
  {
   "cell_type": "code",
   "execution_count": 54,
   "metadata": {},
   "outputs": [
    {
     "data": {
      "text/plain": [
       "-0.20469563680852335"
      ]
     },
     "execution_count": 54,
     "metadata": {},
     "output_type": "execute_result"
    }
   ],
   "source": [
    "#нахождение коэффициента корреляции\n",
    "data['last_price'].corr(data['city_centers_nearest'])"
   ]
  },
  {
   "cell_type": "markdown",
   "metadata": {},
   "source": [
    "Между стоимостью квартиры и расстоянием до центра есть очень слабая зависимость (чем дальше до центра, тем меньше стоимость), коэффициент Пирсона = -0.2 это подтверждает."
   ]
  },
  {
   "cell_type": "markdown",
   "metadata": {},
   "source": [
    "* Зависимость цены от этажа\n",
    "\n",
    "Чтобы изучить зависимость стоимости от этажа, построим столбчатый график (зависимость медианной стоимости от этажа)."
   ]
  },
  {
   "cell_type": "code",
   "execution_count": 55,
   "metadata": {
    "scrolled": true
   },
   "outputs": [
    {
     "data": {
      "text/plain": [
       "<AxesSubplot:xlabel='floor_category'>"
      ]
     },
     "execution_count": 55,
     "metadata": {},
     "output_type": "execute_result"
    },
    {
     "data": {
      "image/png": "[encoded data removed]",
      "text/plain": [
       "<Figure size 432x288 with 1 Axes>"
      ]
     },
     "metadata": {
      "needs_background": "light"
     },
     "output_type": "display_data"
    }
   ],
   "source": [
    "#построение столбчатого графика\n",
    "data.pivot_table(index='floor_category', \n",
    "                 values='last_price', \n",
    "                 aggfunc='median').plot(kind='bar')"
   ]
  },
  {
   "cell_type": "markdown",
   "metadata": {},
   "source": [
    "Для первого этажа стоимость немного ниже, чем для остальных, но в целом стоимость квартир для разных этажей примерно одинакова."
   ]
  },
  {
   "cell_type": "markdown",
   "metadata": {},
   "source": [
    "* Зависимость цены от дня недели размещения\n",
    "\n",
    "Чтобы изучить зависимость стоимости от дня недели размещения, построим столбчатый график (зависимость медианной стоимости от дня недели)."
   ]
  },
  {
   "cell_type": "code",
   "execution_count": 56,
   "metadata": {},
   "outputs": [
    {
     "data": {
      "text/plain": [
       "<AxesSubplot:xlabel='weekday_exposition'>"
      ]
     },
     "execution_count": 56,
     "metadata": {},
     "output_type": "execute_result"
    },
    {
     "data": {
      "image/png": "[encoded data removed]",
      "text/plain": [
       "<Figure size 432x288 with 1 Axes>"
      ]
     },
     "metadata": {
      "needs_background": "light"
     },
     "output_type": "display_data"
    }
   ],
   "source": [
    "#построение столбчатого графика\n",
    "data.pivot_table(index='weekday_exposition', \n",
    "                 values='last_price', \n",
    "                 aggfunc='median').plot(kind='bar')"
   ]
  },
  {
   "cell_type": "markdown",
   "metadata": {},
   "source": [
    "Стоимость квартиры не зависит от дня недели размещения объявления."
   ]
  },
  {
   "cell_type": "markdown",
   "metadata": {},
   "source": [
    "* Зависимость цены от месяца размещения\n",
    "\n",
    "Чтобы изучить зависимость стоимости от месяца размещения, построим столбчатый график (зависимость медианной стоимости от месяца)."
   ]
  },
  {
   "cell_type": "code",
   "execution_count": 57,
   "metadata": {},
   "outputs": [
    {
     "data": {
      "text/plain": [
       "<AxesSubplot:xlabel='month_exposition'>"
      ]
     },
     "execution_count": 57,
     "metadata": {},
     "output_type": "execute_result"
    },
    {
     "data": {
      "image/png": "[encoded data removed]",
      "text/plain": [
       "<Figure size 432x288 with 1 Axes>"
      ]
     },
     "metadata": {
      "needs_background": "light"
     },
     "output_type": "display_data"
    }
   ],
   "source": [
    "#построение столбчатого графика\n",
    "data.pivot_table(index='month_exposition', \n",
    "                 values='last_price', \n",
    "                 aggfunc='median').plot(kind='bar')"
   ]
  },
  {
   "cell_type": "markdown",
   "metadata": {},
   "source": [
    "Стоимость квартиры не зависит от месяца размещения объявления."
   ]
  },
  {
   "cell_type": "markdown",
   "metadata": {},
   "source": [
    "* Зависимость цены от года размещения\n",
    "\n",
    "Чтобы изучить зависимость стоимости от года размещения, построим столбчатый график (зависимость медианной стоимости от года)."
   ]
  },
  {
   "cell_type": "code",
   "execution_count": 58,
   "metadata": {},
   "outputs": [
    {
     "data": {
      "text/plain": [
       "<AxesSubplot:xlabel='year_exposition'>"
      ]
     },
     "execution_count": 58,
     "metadata": {},
     "output_type": "execute_result"
    },
    {
     "data": {
      "image/png": "[encoded data removed]",
      "text/plain": [
       "<Figure size 432x288 with 1 Axes>"
      ]
     },
     "metadata": {
      "needs_background": "light"
     },
     "output_type": "display_data"
    }
   ],
   "source": [
    "#построение столбчатого графика\n",
    "data.pivot_table(index='year_exposition', \n",
    "                 values='last_price', \n",
    "                 aggfunc='median').plot(kind='bar')"
   ]
  },
  {
   "cell_type": "markdown",
   "metadata": {},
   "source": [
    "С 2014 по 2016 годы стоимость квартир уменьшалась, а с 2019 года вновь начала расти."
   ]
  },
  {
   "cell_type": "markdown",
   "metadata": {},
   "source": [
    "### Изучение цен за квадратный метр для населенных пунктов"
   ]
  },
  {
   "cell_type": "markdown",
   "metadata": {},
   "source": [
    "Выберем 10 населенных пунктов с наибольшим числом объявлений и посчитаем среднюю цену квадратного метра в каждом."
   ]
  },
  {
   "cell_type": "code",
   "execution_count": 59,
   "metadata": {},
   "outputs": [
    {
     "data": {
      "text/html": [
       "<div>\n",
       "<style scoped>\n",
       "    .dataframe tbody tr th:only-of-type {\n",
       "        vertical-align: middle;\n",
       "    }\n",
       "\n",
       "    .dataframe tbody tr th {\n",
       "        vertical-align: top;\n",
       "    }\n",
       "\n",
       "    .dataframe thead tr th {\n",
       "        text-align: left;\n",
       "    }\n",
       "\n",
       "    .dataframe thead tr:last-of-type th {\n",
       "        text-align: right;\n",
       "    }\n",
       "</style>\n",
       "<table border=\"1\" class=\"dataframe\">\n",
       "  <thead>\n",
       "    <tr>\n",
       "      <th></th>\n",
       "      <th>count</th>\n",
       "      <th>mean</th>\n",
       "    </tr>\n",
       "    <tr>\n",
       "      <th></th>\n",
       "      <th>price_per_square_meter</th>\n",
       "      <th>price_per_square_meter</th>\n",
       "    </tr>\n",
       "    <tr>\n",
       "      <th>locality_name</th>\n",
       "      <th></th>\n",
       "      <th></th>\n",
       "    </tr>\n",
       "  </thead>\n",
       "  <tbody>\n",
       "    <tr>\n",
       "      <th>Санкт-Петербург</th>\n",
       "      <td>15587</td>\n",
       "      <td>114650.406320</td>\n",
       "    </tr>\n",
       "    <tr>\n",
       "      <th>посёлок Мурино</th>\n",
       "      <td>518</td>\n",
       "      <td>85645.903282</td>\n",
       "    </tr>\n",
       "    <tr>\n",
       "      <th>посёлок Шушары</th>\n",
       "      <td>439</td>\n",
       "      <td>78551.344647</td>\n",
       "    </tr>\n",
       "    <tr>\n",
       "      <th>Всеволожск</th>\n",
       "      <td>396</td>\n",
       "      <td>68670.459621</td>\n",
       "    </tr>\n",
       "    <tr>\n",
       "      <th>Пушкин</th>\n",
       "      <td>368</td>\n",
       "      <td>103058.361522</td>\n",
       "    </tr>\n",
       "    <tr>\n",
       "      <th>Колпино</th>\n",
       "      <td>338</td>\n",
       "      <td>75424.579112</td>\n",
       "    </tr>\n",
       "    <tr>\n",
       "      <th>посёлок Парголово</th>\n",
       "      <td>327</td>\n",
       "      <td>90175.913089</td>\n",
       "    </tr>\n",
       "    <tr>\n",
       "      <th>Гатчина</th>\n",
       "      <td>306</td>\n",
       "      <td>68757.678399</td>\n",
       "    </tr>\n",
       "    <tr>\n",
       "      <th>деревня Кудрово</th>\n",
       "      <td>299</td>\n",
       "      <td>92473.547559</td>\n",
       "    </tr>\n",
       "    <tr>\n",
       "      <th>Выборг</th>\n",
       "      <td>234</td>\n",
       "      <td>58190.128162</td>\n",
       "    </tr>\n",
       "  </tbody>\n",
       "</table>\n",
       "</div>"
      ],
      "text/plain": [
       "                                   count                   mean\n",
       "                  price_per_square_meter price_per_square_meter\n",
       "locality_name                                                  \n",
       "Санкт-Петербург                    15587          114650.406320\n",
       "посёлок Мурино                       518           85645.903282\n",
       "посёлок Шушары                       439           78551.344647\n",
       "Всеволожск                           396           68670.459621\n",
       "Пушкин                               368          103058.361522\n",
       "Колпино                              338           75424.579112\n",
       "посёлок Парголово                    327           90175.913089\n",
       "Гатчина                              306           68757.678399\n",
       "деревня Кудрово                      299           92473.547559\n",
       "Выборг                               234           58190.128162"
      ]
     },
     "execution_count": 59,
     "metadata": {},
     "output_type": "execute_result"
    }
   ],
   "source": [
    "#составление сводной таблицы, данные сгруппированы но названию населенных пунктов,\n",
    "#значения - число объявлений и средняя цена за квадратный метр\n",
    "#таблица отсортирована по числу объявлений и взяты первые 10 строк \n",
    "data_pivot = data.pivot_table(index='locality_name', \n",
    "                              values='price_per_square_meter', \n",
    "                              aggfunc=['count', 'mean']).sort_values(by=('count','price_per_square_meter'),\n",
    "                                                                          ascending=False).head(10)\n",
    "data_pivot"
   ]
  },
  {
   "cell_type": "markdown",
   "metadata": {},
   "source": [
    "Среди выбранных пунктов найдем те, у которых стоимость жилья самая высокая и самая низкая."
   ]
  },
  {
   "cell_type": "code",
   "execution_count": 60,
   "metadata": {},
   "outputs": [
    {
     "data": {
      "text/html": [
       "<div>\n",
       "<style scoped>\n",
       "    .dataframe tbody tr th:only-of-type {\n",
       "        vertical-align: middle;\n",
       "    }\n",
       "\n",
       "    .dataframe tbody tr th {\n",
       "        vertical-align: top;\n",
       "    }\n",
       "\n",
       "    .dataframe thead tr th {\n",
       "        text-align: left;\n",
       "    }\n",
       "\n",
       "    .dataframe thead tr:last-of-type th {\n",
       "        text-align: right;\n",
       "    }\n",
       "</style>\n",
       "<table border=\"1\" class=\"dataframe\">\n",
       "  <thead>\n",
       "    <tr>\n",
       "      <th></th>\n",
       "      <th>count</th>\n",
       "      <th>mean</th>\n",
       "    </tr>\n",
       "    <tr>\n",
       "      <th></th>\n",
       "      <th>price_per_square_meter</th>\n",
       "      <th>price_per_square_meter</th>\n",
       "    </tr>\n",
       "    <tr>\n",
       "      <th>locality_name</th>\n",
       "      <th></th>\n",
       "      <th></th>\n",
       "    </tr>\n",
       "  </thead>\n",
       "  <tbody>\n",
       "    <tr>\n",
       "      <th>Санкт-Петербург</th>\n",
       "      <td>15587</td>\n",
       "      <td>114650.40632</td>\n",
       "    </tr>\n",
       "  </tbody>\n",
       "</table>\n",
       "</div>"
      ],
      "text/plain": [
       "                                 count                   mean\n",
       "                price_per_square_meter price_per_square_meter\n",
       "locality_name                                                \n",
       "Санкт-Петербург                  15587           114650.40632"
      ]
     },
     "execution_count": 60,
     "metadata": {},
     "output_type": "execute_result"
    }
   ],
   "source": [
    "#нахождение строки с максимальной ценой\n",
    "data_pivot[data_pivot['mean']['price_per_square_meter'] ==\n",
    "           data_pivot['mean']['price_per_square_meter'].max()]"
   ]
  },
  {
   "cell_type": "code",
   "execution_count": 61,
   "metadata": {
    "scrolled": true
   },
   "outputs": [
    {
     "data": {
      "text/html": [
       "<div>\n",
       "<style scoped>\n",
       "    .dataframe tbody tr th:only-of-type {\n",
       "        vertical-align: middle;\n",
       "    }\n",
       "\n",
       "    .dataframe tbody tr th {\n",
       "        vertical-align: top;\n",
       "    }\n",
       "\n",
       "    .dataframe thead tr th {\n",
       "        text-align: left;\n",
       "    }\n",
       "\n",
       "    .dataframe thead tr:last-of-type th {\n",
       "        text-align: right;\n",
       "    }\n",
       "</style>\n",
       "<table border=\"1\" class=\"dataframe\">\n",
       "  <thead>\n",
       "    <tr>\n",
       "      <th></th>\n",
       "      <th>count</th>\n",
       "      <th>mean</th>\n",
       "    </tr>\n",
       "    <tr>\n",
       "      <th></th>\n",
       "      <th>price_per_square_meter</th>\n",
       "      <th>price_per_square_meter</th>\n",
       "    </tr>\n",
       "    <tr>\n",
       "      <th>locality_name</th>\n",
       "      <th></th>\n",
       "      <th></th>\n",
       "    </tr>\n",
       "  </thead>\n",
       "  <tbody>\n",
       "    <tr>\n",
       "      <th>Выборг</th>\n",
       "      <td>234</td>\n",
       "      <td>58190.128162</td>\n",
       "    </tr>\n",
       "  </tbody>\n",
       "</table>\n",
       "</div>"
      ],
      "text/plain": [
       "                               count                   mean\n",
       "              price_per_square_meter price_per_square_meter\n",
       "locality_name                                              \n",
       "Выборг                           234           58190.128162"
      ]
     },
     "execution_count": 61,
     "metadata": {},
     "output_type": "execute_result"
    }
   ],
   "source": [
    "#нахождение строки с минимальной ценой\n",
    "data_pivot[data_pivot['mean']['price_per_square_meter'] ==\n",
    "           data_pivot['mean']['price_per_square_meter'].min()]"
   ]
  },
  {
   "cell_type": "markdown",
   "metadata": {},
   "source": [
    "Среди 10 населенных пунктов с наибольшим числом объявлений самая высокая стоимость квартир в Санкт-Петербурге (114650.41 за квадратный метр), самая низкая - в Выборге (58190.13 за квадратный метр)."
   ]
  },
  {
   "cell_type": "markdown",
   "metadata": {},
   "source": [
    "### Определение центральной области"
   ]
  },
  {
   "cell_type": "markdown",
   "metadata": {},
   "source": [
    "Определим центральную зону в Санкт-Петербурге. Выделим квартиры в Санкт-Петербурге и определим для каждого километра от центра среднее значение цены, построим график."
   ]
  },
  {
   "cell_type": "code",
   "execution_count": 62,
   "metadata": {},
   "outputs": [
    {
     "data": {
      "text/plain": [
       "<AxesSubplot:xlabel='city_centers_nearest_km'>"
      ]
     },
     "execution_count": 62,
     "metadata": {},
     "output_type": "execute_result"
    },
    {
     "data": {
      "image/png": "[encoded data removed]",
      "text/plain": [
       "<Figure size 432x288 with 1 Axes>"
      ]
     },
     "metadata": {
      "needs_background": "light"
     },
     "output_type": "display_data"
    }
   ],
   "source": [
    "#добавление столбца с расстоянием до центра в км\n",
    "data['city_centers_nearest_km'] = round(data['city_centers_nearest']/1000)\n",
    "#для Санкт-Петербурга находим среднее значение цены для каждого км и строим график\n",
    "data.query('locality_name==\"Санкт-Петербург\"').pivot_table(index='city_centers_nearest_km',\n",
    "                                                           values='price_per_square_meter',\n",
    "                                                           aggfunc='mean').plot()"
   ]
  },
  {
   "cell_type": "markdown",
   "metadata": {},
   "source": [
    "На графике видно, что значение цены резко меняется на значении около 3 км, следовательно, будем считать, что центральная зона - это 3 км от центра."
   ]
  },
  {
   "cell_type": "markdown",
   "metadata": {},
   "source": [
    "### Изучение параметров квартир в центре"
   ]
  },
  {
   "cell_type": "markdown",
   "metadata": {},
   "source": [
    "Рассмотрим квартиры в центре. Изучим их площадь, цену, количество комнат, высоту потолков."
   ]
  },
  {
   "cell_type": "code",
   "execution_count": 63,
   "metadata": {},
   "outputs": [],
   "source": [
    "#выделим в отдельную таблицу квартиры в центре Санкт-Петербурга\n",
    "data_center = data.query('locality_name==\"Санкт-Петербург\" and city_centers_nearest_km<=3')"
   ]
  },
  {
   "cell_type": "markdown",
   "metadata": {},
   "source": [
    "* Площадь"
   ]
  },
  {
   "cell_type": "code",
   "execution_count": 64,
   "metadata": {},
   "outputs": [
    {
     "data": {
      "text/plain": [
       "count    864.000000\n",
       "mean      98.792500\n",
       "std       56.643338\n",
       "min       12.000000\n",
       "25%       63.600000\n",
       "50%       85.000000\n",
       "75%      116.525000\n",
       "max      517.000000\n",
       "Name: total_area, dtype: float64"
      ]
     },
     "execution_count": 64,
     "metadata": {},
     "output_type": "execute_result"
    }
   ],
   "source": [
    "#получаем представление о выборке\n",
    "data_center['total_area'].describe()"
   ]
  },
  {
   "cell_type": "code",
   "execution_count": 65,
   "metadata": {},
   "outputs": [
    {
     "data": {
      "text/plain": [
       "array([[<AxesSubplot:title={'center':'total_area'}>]], dtype=object)"
      ]
     },
     "execution_count": 65,
     "metadata": {},
     "output_type": "execute_result"
    },
    {
     "data": {
      "image/png": "[encoded data removed]",
      "text/plain": [
       "<Figure size 432x288 with 1 Axes>"
      ]
     },
     "metadata": {
      "needs_background": "light"
     },
     "output_type": "display_data"
    }
   ],
   "source": [
    "#строим гистограмму\n",
    "data_center.hist('total_area', bins=20, range=(0,300))"
   ]
  },
  {
   "cell_type": "markdown",
   "metadata": {},
   "source": [
    "Распределение значений похоже на распределение Пуассона, а большинство значений лежит в отрезке от 63.6 до 116.525, что выглядит правдоподобно. Минимальное значение - 12, что правдоподобно, максимальное значение - 517, что также правдоподобно. У большинства квартир в центре Санкт-Петербурга площадь намного больше, чем для всех квартир в базе (для всей базы большинство значений лежит в отрезке от 40 до 69.7)."
   ]
  },
  {
   "cell_type": "markdown",
   "metadata": {},
   "source": [
    "* Цена"
   ]
  },
  {
   "cell_type": "code",
   "execution_count": 66,
   "metadata": {},
   "outputs": [
    {
     "data": {
      "text/plain": [
       "count    8.640000e+02\n",
       "mean     1.623521e+07\n",
       "std      2.644503e+07\n",
       "min      2.100000e+06\n",
       "25%      7.299250e+06\n",
       "50%      9.800000e+06\n",
       "75%      1.499250e+07\n",
       "max      4.013000e+08\n",
       "Name: last_price, dtype: float64"
      ]
     },
     "execution_count": 66,
     "metadata": {},
     "output_type": "execute_result"
    }
   ],
   "source": [
    "#получаем представление о выборке\n",
    "data_center['last_price'].describe()"
   ]
  },
  {
   "cell_type": "code",
   "execution_count": 67,
   "metadata": {
    "scrolled": true
   },
   "outputs": [
    {
     "data": {
      "text/plain": [
       "array([[<AxesSubplot:title={'center':'last_price'}>]], dtype=object)"
      ]
     },
     "execution_count": 67,
     "metadata": {},
     "output_type": "execute_result"
    },
    {
     "data": {
      "image/png": "[encoded data removed]",
      "text/plain": [
       "<Figure size 432x288 with 1 Axes>"
      ]
     },
     "metadata": {
      "needs_background": "light"
     },
     "output_type": "display_data"
    }
   ],
   "source": [
    "#строим гистограмму\n",
    "data_center.hist('last_price', bins=20, range=(0, 3*10**7))"
   ]
  },
  {
   "cell_type": "markdown",
   "metadata": {},
   "source": [
    "Распределение значений похоже на распределение Пуассона, большинство значений лежит в отрезке от 7299250 до 14992500, что выглядит правдоподобно. Минимальное значение - 2100000, что правдоподобно, максимальное значение - 401300000, что также правдоподобно.  У большинства квартир в центре Санкт-Петербурга стоимость намного больше, чем для всех квартир в базе (для всей базы большинство значений лежит в отрезке от 3400000 до 6790000)."
   ]
  },
  {
   "cell_type": "markdown",
   "metadata": {},
   "source": [
    "* Количество комнат"
   ]
  },
  {
   "cell_type": "code",
   "execution_count": 68,
   "metadata": {},
   "outputs": [
    {
     "data": {
      "text/plain": [
       "count    864.000000\n",
       "mean       3.121528\n",
       "std        1.484661\n",
       "min        0.000000\n",
       "25%        2.000000\n",
       "50%        3.000000\n",
       "75%        4.000000\n",
       "max       14.000000\n",
       "Name: rooms, dtype: float64"
      ]
     },
     "execution_count": 68,
     "metadata": {},
     "output_type": "execute_result"
    }
   ],
   "source": [
    "#получаем представление о выборке\n",
    "data_center['rooms'].describe()"
   ]
  },
  {
   "cell_type": "code",
   "execution_count": 69,
   "metadata": {},
   "outputs": [
    {
     "data": {
      "text/plain": [
       "array([[<AxesSubplot:title={'center':'rooms'}>]], dtype=object)"
      ]
     },
     "execution_count": 69,
     "metadata": {},
     "output_type": "execute_result"
    },
    {
     "data": {
      "image/png": "[encoded data removed]",
      "text/plain": [
       "<Figure size 432x288 with 1 Axes>"
      ]
     },
     "metadata": {
      "needs_background": "light"
     },
     "output_type": "display_data"
    }
   ],
   "source": [
    "#строим гистограмму\n",
    "data_center.hist('rooms')"
   ]
  },
  {
   "cell_type": "markdown",
   "metadata": {},
   "source": [
    "Распределение значений похоже на распределение Пуассона, большинство значений лежит в отрезке от 2 до 4, что выглядит правдоподобно. Минимальное значение - 0, что правдоподобно, максимальное значение - 14, что также правдоподобно.  У большинства квартир в центре Санкт-Петербурга количество комнат больше, чем для всех квартир в базе (для всей базы большинство значений лежит в отрезке от 1 до 3)."
   ]
  },
  {
   "cell_type": "markdown",
   "metadata": {},
   "source": [
    "* Высота потолков"
   ]
  },
  {
   "cell_type": "code",
   "execution_count": 70,
   "metadata": {},
   "outputs": [
    {
     "data": {
      "text/plain": [
       "count    598.000000\n",
       "mean       3.189298\n",
       "std        0.333828\n",
       "min        2.500000\n",
       "25%        3.000000\n",
       "50%        3.200000\n",
       "75%        3.400000\n",
       "max        4.000000\n",
       "Name: ceiling_height, dtype: float64"
      ]
     },
     "execution_count": 70,
     "metadata": {},
     "output_type": "execute_result"
    }
   ],
   "source": [
    "#получаем представление о выборке\n",
    "data_center['ceiling_height'].describe()"
   ]
  },
  {
   "cell_type": "code",
   "execution_count": 71,
   "metadata": {},
   "outputs": [
    {
     "data": {
      "text/plain": [
       "array([[<AxesSubplot:title={'center':'ceiling_height'}>]], dtype=object)"
      ]
     },
     "execution_count": 71,
     "metadata": {},
     "output_type": "execute_result"
    },
    {
     "data": {
      "image/png": "[encoded data removed]",
      "text/plain": [
       "<Figure size 432x288 with 1 Axes>"
      ]
     },
     "metadata": {
      "needs_background": "light"
     },
     "output_type": "display_data"
    }
   ],
   "source": [
    "#строим гистограмму\n",
    "data_center.hist('ceiling_height')"
   ]
  },
  {
   "cell_type": "markdown",
   "metadata": {},
   "source": [
    "Распределение значений похоже на нормальное распределение, большинство значений лежит в отрезке от 3 до 3.4, что выглядит правдоподобно. Минимальное значение - 2.5, что правдоподобно, максимальное значение - 4, что также правдоподобно.  У большинства квартир в центре Санкт-Петербурга высота потолков больше, чем для всех квартир в базе (для всей базы большинство значений лежит в отрезке от 2.51 до 2.8)."
   ]
  },
  {
   "cell_type": "markdown",
   "metadata": {},
   "source": [
    "Теперь рассмотрим факторы, которые влияют на стоимость квартиры (площадь, число комнат, этаж, удалённость от центра, дата размещения объявления)."
   ]
  },
  {
   "cell_type": "markdown",
   "metadata": {},
   "source": [
    "* Зависимость стоимости от площади квартиры"
   ]
  },
  {
   "cell_type": "code",
   "execution_count": 72,
   "metadata": {},
   "outputs": [
    {
     "data": {
      "text/plain": [
       "<AxesSubplot:xlabel='total_area', ylabel='last_price'>"
      ]
     },
     "execution_count": 72,
     "metadata": {},
     "output_type": "execute_result"
    },
    {
     "data": {
      "image/png": "[encoded data removed]",
      "text/plain": [
       "<Figure size 432x288 with 1 Axes>"
      ]
     },
     "metadata": {
      "needs_background": "light"
     },
     "output_type": "display_data"
    }
   ],
   "source": [
    "#построение диаграммы рассеяния\n",
    "data_center.plot(x='total_area',\n",
    "                 y='last_price',\n",
    "                 kind='scatter',\n",
    "                 xlim=(0, 200),\n",
    "                 ylim=(0, 4*10**7),\n",
    "                 alpha=0.5)"
   ]
  },
  {
   "cell_type": "code",
   "execution_count": 73,
   "metadata": {},
   "outputs": [
    {
     "data": {
      "text/plain": [
       "0.5629467239747289"
      ]
     },
     "execution_count": 73,
     "metadata": {},
     "output_type": "execute_result"
    }
   ],
   "source": [
    "#нахождение коэффициента корреляции\n",
    "data_center['last_price'].corr(data['total_area'])"
   ]
  },
  {
   "cell_type": "markdown",
   "metadata": {},
   "source": [
    "Между площадью квартиры и ее стоимостью есть зависимость (чем больше площадь, тем больше стоимость), но коэффициент Пирсона = 0.56 говорит о том, что эта зависимость не слишком сильная, даже слабее, чем для всех квартир в базе (коэффициент Пирсона = 0.65)."
   ]
  },
  {
   "cell_type": "markdown",
   "metadata": {},
   "source": [
    "* Зависимость стоимости от числа комнат"
   ]
  },
  {
   "cell_type": "code",
   "execution_count": 74,
   "metadata": {},
   "outputs": [
    {
     "data": {
      "text/plain": [
       "<AxesSubplot:xlabel='rooms', ylabel='last_price'>"
      ]
     },
     "execution_count": 74,
     "metadata": {},
     "output_type": "execute_result"
    },
    {
     "data": {
      "image/png": "[encoded data removed]",
      "text/plain": [
       "<Figure size 432x288 with 1 Axes>"
      ]
     },
     "metadata": {
      "needs_background": "light"
     },
     "output_type": "display_data"
    }
   ],
   "source": [
    "#построение диаграммы рассеяния\n",
    "data_center.plot(x='rooms',\n",
    "                 y='last_price',\n",
    "                 kind='scatter',\n",
    "                 xlim=(0, 8),\n",
    "                 ylim=(0, 4*10**7),\n",
    "                 alpha=0.5)"
   ]
  },
  {
   "cell_type": "code",
   "execution_count": 75,
   "metadata": {
    "scrolled": true
   },
   "outputs": [
    {
     "data": {
      "text/plain": [
       "0.2375401491836401"
      ]
     },
     "execution_count": 75,
     "metadata": {},
     "output_type": "execute_result"
    }
   ],
   "source": [
    "#нахождение коэффициента корреляции\n",
    "data_center['last_price'].corr(data['rooms'])"
   ]
  },
  {
   "cell_type": "markdown",
   "metadata": {},
   "source": [
    "Между площадью квартиры и числом комнат есть зависимость (чем больше комнат, тем больше стоимость), но коэффициент Пирсона = 0.24 говорит о том, что эта зависимость очень слабая, даже слабее, чем для всех квартир в базе (коэффициент Пирсона = 0.36)."
   ]
  },
  {
   "cell_type": "markdown",
   "metadata": {},
   "source": [
    "* Зависимость стоимости от удаленности от центра"
   ]
  },
  {
   "cell_type": "code",
   "execution_count": 76,
   "metadata": {},
   "outputs": [
    {
     "data": {
      "text/plain": [
       "<AxesSubplot:xlabel='city_centers_nearest', ylabel='last_price'>"
      ]
     },
     "execution_count": 76,
     "metadata": {},
     "output_type": "execute_result"
    },
    {
     "data": {
      "image/png": "[encoded data removed]",
      "text/plain": [
       "<Figure size 432x288 with 1 Axes>"
      ]
     },
     "metadata": {
      "needs_background": "light"
     },
     "output_type": "display_data"
    }
   ],
   "source": [
    "#построение диаграммы рассеяния\n",
    "data_center.plot(x='city_centers_nearest',\n",
    "                 y='last_price',\n",
    "                 kind='scatter',          \n",
    "                 ylim=(0, 10**8),\n",
    "                 alpha=0.5)"
   ]
  },
  {
   "cell_type": "code",
   "execution_count": 77,
   "metadata": {},
   "outputs": [
    {
     "data": {
      "text/plain": [
       "-0.1627364261823437"
      ]
     },
     "execution_count": 77,
     "metadata": {},
     "output_type": "execute_result"
    }
   ],
   "source": [
    "#нахождение коэффициента корреляции\n",
    "data_center['last_price'].corr(data['city_centers_nearest'])"
   ]
  },
  {
   "cell_type": "markdown",
   "metadata": {},
   "source": [
    "Между площадью квартиры и расстоянием до центра есть зависимость (чем дальше до центра, тем меньше стоимость), но коэффициент Пирсона = -0.16 говорит о том, что эта зависимость очень слабая, даже слабее, чем для всех квартир в базе (коэффициент Пирсона = -0.2)."
   ]
  },
  {
   "cell_type": "markdown",
   "metadata": {},
   "source": [
    "* Зависимость стоимости от этажа"
   ]
  },
  {
   "cell_type": "code",
   "execution_count": 78,
   "metadata": {},
   "outputs": [
    {
     "data": {
      "text/plain": [
       "<AxesSubplot:xlabel='floor_category'>"
      ]
     },
     "execution_count": 78,
     "metadata": {},
     "output_type": "execute_result"
    },
    {
     "data": {
      "image/png": "[encoded data removed]",
      "text/plain": [
       "<Figure size 432x288 with 1 Axes>"
      ]
     },
     "metadata": {
      "needs_background": "light"
     },
     "output_type": "display_data"
    }
   ],
   "source": [
    "#построение столбчатого графика\n",
    "data_center.pivot_table(index='floor_category', \n",
    "                        values='last_price', \n",
    "                        aggfunc='median').plot(kind='bar')"
   ]
  },
  {
   "cell_type": "markdown",
   "metadata": {},
   "source": [
    "Для первого этажа стоимость немного ниже, чем для остальных, но в целом стоимость квартир для разных этажей примерно одинакова, как и для всех квартир в базе."
   ]
  },
  {
   "cell_type": "markdown",
   "metadata": {},
   "source": [
    "* Зависимость стоимости от дня недели размещения объявления"
   ]
  },
  {
   "cell_type": "code",
   "execution_count": 79,
   "metadata": {},
   "outputs": [
    {
     "data": {
      "text/plain": [
       "<AxesSubplot:xlabel='weekday_exposition'>"
      ]
     },
     "execution_count": 79,
     "metadata": {},
     "output_type": "execute_result"
    },
    {
     "data": {
      "image/png": "[encoded data removed]",
      "text/plain": [
       "<Figure size 432x288 with 1 Axes>"
      ]
     },
     "metadata": {
      "needs_background": "light"
     },
     "output_type": "display_data"
    }
   ],
   "source": [
    "#построение столбчатого графика\n",
    "data_center.pivot_table(index='weekday_exposition', \n",
    "                        values='last_price', \n",
    "                        aggfunc='median').plot(kind='bar')"
   ]
  },
  {
   "cell_type": "markdown",
   "metadata": {},
   "source": [
    "Стоимость квартиры немного ниже в объявлениях, размещенных в субботу, но в целом не зависит от дня недели размещения объявления, как и для всей базы."
   ]
  },
  {
   "cell_type": "markdown",
   "metadata": {},
   "source": [
    "* Зависимость стоимости от месяца размещения объявления"
   ]
  },
  {
   "cell_type": "code",
   "execution_count": 80,
   "metadata": {},
   "outputs": [
    {
     "data": {
      "text/plain": [
       "<AxesSubplot:xlabel='month_exposition'>"
      ]
     },
     "execution_count": 80,
     "metadata": {},
     "output_type": "execute_result"
    },
    {
     "data": {
      "image/png": "[encoded data removed]",
      "text/plain": [
       "<Figure size 432x288 with 1 Axes>"
      ]
     },
     "metadata": {
      "needs_background": "light"
     },
     "output_type": "display_data"
    }
   ],
   "source": [
    "#построение столбчатого графика\n",
    "data_center.pivot_table(index='month_exposition', \n",
    "                        values='last_price', \n",
    "                        aggfunc='median').plot(kind='bar')"
   ]
  },
  {
   "cell_type": "markdown",
   "metadata": {},
   "source": [
    "Медианная стоимость квартиры немного ниже в августе и декабре, но в целом стоимость квартиры не сильно зависит от месяца размещения объявления, как и для всей базы."
   ]
  },
  {
   "cell_type": "markdown",
   "metadata": {},
   "source": [
    "* Зависимость стоимости от года размещения объявления"
   ]
  },
  {
   "cell_type": "code",
   "execution_count": 81,
   "metadata": {},
   "outputs": [
    {
     "data": {
      "text/plain": [
       "<AxesSubplot:xlabel='year_exposition'>"
      ]
     },
     "execution_count": 81,
     "metadata": {},
     "output_type": "execute_result"
    },
    {
     "data": {
      "image/png": "[encoded data removed]",
      "text/plain": [
       "<Figure size 432x288 with 1 Axes>"
      ]
     },
     "metadata": {
      "needs_background": "light"
     },
     "output_type": "display_data"
    }
   ],
   "source": [
    "#построение столбчатого графика\n",
    "data_center.pivot_table(index='year_exposition', \n",
    "                        values='last_price', \n",
    "                        aggfunc='median').plot(kind='bar')"
   ]
  },
  {
   "cell_type": "markdown",
   "metadata": {},
   "source": [
    "Самая большая стоимость квартир в объявлениях, размещенных в 2014 году, затем до 2017 года стоимость квартир падала, а к 2019 году снова начала расти, что справедливо и для всей базы."
   ]
  },
  {
   "cell_type": "markdown",
   "metadata": {},
   "source": [
    "### Вывод"
   ]
  },
  {
   "cell_type": "markdown",
   "metadata": {},
   "source": [
    "* Были изучены площадь, цена, число комнат, высота потолков, для некоторых параметров были определены выбивающиеся значения.\n",
    "* Было изучено время продажи квартиры, большинство квартир продаются за промежуток времени от 45 дней до 231 дня, было определено, что кварира продана слишком медленно, если она продавалась более 510 дней, и слишком быстро, если она продана быстрее, чем за неделю.\n",
    "* Были убраны редкие и выбивающиеся значения.\n",
    "* Была изучена зависимость стоимости квартиры от площади, числа комнат, удаленности от центра, этажа и даты размещения объявления. Сильнее всего стоимость квартиры зависит от площади и года размещения объявления.\n",
    "* Были выбраны 10 населенных пунктов с наибольшим числом объявлений, посчитана средняя цена квадратного метра в этих населенных пунктах, выделены населенные пункты с самой высокой и низкой стоимостью жилья.\n",
    "* Определена центральная зона в Санкт-Петербурге - 3 км от центра.\n",
    "* Для центральной зоны Санкт-Петербурга были изучены площадь, цена, число комнат, высота потолков, этаж, удалённость от центра, дата размещения объявления. Площадь, цена, число комнат и высота потолков для большинства квартир в центре больше, чем для большинства квартир в базе, зависимость стоимости от площади, числа комнат, удаленности от центра, этажа, даты размещения объявления примерно такая же, как для всех квартир в базе."
   ]
  },
  {
   "cell_type": "markdown",
   "metadata": {},
   "source": [
    "## Общий вывод"
   ]
  },
  {
   "cell_type": "markdown",
   "metadata": {},
   "source": [
    "В ходе данного исследования были изучены данные архива объявлений о продаже квартир в Санкт-Петербурге и соседних населённых пунктах за несколько лет. Была проведена предобработка данных: все названия столбцов были приведены к змеиному регистру, были обработаны пропущенные значения, изменены типы данных некоторых столбцов. \n",
    "\n",
    "Также были проведены необходимые для дальнейшего исследования расчеты (цена квадратного метра, день недели, месяц и год публикации объявления, категория этажа квартиры - первый, последний или другой, соотношение жилой и общей площади, отношение площади кухни к общей), результаты были добавлены в таблицу.\n",
    "\n",
    "Был проведен исследовательский анализ данных:\n",
    "1. Изучены площадь, цена, число комнат, высота потолков квартир, для каждого параметра построены гистограммы, выделены выбивающиеся значения, определены наиболее часто встречающиеся значения данных параметров:\n",
    "* площадь - от 40 до 69.7;\n",
    "* цена - от 3400000 до 6790000;\n",
    "* число комнат -  от 1 до 3;\n",
    "* высота потолков - от 2.51 до 2.8.\n",
    "Все эти значения выглядят правдоподобно.\n",
    "2. Изучено время продажи квартиры, построена гистограмма, посчитаны среднее и медиана. Среднее значение времени продажи квартиры - 181 день, медианное - 95 дней. Большинство квартир продают за промежуток времени от 45 дней до 231 дня. Также были определены критерии слишком быстрой и слишком медленной продажи квартиры: кварира продана слишком медленно, если она продавалась более 510 дней, и слишком быстро, если она продана быстрее, чем за неделю.\n",
    "3. Убраны редкие и выбивающиеся значения (цена менее 300000 и высота потолков менее 2.4 и более 4).\n",
    "4. Было изучено влияние площади, числа комнат, удаленности от центра, этажа и даты размещения объявления на стоимость квартиры. Стоимость больше всего зависит от площади (но эта зависимость не слишком сильная, коэффициент Пирсона = 0.65), от числа комнат и удаленности от центра стоимость зависит слабее. От этажа стоимость также не сильно зависит, но для первого этажа она все же немного ниже. От дня недели и месяца размещения объявления стоимость квартиры не зависит, с 2014 по 2016 годы стоимость квартир уменьшалась, а с 2019 года вновь начала расти.\n",
    "5. Были выбраны 10 населенных пунктов с наибольшим числом объявлений, из них был найден населенный пункт с наибольшей ценой за квадратный метр (Санкт-Петербург, 114650.41) и с наименьшей ценой за квадратный метр (Выборг, 58190.13).\n",
    "6. Определена центральная зона Санкт-Петербурга - 3 км от центра. Для центральной зоны также были изучены площадь, цена, число комнат, высота потолков квартир, для каждого параметра построены гистограммы, определены наиболее часто встречающиеся значения данных параметров:\n",
    "* площадь - от 63.6 до 116.525;\n",
    "* цена - от 7299250 до 14992500;\n",
    "* число комнат -  от 2 до 4;\n",
    "* высота потолков -  от 3 до 3.4.\n",
    "Все значения параметров для квартир в центре больше, чем для всех квартир в базе. Также было изучено влияние площади, числа комнат, удаленности от центра, этажа и даты размещения объявления на стоимость квартиры в центре, зависимость всех параметров примерно такая же, как и для всех квартир в базе."
   ]
  }
 ],
 "metadata": {
  "ExecuteTimeLog": [
   {
    "duration": 505,
    "start_time": "2022-04-23T08:40:56.439Z"
   },
   {
    "duration": 80,
    "start_time": "2022-04-23T09:02:37.496Z"
   },
   {
    "duration": 75,
    "start_time": "2022-04-23T09:03:06.875Z"
   },
   {
    "duration": 95,
    "start_time": "2022-04-23T09:03:52.108Z"
   },
   {
    "duration": 14,
    "start_time": "2022-04-23T09:11:58.091Z"
   },
   {
    "duration": 87,
    "start_time": "2022-04-23T09:27:22.441Z"
   },
   {
    "duration": 14,
    "start_time": "2022-04-23T09:27:24.068Z"
   },
   {
    "duration": 14,
    "start_time": "2022-04-23T10:50:03.361Z"
   },
   {
    "duration": 17,
    "start_time": "2022-04-23T10:50:21.961Z"
   },
   {
    "duration": 6,
    "start_time": "2022-04-23T10:52:15.798Z"
   },
   {
    "duration": 7,
    "start_time": "2022-04-23T10:54:40.539Z"
   },
   {
    "duration": 7,
    "start_time": "2022-04-23T10:56:50.961Z"
   },
   {
    "duration": 471,
    "start_time": "2022-04-23T16:28:40.630Z"
   },
   {
    "duration": 108,
    "start_time": "2022-04-23T16:28:43.129Z"
   },
   {
    "duration": 16,
    "start_time": "2022-04-23T16:28:44.780Z"
   },
   {
    "duration": 6,
    "start_time": "2022-04-23T16:28:48.100Z"
   },
   {
    "duration": 6,
    "start_time": "2022-04-23T16:29:38.389Z"
   },
   {
    "duration": 10,
    "start_time": "2022-04-23T16:30:43.151Z"
   },
   {
    "duration": 4,
    "start_time": "2022-04-23T16:31:25.110Z"
   },
   {
    "duration": 4,
    "start_time": "2022-04-23T16:31:37.209Z"
   },
   {
    "duration": 4,
    "start_time": "2022-04-23T16:31:52.500Z"
   },
   {
    "duration": 68,
    "start_time": "2022-04-23T16:32:09.898Z"
   },
   {
    "duration": 7,
    "start_time": "2022-04-23T16:32:21.152Z"
   },
   {
    "duration": 7,
    "start_time": "2022-04-23T16:32:28.130Z"
   },
   {
    "duration": 8,
    "start_time": "2022-04-23T16:32:50.220Z"
   },
   {
    "duration": 7,
    "start_time": "2022-04-23T16:33:06.950Z"
   },
   {
    "duration": 8,
    "start_time": "2022-04-23T16:41:25.118Z"
   },
   {
    "duration": 4,
    "start_time": "2022-04-23T16:44:06.358Z"
   },
   {
    "duration": 5,
    "start_time": "2022-04-23T16:45:03.734Z"
   },
   {
    "duration": 17,
    "start_time": "2022-04-23T16:45:25.625Z"
   },
   {
    "duration": 15,
    "start_time": "2022-04-23T16:45:52.266Z"
   },
   {
    "duration": 7,
    "start_time": "2022-04-23T16:46:11.155Z"
   },
   {
    "duration": 5,
    "start_time": "2022-04-23T16:46:43.058Z"
   },
   {
    "duration": 6,
    "start_time": "2022-04-23T16:47:01.199Z"
   },
   {
    "duration": 6,
    "start_time": "2022-04-23T16:47:51.965Z"
   },
   {
    "duration": 15,
    "start_time": "2022-04-23T16:48:13.506Z"
   },
   {
    "duration": 5,
    "start_time": "2022-04-23T16:48:36.745Z"
   },
   {
    "duration": 5,
    "start_time": "2022-04-23T16:48:51.245Z"
   },
   {
    "duration": 5,
    "start_time": "2022-04-23T16:49:07.666Z"
   },
   {
    "duration": 6,
    "start_time": "2022-04-23T16:49:21.605Z"
   },
   {
    "duration": 14,
    "start_time": "2022-04-23T16:49:59.408Z"
   },
   {
    "duration": 5,
    "start_time": "2022-04-23T16:50:24.038Z"
   },
   {
    "duration": 8,
    "start_time": "2022-04-23T16:50:39.538Z"
   },
   {
    "duration": 19,
    "start_time": "2022-04-23T16:51:04.430Z"
   },
   {
    "duration": 20,
    "start_time": "2022-04-23T16:51:29.120Z"
   },
   {
    "duration": 1794,
    "start_time": "2022-04-23T16:51:48.742Z"
   },
   {
    "duration": 5,
    "start_time": "2022-04-23T16:51:52.379Z"
   },
   {
    "duration": 16,
    "start_time": "2022-04-23T16:52:04.700Z"
   },
   {
    "duration": 1977,
    "start_time": "2022-04-23T16:52:29.058Z"
   },
   {
    "duration": 4,
    "start_time": "2022-04-23T16:52:34.679Z"
   },
   {
    "duration": 15,
    "start_time": "2022-04-23T16:52:45.223Z"
   },
   {
    "duration": 15,
    "start_time": "2022-04-23T16:53:02.144Z"
   },
   {
    "duration": 7,
    "start_time": "2022-04-23T16:56:42.325Z"
   },
   {
    "duration": 13,
    "start_time": "2022-04-23T16:57:08.333Z"
   },
   {
    "duration": 70,
    "start_time": "2022-04-23T16:57:13.744Z"
   },
   {
    "duration": 93,
    "start_time": "2022-04-23T16:57:15.914Z"
   },
   {
    "duration": 16,
    "start_time": "2022-04-23T16:57:17.554Z"
   },
   {
    "duration": 7,
    "start_time": "2022-04-23T16:57:20.274Z"
   },
   {
    "duration": 6,
    "start_time": "2022-04-23T16:57:21.796Z"
   },
   {
    "duration": 50,
    "start_time": "2022-04-23T16:57:31.504Z"
   },
   {
    "duration": 555,
    "start_time": "2022-04-23T16:57:39.654Z"
   },
   {
    "duration": 101,
    "start_time": "2022-04-23T16:57:41.613Z"
   },
   {
    "duration": 18,
    "start_time": "2022-04-23T16:57:43.593Z"
   },
   {
    "duration": 7,
    "start_time": "2022-04-23T16:57:46.384Z"
   },
   {
    "duration": 7,
    "start_time": "2022-04-23T16:57:48.126Z"
   },
   {
    "duration": 491,
    "start_time": "2022-04-23T16:58:05.286Z"
   },
   {
    "duration": 139,
    "start_time": "2022-04-23T16:58:06.962Z"
   },
   {
    "duration": 16,
    "start_time": "2022-04-23T16:58:10.573Z"
   },
   {
    "duration": 6,
    "start_time": "2022-04-23T16:58:13.989Z"
   },
   {
    "duration": 8,
    "start_time": "2022-04-23T16:58:15.580Z"
   },
   {
    "duration": 29,
    "start_time": "2022-04-23T16:58:16.931Z"
   },
   {
    "duration": 26,
    "start_time": "2022-04-23T16:58:52.460Z"
   },
   {
    "duration": 35,
    "start_time": "2022-04-23T16:59:56.872Z"
   },
   {
    "duration": 6,
    "start_time": "2022-04-23T17:01:46.881Z"
   },
   {
    "duration": 6,
    "start_time": "2022-04-23T17:02:02.322Z"
   },
   {
    "duration": 35,
    "start_time": "2022-04-23T17:03:04.901Z"
   },
   {
    "duration": 54,
    "start_time": "2022-04-23T17:03:32.594Z"
   },
   {
    "duration": 10,
    "start_time": "2022-04-23T17:05:19.418Z"
   },
   {
    "duration": 7,
    "start_time": "2022-04-23T17:06:22.012Z"
   },
   {
    "duration": 36,
    "start_time": "2022-04-23T17:20:32.289Z"
   },
   {
    "duration": 36,
    "start_time": "2022-04-23T17:21:49.010Z"
   },
   {
    "duration": 7,
    "start_time": "2022-04-23T17:21:58.391Z"
   },
   {
    "duration": 6,
    "start_time": "2022-04-23T17:22:24.303Z"
   },
   {
    "duration": 6,
    "start_time": "2022-04-23T17:25:17.761Z"
   },
   {
    "duration": 4,
    "start_time": "2022-04-23T17:36:24.039Z"
   },
   {
    "duration": 116,
    "start_time": "2022-04-23T17:39:07.117Z"
   },
   {
    "duration": 7,
    "start_time": "2022-04-23T17:39:13.659Z"
   },
   {
    "duration": 6,
    "start_time": "2022-04-23T17:39:29.737Z"
   },
   {
    "duration": 64,
    "start_time": "2022-04-23T17:40:19.558Z"
   },
   {
    "duration": 7,
    "start_time": "2022-04-23T17:40:25.557Z"
   },
   {
    "duration": 6,
    "start_time": "2022-04-23T17:40:51.499Z"
   },
   {
    "duration": 6,
    "start_time": "2022-04-23T17:42:18.920Z"
   },
   {
    "duration": 5,
    "start_time": "2022-04-23T17:42:51.485Z"
   },
   {
    "duration": 15,
    "start_time": "2022-04-23T17:43:05.235Z"
   },
   {
    "duration": 7,
    "start_time": "2022-04-23T17:48:52.141Z"
   },
   {
    "duration": 6,
    "start_time": "2022-04-23T17:50:06.958Z"
   },
   {
    "duration": 5,
    "start_time": "2022-04-23T17:51:13.213Z"
   },
   {
    "duration": 74,
    "start_time": "2022-04-23T17:51:26.690Z"
   },
   {
    "duration": 506,
    "start_time": "2022-04-23T17:51:40.477Z"
   },
   {
    "duration": 102,
    "start_time": "2022-04-23T17:51:42.629Z"
   },
   {
    "duration": 15,
    "start_time": "2022-04-23T17:51:44.289Z"
   },
   {
    "duration": 6,
    "start_time": "2022-04-23T17:51:50.960Z"
   },
   {
    "duration": 7,
    "start_time": "2022-04-23T17:51:52.518Z"
   },
   {
    "duration": 7,
    "start_time": "2022-04-23T17:51:54.165Z"
   },
   {
    "duration": 36,
    "start_time": "2022-04-23T17:51:55.185Z"
   },
   {
    "duration": 5,
    "start_time": "2022-04-23T17:52:04.399Z"
   },
   {
    "duration": 9,
    "start_time": "2022-04-23T17:52:11.037Z"
   },
   {
    "duration": 5,
    "start_time": "2022-04-23T17:52:12.217Z"
   },
   {
    "duration": 6,
    "start_time": "2022-04-23T17:52:13.817Z"
   },
   {
    "duration": 5,
    "start_time": "2022-04-23T17:52:41.121Z"
   },
   {
    "duration": 6,
    "start_time": "2022-04-23T17:53:20.524Z"
   },
   {
    "duration": 6,
    "start_time": "2022-04-23T17:53:21.533Z"
   },
   {
    "duration": 6,
    "start_time": "2022-04-23T17:57:25.050Z"
   },
   {
    "duration": 7,
    "start_time": "2022-04-23T17:58:52.789Z"
   },
   {
    "duration": 6,
    "start_time": "2022-04-23T17:59:11.478Z"
   },
   {
    "duration": 466,
    "start_time": "2022-04-23T18:01:07.830Z"
   },
   {
    "duration": 96,
    "start_time": "2022-04-23T18:01:10.718Z"
   },
   {
    "duration": 15,
    "start_time": "2022-04-23T18:01:13.368Z"
   },
   {
    "duration": 7,
    "start_time": "2022-04-23T18:01:20.669Z"
   },
   {
    "duration": 6,
    "start_time": "2022-04-23T18:01:29.818Z"
   },
   {
    "duration": 10,
    "start_time": "2022-04-23T18:01:31.858Z"
   },
   {
    "duration": 6,
    "start_time": "2022-04-23T18:01:32.920Z"
   },
   {
    "duration": 8,
    "start_time": "2022-04-23T18:11:10.681Z"
   },
   {
    "duration": 7,
    "start_time": "2022-04-23T18:11:11.811Z"
   },
   {
    "duration": 6,
    "start_time": "2022-04-23T18:18:34.007Z"
   },
   {
    "duration": 6,
    "start_time": "2022-04-23T18:18:44.959Z"
   },
   {
    "duration": 7,
    "start_time": "2022-04-23T18:19:52.206Z"
   },
   {
    "duration": 8,
    "start_time": "2022-04-23T18:20:47.379Z"
   },
   {
    "duration": 7,
    "start_time": "2022-04-23T18:20:51.086Z"
   },
   {
    "duration": 7,
    "start_time": "2022-04-23T18:20:52.135Z"
   },
   {
    "duration": 11,
    "start_time": "2022-04-23T18:23:46.937Z"
   },
   {
    "duration": 23,
    "start_time": "2022-04-23T18:24:14.858Z"
   },
   {
    "duration": 7,
    "start_time": "2022-04-23T18:25:33.350Z"
   },
   {
    "duration": 6,
    "start_time": "2022-04-23T18:25:37.871Z"
   },
   {
    "duration": 16,
    "start_time": "2022-04-23T18:26:10.410Z"
   },
   {
    "duration": 25,
    "start_time": "2022-04-23T18:27:02.661Z"
   },
   {
    "duration": 24,
    "start_time": "2022-04-23T18:27:10.574Z"
   },
   {
    "duration": 25,
    "start_time": "2022-04-23T18:27:44.331Z"
   },
   {
    "duration": 25,
    "start_time": "2022-04-23T18:30:56.267Z"
   },
   {
    "duration": 72,
    "start_time": "2022-04-23T18:32:05.618Z"
   },
   {
    "duration": 6,
    "start_time": "2022-04-23T18:32:26.751Z"
   },
   {
    "duration": 6,
    "start_time": "2022-04-23T18:38:51.201Z"
   },
   {
    "duration": 6,
    "start_time": "2022-04-23T18:40:36.247Z"
   },
   {
    "duration": 8,
    "start_time": "2022-04-23T18:42:28.582Z"
   },
   {
    "duration": 8,
    "start_time": "2022-04-23T18:43:20.183Z"
   },
   {
    "duration": 7,
    "start_time": "2022-04-23T18:44:12.301Z"
   },
   {
    "duration": 7,
    "start_time": "2022-04-23T18:44:55.521Z"
   },
   {
    "duration": 7,
    "start_time": "2022-04-23T18:46:43.443Z"
   },
   {
    "duration": 7,
    "start_time": "2022-04-23T18:49:50.661Z"
   },
   {
    "duration": 7,
    "start_time": "2022-04-23T18:50:05.000Z"
   },
   {
    "duration": 7,
    "start_time": "2022-04-23T18:50:52.855Z"
   },
   {
    "duration": 5,
    "start_time": "2022-04-23T18:56:38.907Z"
   },
   {
    "duration": 7,
    "start_time": "2022-04-23T19:01:53.498Z"
   },
   {
    "duration": 5,
    "start_time": "2022-04-23T19:07:01.903Z"
   },
   {
    "duration": 5,
    "start_time": "2022-04-23T19:07:12.193Z"
   },
   {
    "duration": 5,
    "start_time": "2022-04-23T19:09:46.780Z"
   },
   {
    "duration": 9,
    "start_time": "2022-04-23T19:10:07.819Z"
   },
   {
    "duration": 9,
    "start_time": "2022-04-23T19:10:09.519Z"
   },
   {
    "duration": 6,
    "start_time": "2022-04-23T19:11:08.348Z"
   },
   {
    "duration": 8,
    "start_time": "2022-04-23T19:11:28.829Z"
   },
   {
    "duration": 36,
    "start_time": "2022-04-23T19:11:57.917Z"
   },
   {
    "duration": 14,
    "start_time": "2022-04-23T19:13:34.689Z"
   },
   {
    "duration": 40,
    "start_time": "2022-04-23T19:14:00.028Z"
   },
   {
    "duration": 18,
    "start_time": "2022-04-23T19:14:17.648Z"
   },
   {
    "duration": 12,
    "start_time": "2022-04-23T19:14:27.078Z"
   },
   {
    "duration": 7,
    "start_time": "2022-04-23T19:16:05.828Z"
   },
   {
    "duration": 9,
    "start_time": "2022-04-23T19:23:57.587Z"
   },
   {
    "duration": 6,
    "start_time": "2022-04-23T19:27:05.892Z"
   },
   {
    "duration": 6,
    "start_time": "2022-04-23T19:31:20.717Z"
   },
   {
    "duration": 5,
    "start_time": "2022-04-23T19:34:29.202Z"
   },
   {
    "duration": 505,
    "start_time": "2022-04-23T19:34:48.984Z"
   },
   {
    "duration": 98,
    "start_time": "2022-04-23T19:34:51.063Z"
   },
   {
    "duration": 23,
    "start_time": "2022-04-23T19:34:53.171Z"
   },
   {
    "duration": 6,
    "start_time": "2022-04-23T19:34:56.069Z"
   },
   {
    "duration": 8,
    "start_time": "2022-04-23T19:34:58.013Z"
   },
   {
    "duration": 6,
    "start_time": "2022-04-23T19:35:00.122Z"
   },
   {
    "duration": 7,
    "start_time": "2022-04-23T19:35:03.652Z"
   },
   {
    "duration": 9,
    "start_time": "2022-04-23T19:35:17.490Z"
   },
   {
    "duration": 6,
    "start_time": "2022-04-23T19:35:20.764Z"
   },
   {
    "duration": 6,
    "start_time": "2022-04-23T19:35:23.944Z"
   },
   {
    "duration": 10,
    "start_time": "2022-04-23T19:35:25.082Z"
   },
   {
    "duration": 6,
    "start_time": "2022-04-23T19:35:26.372Z"
   },
   {
    "duration": 7,
    "start_time": "2022-04-23T19:35:28.861Z"
   },
   {
    "duration": 6,
    "start_time": "2022-04-23T19:36:11.032Z"
   },
   {
    "duration": 6,
    "start_time": "2022-04-23T19:36:39.122Z"
   },
   {
    "duration": 13,
    "start_time": "2022-04-23T19:38:11.205Z"
   },
   {
    "duration": 6,
    "start_time": "2022-04-23T19:39:20.248Z"
   },
   {
    "duration": 6,
    "start_time": "2022-04-23T19:42:17.652Z"
   },
   {
    "duration": 6,
    "start_time": "2022-04-23T19:45:43.667Z"
   },
   {
    "duration": 1746,
    "start_time": "2022-04-23T19:55:27.874Z"
   },
   {
    "duration": 16,
    "start_time": "2022-04-23T19:55:51.614Z"
   },
   {
    "duration": 19,
    "start_time": "2022-04-23T19:56:22.885Z"
   },
   {
    "duration": 15,
    "start_time": "2022-04-23T19:56:39.574Z"
   },
   {
    "duration": 5,
    "start_time": "2022-04-23T19:58:06.965Z"
   },
   {
    "duration": 14,
    "start_time": "2022-04-23T19:58:17.215Z"
   },
   {
    "duration": 14,
    "start_time": "2022-04-23T20:00:56.254Z"
   },
   {
    "duration": 13,
    "start_time": "2022-04-23T20:01:44.084Z"
   },
   {
    "duration": 16,
    "start_time": "2022-04-23T20:03:05.385Z"
   },
   {
    "duration": 15,
    "start_time": "2022-04-23T20:04:29.551Z"
   },
   {
    "duration": 10,
    "start_time": "2022-04-23T20:07:54.759Z"
   },
   {
    "duration": 14,
    "start_time": "2022-04-23T20:09:42.852Z"
   },
   {
    "duration": 78,
    "start_time": "2022-04-23T20:09:50.533Z"
   },
   {
    "duration": 34,
    "start_time": "2022-04-23T20:10:09.073Z"
   },
   {
    "duration": 25,
    "start_time": "2022-04-23T20:10:51.112Z"
   },
   {
    "duration": 23,
    "start_time": "2022-04-23T20:11:51.970Z"
   },
   {
    "duration": 49,
    "start_time": "2022-04-24T16:39:54.218Z"
   },
   {
    "duration": 488,
    "start_time": "2022-04-24T16:39:59.786Z"
   },
   {
    "duration": 103,
    "start_time": "2022-04-24T16:40:01.847Z"
   },
   {
    "duration": 15,
    "start_time": "2022-04-24T16:40:04.679Z"
   },
   {
    "duration": 8,
    "start_time": "2022-04-24T16:40:07.605Z"
   },
   {
    "duration": 7,
    "start_time": "2022-04-24T16:40:10.155Z"
   },
   {
    "duration": 5,
    "start_time": "2022-04-24T16:40:12.787Z"
   },
   {
    "duration": 12,
    "start_time": "2022-04-24T16:40:14.695Z"
   },
   {
    "duration": 8,
    "start_time": "2022-04-24T16:40:17.009Z"
   },
   {
    "duration": 8,
    "start_time": "2022-04-24T16:40:43.408Z"
   },
   {
    "duration": 5,
    "start_time": "2022-04-24T16:40:44.947Z"
   },
   {
    "duration": 7,
    "start_time": "2022-04-24T16:40:45.984Z"
   },
   {
    "duration": 7,
    "start_time": "2022-04-24T16:40:47.227Z"
   },
   {
    "duration": 6,
    "start_time": "2022-04-24T16:40:49.098Z"
   },
   {
    "duration": 7,
    "start_time": "2022-04-24T16:40:50.227Z"
   },
   {
    "duration": 11,
    "start_time": "2022-04-24T16:40:51.575Z"
   },
   {
    "duration": 11,
    "start_time": "2022-04-24T16:40:53.017Z"
   },
   {
    "duration": 11,
    "start_time": "2022-04-24T16:40:54.515Z"
   },
   {
    "duration": 6,
    "start_time": "2022-04-24T16:40:55.875Z"
   },
   {
    "duration": 7,
    "start_time": "2022-04-24T16:40:57.295Z"
   },
   {
    "duration": 9,
    "start_time": "2022-04-24T16:40:58.437Z"
   },
   {
    "duration": 6,
    "start_time": "2022-04-24T16:41:00.247Z"
   },
   {
    "duration": 6,
    "start_time": "2022-04-24T16:41:01.294Z"
   },
   {
    "duration": 6,
    "start_time": "2022-04-24T16:41:02.365Z"
   },
   {
    "duration": 7,
    "start_time": "2022-04-24T16:41:03.905Z"
   },
   {
    "duration": 20,
    "start_time": "2022-04-24T16:41:04.975Z"
   },
   {
    "duration": 103,
    "start_time": "2022-04-24T16:41:51.592Z"
   },
   {
    "duration": 61,
    "start_time": "2022-04-24T16:41:58.494Z"
   },
   {
    "duration": 477,
    "start_time": "2022-04-24T16:43:58.976Z"
   },
   {
    "duration": 111,
    "start_time": "2022-04-24T16:44:02.388Z"
   },
   {
    "duration": 24,
    "start_time": "2022-04-24T16:44:05.808Z"
   },
   {
    "duration": 7,
    "start_time": "2022-04-24T16:44:10.837Z"
   },
   {
    "duration": 7,
    "start_time": "2022-04-24T16:44:12.976Z"
   },
   {
    "duration": 6,
    "start_time": "2022-04-24T16:44:14.929Z"
   },
   {
    "duration": 18,
    "start_time": "2022-04-24T16:44:22.466Z"
   },
   {
    "duration": 6,
    "start_time": "2022-04-24T16:44:23.898Z"
   },
   {
    "duration": 8,
    "start_time": "2022-04-24T16:44:26.176Z"
   },
   {
    "duration": 6,
    "start_time": "2022-04-24T16:44:27.976Z"
   },
   {
    "duration": 6,
    "start_time": "2022-04-24T16:44:29.175Z"
   },
   {
    "duration": 6,
    "start_time": "2022-04-24T16:44:30.858Z"
   },
   {
    "duration": 7,
    "start_time": "2022-04-24T16:44:32.296Z"
   },
   {
    "duration": 8,
    "start_time": "2022-04-24T16:44:34.626Z"
   },
   {
    "duration": 7,
    "start_time": "2022-04-24T16:44:36.246Z"
   },
   {
    "duration": 15,
    "start_time": "2022-04-24T16:44:38.466Z"
   },
   {
    "duration": 5,
    "start_time": "2022-04-24T16:44:41.387Z"
   },
   {
    "duration": 6,
    "start_time": "2022-04-24T16:44:43.166Z"
   },
   {
    "duration": 6,
    "start_time": "2022-04-24T16:44:45.078Z"
   },
   {
    "duration": 7,
    "start_time": "2022-04-24T16:44:46.821Z"
   },
   {
    "duration": 6,
    "start_time": "2022-04-24T16:44:47.958Z"
   },
   {
    "duration": 6,
    "start_time": "2022-04-24T16:44:49.488Z"
   },
   {
    "duration": 7,
    "start_time": "2022-04-24T16:44:50.856Z"
   },
   {
    "duration": 10,
    "start_time": "2022-04-24T16:44:52.105Z"
   },
   {
    "duration": 5,
    "start_time": "2022-04-24T16:44:53.398Z"
   },
   {
    "duration": 45,
    "start_time": "2022-04-24T16:44:55.427Z"
   },
   {
    "duration": 58,
    "start_time": "2022-04-24T16:45:05.768Z"
   },
   {
    "duration": 4,
    "start_time": "2022-04-24T16:51:50.788Z"
   },
   {
    "duration": 65,
    "start_time": "2022-04-24T16:52:00.036Z"
   },
   {
    "duration": 10,
    "start_time": "2022-04-24T16:52:15.295Z"
   },
   {
    "duration": 47,
    "start_time": "2022-04-24T16:52:40.128Z"
   },
   {
    "duration": 6,
    "start_time": "2022-04-24T16:52:50.259Z"
   },
   {
    "duration": 23,
    "start_time": "2022-04-24T17:04:47.058Z"
   },
   {
    "duration": 23,
    "start_time": "2022-04-24T17:07:25.000Z"
   },
   {
    "duration": 28,
    "start_time": "2022-04-24T17:09:03.519Z"
   },
   {
    "duration": 31,
    "start_time": "2022-04-24T17:09:48.898Z"
   },
   {
    "duration": 12,
    "start_time": "2022-04-24T17:10:15.708Z"
   },
   {
    "duration": 7,
    "start_time": "2022-04-24T17:10:42.769Z"
   },
   {
    "duration": 14,
    "start_time": "2022-04-24T17:10:47.168Z"
   },
   {
    "duration": 11,
    "start_time": "2022-04-24T17:11:47.388Z"
   },
   {
    "duration": 4,
    "start_time": "2022-04-24T17:12:00.238Z"
   },
   {
    "duration": 17,
    "start_time": "2022-04-24T17:12:16.922Z"
   },
   {
    "duration": 461,
    "start_time": "2022-04-24T17:13:00.661Z"
   },
   {
    "duration": 115,
    "start_time": "2022-04-24T17:13:03.004Z"
   },
   {
    "duration": 16,
    "start_time": "2022-04-24T17:13:04.754Z"
   },
   {
    "duration": 8,
    "start_time": "2022-04-24T17:13:08.141Z"
   },
   {
    "duration": 9,
    "start_time": "2022-04-24T17:13:10.172Z"
   },
   {
    "duration": 7,
    "start_time": "2022-04-24T17:13:11.824Z"
   },
   {
    "duration": 26,
    "start_time": "2022-04-24T17:13:13.213Z"
   },
   {
    "duration": 11,
    "start_time": "2022-04-24T17:13:14.514Z"
   },
   {
    "duration": 11,
    "start_time": "2022-04-24T17:13:15.910Z"
   },
   {
    "duration": 8,
    "start_time": "2022-04-24T17:13:17.193Z"
   },
   {
    "duration": 7,
    "start_time": "2022-04-24T17:13:18.585Z"
   },
   {
    "duration": 8,
    "start_time": "2022-04-24T17:13:19.823Z"
   },
   {
    "duration": 8,
    "start_time": "2022-04-24T17:13:20.873Z"
   },
   {
    "duration": 8,
    "start_time": "2022-04-24T17:13:22.805Z"
   },
   {
    "duration": 9,
    "start_time": "2022-04-24T17:13:24.072Z"
   },
   {
    "duration": 15,
    "start_time": "2022-04-24T17:13:25.170Z"
   },
   {
    "duration": 8,
    "start_time": "2022-04-24T17:13:26.414Z"
   },
   {
    "duration": 7,
    "start_time": "2022-04-24T17:13:27.604Z"
   },
   {
    "duration": 7,
    "start_time": "2022-04-24T17:13:29.054Z"
   },
   {
    "duration": 6,
    "start_time": "2022-04-24T17:13:30.790Z"
   },
   {
    "duration": 7,
    "start_time": "2022-04-24T17:13:31.833Z"
   },
   {
    "duration": 8,
    "start_time": "2022-04-24T17:13:33.445Z"
   },
   {
    "duration": 10,
    "start_time": "2022-04-24T17:13:34.565Z"
   },
   {
    "duration": 7,
    "start_time": "2022-04-24T17:13:35.992Z"
   },
   {
    "duration": 7,
    "start_time": "2022-04-24T17:13:37.493Z"
   },
   {
    "duration": 26,
    "start_time": "2022-04-24T17:13:57.244Z"
   },
   {
    "duration": 73,
    "start_time": "2022-04-24T17:15:04.496Z"
   },
   {
    "duration": 25,
    "start_time": "2022-04-24T17:22:13.734Z"
   },
   {
    "duration": 514,
    "start_time": "2022-04-24T17:30:36.386Z"
   },
   {
    "duration": 103,
    "start_time": "2022-04-24T17:30:38.794Z"
   },
   {
    "duration": 25,
    "start_time": "2022-04-24T17:30:40.614Z"
   },
   {
    "duration": 8,
    "start_time": "2022-04-24T17:30:44.056Z"
   },
   {
    "duration": 6,
    "start_time": "2022-04-24T17:30:45.924Z"
   },
   {
    "duration": 5,
    "start_time": "2022-04-24T17:30:47.044Z"
   },
   {
    "duration": 16,
    "start_time": "2022-04-24T17:30:48.074Z"
   },
   {
    "duration": 6,
    "start_time": "2022-04-24T17:30:49.536Z"
   },
   {
    "duration": 7,
    "start_time": "2022-04-24T17:30:51.164Z"
   },
   {
    "duration": 12,
    "start_time": "2022-04-24T17:30:52.206Z"
   },
   {
    "duration": 6,
    "start_time": "2022-04-24T17:30:53.364Z"
   },
   {
    "duration": 7,
    "start_time": "2022-04-24T17:30:54.566Z"
   },
   {
    "duration": 5,
    "start_time": "2022-04-24T17:30:55.587Z"
   },
   {
    "duration": 7,
    "start_time": "2022-04-24T17:30:57.337Z"
   },
   {
    "duration": 6,
    "start_time": "2022-04-24T17:30:58.474Z"
   },
   {
    "duration": 14,
    "start_time": "2022-04-24T17:30:59.644Z"
   },
   {
    "duration": 8,
    "start_time": "2022-04-24T17:31:00.917Z"
   },
   {
    "duration": 6,
    "start_time": "2022-04-24T17:31:02.586Z"
   },
   {
    "duration": 7,
    "start_time": "2022-04-24T17:31:04.065Z"
   },
   {
    "duration": 6,
    "start_time": "2022-04-24T17:31:05.574Z"
   },
   {
    "duration": 8,
    "start_time": "2022-04-24T17:31:06.756Z"
   },
   {
    "duration": 6,
    "start_time": "2022-04-24T17:31:08.254Z"
   },
   {
    "duration": 9,
    "start_time": "2022-04-24T17:31:10.418Z"
   },
   {
    "duration": 7,
    "start_time": "2022-04-24T17:31:11.724Z"
   },
   {
    "duration": 6,
    "start_time": "2022-04-24T17:31:13.077Z"
   },
   {
    "duration": 26,
    "start_time": "2022-04-24T17:31:14.676Z"
   },
   {
    "duration": 41,
    "start_time": "2022-04-24T17:33:53.881Z"
   },
   {
    "duration": 56,
    "start_time": "2022-04-24T17:34:31.420Z"
   },
   {
    "duration": 5,
    "start_time": "2022-04-24T17:35:39.791Z"
   },
   {
    "duration": 74,
    "start_time": "2022-04-24T17:42:18.590Z"
   },
   {
    "duration": 49,
    "start_time": "2022-04-24T17:43:20.221Z"
   },
   {
    "duration": 12,
    "start_time": "2022-04-24T17:47:47.179Z"
   },
   {
    "duration": 18,
    "start_time": "2022-04-24T17:57:27.527Z"
   },
   {
    "duration": 16,
    "start_time": "2022-04-24T17:58:44.122Z"
   },
   {
    "duration": 23,
    "start_time": "2022-04-24T17:59:11.997Z"
   },
   {
    "duration": 443,
    "start_time": "2022-04-24T18:00:21.340Z"
   },
   {
    "duration": 384,
    "start_time": "2022-04-24T18:00:56.263Z"
   },
   {
    "duration": 379,
    "start_time": "2022-04-24T18:01:55.149Z"
   },
   {
    "duration": 339,
    "start_time": "2022-04-24T18:02:29.990Z"
   },
   {
    "duration": 365,
    "start_time": "2022-04-24T18:07:24.649Z"
   },
   {
    "duration": 6,
    "start_time": "2022-04-24T18:14:48.877Z"
   },
   {
    "duration": 25,
    "start_time": "2022-04-24T18:16:01.027Z"
   },
   {
    "duration": 6,
    "start_time": "2022-04-24T18:17:46.934Z"
   },
   {
    "duration": 24,
    "start_time": "2022-04-24T18:17:47.974Z"
   },
   {
    "duration": 24,
    "start_time": "2022-04-24T18:18:39.233Z"
   },
   {
    "duration": 681,
    "start_time": "2022-04-25T15:03:10.204Z"
   },
   {
    "duration": 149,
    "start_time": "2022-04-25T15:03:13.625Z"
   },
   {
    "duration": 28,
    "start_time": "2022-04-25T15:03:15.186Z"
   },
   {
    "duration": 9,
    "start_time": "2022-04-25T15:03:19.713Z"
   },
   {
    "duration": 6,
    "start_time": "2022-04-25T15:04:03.340Z"
   },
   {
    "duration": 7,
    "start_time": "2022-04-25T15:04:44.583Z"
   },
   {
    "duration": 26,
    "start_time": "2022-04-25T15:04:58.134Z"
   },
   {
    "duration": 6,
    "start_time": "2022-04-25T15:05:33.434Z"
   },
   {
    "duration": 22,
    "start_time": "2022-04-25T15:05:46.143Z"
   },
   {
    "duration": 6,
    "start_time": "2022-04-25T15:06:24.594Z"
   },
   {
    "duration": 17,
    "start_time": "2022-04-25T15:07:19.954Z"
   },
   {
    "duration": 7,
    "start_time": "2022-04-25T15:07:40.843Z"
   },
   {
    "duration": 8,
    "start_time": "2022-04-25T15:07:58.473Z"
   },
   {
    "duration": 11,
    "start_time": "2022-04-25T15:08:16.715Z"
   },
   {
    "duration": 10,
    "start_time": "2022-04-25T15:08:18.479Z"
   },
   {
    "duration": 23,
    "start_time": "2022-04-25T15:08:20.087Z"
   },
   {
    "duration": 10,
    "start_time": "2022-04-25T15:08:21.307Z"
   },
   {
    "duration": 14,
    "start_time": "2022-04-25T15:08:22.730Z"
   },
   {
    "duration": 11,
    "start_time": "2022-04-25T15:08:24.339Z"
   },
   {
    "duration": 11,
    "start_time": "2022-04-25T15:08:25.499Z"
   },
   {
    "duration": 13,
    "start_time": "2022-04-25T15:08:26.499Z"
   },
   {
    "duration": 10,
    "start_time": "2022-04-25T15:08:27.529Z"
   },
   {
    "duration": 9,
    "start_time": "2022-04-25T15:08:29.219Z"
   },
   {
    "duration": 8,
    "start_time": "2022-04-25T15:08:30.697Z"
   },
   {
    "duration": 19,
    "start_time": "2022-04-25T15:08:32.178Z"
   },
   {
    "duration": 7,
    "start_time": "2022-04-25T15:08:33.609Z"
   },
   {
    "duration": 8,
    "start_time": "2022-04-25T15:08:36.738Z"
   },
   {
    "duration": 8,
    "start_time": "2022-04-25T15:08:38.635Z"
   },
   {
    "duration": 9,
    "start_time": "2022-04-25T15:08:40.470Z"
   },
   {
    "duration": 10,
    "start_time": "2022-04-25T15:08:41.828Z"
   },
   {
    "duration": 9,
    "start_time": "2022-04-25T15:08:43.410Z"
   },
   {
    "duration": 9,
    "start_time": "2022-04-25T15:08:45.517Z"
   },
   {
    "duration": 12,
    "start_time": "2022-04-25T15:08:46.699Z"
   },
   {
    "duration": 11,
    "start_time": "2022-04-25T15:08:48.900Z"
   },
   {
    "duration": 34,
    "start_time": "2022-04-25T15:08:50.460Z"
   },
   {
    "duration": 70,
    "start_time": "2022-04-25T15:09:07.188Z"
   },
   {
    "duration": 619,
    "start_time": "2022-04-25T15:09:37.318Z"
   },
   {
    "duration": 132,
    "start_time": "2022-04-25T15:09:39.471Z"
   },
   {
    "duration": 22,
    "start_time": "2022-04-25T15:09:41.431Z"
   },
   {
    "duration": 9,
    "start_time": "2022-04-25T15:09:45.863Z"
   },
   {
    "duration": 10,
    "start_time": "2022-04-25T15:09:47.801Z"
   },
   {
    "duration": 8,
    "start_time": "2022-04-25T15:09:49.690Z"
   },
   {
    "duration": 25,
    "start_time": "2022-04-25T15:09:50.720Z"
   },
   {
    "duration": 8,
    "start_time": "2022-04-25T15:09:52.232Z"
   },
   {
    "duration": 10,
    "start_time": "2022-04-25T15:09:53.753Z"
   },
   {
    "duration": 8,
    "start_time": "2022-04-25T15:09:56.702Z"
   },
   {
    "duration": 9,
    "start_time": "2022-04-25T15:09:58.302Z"
   },
   {
    "duration": 10,
    "start_time": "2022-04-25T15:09:59.822Z"
   },
   {
    "duration": 8,
    "start_time": "2022-04-25T15:10:00.831Z"
   },
   {
    "duration": 8,
    "start_time": "2022-04-25T15:10:02.511Z"
   },
   {
    "duration": 7,
    "start_time": "2022-04-25T15:10:03.883Z"
   },
   {
    "duration": 19,
    "start_time": "2022-04-25T15:10:05.393Z"
   },
   {
    "duration": 8,
    "start_time": "2022-04-25T15:10:06.973Z"
   },
   {
    "duration": 9,
    "start_time": "2022-04-25T15:10:12.623Z"
   },
   {
    "duration": 9,
    "start_time": "2022-04-25T15:10:14.160Z"
   },
   {
    "duration": 10,
    "start_time": "2022-04-25T15:10:15.772Z"
   },
   {
    "duration": 11,
    "start_time": "2022-04-25T15:10:17.000Z"
   },
   {
    "duration": 9,
    "start_time": "2022-04-25T15:10:18.560Z"
   },
   {
    "duration": 10,
    "start_time": "2022-04-25T15:10:20.080Z"
   },
   {
    "duration": 11,
    "start_time": "2022-04-25T15:10:21.150Z"
   },
   {
    "duration": 9,
    "start_time": "2022-04-25T15:10:22.671Z"
   },
   {
    "duration": 35,
    "start_time": "2022-04-25T15:10:24.351Z"
   },
   {
    "duration": 73,
    "start_time": "2022-04-25T15:11:22.541Z"
   },
   {
    "duration": 37,
    "start_time": "2022-04-25T15:11:37.047Z"
   },
   {
    "duration": 38,
    "start_time": "2022-04-25T15:12:13.705Z"
   },
   {
    "duration": 39,
    "start_time": "2022-04-25T15:12:46.958Z"
   },
   {
    "duration": 37,
    "start_time": "2022-04-25T15:12:53.711Z"
   },
   {
    "duration": 592,
    "start_time": "2022-04-25T15:13:57.929Z"
   },
   {
    "duration": 138,
    "start_time": "2022-04-25T15:14:01.578Z"
   },
   {
    "duration": 23,
    "start_time": "2022-04-25T15:14:03.508Z"
   },
   {
    "duration": 10,
    "start_time": "2022-04-25T15:14:06.287Z"
   },
   {
    "duration": 10,
    "start_time": "2022-04-25T15:14:08.138Z"
   },
   {
    "duration": 7,
    "start_time": "2022-04-25T15:14:09.291Z"
   },
   {
    "duration": 23,
    "start_time": "2022-04-25T15:14:10.511Z"
   },
   {
    "duration": 8,
    "start_time": "2022-04-25T15:14:11.556Z"
   },
   {
    "duration": 12,
    "start_time": "2022-04-25T15:14:13.070Z"
   },
   {
    "duration": 10,
    "start_time": "2022-04-25T15:14:14.288Z"
   },
   {
    "duration": 8,
    "start_time": "2022-04-25T15:14:15.568Z"
   },
   {
    "duration": 10,
    "start_time": "2022-04-25T15:14:16.568Z"
   },
   {
    "duration": 9,
    "start_time": "2022-04-25T15:14:17.778Z"
   },
   {
    "duration": 9,
    "start_time": "2022-04-25T15:14:19.240Z"
   },
   {
    "duration": 8,
    "start_time": "2022-04-25T15:14:20.778Z"
   },
   {
    "duration": 20,
    "start_time": "2022-04-25T15:14:21.538Z"
   },
   {
    "duration": 10,
    "start_time": "2022-04-25T15:14:22.870Z"
   },
   {
    "duration": 9,
    "start_time": "2022-04-25T15:14:24.118Z"
   },
   {
    "duration": 9,
    "start_time": "2022-04-25T15:14:25.320Z"
   },
   {
    "duration": 10,
    "start_time": "2022-04-25T15:14:28.168Z"
   },
   {
    "duration": 11,
    "start_time": "2022-04-25T15:14:28.930Z"
   },
   {
    "duration": 9,
    "start_time": "2022-04-25T15:14:30.188Z"
   },
   {
    "duration": 10,
    "start_time": "2022-04-25T15:14:31.298Z"
   },
   {
    "duration": 11,
    "start_time": "2022-04-25T15:14:32.610Z"
   },
   {
    "duration": 10,
    "start_time": "2022-04-25T15:14:34.008Z"
   },
   {
    "duration": 38,
    "start_time": "2022-04-25T15:14:41.452Z"
   },
   {
    "duration": 5,
    "start_time": "2022-04-25T15:15:01.059Z"
   },
   {
    "duration": 17,
    "start_time": "2022-04-25T15:15:02.490Z"
   },
   {
    "duration": 581,
    "start_time": "2022-04-25T15:15:03.580Z"
   },
   {
    "duration": 38,
    "start_time": "2022-04-25T15:15:05.838Z"
   },
   {
    "duration": 16,
    "start_time": "2022-04-25T15:25:24.342Z"
   },
   {
    "duration": 524,
    "start_time": "2022-04-25T15:25:29.056Z"
   },
   {
    "duration": 38,
    "start_time": "2022-04-25T15:25:30.576Z"
   },
   {
    "duration": 7,
    "start_time": "2022-04-25T15:30:30.855Z"
   },
   {
    "duration": 901,
    "start_time": "2022-04-25T15:35:34.083Z"
   },
   {
    "duration": 355,
    "start_time": "2022-04-25T15:39:43.103Z"
   },
   {
    "duration": 269,
    "start_time": "2022-04-25T15:39:56.093Z"
   },
   {
    "duration": 351,
    "start_time": "2022-04-25T15:46:02.933Z"
   },
   {
    "duration": 120,
    "start_time": "2022-04-25T15:46:08.725Z"
   },
   {
    "duration": 12,
    "start_time": "2022-04-25T15:46:25.157Z"
   },
   {
    "duration": 187,
    "start_time": "2022-04-25T15:49:01.491Z"
   },
   {
    "duration": 231,
    "start_time": "2022-04-25T15:49:34.071Z"
   },
   {
    "duration": 282,
    "start_time": "2022-04-25T15:49:41.171Z"
   },
   {
    "duration": 325,
    "start_time": "2022-04-25T15:55:17.137Z"
   },
   {
    "duration": 257,
    "start_time": "2022-04-25T15:56:20.915Z"
   },
   {
    "duration": 12,
    "start_time": "2022-04-25T16:05:17.005Z"
   },
   {
    "duration": 253,
    "start_time": "2022-04-25T16:05:36.887Z"
   },
   {
    "duration": 309,
    "start_time": "2022-04-25T16:05:43.816Z"
   },
   {
    "duration": 255,
    "start_time": "2022-04-25T16:09:24.975Z"
   },
   {
    "duration": 263,
    "start_time": "2022-04-25T16:09:58.856Z"
   },
   {
    "duration": 280,
    "start_time": "2022-04-25T16:10:14.255Z"
   },
   {
    "duration": 378,
    "start_time": "2022-04-25T16:10:24.016Z"
   },
   {
    "duration": 265,
    "start_time": "2022-04-25T16:10:34.844Z"
   },
   {
    "duration": 12,
    "start_time": "2022-04-25T16:14:45.715Z"
   },
   {
    "duration": 238,
    "start_time": "2022-04-25T16:15:28.434Z"
   },
   {
    "duration": 314,
    "start_time": "2022-04-25T16:15:48.407Z"
   },
   {
    "duration": 395,
    "start_time": "2022-04-25T16:16:13.244Z"
   },
   {
    "duration": 367,
    "start_time": "2022-04-25T16:16:19.455Z"
   },
   {
    "duration": 232,
    "start_time": "2022-04-25T16:16:28.224Z"
   },
   {
    "duration": 246,
    "start_time": "2022-04-25T16:16:56.576Z"
   },
   {
    "duration": 269,
    "start_time": "2022-04-25T16:17:03.374Z"
   },
   {
    "duration": 14,
    "start_time": "2022-04-25T16:18:18.476Z"
   },
   {
    "duration": 10,
    "start_time": "2022-04-25T16:18:31.414Z"
   },
   {
    "duration": 11,
    "start_time": "2022-04-25T16:19:15.181Z"
   },
   {
    "duration": 10,
    "start_time": "2022-04-25T16:19:31.092Z"
   },
   {
    "duration": 7,
    "start_time": "2022-04-25T16:20:05.222Z"
   },
   {
    "duration": 10,
    "start_time": "2022-04-25T16:20:14.740Z"
   },
   {
    "duration": 11,
    "start_time": "2022-04-25T16:20:28.783Z"
   },
   {
    "duration": 10,
    "start_time": "2022-04-25T16:20:39.873Z"
   },
   {
    "duration": 9,
    "start_time": "2022-04-25T16:20:56.853Z"
   },
   {
    "duration": 370,
    "start_time": "2022-04-25T16:22:07.967Z"
   },
   {
    "duration": 8,
    "start_time": "2022-04-25T16:23:33.146Z"
   },
   {
    "duration": 10,
    "start_time": "2022-04-25T16:23:33.774Z"
   },
   {
    "duration": 8,
    "start_time": "2022-04-25T16:23:55.491Z"
   },
   {
    "duration": 10,
    "start_time": "2022-04-25T16:24:07.096Z"
   },
   {
    "duration": 13,
    "start_time": "2022-04-25T16:26:34.728Z"
   },
   {
    "duration": 9,
    "start_time": "2022-04-25T16:27:08.591Z"
   },
   {
    "duration": 10,
    "start_time": "2022-04-25T16:27:09.276Z"
   },
   {
    "duration": 14,
    "start_time": "2022-04-25T16:29:53.018Z"
   },
   {
    "duration": 280,
    "start_time": "2022-04-25T16:30:50.535Z"
   },
   {
    "duration": 276,
    "start_time": "2022-04-25T16:30:56.308Z"
   },
   {
    "duration": 269,
    "start_time": "2022-04-25T16:31:17.326Z"
   },
   {
    "duration": 256,
    "start_time": "2022-04-25T16:31:29.903Z"
   },
   {
    "duration": 235,
    "start_time": "2022-04-25T16:31:39.888Z"
   },
   {
    "duration": 234,
    "start_time": "2022-04-25T16:32:09.883Z"
   },
   {
    "duration": 359,
    "start_time": "2022-04-25T16:32:22.994Z"
   },
   {
    "duration": 239,
    "start_time": "2022-04-25T16:32:34.912Z"
   },
   {
    "duration": 269,
    "start_time": "2022-04-25T16:32:52.826Z"
   },
   {
    "duration": 265,
    "start_time": "2022-04-25T16:33:15.983Z"
   },
   {
    "duration": 252,
    "start_time": "2022-04-25T16:33:25.975Z"
   },
   {
    "duration": 240,
    "start_time": "2022-04-25T16:33:35.306Z"
   },
   {
    "duration": 341,
    "start_time": "2022-04-25T16:38:08.034Z"
   },
   {
    "duration": 290,
    "start_time": "2022-04-25T16:38:34.674Z"
   },
   {
    "duration": 232,
    "start_time": "2022-04-25T16:38:53.424Z"
   },
   {
    "duration": 13,
    "start_time": "2022-04-25T16:49:27.717Z"
   },
   {
    "duration": 2371,
    "start_time": "2022-04-25T16:55:58.239Z"
   },
   {
    "duration": 132,
    "start_time": "2022-04-25T16:56:00.682Z"
   },
   {
    "duration": 23,
    "start_time": "2022-04-25T16:56:07.302Z"
   },
   {
    "duration": 9,
    "start_time": "2022-04-25T16:56:11.382Z"
   },
   {
    "duration": 11,
    "start_time": "2022-04-25T16:56:14.944Z"
   },
   {
    "duration": 7,
    "start_time": "2022-04-25T16:56:16.468Z"
   },
   {
    "duration": 26,
    "start_time": "2022-04-25T16:56:17.931Z"
   },
   {
    "duration": 9,
    "start_time": "2022-04-25T16:56:19.203Z"
   },
   {
    "duration": 12,
    "start_time": "2022-04-25T16:56:20.631Z"
   },
   {
    "duration": 9,
    "start_time": "2022-04-25T16:56:23.682Z"
   },
   {
    "duration": 9,
    "start_time": "2022-04-25T16:56:25.771Z"
   },
   {
    "duration": 10,
    "start_time": "2022-04-25T16:56:26.811Z"
   },
   {
    "duration": 9,
    "start_time": "2022-04-25T16:56:28.134Z"
   },
   {
    "duration": 9,
    "start_time": "2022-04-25T16:56:31.431Z"
   },
   {
    "duration": 8,
    "start_time": "2022-04-25T16:56:32.808Z"
   },
   {
    "duration": 21,
    "start_time": "2022-04-25T16:56:34.330Z"
   },
   {
    "duration": 9,
    "start_time": "2022-04-25T16:56:35.961Z"
   },
   {
    "duration": 11,
    "start_time": "2022-04-25T16:56:37.092Z"
   },
   {
    "duration": 8,
    "start_time": "2022-04-25T16:56:38.382Z"
   },
   {
    "duration": 10,
    "start_time": "2022-04-25T16:56:40.372Z"
   },
   {
    "duration": 12,
    "start_time": "2022-04-25T16:56:41.200Z"
   },
   {
    "duration": 9,
    "start_time": "2022-04-25T16:56:42.673Z"
   },
   {
    "duration": 10,
    "start_time": "2022-04-25T16:56:44.191Z"
   },
   {
    "duration": 12,
    "start_time": "2022-04-25T16:56:45.201Z"
   },
   {
    "duration": 9,
    "start_time": "2022-04-25T16:56:46.833Z"
   },
   {
    "duration": 38,
    "start_time": "2022-04-25T16:56:48.401Z"
   },
   {
    "duration": 6,
    "start_time": "2022-04-25T16:56:58.541Z"
   },
   {
    "duration": 17,
    "start_time": "2022-04-25T16:56:59.931Z"
   },
   {
    "duration": 635,
    "start_time": "2022-04-25T16:57:01.131Z"
   },
   {
    "duration": 40,
    "start_time": "2022-04-25T16:57:02.582Z"
   },
   {
    "duration": 12,
    "start_time": "2022-04-25T16:57:13.862Z"
   },
   {
    "duration": 302,
    "start_time": "2022-04-25T16:57:16.841Z"
   },
   {
    "duration": 15,
    "start_time": "2022-04-25T16:57:19.019Z"
   },
   {
    "duration": 333,
    "start_time": "2022-04-25T16:57:20.343Z"
   },
   {
    "duration": 11,
    "start_time": "2022-04-25T16:57:22.612Z"
   },
   {
    "duration": 270,
    "start_time": "2022-04-25T16:57:24.250Z"
   },
   {
    "duration": 8,
    "start_time": "2022-04-25T16:57:26.261Z"
   },
   {
    "duration": 10,
    "start_time": "2022-04-25T16:57:28.181Z"
   },
   {
    "duration": 9,
    "start_time": "2022-04-25T16:57:33.072Z"
   },
   {
    "duration": 12,
    "start_time": "2022-04-25T16:57:54.035Z"
   },
   {
    "duration": 13,
    "start_time": "2022-04-25T16:58:02.290Z"
   },
   {
    "duration": 236,
    "start_time": "2022-04-25T16:58:04.942Z"
   },
   {
    "duration": 253,
    "start_time": "2022-04-25T16:58:06.971Z"
   },
   {
    "duration": 13,
    "start_time": "2022-04-25T16:58:08.873Z"
   },
   {
    "duration": 122,
    "start_time": "2022-04-25T16:58:11.204Z"
   },
   {
    "duration": 196,
    "start_time": "2022-04-25T16:58:50.862Z"
   },
   {
    "duration": 204,
    "start_time": "2022-04-25T16:59:40.883Z"
   },
   {
    "duration": 172,
    "start_time": "2022-04-25T16:59:50.671Z"
   },
   {
    "duration": 163,
    "start_time": "2022-04-25T17:00:03.651Z"
   },
   {
    "duration": 180,
    "start_time": "2022-04-25T17:00:22.092Z"
   },
   {
    "duration": 15,
    "start_time": "2022-04-25T17:06:00.901Z"
   },
   {
    "duration": 7,
    "start_time": "2022-04-25T17:08:11.232Z"
   },
   {
    "duration": 82,
    "start_time": "2022-04-25T17:15:22.400Z"
   },
   {
    "duration": 81,
    "start_time": "2022-04-25T17:15:30.240Z"
   },
   {
    "duration": 81,
    "start_time": "2022-04-25T17:15:38.382Z"
   },
   {
    "duration": 80,
    "start_time": "2022-04-25T17:15:44.551Z"
   },
   {
    "duration": 58,
    "start_time": "2022-04-25T17:17:06.081Z"
   },
   {
    "duration": 25,
    "start_time": "2022-04-25T17:18:18.139Z"
   },
   {
    "duration": 33,
    "start_time": "2022-04-25T18:08:47.367Z"
   },
   {
    "duration": 32,
    "start_time": "2022-04-25T18:13:48.588Z"
   },
   {
    "duration": 8,
    "start_time": "2022-04-25T18:14:12.967Z"
   },
   {
    "duration": 7,
    "start_time": "2022-04-25T18:14:17.469Z"
   },
   {
    "duration": 7,
    "start_time": "2022-04-25T18:14:54.762Z"
   },
   {
    "duration": 12,
    "start_time": "2022-04-25T18:16:31.708Z"
   },
   {
    "duration": 64,
    "start_time": "2022-04-25T18:17:04.408Z"
   },
   {
    "duration": 68,
    "start_time": "2022-04-25T18:17:28.688Z"
   },
   {
    "duration": 9,
    "start_time": "2022-04-25T18:22:19.799Z"
   },
   {
    "duration": 8,
    "start_time": "2022-04-25T18:22:27.367Z"
   },
   {
    "duration": 10,
    "start_time": "2022-04-25T18:22:36.707Z"
   },
   {
    "duration": 55,
    "start_time": "2022-04-25T18:23:42.670Z"
   },
   {
    "duration": 60,
    "start_time": "2022-04-25T18:24:03.556Z"
   },
   {
    "duration": 9,
    "start_time": "2022-04-25T18:24:25.507Z"
   },
   {
    "duration": 8,
    "start_time": "2022-04-25T18:24:27.008Z"
   },
   {
    "duration": 970,
    "start_time": "2022-04-25T18:25:14.746Z"
   },
   {
    "duration": 133,
    "start_time": "2022-04-25T18:25:16.917Z"
   },
   {
    "duration": 22,
    "start_time": "2022-04-25T18:25:18.555Z"
   },
   {
    "duration": 8,
    "start_time": "2022-04-25T18:25:21.666Z"
   },
   {
    "duration": 12,
    "start_time": "2022-04-25T18:25:23.135Z"
   },
   {
    "duration": 7,
    "start_time": "2022-04-25T18:25:24.516Z"
   },
   {
    "duration": 23,
    "start_time": "2022-04-25T18:25:25.686Z"
   },
   {
    "duration": 8,
    "start_time": "2022-04-25T18:25:27.084Z"
   },
   {
    "duration": 11,
    "start_time": "2022-04-25T18:25:28.387Z"
   },
   {
    "duration": 9,
    "start_time": "2022-04-25T18:25:29.969Z"
   },
   {
    "duration": 9,
    "start_time": "2022-04-25T18:25:31.346Z"
   },
   {
    "duration": 10,
    "start_time": "2022-04-25T18:25:33.397Z"
   },
   {
    "duration": 9,
    "start_time": "2022-04-25T18:25:34.385Z"
   },
   {
    "duration": 9,
    "start_time": "2022-04-25T18:25:35.799Z"
   },
   {
    "duration": 8,
    "start_time": "2022-04-25T18:25:37.386Z"
   },
   {
    "duration": 23,
    "start_time": "2022-04-25T18:25:39.185Z"
   },
   {
    "duration": 9,
    "start_time": "2022-04-25T18:25:40.327Z"
   },
   {
    "duration": 7,
    "start_time": "2022-04-25T18:25:41.626Z"
   },
   {
    "duration": 7,
    "start_time": "2022-04-25T18:25:42.896Z"
   },
   {
    "duration": 8,
    "start_time": "2022-04-25T18:25:44.118Z"
   },
   {
    "duration": 9,
    "start_time": "2022-04-25T18:25:45.339Z"
   },
   {
    "duration": 8,
    "start_time": "2022-04-25T18:25:46.527Z"
   },
   {
    "duration": 9,
    "start_time": "2022-04-25T18:25:47.566Z"
   },
   {
    "duration": 9,
    "start_time": "2022-04-25T18:25:48.606Z"
   },
   {
    "duration": 8,
    "start_time": "2022-04-25T18:25:50.176Z"
   },
   {
    "duration": 34,
    "start_time": "2022-04-25T18:25:51.446Z"
   },
   {
    "duration": 6,
    "start_time": "2022-04-25T18:25:55.909Z"
   },
   {
    "duration": 16,
    "start_time": "2022-04-25T18:25:57.047Z"
   },
   {
    "duration": 538,
    "start_time": "2022-04-25T18:25:58.166Z"
   },
   {
    "duration": 40,
    "start_time": "2022-04-25T18:26:00.166Z"
   },
   {
    "duration": 13,
    "start_time": "2022-04-25T18:26:02.376Z"
   },
   {
    "duration": 269,
    "start_time": "2022-04-25T18:26:03.949Z"
   },
   {
    "duration": 13,
    "start_time": "2022-04-25T18:26:06.377Z"
   },
   {
    "duration": 312,
    "start_time": "2022-04-25T18:26:07.936Z"
   },
   {
    "duration": 11,
    "start_time": "2022-04-25T18:26:09.746Z"
   },
   {
    "duration": 257,
    "start_time": "2022-04-25T18:26:11.378Z"
   },
   {
    "duration": 7,
    "start_time": "2022-04-25T18:26:13.526Z"
   },
   {
    "duration": 9,
    "start_time": "2022-04-25T18:26:14.556Z"
   },
   {
    "duration": 14,
    "start_time": "2022-04-25T18:26:16.158Z"
   },
   {
    "duration": 228,
    "start_time": "2022-04-25T18:26:32.547Z"
   },
   {
    "duration": 12,
    "start_time": "2022-04-25T18:26:36.278Z"
   },
   {
    "duration": 165,
    "start_time": "2022-04-25T18:26:38.057Z"
   },
   {
    "duration": 7,
    "start_time": "2022-04-25T18:26:40.735Z"
   },
   {
    "duration": 12,
    "start_time": "2022-04-25T18:26:49.807Z"
   },
   {
    "duration": 9,
    "start_time": "2022-04-25T18:27:10.008Z"
   },
   {
    "duration": 9,
    "start_time": "2022-04-25T18:27:18.366Z"
   },
   {
    "duration": 57,
    "start_time": "2022-04-25T18:27:56.629Z"
   },
   {
    "duration": 932,
    "start_time": "2022-04-25T18:29:35.441Z"
   },
   {
    "duration": 136,
    "start_time": "2022-04-25T18:29:38.183Z"
   },
   {
    "duration": 946,
    "start_time": "2022-04-25T18:29:49.974Z"
   },
   {
    "duration": 131,
    "start_time": "2022-04-25T18:29:50.922Z"
   },
   {
    "duration": 37,
    "start_time": "2022-04-25T18:29:51.056Z"
   },
   {
    "duration": 8,
    "start_time": "2022-04-25T18:29:51.095Z"
   },
   {
    "duration": 10,
    "start_time": "2022-04-25T18:29:51.106Z"
   },
   {
    "duration": 7,
    "start_time": "2022-04-25T18:29:51.119Z"
   },
   {
    "duration": 22,
    "start_time": "2022-04-25T18:29:51.128Z"
   },
   {
    "duration": 9,
    "start_time": "2022-04-25T18:29:51.192Z"
   },
   {
    "duration": 14,
    "start_time": "2022-04-25T18:29:51.203Z"
   },
   {
    "duration": 8,
    "start_time": "2022-04-25T18:29:51.219Z"
   },
   {
    "duration": 10,
    "start_time": "2022-04-25T18:29:51.229Z"
   },
   {
    "duration": 54,
    "start_time": "2022-04-25T18:29:51.241Z"
   },
   {
    "duration": 8,
    "start_time": "2022-04-25T18:29:51.297Z"
   },
   {
    "duration": 8,
    "start_time": "2022-04-25T18:29:51.309Z"
   },
   {
    "duration": 11,
    "start_time": "2022-04-25T18:29:51.319Z"
   },
   {
    "duration": 27,
    "start_time": "2022-04-25T18:29:51.333Z"
   },
   {
    "duration": 37,
    "start_time": "2022-04-25T18:29:51.363Z"
   },
   {
    "duration": 8,
    "start_time": "2022-04-25T18:29:51.402Z"
   },
   {
    "duration": 10,
    "start_time": "2022-04-25T18:29:51.412Z"
   },
   {
    "duration": 16,
    "start_time": "2022-04-25T18:29:51.424Z"
   },
   {
    "duration": 51,
    "start_time": "2022-04-25T18:29:51.443Z"
   },
   {
    "duration": 8,
    "start_time": "2022-04-25T18:29:51.496Z"
   },
   {
    "duration": 14,
    "start_time": "2022-04-25T18:29:51.507Z"
   },
   {
    "duration": 11,
    "start_time": "2022-04-25T18:29:51.523Z"
   },
   {
    "duration": 9,
    "start_time": "2022-04-25T18:29:51.537Z"
   },
   {
    "duration": 70,
    "start_time": "2022-04-25T18:29:51.548Z"
   },
   {
    "duration": 6,
    "start_time": "2022-04-25T18:29:51.620Z"
   },
   {
    "duration": 30,
    "start_time": "2022-04-25T18:29:51.628Z"
   },
   {
    "duration": 514,
    "start_time": "2022-04-25T18:29:51.660Z"
   },
   {
    "duration": 47,
    "start_time": "2022-04-25T18:29:52.176Z"
   },
   {
    "duration": 11,
    "start_time": "2022-04-25T18:29:52.225Z"
   },
   {
    "duration": 283,
    "start_time": "2022-04-25T18:29:52.238Z"
   },
   {
    "duration": 12,
    "start_time": "2022-04-25T18:29:52.523Z"
   },
   {
    "duration": 348,
    "start_time": "2022-04-25T18:29:52.537Z"
   },
   {
    "duration": 15,
    "start_time": "2022-04-25T18:29:52.887Z"
   },
   {
    "duration": 271,
    "start_time": "2022-04-25T18:29:52.904Z"
   },
   {
    "duration": 17,
    "start_time": "2022-04-25T18:29:53.178Z"
   },
   {
    "duration": 19,
    "start_time": "2022-04-25T18:29:53.197Z"
   },
   {
    "duration": 19,
    "start_time": "2022-04-25T18:29:53.218Z"
   },
   {
    "duration": 243,
    "start_time": "2022-04-25T18:29:53.239Z"
   },
   {
    "duration": 256,
    "start_time": "2022-04-25T18:29:53.492Z"
   },
   {
    "duration": 12,
    "start_time": "2022-04-25T18:29:53.750Z"
   },
   {
    "duration": 190,
    "start_time": "2022-04-25T18:29:53.764Z"
   },
   {
    "duration": 9,
    "start_time": "2022-04-25T18:29:53.956Z"
   },
   {
    "duration": 33,
    "start_time": "2022-04-25T18:29:53.968Z"
   },
   {
    "duration": 9,
    "start_time": "2022-04-25T18:29:54.004Z"
   },
   {
    "duration": 86,
    "start_time": "2022-04-25T18:29:54.015Z"
   },
   {
    "duration": 12,
    "start_time": "2022-04-25T18:30:25.585Z"
   },
   {
    "duration": 10,
    "start_time": "2022-04-25T18:31:13.903Z"
   },
   {
    "duration": 9,
    "start_time": "2022-04-25T18:31:33.250Z"
   },
   {
    "duration": 58,
    "start_time": "2022-04-25T18:33:06.771Z"
   },
   {
    "duration": 59,
    "start_time": "2022-04-25T18:33:21.820Z"
   },
   {
    "duration": 36,
    "start_time": "2022-04-25T18:33:29.091Z"
   },
   {
    "duration": 8,
    "start_time": "2022-04-25T18:33:38.797Z"
   },
   {
    "duration": 432,
    "start_time": "2022-04-25T18:45:03.104Z"
   },
   {
    "duration": 543,
    "start_time": "2022-04-25T18:46:41.183Z"
   },
   {
    "duration": 262,
    "start_time": "2022-04-25T18:47:50.085Z"
   },
   {
    "duration": 291,
    "start_time": "2022-04-25T18:48:30.264Z"
   },
   {
    "duration": 258,
    "start_time": "2022-04-25T18:48:40.804Z"
   },
   {
    "duration": 8,
    "start_time": "2022-04-25T18:49:36.645Z"
   },
   {
    "duration": 299,
    "start_time": "2022-04-25T18:55:22.385Z"
   },
   {
    "duration": 307,
    "start_time": "2022-04-25T18:55:37.078Z"
   },
   {
    "duration": 8,
    "start_time": "2022-04-25T18:56:08.022Z"
   },
   {
    "duration": 259,
    "start_time": "2022-04-25T18:56:31.487Z"
   },
   {
    "duration": 260,
    "start_time": "2022-04-25T19:00:45.286Z"
   },
   {
    "duration": 272,
    "start_time": "2022-04-25T19:01:01.929Z"
   },
   {
    "duration": 8,
    "start_time": "2022-04-25T19:01:25.215Z"
   },
   {
    "duration": 59,
    "start_time": "2022-04-25T19:03:56.038Z"
   },
   {
    "duration": 313,
    "start_time": "2022-04-25T19:04:26.580Z"
   },
   {
    "duration": 883,
    "start_time": "2022-04-25T19:04:55.000Z"
   },
   {
    "duration": 257,
    "start_time": "2022-04-25T19:08:03.686Z"
   },
   {
    "duration": 256,
    "start_time": "2022-04-25T19:09:37.907Z"
   },
   {
    "duration": 247,
    "start_time": "2022-04-25T19:09:55.563Z"
   },
   {
    "duration": 22,
    "start_time": "2022-04-25T19:13:53.697Z"
   },
   {
    "duration": 196,
    "start_time": "2022-04-25T19:14:02.867Z"
   },
   {
    "duration": 218,
    "start_time": "2022-04-25T19:16:09.218Z"
   },
   {
    "duration": 21,
    "start_time": "2022-04-25T19:16:24.929Z"
   },
   {
    "duration": 206,
    "start_time": "2022-04-25T19:16:59.989Z"
   },
   {
    "duration": 196,
    "start_time": "2022-04-25T19:17:16.779Z"
   },
   {
    "duration": 1082,
    "start_time": "2022-04-25T19:17:29.093Z"
   },
   {
    "duration": 209,
    "start_time": "2022-04-25T19:17:30.179Z"
   },
   {
    "duration": 34,
    "start_time": "2022-04-25T19:17:30.392Z"
   },
   {
    "duration": 10,
    "start_time": "2022-04-25T19:17:30.429Z"
   },
   {
    "duration": 15,
    "start_time": "2022-04-25T19:17:30.444Z"
   },
   {
    "duration": 9,
    "start_time": "2022-04-25T19:17:30.494Z"
   },
   {
    "duration": 53,
    "start_time": "2022-04-25T19:17:30.506Z"
   },
   {
    "duration": 11,
    "start_time": "2022-04-25T19:17:30.562Z"
   },
   {
    "duration": 70,
    "start_time": "2022-04-25T19:17:30.575Z"
   },
   {
    "duration": 17,
    "start_time": "2022-04-25T19:17:30.647Z"
   },
   {
    "duration": 10,
    "start_time": "2022-04-25T19:17:30.666Z"
   },
   {
    "duration": 16,
    "start_time": "2022-04-25T19:17:30.678Z"
   },
   {
    "duration": 24,
    "start_time": "2022-04-25T19:17:30.697Z"
   },
   {
    "duration": 38,
    "start_time": "2022-04-25T19:17:30.728Z"
   },
   {
    "duration": 37,
    "start_time": "2022-04-25T19:17:30.769Z"
   },
   {
    "duration": 36,
    "start_time": "2022-04-25T19:17:30.809Z"
   },
   {
    "duration": 51,
    "start_time": "2022-04-25T19:17:30.848Z"
   },
   {
    "duration": 30,
    "start_time": "2022-04-25T19:17:30.901Z"
   },
   {
    "duration": 25,
    "start_time": "2022-04-25T19:17:30.934Z"
   },
   {
    "duration": 24,
    "start_time": "2022-04-25T19:17:30.961Z"
   },
   {
    "duration": 56,
    "start_time": "2022-04-25T19:17:30.988Z"
   },
   {
    "duration": 20,
    "start_time": "2022-04-25T19:17:31.047Z"
   },
   {
    "duration": 58,
    "start_time": "2022-04-25T19:17:31.069Z"
   },
   {
    "duration": 44,
    "start_time": "2022-04-25T19:17:31.130Z"
   },
   {
    "duration": 54,
    "start_time": "2022-04-25T19:17:31.177Z"
   },
   {
    "duration": 59,
    "start_time": "2022-04-25T19:17:31.233Z"
   },
   {
    "duration": 5,
    "start_time": "2022-04-25T19:17:31.295Z"
   },
   {
    "duration": 23,
    "start_time": "2022-04-25T19:17:31.302Z"
   },
   {
    "duration": 586,
    "start_time": "2022-04-25T19:17:31.327Z"
   },
   {
    "duration": 38,
    "start_time": "2022-04-25T19:17:31.915Z"
   },
   {
    "duration": 11,
    "start_time": "2022-04-25T19:17:31.955Z"
   },
   {
    "duration": 275,
    "start_time": "2022-04-25T19:17:31.968Z"
   },
   {
    "duration": 12,
    "start_time": "2022-04-25T19:17:32.245Z"
   },
   {
    "duration": 316,
    "start_time": "2022-04-25T19:17:32.259Z"
   },
   {
    "duration": 16,
    "start_time": "2022-04-25T19:17:32.577Z"
   },
   {
    "duration": 251,
    "start_time": "2022-04-25T19:17:32.595Z"
   },
   {
    "duration": 7,
    "start_time": "2022-04-25T19:17:32.849Z"
   },
   {
    "duration": 13,
    "start_time": "2022-04-25T19:17:32.859Z"
   },
   {
    "duration": 19,
    "start_time": "2022-04-25T19:17:32.873Z"
   },
   {
    "duration": 339,
    "start_time": "2022-04-25T19:17:32.894Z"
   },
   {
    "duration": 373,
    "start_time": "2022-04-25T19:17:33.238Z"
   },
   {
    "duration": 13,
    "start_time": "2022-04-25T19:17:33.613Z"
   },
   {
    "duration": 199,
    "start_time": "2022-04-25T19:17:33.628Z"
   },
   {
    "duration": 8,
    "start_time": "2022-04-25T19:17:33.829Z"
   },
   {
    "duration": 13,
    "start_time": "2022-04-25T19:17:33.839Z"
   },
   {
    "duration": 8,
    "start_time": "2022-04-25T19:17:33.854Z"
   },
   {
    "duration": 38,
    "start_time": "2022-04-25T19:17:33.864Z"
   },
   {
    "duration": 7,
    "start_time": "2022-04-25T19:17:33.904Z"
   },
   {
    "duration": 328,
    "start_time": "2022-04-25T19:17:33.914Z"
   },
   {
    "duration": 8,
    "start_time": "2022-04-25T19:17:34.244Z"
   },
   {
    "duration": 273,
    "start_time": "2022-04-25T19:17:34.254Z"
   },
   {
    "duration": 7,
    "start_time": "2022-04-25T19:17:34.530Z"
   },
   {
    "duration": 280,
    "start_time": "2022-04-25T19:17:34.539Z"
   },
   {
    "duration": 7,
    "start_time": "2022-04-25T19:17:34.821Z"
   },
   {
    "duration": 216,
    "start_time": "2022-04-25T19:17:34.830Z"
   },
   {
    "duration": 271,
    "start_time": "2022-04-25T19:17:35.048Z"
   },
   {
    "duration": 274,
    "start_time": "2022-04-25T19:17:35.321Z"
   },
   {
    "duration": 331,
    "start_time": "2022-04-25T19:17:35.597Z"
   },
   {
    "duration": 19,
    "start_time": "2022-04-25T19:26:51.904Z"
   },
   {
    "duration": 207,
    "start_time": "2022-04-25T19:27:42.654Z"
   },
   {
    "duration": 248,
    "start_time": "2022-04-25T19:28:49.890Z"
   },
   {
    "duration": 208,
    "start_time": "2022-04-25T19:29:39.820Z"
   },
   {
    "duration": 50,
    "start_time": "2022-04-26T16:46:39.187Z"
   },
   {
    "duration": 1005,
    "start_time": "2022-04-26T16:46:46.968Z"
   },
   {
    "duration": 96,
    "start_time": "2022-04-26T16:46:47.975Z"
   },
   {
    "duration": 16,
    "start_time": "2022-04-26T16:46:48.073Z"
   },
   {
    "duration": 7,
    "start_time": "2022-04-26T16:46:48.090Z"
   },
   {
    "duration": 8,
    "start_time": "2022-04-26T16:46:48.099Z"
   },
   {
    "duration": 6,
    "start_time": "2022-04-26T16:46:48.108Z"
   },
   {
    "duration": 48,
    "start_time": "2022-04-26T16:46:48.115Z"
   },
   {
    "duration": 5,
    "start_time": "2022-04-26T16:46:48.165Z"
   },
   {
    "duration": 11,
    "start_time": "2022-04-26T16:46:48.172Z"
   },
   {
    "duration": 6,
    "start_time": "2022-04-26T16:46:48.184Z"
   },
   {
    "duration": 10,
    "start_time": "2022-04-26T16:46:48.192Z"
   },
   {
    "duration": 22,
    "start_time": "2022-04-26T16:46:48.204Z"
   },
   {
    "duration": 26,
    "start_time": "2022-04-26T16:46:48.229Z"
   },
   {
    "duration": 7,
    "start_time": "2022-04-26T16:46:48.259Z"
   },
   {
    "duration": 12,
    "start_time": "2022-04-26T16:46:48.268Z"
   },
   {
    "duration": 32,
    "start_time": "2022-04-26T16:46:48.281Z"
   },
   {
    "duration": 12,
    "start_time": "2022-04-26T16:46:48.315Z"
   },
   {
    "duration": 20,
    "start_time": "2022-04-26T16:46:48.329Z"
   },
   {
    "duration": 11,
    "start_time": "2022-04-26T16:46:48.351Z"
   },
   {
    "duration": 13,
    "start_time": "2022-04-26T16:46:48.364Z"
   },
   {
    "duration": 14,
    "start_time": "2022-04-26T16:46:48.379Z"
   },
   {
    "duration": 7,
    "start_time": "2022-04-26T16:46:48.395Z"
   },
   {
    "duration": 20,
    "start_time": "2022-04-26T16:46:48.404Z"
   },
   {
    "duration": 19,
    "start_time": "2022-04-26T16:46:48.426Z"
   },
   {
    "duration": 22,
    "start_time": "2022-04-26T16:46:48.446Z"
   },
   {
    "duration": 52,
    "start_time": "2022-04-26T16:46:48.470Z"
   },
   {
    "duration": 4,
    "start_time": "2022-04-26T16:46:48.524Z"
   },
   {
    "duration": 52,
    "start_time": "2022-04-26T16:46:48.529Z"
   },
   {
    "duration": 321,
    "start_time": "2022-04-26T16:46:48.583Z"
   },
   {
    "duration": 25,
    "start_time": "2022-04-26T16:46:48.906Z"
   },
   {
    "duration": 8,
    "start_time": "2022-04-26T16:46:48.932Z"
   },
   {
    "duration": 163,
    "start_time": "2022-04-26T16:46:48.954Z"
   },
   {
    "duration": 9,
    "start_time": "2022-04-26T16:46:49.119Z"
   },
   {
    "duration": 226,
    "start_time": "2022-04-26T16:46:49.129Z"
   },
   {
    "duration": 9,
    "start_time": "2022-04-26T16:46:49.356Z"
   },
   {
    "duration": 165,
    "start_time": "2022-04-26T16:46:49.366Z"
   },
   {
    "duration": 6,
    "start_time": "2022-04-26T16:46:49.533Z"
   },
   {
    "duration": 18,
    "start_time": "2022-04-26T16:46:49.540Z"
   },
   {
    "duration": 20,
    "start_time": "2022-04-26T16:46:49.560Z"
   },
   {
    "duration": 134,
    "start_time": "2022-04-26T16:46:49.581Z"
   },
   {
    "duration": 154,
    "start_time": "2022-04-26T16:46:49.719Z"
   },
   {
    "duration": 9,
    "start_time": "2022-04-26T16:46:49.875Z"
   },
   {
    "duration": 117,
    "start_time": "2022-04-26T16:46:49.886Z"
   },
   {
    "duration": 6,
    "start_time": "2022-04-26T16:46:50.005Z"
   },
   {
    "duration": 12,
    "start_time": "2022-04-26T16:46:50.013Z"
   },
   {
    "duration": 7,
    "start_time": "2022-04-26T16:46:50.027Z"
   },
   {
    "duration": 9,
    "start_time": "2022-04-26T16:46:50.054Z"
   },
   {
    "duration": 5,
    "start_time": "2022-04-26T16:46:50.065Z"
   },
   {
    "duration": 189,
    "start_time": "2022-04-26T16:46:50.071Z"
   },
   {
    "duration": 6,
    "start_time": "2022-04-26T16:46:50.262Z"
   },
   {
    "duration": 186,
    "start_time": "2022-04-26T16:46:50.270Z"
   },
   {
    "duration": 6,
    "start_time": "2022-04-26T16:46:50.457Z"
   },
   {
    "duration": 175,
    "start_time": "2022-04-26T16:46:50.464Z"
   },
   {
    "duration": 13,
    "start_time": "2022-04-26T16:46:50.641Z"
   },
   {
    "duration": 116,
    "start_time": "2022-04-26T16:46:50.656Z"
   },
   {
    "duration": 137,
    "start_time": "2022-04-26T16:46:50.774Z"
   },
   {
    "duration": 161,
    "start_time": "2022-04-26T16:46:50.913Z"
   },
   {
    "duration": 198,
    "start_time": "2022-04-26T16:46:51.075Z"
   },
   {
    "duration": 10,
    "start_time": "2022-04-26T16:46:51.275Z"
   },
   {
    "duration": 10,
    "start_time": "2022-04-26T16:47:08.609Z"
   },
   {
    "duration": 43,
    "start_time": "2022-04-26T16:48:17.610Z"
   },
   {
    "duration": 6,
    "start_time": "2022-04-26T16:51:27.639Z"
   },
   {
    "duration": 8,
    "start_time": "2022-04-26T16:51:33.758Z"
   },
   {
    "duration": 7,
    "start_time": "2022-04-26T16:51:40.498Z"
   },
   {
    "duration": 15,
    "start_time": "2022-04-26T16:55:13.060Z"
   },
   {
    "duration": 88,
    "start_time": "2022-04-26T16:55:56.775Z"
   },
   {
    "duration": 25,
    "start_time": "2022-04-26T16:56:04.216Z"
   },
   {
    "duration": 23,
    "start_time": "2022-04-26T16:56:26.848Z"
   },
   {
    "duration": 24,
    "start_time": "2022-04-26T16:57:38.167Z"
   },
   {
    "duration": 25,
    "start_time": "2022-04-26T17:00:17.952Z"
   },
   {
    "duration": 24,
    "start_time": "2022-04-26T17:00:36.263Z"
   },
   {
    "duration": 25,
    "start_time": "2022-04-26T17:00:40.223Z"
   },
   {
    "duration": 24,
    "start_time": "2022-04-26T17:03:18.252Z"
   },
   {
    "duration": 24,
    "start_time": "2022-04-26T17:03:31.902Z"
   },
   {
    "duration": 24,
    "start_time": "2022-04-26T17:04:42.908Z"
   },
   {
    "duration": 17,
    "start_time": "2022-04-26T17:05:50.962Z"
   },
   {
    "duration": 16,
    "start_time": "2022-04-26T17:06:11.563Z"
   },
   {
    "duration": 18,
    "start_time": "2022-04-26T17:11:55.102Z"
   },
   {
    "duration": 27,
    "start_time": "2022-04-26T17:12:14.282Z"
   },
   {
    "duration": 27,
    "start_time": "2022-04-26T17:12:37.954Z"
   },
   {
    "duration": 23,
    "start_time": "2022-04-26T17:20:03.356Z"
   },
   {
    "duration": 26,
    "start_time": "2022-04-26T17:22:50.322Z"
   },
   {
    "duration": 18,
    "start_time": "2022-04-26T17:23:09.498Z"
   },
   {
    "duration": 2239,
    "start_time": "2022-04-26T17:24:15.446Z"
   },
   {
    "duration": 25,
    "start_time": "2022-04-26T17:24:31.491Z"
   },
   {
    "duration": 28,
    "start_time": "2022-04-26T17:24:52.724Z"
   },
   {
    "duration": 24,
    "start_time": "2022-04-26T17:25:25.102Z"
   },
   {
    "duration": 22,
    "start_time": "2022-04-26T17:27:36.412Z"
   },
   {
    "duration": 22,
    "start_time": "2022-04-26T17:27:47.933Z"
   },
   {
    "duration": 24,
    "start_time": "2022-04-26T17:27:50.763Z"
   },
   {
    "duration": 26,
    "start_time": "2022-04-26T17:28:10.351Z"
   },
   {
    "duration": 34,
    "start_time": "2022-04-26T17:28:30.212Z"
   },
   {
    "duration": 24,
    "start_time": "2022-04-26T17:28:40.082Z"
   },
   {
    "duration": 46,
    "start_time": "2022-04-26T17:35:41.261Z"
   },
   {
    "duration": 28,
    "start_time": "2022-04-26T17:36:31.595Z"
   },
   {
    "duration": 9,
    "start_time": "2022-04-26T17:36:51.084Z"
   },
   {
    "duration": 910,
    "start_time": "2022-04-26T17:37:47.443Z"
   },
   {
    "duration": 12,
    "start_time": "2022-04-26T17:37:57.786Z"
   },
   {
    "duration": 13,
    "start_time": "2022-04-26T17:38:32.945Z"
   },
   {
    "duration": 25,
    "start_time": "2022-04-26T17:42:04.759Z"
   },
   {
    "duration": 1947,
    "start_time": "2022-04-26T17:44:44.276Z"
   },
   {
    "duration": 13,
    "start_time": "2022-04-26T17:45:29.288Z"
   },
   {
    "duration": 11,
    "start_time": "2022-04-26T17:45:39.135Z"
   },
   {
    "duration": 9,
    "start_time": "2022-04-26T17:45:56.288Z"
   },
   {
    "duration": 8,
    "start_time": "2022-04-26T17:46:07.476Z"
   },
   {
    "duration": 10,
    "start_time": "2022-04-26T17:46:31.326Z"
   },
   {
    "duration": 7,
    "start_time": "2022-04-26T17:46:37.736Z"
   },
   {
    "duration": 2021,
    "start_time": "2022-04-26T17:46:55.548Z"
   },
   {
    "duration": 13,
    "start_time": "2022-04-26T17:47:15.076Z"
   },
   {
    "duration": 1915,
    "start_time": "2022-04-26T17:47:44.532Z"
   },
   {
    "duration": 11,
    "start_time": "2022-04-26T17:47:55.913Z"
   },
   {
    "duration": 12,
    "start_time": "2022-04-26T17:48:12.911Z"
   },
   {
    "duration": 30,
    "start_time": "2022-04-26T17:52:53.999Z"
   },
   {
    "duration": 43,
    "start_time": "2022-04-26T17:52:58.440Z"
   },
   {
    "duration": 8,
    "start_time": "2022-04-26T17:54:55.054Z"
   },
   {
    "duration": 69,
    "start_time": "2022-04-26T17:55:16.620Z"
   },
   {
    "duration": 6,
    "start_time": "2022-04-26T17:55:23.831Z"
   },
   {
    "duration": 2067,
    "start_time": "2022-04-26T17:56:32.199Z"
   },
   {
    "duration": 6,
    "start_time": "2022-04-26T17:56:46.499Z"
   },
   {
    "duration": 6,
    "start_time": "2022-04-26T17:57:12.624Z"
   },
   {
    "duration": 758,
    "start_time": "2022-04-26T17:57:34.583Z"
   },
   {
    "duration": 91,
    "start_time": "2022-04-26T17:57:35.343Z"
   },
   {
    "duration": 21,
    "start_time": "2022-04-26T17:57:35.437Z"
   },
   {
    "duration": 6,
    "start_time": "2022-04-26T17:57:35.461Z"
   },
   {
    "duration": 21,
    "start_time": "2022-04-26T17:57:35.470Z"
   },
   {
    "duration": 17,
    "start_time": "2022-04-26T17:57:35.493Z"
   },
   {
    "duration": 30,
    "start_time": "2022-04-26T17:57:35.512Z"
   },
   {
    "duration": 22,
    "start_time": "2022-04-26T17:57:35.543Z"
   },
   {
    "duration": 26,
    "start_time": "2022-04-26T17:57:35.567Z"
   },
   {
    "duration": 24,
    "start_time": "2022-04-26T17:57:35.595Z"
   },
   {
    "duration": 19,
    "start_time": "2022-04-26T17:57:35.621Z"
   },
   {
    "duration": 21,
    "start_time": "2022-04-26T17:57:35.642Z"
   },
   {
    "duration": 21,
    "start_time": "2022-04-26T17:57:35.664Z"
   },
   {
    "duration": 22,
    "start_time": "2022-04-26T17:57:35.688Z"
   },
   {
    "duration": 19,
    "start_time": "2022-04-26T17:57:35.712Z"
   },
   {
    "duration": 50,
    "start_time": "2022-04-26T17:57:35.733Z"
   },
   {
    "duration": 33,
    "start_time": "2022-04-26T17:57:35.785Z"
   },
   {
    "duration": 23,
    "start_time": "2022-04-26T17:57:35.819Z"
   },
   {
    "duration": 31,
    "start_time": "2022-04-26T17:57:35.844Z"
   },
   {
    "duration": 24,
    "start_time": "2022-04-26T17:57:35.877Z"
   },
   {
    "duration": 25,
    "start_time": "2022-04-26T17:57:35.903Z"
   },
   {
    "duration": 22,
    "start_time": "2022-04-26T17:57:35.929Z"
   },
   {
    "duration": 27,
    "start_time": "2022-04-26T17:57:35.953Z"
   },
   {
    "duration": 15,
    "start_time": "2022-04-26T17:57:35.982Z"
   },
   {
    "duration": 19,
    "start_time": "2022-04-26T17:57:35.999Z"
   },
   {
    "duration": 37,
    "start_time": "2022-04-26T17:57:36.020Z"
   },
   {
    "duration": 10,
    "start_time": "2022-04-26T17:57:36.059Z"
   },
   {
    "duration": 28,
    "start_time": "2022-04-26T17:57:36.071Z"
   },
   {
    "duration": 333,
    "start_time": "2022-04-26T17:57:36.101Z"
   },
   {
    "duration": 34,
    "start_time": "2022-04-26T17:57:36.435Z"
   },
   {
    "duration": 9,
    "start_time": "2022-04-26T17:57:36.471Z"
   },
   {
    "duration": 180,
    "start_time": "2022-04-26T17:57:36.482Z"
   },
   {
    "duration": 10,
    "start_time": "2022-04-26T17:57:36.665Z"
   },
   {
    "duration": 245,
    "start_time": "2022-04-26T17:57:36.677Z"
   },
   {
    "duration": 9,
    "start_time": "2022-04-26T17:57:36.924Z"
   },
   {
    "duration": 163,
    "start_time": "2022-04-26T17:57:36.934Z"
   },
   {
    "duration": 6,
    "start_time": "2022-04-26T17:57:37.098Z"
   },
   {
    "duration": 26,
    "start_time": "2022-04-26T17:57:37.105Z"
   },
   {
    "duration": 28,
    "start_time": "2022-04-26T17:57:37.132Z"
   },
   {
    "duration": 143,
    "start_time": "2022-04-26T17:57:37.162Z"
   },
   {
    "duration": 153,
    "start_time": "2022-04-26T17:57:37.309Z"
   },
   {
    "duration": 9,
    "start_time": "2022-04-26T17:57:37.463Z"
   },
   {
    "duration": 181,
    "start_time": "2022-04-26T17:57:37.474Z"
   },
   {
    "duration": 7,
    "start_time": "2022-04-26T17:57:37.657Z"
   },
   {
    "duration": 15,
    "start_time": "2022-04-26T17:57:37.666Z"
   },
   {
    "duration": 8,
    "start_time": "2022-04-26T17:57:37.684Z"
   },
   {
    "duration": 11,
    "start_time": "2022-04-26T17:57:37.694Z"
   },
   {
    "duration": 5,
    "start_time": "2022-04-26T17:57:37.707Z"
   },
   {
    "duration": 291,
    "start_time": "2022-04-26T17:57:37.714Z"
   },
   {
    "duration": 7,
    "start_time": "2022-04-26T17:57:38.007Z"
   },
   {
    "duration": 271,
    "start_time": "2022-04-26T17:57:38.017Z"
   },
   {
    "duration": 7,
    "start_time": "2022-04-26T17:57:38.291Z"
   },
   {
    "duration": 175,
    "start_time": "2022-04-26T17:57:38.300Z"
   },
   {
    "duration": 6,
    "start_time": "2022-04-26T17:57:38.476Z"
   },
   {
    "duration": 133,
    "start_time": "2022-04-26T17:57:38.484Z"
   },
   {
    "duration": 148,
    "start_time": "2022-04-26T17:57:38.619Z"
   },
   {
    "duration": 164,
    "start_time": "2022-04-26T17:57:38.769Z"
   },
   {
    "duration": 220,
    "start_time": "2022-04-26T17:57:38.934Z"
   },
   {
    "duration": 25,
    "start_time": "2022-04-26T17:57:39.156Z"
   },
   {
    "duration": 42,
    "start_time": "2022-04-26T17:57:39.182Z"
   },
   {
    "duration": 15,
    "start_time": "2022-04-26T17:57:39.226Z"
   },
   {
    "duration": 44,
    "start_time": "2022-04-26T17:57:39.243Z"
   },
   {
    "duration": 5,
    "start_time": "2022-04-26T17:57:39.289Z"
   },
   {
    "duration": 5,
    "start_time": "2022-04-26T17:58:37.180Z"
   },
   {
    "duration": 9,
    "start_time": "2022-04-26T18:00:25.810Z"
   },
   {
    "duration": 952,
    "start_time": "2022-04-26T18:00:48.022Z"
   },
   {
    "duration": 102,
    "start_time": "2022-04-26T18:00:48.977Z"
   },
   {
    "duration": 15,
    "start_time": "2022-04-26T18:00:49.081Z"
   },
   {
    "duration": 6,
    "start_time": "2022-04-26T18:00:49.098Z"
   },
   {
    "duration": 13,
    "start_time": "2022-04-26T18:00:49.106Z"
   },
   {
    "duration": 36,
    "start_time": "2022-04-26T18:00:49.120Z"
   },
   {
    "duration": 30,
    "start_time": "2022-04-26T18:00:49.158Z"
   },
   {
    "duration": 7,
    "start_time": "2022-04-26T18:00:49.190Z"
   },
   {
    "duration": 12,
    "start_time": "2022-04-26T18:00:49.198Z"
   },
   {
    "duration": 8,
    "start_time": "2022-04-26T18:00:49.212Z"
   },
   {
    "duration": 10,
    "start_time": "2022-04-26T18:00:49.222Z"
   },
   {
    "duration": 25,
    "start_time": "2022-04-26T18:00:49.233Z"
   },
   {
    "duration": 13,
    "start_time": "2022-04-26T18:00:49.260Z"
   },
   {
    "duration": 6,
    "start_time": "2022-04-26T18:00:49.276Z"
   },
   {
    "duration": 10,
    "start_time": "2022-04-26T18:00:49.284Z"
   },
   {
    "duration": 21,
    "start_time": "2022-04-26T18:00:49.295Z"
   },
   {
    "duration": 7,
    "start_time": "2022-04-26T18:00:49.318Z"
   },
   {
    "duration": 33,
    "start_time": "2022-04-26T18:00:49.326Z"
   },
   {
    "duration": 17,
    "start_time": "2022-04-26T18:00:49.361Z"
   },
   {
    "duration": 10,
    "start_time": "2022-04-26T18:00:49.379Z"
   },
   {
    "duration": 8,
    "start_time": "2022-04-26T18:00:49.391Z"
   },
   {
    "duration": 15,
    "start_time": "2022-04-26T18:00:49.400Z"
   },
   {
    "duration": 10,
    "start_time": "2022-04-26T18:00:49.417Z"
   },
   {
    "duration": 10,
    "start_time": "2022-04-26T18:00:49.454Z"
   },
   {
    "duration": 14,
    "start_time": "2022-04-26T18:00:49.466Z"
   },
   {
    "duration": 30,
    "start_time": "2022-04-26T18:00:49.481Z"
   },
   {
    "duration": 4,
    "start_time": "2022-04-26T18:00:49.513Z"
   },
   {
    "duration": 39,
    "start_time": "2022-04-26T18:00:49.519Z"
   },
   {
    "duration": 327,
    "start_time": "2022-04-26T18:00:49.560Z"
   },
   {
    "duration": 25,
    "start_time": "2022-04-26T18:00:49.889Z"
   },
   {
    "duration": 7,
    "start_time": "2022-04-26T18:00:49.916Z"
   },
   {
    "duration": 183,
    "start_time": "2022-04-26T18:00:49.925Z"
   },
   {
    "duration": 9,
    "start_time": "2022-04-26T18:00:50.110Z"
   },
   {
    "duration": 233,
    "start_time": "2022-04-26T18:00:50.121Z"
   },
   {
    "duration": 9,
    "start_time": "2022-04-26T18:00:50.356Z"
   },
   {
    "duration": 176,
    "start_time": "2022-04-26T18:00:50.367Z"
   },
   {
    "duration": 11,
    "start_time": "2022-04-26T18:00:50.545Z"
   },
   {
    "duration": 25,
    "start_time": "2022-04-26T18:00:50.557Z"
   },
   {
    "duration": 19,
    "start_time": "2022-04-26T18:00:50.584Z"
   },
   {
    "duration": 161,
    "start_time": "2022-04-26T18:00:50.605Z"
   },
   {
    "duration": 160,
    "start_time": "2022-04-26T18:00:50.770Z"
   },
   {
    "duration": 9,
    "start_time": "2022-04-26T18:00:50.932Z"
   },
   {
    "duration": 125,
    "start_time": "2022-04-26T18:00:50.955Z"
   },
   {
    "duration": 5,
    "start_time": "2022-04-26T18:00:51.082Z"
   },
   {
    "duration": 28,
    "start_time": "2022-04-26T18:00:51.089Z"
   },
   {
    "duration": 8,
    "start_time": "2022-04-26T18:00:51.119Z"
   },
   {
    "duration": 23,
    "start_time": "2022-04-26T18:00:51.129Z"
   },
   {
    "duration": 11,
    "start_time": "2022-04-26T18:00:51.154Z"
   },
   {
    "duration": 190,
    "start_time": "2022-04-26T18:00:51.167Z"
   },
   {
    "duration": 8,
    "start_time": "2022-04-26T18:00:51.358Z"
   },
   {
    "duration": 365,
    "start_time": "2022-04-26T18:00:51.368Z"
   },
   {
    "duration": 18,
    "start_time": "2022-04-26T18:00:51.736Z"
   },
   {
    "duration": 178,
    "start_time": "2022-04-26T18:00:51.756Z"
   },
   {
    "duration": 5,
    "start_time": "2022-04-26T18:00:51.936Z"
   },
   {
    "duration": 140,
    "start_time": "2022-04-26T18:00:51.953Z"
   },
   {
    "duration": 140,
    "start_time": "2022-04-26T18:00:52.095Z"
   },
   {
    "duration": 248,
    "start_time": "2022-04-26T18:00:52.236Z"
   },
   {
    "duration": 222,
    "start_time": "2022-04-26T18:00:52.486Z"
   },
   {
    "duration": 24,
    "start_time": "2022-04-26T18:00:52.710Z"
   },
   {
    "duration": 29,
    "start_time": "2022-04-26T18:00:52.736Z"
   },
   {
    "duration": 28,
    "start_time": "2022-04-26T18:00:52.767Z"
   },
   {
    "duration": 28,
    "start_time": "2022-04-26T18:00:52.797Z"
   },
   {
    "duration": 14,
    "start_time": "2022-04-26T18:00:52.827Z"
   },
   {
    "duration": 7,
    "start_time": "2022-04-26T18:01:06.093Z"
   },
   {
    "duration": 98,
    "start_time": "2022-04-26T18:02:33.750Z"
   },
   {
    "duration": 11,
    "start_time": "2022-04-26T18:02:42.491Z"
   },
   {
    "duration": 6,
    "start_time": "2022-04-26T18:02:45.103Z"
   },
   {
    "duration": 17,
    "start_time": "2022-04-26T18:02:53.062Z"
   },
   {
    "duration": 1908,
    "start_time": "2022-04-26T18:05:17.600Z"
   },
   {
    "duration": 4,
    "start_time": "2022-04-26T18:05:37.597Z"
   },
   {
    "duration": 14,
    "start_time": "2022-04-26T18:05:49.508Z"
   },
   {
    "duration": 1804,
    "start_time": "2022-04-26T18:06:54.548Z"
   },
   {
    "duration": 310,
    "start_time": "2022-04-26T18:07:06.257Z"
   },
   {
    "duration": 726,
    "start_time": "2022-04-26T18:08:15.495Z"
   },
   {
    "duration": 94,
    "start_time": "2022-04-26T18:08:16.222Z"
   },
   {
    "duration": 14,
    "start_time": "2022-04-26T18:08:16.317Z"
   },
   {
    "duration": 26,
    "start_time": "2022-04-26T18:08:16.333Z"
   },
   {
    "duration": 16,
    "start_time": "2022-04-26T18:08:16.360Z"
   },
   {
    "duration": 22,
    "start_time": "2022-04-26T18:08:16.377Z"
   },
   {
    "duration": 25,
    "start_time": "2022-04-26T18:08:16.400Z"
   },
   {
    "duration": 7,
    "start_time": "2022-04-26T18:08:16.427Z"
   },
   {
    "duration": 21,
    "start_time": "2022-04-26T18:08:16.436Z"
   },
   {
    "duration": 16,
    "start_time": "2022-04-26T18:08:16.459Z"
   },
   {
    "duration": 22,
    "start_time": "2022-04-26T18:08:16.477Z"
   },
   {
    "duration": 11,
    "start_time": "2022-04-26T18:08:16.501Z"
   },
   {
    "duration": 21,
    "start_time": "2022-04-26T18:08:16.513Z"
   },
   {
    "duration": 18,
    "start_time": "2022-04-26T18:08:16.536Z"
   },
   {
    "duration": 19,
    "start_time": "2022-04-26T18:08:16.555Z"
   },
   {
    "duration": 30,
    "start_time": "2022-04-26T18:08:16.576Z"
   },
   {
    "duration": 10,
    "start_time": "2022-04-26T18:08:16.608Z"
   },
   {
    "duration": 22,
    "start_time": "2022-04-26T18:08:16.619Z"
   },
   {
    "duration": 16,
    "start_time": "2022-04-26T18:08:16.643Z"
   },
   {
    "duration": 15,
    "start_time": "2022-04-26T18:08:16.660Z"
   },
   {
    "duration": 20,
    "start_time": "2022-04-26T18:08:16.677Z"
   },
   {
    "duration": 28,
    "start_time": "2022-04-26T18:08:16.698Z"
   },
   {
    "duration": 15,
    "start_time": "2022-04-26T18:08:16.728Z"
   },
   {
    "duration": 19,
    "start_time": "2022-04-26T18:08:16.745Z"
   },
   {
    "duration": 9,
    "start_time": "2022-04-26T18:08:16.765Z"
   },
   {
    "duration": 37,
    "start_time": "2022-04-26T18:08:16.775Z"
   },
   {
    "duration": 9,
    "start_time": "2022-04-26T18:08:16.813Z"
   },
   {
    "duration": 30,
    "start_time": "2022-04-26T18:08:16.825Z"
   },
   {
    "duration": 303,
    "start_time": "2022-04-26T18:08:16.857Z"
   },
   {
    "duration": 23,
    "start_time": "2022-04-26T18:08:17.162Z"
   },
   {
    "duration": 7,
    "start_time": "2022-04-26T18:08:17.187Z"
   },
   {
    "duration": 167,
    "start_time": "2022-04-26T18:08:17.196Z"
   },
   {
    "duration": 8,
    "start_time": "2022-04-26T18:08:17.365Z"
   },
   {
    "duration": 211,
    "start_time": "2022-04-26T18:08:17.375Z"
   },
   {
    "duration": 8,
    "start_time": "2022-04-26T18:08:17.588Z"
   },
   {
    "duration": 153,
    "start_time": "2022-04-26T18:08:17.597Z"
   },
   {
    "duration": 6,
    "start_time": "2022-04-26T18:08:17.753Z"
   },
   {
    "duration": 35,
    "start_time": "2022-04-26T18:08:17.761Z"
   },
   {
    "duration": 47,
    "start_time": "2022-04-26T18:08:17.798Z"
   },
   {
    "duration": 149,
    "start_time": "2022-04-26T18:08:17.847Z"
   },
   {
    "duration": 144,
    "start_time": "2022-04-26T18:08:17.998Z"
   },
   {
    "duration": 13,
    "start_time": "2022-04-26T18:08:18.144Z"
   },
   {
    "duration": 117,
    "start_time": "2022-04-26T18:08:18.159Z"
   },
   {
    "duration": 6,
    "start_time": "2022-04-26T18:08:18.277Z"
   },
   {
    "duration": 15,
    "start_time": "2022-04-26T18:08:18.284Z"
   },
   {
    "duration": 6,
    "start_time": "2022-04-26T18:08:18.301Z"
   },
   {
    "duration": 9,
    "start_time": "2022-04-26T18:08:18.309Z"
   },
   {
    "duration": 4,
    "start_time": "2022-04-26T18:08:18.319Z"
   },
   {
    "duration": 184,
    "start_time": "2022-04-26T18:08:18.325Z"
   },
   {
    "duration": 5,
    "start_time": "2022-04-26T18:08:18.511Z"
   },
   {
    "duration": 165,
    "start_time": "2022-04-26T18:08:18.517Z"
   },
   {
    "duration": 5,
    "start_time": "2022-04-26T18:08:18.683Z"
   },
   {
    "duration": 167,
    "start_time": "2022-04-26T18:08:18.690Z"
   },
   {
    "duration": 5,
    "start_time": "2022-04-26T18:08:18.859Z"
   },
   {
    "duration": 127,
    "start_time": "2022-04-26T18:08:18.866Z"
   },
   {
    "duration": 132,
    "start_time": "2022-04-26T18:08:18.995Z"
   },
   {
    "duration": 145,
    "start_time": "2022-04-26T18:08:19.129Z"
   },
   {
    "duration": 197,
    "start_time": "2022-04-26T18:08:19.276Z"
   },
   {
    "duration": 24,
    "start_time": "2022-04-26T18:08:19.475Z"
   },
   {
    "duration": 11,
    "start_time": "2022-04-26T18:08:19.500Z"
   },
   {
    "duration": 17,
    "start_time": "2022-04-26T18:08:19.512Z"
   },
   {
    "duration": 26,
    "start_time": "2022-04-26T18:08:19.531Z"
   },
   {
    "duration": 18,
    "start_time": "2022-04-26T18:08:19.559Z"
   },
   {
    "duration": 15,
    "start_time": "2022-04-26T18:08:19.579Z"
   },
   {
    "duration": 20,
    "start_time": "2022-04-26T18:08:19.595Z"
   },
   {
    "duration": 147,
    "start_time": "2022-04-26T18:08:30.851Z"
   },
   {
    "duration": 79,
    "start_time": "2022-04-26T18:10:53.638Z"
   },
   {
    "duration": 21,
    "start_time": "2022-04-26T18:11:07.858Z"
   },
   {
    "duration": 151,
    "start_time": "2022-04-26T18:11:24.307Z"
   },
   {
    "duration": 746,
    "start_time": "2022-04-26T18:13:30.530Z"
   },
   {
    "duration": 97,
    "start_time": "2022-04-26T18:13:31.278Z"
   },
   {
    "duration": 17,
    "start_time": "2022-04-26T18:13:31.377Z"
   },
   {
    "duration": 20,
    "start_time": "2022-04-26T18:13:31.395Z"
   },
   {
    "duration": 62,
    "start_time": "2022-04-26T18:13:31.417Z"
   },
   {
    "duration": 55,
    "start_time": "2022-04-26T18:13:31.481Z"
   },
   {
    "duration": 38,
    "start_time": "2022-04-26T18:13:31.538Z"
   },
   {
    "duration": 33,
    "start_time": "2022-04-26T18:13:31.577Z"
   },
   {
    "duration": 57,
    "start_time": "2022-04-26T18:13:31.611Z"
   },
   {
    "duration": 52,
    "start_time": "2022-04-26T18:13:31.669Z"
   },
   {
    "duration": 73,
    "start_time": "2022-04-26T18:13:31.723Z"
   },
   {
    "duration": 39,
    "start_time": "2022-04-26T18:13:31.798Z"
   },
   {
    "duration": 14,
    "start_time": "2022-04-26T18:13:31.838Z"
   },
   {
    "duration": 29,
    "start_time": "2022-04-26T18:13:31.855Z"
   },
   {
    "duration": 27,
    "start_time": "2022-04-26T18:13:31.886Z"
   },
   {
    "duration": 25,
    "start_time": "2022-04-26T18:13:31.915Z"
   },
   {
    "duration": 9,
    "start_time": "2022-04-26T18:13:31.942Z"
   },
   {
    "duration": 22,
    "start_time": "2022-04-26T18:13:31.953Z"
   },
   {
    "duration": 15,
    "start_time": "2022-04-26T18:13:31.976Z"
   },
   {
    "duration": 23,
    "start_time": "2022-04-26T18:13:31.992Z"
   },
   {
    "duration": 18,
    "start_time": "2022-04-26T18:13:32.017Z"
   },
   {
    "duration": 15,
    "start_time": "2022-04-26T18:13:32.037Z"
   },
   {
    "duration": 23,
    "start_time": "2022-04-26T18:13:32.053Z"
   },
   {
    "duration": 27,
    "start_time": "2022-04-26T18:13:32.078Z"
   },
   {
    "duration": 9,
    "start_time": "2022-04-26T18:13:32.107Z"
   },
   {
    "duration": 38,
    "start_time": "2022-04-26T18:13:32.118Z"
   },
   {
    "duration": 4,
    "start_time": "2022-04-26T18:13:32.158Z"
   },
   {
    "duration": 28,
    "start_time": "2022-04-26T18:13:32.164Z"
   },
   {
    "duration": 307,
    "start_time": "2022-04-26T18:13:32.193Z"
   },
   {
    "duration": 24,
    "start_time": "2022-04-26T18:13:32.502Z"
   },
   {
    "duration": 8,
    "start_time": "2022-04-26T18:13:32.527Z"
   },
   {
    "duration": 171,
    "start_time": "2022-04-26T18:13:32.536Z"
   },
   {
    "duration": 8,
    "start_time": "2022-04-26T18:13:32.709Z"
   },
   {
    "duration": 219,
    "start_time": "2022-04-26T18:13:32.718Z"
   },
   {
    "duration": 8,
    "start_time": "2022-04-26T18:13:32.938Z"
   },
   {
    "duration": 152,
    "start_time": "2022-04-26T18:13:32.954Z"
   },
   {
    "duration": 5,
    "start_time": "2022-04-26T18:13:33.108Z"
   },
   {
    "duration": 11,
    "start_time": "2022-04-26T18:13:33.115Z"
   },
   {
    "duration": 30,
    "start_time": "2022-04-26T18:13:33.127Z"
   },
   {
    "duration": 161,
    "start_time": "2022-04-26T18:13:33.159Z"
   },
   {
    "duration": 157,
    "start_time": "2022-04-26T18:13:33.325Z"
   },
   {
    "duration": 10,
    "start_time": "2022-04-26T18:13:33.484Z"
   },
   {
    "duration": 116,
    "start_time": "2022-04-26T18:13:33.496Z"
   },
   {
    "duration": 6,
    "start_time": "2022-04-26T18:13:33.614Z"
   },
   {
    "duration": 9,
    "start_time": "2022-04-26T18:13:33.621Z"
   },
   {
    "duration": 26,
    "start_time": "2022-04-26T18:13:33.632Z"
   },
   {
    "duration": 9,
    "start_time": "2022-04-26T18:13:33.660Z"
   },
   {
    "duration": 4,
    "start_time": "2022-04-26T18:13:33.671Z"
   },
   {
    "duration": 189,
    "start_time": "2022-04-26T18:13:33.677Z"
   },
   {
    "duration": 7,
    "start_time": "2022-04-26T18:13:33.868Z"
   },
   {
    "duration": 180,
    "start_time": "2022-04-26T18:13:33.876Z"
   },
   {
    "duration": 7,
    "start_time": "2022-04-26T18:13:34.058Z"
   },
   {
    "duration": 176,
    "start_time": "2022-04-26T18:13:34.066Z"
   },
   {
    "duration": 12,
    "start_time": "2022-04-26T18:13:34.243Z"
   },
   {
    "duration": 124,
    "start_time": "2022-04-26T18:13:34.256Z"
   },
   {
    "duration": 126,
    "start_time": "2022-04-26T18:13:34.382Z"
   },
   {
    "duration": 158,
    "start_time": "2022-04-26T18:13:34.509Z"
   },
   {
    "duration": 199,
    "start_time": "2022-04-26T18:13:34.669Z"
   },
   {
    "duration": 23,
    "start_time": "2022-04-26T18:13:34.870Z"
   },
   {
    "duration": 32,
    "start_time": "2022-04-26T18:13:34.894Z"
   },
   {
    "duration": 14,
    "start_time": "2022-04-26T18:13:34.927Z"
   },
   {
    "duration": 5,
    "start_time": "2022-04-26T18:13:34.942Z"
   },
   {
    "duration": 24,
    "start_time": "2022-04-26T18:13:34.948Z"
   },
   {
    "duration": 73,
    "start_time": "2022-04-26T18:13:34.974Z"
   },
   {
    "duration": 2,
    "start_time": "2022-04-26T18:13:38.059Z"
   },
   {
    "duration": 43,
    "start_time": "2022-04-26T18:14:23.908Z"
   },
   {
    "duration": 44,
    "start_time": "2022-04-26T18:15:27.986Z"
   },
   {
    "duration": 19,
    "start_time": "2022-04-26T18:16:02.642Z"
   },
   {
    "duration": 152,
    "start_time": "2022-04-26T18:16:35.384Z"
   },
   {
    "duration": 37,
    "start_time": "2022-04-26T18:29:01.116Z"
   },
   {
    "duration": 14,
    "start_time": "2022-04-26T18:29:34.543Z"
   },
   {
    "duration": 123,
    "start_time": "2022-04-26T18:29:50.544Z"
   },
   {
    "duration": 132,
    "start_time": "2022-04-26T18:33:47.816Z"
   },
   {
    "duration": 143,
    "start_time": "2022-04-26T18:33:52.604Z"
   },
   {
    "duration": 139,
    "start_time": "2022-04-26T18:34:28.455Z"
   },
   {
    "duration": 137,
    "start_time": "2022-04-26T18:34:34.644Z"
   },
   {
    "duration": 8,
    "start_time": "2022-04-26T18:39:17.719Z"
   },
   {
    "duration": 8,
    "start_time": "2022-04-26T18:39:20.659Z"
   },
   {
    "duration": 9,
    "start_time": "2022-04-26T18:39:21.231Z"
   },
   {
    "duration": 8,
    "start_time": "2022-04-26T18:40:20.540Z"
   },
   {
    "duration": 137,
    "start_time": "2022-04-26T18:40:43.530Z"
   },
   {
    "duration": 102,
    "start_time": "2022-04-26T18:41:08.600Z"
   },
   {
    "duration": 125,
    "start_time": "2022-04-26T18:41:20.961Z"
   },
   {
    "duration": 133,
    "start_time": "2022-04-26T18:41:30.471Z"
   },
   {
    "duration": 247,
    "start_time": "2022-04-26T18:41:39.609Z"
   },
   {
    "duration": 145,
    "start_time": "2022-04-26T18:42:49.112Z"
   },
   {
    "duration": 127,
    "start_time": "2022-04-26T18:43:05.010Z"
   },
   {
    "duration": 147,
    "start_time": "2022-04-26T18:43:20.871Z"
   },
   {
    "duration": 7,
    "start_time": "2022-04-26T18:48:21.863Z"
   },
   {
    "duration": 120,
    "start_time": "2022-04-26T18:48:50.812Z"
   },
   {
    "duration": 137,
    "start_time": "2022-04-26T18:49:56.552Z"
   },
   {
    "duration": 142,
    "start_time": "2022-04-26T18:50:32.138Z"
   },
   {
    "duration": 131,
    "start_time": "2022-04-26T18:50:46.032Z"
   },
   {
    "duration": 136,
    "start_time": "2022-04-26T18:51:04.873Z"
   },
   {
    "duration": 133,
    "start_time": "2022-04-26T18:51:12.184Z"
   },
   {
    "duration": 10,
    "start_time": "2022-04-26T18:53:02.667Z"
   },
   {
    "duration": 125,
    "start_time": "2022-04-26T18:53:33.935Z"
   },
   {
    "duration": 156,
    "start_time": "2022-04-26T18:58:50.646Z"
   },
   {
    "duration": 245,
    "start_time": "2022-04-26T18:58:56.473Z"
   },
   {
    "duration": 158,
    "start_time": "2022-04-26T18:59:20.680Z"
   },
   {
    "duration": 139,
    "start_time": "2022-04-26T18:59:26.267Z"
   },
   {
    "duration": 139,
    "start_time": "2022-04-26T18:59:35.018Z"
   },
   {
    "duration": 113,
    "start_time": "2022-04-26T18:59:42.187Z"
   },
   {
    "duration": 888,
    "start_time": "2022-04-26T19:00:02.638Z"
   },
   {
    "duration": 103,
    "start_time": "2022-04-26T19:00:03.528Z"
   },
   {
    "duration": 25,
    "start_time": "2022-04-26T19:00:03.633Z"
   },
   {
    "duration": 6,
    "start_time": "2022-04-26T19:00:03.660Z"
   },
   {
    "duration": 16,
    "start_time": "2022-04-26T19:00:03.668Z"
   },
   {
    "duration": 6,
    "start_time": "2022-04-26T19:00:03.686Z"
   },
   {
    "duration": 26,
    "start_time": "2022-04-26T19:00:03.693Z"
   },
   {
    "duration": 6,
    "start_time": "2022-04-26T19:00:03.721Z"
   },
   {
    "duration": 31,
    "start_time": "2022-04-26T19:00:03.729Z"
   },
   {
    "duration": 10,
    "start_time": "2022-04-26T19:00:03.763Z"
   },
   {
    "duration": 16,
    "start_time": "2022-04-26T19:00:03.775Z"
   },
   {
    "duration": 9,
    "start_time": "2022-04-26T19:00:03.793Z"
   },
   {
    "duration": 26,
    "start_time": "2022-04-26T19:00:03.804Z"
   },
   {
    "duration": 9,
    "start_time": "2022-04-26T19:00:03.833Z"
   },
   {
    "duration": 19,
    "start_time": "2022-04-26T19:00:03.844Z"
   },
   {
    "duration": 49,
    "start_time": "2022-04-26T19:00:03.865Z"
   },
   {
    "duration": 6,
    "start_time": "2022-04-26T19:00:03.915Z"
   },
   {
    "duration": 21,
    "start_time": "2022-04-26T19:00:03.923Z"
   },
   {
    "duration": 21,
    "start_time": "2022-04-26T19:00:03.946Z"
   },
   {
    "duration": 21,
    "start_time": "2022-04-26T19:00:03.969Z"
   },
   {
    "duration": 36,
    "start_time": "2022-04-26T19:00:03.991Z"
   },
   {
    "duration": 16,
    "start_time": "2022-04-26T19:00:04.028Z"
   },
   {
    "duration": 22,
    "start_time": "2022-04-26T19:00:04.047Z"
   },
   {
    "duration": 10,
    "start_time": "2022-04-26T19:00:04.071Z"
   },
   {
    "duration": 16,
    "start_time": "2022-04-26T19:00:04.083Z"
   },
   {
    "duration": 38,
    "start_time": "2022-04-26T19:00:04.102Z"
   },
   {
    "duration": 5,
    "start_time": "2022-04-26T19:00:04.143Z"
   },
   {
    "duration": 19,
    "start_time": "2022-04-26T19:00:04.158Z"
   },
   {
    "duration": 569,
    "start_time": "2022-04-26T19:00:04.179Z"
   },
   {
    "duration": 37,
    "start_time": "2022-04-26T19:00:04.754Z"
   },
   {
    "duration": 10,
    "start_time": "2022-04-26T19:00:04.793Z"
   },
   {
    "duration": 277,
    "start_time": "2022-04-26T19:00:04.806Z"
   },
   {
    "duration": 10,
    "start_time": "2022-04-26T19:00:05.085Z"
   },
   {
    "duration": 280,
    "start_time": "2022-04-26T19:00:05.097Z"
   },
   {
    "duration": 9,
    "start_time": "2022-04-26T19:00:05.379Z"
   },
   {
    "duration": 194,
    "start_time": "2022-04-26T19:00:05.389Z"
   },
   {
    "duration": 5,
    "start_time": "2022-04-26T19:00:05.585Z"
   },
   {
    "duration": 117,
    "start_time": "2022-04-26T19:00:05.592Z"
   },
   {
    "duration": 47,
    "start_time": "2022-04-26T19:00:05.711Z"
   },
   {
    "duration": 154,
    "start_time": "2022-04-26T19:00:05.760Z"
   },
   {
    "duration": 174,
    "start_time": "2022-04-26T19:00:05.916Z"
   },
   {
    "duration": 9,
    "start_time": "2022-04-26T19:00:06.092Z"
   },
   {
    "duration": 115,
    "start_time": "2022-04-26T19:00:06.103Z"
   },
   {
    "duration": 5,
    "start_time": "2022-04-26T19:00:06.220Z"
   },
   {
    "duration": 17,
    "start_time": "2022-04-26T19:00:06.226Z"
   },
   {
    "duration": 6,
    "start_time": "2022-04-26T19:00:06.255Z"
   },
   {
    "duration": 12,
    "start_time": "2022-04-26T19:00:06.262Z"
   },
   {
    "duration": 6,
    "start_time": "2022-04-26T19:00:06.276Z"
   },
   {
    "duration": 193,
    "start_time": "2022-04-26T19:00:06.283Z"
   },
   {
    "duration": 6,
    "start_time": "2022-04-26T19:00:06.477Z"
   },
   {
    "duration": 176,
    "start_time": "2022-04-26T19:00:06.484Z"
   },
   {
    "duration": 5,
    "start_time": "2022-04-26T19:00:06.662Z"
   },
   {
    "duration": 174,
    "start_time": "2022-04-26T19:00:06.668Z"
   },
   {
    "duration": 5,
    "start_time": "2022-04-26T19:00:06.844Z"
   },
   {
    "duration": 131,
    "start_time": "2022-04-26T19:00:06.854Z"
   },
   {
    "duration": 142,
    "start_time": "2022-04-26T19:00:06.987Z"
   },
   {
    "duration": 163,
    "start_time": "2022-04-26T19:00:07.131Z"
   },
   {
    "duration": 211,
    "start_time": "2022-04-26T19:00:07.295Z"
   },
   {
    "duration": 25,
    "start_time": "2022-04-26T19:00:07.508Z"
   },
   {
    "duration": 29,
    "start_time": "2022-04-26T19:00:07.534Z"
   },
   {
    "duration": 16,
    "start_time": "2022-04-26T19:00:07.565Z"
   },
   {
    "duration": 159,
    "start_time": "2022-04-26T19:00:07.582Z"
   },
   {
    "duration": 13,
    "start_time": "2022-04-26T19:00:07.743Z"
   },
   {
    "duration": 28,
    "start_time": "2022-04-26T19:00:07.758Z"
   },
   {
    "duration": 159,
    "start_time": "2022-04-26T19:00:07.787Z"
   },
   {
    "duration": 11,
    "start_time": "2022-04-26T19:00:07.948Z"
   },
   {
    "duration": 162,
    "start_time": "2022-04-26T19:00:07.961Z"
   },
   {
    "duration": 9,
    "start_time": "2022-04-26T19:00:08.125Z"
   },
   {
    "duration": 159,
    "start_time": "2022-04-26T19:00:08.135Z"
   },
   {
    "duration": 9,
    "start_time": "2022-04-26T19:00:08.295Z"
   },
   {
    "duration": 154,
    "start_time": "2022-04-26T19:00:08.306Z"
   },
   {
    "duration": 735,
    "start_time": "2022-04-26T19:00:33.689Z"
   },
   {
    "duration": 99,
    "start_time": "2022-04-26T19:00:34.426Z"
   },
   {
    "duration": 15,
    "start_time": "2022-04-26T19:00:34.526Z"
   },
   {
    "duration": 7,
    "start_time": "2022-04-26T19:00:34.554Z"
   },
   {
    "duration": 11,
    "start_time": "2022-04-26T19:00:34.563Z"
   },
   {
    "duration": 11,
    "start_time": "2022-04-26T19:00:34.576Z"
   },
   {
    "duration": 22,
    "start_time": "2022-04-26T19:00:34.588Z"
   },
   {
    "duration": 10,
    "start_time": "2022-04-26T19:00:34.611Z"
   },
   {
    "duration": 18,
    "start_time": "2022-04-26T19:00:34.623Z"
   },
   {
    "duration": 12,
    "start_time": "2022-04-26T19:00:34.643Z"
   },
   {
    "duration": 12,
    "start_time": "2022-04-26T19:00:34.656Z"
   },
   {
    "duration": 14,
    "start_time": "2022-04-26T19:00:34.670Z"
   },
   {
    "duration": 9,
    "start_time": "2022-04-26T19:00:34.686Z"
   },
   {
    "duration": 16,
    "start_time": "2022-04-26T19:00:34.697Z"
   },
   {
    "duration": 8,
    "start_time": "2022-04-26T19:00:34.714Z"
   },
   {
    "duration": 19,
    "start_time": "2022-04-26T19:00:34.724Z"
   },
   {
    "duration": 10,
    "start_time": "2022-04-26T19:00:34.745Z"
   },
   {
    "duration": 10,
    "start_time": "2022-04-26T19:00:34.757Z"
   },
   {
    "duration": 15,
    "start_time": "2022-04-26T19:00:34.768Z"
   },
   {
    "duration": 26,
    "start_time": "2022-04-26T19:00:34.785Z"
   },
   {
    "duration": 10,
    "start_time": "2022-04-26T19:00:34.813Z"
   },
   {
    "duration": 13,
    "start_time": "2022-04-26T19:00:34.825Z"
   },
   {
    "duration": 12,
    "start_time": "2022-04-26T19:00:34.840Z"
   },
   {
    "duration": 14,
    "start_time": "2022-04-26T19:00:34.854Z"
   },
   {
    "duration": 18,
    "start_time": "2022-04-26T19:00:34.869Z"
   },
   {
    "duration": 34,
    "start_time": "2022-04-26T19:00:34.889Z"
   },
   {
    "duration": 6,
    "start_time": "2022-04-26T19:00:34.925Z"
   },
   {
    "duration": 21,
    "start_time": "2022-04-26T19:00:34.932Z"
   },
   {
    "duration": 315,
    "start_time": "2022-04-26T19:00:34.955Z"
   },
   {
    "duration": 27,
    "start_time": "2022-04-26T19:00:35.272Z"
   },
   {
    "duration": 22,
    "start_time": "2022-04-26T19:00:35.301Z"
   },
   {
    "duration": 170,
    "start_time": "2022-04-26T19:00:35.325Z"
   },
   {
    "duration": 11,
    "start_time": "2022-04-26T19:00:35.497Z"
   },
   {
    "duration": 244,
    "start_time": "2022-04-26T19:00:35.510Z"
   },
   {
    "duration": 8,
    "start_time": "2022-04-26T19:00:35.756Z"
   },
   {
    "duration": 163,
    "start_time": "2022-04-26T19:00:35.765Z"
   },
   {
    "duration": 5,
    "start_time": "2022-04-26T19:00:35.930Z"
   },
   {
    "duration": 17,
    "start_time": "2022-04-26T19:00:35.937Z"
   },
   {
    "duration": 9,
    "start_time": "2022-04-26T19:00:35.957Z"
   },
   {
    "duration": 169,
    "start_time": "2022-04-26T19:00:35.968Z"
   },
   {
    "duration": 161,
    "start_time": "2022-04-26T19:00:36.142Z"
   },
   {
    "duration": 10,
    "start_time": "2022-04-26T19:00:36.305Z"
   },
   {
    "duration": 120,
    "start_time": "2022-04-26T19:00:36.317Z"
   },
   {
    "duration": 17,
    "start_time": "2022-04-26T19:00:36.439Z"
   },
   {
    "duration": 11,
    "start_time": "2022-04-26T19:00:36.458Z"
   },
   {
    "duration": 16,
    "start_time": "2022-04-26T19:00:36.471Z"
   },
   {
    "duration": 14,
    "start_time": "2022-04-26T19:00:36.488Z"
   },
   {
    "duration": 4,
    "start_time": "2022-04-26T19:00:36.503Z"
   },
   {
    "duration": 194,
    "start_time": "2022-04-26T19:00:36.509Z"
   },
   {
    "duration": 5,
    "start_time": "2022-04-26T19:00:36.705Z"
   },
   {
    "duration": 166,
    "start_time": "2022-04-26T19:00:36.712Z"
   },
   {
    "duration": 5,
    "start_time": "2022-04-26T19:00:36.879Z"
   },
   {
    "duration": 179,
    "start_time": "2022-04-26T19:00:36.886Z"
   },
   {
    "duration": 6,
    "start_time": "2022-04-26T19:00:37.067Z"
   },
   {
    "duration": 134,
    "start_time": "2022-04-26T19:00:37.074Z"
   },
   {
    "duration": 139,
    "start_time": "2022-04-26T19:00:37.209Z"
   },
   {
    "duration": 158,
    "start_time": "2022-04-26T19:00:37.354Z"
   },
   {
    "duration": 216,
    "start_time": "2022-04-26T19:00:37.514Z"
   },
   {
    "duration": 35,
    "start_time": "2022-04-26T19:00:37.733Z"
   },
   {
    "duration": 12,
    "start_time": "2022-04-26T19:00:37.770Z"
   },
   {
    "duration": 12,
    "start_time": "2022-04-26T19:00:37.784Z"
   },
   {
    "duration": 168,
    "start_time": "2022-04-26T19:00:37.798Z"
   },
   {
    "duration": 9,
    "start_time": "2022-04-26T19:00:37.967Z"
   },
   {
    "duration": 9,
    "start_time": "2022-04-26T19:00:37.978Z"
   },
   {
    "duration": 157,
    "start_time": "2022-04-26T19:00:37.989Z"
   },
   {
    "duration": 7,
    "start_time": "2022-04-26T19:00:38.154Z"
   },
   {
    "duration": 155,
    "start_time": "2022-04-26T19:00:38.162Z"
   },
   {
    "duration": 7,
    "start_time": "2022-04-26T19:00:38.319Z"
   },
   {
    "duration": 162,
    "start_time": "2022-04-26T19:00:38.328Z"
   },
   {
    "duration": 9,
    "start_time": "2022-04-26T19:00:38.491Z"
   },
   {
    "duration": 145,
    "start_time": "2022-04-26T19:00:38.502Z"
   },
   {
    "duration": 751,
    "start_time": "2022-04-26T19:00:58.962Z"
   },
   {
    "duration": 92,
    "start_time": "2022-04-26T19:00:59.715Z"
   },
   {
    "duration": 13,
    "start_time": "2022-04-26T19:00:59.809Z"
   },
   {
    "duration": 5,
    "start_time": "2022-04-26T19:00:59.824Z"
   },
   {
    "duration": 23,
    "start_time": "2022-04-26T19:00:59.832Z"
   },
   {
    "duration": 5,
    "start_time": "2022-04-26T19:00:59.857Z"
   },
   {
    "duration": 16,
    "start_time": "2022-04-26T19:00:59.863Z"
   },
   {
    "duration": 5,
    "start_time": "2022-04-26T19:00:59.880Z"
   },
   {
    "duration": 11,
    "start_time": "2022-04-26T19:00:59.887Z"
   },
   {
    "duration": 6,
    "start_time": "2022-04-26T19:00:59.900Z"
   },
   {
    "duration": 7,
    "start_time": "2022-04-26T19:00:59.907Z"
   },
   {
    "duration": 40,
    "start_time": "2022-04-26T19:00:59.915Z"
   },
   {
    "duration": 6,
    "start_time": "2022-04-26T19:00:59.958Z"
   },
   {
    "duration": 7,
    "start_time": "2022-04-26T19:00:59.967Z"
   },
   {
    "duration": 6,
    "start_time": "2022-04-26T19:00:59.976Z"
   },
   {
    "duration": 31,
    "start_time": "2022-04-26T19:00:59.983Z"
   },
   {
    "duration": 6,
    "start_time": "2022-04-26T19:01:00.016Z"
   },
   {
    "duration": 28,
    "start_time": "2022-04-26T19:01:00.023Z"
   },
   {
    "duration": 17,
    "start_time": "2022-04-26T19:01:00.052Z"
   },
   {
    "duration": 20,
    "start_time": "2022-04-26T19:01:00.071Z"
   },
   {
    "duration": 13,
    "start_time": "2022-04-26T19:01:00.092Z"
   },
   {
    "duration": 15,
    "start_time": "2022-04-26T19:01:00.106Z"
   },
   {
    "duration": 8,
    "start_time": "2022-04-26T19:01:00.123Z"
   },
   {
    "duration": 7,
    "start_time": "2022-04-26T19:01:00.133Z"
   },
   {
    "duration": 6,
    "start_time": "2022-04-26T19:01:00.142Z"
   },
   {
    "duration": 28,
    "start_time": "2022-04-26T19:01:00.149Z"
   },
   {
    "duration": 6,
    "start_time": "2022-04-26T19:01:00.179Z"
   },
   {
    "duration": 16,
    "start_time": "2022-04-26T19:01:00.187Z"
   },
   {
    "duration": 340,
    "start_time": "2022-04-26T19:01:00.205Z"
   },
   {
    "duration": 27,
    "start_time": "2022-04-26T19:01:00.547Z"
   },
   {
    "duration": 15,
    "start_time": "2022-04-26T19:01:00.575Z"
   },
   {
    "duration": 175,
    "start_time": "2022-04-26T19:01:00.592Z"
   },
   {
    "duration": 9,
    "start_time": "2022-04-26T19:01:00.768Z"
   },
   {
    "duration": 216,
    "start_time": "2022-04-26T19:01:00.779Z"
   },
   {
    "duration": 8,
    "start_time": "2022-04-26T19:01:00.997Z"
   },
   {
    "duration": 183,
    "start_time": "2022-04-26T19:01:01.007Z"
   },
   {
    "duration": 7,
    "start_time": "2022-04-26T19:01:01.192Z"
   },
   {
    "duration": 9,
    "start_time": "2022-04-26T19:01:01.201Z"
   },
   {
    "duration": 26,
    "start_time": "2022-04-26T19:01:01.212Z"
   },
   {
    "duration": 157,
    "start_time": "2022-04-26T19:01:01.240Z"
   },
   {
    "duration": 164,
    "start_time": "2022-04-26T19:01:01.403Z"
   },
   {
    "duration": 10,
    "start_time": "2022-04-26T19:01:01.569Z"
   },
   {
    "duration": 123,
    "start_time": "2022-04-26T19:01:01.581Z"
   },
   {
    "duration": 6,
    "start_time": "2022-04-26T19:01:01.705Z"
   },
   {
    "duration": 23,
    "start_time": "2022-04-26T19:01:01.712Z"
   },
   {
    "duration": 30,
    "start_time": "2022-04-26T19:01:01.736Z"
   },
   {
    "duration": 22,
    "start_time": "2022-04-26T19:01:01.767Z"
   },
   {
    "duration": 40,
    "start_time": "2022-04-26T19:01:01.791Z"
   },
   {
    "duration": 225,
    "start_time": "2022-04-26T19:01:01.833Z"
   },
   {
    "duration": 6,
    "start_time": "2022-04-26T19:01:02.060Z"
   },
   {
    "duration": 295,
    "start_time": "2022-04-26T19:01:02.068Z"
   },
   {
    "duration": 6,
    "start_time": "2022-04-26T19:01:02.365Z"
   },
   {
    "duration": 221,
    "start_time": "2022-04-26T19:01:02.373Z"
   },
   {
    "duration": 6,
    "start_time": "2022-04-26T19:01:02.597Z"
   },
   {
    "duration": 133,
    "start_time": "2022-04-26T19:01:02.604Z"
   },
   {
    "duration": 138,
    "start_time": "2022-04-26T19:01:02.739Z"
   },
   {
    "duration": 162,
    "start_time": "2022-04-26T19:01:02.879Z"
   },
   {
    "duration": 217,
    "start_time": "2022-04-26T19:01:03.043Z"
   },
   {
    "duration": 24,
    "start_time": "2022-04-26T19:01:03.262Z"
   },
   {
    "duration": 20,
    "start_time": "2022-04-26T19:01:03.288Z"
   },
   {
    "duration": 72,
    "start_time": "2022-04-26T19:01:03.310Z"
   },
   {
    "duration": 156,
    "start_time": "2022-04-26T19:01:03.383Z"
   },
   {
    "duration": 16,
    "start_time": "2022-04-26T19:01:03.541Z"
   },
   {
    "duration": 20,
    "start_time": "2022-04-26T19:01:03.559Z"
   },
   {
    "duration": 152,
    "start_time": "2022-04-26T19:01:03.581Z"
   },
   {
    "duration": 8,
    "start_time": "2022-04-26T19:01:03.735Z"
   },
   {
    "duration": 149,
    "start_time": "2022-04-26T19:01:03.755Z"
   },
   {
    "duration": 8,
    "start_time": "2022-04-26T19:01:03.906Z"
   },
   {
    "duration": 154,
    "start_time": "2022-04-26T19:01:03.916Z"
   },
   {
    "duration": 9,
    "start_time": "2022-04-26T19:01:04.071Z"
   },
   {
    "duration": 136,
    "start_time": "2022-04-26T19:01:04.082Z"
   },
   {
    "duration": 132,
    "start_time": "2022-04-26T19:06:29.081Z"
   },
   {
    "duration": 124,
    "start_time": "2022-04-26T19:06:48.379Z"
   },
   {
    "duration": 134,
    "start_time": "2022-04-26T19:06:57.998Z"
   },
   {
    "duration": 148,
    "start_time": "2022-04-26T19:07:12.369Z"
   },
   {
    "duration": 6,
    "start_time": "2022-04-26T19:07:52.911Z"
   },
   {
    "duration": 140,
    "start_time": "2022-04-26T19:10:22.000Z"
   },
   {
    "duration": 237,
    "start_time": "2022-04-26T19:10:39.572Z"
   },
   {
    "duration": 6,
    "start_time": "2022-04-26T19:10:44.809Z"
   },
   {
    "duration": 119,
    "start_time": "2022-04-26T19:13:35.842Z"
   },
   {
    "duration": 196,
    "start_time": "2022-04-26T19:15:41.077Z"
   },
   {
    "duration": 147,
    "start_time": "2022-04-26T19:19:06.797Z"
   },
   {
    "duration": 197,
    "start_time": "2022-04-26T19:19:23.167Z"
   },
   {
    "duration": 129,
    "start_time": "2022-04-26T19:36:33.098Z"
   },
   {
    "duration": 128,
    "start_time": "2022-04-26T19:36:38.516Z"
   },
   {
    "duration": 6,
    "start_time": "2022-04-26T19:37:07.977Z"
   },
   {
    "duration": 769,
    "start_time": "2022-04-26T20:26:00.867Z"
   },
   {
    "duration": 96,
    "start_time": "2022-04-26T20:26:01.638Z"
   },
   {
    "duration": 23,
    "start_time": "2022-04-26T20:26:01.736Z"
   },
   {
    "duration": 20,
    "start_time": "2022-04-26T20:26:01.761Z"
   },
   {
    "duration": 32,
    "start_time": "2022-04-26T20:26:01.783Z"
   },
   {
    "duration": 19,
    "start_time": "2022-04-26T20:26:01.816Z"
   },
   {
    "duration": 47,
    "start_time": "2022-04-26T20:26:01.836Z"
   },
   {
    "duration": 6,
    "start_time": "2022-04-26T20:26:01.885Z"
   },
   {
    "duration": 27,
    "start_time": "2022-04-26T20:26:01.893Z"
   },
   {
    "duration": 16,
    "start_time": "2022-04-26T20:26:01.922Z"
   },
   {
    "duration": 12,
    "start_time": "2022-04-26T20:26:01.940Z"
   },
   {
    "duration": 28,
    "start_time": "2022-04-26T20:26:01.953Z"
   },
   {
    "duration": 32,
    "start_time": "2022-04-26T20:26:01.983Z"
   },
   {
    "duration": 19,
    "start_time": "2022-04-26T20:26:02.018Z"
   },
   {
    "duration": 6,
    "start_time": "2022-04-26T20:26:02.039Z"
   },
   {
    "duration": 27,
    "start_time": "2022-04-26T20:26:02.047Z"
   },
   {
    "duration": 8,
    "start_time": "2022-04-26T20:26:02.076Z"
   },
   {
    "duration": 30,
    "start_time": "2022-04-26T20:26:02.085Z"
   },
   {
    "duration": 18,
    "start_time": "2022-04-26T20:26:02.117Z"
   },
   {
    "duration": 9,
    "start_time": "2022-04-26T20:26:02.136Z"
   },
   {
    "duration": 8,
    "start_time": "2022-04-26T20:26:02.146Z"
   },
   {
    "duration": 69,
    "start_time": "2022-04-26T20:26:02.155Z"
   },
   {
    "duration": 27,
    "start_time": "2022-04-26T20:26:02.226Z"
   },
   {
    "duration": 7,
    "start_time": "2022-04-26T20:26:02.254Z"
   },
   {
    "duration": 6,
    "start_time": "2022-04-26T20:26:02.262Z"
   },
   {
    "duration": 34,
    "start_time": "2022-04-26T20:26:02.270Z"
   },
   {
    "duration": 4,
    "start_time": "2022-04-26T20:26:02.305Z"
   },
   {
    "duration": 18,
    "start_time": "2022-04-26T20:26:02.310Z"
   },
   {
    "duration": 345,
    "start_time": "2022-04-26T20:26:02.329Z"
   },
   {
    "duration": 23,
    "start_time": "2022-04-26T20:26:02.676Z"
   },
   {
    "duration": 8,
    "start_time": "2022-04-26T20:26:02.700Z"
   },
   {
    "duration": 160,
    "start_time": "2022-04-26T20:26:02.709Z"
   },
   {
    "duration": 8,
    "start_time": "2022-04-26T20:26:02.871Z"
   },
   {
    "duration": 213,
    "start_time": "2022-04-26T20:26:02.881Z"
   },
   {
    "duration": 9,
    "start_time": "2022-04-26T20:26:03.096Z"
   },
   {
    "duration": 163,
    "start_time": "2022-04-26T20:26:03.107Z"
   },
   {
    "duration": 5,
    "start_time": "2022-04-26T20:26:03.272Z"
   },
   {
    "duration": 20,
    "start_time": "2022-04-26T20:26:03.279Z"
   },
   {
    "duration": 32,
    "start_time": "2022-04-26T20:26:03.301Z"
   },
   {
    "duration": 129,
    "start_time": "2022-04-26T20:26:03.335Z"
   },
   {
    "duration": 146,
    "start_time": "2022-04-26T20:26:03.468Z"
   },
   {
    "duration": 9,
    "start_time": "2022-04-26T20:26:03.615Z"
   },
   {
    "duration": 128,
    "start_time": "2022-04-26T20:26:03.626Z"
   },
   {
    "duration": 6,
    "start_time": "2022-04-26T20:26:03.756Z"
   },
   {
    "duration": 30,
    "start_time": "2022-04-26T20:26:03.764Z"
   },
   {
    "duration": 7,
    "start_time": "2022-04-26T20:26:03.796Z"
   },
   {
    "duration": 10,
    "start_time": "2022-04-26T20:26:03.805Z"
   },
   {
    "duration": 4,
    "start_time": "2022-04-26T20:26:03.817Z"
   },
   {
    "duration": 192,
    "start_time": "2022-04-26T20:26:03.823Z"
   },
   {
    "duration": 7,
    "start_time": "2022-04-26T20:26:04.018Z"
   },
   {
    "duration": 179,
    "start_time": "2022-04-26T20:26:04.026Z"
   },
   {
    "duration": 7,
    "start_time": "2022-04-26T20:26:04.207Z"
   },
   {
    "duration": 177,
    "start_time": "2022-04-26T20:26:04.215Z"
   },
   {
    "duration": 6,
    "start_time": "2022-04-26T20:26:04.394Z"
   },
   {
    "duration": 141,
    "start_time": "2022-04-26T20:26:04.402Z"
   },
   {
    "duration": 133,
    "start_time": "2022-04-26T20:26:04.544Z"
   },
   {
    "duration": 148,
    "start_time": "2022-04-26T20:26:04.679Z"
   },
   {
    "duration": 199,
    "start_time": "2022-04-26T20:26:04.829Z"
   },
   {
    "duration": 34,
    "start_time": "2022-04-26T20:26:05.030Z"
   },
   {
    "duration": 11,
    "start_time": "2022-04-26T20:26:05.065Z"
   },
   {
    "duration": 32,
    "start_time": "2022-04-26T20:26:05.078Z"
   },
   {
    "duration": 144,
    "start_time": "2022-04-26T20:26:05.112Z"
   },
   {
    "duration": 9,
    "start_time": "2022-04-26T20:26:05.258Z"
   },
   {
    "duration": 10,
    "start_time": "2022-04-26T20:26:05.268Z"
   },
   {
    "duration": 160,
    "start_time": "2022-04-26T20:26:05.279Z"
   },
   {
    "duration": 15,
    "start_time": "2022-04-26T20:26:05.441Z"
   },
   {
    "duration": 153,
    "start_time": "2022-04-26T20:26:05.457Z"
   },
   {
    "duration": 7,
    "start_time": "2022-04-26T20:26:05.612Z"
   },
   {
    "duration": 143,
    "start_time": "2022-04-26T20:26:05.620Z"
   },
   {
    "duration": 8,
    "start_time": "2022-04-26T20:26:05.765Z"
   },
   {
    "duration": 140,
    "start_time": "2022-04-26T20:26:05.775Z"
   },
   {
    "duration": 146,
    "start_time": "2022-04-26T20:26:05.916Z"
   },
   {
    "duration": 7,
    "start_time": "2022-04-26T20:26:06.064Z"
   },
   {
    "duration": 149,
    "start_time": "2022-04-26T20:26:06.073Z"
   },
   {
    "duration": 6,
    "start_time": "2022-04-26T20:26:06.223Z"
   },
   {
    "duration": 132,
    "start_time": "2022-04-26T20:26:06.231Z"
   },
   {
    "duration": 6,
    "start_time": "2022-04-26T20:26:06.365Z"
   },
   {
    "duration": 120,
    "start_time": "2022-04-26T20:26:06.372Z"
   },
   {
    "duration": 132,
    "start_time": "2022-04-26T20:26:06.494Z"
   },
   {
    "duration": 228,
    "start_time": "2022-04-26T20:26:06.628Z"
   },
   {
    "duration": 135,
    "start_time": "2022-04-26T20:26:06.858Z"
   },
   {
    "duration": 6,
    "start_time": "2022-04-26T20:45:49.744Z"
   },
   {
    "duration": 5,
    "start_time": "2022-04-26T20:46:03.409Z"
   },
   {
    "duration": 727,
    "start_time": "2022-04-26T20:46:35.766Z"
   },
   {
    "duration": 96,
    "start_time": "2022-04-26T20:46:36.494Z"
   },
   {
    "duration": 16,
    "start_time": "2022-04-26T20:46:36.592Z"
   },
   {
    "duration": 6,
    "start_time": "2022-04-26T20:46:36.609Z"
   },
   {
    "duration": 13,
    "start_time": "2022-04-26T20:46:36.617Z"
   },
   {
    "duration": 23,
    "start_time": "2022-04-26T20:46:36.632Z"
   },
   {
    "duration": 17,
    "start_time": "2022-04-26T20:46:36.657Z"
   },
   {
    "duration": 6,
    "start_time": "2022-04-26T20:46:36.676Z"
   },
   {
    "duration": 13,
    "start_time": "2022-04-26T20:46:36.683Z"
   },
   {
    "duration": 7,
    "start_time": "2022-04-26T20:46:36.698Z"
   },
   {
    "duration": 7,
    "start_time": "2022-04-26T20:46:36.706Z"
   },
   {
    "duration": 7,
    "start_time": "2022-04-26T20:46:36.714Z"
   },
   {
    "duration": 36,
    "start_time": "2022-04-26T20:46:36.723Z"
   },
   {
    "duration": 5,
    "start_time": "2022-04-26T20:46:36.762Z"
   },
   {
    "duration": 12,
    "start_time": "2022-04-26T20:46:36.769Z"
   },
   {
    "duration": 23,
    "start_time": "2022-04-26T20:46:36.782Z"
   },
   {
    "duration": 5,
    "start_time": "2022-04-26T20:46:36.807Z"
   },
   {
    "duration": 6,
    "start_time": "2022-04-26T20:46:36.814Z"
   },
   {
    "duration": 10,
    "start_time": "2022-04-26T20:46:36.821Z"
   },
   {
    "duration": 26,
    "start_time": "2022-04-26T20:46:36.832Z"
   },
   {
    "duration": 7,
    "start_time": "2022-04-26T20:46:36.859Z"
   },
   {
    "duration": 5,
    "start_time": "2022-04-26T20:46:36.867Z"
   },
   {
    "duration": 7,
    "start_time": "2022-04-26T20:46:36.873Z"
   },
   {
    "duration": 21,
    "start_time": "2022-04-26T20:46:36.882Z"
   },
   {
    "duration": 35,
    "start_time": "2022-04-26T20:46:36.904Z"
   },
   {
    "duration": 23,
    "start_time": "2022-04-26T20:46:36.941Z"
   },
   {
    "duration": 13,
    "start_time": "2022-04-26T20:46:36.966Z"
   },
   {
    "duration": 25,
    "start_time": "2022-04-26T20:46:36.980Z"
   },
   {
    "duration": 294,
    "start_time": "2022-04-26T20:46:37.007Z"
   },
   {
    "duration": 22,
    "start_time": "2022-04-26T20:46:37.303Z"
   },
   {
    "duration": 14,
    "start_time": "2022-04-26T20:46:37.327Z"
   },
   {
    "duration": 164,
    "start_time": "2022-04-26T20:46:37.342Z"
   },
   {
    "duration": 8,
    "start_time": "2022-04-26T20:46:37.508Z"
   },
   {
    "duration": 216,
    "start_time": "2022-04-26T20:46:37.518Z"
   },
   {
    "duration": 20,
    "start_time": "2022-04-26T20:46:37.736Z"
   },
   {
    "duration": 153,
    "start_time": "2022-04-26T20:46:37.758Z"
   },
   {
    "duration": 6,
    "start_time": "2022-04-26T20:46:37.912Z"
   },
   {
    "duration": 20,
    "start_time": "2022-04-26T20:46:37.920Z"
   },
   {
    "duration": 35,
    "start_time": "2022-04-26T20:46:37.942Z"
   },
   {
    "duration": 149,
    "start_time": "2022-04-26T20:46:37.978Z"
   },
   {
    "duration": 148,
    "start_time": "2022-04-26T20:46:38.132Z"
   },
   {
    "duration": 11,
    "start_time": "2022-04-26T20:46:38.282Z"
   },
   {
    "duration": 119,
    "start_time": "2022-04-26T20:46:38.295Z"
   },
   {
    "duration": 6,
    "start_time": "2022-04-26T20:46:38.416Z"
   },
   {
    "duration": 11,
    "start_time": "2022-04-26T20:46:38.424Z"
   },
   {
    "duration": 28,
    "start_time": "2022-04-26T20:46:38.436Z"
   },
   {
    "duration": 14,
    "start_time": "2022-04-26T20:46:38.466Z"
   },
   {
    "duration": 10,
    "start_time": "2022-04-26T20:46:38.481Z"
   },
   {
    "duration": 193,
    "start_time": "2022-04-26T20:46:38.493Z"
   },
   {
    "duration": 6,
    "start_time": "2022-04-26T20:46:38.687Z"
   },
   {
    "duration": 192,
    "start_time": "2022-04-26T20:46:38.694Z"
   },
   {
    "duration": 6,
    "start_time": "2022-04-26T20:46:38.888Z"
   },
   {
    "duration": 176,
    "start_time": "2022-04-26T20:46:38.895Z"
   },
   {
    "duration": 5,
    "start_time": "2022-04-26T20:46:39.073Z"
   },
   {
    "duration": 124,
    "start_time": "2022-04-26T20:46:39.079Z"
   },
   {
    "duration": 133,
    "start_time": "2022-04-26T20:46:39.204Z"
   },
   {
    "duration": 160,
    "start_time": "2022-04-26T20:46:39.339Z"
   },
   {
    "duration": 203,
    "start_time": "2022-04-26T20:46:39.500Z"
   },
   {
    "duration": 25,
    "start_time": "2022-04-26T20:46:39.705Z"
   },
   {
    "duration": 29,
    "start_time": "2022-04-26T20:46:39.732Z"
   },
   {
    "duration": 13,
    "start_time": "2022-04-26T20:46:39.763Z"
   },
   {
    "duration": 160,
    "start_time": "2022-04-26T20:46:39.777Z"
   },
   {
    "duration": 17,
    "start_time": "2022-04-26T20:46:39.939Z"
   },
   {
    "duration": 22,
    "start_time": "2022-04-26T20:46:39.957Z"
   },
   {
    "duration": 151,
    "start_time": "2022-04-26T20:46:39.980Z"
   },
   {
    "duration": 8,
    "start_time": "2022-04-26T20:46:40.132Z"
   },
   {
    "duration": 150,
    "start_time": "2022-04-26T20:46:40.141Z"
   },
   {
    "duration": 8,
    "start_time": "2022-04-26T20:46:40.293Z"
   },
   {
    "duration": 155,
    "start_time": "2022-04-26T20:46:40.303Z"
   },
   {
    "duration": 8,
    "start_time": "2022-04-26T20:46:40.460Z"
   },
   {
    "duration": 142,
    "start_time": "2022-04-26T20:46:40.469Z"
   },
   {
    "duration": 144,
    "start_time": "2022-04-26T20:46:40.612Z"
   },
   {
    "duration": 6,
    "start_time": "2022-04-26T20:46:40.758Z"
   },
   {
    "duration": 141,
    "start_time": "2022-04-26T20:46:40.765Z"
   },
   {
    "duration": 6,
    "start_time": "2022-04-26T20:46:40.907Z"
   },
   {
    "duration": 133,
    "start_time": "2022-04-26T20:46:40.914Z"
   },
   {
    "duration": 9,
    "start_time": "2022-04-26T20:46:41.049Z"
   },
   {
    "duration": 122,
    "start_time": "2022-04-26T20:46:41.060Z"
   },
   {
    "duration": 140,
    "start_time": "2022-04-26T20:46:41.183Z"
   },
   {
    "duration": 250,
    "start_time": "2022-04-26T20:46:41.325Z"
   },
   {
    "duration": 142,
    "start_time": "2022-04-26T20:46:41.577Z"
   },
   {
    "duration": 712,
    "start_time": "2022-04-26T20:47:28.098Z"
   },
   {
    "duration": 90,
    "start_time": "2022-04-26T20:47:28.812Z"
   },
   {
    "duration": 14,
    "start_time": "2022-04-26T20:47:28.905Z"
   },
   {
    "duration": 6,
    "start_time": "2022-04-26T20:47:28.921Z"
   },
   {
    "duration": 31,
    "start_time": "2022-04-26T20:47:28.928Z"
   },
   {
    "duration": 5,
    "start_time": "2022-04-26T20:47:28.960Z"
   },
   {
    "duration": 20,
    "start_time": "2022-04-26T20:47:28.967Z"
   },
   {
    "duration": 6,
    "start_time": "2022-04-26T20:47:28.989Z"
   },
   {
    "duration": 12,
    "start_time": "2022-04-26T20:47:28.996Z"
   },
   {
    "duration": 5,
    "start_time": "2022-04-26T20:47:29.010Z"
   },
   {
    "duration": 11,
    "start_time": "2022-04-26T20:47:29.016Z"
   },
   {
    "duration": 29,
    "start_time": "2022-04-26T20:47:29.029Z"
   },
   {
    "duration": 7,
    "start_time": "2022-04-26T20:47:29.062Z"
   },
   {
    "duration": 7,
    "start_time": "2022-04-26T20:47:29.070Z"
   },
   {
    "duration": 10,
    "start_time": "2022-04-26T20:47:29.079Z"
   },
   {
    "duration": 22,
    "start_time": "2022-04-26T20:47:29.091Z"
   },
   {
    "duration": 6,
    "start_time": "2022-04-26T20:47:29.115Z"
   },
   {
    "duration": 7,
    "start_time": "2022-04-26T20:47:29.158Z"
   },
   {
    "duration": 7,
    "start_time": "2022-04-26T20:47:29.167Z"
   },
   {
    "duration": 11,
    "start_time": "2022-04-26T20:47:29.176Z"
   },
   {
    "duration": 7,
    "start_time": "2022-04-26T20:47:29.188Z"
   },
   {
    "duration": 10,
    "start_time": "2022-04-26T20:47:29.196Z"
   },
   {
    "duration": 9,
    "start_time": "2022-04-26T20:47:29.208Z"
   },
   {
    "duration": 6,
    "start_time": "2022-04-26T20:47:29.218Z"
   },
   {
    "duration": 32,
    "start_time": "2022-04-26T20:47:29.226Z"
   },
   {
    "duration": 28,
    "start_time": "2022-04-26T20:47:29.260Z"
   },
   {
    "duration": 4,
    "start_time": "2022-04-26T20:47:29.290Z"
   },
   {
    "duration": 16,
    "start_time": "2022-04-26T20:47:29.295Z"
   },
   {
    "duration": 327,
    "start_time": "2022-04-26T20:47:29.313Z"
   },
   {
    "duration": 37,
    "start_time": "2022-04-26T20:47:29.642Z"
   },
   {
    "duration": 7,
    "start_time": "2022-04-26T20:47:29.681Z"
   },
   {
    "duration": 173,
    "start_time": "2022-04-26T20:47:29.690Z"
   },
   {
    "duration": 9,
    "start_time": "2022-04-26T20:47:29.864Z"
   },
   {
    "duration": 278,
    "start_time": "2022-04-26T20:47:29.874Z"
   },
   {
    "duration": 9,
    "start_time": "2022-04-26T20:47:30.155Z"
   },
   {
    "duration": 181,
    "start_time": "2022-04-26T20:47:30.165Z"
   },
   {
    "duration": 10,
    "start_time": "2022-04-26T20:47:30.348Z"
   },
   {
    "duration": 20,
    "start_time": "2022-04-26T20:47:30.360Z"
   },
   {
    "duration": 12,
    "start_time": "2022-04-26T20:47:30.382Z"
   },
   {
    "duration": 157,
    "start_time": "2022-04-26T20:47:30.400Z"
   },
   {
    "duration": 216,
    "start_time": "2022-04-26T20:47:30.559Z"
   },
   {
    "duration": 11,
    "start_time": "2022-04-26T20:47:30.776Z"
   },
   {
    "duration": 125,
    "start_time": "2022-04-26T20:47:30.789Z"
   },
   {
    "duration": 6,
    "start_time": "2022-04-26T20:47:30.916Z"
   },
   {
    "duration": 14,
    "start_time": "2022-04-26T20:47:30.923Z"
   },
   {
    "duration": 18,
    "start_time": "2022-04-26T20:47:30.939Z"
   },
   {
    "duration": 16,
    "start_time": "2022-04-26T20:47:30.958Z"
   },
   {
    "duration": 4,
    "start_time": "2022-04-26T20:47:30.976Z"
   },
   {
    "duration": 190,
    "start_time": "2022-04-26T20:47:30.982Z"
   },
   {
    "duration": 6,
    "start_time": "2022-04-26T20:47:31.174Z"
   },
   {
    "duration": 175,
    "start_time": "2022-04-26T20:47:31.181Z"
   },
   {
    "duration": 5,
    "start_time": "2022-04-26T20:47:31.358Z"
   },
   {
    "duration": 178,
    "start_time": "2022-04-26T20:47:31.364Z"
   },
   {
    "duration": 10,
    "start_time": "2022-04-26T20:47:31.544Z"
   },
   {
    "duration": 118,
    "start_time": "2022-04-26T20:47:31.556Z"
   },
   {
    "duration": 132,
    "start_time": "2022-04-26T20:47:31.675Z"
   },
   {
    "duration": 154,
    "start_time": "2022-04-26T20:47:31.808Z"
   },
   {
    "duration": 212,
    "start_time": "2022-04-26T20:47:31.964Z"
   },
   {
    "duration": 23,
    "start_time": "2022-04-26T20:47:32.178Z"
   },
   {
    "duration": 11,
    "start_time": "2022-04-26T20:47:32.203Z"
   },
   {
    "duration": 14,
    "start_time": "2022-04-26T20:47:32.216Z"
   },
   {
    "duration": 177,
    "start_time": "2022-04-26T20:47:32.231Z"
   },
   {
    "duration": 8,
    "start_time": "2022-04-26T20:47:32.410Z"
   },
   {
    "duration": 16,
    "start_time": "2022-04-26T20:47:32.420Z"
   },
   {
    "duration": 152,
    "start_time": "2022-04-26T20:47:32.438Z"
   },
   {
    "duration": 8,
    "start_time": "2022-04-26T20:47:32.592Z"
   },
   {
    "duration": 149,
    "start_time": "2022-04-26T20:47:32.601Z"
   },
   {
    "duration": 7,
    "start_time": "2022-04-26T20:47:32.755Z"
   },
   {
    "duration": 144,
    "start_time": "2022-04-26T20:47:32.764Z"
   },
   {
    "duration": 8,
    "start_time": "2022-04-26T20:47:32.909Z"
   },
   {
    "duration": 139,
    "start_time": "2022-04-26T20:47:32.919Z"
   },
   {
    "duration": 148,
    "start_time": "2022-04-26T20:47:33.059Z"
   },
   {
    "duration": 6,
    "start_time": "2022-04-26T20:47:33.208Z"
   },
   {
    "duration": 146,
    "start_time": "2022-04-26T20:47:33.216Z"
   },
   {
    "duration": 5,
    "start_time": "2022-04-26T20:47:33.364Z"
   },
   {
    "duration": 138,
    "start_time": "2022-04-26T20:47:33.371Z"
   },
   {
    "duration": 6,
    "start_time": "2022-04-26T20:47:33.510Z"
   },
   {
    "duration": 255,
    "start_time": "2022-04-26T20:47:33.517Z"
   },
   {
    "duration": 282,
    "start_time": "2022-04-26T20:47:33.774Z"
   },
   {
    "duration": 437,
    "start_time": "2022-04-26T20:47:34.058Z"
   },
   {
    "duration": 298,
    "start_time": "2022-04-26T20:47:34.497Z"
   },
   {
    "duration": 947,
    "start_time": "2022-04-26T20:51:42.487Z"
   },
   {
    "duration": 141,
    "start_time": "2022-04-26T20:51:43.437Z"
   },
   {
    "duration": 22,
    "start_time": "2022-04-26T20:51:43.580Z"
   },
   {
    "duration": 7,
    "start_time": "2022-04-26T20:51:43.604Z"
   },
   {
    "duration": 8,
    "start_time": "2022-04-26T20:51:43.614Z"
   },
   {
    "duration": 32,
    "start_time": "2022-04-26T20:51:43.624Z"
   },
   {
    "duration": 16,
    "start_time": "2022-04-26T20:51:43.658Z"
   },
   {
    "duration": 6,
    "start_time": "2022-04-26T20:51:43.675Z"
   },
   {
    "duration": 9,
    "start_time": "2022-04-26T20:51:43.683Z"
   },
   {
    "duration": 6,
    "start_time": "2022-04-26T20:51:43.694Z"
   },
   {
    "duration": 11,
    "start_time": "2022-04-26T20:51:43.701Z"
   },
   {
    "duration": 40,
    "start_time": "2022-04-26T20:51:43.714Z"
   },
   {
    "duration": 6,
    "start_time": "2022-04-26T20:51:43.756Z"
   },
   {
    "duration": 8,
    "start_time": "2022-04-26T20:51:43.766Z"
   },
   {
    "duration": 9,
    "start_time": "2022-04-26T20:51:43.775Z"
   },
   {
    "duration": 19,
    "start_time": "2022-04-26T20:51:43.786Z"
   },
   {
    "duration": 6,
    "start_time": "2022-04-26T20:51:43.806Z"
   },
   {
    "duration": 8,
    "start_time": "2022-04-26T20:51:43.814Z"
   },
   {
    "duration": 30,
    "start_time": "2022-04-26T20:51:43.824Z"
   },
   {
    "duration": 7,
    "start_time": "2022-04-26T20:51:43.856Z"
   },
   {
    "duration": 7,
    "start_time": "2022-04-26T20:51:43.864Z"
   },
   {
    "duration": 7,
    "start_time": "2022-04-26T20:51:43.872Z"
   },
   {
    "duration": 7,
    "start_time": "2022-04-26T20:51:43.880Z"
   },
   {
    "duration": 8,
    "start_time": "2022-04-26T20:51:43.888Z"
   },
   {
    "duration": 12,
    "start_time": "2022-04-26T20:51:43.898Z"
   },
   {
    "duration": 50,
    "start_time": "2022-04-26T20:51:43.912Z"
   },
   {
    "duration": 4,
    "start_time": "2022-04-26T20:51:43.964Z"
   },
   {
    "duration": 18,
    "start_time": "2022-04-26T20:51:43.969Z"
   },
   {
    "duration": 339,
    "start_time": "2022-04-26T20:51:43.989Z"
   },
   {
    "duration": 33,
    "start_time": "2022-04-26T20:51:44.329Z"
   },
   {
    "duration": 7,
    "start_time": "2022-04-26T20:51:44.364Z"
   },
   {
    "duration": 172,
    "start_time": "2022-04-26T20:51:44.373Z"
   },
   {
    "duration": 16,
    "start_time": "2022-04-26T20:51:44.547Z"
   },
   {
    "duration": 221,
    "start_time": "2022-04-26T20:51:44.564Z"
   },
   {
    "duration": 8,
    "start_time": "2022-04-26T20:51:44.786Z"
   },
   {
    "duration": 178,
    "start_time": "2022-04-26T20:51:44.796Z"
   },
   {
    "duration": 6,
    "start_time": "2022-04-26T20:51:44.976Z"
   },
   {
    "duration": 12,
    "start_time": "2022-04-26T20:51:44.985Z"
   },
   {
    "duration": 25,
    "start_time": "2022-04-26T20:51:45.001Z"
   },
   {
    "duration": 142,
    "start_time": "2022-04-26T20:51:45.028Z"
   },
   {
    "duration": 155,
    "start_time": "2022-04-26T20:51:45.175Z"
   },
   {
    "duration": 10,
    "start_time": "2022-04-26T20:51:45.331Z"
   },
   {
    "duration": 119,
    "start_time": "2022-04-26T20:51:45.343Z"
   },
   {
    "duration": 5,
    "start_time": "2022-04-26T20:51:45.464Z"
   },
   {
    "duration": 11,
    "start_time": "2022-04-26T20:51:45.470Z"
   },
   {
    "duration": 9,
    "start_time": "2022-04-26T20:51:45.483Z"
   },
   {
    "duration": 8,
    "start_time": "2022-04-26T20:51:45.494Z"
   },
   {
    "duration": 4,
    "start_time": "2022-04-26T20:51:45.504Z"
   },
   {
    "duration": 209,
    "start_time": "2022-04-26T20:51:45.510Z"
   },
   {
    "duration": 6,
    "start_time": "2022-04-26T20:51:45.721Z"
   },
   {
    "duration": 227,
    "start_time": "2022-04-26T20:51:45.729Z"
   },
   {
    "duration": 6,
    "start_time": "2022-04-26T20:51:45.958Z"
   },
   {
    "duration": 252,
    "start_time": "2022-04-26T20:51:45.966Z"
   },
   {
    "duration": 5,
    "start_time": "2022-04-26T20:51:46.220Z"
   },
   {
    "duration": 137,
    "start_time": "2022-04-26T20:51:46.226Z"
   },
   {
    "duration": 211,
    "start_time": "2022-04-26T20:51:46.365Z"
   },
   {
    "duration": 171,
    "start_time": "2022-04-26T20:51:46.578Z"
   },
   {
    "duration": 211,
    "start_time": "2022-04-26T20:51:46.754Z"
   },
   {
    "duration": 37,
    "start_time": "2022-04-26T20:51:46.967Z"
   },
   {
    "duration": 17,
    "start_time": "2022-04-26T20:51:47.006Z"
   },
   {
    "duration": 34,
    "start_time": "2022-04-26T20:51:47.026Z"
   },
   {
    "duration": 208,
    "start_time": "2022-04-26T20:51:47.061Z"
   },
   {
    "duration": 11,
    "start_time": "2022-04-26T20:51:47.271Z"
   },
   {
    "duration": 17,
    "start_time": "2022-04-26T20:51:47.284Z"
   },
   {
    "duration": 205,
    "start_time": "2022-04-26T20:51:47.303Z"
   },
   {
    "duration": 9,
    "start_time": "2022-04-26T20:51:47.510Z"
   },
   {
    "duration": 215,
    "start_time": "2022-04-26T20:51:47.521Z"
   },
   {
    "duration": 9,
    "start_time": "2022-04-26T20:51:47.738Z"
   },
   {
    "duration": 197,
    "start_time": "2022-04-26T20:51:47.754Z"
   },
   {
    "duration": 9,
    "start_time": "2022-04-26T20:51:47.954Z"
   },
   {
    "duration": 191,
    "start_time": "2022-04-26T20:51:47.965Z"
   },
   {
    "duration": 173,
    "start_time": "2022-04-26T20:51:48.158Z"
   },
   {
    "duration": 6,
    "start_time": "2022-04-26T20:51:48.333Z"
   },
   {
    "duration": 153,
    "start_time": "2022-04-26T20:51:48.341Z"
   },
   {
    "duration": 6,
    "start_time": "2022-04-26T20:51:48.496Z"
   },
   {
    "duration": 141,
    "start_time": "2022-04-26T20:51:48.503Z"
   },
   {
    "duration": 12,
    "start_time": "2022-04-26T20:51:48.646Z"
   },
   {
    "duration": 131,
    "start_time": "2022-04-26T20:51:48.659Z"
   },
   {
    "duration": 140,
    "start_time": "2022-04-26T20:51:48.792Z"
   },
   {
    "duration": 243,
    "start_time": "2022-04-26T20:51:48.934Z"
   },
   {
    "duration": 135,
    "start_time": "2022-04-26T20:51:49.179Z"
   }
  ],
  "kernelspec": {
   "display_name": "Python 3 (ipykernel)",
   "language": "python",
   "name": "python3"
  },
  "language_info": {
   "codemirror_mode": {
    "name": "ipython",
    "version": 3
   },
   "file_extension": ".py",
   "mimetype": "text/x-python",
   "name": "python",
   "nbconvert_exporter": "python",
   "pygments_lexer": "ipython3",
   "version": "3.9.7"
  },
  "toc": {
   "base_numbering": 1,
   "nav_menu": {},
   "number_sections": true,
   "sideBar": true,
   "skip_h1_title": true,
   "title_cell": "Содержание",
   "title_sidebar": "Contents",
   "toc_cell": true,
   "toc_position": {
    "height": "calc(100% - 180px)",
    "left": "10px",
    "top": "150px",
    "width": "165px"
   },
   "toc_section_display": true,
   "toc_window_display": true
  }
 },
 "nbformat": 4,
 "nbformat_minor": 4
}
