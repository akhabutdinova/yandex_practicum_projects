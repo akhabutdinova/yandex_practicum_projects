{
 "cells": [
  {
   "cell_type": "markdown",
   "metadata": {},
   "source": [
    "# Выбор локации для скважины"
   ]
  },
  {
   "cell_type": "markdown",
   "metadata": {},
   "source": [
    "Допустим, вы работаете в добывающей компании «ГлавРосГосНефть». Нужно решить, где бурить новую скважину.\n",
    "\n",
    "Вам предоставлены пробы нефти в трёх регионах: в каждом 10 000 месторождений, где измерили качество нефти и объём её запасов. Постройте модель машинного обучения, которая поможет определить регион, где добыча принесёт наибольшую прибыль. Проанализируйте возможную прибыль и риски техникой *Bootstrap.*\n",
    "\n",
    "Шаги для выбора локации:\n",
    "\n",
    "- В избранном регионе ищут месторождения, для каждого определяют значения признаков;\n",
    "- Строят модель и оценивают объём запасов;\n",
    "- Выбирают месторождения с самым высокими оценками значений. Количество месторождений зависит от бюджета компании и стоимости разработки одной скважины;\n",
    "- Прибыль равна суммарной прибыли отобранных месторождений.\n",
    "\n",
    "**Цель работы:** \n",
    "выбрать лучшую локацию для новой скважины.\n",
    "\n",
    "**Ход работы:**\n",
    "\n",
    "1. Загрузка и подготовка данных;\n",
    "2. Обучение и проверка модели;\n",
    "3. Подготовка к расчёту прибыли;\n",
    "4. Расчёт прибыли и рисков."
   ]
  },
  {
   "cell_type": "markdown",
   "metadata": {},
   "source": [
    "## Загрузка и подготовка данных"
   ]
  },
  {
   "cell_type": "markdown",
   "metadata": {},
   "source": [
    "Импортируем необходимые в работе библиотеки."
   ]
  },
  {
   "cell_type": "code",
   "execution_count": 1,
   "metadata": {},
   "outputs": [],
   "source": [
    "import pandas as pd\n",
    "import numpy as np\n",
    "import seaborn as sns\n",
    "\n",
    "from sklearn.model_selection import train_test_split\n",
    "from sklearn.linear_model import LinearRegression\n",
    "from sklearn.metrics import mean_squared_error"
   ]
  },
  {
   "cell_type": "markdown",
   "metadata": {},
   "source": [
    "Откроем и изучим предоставленные файлы с данными геологоразведки 3 регионов, получим информацию о данных и их описательные характеристики."
   ]
  },
  {
   "cell_type": "code",
   "execution_count": 2,
   "metadata": {},
   "outputs": [
    {
     "data": {
      "text/html": [
       "<div>\n",
       "<style scoped>\n",
       "    .dataframe tbody tr th:only-of-type {\n",
       "        vertical-align: middle;\n",
       "    }\n",
       "\n",
       "    .dataframe tbody tr th {\n",
       "        vertical-align: top;\n",
       "    }\n",
       "\n",
       "    .dataframe thead th {\n",
       "        text-align: right;\n",
       "    }\n",
       "</style>\n",
       "<table border=\"1\" class=\"dataframe\">\n",
       "  <thead>\n",
       "    <tr style=\"text-align: right;\">\n",
       "      <th></th>\n",
       "      <th>id</th>\n",
       "      <th>f0</th>\n",
       "      <th>f1</th>\n",
       "      <th>f2</th>\n",
       "      <th>product</th>\n",
       "    </tr>\n",
       "  </thead>\n",
       "  <tbody>\n",
       "    <tr>\n",
       "      <th>0</th>\n",
       "      <td>txEyH</td>\n",
       "      <td>0.705745</td>\n",
       "      <td>-0.497823</td>\n",
       "      <td>1.221170</td>\n",
       "      <td>105.280062</td>\n",
       "    </tr>\n",
       "    <tr>\n",
       "      <th>1</th>\n",
       "      <td>2acmU</td>\n",
       "      <td>1.334711</td>\n",
       "      <td>-0.340164</td>\n",
       "      <td>4.365080</td>\n",
       "      <td>73.037750</td>\n",
       "    </tr>\n",
       "    <tr>\n",
       "      <th>2</th>\n",
       "      <td>409Wp</td>\n",
       "      <td>1.022732</td>\n",
       "      <td>0.151990</td>\n",
       "      <td>1.419926</td>\n",
       "      <td>85.265647</td>\n",
       "    </tr>\n",
       "    <tr>\n",
       "      <th>3</th>\n",
       "      <td>iJLyR</td>\n",
       "      <td>-0.032172</td>\n",
       "      <td>0.139033</td>\n",
       "      <td>2.978566</td>\n",
       "      <td>168.620776</td>\n",
       "    </tr>\n",
       "    <tr>\n",
       "      <th>4</th>\n",
       "      <td>Xdl7t</td>\n",
       "      <td>1.988431</td>\n",
       "      <td>0.155413</td>\n",
       "      <td>4.751769</td>\n",
       "      <td>154.036647</td>\n",
       "    </tr>\n",
       "  </tbody>\n",
       "</table>\n",
       "</div>"
      ],
      "text/plain": [
       "      id        f0        f1        f2     product\n",
       "0  txEyH  0.705745 -0.497823  1.221170  105.280062\n",
       "1  2acmU  1.334711 -0.340164  4.365080   73.037750\n",
       "2  409Wp  1.022732  0.151990  1.419926   85.265647\n",
       "3  iJLyR -0.032172  0.139033  2.978566  168.620776\n",
       "4  Xdl7t  1.988431  0.155413  4.751769  154.036647"
      ]
     },
     "execution_count": 2,
     "metadata": {},
     "output_type": "execute_result"
    }
   ],
   "source": [
    "#чтение и изучение данных о регионе 0\n",
    "geo_data_0 = pd.read_csv('/datasets/geo_data_0.csv')\n",
    "geo_data_0.head()"
   ]
  },
  {
   "cell_type": "code",
   "execution_count": 3,
   "metadata": {},
   "outputs": [
    {
     "name": "stdout",
     "output_type": "stream",
     "text": [
      "<class 'pandas.core.frame.DataFrame'>\n",
      "RangeIndex: 100000 entries, 0 to 99999\n",
      "Data columns (total 5 columns):\n",
      " #   Column   Non-Null Count   Dtype  \n",
      "---  ------   --------------   -----  \n",
      " 0   id       100000 non-null  object \n",
      " 1   f0       100000 non-null  float64\n",
      " 2   f1       100000 non-null  float64\n",
      " 3   f2       100000 non-null  float64\n",
      " 4   product  100000 non-null  float64\n",
      "dtypes: float64(4), object(1)\n",
      "memory usage: 3.8+ MB\n"
     ]
    }
   ],
   "source": [
    "geo_data_0.info()"
   ]
  },
  {
   "cell_type": "code",
   "execution_count": 4,
   "metadata": {},
   "outputs": [
    {
     "data": {
      "text/html": [
       "<div>\n",
       "<style scoped>\n",
       "    .dataframe tbody tr th:only-of-type {\n",
       "        vertical-align: middle;\n",
       "    }\n",
       "\n",
       "    .dataframe tbody tr th {\n",
       "        vertical-align: top;\n",
       "    }\n",
       "\n",
       "    .dataframe thead th {\n",
       "        text-align: right;\n",
       "    }\n",
       "</style>\n",
       "<table border=\"1\" class=\"dataframe\">\n",
       "  <thead>\n",
       "    <tr style=\"text-align: right;\">\n",
       "      <th></th>\n",
       "      <th>f0</th>\n",
       "      <th>f1</th>\n",
       "      <th>f2</th>\n",
       "      <th>product</th>\n",
       "    </tr>\n",
       "  </thead>\n",
       "  <tbody>\n",
       "    <tr>\n",
       "      <th>count</th>\n",
       "      <td>100000.000000</td>\n",
       "      <td>100000.000000</td>\n",
       "      <td>100000.000000</td>\n",
       "      <td>100000.000000</td>\n",
       "    </tr>\n",
       "    <tr>\n",
       "      <th>mean</th>\n",
       "      <td>0.500419</td>\n",
       "      <td>0.250143</td>\n",
       "      <td>2.502647</td>\n",
       "      <td>92.500000</td>\n",
       "    </tr>\n",
       "    <tr>\n",
       "      <th>std</th>\n",
       "      <td>0.871832</td>\n",
       "      <td>0.504433</td>\n",
       "      <td>3.248248</td>\n",
       "      <td>44.288691</td>\n",
       "    </tr>\n",
       "    <tr>\n",
       "      <th>min</th>\n",
       "      <td>-1.408605</td>\n",
       "      <td>-0.848218</td>\n",
       "      <td>-12.088328</td>\n",
       "      <td>0.000000</td>\n",
       "    </tr>\n",
       "    <tr>\n",
       "      <th>25%</th>\n",
       "      <td>-0.072580</td>\n",
       "      <td>-0.200881</td>\n",
       "      <td>0.287748</td>\n",
       "      <td>56.497507</td>\n",
       "    </tr>\n",
       "    <tr>\n",
       "      <th>50%</th>\n",
       "      <td>0.502360</td>\n",
       "      <td>0.250252</td>\n",
       "      <td>2.515969</td>\n",
       "      <td>91.849972</td>\n",
       "    </tr>\n",
       "    <tr>\n",
       "      <th>75%</th>\n",
       "      <td>1.073581</td>\n",
       "      <td>0.700646</td>\n",
       "      <td>4.715088</td>\n",
       "      <td>128.564089</td>\n",
       "    </tr>\n",
       "    <tr>\n",
       "      <th>max</th>\n",
       "      <td>2.362331</td>\n",
       "      <td>1.343769</td>\n",
       "      <td>16.003790</td>\n",
       "      <td>185.364347</td>\n",
       "    </tr>\n",
       "  </tbody>\n",
       "</table>\n",
       "</div>"
      ],
      "text/plain": [
       "                  f0             f1             f2        product\n",
       "count  100000.000000  100000.000000  100000.000000  100000.000000\n",
       "mean        0.500419       0.250143       2.502647      92.500000\n",
       "std         0.871832       0.504433       3.248248      44.288691\n",
       "min        -1.408605      -0.848218     -12.088328       0.000000\n",
       "25%        -0.072580      -0.200881       0.287748      56.497507\n",
       "50%         0.502360       0.250252       2.515969      91.849972\n",
       "75%         1.073581       0.700646       4.715088     128.564089\n",
       "max         2.362331       1.343769      16.003790     185.364347"
      ]
     },
     "execution_count": 4,
     "metadata": {},
     "output_type": "execute_result"
    }
   ],
   "source": [
    "geo_data_0.describe()"
   ]
  },
  {
   "cell_type": "code",
   "execution_count": 5,
   "metadata": {
    "scrolled": true
   },
   "outputs": [
    {
     "data": {
      "text/html": [
       "<div>\n",
       "<style scoped>\n",
       "    .dataframe tbody tr th:only-of-type {\n",
       "        vertical-align: middle;\n",
       "    }\n",
       "\n",
       "    .dataframe tbody tr th {\n",
       "        vertical-align: top;\n",
       "    }\n",
       "\n",
       "    .dataframe thead th {\n",
       "        text-align: right;\n",
       "    }\n",
       "</style>\n",
       "<table border=\"1\" class=\"dataframe\">\n",
       "  <thead>\n",
       "    <tr style=\"text-align: right;\">\n",
       "      <th></th>\n",
       "      <th>id</th>\n",
       "      <th>f0</th>\n",
       "      <th>f1</th>\n",
       "      <th>f2</th>\n",
       "      <th>product</th>\n",
       "    </tr>\n",
       "  </thead>\n",
       "  <tbody>\n",
       "    <tr>\n",
       "      <th>0</th>\n",
       "      <td>kBEdx</td>\n",
       "      <td>-15.001348</td>\n",
       "      <td>-8.276000</td>\n",
       "      <td>-0.005876</td>\n",
       "      <td>3.179103</td>\n",
       "    </tr>\n",
       "    <tr>\n",
       "      <th>1</th>\n",
       "      <td>62mP7</td>\n",
       "      <td>14.272088</td>\n",
       "      <td>-3.475083</td>\n",
       "      <td>0.999183</td>\n",
       "      <td>26.953261</td>\n",
       "    </tr>\n",
       "    <tr>\n",
       "      <th>2</th>\n",
       "      <td>vyE1P</td>\n",
       "      <td>6.263187</td>\n",
       "      <td>-5.948386</td>\n",
       "      <td>5.001160</td>\n",
       "      <td>134.766305</td>\n",
       "    </tr>\n",
       "    <tr>\n",
       "      <th>3</th>\n",
       "      <td>KcrkZ</td>\n",
       "      <td>-13.081196</td>\n",
       "      <td>-11.506057</td>\n",
       "      <td>4.999415</td>\n",
       "      <td>137.945408</td>\n",
       "    </tr>\n",
       "    <tr>\n",
       "      <th>4</th>\n",
       "      <td>AHL4O</td>\n",
       "      <td>12.702195</td>\n",
       "      <td>-8.147433</td>\n",
       "      <td>5.004363</td>\n",
       "      <td>134.766305</td>\n",
       "    </tr>\n",
       "  </tbody>\n",
       "</table>\n",
       "</div>"
      ],
      "text/plain": [
       "      id         f0         f1        f2     product\n",
       "0  kBEdx -15.001348  -8.276000 -0.005876    3.179103\n",
       "1  62mP7  14.272088  -3.475083  0.999183   26.953261\n",
       "2  vyE1P   6.263187  -5.948386  5.001160  134.766305\n",
       "3  KcrkZ -13.081196 -11.506057  4.999415  137.945408\n",
       "4  AHL4O  12.702195  -8.147433  5.004363  134.766305"
      ]
     },
     "execution_count": 5,
     "metadata": {},
     "output_type": "execute_result"
    }
   ],
   "source": [
    "#чтение и изучение данных о регионе 1\n",
    "geo_data_1 = pd.read_csv('/datasets/geo_data_1.csv')\n",
    "geo_data_1.head()"
   ]
  },
  {
   "cell_type": "code",
   "execution_count": 6,
   "metadata": {
    "scrolled": true
   },
   "outputs": [
    {
     "name": "stdout",
     "output_type": "stream",
     "text": [
      "<class 'pandas.core.frame.DataFrame'>\n",
      "RangeIndex: 100000 entries, 0 to 99999\n",
      "Data columns (total 5 columns):\n",
      " #   Column   Non-Null Count   Dtype  \n",
      "---  ------   --------------   -----  \n",
      " 0   id       100000 non-null  object \n",
      " 1   f0       100000 non-null  float64\n",
      " 2   f1       100000 non-null  float64\n",
      " 3   f2       100000 non-null  float64\n",
      " 4   product  100000 non-null  float64\n",
      "dtypes: float64(4), object(1)\n",
      "memory usage: 3.8+ MB\n"
     ]
    }
   ],
   "source": [
    "geo_data_1.info()"
   ]
  },
  {
   "cell_type": "code",
   "execution_count": 7,
   "metadata": {},
   "outputs": [
    {
     "data": {
      "text/html": [
       "<div>\n",
       "<style scoped>\n",
       "    .dataframe tbody tr th:only-of-type {\n",
       "        vertical-align: middle;\n",
       "    }\n",
       "\n",
       "    .dataframe tbody tr th {\n",
       "        vertical-align: top;\n",
       "    }\n",
       "\n",
       "    .dataframe thead th {\n",
       "        text-align: right;\n",
       "    }\n",
       "</style>\n",
       "<table border=\"1\" class=\"dataframe\">\n",
       "  <thead>\n",
       "    <tr style=\"text-align: right;\">\n",
       "      <th></th>\n",
       "      <th>f0</th>\n",
       "      <th>f1</th>\n",
       "      <th>f2</th>\n",
       "      <th>product</th>\n",
       "    </tr>\n",
       "  </thead>\n",
       "  <tbody>\n",
       "    <tr>\n",
       "      <th>count</th>\n",
       "      <td>100000.000000</td>\n",
       "      <td>100000.000000</td>\n",
       "      <td>100000.000000</td>\n",
       "      <td>100000.000000</td>\n",
       "    </tr>\n",
       "    <tr>\n",
       "      <th>mean</th>\n",
       "      <td>1.141296</td>\n",
       "      <td>-4.796579</td>\n",
       "      <td>2.494541</td>\n",
       "      <td>68.825000</td>\n",
       "    </tr>\n",
       "    <tr>\n",
       "      <th>std</th>\n",
       "      <td>8.965932</td>\n",
       "      <td>5.119872</td>\n",
       "      <td>1.703572</td>\n",
       "      <td>45.944423</td>\n",
       "    </tr>\n",
       "    <tr>\n",
       "      <th>min</th>\n",
       "      <td>-31.609576</td>\n",
       "      <td>-26.358598</td>\n",
       "      <td>-0.018144</td>\n",
       "      <td>0.000000</td>\n",
       "    </tr>\n",
       "    <tr>\n",
       "      <th>25%</th>\n",
       "      <td>-6.298551</td>\n",
       "      <td>-8.267985</td>\n",
       "      <td>1.000021</td>\n",
       "      <td>26.953261</td>\n",
       "    </tr>\n",
       "    <tr>\n",
       "      <th>50%</th>\n",
       "      <td>1.153055</td>\n",
       "      <td>-4.813172</td>\n",
       "      <td>2.011479</td>\n",
       "      <td>57.085625</td>\n",
       "    </tr>\n",
       "    <tr>\n",
       "      <th>75%</th>\n",
       "      <td>8.621015</td>\n",
       "      <td>-1.332816</td>\n",
       "      <td>3.999904</td>\n",
       "      <td>107.813044</td>\n",
       "    </tr>\n",
       "    <tr>\n",
       "      <th>max</th>\n",
       "      <td>29.421755</td>\n",
       "      <td>18.734063</td>\n",
       "      <td>5.019721</td>\n",
       "      <td>137.945408</td>\n",
       "    </tr>\n",
       "  </tbody>\n",
       "</table>\n",
       "</div>"
      ],
      "text/plain": [
       "                  f0             f1             f2        product\n",
       "count  100000.000000  100000.000000  100000.000000  100000.000000\n",
       "mean        1.141296      -4.796579       2.494541      68.825000\n",
       "std         8.965932       5.119872       1.703572      45.944423\n",
       "min       -31.609576     -26.358598      -0.018144       0.000000\n",
       "25%        -6.298551      -8.267985       1.000021      26.953261\n",
       "50%         1.153055      -4.813172       2.011479      57.085625\n",
       "75%         8.621015      -1.332816       3.999904     107.813044\n",
       "max        29.421755      18.734063       5.019721     137.945408"
      ]
     },
     "execution_count": 7,
     "metadata": {},
     "output_type": "execute_result"
    }
   ],
   "source": [
    "geo_data_1.describe()"
   ]
  },
  {
   "cell_type": "code",
   "execution_count": 8,
   "metadata": {
    "scrolled": true
   },
   "outputs": [
    {
     "data": {
      "text/html": [
       "<div>\n",
       "<style scoped>\n",
       "    .dataframe tbody tr th:only-of-type {\n",
       "        vertical-align: middle;\n",
       "    }\n",
       "\n",
       "    .dataframe tbody tr th {\n",
       "        vertical-align: top;\n",
       "    }\n",
       "\n",
       "    .dataframe thead th {\n",
       "        text-align: right;\n",
       "    }\n",
       "</style>\n",
       "<table border=\"1\" class=\"dataframe\">\n",
       "  <thead>\n",
       "    <tr style=\"text-align: right;\">\n",
       "      <th></th>\n",
       "      <th>id</th>\n",
       "      <th>f0</th>\n",
       "      <th>f1</th>\n",
       "      <th>f2</th>\n",
       "      <th>product</th>\n",
       "    </tr>\n",
       "  </thead>\n",
       "  <tbody>\n",
       "    <tr>\n",
       "      <th>0</th>\n",
       "      <td>fwXo0</td>\n",
       "      <td>-1.146987</td>\n",
       "      <td>0.963328</td>\n",
       "      <td>-0.828965</td>\n",
       "      <td>27.758673</td>\n",
       "    </tr>\n",
       "    <tr>\n",
       "      <th>1</th>\n",
       "      <td>WJtFt</td>\n",
       "      <td>0.262778</td>\n",
       "      <td>0.269839</td>\n",
       "      <td>-2.530187</td>\n",
       "      <td>56.069697</td>\n",
       "    </tr>\n",
       "    <tr>\n",
       "      <th>2</th>\n",
       "      <td>ovLUW</td>\n",
       "      <td>0.194587</td>\n",
       "      <td>0.289035</td>\n",
       "      <td>-5.586433</td>\n",
       "      <td>62.871910</td>\n",
       "    </tr>\n",
       "    <tr>\n",
       "      <th>3</th>\n",
       "      <td>q6cA6</td>\n",
       "      <td>2.236060</td>\n",
       "      <td>-0.553760</td>\n",
       "      <td>0.930038</td>\n",
       "      <td>114.572842</td>\n",
       "    </tr>\n",
       "    <tr>\n",
       "      <th>4</th>\n",
       "      <td>WPMUX</td>\n",
       "      <td>-0.515993</td>\n",
       "      <td>1.716266</td>\n",
       "      <td>5.899011</td>\n",
       "      <td>149.600746</td>\n",
       "    </tr>\n",
       "  </tbody>\n",
       "</table>\n",
       "</div>"
      ],
      "text/plain": [
       "      id        f0        f1        f2     product\n",
       "0  fwXo0 -1.146987  0.963328 -0.828965   27.758673\n",
       "1  WJtFt  0.262778  0.269839 -2.530187   56.069697\n",
       "2  ovLUW  0.194587  0.289035 -5.586433   62.871910\n",
       "3  q6cA6  2.236060 -0.553760  0.930038  114.572842\n",
       "4  WPMUX -0.515993  1.716266  5.899011  149.600746"
      ]
     },
     "execution_count": 8,
     "metadata": {},
     "output_type": "execute_result"
    }
   ],
   "source": [
    "#чтение и изучение данных о регионе 2\n",
    "geo_data_2 = pd.read_csv('/datasets/geo_data_2.csv')\n",
    "geo_data_2.head()"
   ]
  },
  {
   "cell_type": "code",
   "execution_count": 9,
   "metadata": {
    "scrolled": true
   },
   "outputs": [
    {
     "name": "stdout",
     "output_type": "stream",
     "text": [
      "<class 'pandas.core.frame.DataFrame'>\n",
      "RangeIndex: 100000 entries, 0 to 99999\n",
      "Data columns (total 5 columns):\n",
      " #   Column   Non-Null Count   Dtype  \n",
      "---  ------   --------------   -----  \n",
      " 0   id       100000 non-null  object \n",
      " 1   f0       100000 non-null  float64\n",
      " 2   f1       100000 non-null  float64\n",
      " 3   f2       100000 non-null  float64\n",
      " 4   product  100000 non-null  float64\n",
      "dtypes: float64(4), object(1)\n",
      "memory usage: 3.8+ MB\n"
     ]
    }
   ],
   "source": [
    "geo_data_2.info()"
   ]
  },
  {
   "cell_type": "code",
   "execution_count": 10,
   "metadata": {},
   "outputs": [
    {
     "data": {
      "text/html": [
       "<div>\n",
       "<style scoped>\n",
       "    .dataframe tbody tr th:only-of-type {\n",
       "        vertical-align: middle;\n",
       "    }\n",
       "\n",
       "    .dataframe tbody tr th {\n",
       "        vertical-align: top;\n",
       "    }\n",
       "\n",
       "    .dataframe thead th {\n",
       "        text-align: right;\n",
       "    }\n",
       "</style>\n",
       "<table border=\"1\" class=\"dataframe\">\n",
       "  <thead>\n",
       "    <tr style=\"text-align: right;\">\n",
       "      <th></th>\n",
       "      <th>f0</th>\n",
       "      <th>f1</th>\n",
       "      <th>f2</th>\n",
       "      <th>product</th>\n",
       "    </tr>\n",
       "  </thead>\n",
       "  <tbody>\n",
       "    <tr>\n",
       "      <th>count</th>\n",
       "      <td>100000.000000</td>\n",
       "      <td>100000.000000</td>\n",
       "      <td>100000.000000</td>\n",
       "      <td>100000.000000</td>\n",
       "    </tr>\n",
       "    <tr>\n",
       "      <th>mean</th>\n",
       "      <td>0.002023</td>\n",
       "      <td>-0.002081</td>\n",
       "      <td>2.495128</td>\n",
       "      <td>95.000000</td>\n",
       "    </tr>\n",
       "    <tr>\n",
       "      <th>std</th>\n",
       "      <td>1.732045</td>\n",
       "      <td>1.730417</td>\n",
       "      <td>3.473445</td>\n",
       "      <td>44.749921</td>\n",
       "    </tr>\n",
       "    <tr>\n",
       "      <th>min</th>\n",
       "      <td>-8.760004</td>\n",
       "      <td>-7.084020</td>\n",
       "      <td>-11.970335</td>\n",
       "      <td>0.000000</td>\n",
       "    </tr>\n",
       "    <tr>\n",
       "      <th>25%</th>\n",
       "      <td>-1.162288</td>\n",
       "      <td>-1.174820</td>\n",
       "      <td>0.130359</td>\n",
       "      <td>59.450441</td>\n",
       "    </tr>\n",
       "    <tr>\n",
       "      <th>50%</th>\n",
       "      <td>0.009424</td>\n",
       "      <td>-0.009482</td>\n",
       "      <td>2.484236</td>\n",
       "      <td>94.925613</td>\n",
       "    </tr>\n",
       "    <tr>\n",
       "      <th>75%</th>\n",
       "      <td>1.158535</td>\n",
       "      <td>1.163678</td>\n",
       "      <td>4.858794</td>\n",
       "      <td>130.595027</td>\n",
       "    </tr>\n",
       "    <tr>\n",
       "      <th>max</th>\n",
       "      <td>7.238262</td>\n",
       "      <td>7.844801</td>\n",
       "      <td>16.739402</td>\n",
       "      <td>190.029838</td>\n",
       "    </tr>\n",
       "  </tbody>\n",
       "</table>\n",
       "</div>"
      ],
      "text/plain": [
       "                  f0             f1             f2        product\n",
       "count  100000.000000  100000.000000  100000.000000  100000.000000\n",
       "mean        0.002023      -0.002081       2.495128      95.000000\n",
       "std         1.732045       1.730417       3.473445      44.749921\n",
       "min        -8.760004      -7.084020     -11.970335       0.000000\n",
       "25%        -1.162288      -1.174820       0.130359      59.450441\n",
       "50%         0.009424      -0.009482       2.484236      94.925613\n",
       "75%         1.158535       1.163678       4.858794     130.595027\n",
       "max         7.238262       7.844801      16.739402     190.029838"
      ]
     },
     "execution_count": 10,
     "metadata": {},
     "output_type": "execute_result"
    }
   ],
   "source": [
    "geo_data_2.describe()"
   ]
  },
  {
   "cell_type": "markdown",
   "metadata": {},
   "source": [
    "Данные о всех 3 регионах имеють одинаковую структуру:\n",
    "* `id` - уникальный идентификатор скважины;\n",
    "* `f0`, `f1`, `f2` - три признака точек (неважно, что они означают, но сами признаки значимы);\n",
    "* `product` - объём запасов в скважине (тыс. баррелей).\n",
    "\n",
    "Все таблицы не имеют пропусков и имеют правильно указанные типы данных. Проверим на наличие дубликатов."
   ]
  },
  {
   "cell_type": "code",
   "execution_count": 11,
   "metadata": {},
   "outputs": [
    {
     "name": "stdout",
     "output_type": "stream",
     "text": [
      "geo_data_0: 0 geo_data_1: 0 geo_data_2: 0\n"
     ]
    }
   ],
   "source": [
    "#считаем количество дубликатов в таблицах\n",
    "print('geo_data_0:', geo_data_0.duplicated().sum(), \n",
    "      'geo_data_1:', geo_data_1.duplicated().sum(),\n",
    "      'geo_data_2:', geo_data_2.duplicated().sum())"
   ]
  },
  {
   "cell_type": "markdown",
   "metadata": {},
   "source": [
    "Дубликаты в таблице не обнаружены. Разделим данные на признаки и целевой признак, неинформативный признак `id` не включим ни в одну из категорий. Масштаб у признаков примерно одинаковый, потому стандартизация данных не потребуется."
   ]
  },
  {
   "cell_type": "code",
   "execution_count": 12,
   "metadata": {},
   "outputs": [],
   "source": [
    "#отделяем признаки\n",
    "features_0 = geo_data_0.drop(['id', 'product'], axis=1)\n",
    "features_1 = geo_data_1.drop(['id', 'product'], axis=1)\n",
    "features_2 = geo_data_2.drop(['id', 'product'], axis=1)\n",
    "\n",
    "#отделяем целевой признак\n",
    "target_0 = geo_data_0['product']\n",
    "target_1 = geo_data_1['product']\n",
    "target_2 = geo_data_2['product']"
   ]
  },
  {
   "cell_type": "markdown",
   "metadata": {},
   "source": [
    "Построим для всех регионов матрицу диаграмм рассеяния и тепловую карту коэффициентов корреляции Пирсона."
   ]
  },
  {
   "cell_type": "markdown",
   "metadata": {},
   "source": [
    "* **Регион 0**"
   ]
  },
  {
   "cell_type": "code",
   "execution_count": 13,
   "metadata": {},
   "outputs": [
    {
     "data": {
      "image/png": "[encoded data removed]",
      "text/plain": [
       "<Figure size 648x648 with 16 Axes>"
      ]
     },
     "metadata": {
      "needs_background": "light"
     },
     "output_type": "display_data"
    }
   ],
   "source": [
    "#матрица диаграмм рассеяния\n",
    "pd.plotting.scatter_matrix(geo_data_0, figsize=(9, 9));"
   ]
  },
  {
   "cell_type": "code",
   "execution_count": 14,
   "metadata": {},
   "outputs": [
    {
     "data": {
      "image/png": "[encoded data removed]",
      "text/plain": [
       "<Figure size 432x288 with 2 Axes>"
      ]
     },
     "metadata": {
      "needs_background": "light"
     },
     "output_type": "display_data"
    }
   ],
   "source": [
    "#тепловая карта коэффициентов корреляции Пирсона\n",
    "sns.heatmap(geo_data_0.corr(), annot=True);"
   ]
  },
  {
   "cell_type": "markdown",
   "metadata": {},
   "source": [
    "* **Регион 1**"
   ]
  },
  {
   "cell_type": "code",
   "execution_count": 15,
   "metadata": {},
   "outputs": [
    {
     "data": {
      "image/png": "[encoded data removed]",
      "text/plain": [
       "<Figure size 648x648 with 16 Axes>"
      ]
     },
     "metadata": {
      "needs_background": "light"
     },
     "output_type": "display_data"
    }
   ],
   "source": [
    "#матрица диаграмм рассеяния\n",
    "pd.plotting.scatter_matrix(geo_data_1, figsize=(9, 9));"
   ]
  },
  {
   "cell_type": "code",
   "execution_count": 16,
   "metadata": {},
   "outputs": [
    {
     "data": {
      "image/png": "[encoded data removed]",
      "text/plain": [
       "<Figure size 432x288 with 2 Axes>"
      ]
     },
     "metadata": {
      "needs_background": "light"
     },
     "output_type": "display_data"
    }
   ],
   "source": [
    "#тепловая карта коэффициентов корреляции Пирсона\n",
    "sns.heatmap(geo_data_1.corr(), annot=True);"
   ]
  },
  {
   "cell_type": "markdown",
   "metadata": {},
   "source": [
    "* **Регион 2**"
   ]
  },
  {
   "cell_type": "code",
   "execution_count": 17,
   "metadata": {},
   "outputs": [
    {
     "data": {
      "image/png": "[encoded data removed]",
      "text/plain": [
       "<Figure size 648x648 with 16 Axes>"
      ]
     },
     "metadata": {
      "needs_background": "light"
     },
     "output_type": "display_data"
    }
   ],
   "source": [
    "#матрица диаграмм рассеяния\n",
    "pd.plotting.scatter_matrix(geo_data_2, figsize=(9, 9));"
   ]
  },
  {
   "cell_type": "code",
   "execution_count": 18,
   "metadata": {},
   "outputs": [
    {
     "data": {
      "image/png": "[encoded data removed]",
      "text/plain": [
       "<Figure size 432x288 with 2 Axes>"
      ]
     },
     "metadata": {
      "needs_background": "light"
     },
     "output_type": "display_data"
    }
   ],
   "source": [
    "#тепловая карта коэффициентов корреляции Пирсона\n",
    "sns.heatmap(geo_data_2.corr(), annot=True);"
   ]
  },
  {
   "cell_type": "markdown",
   "metadata": {},
   "source": [
    "Можно заметить, что признак `f2` довольно сильно коррелирует с целевым признаком `product`, особенно в регионе 1."
   ]
  },
  {
   "cell_type": "markdown",
   "metadata": {},
   "source": [
    "Посмотрим распределение целевых признаков на гистограмме."
   ]
  },
  {
   "cell_type": "code",
   "execution_count": 19,
   "metadata": {},
   "outputs": [
    {
     "data": {
      "image/png": "[encoded data removed]",
      "text/plain": [
       "<Figure size 432x288 with 1 Axes>"
      ]
     },
     "metadata": {
      "needs_background": "light"
     },
     "output_type": "display_data"
    }
   ],
   "source": [
    "#гистограмма для целевого признака региона 0\n",
    "ax = target_0.plot(kind='hist',\n",
    "                   title='Распределение объема запасов в регионе 0',\n",
    "                   grid=True)\n",
    "ax.set(xlabel='Объем запасов в тыс. баррелей');"
   ]
  },
  {
   "cell_type": "code",
   "execution_count": 20,
   "metadata": {},
   "outputs": [
    {
     "data": {
      "text/html": [
       "<div>\n",
       "<style scoped>\n",
       "    .dataframe tbody tr th:only-of-type {\n",
       "        vertical-align: middle;\n",
       "    }\n",
       "\n",
       "    .dataframe tbody tr th {\n",
       "        vertical-align: top;\n",
       "    }\n",
       "\n",
       "    .dataframe thead th {\n",
       "        text-align: right;\n",
       "    }\n",
       "</style>\n",
       "<table border=\"1\" class=\"dataframe\">\n",
       "  <thead>\n",
       "    <tr style=\"text-align: right;\">\n",
       "      <th></th>\n",
       "      <th>id</th>\n",
       "      <th>f0</th>\n",
       "      <th>f1</th>\n",
       "      <th>f2</th>\n",
       "      <th>product</th>\n",
       "    </tr>\n",
       "  </thead>\n",
       "  <tbody>\n",
       "    <tr>\n",
       "      <th>0</th>\n",
       "      <td>txEyH</td>\n",
       "      <td>0.705745</td>\n",
       "      <td>-0.497823</td>\n",
       "      <td>1.221170</td>\n",
       "      <td>105.280062</td>\n",
       "    </tr>\n",
       "    <tr>\n",
       "      <th>1</th>\n",
       "      <td>2acmU</td>\n",
       "      <td>1.334711</td>\n",
       "      <td>-0.340164</td>\n",
       "      <td>4.365080</td>\n",
       "      <td>73.037750</td>\n",
       "    </tr>\n",
       "    <tr>\n",
       "      <th>2</th>\n",
       "      <td>409Wp</td>\n",
       "      <td>1.022732</td>\n",
       "      <td>0.151990</td>\n",
       "      <td>1.419926</td>\n",
       "      <td>85.265647</td>\n",
       "    </tr>\n",
       "    <tr>\n",
       "      <th>3</th>\n",
       "      <td>iJLyR</td>\n",
       "      <td>-0.032172</td>\n",
       "      <td>0.139033</td>\n",
       "      <td>2.978566</td>\n",
       "      <td>168.620776</td>\n",
       "    </tr>\n",
       "    <tr>\n",
       "      <th>4</th>\n",
       "      <td>Xdl7t</td>\n",
       "      <td>1.988431</td>\n",
       "      <td>0.155413</td>\n",
       "      <td>4.751769</td>\n",
       "      <td>154.036647</td>\n",
       "    </tr>\n",
       "  </tbody>\n",
       "</table>\n",
       "</div>"
      ],
      "text/plain": [
       "      id        f0        f1        f2     product\n",
       "0  txEyH  0.705745 -0.497823  1.221170  105.280062\n",
       "1  2acmU  1.334711 -0.340164  4.365080   73.037750\n",
       "2  409Wp  1.022732  0.151990  1.419926   85.265647\n",
       "3  iJLyR -0.032172  0.139033  2.978566  168.620776\n",
       "4  Xdl7t  1.988431  0.155413  4.751769  154.036647"
      ]
     },
     "execution_count": 20,
     "metadata": {},
     "output_type": "execute_result"
    }
   ],
   "source": [
    "geo_data_0.head()"
   ]
  },
  {
   "cell_type": "code",
   "execution_count": 21,
   "metadata": {},
   "outputs": [
    {
     "data": {
      "image/png": "[encoded data removed]",
      "text/plain": [
       "<Figure size 432x288 with 1 Axes>"
      ]
     },
     "metadata": {
      "needs_background": "light"
     },
     "output_type": "display_data"
    }
   ],
   "source": [
    "#гистограмма для целевого признака региона 1\n",
    "ax = target_1.plot(kind='hist',\n",
    "                   title='Распределение объема запасов в регионе 1',\n",
    "                   grid=True)\n",
    "ax.set(xlabel='Объем запасов в тыс. баррелей');"
   ]
  },
  {
   "cell_type": "markdown",
   "metadata": {},
   "source": [
    "Распределение для региона 1 отличется от нормального, посмотрим, сколько всего есть уникальных значений целевого признака."
   ]
  },
  {
   "cell_type": "code",
   "execution_count": 22,
   "metadata": {},
   "outputs": [
    {
     "data": {
      "text/plain": [
       "12"
      ]
     },
     "execution_count": 22,
     "metadata": {},
     "output_type": "execute_result"
    }
   ],
   "source": [
    "len(target_1.unique())"
   ]
  },
  {
   "cell_type": "code",
   "execution_count": 23,
   "metadata": {
    "scrolled": true
   },
   "outputs": [
    {
     "data": {
      "image/png": "[encoded data removed]",
      "text/plain": [
       "<Figure size 432x288 with 1 Axes>"
      ]
     },
     "metadata": {
      "needs_background": "light"
     },
     "output_type": "display_data"
    }
   ],
   "source": [
    "#гистограмма для целевого признака региона 2\n",
    "ax = target_2.plot(kind='hist',\n",
    "                   title='Распределение объема запасов в регионе 2',\n",
    "                   grid=True)\n",
    "ax.set(xlabel='Объем запасов в тыс. баррелей');"
   ]
  },
  {
   "cell_type": "markdown",
   "metadata": {},
   "source": [
    "В регионах 0 и 2 объемы запасов распределены нормально, а в регионе 1 распределение отличается от нормального. Адекватность распределений признаков f0, f1 и f2 будет сложно оценить, так как мы не знаем, что они означают, потому не будем смотреть на их распределения."
   ]
  },
  {
   "cell_type": "markdown",
   "metadata": {},
   "source": [
    "### Вывод"
   ]
  },
  {
   "cell_type": "markdown",
   "metadata": {},
   "source": [
    "* Предоставленные данные были загружены и изучены, пропуски или дубликаты не были обнаружены, все типы данных указаны верно. \n",
    "* Данные были разбиты на признаки и целевой признак. \n",
    "* Были построены матрицы диаграмм рассеяния и тепловые карты коэффициентов корреляции Пирсона, было обнаружено, что признак f2 довольно сильно коррелирует с целевым признаком product, особенно для региона 1.\n",
    "* Было изучено распределение целевых признаков, для регионов 0 и 2 оно похоже на нормальное, а для региона 1 отличается от нормального, но и уникальных значений целевого признака региона 1 всего 12."
   ]
  },
  {
   "cell_type": "markdown",
   "metadata": {},
   "source": [
    "## Обучение и проверка модели"
   ]
  },
  {
   "cell_type": "markdown",
   "metadata": {},
   "source": [
    "Разделим данные на обучающую и валидационную выборки в отношении 75:25."
   ]
  },
  {
   "cell_type": "code",
   "execution_count": 24,
   "metadata": {},
   "outputs": [
    {
     "name": "stdout",
     "output_type": "stream",
     "text": [
      "Регион 0: (75000, 3) (75000,) (25000, 3) (25000,) \n",
      " Регион 1: (75000, 3) (75000,) (25000, 3) (25000,) \n",
      " Регион 2: (75000, 3) (75000,) (25000, 3) (25000,)\n"
     ]
    }
   ],
   "source": [
    "features_train_0, features_valid_0, target_train_0, target_valid_0 = train_test_split(features_0, \n",
    "                                                                                      target_0, \n",
    "                                                                                      test_size=0.25, \n",
    "                                                                                      random_state=12345)\n",
    "\n",
    "features_train_1, features_valid_1, target_train_1, target_valid_1 = train_test_split(features_1, \n",
    "                                                                                      target_1, \n",
    "                                                                                      test_size=0.25, \n",
    "                                                                                      random_state=12345)\n",
    "\n",
    "features_train_2, features_valid_2, target_train_2, target_valid_2 = train_test_split(features_2, \n",
    "                                                                                      target_2, \n",
    "                                                                                      test_size=0.25, \n",
    "                                                                                      random_state=12345)\n",
    "\n",
    "#проверка размеров выборок\n",
    "print('Регион 0:', features_train_0.shape, target_train_0.shape, \n",
    "      features_valid_0.shape, target_valid_0.shape, '\\n',\n",
    "      'Регион 1:',features_train_1.shape, target_train_1.shape, \n",
    "      features_valid_1.shape, target_valid_1.shape, '\\n',\n",
    "      'Регион 2:',features_train_2.shape, target_train_2.shape, \n",
    "      features_valid_2.shape, target_valid_2.shape)"
   ]
  },
  {
   "cell_type": "markdown",
   "metadata": {},
   "source": [
    "Обучим модель при помощи линейной регрессии, сделаем предсказания на валидационной выборке и оценим средний запас предсказанного сырья и RMSE."
   ]
  },
  {
   "cell_type": "code",
   "execution_count": 25,
   "metadata": {},
   "outputs": [
    {
     "name": "stdout",
     "output_type": "stream",
     "text": [
      "Cредний запас предсказанного сырья: 92.59 RMSE: 37.58\n"
     ]
    }
   ],
   "source": [
    "#обучение модели для региона 0\n",
    "model = LinearRegression()\n",
    "model.fit(features_train_0, target_train_0)\n",
    "predictions_valid_0 = model.predict(features_valid_0)\n",
    "print('Cредний запас предсказанного сырья:', round(predictions_valid_0.mean(), 2),\n",
    "      'RMSE:', round(mean_squared_error(target_valid_0, predictions_valid_0)**0.5, 2))"
   ]
  },
  {
   "cell_type": "code",
   "execution_count": 26,
   "metadata": {},
   "outputs": [
    {
     "name": "stdout",
     "output_type": "stream",
     "text": [
      "Cредний запас предсказанного сырья: 68.73 RMSE: 0.89\n"
     ]
    }
   ],
   "source": [
    "#обучение модели для региона 1\n",
    "model = LinearRegression()\n",
    "model.fit(features_train_1, target_train_1)\n",
    "predictions_valid_1 = model.predict(features_valid_1)\n",
    "print('Cредний запас предсказанного сырья:', round(predictions_valid_1.mean(), 2),\n",
    "      'RMSE:', round(mean_squared_error(target_valid_1, predictions_valid_1)**0.5, 2))"
   ]
  },
  {
   "cell_type": "code",
   "execution_count": 27,
   "metadata": {},
   "outputs": [
    {
     "name": "stdout",
     "output_type": "stream",
     "text": [
      "Cредний запас предсказанного сырья: 94.97 RMSE: 40.03\n"
     ]
    }
   ],
   "source": [
    "#обучение модели для региона 2\n",
    "model = LinearRegression()\n",
    "model.fit(features_train_2, target_train_2)\n",
    "predictions_valid_2 = model.predict(features_valid_2)\n",
    "print('Cредний запас предсказанного сырья:', round(predictions_valid_2.mean(), 2),\n",
    "      'RMSE:', round(mean_squared_error(target_valid_2, predictions_valid_2)**0.5, 2))"
   ]
  },
  {
   "cell_type": "markdown",
   "metadata": {},
   "source": [
    "### Вывод"
   ]
  },
  {
   "cell_type": "markdown",
   "metadata": {},
   "source": [
    "Для регионов 0 и 2 средний запас предсказанного сырья самый высокий, но при этом и показатель RMSE достаточно высокий, что говорит о неточности модели, а для региона 1 средний предсказанный запас меньше, но при этом модель работает точнее и показатель RMSE самый маленький из всех, однако стоит помнить о маленьком количестве уникальных значений целевого признака, следовательно, работе модели для региона 1 тоже не стоит полностью доверять."
   ]
  },
  {
   "cell_type": "markdown",
   "metadata": {},
   "source": [
    "## Подготовка к расчёту прибыли"
   ]
  },
  {
   "cell_type": "markdown",
   "metadata": {},
   "source": [
    "Сохраним все ключевые значения для расчетов из условия задачи."
   ]
  },
  {
   "cell_type": "code",
   "execution_count": 28,
   "metadata": {},
   "outputs": [],
   "source": [
    "#При разведке региона исследуют 500 точек, \n",
    "#из которых с помощью машинного обучения выбирают 200 лучших для разработки\n",
    "WELLS = 500\n",
    "WELLS_TOP = 200\n",
    "\n",
    "#Бюджет на разработку скважин в регионе — 10 млрд рублей\n",
    "BUDGET = 10 * 10**9\n",
    "\n",
    "#Доход с каждой единицы продукта составляет 450 тыс. рублей\n",
    "UNIT_INCOME = 450 * 10**3\n",
    "\n",
    "#количество выборок для бутстрепа\n",
    "BOOTSTRAP_SAMPLES = 1000"
   ]
  },
  {
   "cell_type": "markdown",
   "metadata": {},
   "source": [
    "Рассчитаем достаточный объем сырья для безубыточной разработки новой скважины."
   ]
  },
  {
   "cell_type": "code",
   "execution_count": 29,
   "metadata": {},
   "outputs": [
    {
     "name": "stdout",
     "output_type": "stream",
     "text": [
      "Достаточный объем сырья для безубыточной разработки новой скважины 111.11\n"
     ]
    }
   ],
   "source": [
    "print('Достаточный объем сырья для безубыточной разработки новой скважины', \n",
    "      round(BUDGET/(UNIT_INCOME * WELLS_TOP), 2))"
   ]
  },
  {
   "cell_type": "markdown",
   "metadata": {},
   "source": [
    "### Вывод"
   ]
  },
  {
   "cell_type": "markdown",
   "metadata": {},
   "source": [
    "На данном этапе были сохранены все ключевые значения для расчетов и посчитан достаточный объем сырья для безубыточной разработки новой скважины: 111.11. Данное значение превышает средний предсказанный объем сырья для каждого из регионов."
   ]
  },
  {
   "cell_type": "markdown",
   "metadata": {},
   "source": [
    "## Расчёт прибыли и рисков "
   ]
  },
  {
   "cell_type": "markdown",
   "metadata": {},
   "source": [
    "Напишем функцию для расчета прибыли по выбранным скважинам и предсказаниям модели."
   ]
  },
  {
   "cell_type": "code",
   "execution_count": 30,
   "metadata": {},
   "outputs": [],
   "source": [
    "#приводим целевые признаки и предсказания к Series, приводим к одинаковым индексам\n",
    "target_valid_0 = target_valid_0.reset_index(drop=True)\n",
    "target_valid_1 = target_valid_1.reset_index(drop=True)\n",
    "target_valid_2 = target_valid_2.reset_index(drop=True)\n",
    "\n",
    "predictions_valid_0 = pd.Series(predictions_valid_0).reset_index(drop=True)\n",
    "predictions_valid_1 = pd.Series(predictions_valid_1).reset_index(drop=True)\n",
    "predictions_valid_2 = pd.Series(predictions_valid_2).reset_index(drop=True)"
   ]
  },
  {
   "cell_type": "code",
   "execution_count": 31,
   "metadata": {},
   "outputs": [],
   "source": [
    "state = np.random.RandomState(12345)\n",
    "\n",
    "#функция для расчета прибыли\n",
    "def revenue_count(target, predictions):\n",
    "    #выбираем случайным образом 500 скважин из предсказаний\n",
    "    predictions_subsample = predictions.sample(n=WELLS, random_state=state)\n",
    "    \n",
    "    #из них выбираем 200 лучших \n",
    "    predictions_top = predictions_subsample.sort_values(ascending=False)[:WELLS_TOP]\n",
    "    \n",
    "    #берем целевые значения с теми же индексами, что и 200 лучших точек\n",
    "    target_top = target[predictions_top.index]\n",
    "    \n",
    "    #суммируем целевые значения объема\n",
    "    target_sum = target_top.sum()\n",
    "    \n",
    "    #считаем и возвращаем прибыль\n",
    "    return target_sum * UNIT_INCOME - BUDGET"
   ]
  },
  {
   "cell_type": "markdown",
   "metadata": {},
   "source": [
    "Напишем функцию, которая с помощью бутстрепа найдет распределение прибыли и вернет среднюю прибыль, 95%-й доверительный интервал и риск убытков для региона."
   ]
  },
  {
   "cell_type": "code",
   "execution_count": 32,
   "metadata": {},
   "outputs": [],
   "source": [
    "#функция для расчета средней прибыли, риска убытка и доверительного интервала с помощью бутстрепа\n",
    "def revenue_risk_count(target, predictions):\n",
    "    #счетчик убытков\n",
    "    risk = 0\n",
    "    #массив для прибыли\n",
    "    res = []\n",
    "    #считаем прибыль 1000 раз\n",
    "    for _ in range(BOOTSTRAP_SAMPLES):\n",
    "        revenue = revenue_count(target, predictions)\n",
    "        res.append(revenue)\n",
    "        #если убыток, то прибавляем в переменную risk\n",
    "        if revenue < 0:\n",
    "            risk += 1\n",
    "            \n",
    "    res = pd.Series(res)\n",
    "    \n",
    "    #считаем среднюю прибыль\n",
    "    revenue_mean = res.mean()\n",
    "    \n",
    "    #находим доверительный интервал\n",
    "    lower = res.quantile(0.025)\n",
    "    upper = res.quantile(0.975)\n",
    "    \n",
    "    #считаем риск убытков\n",
    "    risk = risk / BOOTSTRAP_SAMPLES\n",
    "    \n",
    "    return revenue_mean, lower, upper, risk"
   ]
  },
  {
   "cell_type": "code",
   "execution_count": 33,
   "metadata": {},
   "outputs": [],
   "source": [
    "#функция для вывода результата\n",
    "def print_result(region, revenue_mean, lower, upper, risk):\n",
    "    print('Регион {:.0f}:'.format(region), '\\n', \n",
    "          'Средняя прибыль:', round(revenue_mean/10**6, 2), 'млн. \\n', \n",
    "          '95%-й доверительный интервал:', round(lower/10**6, 2), \n",
    "          '—', round(upper/10**6, 2), 'млн. \\n', \n",
    "          'Риск убытков:', round(risk*100, 2), '%')"
   ]
  },
  {
   "cell_type": "code",
   "execution_count": 34,
   "metadata": {},
   "outputs": [
    {
     "name": "stdout",
     "output_type": "stream",
     "text": [
      "Регион 0: \n",
      " Средняя прибыль: 380.71 млн. \n",
      " 95%-й доверительный интервал: -126.95 — 879.61 млн. \n",
      " Риск убытков: 7.2 %\n"
     ]
    }
   ],
   "source": [
    "#регион 0\n",
    "revenue_mean, lower, upper, risk = revenue_risk_count(target_valid_0, predictions_valid_0)\n",
    "print_result(0, revenue_mean, lower, upper, risk)"
   ]
  },
  {
   "cell_type": "code",
   "execution_count": 35,
   "metadata": {},
   "outputs": [
    {
     "name": "stdout",
     "output_type": "stream",
     "text": [
      "Регион 1: \n",
      " Средняя прибыль: 454.79 млн. \n",
      " 95%-й доверительный интервал: 46.73 — 840.21 млн. \n",
      " Риск убытков: 1.3 %\n"
     ]
    }
   ],
   "source": [
    "#регион 1\n",
    "revenue_mean, lower, upper, risk = revenue_risk_count(target_valid_1, predictions_valid_1)\n",
    "print_result(1, revenue_mean, lower, upper, risk)"
   ]
  },
  {
   "cell_type": "code",
   "execution_count": 36,
   "metadata": {
    "scrolled": true
   },
   "outputs": [
    {
     "name": "stdout",
     "output_type": "stream",
     "text": [
      "Регион 2: \n",
      " Средняя прибыль: 389.22 млн. \n",
      " 95%-й доверительный интервал: -115.61 — 906.51 млн. \n",
      " Риск убытков: 7.3 %\n"
     ]
    }
   ],
   "source": [
    "#регион 2\n",
    "revenue_mean, lower, upper, risk = revenue_risk_count(target_valid_2, predictions_valid_2)\n",
    "print_result(2, revenue_mean, lower, upper, risk)"
   ]
  },
  {
   "cell_type": "markdown",
   "metadata": {},
   "source": [
    "### Вывод"
   ]
  },
  {
   "cell_type": "markdown",
   "metadata": {},
   "source": [
    "Самая большая средняя прибыль у региона 1, у него также и самый небольшой риск убытков и подходящий под условия задачи (менее 2.5%). Для регионов 0 и 2 значения средней прибыли немного меньше, но у них довольно большой риск убытков. Если не брать во внимание проблемы с распределением целевого признака, то в качестве локации для новой скважины нужно выбрать регион 1."
   ]
  },
  {
   "cell_type": "markdown",
   "metadata": {},
   "source": [
    "## Общий вывод"
   ]
  },
  {
   "cell_type": "markdown",
   "metadata": {},
   "source": [
    "В ходе данной работы изучены и подготовлены предоставленные данные, для каждого региона обучены и проверены модели с помощью линейной регрессии, самый небольшой показатель RMSE у региона 1. Также с помощью бутстрепа было найдено распределение прибыли, средняя прибыль, 95%-й доверительный интервал и риск убытков, самая большая средняя прибыль и самый небольшой риск убытков также у региона 1. В качестве локации для новой скважины стоит выбрать регион 1."
   ]
  }
 ],
 "metadata": {
  "ExecuteTimeLog": [
   {
    "duration": 475,
    "start_time": "2022-07-06T11:26:45.827Z"
   },
   {
    "duration": 516,
    "start_time": "2022-07-06T11:29:58.097Z"
   },
   {
    "duration": 456,
    "start_time": "2022-07-06T11:30:24.195Z"
   },
   {
    "duration": 415,
    "start_time": "2022-07-06T11:30:37.738Z"
   },
   {
    "duration": 32,
    "start_time": "2022-07-06T11:30:55.949Z"
   },
   {
    "duration": 19,
    "start_time": "2022-07-06T11:31:09.574Z"
   },
   {
    "duration": 14,
    "start_time": "2022-07-06T11:31:18.401Z"
   },
   {
    "duration": 96,
    "start_time": "2022-07-06T11:38:02.562Z"
   },
   {
    "duration": 24,
    "start_time": "2022-07-06T11:38:06.476Z"
   },
   {
    "duration": 62,
    "start_time": "2022-07-06T11:38:12.599Z"
   },
   {
    "duration": 107,
    "start_time": "2022-07-06T11:38:22.721Z"
   },
   {
    "duration": 90,
    "start_time": "2022-07-06T11:39:11.624Z"
   },
   {
    "duration": 235,
    "start_time": "2022-07-06T11:40:23.654Z"
   },
   {
    "duration": 235,
    "start_time": "2022-07-06T11:40:59.960Z"
   },
   {
    "duration": 24,
    "start_time": "2022-07-06T11:44:09.264Z"
   },
   {
    "duration": 21,
    "start_time": "2022-07-06T11:44:24.411Z"
   },
   {
    "duration": 16,
    "start_time": "2022-07-06T11:44:32.584Z"
   },
   {
    "duration": 431,
    "start_time": "2022-07-06T11:44:36.900Z"
   },
   {
    "duration": 175,
    "start_time": "2022-07-06T11:44:37.334Z"
   },
   {
    "duration": 16,
    "start_time": "2022-07-06T11:44:37.510Z"
   },
   {
    "duration": 182,
    "start_time": "2022-07-06T11:44:37.529Z"
   },
   {
    "duration": 16,
    "start_time": "2022-07-06T11:44:37.713Z"
   },
   {
    "duration": 170,
    "start_time": "2022-07-06T11:44:37.732Z"
   },
   {
    "duration": 14,
    "start_time": "2022-07-06T11:44:37.904Z"
   },
   {
    "duration": 178,
    "start_time": "2022-07-06T11:44:37.920Z"
   },
   {
    "duration": 13,
    "start_time": "2022-07-06T11:44:38.102Z"
   },
   {
    "duration": 14,
    "start_time": "2022-07-06T11:44:43.242Z"
   },
   {
    "duration": 486,
    "start_time": "2022-07-06T11:54:29.469Z"
   },
   {
    "duration": 182,
    "start_time": "2022-07-06T11:54:29.961Z"
   },
   {
    "duration": 21,
    "start_time": "2022-07-06T11:54:30.145Z"
   },
   {
    "duration": 217,
    "start_time": "2022-07-06T11:54:30.169Z"
   },
   {
    "duration": 20,
    "start_time": "2022-07-06T11:54:30.388Z"
   },
   {
    "duration": 163,
    "start_time": "2022-07-06T11:54:30.410Z"
   },
   {
    "duration": 26,
    "start_time": "2022-07-06T11:54:30.577Z"
   },
   {
    "duration": 226,
    "start_time": "2022-07-06T11:54:30.608Z"
   },
   {
    "duration": 113,
    "start_time": "2022-07-06T11:56:55.168Z"
   },
   {
    "duration": 9,
    "start_time": "2022-07-06T11:57:14.227Z"
   },
   {
    "duration": 712,
    "start_time": "2022-07-06T11:58:31.826Z"
   },
   {
    "duration": 187,
    "start_time": "2022-07-06T11:58:57.671Z"
   },
   {
    "duration": 186,
    "start_time": "2022-07-06T11:59:02.970Z"
   },
   {
    "duration": 199,
    "start_time": "2022-07-06T12:00:19.070Z"
   },
   {
    "duration": 329,
    "start_time": "2022-07-06T12:01:12.423Z"
   },
   {
    "duration": 223,
    "start_time": "2022-07-06T12:01:19.971Z"
   },
   {
    "duration": 271,
    "start_time": "2022-07-06T12:01:30.322Z"
   },
   {
    "duration": 216,
    "start_time": "2022-07-06T12:01:55.770Z"
   },
   {
    "duration": 208,
    "start_time": "2022-07-06T12:02:11.221Z"
   },
   {
    "duration": 85,
    "start_time": "2022-07-06T12:03:28.922Z"
   },
   {
    "duration": 248,
    "start_time": "2022-07-06T12:03:34.470Z"
   },
   {
    "duration": 206,
    "start_time": "2022-07-06T12:03:40.832Z"
   },
   {
    "duration": 845,
    "start_time": "2022-07-06T12:20:43.210Z"
   },
   {
    "duration": 75,
    "start_time": "2022-07-06T12:23:33.980Z"
   },
   {
    "duration": 17,
    "start_time": "2022-07-06T12:23:53.622Z"
   },
   {
    "duration": 15,
    "start_time": "2022-07-06T12:24:09.023Z"
   },
   {
    "duration": 33,
    "start_time": "2022-07-06T12:25:49.288Z"
   },
   {
    "duration": 58,
    "start_time": "2022-07-06T12:27:49.379Z"
   },
   {
    "duration": 31,
    "start_time": "2022-07-06T12:28:03.797Z"
   },
   {
    "duration": 32,
    "start_time": "2022-07-06T12:28:53.367Z"
   },
   {
    "duration": 33,
    "start_time": "2022-07-06T12:29:16.030Z"
   },
   {
    "duration": 10,
    "start_time": "2022-07-06T12:32:07.793Z"
   },
   {
    "duration": 8,
    "start_time": "2022-07-06T12:32:37.772Z"
   },
   {
    "duration": 7,
    "start_time": "2022-07-06T12:34:55.076Z"
   },
   {
    "duration": 59,
    "start_time": "2022-07-06T12:37:16.192Z"
   },
   {
    "duration": 34,
    "start_time": "2022-07-06T12:37:43.928Z"
   },
   {
    "duration": 61,
    "start_time": "2022-07-06T12:38:37.940Z"
   },
   {
    "duration": 27,
    "start_time": "2022-07-06T12:39:49.469Z"
   },
   {
    "duration": 36,
    "start_time": "2022-07-06T12:46:41.042Z"
   },
   {
    "duration": 16,
    "start_time": "2022-07-06T12:47:06.894Z"
   },
   {
    "duration": 15,
    "start_time": "2022-07-06T12:47:08.421Z"
   },
   {
    "duration": 16,
    "start_time": "2022-07-06T12:47:09.970Z"
   },
   {
    "duration": 5,
    "start_time": "2022-07-06T12:48:14.269Z"
   },
   {
    "duration": 14,
    "start_time": "2022-07-06T12:48:44.457Z"
   },
   {
    "duration": 12,
    "start_time": "2022-07-06T12:48:48.053Z"
   },
   {
    "duration": 13,
    "start_time": "2022-07-06T12:49:31.264Z"
   },
   {
    "duration": 5,
    "start_time": "2022-07-06T12:49:45.189Z"
   },
   {
    "duration": 14,
    "start_time": "2022-07-06T13:13:02.966Z"
   },
   {
    "duration": 4,
    "start_time": "2022-07-06T13:13:05.363Z"
   },
   {
    "duration": 9,
    "start_time": "2022-07-06T13:13:06.191Z"
   },
   {
    "duration": 4,
    "start_time": "2022-07-06T13:13:18.535Z"
   },
   {
    "duration": 1133,
    "start_time": "2022-07-06T15:21:10.292Z"
   },
   {
    "duration": 189,
    "start_time": "2022-07-06T15:21:11.427Z"
   },
   {
    "duration": 49,
    "start_time": "2022-07-06T15:21:11.618Z"
   },
   {
    "duration": 158,
    "start_time": "2022-07-06T15:21:11.673Z"
   },
   {
    "duration": 18,
    "start_time": "2022-07-06T15:21:11.833Z"
   },
   {
    "duration": 169,
    "start_time": "2022-07-06T15:21:11.853Z"
   },
   {
    "duration": 22,
    "start_time": "2022-07-06T15:21:12.024Z"
   },
   {
    "duration": 153,
    "start_time": "2022-07-06T15:21:12.056Z"
   },
   {
    "duration": 14,
    "start_time": "2022-07-06T15:21:12.210Z"
   },
   {
    "duration": 139,
    "start_time": "2022-07-06T15:21:12.226Z"
   },
   {
    "duration": 0,
    "start_time": "2022-07-06T15:21:12.367Z"
   },
   {
    "duration": 0,
    "start_time": "2022-07-06T15:21:12.368Z"
   },
   {
    "duration": 0,
    "start_time": "2022-07-06T15:21:12.369Z"
   },
   {
    "duration": 0,
    "start_time": "2022-07-06T15:21:12.370Z"
   },
   {
    "duration": 0,
    "start_time": "2022-07-06T15:21:12.370Z"
   },
   {
    "duration": 0,
    "start_time": "2022-07-06T15:21:12.371Z"
   },
   {
    "duration": 0,
    "start_time": "2022-07-06T15:21:12.373Z"
   },
   {
    "duration": 0,
    "start_time": "2022-07-06T15:21:12.374Z"
   },
   {
    "duration": 0,
    "start_time": "2022-07-06T15:21:12.376Z"
   },
   {
    "duration": 0,
    "start_time": "2022-07-06T15:21:12.377Z"
   },
   {
    "duration": 9,
    "start_time": "2022-07-06T15:26:09.426Z"
   },
   {
    "duration": 1241,
    "start_time": "2022-07-06T15:26:38.771Z"
   },
   {
    "duration": 182,
    "start_time": "2022-07-06T15:26:40.014Z"
   },
   {
    "duration": 17,
    "start_time": "2022-07-06T15:26:40.200Z"
   },
   {
    "duration": 158,
    "start_time": "2022-07-06T15:26:40.220Z"
   },
   {
    "duration": 21,
    "start_time": "2022-07-06T15:26:40.380Z"
   },
   {
    "duration": 156,
    "start_time": "2022-07-06T15:26:40.402Z"
   },
   {
    "duration": 30,
    "start_time": "2022-07-06T15:26:40.559Z"
   },
   {
    "duration": 167,
    "start_time": "2022-07-06T15:26:40.594Z"
   },
   {
    "duration": 18,
    "start_time": "2022-07-06T15:26:40.768Z"
   },
   {
    "duration": 531,
    "start_time": "2022-07-06T15:26:40.789Z"
   },
   {
    "duration": 237,
    "start_time": "2022-07-06T15:26:41.322Z"
   },
   {
    "duration": 12,
    "start_time": "2022-07-06T15:26:41.565Z"
   },
   {
    "duration": 236,
    "start_time": "2022-07-06T15:26:41.580Z"
   },
   {
    "duration": 55,
    "start_time": "2022-07-06T15:26:41.817Z"
   },
   {
    "duration": 25,
    "start_time": "2022-07-06T15:26:41.882Z"
   },
   {
    "duration": 110,
    "start_time": "2022-07-06T15:26:41.943Z"
   },
   {
    "duration": 198,
    "start_time": "2022-07-06T15:26:42.061Z"
   },
   {
    "duration": 9,
    "start_time": "2022-07-06T15:26:42.261Z"
   },
   {
    "duration": 88,
    "start_time": "2022-07-06T15:26:42.275Z"
   },
   {
    "duration": 34,
    "start_time": "2022-07-06T15:26:42.369Z"
   },
   {
    "duration": 82,
    "start_time": "2022-07-06T15:26:42.405Z"
   },
   {
    "duration": 4,
    "start_time": "2022-07-06T15:27:24.933Z"
   },
   {
    "duration": 4,
    "start_time": "2022-07-06T15:27:46.328Z"
   },
   {
    "duration": 6,
    "start_time": "2022-07-06T15:27:52.403Z"
   },
   {
    "duration": 1223,
    "start_time": "2022-07-06T15:28:10.725Z"
   },
   {
    "duration": 166,
    "start_time": "2022-07-06T15:28:11.954Z"
   },
   {
    "duration": 30,
    "start_time": "2022-07-06T15:28:12.122Z"
   },
   {
    "duration": 161,
    "start_time": "2022-07-06T15:28:12.154Z"
   },
   {
    "duration": 14,
    "start_time": "2022-07-06T15:28:12.317Z"
   },
   {
    "duration": 167,
    "start_time": "2022-07-06T15:28:12.333Z"
   },
   {
    "duration": 14,
    "start_time": "2022-07-06T15:28:12.502Z"
   },
   {
    "duration": 184,
    "start_time": "2022-07-06T15:28:12.518Z"
   },
   {
    "duration": 11,
    "start_time": "2022-07-06T15:28:12.704Z"
   },
   {
    "duration": 519,
    "start_time": "2022-07-06T15:28:12.718Z"
   },
   {
    "duration": 213,
    "start_time": "2022-07-06T15:28:13.239Z"
   },
   {
    "duration": 9,
    "start_time": "2022-07-06T15:28:13.454Z"
   },
   {
    "duration": 223,
    "start_time": "2022-07-06T15:28:13.467Z"
   },
   {
    "duration": 42,
    "start_time": "2022-07-06T15:28:13.695Z"
   },
   {
    "duration": 56,
    "start_time": "2022-07-06T15:28:13.738Z"
   },
   {
    "duration": 207,
    "start_time": "2022-07-06T15:28:13.800Z"
   },
   {
    "duration": 83,
    "start_time": "2022-07-06T15:28:14.009Z"
   },
   {
    "duration": 22,
    "start_time": "2022-07-06T15:28:14.162Z"
   },
   {
    "duration": 102,
    "start_time": "2022-07-06T15:28:14.191Z"
   },
   {
    "duration": 12,
    "start_time": "2022-07-06T15:28:14.295Z"
   },
   {
    "duration": 8,
    "start_time": "2022-07-06T15:28:14.308Z"
   },
   {
    "duration": 151,
    "start_time": "2022-07-06T15:28:27.410Z"
   },
   {
    "duration": 12,
    "start_time": "2022-07-06T15:29:18.291Z"
   },
   {
    "duration": 19,
    "start_time": "2022-07-06T15:29:35.472Z"
   },
   {
    "duration": 7,
    "start_time": "2022-07-06T15:30:01.169Z"
   },
   {
    "duration": 13,
    "start_time": "2022-07-06T15:30:10.777Z"
   },
   {
    "duration": 1180,
    "start_time": "2022-07-06T15:30:21.531Z"
   },
   {
    "duration": 171,
    "start_time": "2022-07-06T15:30:22.713Z"
   },
   {
    "duration": 18,
    "start_time": "2022-07-06T15:30:22.886Z"
   },
   {
    "duration": 177,
    "start_time": "2022-07-06T15:30:22.906Z"
   },
   {
    "duration": 19,
    "start_time": "2022-07-06T15:30:23.093Z"
   },
   {
    "duration": 150,
    "start_time": "2022-07-06T15:30:23.114Z"
   },
   {
    "duration": 34,
    "start_time": "2022-07-06T15:30:23.265Z"
   },
   {
    "duration": 155,
    "start_time": "2022-07-06T15:30:23.301Z"
   },
   {
    "duration": 17,
    "start_time": "2022-07-06T15:30:23.458Z"
   },
   {
    "duration": 543,
    "start_time": "2022-07-06T15:30:23.478Z"
   },
   {
    "duration": 211,
    "start_time": "2022-07-06T15:30:24.023Z"
   },
   {
    "duration": 26,
    "start_time": "2022-07-06T15:30:24.236Z"
   },
   {
    "duration": 257,
    "start_time": "2022-07-06T15:30:24.271Z"
   },
   {
    "duration": 51,
    "start_time": "2022-07-06T15:30:24.530Z"
   },
   {
    "duration": 47,
    "start_time": "2022-07-06T15:30:24.582Z"
   },
   {
    "duration": 50,
    "start_time": "2022-07-06T15:30:24.630Z"
   },
   {
    "duration": 172,
    "start_time": "2022-07-06T15:30:24.682Z"
   },
   {
    "duration": 135,
    "start_time": "2022-07-06T15:30:24.865Z"
   },
   {
    "duration": 9,
    "start_time": "2022-07-06T15:30:25.003Z"
   },
   {
    "duration": 11,
    "start_time": "2022-07-06T15:30:25.014Z"
   },
   {
    "duration": 8,
    "start_time": "2022-07-06T15:30:25.028Z"
   },
   {
    "duration": 6,
    "start_time": "2022-07-06T15:31:13.218Z"
   },
   {
    "duration": 5,
    "start_time": "2022-07-06T15:31:34.289Z"
   },
   {
    "duration": 9,
    "start_time": "2022-07-06T15:31:45.786Z"
   },
   {
    "duration": 5,
    "start_time": "2022-07-06T15:32:13.211Z"
   },
   {
    "duration": 3,
    "start_time": "2022-07-06T15:39:42.524Z"
   },
   {
    "duration": 8,
    "start_time": "2022-07-06T15:39:43.604Z"
   },
   {
    "duration": 15,
    "start_time": "2022-07-06T15:39:45.480Z"
   },
   {
    "duration": 3,
    "start_time": "2022-07-06T15:39:46.406Z"
   },
   {
    "duration": 10,
    "start_time": "2022-07-06T15:48:40.211Z"
   },
   {
    "duration": 11,
    "start_time": "2022-07-06T15:51:27.480Z"
   },
   {
    "duration": 123,
    "start_time": "2022-07-06T15:51:37.191Z"
   },
   {
    "duration": 9,
    "start_time": "2022-07-06T15:51:42.374Z"
   },
   {
    "duration": 6,
    "start_time": "2022-07-06T15:51:48.433Z"
   },
   {
    "duration": 7,
    "start_time": "2022-07-06T15:51:48.907Z"
   },
   {
    "duration": 23,
    "start_time": "2022-07-06T15:51:49.264Z"
   },
   {
    "duration": 14,
    "start_time": "2022-07-06T15:52:07.257Z"
   },
   {
    "duration": 10,
    "start_time": "2022-07-06T15:52:08.474Z"
   },
   {
    "duration": 16,
    "start_time": "2022-07-06T15:52:08.679Z"
   },
   {
    "duration": 106,
    "start_time": "2022-07-06T16:05:24.110Z"
   },
   {
    "duration": 6,
    "start_time": "2022-07-06T16:05:39.857Z"
   },
   {
    "duration": 150,
    "start_time": "2022-07-06T16:09:29.801Z"
   },
   {
    "duration": 8,
    "start_time": "2022-07-06T16:09:40.082Z"
   },
   {
    "duration": 6,
    "start_time": "2022-07-06T16:09:41.684Z"
   },
   {
    "duration": 789,
    "start_time": "2022-07-06T16:09:43.175Z"
   },
   {
    "duration": 14,
    "start_time": "2022-07-06T16:14:11.578Z"
   },
   {
    "duration": 7,
    "start_time": "2022-07-06T16:14:13.372Z"
   },
   {
    "duration": 970,
    "start_time": "2022-07-06T16:14:14.116Z"
   },
   {
    "duration": 816,
    "start_time": "2022-07-06T16:14:45.295Z"
   },
   {
    "duration": 756,
    "start_time": "2022-07-06T16:14:59.066Z"
   },
   {
    "duration": 9,
    "start_time": "2022-07-06T16:15:02.574Z"
   },
   {
    "duration": 768,
    "start_time": "2022-07-06T16:15:03.370Z"
   },
   {
    "duration": 906,
    "start_time": "2022-07-06T16:15:44.608Z"
   },
   {
    "duration": 816,
    "start_time": "2022-07-06T16:15:45.516Z"
   },
   {
    "duration": 7,
    "start_time": "2022-07-06T16:16:10.806Z"
   },
   {
    "duration": 828,
    "start_time": "2022-07-06T16:16:12.142Z"
   },
   {
    "duration": 13,
    "start_time": "2022-07-06T16:16:34.944Z"
   },
   {
    "duration": 838,
    "start_time": "2022-07-06T16:16:35.187Z"
   },
   {
    "duration": 5,
    "start_time": "2022-07-06T16:18:09.136Z"
   },
   {
    "duration": 768,
    "start_time": "2022-07-06T16:18:10.017Z"
   },
   {
    "duration": 16,
    "start_time": "2022-07-06T16:18:41.273Z"
   },
   {
    "duration": 770,
    "start_time": "2022-07-06T16:18:42.371Z"
   },
   {
    "duration": 781,
    "start_time": "2022-07-06T16:18:52.565Z"
   },
   {
    "duration": 839,
    "start_time": "2022-07-06T16:18:56.479Z"
   },
   {
    "duration": 9,
    "start_time": "2022-07-06T16:19:07.688Z"
   },
   {
    "duration": 830,
    "start_time": "2022-07-06T16:19:08.388Z"
   },
   {
    "duration": 819,
    "start_time": "2022-07-06T16:19:11.062Z"
   },
   {
    "duration": 878,
    "start_time": "2022-07-06T16:19:13.738Z"
   },
   {
    "duration": 4,
    "start_time": "2022-07-06T16:19:30.934Z"
   },
   {
    "duration": 936,
    "start_time": "2022-07-06T16:19:31.798Z"
   },
   {
    "duration": 845,
    "start_time": "2022-07-06T16:19:35.530Z"
   },
   {
    "duration": 811,
    "start_time": "2022-07-06T16:19:37.773Z"
   },
   {
    "duration": 4,
    "start_time": "2022-07-06T16:20:52.521Z"
   },
   {
    "duration": 783,
    "start_time": "2022-07-06T16:20:53.420Z"
   },
   {
    "duration": 11,
    "start_time": "2022-07-06T16:20:59.460Z"
   },
   {
    "duration": 746,
    "start_time": "2022-07-06T16:21:00.083Z"
   },
   {
    "duration": 17,
    "start_time": "2022-07-06T16:21:12.438Z"
   },
   {
    "duration": 749,
    "start_time": "2022-07-06T16:21:13.281Z"
   },
   {
    "duration": 9,
    "start_time": "2022-07-06T16:21:27.660Z"
   },
   {
    "duration": 794,
    "start_time": "2022-07-06T16:21:29.015Z"
   },
   {
    "duration": 4,
    "start_time": "2022-07-06T16:21:31.317Z"
   },
   {
    "duration": 791,
    "start_time": "2022-07-06T16:21:32.411Z"
   },
   {
    "duration": 8,
    "start_time": "2022-07-06T16:21:41.967Z"
   },
   {
    "duration": 809,
    "start_time": "2022-07-06T16:21:42.668Z"
   },
   {
    "duration": 832,
    "start_time": "2022-07-06T16:21:45.423Z"
   },
   {
    "duration": 744,
    "start_time": "2022-07-06T16:21:55.172Z"
   },
   {
    "duration": 832,
    "start_time": "2022-07-06T16:21:56.781Z"
   },
   {
    "duration": 757,
    "start_time": "2022-07-06T16:26:27.270Z"
   },
   {
    "duration": 726,
    "start_time": "2022-07-06T16:26:28.964Z"
   },
   {
    "duration": 769,
    "start_time": "2022-07-06T16:26:31.171Z"
   },
   {
    "duration": 751,
    "start_time": "2022-07-06T16:27:27.382Z"
   },
   {
    "duration": 729,
    "start_time": "2022-07-06T16:27:29.199Z"
   },
   {
    "duration": 795,
    "start_time": "2022-07-06T16:27:31.483Z"
   },
   {
    "duration": 745,
    "start_time": "2022-07-06T16:27:33.666Z"
   },
   {
    "duration": 762,
    "start_time": "2022-07-06T16:27:35.616Z"
   },
   {
    "duration": 741,
    "start_time": "2022-07-06T16:27:37.877Z"
   },
   {
    "duration": 1133,
    "start_time": "2022-07-06T16:39:48.622Z"
   },
   {
    "duration": 152,
    "start_time": "2022-07-06T16:39:49.760Z"
   },
   {
    "duration": 17,
    "start_time": "2022-07-06T16:39:49.914Z"
   },
   {
    "duration": 153,
    "start_time": "2022-07-06T16:39:49.941Z"
   },
   {
    "duration": 18,
    "start_time": "2022-07-06T16:39:50.096Z"
   },
   {
    "duration": 166,
    "start_time": "2022-07-06T16:39:50.115Z"
   },
   {
    "duration": 17,
    "start_time": "2022-07-06T16:39:50.283Z"
   },
   {
    "duration": 170,
    "start_time": "2022-07-06T16:39:50.302Z"
   },
   {
    "duration": 12,
    "start_time": "2022-07-06T16:39:50.474Z"
   },
   {
    "duration": 127,
    "start_time": "2022-07-06T16:39:50.488Z"
   },
   {
    "duration": 0,
    "start_time": "2022-07-06T16:39:50.618Z"
   },
   {
    "duration": 0,
    "start_time": "2022-07-06T16:39:50.619Z"
   },
   {
    "duration": 0,
    "start_time": "2022-07-06T16:39:50.620Z"
   },
   {
    "duration": 0,
    "start_time": "2022-07-06T16:39:50.621Z"
   },
   {
    "duration": 0,
    "start_time": "2022-07-06T16:39:50.623Z"
   },
   {
    "duration": 0,
    "start_time": "2022-07-06T16:39:50.624Z"
   },
   {
    "duration": 0,
    "start_time": "2022-07-06T16:39:50.625Z"
   },
   {
    "duration": 0,
    "start_time": "2022-07-06T16:39:50.625Z"
   },
   {
    "duration": 0,
    "start_time": "2022-07-06T16:39:50.626Z"
   },
   {
    "duration": 0,
    "start_time": "2022-07-06T16:39:50.642Z"
   },
   {
    "duration": 0,
    "start_time": "2022-07-06T16:39:50.643Z"
   },
   {
    "duration": 0,
    "start_time": "2022-07-06T16:39:50.644Z"
   },
   {
    "duration": 0,
    "start_time": "2022-07-06T16:39:50.645Z"
   },
   {
    "duration": 0,
    "start_time": "2022-07-06T16:39:50.645Z"
   },
   {
    "duration": 0,
    "start_time": "2022-07-06T16:39:50.646Z"
   },
   {
    "duration": 0,
    "start_time": "2022-07-06T16:39:50.647Z"
   },
   {
    "duration": 0,
    "start_time": "2022-07-06T16:39:50.648Z"
   },
   {
    "duration": 0,
    "start_time": "2022-07-06T16:39:50.648Z"
   },
   {
    "duration": 0,
    "start_time": "2022-07-06T16:39:50.649Z"
   },
   {
    "duration": 1230,
    "start_time": "2022-07-06T16:40:50.041Z"
   },
   {
    "duration": 171,
    "start_time": "2022-07-06T16:40:51.274Z"
   },
   {
    "duration": 23,
    "start_time": "2022-07-06T16:40:51.451Z"
   },
   {
    "duration": 158,
    "start_time": "2022-07-06T16:40:51.477Z"
   },
   {
    "duration": 24,
    "start_time": "2022-07-06T16:40:51.638Z"
   },
   {
    "duration": 198,
    "start_time": "2022-07-06T16:40:51.666Z"
   },
   {
    "duration": 15,
    "start_time": "2022-07-06T16:40:51.866Z"
   },
   {
    "duration": 142,
    "start_time": "2022-07-06T16:40:51.883Z"
   },
   {
    "duration": 10,
    "start_time": "2022-07-06T16:40:52.027Z"
   },
   {
    "duration": 493,
    "start_time": "2022-07-06T16:40:52.046Z"
   },
   {
    "duration": 24,
    "start_time": "2022-07-06T16:40:52.542Z"
   },
   {
    "duration": 210,
    "start_time": "2022-07-06T16:40:52.568Z"
   },
   {
    "duration": 10,
    "start_time": "2022-07-06T16:40:52.780Z"
   },
   {
    "duration": 6,
    "start_time": "2022-07-06T16:40:52.792Z"
   },
   {
    "duration": 216,
    "start_time": "2022-07-06T16:40:52.800Z"
   },
   {
    "duration": 49,
    "start_time": "2022-07-06T16:40:53.018Z"
   },
   {
    "duration": 79,
    "start_time": "2022-07-06T16:40:53.069Z"
   },
   {
    "duration": 111,
    "start_time": "2022-07-06T16:40:53.152Z"
   },
   {
    "duration": 202,
    "start_time": "2022-07-06T16:40:53.265Z"
   },
   {
    "duration": 7,
    "start_time": "2022-07-06T16:40:53.471Z"
   },
   {
    "duration": 215,
    "start_time": "2022-07-06T16:40:53.545Z"
   },
   {
    "duration": 0,
    "start_time": "2022-07-06T16:40:53.763Z"
   },
   {
    "duration": 0,
    "start_time": "2022-07-06T16:40:53.764Z"
   },
   {
    "duration": 0,
    "start_time": "2022-07-06T16:40:53.765Z"
   },
   {
    "duration": 0,
    "start_time": "2022-07-06T16:40:53.766Z"
   },
   {
    "duration": 1,
    "start_time": "2022-07-06T16:40:53.766Z"
   },
   {
    "duration": 0,
    "start_time": "2022-07-06T16:40:53.768Z"
   },
   {
    "duration": 1,
    "start_time": "2022-07-06T16:40:53.769Z"
   },
   {
    "duration": 4,
    "start_time": "2022-07-06T16:42:10.469Z"
   },
   {
    "duration": 8,
    "start_time": "2022-07-06T16:42:14.454Z"
   },
   {
    "duration": 5,
    "start_time": "2022-07-06T16:42:30.886Z"
   },
   {
    "duration": 6,
    "start_time": "2022-07-06T16:42:37.961Z"
   },
   {
    "duration": 3,
    "start_time": "2022-07-06T16:42:45.407Z"
   },
   {
    "duration": 21,
    "start_time": "2022-07-06T16:42:47.168Z"
   },
   {
    "duration": 4,
    "start_time": "2022-07-06T16:43:12.872Z"
   },
   {
    "duration": 4,
    "start_time": "2022-07-06T16:43:14.798Z"
   },
   {
    "duration": 4,
    "start_time": "2022-07-06T16:43:16.528Z"
   },
   {
    "duration": 781,
    "start_time": "2022-07-06T16:43:17.820Z"
   },
   {
    "duration": 748,
    "start_time": "2022-07-06T16:43:20.535Z"
   },
   {
    "duration": 712,
    "start_time": "2022-07-06T16:43:22.468Z"
   },
   {
    "duration": 1138,
    "start_time": "2022-07-06T16:43:50.624Z"
   },
   {
    "duration": 145,
    "start_time": "2022-07-06T16:43:51.768Z"
   },
   {
    "duration": 15,
    "start_time": "2022-07-06T16:43:51.918Z"
   },
   {
    "duration": 144,
    "start_time": "2022-07-06T16:43:51.935Z"
   },
   {
    "duration": 14,
    "start_time": "2022-07-06T16:43:52.080Z"
   },
   {
    "duration": 144,
    "start_time": "2022-07-06T16:43:52.095Z"
   },
   {
    "duration": 28,
    "start_time": "2022-07-06T16:43:52.241Z"
   },
   {
    "duration": 148,
    "start_time": "2022-07-06T16:43:52.271Z"
   },
   {
    "duration": 10,
    "start_time": "2022-07-06T16:43:52.423Z"
   },
   {
    "duration": 496,
    "start_time": "2022-07-06T16:43:52.435Z"
   },
   {
    "duration": 18,
    "start_time": "2022-07-06T16:43:52.934Z"
   },
   {
    "duration": 217,
    "start_time": "2022-07-06T16:43:52.954Z"
   },
   {
    "duration": 10,
    "start_time": "2022-07-06T16:43:53.172Z"
   },
   {
    "duration": 5,
    "start_time": "2022-07-06T16:43:53.184Z"
   },
   {
    "duration": 197,
    "start_time": "2022-07-06T16:43:53.190Z"
   },
   {
    "duration": 35,
    "start_time": "2022-07-06T16:43:53.388Z"
   },
   {
    "duration": 46,
    "start_time": "2022-07-06T16:43:53.425Z"
   },
   {
    "duration": 184,
    "start_time": "2022-07-06T16:43:53.474Z"
   },
   {
    "duration": 101,
    "start_time": "2022-07-06T16:43:53.661Z"
   },
   {
    "duration": 5,
    "start_time": "2022-07-06T16:43:53.767Z"
   },
   {
    "duration": 197,
    "start_time": "2022-07-06T16:43:53.774Z"
   },
   {
    "duration": 8,
    "start_time": "2022-07-06T16:43:53.973Z"
   },
   {
    "duration": 10,
    "start_time": "2022-07-06T16:43:53.982Z"
   },
   {
    "duration": 8,
    "start_time": "2022-07-06T16:43:53.994Z"
   },
   {
    "duration": 6,
    "start_time": "2022-07-06T16:43:54.004Z"
   },
   {
    "duration": 809,
    "start_time": "2022-07-06T16:43:54.011Z"
   },
   {
    "duration": 732,
    "start_time": "2022-07-06T16:43:54.823Z"
   },
   {
    "duration": 723,
    "start_time": "2022-07-06T16:43:55.556Z"
   },
   {
    "duration": 1104,
    "start_time": "2022-07-06T16:45:59.602Z"
   },
   {
    "duration": 176,
    "start_time": "2022-07-06T16:46:00.710Z"
   },
   {
    "duration": 14,
    "start_time": "2022-07-06T16:46:00.889Z"
   },
   {
    "duration": 162,
    "start_time": "2022-07-06T16:46:00.905Z"
   },
   {
    "duration": 19,
    "start_time": "2022-07-06T16:46:01.068Z"
   },
   {
    "duration": 138,
    "start_time": "2022-07-06T16:46:01.088Z"
   },
   {
    "duration": 25,
    "start_time": "2022-07-06T16:46:01.227Z"
   },
   {
    "duration": 204,
    "start_time": "2022-07-06T16:46:01.255Z"
   },
   {
    "duration": 13,
    "start_time": "2022-07-06T16:46:01.479Z"
   },
   {
    "duration": 561,
    "start_time": "2022-07-06T16:46:01.494Z"
   },
   {
    "duration": 12,
    "start_time": "2022-07-06T16:46:02.056Z"
   },
   {
    "duration": 240,
    "start_time": "2022-07-06T16:46:02.070Z"
   },
   {
    "duration": 10,
    "start_time": "2022-07-06T16:46:02.312Z"
   },
   {
    "duration": 62,
    "start_time": "2022-07-06T16:46:02.323Z"
   },
   {
    "duration": 209,
    "start_time": "2022-07-06T16:46:02.387Z"
   },
   {
    "duration": 46,
    "start_time": "2022-07-06T16:46:02.598Z"
   },
   {
    "duration": 37,
    "start_time": "2022-07-06T16:46:02.646Z"
   },
   {
    "duration": 183,
    "start_time": "2022-07-06T16:46:02.686Z"
   },
   {
    "duration": 200,
    "start_time": "2022-07-06T16:46:02.873Z"
   },
   {
    "duration": 69,
    "start_time": "2022-07-06T16:46:03.080Z"
   },
   {
    "duration": 46,
    "start_time": "2022-07-06T16:46:03.151Z"
   },
   {
    "duration": 8,
    "start_time": "2022-07-06T16:46:03.198Z"
   },
   {
    "duration": 5,
    "start_time": "2022-07-06T16:46:03.250Z"
   },
   {
    "duration": 32,
    "start_time": "2022-07-06T16:46:03.257Z"
   },
   {
    "duration": 7,
    "start_time": "2022-07-06T16:46:03.291Z"
   },
   {
    "duration": 757,
    "start_time": "2022-07-06T16:46:03.299Z"
   },
   {
    "duration": 814,
    "start_time": "2022-07-06T16:46:04.060Z"
   },
   {
    "duration": 774,
    "start_time": "2022-07-06T16:46:04.878Z"
   },
   {
    "duration": 1027,
    "start_time": "2022-07-07T00:51:37.882Z"
   },
   {
    "duration": 349,
    "start_time": "2022-07-07T00:51:38.911Z"
   },
   {
    "duration": 16,
    "start_time": "2022-07-07T00:51:39.262Z"
   },
   {
    "duration": 171,
    "start_time": "2022-07-07T00:51:39.280Z"
   },
   {
    "duration": 14,
    "start_time": "2022-07-07T00:51:39.453Z"
   },
   {
    "duration": 178,
    "start_time": "2022-07-07T00:51:39.469Z"
   },
   {
    "duration": 14,
    "start_time": "2022-07-07T00:51:39.649Z"
   },
   {
    "duration": 116,
    "start_time": "2022-07-07T00:51:39.665Z"
   },
   {
    "duration": 9,
    "start_time": "2022-07-07T00:51:39.783Z"
   },
   {
    "duration": 566,
    "start_time": "2022-07-07T00:51:39.800Z"
   },
   {
    "duration": 10,
    "start_time": "2022-07-07T00:51:40.368Z"
   },
   {
    "duration": 175,
    "start_time": "2022-07-07T00:51:40.379Z"
   },
   {
    "duration": 5,
    "start_time": "2022-07-07T00:51:40.556Z"
   },
   {
    "duration": 176,
    "start_time": "2022-07-07T00:51:40.563Z"
   },
   {
    "duration": 32,
    "start_time": "2022-07-07T00:51:40.741Z"
   },
   {
    "duration": 226,
    "start_time": "2022-07-07T00:51:40.775Z"
   },
   {
    "duration": 15,
    "start_time": "2022-07-07T00:51:41.003Z"
   },
   {
    "duration": 188,
    "start_time": "2022-07-07T00:51:41.020Z"
   },
   {
    "duration": 99,
    "start_time": "2022-07-07T00:51:41.212Z"
   },
   {
    "duration": 4,
    "start_time": "2022-07-07T00:51:41.401Z"
   },
   {
    "duration": 9,
    "start_time": "2022-07-07T00:51:41.407Z"
   },
   {
    "duration": 10,
    "start_time": "2022-07-07T00:51:41.417Z"
   },
   {
    "duration": 12,
    "start_time": "2022-07-07T00:51:41.429Z"
   },
   {
    "duration": 10,
    "start_time": "2022-07-07T00:51:41.442Z"
   },
   {
    "duration": 658,
    "start_time": "2022-07-07T00:51:41.454Z"
   },
   {
    "duration": 637,
    "start_time": "2022-07-07T00:51:42.114Z"
   },
   {
    "duration": 626,
    "start_time": "2022-07-07T00:51:42.752Z"
   },
   {
    "duration": 1037,
    "start_time": "2022-07-07T17:43:47.338Z"
   },
   {
    "duration": 385,
    "start_time": "2022-07-07T17:43:50.017Z"
   },
   {
    "duration": 16,
    "start_time": "2022-07-07T17:43:52.250Z"
   },
   {
    "duration": 251,
    "start_time": "2022-07-07T17:43:53.324Z"
   },
   {
    "duration": 1032,
    "start_time": "2022-07-07T17:43:56.722Z"
   },
   {
    "duration": 128,
    "start_time": "2022-07-07T17:43:57.756Z"
   },
   {
    "duration": 17,
    "start_time": "2022-07-07T17:43:57.886Z"
   },
   {
    "duration": 125,
    "start_time": "2022-07-07T17:43:57.906Z"
   },
   {
    "duration": 25,
    "start_time": "2022-07-07T17:43:58.033Z"
   },
   {
    "duration": 196,
    "start_time": "2022-07-07T17:43:58.061Z"
   },
   {
    "duration": 13,
    "start_time": "2022-07-07T17:43:58.259Z"
   },
   {
    "duration": 118,
    "start_time": "2022-07-07T17:43:58.273Z"
   },
   {
    "duration": 9,
    "start_time": "2022-07-07T17:43:58.392Z"
   },
   {
    "duration": 625,
    "start_time": "2022-07-07T17:43:58.404Z"
   },
   {
    "duration": 14,
    "start_time": "2022-07-07T17:43:59.031Z"
   },
   {
    "duration": 170,
    "start_time": "2022-07-07T17:43:59.047Z"
   },
   {
    "duration": 5,
    "start_time": "2022-07-07T17:43:59.218Z"
   },
   {
    "duration": 167,
    "start_time": "2022-07-07T17:43:59.225Z"
   },
   {
    "duration": 31,
    "start_time": "2022-07-07T17:43:59.394Z"
   },
   {
    "duration": 124,
    "start_time": "2022-07-07T17:43:59.427Z"
   },
   {
    "duration": 119,
    "start_time": "2022-07-07T17:43:59.557Z"
   },
   {
    "duration": 165,
    "start_time": "2022-07-07T17:43:59.679Z"
   },
   {
    "duration": 110,
    "start_time": "2022-07-07T17:43:59.853Z"
   },
   {
    "duration": 8,
    "start_time": "2022-07-07T17:43:59.966Z"
   },
   {
    "duration": 10,
    "start_time": "2022-07-07T17:43:59.976Z"
   },
   {
    "duration": 8,
    "start_time": "2022-07-07T17:43:59.988Z"
   },
   {
    "duration": 7,
    "start_time": "2022-07-07T17:43:59.997Z"
   },
   {
    "duration": 12,
    "start_time": "2022-07-07T17:44:00.005Z"
   },
   {
    "duration": 114,
    "start_time": "2022-07-07T17:44:00.019Z"
   },
   {
    "duration": 0,
    "start_time": "2022-07-07T17:44:00.134Z"
   },
   {
    "duration": 0,
    "start_time": "2022-07-07T17:44:00.136Z"
   },
   {
    "duration": 1043,
    "start_time": "2022-07-07T17:44:41.217Z"
   },
   {
    "duration": 124,
    "start_time": "2022-07-07T17:44:42.262Z"
   },
   {
    "duration": 14,
    "start_time": "2022-07-07T17:44:42.387Z"
   },
   {
    "duration": 119,
    "start_time": "2022-07-07T17:44:42.403Z"
   },
   {
    "duration": 25,
    "start_time": "2022-07-07T17:44:42.523Z"
   },
   {
    "duration": 108,
    "start_time": "2022-07-07T17:44:42.550Z"
   },
   {
    "duration": 16,
    "start_time": "2022-07-07T17:44:42.662Z"
   },
   {
    "duration": 142,
    "start_time": "2022-07-07T17:44:42.680Z"
   },
   {
    "duration": 9,
    "start_time": "2022-07-07T17:44:42.824Z"
   },
   {
    "duration": 397,
    "start_time": "2022-07-07T17:44:42.835Z"
   },
   {
    "duration": 23,
    "start_time": "2022-07-07T17:44:43.233Z"
   },
   {
    "duration": 157,
    "start_time": "2022-07-07T17:44:43.258Z"
   },
   {
    "duration": 4,
    "start_time": "2022-07-07T17:44:43.416Z"
   },
   {
    "duration": 180,
    "start_time": "2022-07-07T17:44:43.421Z"
   },
   {
    "duration": 55,
    "start_time": "2022-07-07T17:44:43.602Z"
   },
   {
    "duration": 85,
    "start_time": "2022-07-07T17:44:43.659Z"
   },
   {
    "duration": 19,
    "start_time": "2022-07-07T17:44:43.746Z"
   },
   {
    "duration": 132,
    "start_time": "2022-07-07T17:44:43.842Z"
   },
   {
    "duration": 3,
    "start_time": "2022-07-07T17:44:43.976Z"
   },
   {
    "duration": 178,
    "start_time": "2022-07-07T17:44:43.980Z"
   },
   {
    "duration": 10,
    "start_time": "2022-07-07T17:44:44.160Z"
   },
   {
    "duration": 8,
    "start_time": "2022-07-07T17:44:44.171Z"
   },
   {
    "duration": 5,
    "start_time": "2022-07-07T17:44:44.181Z"
   },
   {
    "duration": 8,
    "start_time": "2022-07-07T17:44:44.188Z"
   },
   {
    "duration": 1155,
    "start_time": "2022-07-07T17:44:44.198Z"
   },
   {
    "duration": 1015,
    "start_time": "2022-07-07T17:44:45.356Z"
   },
   {
    "duration": 1041,
    "start_time": "2022-07-07T17:44:46.373Z"
   },
   {
    "duration": 36,
    "start_time": "2022-07-07T18:12:45.992Z"
   },
   {
    "duration": 36,
    "start_time": "2022-07-07T18:13:30.799Z"
   },
   {
    "duration": 36,
    "start_time": "2022-07-07T18:13:44.087Z"
   },
   {
    "duration": 5086,
    "start_time": "2022-07-07T18:15:55.926Z"
   },
   {
    "duration": 5228,
    "start_time": "2022-07-07T18:16:55.726Z"
   },
   {
    "duration": 190,
    "start_time": "2022-07-07T18:17:14.414Z"
   },
   {
    "duration": 5615,
    "start_time": "2022-07-07T18:17:24.526Z"
   },
   {
    "duration": 1173,
    "start_time": "2022-07-07T18:19:38.559Z"
   },
   {
    "duration": 179,
    "start_time": "2022-07-07T18:21:11.031Z"
   },
   {
    "duration": 81,
    "start_time": "2022-07-07T18:22:35.615Z"
   },
   {
    "duration": 5436,
    "start_time": "2022-07-07T18:22:39.497Z"
   },
   {
    "duration": 5291,
    "start_time": "2022-07-07T18:22:57.423Z"
   },
   {
    "duration": 5603,
    "start_time": "2022-07-07T18:23:52.064Z"
   },
   {
    "duration": 5773,
    "start_time": "2022-07-07T18:24:34.676Z"
   },
   {
    "duration": 5214,
    "start_time": "2022-07-07T18:26:58.625Z"
   },
   {
    "duration": 5429,
    "start_time": "2022-07-07T18:27:23.670Z"
   },
   {
    "duration": 5066,
    "start_time": "2022-07-07T18:27:34.829Z"
   },
   {
    "duration": 273,
    "start_time": "2022-07-07T18:29:20.798Z"
   },
   {
    "duration": 269,
    "start_time": "2022-07-07T18:30:05.376Z"
   },
   {
    "duration": 237,
    "start_time": "2022-07-07T18:30:13.769Z"
   },
   {
    "duration": 265,
    "start_time": "2022-07-07T18:30:29.508Z"
   },
   {
    "duration": 365,
    "start_time": "2022-07-07T18:31:05.934Z"
   },
   {
    "duration": 329,
    "start_time": "2022-07-07T18:36:06.168Z"
   },
   {
    "duration": 1242,
    "start_time": "2022-07-07T18:36:22.095Z"
   },
   {
    "duration": 6841,
    "start_time": "2022-07-07T18:36:27.377Z"
   },
   {
    "duration": 342,
    "start_time": "2022-07-07T18:36:34.220Z"
   },
   {
    "duration": 280,
    "start_time": "2022-07-07T18:36:46.890Z"
   },
   {
    "duration": 1344,
    "start_time": "2022-07-07T18:38:14.869Z"
   },
   {
    "duration": 147,
    "start_time": "2022-07-07T18:38:16.214Z"
   },
   {
    "duration": 22,
    "start_time": "2022-07-07T18:38:16.362Z"
   },
   {
    "duration": 43,
    "start_time": "2022-07-07T18:38:16.386Z"
   },
   {
    "duration": 135,
    "start_time": "2022-07-07T18:38:16.431Z"
   },
   {
    "duration": 20,
    "start_time": "2022-07-07T18:38:16.568Z"
   },
   {
    "duration": 40,
    "start_time": "2022-07-07T18:38:16.591Z"
   },
   {
    "duration": 131,
    "start_time": "2022-07-07T18:38:16.633Z"
   },
   {
    "duration": 19,
    "start_time": "2022-07-07T18:38:16.766Z"
   },
   {
    "duration": 53,
    "start_time": "2022-07-07T18:38:16.787Z"
   },
   {
    "duration": 146,
    "start_time": "2022-07-07T18:38:16.841Z"
   },
   {
    "duration": 10,
    "start_time": "2022-07-07T18:38:16.993Z"
   },
   {
    "duration": 5756,
    "start_time": "2022-07-07T18:38:17.004Z"
   },
   {
    "duration": 325,
    "start_time": "2022-07-07T18:38:22.764Z"
   },
   {
    "duration": 5307,
    "start_time": "2022-07-07T18:38:23.091Z"
   },
   {
    "duration": 293,
    "start_time": "2022-07-07T18:38:28.400Z"
   },
   {
    "duration": 5409,
    "start_time": "2022-07-07T18:38:28.695Z"
   },
   {
    "duration": 382,
    "start_time": "2022-07-07T18:38:34.107Z"
   },
   {
    "duration": 210,
    "start_time": "2022-07-07T18:38:34.492Z"
   },
   {
    "duration": 11,
    "start_time": "2022-07-07T18:38:34.704Z"
   },
   {
    "duration": 263,
    "start_time": "2022-07-07T18:38:34.717Z"
   },
   {
    "duration": 9,
    "start_time": "2022-07-07T18:38:34.981Z"
   },
   {
    "duration": 206,
    "start_time": "2022-07-07T18:38:34.993Z"
   },
   {
    "duration": 30,
    "start_time": "2022-07-07T18:38:35.200Z"
   },
   {
    "duration": 35,
    "start_time": "2022-07-07T18:38:35.232Z"
   },
   {
    "duration": 201,
    "start_time": "2022-07-07T18:38:35.269Z"
   },
   {
    "duration": 175,
    "start_time": "2022-07-07T18:38:35.473Z"
   },
   {
    "duration": 130,
    "start_time": "2022-07-07T18:38:35.657Z"
   },
   {
    "duration": 5,
    "start_time": "2022-07-07T18:38:35.789Z"
   },
   {
    "duration": 6,
    "start_time": "2022-07-07T18:38:35.795Z"
   },
   {
    "duration": 5,
    "start_time": "2022-07-07T18:38:35.803Z"
   },
   {
    "duration": 5,
    "start_time": "2022-07-07T18:38:35.809Z"
   },
   {
    "duration": 7,
    "start_time": "2022-07-07T18:38:35.816Z"
   },
   {
    "duration": 1278,
    "start_time": "2022-07-07T18:38:35.824Z"
   },
   {
    "duration": 1119,
    "start_time": "2022-07-07T18:38:37.104Z"
   },
   {
    "duration": 1183,
    "start_time": "2022-07-07T18:38:38.225Z"
   },
   {
    "duration": 1410,
    "start_time": "2022-07-07T18:42:36.169Z"
   },
   {
    "duration": 145,
    "start_time": "2022-07-07T18:42:37.583Z"
   },
   {
    "duration": 17,
    "start_time": "2022-07-07T18:42:37.729Z"
   },
   {
    "duration": 58,
    "start_time": "2022-07-07T18:42:37.748Z"
   },
   {
    "duration": 132,
    "start_time": "2022-07-07T18:42:37.808Z"
   },
   {
    "duration": 21,
    "start_time": "2022-07-07T18:42:37.942Z"
   },
   {
    "duration": 58,
    "start_time": "2022-07-07T18:42:37.965Z"
   },
   {
    "duration": 143,
    "start_time": "2022-07-07T18:42:38.025Z"
   },
   {
    "duration": 17,
    "start_time": "2022-07-07T18:42:38.170Z"
   },
   {
    "duration": 38,
    "start_time": "2022-07-07T18:42:38.191Z"
   },
   {
    "duration": 136,
    "start_time": "2022-07-07T18:42:38.230Z"
   },
   {
    "duration": 12,
    "start_time": "2022-07-07T18:42:38.369Z"
   },
   {
    "duration": 5255,
    "start_time": "2022-07-07T18:42:38.386Z"
   },
   {
    "duration": 316,
    "start_time": "2022-07-07T18:42:43.644Z"
   },
   {
    "duration": 5271,
    "start_time": "2022-07-07T18:42:43.961Z"
   },
   {
    "duration": 297,
    "start_time": "2022-07-07T18:42:49.234Z"
   },
   {
    "duration": 5260,
    "start_time": "2022-07-07T18:42:49.542Z"
   },
   {
    "duration": 314,
    "start_time": "2022-07-07T18:42:54.804Z"
   },
   {
    "duration": 188,
    "start_time": "2022-07-07T18:42:55.120Z"
   },
   {
    "duration": 10,
    "start_time": "2022-07-07T18:42:55.309Z"
   },
   {
    "duration": 189,
    "start_time": "2022-07-07T18:42:55.321Z"
   },
   {
    "duration": 5,
    "start_time": "2022-07-07T18:42:55.512Z"
   },
   {
    "duration": 183,
    "start_time": "2022-07-07T18:42:55.518Z"
   },
   {
    "duration": 50,
    "start_time": "2022-07-07T18:42:55.704Z"
   },
   {
    "duration": 34,
    "start_time": "2022-07-07T18:42:55.757Z"
   },
   {
    "duration": 79,
    "start_time": "2022-07-07T18:42:55.793Z"
   },
   {
    "duration": 168,
    "start_time": "2022-07-07T18:42:55.880Z"
   },
   {
    "duration": 87,
    "start_time": "2022-07-07T18:42:56.058Z"
   },
   {
    "duration": 38,
    "start_time": "2022-07-07T18:42:56.155Z"
   },
   {
    "duration": 10,
    "start_time": "2022-07-07T18:42:56.194Z"
   },
   {
    "duration": 13,
    "start_time": "2022-07-07T18:42:56.205Z"
   },
   {
    "duration": 11,
    "start_time": "2022-07-07T18:42:56.219Z"
   },
   {
    "duration": 7,
    "start_time": "2022-07-07T18:42:56.232Z"
   },
   {
    "duration": 1194,
    "start_time": "2022-07-07T18:42:56.240Z"
   },
   {
    "duration": 1168,
    "start_time": "2022-07-07T18:42:57.436Z"
   },
   {
    "duration": 1209,
    "start_time": "2022-07-07T18:42:58.606Z"
   },
   {
    "duration": 1400,
    "start_time": "2022-07-08T02:53:43.909Z"
   },
   {
    "duration": 137,
    "start_time": "2022-07-08T02:53:45.311Z"
   },
   {
    "duration": 13,
    "start_time": "2022-07-08T02:53:45.450Z"
   },
   {
    "duration": 35,
    "start_time": "2022-07-08T02:53:45.465Z"
   },
   {
    "duration": 131,
    "start_time": "2022-07-08T02:53:45.502Z"
   },
   {
    "duration": 15,
    "start_time": "2022-07-08T02:53:45.635Z"
   },
   {
    "duration": 35,
    "start_time": "2022-07-08T02:53:45.652Z"
   },
   {
    "duration": 135,
    "start_time": "2022-07-08T02:53:45.689Z"
   },
   {
    "duration": 12,
    "start_time": "2022-07-08T02:53:45.826Z"
   },
   {
    "duration": 34,
    "start_time": "2022-07-08T02:53:45.841Z"
   },
   {
    "duration": 129,
    "start_time": "2022-07-08T02:53:45.876Z"
   },
   {
    "duration": 8,
    "start_time": "2022-07-08T02:53:46.006Z"
   },
   {
    "duration": 4349,
    "start_time": "2022-07-08T02:53:46.024Z"
   },
   {
    "duration": 299,
    "start_time": "2022-07-08T02:53:50.375Z"
   },
   {
    "duration": 4153,
    "start_time": "2022-07-08T02:53:50.676Z"
   },
   {
    "duration": 299,
    "start_time": "2022-07-08T02:53:54.831Z"
   },
   {
    "duration": 4288,
    "start_time": "2022-07-08T02:53:55.132Z"
   },
   {
    "duration": 292,
    "start_time": "2022-07-08T02:53:59.423Z"
   },
   {
    "duration": 165,
    "start_time": "2022-07-08T02:53:59.717Z"
   },
   {
    "duration": 9,
    "start_time": "2022-07-08T02:53:59.884Z"
   },
   {
    "duration": 168,
    "start_time": "2022-07-08T02:53:59.895Z"
   },
   {
    "duration": 4,
    "start_time": "2022-07-08T02:54:00.065Z"
   },
   {
    "duration": 166,
    "start_time": "2022-07-08T02:54:00.071Z"
   },
   {
    "duration": 31,
    "start_time": "2022-07-08T02:54:00.238Z"
   },
   {
    "duration": 63,
    "start_time": "2022-07-08T02:54:00.271Z"
   },
   {
    "duration": 15,
    "start_time": "2022-07-08T02:54:00.424Z"
   },
   {
    "duration": 105,
    "start_time": "2022-07-08T02:54:00.524Z"
   },
   {
    "duration": 92,
    "start_time": "2022-07-08T02:54:00.634Z"
   },
   {
    "duration": 107,
    "start_time": "2022-07-08T02:54:00.729Z"
   },
   {
    "duration": 12,
    "start_time": "2022-07-08T02:54:00.838Z"
   },
   {
    "duration": 13,
    "start_time": "2022-07-08T02:54:00.851Z"
   },
   {
    "duration": 17,
    "start_time": "2022-07-08T02:54:00.865Z"
   },
   {
    "duration": 13,
    "start_time": "2022-07-08T02:54:00.884Z"
   },
   {
    "duration": 1053,
    "start_time": "2022-07-08T02:54:00.898Z"
   },
   {
    "duration": 1023,
    "start_time": "2022-07-08T02:54:01.954Z"
   },
   {
    "duration": 1032,
    "start_time": "2022-07-08T02:54:02.978Z"
   }
  ],
  "kernelspec": {
   "display_name": "Python 3 (ipykernel)",
   "language": "python",
   "name": "python3"
  },
  "language_info": {
   "codemirror_mode": {
    "name": "ipython",
    "version": 3
   },
   "file_extension": ".py",
   "mimetype": "text/x-python",
   "name": "python",
   "nbconvert_exporter": "python",
   "pygments_lexer": "ipython3",
   "version": "3.9.12"
  },
  "toc": {
   "base_numbering": 1,
   "nav_menu": {},
   "number_sections": true,
   "sideBar": true,
   "skip_h1_title": true,
   "title_cell": "Содержание",
   "title_sidebar": "Contents",
   "toc_cell": true,
   "toc_position": {
    "height": "calc(100% - 180px)",
    "left": "10px",
    "top": "150px",
    "width": "165px"
   },
   "toc_section_display": true,
   "toc_window_display": true
  }
 },
 "nbformat": 4,
 "nbformat_minor": 2
}
