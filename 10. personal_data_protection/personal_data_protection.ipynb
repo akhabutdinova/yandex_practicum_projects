{
 "cells": [
  {
   "cell_type": "markdown",
   "metadata": {},
   "source": [
    "# Защита персональных данных клиентов"
   ]
  },
  {
   "cell_type": "markdown",
   "metadata": {},
   "source": [
    "Вам нужно защитить данные клиентов страховой компании «Хоть потоп». Разработайте такой метод преобразования данных, чтобы по ним было сложно восстановить персональную информацию. Обоснуйте корректность его работы.\n",
    "\n",
    "Нужно защитить данные, чтобы при преобразовании качество моделей машинного обучения не ухудшилось. Подбирать наилучшую модель не требуется.\n",
    "\n",
    "**Цель работы:** защитить персональные данные клиентов страховой компании, чтобы при преобразовании качество моделей машинного обучения не ухудшилось.\n",
    "\n",
    "**Ход работы:**\n",
    "1. Загрузка и изучение данных.\n",
    "2. Ответ и обоснование: Признаки умножают на обратимую матрицу. Изменится ли качество линейной регрессии?\n",
    "3. Алгоритм преобразования.\n",
    "4. Проверка алгоритма."
   ]
  },
  {
   "cell_type": "markdown",
   "metadata": {},
   "source": [
    "## Загрузка данных"
   ]
  },
  {
   "cell_type": "markdown",
   "metadata": {},
   "source": [
    "Импортируем необходимые в работе библиотеки."
   ]
  },
  {
   "cell_type": "code",
   "execution_count": 1,
   "metadata": {},
   "outputs": [],
   "source": [
    "import pandas as pd\n",
    "import seaborn as sns\n",
    "import numpy as np\n",
    "from sklearn.linear_model import LinearRegression\n",
    "from sklearn.metrics import r2_score\n",
    "from sklearn.model_selection import train_test_split"
   ]
  },
  {
   "cell_type": "markdown",
   "metadata": {},
   "source": [
    "Загрузим и изучим предоставленные данные."
   ]
  },
  {
   "cell_type": "code",
   "execution_count": 2,
   "metadata": {},
   "outputs": [
    {
     "data": {
      "text/html": [
       "<div>\n",
       "<style scoped>\n",
       "    .dataframe tbody tr th:only-of-type {\n",
       "        vertical-align: middle;\n",
       "    }\n",
       "\n",
       "    .dataframe tbody tr th {\n",
       "        vertical-align: top;\n",
       "    }\n",
       "\n",
       "    .dataframe thead th {\n",
       "        text-align: right;\n",
       "    }\n",
       "</style>\n",
       "<table border=\"1\" class=\"dataframe\">\n",
       "  <thead>\n",
       "    <tr style=\"text-align: right;\">\n",
       "      <th></th>\n",
       "      <th>Пол</th>\n",
       "      <th>Возраст</th>\n",
       "      <th>Зарплата</th>\n",
       "      <th>Члены семьи</th>\n",
       "      <th>Страховые выплаты</th>\n",
       "    </tr>\n",
       "  </thead>\n",
       "  <tbody>\n",
       "    <tr>\n",
       "      <th>0</th>\n",
       "      <td>1</td>\n",
       "      <td>41.0</td>\n",
       "      <td>49600.0</td>\n",
       "      <td>1</td>\n",
       "      <td>0</td>\n",
       "    </tr>\n",
       "    <tr>\n",
       "      <th>1</th>\n",
       "      <td>0</td>\n",
       "      <td>46.0</td>\n",
       "      <td>38000.0</td>\n",
       "      <td>1</td>\n",
       "      <td>1</td>\n",
       "    </tr>\n",
       "    <tr>\n",
       "      <th>2</th>\n",
       "      <td>0</td>\n",
       "      <td>29.0</td>\n",
       "      <td>21000.0</td>\n",
       "      <td>0</td>\n",
       "      <td>0</td>\n",
       "    </tr>\n",
       "    <tr>\n",
       "      <th>3</th>\n",
       "      <td>0</td>\n",
       "      <td>21.0</td>\n",
       "      <td>41700.0</td>\n",
       "      <td>2</td>\n",
       "      <td>0</td>\n",
       "    </tr>\n",
       "    <tr>\n",
       "      <th>4</th>\n",
       "      <td>1</td>\n",
       "      <td>28.0</td>\n",
       "      <td>26100.0</td>\n",
       "      <td>0</td>\n",
       "      <td>0</td>\n",
       "    </tr>\n",
       "  </tbody>\n",
       "</table>\n",
       "</div>"
      ],
      "text/plain": [
       "   Пол  Возраст  Зарплата  Члены семьи  Страховые выплаты\n",
       "0    1     41.0   49600.0            1                  0\n",
       "1    0     46.0   38000.0            1                  1\n",
       "2    0     29.0   21000.0            0                  0\n",
       "3    0     21.0   41700.0            2                  0\n",
       "4    1     28.0   26100.0            0                  0"
      ]
     },
     "execution_count": 2,
     "metadata": {},
     "output_type": "execute_result"
    }
   ],
   "source": [
    "#чтение файла, вывод первых 5 строк\n",
    "data = pd.read_csv('/datasets/insurance.csv')\n",
    "data.head()"
   ]
  },
  {
   "cell_type": "code",
   "execution_count": 3,
   "metadata": {},
   "outputs": [
    {
     "name": "stdout",
     "output_type": "stream",
     "text": [
      "<class 'pandas.core.frame.DataFrame'>\n",
      "RangeIndex: 5000 entries, 0 to 4999\n",
      "Data columns (total 5 columns):\n",
      " #   Column             Non-Null Count  Dtype  \n",
      "---  ------             --------------  -----  \n",
      " 0   Пол                5000 non-null   int64  \n",
      " 1   Возраст            5000 non-null   float64\n",
      " 2   Зарплата           5000 non-null   float64\n",
      " 3   Члены семьи        5000 non-null   int64  \n",
      " 4   Страховые выплаты  5000 non-null   int64  \n",
      "dtypes: float64(2), int64(3)\n",
      "memory usage: 195.4 KB\n"
     ]
    }
   ],
   "source": [
    "#получение информации о данных\n",
    "data.info()"
   ]
  },
  {
   "cell_type": "markdown",
   "metadata": {},
   "source": [
    "В таблице 4 признака и 1 целевой признак. \n",
    "\n",
    "**Признаки:**\n",
    "* `Пол` (тип данных `int`);\n",
    "* `Возраст` (тип данных `float`);\n",
    "* `Зарплата` (тип данных `float`);\n",
    "* `Члены семьи` (тип данных `int`).\n",
    "\n",
    "**Целевой признак:**\n",
    "* `Страховые выплаты` (тип данных `int`).\n",
    "\n",
    "Все типы данных указаны верно, пропусков в таблице нет. Рассмотрим описательные характеристики данных."
   ]
  },
  {
   "cell_type": "code",
   "execution_count": 4,
   "metadata": {},
   "outputs": [
    {
     "data": {
      "text/html": [
       "<div>\n",
       "<style scoped>\n",
       "    .dataframe tbody tr th:only-of-type {\n",
       "        vertical-align: middle;\n",
       "    }\n",
       "\n",
       "    .dataframe tbody tr th {\n",
       "        vertical-align: top;\n",
       "    }\n",
       "\n",
       "    .dataframe thead th {\n",
       "        text-align: right;\n",
       "    }\n",
       "</style>\n",
       "<table border=\"1\" class=\"dataframe\">\n",
       "  <thead>\n",
       "    <tr style=\"text-align: right;\">\n",
       "      <th></th>\n",
       "      <th>Пол</th>\n",
       "      <th>Возраст</th>\n",
       "      <th>Зарплата</th>\n",
       "      <th>Члены семьи</th>\n",
       "      <th>Страховые выплаты</th>\n",
       "    </tr>\n",
       "  </thead>\n",
       "  <tbody>\n",
       "    <tr>\n",
       "      <th>count</th>\n",
       "      <td>5000.000000</td>\n",
       "      <td>5000.000000</td>\n",
       "      <td>5000.000000</td>\n",
       "      <td>5000.000000</td>\n",
       "      <td>5000.000000</td>\n",
       "    </tr>\n",
       "    <tr>\n",
       "      <th>mean</th>\n",
       "      <td>0.499000</td>\n",
       "      <td>30.952800</td>\n",
       "      <td>39916.360000</td>\n",
       "      <td>1.194200</td>\n",
       "      <td>0.148000</td>\n",
       "    </tr>\n",
       "    <tr>\n",
       "      <th>std</th>\n",
       "      <td>0.500049</td>\n",
       "      <td>8.440807</td>\n",
       "      <td>9900.083569</td>\n",
       "      <td>1.091387</td>\n",
       "      <td>0.463183</td>\n",
       "    </tr>\n",
       "    <tr>\n",
       "      <th>min</th>\n",
       "      <td>0.000000</td>\n",
       "      <td>18.000000</td>\n",
       "      <td>5300.000000</td>\n",
       "      <td>0.000000</td>\n",
       "      <td>0.000000</td>\n",
       "    </tr>\n",
       "    <tr>\n",
       "      <th>25%</th>\n",
       "      <td>0.000000</td>\n",
       "      <td>24.000000</td>\n",
       "      <td>33300.000000</td>\n",
       "      <td>0.000000</td>\n",
       "      <td>0.000000</td>\n",
       "    </tr>\n",
       "    <tr>\n",
       "      <th>50%</th>\n",
       "      <td>0.000000</td>\n",
       "      <td>30.000000</td>\n",
       "      <td>40200.000000</td>\n",
       "      <td>1.000000</td>\n",
       "      <td>0.000000</td>\n",
       "    </tr>\n",
       "    <tr>\n",
       "      <th>75%</th>\n",
       "      <td>1.000000</td>\n",
       "      <td>37.000000</td>\n",
       "      <td>46600.000000</td>\n",
       "      <td>2.000000</td>\n",
       "      <td>0.000000</td>\n",
       "    </tr>\n",
       "    <tr>\n",
       "      <th>max</th>\n",
       "      <td>1.000000</td>\n",
       "      <td>65.000000</td>\n",
       "      <td>79000.000000</td>\n",
       "      <td>6.000000</td>\n",
       "      <td>5.000000</td>\n",
       "    </tr>\n",
       "  </tbody>\n",
       "</table>\n",
       "</div>"
      ],
      "text/plain": [
       "               Пол      Возраст      Зарплата  Члены семьи  Страховые выплаты\n",
       "count  5000.000000  5000.000000   5000.000000  5000.000000        5000.000000\n",
       "mean      0.499000    30.952800  39916.360000     1.194200           0.148000\n",
       "std       0.500049     8.440807   9900.083569     1.091387           0.463183\n",
       "min       0.000000    18.000000   5300.000000     0.000000           0.000000\n",
       "25%       0.000000    24.000000  33300.000000     0.000000           0.000000\n",
       "50%       0.000000    30.000000  40200.000000     1.000000           0.000000\n",
       "75%       1.000000    37.000000  46600.000000     2.000000           0.000000\n",
       "max       1.000000    65.000000  79000.000000     6.000000           5.000000"
      ]
     },
     "execution_count": 4,
     "metadata": {},
     "output_type": "execute_result"
    }
   ],
   "source": [
    "#описательные характеристики\n",
    "data.describe()"
   ]
  },
  {
   "cell_type": "markdown",
   "metadata": {},
   "source": [
    "Построим тепловую карту коэффициентов корреляции Пирсона и посмотрим, не коррелируют ли признаки между собой."
   ]
  },
  {
   "cell_type": "code",
   "execution_count": 5,
   "metadata": {},
   "outputs": [
    {
     "data": {
      "image/png": "[encoded data removed]",
      "text/plain": [
       "<Figure size 432x288 with 2 Axes>"
      ]
     },
     "metadata": {
      "needs_background": "light"
     },
     "output_type": "display_data"
    }
   ],
   "source": [
    "#тепловая карта коэффициентов корреляции Пирсона\n",
    "sns.heatmap(data.corr(), annot=True);"
   ]
  },
  {
   "cell_type": "markdown",
   "metadata": {},
   "source": [
    "Признаки `Возраст` и `Страховые выплаты` довольно сильно связаны между собой. "
   ]
  },
  {
   "cell_type": "markdown",
   "metadata": {},
   "source": [
    "## Умножение матриц"
   ]
  },
  {
   "cell_type": "markdown",
   "metadata": {},
   "source": [
    "**Задача:** Признаки умножают на обратимую матрицу. Изменится ли качество линейной регрессии?"
   ]
  },
  {
   "cell_type": "markdown",
   "metadata": {},
   "source": [
    "Обозначения:\n",
    "\n",
    "- $X$ — матрица признаков (нулевой столбец состоит из единиц)\n",
    "\n",
    "- $y$ — вектор целевого признака\n",
    "\n",
    "- $P$ — матрица, на которую умножаются признаки\n",
    "\n",
    "- $w$ — вектор весов линейной регрессии (нулевой элемент равен сдвигу)"
   ]
  },
  {
   "cell_type": "markdown",
   "metadata": {},
   "source": [
    "Предсказания:\n",
    "\n",
    "$$\n",
    "a = Xw\n",
    "$$\n",
    "\n",
    "Задача обучения:\n",
    "\n",
    "$$\n",
    "w = \\arg\\min_w MSE(Xw, y)\n",
    "$$\n",
    "\n",
    "Формула обучения:\n",
    "\n",
    "$$\n",
    "w = (X^T X)^{-1} X^T y\n",
    "$$"
   ]
  },
  {
   "cell_type": "markdown",
   "metadata": {},
   "source": [
    "**Ответ:** качество линейной регрессии не изменится\n",
    "\n",
    "**Обоснование:** \n",
    "\n",
    "Чтобы размерности предсказаний, признаков и весов не пострадали, матрица $P$, на которую умножаются признаки, должна быть квадратной, иными словами, если матрица признаков $X$ имеет размерность mxn, то матрица $P$ должна иметь размерность nxn.\n",
    "\n",
    "Обратимся к формуле обучения:\n",
    "\n",
    "$$\n",
    "w = (X^T X)^{-1} X^T y\n",
    "$$\n",
    "\n",
    "Умножим матрицу признаков на матрицу $P$, получим новый вектор весов $w_{1}$:\n",
    "\n",
    "$$\n",
    "w_{1} = ((X P)^T X P)^{-1} (X P)^T y\n",
    "$$\n",
    "\n",
    "Используем свойство транспонирования матриц:\n",
    "\n",
    "$$\n",
    "(A B)^T = B^T A^T\n",
    "$$\n",
    "\n",
    "$$\n",
    "w_{1} = (P^T X^T X P)^{-1} P^T X^T y\n",
    "$$\n",
    "\n",
    "Воспользуемся свойством ассоциативности умножения, расставим скобки:\n",
    "\n",
    "$$\n",
    "w_{1} = (P^T ((X^T X) P))^{-1} P^T X^T y\n",
    "$$\n",
    "\n",
    "$P^T$, $X^T X$, $P$ - квадратные матрицы, потому можно применить следующее свойство:\n",
    "\n",
    "$$\n",
    "(A B)^{-1} = B^{-1} A^{-1}\n",
    "$$\n",
    "\n",
    "$$\n",
    "w_{1} = ((X^T X) P)^{-1} (P^T)^{-1} P^T X^T y\n",
    "$$\n",
    "\n",
    "$$\n",
    "w_{1} = P^{-1} (X^T X)^{-1} (P^T)^{-1} P^T X^T y\n",
    "$$\n",
    "\n",
    "$(P^T)^{-1} P^T$ - это единичная матрица\n",
    "\n",
    "$$\n",
    "w_{1} = P^{-1} (X^T X)^{-1} X^T y\n",
    "$$\n",
    "\n",
    "$$\n",
    "w_{1} = P^{-1} w\n",
    "$$\n",
    "\n",
    "Получим новые предсказания $a_{1}$:\n",
    "\n",
    "$$\n",
    "a_{1} = X P w_{1}\n",
    "$$\n",
    "\n",
    "$$\n",
    "a_{1} = X P P^{-1} w\n",
    "$$\n",
    "\n",
    "$P P^{-1}$ - единичная матрица\n",
    "\n",
    "$$\n",
    "a_{1} = X w = a\n",
    "$$\n",
    "\n",
    "Значения предсказаний не изменились, следовательно, качество линейной регрессии не изменится."
   ]
  },
  {
   "cell_type": "markdown",
   "metadata": {},
   "source": [
    "## Алгоритм преобразования"
   ]
  },
  {
   "cell_type": "markdown",
   "metadata": {},
   "source": [
    "**Алгоритм**\n",
    "\n",
    "Защитим данные пользователей при помощи умножения признаков $X$ на обратимую матрицу $P$. Обучим и протестируем модель линейной регрессии на обычных признаках $X$ и зашифрованных $X P$,  сравним предсказания и метрики R2."
   ]
  },
  {
   "cell_type": "markdown",
   "metadata": {},
   "source": [
    "**Обоснование**\n",
    "\n",
    "Если доказательство шагом ранее верно, то предсказания на обычных признаках и зашифрованных не будут отличаться."
   ]
  },
  {
   "cell_type": "markdown",
   "metadata": {},
   "source": [
    "## Проверка алгоритма"
   ]
  },
  {
   "cell_type": "markdown",
   "metadata": {},
   "source": [
    "Разделим выборку на признаки и целевой признак."
   ]
  },
  {
   "cell_type": "code",
   "execution_count": 6,
   "metadata": {},
   "outputs": [],
   "source": [
    "#деление на признаки и целевой признак\n",
    "X = data.drop('Страховые выплаты', axis=1)\n",
    "y = data['Страховые выплаты']"
   ]
  },
  {
   "cell_type": "markdown",
   "metadata": {},
   "source": [
    "Разделим выборку на обучающую и тестовую."
   ]
  },
  {
   "cell_type": "code",
   "execution_count": 7,
   "metadata": {
    "scrolled": false
   },
   "outputs": [
    {
     "name": "stdout",
     "output_type": "stream",
     "text": [
      "(3750, 4) (1250, 4) (3750,) (1250,)\n"
     ]
    }
   ],
   "source": [
    "#деление на обучающую и тестовую выборки\n",
    "X_train, X_test, y_train, y_test = train_test_split(X, y, test_size=0.25, random_state=12345)\n",
    "#проверка размеров\n",
    "print(X_train.shape, X_test.shape, y_train.shape, y_test.shape)"
   ]
  },
  {
   "cell_type": "markdown",
   "metadata": {},
   "source": [
    "Найдем подходящую обратимую матрицу для шифрования признаков."
   ]
  },
  {
   "cell_type": "code",
   "execution_count": 8,
   "metadata": {},
   "outputs": [],
   "source": [
    "while True:\n",
    "    P = np.random.rand(X.shape[1], X.shape[1])\n",
    "    try:\n",
    "        np.linalg.inv(P)\n",
    "        break\n",
    "    except:\n",
    "        continue"
   ]
  },
  {
   "cell_type": "markdown",
   "metadata": {},
   "source": [
    "Зашифруем признаки."
   ]
  },
  {
   "cell_type": "code",
   "execution_count": 9,
   "metadata": {},
   "outputs": [
    {
     "name": "stdout",
     "output_type": "stream",
     "text": [
      "(3750, 4) (1250, 4) (3750,) (1250,)\n"
     ]
    }
   ],
   "source": [
    "#шифруем признаки\n",
    "X_encoded = X @ P\n",
    "#деление на обучающую и тестовую выборки\n",
    "X_train_enc, X_test_enc, y_train, y_test = train_test_split(X_encoded, y, test_size=0.25, random_state=12345)\n",
    "#проверка размеров\n",
    "print(X_train_enc.shape, X_test_enc.shape, y_train.shape, y_test.shape)"
   ]
  },
  {
   "cell_type": "markdown",
   "metadata": {},
   "source": [
    "Обучим модель линейной регрессии до и после шифрования данных и проверим ее при помощи метрики R2."
   ]
  },
  {
   "cell_type": "code",
   "execution_count": 10,
   "metadata": {},
   "outputs": [
    {
     "name": "stdout",
     "output_type": "stream",
     "text": [
      "R2-score для незашифрованной выборки: 0.4352\n",
      "R2-score для зашифрованной выборки: 0.4352\n"
     ]
    }
   ],
   "source": [
    "model = LinearRegression()\n",
    "#обучаем модель на признаках до шифрования\n",
    "model.fit(X_train, y_train)\n",
    "predictions = model.predict(X_test)\n",
    "print('R2-score для незашифрованной выборки:', round(r2_score(y_test, predictions), 4))\n",
    "\n",
    "#обучаем модель на признаках после шифрования\n",
    "model.fit(X_train_enc, y_train)\n",
    "predictions_enc = model.predict(X_test_enc)\n",
    "print('R2-score для зашифрованной выборки:', round(r2_score(y_test, predictions_enc), 4))"
   ]
  },
  {
   "cell_type": "markdown",
   "metadata": {},
   "source": [
    "Метрики R2 равны, следовательно, качество предсказания линейной регрессии после шифрования данных не изменилось."
   ]
  },
  {
   "cell_type": "markdown",
   "metadata": {},
   "source": [
    "## Вывод"
   ]
  },
  {
   "cell_type": "markdown",
   "metadata": {},
   "source": [
    "В ходе данной работы были загружены и изучены данные клиентов страховой компании, был предложен алгоритм защиты персональных данных клиентов. Алгоритм был проверен на модели линейной регрессии, качество предсказаний после шифрования не изменилось."
   ]
  }
 ],
 "metadata": {
  "ExecuteTimeLog": [
   {
    "duration": 437,
    "start_time": "2022-07-28T17:06:34.125Z"
   },
   {
    "duration": 80,
    "start_time": "2022-07-28T17:07:20.829Z"
   },
   {
    "duration": 35,
    "start_time": "2022-07-28T17:08:44.162Z"
   },
   {
    "duration": 11,
    "start_time": "2022-07-28T17:09:07.880Z"
   },
   {
    "duration": 23,
    "start_time": "2022-07-28T17:16:52.455Z"
   },
   {
    "duration": 924,
    "start_time": "2022-07-28T17:19:23.897Z"
   },
   {
    "duration": 410,
    "start_time": "2022-07-28T17:21:00.500Z"
   },
   {
    "duration": 732,
    "start_time": "2022-07-28T18:56:45.421Z"
   },
   {
    "duration": 7,
    "start_time": "2022-07-28T18:56:51.044Z"
   },
   {
    "duration": 17,
    "start_time": "2022-07-28T19:01:45.676Z"
   },
   {
    "duration": 836,
    "start_time": "2022-07-28T19:01:53.103Z"
   },
   {
    "duration": 4,
    "start_time": "2022-07-28T19:02:01.918Z"
   },
   {
    "duration": 8,
    "start_time": "2022-07-28T19:03:43.272Z"
   },
   {
    "duration": 22,
    "start_time": "2022-07-28T19:11:05.212Z"
   },
   {
    "duration": 4,
    "start_time": "2022-07-28T19:14:03.570Z"
   },
   {
    "duration": 5,
    "start_time": "2022-07-28T19:16:16.834Z"
   },
   {
    "duration": 1325,
    "start_time": "2022-07-28T19:30:07.714Z"
   },
   {
    "duration": 38,
    "start_time": "2022-07-28T19:30:09.041Z"
   },
   {
    "duration": 11,
    "start_time": "2022-07-28T19:30:09.081Z"
   },
   {
    "duration": 28,
    "start_time": "2022-07-28T19:30:09.094Z"
   },
   {
    "duration": 393,
    "start_time": "2022-07-28T19:30:09.124Z"
   },
   {
    "duration": 4,
    "start_time": "2022-07-28T19:30:09.518Z"
   },
   {
    "duration": 14,
    "start_time": "2022-07-28T19:30:09.524Z"
   },
   {
    "duration": 22,
    "start_time": "2022-07-28T19:30:09.540Z"
   },
   {
    "duration": 3,
    "start_time": "2022-07-28T19:33:17.662Z"
   },
   {
    "duration": 7,
    "start_time": "2022-07-28T19:34:33.649Z"
   },
   {
    "duration": 7,
    "start_time": "2022-07-28T19:38:05.186Z"
   },
   {
    "duration": 13,
    "start_time": "2022-07-28T19:39:41.634Z"
   },
   {
    "duration": 9,
    "start_time": "2022-07-28T19:39:56.187Z"
   },
   {
    "duration": 15,
    "start_time": "2022-07-28T19:40:53.742Z"
   },
   {
    "duration": 14,
    "start_time": "2022-07-28T19:41:21.941Z"
   },
   {
    "duration": 1371,
    "start_time": "2022-07-28T19:55:18.131Z"
   },
   {
    "duration": 38,
    "start_time": "2022-07-28T19:55:19.504Z"
   },
   {
    "duration": 10,
    "start_time": "2022-07-28T19:55:19.544Z"
   },
   {
    "duration": 27,
    "start_time": "2022-07-28T19:55:19.556Z"
   },
   {
    "duration": 385,
    "start_time": "2022-07-28T19:55:19.584Z"
   },
   {
    "duration": 5,
    "start_time": "2022-07-28T19:55:19.970Z"
   },
   {
    "duration": 9,
    "start_time": "2022-07-28T19:55:19.976Z"
   },
   {
    "duration": 8,
    "start_time": "2022-07-28T19:55:19.986Z"
   },
   {
    "duration": 68,
    "start_time": "2022-07-28T19:55:19.996Z"
   },
   {
    "duration": 99,
    "start_time": "2022-07-28T19:55:20.068Z"
   },
   {
    "duration": 1822,
    "start_time": "2022-07-29T05:35:05.036Z"
   },
   {
    "duration": 37,
    "start_time": "2022-07-29T05:35:06.859Z"
   },
   {
    "duration": 11,
    "start_time": "2022-07-29T05:35:06.897Z"
   },
   {
    "duration": 23,
    "start_time": "2022-07-29T05:35:06.910Z"
   },
   {
    "duration": 387,
    "start_time": "2022-07-29T05:35:06.934Z"
   },
   {
    "duration": 4,
    "start_time": "2022-07-29T05:35:07.323Z"
   },
   {
    "duration": 11,
    "start_time": "2022-07-29T05:35:07.328Z"
   },
   {
    "duration": 1541,
    "start_time": "2022-07-29T05:41:03.849Z"
   },
   {
    "duration": 37,
    "start_time": "2022-07-29T05:41:05.392Z"
   },
   {
    "duration": 11,
    "start_time": "2022-07-29T05:41:05.431Z"
   },
   {
    "duration": 24,
    "start_time": "2022-07-29T05:41:05.444Z"
   },
   {
    "duration": 355,
    "start_time": "2022-07-29T05:41:05.469Z"
   },
   {
    "duration": 3,
    "start_time": "2022-07-29T05:41:05.826Z"
   },
   {
    "duration": 9,
    "start_time": "2022-07-29T05:41:05.831Z"
   },
   {
    "duration": 20,
    "start_time": "2022-07-29T05:41:05.842Z"
   },
   {
    "duration": 18,
    "start_time": "2022-07-29T05:41:05.864Z"
   },
   {
    "duration": 178,
    "start_time": "2022-07-29T05:41:05.885Z"
   },
   {
    "duration": 112,
    "start_time": "2022-07-29T05:41:06.064Z"
   },
   {
    "duration": 5,
    "start_time": "2022-07-29T05:41:11.643Z"
   },
   {
    "duration": 5,
    "start_time": "2022-07-29T05:41:20.091Z"
   },
   {
    "duration": 4,
    "start_time": "2022-07-29T05:43:55.867Z"
   },
   {
    "duration": 1628,
    "start_time": "2022-07-29T06:07:02.729Z"
   },
   {
    "duration": 87,
    "start_time": "2022-07-29T06:07:04.359Z"
   },
   {
    "duration": 13,
    "start_time": "2022-07-29T06:07:04.448Z"
   },
   {
    "duration": 35,
    "start_time": "2022-07-29T06:07:04.464Z"
   },
   {
    "duration": 424,
    "start_time": "2022-07-29T06:07:04.501Z"
   },
   {
    "duration": 4,
    "start_time": "2022-07-29T06:07:04.927Z"
   },
   {
    "duration": 34,
    "start_time": "2022-07-29T06:07:04.932Z"
   },
   {
    "duration": 10,
    "start_time": "2022-07-29T06:07:04.968Z"
   },
   {
    "duration": 51,
    "start_time": "2022-07-29T06:07:04.980Z"
   },
   {
    "duration": 308,
    "start_time": "2022-07-29T06:07:05.034Z"
   },
   {
    "duration": 1306,
    "start_time": "2022-07-29T06:14:37.986Z"
   },
   {
    "duration": 37,
    "start_time": "2022-07-29T06:14:39.294Z"
   },
   {
    "duration": 10,
    "start_time": "2022-07-29T06:14:39.332Z"
   },
   {
    "duration": 30,
    "start_time": "2022-07-29T06:14:39.344Z"
   },
   {
    "duration": 354,
    "start_time": "2022-07-29T06:14:39.376Z"
   },
   {
    "duration": 4,
    "start_time": "2022-07-29T06:14:39.731Z"
   },
   {
    "duration": 17,
    "start_time": "2022-07-29T06:14:39.736Z"
   },
   {
    "duration": 8,
    "start_time": "2022-07-29T06:14:39.755Z"
   },
   {
    "duration": 62,
    "start_time": "2022-07-29T06:14:39.764Z"
   },
   {
    "duration": 98,
    "start_time": "2022-07-29T06:14:39.829Z"
   }
  ],
  "kernelspec": {
   "display_name": "Python 3 (ipykernel)",
   "language": "python",
   "name": "python3"
  },
  "language_info": {
   "codemirror_mode": {
    "name": "ipython",
    "version": 3
   },
   "file_extension": ".py",
   "mimetype": "text/x-python",
   "name": "python",
   "nbconvert_exporter": "python",
   "pygments_lexer": "ipython3",
   "version": "3.9.12"
  },
  "toc": {
   "base_numbering": 1,
   "nav_menu": {},
   "number_sections": true,
   "sideBar": true,
   "skip_h1_title": true,
   "title_cell": "Содержание",
   "title_sidebar": "Contents",
   "toc_cell": true,
   "toc_position": {},
   "toc_section_display": true,
   "toc_window_display": true
  }
 },
 "nbformat": 4,
 "nbformat_minor": 2
}
