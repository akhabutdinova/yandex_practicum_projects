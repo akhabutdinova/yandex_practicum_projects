{
 "cells": [
  {
   "cell_type": "markdown",
   "metadata": {},
   "source": [
    "# Определение стоимости автомобилей"
   ]
  },
  {
   "cell_type": "markdown",
   "metadata": {},
   "source": [
    "Сервис по продаже автомобилей с пробегом «Не бит, не крашен» разрабатывает приложение для привлечения новых клиентов. В нём можно быстро узнать рыночную стоимость своего автомобиля. В вашем распоряжении исторические данные: технические характеристики, комплектации и цены автомобилей. Вам нужно построить модель для определения стоимости. \n",
    "\n",
    "Заказчику важны:\n",
    "\n",
    "- качество предсказания;\n",
    "- скорость предсказания;\n",
    "- время обучения.\n",
    "\n",
    "**Цель работы:** построить модель, которая умеет определять рыночную стоимость автомобиля.\n",
    "\n",
    "**Ход работы:**\n",
    "1. Подготовка данных;\n",
    "2. Обучение моделей;\n",
    "3. Анализ моделей."
   ]
  },
  {
   "cell_type": "markdown",
   "metadata": {},
   "source": [
    "## Подготовка данных"
   ]
  },
  {
   "cell_type": "markdown",
   "metadata": {},
   "source": [
    "### Обзор данных"
   ]
  },
  {
   "cell_type": "markdown",
   "metadata": {},
   "source": [
    "Импортируем необходимые библиотеки."
   ]
  },
  {
   "cell_type": "code",
   "execution_count": 1,
   "metadata": {},
   "outputs": [],
   "source": [
    "import pandas as pd\n",
    "import seaborn as sns\n",
    "import time\n",
    "import matplotlib.pyplot as plt\n",
    "from sklearn.model_selection import train_test_split\n",
    "from sklearn.preprocessing import StandardScaler\n",
    "from sklearn.tree import DecisionTreeRegressor\n",
    "from sklearn.ensemble import RandomForestRegressor\n",
    "from sklearn.linear_model import LinearRegression\n",
    "from sklearn.model_selection import RandomizedSearchCV\n",
    "from lightgbm import LGBMRegressor\n",
    "from catboost import CatBoostRegressor\n",
    "from sklearn.metrics import mean_squared_error\n",
    "from sklearn.dummy import DummyRegressor"
   ]
  },
  {
   "cell_type": "markdown",
   "metadata": {},
   "source": [
    "Загрузим данные и изучим их."
   ]
  },
  {
   "cell_type": "code",
   "execution_count": 2,
   "metadata": {},
   "outputs": [
    {
     "data": {
      "text/html": [
       "<div>\n",
       "<style scoped>\n",
       "    .dataframe tbody tr th:only-of-type {\n",
       "        vertical-align: middle;\n",
       "    }\n",
       "\n",
       "    .dataframe tbody tr th {\n",
       "        vertical-align: top;\n",
       "    }\n",
       "\n",
       "    .dataframe thead th {\n",
       "        text-align: right;\n",
       "    }\n",
       "</style>\n",
       "<table border=\"1\" class=\"dataframe\">\n",
       "  <thead>\n",
       "    <tr style=\"text-align: right;\">\n",
       "      <th></th>\n",
       "      <th>DateCrawled</th>\n",
       "      <th>Price</th>\n",
       "      <th>VehicleType</th>\n",
       "      <th>RegistrationYear</th>\n",
       "      <th>Gearbox</th>\n",
       "      <th>Power</th>\n",
       "      <th>Model</th>\n",
       "      <th>Kilometer</th>\n",
       "      <th>RegistrationMonth</th>\n",
       "      <th>FuelType</th>\n",
       "      <th>Brand</th>\n",
       "      <th>NotRepaired</th>\n",
       "      <th>DateCreated</th>\n",
       "      <th>NumberOfPictures</th>\n",
       "      <th>PostalCode</th>\n",
       "      <th>LastSeen</th>\n",
       "    </tr>\n",
       "  </thead>\n",
       "  <tbody>\n",
       "    <tr>\n",
       "      <th>0</th>\n",
       "      <td>2016-03-24 11:52:17</td>\n",
       "      <td>480</td>\n",
       "      <td>NaN</td>\n",
       "      <td>1993</td>\n",
       "      <td>manual</td>\n",
       "      <td>0</td>\n",
       "      <td>golf</td>\n",
       "      <td>150000</td>\n",
       "      <td>0</td>\n",
       "      <td>petrol</td>\n",
       "      <td>volkswagen</td>\n",
       "      <td>NaN</td>\n",
       "      <td>2016-03-24 00:00:00</td>\n",
       "      <td>0</td>\n",
       "      <td>70435</td>\n",
       "      <td>2016-04-07 03:16:57</td>\n",
       "    </tr>\n",
       "    <tr>\n",
       "      <th>1</th>\n",
       "      <td>2016-03-24 10:58:45</td>\n",
       "      <td>18300</td>\n",
       "      <td>coupe</td>\n",
       "      <td>2011</td>\n",
       "      <td>manual</td>\n",
       "      <td>190</td>\n",
       "      <td>NaN</td>\n",
       "      <td>125000</td>\n",
       "      <td>5</td>\n",
       "      <td>gasoline</td>\n",
       "      <td>audi</td>\n",
       "      <td>yes</td>\n",
       "      <td>2016-03-24 00:00:00</td>\n",
       "      <td>0</td>\n",
       "      <td>66954</td>\n",
       "      <td>2016-04-07 01:46:50</td>\n",
       "    </tr>\n",
       "    <tr>\n",
       "      <th>2</th>\n",
       "      <td>2016-03-14 12:52:21</td>\n",
       "      <td>9800</td>\n",
       "      <td>suv</td>\n",
       "      <td>2004</td>\n",
       "      <td>auto</td>\n",
       "      <td>163</td>\n",
       "      <td>grand</td>\n",
       "      <td>125000</td>\n",
       "      <td>8</td>\n",
       "      <td>gasoline</td>\n",
       "      <td>jeep</td>\n",
       "      <td>NaN</td>\n",
       "      <td>2016-03-14 00:00:00</td>\n",
       "      <td>0</td>\n",
       "      <td>90480</td>\n",
       "      <td>2016-04-05 12:47:46</td>\n",
       "    </tr>\n",
       "    <tr>\n",
       "      <th>3</th>\n",
       "      <td>2016-03-17 16:54:04</td>\n",
       "      <td>1500</td>\n",
       "      <td>small</td>\n",
       "      <td>2001</td>\n",
       "      <td>manual</td>\n",
       "      <td>75</td>\n",
       "      <td>golf</td>\n",
       "      <td>150000</td>\n",
       "      <td>6</td>\n",
       "      <td>petrol</td>\n",
       "      <td>volkswagen</td>\n",
       "      <td>no</td>\n",
       "      <td>2016-03-17 00:00:00</td>\n",
       "      <td>0</td>\n",
       "      <td>91074</td>\n",
       "      <td>2016-03-17 17:40:17</td>\n",
       "    </tr>\n",
       "    <tr>\n",
       "      <th>4</th>\n",
       "      <td>2016-03-31 17:25:20</td>\n",
       "      <td>3600</td>\n",
       "      <td>small</td>\n",
       "      <td>2008</td>\n",
       "      <td>manual</td>\n",
       "      <td>69</td>\n",
       "      <td>fabia</td>\n",
       "      <td>90000</td>\n",
       "      <td>7</td>\n",
       "      <td>gasoline</td>\n",
       "      <td>skoda</td>\n",
       "      <td>no</td>\n",
       "      <td>2016-03-31 00:00:00</td>\n",
       "      <td>0</td>\n",
       "      <td>60437</td>\n",
       "      <td>2016-04-06 10:17:21</td>\n",
       "    </tr>\n",
       "  </tbody>\n",
       "</table>\n",
       "</div>"
      ],
      "text/plain": [
       "           DateCrawled  Price VehicleType  RegistrationYear Gearbox  Power  \\\n",
       "0  2016-03-24 11:52:17    480         NaN              1993  manual      0   \n",
       "1  2016-03-24 10:58:45  18300       coupe              2011  manual    190   \n",
       "2  2016-03-14 12:52:21   9800         suv              2004    auto    163   \n",
       "3  2016-03-17 16:54:04   1500       small              2001  manual     75   \n",
       "4  2016-03-31 17:25:20   3600       small              2008  manual     69   \n",
       "\n",
       "   Model  Kilometer  RegistrationMonth  FuelType       Brand NotRepaired  \\\n",
       "0   golf     150000                  0    petrol  volkswagen         NaN   \n",
       "1    NaN     125000                  5  gasoline        audi         yes   \n",
       "2  grand     125000                  8  gasoline        jeep         NaN   \n",
       "3   golf     150000                  6    petrol  volkswagen          no   \n",
       "4  fabia      90000                  7  gasoline       skoda          no   \n",
       "\n",
       "           DateCreated  NumberOfPictures  PostalCode             LastSeen  \n",
       "0  2016-03-24 00:00:00                 0       70435  2016-04-07 03:16:57  \n",
       "1  2016-03-24 00:00:00                 0       66954  2016-04-07 01:46:50  \n",
       "2  2016-03-14 00:00:00                 0       90480  2016-04-05 12:47:46  \n",
       "3  2016-03-17 00:00:00                 0       91074  2016-03-17 17:40:17  \n",
       "4  2016-03-31 00:00:00                 0       60437  2016-04-06 10:17:21  "
      ]
     },
     "execution_count": 2,
     "metadata": {},
     "output_type": "execute_result"
    }
   ],
   "source": [
    "#чтение и сохранение данных, вывод первых 5 строк\n",
    "data = pd.read_csv('/datasets/autos.csv')\n",
    "data.head()"
   ]
  },
  {
   "cell_type": "code",
   "execution_count": 3,
   "metadata": {},
   "outputs": [
    {
     "name": "stdout",
     "output_type": "stream",
     "text": [
      "<class 'pandas.core.frame.DataFrame'>\n",
      "RangeIndex: 354369 entries, 0 to 354368\n",
      "Data columns (total 16 columns):\n",
      " #   Column             Non-Null Count   Dtype \n",
      "---  ------             --------------   ----- \n",
      " 0   DateCrawled        354369 non-null  object\n",
      " 1   Price              354369 non-null  int64 \n",
      " 2   VehicleType        316879 non-null  object\n",
      " 3   RegistrationYear   354369 non-null  int64 \n",
      " 4   Gearbox            334536 non-null  object\n",
      " 5   Power              354369 non-null  int64 \n",
      " 6   Model              334664 non-null  object\n",
      " 7   Kilometer          354369 non-null  int64 \n",
      " 8   RegistrationMonth  354369 non-null  int64 \n",
      " 9   FuelType           321474 non-null  object\n",
      " 10  Brand              354369 non-null  object\n",
      " 11  NotRepaired        283215 non-null  object\n",
      " 12  DateCreated        354369 non-null  object\n",
      " 13  NumberOfPictures   354369 non-null  int64 \n",
      " 14  PostalCode         354369 non-null  int64 \n",
      " 15  LastSeen           354369 non-null  object\n",
      "dtypes: int64(7), object(9)\n",
      "memory usage: 43.3+ MB\n"
     ]
    }
   ],
   "source": [
    "#вывод информации о данных\n",
    "data.info()"
   ]
  },
  {
   "cell_type": "markdown",
   "metadata": {},
   "source": [
    "В таблице 354369 объектов, 15 признаков и 1 целевой признак.\n",
    "**Признаки:**\n",
    "* `DateCrawled` — дата скачивания анкеты из базы;\n",
    "* `VehicleType` — тип автомобильного кузова;\n",
    "* `RegistrationYear` — год регистрации автомобиля;\n",
    "* `Gearbox` — тип коробки передач;\n",
    "* `Power` — мощность (л. с.);\n",
    "* `Model` — модель автомобиля;\n",
    "* `Kilometer` — пробег (км);\n",
    "* `RegistrationMonth` — месяц регистрации автомобиля;\n",
    "* `FuelType` — тип топлива;\n",
    "* `Brand` — марка автомобиля;\n",
    "* `NotRepaired` — была машина в ремонте или нет;\n",
    "* `DateCreated` — дата создания анкеты;\n",
    "* `NumberOfPictures` — количество фотографий автомобиля;\n",
    "* `PostalCode` — почтовый индекс владельца анкеты (пользователя);\n",
    "* `LastSeen` — дата последней активности пользователя.\n",
    "\n",
    "**Целевой признак:**\n",
    "* `Price` — цена (евро).\n",
    "\n",
    "Пропуски имеются для признаков `VehicleType`, `Gearbox`, `Model`, `FuelType`, `NotRepaired`.\n"
   ]
  },
  {
   "cell_type": "markdown",
   "metadata": {},
   "source": [
    "Оценим примерную дату выгрузки данных."
   ]
  },
  {
   "cell_type": "code",
   "execution_count": 4,
   "metadata": {
    "scrolled": true
   },
   "outputs": [
    {
     "data": {
      "text/plain": [
       "'2016-04-07 00:00:00'"
      ]
     },
     "execution_count": 4,
     "metadata": {},
     "output_type": "execute_result"
    }
   ],
   "source": [
    "data['DateCreated'].max()"
   ]
  },
  {
   "cell_type": "markdown",
   "metadata": {},
   "source": [
    "### Удаление дубликатов"
   ]
  },
  {
   "cell_type": "markdown",
   "metadata": {},
   "source": [
    "Проверим данные на наличие дубликатов."
   ]
  },
  {
   "cell_type": "code",
   "execution_count": 5,
   "metadata": {},
   "outputs": [
    {
     "data": {
      "text/plain": [
       "4"
      ]
     },
     "execution_count": 5,
     "metadata": {},
     "output_type": "execute_result"
    }
   ],
   "source": [
    "#количество дубликатов\n",
    "data.duplicated().sum()"
   ]
  },
  {
   "cell_type": "markdown",
   "metadata": {},
   "source": [
    "Удалим дубликаты из таблицы."
   ]
  },
  {
   "cell_type": "code",
   "execution_count": 6,
   "metadata": {},
   "outputs": [],
   "source": [
    "#удаляем дубликаты\n",
    "data = data.drop_duplicates()"
   ]
  },
  {
   "cell_type": "markdown",
   "metadata": {},
   "source": [
    "### Удаление неинформативных признаков"
   ]
  },
  {
   "cell_type": "markdown",
   "metadata": {},
   "source": [
    "Среди признаков есть такие, которые вряд ли влияют на цену автомобиля: \n",
    "* дата скачивания анкеты из базы `DateCrawled`;\n",
    "* месяц регистрации автомобиля `RegistrationMonth`;\n",
    "* дата создания анкеты `DateCreated`;\n",
    "* количество фотографий автомобиля `NumberOfPictures`;\n",
    "* почтовый индекс владельца анкеты (пользователя) `PostalCode`;\n",
    "* дата последней активности пользователя `LastSeen`.\n",
    "\n",
    "Удалим эти признаки."
   ]
  },
  {
   "cell_type": "code",
   "execution_count": 7,
   "metadata": {},
   "outputs": [],
   "source": [
    "#удаление неинформативных признаков\n",
    "data = data.drop(['DateCrawled',\n",
    "                  'RegistrationMonth',\n",
    "                  'DateCreated',\n",
    "                  'NumberOfPictures',\n",
    "                  'PostalCode', \n",
    "                  'LastSeen'], axis=1)"
   ]
  },
  {
   "cell_type": "markdown",
   "metadata": {},
   "source": [
    "### Обработка пропущенных значений"
   ]
  },
  {
   "cell_type": "markdown",
   "metadata": {},
   "source": [
    "Обработаем пропуски. Оценим количество пропусков для признака `Model`."
   ]
  },
  {
   "cell_type": "code",
   "execution_count": 8,
   "metadata": {},
   "outputs": [
    {
     "data": {
      "text/plain": [
       "0.05560650741467131"
      ]
     },
     "execution_count": 8,
     "metadata": {},
     "output_type": "execute_result"
    }
   ],
   "source": [
    "len(data[data['Model'].isna()]) / len(data)"
   ]
  },
  {
   "cell_type": "markdown",
   "metadata": {},
   "source": [
    "Модель автомобиля достаточно важна для ценообразования, и пропущенных данных всего 5.56%, так что можем удалить объекты с пропусками."
   ]
  },
  {
   "cell_type": "code",
   "execution_count": 9,
   "metadata": {},
   "outputs": [],
   "source": [
    "#удаляем данные с пропусками в Model\n",
    "data = data.dropna(subset = ['Model']).reset_index(drop=True)"
   ]
  },
  {
   "cell_type": "markdown",
   "metadata": {},
   "source": [
    "Пропуски в признаках `VehicleType`, `Gearbox`, `FuelType` и `NotRepaired` заполним заглушкой, чтобы не исказить распределения этих признаков."
   ]
  },
  {
   "cell_type": "code",
   "execution_count": 10,
   "metadata": {},
   "outputs": [],
   "source": [
    "#заполняем пропуски значением unknown\n",
    "data[['VehicleType',\n",
    "      'Gearbox',\n",
    "      'FuelType',\n",
    "      'NotRepaired']] = data[['VehicleType',\n",
    "                              'Gearbox',\n",
    "                              'FuelType',\n",
    "                              'NotRepaired']].fillna('unknown')"
   ]
  },
  {
   "cell_type": "markdown",
   "metadata": {},
   "source": [
    "### Анализ данных"
   ]
  },
  {
   "cell_type": "markdown",
   "metadata": {},
   "source": [
    "Посмотрим на описательные характеристики числовых данных."
   ]
  },
  {
   "cell_type": "code",
   "execution_count": 11,
   "metadata": {
    "scrolled": true
   },
   "outputs": [
    {
     "data": {
      "text/html": [
       "<div>\n",
       "<style scoped>\n",
       "    .dataframe tbody tr th:only-of-type {\n",
       "        vertical-align: middle;\n",
       "    }\n",
       "\n",
       "    .dataframe tbody tr th {\n",
       "        vertical-align: top;\n",
       "    }\n",
       "\n",
       "    .dataframe thead th {\n",
       "        text-align: right;\n",
       "    }\n",
       "</style>\n",
       "<table border=\"1\" class=\"dataframe\">\n",
       "  <thead>\n",
       "    <tr style=\"text-align: right;\">\n",
       "      <th></th>\n",
       "      <th>Price</th>\n",
       "      <th>RegistrationYear</th>\n",
       "      <th>Power</th>\n",
       "      <th>Kilometer</th>\n",
       "    </tr>\n",
       "  </thead>\n",
       "  <tbody>\n",
       "    <tr>\n",
       "      <th>count</th>\n",
       "      <td>334660.000000</td>\n",
       "      <td>334660.000000</td>\n",
       "      <td>334660.000000</td>\n",
       "      <td>334660.000000</td>\n",
       "    </tr>\n",
       "    <tr>\n",
       "      <th>mean</th>\n",
       "      <td>4504.372249</td>\n",
       "      <td>2003.924024</td>\n",
       "      <td>111.372659</td>\n",
       "      <td>128562.795076</td>\n",
       "    </tr>\n",
       "    <tr>\n",
       "      <th>std</th>\n",
       "      <td>4531.457109</td>\n",
       "      <td>69.377633</td>\n",
       "      <td>185.157391</td>\n",
       "      <td>37205.638630</td>\n",
       "    </tr>\n",
       "    <tr>\n",
       "      <th>min</th>\n",
       "      <td>0.000000</td>\n",
       "      <td>1000.000000</td>\n",
       "      <td>0.000000</td>\n",
       "      <td>5000.000000</td>\n",
       "    </tr>\n",
       "    <tr>\n",
       "      <th>25%</th>\n",
       "      <td>1150.000000</td>\n",
       "      <td>1999.000000</td>\n",
       "      <td>70.000000</td>\n",
       "      <td>125000.000000</td>\n",
       "    </tr>\n",
       "    <tr>\n",
       "      <th>50%</th>\n",
       "      <td>2800.000000</td>\n",
       "      <td>2003.000000</td>\n",
       "      <td>105.000000</td>\n",
       "      <td>150000.000000</td>\n",
       "    </tr>\n",
       "    <tr>\n",
       "      <th>75%</th>\n",
       "      <td>6500.000000</td>\n",
       "      <td>2008.000000</td>\n",
       "      <td>143.000000</td>\n",
       "      <td>150000.000000</td>\n",
       "    </tr>\n",
       "    <tr>\n",
       "      <th>max</th>\n",
       "      <td>20000.000000</td>\n",
       "      <td>9999.000000</td>\n",
       "      <td>20000.000000</td>\n",
       "      <td>150000.000000</td>\n",
       "    </tr>\n",
       "  </tbody>\n",
       "</table>\n",
       "</div>"
      ],
      "text/plain": [
       "               Price  RegistrationYear          Power      Kilometer\n",
       "count  334660.000000     334660.000000  334660.000000  334660.000000\n",
       "mean     4504.372249       2003.924024     111.372659  128562.795076\n",
       "std      4531.457109         69.377633     185.157391   37205.638630\n",
       "min         0.000000       1000.000000       0.000000    5000.000000\n",
       "25%      1150.000000       1999.000000      70.000000  125000.000000\n",
       "50%      2800.000000       2003.000000     105.000000  150000.000000\n",
       "75%      6500.000000       2008.000000     143.000000  150000.000000\n",
       "max     20000.000000       9999.000000   20000.000000  150000.000000"
      ]
     },
     "execution_count": 11,
     "metadata": {},
     "output_type": "execute_result"
    }
   ],
   "source": [
    "data.describe()"
   ]
  },
  {
   "cell_type": "markdown",
   "metadata": {},
   "source": [
    "У признака RegistrationYear можно заметить наличие выбросов, верхняя граница начала выбросов выяснена выше - 2016 год, построим диаграмму размаха и найдем нижнюю границу."
   ]
  },
  {
   "cell_type": "code",
   "execution_count": 12,
   "metadata": {},
   "outputs": [
    {
     "data": {
      "text/plain": [
       "<AxesSubplot:>"
      ]
     },
     "execution_count": 12,
     "metadata": {},
     "output_type": "execute_result"
    },
    {
     "data": {
      "image/png": "[encoded data removed]",
      "text/plain": [
       "<Figure size 432x288 with 1 Axes>"
      ]
     },
     "metadata": {
      "needs_background": "light"
     },
     "output_type": "display_data"
    }
   ],
   "source": [
    "plt.ylim(1980, 2016)\n",
    "data.boxplot('RegistrationYear')"
   ]
  },
  {
   "cell_type": "markdown",
   "metadata": {},
   "source": [
    "Удалим аномальные значения более 2016 и менее 1987."
   ]
  },
  {
   "cell_type": "code",
   "execution_count": 13,
   "metadata": {},
   "outputs": [],
   "source": [
    "#удаляем значения года более 2022\n",
    "data = data[(data['RegistrationYear'] <= 2016) & (data['RegistrationYear'] >= 1987)]"
   ]
  },
  {
   "cell_type": "markdown",
   "metadata": {},
   "source": [
    "Построим тепловую карту коэффициентов корреляции Пирсона для числовых признаков."
   ]
  },
  {
   "cell_type": "code",
   "execution_count": 14,
   "metadata": {},
   "outputs": [
    {
     "data": {
      "text/plain": [
       "<AxesSubplot:>"
      ]
     },
     "execution_count": 14,
     "metadata": {},
     "output_type": "execute_result"
    },
    {
     "data": {
      "image/png": "[encoded data removed]",
      "text/plain": [
       "<Figure size 432x288 with 2 Axes>"
      ]
     },
     "metadata": {
      "needs_background": "light"
     },
     "output_type": "display_data"
    }
   ],
   "source": [
    "sns.heatmap(data.corr(), annot=True)"
   ]
  },
  {
   "cell_type": "markdown",
   "metadata": {},
   "source": [
    "Все признаки очень слабо коррелируют между собой."
   ]
  },
  {
   "cell_type": "markdown",
   "metadata": {},
   "source": [
    "Посмотрим, как распределен целевой признак."
   ]
  },
  {
   "cell_type": "code",
   "execution_count": 15,
   "metadata": {},
   "outputs": [
    {
     "data": {
      "text/plain": [
       "[Text(0.5, 0, 'Цена')]"
      ]
     },
     "execution_count": 15,
     "metadata": {},
     "output_type": "execute_result"
    },
    {
     "data": {
      "image/png": "[encoded data removed]",
      "text/plain": [
       "<Figure size 432x288 with 1 Axes>"
      ]
     },
     "metadata": {
      "needs_background": "light"
     },
     "output_type": "display_data"
    }
   ],
   "source": [
    "ax = data.plot(kind='hist', \n",
    "               y='Price',\n",
    "               bins=30,\n",
    "               title='Распределение цен автомобилей',\n",
    "               grid=True)\n",
    "ax.set(xlabel='Цена')"
   ]
  },
  {
   "cell_type": "markdown",
   "metadata": {},
   "source": [
    "### Подготовка выборок"
   ]
  },
  {
   "cell_type": "markdown",
   "metadata": {},
   "source": [
    "Для начала преобразуем категориальные признаки в числовые при помощи прямого кодирования."
   ]
  },
  {
   "cell_type": "code",
   "execution_count": 16,
   "metadata": {},
   "outputs": [],
   "source": [
    "data = pd.get_dummies(data, drop_first=True)"
   ]
  },
  {
   "cell_type": "markdown",
   "metadata": {},
   "source": [
    "Поделим на обучающую, валидационную и тестовую выборки."
   ]
  },
  {
   "cell_type": "code",
   "execution_count": 17,
   "metadata": {},
   "outputs": [
    {
     "name": "stdout",
     "output_type": "stream",
     "text": [
      "(237608, 306) (237608,)\n",
      "(79203, 306) (79203,)\n"
     ]
    }
   ],
   "source": [
    "#деление на признаки и целевой признак\n",
    "X = data.drop('Price', axis=1)\n",
    "y = data['Price']\n",
    "\n",
    "#деление на обучающую и тестовую выборки\n",
    "X_train, X_test, y_train, y_test = train_test_split(X, y, test_size=0.25, random_state=12345)\n",
    "\n",
    "#проверяем размеры выборок\n",
    "print(X_train.shape, y_train.shape)\n",
    "print(X_test.shape, y_test.shape)"
   ]
  },
  {
   "cell_type": "markdown",
   "metadata": {},
   "source": [
    "Приведем числовые признаки к одному масштабу при помощи стандартизации."
   ]
  },
  {
   "cell_type": "code",
   "execution_count": 18,
   "metadata": {},
   "outputs": [
    {
     "name": "stderr",
     "output_type": "stream",
     "text": [
      "/tmp/ipykernel_196/1410968605.py:8: SettingWithCopyWarning: \n",
      "A value is trying to be set on a copy of a slice from a DataFrame.\n",
      "Try using .loc[row_indexer,col_indexer] = value instead\n",
      "\n",
      "See the caveats in the documentation: https://pandas.pydata.org/pandas-docs/stable/user_guide/indexing.html#returning-a-view-versus-a-copy\n",
      "  X_train[numeric] = scaler.transform(X_train[numeric])\n",
      "/opt/conda/lib/python3.9/site-packages/pandas/core/indexing.py:1738: SettingWithCopyWarning: \n",
      "A value is trying to be set on a copy of a slice from a DataFrame.\n",
      "Try using .loc[row_indexer,col_indexer] = value instead\n",
      "\n",
      "See the caveats in the documentation: https://pandas.pydata.org/pandas-docs/stable/user_guide/indexing.html#returning-a-view-versus-a-copy\n",
      "  self._setitem_single_column(loc, value[:, i].tolist(), pi)\n",
      "/tmp/ipykernel_196/1410968605.py:9: SettingWithCopyWarning: \n",
      "A value is trying to be set on a copy of a slice from a DataFrame.\n",
      "Try using .loc[row_indexer,col_indexer] = value instead\n",
      "\n",
      "See the caveats in the documentation: https://pandas.pydata.org/pandas-docs/stable/user_guide/indexing.html#returning-a-view-versus-a-copy\n",
      "  X_test[numeric] = scaler.transform(X_test[numeric])\n",
      "/opt/conda/lib/python3.9/site-packages/pandas/core/indexing.py:1738: SettingWithCopyWarning: \n",
      "A value is trying to be set on a copy of a slice from a DataFrame.\n",
      "Try using .loc[row_indexer,col_indexer] = value instead\n",
      "\n",
      "See the caveats in the documentation: https://pandas.pydata.org/pandas-docs/stable/user_guide/indexing.html#returning-a-view-versus-a-copy\n",
      "  self._setitem_single_column(loc, value[:, i].tolist(), pi)\n"
     ]
    }
   ],
   "source": [
    "#выделяем числовые признаки\n",
    "numeric = ['RegistrationYear', 'Power', 'Kilometer']\n",
    "\n",
    "#стандартизация данных\n",
    "scaler = StandardScaler()\n",
    "scaler.fit(X_train[numeric])\n",
    "\n",
    "X_train[numeric] = scaler.transform(X_train[numeric])\n",
    "X_test[numeric] = scaler.transform(X_test[numeric])"
   ]
  },
  {
   "cell_type": "markdown",
   "metadata": {},
   "source": [
    "## Обучение моделей"
   ]
  },
  {
   "cell_type": "markdown",
   "metadata": {},
   "source": [
    "### Дерево решений"
   ]
  },
  {
   "cell_type": "code",
   "execution_count": 19,
   "metadata": {},
   "outputs": [
    {
     "name": "stdout",
     "output_type": "stream",
     "text": [
      "RMSE: 1882.6462512039732 Параметры: {'max_depth': 16}\n"
     ]
    }
   ],
   "source": [
    "model_dt = DecisionTreeRegressor(random_state=12345)\n",
    "\n",
    "param = {'max_depth': range(1,21,1)}\n",
    "grid = RandomizedSearchCV(model_dt, param, scoring='neg_root_mean_squared_error')\n",
    "grid.fit(X_train, y_train)\n",
    "best_model_dt = grid.best_estimator_\n",
    "rmse_dt = abs(grid.best_score_)\n",
    "print('RMSE:', rmse_dt, 'Параметры:', grid.best_params_)"
   ]
  },
  {
   "cell_type": "markdown",
   "metadata": {},
   "source": [
    "### Случайный лес"
   ]
  },
  {
   "cell_type": "code",
   "execution_count": 20,
   "metadata": {},
   "outputs": [
    {
     "name": "stdout",
     "output_type": "stream",
     "text": [
      "RMSE: 1915.6086617615733 Параметры: {'n_estimators': 40, 'max_depth': 10}\n"
     ]
    }
   ],
   "source": [
    "model_rf = RandomForestRegressor(random_state=12345)\n",
    "\n",
    "param = {'max_depth': range(1,11,1),\n",
    "         'n_estimators':range(10,50,10)}\n",
    "grid = RandomizedSearchCV(model_rf, param, n_iter=10, scoring='neg_root_mean_squared_error')\n",
    "grid.fit(X_train, y_train)\n",
    "best_model_rf = grid.best_estimator_\n",
    "rmse_rf = abs(grid.best_score_)\n",
    "print('RMSE:', rmse_rf, 'Параметры:', grid.best_params_)"
   ]
  },
  {
   "cell_type": "markdown",
   "metadata": {},
   "source": [
    "### CatBoost"
   ]
  },
  {
   "cell_type": "code",
   "execution_count": 21,
   "metadata": {},
   "outputs": [
    {
     "name": "stdout",
     "output_type": "stream",
     "text": [
      "Learning rate set to 0.5\n",
      "0:\tlearn: 3110.2379816\ttotal: 95ms\tremaining: 6.55s\n",
      "10:\tlearn: 1823.3550462\ttotal: 475ms\tremaining: 2.55s\n",
      "20:\tlearn: 1737.4495972\ttotal: 835ms\tremaining: 1.95s\n",
      "30:\tlearn: 1686.1008719\ttotal: 1.19s\tremaining: 1.49s\n",
      "40:\tlearn: 1654.3458374\ttotal: 1.53s\tremaining: 1.08s\n",
      "50:\tlearn: 1619.8350510\ttotal: 1.89s\tremaining: 704ms\n",
      "60:\tlearn: 1598.7354334\ttotal: 2.27s\tremaining: 335ms\n",
      "69:\tlearn: 1582.2679191\ttotal: 2.58s\tremaining: 0us\n",
      "Learning rate set to 0.5\n",
      "0:\tlearn: 3100.4962101\ttotal: 38.2ms\tremaining: 2.64s\n",
      "10:\tlearn: 1815.0446933\ttotal: 400ms\tremaining: 2.15s\n",
      "20:\tlearn: 1734.6327370\ttotal: 762ms\tremaining: 1.78s\n",
      "30:\tlearn: 1684.8621065\ttotal: 1.12s\tremaining: 1.41s\n",
      "40:\tlearn: 1645.8756354\ttotal: 1.5s\tremaining: 1.06s\n",
      "50:\tlearn: 1619.8458105\ttotal: 1.87s\tremaining: 697ms\n",
      "60:\tlearn: 1596.7169373\ttotal: 2.23s\tremaining: 328ms\n",
      "69:\tlearn: 1579.4772584\ttotal: 2.55s\tremaining: 0us\n",
      "Learning rate set to 0.5\n",
      "0:\tlearn: 3100.0801221\ttotal: 38.9ms\tremaining: 2.68s\n",
      "10:\tlearn: 1826.8374804\ttotal: 391ms\tremaining: 2.1s\n",
      "20:\tlearn: 1740.6900697\ttotal: 730ms\tremaining: 1.7s\n",
      "30:\tlearn: 1686.8486619\ttotal: 1.07s\tremaining: 1.35s\n",
      "40:\tlearn: 1648.4283147\ttotal: 1.44s\tremaining: 1.02s\n",
      "50:\tlearn: 1621.7759394\ttotal: 1.81s\tremaining: 674ms\n",
      "60:\tlearn: 1598.4468660\ttotal: 2.17s\tremaining: 321ms\n",
      "69:\tlearn: 1582.3429446\ttotal: 2.5s\tremaining: 0us\n",
      "Learning rate set to 0.5\n",
      "0:\tlearn: 3093.7806823\ttotal: 37.6ms\tremaining: 2.59s\n",
      "10:\tlearn: 1810.2857094\ttotal: 405ms\tremaining: 2.17s\n",
      "20:\tlearn: 1723.6374487\ttotal: 759ms\tremaining: 1.77s\n",
      "30:\tlearn: 1670.1265845\ttotal: 1.11s\tremaining: 1.4s\n",
      "40:\tlearn: 1635.2337205\ttotal: 1.47s\tremaining: 1.04s\n",
      "50:\tlearn: 1609.5371165\ttotal: 1.81s\tremaining: 673ms\n",
      "60:\tlearn: 1589.0865976\ttotal: 2.14s\tremaining: 316ms\n",
      "69:\tlearn: 1567.8519213\ttotal: 2.46s\tremaining: 0us\n",
      "Learning rate set to 0.5\n",
      "0:\tlearn: 3090.5725798\ttotal: 40.9ms\tremaining: 2.82s\n",
      "10:\tlearn: 1833.2967640\ttotal: 406ms\tremaining: 2.18s\n",
      "20:\tlearn: 1738.4369738\ttotal: 760ms\tremaining: 1.77s\n",
      "30:\tlearn: 1683.3063056\ttotal: 1.11s\tremaining: 1.4s\n",
      "40:\tlearn: 1649.3019049\ttotal: 1.46s\tremaining: 1.03s\n",
      "50:\tlearn: 1622.5721469\ttotal: 1.81s\tremaining: 674ms\n",
      "60:\tlearn: 1596.4557060\ttotal: 2.17s\tremaining: 320ms\n",
      "69:\tlearn: 1577.3165243\ttotal: 2.49s\tremaining: 0us\n",
      "Learning rate set to 0.5\n",
      "0:\tlearn: 3014.8472825\ttotal: 354ms\tremaining: 28s\n",
      "10:\tlearn: 1696.9977963\ttotal: 3.44s\tremaining: 21.6s\n",
      "20:\tlearn: 1606.4743819\ttotal: 6.48s\tremaining: 18.2s\n",
      "30:\tlearn: 1549.0430386\ttotal: 9.53s\tremaining: 15.1s\n",
      "40:\tlearn: 1506.7005765\ttotal: 12.6s\tremaining: 12s\n",
      "50:\tlearn: 1472.4847948\ttotal: 15.7s\tremaining: 8.91s\n",
      "60:\tlearn: 1442.6157808\ttotal: 18.7s\tremaining: 5.83s\n",
      "70:\tlearn: 1414.0169135\ttotal: 21.7s\tremaining: 2.75s\n",
      "79:\tlearn: 1395.8243051\ttotal: 24.4s\tremaining: 0us\n",
      "Learning rate set to 0.5\n",
      "0:\tlearn: 2997.1386353\ttotal: 296ms\tremaining: 23.4s\n",
      "10:\tlearn: 1683.0698558\ttotal: 3.31s\tremaining: 20.8s\n",
      "20:\tlearn: 1603.1423771\ttotal: 6.39s\tremaining: 17.9s\n",
      "30:\tlearn: 1550.0194087\ttotal: 9.41s\tremaining: 14.9s\n",
      "40:\tlearn: 1503.8906249\ttotal: 12.4s\tremaining: 11.8s\n",
      "50:\tlearn: 1472.4271351\ttotal: 15.4s\tremaining: 8.77s\n",
      "60:\tlearn: 1444.5017560\ttotal: 18.4s\tremaining: 5.75s\n",
      "70:\tlearn: 1415.8346959\ttotal: 21.6s\tremaining: 2.74s\n",
      "79:\tlearn: 1398.7311564\ttotal: 24.4s\tremaining: 0us\n",
      "Learning rate set to 0.5\n",
      "0:\tlearn: 2993.9672329\ttotal: 298ms\tremaining: 23.6s\n",
      "10:\tlearn: 1690.5502960\ttotal: 3.3s\tremaining: 20.7s\n",
      "20:\tlearn: 1601.5919558\ttotal: 6.27s\tremaining: 17.6s\n",
      "30:\tlearn: 1542.8284727\ttotal: 9.31s\tremaining: 14.7s\n",
      "40:\tlearn: 1504.4876074\ttotal: 12.3s\tremaining: 11.7s\n",
      "50:\tlearn: 1467.3183198\ttotal: 15.3s\tremaining: 8.69s\n",
      "60:\tlearn: 1440.9705937\ttotal: 18.3s\tremaining: 5.7s\n",
      "70:\tlearn: 1418.5320236\ttotal: 21.3s\tremaining: 2.7s\n",
      "79:\tlearn: 1398.2819111\ttotal: 24s\tremaining: 0us\n",
      "Learning rate set to 0.5\n",
      "0:\tlearn: 3004.8268126\ttotal: 320ms\tremaining: 25.3s\n",
      "10:\tlearn: 1680.0646097\ttotal: 3.4s\tremaining: 21.4s\n",
      "20:\tlearn: 1592.7695278\ttotal: 6.66s\tremaining: 18.7s\n",
      "30:\tlearn: 1533.8994486\ttotal: 9.75s\tremaining: 15.4s\n",
      "40:\tlearn: 1491.7507911\ttotal: 12.8s\tremaining: 12.2s\n",
      "50:\tlearn: 1461.3738339\ttotal: 15.9s\tremaining: 9.03s\n",
      "60:\tlearn: 1434.0112160\ttotal: 18.9s\tremaining: 5.88s\n",
      "70:\tlearn: 1408.3898842\ttotal: 22s\tremaining: 2.79s\n",
      "79:\tlearn: 1391.3226617\ttotal: 24.7s\tremaining: 0us\n",
      "Learning rate set to 0.5\n",
      "0:\tlearn: 3012.2136128\ttotal: 297ms\tremaining: 23.5s\n",
      "10:\tlearn: 1689.3480513\ttotal: 3.4s\tremaining: 21.3s\n",
      "20:\tlearn: 1597.5600445\ttotal: 6.44s\tremaining: 18.1s\n",
      "30:\tlearn: 1547.3994707\ttotal: 9.42s\tremaining: 14.9s\n",
      "40:\tlearn: 1506.0277406\ttotal: 12.4s\tremaining: 11.8s\n",
      "50:\tlearn: 1475.2811159\ttotal: 15.5s\tremaining: 8.83s\n",
      "60:\tlearn: 1445.4363770\ttotal: 18.6s\tremaining: 5.79s\n",
      "70:\tlearn: 1419.6455231\ttotal: 21.7s\tremaining: 2.75s\n",
      "79:\tlearn: 1398.2239805\ttotal: 24.5s\tremaining: 0us\n",
      "Learning rate set to 0.5\n",
      "0:\tlearn: 3054.6444307\ttotal: 69.8ms\tremaining: 4.12s\n",
      "10:\tlearn: 1772.3536363\ttotal: 752ms\tremaining: 3.35s\n",
      "20:\tlearn: 1678.7055855\ttotal: 1.45s\tremaining: 2.69s\n",
      "30:\tlearn: 1625.7441750\ttotal: 2.12s\tremaining: 1.99s\n",
      "40:\tlearn: 1590.0516081\ttotal: 2.81s\tremaining: 1.3s\n",
      "50:\tlearn: 1564.6239547\ttotal: 3.5s\tremaining: 618ms\n",
      "59:\tlearn: 1541.2089301\ttotal: 4.12s\tremaining: 0us\n",
      "Learning rate set to 0.5\n",
      "0:\tlearn: 3045.3584814\ttotal: 67.9ms\tremaining: 4s\n",
      "10:\tlearn: 1766.9633348\ttotal: 743ms\tremaining: 3.31s\n",
      "20:\tlearn: 1678.4273011\ttotal: 1.44s\tremaining: 2.67s\n",
      "30:\tlearn: 1628.9748583\ttotal: 2.17s\tremaining: 2.03s\n",
      "40:\tlearn: 1594.9015551\ttotal: 2.83s\tremaining: 1.31s\n",
      "50:\tlearn: 1558.2770640\ttotal: 3.51s\tremaining: 620ms\n",
      "59:\tlearn: 1538.4288492\ttotal: 4.12s\tremaining: 0us\n",
      "Learning rate set to 0.5\n",
      "0:\tlearn: 3043.5897998\ttotal: 67.8ms\tremaining: 4s\n",
      "10:\tlearn: 1764.8911675\ttotal: 758ms\tremaining: 3.38s\n",
      "20:\tlearn: 1683.3612580\ttotal: 1.43s\tremaining: 2.66s\n",
      "30:\tlearn: 1635.2396408\ttotal: 2.11s\tremaining: 1.97s\n",
      "40:\tlearn: 1599.5538554\ttotal: 2.78s\tremaining: 1.29s\n",
      "50:\tlearn: 1570.8574430\ttotal: 3.48s\tremaining: 614ms\n",
      "59:\tlearn: 1540.8037031\ttotal: 4.1s\tremaining: 0us\n",
      "Learning rate set to 0.5\n",
      "0:\tlearn: 3038.1550258\ttotal: 64.4ms\tremaining: 3.8s\n",
      "10:\tlearn: 1747.2696721\ttotal: 729ms\tremaining: 3.25s\n",
      "20:\tlearn: 1669.0831562\ttotal: 1.4s\tremaining: 2.61s\n",
      "30:\tlearn: 1616.2437799\ttotal: 2.09s\tremaining: 1.95s\n",
      "40:\tlearn: 1577.5257284\ttotal: 2.79s\tremaining: 1.29s\n",
      "50:\tlearn: 1551.9897006\ttotal: 3.51s\tremaining: 620ms\n",
      "59:\tlearn: 1531.3283083\ttotal: 4.14s\tremaining: 0us\n",
      "Learning rate set to 0.5\n",
      "0:\tlearn: 3043.6103890\ttotal: 68.7ms\tremaining: 4.05s\n",
      "10:\tlearn: 1765.5359836\ttotal: 763ms\tremaining: 3.4s\n",
      "20:\tlearn: 1676.6493854\ttotal: 1.45s\tremaining: 2.69s\n",
      "30:\tlearn: 1633.0260318\ttotal: 2.13s\tremaining: 1.99s\n",
      "40:\tlearn: 1593.4036025\ttotal: 2.82s\tremaining: 1.3s\n",
      "50:\tlearn: 1561.5870718\ttotal: 3.52s\tremaining: 620ms\n",
      "59:\tlearn: 1543.3329126\ttotal: 4.22s\tremaining: 0us\n",
      "Learning rate set to 0.5\n",
      "0:\tlearn: 3142.1914864\ttotal: 33.6ms\tremaining: 1.31s\n",
      "10:\tlearn: 1867.6761539\ttotal: 357ms\tremaining: 942ms\n",
      "20:\tlearn: 1776.0991102\ttotal: 656ms\tremaining: 593ms\n",
      "30:\tlearn: 1718.1563427\ttotal: 967ms\tremaining: 281ms\n",
      "39:\tlearn: 1685.5663002\ttotal: 1.24s\tremaining: 0us\n",
      "Learning rate set to 0.5\n",
      "0:\tlearn: 3121.4670254\ttotal: 32.5ms\tremaining: 1.27s\n",
      "10:\tlearn: 1855.8213493\ttotal: 375ms\tremaining: 990ms\n",
      "20:\tlearn: 1767.8797419\ttotal: 757ms\tremaining: 685ms\n",
      "30:\tlearn: 1713.5733950\ttotal: 1.07s\tremaining: 310ms\n",
      "39:\tlearn: 1678.3401132\ttotal: 1.34s\tremaining: 0us\n",
      "Learning rate set to 0.5\n",
      "0:\tlearn: 3121.0811533\ttotal: 34.3ms\tremaining: 1.34s\n",
      "10:\tlearn: 1862.7210511\ttotal: 374ms\tremaining: 986ms\n",
      "20:\tlearn: 1769.6576266\ttotal: 676ms\tremaining: 611ms\n",
      "30:\tlearn: 1719.1165372\ttotal: 978ms\tremaining: 284ms\n",
      "39:\tlearn: 1683.3858901\ttotal: 1.26s\tremaining: 0us\n",
      "Learning rate set to 0.5\n",
      "0:\tlearn: 3114.6167906\ttotal: 35.6ms\tremaining: 1.39s\n",
      "10:\tlearn: 1853.3371959\ttotal: 362ms\tremaining: 955ms\n",
      "20:\tlearn: 1759.5018277\ttotal: 671ms\tremaining: 607ms\n",
      "30:\tlearn: 1709.0465068\ttotal: 986ms\tremaining: 286ms\n",
      "39:\tlearn: 1682.1586788\ttotal: 1.28s\tremaining: 0us\n",
      "Learning rate set to 0.5\n",
      "0:\tlearn: 3111.8924842\ttotal: 33ms\tremaining: 1.29s\n",
      "10:\tlearn: 1869.9919530\ttotal: 348ms\tremaining: 917ms\n",
      "20:\tlearn: 1772.1124635\ttotal: 646ms\tremaining: 585ms\n",
      "30:\tlearn: 1722.0733921\ttotal: 957ms\tremaining: 278ms\n",
      "39:\tlearn: 1688.2594138\ttotal: 1.24s\tremaining: 0us\n",
      "Learning rate set to 0.5\n",
      "0:\tlearn: 3367.0058206\ttotal: 21.2ms\tremaining: 1.04s\n",
      "10:\tlearn: 2089.4389119\ttotal: 233ms\tremaining: 826ms\n",
      "20:\tlearn: 1956.3592552\ttotal: 447ms\tremaining: 617ms\n",
      "30:\tlearn: 1891.5583475\ttotal: 657ms\tremaining: 403ms\n",
      "40:\tlearn: 1849.9811160\ttotal: 873ms\tremaining: 192ms\n",
      "49:\tlearn: 1820.0675620\ttotal: 1.06s\tremaining: 0us\n",
      "Learning rate set to 0.5\n",
      "0:\tlearn: 3373.9053503\ttotal: 21.4ms\tremaining: 1.05s\n",
      "10:\tlearn: 2076.4885211\ttotal: 239ms\tremaining: 848ms\n",
      "20:\tlearn: 1943.4069350\ttotal: 451ms\tremaining: 622ms\n",
      "30:\tlearn: 1882.0900457\ttotal: 665ms\tremaining: 408ms\n",
      "40:\tlearn: 1843.0259014\ttotal: 872ms\tremaining: 191ms\n",
      "49:\tlearn: 1815.3642464\ttotal: 1.06s\tremaining: 0us\n",
      "Learning rate set to 0.5\n",
      "0:\tlearn: 3371.2729142\ttotal: 22.3ms\tremaining: 1.09s\n",
      "10:\tlearn: 2081.2133470\ttotal: 238ms\tremaining: 843ms\n",
      "20:\tlearn: 1957.4787290\ttotal: 448ms\tremaining: 619ms\n",
      "30:\tlearn: 1890.1848951\ttotal: 659ms\tremaining: 404ms\n",
      "40:\tlearn: 1851.9051160\ttotal: 863ms\tremaining: 189ms\n",
      "49:\tlearn: 1820.0794939\ttotal: 1.05s\tremaining: 0us\n",
      "Learning rate set to 0.5\n",
      "0:\tlearn: 3362.5040187\ttotal: 25.9ms\tremaining: 1.27s\n",
      "10:\tlearn: 2073.4689381\ttotal: 250ms\tremaining: 887ms\n",
      "20:\tlearn: 1942.1044566\ttotal: 468ms\tremaining: 646ms\n",
      "30:\tlearn: 1874.1375214\ttotal: 685ms\tremaining: 420ms\n",
      "40:\tlearn: 1829.3555996\ttotal: 903ms\tremaining: 198ms\n",
      "49:\tlearn: 1804.9201809\ttotal: 1.09s\tremaining: 0us\n",
      "Learning rate set to 0.5\n",
      "0:\tlearn: 3377.1540077\ttotal: 21.9ms\tremaining: 1.07s\n",
      "10:\tlearn: 2077.0948013\ttotal: 245ms\tremaining: 869ms\n",
      "20:\tlearn: 1945.1664852\ttotal: 456ms\tremaining: 629ms\n",
      "30:\tlearn: 1887.9550385\ttotal: 669ms\tremaining: 410ms\n",
      "40:\tlearn: 1849.9263679\ttotal: 880ms\tremaining: 193ms\n",
      "49:\tlearn: 1818.4944894\ttotal: 1.09s\tremaining: 0us\n",
      "Learning rate set to 0.5\n",
      "0:\tlearn: 3110.2379816\ttotal: 38.2ms\tremaining: 2.25s\n",
      "10:\tlearn: 1823.3550462\ttotal: 396ms\tremaining: 1.76s\n",
      "20:\tlearn: 1737.4495972\ttotal: 765ms\tremaining: 1.42s\n",
      "30:\tlearn: 1686.1008719\ttotal: 1.11s\tremaining: 1.04s\n",
      "40:\tlearn: 1654.3458374\ttotal: 1.46s\tremaining: 676ms\n",
      "50:\tlearn: 1619.8350510\ttotal: 1.83s\tremaining: 323ms\n",
      "59:\tlearn: 1600.2924597\ttotal: 2.14s\tremaining: 0us\n",
      "Learning rate set to 0.5\n",
      "0:\tlearn: 3100.4962101\ttotal: 39.2ms\tremaining: 2.31s\n",
      "10:\tlearn: 1815.0446933\ttotal: 410ms\tremaining: 1.82s\n",
      "20:\tlearn: 1734.6327370\ttotal: 773ms\tremaining: 1.44s\n",
      "30:\tlearn: 1684.8621065\ttotal: 1.12s\tremaining: 1.05s\n",
      "40:\tlearn: 1645.8756354\ttotal: 1.48s\tremaining: 685ms\n",
      "50:\tlearn: 1619.8458105\ttotal: 1.85s\tremaining: 326ms\n",
      "59:\tlearn: 1598.9610094\ttotal: 2.17s\tremaining: 0us\n",
      "Learning rate set to 0.5\n",
      "0:\tlearn: 3100.0801221\ttotal: 37.3ms\tremaining: 2.2s\n",
      "10:\tlearn: 1826.8374804\ttotal: 430ms\tremaining: 1.92s\n",
      "20:\tlearn: 1740.6900697\ttotal: 802ms\tremaining: 1.49s\n",
      "30:\tlearn: 1686.8486619\ttotal: 1.16s\tremaining: 1.09s\n",
      "40:\tlearn: 1648.4283147\ttotal: 1.52s\tremaining: 706ms\n",
      "50:\tlearn: 1621.7759394\ttotal: 1.89s\tremaining: 334ms\n",
      "59:\tlearn: 1601.2266028\ttotal: 2.22s\tremaining: 0us\n",
      "Learning rate set to 0.5\n",
      "0:\tlearn: 3093.7806823\ttotal: 39ms\tremaining: 2.3s\n",
      "10:\tlearn: 1810.2857094\ttotal: 409ms\tremaining: 1.82s\n",
      "20:\tlearn: 1723.6374487\ttotal: 776ms\tremaining: 1.44s\n",
      "30:\tlearn: 1670.1265845\ttotal: 1.14s\tremaining: 1.07s\n",
      "40:\tlearn: 1635.2337205\ttotal: 1.55s\tremaining: 719ms\n",
      "50:\tlearn: 1609.5371165\ttotal: 1.92s\tremaining: 339ms\n",
      "59:\tlearn: 1591.2008497\ttotal: 2.24s\tremaining: 0us\n",
      "Learning rate set to 0.5\n",
      "0:\tlearn: 3090.5725798\ttotal: 38.5ms\tremaining: 2.27s\n",
      "10:\tlearn: 1833.2967640\ttotal: 394ms\tremaining: 1.75s\n",
      "20:\tlearn: 1738.4369738\ttotal: 742ms\tremaining: 1.38s\n",
      "30:\tlearn: 1683.3063056\ttotal: 1.1s\tremaining: 1.02s\n",
      "40:\tlearn: 1649.3019049\ttotal: 1.46s\tremaining: 675ms\n",
      "50:\tlearn: 1622.5721469\ttotal: 1.8s\tremaining: 319ms\n",
      "59:\tlearn: 1601.0211519\ttotal: 2.12s\tremaining: 0us\n",
      "Learning rate set to 0.5\n",
      "0:\tlearn: 3142.1914864\ttotal: 36.2ms\tremaining: 1.77s\n",
      "10:\tlearn: 1867.6761539\ttotal: 364ms\tremaining: 1.29s\n",
      "20:\tlearn: 1776.0991102\ttotal: 679ms\tremaining: 937ms\n",
      "30:\tlearn: 1718.1563427\ttotal: 993ms\tremaining: 608ms\n",
      "40:\tlearn: 1682.8478344\ttotal: 1.3s\tremaining: 286ms\n",
      "49:\tlearn: 1656.4921463\ttotal: 1.58s\tremaining: 0us\n",
      "Learning rate set to 0.5\n",
      "0:\tlearn: 3121.4670254\ttotal: 34.3ms\tremaining: 1.68s\n",
      "10:\tlearn: 1855.8213493\ttotal: 364ms\tremaining: 1.29s\n",
      "20:\tlearn: 1767.8797419\ttotal: 680ms\tremaining: 939ms\n",
      "30:\tlearn: 1713.5733950\ttotal: 991ms\tremaining: 608ms\n",
      "40:\tlearn: 1675.6936783\ttotal: 1.29s\tremaining: 284ms\n",
      "49:\tlearn: 1652.2011808\ttotal: 1.56s\tremaining: 0us\n",
      "Learning rate set to 0.5\n",
      "0:\tlearn: 3121.0811533\ttotal: 33.3ms\tremaining: 1.63s\n",
      "10:\tlearn: 1862.7210511\ttotal: 357ms\tremaining: 1.27s\n",
      "20:\tlearn: 1769.6576266\ttotal: 674ms\tremaining: 931ms\n",
      "30:\tlearn: 1719.1165372\ttotal: 983ms\tremaining: 602ms\n",
      "40:\tlearn: 1679.2149933\ttotal: 1.34s\tremaining: 294ms\n",
      "49:\tlearn: 1656.8833846\ttotal: 1.64s\tremaining: 0us\n",
      "Learning rate set to 0.5\n",
      "0:\tlearn: 3114.6167906\ttotal: 33.1ms\tremaining: 1.62s\n",
      "10:\tlearn: 1853.3371959\ttotal: 354ms\tremaining: 1.26s\n",
      "20:\tlearn: 1759.5018277\ttotal: 667ms\tremaining: 922ms\n",
      "30:\tlearn: 1709.0465068\ttotal: 997ms\tremaining: 611ms\n",
      "40:\tlearn: 1679.4545869\ttotal: 1.3s\tremaining: 287ms\n",
      "49:\tlearn: 1651.2219432\ttotal: 1.58s\tremaining: 0us\n",
      "Learning rate set to 0.5\n",
      "0:\tlearn: 3111.8924842\ttotal: 33.1ms\tremaining: 1.62s\n",
      "10:\tlearn: 1869.9919530\ttotal: 345ms\tremaining: 1.22s\n",
      "20:\tlearn: 1772.1124635\ttotal: 646ms\tremaining: 892ms\n",
      "30:\tlearn: 1722.0733921\ttotal: 948ms\tremaining: 581ms\n",
      "40:\tlearn: 1683.2660040\ttotal: 1.25s\tremaining: 275ms\n",
      "49:\tlearn: 1656.7543791\ttotal: 1.53s\tremaining: 0us\n",
      "Learning rate set to 0.5\n",
      "0:\tlearn: 3559.6111073\ttotal: 17.7ms\tremaining: 337ms\n",
      "10:\tlearn: 2295.3924217\ttotal: 200ms\tremaining: 164ms\n",
      "19:\tlearn: 2178.9903512\ttotal: 358ms\tremaining: 0us\n",
      "Learning rate set to 0.5\n",
      "0:\tlearn: 3566.3324118\ttotal: 17.5ms\tremaining: 332ms\n",
      "10:\tlearn: 2300.1427824\ttotal: 204ms\tremaining: 167ms\n",
      "19:\tlearn: 2171.1504028\ttotal: 361ms\tremaining: 0us\n",
      "Learning rate set to 0.5\n",
      "0:\tlearn: 3562.8859945\ttotal: 17.8ms\tremaining: 338ms\n",
      "10:\tlearn: 2303.2348584\ttotal: 202ms\tremaining: 165ms\n",
      "19:\tlearn: 2170.9657400\ttotal: 356ms\tremaining: 0us\n",
      "Learning rate set to 0.5\n",
      "0:\tlearn: 3554.9601696\ttotal: 19.1ms\tremaining: 363ms\n",
      "10:\tlearn: 2292.0812780\ttotal: 198ms\tremaining: 162ms\n",
      "19:\tlearn: 2163.1441938\ttotal: 356ms\tremaining: 0us\n",
      "Learning rate set to 0.5\n",
      "0:\tlearn: 3562.4672814\ttotal: 17.8ms\tremaining: 339ms\n",
      "10:\tlearn: 2304.0410508\ttotal: 198ms\tremaining: 162ms\n",
      "19:\tlearn: 2170.3711169\ttotal: 356ms\tremaining: 0us\n",
      "Learning rate set to 0.5\n",
      "0:\tlearn: 3559.6111073\ttotal: 17ms\tremaining: 1.34s\n",
      "10:\tlearn: 2295.3924217\ttotal: 194ms\tremaining: 1.22s\n",
      "20:\tlearn: 2169.0609414\ttotal: 390ms\tremaining: 1.09s\n",
      "30:\tlearn: 2069.3906754\ttotal: 592ms\tremaining: 936ms\n",
      "40:\tlearn: 2022.2805899\ttotal: 764ms\tremaining: 727ms\n",
      "50:\tlearn: 1987.4815960\ttotal: 933ms\tremaining: 531ms\n",
      "60:\tlearn: 1956.7285934\ttotal: 1.1s\tremaining: 344ms\n",
      "70:\tlearn: 1940.4477215\ttotal: 1.27s\tremaining: 162ms\n",
      "79:\tlearn: 1926.5382066\ttotal: 1.43s\tremaining: 0us\n",
      "Learning rate set to 0.5\n",
      "0:\tlearn: 3566.3324118\ttotal: 18.7ms\tremaining: 1.48s\n",
      "10:\tlearn: 2300.1427824\ttotal: 206ms\tremaining: 1.29s\n",
      "20:\tlearn: 2162.9131742\ttotal: 379ms\tremaining: 1.07s\n",
      "30:\tlearn: 2091.3761769\ttotal: 550ms\tremaining: 870ms\n",
      "40:\tlearn: 2022.6785970\ttotal: 727ms\tremaining: 691ms\n",
      "50:\tlearn: 1985.4423403\ttotal: 894ms\tremaining: 508ms\n",
      "60:\tlearn: 1961.4080717\ttotal: 1.06s\tremaining: 331ms\n",
      "70:\tlearn: 1937.1480899\ttotal: 1.23s\tremaining: 156ms\n",
      "79:\tlearn: 1919.0251422\ttotal: 1.38s\tremaining: 0us\n",
      "Learning rate set to 0.5\n",
      "0:\tlearn: 3562.8859945\ttotal: 17.4ms\tremaining: 1.38s\n",
      "10:\tlearn: 2303.2348584\ttotal: 192ms\tremaining: 1.21s\n",
      "20:\tlearn: 2159.4817926\ttotal: 368ms\tremaining: 1.03s\n",
      "30:\tlearn: 2079.0257732\ttotal: 540ms\tremaining: 854ms\n",
      "40:\tlearn: 2026.1615988\ttotal: 716ms\tremaining: 681ms\n",
      "50:\tlearn: 1992.4034247\ttotal: 893ms\tremaining: 508ms\n",
      "60:\tlearn: 1963.0394214\ttotal: 1.06s\tremaining: 332ms\n",
      "70:\tlearn: 1944.9214412\ttotal: 1.24s\tremaining: 157ms\n",
      "79:\tlearn: 1929.7561393\ttotal: 1.39s\tremaining: 0us\n",
      "Learning rate set to 0.5\n",
      "0:\tlearn: 3554.9601696\ttotal: 17ms\tremaining: 1.34s\n",
      "10:\tlearn: 2292.0812780\ttotal: 202ms\tremaining: 1.26s\n",
      "20:\tlearn: 2154.7520036\ttotal: 372ms\tremaining: 1.04s\n",
      "30:\tlearn: 2066.5750517\ttotal: 547ms\tremaining: 864ms\n",
      "40:\tlearn: 2015.9608640\ttotal: 737ms\tremaining: 701ms\n",
      "50:\tlearn: 1977.4617067\ttotal: 941ms\tremaining: 535ms\n",
      "60:\tlearn: 1954.7104307\ttotal: 1.11s\tremaining: 348ms\n",
      "70:\tlearn: 1929.9953852\ttotal: 1.29s\tremaining: 164ms\n",
      "79:\tlearn: 1916.6518136\ttotal: 1.45s\tremaining: 0us\n",
      "Learning rate set to 0.5\n",
      "0:\tlearn: 3562.4672814\ttotal: 17.6ms\tremaining: 1.39s\n",
      "10:\tlearn: 2304.0410508\ttotal: 191ms\tremaining: 1.2s\n",
      "20:\tlearn: 2155.4524025\ttotal: 371ms\tremaining: 1.04s\n",
      "30:\tlearn: 2077.2741572\ttotal: 555ms\tremaining: 877ms\n",
      "40:\tlearn: 2024.6944352\ttotal: 735ms\tremaining: 699ms\n",
      "50:\tlearn: 1978.5400563\ttotal: 907ms\tremaining: 516ms\n",
      "60:\tlearn: 1954.1950837\ttotal: 1.08s\tremaining: 336ms\n",
      "70:\tlearn: 1929.6066390\ttotal: 1.25s\tremaining: 158ms\n",
      "79:\tlearn: 1913.2186219\ttotal: 1.4s\tremaining: 0us\n",
      "Learning rate set to 0.5\n",
      "0:\tlearn: 3309.2707405\ttotal: 24.3ms\tremaining: 1.92s\n",
      "10:\tlearn: 2006.0014817\ttotal: 269ms\tremaining: 1.69s\n",
      "20:\tlearn: 1893.2274512\ttotal: 503ms\tremaining: 1.41s\n",
      "30:\tlearn: 1834.8511516\ttotal: 740ms\tremaining: 1.17s\n",
      "40:\tlearn: 1795.5346763\ttotal: 967ms\tremaining: 920ms\n",
      "50:\tlearn: 1756.3142208\ttotal: 1.2s\tremaining: 682ms\n",
      "60:\tlearn: 1735.0681866\ttotal: 1.43s\tremaining: 446ms\n",
      "70:\tlearn: 1719.9881993\ttotal: 1.65s\tremaining: 209ms\n",
      "79:\tlearn: 1705.2711212\ttotal: 1.86s\tremaining: 0us\n",
      "Learning rate set to 0.5\n",
      "0:\tlearn: 3309.1505181\ttotal: 23.6ms\tremaining: 1.87s\n",
      "10:\tlearn: 1985.5828962\ttotal: 296ms\tremaining: 1.86s\n",
      "20:\tlearn: 1877.9566623\ttotal: 549ms\tremaining: 1.54s\n",
      "30:\tlearn: 1827.0849558\ttotal: 777ms\tremaining: 1.23s\n",
      "40:\tlearn: 1789.3999200\ttotal: 1.01s\tremaining: 959ms\n",
      "50:\tlearn: 1758.9929028\ttotal: 1.23s\tremaining: 700ms\n",
      "60:\tlearn: 1737.0146876\ttotal: 1.46s\tremaining: 454ms\n",
      "70:\tlearn: 1720.2512054\ttotal: 1.68s\tremaining: 213ms\n",
      "79:\tlearn: 1705.9126594\ttotal: 1.89s\tremaining: 0us\n",
      "Learning rate set to 0.5\n",
      "0:\tlearn: 3306.3571024\ttotal: 25.9ms\tremaining: 2.04s\n",
      "10:\tlearn: 1995.8662068\ttotal: 265ms\tremaining: 1.66s\n",
      "20:\tlearn: 1892.3772232\ttotal: 491ms\tremaining: 1.38s\n",
      "30:\tlearn: 1828.7528814\ttotal: 722ms\tremaining: 1.14s\n",
      "40:\tlearn: 1787.8432260\ttotal: 945ms\tremaining: 899ms\n",
      "50:\tlearn: 1761.3921017\ttotal: 1.17s\tremaining: 668ms\n",
      "60:\tlearn: 1738.2820600\ttotal: 1.4s\tremaining: 437ms\n",
      "70:\tlearn: 1721.6435720\ttotal: 1.63s\tremaining: 207ms\n",
      "79:\tlearn: 1710.0204117\ttotal: 1.84s\tremaining: 0us\n",
      "Learning rate set to 0.5\n",
      "0:\tlearn: 3297.9919515\ttotal: 25.4ms\tremaining: 2.01s\n",
      "10:\tlearn: 1989.2924189\ttotal: 275ms\tremaining: 1.73s\n",
      "20:\tlearn: 1877.1697784\ttotal: 507ms\tremaining: 1.43s\n",
      "30:\tlearn: 1815.2040679\ttotal: 742ms\tremaining: 1.17s\n",
      "40:\tlearn: 1780.6192423\ttotal: 978ms\tremaining: 930ms\n",
      "50:\tlearn: 1752.9592924\ttotal: 1.21s\tremaining: 686ms\n",
      "60:\tlearn: 1727.6088654\ttotal: 1.44s\tremaining: 448ms\n",
      "70:\tlearn: 1710.2673819\ttotal: 1.66s\tremaining: 211ms\n",
      "79:\tlearn: 1696.8109495\ttotal: 1.87s\tremaining: 0us\n",
      "Learning rate set to 0.5\n",
      "0:\tlearn: 3308.1487448\ttotal: 23.5ms\tremaining: 1.86s\n",
      "10:\tlearn: 2018.2895054\ttotal: 253ms\tremaining: 1.58s\n",
      "20:\tlearn: 1892.4455442\ttotal: 492ms\tremaining: 1.38s\n",
      "30:\tlearn: 1830.9300061\ttotal: 725ms\tremaining: 1.15s\n",
      "40:\tlearn: 1791.8781677\ttotal: 956ms\tremaining: 909ms\n",
      "50:\tlearn: 1764.4177279\ttotal: 1.18s\tremaining: 673ms\n",
      "60:\tlearn: 1735.7319400\ttotal: 1.41s\tremaining: 440ms\n",
      "70:\tlearn: 1716.2873333\ttotal: 1.63s\tremaining: 207ms\n",
      "79:\tlearn: 1703.6700230\ttotal: 1.84s\tremaining: 0us\n",
      "Learning rate set to 0.5\n",
      "0:\tlearn: 2966.8308935\ttotal: 316ms\tremaining: 24.9s\n",
      "10:\tlearn: 1693.6118709\ttotal: 3.41s\tremaining: 21.4s\n",
      "20:\tlearn: 1609.2805538\ttotal: 6.57s\tremaining: 18.5s\n",
      "30:\tlearn: 1550.8833727\ttotal: 9.72s\tremaining: 15.4s\n",
      "40:\tlearn: 1514.3774544\ttotal: 12.9s\tremaining: 12.3s\n",
      "50:\tlearn: 1480.0650505\ttotal: 16.2s\tremaining: 9.21s\n",
      "60:\tlearn: 1459.9247778\ttotal: 19.3s\tremaining: 6.02s\n",
      "70:\tlearn: 1431.0535507\ttotal: 22.5s\tremaining: 2.85s\n",
      "79:\tlearn: 1414.9606303\ttotal: 25.4s\tremaining: 0us\n",
      "RMSE: 1606.4268701614026 Параметры: {'iterations': 80, 'depth': 14}\n"
     ]
    }
   ],
   "source": [
    "model_cb = CatBoostRegressor(random_state=12345)\n",
    "\n",
    "param = {'depth': range(1,15,1),\n",
    "         'iterations': range(10,100,10)}\n",
    "grid = RandomizedSearchCV(model_cb, param, scoring='neg_root_mean_squared_error')\n",
    "grid.fit(X_train, y_train, verbose=10)\n",
    "best_model_cb = grid.best_estimator_\n",
    "rmse_cb = abs(grid.best_score_)\n",
    "print('RMSE:', rmse_cb, 'Параметры:', grid.best_params_)"
   ]
  },
  {
   "cell_type": "markdown",
   "metadata": {},
   "source": [
    "### LightGBM"
   ]
  },
  {
   "cell_type": "code",
   "execution_count": 22,
   "metadata": {
    "scrolled": true
   },
   "outputs": [
    {
     "name": "stderr",
     "output_type": "stream",
     "text": [
      "/opt/conda/lib/python3.9/site-packages/lightgbm/basic.py:2065: UserWarning: Using categorical_feature in Dataset.\n",
      "  _log_warning('Using categorical_feature in Dataset.')\n",
      "/opt/conda/lib/python3.9/site-packages/lightgbm/basic.py:2065: UserWarning: Using categorical_feature in Dataset.\n",
      "  _log_warning('Using categorical_feature in Dataset.')\n",
      "/opt/conda/lib/python3.9/site-packages/lightgbm/basic.py:2065: UserWarning: Using categorical_feature in Dataset.\n",
      "  _log_warning('Using categorical_feature in Dataset.')\n",
      "/opt/conda/lib/python3.9/site-packages/lightgbm/basic.py:2065: UserWarning: Using categorical_feature in Dataset.\n",
      "  _log_warning('Using categorical_feature in Dataset.')\n",
      "/opt/conda/lib/python3.9/site-packages/lightgbm/basic.py:2065: UserWarning: Using categorical_feature in Dataset.\n",
      "  _log_warning('Using categorical_feature in Dataset.')\n",
      "/opt/conda/lib/python3.9/site-packages/lightgbm/basic.py:2065: UserWarning: Using categorical_feature in Dataset.\n",
      "  _log_warning('Using categorical_feature in Dataset.')\n",
      "/opt/conda/lib/python3.9/site-packages/lightgbm/basic.py:2065: UserWarning: Using categorical_feature in Dataset.\n",
      "  _log_warning('Using categorical_feature in Dataset.')\n",
      "/opt/conda/lib/python3.9/site-packages/lightgbm/basic.py:2065: UserWarning: Using categorical_feature in Dataset.\n",
      "  _log_warning('Using categorical_feature in Dataset.')\n",
      "/opt/conda/lib/python3.9/site-packages/lightgbm/basic.py:2065: UserWarning: Using categorical_feature in Dataset.\n",
      "  _log_warning('Using categorical_feature in Dataset.')\n",
      "/opt/conda/lib/python3.9/site-packages/lightgbm/basic.py:2065: UserWarning: Using categorical_feature in Dataset.\n",
      "  _log_warning('Using categorical_feature in Dataset.')\n",
      "/opt/conda/lib/python3.9/site-packages/lightgbm/basic.py:2065: UserWarning: Using categorical_feature in Dataset.\n",
      "  _log_warning('Using categorical_feature in Dataset.')\n",
      "/opt/conda/lib/python3.9/site-packages/lightgbm/basic.py:2065: UserWarning: Using categorical_feature in Dataset.\n",
      "  _log_warning('Using categorical_feature in Dataset.')\n",
      "/opt/conda/lib/python3.9/site-packages/lightgbm/basic.py:2065: UserWarning: Using categorical_feature in Dataset.\n",
      "  _log_warning('Using categorical_feature in Dataset.')\n",
      "/opt/conda/lib/python3.9/site-packages/lightgbm/basic.py:2065: UserWarning: Using categorical_feature in Dataset.\n",
      "  _log_warning('Using categorical_feature in Dataset.')\n",
      "/opt/conda/lib/python3.9/site-packages/lightgbm/basic.py:2065: UserWarning: Using categorical_feature in Dataset.\n",
      "  _log_warning('Using categorical_feature in Dataset.')\n",
      "/opt/conda/lib/python3.9/site-packages/lightgbm/basic.py:2065: UserWarning: Using categorical_feature in Dataset.\n",
      "  _log_warning('Using categorical_feature in Dataset.')\n",
      "/opt/conda/lib/python3.9/site-packages/lightgbm/basic.py:2065: UserWarning: Using categorical_feature in Dataset.\n",
      "  _log_warning('Using categorical_feature in Dataset.')\n",
      "/opt/conda/lib/python3.9/site-packages/lightgbm/basic.py:2065: UserWarning: Using categorical_feature in Dataset.\n",
      "  _log_warning('Using categorical_feature in Dataset.')\n",
      "/opt/conda/lib/python3.9/site-packages/lightgbm/basic.py:2065: UserWarning: Using categorical_feature in Dataset.\n",
      "  _log_warning('Using categorical_feature in Dataset.')\n",
      "/opt/conda/lib/python3.9/site-packages/lightgbm/basic.py:2065: UserWarning: Using categorical_feature in Dataset.\n",
      "  _log_warning('Using categorical_feature in Dataset.')\n",
      "/opt/conda/lib/python3.9/site-packages/lightgbm/basic.py:2065: UserWarning: Using categorical_feature in Dataset.\n",
      "  _log_warning('Using categorical_feature in Dataset.')\n",
      "/opt/conda/lib/python3.9/site-packages/lightgbm/basic.py:2065: UserWarning: Using categorical_feature in Dataset.\n",
      "  _log_warning('Using categorical_feature in Dataset.')\n",
      "/opt/conda/lib/python3.9/site-packages/lightgbm/basic.py:2065: UserWarning: Using categorical_feature in Dataset.\n",
      "  _log_warning('Using categorical_feature in Dataset.')\n",
      "/opt/conda/lib/python3.9/site-packages/lightgbm/basic.py:2065: UserWarning: Using categorical_feature in Dataset.\n",
      "  _log_warning('Using categorical_feature in Dataset.')\n",
      "/opt/conda/lib/python3.9/site-packages/lightgbm/basic.py:2065: UserWarning: Using categorical_feature in Dataset.\n",
      "  _log_warning('Using categorical_feature in Dataset.')\n",
      "/opt/conda/lib/python3.9/site-packages/lightgbm/basic.py:2065: UserWarning: Using categorical_feature in Dataset.\n",
      "  _log_warning('Using categorical_feature in Dataset.')\n",
      "/opt/conda/lib/python3.9/site-packages/lightgbm/basic.py:2065: UserWarning: Using categorical_feature in Dataset.\n",
      "  _log_warning('Using categorical_feature in Dataset.')\n",
      "/opt/conda/lib/python3.9/site-packages/lightgbm/basic.py:2065: UserWarning: Using categorical_feature in Dataset.\n",
      "  _log_warning('Using categorical_feature in Dataset.')\n",
      "/opt/conda/lib/python3.9/site-packages/lightgbm/basic.py:2065: UserWarning: Using categorical_feature in Dataset.\n",
      "  _log_warning('Using categorical_feature in Dataset.')\n",
      "/opt/conda/lib/python3.9/site-packages/lightgbm/basic.py:2065: UserWarning: Using categorical_feature in Dataset.\n",
      "  _log_warning('Using categorical_feature in Dataset.')\n",
      "/opt/conda/lib/python3.9/site-packages/lightgbm/basic.py:2065: UserWarning: Using categorical_feature in Dataset.\n",
      "  _log_warning('Using categorical_feature in Dataset.')\n",
      "/opt/conda/lib/python3.9/site-packages/lightgbm/basic.py:2065: UserWarning: Using categorical_feature in Dataset.\n",
      "  _log_warning('Using categorical_feature in Dataset.')\n",
      "/opt/conda/lib/python3.9/site-packages/lightgbm/basic.py:2065: UserWarning: Using categorical_feature in Dataset.\n",
      "  _log_warning('Using categorical_feature in Dataset.')\n",
      "/opt/conda/lib/python3.9/site-packages/lightgbm/basic.py:2065: UserWarning: Using categorical_feature in Dataset.\n",
      "  _log_warning('Using categorical_feature in Dataset.')\n",
      "/opt/conda/lib/python3.9/site-packages/lightgbm/basic.py:2065: UserWarning: Using categorical_feature in Dataset.\n",
      "  _log_warning('Using categorical_feature in Dataset.')\n",
      "/opt/conda/lib/python3.9/site-packages/lightgbm/basic.py:2065: UserWarning: Using categorical_feature in Dataset.\n",
      "  _log_warning('Using categorical_feature in Dataset.')\n",
      "/opt/conda/lib/python3.9/site-packages/lightgbm/basic.py:2065: UserWarning: Using categorical_feature in Dataset.\n",
      "  _log_warning('Using categorical_feature in Dataset.')\n",
      "/opt/conda/lib/python3.9/site-packages/lightgbm/basic.py:2065: UserWarning: Using categorical_feature in Dataset.\n",
      "  _log_warning('Using categorical_feature in Dataset.')\n",
      "/opt/conda/lib/python3.9/site-packages/lightgbm/basic.py:2065: UserWarning: Using categorical_feature in Dataset.\n",
      "  _log_warning('Using categorical_feature in Dataset.')\n",
      "/opt/conda/lib/python3.9/site-packages/lightgbm/basic.py:2065: UserWarning: Using categorical_feature in Dataset.\n",
      "  _log_warning('Using categorical_feature in Dataset.')\n",
      "/opt/conda/lib/python3.9/site-packages/lightgbm/basic.py:2065: UserWarning: Using categorical_feature in Dataset.\n",
      "  _log_warning('Using categorical_feature in Dataset.')\n",
      "/opt/conda/lib/python3.9/site-packages/lightgbm/basic.py:2065: UserWarning: Using categorical_feature in Dataset.\n",
      "  _log_warning('Using categorical_feature in Dataset.')\n",
      "/opt/conda/lib/python3.9/site-packages/lightgbm/basic.py:2065: UserWarning: Using categorical_feature in Dataset.\n",
      "  _log_warning('Using categorical_feature in Dataset.')\n",
      "/opt/conda/lib/python3.9/site-packages/lightgbm/basic.py:2065: UserWarning: Using categorical_feature in Dataset.\n",
      "  _log_warning('Using categorical_feature in Dataset.')\n",
      "/opt/conda/lib/python3.9/site-packages/lightgbm/basic.py:2065: UserWarning: Using categorical_feature in Dataset.\n",
      "  _log_warning('Using categorical_feature in Dataset.')\n",
      "/opt/conda/lib/python3.9/site-packages/lightgbm/basic.py:2065: UserWarning: Using categorical_feature in Dataset.\n",
      "  _log_warning('Using categorical_feature in Dataset.')\n",
      "/opt/conda/lib/python3.9/site-packages/lightgbm/basic.py:2065: UserWarning: Using categorical_feature in Dataset.\n",
      "  _log_warning('Using categorical_feature in Dataset.')\n",
      "/opt/conda/lib/python3.9/site-packages/lightgbm/basic.py:2065: UserWarning: Using categorical_feature in Dataset.\n",
      "  _log_warning('Using categorical_feature in Dataset.')\n",
      "/opt/conda/lib/python3.9/site-packages/lightgbm/basic.py:2065: UserWarning: Using categorical_feature in Dataset.\n",
      "  _log_warning('Using categorical_feature in Dataset.')\n",
      "/opt/conda/lib/python3.9/site-packages/lightgbm/basic.py:2065: UserWarning: Using categorical_feature in Dataset.\n",
      "  _log_warning('Using categorical_feature in Dataset.')\n",
      "/opt/conda/lib/python3.9/site-packages/lightgbm/basic.py:2065: UserWarning: Using categorical_feature in Dataset.\n",
      "  _log_warning('Using categorical_feature in Dataset.')\n"
     ]
    },
    {
     "name": "stdout",
     "output_type": "stream",
     "text": [
      "RMSE: 1731.3311311526115 Параметры: {'n_estimators': 90, 'max_depth': 8}\n"
     ]
    }
   ],
   "source": [
    "categorical_features = [col for col in list(X_train.columns) if col not in numeric]\n",
    "\n",
    "model_lgbm = LGBMRegressor(random_state=12345)\n",
    "param = {'max_depth': range(1,15,1),\n",
    "         'n_estimators': range(10,100,10)}\n",
    "grid = RandomizedSearchCV(model_lgbm, param, n_iter=10, scoring='neg_root_mean_squared_error')\n",
    "grid.fit(X_train, y_train, categorical_feature=categorical_features)\n",
    "best_model_lgbm = grid.best_estimator_\n",
    "rmse_lgbm = abs(grid.best_score_)\n",
    "print('RMSE:', rmse_lgbm, 'Параметры:', grid.best_params_)"
   ]
  },
  {
   "cell_type": "markdown",
   "metadata": {},
   "source": [
    "## Анализ моделей"
   ]
  },
  {
   "cell_type": "markdown",
   "metadata": {},
   "source": [
    "Сравним важные для заказчика критерии, соберем время обучения, предсказания и RMSE в одной таблице."
   ]
  },
  {
   "cell_type": "code",
   "execution_count": 23,
   "metadata": {},
   "outputs": [],
   "source": [
    "#функция, возвращающая время обучения, предсказания и RMSE модели\n",
    "def model_param(best_model, rmse):\n",
    "    start = time.time()\n",
    "    best_model.fit(X_train, y_train)\n",
    "    end = time.time()\n",
    "    fit_time = end - start\n",
    "    \n",
    "    start = time.time()\n",
    "    predict = best_model.predict(X_train)\n",
    "    end = time.time()\n",
    "    predict_time = end - start\n",
    "    \n",
    "    return round(fit_time, 3), round(predict_time, 3), round(rmse, 3)"
   ]
  },
  {
   "cell_type": "code",
   "execution_count": 24,
   "metadata": {
    "scrolled": true
   },
   "outputs": [
    {
     "name": "stdout",
     "output_type": "stream",
     "text": [
      "Learning rate set to 0.5\n",
      "0:\tlearn: 2966.8308935\ttotal: 365ms\tremaining: 28.9s\n",
      "1:\tlearn: 2269.3830597\ttotal: 699ms\tremaining: 27.3s\n",
      "2:\tlearn: 1996.8172983\ttotal: 1.03s\tremaining: 26.5s\n",
      "3:\tlearn: 1865.5545934\ttotal: 1.38s\tremaining: 26.3s\n",
      "4:\tlearn: 1812.2243910\ttotal: 1.72s\tremaining: 25.7s\n",
      "5:\tlearn: 1777.1833203\ttotal: 2.06s\tremaining: 25.5s\n",
      "6:\tlearn: 1755.8628866\ttotal: 2.38s\tremaining: 24.8s\n",
      "7:\tlearn: 1736.6611715\ttotal: 2.7s\tremaining: 24.3s\n",
      "8:\tlearn: 1719.2549677\ttotal: 3.02s\tremaining: 23.8s\n",
      "9:\tlearn: 1703.9802905\ttotal: 3.37s\tremaining: 23.6s\n",
      "10:\tlearn: 1693.6118709\ttotal: 3.73s\tremaining: 23.4s\n",
      "11:\tlearn: 1683.5010203\ttotal: 4.04s\tremaining: 22.9s\n",
      "12:\tlearn: 1671.3794018\ttotal: 4.36s\tremaining: 22.5s\n",
      "13:\tlearn: 1661.8869432\ttotal: 4.67s\tremaining: 22s\n",
      "14:\tlearn: 1651.7338873\ttotal: 4.99s\tremaining: 21.6s\n",
      "15:\tlearn: 1642.5752781\ttotal: 5.3s\tremaining: 21.2s\n",
      "16:\tlearn: 1635.9390985\ttotal: 5.63s\tremaining: 20.9s\n",
      "17:\tlearn: 1626.9898969\ttotal: 5.96s\tremaining: 20.5s\n",
      "18:\tlearn: 1621.2591692\ttotal: 6.26s\tremaining: 20.1s\n",
      "19:\tlearn: 1614.0495555\ttotal: 6.58s\tremaining: 19.7s\n",
      "20:\tlearn: 1609.2805538\ttotal: 6.89s\tremaining: 19.4s\n",
      "21:\tlearn: 1601.7615995\ttotal: 7.2s\tremaining: 19s\n",
      "22:\tlearn: 1593.8857115\ttotal: 7.51s\tremaining: 18.6s\n",
      "23:\tlearn: 1589.2126484\ttotal: 7.83s\tremaining: 18.3s\n",
      "24:\tlearn: 1580.1021893\ttotal: 8.14s\tremaining: 17.9s\n",
      "25:\tlearn: 1571.9504722\ttotal: 8.45s\tremaining: 17.6s\n",
      "26:\tlearn: 1567.0516222\ttotal: 8.76s\tremaining: 17.2s\n",
      "27:\tlearn: 1562.5886948\ttotal: 9.07s\tremaining: 16.8s\n",
      "28:\tlearn: 1557.8695325\ttotal: 9.38s\tremaining: 16.5s\n",
      "29:\tlearn: 1554.3559864\ttotal: 9.7s\tremaining: 16.2s\n",
      "30:\tlearn: 1550.8833727\ttotal: 10s\tremaining: 15.9s\n",
      "31:\tlearn: 1545.5098665\ttotal: 10.3s\tremaining: 15.5s\n",
      "32:\tlearn: 1542.6245607\ttotal: 10.7s\tremaining: 15.2s\n",
      "33:\tlearn: 1538.9030667\ttotal: 11s\tremaining: 14.9s\n",
      "34:\tlearn: 1535.1540176\ttotal: 11.3s\tremaining: 14.6s\n",
      "35:\tlearn: 1531.4618711\ttotal: 11.7s\tremaining: 14.2s\n",
      "36:\tlearn: 1529.1996174\ttotal: 12s\tremaining: 13.9s\n",
      "37:\tlearn: 1525.5147905\ttotal: 12.3s\tremaining: 13.6s\n",
      "38:\tlearn: 1520.5573731\ttotal: 12.6s\tremaining: 13.3s\n",
      "39:\tlearn: 1516.8378745\ttotal: 13s\tremaining: 13s\n",
      "40:\tlearn: 1514.3774544\ttotal: 13.3s\tremaining: 12.6s\n",
      "41:\tlearn: 1510.8291087\ttotal: 13.6s\tremaining: 12.3s\n",
      "42:\tlearn: 1506.5260529\ttotal: 14s\tremaining: 12s\n",
      "43:\tlearn: 1504.5612673\ttotal: 14.3s\tremaining: 11.7s\n",
      "44:\tlearn: 1499.4473621\ttotal: 14.6s\tremaining: 11.3s\n",
      "45:\tlearn: 1496.2018490\ttotal: 14.9s\tremaining: 11s\n",
      "46:\tlearn: 1491.3728306\ttotal: 15.2s\tremaining: 10.7s\n",
      "47:\tlearn: 1489.0902325\ttotal: 15.5s\tremaining: 10.3s\n",
      "48:\tlearn: 1486.0722950\ttotal: 15.9s\tremaining: 10s\n",
      "49:\tlearn: 1482.4420465\ttotal: 16.2s\tremaining: 9.71s\n",
      "50:\tlearn: 1480.0650505\ttotal: 16.5s\tremaining: 9.37s\n",
      "51:\tlearn: 1476.7939150\ttotal: 16.8s\tremaining: 9.05s\n",
      "52:\tlearn: 1473.2035975\ttotal: 17.1s\tremaining: 8.72s\n",
      "53:\tlearn: 1471.2673746\ttotal: 17.4s\tremaining: 8.39s\n",
      "54:\tlearn: 1469.5598484\ttotal: 17.7s\tremaining: 8.06s\n",
      "55:\tlearn: 1468.0095826\ttotal: 18.1s\tremaining: 7.75s\n",
      "56:\tlearn: 1466.6065470\ttotal: 18.4s\tremaining: 7.43s\n",
      "57:\tlearn: 1464.3135502\ttotal: 18.7s\tremaining: 7.1s\n",
      "58:\tlearn: 1463.5082154\ttotal: 19s\tremaining: 6.78s\n",
      "59:\tlearn: 1462.2485523\ttotal: 19.4s\tremaining: 6.45s\n",
      "60:\tlearn: 1459.9247778\ttotal: 19.7s\tremaining: 6.13s\n",
      "61:\tlearn: 1457.1461581\ttotal: 20s\tremaining: 5.81s\n",
      "62:\tlearn: 1455.3766859\ttotal: 20.3s\tremaining: 5.48s\n",
      "63:\tlearn: 1450.5824564\ttotal: 20.6s\tremaining: 5.16s\n",
      "64:\tlearn: 1447.5694574\ttotal: 20.9s\tremaining: 4.83s\n",
      "65:\tlearn: 1443.4100100\ttotal: 21.2s\tremaining: 4.5s\n",
      "66:\tlearn: 1441.1262806\ttotal: 21.6s\tremaining: 4.18s\n",
      "67:\tlearn: 1437.2190318\ttotal: 21.9s\tremaining: 3.86s\n",
      "68:\tlearn: 1435.3116673\ttotal: 22.2s\tremaining: 3.53s\n",
      "69:\tlearn: 1432.6596859\ttotal: 22.5s\tremaining: 3.21s\n",
      "70:\tlearn: 1431.0535507\ttotal: 22.8s\tremaining: 2.89s\n",
      "71:\tlearn: 1429.5065777\ttotal: 23.1s\tremaining: 2.57s\n",
      "72:\tlearn: 1427.8374018\ttotal: 23.4s\tremaining: 2.25s\n",
      "73:\tlearn: 1426.3426480\ttotal: 23.7s\tremaining: 1.93s\n",
      "74:\tlearn: 1424.3491604\ttotal: 24.1s\tremaining: 1.6s\n",
      "75:\tlearn: 1423.0883761\ttotal: 24.4s\tremaining: 1.28s\n",
      "76:\tlearn: 1421.0274189\ttotal: 24.7s\tremaining: 962ms\n",
      "77:\tlearn: 1418.4612979\ttotal: 25s\tremaining: 641ms\n",
      "78:\tlearn: 1416.7900778\ttotal: 25.3s\tremaining: 320ms\n",
      "79:\tlearn: 1414.9606303\ttotal: 25.6s\tremaining: 0us\n"
     ]
    }
   ],
   "source": [
    "res = []\n",
    "res.append(model_param(best_model_dt, rmse_dt))\n",
    "res.append(model_param(best_model_rf, rmse_rf))\n",
    "res.append(model_param(best_model_cb, rmse_cb))\n",
    "res.append(model_param(best_model_lgbm, rmse_lgbm))"
   ]
  },
  {
   "cell_type": "code",
   "execution_count": 25,
   "metadata": {},
   "outputs": [
    {
     "data": {
      "text/html": [
       "<div>\n",
       "<style scoped>\n",
       "    .dataframe tbody tr th:only-of-type {\n",
       "        vertical-align: middle;\n",
       "    }\n",
       "\n",
       "    .dataframe tbody tr th {\n",
       "        vertical-align: top;\n",
       "    }\n",
       "\n",
       "    .dataframe thead th {\n",
       "        text-align: right;\n",
       "    }\n",
       "</style>\n",
       "<table border=\"1\" class=\"dataframe\">\n",
       "  <thead>\n",
       "    <tr style=\"text-align: right;\">\n",
       "      <th></th>\n",
       "      <th>Время обучения</th>\n",
       "      <th>Время предсказания</th>\n",
       "      <th>RMSE</th>\n",
       "    </tr>\n",
       "  </thead>\n",
       "  <tbody>\n",
       "    <tr>\n",
       "      <th>Decision Tree</th>\n",
       "      <td>6.690</td>\n",
       "      <td>0.428</td>\n",
       "      <td>1882.646</td>\n",
       "    </tr>\n",
       "    <tr>\n",
       "      <th>Random Forest</th>\n",
       "      <td>127.534</td>\n",
       "      <td>1.353</td>\n",
       "      <td>1915.609</td>\n",
       "    </tr>\n",
       "    <tr>\n",
       "      <th>CatBoost</th>\n",
       "      <td>27.601</td>\n",
       "      <td>0.253</td>\n",
       "      <td>1606.427</td>\n",
       "    </tr>\n",
       "    <tr>\n",
       "      <th>LightGBM</th>\n",
       "      <td>22.324</td>\n",
       "      <td>2.735</td>\n",
       "      <td>1731.331</td>\n",
       "    </tr>\n",
       "  </tbody>\n",
       "</table>\n",
       "</div>"
      ],
      "text/plain": [
       "               Время обучения  Время предсказания      RMSE\n",
       "Decision Tree           6.690               0.428  1882.646\n",
       "Random Forest         127.534               1.353  1915.609\n",
       "CatBoost               27.601               0.253  1606.427\n",
       "LightGBM               22.324               2.735  1731.331"
      ]
     },
     "execution_count": 25,
     "metadata": {},
     "output_type": "execute_result"
    }
   ],
   "source": [
    "pd.DataFrame(data = res,\n",
    "             index = ['Decision Tree', 'Random Forest', 'CatBoost', 'LightGBM'], \n",
    "             columns = ['Время обучения', 'Время предсказания', 'RMSE'])"
   ]
  },
  {
   "cell_type": "markdown",
   "metadata": {},
   "source": [
    "Самое быстрое время предсказания и самое маленькое RMSE у модели CatBoost, но она усупает по времени обучения дереву решений и LightGBM, тем не менее остановим выбор на модели CatBoost."
   ]
  },
  {
   "cell_type": "markdown",
   "metadata": {},
   "source": [
    "Проверим работу модели на тестовой выборке."
   ]
  },
  {
   "cell_type": "code",
   "execution_count": 26,
   "metadata": {},
   "outputs": [
    {
     "name": "stdout",
     "output_type": "stream",
     "text": [
      "RMSE: 1605.4753088998527\n"
     ]
    }
   ],
   "source": [
    "predictions = best_model_cb.predict(X_test)\n",
    "print('RMSE:', mean_squared_error(y_test, predictions)**0.5)"
   ]
  },
  {
   "cell_type": "markdown",
   "metadata": {},
   "source": [
    "## Вывод"
   ]
  },
  {
   "cell_type": "markdown",
   "metadata": {},
   "source": [
    "В данной работе были изучены и подготовлены предоставленные данные, обучены 4 различных модели, определяющих цену автомобилей. Опираясь на важные для заказчика критерии (время обучения, время предсказания и качество предсказания), была выбрана лучшая модель - модель CatBoost с параметрами iterations=80, depth=14. Данная модель была проверена на тестовой выборке, результат RMSE на тестовой выборке - 1605.48."
   ]
  }
 ],
 "metadata": {
  "ExecuteTimeLog": [
   {
    "duration": 328,
    "start_time": "2022-08-12T16:46:46.003Z"
   },
   {
    "duration": 2923,
    "start_time": "2022-08-12T16:48:20.608Z"
   },
   {
    "duration": 121,
    "start_time": "2022-08-12T16:49:28.136Z"
   },
   {
    "duration": 60,
    "start_time": "2022-08-12T17:14:48.019Z"
   },
   {
    "duration": 396,
    "start_time": "2022-08-12T17:15:18.325Z"
   },
   {
    "duration": 411,
    "start_time": "2022-08-12T17:15:24.971Z"
   },
   {
    "duration": 546,
    "start_time": "2022-08-12T17:32:20.436Z"
   },
   {
    "duration": 423,
    "start_time": "2022-08-12T17:32:24.303Z"
   },
   {
    "duration": 357,
    "start_time": "2022-08-12T17:32:32.997Z"
   },
   {
    "duration": 783,
    "start_time": "2022-08-12T17:32:33.356Z"
   },
   {
    "duration": 119,
    "start_time": "2022-08-12T17:32:34.140Z"
   },
   {
    "duration": 448,
    "start_time": "2022-08-12T17:32:34.261Z"
   },
   {
    "duration": 504,
    "start_time": "2022-08-12T17:32:34.711Z"
   },
   {
    "duration": 108,
    "start_time": "2022-08-12T17:43:23.966Z"
   },
   {
    "duration": 32,
    "start_time": "2022-08-12T17:43:37.624Z"
   },
   {
    "duration": 377,
    "start_time": "2022-08-12T17:43:40.975Z"
   },
   {
    "duration": 811,
    "start_time": "2022-08-12T17:43:41.354Z"
   },
   {
    "duration": 125,
    "start_time": "2022-08-12T17:43:42.167Z"
   },
   {
    "duration": 463,
    "start_time": "2022-08-12T17:43:42.294Z"
   },
   {
    "duration": 474,
    "start_time": "2022-08-12T17:43:42.760Z"
   },
   {
    "duration": 35,
    "start_time": "2022-08-12T17:43:43.236Z"
   },
   {
    "duration": 53,
    "start_time": "2022-08-12T17:48:49.073Z"
   },
   {
    "duration": 904,
    "start_time": "2022-08-12T17:49:50.347Z"
   },
   {
    "duration": 373,
    "start_time": "2022-08-12T17:51:07.747Z"
   },
   {
    "duration": 32,
    "start_time": "2022-08-12T18:04:06.605Z"
   },
   {
    "duration": 18,
    "start_time": "2022-08-12T18:04:21.918Z"
   },
   {
    "duration": 26,
    "start_time": "2022-08-12T18:06:34.272Z"
   },
   {
    "duration": 108,
    "start_time": "2022-08-12T18:15:57.204Z"
   },
   {
    "duration": 9,
    "start_time": "2022-08-12T18:16:04.014Z"
   },
   {
    "duration": 83,
    "start_time": "2022-08-12T18:16:14.548Z"
   },
   {
    "duration": 38,
    "start_time": "2022-08-12T18:17:56.852Z"
   },
   {
    "duration": 26,
    "start_time": "2022-08-12T18:18:25.553Z"
   },
   {
    "duration": 18,
    "start_time": "2022-08-12T18:19:04.050Z"
   },
   {
    "duration": 295,
    "start_time": "2022-08-12T18:19:12.148Z"
   },
   {
    "duration": 238,
    "start_time": "2022-08-12T18:20:10.880Z"
   },
   {
    "duration": 245,
    "start_time": "2022-08-12T18:20:24.551Z"
   },
   {
    "duration": 10,
    "start_time": "2022-08-12T18:20:36.247Z"
   },
   {
    "duration": 28,
    "start_time": "2022-08-12T18:21:17.249Z"
   },
   {
    "duration": 77,
    "start_time": "2022-08-12T18:21:50.750Z"
   },
   {
    "duration": 275,
    "start_time": "2022-08-12T18:21:55.990Z"
   },
   {
    "duration": 49,
    "start_time": "2022-08-12T18:23:20.972Z"
   },
   {
    "duration": 23,
    "start_time": "2022-08-12T18:23:46.388Z"
   },
   {
    "duration": 153,
    "start_time": "2022-08-12T18:23:52.253Z"
   },
   {
    "duration": 21,
    "start_time": "2022-08-12T18:29:07.246Z"
   },
   {
    "duration": 4,
    "start_time": "2022-08-12T18:31:25.977Z"
   },
   {
    "duration": 36,
    "start_time": "2022-08-12T18:31:42.906Z"
   },
   {
    "duration": 106,
    "start_time": "2022-08-12T18:34:08.450Z"
   },
   {
    "duration": 10,
    "start_time": "2022-08-12T18:34:36.757Z"
   },
   {
    "duration": 79,
    "start_time": "2022-08-12T18:36:21.786Z"
   },
   {
    "duration": 76,
    "start_time": "2022-08-12T18:36:56.557Z"
   },
   {
    "duration": 77,
    "start_time": "2022-08-12T18:37:02.836Z"
   },
   {
    "duration": 73,
    "start_time": "2022-08-12T18:39:05.736Z"
   },
   {
    "duration": 86,
    "start_time": "2022-08-12T18:39:11.003Z"
   },
   {
    "duration": 41,
    "start_time": "2022-08-12T19:12:04.652Z"
   },
   {
    "duration": 38,
    "start_time": "2022-08-12T19:12:26.006Z"
   },
   {
    "duration": 154,
    "start_time": "2022-08-12T19:12:33.974Z"
   },
   {
    "duration": 203,
    "start_time": "2022-08-12T19:12:47.280Z"
   },
   {
    "duration": 32,
    "start_time": "2022-08-12T19:13:30.255Z"
   },
   {
    "duration": 1333,
    "start_time": "2022-08-16T17:23:49.275Z"
   },
   {
    "duration": 1171,
    "start_time": "2022-08-16T17:23:50.611Z"
   },
   {
    "duration": 135,
    "start_time": "2022-08-16T17:23:51.783Z"
   },
   {
    "duration": 484,
    "start_time": "2022-08-16T17:23:51.922Z"
   },
   {
    "duration": 488,
    "start_time": "2022-08-16T17:23:52.408Z"
   },
   {
    "duration": 34,
    "start_time": "2022-08-16T17:23:52.900Z"
   },
   {
    "duration": 28,
    "start_time": "2022-08-16T17:23:52.936Z"
   },
   {
    "duration": 86,
    "start_time": "2022-08-16T17:23:52.965Z"
   },
   {
    "duration": 67,
    "start_time": "2022-08-16T17:23:53.053Z"
   },
   {
    "duration": 432,
    "start_time": "2022-08-16T17:23:53.123Z"
   },
   {
    "duration": 201,
    "start_time": "2022-08-16T17:23:53.557Z"
   },
   {
    "duration": 112,
    "start_time": "2022-08-16T17:24:38.259Z"
   },
   {
    "duration": 9,
    "start_time": "2022-08-16T17:25:03.299Z"
   },
   {
    "duration": 8,
    "start_time": "2022-08-16T17:25:17.065Z"
   },
   {
    "duration": 8,
    "start_time": "2022-08-16T17:25:23.067Z"
   },
   {
    "duration": 9,
    "start_time": "2022-08-16T17:25:31.810Z"
   },
   {
    "duration": 8,
    "start_time": "2022-08-16T17:26:04.490Z"
   },
   {
    "duration": 9,
    "start_time": "2022-08-16T17:26:06.223Z"
   },
   {
    "duration": 9,
    "start_time": "2022-08-16T17:26:06.834Z"
   },
   {
    "duration": 7,
    "start_time": "2022-08-16T17:26:07.071Z"
   },
   {
    "duration": 8,
    "start_time": "2022-08-16T17:26:07.286Z"
   },
   {
    "duration": 12,
    "start_time": "2022-08-16T17:26:07.527Z"
   },
   {
    "duration": 8,
    "start_time": "2022-08-16T17:26:07.758Z"
   },
   {
    "duration": 16,
    "start_time": "2022-08-16T17:26:22.242Z"
   },
   {
    "duration": 1389,
    "start_time": "2022-08-21T09:29:16.087Z"
   },
   {
    "duration": 1057,
    "start_time": "2022-08-21T09:29:17.822Z"
   },
   {
    "duration": 123,
    "start_time": "2022-08-21T09:29:20.232Z"
   },
   {
    "duration": 419,
    "start_time": "2022-08-21T09:29:22.237Z"
   },
   {
    "duration": 465,
    "start_time": "2022-08-21T09:29:24.651Z"
   },
   {
    "duration": 36,
    "start_time": "2022-08-21T09:29:26.947Z"
   },
   {
    "duration": 24,
    "start_time": "2022-08-21T09:29:28.625Z"
   },
   {
    "duration": 75,
    "start_time": "2022-08-21T09:29:30.865Z"
   },
   {
    "duration": 18,
    "start_time": "2022-08-21T09:30:30.037Z"
   },
   {
    "duration": 71,
    "start_time": "2022-08-21T09:30:53.695Z"
   },
   {
    "duration": 145,
    "start_time": "2022-08-21T09:31:40.540Z"
   },
   {
    "duration": 68,
    "start_time": "2022-08-21T09:31:52.610Z"
   },
   {
    "duration": 278,
    "start_time": "2022-08-21T09:41:46.954Z"
   },
   {
    "duration": 51,
    "start_time": "2022-08-21T09:42:14.107Z"
   },
   {
    "duration": 236,
    "start_time": "2022-08-21T09:42:46.504Z"
   },
   {
    "duration": 345,
    "start_time": "2022-08-21T09:42:55.105Z"
   },
   {
    "duration": 18,
    "start_time": "2022-08-21T09:54:51.002Z"
   },
   {
    "duration": 7,
    "start_time": "2022-08-21T09:56:51.686Z"
   },
   {
    "duration": 5,
    "start_time": "2022-08-21T09:57:19.544Z"
   },
   {
    "duration": 38,
    "start_time": "2022-08-21T10:02:16.331Z"
   },
   {
    "duration": 21,
    "start_time": "2022-08-21T10:02:25.629Z"
   },
   {
    "duration": 146,
    "start_time": "2022-08-21T10:05:20.254Z"
   },
   {
    "duration": 226,
    "start_time": "2022-08-21T10:07:04.160Z"
   },
   {
    "duration": 661,
    "start_time": "2022-08-21T10:12:27.041Z"
   },
   {
    "duration": 265,
    "start_time": "2022-08-21T10:12:39.660Z"
   },
   {
    "duration": 166,
    "start_time": "2022-08-21T10:12:53.547Z"
   },
   {
    "duration": 250,
    "start_time": "2022-08-21T10:14:18.683Z"
   },
   {
    "duration": 2,
    "start_time": "2022-08-21T10:14:29.090Z"
   },
   {
    "duration": 18,
    "start_time": "2022-08-21T10:21:43.561Z"
   },
   {
    "duration": 517,
    "start_time": "2022-08-21T10:27:18.095Z"
   },
   {
    "duration": 175,
    "start_time": "2022-08-21T10:32:05.382Z"
   },
   {
    "duration": 139,
    "start_time": "2022-08-21T10:32:27.731Z"
   },
   {
    "duration": 367,
    "start_time": "2022-08-21T10:45:19.679Z"
   },
   {
    "duration": 3,
    "start_time": "2022-08-21T10:45:58.609Z"
   },
   {
    "duration": 73862,
    "start_time": "2022-08-21T10:58:58.875Z"
   },
   {
    "duration": 73629,
    "start_time": "2022-08-21T11:00:38.745Z"
   },
   {
    "duration": 1621,
    "start_time": "2022-08-25T10:43:22.177Z"
   },
   {
    "duration": 1056,
    "start_time": "2022-08-25T10:43:23.800Z"
   },
   {
    "duration": 120,
    "start_time": "2022-08-25T10:43:24.858Z"
   },
   {
    "duration": 505,
    "start_time": "2022-08-25T10:43:24.979Z"
   },
   {
    "duration": 498,
    "start_time": "2022-08-25T10:43:25.487Z"
   },
   {
    "duration": 32,
    "start_time": "2022-08-25T10:43:25.986Z"
   },
   {
    "duration": 24,
    "start_time": "2022-08-25T10:43:26.020Z"
   },
   {
    "duration": 82,
    "start_time": "2022-08-25T10:43:26.045Z"
   },
   {
    "duration": 78,
    "start_time": "2022-08-25T10:43:26.129Z"
   },
   {
    "duration": 58,
    "start_time": "2022-08-25T10:43:26.209Z"
   },
   {
    "duration": 22,
    "start_time": "2022-08-25T10:43:26.269Z"
   },
   {
    "duration": 433,
    "start_time": "2022-08-25T10:43:26.293Z"
   },
   {
    "duration": 263,
    "start_time": "2022-08-25T10:43:26.728Z"
   },
   {
    "duration": 737,
    "start_time": "2022-08-25T10:43:26.994Z"
   },
   {
    "duration": 601,
    "start_time": "2022-08-25T10:43:27.733Z"
   },
   {
    "duration": 199,
    "start_time": "2022-08-25T10:43:28.335Z"
   },
   {
    "duration": 74036,
    "start_time": "2022-08-25T10:43:28.536Z"
   },
   {
    "duration": 121,
    "start_time": "2022-08-27T14:15:23.625Z"
   },
   {
    "duration": 1757,
    "start_time": "2022-08-27T14:15:28.603Z"
   },
   {
    "duration": 1110,
    "start_time": "2022-08-27T14:15:30.362Z"
   },
   {
    "duration": 122,
    "start_time": "2022-08-27T14:15:31.474Z"
   },
   {
    "duration": 432,
    "start_time": "2022-08-27T14:15:31.598Z"
   },
   {
    "duration": 444,
    "start_time": "2022-08-27T14:15:32.032Z"
   },
   {
    "duration": 48,
    "start_time": "2022-08-27T14:15:32.478Z"
   },
   {
    "duration": 33,
    "start_time": "2022-08-27T14:15:32.533Z"
   },
   {
    "duration": 108,
    "start_time": "2022-08-27T14:15:32.568Z"
   },
   {
    "duration": 95,
    "start_time": "2022-08-27T14:15:32.679Z"
   },
   {
    "duration": 75,
    "start_time": "2022-08-27T14:15:32.777Z"
   },
   {
    "duration": 23,
    "start_time": "2022-08-27T14:15:32.854Z"
   },
   {
    "duration": 385,
    "start_time": "2022-08-27T14:15:32.880Z"
   },
   {
    "duration": 259,
    "start_time": "2022-08-27T14:15:33.266Z"
   },
   {
    "duration": 519,
    "start_time": "2022-08-27T14:15:33.529Z"
   },
   {
    "duration": 464,
    "start_time": "2022-08-27T14:15:34.049Z"
   },
   {
    "duration": 214,
    "start_time": "2022-08-27T14:15:34.515Z"
   },
   {
    "duration": 62910,
    "start_time": "2022-08-27T14:15:34.731Z"
   },
   {
    "duration": 168,
    "start_time": "2022-08-27T14:16:37.643Z"
   },
   {
    "duration": 27156,
    "start_time": "2022-08-27T14:16:48.655Z"
   },
   {
    "duration": 70,
    "start_time": "2022-08-27T14:17:21.347Z"
   },
   {
    "duration": 60,
    "start_time": "2022-08-27T14:20:35.412Z"
   },
   {
    "duration": 5,
    "start_time": "2022-08-27T14:21:01.420Z"
   },
   {
    "duration": 1475,
    "start_time": "2022-08-27T14:24:37.105Z"
   },
   {
    "duration": 784,
    "start_time": "2022-08-27T14:24:38.582Z"
   },
   {
    "duration": 141,
    "start_time": "2022-08-27T14:24:39.370Z"
   },
   {
    "duration": 434,
    "start_time": "2022-08-27T14:24:39.514Z"
   },
   {
    "duration": 458,
    "start_time": "2022-08-27T14:24:39.950Z"
   },
   {
    "duration": 44,
    "start_time": "2022-08-27T14:24:40.409Z"
   },
   {
    "duration": 20,
    "start_time": "2022-08-27T14:24:40.455Z"
   },
   {
    "duration": 99,
    "start_time": "2022-08-27T14:24:40.477Z"
   },
   {
    "duration": 84,
    "start_time": "2022-08-27T14:24:40.578Z"
   },
   {
    "duration": 66,
    "start_time": "2022-08-27T14:24:40.664Z"
   },
   {
    "duration": 22,
    "start_time": "2022-08-27T14:24:40.731Z"
   },
   {
    "duration": 368,
    "start_time": "2022-08-27T14:24:40.754Z"
   },
   {
    "duration": 234,
    "start_time": "2022-08-27T14:24:41.126Z"
   },
   {
    "duration": 515,
    "start_time": "2022-08-27T14:24:41.362Z"
   },
   {
    "duration": 463,
    "start_time": "2022-08-27T14:24:41.879Z"
   },
   {
    "duration": 221,
    "start_time": "2022-08-27T14:24:42.344Z"
   },
   {
    "duration": 137346,
    "start_time": "2022-08-27T14:24:42.568Z"
   },
   {
    "duration": 28103,
    "start_time": "2022-08-27T14:26:59.918Z"
   },
   {
    "duration": 190,
    "start_time": "2022-08-27T14:27:28.024Z"
   },
   {
    "duration": 193,
    "start_time": "2022-08-27T14:28:10.135Z"
   },
   {
    "duration": 58,
    "start_time": "2022-08-27T14:28:25.980Z"
   },
   {
    "duration": 46,
    "start_time": "2022-08-27T14:29:14.527Z"
   },
   {
    "duration": 66,
    "start_time": "2022-08-27T14:29:15.165Z"
   },
   {
    "duration": 63,
    "start_time": "2022-08-27T14:29:15.324Z"
   },
   {
    "duration": 122639,
    "start_time": "2022-08-27T14:29:16.200Z"
   },
   {
    "duration": 47,
    "start_time": "2022-08-27T14:31:18.841Z"
   },
   {
    "duration": 1488,
    "start_time": "2022-08-27T14:31:49.990Z"
   },
   {
    "duration": 797,
    "start_time": "2022-08-27T14:31:51.481Z"
   },
   {
    "duration": 115,
    "start_time": "2022-08-27T14:31:52.280Z"
   },
   {
    "duration": 495,
    "start_time": "2022-08-27T14:31:52.397Z"
   },
   {
    "duration": 479,
    "start_time": "2022-08-27T14:31:52.893Z"
   },
   {
    "duration": 39,
    "start_time": "2022-08-27T14:31:53.374Z"
   },
   {
    "duration": 30,
    "start_time": "2022-08-27T14:31:53.416Z"
   },
   {
    "duration": 82,
    "start_time": "2022-08-27T14:31:53.448Z"
   },
   {
    "duration": 81,
    "start_time": "2022-08-27T14:31:53.531Z"
   },
   {
    "duration": 53,
    "start_time": "2022-08-27T14:31:53.620Z"
   },
   {
    "duration": 20,
    "start_time": "2022-08-27T14:31:53.675Z"
   },
   {
    "duration": 345,
    "start_time": "2022-08-27T14:31:53.697Z"
   },
   {
    "duration": 234,
    "start_time": "2022-08-27T14:31:54.043Z"
   },
   {
    "duration": 516,
    "start_time": "2022-08-27T14:31:54.278Z"
   },
   {
    "duration": 473,
    "start_time": "2022-08-27T14:31:54.795Z"
   },
   {
    "duration": 222,
    "start_time": "2022-08-27T14:31:55.270Z"
   },
   {
    "duration": 120553,
    "start_time": "2022-08-27T14:31:55.493Z"
   },
   {
    "duration": 130,
    "start_time": "2022-08-27T14:33:56.048Z"
   },
   {
    "duration": 29751,
    "start_time": "2022-08-27T14:33:56.180Z"
   },
   {
    "duration": 123,
    "start_time": "2022-08-27T14:34:26.012Z"
   },
   {
    "duration": 1524,
    "start_time": "2022-08-27T14:47:02.512Z"
   },
   {
    "duration": 829,
    "start_time": "2022-08-27T14:47:04.038Z"
   },
   {
    "duration": 149,
    "start_time": "2022-08-27T14:47:04.869Z"
   },
   {
    "duration": 441,
    "start_time": "2022-08-27T14:47:05.020Z"
   },
   {
    "duration": 452,
    "start_time": "2022-08-27T14:47:05.463Z"
   },
   {
    "duration": 39,
    "start_time": "2022-08-27T14:47:05.917Z"
   },
   {
    "duration": 18,
    "start_time": "2022-08-27T14:47:05.957Z"
   },
   {
    "duration": 86,
    "start_time": "2022-08-27T14:47:05.977Z"
   },
   {
    "duration": 82,
    "start_time": "2022-08-27T14:47:06.064Z"
   },
   {
    "duration": 51,
    "start_time": "2022-08-27T14:47:06.147Z"
   },
   {
    "duration": 39,
    "start_time": "2022-08-27T14:47:06.200Z"
   },
   {
    "duration": 350,
    "start_time": "2022-08-27T14:47:06.240Z"
   },
   {
    "duration": 246,
    "start_time": "2022-08-27T14:47:06.592Z"
   },
   {
    "duration": 508,
    "start_time": "2022-08-27T14:47:06.840Z"
   },
   {
    "duration": 457,
    "start_time": "2022-08-27T14:47:07.349Z"
   },
   {
    "duration": 220,
    "start_time": "2022-08-27T14:47:07.807Z"
   },
   {
    "duration": 115932,
    "start_time": "2022-08-27T14:47:08.029Z"
   },
   {
    "duration": 116,
    "start_time": "2022-08-27T14:49:03.962Z"
   },
   {
    "duration": 1494,
    "start_time": "2022-08-27T15:15:51.190Z"
   },
   {
    "duration": 814,
    "start_time": "2022-08-27T15:15:52.687Z"
   },
   {
    "duration": 122,
    "start_time": "2022-08-27T15:15:53.505Z"
   },
   {
    "duration": 446,
    "start_time": "2022-08-27T15:15:53.629Z"
   },
   {
    "duration": 453,
    "start_time": "2022-08-27T15:15:54.077Z"
   },
   {
    "duration": 35,
    "start_time": "2022-08-27T15:15:54.532Z"
   },
   {
    "duration": 29,
    "start_time": "2022-08-27T15:15:54.569Z"
   },
   {
    "duration": 77,
    "start_time": "2022-08-27T15:15:54.599Z"
   },
   {
    "duration": 76,
    "start_time": "2022-08-27T15:15:54.679Z"
   },
   {
    "duration": 58,
    "start_time": "2022-08-27T15:15:54.757Z"
   },
   {
    "duration": 22,
    "start_time": "2022-08-27T15:15:54.816Z"
   },
   {
    "duration": 322,
    "start_time": "2022-08-27T15:15:54.840Z"
   },
   {
    "duration": 228,
    "start_time": "2022-08-27T15:15:55.164Z"
   },
   {
    "duration": 504,
    "start_time": "2022-08-27T15:15:55.393Z"
   },
   {
    "duration": 449,
    "start_time": "2022-08-27T15:15:55.899Z"
   },
   {
    "duration": 216,
    "start_time": "2022-08-27T15:15:56.350Z"
   },
   {
    "duration": 141229,
    "start_time": "2022-08-27T15:15:56.567Z"
   },
   {
    "duration": 111,
    "start_time": "2022-08-27T15:18:17.797Z"
   },
   {
    "duration": 1821902,
    "start_time": "2022-08-27T15:18:17.911Z"
   },
   {
    "duration": 352,
    "start_time": "2022-08-27T15:48:39.815Z"
   },
   {
    "duration": 18843,
    "start_time": "2022-08-27T15:48:40.168Z"
   },
   {
    "duration": 103,
    "start_time": "2022-08-27T15:48:59.012Z"
   },
   {
    "duration": 149903,
    "start_time": "2022-08-27T16:07:54.252Z"
   },
   {
    "duration": 260,
    "start_time": "2022-08-27T16:10:24.156Z"
   },
   {
    "duration": 52,
    "start_time": "2022-08-27T16:27:42.924Z"
   },
   {
    "duration": 13,
    "start_time": "2022-08-27T16:37:14.519Z"
   },
   {
    "duration": 1414,
    "start_time": "2022-08-27T17:07:45.096Z"
   },
   {
    "duration": 805,
    "start_time": "2022-08-27T17:07:46.516Z"
   },
   {
    "duration": 120,
    "start_time": "2022-08-27T17:07:47.325Z"
   },
   {
    "duration": 430,
    "start_time": "2022-08-27T17:07:47.447Z"
   },
   {
    "duration": 463,
    "start_time": "2022-08-27T17:07:47.879Z"
   },
   {
    "duration": 32,
    "start_time": "2022-08-27T17:07:48.344Z"
   },
   {
    "duration": 36,
    "start_time": "2022-08-27T17:07:48.378Z"
   },
   {
    "duration": 77,
    "start_time": "2022-08-27T17:07:48.416Z"
   },
   {
    "duration": 89,
    "start_time": "2022-08-27T17:07:48.496Z"
   },
   {
    "duration": 62,
    "start_time": "2022-08-27T17:07:48.587Z"
   },
   {
    "duration": 21,
    "start_time": "2022-08-27T17:07:48.651Z"
   },
   {
    "duration": 366,
    "start_time": "2022-08-27T17:07:48.673Z"
   },
   {
    "duration": 240,
    "start_time": "2022-08-27T17:07:49.040Z"
   },
   {
    "duration": 559,
    "start_time": "2022-08-27T17:07:49.282Z"
   },
   {
    "duration": 462,
    "start_time": "2022-08-27T17:07:49.843Z"
   },
   {
    "duration": 226,
    "start_time": "2022-08-27T17:07:50.312Z"
   },
   {
    "duration": 120465,
    "start_time": "2022-08-27T17:07:50.540Z"
   },
   {
    "duration": 121,
    "start_time": "2022-08-27T17:09:51.011Z"
   },
   {
    "duration": 1200904,
    "start_time": "2022-08-27T17:09:51.134Z"
   },
   {
    "duration": 303,
    "start_time": "2022-08-27T17:29:52.041Z"
   },
   {
    "duration": 52780,
    "start_time": "2022-08-27T17:29:52.345Z"
   },
   {
    "duration": 195,
    "start_time": "2022-08-27T17:30:45.129Z"
   },
   {
    "duration": 216059,
    "start_time": "2022-08-27T17:30:45.329Z"
   },
   {
    "duration": 74,
    "start_time": "2022-08-27T17:34:21.389Z"
   },
   {
    "duration": 296,
    "start_time": "2022-08-27T20:04:11.893Z"
   },
   {
    "duration": 3,
    "start_time": "2022-08-27T20:04:31.349Z"
   },
   {
    "duration": 52,
    "start_time": "2022-08-27T20:08:35.782Z"
   },
   {
    "duration": 3047230,
    "start_time": "2022-08-27T20:09:07.730Z"
   },
   {
    "duration": 87,
    "start_time": "2022-08-27T20:59:54.963Z"
   },
   {
    "duration": 66,
    "start_time": "2022-08-27T21:00:19.955Z"
   },
   {
    "duration": 1089097,
    "start_time": "2022-08-27T21:00:28.122Z"
   },
   {
    "duration": 228,
    "start_time": "2022-08-27T21:18:54.297Z"
   },
   {
    "duration": 1499,
    "start_time": "2022-08-29T16:50:54.107Z"
   },
   {
    "duration": 2759,
    "start_time": "2022-08-29T16:50:56.818Z"
   },
   {
    "duration": 98,
    "start_time": "2022-08-29T16:51:01.788Z"
   },
   {
    "duration": 376,
    "start_time": "2022-08-29T16:51:04.485Z"
   },
   {
    "duration": 431,
    "start_time": "2022-08-29T16:51:06.018Z"
   },
   {
    "duration": 32,
    "start_time": "2022-08-29T16:51:08.193Z"
   },
   {
    "duration": 18,
    "start_time": "2022-08-29T16:51:09.498Z"
   },
   {
    "duration": 68,
    "start_time": "2022-08-29T16:51:10.737Z"
   },
   {
    "duration": 62,
    "start_time": "2022-08-29T16:51:11.709Z"
   },
   {
    "duration": 51,
    "start_time": "2022-08-29T16:51:13.168Z"
   },
   {
    "duration": 21,
    "start_time": "2022-08-29T16:51:14.911Z"
   },
   {
    "duration": 388,
    "start_time": "2022-08-29T16:51:15.781Z"
   },
   {
    "duration": 309,
    "start_time": "2022-08-29T16:51:17.609Z"
   },
   {
    "duration": 701,
    "start_time": "2022-08-29T16:51:19.422Z"
   },
   {
    "duration": 573,
    "start_time": "2022-08-29T16:51:20.389Z"
   },
   {
    "duration": 134,
    "start_time": "2022-08-29T16:51:22.443Z"
   },
   {
    "duration": 156924,
    "start_time": "2022-08-29T16:51:25.299Z"
   },
   {
    "duration": 123,
    "start_time": "2022-08-29T16:54:02.230Z"
   },
   {
    "duration": 1396643,
    "start_time": "2022-08-29T16:54:06.578Z"
   },
   {
    "duration": 173,
    "start_time": "2022-08-29T17:17:23.222Z"
   },
   {
    "duration": 20335,
    "start_time": "2022-08-29T17:17:23.397Z"
   },
   {
    "duration": 130,
    "start_time": "2022-08-29T17:17:43.734Z"
   },
   {
    "duration": 145449,
    "start_time": "2022-08-29T17:17:43.932Z"
   },
   {
    "duration": 62,
    "start_time": "2022-08-29T17:20:09.383Z"
   },
   {
    "duration": 8,
    "start_time": "2022-08-29T17:21:39.734Z"
   },
   {
    "duration": 8,
    "start_time": "2022-08-29T17:22:16.119Z"
   },
   {
    "duration": 31190,
    "start_time": "2022-08-29T17:23:30.618Z"
   },
   {
    "duration": 5,
    "start_time": "2022-08-29T17:26:27.888Z"
   },
   {
    "duration": 30985,
    "start_time": "2022-08-29T17:26:33.670Z"
   },
   {
    "duration": 77502,
    "start_time": "2022-08-29T17:27:41.837Z"
   },
   {
    "duration": 75,
    "start_time": "2022-08-29T17:28:59.341Z"
   },
   {
    "duration": 1464246,
    "start_time": "2022-08-29T17:29:09.196Z"
   },
   {
    "duration": 326,
    "start_time": "2022-08-29T17:53:41.106Z"
   },
   {
    "duration": 4,
    "start_time": "2022-08-29T17:54:59.986Z"
   },
   {
    "duration": 1624559,
    "start_time": "2022-08-29T17:55:56.383Z"
   },
   {
    "duration": 388,
    "start_time": "2022-08-29T18:23:00.945Z"
   },
   {
    "duration": 1372,
    "start_time": "2022-08-29T18:25:59.258Z"
   },
   {
    "duration": 780,
    "start_time": "2022-08-29T18:26:00.632Z"
   },
   {
    "duration": 117,
    "start_time": "2022-08-29T18:26:01.414Z"
   },
   {
    "duration": 434,
    "start_time": "2022-08-29T18:26:01.533Z"
   },
   {
    "duration": 465,
    "start_time": "2022-08-29T18:26:01.970Z"
   },
   {
    "duration": 31,
    "start_time": "2022-08-29T18:26:02.437Z"
   },
   {
    "duration": 35,
    "start_time": "2022-08-29T18:26:02.469Z"
   },
   {
    "duration": 89,
    "start_time": "2022-08-29T18:26:02.506Z"
   },
   {
    "duration": 68,
    "start_time": "2022-08-29T18:26:02.597Z"
   },
   {
    "duration": 49,
    "start_time": "2022-08-29T18:26:02.667Z"
   },
   {
    "duration": 31,
    "start_time": "2022-08-29T18:26:02.717Z"
   },
   {
    "duration": 315,
    "start_time": "2022-08-29T18:26:02.750Z"
   },
   {
    "duration": 235,
    "start_time": "2022-08-29T18:26:03.066Z"
   },
   {
    "duration": 695,
    "start_time": "2022-08-29T18:26:03.303Z"
   },
   {
    "duration": 586,
    "start_time": "2022-08-29T18:26:04.000Z"
   },
   {
    "duration": 205,
    "start_time": "2022-08-29T18:26:04.587Z"
   },
   {
    "duration": 1452,
    "start_time": "2022-08-29T18:37:13.844Z"
   },
   {
    "duration": 744,
    "start_time": "2022-08-29T18:37:15.298Z"
   },
   {
    "duration": 108,
    "start_time": "2022-08-29T18:37:16.044Z"
   },
   {
    "duration": 413,
    "start_time": "2022-08-29T18:37:16.154Z"
   },
   {
    "duration": 451,
    "start_time": "2022-08-29T18:37:16.570Z"
   },
   {
    "duration": 33,
    "start_time": "2022-08-29T18:37:17.023Z"
   },
   {
    "duration": 21,
    "start_time": "2022-08-29T18:37:17.058Z"
   },
   {
    "duration": 81,
    "start_time": "2022-08-29T18:37:17.080Z"
   },
   {
    "duration": 61,
    "start_time": "2022-08-29T18:37:17.162Z"
   },
   {
    "duration": 51,
    "start_time": "2022-08-29T18:37:17.225Z"
   },
   {
    "duration": 20,
    "start_time": "2022-08-29T18:37:17.277Z"
   },
   {
    "duration": 341,
    "start_time": "2022-08-29T18:37:17.299Z"
   },
   {
    "duration": 308,
    "start_time": "2022-08-29T18:37:17.642Z"
   },
   {
    "duration": 808,
    "start_time": "2022-08-29T18:37:17.954Z"
   },
   {
    "duration": 594,
    "start_time": "2022-08-29T18:37:18.764Z"
   },
   {
    "duration": 219,
    "start_time": "2022-08-29T18:37:19.359Z"
   },
   {
    "duration": 170757,
    "start_time": "2022-08-29T18:37:19.579Z"
   },
   {
    "duration": 168,
    "start_time": "2022-08-29T18:40:10.339Z"
   },
   {
    "duration": 1493281,
    "start_time": "2022-08-29T18:40:10.509Z"
   },
   {
    "duration": 252,
    "start_time": "2022-08-29T19:05:03.791Z"
   },
   {
    "duration": 27389,
    "start_time": "2022-08-29T19:05:04.047Z"
   },
   {
    "duration": 192,
    "start_time": "2022-08-29T19:05:31.439Z"
   },
   {
    "duration": 326193,
    "start_time": "2022-08-29T19:05:31.636Z"
   },
   {
    "duration": 85,
    "start_time": "2022-08-29T19:10:57.831Z"
   },
   {
    "duration": 249118,
    "start_time": "2022-08-29T19:10:57.918Z"
   },
   {
    "duration": 509,
    "start_time": "2022-08-29T19:15:07.038Z"
   },
   {
    "duration": 284340,
    "start_time": "2022-08-29T19:17:04.995Z"
   },
   {
    "duration": 796,
    "start_time": "2022-08-29T19:21:49.337Z"
   },
   {
    "duration": 189,
    "start_time": "2022-08-29T19:27:02.299Z"
   },
   {
    "duration": 3,
    "start_time": "2022-08-29T19:27:30.076Z"
   },
   {
    "duration": 6,
    "start_time": "2022-08-29T19:27:33.990Z"
   },
   {
    "duration": 6,
    "start_time": "2022-08-29T19:28:16.628Z"
   },
   {
    "duration": 1407,
    "start_time": "2022-08-29T19:35:45.330Z"
   },
   {
    "duration": 774,
    "start_time": "2022-08-29T19:35:46.738Z"
   },
   {
    "duration": 128,
    "start_time": "2022-08-29T19:35:47.514Z"
   },
   {
    "duration": 463,
    "start_time": "2022-08-29T19:35:47.646Z"
   },
   {
    "duration": 503,
    "start_time": "2022-08-29T19:35:48.111Z"
   },
   {
    "duration": 36,
    "start_time": "2022-08-29T19:35:48.616Z"
   },
   {
    "duration": 27,
    "start_time": "2022-08-29T19:35:48.654Z"
   },
   {
    "duration": 101,
    "start_time": "2022-08-29T19:35:48.684Z"
   },
   {
    "duration": 77,
    "start_time": "2022-08-29T19:35:48.786Z"
   },
   {
    "duration": 75,
    "start_time": "2022-08-29T19:35:48.867Z"
   },
   {
    "duration": 24,
    "start_time": "2022-08-29T19:35:48.943Z"
   },
   {
    "duration": 397,
    "start_time": "2022-08-29T19:35:48.969Z"
   },
   {
    "duration": 245,
    "start_time": "2022-08-29T19:35:49.368Z"
   },
   {
    "duration": 845,
    "start_time": "2022-08-29T19:35:49.615Z"
   },
   {
    "duration": 601,
    "start_time": "2022-08-29T19:35:50.464Z"
   },
   {
    "duration": 251,
    "start_time": "2022-08-29T19:35:51.067Z"
   },
   {
    "duration": 166696,
    "start_time": "2022-08-29T19:35:51.320Z"
   },
   {
    "duration": 125,
    "start_time": "2022-08-29T19:38:38.017Z"
   },
   {
    "duration": 1235627,
    "start_time": "2022-08-29T19:38:38.144Z"
   },
   {
    "duration": 311,
    "start_time": "2022-08-29T19:59:13.772Z"
   },
   {
    "duration": 27449,
    "start_time": "2022-08-29T19:59:14.085Z"
   },
   {
    "duration": 196,
    "start_time": "2022-08-29T19:59:41.536Z"
   },
   {
    "duration": 153094,
    "start_time": "2022-08-29T19:59:41.741Z"
   },
   {
    "duration": 57,
    "start_time": "2022-08-29T20:02:14.842Z"
   },
   {
    "duration": 685738,
    "start_time": "2022-08-29T20:02:14.900Z"
   },
   {
    "duration": 892,
    "start_time": "2022-08-29T20:13:40.640Z"
   },
   {
    "duration": 5,
    "start_time": "2022-08-29T20:13:41.534Z"
   },
   {
    "duration": 112,
    "start_time": "2022-08-29T20:21:40.619Z"
   },
   {
    "duration": 1887,
    "start_time": "2022-08-30T16:42:16.198Z"
   },
   {
    "duration": 2951,
    "start_time": "2022-08-30T16:42:22.686Z"
   },
   {
    "duration": 106,
    "start_time": "2022-08-30T16:42:27.814Z"
   },
   {
    "duration": 438,
    "start_time": "2022-08-30T16:42:30.752Z"
   },
   {
    "duration": 491,
    "start_time": "2022-08-30T16:42:32.082Z"
   },
   {
    "duration": 255,
    "start_time": "2022-08-30T16:43:27.618Z"
   },
   {
    "duration": 24,
    "start_time": "2022-08-30T16:43:35.495Z"
   },
   {
    "duration": 56,
    "start_time": "2022-08-30T16:45:27.350Z"
   },
   {
    "duration": 4,
    "start_time": "2022-08-30T16:45:40.796Z"
   },
   {
    "duration": 732,
    "start_time": "2022-08-30T16:45:50.716Z"
   },
   {
    "duration": 97,
    "start_time": "2022-08-30T16:45:53.140Z"
   },
   {
    "duration": 23,
    "start_time": "2022-08-30T16:45:55.750Z"
   },
   {
    "duration": 386,
    "start_time": "2022-08-30T16:45:58.126Z"
   },
   {
    "duration": 424,
    "start_time": "2022-08-30T16:45:59.495Z"
   },
   {
    "duration": 27,
    "start_time": "2022-08-30T16:46:01.404Z"
   },
   {
    "duration": 19,
    "start_time": "2022-08-30T16:46:04.150Z"
   },
   {
    "duration": 59,
    "start_time": "2022-08-30T16:46:05.020Z"
   },
   {
    "duration": 88,
    "start_time": "2022-08-30T16:46:06.237Z"
   },
   {
    "duration": 53,
    "start_time": "2022-08-30T16:46:07.896Z"
   },
   {
    "duration": 21,
    "start_time": "2022-08-30T16:46:09.946Z"
   },
   {
    "duration": 411,
    "start_time": "2022-08-30T16:46:11.835Z"
   },
   {
    "duration": 304,
    "start_time": "2022-08-30T16:46:13.878Z"
   },
   {
    "duration": 783,
    "start_time": "2022-08-30T16:46:15.931Z"
   },
   {
    "duration": 591,
    "start_time": "2022-08-30T16:46:20.647Z"
   },
   {
    "duration": 148,
    "start_time": "2022-08-30T16:46:24.139Z"
   },
   {
    "duration": 146609,
    "start_time": "2022-08-30T16:51:13.433Z"
   },
   {
    "duration": 127,
    "start_time": "2022-08-30T16:53:40.044Z"
   },
   {
    "duration": 1650,
    "start_time": "2022-08-31T13:17:13.450Z"
   },
   {
    "duration": 1125,
    "start_time": "2022-08-31T13:25:02.420Z"
   },
   {
    "duration": 133,
    "start_time": "2022-08-31T13:25:05.448Z"
   },
   {
    "duration": 25,
    "start_time": "2022-08-31T13:25:07.488Z"
   },
   {
    "duration": 462,
    "start_time": "2022-08-31T13:25:10.140Z"
   },
   {
    "duration": 486,
    "start_time": "2022-08-31T13:25:11.290Z"
   },
   {
    "duration": 34,
    "start_time": "2022-08-31T13:25:13.276Z"
   },
   {
    "duration": 23,
    "start_time": "2022-08-31T13:25:15.206Z"
   },
   {
    "duration": 80,
    "start_time": "2022-08-31T13:25:28.495Z"
   },
   {
    "duration": 75,
    "start_time": "2022-08-31T13:25:30.084Z"
   },
   {
    "duration": 51,
    "start_time": "2022-08-31T13:25:31.772Z"
   },
   {
    "duration": 21,
    "start_time": "2022-08-31T13:25:34.694Z"
   },
   {
    "duration": 357,
    "start_time": "2022-08-31T13:25:38.190Z"
   },
   {
    "duration": 247,
    "start_time": "2022-08-31T13:25:40.316Z"
   },
   {
    "duration": 656,
    "start_time": "2022-08-31T13:25:42.225Z"
   },
   {
    "duration": 570,
    "start_time": "2022-08-31T13:25:44.943Z"
   },
   {
    "duration": 143,
    "start_time": "2022-08-31T13:25:48.767Z"
   },
   {
    "duration": 132488,
    "start_time": "2022-08-31T13:49:05.251Z"
   },
   {
    "duration": 0,
    "start_time": "2022-08-31T13:51:17.741Z"
   },
   {
    "duration": 152759,
    "start_time": "2022-08-31T13:53:10.346Z"
   },
   {
    "duration": 57,
    "start_time": "2022-08-31T13:59:19.656Z"
   },
   {
    "duration": 99810,
    "start_time": "2022-08-31T13:59:25.488Z"
   },
   {
    "duration": 0,
    "start_time": "2022-08-31T14:01:05.300Z"
   },
   {
    "duration": 31190,
    "start_time": "2022-08-31T14:01:24.817Z"
   },
   {
    "duration": 129080,
    "start_time": "2022-08-31T14:01:58.404Z"
   },
   {
    "duration": 1278490,
    "start_time": "2022-08-31T14:04:07.487Z"
   },
   {
    "duration": 31458,
    "start_time": "2022-08-31T14:25:25.980Z"
   },
   {
    "duration": 0,
    "start_time": "2022-08-31T14:25:57.440Z"
   },
   {
    "duration": 1597024,
    "start_time": "2022-08-31T14:26:25.558Z"
   },
   {
    "duration": 144456,
    "start_time": "2022-08-31T14:53:02.587Z"
   },
   {
    "duration": 255252,
    "start_time": "2022-08-31T14:55:27.044Z"
   },
   {
    "duration": 273883,
    "start_time": "2022-08-31T15:01:37.914Z"
   },
   {
    "duration": 4,
    "start_time": "2022-08-31T15:15:03.645Z"
   },
   {
    "duration": 9,
    "start_time": "2022-08-31T15:15:51.863Z"
   },
   {
    "duration": 4,
    "start_time": "2022-08-31T15:15:58.528Z"
   },
   {
    "duration": 13,
    "start_time": "2022-08-31T15:15:59.270Z"
   },
   {
    "duration": 4,
    "start_time": "2022-08-31T15:16:08.553Z"
   },
   {
    "duration": 4,
    "start_time": "2022-08-31T15:16:15.434Z"
   },
   {
    "duration": 5008,
    "start_time": "2022-08-31T15:16:16.388Z"
   },
   {
    "duration": 77754,
    "start_time": "2022-08-31T15:18:35.950Z"
   },
   {
    "duration": 5065,
    "start_time": "2022-08-31T15:23:07.633Z"
   },
   {
    "duration": 0,
    "start_time": "2022-08-31T15:23:12.699Z"
   },
   {
    "duration": 4,
    "start_time": "2022-08-31T15:24:41.761Z"
   },
   {
    "duration": 80015,
    "start_time": "2022-08-31T15:24:42.878Z"
   },
   {
    "duration": 9,
    "start_time": "2022-08-31T15:26:02.894Z"
   },
   {
    "duration": 4,
    "start_time": "2022-08-31T15:30:29.148Z"
   },
   {
    "duration": 5142,
    "start_time": "2022-08-31T15:30:30.226Z"
   },
   {
    "duration": 0,
    "start_time": "2022-08-31T15:30:35.370Z"
   },
   {
    "duration": 74089,
    "start_time": "2022-08-31T15:33:20.063Z"
   },
   {
    "duration": 4,
    "start_time": "2022-08-31T15:34:43.886Z"
   },
   {
    "duration": 1388,
    "start_time": "2022-08-31T15:37:08.312Z"
   },
   {
    "duration": 829,
    "start_time": "2022-08-31T15:37:09.702Z"
   },
   {
    "duration": 124,
    "start_time": "2022-08-31T15:37:10.533Z"
   },
   {
    "duration": 33,
    "start_time": "2022-08-31T15:37:10.659Z"
   },
   {
    "duration": 460,
    "start_time": "2022-08-31T15:37:10.694Z"
   },
   {
    "duration": 490,
    "start_time": "2022-08-31T15:37:11.155Z"
   },
   {
    "duration": 34,
    "start_time": "2022-08-31T15:37:11.646Z"
   },
   {
    "duration": 29,
    "start_time": "2022-08-31T15:37:11.687Z"
   },
   {
    "duration": 92,
    "start_time": "2022-08-31T15:37:11.718Z"
   },
   {
    "duration": 78,
    "start_time": "2022-08-31T15:37:11.812Z"
   },
   {
    "duration": 52,
    "start_time": "2022-08-31T15:37:11.892Z"
   },
   {
    "duration": 21,
    "start_time": "2022-08-31T15:37:11.945Z"
   },
   {
    "duration": 366,
    "start_time": "2022-08-31T15:37:11.968Z"
   },
   {
    "duration": 237,
    "start_time": "2022-08-31T15:37:12.337Z"
   },
   {
    "duration": 640,
    "start_time": "2022-08-31T15:37:12.575Z"
   },
   {
    "duration": 586,
    "start_time": "2022-08-31T15:37:13.216Z"
   },
   {
    "duration": 236,
    "start_time": "2022-08-31T15:37:13.804Z"
   },
   {
    "duration": 12578,
    "start_time": "2022-08-31T15:37:14.042Z"
   },
   {
    "duration": 0,
    "start_time": "2022-08-31T15:37:26.622Z"
   },
   {
    "duration": 0,
    "start_time": "2022-08-31T15:37:26.624Z"
   },
   {
    "duration": 0,
    "start_time": "2022-08-31T15:37:26.625Z"
   },
   {
    "duration": 0,
    "start_time": "2022-08-31T15:37:26.626Z"
   },
   {
    "duration": 0,
    "start_time": "2022-08-31T15:37:26.628Z"
   },
   {
    "duration": 0,
    "start_time": "2022-08-31T15:37:26.629Z"
   },
   {
    "duration": 0,
    "start_time": "2022-08-31T15:37:26.631Z"
   },
   {
    "duration": 1348,
    "start_time": "2022-08-31T15:38:47.539Z"
   },
   {
    "duration": 799,
    "start_time": "2022-08-31T15:38:48.890Z"
   },
   {
    "duration": 132,
    "start_time": "2022-08-31T15:38:49.690Z"
   },
   {
    "duration": 24,
    "start_time": "2022-08-31T15:38:49.824Z"
   },
   {
    "duration": 451,
    "start_time": "2022-08-31T15:38:49.849Z"
   },
   {
    "duration": 482,
    "start_time": "2022-08-31T15:38:50.302Z"
   },
   {
    "duration": 37,
    "start_time": "2022-08-31T15:38:50.785Z"
   },
   {
    "duration": 26,
    "start_time": "2022-08-31T15:38:50.823Z"
   },
   {
    "duration": 89,
    "start_time": "2022-08-31T15:38:50.850Z"
   },
   {
    "duration": 79,
    "start_time": "2022-08-31T15:38:50.942Z"
   },
   {
    "duration": 49,
    "start_time": "2022-08-31T15:38:51.023Z"
   },
   {
    "duration": 29,
    "start_time": "2022-08-31T15:38:51.074Z"
   },
   {
    "duration": 315,
    "start_time": "2022-08-31T15:38:51.105Z"
   },
   {
    "duration": 233,
    "start_time": "2022-08-31T15:38:51.422Z"
   },
   {
    "duration": 633,
    "start_time": "2022-08-31T15:38:51.656Z"
   },
   {
    "duration": 569,
    "start_time": "2022-08-31T15:38:52.291Z"
   },
   {
    "duration": 225,
    "start_time": "2022-08-31T15:38:52.862Z"
   },
   {
    "duration": 153432,
    "start_time": "2022-08-31T15:38:53.089Z"
   },
   {
    "duration": 1266067,
    "start_time": "2022-08-31T15:41:26.523Z"
   },
   {
    "duration": 221893,
    "start_time": "2022-08-31T16:02:32.592Z"
   },
   {
    "duration": 237805,
    "start_time": "2022-08-31T16:06:14.487Z"
   },
   {
    "duration": 4,
    "start_time": "2022-08-31T16:10:12.294Z"
   },
   {
    "duration": 8,
    "start_time": "2022-08-31T16:10:12.300Z"
   },
   {
    "duration": 116681,
    "start_time": "2022-08-31T16:10:12.310Z"
   },
   {
    "duration": 10,
    "start_time": "2022-08-31T16:12:08.992Z"
   },
   {
    "duration": 1432,
    "start_time": "2022-08-31T17:30:24.934Z"
   },
   {
    "duration": 0,
    "start_time": "2022-08-31T17:30:26.370Z"
   },
   {
    "duration": 0,
    "start_time": "2022-08-31T17:30:26.371Z"
   },
   {
    "duration": 0,
    "start_time": "2022-08-31T17:30:26.373Z"
   },
   {
    "duration": 0,
    "start_time": "2022-08-31T17:30:26.375Z"
   },
   {
    "duration": 0,
    "start_time": "2022-08-31T17:30:26.376Z"
   },
   {
    "duration": 1,
    "start_time": "2022-08-31T17:30:26.377Z"
   },
   {
    "duration": 0,
    "start_time": "2022-08-31T17:30:26.379Z"
   },
   {
    "duration": 0,
    "start_time": "2022-08-31T17:30:26.380Z"
   },
   {
    "duration": 0,
    "start_time": "2022-08-31T17:30:26.382Z"
   },
   {
    "duration": 0,
    "start_time": "2022-08-31T17:30:26.383Z"
   },
   {
    "duration": 0,
    "start_time": "2022-08-31T17:30:26.384Z"
   },
   {
    "duration": 0,
    "start_time": "2022-08-31T17:30:26.386Z"
   },
   {
    "duration": 0,
    "start_time": "2022-08-31T17:30:26.387Z"
   },
   {
    "duration": 0,
    "start_time": "2022-08-31T17:30:26.388Z"
   },
   {
    "duration": 0,
    "start_time": "2022-08-31T17:30:26.390Z"
   },
   {
    "duration": 0,
    "start_time": "2022-08-31T17:30:26.391Z"
   },
   {
    "duration": 0,
    "start_time": "2022-08-31T17:30:26.393Z"
   },
   {
    "duration": 0,
    "start_time": "2022-08-31T17:30:26.394Z"
   },
   {
    "duration": 1,
    "start_time": "2022-08-31T17:30:26.395Z"
   },
   {
    "duration": 0,
    "start_time": "2022-08-31T17:30:26.397Z"
   },
   {
    "duration": 0,
    "start_time": "2022-08-31T17:30:26.398Z"
   },
   {
    "duration": 0,
    "start_time": "2022-08-31T17:30:26.399Z"
   },
   {
    "duration": 0,
    "start_time": "2022-08-31T17:30:26.401Z"
   },
   {
    "duration": 1346,
    "start_time": "2022-08-31T17:31:17.341Z"
   },
   {
    "duration": 813,
    "start_time": "2022-08-31T17:31:18.689Z"
   },
   {
    "duration": 132,
    "start_time": "2022-08-31T17:31:19.504Z"
   },
   {
    "duration": 27,
    "start_time": "2022-08-31T17:31:19.638Z"
   },
   {
    "duration": 486,
    "start_time": "2022-08-31T17:31:19.666Z"
   },
   {
    "duration": 494,
    "start_time": "2022-08-31T17:31:20.154Z"
   },
   {
    "duration": 42,
    "start_time": "2022-08-31T17:31:20.650Z"
   },
   {
    "duration": 30,
    "start_time": "2022-08-31T17:31:20.694Z"
   },
   {
    "duration": 91,
    "start_time": "2022-08-31T17:31:20.726Z"
   },
   {
    "duration": 83,
    "start_time": "2022-08-31T17:31:20.820Z"
   },
   {
    "duration": 53,
    "start_time": "2022-08-31T17:31:20.905Z"
   },
   {
    "duration": 43,
    "start_time": "2022-08-31T17:31:20.960Z"
   },
   {
    "duration": 330,
    "start_time": "2022-08-31T17:31:21.005Z"
   },
   {
    "duration": 246,
    "start_time": "2022-08-31T17:31:21.337Z"
   },
   {
    "duration": 665,
    "start_time": "2022-08-31T17:31:21.586Z"
   },
   {
    "duration": 572,
    "start_time": "2022-08-31T17:31:22.252Z"
   },
   {
    "duration": 223,
    "start_time": "2022-08-31T17:31:22.825Z"
   },
   {
    "duration": 159358,
    "start_time": "2022-08-31T17:31:23.050Z"
   },
   {
    "duration": 203489,
    "start_time": "2022-08-31T17:34:02.410Z"
   },
   {
    "duration": 0,
    "start_time": "2022-08-31T17:37:25.900Z"
   },
   {
    "duration": 0,
    "start_time": "2022-08-31T17:37:25.902Z"
   },
   {
    "duration": 0,
    "start_time": "2022-08-31T17:37:25.903Z"
   },
   {
    "duration": 0,
    "start_time": "2022-08-31T17:37:25.904Z"
   },
   {
    "duration": 0,
    "start_time": "2022-08-31T17:37:25.905Z"
   },
   {
    "duration": 1365,
    "start_time": "2022-08-31T17:38:18.598Z"
   },
   {
    "duration": 798,
    "start_time": "2022-08-31T17:38:19.965Z"
   },
   {
    "duration": 128,
    "start_time": "2022-08-31T17:38:20.765Z"
   },
   {
    "duration": 23,
    "start_time": "2022-08-31T17:38:20.895Z"
   },
   {
    "duration": 457,
    "start_time": "2022-08-31T17:38:20.920Z"
   },
   {
    "duration": 489,
    "start_time": "2022-08-31T17:38:21.379Z"
   },
   {
    "duration": 44,
    "start_time": "2022-08-31T17:38:21.870Z"
   },
   {
    "duration": 25,
    "start_time": "2022-08-31T17:38:21.916Z"
   },
   {
    "duration": 89,
    "start_time": "2022-08-31T17:38:21.943Z"
   },
   {
    "duration": 79,
    "start_time": "2022-08-31T17:38:22.034Z"
   },
   {
    "duration": 53,
    "start_time": "2022-08-31T17:38:22.115Z"
   },
   {
    "duration": 36,
    "start_time": "2022-08-31T17:38:22.170Z"
   },
   {
    "duration": 325,
    "start_time": "2022-08-31T17:38:22.207Z"
   },
   {
    "duration": 240,
    "start_time": "2022-08-31T17:38:22.534Z"
   },
   {
    "duration": 659,
    "start_time": "2022-08-31T17:38:22.776Z"
   },
   {
    "duration": 583,
    "start_time": "2022-08-31T17:38:23.436Z"
   },
   {
    "duration": 236,
    "start_time": "2022-08-31T17:38:24.021Z"
   },
   {
    "duration": 143225,
    "start_time": "2022-08-31T17:38:24.258Z"
   },
   {
    "duration": 1366115,
    "start_time": "2022-08-31T17:40:47.486Z"
   },
   {
    "duration": 252806,
    "start_time": "2022-08-31T18:03:33.603Z"
   },
   {
    "duration": 356077,
    "start_time": "2022-08-31T18:07:46.411Z"
   },
   {
    "duration": 4,
    "start_time": "2022-08-31T18:13:42.490Z"
   },
   {
    "duration": 93296,
    "start_time": "2022-08-31T18:13:42.495Z"
   },
   {
    "duration": 10,
    "start_time": "2022-08-31T18:15:15.792Z"
   },
   {
    "duration": 149,
    "start_time": "2022-08-31T18:20:41.186Z"
   },
   {
    "duration": 1734,
    "start_time": "2022-09-01T16:11:46.781Z"
   },
   {
    "duration": 1110,
    "start_time": "2022-09-01T16:11:52.281Z"
   },
   {
    "duration": 113,
    "start_time": "2022-09-01T16:11:54.738Z"
   },
   {
    "duration": 22,
    "start_time": "2022-09-01T16:11:56.978Z"
   },
   {
    "duration": 483,
    "start_time": "2022-09-01T16:12:04.242Z"
   },
   {
    "duration": 509,
    "start_time": "2022-09-01T16:12:05.700Z"
   },
   {
    "duration": 37,
    "start_time": "2022-09-01T16:12:08.901Z"
   },
   {
    "duration": 28,
    "start_time": "2022-09-01T16:12:10.409Z"
   },
   {
    "duration": 84,
    "start_time": "2022-09-01T16:12:11.664Z"
   },
   {
    "duration": 72,
    "start_time": "2022-09-01T16:12:13.106Z"
   },
   {
    "duration": 59,
    "start_time": "2022-09-01T16:12:15.314Z"
   },
   {
    "duration": 1058,
    "start_time": "2022-09-01T16:12:43.396Z"
   },
   {
    "duration": 4,
    "start_time": "2022-09-01T16:12:52.486Z"
   },
   {
    "duration": 793,
    "start_time": "2022-09-01T16:12:53.818Z"
   },
   {
    "duration": 115,
    "start_time": "2022-09-01T16:12:56.210Z"
   },
   {
    "duration": 15,
    "start_time": "2022-09-01T16:12:58.401Z"
   },
   {
    "duration": 4,
    "start_time": "2022-09-01T16:15:19.476Z"
   },
   {
    "duration": 4,
    "start_time": "2022-09-01T16:17:40.626Z"
   },
   {
    "duration": 131,
    "start_time": "2022-09-01T16:18:01.596Z"
   },
   {
    "duration": 2052,
    "start_time": "2022-09-01T16:18:49.139Z"
   },
   {
    "duration": 1511,
    "start_time": "2022-09-01T16:19:22.572Z"
   },
   {
    "duration": 850,
    "start_time": "2022-09-01T16:19:24.390Z"
   },
   {
    "duration": 116,
    "start_time": "2022-09-01T16:19:25.352Z"
   },
   {
    "duration": 252,
    "start_time": "2022-09-01T16:19:28.310Z"
   },
   {
    "duration": 15,
    "start_time": "2022-09-01T16:21:12.388Z"
   },
   {
    "duration": 13,
    "start_time": "2022-09-01T16:21:41.491Z"
   },
   {
    "duration": 59,
    "start_time": "2022-09-01T16:22:47.278Z"
   },
   {
    "duration": 87,
    "start_time": "2022-09-01T16:22:57.294Z"
   },
   {
    "duration": 10,
    "start_time": "2022-09-01T16:23:16.306Z"
   },
   {
    "duration": 204,
    "start_time": "2022-09-01T16:23:20.704Z"
   },
   {
    "duration": 834,
    "start_time": "2022-09-01T16:24:05.383Z"
   },
   {
    "duration": 149,
    "start_time": "2022-09-01T16:24:13.485Z"
   },
   {
    "duration": 22,
    "start_time": "2022-09-01T16:24:41.546Z"
   },
   {
    "duration": 25,
    "start_time": "2022-09-01T16:24:52.167Z"
   },
   {
    "duration": 26,
    "start_time": "2022-09-01T16:24:53.877Z"
   },
   {
    "duration": 212,
    "start_time": "2022-09-01T16:24:55.586Z"
   },
   {
    "duration": 166,
    "start_time": "2022-09-01T16:24:56.799Z"
   },
   {
    "duration": 74,
    "start_time": "2022-09-01T16:25:00.641Z"
   },
   {
    "duration": 67,
    "start_time": "2022-09-01T16:25:01.186Z"
   },
   {
    "duration": 53,
    "start_time": "2022-09-01T16:25:03.509Z"
   },
   {
    "duration": 20,
    "start_time": "2022-09-01T16:25:05.102Z"
   },
   {
    "duration": 334,
    "start_time": "2022-09-01T16:26:10.041Z"
   },
   {
    "duration": 443,
    "start_time": "2022-09-01T16:27:00.822Z"
   },
   {
    "duration": 326,
    "start_time": "2022-09-01T16:27:13.718Z"
   },
   {
    "duration": 327,
    "start_time": "2022-09-01T16:30:31.742Z"
   },
   {
    "duration": 341,
    "start_time": "2022-09-01T16:30:43.003Z"
   },
   {
    "duration": 353,
    "start_time": "2022-09-01T16:30:52.266Z"
   },
   {
    "duration": 357,
    "start_time": "2022-09-01T16:31:01.210Z"
   },
   {
    "duration": 20,
    "start_time": "2022-09-01T16:32:01.858Z"
   },
   {
    "duration": 7,
    "start_time": "2022-09-01T16:32:11.216Z"
   },
   {
    "duration": 5,
    "start_time": "2022-09-01T16:32:16.203Z"
   },
   {
    "duration": 5,
    "start_time": "2022-09-01T16:32:19.610Z"
   },
   {
    "duration": 1567,
    "start_time": "2022-09-01T16:35:49.200Z"
   },
   {
    "duration": 868,
    "start_time": "2022-09-01T16:35:50.769Z"
   },
   {
    "duration": 119,
    "start_time": "2022-09-01T16:35:51.638Z"
   },
   {
    "duration": 23,
    "start_time": "2022-09-01T16:35:51.759Z"
   },
   {
    "duration": 467,
    "start_time": "2022-09-01T16:35:51.802Z"
   },
   {
    "duration": 501,
    "start_time": "2022-09-01T16:35:52.271Z"
   },
   {
    "duration": 39,
    "start_time": "2022-09-01T16:35:52.773Z"
   },
   {
    "duration": 28,
    "start_time": "2022-09-01T16:35:52.814Z"
   },
   {
    "duration": 82,
    "start_time": "2022-09-01T16:35:52.844Z"
   },
   {
    "duration": 79,
    "start_time": "2022-09-01T16:35:52.928Z"
   },
   {
    "duration": 62,
    "start_time": "2022-09-01T16:35:53.009Z"
   },
   {
    "duration": 407,
    "start_time": "2022-09-01T16:35:53.073Z"
   },
   {
    "duration": 34,
    "start_time": "2022-09-01T16:35:53.481Z"
   },
   {
    "duration": 330,
    "start_time": "2022-09-01T16:35:53.517Z"
   },
   {
    "duration": 256,
    "start_time": "2022-09-01T16:35:53.849Z"
   },
   {
    "duration": 731,
    "start_time": "2022-09-01T16:35:54.106Z"
   },
   {
    "duration": 486,
    "start_time": "2022-09-01T16:35:54.839Z"
   },
   {
    "duration": 233,
    "start_time": "2022-09-01T16:35:55.326Z"
   },
   {
    "duration": 0,
    "start_time": "2022-09-01T16:35:55.561Z"
   },
   {
    "duration": 0,
    "start_time": "2022-09-01T16:35:55.562Z"
   },
   {
    "duration": 0,
    "start_time": "2022-09-01T16:35:55.564Z"
   },
   {
    "duration": 0,
    "start_time": "2022-09-01T16:35:55.565Z"
   },
   {
    "duration": 0,
    "start_time": "2022-09-01T16:35:55.566Z"
   },
   {
    "duration": 0,
    "start_time": "2022-09-01T16:35:55.567Z"
   },
   {
    "duration": 0,
    "start_time": "2022-09-01T16:35:55.569Z"
   },
   {
    "duration": 0,
    "start_time": "2022-09-01T16:35:55.570Z"
   },
   {
    "duration": 1509,
    "start_time": "2022-09-01T16:37:46.325Z"
   },
   {
    "duration": 867,
    "start_time": "2022-09-01T16:37:47.836Z"
   },
   {
    "duration": 121,
    "start_time": "2022-09-01T16:37:48.705Z"
   },
   {
    "duration": 26,
    "start_time": "2022-09-01T16:37:48.828Z"
   },
   {
    "duration": 554,
    "start_time": "2022-09-01T16:37:48.857Z"
   },
   {
    "duration": 498,
    "start_time": "2022-09-01T16:37:49.413Z"
   },
   {
    "duration": 33,
    "start_time": "2022-09-01T16:37:49.913Z"
   },
   {
    "duration": 44,
    "start_time": "2022-09-01T16:37:49.948Z"
   },
   {
    "duration": 98,
    "start_time": "2022-09-01T16:37:49.994Z"
   },
   {
    "duration": 74,
    "start_time": "2022-09-01T16:37:50.095Z"
   },
   {
    "duration": 69,
    "start_time": "2022-09-01T16:37:50.170Z"
   },
   {
    "duration": 453,
    "start_time": "2022-09-01T16:37:50.241Z"
   },
   {
    "duration": 29,
    "start_time": "2022-09-01T16:37:50.695Z"
   },
   {
    "duration": 356,
    "start_time": "2022-09-01T16:37:50.726Z"
   },
   {
    "duration": 265,
    "start_time": "2022-09-01T16:37:51.084Z"
   },
   {
    "duration": 745,
    "start_time": "2022-09-01T16:37:51.351Z"
   },
   {
    "duration": 505,
    "start_time": "2022-09-01T16:37:52.098Z"
   },
   {
    "duration": 157,
    "start_time": "2022-09-01T16:37:52.604Z"
   },
   {
    "duration": 240503,
    "start_time": "2022-09-01T16:37:52.763Z"
   },
   {
    "duration": 1453,
    "start_time": "2022-09-01T16:57:54.464Z"
   },
   {
    "duration": 869,
    "start_time": "2022-09-01T16:57:55.919Z"
   },
   {
    "duration": 123,
    "start_time": "2022-09-01T16:57:56.790Z"
   },
   {
    "duration": 22,
    "start_time": "2022-09-01T16:57:56.915Z"
   },
   {
    "duration": 489,
    "start_time": "2022-09-01T16:57:56.939Z"
   },
   {
    "duration": 508,
    "start_time": "2022-09-01T16:57:57.430Z"
   },
   {
    "duration": 33,
    "start_time": "2022-09-01T16:57:57.940Z"
   },
   {
    "duration": 33,
    "start_time": "2022-09-01T16:57:57.975Z"
   },
   {
    "duration": 79,
    "start_time": "2022-09-01T16:57:58.009Z"
   },
   {
    "duration": 81,
    "start_time": "2022-09-01T16:57:58.091Z"
   },
   {
    "duration": 71,
    "start_time": "2022-09-01T16:57:58.174Z"
   },
   {
    "duration": 407,
    "start_time": "2022-09-01T16:57:58.247Z"
   },
   {
    "duration": 23,
    "start_time": "2022-09-01T16:57:58.656Z"
   },
   {
    "duration": 404,
    "start_time": "2022-09-01T16:57:58.681Z"
   },
   {
    "duration": 282,
    "start_time": "2022-09-01T16:57:59.088Z"
   },
   {
    "duration": 769,
    "start_time": "2022-09-01T16:57:59.372Z"
   },
   {
    "duration": 500,
    "start_time": "2022-09-01T16:58:00.143Z"
   },
   {
    "duration": 154,
    "start_time": "2022-09-01T16:58:00.645Z"
   },
   {
    "duration": 182381,
    "start_time": "2022-09-01T16:58:00.802Z"
   },
   {
    "duration": 2312115,
    "start_time": "2022-09-01T17:01:03.184Z"
   },
   {
    "duration": 324281,
    "start_time": "2022-09-01T17:39:35.303Z"
   },
   {
    "duration": 528325,
    "start_time": "2022-09-01T17:44:59.585Z"
   },
   {
    "duration": 5,
    "start_time": "2022-09-01T17:53:47.912Z"
   },
   {
    "duration": 188928,
    "start_time": "2022-09-01T17:53:47.919Z"
   },
   {
    "duration": 10,
    "start_time": "2022-09-01T17:56:56.851Z"
   },
   {
    "duration": 116,
    "start_time": "2022-09-01T17:56:56.902Z"
   }
  ],
  "kernelspec": {
   "display_name": "Python 3 (ipykernel)",
   "language": "python",
   "name": "python3"
  },
  "language_info": {
   "codemirror_mode": {
    "name": "ipython",
    "version": 3
   },
   "file_extension": ".py",
   "mimetype": "text/x-python",
   "name": "python",
   "nbconvert_exporter": "python",
   "pygments_lexer": "ipython3",
   "version": "3.9.12"
  },
  "toc": {
   "base_numbering": 1,
   "nav_menu": {},
   "number_sections": true,
   "sideBar": true,
   "skip_h1_title": true,
   "title_cell": "Содержание",
   "title_sidebar": "Contents",
   "toc_cell": true,
   "toc_position": {},
   "toc_section_display": true,
   "toc_window_display": true
  }
 },
 "nbformat": 4,
 "nbformat_minor": 2
}
