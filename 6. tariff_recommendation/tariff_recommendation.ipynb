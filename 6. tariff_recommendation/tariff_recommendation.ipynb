{
 "cells": [
  {
   "cell_type": "markdown",
   "metadata": {},
   "source": [
    "# Рекомендация тарифов"
   ]
  },
  {
   "cell_type": "markdown",
   "metadata": {},
   "source": [
    "Оператор мобильной связи «Мегалайн» выяснил: многие клиенты пользуются архивными тарифами. Они хотят построить систему, способную проанализировать поведение клиентов и предложить пользователям новый тариф: «Смарт» или «Ультра».\n",
    "\n",
    "В вашем распоряжении данные о поведении клиентов, которые уже перешли на эти тарифы (из проекта курса «Статистический анализ данных»). Нужно построить модель для задачи классификации, которая выберет подходящий тариф. Предобработка данных не понадобится — вы её уже сделали.\n",
    "\n",
    "Постройте модель с максимально большим значением *accuracy*. Чтобы сдать проект успешно, нужно довести долю правильных ответов по крайней мере до 0.75. Проверьте *accuracy* на тестовой выборке самостоятельно.\n",
    "\n",
    "**Цель работы:** построить модель для задачи классификации, которая выберет подходящий тариф для клиентов.\n",
    "\n",
    "**Ход работы:**\n",
    "1. Открытие и изучение файла;\n",
    "2. Разделение исходных данных на обучающую, валидационную и тестовую выборки;\n",
    "3. Исследование качества разных моделей;\n",
    "4. Проверка качества моделей на тестовой выборке;\n",
    "5. Проверка модели на вменяемость."
   ]
  },
  {
   "cell_type": "markdown",
   "metadata": {},
   "source": [
    "## Откройте и изучите файл"
   ]
  },
  {
   "cell_type": "markdown",
   "metadata": {},
   "source": [
    "Откроем и изучим файл с данными."
   ]
  },
  {
   "cell_type": "code",
   "execution_count": 12,
   "metadata": {},
   "outputs": [],
   "source": [
    "#импорт нужных библиотек и функций\n",
    "import pandas as pd\n",
    "from sklearn.model_selection import train_test_split\n",
    "from sklearn.tree import DecisionTreeClassifier\n",
    "from sklearn.ensemble import RandomForestClassifier\n",
    "from sklearn.linear_model import LogisticRegression\n",
    "from sklearn.dummy import DummyClassifier"
   ]
  },
  {
   "cell_type": "code",
   "execution_count": 13,
   "metadata": {
    "scrolled": true
   },
   "outputs": [
    {
     "data": {
      "text/html": [
       "<div>\n",
       "<style scoped>\n",
       "    .dataframe tbody tr th:only-of-type {\n",
       "        vertical-align: middle;\n",
       "    }\n",
       "\n",
       "    .dataframe tbody tr th {\n",
       "        vertical-align: top;\n",
       "    }\n",
       "\n",
       "    .dataframe thead th {\n",
       "        text-align: right;\n",
       "    }\n",
       "</style>\n",
       "<table border=\"1\" class=\"dataframe\">\n",
       "  <thead>\n",
       "    <tr style=\"text-align: right;\">\n",
       "      <th></th>\n",
       "      <th>calls</th>\n",
       "      <th>minutes</th>\n",
       "      <th>messages</th>\n",
       "      <th>mb_used</th>\n",
       "      <th>is_ultra</th>\n",
       "    </tr>\n",
       "  </thead>\n",
       "  <tbody>\n",
       "    <tr>\n",
       "      <th>0</th>\n",
       "      <td>40.0</td>\n",
       "      <td>311.90</td>\n",
       "      <td>83.0</td>\n",
       "      <td>19915.42</td>\n",
       "      <td>0</td>\n",
       "    </tr>\n",
       "    <tr>\n",
       "      <th>1</th>\n",
       "      <td>85.0</td>\n",
       "      <td>516.75</td>\n",
       "      <td>56.0</td>\n",
       "      <td>22696.96</td>\n",
       "      <td>0</td>\n",
       "    </tr>\n",
       "    <tr>\n",
       "      <th>2</th>\n",
       "      <td>77.0</td>\n",
       "      <td>467.66</td>\n",
       "      <td>86.0</td>\n",
       "      <td>21060.45</td>\n",
       "      <td>0</td>\n",
       "    </tr>\n",
       "    <tr>\n",
       "      <th>3</th>\n",
       "      <td>106.0</td>\n",
       "      <td>745.53</td>\n",
       "      <td>81.0</td>\n",
       "      <td>8437.39</td>\n",
       "      <td>1</td>\n",
       "    </tr>\n",
       "    <tr>\n",
       "      <th>4</th>\n",
       "      <td>66.0</td>\n",
       "      <td>418.74</td>\n",
       "      <td>1.0</td>\n",
       "      <td>14502.75</td>\n",
       "      <td>0</td>\n",
       "    </tr>\n",
       "  </tbody>\n",
       "</table>\n",
       "</div>"
      ],
      "text/plain": [
       "   calls  minutes  messages   mb_used  is_ultra\n",
       "0   40.0   311.90      83.0  19915.42         0\n",
       "1   85.0   516.75      56.0  22696.96         0\n",
       "2   77.0   467.66      86.0  21060.45         0\n",
       "3  106.0   745.53      81.0   8437.39         1\n",
       "4   66.0   418.74       1.0  14502.75         0"
      ]
     },
     "execution_count": 13,
     "metadata": {},
     "output_type": "execute_result"
    }
   ],
   "source": [
    "#открытие файла, вывод первых 5 строк на экран\n",
    "data = pd.read_csv('/datasets/users_behavior.csv')\n",
    "data.head()"
   ]
  },
  {
   "cell_type": "code",
   "execution_count": 14,
   "metadata": {},
   "outputs": [
    {
     "name": "stdout",
     "output_type": "stream",
     "text": [
      "<class 'pandas.core.frame.DataFrame'>\n",
      "RangeIndex: 3214 entries, 0 to 3213\n",
      "Data columns (total 5 columns):\n",
      " #   Column    Non-Null Count  Dtype  \n",
      "---  ------    --------------  -----  \n",
      " 0   calls     3214 non-null   float64\n",
      " 1   minutes   3214 non-null   float64\n",
      " 2   messages  3214 non-null   float64\n",
      " 3   mb_used   3214 non-null   float64\n",
      " 4   is_ultra  3214 non-null   int64  \n",
      "dtypes: float64(4), int64(1)\n",
      "memory usage: 125.7 KB\n"
     ]
    }
   ],
   "source": [
    "#вывод информации о таблице\n",
    "data.info()"
   ]
  },
  {
   "cell_type": "markdown",
   "metadata": {},
   "source": [
    "Предоставленная таблица состоит из 3214 объектов, каждый из которых - информация о поведении одного пользователя за месяц. Пропусков в таблице нет. Известно:\n",
    "* `сalls` — количество звонков,\n",
    "* `minutes` — суммарная длительность звонков в минутах,\n",
    "* `messages` — количество sms-сообщений,\n",
    "* `mb_used` — израсходованный интернет-трафик в Мб,\n",
    "* `is_ultra` — каким тарифом пользовался в течение месяца («Ультра» — 1, «Смарт» — 0)."
   ]
  },
  {
   "cell_type": "markdown",
   "metadata": {},
   "source": [
    "## Разбейте данные на выборки"
   ]
  },
  {
   "cell_type": "markdown",
   "metadata": {},
   "source": [
    "Разделим данные на обучающую, валидационную и тестовую выборки. Исходные данные разобъем в соотношении 3:1:1. Для этого импортируем `train_test_split` из модуля `sklearn.model_selection`, затем разделим выборку сначала на обучающую и валидационную в отношении 60% на 40%, а затем валидационную поделим на валидационную и тестовую пополам."
   ]
  },
  {
   "cell_type": "code",
   "execution_count": 15,
   "metadata": {},
   "outputs": [
    {
     "name": "stdout",
     "output_type": "stream",
     "text": [
      "(1928, 5)\n",
      "(643, 5)\n",
      "(643, 5)\n"
     ]
    }
   ],
   "source": [
    "#деление данных на обучающую, валидационную и тестовую выборки\n",
    "data_train, data_valid = train_test_split(data, test_size=0.4, random_state=12345)\n",
    "data_valid, data_test = train_test_split(data_valid, test_size=0.5, random_state=12345)\n",
    "\n",
    "#вывод размеров выборок\n",
    "print(data_train.shape)\n",
    "print(data_valid.shape)\n",
    "print(data_test.shape)"
   ]
  },
  {
   "cell_type": "markdown",
   "metadata": {},
   "source": [
    "Полученные выборки разобъем на признаки и целевой признак. Цель работы - построить модель, определяющую подходящий тариф для клиента, следовательно, `is_ultra` - целевой признак."
   ]
  },
  {
   "cell_type": "code",
   "execution_count": 16,
   "metadata": {},
   "outputs": [],
   "source": [
    "#отделяем целевой признак от остальных признаков\n",
    "features_train = data_train.drop('is_ultra', axis=1)\n",
    "target_train = data_train['is_ultra']\n",
    "\n",
    "features_valid = data_valid.drop('is_ultra', axis=1)\n",
    "target_valid = data_valid['is_ultra']\n",
    "\n",
    "features_test = data_test.drop('is_ultra', axis=1)\n",
    "target_test = data_test['is_ultra']"
   ]
  },
  {
   "cell_type": "markdown",
   "metadata": {},
   "source": [
    "## Исследуйте модели"
   ]
  },
  {
   "cell_type": "markdown",
   "metadata": {},
   "source": [
    "### Дерево решений"
   ]
  },
  {
   "cell_type": "markdown",
   "metadata": {},
   "source": [
    "Обучим модель, меняя значение глубины от 1 до 5, и сравним значения точности на валидационной выборке."
   ]
  },
  {
   "cell_type": "code",
   "execution_count": 5,
   "metadata": {},
   "outputs": [
    {
     "name": "stdout",
     "output_type": "stream",
     "text": [
      "max_depth = 1 accuracy = 0.7542768273716952\n",
      "max_depth = 2 accuracy = 0.7822706065318819\n",
      "max_depth = 3 accuracy = 0.7853810264385692\n",
      "max_depth = 4 accuracy = 0.7791601866251944\n",
      "max_depth = 5 accuracy = 0.7791601866251944\n"
     ]
    }
   ],
   "source": [
    "best_model_dt = None\n",
    "best_result = 0\n",
    "\n",
    "#меняем значение max_depth от 1 до 5\n",
    "for depth in range(1, 6):\n",
    "    #обучаем модель \n",
    "    model_dt = DecisionTreeClassifier(max_depth=depth, random_state=12345)\n",
    "    model_dt.fit(features_train, target_train)\n",
    "    result = model_dt.score(features_valid, target_valid)\n",
    "    if result > best_result:\n",
    "        best_model_dt = model_dt\n",
    "        best_result = result\n",
    "        \n",
    "    #вывод значений accuracy для каждого max_depth\n",
    "    print('max_depth =', depth, 'accuracy =', result)"
   ]
  },
  {
   "cell_type": "markdown",
   "metadata": {},
   "source": [
    "### Случайный лес"
   ]
  },
  {
   "cell_type": "markdown",
   "metadata": {},
   "source": [
    "Обучим модель, меняя значение глубины от 1 до 5 и количества деревьев от 10 до 50, и выведем значение точности лучшей модели на валидационной выборке."
   ]
  },
  {
   "cell_type": "code",
   "execution_count": 6,
   "metadata": {},
   "outputs": [
    {
     "name": "stdout",
     "output_type": "stream",
     "text": [
      "accuracy лучшей модели = 0.7947122861586314 max_depth = 5 n_estimators = 40\n"
     ]
    }
   ],
   "source": [
    "best_model_rf = None\n",
    "best_result = 0\n",
    "best_depth = 0\n",
    "best_est = 0\n",
    "\n",
    "#меняем значение max_depth от 1 до 5 и значение n_estimators от 10 до 50 с шагом 10\n",
    "for depth in range(1, 6):\n",
    "    for est in range(10, 51, 10):\n",
    "        #обучаем модель\n",
    "        model_rf = RandomForestClassifier(max_depth=depth, n_estimators=est, random_state=12345)\n",
    "        model_rf.fit(features_train, target_train)\n",
    "        \n",
    "        #считаем accuracy\n",
    "        result = model_rf.score(features_valid, target_valid)\n",
    "        \n",
    "        #ищем лучшую модель\n",
    "        if result > best_result:\n",
    "            best_model_rf = model_rf\n",
    "            best_result = result\n",
    "            best_depth = depth\n",
    "            best_est = est\n",
    "            \n",
    "#выводим параметры лучшей модели\n",
    "print('accuracy лучшей модели =', best_result,\n",
    "      'max_depth =', best_depth,\n",
    "      'n_estimators =', best_est)"
   ]
  },
  {
   "cell_type": "markdown",
   "metadata": {},
   "source": [
    "### Логистическая регрессия"
   ]
  },
  {
   "cell_type": "markdown",
   "metadata": {},
   "source": [
    "Обучим модель и выведем значение точности на валидационной выборке."
   ]
  },
  {
   "cell_type": "code",
   "execution_count": 7,
   "metadata": {},
   "outputs": [
    {
     "name": "stdout",
     "output_type": "stream",
     "text": [
      "accuracy = 0.7107309486780715\n"
     ]
    }
   ],
   "source": [
    "#обучаем модель\n",
    "model_lr = LogisticRegression(random_state=12345, solver='lbfgs', max_iter=1000)\n",
    "model_lr.fit(features_train, target_train)\n",
    "\n",
    "#выводим accuracy\n",
    "print('accuracy =', model_lr.score(features_valid, target_valid))"
   ]
  },
  {
   "cell_type": "markdown",
   "metadata": {},
   "source": [
    "### Вывод"
   ]
  },
  {
   "cell_type": "markdown",
   "metadata": {},
   "source": [
    "Самое высокое значение метрики accuracy у случайного леса: 0.795 при глубине 5 и количестве деревьев 40, затем идет дерево решений: 0.785 при глубине 3, самое низкое значение получилось у логистической регрессии: 0.711. "
   ]
  },
  {
   "cell_type": "markdown",
   "metadata": {},
   "source": [
    "## Проверьте модель на тестовой выборке"
   ]
  },
  {
   "cell_type": "markdown",
   "metadata": {},
   "source": [
    "Проверим лучшую модель на тестовой выборке"
   ]
  },
  {
   "cell_type": "code",
   "execution_count": 9,
   "metadata": {},
   "outputs": [
    {
     "data": {
      "text/plain": [
       "0.7838258164852255"
      ]
     },
     "execution_count": 9,
     "metadata": {},
     "output_type": "execute_result"
    }
   ],
   "source": [
    "#значение точности на тестовой выборке\n",
    "best_model_rf.score(features_test, target_test)"
   ]
  },
  {
   "cell_type": "markdown",
   "metadata": {},
   "source": [
    "### Вывод"
   ]
  },
  {
   "cell_type": "markdown",
   "metadata": {},
   "source": [
    "Получилось примерно такое же значение точности, как и на валидационной выборке: 0.784."
   ]
  },
  {
   "cell_type": "markdown",
   "metadata": {},
   "source": [
    "## Проверьте модели на адекватность"
   ]
  },
  {
   "cell_type": "markdown",
   "metadata": {},
   "source": [
    "Проверим выбранную модель на вменяемость, сравним ее со случайной."
   ]
  },
  {
   "cell_type": "code",
   "execution_count": 11,
   "metadata": {},
   "outputs": [
    {
     "data": {
      "text/plain": [
       "0.6842923794712286"
      ]
     },
     "execution_count": 11,
     "metadata": {},
     "output_type": "execute_result"
    }
   ],
   "source": [
    "dummy_clf = DummyClassifier(random_state=12345)\n",
    "dummy_clf.fit(features_train, target_train)\n",
    "dummy_clf.score(features_test, target_test)"
   ]
  },
  {
   "cell_type": "markdown",
   "metadata": {},
   "source": [
    "Значение точности у случайной модели на тестовой выборке - 0.684, что меньше, чем у нашей модели, следовательно, она прошла проверку."
   ]
  },
  {
   "cell_type": "markdown",
   "metadata": {},
   "source": [
    "## Общий вывод"
   ]
  },
  {
   "cell_type": "markdown",
   "metadata": {},
   "source": [
    "В ходе данной работы был изучен предоставленный файл, данные разделены на обучающую, валидационную и тестовую выборки. Было исследовано качество разных моделей, модели были проверены на тестовой выборке. Выбор был остановлен на модели, созданной с помощью алгоритма случайный лес с глубиной 5 и количеством деревьев 40, было получено значение точности 0.784. Также модель прошла проверку на вменяемость."
   ]
  }
 ],
 "metadata": {
  "ExecuteTimeLog": [
   {
    "duration": 519,
    "start_time": "2022-06-02T10:21:43.962Z"
   },
   {
    "duration": 15,
    "start_time": "2022-06-02T10:26:02.620Z"
   },
   {
    "duration": 10,
    "start_time": "2022-06-02T10:36:46.467Z"
   },
   {
    "duration": 3,
    "start_time": "2022-06-02T10:37:24.779Z"
   },
   {
    "duration": 13,
    "start_time": "2022-06-02T10:37:31.397Z"
   },
   {
    "duration": 3,
    "start_time": "2022-06-02T10:38:15.000Z"
   },
   {
    "duration": 728,
    "start_time": "2022-06-02T10:47:12.645Z"
   },
   {
    "duration": 25,
    "start_time": "2022-06-02T10:47:30.211Z"
   },
   {
    "duration": 6,
    "start_time": "2022-06-02T10:48:03.808Z"
   },
   {
    "duration": 9,
    "start_time": "2022-06-02T10:49:29.639Z"
   },
   {
    "duration": 8,
    "start_time": "2022-06-02T10:49:49.020Z"
   },
   {
    "duration": 7,
    "start_time": "2022-06-02T10:54:07.730Z"
   },
   {
    "duration": 6,
    "start_time": "2022-06-02T10:59:00.217Z"
   },
   {
    "duration": 102,
    "start_time": "2022-06-02T11:14:16.038Z"
   },
   {
    "duration": 11,
    "start_time": "2022-06-02T11:14:30.096Z"
   },
   {
    "duration": 11,
    "start_time": "2022-06-02T11:14:40.432Z"
   },
   {
    "duration": 14,
    "start_time": "2022-06-02T11:14:46.489Z"
   },
   {
    "duration": 32,
    "start_time": "2022-06-02T11:14:53.271Z"
   },
   {
    "duration": 24,
    "start_time": "2022-06-02T11:17:47.389Z"
   },
   {
    "duration": 22,
    "start_time": "2022-06-02T11:18:27.143Z"
   },
   {
    "duration": 30,
    "start_time": "2022-06-02T11:18:33.887Z"
   },
   {
    "duration": 24,
    "start_time": "2022-06-02T11:18:52.477Z"
   },
   {
    "duration": 38,
    "start_time": "2022-06-02T11:19:41.379Z"
   },
   {
    "duration": 30,
    "start_time": "2022-06-02T11:19:48.944Z"
   },
   {
    "duration": 44,
    "start_time": "2022-06-02T11:22:54.563Z"
   },
   {
    "duration": 9,
    "start_time": "2022-06-02T11:23:26.928Z"
   },
   {
    "duration": 963,
    "start_time": "2022-06-02T11:23:33.263Z"
   },
   {
    "duration": 83,
    "start_time": "2022-06-02T11:24:27.892Z"
   },
   {
    "duration": 787,
    "start_time": "2022-06-02T11:25:23.890Z"
   },
   {
    "duration": 25,
    "start_time": "2022-06-02T11:32:39.576Z"
   },
   {
    "duration": 25,
    "start_time": "2022-06-02T11:33:11.677Z"
   },
   {
    "duration": 16,
    "start_time": "2022-06-02T11:36:08.745Z"
   },
   {
    "duration": 741,
    "start_time": "2022-06-02T11:36:14.990Z"
   },
   {
    "duration": 785,
    "start_time": "2022-06-02T11:37:11.789Z"
   },
   {
    "duration": 12859,
    "start_time": "2022-06-02T11:37:26.706Z"
   },
   {
    "duration": 719,
    "start_time": "2022-06-02T11:37:44.093Z"
   },
   {
    "duration": 2448,
    "start_time": "2022-06-02T11:37:50.666Z"
   },
   {
    "duration": 1104,
    "start_time": "2022-06-02T11:38:15.518Z"
   },
   {
    "duration": 1081,
    "start_time": "2022-06-02T11:40:40.919Z"
   },
   {
    "duration": 1595,
    "start_time": "2022-06-02T11:43:02.865Z"
   },
   {
    "duration": 517,
    "start_time": "2022-06-02T15:03:45.982Z"
   },
   {
    "duration": 12,
    "start_time": "2022-06-02T15:03:46.501Z"
   },
   {
    "duration": 457,
    "start_time": "2022-06-02T15:03:46.515Z"
   },
   {
    "duration": 6,
    "start_time": "2022-06-02T15:03:46.974Z"
   },
   {
    "duration": 131,
    "start_time": "2022-06-02T15:03:46.982Z"
   },
   {
    "duration": 1521,
    "start_time": "2022-06-02T15:03:47.114Z"
   },
   {
    "duration": 28,
    "start_time": "2022-06-02T15:03:48.636Z"
   },
   {
    "duration": 34,
    "start_time": "2022-06-02T15:03:55.177Z"
   },
   {
    "duration": 97,
    "start_time": "2022-06-02T15:06:42.278Z"
   },
   {
    "duration": 96,
    "start_time": "2022-06-02T15:06:46.365Z"
   },
   {
    "duration": 98,
    "start_time": "2022-06-02T15:06:47.767Z"
   },
   {
    "duration": 96,
    "start_time": "2022-06-02T15:06:48.510Z"
   },
   {
    "duration": 103,
    "start_time": "2022-06-02T15:06:49.273Z"
   },
   {
    "duration": 98,
    "start_time": "2022-06-02T15:24:16.483Z"
   },
   {
    "duration": 123,
    "start_time": "2022-06-02T15:24:25.248Z"
   },
   {
    "duration": 6,
    "start_time": "2022-06-02T15:39:47.631Z"
   },
   {
    "duration": 5,
    "start_time": "2022-06-02T15:39:49.406Z"
   },
   {
    "duration": 31,
    "start_time": "2022-06-02T15:57:38.283Z"
   },
   {
    "duration": 1508,
    "start_time": "2022-06-02T15:58:01.836Z"
   },
   {
    "duration": 24,
    "start_time": "2022-06-02T15:58:22.218Z"
   },
   {
    "duration": 7,
    "start_time": "2022-06-02T15:59:45.157Z"
   },
   {
    "duration": 15,
    "start_time": "2022-06-02T16:00:04.162Z"
   },
   {
    "duration": 18,
    "start_time": "2022-06-02T16:00:20.229Z"
   },
   {
    "duration": 8,
    "start_time": "2022-06-02T16:00:25.344Z"
   },
   {
    "duration": 17,
    "start_time": "2022-06-02T16:00:37.962Z"
   },
   {
    "duration": 12,
    "start_time": "2022-06-02T16:02:10.836Z"
   },
   {
    "duration": 127,
    "start_time": "2022-06-02T16:05:53.283Z"
   },
   {
    "duration": 39,
    "start_time": "2022-06-02T16:06:05.403Z"
   },
   {
    "duration": 9,
    "start_time": "2022-06-02T16:06:23.386Z"
   },
   {
    "duration": 10,
    "start_time": "2022-06-02T16:06:25.514Z"
   },
   {
    "duration": 12,
    "start_time": "2022-06-02T16:06:31.319Z"
   },
   {
    "duration": 10,
    "start_time": "2022-06-02T16:06:31.803Z"
   },
   {
    "duration": 9,
    "start_time": "2022-06-02T16:06:32.431Z"
   },
   {
    "duration": 9,
    "start_time": "2022-06-02T16:06:33.313Z"
   },
   {
    "duration": 31,
    "start_time": "2022-06-02T16:06:42.766Z"
   },
   {
    "duration": 11,
    "start_time": "2022-06-02T16:06:50.433Z"
   },
   {
    "duration": 14,
    "start_time": "2022-06-02T16:07:49.607Z"
   },
   {
    "duration": 1640,
    "start_time": "2022-06-02T16:07:57.432Z"
   },
   {
    "duration": 12,
    "start_time": "2022-06-02T16:08:02.180Z"
   },
   {
    "duration": 32,
    "start_time": "2022-06-02T16:08:38.273Z"
   },
   {
    "duration": 31,
    "start_time": "2022-06-02T16:08:42.789Z"
   },
   {
    "duration": 34,
    "start_time": "2022-06-02T16:08:46.632Z"
   },
   {
    "duration": 34,
    "start_time": "2022-06-02T16:08:50.532Z"
   },
   {
    "duration": 10,
    "start_time": "2022-06-02T16:08:55.839Z"
   },
   {
    "duration": 540,
    "start_time": "2022-06-02T16:09:01.956Z"
   },
   {
    "duration": 13,
    "start_time": "2022-06-02T16:09:02.499Z"
   },
   {
    "duration": 484,
    "start_time": "2022-06-02T16:09:02.514Z"
   },
   {
    "duration": 5,
    "start_time": "2022-06-02T16:09:03.001Z"
   },
   {
    "duration": 207,
    "start_time": "2022-06-02T16:09:03.008Z"
   },
   {
    "duration": 0,
    "start_time": "2022-06-02T16:09:03.218Z"
   },
   {
    "duration": 0,
    "start_time": "2022-06-02T16:09:03.219Z"
   },
   {
    "duration": 0,
    "start_time": "2022-06-02T16:09:03.221Z"
   },
   {
    "duration": 0,
    "start_time": "2022-06-02T16:09:03.222Z"
   },
   {
    "duration": 0,
    "start_time": "2022-06-02T16:09:03.223Z"
   },
   {
    "duration": 0,
    "start_time": "2022-06-02T16:09:03.225Z"
   },
   {
    "duration": 33,
    "start_time": "2022-06-02T16:09:24.680Z"
   },
   {
    "duration": 1580,
    "start_time": "2022-06-02T16:09:36.050Z"
   },
   {
    "duration": 25,
    "start_time": "2022-06-02T16:09:40.075Z"
   },
   {
    "duration": 7,
    "start_time": "2022-06-02T16:09:42.232Z"
   },
   {
    "duration": 14,
    "start_time": "2022-06-02T16:09:43.623Z"
   },
   {
    "duration": 7,
    "start_time": "2022-06-02T16:09:45.681Z"
   },
   {
    "duration": 6,
    "start_time": "2022-06-02T16:14:28.524Z"
   },
   {
    "duration": 432,
    "start_time": "2022-06-02T16:22:38.678Z"
   },
   {
    "duration": 13,
    "start_time": "2022-06-02T16:22:39.112Z"
   },
   {
    "duration": 431,
    "start_time": "2022-06-02T16:22:39.127Z"
   },
   {
    "duration": 5,
    "start_time": "2022-06-02T16:22:39.560Z"
   },
   {
    "duration": 127,
    "start_time": "2022-06-02T16:22:39.567Z"
   },
   {
    "duration": 1556,
    "start_time": "2022-06-02T16:22:39.696Z"
   },
   {
    "duration": 23,
    "start_time": "2022-06-02T16:22:41.254Z"
   },
   {
    "duration": 6,
    "start_time": "2022-06-02T16:22:41.278Z"
   },
   {
    "duration": 18,
    "start_time": "2022-06-02T16:22:41.286Z"
   },
   {
    "duration": 6,
    "start_time": "2022-06-02T16:22:41.306Z"
   },
   {
    "duration": 14,
    "start_time": "2022-06-02T16:22:41.314Z"
   },
   {
    "duration": 662,
    "start_time": "2022-06-02T17:04:00.018Z"
   },
   {
    "duration": 13,
    "start_time": "2022-06-02T17:04:00.687Z"
   },
   {
    "duration": 453,
    "start_time": "2022-06-02T17:04:00.701Z"
   },
   {
    "duration": 8,
    "start_time": "2022-06-02T17:04:01.156Z"
   },
   {
    "duration": 178,
    "start_time": "2022-06-02T17:04:01.166Z"
   },
   {
    "duration": 2259,
    "start_time": "2022-06-02T17:04:01.345Z"
   },
   {
    "duration": 40,
    "start_time": "2022-06-02T17:04:03.608Z"
   },
   {
    "duration": 35,
    "start_time": "2022-06-02T17:04:03.655Z"
   },
   {
    "duration": 20,
    "start_time": "2022-06-02T17:04:03.696Z"
   },
   {
    "duration": 15,
    "start_time": "2022-06-02T17:04:03.719Z"
   },
   {
    "duration": 57,
    "start_time": "2022-06-02T17:04:03.741Z"
   },
   {
    "duration": 3,
    "start_time": "2022-06-02T17:24:39.404Z"
   },
   {
    "duration": 117,
    "start_time": "2022-06-02T17:24:45.707Z"
   },
   {
    "duration": 13,
    "start_time": "2022-06-02T17:24:47.453Z"
   },
   {
    "duration": 8,
    "start_time": "2022-06-02T17:27:01.904Z"
   },
   {
    "duration": 6,
    "start_time": "2022-06-02T17:29:31.735Z"
   }
  ],
  "kernelspec": {
   "display_name": "Python 3 (ipykernel)",
   "language": "python",
   "name": "python3"
  },
  "language_info": {
   "codemirror_mode": {
    "name": "ipython",
    "version": 3
   },
   "file_extension": ".py",
   "mimetype": "text/x-python",
   "name": "python",
   "nbconvert_exporter": "python",
   "pygments_lexer": "ipython3",
   "version": "3.9.12"
  },
  "toc": {
   "base_numbering": 1,
   "nav_menu": {},
   "number_sections": true,
   "sideBar": true,
   "skip_h1_title": true,
   "title_cell": "Table of Contents",
   "title_sidebar": "Contents",
   "toc_cell": false,
   "toc_position": {},
   "toc_section_display": true,
   "toc_window_display": false
  }
 },
 "nbformat": 4,
 "nbformat_minor": 2
}
