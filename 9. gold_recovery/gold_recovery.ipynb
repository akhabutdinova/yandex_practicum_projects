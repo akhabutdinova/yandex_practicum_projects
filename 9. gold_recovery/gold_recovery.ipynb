{
 "cells": [
  {
   "cell_type": "markdown",
   "metadata": {},
   "source": [
    "# Восстановление золота из руды"
   ]
  },
  {
   "cell_type": "markdown",
   "metadata": {},
   "source": [
    "Подготовьте прототип модели машинного обучения для «Цифры». Компания разрабатывает решения для эффективной работы промышленных предприятий.\n",
    "\n",
    "Модель должна предсказать коэффициент восстановления золота из золотосодержащей руды. Используйте данные с параметрами добычи и очистки. \n",
    "\n",
    "Модель поможет оптимизировать производство, чтобы не запускать предприятие с убыточными характеристиками.\n",
    "\n",
    "Вам нужно:\n",
    "\n",
    "1. Подготовить данные;\n",
    "2. Провести исследовательский анализ данных;\n",
    "3. Построить и обучить модель.\n",
    "\n",
    "Чтобы выполнить проект, обращайтесь к библиотекам *pandas*, *matplotlib* и *sklearn.* Вам поможет их документация.\n",
    "\n",
    "**Цель работы:** подготовить прототип модели машинного обучения, которая должна должна предсказать коэффициент восстановления золота из золотосодержащей руды. \n",
    "\n",
    "**Ход работы:**\n",
    "1. Подготовка данных:\n",
    "    * Открытие и изучение файлов;\n",
    "    * Проверка правильности расчета эффективности обогащения;\n",
    "    * Анализ признаков, недоступных в тестовой выборке;\n",
    "    * Предобработка данных;\n",
    "2. Анализ данных:\n",
    "    * Изменение концентрации металлов на различных этапах очистки;\n",
    "    * Сравнение распределения размеров гранул сырья на обучающей и тестовой выборках;\n",
    "    * Исследование суммарной концентрации всех веществ на различных этапах;\n",
    "3. Выбор и обучение модели.\n",
    "\n",
    "**Наименование признаков**\n",
    "\n",
    "`[этап].[тип_параметра].[название_параметра]`\n",
    "\n",
    "Пример: `rougher.input.feed_ag`\n",
    "\n",
    "Возможные значения для блока `[этап]`:\n",
    "* rougher — флотация\n",
    "* primary_cleaner — первичная очистка\n",
    "* secondary_cleaner — вторичная очистка\n",
    "* final — финальные характеристики\n",
    "\n",
    "Возможные значения для блока `[тип_параметра]`:\n",
    "* input — параметры сырья\n",
    "* output — параметры продукта\n",
    "* state — параметры, характеризующие текущее состояние этапа\n",
    "* calculation — расчётные характеристики"
   ]
  },
  {
   "cell_type": "markdown",
   "metadata": {},
   "source": [
    "## Подготовка данных"
   ]
  },
  {
   "cell_type": "markdown",
   "metadata": {},
   "source": [
    "### Открытие и изучение файлов"
   ]
  },
  {
   "cell_type": "markdown",
   "metadata": {},
   "source": [
    "Импортируем необходимые в работе библиотеки."
   ]
  },
  {
   "cell_type": "code",
   "execution_count": 1,
   "metadata": {},
   "outputs": [],
   "source": [
    "import pandas as pd\n",
    "import matplotlib.pyplot as plt\n",
    "\n",
    "from sklearn.metrics import mean_squared_error, make_scorer\n",
    "from sklearn.preprocessing import StandardScaler\n",
    "from sklearn.tree import DecisionTreeRegressor\n",
    "from sklearn.ensemble import RandomForestRegressor\n",
    "from sklearn.linear_model import LinearRegression\n",
    "from sklearn.model_selection import cross_val_score\n",
    "from sklearn.model_selection import RandomizedSearchCV\n",
    "from catboost import CatBoostRegressor\n",
    "from sklearn.dummy import DummyRegressor"
   ]
  },
  {
   "cell_type": "markdown",
   "metadata": {},
   "source": [
    "Напишем функцию для чтения файла, вывода первых 5 строк и информации на экран, а также для подсчета количества дубликатов."
   ]
  },
  {
   "cell_type": "code",
   "execution_count": 2,
   "metadata": {},
   "outputs": [],
   "source": [
    "def read_info(file):\n",
    "    data = pd.read_csv(file, index_col='date')\n",
    "    #вывод первых 5 строк на экран\n",
    "    display(data.head())\n",
    "    #вывод информации о файле\n",
    "    print(data.info())\n",
    "    #вывод количества дубликатов\n",
    "    print('Количество дубликатов:', data.duplicated().sum())\n",
    "    return data"
   ]
  },
  {
   "cell_type": "markdown",
   "metadata": {},
   "source": [
    "Изучим файл с исходными данными."
   ]
  },
  {
   "cell_type": "code",
   "execution_count": 3,
   "metadata": {
    "scrolled": false
   },
   "outputs": [
    {
     "data": {
      "text/html": [
       "<div>\n",
       "<style scoped>\n",
       "    .dataframe tbody tr th:only-of-type {\n",
       "        vertical-align: middle;\n",
       "    }\n",
       "\n",
       "    .dataframe tbody tr th {\n",
       "        vertical-align: top;\n",
       "    }\n",
       "\n",
       "    .dataframe thead th {\n",
       "        text-align: right;\n",
       "    }\n",
       "</style>\n",
       "<table border=\"1\" class=\"dataframe\">\n",
       "  <thead>\n",
       "    <tr style=\"text-align: right;\">\n",
       "      <th></th>\n",
       "      <th>final.output.concentrate_ag</th>\n",
       "      <th>final.output.concentrate_pb</th>\n",
       "      <th>final.output.concentrate_sol</th>\n",
       "      <th>final.output.concentrate_au</th>\n",
       "      <th>final.output.recovery</th>\n",
       "      <th>final.output.tail_ag</th>\n",
       "      <th>final.output.tail_pb</th>\n",
       "      <th>final.output.tail_sol</th>\n",
       "      <th>final.output.tail_au</th>\n",
       "      <th>primary_cleaner.input.sulfate</th>\n",
       "      <th>...</th>\n",
       "      <th>secondary_cleaner.state.floatbank4_a_air</th>\n",
       "      <th>secondary_cleaner.state.floatbank4_a_level</th>\n",
       "      <th>secondary_cleaner.state.floatbank4_b_air</th>\n",
       "      <th>secondary_cleaner.state.floatbank4_b_level</th>\n",
       "      <th>secondary_cleaner.state.floatbank5_a_air</th>\n",
       "      <th>secondary_cleaner.state.floatbank5_a_level</th>\n",
       "      <th>secondary_cleaner.state.floatbank5_b_air</th>\n",
       "      <th>secondary_cleaner.state.floatbank5_b_level</th>\n",
       "      <th>secondary_cleaner.state.floatbank6_a_air</th>\n",
       "      <th>secondary_cleaner.state.floatbank6_a_level</th>\n",
       "    </tr>\n",
       "    <tr>\n",
       "      <th>date</th>\n",
       "      <th></th>\n",
       "      <th></th>\n",
       "      <th></th>\n",
       "      <th></th>\n",
       "      <th></th>\n",
       "      <th></th>\n",
       "      <th></th>\n",
       "      <th></th>\n",
       "      <th></th>\n",
       "      <th></th>\n",
       "      <th></th>\n",
       "      <th></th>\n",
       "      <th></th>\n",
       "      <th></th>\n",
       "      <th></th>\n",
       "      <th></th>\n",
       "      <th></th>\n",
       "      <th></th>\n",
       "      <th></th>\n",
       "      <th></th>\n",
       "      <th></th>\n",
       "    </tr>\n",
       "  </thead>\n",
       "  <tbody>\n",
       "    <tr>\n",
       "      <th>2016-01-15 00:00:00</th>\n",
       "      <td>6.055403</td>\n",
       "      <td>9.889648</td>\n",
       "      <td>5.507324</td>\n",
       "      <td>42.192020</td>\n",
       "      <td>70.541216</td>\n",
       "      <td>10.411962</td>\n",
       "      <td>0.895447</td>\n",
       "      <td>16.904297</td>\n",
       "      <td>2.143149</td>\n",
       "      <td>127.092003</td>\n",
       "      <td>...</td>\n",
       "      <td>14.016835</td>\n",
       "      <td>-502.488007</td>\n",
       "      <td>12.099931</td>\n",
       "      <td>-504.715942</td>\n",
       "      <td>9.925633</td>\n",
       "      <td>-498.310211</td>\n",
       "      <td>8.079666</td>\n",
       "      <td>-500.470978</td>\n",
       "      <td>14.151341</td>\n",
       "      <td>-605.841980</td>\n",
       "    </tr>\n",
       "    <tr>\n",
       "      <th>2016-01-15 01:00:00</th>\n",
       "      <td>6.029369</td>\n",
       "      <td>9.968944</td>\n",
       "      <td>5.257781</td>\n",
       "      <td>42.701629</td>\n",
       "      <td>69.266198</td>\n",
       "      <td>10.462676</td>\n",
       "      <td>0.927452</td>\n",
       "      <td>16.634514</td>\n",
       "      <td>2.224930</td>\n",
       "      <td>125.629232</td>\n",
       "      <td>...</td>\n",
       "      <td>13.992281</td>\n",
       "      <td>-505.503262</td>\n",
       "      <td>11.950531</td>\n",
       "      <td>-501.331529</td>\n",
       "      <td>10.039245</td>\n",
       "      <td>-500.169983</td>\n",
       "      <td>7.984757</td>\n",
       "      <td>-500.582168</td>\n",
       "      <td>13.998353</td>\n",
       "      <td>-599.787184</td>\n",
       "    </tr>\n",
       "    <tr>\n",
       "      <th>2016-01-15 02:00:00</th>\n",
       "      <td>6.055926</td>\n",
       "      <td>10.213995</td>\n",
       "      <td>5.383759</td>\n",
       "      <td>42.657501</td>\n",
       "      <td>68.116445</td>\n",
       "      <td>10.507046</td>\n",
       "      <td>0.953716</td>\n",
       "      <td>16.208849</td>\n",
       "      <td>2.257889</td>\n",
       "      <td>123.819808</td>\n",
       "      <td>...</td>\n",
       "      <td>14.015015</td>\n",
       "      <td>-502.520901</td>\n",
       "      <td>11.912783</td>\n",
       "      <td>-501.133383</td>\n",
       "      <td>10.070913</td>\n",
       "      <td>-500.129135</td>\n",
       "      <td>8.013877</td>\n",
       "      <td>-500.517572</td>\n",
       "      <td>14.028663</td>\n",
       "      <td>-601.427363</td>\n",
       "    </tr>\n",
       "    <tr>\n",
       "      <th>2016-01-15 03:00:00</th>\n",
       "      <td>6.047977</td>\n",
       "      <td>9.977019</td>\n",
       "      <td>4.858634</td>\n",
       "      <td>42.689819</td>\n",
       "      <td>68.347543</td>\n",
       "      <td>10.422762</td>\n",
       "      <td>0.883763</td>\n",
       "      <td>16.532835</td>\n",
       "      <td>2.146849</td>\n",
       "      <td>122.270188</td>\n",
       "      <td>...</td>\n",
       "      <td>14.036510</td>\n",
       "      <td>-500.857308</td>\n",
       "      <td>11.999550</td>\n",
       "      <td>-501.193686</td>\n",
       "      <td>9.970366</td>\n",
       "      <td>-499.201640</td>\n",
       "      <td>7.977324</td>\n",
       "      <td>-500.255908</td>\n",
       "      <td>14.005551</td>\n",
       "      <td>-599.996129</td>\n",
       "    </tr>\n",
       "    <tr>\n",
       "      <th>2016-01-15 04:00:00</th>\n",
       "      <td>6.148599</td>\n",
       "      <td>10.142511</td>\n",
       "      <td>4.939416</td>\n",
       "      <td>42.774141</td>\n",
       "      <td>66.927016</td>\n",
       "      <td>10.360302</td>\n",
       "      <td>0.792826</td>\n",
       "      <td>16.525686</td>\n",
       "      <td>2.055292</td>\n",
       "      <td>117.988169</td>\n",
       "      <td>...</td>\n",
       "      <td>14.027298</td>\n",
       "      <td>-499.838632</td>\n",
       "      <td>11.953070</td>\n",
       "      <td>-501.053894</td>\n",
       "      <td>9.925709</td>\n",
       "      <td>-501.686727</td>\n",
       "      <td>7.894242</td>\n",
       "      <td>-500.356035</td>\n",
       "      <td>13.996647</td>\n",
       "      <td>-601.496691</td>\n",
       "    </tr>\n",
       "  </tbody>\n",
       "</table>\n",
       "<p>5 rows × 86 columns</p>\n",
       "</div>"
      ],
      "text/plain": [
       "                     final.output.concentrate_ag  final.output.concentrate_pb  \\\n",
       "date                                                                            \n",
       "2016-01-15 00:00:00                     6.055403                     9.889648   \n",
       "2016-01-15 01:00:00                     6.029369                     9.968944   \n",
       "2016-01-15 02:00:00                     6.055926                    10.213995   \n",
       "2016-01-15 03:00:00                     6.047977                     9.977019   \n",
       "2016-01-15 04:00:00                     6.148599                    10.142511   \n",
       "\n",
       "                     final.output.concentrate_sol  \\\n",
       "date                                                \n",
       "2016-01-15 00:00:00                      5.507324   \n",
       "2016-01-15 01:00:00                      5.257781   \n",
       "2016-01-15 02:00:00                      5.383759   \n",
       "2016-01-15 03:00:00                      4.858634   \n",
       "2016-01-15 04:00:00                      4.939416   \n",
       "\n",
       "                     final.output.concentrate_au  final.output.recovery  \\\n",
       "date                                                                      \n",
       "2016-01-15 00:00:00                    42.192020              70.541216   \n",
       "2016-01-15 01:00:00                    42.701629              69.266198   \n",
       "2016-01-15 02:00:00                    42.657501              68.116445   \n",
       "2016-01-15 03:00:00                    42.689819              68.347543   \n",
       "2016-01-15 04:00:00                    42.774141              66.927016   \n",
       "\n",
       "                     final.output.tail_ag  final.output.tail_pb  \\\n",
       "date                                                              \n",
       "2016-01-15 00:00:00             10.411962              0.895447   \n",
       "2016-01-15 01:00:00             10.462676              0.927452   \n",
       "2016-01-15 02:00:00             10.507046              0.953716   \n",
       "2016-01-15 03:00:00             10.422762              0.883763   \n",
       "2016-01-15 04:00:00             10.360302              0.792826   \n",
       "\n",
       "                     final.output.tail_sol  final.output.tail_au  \\\n",
       "date                                                               \n",
       "2016-01-15 00:00:00              16.904297              2.143149   \n",
       "2016-01-15 01:00:00              16.634514              2.224930   \n",
       "2016-01-15 02:00:00              16.208849              2.257889   \n",
       "2016-01-15 03:00:00              16.532835              2.146849   \n",
       "2016-01-15 04:00:00              16.525686              2.055292   \n",
       "\n",
       "                     primary_cleaner.input.sulfate  ...  \\\n",
       "date                                                ...   \n",
       "2016-01-15 00:00:00                     127.092003  ...   \n",
       "2016-01-15 01:00:00                     125.629232  ...   \n",
       "2016-01-15 02:00:00                     123.819808  ...   \n",
       "2016-01-15 03:00:00                     122.270188  ...   \n",
       "2016-01-15 04:00:00                     117.988169  ...   \n",
       "\n",
       "                     secondary_cleaner.state.floatbank4_a_air  \\\n",
       "date                                                            \n",
       "2016-01-15 00:00:00                                 14.016835   \n",
       "2016-01-15 01:00:00                                 13.992281   \n",
       "2016-01-15 02:00:00                                 14.015015   \n",
       "2016-01-15 03:00:00                                 14.036510   \n",
       "2016-01-15 04:00:00                                 14.027298   \n",
       "\n",
       "                     secondary_cleaner.state.floatbank4_a_level  \\\n",
       "date                                                              \n",
       "2016-01-15 00:00:00                                 -502.488007   \n",
       "2016-01-15 01:00:00                                 -505.503262   \n",
       "2016-01-15 02:00:00                                 -502.520901   \n",
       "2016-01-15 03:00:00                                 -500.857308   \n",
       "2016-01-15 04:00:00                                 -499.838632   \n",
       "\n",
       "                     secondary_cleaner.state.floatbank4_b_air  \\\n",
       "date                                                            \n",
       "2016-01-15 00:00:00                                 12.099931   \n",
       "2016-01-15 01:00:00                                 11.950531   \n",
       "2016-01-15 02:00:00                                 11.912783   \n",
       "2016-01-15 03:00:00                                 11.999550   \n",
       "2016-01-15 04:00:00                                 11.953070   \n",
       "\n",
       "                     secondary_cleaner.state.floatbank4_b_level  \\\n",
       "date                                                              \n",
       "2016-01-15 00:00:00                                 -504.715942   \n",
       "2016-01-15 01:00:00                                 -501.331529   \n",
       "2016-01-15 02:00:00                                 -501.133383   \n",
       "2016-01-15 03:00:00                                 -501.193686   \n",
       "2016-01-15 04:00:00                                 -501.053894   \n",
       "\n",
       "                     secondary_cleaner.state.floatbank5_a_air  \\\n",
       "date                                                            \n",
       "2016-01-15 00:00:00                                  9.925633   \n",
       "2016-01-15 01:00:00                                 10.039245   \n",
       "2016-01-15 02:00:00                                 10.070913   \n",
       "2016-01-15 03:00:00                                  9.970366   \n",
       "2016-01-15 04:00:00                                  9.925709   \n",
       "\n",
       "                     secondary_cleaner.state.floatbank5_a_level  \\\n",
       "date                                                              \n",
       "2016-01-15 00:00:00                                 -498.310211   \n",
       "2016-01-15 01:00:00                                 -500.169983   \n",
       "2016-01-15 02:00:00                                 -500.129135   \n",
       "2016-01-15 03:00:00                                 -499.201640   \n",
       "2016-01-15 04:00:00                                 -501.686727   \n",
       "\n",
       "                     secondary_cleaner.state.floatbank5_b_air  \\\n",
       "date                                                            \n",
       "2016-01-15 00:00:00                                  8.079666   \n",
       "2016-01-15 01:00:00                                  7.984757   \n",
       "2016-01-15 02:00:00                                  8.013877   \n",
       "2016-01-15 03:00:00                                  7.977324   \n",
       "2016-01-15 04:00:00                                  7.894242   \n",
       "\n",
       "                     secondary_cleaner.state.floatbank5_b_level  \\\n",
       "date                                                              \n",
       "2016-01-15 00:00:00                                 -500.470978   \n",
       "2016-01-15 01:00:00                                 -500.582168   \n",
       "2016-01-15 02:00:00                                 -500.517572   \n",
       "2016-01-15 03:00:00                                 -500.255908   \n",
       "2016-01-15 04:00:00                                 -500.356035   \n",
       "\n",
       "                     secondary_cleaner.state.floatbank6_a_air  \\\n",
       "date                                                            \n",
       "2016-01-15 00:00:00                                 14.151341   \n",
       "2016-01-15 01:00:00                                 13.998353   \n",
       "2016-01-15 02:00:00                                 14.028663   \n",
       "2016-01-15 03:00:00                                 14.005551   \n",
       "2016-01-15 04:00:00                                 13.996647   \n",
       "\n",
       "                     secondary_cleaner.state.floatbank6_a_level  \n",
       "date                                                             \n",
       "2016-01-15 00:00:00                                 -605.841980  \n",
       "2016-01-15 01:00:00                                 -599.787184  \n",
       "2016-01-15 02:00:00                                 -601.427363  \n",
       "2016-01-15 03:00:00                                 -599.996129  \n",
       "2016-01-15 04:00:00                                 -601.496691  \n",
       "\n",
       "[5 rows x 86 columns]"
      ]
     },
     "metadata": {},
     "output_type": "display_data"
    },
    {
     "name": "stdout",
     "output_type": "stream",
     "text": [
      "<class 'pandas.core.frame.DataFrame'>\n",
      "Index: 19439 entries, 2016-01-15 00:00:00 to 2018-08-18 10:59:59\n",
      "Data columns (total 86 columns):\n",
      " #   Column                                              Non-Null Count  Dtype  \n",
      "---  ------                                              --------------  -----  \n",
      " 0   final.output.concentrate_ag                         19438 non-null  float64\n",
      " 1   final.output.concentrate_pb                         19438 non-null  float64\n",
      " 2   final.output.concentrate_sol                        19228 non-null  float64\n",
      " 3   final.output.concentrate_au                         19439 non-null  float64\n",
      " 4   final.output.recovery                               19439 non-null  float64\n",
      " 5   final.output.tail_ag                                19438 non-null  float64\n",
      " 6   final.output.tail_pb                                19338 non-null  float64\n",
      " 7   final.output.tail_sol                               19433 non-null  float64\n",
      " 8   final.output.tail_au                                19439 non-null  float64\n",
      " 9   primary_cleaner.input.sulfate                       19415 non-null  float64\n",
      " 10  primary_cleaner.input.depressant                    19402 non-null  float64\n",
      " 11  primary_cleaner.input.feed_size                     19439 non-null  float64\n",
      " 12  primary_cleaner.input.xanthate                      19335 non-null  float64\n",
      " 13  primary_cleaner.output.concentrate_ag               19439 non-null  float64\n",
      " 14  primary_cleaner.output.concentrate_pb               19323 non-null  float64\n",
      " 15  primary_cleaner.output.concentrate_sol              19069 non-null  float64\n",
      " 16  primary_cleaner.output.concentrate_au               19439 non-null  float64\n",
      " 17  primary_cleaner.output.tail_ag                      19435 non-null  float64\n",
      " 18  primary_cleaner.output.tail_pb                      19418 non-null  float64\n",
      " 19  primary_cleaner.output.tail_sol                     19377 non-null  float64\n",
      " 20  primary_cleaner.output.tail_au                      19439 non-null  float64\n",
      " 21  primary_cleaner.state.floatbank8_a_air              19435 non-null  float64\n",
      " 22  primary_cleaner.state.floatbank8_a_level            19438 non-null  float64\n",
      " 23  primary_cleaner.state.floatbank8_b_air              19435 non-null  float64\n",
      " 24  primary_cleaner.state.floatbank8_b_level            19438 non-null  float64\n",
      " 25  primary_cleaner.state.floatbank8_c_air              19437 non-null  float64\n",
      " 26  primary_cleaner.state.floatbank8_c_level            19438 non-null  float64\n",
      " 27  primary_cleaner.state.floatbank8_d_air              19436 non-null  float64\n",
      " 28  primary_cleaner.state.floatbank8_d_level            19438 non-null  float64\n",
      " 29  rougher.calculation.sulfate_to_au_concentrate       19437 non-null  float64\n",
      " 30  rougher.calculation.floatbank10_sulfate_to_au_feed  19437 non-null  float64\n",
      " 31  rougher.calculation.floatbank11_sulfate_to_au_feed  19437 non-null  float64\n",
      " 32  rougher.calculation.au_pb_ratio                     19439 non-null  float64\n",
      " 33  rougher.input.feed_ag                               19439 non-null  float64\n",
      " 34  rougher.input.feed_pb                               19339 non-null  float64\n",
      " 35  rougher.input.feed_rate                             19428 non-null  float64\n",
      " 36  rougher.input.feed_size                             19294 non-null  float64\n",
      " 37  rougher.input.feed_sol                              19340 non-null  float64\n",
      " 38  rougher.input.feed_au                               19439 non-null  float64\n",
      " 39  rougher.input.floatbank10_sulfate                   19405 non-null  float64\n",
      " 40  rougher.input.floatbank10_xanthate                  19431 non-null  float64\n",
      " 41  rougher.input.floatbank11_sulfate                   19395 non-null  float64\n",
      " 42  rougher.input.floatbank11_xanthate                  18986 non-null  float64\n",
      " 43  rougher.output.concentrate_ag                       19439 non-null  float64\n",
      " 44  rougher.output.concentrate_pb                       19439 non-null  float64\n",
      " 45  rougher.output.concentrate_sol                      19416 non-null  float64\n",
      " 46  rougher.output.concentrate_au                       19439 non-null  float64\n",
      " 47  rougher.output.recovery                             19439 non-null  float64\n",
      " 48  rougher.output.tail_ag                              19438 non-null  float64\n",
      " 49  rougher.output.tail_pb                              19439 non-null  float64\n",
      " 50  rougher.output.tail_sol                             19439 non-null  float64\n",
      " 51  rougher.output.tail_au                              19439 non-null  float64\n",
      " 52  rougher.state.floatbank10_a_air                     19438 non-null  float64\n",
      " 53  rougher.state.floatbank10_a_level                   19438 non-null  float64\n",
      " 54  rougher.state.floatbank10_b_air                     19438 non-null  float64\n",
      " 55  rougher.state.floatbank10_b_level                   19438 non-null  float64\n",
      " 56  rougher.state.floatbank10_c_air                     19438 non-null  float64\n",
      " 57  rougher.state.floatbank10_c_level                   19438 non-null  float64\n",
      " 58  rougher.state.floatbank10_d_air                     19439 non-null  float64\n",
      " 59  rougher.state.floatbank10_d_level                   19439 non-null  float64\n",
      " 60  rougher.state.floatbank10_e_air                     19003 non-null  float64\n",
      " 61  rougher.state.floatbank10_e_level                   19439 non-null  float64\n",
      " 62  rougher.state.floatbank10_f_air                     19439 non-null  float64\n",
      " 63  rougher.state.floatbank10_f_level                   19439 non-null  float64\n",
      " 64  secondary_cleaner.output.tail_ag                    19437 non-null  float64\n",
      " 65  secondary_cleaner.output.tail_pb                    19427 non-null  float64\n",
      " 66  secondary_cleaner.output.tail_sol                   17691 non-null  float64\n",
      " 67  secondary_cleaner.output.tail_au                    19439 non-null  float64\n",
      " 68  secondary_cleaner.state.floatbank2_a_air            19219 non-null  float64\n",
      " 69  secondary_cleaner.state.floatbank2_a_level          19438 non-null  float64\n",
      " 70  secondary_cleaner.state.floatbank2_b_air            19416 non-null  float64\n",
      " 71  secondary_cleaner.state.floatbank2_b_level          19438 non-null  float64\n",
      " 72  secondary_cleaner.state.floatbank3_a_air            19426 non-null  float64\n",
      " 73  secondary_cleaner.state.floatbank3_a_level          19438 non-null  float64\n",
      " 74  secondary_cleaner.state.floatbank3_b_air            19438 non-null  float64\n",
      " 75  secondary_cleaner.state.floatbank3_b_level          19438 non-null  float64\n",
      " 76  secondary_cleaner.state.floatbank4_a_air            19433 non-null  float64\n",
      " 77  secondary_cleaner.state.floatbank4_a_level          19438 non-null  float64\n",
      " 78  secondary_cleaner.state.floatbank4_b_air            19438 non-null  float64\n",
      " 79  secondary_cleaner.state.floatbank4_b_level          19438 non-null  float64\n",
      " 80  secondary_cleaner.state.floatbank5_a_air            19438 non-null  float64\n",
      " 81  secondary_cleaner.state.floatbank5_a_level          19438 non-null  float64\n",
      " 82  secondary_cleaner.state.floatbank5_b_air            19438 non-null  float64\n",
      " 83  secondary_cleaner.state.floatbank5_b_level          19438 non-null  float64\n",
      " 84  secondary_cleaner.state.floatbank6_a_air            19437 non-null  float64\n",
      " 85  secondary_cleaner.state.floatbank6_a_level          19438 non-null  float64\n",
      "dtypes: float64(86)\n",
      "memory usage: 12.9+ MB\n",
      "None\n",
      "Количество дубликатов: 0\n"
     ]
    }
   ],
   "source": [
    "data_full = read_info('/datasets/gold_recovery_full_new.csv')"
   ]
  },
  {
   "cell_type": "markdown",
   "metadata": {},
   "source": [
    "Файл содержит 87 признаков вместе с датой и 19439 объектов. Все наименования признаков соответствуют описанию, типы данных указаны верно, дубликаты не обнаружены, для некоторых признаков есть пропуски."
   ]
  },
  {
   "cell_type": "markdown",
   "metadata": {},
   "source": [
    "Изучим файл с обучающией выборкой."
   ]
  },
  {
   "cell_type": "code",
   "execution_count": 4,
   "metadata": {
    "scrolled": false
   },
   "outputs": [
    {
     "data": {
      "text/html": [
       "<div>\n",
       "<style scoped>\n",
       "    .dataframe tbody tr th:only-of-type {\n",
       "        vertical-align: middle;\n",
       "    }\n",
       "\n",
       "    .dataframe tbody tr th {\n",
       "        vertical-align: top;\n",
       "    }\n",
       "\n",
       "    .dataframe thead th {\n",
       "        text-align: right;\n",
       "    }\n",
       "</style>\n",
       "<table border=\"1\" class=\"dataframe\">\n",
       "  <thead>\n",
       "    <tr style=\"text-align: right;\">\n",
       "      <th></th>\n",
       "      <th>final.output.concentrate_ag</th>\n",
       "      <th>final.output.concentrate_pb</th>\n",
       "      <th>final.output.concentrate_sol</th>\n",
       "      <th>final.output.concentrate_au</th>\n",
       "      <th>final.output.recovery</th>\n",
       "      <th>final.output.tail_ag</th>\n",
       "      <th>final.output.tail_pb</th>\n",
       "      <th>final.output.tail_sol</th>\n",
       "      <th>final.output.tail_au</th>\n",
       "      <th>primary_cleaner.input.sulfate</th>\n",
       "      <th>...</th>\n",
       "      <th>secondary_cleaner.state.floatbank4_a_air</th>\n",
       "      <th>secondary_cleaner.state.floatbank4_a_level</th>\n",
       "      <th>secondary_cleaner.state.floatbank4_b_air</th>\n",
       "      <th>secondary_cleaner.state.floatbank4_b_level</th>\n",
       "      <th>secondary_cleaner.state.floatbank5_a_air</th>\n",
       "      <th>secondary_cleaner.state.floatbank5_a_level</th>\n",
       "      <th>secondary_cleaner.state.floatbank5_b_air</th>\n",
       "      <th>secondary_cleaner.state.floatbank5_b_level</th>\n",
       "      <th>secondary_cleaner.state.floatbank6_a_air</th>\n",
       "      <th>secondary_cleaner.state.floatbank6_a_level</th>\n",
       "    </tr>\n",
       "    <tr>\n",
       "      <th>date</th>\n",
       "      <th></th>\n",
       "      <th></th>\n",
       "      <th></th>\n",
       "      <th></th>\n",
       "      <th></th>\n",
       "      <th></th>\n",
       "      <th></th>\n",
       "      <th></th>\n",
       "      <th></th>\n",
       "      <th></th>\n",
       "      <th></th>\n",
       "      <th></th>\n",
       "      <th></th>\n",
       "      <th></th>\n",
       "      <th></th>\n",
       "      <th></th>\n",
       "      <th></th>\n",
       "      <th></th>\n",
       "      <th></th>\n",
       "      <th></th>\n",
       "      <th></th>\n",
       "    </tr>\n",
       "  </thead>\n",
       "  <tbody>\n",
       "    <tr>\n",
       "      <th>2016-01-15 00:00:00</th>\n",
       "      <td>6.055403</td>\n",
       "      <td>9.889648</td>\n",
       "      <td>5.507324</td>\n",
       "      <td>42.192020</td>\n",
       "      <td>70.541216</td>\n",
       "      <td>10.411962</td>\n",
       "      <td>0.895447</td>\n",
       "      <td>16.904297</td>\n",
       "      <td>2.143149</td>\n",
       "      <td>127.092003</td>\n",
       "      <td>...</td>\n",
       "      <td>14.016835</td>\n",
       "      <td>-502.488007</td>\n",
       "      <td>12.099931</td>\n",
       "      <td>-504.715942</td>\n",
       "      <td>9.925633</td>\n",
       "      <td>-498.310211</td>\n",
       "      <td>8.079666</td>\n",
       "      <td>-500.470978</td>\n",
       "      <td>14.151341</td>\n",
       "      <td>-605.841980</td>\n",
       "    </tr>\n",
       "    <tr>\n",
       "      <th>2016-01-15 01:00:00</th>\n",
       "      <td>6.029369</td>\n",
       "      <td>9.968944</td>\n",
       "      <td>5.257781</td>\n",
       "      <td>42.701629</td>\n",
       "      <td>69.266198</td>\n",
       "      <td>10.462676</td>\n",
       "      <td>0.927452</td>\n",
       "      <td>16.634514</td>\n",
       "      <td>2.224930</td>\n",
       "      <td>125.629232</td>\n",
       "      <td>...</td>\n",
       "      <td>13.992281</td>\n",
       "      <td>-505.503262</td>\n",
       "      <td>11.950531</td>\n",
       "      <td>-501.331529</td>\n",
       "      <td>10.039245</td>\n",
       "      <td>-500.169983</td>\n",
       "      <td>7.984757</td>\n",
       "      <td>-500.582168</td>\n",
       "      <td>13.998353</td>\n",
       "      <td>-599.787184</td>\n",
       "    </tr>\n",
       "    <tr>\n",
       "      <th>2016-01-15 02:00:00</th>\n",
       "      <td>6.055926</td>\n",
       "      <td>10.213995</td>\n",
       "      <td>5.383759</td>\n",
       "      <td>42.657501</td>\n",
       "      <td>68.116445</td>\n",
       "      <td>10.507046</td>\n",
       "      <td>0.953716</td>\n",
       "      <td>16.208849</td>\n",
       "      <td>2.257889</td>\n",
       "      <td>123.819808</td>\n",
       "      <td>...</td>\n",
       "      <td>14.015015</td>\n",
       "      <td>-502.520901</td>\n",
       "      <td>11.912783</td>\n",
       "      <td>-501.133383</td>\n",
       "      <td>10.070913</td>\n",
       "      <td>-500.129135</td>\n",
       "      <td>8.013877</td>\n",
       "      <td>-500.517572</td>\n",
       "      <td>14.028663</td>\n",
       "      <td>-601.427363</td>\n",
       "    </tr>\n",
       "    <tr>\n",
       "      <th>2016-01-15 03:00:00</th>\n",
       "      <td>6.047977</td>\n",
       "      <td>9.977019</td>\n",
       "      <td>4.858634</td>\n",
       "      <td>42.689819</td>\n",
       "      <td>68.347543</td>\n",
       "      <td>10.422762</td>\n",
       "      <td>0.883763</td>\n",
       "      <td>16.532835</td>\n",
       "      <td>2.146849</td>\n",
       "      <td>122.270188</td>\n",
       "      <td>...</td>\n",
       "      <td>14.036510</td>\n",
       "      <td>-500.857308</td>\n",
       "      <td>11.999550</td>\n",
       "      <td>-501.193686</td>\n",
       "      <td>9.970366</td>\n",
       "      <td>-499.201640</td>\n",
       "      <td>7.977324</td>\n",
       "      <td>-500.255908</td>\n",
       "      <td>14.005551</td>\n",
       "      <td>-599.996129</td>\n",
       "    </tr>\n",
       "    <tr>\n",
       "      <th>2016-01-15 04:00:00</th>\n",
       "      <td>6.148599</td>\n",
       "      <td>10.142511</td>\n",
       "      <td>4.939416</td>\n",
       "      <td>42.774141</td>\n",
       "      <td>66.927016</td>\n",
       "      <td>10.360302</td>\n",
       "      <td>0.792826</td>\n",
       "      <td>16.525686</td>\n",
       "      <td>2.055292</td>\n",
       "      <td>117.988169</td>\n",
       "      <td>...</td>\n",
       "      <td>14.027298</td>\n",
       "      <td>-499.838632</td>\n",
       "      <td>11.953070</td>\n",
       "      <td>-501.053894</td>\n",
       "      <td>9.925709</td>\n",
       "      <td>-501.686727</td>\n",
       "      <td>7.894242</td>\n",
       "      <td>-500.356035</td>\n",
       "      <td>13.996647</td>\n",
       "      <td>-601.496691</td>\n",
       "    </tr>\n",
       "  </tbody>\n",
       "</table>\n",
       "<p>5 rows × 86 columns</p>\n",
       "</div>"
      ],
      "text/plain": [
       "                     final.output.concentrate_ag  final.output.concentrate_pb  \\\n",
       "date                                                                            \n",
       "2016-01-15 00:00:00                     6.055403                     9.889648   \n",
       "2016-01-15 01:00:00                     6.029369                     9.968944   \n",
       "2016-01-15 02:00:00                     6.055926                    10.213995   \n",
       "2016-01-15 03:00:00                     6.047977                     9.977019   \n",
       "2016-01-15 04:00:00                     6.148599                    10.142511   \n",
       "\n",
       "                     final.output.concentrate_sol  \\\n",
       "date                                                \n",
       "2016-01-15 00:00:00                      5.507324   \n",
       "2016-01-15 01:00:00                      5.257781   \n",
       "2016-01-15 02:00:00                      5.383759   \n",
       "2016-01-15 03:00:00                      4.858634   \n",
       "2016-01-15 04:00:00                      4.939416   \n",
       "\n",
       "                     final.output.concentrate_au  final.output.recovery  \\\n",
       "date                                                                      \n",
       "2016-01-15 00:00:00                    42.192020              70.541216   \n",
       "2016-01-15 01:00:00                    42.701629              69.266198   \n",
       "2016-01-15 02:00:00                    42.657501              68.116445   \n",
       "2016-01-15 03:00:00                    42.689819              68.347543   \n",
       "2016-01-15 04:00:00                    42.774141              66.927016   \n",
       "\n",
       "                     final.output.tail_ag  final.output.tail_pb  \\\n",
       "date                                                              \n",
       "2016-01-15 00:00:00             10.411962              0.895447   \n",
       "2016-01-15 01:00:00             10.462676              0.927452   \n",
       "2016-01-15 02:00:00             10.507046              0.953716   \n",
       "2016-01-15 03:00:00             10.422762              0.883763   \n",
       "2016-01-15 04:00:00             10.360302              0.792826   \n",
       "\n",
       "                     final.output.tail_sol  final.output.tail_au  \\\n",
       "date                                                               \n",
       "2016-01-15 00:00:00              16.904297              2.143149   \n",
       "2016-01-15 01:00:00              16.634514              2.224930   \n",
       "2016-01-15 02:00:00              16.208849              2.257889   \n",
       "2016-01-15 03:00:00              16.532835              2.146849   \n",
       "2016-01-15 04:00:00              16.525686              2.055292   \n",
       "\n",
       "                     primary_cleaner.input.sulfate  ...  \\\n",
       "date                                                ...   \n",
       "2016-01-15 00:00:00                     127.092003  ...   \n",
       "2016-01-15 01:00:00                     125.629232  ...   \n",
       "2016-01-15 02:00:00                     123.819808  ...   \n",
       "2016-01-15 03:00:00                     122.270188  ...   \n",
       "2016-01-15 04:00:00                     117.988169  ...   \n",
       "\n",
       "                     secondary_cleaner.state.floatbank4_a_air  \\\n",
       "date                                                            \n",
       "2016-01-15 00:00:00                                 14.016835   \n",
       "2016-01-15 01:00:00                                 13.992281   \n",
       "2016-01-15 02:00:00                                 14.015015   \n",
       "2016-01-15 03:00:00                                 14.036510   \n",
       "2016-01-15 04:00:00                                 14.027298   \n",
       "\n",
       "                     secondary_cleaner.state.floatbank4_a_level  \\\n",
       "date                                                              \n",
       "2016-01-15 00:00:00                                 -502.488007   \n",
       "2016-01-15 01:00:00                                 -505.503262   \n",
       "2016-01-15 02:00:00                                 -502.520901   \n",
       "2016-01-15 03:00:00                                 -500.857308   \n",
       "2016-01-15 04:00:00                                 -499.838632   \n",
       "\n",
       "                     secondary_cleaner.state.floatbank4_b_air  \\\n",
       "date                                                            \n",
       "2016-01-15 00:00:00                                 12.099931   \n",
       "2016-01-15 01:00:00                                 11.950531   \n",
       "2016-01-15 02:00:00                                 11.912783   \n",
       "2016-01-15 03:00:00                                 11.999550   \n",
       "2016-01-15 04:00:00                                 11.953070   \n",
       "\n",
       "                     secondary_cleaner.state.floatbank4_b_level  \\\n",
       "date                                                              \n",
       "2016-01-15 00:00:00                                 -504.715942   \n",
       "2016-01-15 01:00:00                                 -501.331529   \n",
       "2016-01-15 02:00:00                                 -501.133383   \n",
       "2016-01-15 03:00:00                                 -501.193686   \n",
       "2016-01-15 04:00:00                                 -501.053894   \n",
       "\n",
       "                     secondary_cleaner.state.floatbank5_a_air  \\\n",
       "date                                                            \n",
       "2016-01-15 00:00:00                                  9.925633   \n",
       "2016-01-15 01:00:00                                 10.039245   \n",
       "2016-01-15 02:00:00                                 10.070913   \n",
       "2016-01-15 03:00:00                                  9.970366   \n",
       "2016-01-15 04:00:00                                  9.925709   \n",
       "\n",
       "                     secondary_cleaner.state.floatbank5_a_level  \\\n",
       "date                                                              \n",
       "2016-01-15 00:00:00                                 -498.310211   \n",
       "2016-01-15 01:00:00                                 -500.169983   \n",
       "2016-01-15 02:00:00                                 -500.129135   \n",
       "2016-01-15 03:00:00                                 -499.201640   \n",
       "2016-01-15 04:00:00                                 -501.686727   \n",
       "\n",
       "                     secondary_cleaner.state.floatbank5_b_air  \\\n",
       "date                                                            \n",
       "2016-01-15 00:00:00                                  8.079666   \n",
       "2016-01-15 01:00:00                                  7.984757   \n",
       "2016-01-15 02:00:00                                  8.013877   \n",
       "2016-01-15 03:00:00                                  7.977324   \n",
       "2016-01-15 04:00:00                                  7.894242   \n",
       "\n",
       "                     secondary_cleaner.state.floatbank5_b_level  \\\n",
       "date                                                              \n",
       "2016-01-15 00:00:00                                 -500.470978   \n",
       "2016-01-15 01:00:00                                 -500.582168   \n",
       "2016-01-15 02:00:00                                 -500.517572   \n",
       "2016-01-15 03:00:00                                 -500.255908   \n",
       "2016-01-15 04:00:00                                 -500.356035   \n",
       "\n",
       "                     secondary_cleaner.state.floatbank6_a_air  \\\n",
       "date                                                            \n",
       "2016-01-15 00:00:00                                 14.151341   \n",
       "2016-01-15 01:00:00                                 13.998353   \n",
       "2016-01-15 02:00:00                                 14.028663   \n",
       "2016-01-15 03:00:00                                 14.005551   \n",
       "2016-01-15 04:00:00                                 13.996647   \n",
       "\n",
       "                     secondary_cleaner.state.floatbank6_a_level  \n",
       "date                                                             \n",
       "2016-01-15 00:00:00                                 -605.841980  \n",
       "2016-01-15 01:00:00                                 -599.787184  \n",
       "2016-01-15 02:00:00                                 -601.427363  \n",
       "2016-01-15 03:00:00                                 -599.996129  \n",
       "2016-01-15 04:00:00                                 -601.496691  \n",
       "\n",
       "[5 rows x 86 columns]"
      ]
     },
     "metadata": {},
     "output_type": "display_data"
    },
    {
     "name": "stdout",
     "output_type": "stream",
     "text": [
      "<class 'pandas.core.frame.DataFrame'>\n",
      "Index: 14149 entries, 2016-01-15 00:00:00 to 2018-08-18 10:59:59\n",
      "Data columns (total 86 columns):\n",
      " #   Column                                              Non-Null Count  Dtype  \n",
      "---  ------                                              --------------  -----  \n",
      " 0   final.output.concentrate_ag                         14148 non-null  float64\n",
      " 1   final.output.concentrate_pb                         14148 non-null  float64\n",
      " 2   final.output.concentrate_sol                        13938 non-null  float64\n",
      " 3   final.output.concentrate_au                         14149 non-null  float64\n",
      " 4   final.output.recovery                               14149 non-null  float64\n",
      " 5   final.output.tail_ag                                14149 non-null  float64\n",
      " 6   final.output.tail_pb                                14049 non-null  float64\n",
      " 7   final.output.tail_sol                               14144 non-null  float64\n",
      " 8   final.output.tail_au                                14149 non-null  float64\n",
      " 9   primary_cleaner.input.sulfate                       14129 non-null  float64\n",
      " 10  primary_cleaner.input.depressant                    14117 non-null  float64\n",
      " 11  primary_cleaner.input.feed_size                     14149 non-null  float64\n",
      " 12  primary_cleaner.input.xanthate                      14049 non-null  float64\n",
      " 13  primary_cleaner.output.concentrate_ag               14149 non-null  float64\n",
      " 14  primary_cleaner.output.concentrate_pb               14063 non-null  float64\n",
      " 15  primary_cleaner.output.concentrate_sol              13863 non-null  float64\n",
      " 16  primary_cleaner.output.concentrate_au               14149 non-null  float64\n",
      " 17  primary_cleaner.output.tail_ag                      14148 non-null  float64\n",
      " 18  primary_cleaner.output.tail_pb                      14134 non-null  float64\n",
      " 19  primary_cleaner.output.tail_sol                     14103 non-null  float64\n",
      " 20  primary_cleaner.output.tail_au                      14149 non-null  float64\n",
      " 21  primary_cleaner.state.floatbank8_a_air              14145 non-null  float64\n",
      " 22  primary_cleaner.state.floatbank8_a_level            14148 non-null  float64\n",
      " 23  primary_cleaner.state.floatbank8_b_air              14145 non-null  float64\n",
      " 24  primary_cleaner.state.floatbank8_b_level            14148 non-null  float64\n",
      " 25  primary_cleaner.state.floatbank8_c_air              14147 non-null  float64\n",
      " 26  primary_cleaner.state.floatbank8_c_level            14148 non-null  float64\n",
      " 27  primary_cleaner.state.floatbank8_d_air              14146 non-null  float64\n",
      " 28  primary_cleaner.state.floatbank8_d_level            14148 non-null  float64\n",
      " 29  rougher.calculation.sulfate_to_au_concentrate       14148 non-null  float64\n",
      " 30  rougher.calculation.floatbank10_sulfate_to_au_feed  14148 non-null  float64\n",
      " 31  rougher.calculation.floatbank11_sulfate_to_au_feed  14148 non-null  float64\n",
      " 32  rougher.calculation.au_pb_ratio                     14149 non-null  float64\n",
      " 33  rougher.input.feed_ag                               14149 non-null  float64\n",
      " 34  rougher.input.feed_pb                               14049 non-null  float64\n",
      " 35  rougher.input.feed_rate                             14141 non-null  float64\n",
      " 36  rougher.input.feed_size                             14005 non-null  float64\n",
      " 37  rougher.input.feed_sol                              14071 non-null  float64\n",
      " 38  rougher.input.feed_au                               14149 non-null  float64\n",
      " 39  rougher.input.floatbank10_sulfate                   14120 non-null  float64\n",
      " 40  rougher.input.floatbank10_xanthate                  14141 non-null  float64\n",
      " 41  rougher.input.floatbank11_sulfate                   14113 non-null  float64\n",
      " 42  rougher.input.floatbank11_xanthate                  13721 non-null  float64\n",
      " 43  rougher.output.concentrate_ag                       14149 non-null  float64\n",
      " 44  rougher.output.concentrate_pb                       14149 non-null  float64\n",
      " 45  rougher.output.concentrate_sol                      14127 non-null  float64\n",
      " 46  rougher.output.concentrate_au                       14149 non-null  float64\n",
      " 47  rougher.output.recovery                             14149 non-null  float64\n",
      " 48  rougher.output.tail_ag                              14148 non-null  float64\n",
      " 49  rougher.output.tail_pb                              14149 non-null  float64\n",
      " 50  rougher.output.tail_sol                             14149 non-null  float64\n",
      " 51  rougher.output.tail_au                              14149 non-null  float64\n",
      " 52  rougher.state.floatbank10_a_air                     14148 non-null  float64\n",
      " 53  rougher.state.floatbank10_a_level                   14148 non-null  float64\n",
      " 54  rougher.state.floatbank10_b_air                     14148 non-null  float64\n",
      " 55  rougher.state.floatbank10_b_level                   14148 non-null  float64\n",
      " 56  rougher.state.floatbank10_c_air                     14148 non-null  float64\n",
      " 57  rougher.state.floatbank10_c_level                   14148 non-null  float64\n",
      " 58  rougher.state.floatbank10_d_air                     14149 non-null  float64\n",
      " 59  rougher.state.floatbank10_d_level                   14149 non-null  float64\n",
      " 60  rougher.state.floatbank10_e_air                     13713 non-null  float64\n",
      " 61  rougher.state.floatbank10_e_level                   14149 non-null  float64\n",
      " 62  rougher.state.floatbank10_f_air                     14149 non-null  float64\n",
      " 63  rougher.state.floatbank10_f_level                   14149 non-null  float64\n",
      " 64  secondary_cleaner.output.tail_ag                    14147 non-null  float64\n",
      " 65  secondary_cleaner.output.tail_pb                    14139 non-null  float64\n",
      " 66  secondary_cleaner.output.tail_sol                   12544 non-null  float64\n",
      " 67  secondary_cleaner.output.tail_au                    14149 non-null  float64\n",
      " 68  secondary_cleaner.state.floatbank2_a_air            13932 non-null  float64\n",
      " 69  secondary_cleaner.state.floatbank2_a_level          14148 non-null  float64\n",
      " 70  secondary_cleaner.state.floatbank2_b_air            14128 non-null  float64\n",
      " 71  secondary_cleaner.state.floatbank2_b_level          14148 non-null  float64\n",
      " 72  secondary_cleaner.state.floatbank3_a_air            14145 non-null  float64\n",
      " 73  secondary_cleaner.state.floatbank3_a_level          14148 non-null  float64\n",
      " 74  secondary_cleaner.state.floatbank3_b_air            14148 non-null  float64\n",
      " 75  secondary_cleaner.state.floatbank3_b_level          14148 non-null  float64\n",
      " 76  secondary_cleaner.state.floatbank4_a_air            14143 non-null  float64\n",
      " 77  secondary_cleaner.state.floatbank4_a_level          14148 non-null  float64\n",
      " 78  secondary_cleaner.state.floatbank4_b_air            14148 non-null  float64\n",
      " 79  secondary_cleaner.state.floatbank4_b_level          14148 non-null  float64\n",
      " 80  secondary_cleaner.state.floatbank5_a_air            14148 non-null  float64\n",
      " 81  secondary_cleaner.state.floatbank5_a_level          14148 non-null  float64\n",
      " 82  secondary_cleaner.state.floatbank5_b_air            14148 non-null  float64\n",
      " 83  secondary_cleaner.state.floatbank5_b_level          14148 non-null  float64\n",
      " 84  secondary_cleaner.state.floatbank6_a_air            14147 non-null  float64\n",
      " 85  secondary_cleaner.state.floatbank6_a_level          14148 non-null  float64\n",
      "dtypes: float64(86)\n",
      "memory usage: 9.4+ MB\n",
      "None\n",
      "Количество дубликатов: 0\n"
     ]
    }
   ],
   "source": [
    "data_train = read_info('/datasets/gold_recovery_train_new.csv')"
   ]
  },
  {
   "cell_type": "markdown",
   "metadata": {},
   "source": [
    "Файл содержит 87 признаков вместе с датой и 14149 объектов. Все наименования признаков соответствуют описанию, типы данных указаны верно, дубликаты не обнаружены, для некоторых признаков есть пропуски."
   ]
  },
  {
   "cell_type": "markdown",
   "metadata": {},
   "source": [
    "Изучим файл с тестовой выборкой."
   ]
  },
  {
   "cell_type": "code",
   "execution_count": 5,
   "metadata": {
    "scrolled": false
   },
   "outputs": [
    {
     "data": {
      "text/html": [
       "<div>\n",
       "<style scoped>\n",
       "    .dataframe tbody tr th:only-of-type {\n",
       "        vertical-align: middle;\n",
       "    }\n",
       "\n",
       "    .dataframe tbody tr th {\n",
       "        vertical-align: top;\n",
       "    }\n",
       "\n",
       "    .dataframe thead th {\n",
       "        text-align: right;\n",
       "    }\n",
       "</style>\n",
       "<table border=\"1\" class=\"dataframe\">\n",
       "  <thead>\n",
       "    <tr style=\"text-align: right;\">\n",
       "      <th></th>\n",
       "      <th>primary_cleaner.input.sulfate</th>\n",
       "      <th>primary_cleaner.input.depressant</th>\n",
       "      <th>primary_cleaner.input.feed_size</th>\n",
       "      <th>primary_cleaner.input.xanthate</th>\n",
       "      <th>primary_cleaner.state.floatbank8_a_air</th>\n",
       "      <th>primary_cleaner.state.floatbank8_a_level</th>\n",
       "      <th>primary_cleaner.state.floatbank8_b_air</th>\n",
       "      <th>primary_cleaner.state.floatbank8_b_level</th>\n",
       "      <th>primary_cleaner.state.floatbank8_c_air</th>\n",
       "      <th>primary_cleaner.state.floatbank8_c_level</th>\n",
       "      <th>...</th>\n",
       "      <th>secondary_cleaner.state.floatbank4_a_air</th>\n",
       "      <th>secondary_cleaner.state.floatbank4_a_level</th>\n",
       "      <th>secondary_cleaner.state.floatbank4_b_air</th>\n",
       "      <th>secondary_cleaner.state.floatbank4_b_level</th>\n",
       "      <th>secondary_cleaner.state.floatbank5_a_air</th>\n",
       "      <th>secondary_cleaner.state.floatbank5_a_level</th>\n",
       "      <th>secondary_cleaner.state.floatbank5_b_air</th>\n",
       "      <th>secondary_cleaner.state.floatbank5_b_level</th>\n",
       "      <th>secondary_cleaner.state.floatbank6_a_air</th>\n",
       "      <th>secondary_cleaner.state.floatbank6_a_level</th>\n",
       "    </tr>\n",
       "    <tr>\n",
       "      <th>date</th>\n",
       "      <th></th>\n",
       "      <th></th>\n",
       "      <th></th>\n",
       "      <th></th>\n",
       "      <th></th>\n",
       "      <th></th>\n",
       "      <th></th>\n",
       "      <th></th>\n",
       "      <th></th>\n",
       "      <th></th>\n",
       "      <th></th>\n",
       "      <th></th>\n",
       "      <th></th>\n",
       "      <th></th>\n",
       "      <th></th>\n",
       "      <th></th>\n",
       "      <th></th>\n",
       "      <th></th>\n",
       "      <th></th>\n",
       "      <th></th>\n",
       "      <th></th>\n",
       "    </tr>\n",
       "  </thead>\n",
       "  <tbody>\n",
       "    <tr>\n",
       "      <th>2016-09-01 00:59:59</th>\n",
       "      <td>210.800909</td>\n",
       "      <td>14.993118</td>\n",
       "      <td>8.080000</td>\n",
       "      <td>1.005021</td>\n",
       "      <td>1398.981301</td>\n",
       "      <td>-500.225577</td>\n",
       "      <td>1399.144926</td>\n",
       "      <td>-499.919735</td>\n",
       "      <td>1400.102998</td>\n",
       "      <td>-500.704369</td>\n",
       "      <td>...</td>\n",
       "      <td>12.023554</td>\n",
       "      <td>-497.795834</td>\n",
       "      <td>8.016656</td>\n",
       "      <td>-501.289139</td>\n",
       "      <td>7.946562</td>\n",
       "      <td>-432.317850</td>\n",
       "      <td>4.872511</td>\n",
       "      <td>-500.037437</td>\n",
       "      <td>26.705889</td>\n",
       "      <td>-499.709414</td>\n",
       "    </tr>\n",
       "    <tr>\n",
       "      <th>2016-09-01 01:59:59</th>\n",
       "      <td>215.392455</td>\n",
       "      <td>14.987471</td>\n",
       "      <td>8.080000</td>\n",
       "      <td>0.990469</td>\n",
       "      <td>1398.777912</td>\n",
       "      <td>-500.057435</td>\n",
       "      <td>1398.055362</td>\n",
       "      <td>-499.778182</td>\n",
       "      <td>1396.151033</td>\n",
       "      <td>-499.240168</td>\n",
       "      <td>...</td>\n",
       "      <td>12.058140</td>\n",
       "      <td>-498.695773</td>\n",
       "      <td>8.130979</td>\n",
       "      <td>-499.634209</td>\n",
       "      <td>7.958270</td>\n",
       "      <td>-525.839648</td>\n",
       "      <td>4.878850</td>\n",
       "      <td>-500.162375</td>\n",
       "      <td>25.019940</td>\n",
       "      <td>-499.819438</td>\n",
       "    </tr>\n",
       "    <tr>\n",
       "      <th>2016-09-01 02:59:59</th>\n",
       "      <td>215.259946</td>\n",
       "      <td>12.884934</td>\n",
       "      <td>7.786667</td>\n",
       "      <td>0.996043</td>\n",
       "      <td>1398.493666</td>\n",
       "      <td>-500.868360</td>\n",
       "      <td>1398.860436</td>\n",
       "      <td>-499.764529</td>\n",
       "      <td>1398.075709</td>\n",
       "      <td>-502.151509</td>\n",
       "      <td>...</td>\n",
       "      <td>11.962366</td>\n",
       "      <td>-498.767484</td>\n",
       "      <td>8.096893</td>\n",
       "      <td>-500.827423</td>\n",
       "      <td>8.071056</td>\n",
       "      <td>-500.801673</td>\n",
       "      <td>4.905125</td>\n",
       "      <td>-499.828510</td>\n",
       "      <td>24.994862</td>\n",
       "      <td>-500.622559</td>\n",
       "    </tr>\n",
       "    <tr>\n",
       "      <th>2016-09-01 03:59:59</th>\n",
       "      <td>215.336236</td>\n",
       "      <td>12.006805</td>\n",
       "      <td>7.640000</td>\n",
       "      <td>0.863514</td>\n",
       "      <td>1399.618111</td>\n",
       "      <td>-498.863574</td>\n",
       "      <td>1397.440120</td>\n",
       "      <td>-499.211024</td>\n",
       "      <td>1400.129303</td>\n",
       "      <td>-498.355873</td>\n",
       "      <td>...</td>\n",
       "      <td>12.033091</td>\n",
       "      <td>-498.350935</td>\n",
       "      <td>8.074946</td>\n",
       "      <td>-499.474407</td>\n",
       "      <td>7.897085</td>\n",
       "      <td>-500.868509</td>\n",
       "      <td>4.931400</td>\n",
       "      <td>-499.963623</td>\n",
       "      <td>24.948919</td>\n",
       "      <td>-498.709987</td>\n",
       "    </tr>\n",
       "    <tr>\n",
       "      <th>2016-09-01 04:59:59</th>\n",
       "      <td>199.099327</td>\n",
       "      <td>10.682530</td>\n",
       "      <td>7.530000</td>\n",
       "      <td>0.805575</td>\n",
       "      <td>1401.268123</td>\n",
       "      <td>-500.808305</td>\n",
       "      <td>1398.128818</td>\n",
       "      <td>-499.504543</td>\n",
       "      <td>1402.172226</td>\n",
       "      <td>-500.810606</td>\n",
       "      <td>...</td>\n",
       "      <td>12.025367</td>\n",
       "      <td>-500.786497</td>\n",
       "      <td>8.054678</td>\n",
       "      <td>-500.397500</td>\n",
       "      <td>8.107890</td>\n",
       "      <td>-509.526725</td>\n",
       "      <td>4.957674</td>\n",
       "      <td>-500.360026</td>\n",
       "      <td>25.003331</td>\n",
       "      <td>-500.856333</td>\n",
       "    </tr>\n",
       "  </tbody>\n",
       "</table>\n",
       "<p>5 rows × 52 columns</p>\n",
       "</div>"
      ],
      "text/plain": [
       "                     primary_cleaner.input.sulfate  \\\n",
       "date                                                 \n",
       "2016-09-01 00:59:59                     210.800909   \n",
       "2016-09-01 01:59:59                     215.392455   \n",
       "2016-09-01 02:59:59                     215.259946   \n",
       "2016-09-01 03:59:59                     215.336236   \n",
       "2016-09-01 04:59:59                     199.099327   \n",
       "\n",
       "                     primary_cleaner.input.depressant  \\\n",
       "date                                                    \n",
       "2016-09-01 00:59:59                         14.993118   \n",
       "2016-09-01 01:59:59                         14.987471   \n",
       "2016-09-01 02:59:59                         12.884934   \n",
       "2016-09-01 03:59:59                         12.006805   \n",
       "2016-09-01 04:59:59                         10.682530   \n",
       "\n",
       "                     primary_cleaner.input.feed_size  \\\n",
       "date                                                   \n",
       "2016-09-01 00:59:59                         8.080000   \n",
       "2016-09-01 01:59:59                         8.080000   \n",
       "2016-09-01 02:59:59                         7.786667   \n",
       "2016-09-01 03:59:59                         7.640000   \n",
       "2016-09-01 04:59:59                         7.530000   \n",
       "\n",
       "                     primary_cleaner.input.xanthate  \\\n",
       "date                                                  \n",
       "2016-09-01 00:59:59                        1.005021   \n",
       "2016-09-01 01:59:59                        0.990469   \n",
       "2016-09-01 02:59:59                        0.996043   \n",
       "2016-09-01 03:59:59                        0.863514   \n",
       "2016-09-01 04:59:59                        0.805575   \n",
       "\n",
       "                     primary_cleaner.state.floatbank8_a_air  \\\n",
       "date                                                          \n",
       "2016-09-01 00:59:59                             1398.981301   \n",
       "2016-09-01 01:59:59                             1398.777912   \n",
       "2016-09-01 02:59:59                             1398.493666   \n",
       "2016-09-01 03:59:59                             1399.618111   \n",
       "2016-09-01 04:59:59                             1401.268123   \n",
       "\n",
       "                     primary_cleaner.state.floatbank8_a_level  \\\n",
       "date                                                            \n",
       "2016-09-01 00:59:59                               -500.225577   \n",
       "2016-09-01 01:59:59                               -500.057435   \n",
       "2016-09-01 02:59:59                               -500.868360   \n",
       "2016-09-01 03:59:59                               -498.863574   \n",
       "2016-09-01 04:59:59                               -500.808305   \n",
       "\n",
       "                     primary_cleaner.state.floatbank8_b_air  \\\n",
       "date                                                          \n",
       "2016-09-01 00:59:59                             1399.144926   \n",
       "2016-09-01 01:59:59                             1398.055362   \n",
       "2016-09-01 02:59:59                             1398.860436   \n",
       "2016-09-01 03:59:59                             1397.440120   \n",
       "2016-09-01 04:59:59                             1398.128818   \n",
       "\n",
       "                     primary_cleaner.state.floatbank8_b_level  \\\n",
       "date                                                            \n",
       "2016-09-01 00:59:59                               -499.919735   \n",
       "2016-09-01 01:59:59                               -499.778182   \n",
       "2016-09-01 02:59:59                               -499.764529   \n",
       "2016-09-01 03:59:59                               -499.211024   \n",
       "2016-09-01 04:59:59                               -499.504543   \n",
       "\n",
       "                     primary_cleaner.state.floatbank8_c_air  \\\n",
       "date                                                          \n",
       "2016-09-01 00:59:59                             1400.102998   \n",
       "2016-09-01 01:59:59                             1396.151033   \n",
       "2016-09-01 02:59:59                             1398.075709   \n",
       "2016-09-01 03:59:59                             1400.129303   \n",
       "2016-09-01 04:59:59                             1402.172226   \n",
       "\n",
       "                     primary_cleaner.state.floatbank8_c_level  ...  \\\n",
       "date                                                           ...   \n",
       "2016-09-01 00:59:59                               -500.704369  ...   \n",
       "2016-09-01 01:59:59                               -499.240168  ...   \n",
       "2016-09-01 02:59:59                               -502.151509  ...   \n",
       "2016-09-01 03:59:59                               -498.355873  ...   \n",
       "2016-09-01 04:59:59                               -500.810606  ...   \n",
       "\n",
       "                     secondary_cleaner.state.floatbank4_a_air  \\\n",
       "date                                                            \n",
       "2016-09-01 00:59:59                                 12.023554   \n",
       "2016-09-01 01:59:59                                 12.058140   \n",
       "2016-09-01 02:59:59                                 11.962366   \n",
       "2016-09-01 03:59:59                                 12.033091   \n",
       "2016-09-01 04:59:59                                 12.025367   \n",
       "\n",
       "                     secondary_cleaner.state.floatbank4_a_level  \\\n",
       "date                                                              \n",
       "2016-09-01 00:59:59                                 -497.795834   \n",
       "2016-09-01 01:59:59                                 -498.695773   \n",
       "2016-09-01 02:59:59                                 -498.767484   \n",
       "2016-09-01 03:59:59                                 -498.350935   \n",
       "2016-09-01 04:59:59                                 -500.786497   \n",
       "\n",
       "                     secondary_cleaner.state.floatbank4_b_air  \\\n",
       "date                                                            \n",
       "2016-09-01 00:59:59                                  8.016656   \n",
       "2016-09-01 01:59:59                                  8.130979   \n",
       "2016-09-01 02:59:59                                  8.096893   \n",
       "2016-09-01 03:59:59                                  8.074946   \n",
       "2016-09-01 04:59:59                                  8.054678   \n",
       "\n",
       "                     secondary_cleaner.state.floatbank4_b_level  \\\n",
       "date                                                              \n",
       "2016-09-01 00:59:59                                 -501.289139   \n",
       "2016-09-01 01:59:59                                 -499.634209   \n",
       "2016-09-01 02:59:59                                 -500.827423   \n",
       "2016-09-01 03:59:59                                 -499.474407   \n",
       "2016-09-01 04:59:59                                 -500.397500   \n",
       "\n",
       "                     secondary_cleaner.state.floatbank5_a_air  \\\n",
       "date                                                            \n",
       "2016-09-01 00:59:59                                  7.946562   \n",
       "2016-09-01 01:59:59                                  7.958270   \n",
       "2016-09-01 02:59:59                                  8.071056   \n",
       "2016-09-01 03:59:59                                  7.897085   \n",
       "2016-09-01 04:59:59                                  8.107890   \n",
       "\n",
       "                     secondary_cleaner.state.floatbank5_a_level  \\\n",
       "date                                                              \n",
       "2016-09-01 00:59:59                                 -432.317850   \n",
       "2016-09-01 01:59:59                                 -525.839648   \n",
       "2016-09-01 02:59:59                                 -500.801673   \n",
       "2016-09-01 03:59:59                                 -500.868509   \n",
       "2016-09-01 04:59:59                                 -509.526725   \n",
       "\n",
       "                     secondary_cleaner.state.floatbank5_b_air  \\\n",
       "date                                                            \n",
       "2016-09-01 00:59:59                                  4.872511   \n",
       "2016-09-01 01:59:59                                  4.878850   \n",
       "2016-09-01 02:59:59                                  4.905125   \n",
       "2016-09-01 03:59:59                                  4.931400   \n",
       "2016-09-01 04:59:59                                  4.957674   \n",
       "\n",
       "                     secondary_cleaner.state.floatbank5_b_level  \\\n",
       "date                                                              \n",
       "2016-09-01 00:59:59                                 -500.037437   \n",
       "2016-09-01 01:59:59                                 -500.162375   \n",
       "2016-09-01 02:59:59                                 -499.828510   \n",
       "2016-09-01 03:59:59                                 -499.963623   \n",
       "2016-09-01 04:59:59                                 -500.360026   \n",
       "\n",
       "                     secondary_cleaner.state.floatbank6_a_air  \\\n",
       "date                                                            \n",
       "2016-09-01 00:59:59                                 26.705889   \n",
       "2016-09-01 01:59:59                                 25.019940   \n",
       "2016-09-01 02:59:59                                 24.994862   \n",
       "2016-09-01 03:59:59                                 24.948919   \n",
       "2016-09-01 04:59:59                                 25.003331   \n",
       "\n",
       "                     secondary_cleaner.state.floatbank6_a_level  \n",
       "date                                                             \n",
       "2016-09-01 00:59:59                                 -499.709414  \n",
       "2016-09-01 01:59:59                                 -499.819438  \n",
       "2016-09-01 02:59:59                                 -500.622559  \n",
       "2016-09-01 03:59:59                                 -498.709987  \n",
       "2016-09-01 04:59:59                                 -500.856333  \n",
       "\n",
       "[5 rows x 52 columns]"
      ]
     },
     "metadata": {},
     "output_type": "display_data"
    },
    {
     "name": "stdout",
     "output_type": "stream",
     "text": [
      "<class 'pandas.core.frame.DataFrame'>\n",
      "Index: 5290 entries, 2016-09-01 00:59:59 to 2017-12-31 23:59:59\n",
      "Data columns (total 52 columns):\n",
      " #   Column                                      Non-Null Count  Dtype  \n",
      "---  ------                                      --------------  -----  \n",
      " 0   primary_cleaner.input.sulfate               5286 non-null   float64\n",
      " 1   primary_cleaner.input.depressant            5285 non-null   float64\n",
      " 2   primary_cleaner.input.feed_size             5290 non-null   float64\n",
      " 3   primary_cleaner.input.xanthate              5286 non-null   float64\n",
      " 4   primary_cleaner.state.floatbank8_a_air      5290 non-null   float64\n",
      " 5   primary_cleaner.state.floatbank8_a_level    5290 non-null   float64\n",
      " 6   primary_cleaner.state.floatbank8_b_air      5290 non-null   float64\n",
      " 7   primary_cleaner.state.floatbank8_b_level    5290 non-null   float64\n",
      " 8   primary_cleaner.state.floatbank8_c_air      5290 non-null   float64\n",
      " 9   primary_cleaner.state.floatbank8_c_level    5290 non-null   float64\n",
      " 10  primary_cleaner.state.floatbank8_d_air      5290 non-null   float64\n",
      " 11  primary_cleaner.state.floatbank8_d_level    5290 non-null   float64\n",
      " 12  rougher.input.feed_ag                       5290 non-null   float64\n",
      " 13  rougher.input.feed_pb                       5290 non-null   float64\n",
      " 14  rougher.input.feed_rate                     5287 non-null   float64\n",
      " 15  rougher.input.feed_size                     5289 non-null   float64\n",
      " 16  rougher.input.feed_sol                      5269 non-null   float64\n",
      " 17  rougher.input.feed_au                       5290 non-null   float64\n",
      " 18  rougher.input.floatbank10_sulfate           5285 non-null   float64\n",
      " 19  rougher.input.floatbank10_xanthate          5290 non-null   float64\n",
      " 20  rougher.input.floatbank11_sulfate           5282 non-null   float64\n",
      " 21  rougher.input.floatbank11_xanthate          5265 non-null   float64\n",
      " 22  rougher.state.floatbank10_a_air             5290 non-null   float64\n",
      " 23  rougher.state.floatbank10_a_level           5290 non-null   float64\n",
      " 24  rougher.state.floatbank10_b_air             5290 non-null   float64\n",
      " 25  rougher.state.floatbank10_b_level           5290 non-null   float64\n",
      " 26  rougher.state.floatbank10_c_air             5290 non-null   float64\n",
      " 27  rougher.state.floatbank10_c_level           5290 non-null   float64\n",
      " 28  rougher.state.floatbank10_d_air             5290 non-null   float64\n",
      " 29  rougher.state.floatbank10_d_level           5290 non-null   float64\n",
      " 30  rougher.state.floatbank10_e_air             5290 non-null   float64\n",
      " 31  rougher.state.floatbank10_e_level           5290 non-null   float64\n",
      " 32  rougher.state.floatbank10_f_air             5290 non-null   float64\n",
      " 33  rougher.state.floatbank10_f_level           5290 non-null   float64\n",
      " 34  secondary_cleaner.state.floatbank2_a_air    5287 non-null   float64\n",
      " 35  secondary_cleaner.state.floatbank2_a_level  5290 non-null   float64\n",
      " 36  secondary_cleaner.state.floatbank2_b_air    5288 non-null   float64\n",
      " 37  secondary_cleaner.state.floatbank2_b_level  5290 non-null   float64\n",
      " 38  secondary_cleaner.state.floatbank3_a_air    5281 non-null   float64\n",
      " 39  secondary_cleaner.state.floatbank3_a_level  5290 non-null   float64\n",
      " 40  secondary_cleaner.state.floatbank3_b_air    5290 non-null   float64\n",
      " 41  secondary_cleaner.state.floatbank3_b_level  5290 non-null   float64\n",
      " 42  secondary_cleaner.state.floatbank4_a_air    5290 non-null   float64\n",
      " 43  secondary_cleaner.state.floatbank4_a_level  5290 non-null   float64\n",
      " 44  secondary_cleaner.state.floatbank4_b_air    5290 non-null   float64\n",
      " 45  secondary_cleaner.state.floatbank4_b_level  5290 non-null   float64\n",
      " 46  secondary_cleaner.state.floatbank5_a_air    5290 non-null   float64\n",
      " 47  secondary_cleaner.state.floatbank5_a_level  5290 non-null   float64\n",
      " 48  secondary_cleaner.state.floatbank5_b_air    5290 non-null   float64\n",
      " 49  secondary_cleaner.state.floatbank5_b_level  5290 non-null   float64\n",
      " 50  secondary_cleaner.state.floatbank6_a_air    5290 non-null   float64\n",
      " 51  secondary_cleaner.state.floatbank6_a_level  5290 non-null   float64\n",
      "dtypes: float64(52)\n",
      "memory usage: 2.1+ MB\n",
      "None\n",
      "Количество дубликатов: 0\n"
     ]
    }
   ],
   "source": [
    "data_test = read_info('/datasets/gold_recovery_test_new.csv')"
   ]
  },
  {
   "cell_type": "markdown",
   "metadata": {},
   "source": [
    "Файл содержит 53 признака вместе с датой и 5290 объектов. Все наименования признаков соответствуют описанию, типы данных указаны верно, дубликаты не обнаружены, для некоторых признаков есть пропуски. В тестовой выборке отсутствуют некоторые признаки, которые могут быть в обучающей, потому что замеряются или рассчитываются значительно позже. Также в тестовом наборе нет целевых признаков."
   ]
  },
  {
   "cell_type": "markdown",
   "metadata": {},
   "source": [
    "### Проверка правильности расчета эффективности обогащения"
   ]
  },
  {
   "cell_type": "markdown",
   "metadata": {},
   "source": [
    "Проверим правильность расчета эффективности обогащения, вычислим её на обучающей выборке для признака `rougher.output.recovery`. Эффективность обогащения рассчитывается по формуле:\n",
    "\n",
    "    Recovery = C * (F - T) * 100% / (F * (C - T))\n",
    "\n",
    "где \n",
    "* C — доля золота в концентрате после флотации/очистки (`rougher.output.concentrate_au`);\n",
    "* F — доля золота в сырье/концентрате до флотации/очистки (`rougher.input.feed_au`);\n",
    "* T — доля золота в отвальных хвостах после флотации/очистки (`rougher.output.tail_au`).\n",
    "\n",
    "Пропусков в участвующих в расчетах столбцах нет."
   ]
  },
  {
   "cell_type": "code",
   "execution_count": 6,
   "metadata": {},
   "outputs": [],
   "source": [
    "C = data_train['rougher.output.concentrate_au']\n",
    "F = data_train['rougher.input.feed_au'] \n",
    "T = data_train['rougher.output.tail_au']"
   ]
  },
  {
   "cell_type": "code",
   "execution_count": 7,
   "metadata": {},
   "outputs": [],
   "source": [
    "recovery_calc = C * (F - T) * 100 / (F * (C - T))"
   ]
  },
  {
   "cell_type": "code",
   "execution_count": 8,
   "metadata": {},
   "outputs": [
    {
     "data": {
      "text/plain": [
       "2.505657293118651e-28"
      ]
     },
     "execution_count": 8,
     "metadata": {},
     "output_type": "execute_result"
    }
   ],
   "source": [
    "mean_squared_error(data_train['rougher.output.recovery'], recovery_calc)"
   ]
  },
  {
   "cell_type": "markdown",
   "metadata": {},
   "source": [
    "Значение MAE между значением recovery в обучающей выборке и рассчитанным значением очень близко к нулю, из чего можно сделать вывод, что эффективность обогащения рассчитана верно."
   ]
  },
  {
   "cell_type": "markdown",
   "metadata": {},
   "source": [
    "### Анализ признаков, недоступных в тестовой выборке"
   ]
  },
  {
   "cell_type": "markdown",
   "metadata": {},
   "source": [
    "Рассмотрим признаки, недоступные в тестовой выборке."
   ]
  },
  {
   "cell_type": "code",
   "execution_count": 9,
   "metadata": {
    "scrolled": false
   },
   "outputs": [
    {
     "data": {
      "text/plain": [
       "['final.output.concentrate_ag',\n",
       " 'final.output.concentrate_pb',\n",
       " 'final.output.concentrate_sol',\n",
       " 'final.output.concentrate_au',\n",
       " 'final.output.recovery',\n",
       " 'final.output.tail_ag',\n",
       " 'final.output.tail_pb',\n",
       " 'final.output.tail_sol',\n",
       " 'final.output.tail_au',\n",
       " 'primary_cleaner.output.concentrate_ag',\n",
       " 'primary_cleaner.output.concentrate_pb',\n",
       " 'primary_cleaner.output.concentrate_sol',\n",
       " 'primary_cleaner.output.concentrate_au',\n",
       " 'primary_cleaner.output.tail_ag',\n",
       " 'primary_cleaner.output.tail_pb',\n",
       " 'primary_cleaner.output.tail_sol',\n",
       " 'primary_cleaner.output.tail_au',\n",
       " 'rougher.calculation.sulfate_to_au_concentrate',\n",
       " 'rougher.calculation.floatbank10_sulfate_to_au_feed',\n",
       " 'rougher.calculation.floatbank11_sulfate_to_au_feed',\n",
       " 'rougher.calculation.au_pb_ratio',\n",
       " 'rougher.output.concentrate_ag',\n",
       " 'rougher.output.concentrate_pb',\n",
       " 'rougher.output.concentrate_sol',\n",
       " 'rougher.output.concentrate_au',\n",
       " 'rougher.output.recovery',\n",
       " 'rougher.output.tail_ag',\n",
       " 'rougher.output.tail_pb',\n",
       " 'rougher.output.tail_sol',\n",
       " 'rougher.output.tail_au',\n",
       " 'secondary_cleaner.output.tail_ag',\n",
       " 'secondary_cleaner.output.tail_pb',\n",
       " 'secondary_cleaner.output.tail_sol',\n",
       " 'secondary_cleaner.output.tail_au']"
      ]
     },
     "execution_count": 9,
     "metadata": {},
     "output_type": "execute_result"
    }
   ],
   "source": [
    "#вывод признаков, отсутствующих в тестовой выборке\n",
    "columns_not_in_test = []\n",
    "for column in data_train.columns:\n",
    "    if column not in data_test.columns:\n",
    "        columns_not_in_test.append(column)\n",
    "columns_not_in_test"
   ]
  },
  {
   "cell_type": "markdown",
   "metadata": {},
   "source": [
    "В тестовой выборке недоступны параметры продукта `output` или расчетные характеристики `calculation` для каждого из этапов. Это признаки, появляющиеся после замера или рассчетов позже, либо целевые признаки - `rougher.output.recovery` и `final.output.recovery`. Все эти признаки, кроме целевых, не понадобятся для обучения модели."
   ]
  },
  {
   "cell_type": "markdown",
   "metadata": {},
   "source": [
    "### Предобработка данных"
   ]
  },
  {
   "cell_type": "markdown",
   "metadata": {},
   "source": [
    "Удалим из обучающей выборки те признаки, которые отсутствуют в тестовой выборке и не являются целевыми."
   ]
  },
  {
   "cell_type": "code",
   "execution_count": 10,
   "metadata": {},
   "outputs": [],
   "source": [
    "#удаляем неинформативные признаки\n",
    "columns_not_in_test.remove('rougher.output.recovery')\n",
    "columns_not_in_test.remove('final.output.recovery')\n",
    "data_train = data_train.drop(columns_not_in_test, axis=1)"
   ]
  },
  {
   "cell_type": "markdown",
   "metadata": {},
   "source": [
    "Так как соседние по времени параметры чаще всего похожи, заполним пропуски в данных соседними значениями."
   ]
  },
  {
   "cell_type": "code",
   "execution_count": 11,
   "metadata": {},
   "outputs": [],
   "source": [
    "data_full = data_full.fillna(method='ffill')\n",
    "data_train = data_train.fillna(method='ffill')\n",
    "data_test = data_test.fillna(method='ffill')"
   ]
  },
  {
   "cell_type": "markdown",
   "metadata": {},
   "source": [
    "Добавим в тестовую выборку целевые признаки."
   ]
  },
  {
   "cell_type": "code",
   "execution_count": 12,
   "metadata": {},
   "outputs": [],
   "source": [
    "data_test = data_test.join(data_full[['rougher.output.recovery', 'final.output.recovery']])"
   ]
  },
  {
   "cell_type": "markdown",
   "metadata": {},
   "source": [
    "### Вывод "
   ]
  },
  {
   "cell_type": "markdown",
   "metadata": {},
   "source": [
    "На данном этапе:\n",
    "* Открыты и изучены предоставленные файлы;\n",
    "* Проверена правильность расчета эффективности обогащения, MAE между расчетами и значением признака близко к 0, из чего сделан вывод, что эффективность обогащения рассчитана верно;\n",
    "* Были проанализированы признаки, недоступные в тестовой выборке, большая часть из них была признана неинформативными;\n",
    "* Неинформативные признаки были удалены из обучающей выборки, пропуски заполнены соседними по времени значениями."
   ]
  },
  {
   "cell_type": "markdown",
   "metadata": {},
   "source": [
    "## Анализ данных"
   ]
  },
  {
   "cell_type": "markdown",
   "metadata": {},
   "source": [
    "### Изменение концентрации металлов на различных этапах очистки"
   ]
  },
  {
   "cell_type": "markdown",
   "metadata": {},
   "source": [
    "Посмотрим, как меняется концентрация металлов (Au, Ag, Pb) на различных этапах очистки."
   ]
  },
  {
   "cell_type": "code",
   "execution_count": 13,
   "metadata": {
    "scrolled": true
   },
   "outputs": [
    {
     "data": {
      "image/png": "[encoded data removed]",
      "text/plain": [
       "<Figure size 720x360 with 1 Axes>"
      ]
     },
     "metadata": {
      "needs_background": "light"
     },
     "output_type": "display_data"
    }
   ],
   "source": [
    "#строим гистограмму для концентрации золота на каждом из этапов очистки\n",
    "ax = data_full[['rougher.output.concentrate_au',\n",
    "               'primary_cleaner.output.concentrate_au',\n",
    "               'final.output.concentrate_au']].plot(figsize=(10,5),\n",
    "                                                    kind='hist',\n",
    "                                                    alpha=0.3,\n",
    "                                                    title='Концентрация золота на различных этапах очистки')\n",
    "ax.set(xlabel='Концентрация')\n",
    "plt.legend(['Флотация', 'Первичная очистка', 'Финальные характеристики']);"
   ]
  },
  {
   "cell_type": "code",
   "execution_count": 14,
   "metadata": {},
   "outputs": [
    {
     "data": {
      "image/png": "[encoded data removed]",
      "text/plain": [
       "<Figure size 432x288 with 1 Axes>"
      ]
     },
     "metadata": {
      "needs_background": "light"
     },
     "output_type": "display_data"
    }
   ],
   "source": [
    "#график зависимости средней концентрации золота от этапа\n",
    "ax = plt.plot(['Флотация',\n",
    "              'Первичная очистка',\n",
    "              'Финальные характеристики'], [data_full['rougher.output.concentrate_au'].mean(),\n",
    "                                            data_full['primary_cleaner.output.concentrate_au'].mean(),\n",
    "                                            data_full['final.output.concentrate_au'].mean()], 'o-')\n",
    "plt.title('Средняя концентрация золота на каждом этапе очистки');"
   ]
  },
  {
   "cell_type": "markdown",
   "metadata": {},
   "source": [
    "По полученным графикам видно, что на каждом этапе концентрация золота растет. Также можно заметить, что на каждом этапе есть значение концентрации 0, это значение можно считать аномальным."
   ]
  },
  {
   "cell_type": "code",
   "execution_count": 15,
   "metadata": {},
   "outputs": [
    {
     "data": {
      "image/png": "[encoded data removed]",
      "text/plain": [
       "<Figure size 720x360 with 1 Axes>"
      ]
     },
     "metadata": {
      "needs_background": "light"
     },
     "output_type": "display_data"
    }
   ],
   "source": [
    "#строим гистограмму для концентрации серебра на каждом из этапов очистки\n",
    "ax = data_full[['rougher.output.concentrate_ag',\n",
    "               'primary_cleaner.output.concentrate_ag',\n",
    "               'final.output.concentrate_ag']].plot(figsize=(10,5),\n",
    "                                                    kind='hist',\n",
    "                                                    alpha=0.3,\n",
    "                                                    title='Концентрация серебра на различных этапах очистки')\n",
    "ax.set(xlabel='Концентрация')\n",
    "plt.legend(['Флотация', 'Первичная очистка', 'Финальные характеристики']);"
   ]
  },
  {
   "cell_type": "code",
   "execution_count": 16,
   "metadata": {},
   "outputs": [
    {
     "data": {
      "image/png": "[encoded data removed]",
      "text/plain": [
       "<Figure size 432x288 with 1 Axes>"
      ]
     },
     "metadata": {
      "needs_background": "light"
     },
     "output_type": "display_data"
    }
   ],
   "source": [
    "#график зависимости средней концентрации серебра от этапа\n",
    "ax = plt.plot(['Флотация',\n",
    "              'Первичная очистка',\n",
    "              'Финальные характеристики'], [data_full['rougher.output.concentrate_ag'].mean(),\n",
    "                                            data_full['primary_cleaner.output.concentrate_ag'].mean(),\n",
    "                                            data_full['final.output.concentrate_ag'].mean()], 'o-')\n",
    "plt.title('Средняя концентрация серебра на каждом этапе очистки');"
   ]
  },
  {
   "cell_type": "markdown",
   "metadata": {},
   "source": [
    "По полученным графикам видно, что на каждом этапе концентрация серебра уменьшается. Также можно заметить, что на каждом этапе есть значение концентрации 0, это значение можно считать аномальным."
   ]
  },
  {
   "cell_type": "code",
   "execution_count": 17,
   "metadata": {},
   "outputs": [
    {
     "data": {
      "image/png": "[encoded data removed]",
      "text/plain": [
       "<Figure size 720x360 with 1 Axes>"
      ]
     },
     "metadata": {
      "needs_background": "light"
     },
     "output_type": "display_data"
    }
   ],
   "source": [
    "#строим гистограмму для концентрации свинца на каждом из этапов очистки\n",
    "ax = data_full[['rougher.output.concentrate_pb',\n",
    "               'primary_cleaner.output.concentrate_pb',\n",
    "               'final.output.concentrate_pb']].plot(figsize=(10,5),\n",
    "                                                    kind='hist',\n",
    "                                                    alpha=0.3,\n",
    "                                                    title='Концентрация свинца на различных этапах очистки')\n",
    "ax.set(xlabel='Концентрация')\n",
    "plt.legend(['Флотация', 'Первичная очистка', 'Финальные характеристики']);"
   ]
  },
  {
   "cell_type": "code",
   "execution_count": 18,
   "metadata": {},
   "outputs": [
    {
     "data": {
      "image/png": "[encoded data removed]",
      "text/plain": [
       "<Figure size 432x288 with 1 Axes>"
      ]
     },
     "metadata": {
      "needs_background": "light"
     },
     "output_type": "display_data"
    }
   ],
   "source": [
    "#график зависимости средней концентрации свинца от этапа\n",
    "ax = plt.plot(['Флотация',\n",
    "              'Первичная очистка',\n",
    "              'Финальные характеристики'], [data_full['rougher.output.concentrate_pb'].mean(),\n",
    "                                            data_full['primary_cleaner.output.concentrate_pb'].mean(),\n",
    "                                            data_full['final.output.concentrate_pb'].mean()], 'o-')\n",
    "plt.title('Средняя концентрация свинца на каждом этапе очистки');"
   ]
  },
  {
   "cell_type": "markdown",
   "metadata": {},
   "source": [
    "По полученному графику видно, что концентрация на каждом из этапов находится примерно в одном диапазоне, но немного увеличивается с каждым этапом. Также можно заметить, что на каждом этапе есть значение концентрации 0, это значение можно считать аномальным."
   ]
  },
  {
   "cell_type": "markdown",
   "metadata": {},
   "source": [
    "### Сравнение распределения размеров гранул сырья на обучающей и тестовой выборках"
   ]
  },
  {
   "cell_type": "code",
   "execution_count": 19,
   "metadata": {},
   "outputs": [
    {
     "data": {
      "image/png": "[encoded data removed]",
      "text/plain": [
       "<Figure size 432x288 with 1 Axes>"
      ]
     },
     "metadata": {
      "needs_background": "light"
     },
     "output_type": "display_data"
    }
   ],
   "source": [
    "#распределение размеров гранул сырья на этапе флотации для обучающей и тестовой выборок\n",
    "plt.xlim(0,200)\n",
    "data_train['rougher.input.feed_size'].plot(kind='hist',\n",
    "                                           bins=50,\n",
    "                                           alpha=0.3, \n",
    "                                           density=True,\n",
    "                                           title='Сравнение распределения размеров гранул сырья на этапе флотации на обучающей и тестовой выборках')\n",
    "data_test['rougher.input.feed_size'].plot(kind='hist',\n",
    "                                          bins=50,\n",
    "                                          alpha=0.3, \n",
    "                                          density=True)\n",
    "plt.legend(['Обучающая выборка', 'Тестовая выборка']);"
   ]
  },
  {
   "cell_type": "code",
   "execution_count": 20,
   "metadata": {},
   "outputs": [
    {
     "data": {
      "image/png": "[encoded data removed]",
      "text/plain": [
       "<Figure size 432x288 with 1 Axes>"
      ]
     },
     "metadata": {
      "needs_background": "light"
     },
     "output_type": "display_data"
    }
   ],
   "source": [
    "#распределение размеров гранул сырья на этапе первичной очистки для обучающей и тестовой выборок\n",
    "plt.xlim(4,10)\n",
    "data_train['primary_cleaner.input.feed_size'].plot(kind='hist',\n",
    "                                              bins=50, \n",
    "                                              density=True,\n",
    "                                              alpha=0.3,\n",
    "                                              title='Сравнение распределения размеров гранул сырья на этапе первичной очистки на обучающей и тестовой выборках')\n",
    "data_test['primary_cleaner.input.feed_size'].plot(kind='hist', \n",
    "                                                  bins=50, \n",
    "                                                  density=True,\n",
    "                                                  alpha=0.3)\n",
    "plt.legend(['Обучающая выборка', 'Тестовая выборка']);"
   ]
  },
  {
   "cell_type": "markdown",
   "metadata": {},
   "source": [
    "И на этапе флотации, и на этапе первичной очистки для обучающей и тестовой выборок распределения размеров гранул сырья похожи."
   ]
  },
  {
   "cell_type": "markdown",
   "metadata": {},
   "source": [
    "### Исследование суммарной концентрации всех веществ на различных этапах"
   ]
  },
  {
   "cell_type": "markdown",
   "metadata": {},
   "source": [
    "Исследуем суммарную концентрацию всех веществ на разных стадиях: в сырье, в черновом и финальном концентратах."
   ]
  },
  {
   "cell_type": "code",
   "execution_count": 21,
   "metadata": {},
   "outputs": [],
   "source": [
    "#суммарная концентрация веществ в сырье\n",
    "data_rougher = data_full['rougher.input.feed_au'] + data_full['rougher.input.feed_ag'] + data_full['rougher.input.feed_pb']\n",
    "#суммарная концентрация веществ в черновом концентрате\n",
    "data_primary = data_full['rougher.output.concentrate_au'] + data_full['rougher.output.concentrate_ag'] + data_full['rougher.output.concentrate_pb']\n",
    "#суммарная концентрация веществ в финальном концентрате\n",
    "data_final = data_full['final.output.concentrate_au'] + data_full['final.output.concentrate_ag'] + data_full['final.output.concentrate_pb']"
   ]
  },
  {
   "cell_type": "code",
   "execution_count": 22,
   "metadata": {},
   "outputs": [
    {
     "data": {
      "image/png": "[encoded data removed]",
      "text/plain": [
       "<Figure size 432x288 with 1 Axes>"
      ]
     },
     "metadata": {
      "needs_background": "light"
     },
     "output_type": "display_data"
    }
   ],
   "source": [
    "data_rougher.plot(kind='hist', alpha=0.3, bins=30, title='Распределение суммарной концентрации веществ')\n",
    "data_primary.plot(kind='hist', alpha=0.3, bins=30)\n",
    "data_final.plot(kind='hist', alpha=0.3, bins=30)\n",
    "plt.legend(['Сырье', 'Черновой концентрат', 'Финальный концентрат']);"
   ]
  },
  {
   "cell_type": "markdown",
   "metadata": {},
   "source": [
    "По графику можно заметить, что суммарная концентрация веществ с каждым этапом увеличивается. По графику можно заметить, что суммарная концентрация веществ иногда равна 0, что вряд ли возможно, удалим такие данные из выборок."
   ]
  },
  {
   "cell_type": "code",
   "execution_count": 23,
   "metadata": {},
   "outputs": [],
   "source": [
    "data_train = data_train[(data_train['rougher.input.feed_au'] > 0) & (data_train['rougher.input.feed_ag'] > 0) & (data_train['rougher.input.feed_pb'] > 0)]\n",
    "data_test = data_test[(data_test['rougher.input.feed_au'] > 0) & (data_test['rougher.input.feed_ag'] > 0) & (data_test['rougher.input.feed_pb'] > 0)]\n",
    "data_full = data_full[(data_full['rougher.input.feed_au'] > 0) & (data_full['rougher.input.feed_ag'] > 0) & (data_full['rougher.input.feed_pb'] > 0)]\n",
    "data_full = data_full[(data_full['rougher.output.concentrate_au'] > 0) & (data_full['rougher.output.concentrate_ag'] > 0) & (data_full['rougher.output.concentrate_pb'] > 0)]\n",
    "data_full = data_full[(data_full['final.output.concentrate_au'] > 0) & (data_full['final.output.concentrate_ag'] > 0) & (data_full['final.output.concentrate_pb'] > 0)]"
   ]
  },
  {
   "cell_type": "markdown",
   "metadata": {},
   "source": [
    "### Вывод"
   ]
  },
  {
   "cell_type": "markdown",
   "metadata": {},
   "source": [
    "1. Исследовано изменение концентрации металлов на различных этапах очистки, концентрация золота увеличивается с каждым этапом, концентрация серебра уменьшается, концентрация свинца немного увеличивается;\n",
    "2. Распределения размеров гранул сырья на обучающей и тестовой выборках были сравнены, распределения одинаковы;\n",
    "3. Исследована суммарная концентрация всех веществ в сырье, в черновом и финальном концентратах, с каждым этапом суммарная концентрация увеличивается."
   ]
  },
  {
   "cell_type": "markdown",
   "metadata": {},
   "source": [
    "## Модель"
   ]
  },
  {
   "cell_type": "markdown",
   "metadata": {},
   "source": [
    "Напишем функцию для вычисления итоговой sMAPE."
   ]
  },
  {
   "cell_type": "code",
   "execution_count": 24,
   "metadata": {},
   "outputs": [],
   "source": [
    "#функция для вычисления sMAPE\n",
    "def smape(target, predictions):\n",
    "    return sum(abs(target - predictions) / ((abs(target) + abs(predictions)) / 2)) * 100 / len(target)"
   ]
  },
  {
   "cell_type": "code",
   "execution_count": 25,
   "metadata": {},
   "outputs": [],
   "source": [
    "#функция для вычисления итоговой sMAPE\n",
    "def final_smape(smape_rougher, smape_final):\n",
    "    return 0.25 * smape_rougher + 0.75 * smape_final"
   ]
  },
  {
   "cell_type": "markdown",
   "metadata": {},
   "source": [
    "Разделим обучающую и тестовую выборки на признаки и целевые признаки."
   ]
  },
  {
   "cell_type": "code",
   "execution_count": 26,
   "metadata": {},
   "outputs": [],
   "source": [
    "#разделение обучающей выборки на признаки и целевые признаки\n",
    "features_train = data_train.drop(['rougher.output.recovery', 'final.output.recovery'], axis=1)\n",
    "target_train_rougher = data_train['rougher.output.recovery']\n",
    "target_train_final = data_train['final.output.recovery']\n",
    "\n",
    "#разделение тестовой выборки на признаки и целевые признаки\n",
    "features_test = data_test.drop(['rougher.output.recovery', 'final.output.recovery'], axis=1)\n",
    "target_test_rougher = data_test['rougher.output.recovery']\n",
    "target_test_final = data_test['final.output.recovery']"
   ]
  },
  {
   "cell_type": "markdown",
   "metadata": {},
   "source": [
    "Приведем признаки к одному масштабу при помощи стандартизации данных."
   ]
  },
  {
   "cell_type": "code",
   "execution_count": 27,
   "metadata": {},
   "outputs": [],
   "source": [
    "#приведение признаков обучающей и тестовой выбоок к одному масштабу\n",
    "scaler = StandardScaler()\n",
    "scaler.fit(features_train)\n",
    "features_train = scaler.transform(features_train)\n",
    "features_test = scaler.transform(features_test)"
   ]
  },
  {
   "cell_type": "markdown",
   "metadata": {},
   "source": [
    "Найдем лучшую модель, оценив каждую при помощи кросс-валидации."
   ]
  },
  {
   "cell_type": "markdown",
   "metadata": {},
   "source": [
    "* Дерево решений"
   ]
  },
  {
   "cell_type": "code",
   "execution_count": 28,
   "metadata": {},
   "outputs": [
    {
     "data": {
      "text/plain": [
       "-11.579887512182541"
      ]
     },
     "execution_count": 28,
     "metadata": {},
     "output_type": "execute_result"
    }
   ],
   "source": [
    "#находим лучшую модель для эффективности обогащения чернового концентрата\n",
    "model_dt_rougher = DecisionTreeRegressor(random_state=12345)\n",
    "\n",
    "#подбираем лучшие гиперпараметры\n",
    "param = {'max_depth': range(1,15,1)}\n",
    "grid = RandomizedSearchCV(model_dt_rougher, param)\n",
    "grid.fit(features_train, target_train_rougher)\n",
    "best_model_dt_rougher = grid.best_estimator_\n",
    "\n",
    "smape_scorer = make_scorer(smape, greater_is_better=False)\n",
    "cross_val_score(best_model_dt_rougher, features_train, target_train_rougher, scoring=smape_scorer).mean()"
   ]
  },
  {
   "cell_type": "code",
   "execution_count": 29,
   "metadata": {
    "scrolled": true
   },
   "outputs": [
    {
     "data": {
      "text/plain": [
       "-10.818607740325955"
      ]
     },
     "execution_count": 29,
     "metadata": {},
     "output_type": "execute_result"
    }
   ],
   "source": [
    "#находим лучшую модель для эффективности обогащения финального концентрата\n",
    "model_dt_final = DecisionTreeRegressor(random_state=12345)\n",
    "\n",
    "#подбираем лучшие гиперпараметры\n",
    "param = {'max_depth': range(1,15,1)}\n",
    "grid = RandomizedSearchCV(model_dt_final, param)\n",
    "grid.fit(features_train, target_train_final)\n",
    "best_model_dt_final = grid.best_estimator_\n",
    "\n",
    "cross_val_score(best_model_dt_final, features_train, target_train_final, scoring=smape_scorer).mean()"
   ]
  },
  {
   "cell_type": "markdown",
   "metadata": {},
   "source": [
    "* Случайный лес"
   ]
  },
  {
   "cell_type": "code",
   "execution_count": 30,
   "metadata": {},
   "outputs": [
    {
     "data": {
      "text/plain": [
       "-11.126943915353243"
      ]
     },
     "execution_count": 30,
     "metadata": {},
     "output_type": "execute_result"
    }
   ],
   "source": [
    "#находим лучшую модель для эффективности обогащения чернового концентрата\n",
    "model_rf_rougher = RandomForestRegressor(random_state=12345)\n",
    "\n",
    "#подбираем лучшие гиперпараметры\n",
    "param = {'max_depth': range(1,15,1),\n",
    "         'n_estimators':range(10,200,10)}\n",
    "grid = RandomizedSearchCV(model_rf_rougher, param, n_iter=3)\n",
    "grid.fit(features_train, target_train_rougher)\n",
    "best_model_rf_rougher = grid.best_estimator_\n",
    "\n",
    "cross_val_score(best_model_rf_rougher, features_train, target_train_rougher, scoring=smape_scorer).mean()"
   ]
  },
  {
   "cell_type": "code",
   "execution_count": 31,
   "metadata": {},
   "outputs": [
    {
     "data": {
      "text/plain": [
       "-10.303537982389175"
      ]
     },
     "execution_count": 31,
     "metadata": {},
     "output_type": "execute_result"
    }
   ],
   "source": [
    "#находим лучшую модель для эффективности обогащения финального концентрата\n",
    "model_rf_final = RandomForestRegressor(random_state=12345)\n",
    "\n",
    "#подбираем лучшие гиперпараметры\n",
    "param = {'max_depth': range(1,15,1),\n",
    "         'n_estimators':range(10,200,10)}\n",
    "grid = RandomizedSearchCV(model_rf_final, param, n_iter=3)\n",
    "grid.fit(features_train, target_train_final)\n",
    "best_model_rf_final = grid.best_estimator_\n",
    "\n",
    "cross_val_score(best_model_rf_final, features_train, target_train_final, scoring=smape_scorer).mean()"
   ]
  },
  {
   "cell_type": "markdown",
   "metadata": {},
   "source": [
    "* Линейная регрессия"
   ]
  },
  {
   "cell_type": "code",
   "execution_count": 32,
   "metadata": {},
   "outputs": [
    {
     "data": {
      "text/plain": [
       "-12.802483458481976"
      ]
     },
     "execution_count": 32,
     "metadata": {},
     "output_type": "execute_result"
    }
   ],
   "source": [
    "#модель для эффективности обогащения чернового концентрата\n",
    "model_lr_rougher = LinearRegression()\n",
    "cross_val_score(model_lr_rougher, features_train, target_train_rougher, scoring=smape_scorer).mean()"
   ]
  },
  {
   "cell_type": "code",
   "execution_count": 33,
   "metadata": {},
   "outputs": [
    {
     "data": {
      "text/plain": [
       "-12.245300320302267"
      ]
     },
     "execution_count": 33,
     "metadata": {},
     "output_type": "execute_result"
    }
   ],
   "source": [
    "#модель для эффективности обогащения финального концентрата\n",
    "model_lr_final = LinearRegression()\n",
    "cross_val_score(model_lr_final, features_train, target_train_final, scoring=smape_scorer).mean()"
   ]
  },
  {
   "cell_type": "markdown",
   "metadata": {},
   "source": [
    "* CatBoost"
   ]
  },
  {
   "cell_type": "code",
   "execution_count": 34,
   "metadata": {
    "scrolled": true
   },
   "outputs": [
    {
     "name": "stdout",
     "output_type": "stream",
     "text": [
      "Learning rate set to 0.5\n",
      "0:\tlearn: 13.7934171\ttotal: 52.2ms\tremaining: 3.08s\n",
      "1:\tlearn: 13.2904804\ttotal: 60.5ms\tremaining: 1.75s\n",
      "2:\tlearn: 12.8796786\ttotal: 67.5ms\tremaining: 1.28s\n",
      "3:\tlearn: 12.2783936\ttotal: 73.9ms\tremaining: 1.03s\n",
      "4:\tlearn: 12.0438187\ttotal: 79.3ms\tremaining: 872ms\n",
      "5:\tlearn: 11.8944660\ttotal: 83.4ms\tremaining: 751ms\n",
      "6:\tlearn: 11.6566489\ttotal: 87.7ms\tremaining: 664ms\n",
      "7:\tlearn: 11.5045477\ttotal: 91.6ms\tremaining: 595ms\n",
      "8:\tlearn: 11.4380065\ttotal: 95.5ms\tremaining: 541ms\n",
      "9:\tlearn: 11.2817291\ttotal: 99.4ms\tremaining: 497ms\n",
      "10:\tlearn: 11.1434248\ttotal: 103ms\tremaining: 461ms\n",
      "11:\tlearn: 11.0512494\ttotal: 107ms\tremaining: 429ms\n",
      "12:\tlearn: 10.9777159\ttotal: 111ms\tremaining: 403ms\n",
      "13:\tlearn: 10.9252887\ttotal: 116ms\tremaining: 380ms\n",
      "14:\tlearn: 10.8934592\ttotal: 120ms\tremaining: 360ms\n",
      "15:\tlearn: 10.8455896\ttotal: 124ms\tremaining: 341ms\n",
      "16:\tlearn: 10.8206523\ttotal: 129ms\tremaining: 326ms\n",
      "17:\tlearn: 10.7603484\ttotal: 134ms\tremaining: 312ms\n",
      "18:\tlearn: 10.6907426\ttotal: 139ms\tremaining: 300ms\n",
      "19:\tlearn: 10.6379744\ttotal: 144ms\tremaining: 288ms\n",
      "20:\tlearn: 10.5716906\ttotal: 148ms\tremaining: 275ms\n",
      "21:\tlearn: 10.5239640\ttotal: 152ms\tremaining: 263ms\n",
      "22:\tlearn: 10.4017442\ttotal: 156ms\tremaining: 252ms\n",
      "23:\tlearn: 10.3641247\ttotal: 161ms\tremaining: 241ms\n",
      "24:\tlearn: 10.3269473\ttotal: 164ms\tremaining: 230ms\n",
      "25:\tlearn: 10.2872953\ttotal: 168ms\tremaining: 220ms\n",
      "26:\tlearn: 10.2461581\ttotal: 173ms\tremaining: 211ms\n",
      "27:\tlearn: 10.1688520\ttotal: 176ms\tremaining: 202ms\n",
      "28:\tlearn: 10.1041164\ttotal: 180ms\tremaining: 193ms\n",
      "29:\tlearn: 10.0538835\ttotal: 184ms\tremaining: 184ms\n",
      "30:\tlearn: 10.0045216\ttotal: 188ms\tremaining: 176ms\n",
      "31:\tlearn: 9.9706135\ttotal: 193ms\tremaining: 169ms\n",
      "32:\tlearn: 9.9303340\ttotal: 197ms\tremaining: 161ms\n",
      "33:\tlearn: 9.9092692\ttotal: 201ms\tremaining: 153ms\n",
      "34:\tlearn: 9.8474816\ttotal: 205ms\tremaining: 146ms\n",
      "35:\tlearn: 9.8271232\ttotal: 209ms\tremaining: 139ms\n",
      "36:\tlearn: 9.7994674\ttotal: 213ms\tremaining: 132ms\n",
      "37:\tlearn: 9.7321455\ttotal: 217ms\tremaining: 125ms\n",
      "38:\tlearn: 9.7057449\ttotal: 223ms\tremaining: 120ms\n",
      "39:\tlearn: 9.6522680\ttotal: 230ms\tremaining: 115ms\n",
      "40:\tlearn: 9.6226515\ttotal: 238ms\tremaining: 110ms\n",
      "41:\tlearn: 9.5984406\ttotal: 245ms\tremaining: 105ms\n",
      "42:\tlearn: 9.5517464\ttotal: 252ms\tremaining: 99.5ms\n",
      "43:\tlearn: 9.5269755\ttotal: 257ms\tremaining: 93.4ms\n",
      "44:\tlearn: 9.5057569\ttotal: 261ms\tremaining: 87ms\n",
      "45:\tlearn: 9.4788404\ttotal: 265ms\tremaining: 80.8ms\n",
      "46:\tlearn: 9.4576985\ttotal: 270ms\tremaining: 74.6ms\n",
      "47:\tlearn: 9.4309349\ttotal: 274ms\tremaining: 68.5ms\n",
      "48:\tlearn: 9.4149694\ttotal: 278ms\tremaining: 62.5ms\n",
      "49:\tlearn: 9.3551271\ttotal: 282ms\tremaining: 56.5ms\n",
      "50:\tlearn: 9.3368426\ttotal: 287ms\tremaining: 50.6ms\n",
      "51:\tlearn: 9.2888503\ttotal: 291ms\tremaining: 44.7ms\n",
      "52:\tlearn: 9.2498250\ttotal: 295ms\tremaining: 39ms\n",
      "53:\tlearn: 9.2132692\ttotal: 301ms\tremaining: 33.4ms\n",
      "54:\tlearn: 9.1991464\ttotal: 305ms\tremaining: 27.7ms\n",
      "55:\tlearn: 9.1618957\ttotal: 310ms\tremaining: 22.1ms\n",
      "56:\tlearn: 9.1334395\ttotal: 313ms\tremaining: 16.5ms\n",
      "57:\tlearn: 9.1076598\ttotal: 318ms\tremaining: 11ms\n",
      "58:\tlearn: 9.0561439\ttotal: 322ms\tremaining: 5.46ms\n",
      "59:\tlearn: 9.0392123\ttotal: 326ms\tremaining: 0us\n",
      "Learning rate set to 0.5\n",
      "0:\tlearn: 13.9804808\ttotal: 4.91ms\tremaining: 290ms\n",
      "1:\tlearn: 13.3984138\ttotal: 9.73ms\tremaining: 282ms\n",
      "2:\tlearn: 12.9620125\ttotal: 13.9ms\tremaining: 265ms\n",
      "3:\tlearn: 12.6230266\ttotal: 18ms\tremaining: 252ms\n",
      "4:\tlearn: 12.3716747\ttotal: 22.3ms\tremaining: 245ms\n",
      "5:\tlearn: 12.1725245\ttotal: 26.6ms\tremaining: 239ms\n",
      "6:\tlearn: 11.8376550\ttotal: 30.8ms\tremaining: 233ms\n",
      "7:\tlearn: 11.7261318\ttotal: 34.7ms\tremaining: 225ms\n",
      "8:\tlearn: 11.6432765\ttotal: 38.6ms\tremaining: 219ms\n",
      "9:\tlearn: 11.4678302\ttotal: 42.8ms\tremaining: 214ms\n",
      "10:\tlearn: 11.3669777\ttotal: 47.3ms\tremaining: 211ms\n",
      "11:\tlearn: 11.1404123\ttotal: 51.3ms\tremaining: 205ms\n",
      "12:\tlearn: 11.0721759\ttotal: 55.2ms\tremaining: 200ms\n",
      "13:\tlearn: 11.0004100\ttotal: 59.4ms\tremaining: 195ms\n",
      "14:\tlearn: 10.9384296\ttotal: 63.3ms\tremaining: 190ms\n",
      "15:\tlearn: 10.9012894\ttotal: 67.3ms\tremaining: 185ms\n",
      "16:\tlearn: 10.8177506\ttotal: 71.3ms\tremaining: 180ms\n",
      "17:\tlearn: 10.7757161\ttotal: 75.2ms\tremaining: 176ms\n",
      "18:\tlearn: 10.7350842\ttotal: 80ms\tremaining: 173ms\n",
      "19:\tlearn: 10.6812192\ttotal: 85.2ms\tremaining: 170ms\n",
      "20:\tlearn: 10.6367157\ttotal: 91.1ms\tremaining: 169ms\n",
      "21:\tlearn: 10.5718402\ttotal: 94.9ms\tremaining: 164ms\n",
      "22:\tlearn: 10.5187164\ttotal: 99.2ms\tremaining: 160ms\n",
      "23:\tlearn: 10.4779559\ttotal: 103ms\tremaining: 155ms\n",
      "24:\tlearn: 10.3717441\ttotal: 107ms\tremaining: 150ms\n",
      "25:\tlearn: 10.3152056\ttotal: 111ms\tremaining: 145ms\n",
      "26:\tlearn: 10.2742530\ttotal: 115ms\tremaining: 141ms\n",
      "27:\tlearn: 10.0978775\ttotal: 119ms\tremaining: 136ms\n",
      "28:\tlearn: 10.0825425\ttotal: 123ms\tremaining: 132ms\n",
      "29:\tlearn: 10.0225065\ttotal: 127ms\tremaining: 127ms\n",
      "30:\tlearn: 10.0001315\ttotal: 131ms\tremaining: 123ms\n",
      "31:\tlearn: 9.9533012\ttotal: 135ms\tremaining: 118ms\n",
      "32:\tlearn: 9.9284298\ttotal: 139ms\tremaining: 114ms\n",
      "33:\tlearn: 9.8996954\ttotal: 143ms\tremaining: 110ms\n",
      "34:\tlearn: 9.8742785\ttotal: 147ms\tremaining: 105ms\n",
      "35:\tlearn: 9.7959471\ttotal: 152ms\tremaining: 101ms\n",
      "36:\tlearn: 9.7639318\ttotal: 156ms\tremaining: 96.7ms\n",
      "37:\tlearn: 9.7234058\ttotal: 160ms\tremaining: 92.4ms\n",
      "38:\tlearn: 9.6929336\ttotal: 163ms\tremaining: 88ms\n",
      "39:\tlearn: 9.6243300\ttotal: 167ms\tremaining: 83.7ms\n",
      "40:\tlearn: 9.5925451\ttotal: 172ms\tremaining: 79.6ms\n",
      "41:\tlearn: 9.5633751\ttotal: 177ms\tremaining: 76ms\n",
      "42:\tlearn: 9.5401581\ttotal: 181ms\tremaining: 71.6ms\n",
      "43:\tlearn: 9.5034969\ttotal: 186ms\tremaining: 67.6ms\n",
      "44:\tlearn: 9.4834022\ttotal: 190ms\tremaining: 63.3ms\n",
      "45:\tlearn: 9.4527047\ttotal: 194ms\tremaining: 59.1ms\n",
      "46:\tlearn: 9.4375905\ttotal: 198ms\tremaining: 54.9ms\n",
      "47:\tlearn: 9.4118349\ttotal: 202ms\tremaining: 50.6ms\n",
      "48:\tlearn: 9.3871575\ttotal: 206ms\tremaining: 46.3ms\n",
      "49:\tlearn: 9.3671216\ttotal: 210ms\tremaining: 42ms\n",
      "50:\tlearn: 9.3466207\ttotal: 214ms\tremaining: 37.8ms\n",
      "51:\tlearn: 9.3066500\ttotal: 218ms\tremaining: 33.5ms\n",
      "52:\tlearn: 9.2787918\ttotal: 222ms\tremaining: 29.3ms\n",
      "53:\tlearn: 9.2546890\ttotal: 226ms\tremaining: 25.1ms\n",
      "54:\tlearn: 9.2210973\ttotal: 230ms\tremaining: 20.9ms\n",
      "55:\tlearn: 9.1571974\ttotal: 234ms\tremaining: 16.7ms\n",
      "56:\tlearn: 9.0603006\ttotal: 238ms\tremaining: 12.5ms\n",
      "57:\tlearn: 9.0298249\ttotal: 242ms\tremaining: 8.35ms\n",
      "58:\tlearn: 9.0117279\ttotal: 246ms\tremaining: 4.17ms\n",
      "59:\tlearn: 8.9791616\ttotal: 250ms\tremaining: 0us\n",
      "Learning rate set to 0.5\n",
      "0:\tlearn: 12.3654367\ttotal: 5.1ms\tremaining: 301ms\n",
      "1:\tlearn: 11.7466106\ttotal: 11ms\tremaining: 320ms\n",
      "2:\tlearn: 11.4029604\ttotal: 16.7ms\tremaining: 318ms\n",
      "3:\tlearn: 10.9637857\ttotal: 21.3ms\tremaining: 298ms\n",
      "4:\tlearn: 10.6832093\ttotal: 25.5ms\tremaining: 280ms\n",
      "5:\tlearn: 10.5187662\ttotal: 29.7ms\tremaining: 267ms\n",
      "6:\tlearn: 10.3770678\ttotal: 33.9ms\tremaining: 256ms\n",
      "7:\tlearn: 10.2748600\ttotal: 38.2ms\tremaining: 248ms\n",
      "8:\tlearn: 10.1678192\ttotal: 42.2ms\tremaining: 239ms\n",
      "9:\tlearn: 10.0736425\ttotal: 46.6ms\tremaining: 233ms\n",
      "10:\tlearn: 10.0083392\ttotal: 50.8ms\tremaining: 226ms\n",
      "11:\tlearn: 9.9654286\ttotal: 54.9ms\tremaining: 220ms\n",
      "12:\tlearn: 9.9027805\ttotal: 59.3ms\tremaining: 214ms\n",
      "13:\tlearn: 9.8216619\ttotal: 63.6ms\tremaining: 209ms\n",
      "14:\tlearn: 9.7260081\ttotal: 68.7ms\tremaining: 206ms\n",
      "15:\tlearn: 9.6965513\ttotal: 73ms\tremaining: 201ms\n",
      "16:\tlearn: 9.6401839\ttotal: 77.2ms\tremaining: 195ms\n",
      "17:\tlearn: 9.6107231\ttotal: 81.4ms\tremaining: 190ms\n",
      "18:\tlearn: 9.5792557\ttotal: 85.5ms\tremaining: 185ms\n",
      "19:\tlearn: 9.5319681\ttotal: 89.6ms\tremaining: 179ms\n",
      "20:\tlearn: 9.4091045\ttotal: 94ms\tremaining: 175ms\n",
      "21:\tlearn: 9.3758105\ttotal: 98.7ms\tremaining: 170ms\n",
      "22:\tlearn: 9.2527625\ttotal: 103ms\tremaining: 166ms\n",
      "23:\tlearn: 9.2021894\ttotal: 107ms\tremaining: 160ms\n",
      "24:\tlearn: 9.1618421\ttotal: 111ms\tremaining: 156ms\n",
      "25:\tlearn: 9.1226033\ttotal: 115ms\tremaining: 150ms\n",
      "26:\tlearn: 9.0873214\ttotal: 119ms\tremaining: 146ms\n",
      "27:\tlearn: 9.0488809\ttotal: 123ms\tremaining: 141ms\n",
      "28:\tlearn: 9.0229618\ttotal: 127ms\tremaining: 136ms\n",
      "29:\tlearn: 8.9998851\ttotal: 131ms\tremaining: 131ms\n",
      "30:\tlearn: 8.9580974\ttotal: 135ms\tremaining: 127ms\n",
      "31:\tlearn: 8.9304108\ttotal: 139ms\tremaining: 122ms\n",
      "32:\tlearn: 8.8947062\ttotal: 143ms\tremaining: 117ms\n",
      "33:\tlearn: 8.8710218\ttotal: 147ms\tremaining: 113ms\n",
      "34:\tlearn: 8.8427472\ttotal: 151ms\tremaining: 108ms\n",
      "35:\tlearn: 8.7743680\ttotal: 156ms\tremaining: 104ms\n",
      "36:\tlearn: 8.7279991\ttotal: 159ms\tremaining: 99.1ms\n",
      "37:\tlearn: 8.6731722\ttotal: 164ms\tremaining: 94.8ms\n",
      "38:\tlearn: 8.6413142\ttotal: 168ms\tremaining: 90.6ms\n",
      "39:\tlearn: 8.5874701\ttotal: 173ms\tremaining: 86.3ms\n",
      "40:\tlearn: 8.5273526\ttotal: 178ms\tremaining: 82.3ms\n",
      "41:\tlearn: 8.5100398\ttotal: 183ms\tremaining: 78.6ms\n",
      "42:\tlearn: 8.4870584\ttotal: 189ms\tremaining: 74.7ms\n",
      "43:\tlearn: 8.4384973\ttotal: 193ms\tremaining: 70.1ms\n",
      "44:\tlearn: 8.3705961\ttotal: 197ms\tremaining: 65.6ms\n",
      "45:\tlearn: 8.3463524\ttotal: 202ms\tremaining: 61.3ms\n",
      "46:\tlearn: 8.3233036\ttotal: 206ms\tremaining: 57ms\n",
      "47:\tlearn: 8.2928532\ttotal: 210ms\tremaining: 52.5ms\n",
      "48:\tlearn: 8.2764088\ttotal: 214ms\tremaining: 48.1ms\n",
      "49:\tlearn: 8.2585412\ttotal: 218ms\tremaining: 43.6ms\n",
      "50:\tlearn: 8.2464297\ttotal: 222ms\tremaining: 39.2ms\n",
      "51:\tlearn: 8.2231659\ttotal: 226ms\tremaining: 34.8ms\n",
      "52:\tlearn: 8.1757929\ttotal: 230ms\tremaining: 30.4ms\n",
      "53:\tlearn: 8.1661820\ttotal: 234ms\tremaining: 26ms\n",
      "54:\tlearn: 8.1127838\ttotal: 238ms\tremaining: 21.7ms\n",
      "55:\tlearn: 8.0945552\ttotal: 242ms\tremaining: 17.3ms\n",
      "56:\tlearn: 8.0798912\ttotal: 247ms\tremaining: 13ms\n",
      "57:\tlearn: 7.9778286\ttotal: 251ms\tremaining: 8.66ms\n",
      "58:\tlearn: 7.9361792\ttotal: 255ms\tremaining: 4.33ms\n",
      "59:\tlearn: 7.8964097\ttotal: 259ms\tremaining: 0us\n",
      "Learning rate set to 0.5\n",
      "0:\tlearn: 11.0405432\ttotal: 4.51ms\tremaining: 266ms\n",
      "1:\tlearn: 10.3142358\ttotal: 9.77ms\tremaining: 283ms\n",
      "2:\tlearn: 9.8029883\ttotal: 15ms\tremaining: 285ms\n",
      "3:\tlearn: 9.5829155\ttotal: 19.5ms\tremaining: 273ms\n",
      "4:\tlearn: 9.4436336\ttotal: 24.1ms\tremaining: 265ms\n",
      "5:\tlearn: 9.3463906\ttotal: 28.6ms\tremaining: 257ms\n",
      "6:\tlearn: 9.1983159\ttotal: 34.8ms\tremaining: 264ms\n",
      "7:\tlearn: 9.0965713\ttotal: 42.2ms\tremaining: 275ms\n",
      "8:\tlearn: 9.0158928\ttotal: 48.8ms\tremaining: 276ms\n",
      "9:\tlearn: 8.9444746\ttotal: 55.7ms\tremaining: 279ms\n",
      "10:\tlearn: 8.8805676\ttotal: 61.2ms\tremaining: 272ms\n",
      "11:\tlearn: 8.8385003\ttotal: 66.7ms\tremaining: 267ms\n",
      "12:\tlearn: 8.7731927\ttotal: 72ms\tremaining: 260ms\n",
      "13:\tlearn: 8.7343436\ttotal: 76.6ms\tremaining: 252ms\n",
      "14:\tlearn: 8.6894339\ttotal: 81ms\tremaining: 243ms\n",
      "15:\tlearn: 8.6326764\ttotal: 85.1ms\tremaining: 234ms\n",
      "16:\tlearn: 8.5834458\ttotal: 89.2ms\tremaining: 226ms\n",
      "17:\tlearn: 8.5555912\ttotal: 93.7ms\tremaining: 219ms\n",
      "18:\tlearn: 8.5073103\ttotal: 98ms\tremaining: 211ms\n",
      "19:\tlearn: 8.4560991\ttotal: 103ms\tremaining: 205ms\n",
      "20:\tlearn: 8.4216427\ttotal: 107ms\tremaining: 199ms\n",
      "21:\tlearn: 8.3297992\ttotal: 112ms\tremaining: 194ms\n",
      "22:\tlearn: 8.2969878\ttotal: 117ms\tremaining: 188ms\n",
      "23:\tlearn: 8.2494194\ttotal: 122ms\tremaining: 182ms\n",
      "24:\tlearn: 8.1885232\ttotal: 126ms\tremaining: 177ms\n",
      "25:\tlearn: 8.1505136\ttotal: 131ms\tremaining: 171ms\n",
      "26:\tlearn: 8.0829862\ttotal: 135ms\tremaining: 166ms\n",
      "27:\tlearn: 8.0473184\ttotal: 140ms\tremaining: 160ms\n",
      "28:\tlearn: 8.0133984\ttotal: 144ms\tremaining: 154ms\n",
      "29:\tlearn: 7.9817321\ttotal: 149ms\tremaining: 149ms\n",
      "30:\tlearn: 7.9522218\ttotal: 155ms\tremaining: 145ms\n",
      "31:\tlearn: 7.9243418\ttotal: 160ms\tremaining: 140ms\n",
      "32:\tlearn: 7.8857428\ttotal: 166ms\tremaining: 136ms\n",
      "33:\tlearn: 7.8577023\ttotal: 171ms\tremaining: 131ms\n",
      "34:\tlearn: 7.7227930\ttotal: 176ms\tremaining: 126ms\n",
      "35:\tlearn: 7.6901626\ttotal: 181ms\tremaining: 121ms\n",
      "36:\tlearn: 7.6581791\ttotal: 187ms\tremaining: 116ms\n",
      "37:\tlearn: 7.6307296\ttotal: 191ms\tremaining: 111ms\n",
      "38:\tlearn: 7.5736482\ttotal: 197ms\tremaining: 106ms\n",
      "39:\tlearn: 7.5241950\ttotal: 202ms\tremaining: 101ms\n",
      "40:\tlearn: 7.5043197\ttotal: 207ms\tremaining: 95.7ms\n",
      "41:\tlearn: 7.4815345\ttotal: 211ms\tremaining: 90.5ms\n",
      "42:\tlearn: 7.4672500\ttotal: 216ms\tremaining: 85.3ms\n",
      "43:\tlearn: 7.4485322\ttotal: 220ms\tremaining: 80.1ms\n",
      "44:\tlearn: 7.3652504\ttotal: 225ms\tremaining: 74.8ms\n",
      "45:\tlearn: 7.3360989\ttotal: 229ms\tremaining: 69.8ms\n",
      "46:\tlearn: 7.3019208\ttotal: 235ms\tremaining: 65.1ms\n",
      "47:\tlearn: 7.2787119\ttotal: 241ms\tremaining: 60.2ms\n",
      "48:\tlearn: 7.2431178\ttotal: 246ms\tremaining: 55.1ms\n",
      "49:\tlearn: 7.1996731\ttotal: 251ms\tremaining: 50.2ms\n",
      "50:\tlearn: 7.1690356\ttotal: 256ms\tremaining: 45.3ms\n",
      "51:\tlearn: 7.1497011\ttotal: 260ms\tremaining: 40.1ms\n",
      "52:\tlearn: 7.1262769\ttotal: 265ms\tremaining: 34.9ms\n",
      "53:\tlearn: 7.1071840\ttotal: 268ms\tremaining: 29.8ms\n",
      "54:\tlearn: 7.0642451\ttotal: 272ms\tremaining: 24.8ms\n",
      "55:\tlearn: 7.0520441\ttotal: 276ms\tremaining: 19.7ms\n",
      "56:\tlearn: 7.0327234\ttotal: 281ms\tremaining: 14.8ms\n",
      "57:\tlearn: 7.0203329\ttotal: 285ms\tremaining: 9.81ms\n",
      "58:\tlearn: 6.9502645\ttotal: 289ms\tremaining: 4.89ms\n",
      "59:\tlearn: 6.9393195\ttotal: 293ms\tremaining: 0us\n",
      "Learning rate set to 0.5\n",
      "0:\tlearn: 14.1490570\ttotal: 5.31ms\tremaining: 313ms\n",
      "1:\tlearn: 13.4540073\ttotal: 11.8ms\tremaining: 342ms\n",
      "2:\tlearn: 13.0246716\ttotal: 16ms\tremaining: 303ms\n",
      "3:\tlearn: 12.7784348\ttotal: 20.5ms\tremaining: 287ms\n",
      "4:\tlearn: 12.5144535\ttotal: 24.9ms\tremaining: 274ms\n",
      "5:\tlearn: 12.3608572\ttotal: 29ms\tremaining: 261ms\n",
      "6:\tlearn: 12.2460207\ttotal: 33.3ms\tremaining: 252ms\n",
      "7:\tlearn: 12.1078802\ttotal: 40.9ms\tremaining: 266ms\n",
      "8:\tlearn: 12.0253881\ttotal: 47.7ms\tremaining: 270ms\n",
      "9:\tlearn: 11.8763663\ttotal: 51.5ms\tremaining: 257ms\n",
      "10:\tlearn: 11.7921377\ttotal: 55.6ms\tremaining: 248ms\n",
      "11:\tlearn: 11.7082052\ttotal: 59.6ms\tremaining: 238ms\n",
      "12:\tlearn: 11.6461478\ttotal: 63.8ms\tremaining: 231ms\n",
      "13:\tlearn: 11.5998039\ttotal: 67.9ms\tremaining: 223ms\n",
      "14:\tlearn: 11.4696505\ttotal: 72.2ms\tremaining: 217ms\n",
      "15:\tlearn: 11.3497011\ttotal: 76.1ms\tremaining: 209ms\n",
      "16:\tlearn: 11.3092287\ttotal: 80.2ms\tremaining: 203ms\n",
      "17:\tlearn: 11.2632648\ttotal: 85.7ms\tremaining: 200ms\n",
      "18:\tlearn: 11.2236310\ttotal: 91.3ms\tremaining: 197ms\n",
      "19:\tlearn: 11.1745793\ttotal: 95.7ms\tremaining: 191ms\n",
      "20:\tlearn: 11.1130140\ttotal: 100ms\tremaining: 186ms\n",
      "21:\tlearn: 11.0710278\ttotal: 105ms\tremaining: 181ms\n",
      "22:\tlearn: 10.9155223\ttotal: 109ms\tremaining: 175ms\n",
      "23:\tlearn: 10.8666766\ttotal: 113ms\tremaining: 169ms\n",
      "24:\tlearn: 10.7583480\ttotal: 117ms\tremaining: 164ms\n",
      "25:\tlearn: 10.7308639\ttotal: 122ms\tremaining: 160ms\n",
      "26:\tlearn: 10.7003530\ttotal: 128ms\tremaining: 157ms\n",
      "27:\tlearn: 10.6727950\ttotal: 132ms\tremaining: 151ms\n",
      "28:\tlearn: 10.6028125\ttotal: 136ms\tremaining: 146ms\n",
      "29:\tlearn: 10.5792489\ttotal: 141ms\tremaining: 141ms\n",
      "30:\tlearn: 10.5358102\ttotal: 145ms\tremaining: 135ms\n",
      "31:\tlearn: 10.4953408\ttotal: 149ms\tremaining: 130ms\n",
      "32:\tlearn: 10.4217206\ttotal: 153ms\tremaining: 125ms\n",
      "33:\tlearn: 10.3347474\ttotal: 157ms\tremaining: 120ms\n",
      "34:\tlearn: 10.3096906\ttotal: 161ms\tremaining: 115ms\n",
      "35:\tlearn: 10.2324073\ttotal: 165ms\tremaining: 110ms\n",
      "36:\tlearn: 10.2021235\ttotal: 169ms\tremaining: 105ms\n",
      "37:\tlearn: 10.1675399\ttotal: 173ms\tremaining: 100ms\n",
      "38:\tlearn: 10.0570968\ttotal: 178ms\tremaining: 95.7ms\n",
      "39:\tlearn: 10.0257861\ttotal: 182ms\tremaining: 90.9ms\n",
      "40:\tlearn: 10.0068859\ttotal: 186ms\tremaining: 86.2ms\n",
      "41:\tlearn: 9.9749509\ttotal: 191ms\tremaining: 81.7ms\n",
      "42:\tlearn: 9.9450337\ttotal: 196ms\tremaining: 77.4ms\n",
      "43:\tlearn: 9.9120846\ttotal: 200ms\tremaining: 72.8ms\n",
      "44:\tlearn: 9.8431172\ttotal: 205ms\tremaining: 68.4ms\n",
      "45:\tlearn: 9.8252451\ttotal: 214ms\tremaining: 65.1ms\n",
      "46:\tlearn: 9.8093676\ttotal: 219ms\tremaining: 60.5ms\n",
      "47:\tlearn: 9.7922126\ttotal: 223ms\tremaining: 55.7ms\n",
      "48:\tlearn: 9.7520067\ttotal: 227ms\tremaining: 51ms\n",
      "49:\tlearn: 9.7087995\ttotal: 231ms\tremaining: 46.3ms\n",
      "50:\tlearn: 9.6941185\ttotal: 236ms\tremaining: 41.6ms\n",
      "51:\tlearn: 9.6347134\ttotal: 240ms\tremaining: 36.9ms\n",
      "52:\tlearn: 9.6041276\ttotal: 244ms\tremaining: 32.2ms\n",
      "53:\tlearn: 9.5913250\ttotal: 248ms\tremaining: 27.6ms\n",
      "54:\tlearn: 9.5655810\ttotal: 252ms\tremaining: 22.9ms\n",
      "55:\tlearn: 9.5110110\ttotal: 257ms\tremaining: 18.3ms\n",
      "56:\tlearn: 9.4511631\ttotal: 261ms\tremaining: 13.7ms\n",
      "57:\tlearn: 9.4284860\ttotal: 265ms\tremaining: 9.13ms\n",
      "58:\tlearn: 9.4123835\ttotal: 269ms\tremaining: 4.55ms\n",
      "59:\tlearn: 9.3927973\ttotal: 273ms\tremaining: 0us\n",
      "Learning rate set to 0.425483\n",
      "0:\tlearn: 12.5416386\ttotal: 536ms\tremaining: 47.7s\n",
      "1:\tlearn: 11.1232197\ttotal: 1.09s\tremaining: 47.8s\n",
      "2:\tlearn: 10.2887521\ttotal: 1.61s\tremaining: 46.9s\n",
      "3:\tlearn: 9.6584699\ttotal: 2.16s\tremaining: 46.4s\n",
      "4:\tlearn: 9.2377786\ttotal: 2.71s\tremaining: 46s\n",
      "5:\tlearn: 8.7276301\ttotal: 3.25s\tremaining: 45.5s\n",
      "6:\tlearn: 8.4447151\ttotal: 3.83s\tremaining: 45.4s\n",
      "7:\tlearn: 8.2029138\ttotal: 4.42s\tremaining: 45.3s\n",
      "8:\tlearn: 7.8580669\ttotal: 5.03s\tremaining: 45.3s\n",
      "9:\tlearn: 7.6444794\ttotal: 5.59s\tremaining: 44.7s\n",
      "10:\tlearn: 7.3524836\ttotal: 6.14s\tremaining: 44.1s\n",
      "11:\tlearn: 7.1717149\ttotal: 6.73s\tremaining: 43.8s\n",
      "12:\tlearn: 7.0340453\ttotal: 7.34s\tremaining: 43.5s\n",
      "13:\tlearn: 6.8549391\ttotal: 7.92s\tremaining: 43s\n",
      "14:\tlearn: 6.7158034\ttotal: 8.57s\tremaining: 42.9s\n",
      "15:\tlearn: 6.4607855\ttotal: 9.13s\tremaining: 42.2s\n",
      "16:\tlearn: 6.2808334\ttotal: 9.7s\tremaining: 41.7s\n",
      "17:\tlearn: 6.2125964\ttotal: 10.2s\tremaining: 40.9s\n",
      "18:\tlearn: 6.0550039\ttotal: 10.8s\tremaining: 40.3s\n",
      "19:\tlearn: 5.8758872\ttotal: 11.3s\tremaining: 39.6s\n",
      "20:\tlearn: 5.7372922\ttotal: 11.8s\tremaining: 38.9s\n",
      "21:\tlearn: 5.6725708\ttotal: 12.4s\tremaining: 38.2s\n",
      "22:\tlearn: 5.5628576\ttotal: 12.9s\tremaining: 37.6s\n",
      "23:\tlearn: 5.4478967\ttotal: 13.4s\tremaining: 37s\n",
      "24:\tlearn: 5.3628506\ttotal: 14s\tremaining: 36.3s\n",
      "25:\tlearn: 5.3062336\ttotal: 14.5s\tremaining: 35.7s\n",
      "26:\tlearn: 5.2519005\ttotal: 15.1s\tremaining: 35.2s\n",
      "27:\tlearn: 5.1508743\ttotal: 15.6s\tremaining: 34.6s\n",
      "28:\tlearn: 5.0602058\ttotal: 16.2s\tremaining: 34.2s\n",
      "29:\tlearn: 5.0003858\ttotal: 16.9s\tremaining: 33.7s\n",
      "30:\tlearn: 4.8687811\ttotal: 17.4s\tremaining: 33.2s\n",
      "31:\tlearn: 4.8319519\ttotal: 18s\tremaining: 32.6s\n",
      "32:\tlearn: 4.6999006\ttotal: 18.5s\tremaining: 32s\n",
      "33:\tlearn: 4.6084114\ttotal: 19.1s\tremaining: 31.5s\n",
      "34:\tlearn: 4.5663606\ttotal: 19.6s\tremaining: 30.9s\n",
      "35:\tlearn: 4.4761593\ttotal: 20.2s\tremaining: 30.3s\n",
      "36:\tlearn: 4.3811430\ttotal: 20.8s\tremaining: 29.8s\n",
      "37:\tlearn: 4.3233175\ttotal: 21.3s\tremaining: 29.2s\n",
      "38:\tlearn: 4.2851742\ttotal: 21.9s\tremaining: 28.6s\n",
      "39:\tlearn: 4.1971794\ttotal: 22.4s\tremaining: 28s\n",
      "40:\tlearn: 4.1694183\ttotal: 23s\tremaining: 27.5s\n",
      "41:\tlearn: 4.1342363\ttotal: 23.6s\tremaining: 26.9s\n",
      "42:\tlearn: 4.0801298\ttotal: 24.1s\tremaining: 26.4s\n",
      "43:\tlearn: 4.0332253\ttotal: 24.7s\tremaining: 25.8s\n",
      "44:\tlearn: 3.9738092\ttotal: 25.2s\tremaining: 25.2s\n",
      "46:\tlearn: 3.8622424\ttotal: 26.3s\tremaining: 24.1s\n",
      "47:\tlearn: 3.8210518\ttotal: 26.9s\tremaining: 23.5s\n",
      "48:\tlearn: 3.7293607\ttotal: 27.4s\tremaining: 22.9s\n",
      "49:\tlearn: 3.6592938\ttotal: 28s\tremaining: 22.4s\n",
      "50:\tlearn: 3.6112962\ttotal: 28.5s\tremaining: 21.8s\n",
      "51:\tlearn: 3.5403178\ttotal: 29.1s\tremaining: 21.3s\n",
      "52:\tlearn: 3.4510164\ttotal: 29.7s\tremaining: 20.7s\n",
      "53:\tlearn: 3.4069373\ttotal: 30.2s\tremaining: 20.1s\n",
      "54:\tlearn: 3.3451295\ttotal: 30.8s\tremaining: 19.6s\n",
      "55:\tlearn: 3.2554834\ttotal: 31.3s\tremaining: 19s\n",
      "56:\tlearn: 3.2151102\ttotal: 31.9s\tremaining: 18.4s\n",
      "57:\tlearn: 3.1760330\ttotal: 32.4s\tremaining: 17.9s\n",
      "58:\tlearn: 3.1127865\ttotal: 33s\tremaining: 17.3s\n",
      "59:\tlearn: 3.0719251\ttotal: 33.5s\tremaining: 16.8s\n",
      "60:\tlearn: 3.0132478\ttotal: 34.1s\tremaining: 16.2s\n",
      "61:\tlearn: 2.9295492\ttotal: 34.6s\tremaining: 15.6s\n",
      "62:\tlearn: 2.8710438\ttotal: 35.2s\tremaining: 15.1s\n",
      "63:\tlearn: 2.8479546\ttotal: 35.7s\tremaining: 14.5s\n",
      "64:\tlearn: 2.8242367\ttotal: 36.3s\tremaining: 14s\n",
      "65:\tlearn: 2.7470373\ttotal: 36.8s\tremaining: 13.4s\n",
      "66:\tlearn: 2.7210554\ttotal: 37.4s\tremaining: 12.8s\n",
      "67:\tlearn: 2.6743201\ttotal: 38s\tremaining: 12.3s\n",
      "68:\tlearn: 2.5835182\ttotal: 38.5s\tremaining: 11.7s\n",
      "69:\tlearn: 2.5412106\ttotal: 39.1s\tremaining: 11.2s\n",
      "70:\tlearn: 2.4924300\ttotal: 39.7s\tremaining: 10.6s\n",
      "71:\tlearn: 2.4458343\ttotal: 40.2s\tremaining: 10s\n",
      "72:\tlearn: 2.4131762\ttotal: 40.7s\tremaining: 9.48s\n",
      "73:\tlearn: 2.3826800\ttotal: 41.3s\tremaining: 8.92s\n",
      "74:\tlearn: 2.3712300\ttotal: 41.8s\tremaining: 8.36s\n",
      "75:\tlearn: 2.3597083\ttotal: 42.4s\tremaining: 7.8s\n",
      "76:\tlearn: 2.3151050\ttotal: 42.9s\tremaining: 7.24s\n",
      "77:\tlearn: 2.2724857\ttotal: 43.4s\tremaining: 6.68s\n",
      "78:\tlearn: 2.2372723\ttotal: 44s\tremaining: 6.12s\n",
      "79:\tlearn: 2.2105398\ttotal: 44.6s\tremaining: 5.57s\n",
      "80:\tlearn: 2.1733636\ttotal: 45.1s\tremaining: 5.01s\n",
      "81:\tlearn: 2.1473403\ttotal: 45.7s\tremaining: 4.46s\n",
      "82:\tlearn: 2.0908192\ttotal: 46.2s\tremaining: 3.9s\n",
      "83:\tlearn: 2.0500315\ttotal: 46.8s\tremaining: 3.34s\n",
      "84:\tlearn: 2.0329225\ttotal: 47.4s\tremaining: 2.79s\n",
      "85:\tlearn: 1.9963086\ttotal: 47.9s\tremaining: 2.23s\n",
      "86:\tlearn: 1.9888659\ttotal: 48.5s\tremaining: 1.67s\n",
      "87:\tlearn: 1.9411795\ttotal: 49s\tremaining: 1.11s\n",
      "88:\tlearn: 1.9168302\ttotal: 49.6s\tremaining: 557ms\n",
      "89:\tlearn: 1.8823374\ttotal: 50.2s\tremaining: 0us\n",
      "Learning rate set to 0.425483\n",
      "0:\tlearn: 13.0772724\ttotal: 563ms\tremaining: 50.1s\n",
      "1:\tlearn: 11.8250647\ttotal: 1.11s\tremaining: 48.8s\n",
      "2:\tlearn: 11.2341920\ttotal: 1.65s\tremaining: 47.7s\n",
      "3:\tlearn: 10.5851696\ttotal: 2.17s\tremaining: 46.7s\n",
      "4:\tlearn: 10.0341607\ttotal: 2.75s\tremaining: 46.7s\n",
      "5:\tlearn: 9.6229951\ttotal: 3.32s\tremaining: 46.5s\n",
      "6:\tlearn: 9.1962277\ttotal: 3.88s\tremaining: 46.1s\n",
      "7:\tlearn: 8.9720581\ttotal: 4.48s\tremaining: 45.9s\n",
      "8:\tlearn: 8.6780858\ttotal: 5.16s\tremaining: 46.5s\n",
      "9:\tlearn: 8.3841405\ttotal: 5.74s\tremaining: 45.9s\n",
      "10:\tlearn: 8.2006349\ttotal: 6.32s\tremaining: 45.4s\n",
      "11:\tlearn: 8.0249694\ttotal: 6.89s\tremaining: 44.8s\n",
      "12:\tlearn: 7.7651482\ttotal: 7.5s\tremaining: 44.4s\n",
      "13:\tlearn: 7.6538598\ttotal: 8.08s\tremaining: 43.9s\n",
      "14:\tlearn: 7.5812472\ttotal: 8.69s\tremaining: 43.4s\n",
      "15:\tlearn: 7.2939794\ttotal: 9.27s\tremaining: 42.9s\n",
      "16:\tlearn: 7.1884921\ttotal: 9.86s\tremaining: 42.4s\n",
      "17:\tlearn: 7.0973503\ttotal: 10.5s\tremaining: 41.9s\n",
      "18:\tlearn: 6.8465469\ttotal: 11.1s\tremaining: 41.4s\n",
      "19:\tlearn: 6.7108420\ttotal: 11.7s\tremaining: 41s\n",
      "20:\tlearn: 6.5103086\ttotal: 12.4s\tremaining: 40.8s\n",
      "21:\tlearn: 6.2993215\ttotal: 13.1s\tremaining: 40.5s\n",
      "22:\tlearn: 6.1147073\ttotal: 13.7s\tremaining: 39.8s\n",
      "23:\tlearn: 6.0427738\ttotal: 14.3s\tremaining: 39.2s\n",
      "24:\tlearn: 5.8424927\ttotal: 15s\tremaining: 39s\n",
      "25:\tlearn: 5.7354295\ttotal: 15.6s\tremaining: 38.4s\n",
      "26:\tlearn: 5.6178009\ttotal: 16.2s\tremaining: 37.9s\n",
      "27:\tlearn: 5.4724655\ttotal: 16.8s\tremaining: 37.3s\n",
      "28:\tlearn: 5.3486856\ttotal: 17.4s\tremaining: 36.7s\n",
      "29:\tlearn: 5.2493329\ttotal: 18s\tremaining: 36s\n",
      "30:\tlearn: 5.0512380\ttotal: 18.6s\tremaining: 35.4s\n",
      "31:\tlearn: 4.9392966\ttotal: 19.3s\tremaining: 35.1s\n",
      "32:\tlearn: 4.8730675\ttotal: 20s\tremaining: 34.6s\n",
      "33:\tlearn: 4.8222402\ttotal: 20.6s\tremaining: 34s\n",
      "34:\tlearn: 4.7661967\ttotal: 21.2s\tremaining: 33.3s\n",
      "35:\tlearn: 4.6408951\ttotal: 21.8s\tremaining: 32.6s\n",
      "36:\tlearn: 4.5175275\ttotal: 22.4s\tremaining: 32.1s\n",
      "37:\tlearn: 4.4495133\ttotal: 23s\tremaining: 31.4s\n",
      "38:\tlearn: 4.3407410\ttotal: 23.6s\tremaining: 30.8s\n",
      "39:\tlearn: 4.2719072\ttotal: 24.1s\tremaining: 30.2s\n",
      "40:\tlearn: 4.2162690\ttotal: 24.8s\tremaining: 29.6s\n",
      "41:\tlearn: 4.1834667\ttotal: 25.4s\tremaining: 29s\n",
      "42:\tlearn: 4.1542306\ttotal: 25.9s\tremaining: 28.4s\n",
      "43:\tlearn: 4.0759419\ttotal: 26.5s\tremaining: 27.7s\n",
      "44:\tlearn: 3.9901715\ttotal: 27.1s\tremaining: 27.1s\n",
      "45:\tlearn: 3.9272136\ttotal: 27.7s\tremaining: 26.5s\n",
      "46:\tlearn: 3.9000621\ttotal: 28.3s\tremaining: 25.9s\n",
      "47:\tlearn: 3.8250915\ttotal: 28.9s\tremaining: 25.3s\n",
      "48:\tlearn: 3.7591441\ttotal: 29.5s\tremaining: 24.7s\n",
      "49:\tlearn: 3.6730372\ttotal: 30.1s\tremaining: 24.1s\n",
      "50:\tlearn: 3.5865281\ttotal: 30.7s\tremaining: 23.5s\n",
      "51:\tlearn: 3.5164898\ttotal: 31.3s\tremaining: 22.9s\n",
      "52:\tlearn: 3.4330810\ttotal: 31.9s\tremaining: 22.2s\n",
      "53:\tlearn: 3.4020505\ttotal: 32.4s\tremaining: 21.6s\n",
      "54:\tlearn: 3.3672561\ttotal: 33s\tremaining: 21s\n",
      "55:\tlearn: 3.3046295\ttotal: 33.6s\tremaining: 20.4s\n",
      "56:\tlearn: 3.2830979\ttotal: 34.2s\tremaining: 19.8s\n",
      "57:\tlearn: 3.2464203\ttotal: 34.8s\tremaining: 19.2s\n",
      "58:\tlearn: 3.1804934\ttotal: 35.4s\tremaining: 18.6s\n",
      "59:\tlearn: 3.1183279\ttotal: 36s\tremaining: 18s\n",
      "60:\tlearn: 3.0286714\ttotal: 36.6s\tremaining: 17.4s\n",
      "61:\tlearn: 2.9766702\ttotal: 37.2s\tremaining: 16.8s\n",
      "62:\tlearn: 2.9338185\ttotal: 37.8s\tremaining: 16.2s\n",
      "63:\tlearn: 2.8776836\ttotal: 38.4s\tremaining: 15.6s\n",
      "64:\tlearn: 2.8335092\ttotal: 39.1s\tremaining: 15s\n",
      "65:\tlearn: 2.7962587\ttotal: 39.7s\tremaining: 14.4s\n",
      "66:\tlearn: 2.7509503\ttotal: 40.4s\tremaining: 13.9s\n",
      "67:\tlearn: 2.6892084\ttotal: 41.1s\tremaining: 13.3s\n",
      "68:\tlearn: 2.6313786\ttotal: 41.7s\tremaining: 12.7s\n",
      "69:\tlearn: 2.6008488\ttotal: 42.3s\tremaining: 12.1s\n",
      "70:\tlearn: 2.5604440\ttotal: 42.9s\tremaining: 11.5s\n",
      "71:\tlearn: 2.4928567\ttotal: 43.4s\tremaining: 10.9s\n",
      "72:\tlearn: 2.4696203\ttotal: 44s\tremaining: 10.2s\n",
      "73:\tlearn: 2.3955382\ttotal: 44.5s\tremaining: 9.63s\n",
      "74:\tlearn: 2.3747656\ttotal: 45.1s\tremaining: 9.03s\n",
      "75:\tlearn: 2.3642761\ttotal: 45.7s\tremaining: 8.42s\n",
      "76:\tlearn: 2.3206754\ttotal: 46.3s\tremaining: 7.82s\n",
      "77:\tlearn: 2.2868677\ttotal: 46.9s\tremaining: 7.21s\n",
      "78:\tlearn: 2.2659344\ttotal: 47.4s\tremaining: 6.6s\n",
      "79:\tlearn: 2.2171738\ttotal: 48s\tremaining: 5.99s\n",
      "80:\tlearn: 2.1722546\ttotal: 48.5s\tremaining: 5.39s\n",
      "81:\tlearn: 2.1437737\ttotal: 49.1s\tremaining: 4.79s\n",
      "82:\tlearn: 2.1132535\ttotal: 49.7s\tremaining: 4.19s\n",
      "83:\tlearn: 2.1049934\ttotal: 50.2s\tremaining: 3.58s\n",
      "84:\tlearn: 2.0716403\ttotal: 50.8s\tremaining: 2.99s\n",
      "85:\tlearn: 2.0241750\ttotal: 51.3s\tremaining: 2.39s\n",
      "86:\tlearn: 1.9876412\ttotal: 51.9s\tremaining: 1.79s\n",
      "87:\tlearn: 1.9397552\ttotal: 52.5s\tremaining: 1.19s\n",
      "88:\tlearn: 1.9226304\ttotal: 53s\tremaining: 596ms\n",
      "89:\tlearn: 1.9016768\ttotal: 53.5s\tremaining: 0us\n",
      "Learning rate set to 0.425483\n",
      "0:\tlearn: 11.4685416\ttotal: 542ms\tremaining: 48.2s\n",
      "1:\tlearn: 10.1424142\ttotal: 1.07s\tremaining: 47.2s\n",
      "2:\tlearn: 9.2508000\ttotal: 1.63s\tremaining: 47.1s\n",
      "3:\tlearn: 8.6034039\ttotal: 2.19s\tremaining: 47.1s\n",
      "4:\tlearn: 8.0280811\ttotal: 2.73s\tremaining: 46.4s\n",
      "5:\tlearn: 7.5976776\ttotal: 3.3s\tremaining: 46.2s\n",
      "6:\tlearn: 7.3105139\ttotal: 3.85s\tremaining: 45.7s\n",
      "7:\tlearn: 7.1228364\ttotal: 4.39s\tremaining: 45.1s\n",
      "8:\tlearn: 6.8644335\ttotal: 4.97s\tremaining: 44.8s\n",
      "9:\tlearn: 6.6376226\ttotal: 5.54s\tremaining: 44.3s\n",
      "10:\tlearn: 6.5068186\ttotal: 6.08s\tremaining: 43.7s\n",
      "11:\tlearn: 6.3275244\ttotal: 6.65s\tremaining: 43.2s\n",
      "12:\tlearn: 6.1808967\ttotal: 7.2s\tremaining: 42.6s\n",
      "13:\tlearn: 5.9273306\ttotal: 7.79s\tremaining: 42.3s\n",
      "14:\tlearn: 5.7945569\ttotal: 8.35s\tremaining: 41.8s\n",
      "15:\tlearn: 5.6125137\ttotal: 8.88s\tremaining: 41.1s\n",
      "16:\tlearn: 5.4759774\ttotal: 9.44s\tremaining: 40.5s\n",
      "17:\tlearn: 5.3950394\ttotal: 10.1s\tremaining: 40.3s\n",
      "18:\tlearn: 5.2990978\ttotal: 10.6s\tremaining: 39.7s\n",
      "19:\tlearn: 5.1636917\ttotal: 11.2s\tremaining: 39.1s\n",
      "20:\tlearn: 4.9850521\ttotal: 11.7s\tremaining: 38.4s\n",
      "21:\tlearn: 4.9178793\ttotal: 12.2s\tremaining: 37.8s\n",
      "22:\tlearn: 4.8301584\ttotal: 12.8s\tremaining: 37.3s\n",
      "23:\tlearn: 4.7193580\ttotal: 13.4s\tremaining: 36.7s\n",
      "24:\tlearn: 4.6234835\ttotal: 13.9s\tremaining: 36.2s\n",
      "25:\tlearn: 4.5410447\ttotal: 14.5s\tremaining: 35.6s\n",
      "26:\tlearn: 4.4589300\ttotal: 15.1s\tremaining: 35.1s\n",
      "27:\tlearn: 4.2857203\ttotal: 15.6s\tremaining: 34.6s\n",
      "28:\tlearn: 4.2217245\ttotal: 16.2s\tremaining: 34s\n",
      "29:\tlearn: 4.1472274\ttotal: 16.7s\tremaining: 33.4s\n",
      "30:\tlearn: 4.0760013\ttotal: 17.3s\tremaining: 32.9s\n",
      "31:\tlearn: 3.9130927\ttotal: 17.9s\tremaining: 32.4s\n",
      "32:\tlearn: 3.8673494\ttotal: 18.5s\tremaining: 31.9s\n",
      "33:\tlearn: 3.8163346\ttotal: 19s\tremaining: 31.3s\n",
      "34:\tlearn: 3.7520334\ttotal: 19.6s\tremaining: 30.8s\n",
      "35:\tlearn: 3.6609312\ttotal: 20.2s\tremaining: 30.3s\n",
      "36:\tlearn: 3.6077957\ttotal: 20.8s\tremaining: 29.8s\n",
      "37:\tlearn: 3.5560114\ttotal: 21.4s\tremaining: 29.2s\n",
      "38:\tlearn: 3.5356168\ttotal: 21.9s\tremaining: 28.7s\n",
      "39:\tlearn: 3.4873221\ttotal: 22.5s\tremaining: 28.1s\n",
      "40:\tlearn: 3.4417655\ttotal: 23s\tremaining: 27.5s\n",
      "41:\tlearn: 3.3870885\ttotal: 23.6s\tremaining: 26.9s\n",
      "42:\tlearn: 3.3210374\ttotal: 24.1s\tremaining: 26.3s\n",
      "43:\tlearn: 3.2669996\ttotal: 24.6s\tremaining: 25.7s\n",
      "44:\tlearn: 3.2046084\ttotal: 25.1s\tremaining: 25.1s\n",
      "45:\tlearn: 3.1508284\ttotal: 25.7s\tremaining: 24.6s\n",
      "46:\tlearn: 3.0956145\ttotal: 26.2s\tremaining: 24s\n",
      "47:\tlearn: 3.0342115\ttotal: 26.7s\tremaining: 23.4s\n",
      "48:\tlearn: 2.9798890\ttotal: 27.3s\tremaining: 22.8s\n",
      "49:\tlearn: 2.9335175\ttotal: 27.8s\tremaining: 22.3s\n",
      "50:\tlearn: 2.8955849\ttotal: 28.4s\tremaining: 21.7s\n",
      "51:\tlearn: 2.8725658\ttotal: 28.9s\tremaining: 21.1s\n",
      "52:\tlearn: 2.8303485\ttotal: 29.4s\tremaining: 20.5s\n",
      "53:\tlearn: 2.7867303\ttotal: 30.1s\tremaining: 20s\n",
      "54:\tlearn: 2.7414966\ttotal: 30.6s\tremaining: 19.5s\n",
      "55:\tlearn: 2.6762110\ttotal: 31.2s\tremaining: 18.9s\n",
      "56:\tlearn: 2.6295108\ttotal: 31.7s\tremaining: 18.4s\n",
      "57:\tlearn: 2.5653209\ttotal: 32.3s\tremaining: 17.8s\n",
      "58:\tlearn: 2.5374605\ttotal: 32.8s\tremaining: 17.2s\n",
      "59:\tlearn: 2.4971006\ttotal: 33.3s\tremaining: 16.7s\n",
      "60:\tlearn: 2.4501667\ttotal: 33.9s\tremaining: 16.1s\n",
      "61:\tlearn: 2.4069644\ttotal: 34.4s\tremaining: 15.5s\n",
      "62:\tlearn: 2.3199940\ttotal: 35s\tremaining: 15s\n",
      "63:\tlearn: 2.2712768\ttotal: 35.6s\tremaining: 14.5s\n",
      "64:\tlearn: 2.2266410\ttotal: 36.2s\tremaining: 13.9s\n",
      "65:\tlearn: 2.1910734\ttotal: 36.7s\tremaining: 13.3s\n",
      "66:\tlearn: 2.1444431\ttotal: 37.3s\tremaining: 12.8s\n",
      "67:\tlearn: 2.1201601\ttotal: 37.8s\tremaining: 12.2s\n",
      "68:\tlearn: 2.0865204\ttotal: 38.3s\tremaining: 11.7s\n",
      "69:\tlearn: 2.0568632\ttotal: 38.9s\tremaining: 11.1s\n",
      "70:\tlearn: 2.0215086\ttotal: 39.4s\tremaining: 10.5s\n",
      "71:\tlearn: 1.9979342\ttotal: 40s\tremaining: 10s\n",
      "72:\tlearn: 1.9654392\ttotal: 40.5s\tremaining: 9.43s\n",
      "73:\tlearn: 1.9385133\ttotal: 41s\tremaining: 8.87s\n",
      "74:\tlearn: 1.9067811\ttotal: 41.6s\tremaining: 8.32s\n",
      "75:\tlearn: 1.8792123\ttotal: 42.2s\tremaining: 7.76s\n",
      "76:\tlearn: 1.8585997\ttotal: 42.7s\tremaining: 7.21s\n",
      "77:\tlearn: 1.8294653\ttotal: 43.3s\tremaining: 6.66s\n",
      "78:\tlearn: 1.7781661\ttotal: 43.8s\tremaining: 6.1s\n",
      "79:\tlearn: 1.7432227\ttotal: 44.4s\tremaining: 5.55s\n",
      "80:\tlearn: 1.7195710\ttotal: 44.9s\tremaining: 4.99s\n",
      "81:\tlearn: 1.6814910\ttotal: 45.5s\tremaining: 4.43s\n",
      "82:\tlearn: 1.6540014\ttotal: 46.1s\tremaining: 3.88s\n",
      "83:\tlearn: 1.6195400\ttotal: 46.7s\tremaining: 3.33s\n",
      "84:\tlearn: 1.5725423\ttotal: 47.3s\tremaining: 2.78s\n",
      "85:\tlearn: 1.5457290\ttotal: 47.9s\tremaining: 2.23s\n",
      "86:\tlearn: 1.5186260\ttotal: 48.5s\tremaining: 1.67s\n",
      "87:\tlearn: 1.4989306\ttotal: 49s\tremaining: 1.11s\n",
      "88:\tlearn: 1.4723041\ttotal: 49.6s\tremaining: 557ms\n",
      "89:\tlearn: 1.4570918\ttotal: 50.3s\tremaining: 0us\n",
      "Learning rate set to 0.425483\n",
      "0:\tlearn: 10.4382017\ttotal: 560ms\tremaining: 49.8s\n",
      "1:\tlearn: 9.3118653\ttotal: 1.09s\tremaining: 47.9s\n",
      "2:\tlearn: 8.5493153\ttotal: 1.62s\tremaining: 46.9s\n",
      "3:\tlearn: 8.0029010\ttotal: 2.16s\tremaining: 46.4s\n",
      "4:\tlearn: 7.6523873\ttotal: 2.71s\tremaining: 46.1s\n",
      "5:\tlearn: 7.3666013\ttotal: 3.27s\tremaining: 45.8s\n",
      "6:\tlearn: 7.0798859\ttotal: 3.84s\tremaining: 45.5s\n",
      "7:\tlearn: 6.8899620\ttotal: 4.39s\tremaining: 45s\n",
      "8:\tlearn: 6.6918557\ttotal: 4.98s\tremaining: 44.8s\n",
      "9:\tlearn: 6.4500676\ttotal: 5.55s\tremaining: 44.4s\n",
      "10:\tlearn: 6.2458683\ttotal: 6.12s\tremaining: 43.9s\n",
      "11:\tlearn: 6.0979340\ttotal: 6.72s\tremaining: 43.7s\n",
      "12:\tlearn: 5.9740878\ttotal: 7.28s\tremaining: 43.1s\n",
      "13:\tlearn: 5.8589407\ttotal: 7.89s\tremaining: 42.8s\n",
      "14:\tlearn: 5.6166995\ttotal: 8.56s\tremaining: 42.8s\n",
      "15:\tlearn: 5.4635530\ttotal: 9.13s\tremaining: 42.2s\n",
      "16:\tlearn: 5.3097270\ttotal: 9.69s\tremaining: 41.6s\n",
      "17:\tlearn: 5.1933997\ttotal: 10.3s\tremaining: 41.1s\n",
      "18:\tlearn: 5.1057367\ttotal: 10.8s\tremaining: 40.4s\n",
      "19:\tlearn: 4.9449239\ttotal: 11.4s\tremaining: 39.8s\n",
      "20:\tlearn: 4.8559625\ttotal: 11.9s\tremaining: 39.2s\n",
      "21:\tlearn: 4.7234631\ttotal: 12.5s\tremaining: 38.5s\n",
      "22:\tlearn: 4.5439909\ttotal: 13s\tremaining: 37.9s\n",
      "23:\tlearn: 4.4230466\ttotal: 13.5s\tremaining: 37.2s\n",
      "24:\tlearn: 4.3507226\ttotal: 14.1s\tremaining: 36.6s\n",
      "25:\tlearn: 4.2336881\ttotal: 14.6s\tremaining: 36s\n",
      "26:\tlearn: 4.1745258\ttotal: 15.2s\tremaining: 35.5s\n",
      "27:\tlearn: 4.1429833\ttotal: 15.8s\tremaining: 34.9s\n",
      "28:\tlearn: 4.0127123\ttotal: 16.3s\tremaining: 34.3s\n",
      "29:\tlearn: 3.9421764\ttotal: 16.9s\tremaining: 33.7s\n",
      "30:\tlearn: 3.8240696\ttotal: 17.4s\tremaining: 33.1s\n",
      "31:\tlearn: 3.7397618\ttotal: 18s\tremaining: 32.6s\n",
      "32:\tlearn: 3.6491349\ttotal: 18.5s\tremaining: 32s\n",
      "33:\tlearn: 3.5971768\ttotal: 19.1s\tremaining: 31.4s\n",
      "34:\tlearn: 3.5291383\ttotal: 19.6s\tremaining: 30.8s\n",
      "35:\tlearn: 3.4059663\ttotal: 20.2s\tremaining: 30.3s\n",
      "36:\tlearn: 3.3535896\ttotal: 20.7s\tremaining: 29.7s\n",
      "37:\tlearn: 3.2655297\ttotal: 21.3s\tremaining: 29.2s\n",
      "38:\tlearn: 3.2162345\ttotal: 21.8s\tremaining: 28.6s\n",
      "39:\tlearn: 3.1513208\ttotal: 22.4s\tremaining: 28s\n",
      "40:\tlearn: 3.0965635\ttotal: 22.9s\tremaining: 27.4s\n",
      "41:\tlearn: 3.0482852\ttotal: 23.5s\tremaining: 26.8s\n",
      "42:\tlearn: 3.0179795\ttotal: 24s\tremaining: 26.2s\n",
      "43:\tlearn: 2.9774651\ttotal: 24.6s\tremaining: 25.7s\n",
      "44:\tlearn: 2.9192739\ttotal: 25.1s\tremaining: 25.1s\n",
      "45:\tlearn: 2.8831467\ttotal: 25.8s\tremaining: 24.7s\n",
      "46:\tlearn: 2.8390772\ttotal: 26.4s\tremaining: 24.1s\n",
      "47:\tlearn: 2.8014142\ttotal: 26.9s\tremaining: 23.5s\n",
      "48:\tlearn: 2.7376087\ttotal: 27.4s\tremaining: 23s\n",
      "49:\tlearn: 2.6797706\ttotal: 28.1s\tremaining: 22.4s\n",
      "50:\tlearn: 2.6478177\ttotal: 28.6s\tremaining: 21.9s\n",
      "51:\tlearn: 2.5659699\ttotal: 29.2s\tremaining: 21.3s\n",
      "52:\tlearn: 2.5201989\ttotal: 29.8s\tremaining: 20.8s\n",
      "53:\tlearn: 2.4576544\ttotal: 30.3s\tremaining: 20.2s\n",
      "54:\tlearn: 2.4331210\ttotal: 30.8s\tremaining: 19.6s\n",
      "55:\tlearn: 2.3988173\ttotal: 31.4s\tremaining: 19.1s\n",
      "56:\tlearn: 2.3753492\ttotal: 31.9s\tremaining: 18.5s\n",
      "57:\tlearn: 2.3314385\ttotal: 32.5s\tremaining: 17.9s\n",
      "58:\tlearn: 2.3007179\ttotal: 33s\tremaining: 17.3s\n",
      "59:\tlearn: 2.2554746\ttotal: 33.5s\tremaining: 16.7s\n",
      "60:\tlearn: 2.2338580\ttotal: 34.1s\tremaining: 16.2s\n",
      "61:\tlearn: 2.2100877\ttotal: 34.6s\tremaining: 15.6s\n",
      "62:\tlearn: 2.1928969\ttotal: 35.1s\tremaining: 15.1s\n",
      "63:\tlearn: 2.1509573\ttotal: 35.7s\tremaining: 14.5s\n",
      "64:\tlearn: 2.1325177\ttotal: 36.3s\tremaining: 14s\n",
      "65:\tlearn: 2.1028034\ttotal: 36.8s\tremaining: 13.4s\n",
      "66:\tlearn: 2.0727028\ttotal: 37.4s\tremaining: 12.8s\n",
      "67:\tlearn: 2.0438204\ttotal: 38s\tremaining: 12.3s\n",
      "68:\tlearn: 2.0297429\ttotal: 38.5s\tremaining: 11.7s\n",
      "69:\tlearn: 2.0090134\ttotal: 39s\tremaining: 11.2s\n",
      "70:\tlearn: 1.9739309\ttotal: 39.6s\tremaining: 10.6s\n",
      "71:\tlearn: 1.9397938\ttotal: 40.2s\tremaining: 10s\n",
      "72:\tlearn: 1.9037891\ttotal: 40.7s\tremaining: 9.49s\n",
      "73:\tlearn: 1.8741123\ttotal: 41.3s\tremaining: 8.93s\n",
      "74:\tlearn: 1.8426743\ttotal: 41.9s\tremaining: 8.37s\n",
      "75:\tlearn: 1.8111972\ttotal: 42.4s\tremaining: 7.81s\n",
      "76:\tlearn: 1.7853042\ttotal: 42.9s\tremaining: 7.25s\n",
      "77:\tlearn: 1.7594746\ttotal: 43.5s\tremaining: 6.69s\n",
      "78:\tlearn: 1.7308902\ttotal: 44.1s\tremaining: 6.13s\n",
      "79:\tlearn: 1.7197942\ttotal: 44.6s\tremaining: 5.58s\n",
      "80:\tlearn: 1.6987003\ttotal: 45.1s\tremaining: 5.01s\n",
      "81:\tlearn: 1.6759867\ttotal: 45.7s\tremaining: 4.46s\n",
      "82:\tlearn: 1.6569538\ttotal: 46.3s\tremaining: 3.9s\n",
      "83:\tlearn: 1.6357867\ttotal: 46.8s\tremaining: 3.34s\n",
      "84:\tlearn: 1.6242016\ttotal: 47.3s\tremaining: 2.78s\n",
      "85:\tlearn: 1.6018288\ttotal: 47.9s\tremaining: 2.23s\n",
      "86:\tlearn: 1.5884302\ttotal: 48.4s\tremaining: 1.67s\n",
      "87:\tlearn: 1.5703536\ttotal: 49s\tremaining: 1.11s\n",
      "88:\tlearn: 1.5322069\ttotal: 49.5s\tremaining: 556ms\n",
      "89:\tlearn: 1.5153830\ttotal: 50s\tremaining: 0us\n",
      "Learning rate set to 0.425489\n",
      "0:\tlearn: 13.1451792\ttotal: 524ms\tremaining: 46.6s\n",
      "1:\tlearn: 11.8775345\ttotal: 1.08s\tremaining: 47.4s\n",
      "2:\tlearn: 11.1479640\ttotal: 1.61s\tremaining: 46.7s\n",
      "3:\tlearn: 10.5528493\ttotal: 2.14s\tremaining: 45.9s\n",
      "4:\tlearn: 10.0973165\ttotal: 2.71s\tremaining: 46s\n",
      "5:\tlearn: 9.5867932\ttotal: 3.25s\tremaining: 45.4s\n",
      "6:\tlearn: 9.1734967\ttotal: 3.78s\tremaining: 44.9s\n",
      "7:\tlearn: 8.9480259\ttotal: 4.34s\tremaining: 44.5s\n",
      "8:\tlearn: 8.6039580\ttotal: 4.88s\tremaining: 43.9s\n",
      "9:\tlearn: 8.4145121\ttotal: 5.47s\tremaining: 43.7s\n",
      "10:\tlearn: 8.1932201\ttotal: 6s\tremaining: 43.1s\n",
      "11:\tlearn: 8.0430173\ttotal: 6.61s\tremaining: 42.9s\n",
      "12:\tlearn: 7.9319254\ttotal: 7.15s\tremaining: 42.4s\n",
      "13:\tlearn: 7.7340290\ttotal: 7.71s\tremaining: 41.9s\n",
      "14:\tlearn: 7.4683504\ttotal: 8.28s\tremaining: 41.4s\n",
      "15:\tlearn: 7.3081742\ttotal: 8.83s\tremaining: 40.8s\n",
      "16:\tlearn: 7.2020815\ttotal: 9.39s\tremaining: 40.3s\n",
      "17:\tlearn: 7.0107402\ttotal: 9.93s\tremaining: 39.7s\n",
      "18:\tlearn: 6.8801956\ttotal: 10.5s\tremaining: 39.2s\n",
      "19:\tlearn: 6.7087038\ttotal: 11s\tremaining: 38.6s\n",
      "20:\tlearn: 6.5206785\ttotal: 11.6s\tremaining: 38s\n",
      "21:\tlearn: 6.3085725\ttotal: 12.1s\tremaining: 37.4s\n",
      "22:\tlearn: 6.1475646\ttotal: 12.7s\tremaining: 36.9s\n",
      "23:\tlearn: 6.0609986\ttotal: 13.2s\tremaining: 36.3s\n",
      "24:\tlearn: 5.9718685\ttotal: 13.7s\tremaining: 35.7s\n",
      "25:\tlearn: 5.8353991\ttotal: 14.3s\tremaining: 35.2s\n",
      "26:\tlearn: 5.7464489\ttotal: 14.9s\tremaining: 34.7s\n",
      "27:\tlearn: 5.6777899\ttotal: 15.4s\tremaining: 34.1s\n",
      "28:\tlearn: 5.5048517\ttotal: 16s\tremaining: 33.6s\n",
      "29:\tlearn: 5.4500062\ttotal: 16.6s\tremaining: 33.1s\n",
      "30:\tlearn: 5.3619636\ttotal: 17.1s\tremaining: 32.6s\n",
      "31:\tlearn: 5.2957115\ttotal: 17.6s\tremaining: 32s\n",
      "32:\tlearn: 5.2254262\ttotal: 18.2s\tremaining: 31.4s\n",
      "33:\tlearn: 5.1864209\ttotal: 18.7s\tremaining: 30.8s\n",
      "34:\tlearn: 5.0622678\ttotal: 19.3s\tremaining: 30.3s\n",
      "35:\tlearn: 4.9855803\ttotal: 19.8s\tremaining: 29.7s\n",
      "36:\tlearn: 4.8412934\ttotal: 20.4s\tremaining: 29.2s\n",
      "37:\tlearn: 4.7813359\ttotal: 20.9s\tremaining: 28.6s\n",
      "38:\tlearn: 4.7257244\ttotal: 21.4s\tremaining: 28s\n",
      "39:\tlearn: 4.6568005\ttotal: 22s\tremaining: 27.5s\n",
      "40:\tlearn: 4.6302623\ttotal: 22.5s\tremaining: 26.9s\n",
      "41:\tlearn: 4.5469684\ttotal: 23.1s\tremaining: 26.4s\n",
      "42:\tlearn: 4.4535941\ttotal: 23.6s\tremaining: 25.8s\n",
      "43:\tlearn: 4.2739394\ttotal: 24.2s\tremaining: 25.3s\n",
      "44:\tlearn: 4.2167975\ttotal: 24.7s\tremaining: 24.7s\n",
      "45:\tlearn: 4.1122027\ttotal: 25.3s\tremaining: 24.2s\n",
      "46:\tlearn: 4.0381678\ttotal: 25.8s\tremaining: 23.6s\n",
      "47:\tlearn: 4.0053385\ttotal: 26.4s\tremaining: 23.1s\n",
      "48:\tlearn: 3.9690751\ttotal: 27s\tremaining: 22.6s\n",
      "49:\tlearn: 3.9320698\ttotal: 27.5s\tremaining: 22s\n",
      "50:\tlearn: 3.8994960\ttotal: 28.1s\tremaining: 21.5s\n",
      "51:\tlearn: 3.8590428\ttotal: 28.6s\tremaining: 20.9s\n",
      "52:\tlearn: 3.7319346\ttotal: 29.2s\tremaining: 20.4s\n",
      "53:\tlearn: 3.6982253\ttotal: 29.7s\tremaining: 19.8s\n",
      "54:\tlearn: 3.6222146\ttotal: 30.3s\tremaining: 19.3s\n",
      "55:\tlearn: 3.5206856\ttotal: 30.8s\tremaining: 18.7s\n",
      "56:\tlearn: 3.4397949\ttotal: 31.4s\tremaining: 18.2s\n",
      "57:\tlearn: 3.3648488\ttotal: 31.9s\tremaining: 17.6s\n",
      "58:\tlearn: 3.3231832\ttotal: 32.5s\tremaining: 17.1s\n",
      "59:\tlearn: 3.2445335\ttotal: 33s\tremaining: 16.5s\n",
      "60:\tlearn: 3.1931123\ttotal: 33.6s\tremaining: 16s\n",
      "61:\tlearn: 3.1249196\ttotal: 34.3s\tremaining: 15.5s\n",
      "62:\tlearn: 3.0744688\ttotal: 34.8s\tremaining: 14.9s\n",
      "63:\tlearn: 3.0114892\ttotal: 35.4s\tremaining: 14.4s\n",
      "64:\tlearn: 2.9790541\ttotal: 35.9s\tremaining: 13.8s\n",
      "65:\tlearn: 2.9569680\ttotal: 36.6s\tremaining: 13.3s\n",
      "66:\tlearn: 2.8991220\ttotal: 37.1s\tremaining: 12.7s\n",
      "67:\tlearn: 2.8691486\ttotal: 37.7s\tremaining: 12.2s\n",
      "68:\tlearn: 2.8431798\ttotal: 38.2s\tremaining: 11.6s\n",
      "69:\tlearn: 2.8075152\ttotal: 38.8s\tremaining: 11.1s\n",
      "70:\tlearn: 2.7211462\ttotal: 39.3s\tremaining: 10.5s\n",
      "71:\tlearn: 2.6633998\ttotal: 39.8s\tremaining: 9.96s\n",
      "72:\tlearn: 2.6314105\ttotal: 40.4s\tremaining: 9.4s\n",
      "73:\tlearn: 2.5963331\ttotal: 40.9s\tremaining: 8.85s\n",
      "74:\tlearn: 2.5344785\ttotal: 41.5s\tremaining: 8.29s\n",
      "75:\tlearn: 2.5185742\ttotal: 42s\tremaining: 7.73s\n",
      "76:\tlearn: 2.4673515\ttotal: 42.5s\tremaining: 7.18s\n",
      "77:\tlearn: 2.4488890\ttotal: 43s\tremaining: 6.62s\n",
      "78:\tlearn: 2.4217221\ttotal: 43.6s\tremaining: 6.07s\n",
      "79:\tlearn: 2.3823938\ttotal: 44.2s\tremaining: 5.52s\n",
      "80:\tlearn: 2.3342225\ttotal: 44.7s\tremaining: 4.97s\n",
      "81:\tlearn: 2.2993754\ttotal: 45.2s\tremaining: 4.41s\n",
      "82:\tlearn: 2.2653791\ttotal: 45.8s\tremaining: 3.86s\n",
      "83:\tlearn: 2.2447522\ttotal: 46.4s\tremaining: 3.31s\n",
      "84:\tlearn: 2.2240851\ttotal: 47s\tremaining: 2.76s\n",
      "85:\tlearn: 2.1823962\ttotal: 47.5s\tremaining: 2.21s\n",
      "86:\tlearn: 2.1235311\ttotal: 48s\tremaining: 1.66s\n",
      "87:\tlearn: 2.0852980\ttotal: 48.6s\tremaining: 1.1s\n",
      "88:\tlearn: 2.0604358\ttotal: 49.1s\tremaining: 552ms\n",
      "89:\tlearn: 2.0209587\ttotal: 49.7s\tremaining: 0us\n",
      "Learning rate set to 0.5\n",
      "0:\tlearn: 13.1063006\ttotal: 16.2ms\tremaining: 308ms\n",
      "1:\tlearn: 12.1739625\ttotal: 30.4ms\tremaining: 274ms\n",
      "2:\tlearn: 11.7090153\ttotal: 44.1ms\tremaining: 250ms\n",
      "3:\tlearn: 11.1662386\ttotal: 58.1ms\tremaining: 232ms\n",
      "4:\tlearn: 10.9234154\ttotal: 76ms\tremaining: 228ms\n",
      "5:\tlearn: 10.5166458\ttotal: 90.9ms\tremaining: 212ms\n",
      "6:\tlearn: 10.3265253\ttotal: 105ms\tremaining: 194ms\n",
      "7:\tlearn: 10.1441671\ttotal: 119ms\tremaining: 178ms\n",
      "8:\tlearn: 10.0269668\ttotal: 133ms\tremaining: 163ms\n",
      "9:\tlearn: 9.7779396\ttotal: 147ms\tremaining: 147ms\n",
      "10:\tlearn: 9.6620172\ttotal: 162ms\tremaining: 133ms\n",
      "11:\tlearn: 9.5651596\ttotal: 180ms\tremaining: 120ms\n",
      "12:\tlearn: 9.4810158\ttotal: 194ms\tremaining: 105ms\n",
      "13:\tlearn: 9.3172012\ttotal: 209ms\tremaining: 89.5ms\n",
      "14:\tlearn: 9.2150432\ttotal: 224ms\tremaining: 74.6ms\n",
      "15:\tlearn: 9.0903173\ttotal: 239ms\tremaining: 59.6ms\n",
      "16:\tlearn: 8.9386778\ttotal: 253ms\tremaining: 44.7ms\n",
      "17:\tlearn: 8.8776954\ttotal: 271ms\tremaining: 30.2ms\n",
      "18:\tlearn: 8.8201526\ttotal: 285ms\tremaining: 15ms\n",
      "19:\tlearn: 8.7301111\ttotal: 300ms\tremaining: 0us\n",
      "Learning rate set to 0.5\n",
      "0:\tlearn: 13.4759159\ttotal: 14.9ms\tremaining: 283ms\n",
      "1:\tlearn: 12.5991285\ttotal: 30.4ms\tremaining: 274ms\n",
      "2:\tlearn: 12.0287583\ttotal: 47.2ms\tremaining: 267ms\n",
      "3:\tlearn: 11.7769210\ttotal: 61.5ms\tremaining: 246ms\n",
      "4:\tlearn: 11.2584222\ttotal: 78.2ms\tremaining: 235ms\n",
      "5:\tlearn: 11.0896650\ttotal: 93.8ms\tremaining: 219ms\n",
      "6:\tlearn: 10.8813953\ttotal: 108ms\tremaining: 200ms\n",
      "7:\tlearn: 10.7276213\ttotal: 122ms\tremaining: 183ms\n",
      "8:\tlearn: 10.6333599\ttotal: 135ms\tremaining: 165ms\n",
      "9:\tlearn: 10.3470584\ttotal: 149ms\tremaining: 149ms\n",
      "10:\tlearn: 10.2231731\ttotal: 162ms\tremaining: 133ms\n",
      "11:\tlearn: 10.1144732\ttotal: 181ms\tremaining: 121ms\n",
      "12:\tlearn: 10.0151032\ttotal: 196ms\tremaining: 105ms\n",
      "13:\tlearn: 9.9098748\ttotal: 209ms\tremaining: 89.7ms\n",
      "14:\tlearn: 9.8510302\ttotal: 224ms\tremaining: 74.6ms\n",
      "15:\tlearn: 9.7939266\ttotal: 237ms\tremaining: 59.2ms\n",
      "16:\tlearn: 9.5998052\ttotal: 251ms\tremaining: 44.3ms\n",
      "17:\tlearn: 9.5563782\ttotal: 266ms\tremaining: 29.6ms\n",
      "18:\tlearn: 9.3857352\ttotal: 284ms\tremaining: 14.9ms\n",
      "19:\tlearn: 9.3246282\ttotal: 297ms\tremaining: 0us\n",
      "Learning rate set to 0.5\n",
      "0:\tlearn: 11.8303056\ttotal: 14.7ms\tremaining: 279ms\n",
      "1:\tlearn: 10.7984808\ttotal: 32.4ms\tremaining: 292ms\n",
      "2:\tlearn: 10.4453867\ttotal: 59.2ms\tremaining: 335ms\n",
      "3:\tlearn: 9.9816755\ttotal: 82.5ms\tremaining: 330ms\n",
      "4:\tlearn: 9.7821255\ttotal: 97.1ms\tremaining: 291ms\n",
      "5:\tlearn: 9.6386285\ttotal: 112ms\tremaining: 261ms\n",
      "6:\tlearn: 9.3630766\ttotal: 128ms\tremaining: 237ms\n",
      "7:\tlearn: 9.2600017\ttotal: 147ms\tremaining: 220ms\n",
      "8:\tlearn: 9.1323677\ttotal: 161ms\tremaining: 197ms\n",
      "9:\tlearn: 8.8731313\ttotal: 176ms\tremaining: 176ms\n",
      "10:\tlearn: 8.8134746\ttotal: 189ms\tremaining: 155ms\n",
      "11:\tlearn: 8.5514508\ttotal: 204ms\tremaining: 136ms\n",
      "12:\tlearn: 8.4396938\ttotal: 219ms\tremaining: 118ms\n",
      "13:\tlearn: 8.3109737\ttotal: 239ms\tremaining: 102ms\n",
      "14:\tlearn: 8.2001094\ttotal: 253ms\tremaining: 84.4ms\n",
      "15:\tlearn: 8.1549536\ttotal: 268ms\tremaining: 66.9ms\n",
      "16:\tlearn: 8.0922361\ttotal: 284ms\tremaining: 50ms\n",
      "17:\tlearn: 7.9839866\ttotal: 298ms\tremaining: 33.2ms\n",
      "18:\tlearn: 7.9114897\ttotal: 312ms\tremaining: 16.4ms\n",
      "19:\tlearn: 7.8314772\ttotal: 332ms\tremaining: 0us\n",
      "Learning rate set to 0.5\n",
      "0:\tlearn: 10.5945102\ttotal: 25.2ms\tremaining: 479ms\n",
      "1:\tlearn: 9.6161128\ttotal: 45.2ms\tremaining: 406ms\n",
      "2:\tlearn: 9.1298232\ttotal: 60ms\tremaining: 340ms\n",
      "3:\tlearn: 8.8823226\ttotal: 74.1ms\tremaining: 296ms\n",
      "4:\tlearn: 8.7517179\ttotal: 89.5ms\tremaining: 269ms\n",
      "5:\tlearn: 8.6547296\ttotal: 107ms\tremaining: 251ms\n",
      "6:\tlearn: 8.4997127\ttotal: 122ms\tremaining: 226ms\n",
      "7:\tlearn: 8.3810961\ttotal: 136ms\tremaining: 203ms\n",
      "8:\tlearn: 8.2184501\ttotal: 149ms\tremaining: 182ms\n",
      "9:\tlearn: 8.1493917\ttotal: 162ms\tremaining: 162ms\n",
      "10:\tlearn: 8.0316246\ttotal: 176ms\tremaining: 144ms\n",
      "11:\tlearn: 7.9688092\ttotal: 193ms\tremaining: 129ms\n",
      "12:\tlearn: 7.7330983\ttotal: 207ms\tremaining: 112ms\n",
      "13:\tlearn: 7.6794173\ttotal: 221ms\tremaining: 94.8ms\n",
      "14:\tlearn: 7.5836485\ttotal: 235ms\tremaining: 78.2ms\n",
      "15:\tlearn: 7.5015671\ttotal: 248ms\tremaining: 62ms\n",
      "16:\tlearn: 7.4174060\ttotal: 261ms\tremaining: 46.1ms\n",
      "17:\tlearn: 7.2598582\ttotal: 278ms\tremaining: 30.9ms\n",
      "18:\tlearn: 7.1665039\ttotal: 296ms\tremaining: 15.6ms\n",
      "19:\tlearn: 7.0967787\ttotal: 308ms\tremaining: 0us\n",
      "Learning rate set to 0.5\n",
      "0:\tlearn: 13.5861206\ttotal: 14.4ms\tremaining: 273ms\n",
      "1:\tlearn: 12.8406981\ttotal: 28.4ms\tremaining: 255ms\n",
      "2:\tlearn: 12.0022286\ttotal: 41.6ms\tremaining: 236ms\n",
      "3:\tlearn: 11.6680153\ttotal: 55.4ms\tremaining: 221ms\n",
      "4:\tlearn: 11.3879194\ttotal: 74.9ms\tremaining: 225ms\n",
      "5:\tlearn: 11.0878671\ttotal: 89.3ms\tremaining: 208ms\n",
      "6:\tlearn: 10.9445046\ttotal: 102ms\tremaining: 190ms\n",
      "7:\tlearn: 10.8241020\ttotal: 116ms\tremaining: 174ms\n",
      "8:\tlearn: 10.5502670\ttotal: 130ms\tremaining: 159ms\n",
      "9:\tlearn: 10.4684765\ttotal: 143ms\tremaining: 143ms\n",
      "10:\tlearn: 10.4062631\ttotal: 159ms\tremaining: 130ms\n",
      "11:\tlearn: 10.2598760\ttotal: 176ms\tremaining: 117ms\n",
      "12:\tlearn: 10.1548376\ttotal: 190ms\tremaining: 102ms\n",
      "13:\tlearn: 10.0670440\ttotal: 204ms\tremaining: 87.5ms\n",
      "14:\tlearn: 10.0047447\ttotal: 219ms\tremaining: 73ms\n",
      "15:\tlearn: 9.7666931\ttotal: 234ms\tremaining: 58.6ms\n",
      "16:\tlearn: 9.7207360\ttotal: 251ms\tremaining: 44.3ms\n",
      "17:\tlearn: 9.5651778\ttotal: 270ms\tremaining: 30ms\n",
      "18:\tlearn: 9.4684331\ttotal: 283ms\tremaining: 14.9ms\n",
      "19:\tlearn: 9.4022844\ttotal: 297ms\tremaining: 0us\n",
      "Learning rate set to 0.5\n",
      "0:\tlearn: 12.8489503\ttotal: 14.7ms\tremaining: 279ms\n",
      "1:\tlearn: 11.9092583\ttotal: 29.5ms\tremaining: 266ms\n",
      "2:\tlearn: 11.4114480\ttotal: 43.7ms\tremaining: 248ms\n",
      "3:\tlearn: 11.1072347\ttotal: 58.1ms\tremaining: 232ms\n",
      "4:\tlearn: 10.8564425\ttotal: 74.1ms\tremaining: 222ms\n",
      "5:\tlearn: 10.5932305\ttotal: 91.7ms\tremaining: 214ms\n",
      "6:\tlearn: 10.3089773\ttotal: 106ms\tremaining: 198ms\n",
      "7:\tlearn: 10.1678376\ttotal: 122ms\tremaining: 183ms\n",
      "8:\tlearn: 10.0816695\ttotal: 137ms\tremaining: 167ms\n",
      "9:\tlearn: 9.9629774\ttotal: 153ms\tremaining: 153ms\n",
      "10:\tlearn: 9.8802093\ttotal: 170ms\tremaining: 139ms\n",
      "11:\tlearn: 9.8143474\ttotal: 189ms\tremaining: 126ms\n",
      "12:\tlearn: 9.7185452\ttotal: 205ms\tremaining: 111ms\n",
      "13:\tlearn: 9.4401048\ttotal: 222ms\tremaining: 95ms\n",
      "14:\tlearn: 9.3810487\ttotal: 237ms\tremaining: 79ms\n",
      "15:\tlearn: 9.2760360\ttotal: 253ms\tremaining: 63.3ms\n",
      "16:\tlearn: 9.2016605\ttotal: 274ms\tremaining: 48.3ms\n",
      "17:\tlearn: 9.0933588\ttotal: 291ms\tremaining: 32.4ms\n",
      "18:\tlearn: 9.0536779\ttotal: 307ms\tremaining: 16.1ms\n",
      "19:\tlearn: 9.0150206\ttotal: 322ms\tremaining: 0us\n",
      "Learning rate set to 0.5\n",
      "0:\tlearn: 13.1063006\ttotal: 15.6ms\tremaining: 297ms\n",
      "1:\tlearn: 12.1739625\ttotal: 29.6ms\tremaining: 267ms\n",
      "2:\tlearn: 11.7090153\ttotal: 45.7ms\tremaining: 259ms\n",
      "3:\tlearn: 11.1662386\ttotal: 62.4ms\tremaining: 250ms\n",
      "4:\tlearn: 10.9234154\ttotal: 76.5ms\tremaining: 230ms\n",
      "5:\tlearn: 10.5166458\ttotal: 90.2ms\tremaining: 211ms\n",
      "6:\tlearn: 10.3265253\ttotal: 104ms\tremaining: 193ms\n",
      "7:\tlearn: 10.1441671\ttotal: 118ms\tremaining: 177ms\n",
      "8:\tlearn: 10.0269668\ttotal: 132ms\tremaining: 161ms\n",
      "9:\tlearn: 9.7779396\ttotal: 161ms\tremaining: 161ms\n",
      "10:\tlearn: 9.6620172\ttotal: 175ms\tremaining: 144ms\n",
      "11:\tlearn: 9.5651596\ttotal: 189ms\tremaining: 126ms\n",
      "12:\tlearn: 9.4810158\ttotal: 203ms\tremaining: 109ms\n",
      "13:\tlearn: 9.3172012\ttotal: 216ms\tremaining: 92.7ms\n",
      "14:\tlearn: 9.2150432\ttotal: 230ms\tremaining: 76.7ms\n",
      "15:\tlearn: 9.0903173\ttotal: 248ms\tremaining: 62.1ms\n",
      "16:\tlearn: 8.9386778\ttotal: 262ms\tremaining: 46.3ms\n",
      "17:\tlearn: 8.8776954\ttotal: 276ms\tremaining: 30.6ms\n",
      "18:\tlearn: 8.8201526\ttotal: 289ms\tremaining: 15.2ms\n",
      "19:\tlearn: 8.7301111\ttotal: 302ms\tremaining: 0us\n",
      "Learning rate set to 0.5\n",
      "0:\tlearn: 13.4759159\ttotal: 24ms\tremaining: 455ms\n",
      "1:\tlearn: 12.5991285\ttotal: 44.4ms\tremaining: 400ms\n",
      "2:\tlearn: 12.0287583\ttotal: 59.4ms\tremaining: 336ms\n",
      "3:\tlearn: 11.7769210\ttotal: 73.7ms\tremaining: 295ms\n",
      "4:\tlearn: 11.2584222\ttotal: 87.9ms\tremaining: 264ms\n",
      "5:\tlearn: 11.0896650\ttotal: 103ms\tremaining: 241ms\n",
      "6:\tlearn: 10.8813953\ttotal: 118ms\tremaining: 220ms\n",
      "7:\tlearn: 10.7276213\ttotal: 133ms\tremaining: 200ms\n",
      "8:\tlearn: 10.6333599\ttotal: 147ms\tremaining: 180ms\n",
      "9:\tlearn: 10.3470584\ttotal: 162ms\tremaining: 162ms\n",
      "10:\tlearn: 10.2231731\ttotal: 179ms\tremaining: 147ms\n",
      "11:\tlearn: 10.1144732\ttotal: 195ms\tremaining: 130ms\n",
      "12:\tlearn: 10.0151032\ttotal: 212ms\tremaining: 114ms\n",
      "13:\tlearn: 9.9098748\ttotal: 229ms\tremaining: 98ms\n",
      "14:\tlearn: 9.8510302\ttotal: 244ms\tremaining: 81.2ms\n",
      "15:\tlearn: 9.7939266\ttotal: 257ms\tremaining: 64.3ms\n",
      "16:\tlearn: 9.5998052\ttotal: 273ms\tremaining: 48.2ms\n",
      "17:\tlearn: 9.5563782\ttotal: 287ms\tremaining: 31.9ms\n",
      "18:\tlearn: 9.3857352\ttotal: 301ms\tremaining: 15.8ms\n",
      "19:\tlearn: 9.3246282\ttotal: 319ms\tremaining: 0us\n",
      "Learning rate set to 0.5\n",
      "0:\tlearn: 11.8303056\ttotal: 27.3ms\tremaining: 518ms\n",
      "1:\tlearn: 10.7984808\ttotal: 50.5ms\tremaining: 454ms\n",
      "2:\tlearn: 10.4453867\ttotal: 65ms\tremaining: 368ms\n",
      "3:\tlearn: 9.9816755\ttotal: 79ms\tremaining: 316ms\n",
      "4:\tlearn: 9.7821255\ttotal: 93ms\tremaining: 279ms\n",
      "5:\tlearn: 9.6386285\ttotal: 107ms\tremaining: 250ms\n",
      "6:\tlearn: 9.3630766\ttotal: 124ms\tremaining: 231ms\n",
      "7:\tlearn: 9.2600017\ttotal: 139ms\tremaining: 208ms\n",
      "8:\tlearn: 9.1323677\ttotal: 152ms\tremaining: 186ms\n",
      "9:\tlearn: 8.8731313\ttotal: 166ms\tremaining: 166ms\n",
      "10:\tlearn: 8.8134746\ttotal: 179ms\tremaining: 147ms\n",
      "11:\tlearn: 8.5514508\ttotal: 193ms\tremaining: 128ms\n",
      "12:\tlearn: 8.4396938\ttotal: 208ms\tremaining: 112ms\n",
      "13:\tlearn: 8.3109737\ttotal: 225ms\tremaining: 96.4ms\n",
      "14:\tlearn: 8.2001094\ttotal: 239ms\tremaining: 79.8ms\n",
      "15:\tlearn: 8.1549536\ttotal: 253ms\tremaining: 63.4ms\n",
      "16:\tlearn: 8.0922361\ttotal: 267ms\tremaining: 47.1ms\n",
      "17:\tlearn: 7.9839866\ttotal: 281ms\tremaining: 31.2ms\n",
      "18:\tlearn: 7.9114897\ttotal: 296ms\tremaining: 15.6ms\n",
      "19:\tlearn: 7.8314772\ttotal: 313ms\tremaining: 0us\n",
      "Learning rate set to 0.5\n",
      "0:\tlearn: 10.5945102\ttotal: 24ms\tremaining: 457ms\n",
      "1:\tlearn: 9.6161128\ttotal: 47.7ms\tremaining: 429ms\n",
      "2:\tlearn: 9.1298232\ttotal: 70.6ms\tremaining: 400ms\n",
      "3:\tlearn: 8.8823226\ttotal: 84.8ms\tremaining: 339ms\n",
      "4:\tlearn: 8.7517179\ttotal: 98.4ms\tremaining: 295ms\n",
      "5:\tlearn: 8.6547296\ttotal: 115ms\tremaining: 269ms\n",
      "6:\tlearn: 8.4997127\ttotal: 129ms\tremaining: 240ms\n",
      "7:\tlearn: 8.3810961\ttotal: 148ms\tremaining: 222ms\n",
      "8:\tlearn: 8.2184501\ttotal: 163ms\tremaining: 199ms\n",
      "9:\tlearn: 8.1493917\ttotal: 176ms\tremaining: 176ms\n",
      "10:\tlearn: 8.0316246\ttotal: 191ms\tremaining: 156ms\n",
      "11:\tlearn: 7.9688092\ttotal: 208ms\tremaining: 138ms\n",
      "12:\tlearn: 7.7330983\ttotal: 227ms\tremaining: 122ms\n",
      "13:\tlearn: 7.6794173\ttotal: 245ms\tremaining: 105ms\n",
      "14:\tlearn: 7.5836485\ttotal: 259ms\tremaining: 86.4ms\n",
      "15:\tlearn: 7.5015671\ttotal: 275ms\tremaining: 68.7ms\n",
      "16:\tlearn: 7.4174060\ttotal: 290ms\tremaining: 51.1ms\n",
      "17:\tlearn: 7.2598582\ttotal: 303ms\tremaining: 33.7ms\n",
      "18:\tlearn: 7.1665039\ttotal: 316ms\tremaining: 16.6ms\n",
      "19:\tlearn: 7.0967787\ttotal: 334ms\tremaining: 0us\n",
      "Learning rate set to 0.5\n",
      "0:\tlearn: 13.5861206\ttotal: 18.6ms\tremaining: 354ms\n",
      "1:\tlearn: 12.8406981\ttotal: 33ms\tremaining: 297ms\n",
      "2:\tlearn: 12.0022286\ttotal: 46.7ms\tremaining: 264ms\n",
      "3:\tlearn: 11.6680153\ttotal: 60.8ms\tremaining: 243ms\n",
      "4:\tlearn: 11.3879194\ttotal: 74.8ms\tremaining: 224ms\n",
      "5:\tlearn: 11.0878671\ttotal: 89ms\tremaining: 208ms\n",
      "6:\tlearn: 10.9445046\ttotal: 103ms\tremaining: 191ms\n",
      "7:\tlearn: 10.8241020\ttotal: 124ms\tremaining: 186ms\n",
      "8:\tlearn: 10.5502670\ttotal: 139ms\tremaining: 169ms\n",
      "9:\tlearn: 10.4684765\ttotal: 152ms\tremaining: 152ms\n",
      "10:\tlearn: 10.4062631\ttotal: 166ms\tremaining: 136ms\n",
      "11:\tlearn: 10.2598760\ttotal: 180ms\tremaining: 120ms\n",
      "12:\tlearn: 10.1548376\ttotal: 194ms\tremaining: 105ms\n",
      "13:\tlearn: 10.0670440\ttotal: 215ms\tremaining: 92.3ms\n",
      "14:\tlearn: 10.0047447\ttotal: 232ms\tremaining: 77.4ms\n",
      "15:\tlearn: 9.7666931\ttotal: 248ms\tremaining: 62ms\n",
      "16:\tlearn: 9.7207360\ttotal: 262ms\tremaining: 46.3ms\n",
      "17:\tlearn: 9.5651778\ttotal: 277ms\tremaining: 30.8ms\n",
      "18:\tlearn: 9.4684331\ttotal: 291ms\tremaining: 15.3ms\n",
      "19:\tlearn: 9.4022844\ttotal: 311ms\tremaining: 0us\n"
     ]
    },
    {
     "data": {
      "text/plain": [
       "-11.959612553214736"
      ]
     },
     "execution_count": 34,
     "metadata": {},
     "output_type": "execute_result"
    }
   ],
   "source": [
    "#находим лучшую модель для эффективности обогащения чернового концентрата\n",
    "model_cb_rougher = CatBoostRegressor(random_state=12345)\n",
    "\n",
    "#подбираем лучшие гиперпараметры\n",
    "param = {'depth': range(1,15,1),\n",
    "         'iterations': range(10,100,10)}\n",
    "grid = RandomizedSearchCV(model_cb_rougher, param, n_iter=3)\n",
    "grid.fit(features_train, target_train_rougher)\n",
    "best_model_cb_rougher = grid.best_estimator_\n",
    "\n",
    "cross_val_score(best_model_cb_rougher, features_train, target_train_rougher, scoring=smape_scorer).mean()"
   ]
  },
  {
   "cell_type": "code",
   "execution_count": 35,
   "metadata": {},
   "outputs": [
    {
     "name": "stdout",
     "output_type": "stream",
     "text": [
      "Learning rate set to 0.5\n",
      "0:\tlearn: 8.6306246\ttotal: 304ms\tremaining: 21s\n",
      "1:\tlearn: 7.8546815\ttotal: 597ms\tremaining: 20.3s\n",
      "2:\tlearn: 7.3655359\ttotal: 866ms\tremaining: 19.3s\n",
      "3:\tlearn: 7.0366781\ttotal: 1.15s\tremaining: 19s\n",
      "4:\tlearn: 6.7954802\ttotal: 1.49s\tremaining: 19.3s\n",
      "5:\tlearn: 6.5038113\ttotal: 1.82s\tremaining: 19.4s\n",
      "6:\tlearn: 6.2949680\ttotal: 2.13s\tremaining: 19.2s\n",
      "7:\tlearn: 6.1529740\ttotal: 2.42s\tremaining: 18.7s\n",
      "8:\tlearn: 6.0225233\ttotal: 2.76s\tremaining: 18.7s\n",
      "9:\tlearn: 5.9004054\ttotal: 3.03s\tremaining: 18.2s\n",
      "10:\tlearn: 5.7915607\ttotal: 3.3s\tremaining: 17.7s\n",
      "11:\tlearn: 5.6619606\ttotal: 3.57s\tremaining: 17.3s\n",
      "12:\tlearn: 5.5095034\ttotal: 3.85s\tremaining: 16.9s\n",
      "13:\tlearn: 5.4270086\ttotal: 4.11s\tremaining: 16.4s\n",
      "14:\tlearn: 5.2880797\ttotal: 4.38s\tremaining: 16.1s\n",
      "15:\tlearn: 5.1718809\ttotal: 4.65s\tremaining: 15.7s\n",
      "16:\tlearn: 5.0799280\ttotal: 4.9s\tremaining: 15.3s\n",
      "17:\tlearn: 4.9352744\ttotal: 5.17s\tremaining: 14.9s\n",
      "18:\tlearn: 4.8761134\ttotal: 5.45s\tremaining: 14.6s\n",
      "19:\tlearn: 4.7678903\ttotal: 5.73s\tremaining: 14.3s\n",
      "20:\tlearn: 4.7053858\ttotal: 5.99s\tremaining: 14s\n",
      "21:\tlearn: 4.6200964\ttotal: 6.27s\tremaining: 13.7s\n",
      "22:\tlearn: 4.5400255\ttotal: 6.55s\tremaining: 13.4s\n",
      "23:\tlearn: 4.4315276\ttotal: 6.82s\tremaining: 13.1s\n",
      "24:\tlearn: 4.3643552\ttotal: 7.08s\tremaining: 12.8s\n",
      "25:\tlearn: 4.2901857\ttotal: 7.36s\tremaining: 12.5s\n",
      "26:\tlearn: 4.2426417\ttotal: 7.63s\tremaining: 12.1s\n",
      "27:\tlearn: 4.1639793\ttotal: 7.91s\tremaining: 11.9s\n",
      "28:\tlearn: 4.1085342\ttotal: 8.18s\tremaining: 11.6s\n",
      "29:\tlearn: 4.0553783\ttotal: 8.48s\tremaining: 11.3s\n",
      "30:\tlearn: 3.9840760\ttotal: 8.75s\tremaining: 11s\n",
      "31:\tlearn: 3.9036486\ttotal: 9.05s\tremaining: 10.8s\n",
      "32:\tlearn: 3.8738453\ttotal: 9.35s\tremaining: 10.5s\n",
      "33:\tlearn: 3.8264178\ttotal: 9.63s\tremaining: 10.2s\n",
      "34:\tlearn: 3.7272613\ttotal: 9.95s\tremaining: 9.95s\n",
      "35:\tlearn: 3.6957939\ttotal: 10.2s\tremaining: 9.63s\n",
      "36:\tlearn: 3.6217395\ttotal: 10.5s\tremaining: 9.32s\n",
      "37:\tlearn: 3.5875898\ttotal: 10.7s\tremaining: 9.02s\n",
      "38:\tlearn: 3.5230937\ttotal: 11s\tremaining: 8.71s\n",
      "39:\tlearn: 3.4654320\ttotal: 11.2s\tremaining: 8.43s\n",
      "40:\tlearn: 3.4185263\ttotal: 11.6s\tremaining: 8.18s\n",
      "41:\tlearn: 3.3739394\ttotal: 11.8s\tremaining: 7.88s\n",
      "42:\tlearn: 3.3402431\ttotal: 12.1s\tremaining: 7.58s\n",
      "43:\tlearn: 3.2601246\ttotal: 12.3s\tremaining: 7.28s\n",
      "44:\tlearn: 3.2090300\ttotal: 12.6s\tremaining: 6.99s\n",
      "45:\tlearn: 3.1510776\ttotal: 12.8s\tremaining: 6.7s\n",
      "46:\tlearn: 3.1150418\ttotal: 13.1s\tremaining: 6.43s\n",
      "47:\tlearn: 3.0576855\ttotal: 13.4s\tremaining: 6.14s\n",
      "48:\tlearn: 3.0029503\ttotal: 13.7s\tremaining: 5.86s\n",
      "49:\tlearn: 2.9576166\ttotal: 13.9s\tremaining: 5.57s\n",
      "50:\tlearn: 2.9255925\ttotal: 14.2s\tremaining: 5.28s\n",
      "51:\tlearn: 2.9034440\ttotal: 14.4s\tremaining: 4.99s\n",
      "52:\tlearn: 2.8674972\ttotal: 14.7s\tremaining: 4.71s\n",
      "53:\tlearn: 2.8386623\ttotal: 14.9s\tremaining: 4.43s\n",
      "54:\tlearn: 2.8156251\ttotal: 15.2s\tremaining: 4.15s\n",
      "55:\tlearn: 2.7613566\ttotal: 15.5s\tremaining: 3.87s\n",
      "56:\tlearn: 2.7023363\ttotal: 15.7s\tremaining: 3.59s\n",
      "57:\tlearn: 2.6384448\ttotal: 16s\tremaining: 3.31s\n",
      "58:\tlearn: 2.6031926\ttotal: 16.2s\tremaining: 3.03s\n",
      "59:\tlearn: 2.5788420\ttotal: 16.5s\tremaining: 2.75s\n",
      "60:\tlearn: 2.5508913\ttotal: 16.8s\tremaining: 2.48s\n",
      "61:\tlearn: 2.5051453\ttotal: 17s\tremaining: 2.2s\n",
      "62:\tlearn: 2.4670947\ttotal: 17.3s\tremaining: 1.92s\n",
      "63:\tlearn: 2.4272307\ttotal: 17.5s\tremaining: 1.65s\n",
      "64:\tlearn: 2.3996717\ttotal: 17.8s\tremaining: 1.37s\n",
      "65:\tlearn: 2.3641784\ttotal: 18.1s\tremaining: 1.09s\n",
      "66:\tlearn: 2.3292339\ttotal: 18.3s\tremaining: 820ms\n",
      "67:\tlearn: 2.2824702\ttotal: 18.6s\tremaining: 547ms\n",
      "68:\tlearn: 2.2443411\ttotal: 18.9s\tremaining: 273ms\n",
      "69:\tlearn: 2.2292881\ttotal: 19.2s\tremaining: 0us\n",
      "Learning rate set to 0.5\n",
      "0:\tlearn: 8.7461555\ttotal: 255ms\tremaining: 17.6s\n",
      "1:\tlearn: 7.8426246\ttotal: 515ms\tremaining: 17.5s\n",
      "2:\tlearn: 7.2805134\ttotal: 778ms\tremaining: 17.4s\n",
      "3:\tlearn: 6.9457599\ttotal: 1.07s\tremaining: 17.6s\n",
      "4:\tlearn: 6.6917271\ttotal: 1.39s\tremaining: 18s\n",
      "5:\tlearn: 6.4486033\ttotal: 1.68s\tremaining: 17.9s\n",
      "6:\tlearn: 6.3055344\ttotal: 1.93s\tremaining: 17.3s\n",
      "7:\tlearn: 6.1405513\ttotal: 2.18s\tremaining: 16.9s\n",
      "8:\tlearn: 5.9872235\ttotal: 2.42s\tremaining: 16.4s\n",
      "9:\tlearn: 5.8336968\ttotal: 2.69s\tremaining: 16.1s\n",
      "10:\tlearn: 5.6992210\ttotal: 2.96s\tremaining: 15.9s\n",
      "11:\tlearn: 5.6015925\ttotal: 3.22s\tremaining: 15.6s\n",
      "12:\tlearn: 5.4921320\ttotal: 3.48s\tremaining: 15.3s\n",
      "13:\tlearn: 5.3971399\ttotal: 3.74s\tremaining: 15s\n",
      "14:\tlearn: 5.2401693\ttotal: 4s\tremaining: 14.7s\n",
      "15:\tlearn: 5.0973960\ttotal: 4.27s\tremaining: 14.4s\n",
      "16:\tlearn: 5.0110756\ttotal: 4.52s\tremaining: 14.1s\n",
      "17:\tlearn: 4.9487330\ttotal: 4.78s\tremaining: 13.8s\n",
      "18:\tlearn: 4.8757480\ttotal: 5.04s\tremaining: 13.5s\n",
      "19:\tlearn: 4.7849261\ttotal: 5.29s\tremaining: 13.2s\n",
      "20:\tlearn: 4.6873904\ttotal: 5.55s\tremaining: 12.9s\n",
      "21:\tlearn: 4.6348711\ttotal: 5.79s\tremaining: 12.6s\n",
      "22:\tlearn: 4.5520676\ttotal: 6.06s\tremaining: 12.4s\n",
      "23:\tlearn: 4.4936393\ttotal: 6.31s\tremaining: 12.1s\n",
      "24:\tlearn: 4.4166948\ttotal: 6.58s\tremaining: 11.8s\n",
      "25:\tlearn: 4.3457546\ttotal: 6.83s\tremaining: 11.6s\n",
      "26:\tlearn: 4.2520441\ttotal: 7.09s\tremaining: 11.3s\n",
      "27:\tlearn: 4.1773292\ttotal: 7.35s\tremaining: 11s\n",
      "28:\tlearn: 4.0986795\ttotal: 7.59s\tremaining: 10.7s\n",
      "29:\tlearn: 4.0636311\ttotal: 7.85s\tremaining: 10.5s\n",
      "30:\tlearn: 3.9972817\ttotal: 8.13s\tremaining: 10.2s\n",
      "31:\tlearn: 3.9416719\ttotal: 8.44s\tremaining: 10s\n",
      "32:\tlearn: 3.9010851\ttotal: 8.76s\tremaining: 9.82s\n",
      "33:\tlearn: 3.8470830\ttotal: 9.03s\tremaining: 9.56s\n",
      "34:\tlearn: 3.7306362\ttotal: 9.29s\tremaining: 9.29s\n",
      "35:\tlearn: 3.6844831\ttotal: 9.55s\tremaining: 9.02s\n",
      "36:\tlearn: 3.6419384\ttotal: 9.81s\tremaining: 8.75s\n",
      "37:\tlearn: 3.5945018\ttotal: 10.1s\tremaining: 8.51s\n",
      "38:\tlearn: 3.5684500\ttotal: 10.4s\tremaining: 8.23s\n",
      "39:\tlearn: 3.5205716\ttotal: 10.6s\tremaining: 7.95s\n",
      "40:\tlearn: 3.4836811\ttotal: 10.9s\tremaining: 7.7s\n",
      "41:\tlearn: 3.4237096\ttotal: 11.2s\tremaining: 7.46s\n",
      "42:\tlearn: 3.3773238\ttotal: 11.5s\tremaining: 7.19s\n",
      "43:\tlearn: 3.3155476\ttotal: 11.7s\tremaining: 6.92s\n",
      "44:\tlearn: 3.2822958\ttotal: 12s\tremaining: 6.65s\n",
      "45:\tlearn: 3.2420565\ttotal: 12.2s\tremaining: 6.38s\n",
      "46:\tlearn: 3.2069058\ttotal: 12.6s\tremaining: 6.15s\n",
      "47:\tlearn: 3.1761013\ttotal: 12.9s\tremaining: 5.92s\n",
      "48:\tlearn: 3.1565230\ttotal: 13.2s\tremaining: 5.65s\n",
      "49:\tlearn: 3.1161692\ttotal: 13.5s\tremaining: 5.39s\n",
      "50:\tlearn: 3.0763094\ttotal: 13.7s\tremaining: 5.12s\n",
      "51:\tlearn: 3.0219221\ttotal: 14s\tremaining: 4.84s\n",
      "52:\tlearn: 2.9847301\ttotal: 14.2s\tremaining: 4.57s\n",
      "53:\tlearn: 2.9528499\ttotal: 14.5s\tremaining: 4.3s\n",
      "54:\tlearn: 2.9105545\ttotal: 14.8s\tremaining: 4.03s\n",
      "55:\tlearn: 2.8472854\ttotal: 15s\tremaining: 3.76s\n",
      "56:\tlearn: 2.8146470\ttotal: 15.3s\tremaining: 3.48s\n",
      "57:\tlearn: 2.7723747\ttotal: 15.5s\tremaining: 3.21s\n",
      "58:\tlearn: 2.7565239\ttotal: 15.8s\tremaining: 2.94s\n",
      "59:\tlearn: 2.7070082\ttotal: 16s\tremaining: 2.67s\n",
      "60:\tlearn: 2.6587730\ttotal: 16.3s\tremaining: 2.4s\n",
      "61:\tlearn: 2.6099103\ttotal: 16.5s\tremaining: 2.13s\n",
      "62:\tlearn: 2.5752331\ttotal: 16.8s\tremaining: 1.87s\n",
      "63:\tlearn: 2.5296934\ttotal: 17.1s\tremaining: 1.6s\n",
      "64:\tlearn: 2.4856002\ttotal: 17.3s\tremaining: 1.33s\n",
      "65:\tlearn: 2.4280427\ttotal: 17.6s\tremaining: 1.06s\n",
      "66:\tlearn: 2.3978560\ttotal: 17.8s\tremaining: 798ms\n",
      "67:\tlearn: 2.3673965\ttotal: 18.1s\tremaining: 531ms\n",
      "68:\tlearn: 2.3273754\ttotal: 18.4s\tremaining: 266ms\n",
      "69:\tlearn: 2.2865645\ttotal: 18.7s\tremaining: 0us\n",
      "Learning rate set to 0.5\n",
      "0:\tlearn: 8.5440261\ttotal: 253ms\tremaining: 17.5s\n",
      "1:\tlearn: 7.7500432\ttotal: 506ms\tremaining: 17.2s\n",
      "2:\tlearn: 7.1459645\ttotal: 752ms\tremaining: 16.8s\n",
      "3:\tlearn: 6.7917539\ttotal: 1.04s\tremaining: 17.2s\n",
      "4:\tlearn: 6.5230446\ttotal: 1.37s\tremaining: 17.8s\n",
      "5:\tlearn: 6.2681615\ttotal: 1.63s\tremaining: 17.4s\n",
      "6:\tlearn: 6.0777514\ttotal: 1.88s\tremaining: 16.9s\n",
      "7:\tlearn: 5.9511671\ttotal: 2.14s\tremaining: 16.6s\n",
      "8:\tlearn: 5.7828791\ttotal: 2.4s\tremaining: 16.3s\n",
      "9:\tlearn: 5.6550926\ttotal: 2.67s\tremaining: 16s\n",
      "10:\tlearn: 5.5287886\ttotal: 2.93s\tremaining: 15.7s\n",
      "11:\tlearn: 5.4208551\ttotal: 3.19s\tremaining: 15.4s\n",
      "12:\tlearn: 5.3267171\ttotal: 3.45s\tremaining: 15.1s\n",
      "13:\tlearn: 5.1728482\ttotal: 3.73s\tremaining: 14.9s\n",
      "14:\tlearn: 5.0543411\ttotal: 4s\tremaining: 14.7s\n",
      "15:\tlearn: 4.9139323\ttotal: 4.26s\tremaining: 14.4s\n",
      "16:\tlearn: 4.8000393\ttotal: 4.53s\tremaining: 14.1s\n",
      "17:\tlearn: 4.7390212\ttotal: 4.79s\tremaining: 13.8s\n",
      "18:\tlearn: 4.6116454\ttotal: 5.06s\tremaining: 13.6s\n",
      "19:\tlearn: 4.5407348\ttotal: 5.33s\tremaining: 13.3s\n",
      "20:\tlearn: 4.4450005\ttotal: 5.59s\tremaining: 13s\n",
      "21:\tlearn: 4.3756111\ttotal: 5.84s\tremaining: 12.7s\n",
      "22:\tlearn: 4.2794885\ttotal: 6.11s\tremaining: 12.5s\n",
      "23:\tlearn: 4.2350629\ttotal: 6.36s\tremaining: 12.2s\n",
      "24:\tlearn: 4.1840236\ttotal: 6.62s\tremaining: 11.9s\n",
      "25:\tlearn: 4.0551140\ttotal: 6.89s\tremaining: 11.7s\n",
      "26:\tlearn: 3.9978655\ttotal: 7.17s\tremaining: 11.4s\n",
      "27:\tlearn: 3.9471259\ttotal: 7.42s\tremaining: 11.1s\n",
      "28:\tlearn: 3.9078827\ttotal: 7.68s\tremaining: 10.9s\n",
      "29:\tlearn: 3.8708130\ttotal: 7.94s\tremaining: 10.6s\n",
      "30:\tlearn: 3.8431698\ttotal: 8.2s\tremaining: 10.3s\n",
      "31:\tlearn: 3.7963001\ttotal: 8.47s\tremaining: 10.1s\n",
      "32:\tlearn: 3.7046893\ttotal: 8.74s\tremaining: 9.8s\n",
      "33:\tlearn: 3.6314540\ttotal: 9.03s\tremaining: 9.56s\n",
      "34:\tlearn: 3.5503236\ttotal: 9.28s\tremaining: 9.28s\n",
      "35:\tlearn: 3.4895188\ttotal: 9.53s\tremaining: 9s\n",
      "36:\tlearn: 3.4408030\ttotal: 9.8s\tremaining: 8.74s\n",
      "37:\tlearn: 3.4068283\ttotal: 10.1s\tremaining: 8.46s\n",
      "38:\tlearn: 3.3647079\ttotal: 10.3s\tremaining: 8.19s\n",
      "39:\tlearn: 3.3166863\ttotal: 10.5s\tremaining: 7.91s\n",
      "40:\tlearn: 3.2654736\ttotal: 10.8s\tremaining: 7.65s\n",
      "41:\tlearn: 3.1955125\ttotal: 11.1s\tremaining: 7.42s\n",
      "42:\tlearn: 3.1480901\ttotal: 11.4s\tremaining: 7.16s\n",
      "43:\tlearn: 3.1317557\ttotal: 11.7s\tremaining: 6.9s\n",
      "44:\tlearn: 3.0712496\ttotal: 11.9s\tremaining: 6.62s\n",
      "45:\tlearn: 3.0186932\ttotal: 12.2s\tremaining: 6.35s\n",
      "46:\tlearn: 2.9751714\ttotal: 12.4s\tremaining: 6.08s\n",
      "47:\tlearn: 2.9319176\ttotal: 12.7s\tremaining: 5.82s\n",
      "48:\tlearn: 2.8872518\ttotal: 13s\tremaining: 5.56s\n",
      "49:\tlearn: 2.8494777\ttotal: 13.2s\tremaining: 5.29s\n",
      "50:\tlearn: 2.8080027\ttotal: 13.5s\tremaining: 5.03s\n",
      "51:\tlearn: 2.7759287\ttotal: 13.8s\tremaining: 4.77s\n",
      "52:\tlearn: 2.7491831\ttotal: 14.1s\tremaining: 4.51s\n",
      "53:\tlearn: 2.7142567\ttotal: 14.3s\tremaining: 4.25s\n",
      "54:\tlearn: 2.6866505\ttotal: 14.6s\tremaining: 3.99s\n",
      "55:\tlearn: 2.6501360\ttotal: 14.9s\tremaining: 3.72s\n",
      "56:\tlearn: 2.5922197\ttotal: 15.2s\tremaining: 3.46s\n",
      "57:\tlearn: 2.5352206\ttotal: 15.4s\tremaining: 3.2s\n",
      "58:\tlearn: 2.4904068\ttotal: 15.7s\tremaining: 2.93s\n",
      "59:\tlearn: 2.4417871\ttotal: 16s\tremaining: 2.66s\n",
      "60:\tlearn: 2.4129262\ttotal: 16.2s\tremaining: 2.39s\n",
      "61:\tlearn: 2.3801862\ttotal: 16.5s\tremaining: 2.13s\n",
      "62:\tlearn: 2.3417100\ttotal: 16.7s\tremaining: 1.86s\n",
      "63:\tlearn: 2.3041670\ttotal: 17s\tremaining: 1.59s\n",
      "64:\tlearn: 2.2804693\ttotal: 17.3s\tremaining: 1.33s\n",
      "65:\tlearn: 2.2539066\ttotal: 17.5s\tremaining: 1.06s\n",
      "66:\tlearn: 2.2002725\ttotal: 17.8s\tremaining: 796ms\n",
      "67:\tlearn: 2.1765662\ttotal: 18.1s\tremaining: 533ms\n",
      "68:\tlearn: 2.1523831\ttotal: 18.4s\tremaining: 266ms\n",
      "69:\tlearn: 2.1279316\ttotal: 18.6s\tremaining: 0us\n",
      "Learning rate set to 0.5\n",
      "0:\tlearn: 8.6364248\ttotal: 268ms\tremaining: 18.5s\n",
      "1:\tlearn: 7.8805424\ttotal: 547ms\tremaining: 18.6s\n",
      "2:\tlearn: 7.3857241\ttotal: 796ms\tremaining: 17.8s\n",
      "3:\tlearn: 7.1159770\ttotal: 1.05s\tremaining: 17.4s\n",
      "4:\tlearn: 6.8461315\ttotal: 1.32s\tremaining: 17.2s\n",
      "5:\tlearn: 6.6646694\ttotal: 1.64s\tremaining: 17.5s\n",
      "6:\tlearn: 6.4982452\ttotal: 1.92s\tremaining: 17.3s\n",
      "7:\tlearn: 6.2872091\ttotal: 2.19s\tremaining: 16.9s\n",
      "8:\tlearn: 6.1032178\ttotal: 2.45s\tremaining: 16.6s\n",
      "9:\tlearn: 5.9317056\ttotal: 2.71s\tremaining: 16.2s\n",
      "10:\tlearn: 5.8064579\ttotal: 3.07s\tremaining: 16.5s\n",
      "11:\tlearn: 5.7001107\ttotal: 3.36s\tremaining: 16.2s\n",
      "12:\tlearn: 5.5441538\ttotal: 3.63s\tremaining: 15.9s\n",
      "13:\tlearn: 5.4561073\ttotal: 3.9s\tremaining: 15.6s\n",
      "14:\tlearn: 5.3082271\ttotal: 4.17s\tremaining: 15.3s\n",
      "15:\tlearn: 5.2101415\ttotal: 4.45s\tremaining: 15s\n",
      "16:\tlearn: 5.1391988\ttotal: 4.73s\tremaining: 14.8s\n",
      "17:\tlearn: 5.0328549\ttotal: 5.01s\tremaining: 14.5s\n",
      "18:\tlearn: 4.9444963\ttotal: 5.27s\tremaining: 14.1s\n",
      "19:\tlearn: 4.8765927\ttotal: 5.53s\tremaining: 13.8s\n",
      "20:\tlearn: 4.8002239\ttotal: 5.79s\tremaining: 13.5s\n",
      "21:\tlearn: 4.7451657\ttotal: 6.05s\tremaining: 13.2s\n",
      "22:\tlearn: 4.6833641\ttotal: 6.31s\tremaining: 12.9s\n",
      "23:\tlearn: 4.6219564\ttotal: 6.56s\tremaining: 12.6s\n",
      "24:\tlearn: 4.5157622\ttotal: 6.84s\tremaining: 12.3s\n",
      "25:\tlearn: 4.4397441\ttotal: 7.11s\tremaining: 12s\n",
      "26:\tlearn: 4.3659400\ttotal: 7.36s\tremaining: 11.7s\n",
      "27:\tlearn: 4.3078017\ttotal: 7.62s\tremaining: 11.4s\n",
      "28:\tlearn: 4.2183584\ttotal: 7.88s\tremaining: 11.1s\n",
      "29:\tlearn: 4.1177060\ttotal: 8.14s\tremaining: 10.9s\n",
      "30:\tlearn: 4.0360576\ttotal: 8.39s\tremaining: 10.6s\n",
      "31:\tlearn: 4.0054610\ttotal: 8.64s\tremaining: 10.3s\n",
      "32:\tlearn: 3.9708449\ttotal: 8.9s\tremaining: 9.98s\n",
      "33:\tlearn: 3.8966834\ttotal: 9.18s\tremaining: 9.72s\n",
      "34:\tlearn: 3.8247077\ttotal: 9.46s\tremaining: 9.46s\n",
      "35:\tlearn: 3.7778789\ttotal: 9.73s\tremaining: 9.19s\n",
      "36:\tlearn: 3.7138647\ttotal: 10s\tremaining: 8.92s\n",
      "37:\tlearn: 3.6489107\ttotal: 10.3s\tremaining: 8.64s\n",
      "38:\tlearn: 3.6133500\ttotal: 10.5s\tremaining: 8.38s\n",
      "39:\tlearn: 3.5667766\ttotal: 10.8s\tremaining: 8.1s\n",
      "40:\tlearn: 3.5127482\ttotal: 11.1s\tremaining: 7.82s\n",
      "41:\tlearn: 3.4716821\ttotal: 11.3s\tremaining: 7.55s\n",
      "42:\tlearn: 3.4000422\ttotal: 11.6s\tremaining: 7.3s\n",
      "43:\tlearn: 3.3713756\ttotal: 11.9s\tremaining: 7.06s\n",
      "44:\tlearn: 3.3131989\ttotal: 12.2s\tremaining: 6.8s\n",
      "45:\tlearn: 3.2761070\ttotal: 12.5s\tremaining: 6.54s\n",
      "46:\tlearn: 3.2394117\ttotal: 12.8s\tremaining: 6.28s\n",
      "47:\tlearn: 3.1585557\ttotal: 13.1s\tremaining: 6.02s\n",
      "48:\tlearn: 3.1339629\ttotal: 13.4s\tremaining: 5.75s\n",
      "49:\tlearn: 3.1120593\ttotal: 13.7s\tremaining: 5.48s\n",
      "50:\tlearn: 3.0734481\ttotal: 14s\tremaining: 5.2s\n",
      "51:\tlearn: 3.0260344\ttotal: 14.3s\tremaining: 4.93s\n",
      "52:\tlearn: 2.9790197\ttotal: 14.5s\tremaining: 4.66s\n",
      "53:\tlearn: 2.9259826\ttotal: 14.8s\tremaining: 4.38s\n",
      "54:\tlearn: 2.8840782\ttotal: 15.1s\tremaining: 4.11s\n",
      "55:\tlearn: 2.8648413\ttotal: 15.3s\tremaining: 3.83s\n",
      "56:\tlearn: 2.8318001\ttotal: 15.6s\tremaining: 3.56s\n",
      "57:\tlearn: 2.8011813\ttotal: 15.9s\tremaining: 3.28s\n",
      "58:\tlearn: 2.7750285\ttotal: 16.1s\tremaining: 3s\n",
      "59:\tlearn: 2.7557023\ttotal: 16.4s\tremaining: 2.73s\n",
      "60:\tlearn: 2.7118184\ttotal: 16.7s\tremaining: 2.46s\n",
      "61:\tlearn: 2.6827319\ttotal: 16.9s\tremaining: 2.18s\n",
      "62:\tlearn: 2.6413492\ttotal: 17.2s\tremaining: 1.91s\n",
      "63:\tlearn: 2.6004930\ttotal: 17.5s\tremaining: 1.64s\n",
      "64:\tlearn: 2.5683911\ttotal: 17.7s\tremaining: 1.36s\n",
      "65:\tlearn: 2.5137474\ttotal: 18s\tremaining: 1.09s\n",
      "66:\tlearn: 2.4463292\ttotal: 18.2s\tremaining: 817ms\n",
      "67:\tlearn: 2.4106695\ttotal: 18.5s\tremaining: 544ms\n",
      "68:\tlearn: 2.3739019\ttotal: 18.8s\tremaining: 273ms\n",
      "69:\tlearn: 2.3355897\ttotal: 19.1s\tremaining: 0us\n",
      "Learning rate set to 0.5\n",
      "0:\tlearn: 8.7015772\ttotal: 264ms\tremaining: 18.2s\n",
      "1:\tlearn: 7.8421788\ttotal: 526ms\tremaining: 17.9s\n",
      "2:\tlearn: 7.3340967\ttotal: 792ms\tremaining: 17.7s\n",
      "3:\tlearn: 6.9056028\ttotal: 1.06s\tremaining: 17.5s\n",
      "4:\tlearn: 6.6535025\ttotal: 1.4s\tremaining: 18.2s\n",
      "5:\tlearn: 6.4779596\ttotal: 1.71s\tremaining: 18.2s\n",
      "6:\tlearn: 6.2913460\ttotal: 1.98s\tremaining: 17.8s\n",
      "7:\tlearn: 6.1677754\ttotal: 2.25s\tremaining: 17.5s\n",
      "8:\tlearn: 5.9882873\ttotal: 2.52s\tremaining: 17.1s\n",
      "9:\tlearn: 5.8221178\ttotal: 2.79s\tremaining: 16.7s\n",
      "10:\tlearn: 5.7190172\ttotal: 3.06s\tremaining: 16.4s\n",
      "11:\tlearn: 5.6141435\ttotal: 3.33s\tremaining: 16.1s\n",
      "12:\tlearn: 5.4844078\ttotal: 3.62s\tremaining: 15.9s\n",
      "13:\tlearn: 5.3934362\ttotal: 3.91s\tremaining: 15.6s\n",
      "14:\tlearn: 5.2693399\ttotal: 4.17s\tremaining: 15.3s\n",
      "15:\tlearn: 5.2017247\ttotal: 4.44s\tremaining: 15s\n",
      "16:\tlearn: 5.1377259\ttotal: 4.71s\tremaining: 14.7s\n",
      "17:\tlearn: 5.0649828\ttotal: 4.99s\tremaining: 14.4s\n",
      "18:\tlearn: 4.9964564\ttotal: 5.26s\tremaining: 14.1s\n",
      "19:\tlearn: 4.9302010\ttotal: 5.56s\tremaining: 13.9s\n",
      "20:\tlearn: 4.8487111\ttotal: 5.83s\tremaining: 13.6s\n",
      "21:\tlearn: 4.7939167\ttotal: 6.1s\tremaining: 13.3s\n",
      "22:\tlearn: 4.7057005\ttotal: 6.38s\tremaining: 13s\n",
      "23:\tlearn: 4.6275319\ttotal: 6.65s\tremaining: 12.8s\n",
      "24:\tlearn: 4.5644021\ttotal: 6.92s\tremaining: 12.5s\n",
      "25:\tlearn: 4.4870190\ttotal: 7.18s\tremaining: 12.2s\n",
      "26:\tlearn: 4.3864394\ttotal: 7.46s\tremaining: 11.9s\n",
      "27:\tlearn: 4.2975210\ttotal: 7.73s\tremaining: 11.6s\n",
      "28:\tlearn: 4.2462886\ttotal: 8s\tremaining: 11.3s\n",
      "29:\tlearn: 4.1946498\ttotal: 8.28s\tremaining: 11s\n",
      "30:\tlearn: 4.1343966\ttotal: 8.53s\tremaining: 10.7s\n",
      "31:\tlearn: 4.0604596\ttotal: 8.78s\tremaining: 10.4s\n",
      "32:\tlearn: 3.9865004\ttotal: 9.08s\tremaining: 10.2s\n",
      "33:\tlearn: 3.9060263\ttotal: 9.35s\tremaining: 9.9s\n",
      "34:\tlearn: 3.8586817\ttotal: 9.61s\tremaining: 9.61s\n",
      "35:\tlearn: 3.8151762\ttotal: 9.87s\tremaining: 9.32s\n",
      "36:\tlearn: 3.7664394\ttotal: 10.1s\tremaining: 9.04s\n",
      "37:\tlearn: 3.7157920\ttotal: 10.4s\tremaining: 8.75s\n",
      "38:\tlearn: 3.6435037\ttotal: 10.6s\tremaining: 8.46s\n",
      "39:\tlearn: 3.5708166\ttotal: 10.9s\tremaining: 8.16s\n",
      "40:\tlearn: 3.5116298\ttotal: 11.2s\tremaining: 7.9s\n",
      "41:\tlearn: 3.4512591\ttotal: 11.5s\tremaining: 7.65s\n",
      "42:\tlearn: 3.4142346\ttotal: 11.7s\tremaining: 7.36s\n",
      "43:\tlearn: 3.3851240\ttotal: 12s\tremaining: 7.09s\n",
      "44:\tlearn: 3.3264599\ttotal: 12.2s\tremaining: 6.8s\n",
      "45:\tlearn: 3.2683243\ttotal: 12.5s\tremaining: 6.53s\n",
      "46:\tlearn: 3.1774081\ttotal: 12.8s\tremaining: 6.25s\n",
      "47:\tlearn: 3.1485635\ttotal: 13s\tremaining: 5.98s\n",
      "48:\tlearn: 3.0989443\ttotal: 13.3s\tremaining: 5.7s\n",
      "49:\tlearn: 3.0814635\ttotal: 13.6s\tremaining: 5.42s\n",
      "50:\tlearn: 3.0525778\ttotal: 13.8s\tremaining: 5.15s\n",
      "51:\tlearn: 3.0032520\ttotal: 14.1s\tremaining: 4.87s\n",
      "52:\tlearn: 2.9513599\ttotal: 14.3s\tremaining: 4.6s\n",
      "53:\tlearn: 2.8689237\ttotal: 14.6s\tremaining: 4.33s\n",
      "54:\tlearn: 2.8121739\ttotal: 14.9s\tremaining: 4.05s\n",
      "55:\tlearn: 2.7522464\ttotal: 15.1s\tremaining: 3.78s\n",
      "56:\tlearn: 2.7001646\ttotal: 15.4s\tremaining: 3.51s\n",
      "57:\tlearn: 2.6807001\ttotal: 15.6s\tremaining: 3.24s\n",
      "58:\tlearn: 2.6403166\ttotal: 15.9s\tremaining: 2.97s\n",
      "59:\tlearn: 2.6074085\ttotal: 16.2s\tremaining: 2.69s\n",
      "60:\tlearn: 2.5830844\ttotal: 16.4s\tremaining: 2.42s\n",
      "61:\tlearn: 2.5053085\ttotal: 16.7s\tremaining: 2.15s\n",
      "62:\tlearn: 2.4840212\ttotal: 16.9s\tremaining: 1.88s\n",
      "63:\tlearn: 2.4497111\ttotal: 17.2s\tremaining: 1.61s\n",
      "64:\tlearn: 2.4150993\ttotal: 17.5s\tremaining: 1.34s\n",
      "65:\tlearn: 2.3840939\ttotal: 17.7s\tremaining: 1.07s\n",
      "66:\tlearn: 2.3609721\ttotal: 18s\tremaining: 806ms\n",
      "67:\tlearn: 2.3490439\ttotal: 18.3s\tremaining: 537ms\n",
      "68:\tlearn: 2.3173831\ttotal: 18.5s\tremaining: 268ms\n",
      "69:\tlearn: 2.2655286\ttotal: 18.7s\tremaining: 0us\n",
      "Learning rate set to 0.468241\n",
      "0:\tlearn: 8.7592523\ttotal: 1.24s\tremaining: 1m 37s\n",
      "1:\tlearn: 7.8485163\ttotal: 2.48s\tremaining: 1m 36s\n",
      "2:\tlearn: 7.2649310\ttotal: 3.69s\tremaining: 1m 34s\n",
      "3:\tlearn: 6.8939181\ttotal: 4.85s\tremaining: 1m 32s\n",
      "4:\tlearn: 6.5610516\ttotal: 6.04s\tremaining: 1m 30s\n",
      "5:\tlearn: 6.2609924\ttotal: 7.29s\tremaining: 1m 29s\n",
      "6:\tlearn: 6.0150745\ttotal: 8.57s\tremaining: 1m 29s\n",
      "7:\tlearn: 5.7559572\ttotal: 9.81s\tremaining: 1m 28s\n",
      "8:\tlearn: 5.5992904\ttotal: 11s\tremaining: 1m 26s\n",
      "9:\tlearn: 5.4321305\ttotal: 12.3s\tremaining: 1m 26s\n",
      "10:\tlearn: 5.2595474\ttotal: 13.5s\tremaining: 1m 24s\n",
      "11:\tlearn: 5.1019985\ttotal: 14.8s\tremaining: 1m 23s\n",
      "12:\tlearn: 4.9152709\ttotal: 16s\tremaining: 1m 22s\n",
      "13:\tlearn: 4.7955195\ttotal: 17.3s\tremaining: 1m 21s\n",
      "14:\tlearn: 4.6654084\ttotal: 18.5s\tremaining: 1m 20s\n",
      "15:\tlearn: 4.4996660\ttotal: 19.8s\tremaining: 1m 19s\n",
      "16:\tlearn: 4.3271874\ttotal: 21s\tremaining: 1m 17s\n",
      "17:\tlearn: 4.2602945\ttotal: 22.3s\tremaining: 1m 16s\n",
      "18:\tlearn: 4.1313887\ttotal: 23.5s\tremaining: 1m 15s\n",
      "19:\tlearn: 4.0332377\ttotal: 24.7s\tremaining: 1m 14s\n",
      "20:\tlearn: 3.9752743\ttotal: 25.9s\tremaining: 1m 12s\n",
      "21:\tlearn: 3.8928153\ttotal: 27.2s\tremaining: 1m 11s\n",
      "22:\tlearn: 3.8272113\ttotal: 28.4s\tremaining: 1m 10s\n",
      "23:\tlearn: 3.7420475\ttotal: 29.6s\tremaining: 1m 9s\n",
      "24:\tlearn: 3.6232933\ttotal: 30.8s\tremaining: 1m 7s\n",
      "25:\tlearn: 3.5316559\ttotal: 32.1s\tremaining: 1m 6s\n",
      "26:\tlearn: 3.4748865\ttotal: 33.3s\tremaining: 1m 5s\n",
      "27:\tlearn: 3.3999051\ttotal: 34.5s\tremaining: 1m 4s\n",
      "28:\tlearn: 3.3149580\ttotal: 35.8s\tremaining: 1m 2s\n",
      "29:\tlearn: 3.2517938\ttotal: 37s\tremaining: 1m 1s\n",
      "30:\tlearn: 3.2012956\ttotal: 38.2s\tremaining: 1m\n",
      "31:\tlearn: 3.1437282\ttotal: 39.5s\tremaining: 59.2s\n",
      "32:\tlearn: 3.0698699\ttotal: 40.7s\tremaining: 57.9s\n",
      "33:\tlearn: 2.9450838\ttotal: 41.9s\tremaining: 56.7s\n",
      "34:\tlearn: 2.8802888\ttotal: 43.1s\tremaining: 55.5s\n",
      "35:\tlearn: 2.8368618\ttotal: 44.4s\tremaining: 54.3s\n",
      "36:\tlearn: 2.7910632\ttotal: 45.6s\tremaining: 53s\n",
      "37:\tlearn: 2.7656764\ttotal: 46.9s\tremaining: 51.8s\n",
      "38:\tlearn: 2.7103149\ttotal: 48.1s\tremaining: 50.6s\n",
      "39:\tlearn: 2.6836459\ttotal: 49.4s\tremaining: 49.4s\n",
      "40:\tlearn: 2.5908793\ttotal: 50.7s\tremaining: 48.2s\n",
      "41:\tlearn: 2.5423723\ttotal: 52s\tremaining: 47.1s\n",
      "42:\tlearn: 2.4413433\ttotal: 53.4s\tremaining: 45.9s\n",
      "43:\tlearn: 2.3893375\ttotal: 54.6s\tremaining: 44.7s\n",
      "44:\tlearn: 2.3222878\ttotal: 55.9s\tremaining: 43.5s\n",
      "45:\tlearn: 2.2844850\ttotal: 57.2s\tremaining: 42.3s\n",
      "46:\tlearn: 2.2146412\ttotal: 58.5s\tremaining: 41.1s\n",
      "47:\tlearn: 2.1676043\ttotal: 59.8s\tremaining: 39.9s\n",
      "48:\tlearn: 2.1112436\ttotal: 1m 1s\tremaining: 38.6s\n",
      "49:\tlearn: 2.0262705\ttotal: 1m 2s\tremaining: 37.4s\n",
      "50:\tlearn: 1.9847358\ttotal: 1m 3s\tremaining: 36.2s\n",
      "51:\tlearn: 1.9388041\ttotal: 1m 4s\tremaining: 34.9s\n",
      "52:\tlearn: 1.9042689\ttotal: 1m 6s\tremaining: 33.7s\n",
      "53:\tlearn: 1.8779921\ttotal: 1m 7s\tremaining: 32.4s\n",
      "54:\tlearn: 1.8531762\ttotal: 1m 8s\tremaining: 31.2s\n",
      "55:\tlearn: 1.8090767\ttotal: 1m 9s\tremaining: 29.9s\n",
      "56:\tlearn: 1.7756464\ttotal: 1m 11s\tremaining: 28.7s\n",
      "57:\tlearn: 1.7500322\ttotal: 1m 12s\tremaining: 27.4s\n",
      "58:\tlearn: 1.7061003\ttotal: 1m 13s\tremaining: 26.2s\n",
      "59:\tlearn: 1.6735193\ttotal: 1m 14s\tremaining: 24.9s\n",
      "60:\tlearn: 1.6179990\ttotal: 1m 15s\tremaining: 23.7s\n",
      "61:\tlearn: 1.5829413\ttotal: 1m 17s\tremaining: 22.4s\n",
      "62:\tlearn: 1.5496472\ttotal: 1m 18s\tremaining: 21.2s\n",
      "63:\tlearn: 1.5181857\ttotal: 1m 19s\tremaining: 19.9s\n",
      "64:\tlearn: 1.4672531\ttotal: 1m 20s\tremaining: 18.7s\n",
      "65:\tlearn: 1.4427550\ttotal: 1m 22s\tremaining: 17.4s\n",
      "66:\tlearn: 1.4061720\ttotal: 1m 23s\tremaining: 16.2s\n",
      "67:\tlearn: 1.3832196\ttotal: 1m 24s\tremaining: 14.9s\n",
      "68:\tlearn: 1.3381539\ttotal: 1m 25s\tremaining: 13.7s\n",
      "69:\tlearn: 1.3010058\ttotal: 1m 27s\tremaining: 12.5s\n",
      "70:\tlearn: 1.2823364\ttotal: 1m 28s\tremaining: 11.2s\n",
      "71:\tlearn: 1.2520033\ttotal: 1m 29s\tremaining: 9.97s\n",
      "72:\tlearn: 1.2216775\ttotal: 1m 30s\tremaining: 8.72s\n",
      "73:\tlearn: 1.1914306\ttotal: 1m 32s\tremaining: 7.48s\n",
      "74:\tlearn: 1.1603353\ttotal: 1m 33s\tremaining: 6.23s\n",
      "75:\tlearn: 1.1300496\ttotal: 1m 34s\tremaining: 4.99s\n",
      "76:\tlearn: 1.1083624\ttotal: 1m 35s\tremaining: 3.74s\n",
      "77:\tlearn: 1.0846409\ttotal: 1m 37s\tremaining: 2.49s\n",
      "78:\tlearn: 1.0633877\ttotal: 1m 38s\tremaining: 1.25s\n",
      "79:\tlearn: 1.0507555\ttotal: 1m 39s\tremaining: 0us\n",
      "Learning rate set to 0.468241\n",
      "0:\tlearn: 8.8530908\ttotal: 1.26s\tremaining: 1m 39s\n",
      "1:\tlearn: 7.9203728\ttotal: 2.53s\tremaining: 1m 38s\n",
      "2:\tlearn: 7.2876448\ttotal: 3.82s\tremaining: 1m 38s\n",
      "3:\tlearn: 6.8463955\ttotal: 5.1s\tremaining: 1m 36s\n",
      "4:\tlearn: 6.5169919\ttotal: 6.42s\tremaining: 1m 36s\n",
      "5:\tlearn: 6.2674340\ttotal: 7.7s\tremaining: 1m 34s\n",
      "6:\tlearn: 6.0299304\ttotal: 9.1s\tremaining: 1m 34s\n",
      "7:\tlearn: 5.8648930\ttotal: 10.4s\tremaining: 1m 33s\n",
      "8:\tlearn: 5.6499346\ttotal: 11.7s\tremaining: 1m 32s\n",
      "9:\tlearn: 5.4970010\ttotal: 13s\tremaining: 1m 30s\n",
      "10:\tlearn: 5.3477183\ttotal: 14.3s\tremaining: 1m 29s\n",
      "11:\tlearn: 5.1984516\ttotal: 15.6s\tremaining: 1m 28s\n",
      "12:\tlearn: 5.0274995\ttotal: 16.9s\tremaining: 1m 27s\n",
      "13:\tlearn: 4.9118120\ttotal: 18.3s\tremaining: 1m 26s\n",
      "14:\tlearn: 4.7267114\ttotal: 19.6s\tremaining: 1m 24s\n",
      "15:\tlearn: 4.5810897\ttotal: 21s\tremaining: 1m 24s\n",
      "16:\tlearn: 4.4557147\ttotal: 22.4s\tremaining: 1m 22s\n",
      "17:\tlearn: 4.3871920\ttotal: 23.7s\tremaining: 1m 21s\n",
      "18:\tlearn: 4.3165785\ttotal: 25s\tremaining: 1m 20s\n",
      "19:\tlearn: 4.2161693\ttotal: 26.2s\tremaining: 1m 18s\n",
      "20:\tlearn: 4.1038295\ttotal: 27.5s\tremaining: 1m 17s\n",
      "21:\tlearn: 4.0000512\ttotal: 28.8s\tremaining: 1m 15s\n",
      "22:\tlearn: 3.9328532\ttotal: 30s\tremaining: 1m 14s\n",
      "23:\tlearn: 3.8521008\ttotal: 31.3s\tremaining: 1m 13s\n",
      "24:\tlearn: 3.7706519\ttotal: 32.6s\tremaining: 1m 11s\n",
      "25:\tlearn: 3.6681272\ttotal: 33.8s\tremaining: 1m 10s\n",
      "26:\tlearn: 3.5984684\ttotal: 35.1s\tremaining: 1m 8s\n",
      "27:\tlearn: 3.5294164\ttotal: 36.3s\tremaining: 1m 7s\n",
      "28:\tlearn: 3.4582596\ttotal: 37.7s\tremaining: 1m 6s\n",
      "29:\tlearn: 3.4039957\ttotal: 39s\tremaining: 1m 4s\n",
      "30:\tlearn: 3.2993340\ttotal: 40.4s\tremaining: 1m 3s\n",
      "31:\tlearn: 3.2524906\ttotal: 42s\tremaining: 1m 2s\n",
      "32:\tlearn: 3.1362440\ttotal: 43.6s\tremaining: 1m 2s\n",
      "33:\tlearn: 3.0536368\ttotal: 45s\tremaining: 1m\n",
      "34:\tlearn: 2.9858839\ttotal: 46.3s\tremaining: 59.6s\n",
      "35:\tlearn: 2.9433161\ttotal: 48.2s\tremaining: 58.9s\n",
      "36:\tlearn: 2.8858525\ttotal: 49.6s\tremaining: 57.7s\n",
      "37:\tlearn: 2.8215769\ttotal: 51.1s\tremaining: 56.4s\n",
      "38:\tlearn: 2.7629676\ttotal: 52.4s\tremaining: 55.1s\n",
      "39:\tlearn: 2.6846591\ttotal: 53.7s\tremaining: 53.7s\n",
      "40:\tlearn: 2.6234333\ttotal: 55s\tremaining: 52.3s\n",
      "41:\tlearn: 2.5669781\ttotal: 56.3s\tremaining: 50.9s\n",
      "42:\tlearn: 2.5110180\ttotal: 57.6s\tremaining: 49.6s\n",
      "43:\tlearn: 2.4400935\ttotal: 58.9s\tremaining: 48.2s\n",
      "44:\tlearn: 2.3721024\ttotal: 1m\tremaining: 46.8s\n",
      "45:\tlearn: 2.3334885\ttotal: 1m 1s\tremaining: 45.6s\n",
      "46:\tlearn: 2.2804551\ttotal: 1m 3s\tremaining: 44.3s\n",
      "47:\tlearn: 2.2235532\ttotal: 1m 4s\tremaining: 43.1s\n",
      "48:\tlearn: 2.1776358\ttotal: 1m 6s\tremaining: 41.8s\n",
      "49:\tlearn: 2.1391652\ttotal: 1m 7s\tremaining: 40.7s\n",
      "50:\tlearn: 2.0996088\ttotal: 1m 9s\tremaining: 39.5s\n",
      "51:\tlearn: 2.0367368\ttotal: 1m 11s\tremaining: 38.3s\n",
      "52:\tlearn: 2.0158441\ttotal: 1m 12s\tremaining: 37s\n",
      "53:\tlearn: 1.9695042\ttotal: 1m 14s\tremaining: 35.7s\n",
      "54:\tlearn: 1.8839887\ttotal: 1m 15s\tremaining: 34.5s\n",
      "55:\tlearn: 1.8132851\ttotal: 1m 17s\tremaining: 33.2s\n",
      "56:\tlearn: 1.7597839\ttotal: 1m 19s\tremaining: 31.9s\n",
      "57:\tlearn: 1.7240147\ttotal: 1m 20s\tremaining: 30.5s\n",
      "58:\tlearn: 1.6761398\ttotal: 1m 21s\tremaining: 29.2s\n",
      "59:\tlearn: 1.6448880\ttotal: 1m 23s\tremaining: 27.8s\n",
      "60:\tlearn: 1.5974984\ttotal: 1m 24s\tremaining: 26.4s\n",
      "61:\tlearn: 1.5564564\ttotal: 1m 26s\tremaining: 25.2s\n",
      "62:\tlearn: 1.5295539\ttotal: 1m 28s\tremaining: 23.9s\n",
      "63:\tlearn: 1.5110908\ttotal: 1m 29s\tremaining: 22.4s\n",
      "64:\tlearn: 1.4766155\ttotal: 1m 31s\tremaining: 21s\n",
      "65:\tlearn: 1.4176543\ttotal: 1m 32s\tremaining: 19.6s\n",
      "66:\tlearn: 1.3661500\ttotal: 1m 33s\tremaining: 18.2s\n",
      "67:\tlearn: 1.3391898\ttotal: 1m 35s\tremaining: 16.8s\n",
      "68:\tlearn: 1.3087405\ttotal: 1m 36s\tremaining: 15.4s\n",
      "69:\tlearn: 1.2836186\ttotal: 1m 37s\tremaining: 14s\n",
      "70:\tlearn: 1.2457578\ttotal: 1m 39s\tremaining: 12.6s\n",
      "71:\tlearn: 1.2210302\ttotal: 1m 40s\tremaining: 11.2s\n",
      "72:\tlearn: 1.2024025\ttotal: 1m 42s\tremaining: 9.84s\n",
      "73:\tlearn: 1.1868045\ttotal: 1m 44s\tremaining: 8.48s\n",
      "74:\tlearn: 1.1538999\ttotal: 1m 46s\tremaining: 7.1s\n",
      "75:\tlearn: 1.1422510\ttotal: 1m 48s\tremaining: 5.71s\n",
      "76:\tlearn: 1.1161002\ttotal: 1m 49s\tremaining: 4.28s\n",
      "77:\tlearn: 1.0868646\ttotal: 1m 51s\tremaining: 2.85s\n",
      "78:\tlearn: 1.0680228\ttotal: 1m 52s\tremaining: 1.43s\n",
      "79:\tlearn: 1.0559889\ttotal: 1m 53s\tremaining: 0us\n",
      "Learning rate set to 0.468241\n",
      "0:\tlearn: 8.5848594\ttotal: 1.47s\tremaining: 1m 56s\n",
      "1:\tlearn: 7.6897582\ttotal: 2.86s\tremaining: 1m 51s\n",
      "2:\tlearn: 7.0769355\ttotal: 4.26s\tremaining: 1m 49s\n",
      "3:\tlearn: 6.7087023\ttotal: 5.65s\tremaining: 1m 47s\n",
      "4:\tlearn: 6.4296266\ttotal: 7.39s\tremaining: 1m 50s\n",
      "5:\tlearn: 6.1687475\ttotal: 9.27s\tremaining: 1m 54s\n",
      "6:\tlearn: 5.8838596\ttotal: 11.1s\tremaining: 1m 55s\n",
      "7:\tlearn: 5.6518284\ttotal: 12.9s\tremaining: 1m 56s\n",
      "8:\tlearn: 5.4890088\ttotal: 14.8s\tremaining: 1m 56s\n",
      "9:\tlearn: 5.3447915\ttotal: 16.4s\tremaining: 1m 54s\n",
      "10:\tlearn: 5.1714751\ttotal: 17.7s\tremaining: 1m 51s\n",
      "11:\tlearn: 4.9537895\ttotal: 19.1s\tremaining: 1m 48s\n",
      "12:\tlearn: 4.8121829\ttotal: 20.3s\tremaining: 1m 44s\n",
      "13:\tlearn: 4.6315291\ttotal: 21.6s\tremaining: 1m 41s\n",
      "14:\tlearn: 4.4487514\ttotal: 23s\tremaining: 1m 39s\n",
      "15:\tlearn: 4.3526137\ttotal: 24.5s\tremaining: 1m 37s\n",
      "16:\tlearn: 4.2549029\ttotal: 25.8s\tremaining: 1m 35s\n",
      "17:\tlearn: 4.1461059\ttotal: 27.1s\tremaining: 1m 33s\n",
      "18:\tlearn: 4.0282170\ttotal: 28.4s\tremaining: 1m 31s\n",
      "19:\tlearn: 3.9455701\ttotal: 29.9s\tremaining: 1m 29s\n",
      "20:\tlearn: 3.8939332\ttotal: 31.6s\tremaining: 1m 28s\n",
      "21:\tlearn: 3.8127435\ttotal: 33.2s\tremaining: 1m 27s\n",
      "22:\tlearn: 3.7484384\ttotal: 35.1s\tremaining: 1m 26s\n",
      "23:\tlearn: 3.6372282\ttotal: 36.9s\tremaining: 1m 26s\n",
      "24:\tlearn: 3.5554507\ttotal: 38.7s\tremaining: 1m 25s\n",
      "25:\tlearn: 3.4469860\ttotal: 40.5s\tremaining: 1m 24s\n",
      "26:\tlearn: 3.4013660\ttotal: 42.3s\tremaining: 1m 23s\n",
      "27:\tlearn: 3.3168008\ttotal: 44.1s\tremaining: 1m 21s\n",
      "28:\tlearn: 3.1870321\ttotal: 45.9s\tremaining: 1m 20s\n",
      "29:\tlearn: 3.1231919\ttotal: 47.7s\tremaining: 1m 19s\n",
      "30:\tlearn: 3.0696414\ttotal: 49.5s\tremaining: 1m 18s\n",
      "31:\tlearn: 3.0085748\ttotal: 51.3s\tremaining: 1m 16s\n",
      "32:\tlearn: 2.9270448\ttotal: 53.1s\tremaining: 1m 15s\n",
      "33:\tlearn: 2.8374064\ttotal: 54.9s\tremaining: 1m 14s\n",
      "34:\tlearn: 2.7780730\ttotal: 56.7s\tremaining: 1m 12s\n",
      "35:\tlearn: 2.7279808\ttotal: 58.6s\tremaining: 1m 11s\n",
      "36:\tlearn: 2.6912942\ttotal: 1m\tremaining: 1m 9s\n",
      "37:\tlearn: 2.6418101\ttotal: 1m 1s\tremaining: 1m 8s\n",
      "38:\tlearn: 2.5813249\ttotal: 1m 3s\tremaining: 1m 6s\n",
      "39:\tlearn: 2.5508153\ttotal: 1m 4s\tremaining: 1m 4s\n",
      "40:\tlearn: 2.4905255\ttotal: 1m 5s\tremaining: 1m 2s\n",
      "41:\tlearn: 2.4339078\ttotal: 1m 7s\tremaining: 1m\n",
      "42:\tlearn: 2.3865042\ttotal: 1m 8s\tremaining: 59.1s\n",
      "43:\tlearn: 2.3251564\ttotal: 1m 10s\tremaining: 57.4s\n",
      "44:\tlearn: 2.2966084\ttotal: 1m 11s\tremaining: 55.7s\n",
      "45:\tlearn: 2.2540253\ttotal: 1m 13s\tremaining: 54s\n",
      "46:\tlearn: 2.2068689\ttotal: 1m 14s\tremaining: 52.4s\n",
      "47:\tlearn: 2.1164531\ttotal: 1m 16s\tremaining: 50.8s\n",
      "48:\tlearn: 2.0832969\ttotal: 1m 17s\tremaining: 49.2s\n",
      "49:\tlearn: 2.0524189\ttotal: 1m 19s\tremaining: 47.6s\n",
      "50:\tlearn: 2.0275978\ttotal: 1m 20s\tremaining: 46s\n",
      "51:\tlearn: 1.9799942\ttotal: 1m 22s\tremaining: 44.2s\n",
      "52:\tlearn: 1.9229676\ttotal: 1m 23s\tremaining: 42.5s\n",
      "53:\tlearn: 1.8637966\ttotal: 1m 24s\tremaining: 40.8s\n",
      "54:\tlearn: 1.8172066\ttotal: 1m 26s\tremaining: 39.1s\n",
      "55:\tlearn: 1.7541345\ttotal: 1m 27s\tremaining: 37.5s\n",
      "56:\tlearn: 1.7179887\ttotal: 1m 28s\tremaining: 35.8s\n",
      "57:\tlearn: 1.6945940\ttotal: 1m 29s\tremaining: 34.1s\n",
      "58:\tlearn: 1.6391170\ttotal: 1m 31s\tremaining: 32.5s\n",
      "59:\tlearn: 1.6072376\ttotal: 1m 32s\tremaining: 30.8s\n",
      "60:\tlearn: 1.5761838\ttotal: 1m 33s\tremaining: 29.2s\n",
      "61:\tlearn: 1.5487275\ttotal: 1m 35s\tremaining: 27.6s\n",
      "62:\tlearn: 1.5029555\ttotal: 1m 36s\tremaining: 26s\n",
      "63:\tlearn: 1.4637221\ttotal: 1m 37s\tremaining: 24.4s\n",
      "64:\tlearn: 1.4435977\ttotal: 1m 39s\tremaining: 22.8s\n",
      "65:\tlearn: 1.4061868\ttotal: 1m 40s\tremaining: 21.3s\n",
      "66:\tlearn: 1.3518935\ttotal: 1m 41s\tremaining: 19.7s\n",
      "67:\tlearn: 1.3253557\ttotal: 1m 42s\tremaining: 18.1s\n",
      "68:\tlearn: 1.3047065\ttotal: 1m 43s\tremaining: 16.6s\n",
      "69:\tlearn: 1.2790850\ttotal: 1m 45s\tremaining: 15s\n",
      "70:\tlearn: 1.2614113\ttotal: 1m 46s\tremaining: 13.5s\n",
      "71:\tlearn: 1.2252230\ttotal: 1m 47s\tremaining: 12s\n",
      "72:\tlearn: 1.1907525\ttotal: 1m 49s\tremaining: 10.5s\n",
      "73:\tlearn: 1.1819097\ttotal: 1m 50s\tremaining: 8.95s\n",
      "74:\tlearn: 1.1478271\ttotal: 1m 51s\tremaining: 7.45s\n",
      "75:\tlearn: 1.1325181\ttotal: 1m 53s\tremaining: 5.95s\n",
      "76:\tlearn: 1.1072236\ttotal: 1m 54s\tremaining: 4.46s\n",
      "77:\tlearn: 1.0934209\ttotal: 1m 55s\tremaining: 2.97s\n",
      "78:\tlearn: 1.0588217\ttotal: 1m 56s\tremaining: 1.48s\n",
      "79:\tlearn: 1.0327479\ttotal: 1m 58s\tremaining: 0us\n",
      "Learning rate set to 0.468241\n",
      "0:\tlearn: 8.6814724\ttotal: 1.3s\tremaining: 1m 43s\n",
      "1:\tlearn: 7.9103904\ttotal: 2.61s\tremaining: 1m 41s\n",
      "2:\tlearn: 7.3303272\ttotal: 3.96s\tremaining: 1m 41s\n",
      "3:\tlearn: 6.9328822\ttotal: 5.22s\tremaining: 1m 39s\n",
      "4:\tlearn: 6.5419544\ttotal: 6.55s\tremaining: 1m 38s\n",
      "5:\tlearn: 6.2675490\ttotal: 7.92s\tremaining: 1m 37s\n",
      "6:\tlearn: 6.0122701\ttotal: 9.24s\tremaining: 1m 36s\n",
      "7:\tlearn: 5.7967670\ttotal: 10.5s\tremaining: 1m 34s\n",
      "8:\tlearn: 5.6420660\ttotal: 11.7s\tremaining: 1m 32s\n",
      "9:\tlearn: 5.4752533\ttotal: 13s\tremaining: 1m 30s\n",
      "10:\tlearn: 5.3294832\ttotal: 14.3s\tremaining: 1m 29s\n",
      "11:\tlearn: 5.2025002\ttotal: 15.5s\tremaining: 1m 28s\n",
      "12:\tlearn: 5.0865797\ttotal: 16.8s\tremaining: 1m 26s\n",
      "13:\tlearn: 4.9724220\ttotal: 18.2s\tremaining: 1m 25s\n",
      "14:\tlearn: 4.8520989\ttotal: 19.4s\tremaining: 1m 24s\n",
      "15:\tlearn: 4.7041494\ttotal: 20.6s\tremaining: 1m 22s\n",
      "16:\tlearn: 4.5968219\ttotal: 21.8s\tremaining: 1m 20s\n",
      "17:\tlearn: 4.5125277\ttotal: 23.1s\tremaining: 1m 19s\n",
      "18:\tlearn: 4.4153519\ttotal: 24.5s\tremaining: 1m 18s\n",
      "19:\tlearn: 4.3278385\ttotal: 25.8s\tremaining: 1m 17s\n",
      "20:\tlearn: 4.2234811\ttotal: 27.2s\tremaining: 1m 16s\n",
      "21:\tlearn: 4.1500805\ttotal: 28.5s\tremaining: 1m 15s\n",
      "22:\tlearn: 4.0625484\ttotal: 29.8s\tremaining: 1m 13s\n",
      "23:\tlearn: 3.9704791\ttotal: 31.1s\tremaining: 1m 12s\n",
      "24:\tlearn: 3.9060442\ttotal: 32.4s\tremaining: 1m 11s\n",
      "25:\tlearn: 3.8182200\ttotal: 33.7s\tremaining: 1m 9s\n",
      "26:\tlearn: 3.7369358\ttotal: 35s\tremaining: 1m 8s\n",
      "27:\tlearn: 3.6161444\ttotal: 36.3s\tremaining: 1m 7s\n",
      "28:\tlearn: 3.5227060\ttotal: 37.5s\tremaining: 1m 6s\n",
      "29:\tlearn: 3.4050089\ttotal: 38.9s\tremaining: 1m 4s\n",
      "30:\tlearn: 3.3342511\ttotal: 40.3s\tremaining: 1m 3s\n",
      "31:\tlearn: 3.2585599\ttotal: 41.5s\tremaining: 1m 2s\n",
      "32:\tlearn: 3.2114389\ttotal: 42.8s\tremaining: 1m\n",
      "33:\tlearn: 3.1626578\ttotal: 44s\tremaining: 59.6s\n",
      "34:\tlearn: 3.1155261\ttotal: 45.2s\tremaining: 58.2s\n",
      "35:\tlearn: 3.0729560\ttotal: 46.6s\tremaining: 57s\n",
      "36:\tlearn: 2.9857367\ttotal: 47.9s\tremaining: 55.7s\n",
      "37:\tlearn: 2.8923478\ttotal: 49.3s\tremaining: 54.5s\n",
      "38:\tlearn: 2.8179923\ttotal: 50.6s\tremaining: 53.2s\n",
      "39:\tlearn: 2.7768735\ttotal: 51.8s\tremaining: 51.8s\n",
      "40:\tlearn: 2.7358057\ttotal: 53.2s\tremaining: 50.6s\n",
      "41:\tlearn: 2.6321023\ttotal: 54.6s\tremaining: 49.4s\n",
      "42:\tlearn: 2.5732776\ttotal: 55.9s\tremaining: 48.1s\n",
      "43:\tlearn: 2.4982760\ttotal: 57.4s\tremaining: 46.9s\n",
      "44:\tlearn: 2.4645566\ttotal: 58.8s\tremaining: 45.7s\n",
      "45:\tlearn: 2.4356456\ttotal: 1m\tremaining: 44.4s\n",
      "46:\tlearn: 2.3629764\ttotal: 1m 1s\tremaining: 43s\n",
      "47:\tlearn: 2.2954810\ttotal: 1m 2s\tremaining: 41.8s\n",
      "48:\tlearn: 2.2352131\ttotal: 1m 4s\tremaining: 40.5s\n",
      "49:\tlearn: 2.2032014\ttotal: 1m 5s\tremaining: 39.1s\n",
      "50:\tlearn: 2.1612947\ttotal: 1m 6s\tremaining: 37.8s\n",
      "51:\tlearn: 2.1313634\ttotal: 1m 7s\tremaining: 36.5s\n",
      "52:\tlearn: 2.0966870\ttotal: 1m 9s\tremaining: 35.2s\n",
      "53:\tlearn: 2.0638475\ttotal: 1m 10s\tremaining: 33.9s\n",
      "54:\tlearn: 2.0377718\ttotal: 1m 11s\tremaining: 32.5s\n",
      "55:\tlearn: 1.9587567\ttotal: 1m 12s\tremaining: 31.2s\n",
      "56:\tlearn: 1.9227919\ttotal: 1m 14s\tremaining: 30s\n",
      "57:\tlearn: 1.8655959\ttotal: 1m 15s\tremaining: 28.8s\n",
      "58:\tlearn: 1.8240119\ttotal: 1m 17s\tremaining: 27.5s\n",
      "59:\tlearn: 1.7881701\ttotal: 1m 18s\tremaining: 26.3s\n",
      "60:\tlearn: 1.7377903\ttotal: 1m 20s\tremaining: 25.1s\n",
      "61:\tlearn: 1.7083924\ttotal: 1m 22s\tremaining: 23.8s\n",
      "62:\tlearn: 1.6627253\ttotal: 1m 23s\tremaining: 22.5s\n",
      "63:\tlearn: 1.6154901\ttotal: 1m 25s\tremaining: 21.3s\n",
      "64:\tlearn: 1.5801828\ttotal: 1m 26s\tremaining: 20s\n",
      "65:\tlearn: 1.5511870\ttotal: 1m 27s\tremaining: 18.7s\n",
      "66:\tlearn: 1.5238231\ttotal: 1m 29s\tremaining: 17.3s\n",
      "67:\tlearn: 1.4843554\ttotal: 1m 30s\tremaining: 16s\n",
      "68:\tlearn: 1.4404621\ttotal: 1m 32s\tremaining: 14.7s\n",
      "69:\tlearn: 1.4174255\ttotal: 1m 33s\tremaining: 13.4s\n",
      "70:\tlearn: 1.3865946\ttotal: 1m 34s\tremaining: 12s\n",
      "71:\tlearn: 1.3617729\ttotal: 1m 36s\tremaining: 10.7s\n",
      "72:\tlearn: 1.3310731\ttotal: 1m 37s\tremaining: 9.37s\n",
      "73:\tlearn: 1.2722926\ttotal: 1m 39s\tremaining: 8.04s\n",
      "74:\tlearn: 1.2457766\ttotal: 1m 40s\tremaining: 6.72s\n",
      "75:\tlearn: 1.2379195\ttotal: 1m 42s\tremaining: 5.39s\n",
      "76:\tlearn: 1.2134203\ttotal: 1m 44s\tremaining: 4.06s\n",
      "77:\tlearn: 1.1722202\ttotal: 1m 45s\tremaining: 2.71s\n",
      "78:\tlearn: 1.1517816\ttotal: 1m 47s\tremaining: 1.36s\n",
      "79:\tlearn: 1.1341896\ttotal: 1m 48s\tremaining: 0us\n",
      "Learning rate set to 0.468247\n",
      "0:\tlearn: 8.6735518\ttotal: 1.62s\tremaining: 2m 8s\n",
      "1:\tlearn: 7.7996423\ttotal: 3.07s\tremaining: 1m 59s\n",
      "2:\tlearn: 7.1802906\ttotal: 4.43s\tremaining: 1m 53s\n",
      "3:\tlearn: 6.8017559\ttotal: 5.77s\tremaining: 1m 49s\n",
      "4:\tlearn: 6.5067210\ttotal: 7.29s\tremaining: 1m 49s\n",
      "5:\tlearn: 6.1581918\ttotal: 8.74s\tremaining: 1m 47s\n",
      "6:\tlearn: 5.9176686\ttotal: 10.3s\tremaining: 1m 46s\n",
      "7:\tlearn: 5.7072589\ttotal: 11.7s\tremaining: 1m 45s\n",
      "8:\tlearn: 5.5235124\ttotal: 13.1s\tremaining: 1m 42s\n",
      "9:\tlearn: 5.2850096\ttotal: 14.4s\tremaining: 1m 41s\n",
      "10:\tlearn: 5.1769052\ttotal: 15.9s\tremaining: 1m 39s\n",
      "11:\tlearn: 5.0659347\ttotal: 17.5s\tremaining: 1m 39s\n",
      "12:\tlearn: 4.9267547\ttotal: 18.9s\tremaining: 1m 37s\n",
      "13:\tlearn: 4.7820262\ttotal: 20.3s\tremaining: 1m 35s\n",
      "14:\tlearn: 4.6743141\ttotal: 21.8s\tremaining: 1m 34s\n",
      "15:\tlearn: 4.5670398\ttotal: 23.2s\tremaining: 1m 32s\n",
      "16:\tlearn: 4.4715126\ttotal: 24.7s\tremaining: 1m 31s\n",
      "17:\tlearn: 4.3845698\ttotal: 26.1s\tremaining: 1m 29s\n",
      "18:\tlearn: 4.2753460\ttotal: 27.6s\tremaining: 1m 28s\n",
      "19:\tlearn: 4.2011099\ttotal: 29s\tremaining: 1m 27s\n",
      "20:\tlearn: 4.1272352\ttotal: 30.4s\tremaining: 1m 25s\n",
      "21:\tlearn: 4.0729609\ttotal: 31.8s\tremaining: 1m 23s\n",
      "22:\tlearn: 3.9407610\ttotal: 33.2s\tremaining: 1m 22s\n",
      "23:\tlearn: 3.8275843\ttotal: 34.7s\tremaining: 1m 20s\n",
      "24:\tlearn: 3.7579913\ttotal: 36.2s\tremaining: 1m 19s\n",
      "25:\tlearn: 3.7009343\ttotal: 37.7s\tremaining: 1m 18s\n",
      "26:\tlearn: 3.6355663\ttotal: 39.2s\tremaining: 1m 16s\n",
      "27:\tlearn: 3.5518628\ttotal: 40.7s\tremaining: 1m 15s\n",
      "28:\tlearn: 3.4868642\ttotal: 42.3s\tremaining: 1m 14s\n",
      "29:\tlearn: 3.4323369\ttotal: 43.8s\tremaining: 1m 12s\n",
      "30:\tlearn: 3.3742588\ttotal: 45.2s\tremaining: 1m 11s\n",
      "31:\tlearn: 3.2789233\ttotal: 46.7s\tremaining: 1m 10s\n",
      "32:\tlearn: 3.2294457\ttotal: 48.2s\tremaining: 1m 8s\n",
      "33:\tlearn: 3.1506910\ttotal: 49.6s\tremaining: 1m 7s\n",
      "34:\tlearn: 3.1008981\ttotal: 51s\tremaining: 1m 5s\n",
      "35:\tlearn: 3.0187768\ttotal: 52.4s\tremaining: 1m 4s\n",
      "36:\tlearn: 2.9552212\ttotal: 54.1s\tremaining: 1m 2s\n",
      "37:\tlearn: 2.9189113\ttotal: 55.5s\tremaining: 1m 1s\n",
      "38:\tlearn: 2.8794868\ttotal: 57s\tremaining: 59.9s\n",
      "39:\tlearn: 2.8042477\ttotal: 58.4s\tremaining: 58.4s\n",
      "40:\tlearn: 2.7541944\ttotal: 59.8s\tremaining: 56.9s\n",
      "42:\tlearn: 2.6641572\ttotal: 1m 2s\tremaining: 53.9s\n",
      "43:\tlearn: 2.6136857\ttotal: 1m 4s\tremaining: 52.4s\n",
      "44:\tlearn: 2.5752467\ttotal: 1m 5s\tremaining: 50.9s\n",
      "45:\tlearn: 2.5169700\ttotal: 1m 6s\tremaining: 49.4s\n",
      "46:\tlearn: 2.4710659\ttotal: 1m 8s\tremaining: 47.8s\n",
      "47:\tlearn: 2.3976364\ttotal: 1m 9s\tremaining: 46.3s\n",
      "48:\tlearn: 2.3545722\ttotal: 1m 10s\tremaining: 44.7s\n",
      "49:\tlearn: 2.3043717\ttotal: 1m 11s\tremaining: 43.2s\n",
      "50:\tlearn: 2.2548635\ttotal: 1m 13s\tremaining: 41.6s\n",
      "51:\tlearn: 2.2144719\ttotal: 1m 14s\tremaining: 40.2s\n",
      "52:\tlearn: 2.1891713\ttotal: 1m 16s\tremaining: 38.8s\n",
      "53:\tlearn: 2.1546818\ttotal: 1m 17s\tremaining: 37.3s\n",
      "54:\tlearn: 2.0810712\ttotal: 1m 18s\tremaining: 35.8s\n",
      "55:\tlearn: 2.0350509\ttotal: 1m 20s\tremaining: 34.4s\n",
      "56:\tlearn: 2.0070489\ttotal: 1m 21s\tremaining: 32.9s\n",
      "57:\tlearn: 1.9846280\ttotal: 1m 22s\tremaining: 31.5s\n",
      "58:\tlearn: 1.9616029\ttotal: 1m 24s\tremaining: 30.1s\n",
      "59:\tlearn: 1.8985320\ttotal: 1m 25s\tremaining: 28.6s\n",
      "60:\tlearn: 1.8628722\ttotal: 1m 27s\tremaining: 27.1s\n",
      "61:\tlearn: 1.8332166\ttotal: 1m 28s\tremaining: 25.6s\n",
      "62:\tlearn: 1.7935765\ttotal: 1m 29s\tremaining: 24.2s\n",
      "63:\tlearn: 1.7649327\ttotal: 1m 31s\tremaining: 22.8s\n",
      "64:\tlearn: 1.7082935\ttotal: 1m 32s\tremaining: 21.3s\n",
      "65:\tlearn: 1.6743729\ttotal: 1m 33s\tremaining: 19.9s\n",
      "66:\tlearn: 1.6426744\ttotal: 1m 34s\tremaining: 18.4s\n",
      "67:\tlearn: 1.6067233\ttotal: 1m 36s\tremaining: 17s\n",
      "68:\tlearn: 1.5902780\ttotal: 1m 37s\tremaining: 15.5s\n",
      "69:\tlearn: 1.5485510\ttotal: 1m 38s\tremaining: 14.1s\n",
      "70:\tlearn: 1.4942904\ttotal: 1m 40s\tremaining: 12.7s\n",
      "71:\tlearn: 1.4671407\ttotal: 1m 41s\tremaining: 11.3s\n",
      "72:\tlearn: 1.4227142\ttotal: 1m 42s\tremaining: 9.87s\n",
      "73:\tlearn: 1.4075439\ttotal: 1m 44s\tremaining: 8.46s\n",
      "74:\tlearn: 1.3936778\ttotal: 1m 45s\tremaining: 7.05s\n",
      "75:\tlearn: 1.3732616\ttotal: 1m 47s\tremaining: 5.64s\n",
      "76:\tlearn: 1.3473990\ttotal: 1m 48s\tremaining: 4.24s\n",
      "77:\tlearn: 1.3281993\ttotal: 1m 50s\tremaining: 2.82s\n",
      "78:\tlearn: 1.2901449\ttotal: 1m 51s\tremaining: 1.41s\n",
      "79:\tlearn: 1.2667890\ttotal: 1m 52s\tremaining: 0us\n",
      "Learning rate set to 0.5\n",
      "0:\tlearn: 9.4664269\ttotal: 7.14ms\tremaining: 207ms\n",
      "1:\tlearn: 8.9803381\ttotal: 14.5ms\tremaining: 203ms\n",
      "2:\tlearn: 8.7817478\ttotal: 22.2ms\tremaining: 200ms\n",
      "3:\tlearn: 8.6008257\ttotal: 29.4ms\tremaining: 191ms\n",
      "4:\tlearn: 8.4367922\ttotal: 35.4ms\tremaining: 177ms\n",
      "5:\tlearn: 8.3387049\ttotal: 39.9ms\tremaining: 160ms\n",
      "6:\tlearn: 8.2817358\ttotal: 45.8ms\tremaining: 151ms\n",
      "7:\tlearn: 8.2091304\ttotal: 51.5ms\tremaining: 142ms\n",
      "8:\tlearn: 8.1366237\ttotal: 57.1ms\tremaining: 133ms\n",
      "9:\tlearn: 8.0570149\ttotal: 62.8ms\tremaining: 126ms\n",
      "10:\tlearn: 7.9897569\ttotal: 67.1ms\tremaining: 116ms\n",
      "11:\tlearn: 7.9390926\ttotal: 71.2ms\tremaining: 107ms\n",
      "12:\tlearn: 7.8978399\ttotal: 77ms\tremaining: 101ms\n",
      "13:\tlearn: 7.8540154\ttotal: 83.3ms\tremaining: 95.3ms\n",
      "14:\tlearn: 7.8042369\ttotal: 87.9ms\tremaining: 87.9ms\n",
      "15:\tlearn: 7.7578928\ttotal: 92.3ms\tremaining: 80.8ms\n",
      "16:\tlearn: 7.7103510\ttotal: 96.5ms\tremaining: 73.8ms\n",
      "17:\tlearn: 7.6804048\ttotal: 101ms\tremaining: 67.1ms\n",
      "18:\tlearn: 7.6350298\ttotal: 105ms\tremaining: 60.6ms\n",
      "19:\tlearn: 7.5938888\ttotal: 109ms\tremaining: 54.4ms\n",
      "20:\tlearn: 7.5571811\ttotal: 113ms\tremaining: 48.5ms\n",
      "21:\tlearn: 7.5343858\ttotal: 120ms\tremaining: 43.6ms\n",
      "22:\tlearn: 7.4889613\ttotal: 126ms\tremaining: 38.3ms\n",
      "23:\tlearn: 7.4512067\ttotal: 131ms\tremaining: 32.8ms\n",
      "24:\tlearn: 7.4159968\ttotal: 137ms\tremaining: 27.4ms\n",
      "25:\tlearn: 7.3813538\ttotal: 143ms\tremaining: 21.9ms\n",
      "26:\tlearn: 7.3562746\ttotal: 148ms\tremaining: 16.5ms\n",
      "27:\tlearn: 7.3352983\ttotal: 154ms\tremaining: 11ms\n",
      "28:\tlearn: 7.3142454\ttotal: 158ms\tremaining: 5.45ms\n",
      "29:\tlearn: 7.2878690\ttotal: 162ms\tremaining: 0us\n",
      "Learning rate set to 0.5\n",
      "0:\tlearn: 9.5399279\ttotal: 8.4ms\tremaining: 244ms\n",
      "1:\tlearn: 8.9673210\ttotal: 16.1ms\tremaining: 226ms\n",
      "2:\tlearn: 8.5965065\ttotal: 22.2ms\tremaining: 200ms\n",
      "3:\tlearn: 8.4485048\ttotal: 27.3ms\tremaining: 178ms\n",
      "4:\tlearn: 8.3535343\ttotal: 31.7ms\tremaining: 158ms\n",
      "5:\tlearn: 8.2648030\ttotal: 36.2ms\tremaining: 145ms\n",
      "6:\tlearn: 8.1823573\ttotal: 40.3ms\tremaining: 132ms\n",
      "7:\tlearn: 8.1146151\ttotal: 45ms\tremaining: 124ms\n",
      "8:\tlearn: 8.0607475\ttotal: 49.1ms\tremaining: 115ms\n",
      "9:\tlearn: 7.9870960\ttotal: 53.3ms\tremaining: 107ms\n",
      "10:\tlearn: 7.9602073\ttotal: 57.3ms\tremaining: 98.9ms\n",
      "11:\tlearn: 7.9120012\ttotal: 61.3ms\tremaining: 91.9ms\n",
      "12:\tlearn: 7.8718569\ttotal: 66.4ms\tremaining: 86.8ms\n",
      "13:\tlearn: 7.8308978\ttotal: 72.3ms\tremaining: 82.6ms\n",
      "14:\tlearn: 7.7979549\ttotal: 78.1ms\tremaining: 78.1ms\n",
      "15:\tlearn: 7.7632057\ttotal: 84ms\tremaining: 73.5ms\n",
      "16:\tlearn: 7.7388458\ttotal: 90ms\tremaining: 68.8ms\n",
      "17:\tlearn: 7.7074319\ttotal: 95.6ms\tremaining: 63.7ms\n",
      "18:\tlearn: 7.6805032\ttotal: 102ms\tremaining: 58.8ms\n",
      "19:\tlearn: 7.6158123\ttotal: 107ms\tremaining: 53.5ms\n",
      "20:\tlearn: 7.5799495\ttotal: 113ms\tremaining: 48.4ms\n",
      "21:\tlearn: 7.5509403\ttotal: 119ms\tremaining: 43.2ms\n",
      "22:\tlearn: 7.5065679\ttotal: 124ms\tremaining: 37.6ms\n",
      "23:\tlearn: 7.4732416\ttotal: 128ms\tremaining: 31.9ms\n",
      "24:\tlearn: 7.4410947\ttotal: 132ms\tremaining: 26.4ms\n",
      "25:\tlearn: 7.4213871\ttotal: 136ms\tremaining: 20.9ms\n",
      "26:\tlearn: 7.3892339\ttotal: 140ms\tremaining: 15.6ms\n",
      "27:\tlearn: 7.3457959\ttotal: 145ms\tremaining: 10.4ms\n",
      "28:\tlearn: 7.3076425\ttotal: 150ms\tremaining: 5.17ms\n",
      "29:\tlearn: 7.2801582\ttotal: 154ms\tremaining: 0us\n",
      "Learning rate set to 0.5\n",
      "0:\tlearn: 9.3022191\ttotal: 4.73ms\tremaining: 137ms\n",
      "1:\tlearn: 8.7935494\ttotal: 9.09ms\tremaining: 127ms\n",
      "2:\tlearn: 8.5414475\ttotal: 15.9ms\tremaining: 143ms\n",
      "3:\tlearn: 8.4023522\ttotal: 23.2ms\tremaining: 151ms\n",
      "4:\tlearn: 8.3032505\ttotal: 29.7ms\tremaining: 149ms\n",
      "5:\tlearn: 8.2285289\ttotal: 35.9ms\tremaining: 144ms\n",
      "6:\tlearn: 8.1365118\ttotal: 41.4ms\tremaining: 136ms\n",
      "7:\tlearn: 8.0485466\ttotal: 47.3ms\tremaining: 130ms\n",
      "8:\tlearn: 7.9680610\ttotal: 52.9ms\tremaining: 123ms\n",
      "9:\tlearn: 7.9079222\ttotal: 58.3ms\tremaining: 117ms\n",
      "10:\tlearn: 7.8476643\ttotal: 65.1ms\tremaining: 112ms\n",
      "11:\tlearn: 7.8033824\ttotal: 71.8ms\tremaining: 108ms\n",
      "12:\tlearn: 7.7503515\ttotal: 77.8ms\tremaining: 102ms\n",
      "13:\tlearn: 7.6871854\ttotal: 84ms\tremaining: 96ms\n",
      "14:\tlearn: 7.6479231\ttotal: 89.4ms\tremaining: 89.4ms\n",
      "15:\tlearn: 7.6182330\ttotal: 93.7ms\tremaining: 82ms\n",
      "16:\tlearn: 7.5859119\ttotal: 97.9ms\tremaining: 74.8ms\n",
      "17:\tlearn: 7.5348876\ttotal: 102ms\tremaining: 67.9ms\n",
      "18:\tlearn: 7.5041110\ttotal: 106ms\tremaining: 61.3ms\n",
      "19:\tlearn: 7.4758094\ttotal: 110ms\tremaining: 54.9ms\n",
      "20:\tlearn: 7.4395813\ttotal: 114ms\tremaining: 48.9ms\n",
      "21:\tlearn: 7.4189350\ttotal: 120ms\tremaining: 43.5ms\n",
      "22:\tlearn: 7.3989774\ttotal: 125ms\tremaining: 38.1ms\n",
      "23:\tlearn: 7.3709333\ttotal: 131ms\tremaining: 32.6ms\n",
      "24:\tlearn: 7.3361879\ttotal: 136ms\tremaining: 27.2ms\n",
      "25:\tlearn: 7.2958088\ttotal: 142ms\tremaining: 21.8ms\n",
      "26:\tlearn: 7.2644947\ttotal: 148ms\tremaining: 16.4ms\n",
      "27:\tlearn: 7.2388561\ttotal: 153ms\tremaining: 10.9ms\n",
      "28:\tlearn: 7.2141823\ttotal: 159ms\tremaining: 5.47ms\n",
      "29:\tlearn: 7.1840645\ttotal: 163ms\tremaining: 0us\n",
      "Learning rate set to 0.5\n",
      "0:\tlearn: 9.2569627\ttotal: 4.59ms\tremaining: 133ms\n",
      "1:\tlearn: 8.8352781\ttotal: 9.02ms\tremaining: 126ms\n",
      "2:\tlearn: 8.5723692\ttotal: 13.5ms\tremaining: 122ms\n",
      "3:\tlearn: 8.4424064\ttotal: 17.6ms\tremaining: 114ms\n",
      "4:\tlearn: 8.3410478\ttotal: 21.8ms\tremaining: 109ms\n",
      "5:\tlearn: 8.2813857\ttotal: 25.9ms\tremaining: 103ms\n",
      "6:\tlearn: 8.2235175\ttotal: 29.9ms\tremaining: 98.3ms\n",
      "7:\tlearn: 8.1413130\ttotal: 39.2ms\tremaining: 108ms\n",
      "8:\tlearn: 8.0978960\ttotal: 47.9ms\tremaining: 112ms\n",
      "9:\tlearn: 8.0550828\ttotal: 51.9ms\tremaining: 104ms\n",
      "10:\tlearn: 8.0228717\ttotal: 57.2ms\tremaining: 98.8ms\n",
      "11:\tlearn: 7.9769103\ttotal: 61.2ms\tremaining: 91.8ms\n",
      "12:\tlearn: 7.9389717\ttotal: 65.7ms\tremaining: 85.9ms\n",
      "13:\tlearn: 7.8865213\ttotal: 69.9ms\tremaining: 79.8ms\n",
      "14:\tlearn: 7.8511826\ttotal: 74.1ms\tremaining: 74.1ms\n",
      "15:\tlearn: 7.8047279\ttotal: 78.3ms\tremaining: 68.5ms\n",
      "16:\tlearn: 7.7714305\ttotal: 83.2ms\tremaining: 63.6ms\n",
      "17:\tlearn: 7.7188599\ttotal: 88.2ms\tremaining: 58.8ms\n",
      "18:\tlearn: 7.6768023\ttotal: 93.3ms\tremaining: 54ms\n",
      "19:\tlearn: 7.6246179\ttotal: 98.1ms\tremaining: 49.1ms\n",
      "20:\tlearn: 7.5913468\ttotal: 103ms\tremaining: 44.2ms\n",
      "21:\tlearn: 7.5530105\ttotal: 108ms\tremaining: 39.2ms\n",
      "22:\tlearn: 7.5000059\ttotal: 113ms\tremaining: 34.5ms\n",
      "23:\tlearn: 7.4721498\ttotal: 120ms\tremaining: 30ms\n",
      "24:\tlearn: 7.4451986\ttotal: 127ms\tremaining: 25.3ms\n",
      "25:\tlearn: 7.4108259\ttotal: 134ms\tremaining: 20.7ms\n",
      "26:\tlearn: 7.3893171\ttotal: 141ms\tremaining: 15.7ms\n",
      "27:\tlearn: 7.3494592\ttotal: 150ms\tremaining: 10.7ms\n",
      "28:\tlearn: 7.3177645\ttotal: 158ms\tremaining: 5.43ms\n",
      "29:\tlearn: 7.2904374\ttotal: 164ms\tremaining: 0us\n",
      "Learning rate set to 0.5\n",
      "0:\tlearn: 9.4365637\ttotal: 5.12ms\tremaining: 148ms\n",
      "1:\tlearn: 8.9714084\ttotal: 9.86ms\tremaining: 138ms\n",
      "2:\tlearn: 8.7165499\ttotal: 14.4ms\tremaining: 129ms\n",
      "3:\tlearn: 8.4873485\ttotal: 19.4ms\tremaining: 126ms\n",
      "4:\tlearn: 8.3357495\ttotal: 25.6ms\tremaining: 128ms\n",
      "5:\tlearn: 8.2197585\ttotal: 31.1ms\tremaining: 125ms\n",
      "6:\tlearn: 8.1289288\ttotal: 36.8ms\tremaining: 121ms\n",
      "7:\tlearn: 8.0687280\ttotal: 42.6ms\tremaining: 117ms\n",
      "8:\tlearn: 8.0353683\ttotal: 48.2ms\tremaining: 112ms\n",
      "9:\tlearn: 7.9793325\ttotal: 53.3ms\tremaining: 107ms\n",
      "10:\tlearn: 7.9238528\ttotal: 57.3ms\tremaining: 99ms\n",
      "11:\tlearn: 7.8694297\ttotal: 61.5ms\tremaining: 92.3ms\n",
      "12:\tlearn: 7.8113075\ttotal: 66.5ms\tremaining: 87ms\n",
      "13:\tlearn: 7.7535399\ttotal: 70.6ms\tremaining: 80.7ms\n",
      "14:\tlearn: 7.7147569\ttotal: 74.8ms\tremaining: 74.8ms\n",
      "15:\tlearn: 7.6713884\ttotal: 79.8ms\tremaining: 69.8ms\n",
      "16:\tlearn: 7.6472346\ttotal: 83.8ms\tremaining: 64.1ms\n",
      "17:\tlearn: 7.5987248\ttotal: 88ms\tremaining: 58.6ms\n",
      "18:\tlearn: 7.5535169\ttotal: 92.3ms\tremaining: 53.4ms\n",
      "19:\tlearn: 7.5131005\ttotal: 96.6ms\tremaining: 48.3ms\n",
      "20:\tlearn: 7.4756372\ttotal: 101ms\tremaining: 43.3ms\n",
      "21:\tlearn: 7.4379746\ttotal: 105ms\tremaining: 38.2ms\n",
      "22:\tlearn: 7.4034646\ttotal: 111ms\tremaining: 33.6ms\n",
      "23:\tlearn: 7.3779348\ttotal: 116ms\tremaining: 29.1ms\n",
      "24:\tlearn: 7.3452605\ttotal: 122ms\tremaining: 24.4ms\n",
      "25:\tlearn: 7.3150864\ttotal: 128ms\tremaining: 19.6ms\n",
      "26:\tlearn: 7.2825152\ttotal: 133ms\tremaining: 14.8ms\n",
      "27:\tlearn: 7.2529160\ttotal: 137ms\tremaining: 9.81ms\n",
      "28:\tlearn: 7.2071374\ttotal: 142ms\tremaining: 4.88ms\n",
      "29:\tlearn: 7.1737038\ttotal: 146ms\tremaining: 0us\n",
      "Learning rate set to 0.485045\n",
      "0:\tlearn: 8.7206060\ttotal: 1.3s\tremaining: 1m 42s\n",
      "1:\tlearn: 7.8498929\ttotal: 2.53s\tremaining: 1m 38s\n",
      "2:\tlearn: 7.2035309\ttotal: 3.89s\tremaining: 1m 39s\n",
      "3:\tlearn: 6.8028781\ttotal: 5.18s\tremaining: 1m 38s\n",
      "4:\tlearn: 6.5362583\ttotal: 6.42s\tremaining: 1m 36s\n",
      "5:\tlearn: 6.2633081\ttotal: 7.71s\tremaining: 1m 35s\n",
      "6:\tlearn: 6.0859892\ttotal: 9s\tremaining: 1m 33s\n",
      "7:\tlearn: 5.9308073\ttotal: 10.3s\tremaining: 1m 32s\n",
      "8:\tlearn: 5.7400405\ttotal: 11.6s\tremaining: 1m 31s\n",
      "9:\tlearn: 5.5788691\ttotal: 12.9s\tremaining: 1m 30s\n",
      "10:\tlearn: 5.3976942\ttotal: 14.3s\tremaining: 1m 29s\n",
      "11:\tlearn: 5.2874977\ttotal: 15.7s\tremaining: 1m 28s\n",
      "12:\tlearn: 5.1276741\ttotal: 17.1s\tremaining: 1m 28s\n",
      "13:\tlearn: 4.9910547\ttotal: 18.5s\tremaining: 1m 27s\n",
      "14:\tlearn: 4.8287131\ttotal: 19.8s\tremaining: 1m 25s\n",
      "15:\tlearn: 4.7294083\ttotal: 21.2s\tremaining: 1m 24s\n",
      "16:\tlearn: 4.6190418\ttotal: 22.5s\tremaining: 1m 23s\n",
      "17:\tlearn: 4.5314148\ttotal: 24s\tremaining: 1m 22s\n",
      "18:\tlearn: 4.4108449\ttotal: 25.4s\tremaining: 1m 21s\n",
      "19:\tlearn: 4.2904143\ttotal: 26.7s\tremaining: 1m 20s\n",
      "20:\tlearn: 4.1845379\ttotal: 28s\tremaining: 1m 18s\n",
      "21:\tlearn: 4.0782201\ttotal: 29.3s\tremaining: 1m 17s\n",
      "22:\tlearn: 4.0024680\ttotal: 30.5s\tremaining: 1m 15s\n",
      "23:\tlearn: 3.9290187\ttotal: 31.9s\tremaining: 1m 14s\n",
      "24:\tlearn: 3.8735169\ttotal: 33.2s\tremaining: 1m 13s\n",
      "25:\tlearn: 3.7967134\ttotal: 34.6s\tremaining: 1m 11s\n",
      "26:\tlearn: 3.7410393\ttotal: 36s\tremaining: 1m 10s\n",
      "27:\tlearn: 3.6457863\ttotal: 37.4s\tremaining: 1m 9s\n",
      "28:\tlearn: 3.5368616\ttotal: 38.7s\tremaining: 1m 8s\n",
      "29:\tlearn: 3.4607779\ttotal: 40.1s\tremaining: 1m 6s\n",
      "30:\tlearn: 3.4168640\ttotal: 41.4s\tremaining: 1m 5s\n",
      "31:\tlearn: 3.3496064\ttotal: 42.8s\tremaining: 1m 4s\n",
      "32:\tlearn: 3.2607246\ttotal: 44.2s\tremaining: 1m 2s\n",
      "33:\tlearn: 3.1861205\ttotal: 45.5s\tremaining: 1m 1s\n",
      "34:\tlearn: 3.1150676\ttotal: 46.8s\tremaining: 1m\n",
      "35:\tlearn: 3.0692039\ttotal: 48.2s\tremaining: 58.9s\n",
      "36:\tlearn: 3.0078093\ttotal: 49.5s\tremaining: 57.6s\n",
      "37:\tlearn: 2.9130771\ttotal: 50.9s\tremaining: 56.3s\n",
      "38:\tlearn: 2.8681741\ttotal: 52.3s\tremaining: 55s\n",
      "39:\tlearn: 2.8237636\ttotal: 53.6s\tremaining: 53.6s\n",
      "40:\tlearn: 2.7764372\ttotal: 54.9s\tremaining: 52.2s\n",
      "41:\tlearn: 2.7336802\ttotal: 56.2s\tremaining: 50.9s\n",
      "42:\tlearn: 2.6865187\ttotal: 57.6s\tremaining: 49.5s\n",
      "43:\tlearn: 2.6110840\ttotal: 58.9s\tremaining: 48.2s\n",
      "44:\tlearn: 2.5476162\ttotal: 1m\tremaining: 46.8s\n",
      "45:\tlearn: 2.5026829\ttotal: 1m 1s\tremaining: 45.4s\n",
      "46:\tlearn: 2.4574431\ttotal: 1m 2s\tremaining: 44.1s\n",
      "47:\tlearn: 2.4219546\ttotal: 1m 4s\tremaining: 42.7s\n",
      "48:\tlearn: 2.3471302\ttotal: 1m 5s\tremaining: 41.4s\n",
      "49:\tlearn: 2.3037207\ttotal: 1m 6s\tremaining: 40s\n",
      "50:\tlearn: 2.2416164\ttotal: 1m 7s\tremaining: 38.7s\n",
      "51:\tlearn: 2.1913351\ttotal: 1m 9s\tremaining: 37.4s\n",
      "52:\tlearn: 2.1505070\ttotal: 1m 10s\tremaining: 36.1s\n",
      "53:\tlearn: 2.0968813\ttotal: 1m 12s\tremaining: 34.8s\n",
      "54:\tlearn: 2.0465072\ttotal: 1m 13s\tremaining: 33.5s\n",
      "55:\tlearn: 2.0232830\ttotal: 1m 14s\tremaining: 32.1s\n",
      "56:\tlearn: 1.9872384\ttotal: 1m 16s\tremaining: 30.8s\n",
      "57:\tlearn: 1.9507514\ttotal: 1m 17s\tremaining: 29.4s\n",
      "58:\tlearn: 1.9183213\ttotal: 1m 19s\tremaining: 28.2s\n",
      "59:\tlearn: 1.8846990\ttotal: 1m 20s\tremaining: 26.8s\n",
      "60:\tlearn: 1.8478873\ttotal: 1m 22s\tremaining: 25.5s\n",
      "61:\tlearn: 1.8069220\ttotal: 1m 23s\tremaining: 24.2s\n",
      "62:\tlearn: 1.7759757\ttotal: 1m 25s\tremaining: 23s\n",
      "63:\tlearn: 1.7499745\ttotal: 1m 26s\tremaining: 21.7s\n",
      "64:\tlearn: 1.7104569\ttotal: 1m 27s\tremaining: 20.3s\n",
      "65:\tlearn: 1.6875600\ttotal: 1m 29s\tremaining: 18.9s\n",
      "66:\tlearn: 1.6780952\ttotal: 1m 30s\tremaining: 17.6s\n",
      "67:\tlearn: 1.6273508\ttotal: 1m 31s\tremaining: 16.2s\n",
      "68:\tlearn: 1.6097300\ttotal: 1m 33s\tremaining: 14.9s\n",
      "69:\tlearn: 1.5667847\ttotal: 1m 34s\tremaining: 13.5s\n",
      "70:\tlearn: 1.5324614\ttotal: 1m 36s\tremaining: 12.2s\n",
      "71:\tlearn: 1.5071574\ttotal: 1m 37s\tremaining: 10.8s\n",
      "72:\tlearn: 1.4762942\ttotal: 1m 38s\tremaining: 9.48s\n",
      "73:\tlearn: 1.4321149\ttotal: 1m 40s\tremaining: 8.12s\n",
      "74:\tlearn: 1.3876719\ttotal: 1m 41s\tremaining: 6.77s\n",
      "75:\tlearn: 1.3532383\ttotal: 1m 42s\tremaining: 5.41s\n",
      "76:\tlearn: 1.3248186\ttotal: 1m 44s\tremaining: 4.06s\n",
      "77:\tlearn: 1.3098631\ttotal: 1m 45s\tremaining: 2.71s\n",
      "78:\tlearn: 1.2935795\ttotal: 1m 47s\tremaining: 1.35s\n",
      "79:\tlearn: 1.2791875\ttotal: 1m 48s\tremaining: 0us\n",
      "Learning rate set to 0.468241\n",
      "0:\tlearn: 8.7592523\ttotal: 1.58s\tremaining: 2m 4s\n",
      "1:\tlearn: 7.8485163\ttotal: 3.07s\tremaining: 1m 59s\n",
      "2:\tlearn: 7.2649310\ttotal: 4.59s\tremaining: 1m 57s\n",
      "3:\tlearn: 6.8939181\ttotal: 6.07s\tremaining: 1m 55s\n",
      "4:\tlearn: 6.5610516\ttotal: 7.46s\tremaining: 1m 51s\n",
      "5:\tlearn: 6.2609924\ttotal: 8.81s\tremaining: 1m 48s\n",
      "6:\tlearn: 6.0150745\ttotal: 10.2s\tremaining: 1m 46s\n",
      "7:\tlearn: 5.7559572\ttotal: 11.6s\tremaining: 1m 44s\n",
      "8:\tlearn: 5.5992904\ttotal: 13s\tremaining: 1m 42s\n",
      "9:\tlearn: 5.4321305\ttotal: 14.4s\tremaining: 1m 40s\n",
      "10:\tlearn: 5.2595474\ttotal: 15.8s\tremaining: 1m 39s\n",
      "11:\tlearn: 5.1019985\ttotal: 17.2s\tremaining: 1m 37s\n",
      "12:\tlearn: 4.9152709\ttotal: 18.5s\tremaining: 1m 35s\n",
      "13:\tlearn: 4.7955195\ttotal: 20s\tremaining: 1m 34s\n",
      "14:\tlearn: 4.6654084\ttotal: 21.3s\tremaining: 1m 32s\n",
      "15:\tlearn: 4.4996660\ttotal: 22.6s\tremaining: 1m 30s\n",
      "16:\tlearn: 4.3271874\ttotal: 24s\tremaining: 1m 28s\n",
      "17:\tlearn: 4.2602945\ttotal: 25.3s\tremaining: 1m 27s\n",
      "18:\tlearn: 4.1313887\ttotal: 26.7s\tremaining: 1m 25s\n",
      "19:\tlearn: 4.0332377\ttotal: 28.2s\tremaining: 1m 24s\n",
      "20:\tlearn: 3.9752743\ttotal: 29.5s\tremaining: 1m 22s\n",
      "21:\tlearn: 3.8928153\ttotal: 30.9s\tremaining: 1m 21s\n",
      "22:\tlearn: 3.8272113\ttotal: 32.3s\tremaining: 1m 19s\n",
      "23:\tlearn: 3.7420475\ttotal: 33.6s\tremaining: 1m 18s\n",
      "24:\tlearn: 3.6232933\ttotal: 35.1s\tremaining: 1m 17s\n",
      "25:\tlearn: 3.5316559\ttotal: 36.4s\tremaining: 1m 15s\n",
      "26:\tlearn: 3.4748865\ttotal: 37.8s\tremaining: 1m 14s\n",
      "27:\tlearn: 3.3999051\ttotal: 39.2s\tremaining: 1m 12s\n",
      "28:\tlearn: 3.3149580\ttotal: 40.6s\tremaining: 1m 11s\n",
      "29:\tlearn: 3.2517938\ttotal: 42.1s\tremaining: 1m 10s\n",
      "30:\tlearn: 3.2012956\ttotal: 43.4s\tremaining: 1m 8s\n",
      "31:\tlearn: 3.1437282\ttotal: 44.8s\tremaining: 1m 7s\n",
      "32:\tlearn: 3.0698699\ttotal: 46.3s\tremaining: 1m 5s\n",
      "33:\tlearn: 2.9450838\ttotal: 47.7s\tremaining: 1m 4s\n",
      "34:\tlearn: 2.8802888\ttotal: 49.1s\tremaining: 1m 3s\n",
      "35:\tlearn: 2.8368618\ttotal: 50.6s\tremaining: 1m 1s\n",
      "36:\tlearn: 2.7910632\ttotal: 52.1s\tremaining: 1m\n",
      "37:\tlearn: 2.7656764\ttotal: 53.4s\tremaining: 59.1s\n",
      "38:\tlearn: 2.7103149\ttotal: 54.8s\tremaining: 57.6s\n",
      "39:\tlearn: 2.6836459\ttotal: 56.1s\tremaining: 56.1s\n",
      "40:\tlearn: 2.5908793\ttotal: 57.5s\tremaining: 54.7s\n",
      "41:\tlearn: 2.5423723\ttotal: 58.9s\tremaining: 53.3s\n",
      "42:\tlearn: 2.4413433\ttotal: 1m\tremaining: 52s\n",
      "43:\tlearn: 2.3893375\ttotal: 1m 2s\tremaining: 50.7s\n",
      "44:\tlearn: 2.3222878\ttotal: 1m 3s\tremaining: 49.4s\n",
      "45:\tlearn: 2.2844850\ttotal: 1m 5s\tremaining: 48.2s\n",
      "46:\tlearn: 2.2146412\ttotal: 1m 6s\tremaining: 46.9s\n",
      "47:\tlearn: 2.1676043\ttotal: 1m 8s\tremaining: 45.7s\n",
      "48:\tlearn: 2.1112436\ttotal: 1m 9s\tremaining: 44.2s\n",
      "49:\tlearn: 2.0262705\ttotal: 1m 11s\tremaining: 42.7s\n",
      "50:\tlearn: 1.9847358\ttotal: 1m 12s\tremaining: 41.3s\n",
      "51:\tlearn: 1.9388041\ttotal: 1m 14s\tremaining: 39.9s\n",
      "52:\tlearn: 1.9042689\ttotal: 1m 15s\tremaining: 38.5s\n",
      "53:\tlearn: 1.8779921\ttotal: 1m 16s\tremaining: 37s\n",
      "54:\tlearn: 1.8531762\ttotal: 1m 18s\tremaining: 35.6s\n",
      "55:\tlearn: 1.8090767\ttotal: 1m 19s\tremaining: 34.1s\n",
      "56:\tlearn: 1.7756464\ttotal: 1m 20s\tremaining: 32.7s\n",
      "57:\tlearn: 1.7500322\ttotal: 1m 22s\tremaining: 31.2s\n",
      "58:\tlearn: 1.7061003\ttotal: 1m 23s\tremaining: 29.8s\n",
      "59:\tlearn: 1.6735193\ttotal: 1m 24s\tremaining: 28.3s\n",
      "60:\tlearn: 1.6179990\ttotal: 1m 26s\tremaining: 26.8s\n",
      "61:\tlearn: 1.5829413\ttotal: 1m 27s\tremaining: 25.4s\n",
      "62:\tlearn: 1.5496472\ttotal: 1m 28s\tremaining: 23.9s\n",
      "63:\tlearn: 1.5181857\ttotal: 1m 29s\tremaining: 22.5s\n",
      "64:\tlearn: 1.4672531\ttotal: 1m 31s\tremaining: 21s\n",
      "65:\tlearn: 1.4427550\ttotal: 1m 32s\tremaining: 19.6s\n",
      "66:\tlearn: 1.4061720\ttotal: 1m 33s\tremaining: 18.2s\n",
      "67:\tlearn: 1.3832196\ttotal: 1m 34s\tremaining: 16.8s\n",
      "68:\tlearn: 1.3381539\ttotal: 1m 36s\tremaining: 15.3s\n",
      "69:\tlearn: 1.3010058\ttotal: 1m 37s\tremaining: 13.9s\n",
      "70:\tlearn: 1.2823364\ttotal: 1m 38s\tremaining: 12.5s\n",
      "71:\tlearn: 1.2520033\ttotal: 1m 39s\tremaining: 11.1s\n",
      "72:\tlearn: 1.2216775\ttotal: 1m 41s\tremaining: 9.71s\n",
      "73:\tlearn: 1.1914306\ttotal: 1m 42s\tremaining: 8.31s\n",
      "74:\tlearn: 1.1603353\ttotal: 1m 43s\tremaining: 6.92s\n",
      "75:\tlearn: 1.1300496\ttotal: 1m 45s\tremaining: 5.53s\n",
      "76:\tlearn: 1.1083624\ttotal: 1m 46s\tremaining: 4.15s\n",
      "77:\tlearn: 1.0846409\ttotal: 1m 47s\tremaining: 2.77s\n",
      "78:\tlearn: 1.0633877\ttotal: 1m 49s\tremaining: 1.38s\n",
      "79:\tlearn: 1.0507555\ttotal: 1m 50s\tremaining: 0us\n",
      "Learning rate set to 0.468241\n",
      "0:\tlearn: 8.8530908\ttotal: 1.34s\tremaining: 1m 45s\n",
      "1:\tlearn: 7.9203728\ttotal: 2.75s\tremaining: 1m 47s\n",
      "2:\tlearn: 7.2876448\ttotal: 4.07s\tremaining: 1m 44s\n",
      "3:\tlearn: 6.8463955\ttotal: 5.46s\tremaining: 1m 43s\n",
      "4:\tlearn: 6.5169919\ttotal: 6.77s\tremaining: 1m 41s\n",
      "5:\tlearn: 6.2674340\ttotal: 8.15s\tremaining: 1m 40s\n",
      "6:\tlearn: 6.0299304\ttotal: 9.59s\tremaining: 1m 39s\n",
      "7:\tlearn: 5.8648930\ttotal: 11s\tremaining: 1m 38s\n",
      "8:\tlearn: 5.6499346\ttotal: 12.4s\tremaining: 1m 38s\n",
      "9:\tlearn: 5.4970010\ttotal: 13.8s\tremaining: 1m 36s\n",
      "10:\tlearn: 5.3477183\ttotal: 15.2s\tremaining: 1m 35s\n",
      "11:\tlearn: 5.1984516\ttotal: 16.5s\tremaining: 1m 33s\n",
      "12:\tlearn: 5.0274995\ttotal: 17.9s\tremaining: 1m 32s\n",
      "13:\tlearn: 4.9118120\ttotal: 19.1s\tremaining: 1m 30s\n",
      "14:\tlearn: 4.7267114\ttotal: 20.5s\tremaining: 1m 28s\n",
      "15:\tlearn: 4.5810897\ttotal: 21.9s\tremaining: 1m 27s\n",
      "16:\tlearn: 4.4557147\ttotal: 23.3s\tremaining: 1m 26s\n",
      "17:\tlearn: 4.3871920\ttotal: 24.6s\tremaining: 1m 24s\n",
      "18:\tlearn: 4.3165785\ttotal: 25.9s\tremaining: 1m 23s\n",
      "19:\tlearn: 4.2161693\ttotal: 27.3s\tremaining: 1m 21s\n",
      "20:\tlearn: 4.1038295\ttotal: 28.6s\tremaining: 1m 20s\n",
      "21:\tlearn: 4.0000512\ttotal: 29.9s\tremaining: 1m 18s\n",
      "22:\tlearn: 3.9328532\ttotal: 31.3s\tremaining: 1m 17s\n",
      "23:\tlearn: 3.8521008\ttotal: 32.7s\tremaining: 1m 16s\n",
      "24:\tlearn: 3.7706519\ttotal: 34.1s\tremaining: 1m 15s\n",
      "25:\tlearn: 3.6681272\ttotal: 35.5s\tremaining: 1m 13s\n",
      "26:\tlearn: 3.5984684\ttotal: 36.8s\tremaining: 1m 12s\n",
      "27:\tlearn: 3.5294164\ttotal: 38.2s\tremaining: 1m 10s\n",
      "28:\tlearn: 3.4582596\ttotal: 39.5s\tremaining: 1m 9s\n",
      "29:\tlearn: 3.4039957\ttotal: 40.9s\tremaining: 1m 8s\n",
      "30:\tlearn: 3.2993340\ttotal: 42.3s\tremaining: 1m 6s\n",
      "31:\tlearn: 3.2524906\ttotal: 43.6s\tremaining: 1m 5s\n",
      "32:\tlearn: 3.1362440\ttotal: 44.9s\tremaining: 1m 3s\n",
      "33:\tlearn: 3.0536368\ttotal: 46.2s\tremaining: 1m 2s\n",
      "34:\tlearn: 2.9858839\ttotal: 47.4s\tremaining: 1m\n",
      "35:\tlearn: 2.9433161\ttotal: 48.6s\tremaining: 59.5s\n",
      "36:\tlearn: 2.8858525\ttotal: 49.9s\tremaining: 58s\n",
      "37:\tlearn: 2.8215769\ttotal: 51.2s\tremaining: 56.6s\n",
      "38:\tlearn: 2.7629676\ttotal: 52.5s\tremaining: 55.2s\n",
      "39:\tlearn: 2.6846591\ttotal: 53.8s\tremaining: 53.8s\n",
      "40:\tlearn: 2.6234333\ttotal: 55.1s\tremaining: 52.4s\n",
      "41:\tlearn: 2.5669781\ttotal: 56.4s\tremaining: 51.1s\n",
      "42:\tlearn: 2.5110180\ttotal: 57.7s\tremaining: 49.6s\n",
      "43:\tlearn: 2.4400935\ttotal: 59s\tremaining: 48.3s\n",
      "44:\tlearn: 2.3721024\ttotal: 1m\tremaining: 47s\n",
      "45:\tlearn: 2.3334885\ttotal: 1m 1s\tremaining: 45.6s\n",
      "46:\tlearn: 2.2804551\ttotal: 1m 2s\tremaining: 44.2s\n",
      "47:\tlearn: 2.2235532\ttotal: 1m 4s\tremaining: 42.8s\n",
      "48:\tlearn: 2.1776358\ttotal: 1m 5s\tremaining: 41.5s\n",
      "49:\tlearn: 2.1391652\ttotal: 1m 6s\tremaining: 40.1s\n",
      "50:\tlearn: 2.0996088\ttotal: 1m 8s\tremaining: 38.8s\n",
      "51:\tlearn: 2.0367368\ttotal: 1m 9s\tremaining: 37.4s\n",
      "52:\tlearn: 2.0158441\ttotal: 1m 10s\tremaining: 36s\n",
      "53:\tlearn: 1.9695042\ttotal: 1m 12s\tremaining: 34.7s\n",
      "54:\tlearn: 1.8839887\ttotal: 1m 13s\tremaining: 33.4s\n",
      "55:\tlearn: 1.8132851\ttotal: 1m 14s\tremaining: 32.1s\n",
      "56:\tlearn: 1.7597839\ttotal: 1m 16s\tremaining: 30.8s\n",
      "57:\tlearn: 1.7240147\ttotal: 1m 17s\tremaining: 29.5s\n",
      "58:\tlearn: 1.6761398\ttotal: 1m 19s\tremaining: 28.2s\n",
      "59:\tlearn: 1.6448880\ttotal: 1m 20s\tremaining: 26.8s\n",
      "60:\tlearn: 1.5974984\ttotal: 1m 21s\tremaining: 25.5s\n",
      "61:\tlearn: 1.5564564\ttotal: 1m 23s\tremaining: 24.1s\n",
      "62:\tlearn: 1.5295539\ttotal: 1m 24s\tremaining: 22.8s\n",
      "63:\tlearn: 1.5110908\ttotal: 1m 25s\tremaining: 21.4s\n",
      "64:\tlearn: 1.4766155\ttotal: 1m 26s\tremaining: 20.1s\n",
      "65:\tlearn: 1.4176543\ttotal: 1m 28s\tremaining: 18.7s\n",
      "66:\tlearn: 1.3661500\ttotal: 1m 29s\tremaining: 17.4s\n",
      "67:\tlearn: 1.3391898\ttotal: 1m 30s\tremaining: 16s\n",
      "68:\tlearn: 1.3087405\ttotal: 1m 32s\tremaining: 14.7s\n",
      "69:\tlearn: 1.2836186\ttotal: 1m 33s\tremaining: 13.3s\n",
      "70:\tlearn: 1.2457578\ttotal: 1m 34s\tremaining: 12s\n",
      "71:\tlearn: 1.2210302\ttotal: 1m 36s\tremaining: 10.7s\n",
      "72:\tlearn: 1.2024025\ttotal: 1m 37s\tremaining: 9.33s\n",
      "73:\tlearn: 1.1868045\ttotal: 1m 38s\tremaining: 7.99s\n",
      "74:\tlearn: 1.1538999\ttotal: 1m 39s\tremaining: 6.66s\n",
      "75:\tlearn: 1.1422510\ttotal: 1m 41s\tremaining: 5.32s\n",
      "76:\tlearn: 1.1161002\ttotal: 1m 42s\tremaining: 3.99s\n",
      "77:\tlearn: 1.0868646\ttotal: 1m 43s\tremaining: 2.66s\n",
      "78:\tlearn: 1.0680228\ttotal: 1m 45s\tremaining: 1.33s\n",
      "79:\tlearn: 1.0559889\ttotal: 1m 46s\tremaining: 0us\n",
      "Learning rate set to 0.468241\n",
      "0:\tlearn: 8.5848594\ttotal: 1.32s\tremaining: 1m 44s\n",
      "1:\tlearn: 7.6897582\ttotal: 2.62s\tremaining: 1m 42s\n",
      "2:\tlearn: 7.0769355\ttotal: 3.9s\tremaining: 1m 40s\n",
      "3:\tlearn: 6.7087023\ttotal: 5.28s\tremaining: 1m 40s\n",
      "4:\tlearn: 6.4296266\ttotal: 6.62s\tremaining: 1m 39s\n",
      "5:\tlearn: 6.1687475\ttotal: 7.97s\tremaining: 1m 38s\n",
      "6:\tlearn: 5.8838596\ttotal: 9.29s\tremaining: 1m 36s\n",
      "7:\tlearn: 5.6518284\ttotal: 10.6s\tremaining: 1m 35s\n",
      "8:\tlearn: 5.4890088\ttotal: 11.9s\tremaining: 1m 33s\n",
      "9:\tlearn: 5.3447915\ttotal: 13.2s\tremaining: 1m 32s\n",
      "10:\tlearn: 5.1714751\ttotal: 14.5s\tremaining: 1m 30s\n",
      "11:\tlearn: 4.9537895\ttotal: 15.8s\tremaining: 1m 29s\n",
      "12:\tlearn: 4.8121829\ttotal: 17s\tremaining: 1m 27s\n",
      "13:\tlearn: 4.6315291\ttotal: 18.3s\tremaining: 1m 26s\n",
      "14:\tlearn: 4.4487514\ttotal: 19.6s\tremaining: 1m 25s\n",
      "15:\tlearn: 4.3526137\ttotal: 21s\tremaining: 1m 23s\n",
      "16:\tlearn: 4.2549029\ttotal: 22.4s\tremaining: 1m 23s\n",
      "17:\tlearn: 4.1461059\ttotal: 23.9s\tremaining: 1m 22s\n",
      "18:\tlearn: 4.0282170\ttotal: 25.5s\tremaining: 1m 21s\n",
      "19:\tlearn: 3.9455701\ttotal: 26.9s\tremaining: 1m 20s\n",
      "20:\tlearn: 3.8939332\ttotal: 28.2s\tremaining: 1m 19s\n",
      "21:\tlearn: 3.8127435\ttotal: 29.6s\tremaining: 1m 17s\n",
      "22:\tlearn: 3.7484384\ttotal: 31s\tremaining: 1m 16s\n",
      "23:\tlearn: 3.6372282\ttotal: 32.4s\tremaining: 1m 15s\n",
      "24:\tlearn: 3.5554507\ttotal: 33.8s\tremaining: 1m 14s\n",
      "25:\tlearn: 3.4469860\ttotal: 35.3s\tremaining: 1m 13s\n",
      "26:\tlearn: 3.4013660\ttotal: 36.7s\tremaining: 1m 12s\n",
      "27:\tlearn: 3.3168008\ttotal: 38.1s\tremaining: 1m 10s\n",
      "28:\tlearn: 3.1870321\ttotal: 39.6s\tremaining: 1m 9s\n",
      "29:\tlearn: 3.1231919\ttotal: 41.1s\tremaining: 1m 8s\n",
      "30:\tlearn: 3.0696414\ttotal: 42.7s\tremaining: 1m 7s\n",
      "31:\tlearn: 3.0085748\ttotal: 44.3s\tremaining: 1m 6s\n",
      "32:\tlearn: 2.9270448\ttotal: 45.8s\tremaining: 1m 5s\n",
      "33:\tlearn: 2.8374064\ttotal: 47.4s\tremaining: 1m 4s\n",
      "34:\tlearn: 2.7780730\ttotal: 48.8s\tremaining: 1m 2s\n",
      "35:\tlearn: 2.7279808\ttotal: 50.2s\tremaining: 1m 1s\n",
      "36:\tlearn: 2.6912942\ttotal: 51.6s\tremaining: 1m\n",
      "37:\tlearn: 2.6418101\ttotal: 53.2s\tremaining: 58.8s\n",
      "38:\tlearn: 2.5813249\ttotal: 54.8s\tremaining: 57.6s\n",
      "39:\tlearn: 2.5508153\ttotal: 56.3s\tremaining: 56.3s\n",
      "40:\tlearn: 2.4905255\ttotal: 57.9s\tremaining: 55.1s\n",
      "41:\tlearn: 2.4339078\ttotal: 59.9s\tremaining: 54.2s\n",
      "42:\tlearn: 2.3865042\ttotal: 1m 1s\tremaining: 53s\n",
      "43:\tlearn: 2.3251564\ttotal: 1m 3s\tremaining: 51.8s\n",
      "44:\tlearn: 2.2966084\ttotal: 1m 4s\tremaining: 50.5s\n",
      "45:\tlearn: 2.2540253\ttotal: 1m 6s\tremaining: 49.2s\n",
      "46:\tlearn: 2.2068689\ttotal: 1m 8s\tremaining: 48s\n",
      "47:\tlearn: 2.1164531\ttotal: 1m 10s\tremaining: 46.8s\n",
      "48:\tlearn: 2.0832969\ttotal: 1m 11s\tremaining: 45.5s\n",
      "49:\tlearn: 2.0524189\ttotal: 1m 13s\tremaining: 44.2s\n",
      "50:\tlearn: 2.0275978\ttotal: 1m 15s\tremaining: 42.9s\n",
      "51:\tlearn: 1.9799942\ttotal: 1m 17s\tremaining: 41.7s\n",
      "52:\tlearn: 1.9229676\ttotal: 1m 19s\tremaining: 40.4s\n",
      "53:\tlearn: 1.8637966\ttotal: 1m 20s\tremaining: 38.9s\n",
      "54:\tlearn: 1.8172066\ttotal: 1m 22s\tremaining: 37.6s\n",
      "55:\tlearn: 1.7541345\ttotal: 1m 24s\tremaining: 36.1s\n",
      "56:\tlearn: 1.7179887\ttotal: 1m 26s\tremaining: 34.7s\n",
      "57:\tlearn: 1.6945940\ttotal: 1m 27s\tremaining: 33.3s\n",
      "58:\tlearn: 1.6391170\ttotal: 1m 29s\tremaining: 31.9s\n",
      "59:\tlearn: 1.6072376\ttotal: 1m 31s\tremaining: 30.4s\n",
      "60:\tlearn: 1.5761838\ttotal: 1m 33s\tremaining: 29s\n",
      "61:\tlearn: 1.5487275\ttotal: 1m 34s\tremaining: 27.5s\n",
      "62:\tlearn: 1.5029555\ttotal: 1m 36s\tremaining: 26s\n",
      "63:\tlearn: 1.4637221\ttotal: 1m 38s\tremaining: 24.6s\n",
      "64:\tlearn: 1.4435977\ttotal: 1m 39s\tremaining: 23s\n",
      "65:\tlearn: 1.4061868\ttotal: 1m 41s\tremaining: 21.5s\n",
      "66:\tlearn: 1.3518935\ttotal: 1m 42s\tremaining: 20s\n",
      "67:\tlearn: 1.3253557\ttotal: 1m 44s\tremaining: 18.4s\n",
      "68:\tlearn: 1.3047065\ttotal: 1m 45s\tremaining: 16.9s\n",
      "69:\tlearn: 1.2790850\ttotal: 1m 47s\tremaining: 15.3s\n",
      "70:\tlearn: 1.2614113\ttotal: 1m 48s\tremaining: 13.8s\n",
      "71:\tlearn: 1.2252230\ttotal: 1m 50s\tremaining: 12.3s\n",
      "72:\tlearn: 1.1907525\ttotal: 1m 51s\tremaining: 10.7s\n",
      "73:\tlearn: 1.1819097\ttotal: 1m 53s\tremaining: 9.19s\n",
      "74:\tlearn: 1.1478271\ttotal: 1m 54s\tremaining: 7.66s\n",
      "75:\tlearn: 1.1325181\ttotal: 1m 56s\tremaining: 6.13s\n",
      "76:\tlearn: 1.1072236\ttotal: 1m 57s\tremaining: 4.59s\n",
      "77:\tlearn: 1.0934209\ttotal: 1m 59s\tremaining: 3.06s\n",
      "78:\tlearn: 1.0588217\ttotal: 2m\tremaining: 1.53s\n",
      "79:\tlearn: 1.0327479\ttotal: 2m 2s\tremaining: 0us\n",
      "Learning rate set to 0.468241\n",
      "0:\tlearn: 8.6814724\ttotal: 1.52s\tremaining: 1m 59s\n",
      "1:\tlearn: 7.9103904\ttotal: 2.98s\tremaining: 1m 56s\n",
      "2:\tlearn: 7.3303272\ttotal: 4.49s\tremaining: 1m 55s\n",
      "3:\tlearn: 6.9328822\ttotal: 6.07s\tremaining: 1m 55s\n",
      "4:\tlearn: 6.5419544\ttotal: 7.52s\tremaining: 1m 52s\n",
      "5:\tlearn: 6.2675490\ttotal: 9.02s\tremaining: 1m 51s\n",
      "6:\tlearn: 6.0122701\ttotal: 10.4s\tremaining: 1m 48s\n",
      "7:\tlearn: 5.7967670\ttotal: 12s\tremaining: 1m 48s\n",
      "8:\tlearn: 5.6420660\ttotal: 13.5s\tremaining: 1m 46s\n",
      "9:\tlearn: 5.4752533\ttotal: 14.9s\tremaining: 1m 44s\n",
      "10:\tlearn: 5.3294832\ttotal: 16.4s\tremaining: 1m 42s\n",
      "11:\tlearn: 5.2025002\ttotal: 17.8s\tremaining: 1m 41s\n",
      "12:\tlearn: 5.0865797\ttotal: 19.4s\tremaining: 1m 40s\n",
      "13:\tlearn: 4.9724220\ttotal: 21s\tremaining: 1m 39s\n",
      "14:\tlearn: 4.8520989\ttotal: 22.4s\tremaining: 1m 37s\n",
      "15:\tlearn: 4.7041494\ttotal: 23.9s\tremaining: 1m 35s\n",
      "16:\tlearn: 4.5968219\ttotal: 25.3s\tremaining: 1m 33s\n",
      "17:\tlearn: 4.5125277\ttotal: 26.7s\tremaining: 1m 32s\n",
      "18:\tlearn: 4.4153519\ttotal: 28.1s\tremaining: 1m 30s\n",
      "19:\tlearn: 4.3278385\ttotal: 29.4s\tremaining: 1m 28s\n",
      "20:\tlearn: 4.2234811\ttotal: 30.8s\tremaining: 1m 26s\n",
      "21:\tlearn: 4.1500805\ttotal: 32.1s\tremaining: 1m 24s\n",
      "22:\tlearn: 4.0625484\ttotal: 33.5s\tremaining: 1m 23s\n",
      "23:\tlearn: 3.9704791\ttotal: 34.9s\tremaining: 1m 21s\n",
      "24:\tlearn: 3.9060442\ttotal: 36.3s\tremaining: 1m 19s\n",
      "25:\tlearn: 3.8182200\ttotal: 37.7s\tremaining: 1m 18s\n",
      "26:\tlearn: 3.7369358\ttotal: 39.1s\tremaining: 1m 16s\n",
      "27:\tlearn: 3.6161444\ttotal: 40.6s\tremaining: 1m 15s\n",
      "28:\tlearn: 3.5227060\ttotal: 42.1s\tremaining: 1m 13s\n",
      "29:\tlearn: 3.4050089\ttotal: 43.5s\tremaining: 1m 12s\n",
      "30:\tlearn: 3.3342511\ttotal: 44.8s\tremaining: 1m 10s\n",
      "31:\tlearn: 3.2585599\ttotal: 46.3s\tremaining: 1m 9s\n",
      "32:\tlearn: 3.2114389\ttotal: 47.7s\tremaining: 1m 7s\n",
      "33:\tlearn: 3.1626578\ttotal: 49.1s\tremaining: 1m 6s\n",
      "34:\tlearn: 3.1155261\ttotal: 50.6s\tremaining: 1m 4s\n",
      "35:\tlearn: 3.0729560\ttotal: 52.2s\tremaining: 1m 3s\n",
      "36:\tlearn: 2.9857367\ttotal: 53.6s\tremaining: 1m 2s\n",
      "37:\tlearn: 2.8923478\ttotal: 55.1s\tremaining: 1m\n",
      "38:\tlearn: 2.8179923\ttotal: 56.5s\tremaining: 59.4s\n",
      "39:\tlearn: 2.7768735\ttotal: 58s\tremaining: 58s\n",
      "40:\tlearn: 2.7358057\ttotal: 59.4s\tremaining: 56.5s\n",
      "41:\tlearn: 2.6321023\ttotal: 1m\tremaining: 55.1s\n",
      "42:\tlearn: 2.5732776\ttotal: 1m 2s\tremaining: 53.6s\n",
      "43:\tlearn: 2.4982760\ttotal: 1m 3s\tremaining: 52.2s\n",
      "44:\tlearn: 2.4645566\ttotal: 1m 5s\tremaining: 50.7s\n",
      "45:\tlearn: 2.4356456\ttotal: 1m 6s\tremaining: 49.3s\n",
      "46:\tlearn: 2.3629764\ttotal: 1m 8s\tremaining: 47.8s\n",
      "47:\tlearn: 2.2954810\ttotal: 1m 9s\tremaining: 46.4s\n",
      "48:\tlearn: 2.2352131\ttotal: 1m 11s\tremaining: 44.9s\n",
      "49:\tlearn: 2.2032014\ttotal: 1m 12s\tremaining: 43.4s\n",
      "50:\tlearn: 2.1612947\ttotal: 1m 13s\tremaining: 41.9s\n",
      "51:\tlearn: 2.1313634\ttotal: 1m 15s\tremaining: 40.4s\n",
      "52:\tlearn: 2.0966870\ttotal: 1m 16s\tremaining: 38.9s\n",
      "53:\tlearn: 2.0638475\ttotal: 1m 17s\tremaining: 37.5s\n",
      "54:\tlearn: 2.0377718\ttotal: 1m 19s\tremaining: 36s\n",
      "55:\tlearn: 1.9587567\ttotal: 1m 20s\tremaining: 34.5s\n",
      "56:\tlearn: 1.9227919\ttotal: 1m 21s\tremaining: 33s\n",
      "57:\tlearn: 1.8655959\ttotal: 1m 23s\tremaining: 31.5s\n",
      "58:\tlearn: 1.8240119\ttotal: 1m 24s\tremaining: 30.1s\n",
      "59:\tlearn: 1.7881701\ttotal: 1m 25s\tremaining: 28.6s\n",
      "60:\tlearn: 1.7377903\ttotal: 1m 27s\tremaining: 27.2s\n",
      "61:\tlearn: 1.7083924\ttotal: 1m 28s\tremaining: 25.7s\n",
      "62:\tlearn: 1.6627253\ttotal: 1m 29s\tremaining: 24.2s\n",
      "63:\tlearn: 1.6154901\ttotal: 1m 31s\tremaining: 22.8s\n",
      "64:\tlearn: 1.5801828\ttotal: 1m 32s\tremaining: 21.3s\n",
      "65:\tlearn: 1.5511870\ttotal: 1m 33s\tremaining: 19.9s\n",
      "66:\tlearn: 1.5238231\ttotal: 1m 34s\tremaining: 18.4s\n",
      "67:\tlearn: 1.4843554\ttotal: 1m 36s\tremaining: 17s\n",
      "68:\tlearn: 1.4404621\ttotal: 1m 37s\tremaining: 15.6s\n",
      "69:\tlearn: 1.4174255\ttotal: 1m 39s\tremaining: 14.2s\n",
      "70:\tlearn: 1.3865946\ttotal: 1m 40s\tremaining: 12.7s\n",
      "71:\tlearn: 1.3617729\ttotal: 1m 41s\tremaining: 11.3s\n",
      "72:\tlearn: 1.3310731\ttotal: 1m 43s\tremaining: 9.88s\n",
      "73:\tlearn: 1.2722926\ttotal: 1m 44s\tremaining: 8.46s\n",
      "74:\tlearn: 1.2457766\ttotal: 1m 45s\tremaining: 7.04s\n",
      "75:\tlearn: 1.2379195\ttotal: 1m 47s\tremaining: 5.64s\n",
      "76:\tlearn: 1.2134203\ttotal: 1m 48s\tremaining: 4.23s\n",
      "77:\tlearn: 1.1722202\ttotal: 1m 49s\tremaining: 2.82s\n",
      "78:\tlearn: 1.1517816\ttotal: 1m 51s\tremaining: 1.41s\n",
      "79:\tlearn: 1.1341896\ttotal: 1m 52s\tremaining: 0us\n",
      "Learning rate set to 0.468247\n",
      "0:\tlearn: 8.6735518\ttotal: 1.36s\tremaining: 1m 47s\n",
      "1:\tlearn: 7.7996423\ttotal: 2.69s\tremaining: 1m 44s\n",
      "2:\tlearn: 7.1802906\ttotal: 4.01s\tremaining: 1m 42s\n",
      "3:\tlearn: 6.8017559\ttotal: 5.38s\tremaining: 1m 42s\n",
      "4:\tlearn: 6.5067210\ttotal: 6.81s\tremaining: 1m 42s\n",
      "5:\tlearn: 6.1581918\ttotal: 8.16s\tremaining: 1m 40s\n",
      "6:\tlearn: 5.9176686\ttotal: 9.65s\tremaining: 1m 40s\n",
      "7:\tlearn: 5.7072589\ttotal: 11.2s\tremaining: 1m 41s\n",
      "8:\tlearn: 5.5235124\ttotal: 12.7s\tremaining: 1m 39s\n",
      "9:\tlearn: 5.2850096\ttotal: 14.1s\tremaining: 1m 38s\n",
      "10:\tlearn: 5.1769052\ttotal: 15.5s\tremaining: 1m 37s\n",
      "11:\tlearn: 5.0659347\ttotal: 16.9s\tremaining: 1m 35s\n",
      "12:\tlearn: 4.9267547\ttotal: 18.2s\tremaining: 1m 33s\n",
      "13:\tlearn: 4.7820262\ttotal: 19.6s\tremaining: 1m 32s\n",
      "14:\tlearn: 4.6743141\ttotal: 21s\tremaining: 1m 30s\n",
      "15:\tlearn: 4.5670398\ttotal: 22.3s\tremaining: 1m 29s\n",
      "16:\tlearn: 4.4715126\ttotal: 23.7s\tremaining: 1m 27s\n",
      "17:\tlearn: 4.3845698\ttotal: 25.1s\tremaining: 1m 26s\n",
      "18:\tlearn: 4.2753460\ttotal: 26.5s\tremaining: 1m 24s\n",
      "19:\tlearn: 4.2011099\ttotal: 27.9s\tremaining: 1m 23s\n",
      "20:\tlearn: 4.1272352\ttotal: 29.2s\tremaining: 1m 22s\n",
      "21:\tlearn: 4.0729609\ttotal: 30.6s\tremaining: 1m 20s\n",
      "22:\tlearn: 3.9407610\ttotal: 31.9s\tremaining: 1m 18s\n",
      "23:\tlearn: 3.8275843\ttotal: 33.2s\tremaining: 1m 17s\n",
      "24:\tlearn: 3.7579913\ttotal: 34.5s\tremaining: 1m 15s\n",
      "25:\tlearn: 3.7009343\ttotal: 35.9s\tremaining: 1m 14s\n",
      "26:\tlearn: 3.6355663\ttotal: 37.3s\tremaining: 1m 13s\n",
      "27:\tlearn: 3.5518628\ttotal: 38.7s\tremaining: 1m 11s\n",
      "28:\tlearn: 3.4868642\ttotal: 40.1s\tremaining: 1m 10s\n",
      "29:\tlearn: 3.4323369\ttotal: 41.6s\tremaining: 1m 9s\n",
      "30:\tlearn: 3.3742588\ttotal: 43s\tremaining: 1m 8s\n",
      "31:\tlearn: 3.2789233\ttotal: 44.6s\tremaining: 1m 6s\n",
      "32:\tlearn: 3.2294457\ttotal: 46s\tremaining: 1m 5s\n",
      "33:\tlearn: 3.1506910\ttotal: 47.5s\tremaining: 1m 4s\n",
      "34:\tlearn: 3.1008981\ttotal: 48.9s\tremaining: 1m 2s\n",
      "35:\tlearn: 3.0187768\ttotal: 50.3s\tremaining: 1m 1s\n",
      "36:\tlearn: 2.9552212\ttotal: 51.6s\tremaining: 1m\n",
      "37:\tlearn: 2.9189113\ttotal: 53s\tremaining: 58.6s\n",
      "38:\tlearn: 2.8794868\ttotal: 54.5s\tremaining: 57.3s\n",
      "39:\tlearn: 2.8042477\ttotal: 56s\tremaining: 56s\n",
      "40:\tlearn: 2.7541944\ttotal: 57.4s\tremaining: 54.6s\n",
      "41:\tlearn: 2.7023762\ttotal: 58.7s\tremaining: 53.1s\n",
      "42:\tlearn: 2.6641572\ttotal: 1m\tremaining: 51.7s\n",
      "43:\tlearn: 2.6136857\ttotal: 1m 1s\tremaining: 50.2s\n",
      "44:\tlearn: 2.5752467\ttotal: 1m 2s\tremaining: 48.8s\n",
      "45:\tlearn: 2.5169700\ttotal: 1m 4s\tremaining: 47.3s\n",
      "46:\tlearn: 2.4710659\ttotal: 1m 5s\tremaining: 45.9s\n",
      "47:\tlearn: 2.3976364\ttotal: 1m 6s\tremaining: 44.5s\n",
      "48:\tlearn: 2.3545722\ttotal: 1m 8s\tremaining: 43.1s\n",
      "49:\tlearn: 2.3043717\ttotal: 1m 9s\tremaining: 41.7s\n",
      "50:\tlearn: 2.2548635\ttotal: 1m 10s\tremaining: 40.3s\n",
      "51:\tlearn: 2.2144719\ttotal: 1m 12s\tremaining: 38.9s\n",
      "52:\tlearn: 2.1891713\ttotal: 1m 13s\tremaining: 37.5s\n",
      "53:\tlearn: 2.1546818\ttotal: 1m 15s\tremaining: 36.1s\n",
      "54:\tlearn: 2.0810712\ttotal: 1m 16s\tremaining: 34.7s\n",
      "55:\tlearn: 2.0350509\ttotal: 1m 17s\tremaining: 33.3s\n",
      "56:\tlearn: 2.0070489\ttotal: 1m 19s\tremaining: 31.9s\n",
      "57:\tlearn: 1.9846280\ttotal: 1m 20s\tremaining: 30.5s\n",
      "58:\tlearn: 1.9616029\ttotal: 1m 21s\tremaining: 29.1s\n",
      "59:\tlearn: 1.8985320\ttotal: 1m 23s\tremaining: 27.7s\n",
      "60:\tlearn: 1.8628722\ttotal: 1m 24s\tremaining: 26.4s\n",
      "61:\tlearn: 1.8332166\ttotal: 1m 25s\tremaining: 25s\n",
      "62:\tlearn: 1.7935765\ttotal: 1m 27s\tremaining: 23.6s\n",
      "63:\tlearn: 1.7649327\ttotal: 1m 28s\tremaining: 22.2s\n",
      "64:\tlearn: 1.7082935\ttotal: 1m 30s\tremaining: 20.8s\n",
      "65:\tlearn: 1.6743729\ttotal: 1m 31s\tremaining: 19.5s\n",
      "66:\tlearn: 1.6426744\ttotal: 1m 33s\tremaining: 18.1s\n",
      "67:\tlearn: 1.6067233\ttotal: 1m 34s\tremaining: 16.7s\n",
      "68:\tlearn: 1.5902780\ttotal: 1m 35s\tremaining: 15.3s\n",
      "69:\tlearn: 1.5485510\ttotal: 1m 37s\tremaining: 13.9s\n",
      "70:\tlearn: 1.4942904\ttotal: 1m 38s\tremaining: 12.5s\n",
      "71:\tlearn: 1.4671407\ttotal: 1m 40s\tremaining: 11.1s\n",
      "72:\tlearn: 1.4227142\ttotal: 1m 41s\tremaining: 9.72s\n",
      "73:\tlearn: 1.4075439\ttotal: 1m 42s\tremaining: 8.33s\n",
      "74:\tlearn: 1.3936778\ttotal: 1m 44s\tremaining: 6.95s\n",
      "75:\tlearn: 1.3732616\ttotal: 1m 45s\tremaining: 5.55s\n",
      "76:\tlearn: 1.3473990\ttotal: 1m 46s\tremaining: 4.16s\n",
      "77:\tlearn: 1.3281993\ttotal: 1m 48s\tremaining: 2.78s\n",
      "78:\tlearn: 1.2901449\ttotal: 1m 49s\tremaining: 1.39s\n",
      "79:\tlearn: 1.2667890\ttotal: 1m 51s\tremaining: 0us\n"
     ]
    },
    {
     "data": {
      "text/plain": [
       "-10.609919714817712"
      ]
     },
     "execution_count": 35,
     "metadata": {},
     "output_type": "execute_result"
    }
   ],
   "source": [
    "#находим лучшую модель для эффективности обогащения финального концентрата\n",
    "model_cb_final = CatBoostRegressor(random_state=12345)\n",
    "\n",
    "#подбираем лучшие гиперпараметры\n",
    "param = {'depth': range(1,15,1),\n",
    "         'iterations': range(10,100,10)}\n",
    "grid = RandomizedSearchCV(model_cb_final, param, n_iter=3)\n",
    "grid.fit(features_train, target_train_final)\n",
    "best_model_cb_final = grid.best_estimator_\n",
    "\n",
    "cross_val_score(best_model_cb_final, features_train, target_train_final, scoring=smape_scorer).mean()"
   ]
  },
  {
   "cell_type": "markdown",
   "metadata": {},
   "source": [
    "Лучший результат кросс-валидации для эффективности обогащения чернового и финального концентрата показали модели случайного леса. Проверим их на тестовой выборке."
   ]
  },
  {
   "cell_type": "code",
   "execution_count": 36,
   "metadata": {},
   "outputs": [
    {
     "name": "stdout",
     "output_type": "stream",
     "text": [
      "sMAPE чернового концентрата: 10.36\n",
      "sMAPE финального концентрата: 9.25\n",
      "Итоговое sMAPE: 9.52\n"
     ]
    }
   ],
   "source": [
    "predictions_rougher = best_model_rf_rougher.predict(features_test)\n",
    "smape_rougher = smape(target_test_rougher, predictions_rougher)\n",
    "print('sMAPE чернового концентрата:', round(smape_rougher, 2))\n",
    "\n",
    "predictions_final = best_model_rf_final.predict(features_test)\n",
    "smape_final = smape(target_test_final, predictions_final)\n",
    "print('sMAPE финального концентрата:', round(smape_final, 2))\n",
    "\n",
    "print('Итоговое sMAPE:', round(final_smape(smape_rougher, smape_final), 2))"
   ]
  },
  {
   "cell_type": "markdown",
   "metadata": {},
   "source": [
    "Сравним эти модели с константными."
   ]
  },
  {
   "cell_type": "code",
   "execution_count": 37,
   "metadata": {},
   "outputs": [
    {
     "name": "stdout",
     "output_type": "stream",
     "text": [
      "sMAPE чернового концентрата: 10.38\n",
      "sMAPE финального концентрата: 10.26\n",
      "Итоговое sMAPE: 10.29\n"
     ]
    }
   ],
   "source": [
    "dummy_rougher = DummyRegressor()\n",
    "dummy_rougher.fit(features_train, target_train_rougher)\n",
    "predictions_dummy_rougher = dummy_rougher.predict(features_test)\n",
    "smape_dummy_rougher = smape(target_test_rougher, predictions_dummy_rougher)\n",
    "print('sMAPE чернового концентрата:', round(smape_dummy_rougher, 2))\n",
    "\n",
    "dummy_final = DummyRegressor()\n",
    "dummy_final.fit(features_train, target_train_final)\n",
    "predictions_dummy_final = dummy_final.predict(features_test)\n",
    "smape_dummy_final = smape(target_test_final, predictions_dummy_final)\n",
    "print('sMAPE финального концентрата:', round(smape_dummy_final, 2))\n",
    "\n",
    "print('Итоговое sMAPE:', round(final_smape(smape_dummy_rougher, smape_dummy_final), 2))"
   ]
  },
  {
   "cell_type": "markdown",
   "metadata": {},
   "source": [
    "Показатели sMAPE чернового и финального концентрата и итоговое sMAPE у константных моделей больше, чем у наших моделей, что показывает, что предсказания наших моделей адекватны."
   ]
  },
  {
   "cell_type": "markdown",
   "metadata": {},
   "source": [
    "### Вывод"
   ]
  },
  {
   "cell_type": "markdown",
   "metadata": {},
   "source": [
    "При помощи кросс-валидации было выяснено, что для предсказания эффективности обогащения чернового и финального концентрата лучше всего подходит модель случайного леса. Также были вычислены sMAPE чернового концентрата: 10.36, sMAPE финального концентрата: 9.25, итоговое sMAPE: 9.52. Также модели были сравнены с константными моделями, показатели sMAPE наших моделей меньше, чем у константных, что показывает адекватность наших моделей."
   ]
  },
  {
   "cell_type": "markdown",
   "metadata": {},
   "source": [
    "## Общий вывод"
   ]
  },
  {
   "cell_type": "markdown",
   "metadata": {},
   "source": [
    "В ходе данной работы были изучены предоставленные файлы, проверена правильность расчета эффективности обогащения, проведена предобработка данных. Также:\n",
    "* исследовано изменение концентрации металлов на различных этапах очистки, концентрация золота увеличивается с каждым этапом, концентрация серебра уменьшается, концентрация свинца немного увеличивается;\n",
    "* распределения размеров гранул сырья на обучающей и тестовой выборках были сравнены, распределения одинаковы;\n",
    "* исследована суммарная концентрация всех веществ в сырье, в черновом и финальном концентратах, с каждым этапом суммарная концентрация увеличивается.\n",
    "\n",
    "Затем были выбраны лучшие модели при помощи кросс-валидации, для предсказания эффективности обогащения чернового и финального концентрата лучше всего подходит модель случайного леса. Также были вычислены sMAPE чернового концентрата: 10.36, sMAPE финального концентрата: 9.25, итоговое sMAPE: 9.52. Также модели были сравнены с константными моделями, показатели sMAPE наших моделей меньше, чем у константных, что показывает адекватность наших моделей."
   ]
  }
 ],
 "metadata": {
  "ExecuteTimeLog": [
   {
    "duration": 50,
    "start_time": "2022-07-14T15:19:48.886Z"
   },
   {
    "duration": 394,
    "start_time": "2022-07-14T15:19:51.325Z"
   },
   {
    "duration": 838,
    "start_time": "2022-07-14T15:19:52.205Z"
   },
   {
    "duration": 4,
    "start_time": "2022-07-14T16:35:10.332Z"
   },
   {
    "duration": 2469,
    "start_time": "2022-07-14T16:37:31.620Z"
   },
   {
    "duration": 4,
    "start_time": "2022-07-14T16:39:11.494Z"
   },
   {
    "duration": 505,
    "start_time": "2022-07-14T16:39:12.652Z"
   },
   {
    "duration": 439,
    "start_time": "2022-07-14T16:49:52.088Z"
   },
   {
    "duration": 416,
    "start_time": "2022-07-14T16:51:21.050Z"
   },
   {
    "duration": 497,
    "start_time": "2022-07-14T16:52:02.227Z"
   },
   {
    "duration": 418,
    "start_time": "2022-07-14T16:52:09.865Z"
   },
   {
    "duration": 587,
    "start_time": "2022-07-14T16:52:14.949Z"
   },
   {
    "duration": 451,
    "start_time": "2022-07-14T16:52:33.295Z"
   },
   {
    "duration": 3,
    "start_time": "2022-07-14T17:54:53.230Z"
   },
   {
    "duration": 6,
    "start_time": "2022-07-14T17:55:59.192Z"
   },
   {
    "duration": 634,
    "start_time": "2022-07-14T18:05:54.020Z"
   },
   {
    "duration": 7,
    "start_time": "2022-07-14T18:07:21.356Z"
   },
   {
    "duration": 1041,
    "start_time": "2022-07-14T18:11:37.719Z"
   },
   {
    "duration": 4,
    "start_time": "2022-07-14T18:11:38.761Z"
   },
   {
    "duration": 526,
    "start_time": "2022-07-14T18:11:38.766Z"
   },
   {
    "duration": 439,
    "start_time": "2022-07-14T18:11:39.295Z"
   },
   {
    "duration": 122,
    "start_time": "2022-07-14T18:11:39.736Z"
   },
   {
    "duration": 3,
    "start_time": "2022-07-14T18:11:39.860Z"
   },
   {
    "duration": 11,
    "start_time": "2022-07-14T18:11:39.865Z"
   },
   {
    "duration": 12,
    "start_time": "2022-07-14T18:11:39.877Z"
   },
   {
    "duration": 4,
    "start_time": "2022-07-14T18:12:43.280Z"
   },
   {
    "duration": 118,
    "start_time": "2022-07-14T18:13:09.052Z"
   },
   {
    "duration": 10,
    "start_time": "2022-07-14T18:13:32.064Z"
   },
   {
    "duration": 13,
    "start_time": "2022-07-14T18:14:32.795Z"
   },
   {
    "duration": 48,
    "start_time": "2022-07-14T18:15:51.240Z"
   },
   {
    "duration": 7,
    "start_time": "2022-07-14T18:15:56.822Z"
   },
   {
    "duration": 4,
    "start_time": "2022-07-14T18:44:32.730Z"
   },
   {
    "duration": 4,
    "start_time": "2022-07-14T18:45:02.425Z"
   },
   {
    "duration": 8,
    "start_time": "2022-07-14T18:46:27.983Z"
   },
   {
    "duration": 10,
    "start_time": "2022-07-14T18:46:58.639Z"
   },
   {
    "duration": 3,
    "start_time": "2022-07-14T18:47:10.562Z"
   },
   {
    "duration": 10,
    "start_time": "2022-07-14T18:47:19.746Z"
   },
   {
    "duration": 10,
    "start_time": "2022-07-14T18:47:21.573Z"
   },
   {
    "duration": 1029,
    "start_time": "2022-07-14T18:47:34.195Z"
   },
   {
    "duration": 3,
    "start_time": "2022-07-14T18:47:35.227Z"
   },
   {
    "duration": 597,
    "start_time": "2022-07-14T18:47:35.232Z"
   },
   {
    "duration": 409,
    "start_time": "2022-07-14T18:47:35.832Z"
   },
   {
    "duration": 118,
    "start_time": "2022-07-14T18:47:36.242Z"
   },
   {
    "duration": 2,
    "start_time": "2022-07-14T18:47:36.362Z"
   },
   {
    "duration": 11,
    "start_time": "2022-07-14T18:47:36.366Z"
   },
   {
    "duration": 11,
    "start_time": "2022-07-14T18:47:36.378Z"
   },
   {
    "duration": 40,
    "start_time": "2022-07-14T18:47:36.390Z"
   },
   {
    "duration": 7,
    "start_time": "2022-07-14T18:47:36.433Z"
   },
   {
    "duration": 7,
    "start_time": "2022-07-14T18:48:00.034Z"
   },
   {
    "duration": 1128,
    "start_time": "2022-07-14T18:48:04.399Z"
   },
   {
    "duration": 4,
    "start_time": "2022-07-14T18:48:05.529Z"
   },
   {
    "duration": 535,
    "start_time": "2022-07-14T18:48:05.535Z"
   },
   {
    "duration": 406,
    "start_time": "2022-07-14T18:48:06.072Z"
   },
   {
    "duration": 136,
    "start_time": "2022-07-14T18:48:06.480Z"
   },
   {
    "duration": 3,
    "start_time": "2022-07-14T18:48:06.618Z"
   },
   {
    "duration": 27,
    "start_time": "2022-07-14T18:48:06.623Z"
   },
   {
    "duration": 12,
    "start_time": "2022-07-14T18:48:06.651Z"
   },
   {
    "duration": 12,
    "start_time": "2022-07-14T18:48:06.665Z"
   },
   {
    "duration": 14,
    "start_time": "2022-07-14T18:48:06.679Z"
   },
   {
    "duration": 1042,
    "start_time": "2022-07-14T18:49:03.330Z"
   },
   {
    "duration": 3,
    "start_time": "2022-07-14T18:49:04.374Z"
   },
   {
    "duration": 562,
    "start_time": "2022-07-14T18:49:04.378Z"
   },
   {
    "duration": 464,
    "start_time": "2022-07-14T18:49:04.942Z"
   },
   {
    "duration": 195,
    "start_time": "2022-07-14T18:49:05.408Z"
   },
   {
    "duration": 3,
    "start_time": "2022-07-14T18:49:05.607Z"
   },
   {
    "duration": 67,
    "start_time": "2022-07-14T18:49:05.612Z"
   },
   {
    "duration": 61,
    "start_time": "2022-07-14T18:49:05.681Z"
   },
   {
    "duration": 40,
    "start_time": "2022-07-14T18:49:05.744Z"
   },
   {
    "duration": 144,
    "start_time": "2022-07-14T18:49:05.786Z"
   },
   {
    "duration": 1056,
    "start_time": "2022-07-14T18:49:38.824Z"
   },
   {
    "duration": 3,
    "start_time": "2022-07-14T18:49:39.882Z"
   },
   {
    "duration": 533,
    "start_time": "2022-07-14T18:49:39.887Z"
   },
   {
    "duration": 420,
    "start_time": "2022-07-14T18:49:40.422Z"
   },
   {
    "duration": 122,
    "start_time": "2022-07-14T18:49:40.843Z"
   },
   {
    "duration": 3,
    "start_time": "2022-07-14T18:49:40.966Z"
   },
   {
    "duration": 8,
    "start_time": "2022-07-14T18:49:40.970Z"
   },
   {
    "duration": 7,
    "start_time": "2022-07-14T18:49:40.980Z"
   },
   {
    "duration": 21,
    "start_time": "2022-07-14T18:49:40.988Z"
   },
   {
    "duration": 24,
    "start_time": "2022-07-14T18:49:41.011Z"
   },
   {
    "duration": 1061,
    "start_time": "2022-07-14T18:53:05.451Z"
   },
   {
    "duration": 9,
    "start_time": "2022-07-14T18:53:06.518Z"
   },
   {
    "duration": 560,
    "start_time": "2022-07-14T18:53:06.528Z"
   },
   {
    "duration": 446,
    "start_time": "2022-07-14T18:53:07.090Z"
   },
   {
    "duration": 127,
    "start_time": "2022-07-14T18:53:07.539Z"
   },
   {
    "duration": 2,
    "start_time": "2022-07-14T18:53:07.668Z"
   },
   {
    "duration": 16,
    "start_time": "2022-07-14T18:53:07.672Z"
   },
   {
    "duration": 16,
    "start_time": "2022-07-14T18:53:07.690Z"
   },
   {
    "duration": 18,
    "start_time": "2022-07-14T18:53:07.714Z"
   },
   {
    "duration": 20,
    "start_time": "2022-07-14T18:53:07.734Z"
   },
   {
    "duration": 13,
    "start_time": "2022-07-14T18:54:30.337Z"
   },
   {
    "duration": 28,
    "start_time": "2022-07-14T19:00:31.381Z"
   },
   {
    "duration": 25,
    "start_time": "2022-07-14T19:00:49.149Z"
   },
   {
    "duration": 29,
    "start_time": "2022-07-14T19:01:15.346Z"
   },
   {
    "duration": 4,
    "start_time": "2022-07-14T19:01:25.892Z"
   },
   {
    "duration": 96,
    "start_time": "2022-07-14T19:01:32.920Z"
   },
   {
    "duration": 9,
    "start_time": "2022-07-14T19:01:51.053Z"
   },
   {
    "duration": 7,
    "start_time": "2022-07-14T19:02:03.734Z"
   },
   {
    "duration": 10,
    "start_time": "2022-07-14T19:02:24.203Z"
   },
   {
    "duration": 12,
    "start_time": "2022-07-14T19:16:18.281Z"
   },
   {
    "duration": 18,
    "start_time": "2022-07-14T19:17:54.037Z"
   },
   {
    "duration": 9,
    "start_time": "2022-07-14T19:18:12.788Z"
   },
   {
    "duration": 1060,
    "start_time": "2022-07-18T11:11:31.294Z"
   },
   {
    "duration": 3,
    "start_time": "2022-07-18T11:11:32.356Z"
   },
   {
    "duration": 2001,
    "start_time": "2022-07-18T11:11:32.361Z"
   },
   {
    "duration": 977,
    "start_time": "2022-07-18T11:11:34.365Z"
   },
   {
    "duration": 407,
    "start_time": "2022-07-18T11:11:35.344Z"
   },
   {
    "duration": 3,
    "start_time": "2022-07-18T11:11:35.752Z"
   },
   {
    "duration": 9,
    "start_time": "2022-07-18T11:11:35.756Z"
   },
   {
    "duration": 8,
    "start_time": "2022-07-18T11:11:35.766Z"
   },
   {
    "duration": 8,
    "start_time": "2022-07-18T11:11:35.776Z"
   },
   {
    "duration": 9,
    "start_time": "2022-07-18T11:11:35.786Z"
   },
   {
    "duration": 13,
    "start_time": "2022-07-18T11:11:35.797Z"
   },
   {
    "duration": 643,
    "start_time": "2022-07-18T11:18:38.300Z"
   },
   {
    "duration": 186,
    "start_time": "2022-07-18T11:19:11.028Z"
   },
   {
    "duration": 173,
    "start_time": "2022-07-18T11:19:18.828Z"
   },
   {
    "duration": 216,
    "start_time": "2022-07-18T11:19:51.317Z"
   },
   {
    "duration": 157,
    "start_time": "2022-07-18T11:22:40.062Z"
   },
   {
    "duration": 400,
    "start_time": "2022-07-18T11:23:28.220Z"
   },
   {
    "duration": 394,
    "start_time": "2022-07-18T11:24:30.691Z"
   },
   {
    "duration": 111,
    "start_time": "2022-07-18T11:25:01.933Z"
   },
   {
    "duration": 4,
    "start_time": "2022-07-18T11:25:11.073Z"
   },
   {
    "duration": 121,
    "start_time": "2022-07-18T11:25:19.716Z"
   },
   {
    "duration": 1352,
    "start_time": "2022-07-18T11:26:59.461Z"
   },
   {
    "duration": 3,
    "start_time": "2022-07-18T11:27:00.815Z"
   },
   {
    "duration": 570,
    "start_time": "2022-07-18T11:27:00.820Z"
   },
   {
    "duration": 493,
    "start_time": "2022-07-18T11:27:01.392Z"
   },
   {
    "duration": 148,
    "start_time": "2022-07-18T11:27:01.894Z"
   },
   {
    "duration": 3,
    "start_time": "2022-07-18T11:27:02.044Z"
   },
   {
    "duration": 41,
    "start_time": "2022-07-18T11:27:02.061Z"
   },
   {
    "duration": 40,
    "start_time": "2022-07-18T11:27:02.103Z"
   },
   {
    "duration": 21,
    "start_time": "2022-07-18T11:27:02.145Z"
   },
   {
    "duration": 33,
    "start_time": "2022-07-18T11:27:02.169Z"
   },
   {
    "duration": 16,
    "start_time": "2022-07-18T11:27:02.203Z"
   },
   {
    "duration": 130,
    "start_time": "2022-07-18T11:27:02.220Z"
   },
   {
    "duration": 0,
    "start_time": "2022-07-18T11:27:02.352Z"
   },
   {
    "duration": 6,
    "start_time": "2022-07-18T11:27:11.605Z"
   },
   {
    "duration": 58,
    "start_time": "2022-07-18T11:29:40.890Z"
   },
   {
    "duration": 9,
    "start_time": "2022-07-18T11:29:45.519Z"
   },
   {
    "duration": 5,
    "start_time": "2022-07-18T11:30:25.317Z"
   },
   {
    "duration": 516,
    "start_time": "2022-07-18T11:31:27.932Z"
   },
   {
    "duration": 504,
    "start_time": "2022-07-18T11:31:42.293Z"
   },
   {
    "duration": 232,
    "start_time": "2022-07-18T11:33:41.799Z"
   },
   {
    "duration": 238,
    "start_time": "2022-07-18T11:34:12.751Z"
   },
   {
    "duration": 226,
    "start_time": "2022-07-18T11:34:18.049Z"
   },
   {
    "duration": 214,
    "start_time": "2022-07-18T11:34:57.185Z"
   },
   {
    "duration": 201,
    "start_time": "2022-07-18T11:36:13.281Z"
   },
   {
    "duration": 225,
    "start_time": "2022-07-18T11:39:12.347Z"
   },
   {
    "duration": 211,
    "start_time": "2022-07-18T11:39:51.115Z"
   },
   {
    "duration": 221,
    "start_time": "2022-07-18T11:41:05.845Z"
   },
   {
    "duration": 224,
    "start_time": "2022-07-18T11:42:19.860Z"
   },
   {
    "duration": 218,
    "start_time": "2022-07-18T11:42:43.540Z"
   },
   {
    "duration": 211,
    "start_time": "2022-07-18T11:43:04.711Z"
   },
   {
    "duration": 246,
    "start_time": "2022-07-18T11:45:18.545Z"
   },
   {
    "duration": 241,
    "start_time": "2022-07-18T11:45:39.165Z"
   },
   {
    "duration": 231,
    "start_time": "2022-07-18T11:48:39.200Z"
   },
   {
    "duration": 270,
    "start_time": "2022-07-18T11:50:46.239Z"
   },
   {
    "duration": 1499,
    "start_time": "2022-07-18T11:55:49.097Z"
   },
   {
    "duration": 10,
    "start_time": "2022-07-18T12:00:06.661Z"
   },
   {
    "duration": 234,
    "start_time": "2022-07-18T12:00:12.318Z"
   },
   {
    "duration": 109,
    "start_time": "2022-07-18T12:00:57.898Z"
   },
   {
    "duration": 164,
    "start_time": "2022-07-18T12:01:35.034Z"
   },
   {
    "duration": 143,
    "start_time": "2022-07-18T12:02:02.456Z"
   },
   {
    "duration": 97,
    "start_time": "2022-07-18T12:03:31.741Z"
   },
   {
    "duration": 104,
    "start_time": "2022-07-18T12:03:41.687Z"
   },
   {
    "duration": 94,
    "start_time": "2022-07-18T12:03:47.242Z"
   },
   {
    "duration": 100,
    "start_time": "2022-07-18T12:06:12.698Z"
   },
   {
    "duration": 89,
    "start_time": "2022-07-18T12:06:17.548Z"
   },
   {
    "duration": 98,
    "start_time": "2022-07-18T12:06:57.475Z"
   },
   {
    "duration": 99,
    "start_time": "2022-07-18T12:07:17.274Z"
   },
   {
    "duration": 97,
    "start_time": "2022-07-18T12:08:19.921Z"
   },
   {
    "duration": 67,
    "start_time": "2022-07-18T12:09:19.031Z"
   },
   {
    "duration": 83,
    "start_time": "2022-07-18T12:09:28.327Z"
   },
   {
    "duration": 60,
    "start_time": "2022-07-18T12:09:30.048Z"
   },
   {
    "duration": 222,
    "start_time": "2022-07-18T12:10:11.182Z"
   },
   {
    "duration": 226,
    "start_time": "2022-07-18T12:10:21.184Z"
   },
   {
    "duration": 11,
    "start_time": "2022-07-18T12:11:05.041Z"
   },
   {
    "duration": 22,
    "start_time": "2022-07-18T12:11:11.974Z"
   },
   {
    "duration": 21,
    "start_time": "2022-07-18T12:11:28.613Z"
   },
   {
    "duration": 101,
    "start_time": "2022-07-18T12:12:48.977Z"
   },
   {
    "duration": 104,
    "start_time": "2022-07-18T12:13:37.259Z"
   },
   {
    "duration": 98,
    "start_time": "2022-07-18T12:13:37.483Z"
   },
   {
    "duration": 103,
    "start_time": "2022-07-18T12:15:29.951Z"
   },
   {
    "duration": 198,
    "start_time": "2022-07-18T12:16:28.951Z"
   },
   {
    "duration": 145,
    "start_time": "2022-07-18T12:20:44.456Z"
   },
   {
    "duration": 127,
    "start_time": "2022-07-18T12:22:19.093Z"
   },
   {
    "duration": 255,
    "start_time": "2022-07-18T12:22:49.787Z"
   },
   {
    "duration": 269,
    "start_time": "2022-07-18T12:22:57.442Z"
   },
   {
    "duration": 155,
    "start_time": "2022-07-18T12:23:05.451Z"
   },
   {
    "duration": 143,
    "start_time": "2022-07-18T12:23:39.548Z"
   },
   {
    "duration": 157,
    "start_time": "2022-07-18T12:23:43.459Z"
   },
   {
    "duration": 181,
    "start_time": "2022-07-18T12:23:47.899Z"
   },
   {
    "duration": 354,
    "start_time": "2022-07-18T12:23:58.329Z"
   },
   {
    "duration": 185,
    "start_time": "2022-07-18T12:24:07.017Z"
   },
   {
    "duration": 205,
    "start_time": "2022-07-18T12:24:33.275Z"
   },
   {
    "duration": 199,
    "start_time": "2022-07-18T12:24:49.433Z"
   },
   {
    "duration": 204,
    "start_time": "2022-07-18T12:25:00.703Z"
   },
   {
    "duration": 224,
    "start_time": "2022-07-18T12:25:48.388Z"
   },
   {
    "duration": 218,
    "start_time": "2022-07-18T12:28:08.250Z"
   },
   {
    "duration": 372,
    "start_time": "2022-07-18T12:28:20.052Z"
   },
   {
    "duration": 302,
    "start_time": "2022-07-18T12:28:26.060Z"
   },
   {
    "duration": 272,
    "start_time": "2022-07-18T12:28:52.822Z"
   },
   {
    "duration": 285,
    "start_time": "2022-07-18T12:29:14.238Z"
   },
   {
    "duration": 254,
    "start_time": "2022-07-18T12:29:59.222Z"
   },
   {
    "duration": 201,
    "start_time": "2022-07-18T12:31:40.373Z"
   },
   {
    "duration": 278,
    "start_time": "2022-07-18T12:31:56.241Z"
   },
   {
    "duration": 204,
    "start_time": "2022-07-18T12:32:11.774Z"
   },
   {
    "duration": 224,
    "start_time": "2022-07-18T12:32:32.257Z"
   },
   {
    "duration": 110,
    "start_time": "2022-07-18T12:32:46.789Z"
   },
   {
    "duration": 107,
    "start_time": "2022-07-18T12:33:00.705Z"
   },
   {
    "duration": 280,
    "start_time": "2022-07-18T12:33:18.658Z"
   },
   {
    "duration": 269,
    "start_time": "2022-07-18T12:33:42.348Z"
   },
   {
    "duration": 295,
    "start_time": "2022-07-18T12:35:14.943Z"
   },
   {
    "duration": 298,
    "start_time": "2022-07-18T12:35:26.587Z"
   },
   {
    "duration": 269,
    "start_time": "2022-07-18T12:35:48.487Z"
   },
   {
    "duration": 393,
    "start_time": "2022-07-18T12:35:54.142Z"
   },
   {
    "duration": 21,
    "start_time": "2022-07-18T12:47:48.694Z"
   },
   {
    "duration": 237,
    "start_time": "2022-07-18T12:47:50.508Z"
   },
   {
    "duration": 109,
    "start_time": "2022-07-18T12:47:55.534Z"
   },
   {
    "duration": 225,
    "start_time": "2022-07-18T12:47:57.786Z"
   },
   {
    "duration": 115,
    "start_time": "2022-07-18T12:47:59.898Z"
   },
   {
    "duration": 255,
    "start_time": "2022-07-18T12:48:01.740Z"
   },
   {
    "duration": 107,
    "start_time": "2022-07-18T12:48:03.592Z"
   },
   {
    "duration": 292,
    "start_time": "2022-07-18T12:48:05.601Z"
   },
   {
    "duration": 278,
    "start_time": "2022-07-18T12:48:07.632Z"
   },
   {
    "duration": 11,
    "start_time": "2022-07-18T12:49:50.560Z"
   },
   {
    "duration": 330,
    "start_time": "2022-07-18T12:50:25.960Z"
   },
   {
    "duration": 427,
    "start_time": "2022-07-18T12:50:34.631Z"
   },
   {
    "duration": 149,
    "start_time": "2022-07-18T12:50:45.189Z"
   },
   {
    "duration": 145,
    "start_time": "2022-07-18T12:50:57.294Z"
   },
   {
    "duration": 219,
    "start_time": "2022-07-18T12:52:27.315Z"
   },
   {
    "duration": 290,
    "start_time": "2022-07-18T12:52:42.820Z"
   },
   {
    "duration": 293,
    "start_time": "2022-07-18T12:52:52.798Z"
   },
   {
    "duration": 290,
    "start_time": "2022-07-18T12:53:04.415Z"
   },
   {
    "duration": 311,
    "start_time": "2022-07-18T12:53:18.332Z"
   },
   {
    "duration": 283,
    "start_time": "2022-07-18T12:53:20.205Z"
   },
   {
    "duration": 370,
    "start_time": "2022-07-18T12:53:57.759Z"
   },
   {
    "duration": 276,
    "start_time": "2022-07-18T12:54:13.488Z"
   },
   {
    "duration": 362,
    "start_time": "2022-07-18T12:56:39.535Z"
   },
   {
    "duration": 331,
    "start_time": "2022-07-18T12:57:48.397Z"
   },
   {
    "duration": 3,
    "start_time": "2022-07-18T13:15:32.345Z"
   },
   {
    "duration": 3,
    "start_time": "2022-07-18T13:18:23.821Z"
   },
   {
    "duration": 4,
    "start_time": "2022-07-18T13:20:19.395Z"
   },
   {
    "duration": 3,
    "start_time": "2022-07-18T13:20:21.366Z"
   },
   {
    "duration": 13,
    "start_time": "2022-07-18T13:25:07.284Z"
   },
   {
    "duration": 1354,
    "start_time": "2022-07-18T13:25:31.057Z"
   },
   {
    "duration": 4,
    "start_time": "2022-07-18T13:25:32.413Z"
   },
   {
    "duration": 559,
    "start_time": "2022-07-18T13:25:32.419Z"
   },
   {
    "duration": 421,
    "start_time": "2022-07-18T13:25:32.981Z"
   },
   {
    "duration": 122,
    "start_time": "2022-07-18T13:25:33.404Z"
   },
   {
    "duration": 3,
    "start_time": "2022-07-18T13:25:33.528Z"
   },
   {
    "duration": 14,
    "start_time": "2022-07-18T13:25:33.533Z"
   },
   {
    "duration": 18,
    "start_time": "2022-07-18T13:25:33.549Z"
   },
   {
    "duration": 10,
    "start_time": "2022-07-18T13:25:33.568Z"
   },
   {
    "duration": 18,
    "start_time": "2022-07-18T13:25:33.581Z"
   },
   {
    "duration": 25,
    "start_time": "2022-07-18T13:25:33.600Z"
   },
   {
    "duration": 262,
    "start_time": "2022-07-18T13:25:33.627Z"
   },
   {
    "duration": 114,
    "start_time": "2022-07-18T13:25:33.890Z"
   },
   {
    "duration": 241,
    "start_time": "2022-07-18T13:25:34.005Z"
   },
   {
    "duration": 124,
    "start_time": "2022-07-18T13:25:34.247Z"
   },
   {
    "duration": 235,
    "start_time": "2022-07-18T13:25:34.373Z"
   },
   {
    "duration": 128,
    "start_time": "2022-07-18T13:25:34.610Z"
   },
   {
    "duration": 364,
    "start_time": "2022-07-18T13:25:34.741Z"
   },
   {
    "duration": 306,
    "start_time": "2022-07-18T13:25:35.107Z"
   },
   {
    "duration": 7,
    "start_time": "2022-07-18T13:25:35.414Z"
   },
   {
    "duration": 339,
    "start_time": "2022-07-18T13:25:35.423Z"
   },
   {
    "duration": 4,
    "start_time": "2022-07-18T13:25:35.764Z"
   },
   {
    "duration": 9,
    "start_time": "2022-07-18T13:25:35.769Z"
   },
   {
    "duration": 117,
    "start_time": "2022-07-18T13:25:35.780Z"
   },
   {
    "duration": 13,
    "start_time": "2022-07-18T13:26:18.076Z"
   },
   {
    "duration": 1250,
    "start_time": "2022-07-18T13:26:22.110Z"
   },
   {
    "duration": 4,
    "start_time": "2022-07-18T13:26:23.363Z"
   },
   {
    "duration": 502,
    "start_time": "2022-07-18T13:26:23.369Z"
   },
   {
    "duration": 406,
    "start_time": "2022-07-18T13:26:23.874Z"
   },
   {
    "duration": 121,
    "start_time": "2022-07-18T13:26:24.282Z"
   },
   {
    "duration": 3,
    "start_time": "2022-07-18T13:26:24.405Z"
   },
   {
    "duration": 45,
    "start_time": "2022-07-18T13:26:24.410Z"
   },
   {
    "duration": 20,
    "start_time": "2022-07-18T13:26:24.458Z"
   },
   {
    "duration": 27,
    "start_time": "2022-07-18T13:26:24.480Z"
   },
   {
    "duration": 52,
    "start_time": "2022-07-18T13:26:24.510Z"
   },
   {
    "duration": 43,
    "start_time": "2022-07-18T13:26:24.564Z"
   },
   {
    "duration": 258,
    "start_time": "2022-07-18T13:26:24.609Z"
   },
   {
    "duration": 111,
    "start_time": "2022-07-18T13:26:24.869Z"
   },
   {
    "duration": 220,
    "start_time": "2022-07-18T13:26:24.982Z"
   },
   {
    "duration": 166,
    "start_time": "2022-07-18T13:26:25.205Z"
   },
   {
    "duration": 226,
    "start_time": "2022-07-18T13:26:25.373Z"
   },
   {
    "duration": 113,
    "start_time": "2022-07-18T13:26:25.600Z"
   },
   {
    "duration": 356,
    "start_time": "2022-07-18T13:26:25.715Z"
   },
   {
    "duration": 337,
    "start_time": "2022-07-18T13:26:26.074Z"
   },
   {
    "duration": 10,
    "start_time": "2022-07-18T13:26:26.415Z"
   },
   {
    "duration": 341,
    "start_time": "2022-07-18T13:26:26.427Z"
   },
   {
    "duration": 4,
    "start_time": "2022-07-18T13:26:26.769Z"
   },
   {
    "duration": 8,
    "start_time": "2022-07-18T13:26:26.775Z"
   },
   {
    "duration": 129,
    "start_time": "2022-07-18T13:26:26.785Z"
   },
   {
    "duration": 9,
    "start_time": "2022-07-18T13:27:04.096Z"
   },
   {
    "duration": 5,
    "start_time": "2022-07-18T13:27:15.846Z"
   },
   {
    "duration": 10,
    "start_time": "2022-07-18T13:27:35.712Z"
   },
   {
    "duration": 1343,
    "start_time": "2022-07-18T13:27:40.236Z"
   },
   {
    "duration": 3,
    "start_time": "2022-07-18T13:27:41.581Z"
   },
   {
    "duration": 507,
    "start_time": "2022-07-18T13:27:41.586Z"
   },
   {
    "duration": 416,
    "start_time": "2022-07-18T13:27:42.095Z"
   },
   {
    "duration": 147,
    "start_time": "2022-07-18T13:27:42.513Z"
   },
   {
    "duration": 3,
    "start_time": "2022-07-18T13:27:42.662Z"
   },
   {
    "duration": 10,
    "start_time": "2022-07-18T13:27:42.667Z"
   },
   {
    "duration": 10,
    "start_time": "2022-07-18T13:27:42.679Z"
   },
   {
    "duration": 10,
    "start_time": "2022-07-18T13:27:42.691Z"
   },
   {
    "duration": 111,
    "start_time": "2022-07-18T13:27:42.702Z"
   },
   {
    "duration": 0,
    "start_time": "2022-07-18T13:27:42.815Z"
   },
   {
    "duration": 0,
    "start_time": "2022-07-18T13:27:42.816Z"
   },
   {
    "duration": 0,
    "start_time": "2022-07-18T13:27:42.818Z"
   },
   {
    "duration": 0,
    "start_time": "2022-07-18T13:27:42.819Z"
   },
   {
    "duration": 0,
    "start_time": "2022-07-18T13:27:42.820Z"
   },
   {
    "duration": 0,
    "start_time": "2022-07-18T13:27:42.821Z"
   },
   {
    "duration": 0,
    "start_time": "2022-07-18T13:27:42.822Z"
   },
   {
    "duration": 0,
    "start_time": "2022-07-18T13:27:42.823Z"
   },
   {
    "duration": 0,
    "start_time": "2022-07-18T13:27:42.824Z"
   },
   {
    "duration": 0,
    "start_time": "2022-07-18T13:27:42.825Z"
   },
   {
    "duration": 0,
    "start_time": "2022-07-18T13:27:42.826Z"
   },
   {
    "duration": 0,
    "start_time": "2022-07-18T13:27:42.827Z"
   },
   {
    "duration": 0,
    "start_time": "2022-07-18T13:27:42.828Z"
   },
   {
    "duration": 0,
    "start_time": "2022-07-18T13:27:42.829Z"
   },
   {
    "duration": 0,
    "start_time": "2022-07-18T13:27:42.830Z"
   },
   {
    "duration": 9,
    "start_time": "2022-07-18T13:28:37.952Z"
   },
   {
    "duration": 1257,
    "start_time": "2022-07-18T13:28:49.618Z"
   },
   {
    "duration": 3,
    "start_time": "2022-07-18T13:28:50.877Z"
   },
   {
    "duration": 488,
    "start_time": "2022-07-18T13:28:50.882Z"
   },
   {
    "duration": 407,
    "start_time": "2022-07-18T13:28:51.372Z"
   },
   {
    "duration": 118,
    "start_time": "2022-07-18T13:28:51.782Z"
   },
   {
    "duration": 2,
    "start_time": "2022-07-18T13:28:51.902Z"
   },
   {
    "duration": 8,
    "start_time": "2022-07-18T13:28:51.906Z"
   },
   {
    "duration": 8,
    "start_time": "2022-07-18T13:28:51.915Z"
   },
   {
    "duration": 5,
    "start_time": "2022-07-18T13:28:51.925Z"
   },
   {
    "duration": 30,
    "start_time": "2022-07-18T13:28:51.931Z"
   },
   {
    "duration": 8,
    "start_time": "2022-07-18T13:28:51.963Z"
   },
   {
    "duration": 21,
    "start_time": "2022-07-18T13:28:51.972Z"
   },
   {
    "duration": 242,
    "start_time": "2022-07-18T13:28:51.995Z"
   },
   {
    "duration": 97,
    "start_time": "2022-07-18T13:28:52.240Z"
   },
   {
    "duration": 222,
    "start_time": "2022-07-18T13:28:52.339Z"
   },
   {
    "duration": 113,
    "start_time": "2022-07-18T13:28:52.563Z"
   },
   {
    "duration": 236,
    "start_time": "2022-07-18T13:28:52.678Z"
   },
   {
    "duration": 111,
    "start_time": "2022-07-18T13:28:52.916Z"
   },
   {
    "duration": 355,
    "start_time": "2022-07-18T13:28:53.029Z"
   },
   {
    "duration": 264,
    "start_time": "2022-07-18T13:28:53.385Z"
   },
   {
    "duration": 11,
    "start_time": "2022-07-18T13:28:53.651Z"
   },
   {
    "duration": 298,
    "start_time": "2022-07-18T13:28:53.664Z"
   },
   {
    "duration": 2,
    "start_time": "2022-07-18T13:28:53.964Z"
   },
   {
    "duration": 6,
    "start_time": "2022-07-18T13:28:53.968Z"
   },
   {
    "duration": 118,
    "start_time": "2022-07-18T13:28:53.975Z"
   },
   {
    "duration": 10,
    "start_time": "2022-07-18T13:29:35.243Z"
   },
   {
    "duration": 9,
    "start_time": "2022-07-18T13:31:50.186Z"
   },
   {
    "duration": 1259,
    "start_time": "2022-07-18T13:31:56.573Z"
   },
   {
    "duration": 3,
    "start_time": "2022-07-18T13:31:57.835Z"
   },
   {
    "duration": 508,
    "start_time": "2022-07-18T13:31:57.839Z"
   },
   {
    "duration": 416,
    "start_time": "2022-07-18T13:31:58.349Z"
   },
   {
    "duration": 117,
    "start_time": "2022-07-18T13:31:58.767Z"
   },
   {
    "duration": 3,
    "start_time": "2022-07-18T13:31:58.886Z"
   },
   {
    "duration": 9,
    "start_time": "2022-07-18T13:31:58.891Z"
   },
   {
    "duration": 8,
    "start_time": "2022-07-18T13:31:58.902Z"
   },
   {
    "duration": 7,
    "start_time": "2022-07-18T13:31:58.911Z"
   },
   {
    "duration": 9,
    "start_time": "2022-07-18T13:31:58.920Z"
   },
   {
    "duration": 43,
    "start_time": "2022-07-18T13:31:58.931Z"
   },
   {
    "duration": 236,
    "start_time": "2022-07-18T13:31:58.976Z"
   },
   {
    "duration": 106,
    "start_time": "2022-07-18T13:31:59.214Z"
   },
   {
    "duration": 216,
    "start_time": "2022-07-18T13:31:59.322Z"
   },
   {
    "duration": 113,
    "start_time": "2022-07-18T13:31:59.540Z"
   },
   {
    "duration": 211,
    "start_time": "2022-07-18T13:31:59.660Z"
   },
   {
    "duration": 106,
    "start_time": "2022-07-18T13:31:59.873Z"
   },
   {
    "duration": 345,
    "start_time": "2022-07-18T13:31:59.981Z"
   },
   {
    "duration": 286,
    "start_time": "2022-07-18T13:32:00.328Z"
   },
   {
    "duration": 6,
    "start_time": "2022-07-18T13:32:00.616Z"
   },
   {
    "duration": 346,
    "start_time": "2022-07-18T13:32:00.623Z"
   },
   {
    "duration": 3,
    "start_time": "2022-07-18T13:32:00.970Z"
   },
   {
    "duration": 11,
    "start_time": "2022-07-18T13:32:00.975Z"
   },
   {
    "duration": 13,
    "start_time": "2022-07-18T13:32:00.988Z"
   },
   {
    "duration": 40,
    "start_time": "2022-07-18T13:32:01.003Z"
   },
   {
    "duration": 16,
    "start_time": "2022-07-18T13:34:44.223Z"
   },
   {
    "duration": 50,
    "start_time": "2022-07-18T13:41:10.451Z"
   },
   {
    "duration": 103,
    "start_time": "2022-07-18T13:49:03.958Z"
   },
   {
    "duration": 4601,
    "start_time": "2022-07-18T13:49:10.442Z"
   },
   {
    "duration": 4538,
    "start_time": "2022-07-18T13:49:38.088Z"
   },
   {
    "duration": 4851,
    "start_time": "2022-07-18T13:50:03.393Z"
   },
   {
    "duration": 9,
    "start_time": "2022-07-18T14:37:39.764Z"
   },
   {
    "duration": 1319,
    "start_time": "2022-07-18T14:38:56.597Z"
   },
   {
    "duration": 4,
    "start_time": "2022-07-18T14:38:57.918Z"
   },
   {
    "duration": 470,
    "start_time": "2022-07-18T14:38:57.924Z"
   },
   {
    "duration": 394,
    "start_time": "2022-07-18T14:38:58.396Z"
   },
   {
    "duration": 110,
    "start_time": "2022-07-18T14:38:58.792Z"
   },
   {
    "duration": 2,
    "start_time": "2022-07-18T14:38:58.904Z"
   },
   {
    "duration": 41,
    "start_time": "2022-07-18T14:38:58.908Z"
   },
   {
    "duration": 20,
    "start_time": "2022-07-18T14:38:58.951Z"
   },
   {
    "duration": 7,
    "start_time": "2022-07-18T14:38:58.973Z"
   },
   {
    "duration": 20,
    "start_time": "2022-07-18T14:38:58.983Z"
   },
   {
    "duration": 26,
    "start_time": "2022-07-18T14:38:59.004Z"
   },
   {
    "duration": 214,
    "start_time": "2022-07-18T14:38:59.031Z"
   },
   {
    "duration": 95,
    "start_time": "2022-07-18T14:38:59.247Z"
   },
   {
    "duration": 216,
    "start_time": "2022-07-18T14:38:59.344Z"
   },
   {
    "duration": 102,
    "start_time": "2022-07-18T14:38:59.562Z"
   },
   {
    "duration": 273,
    "start_time": "2022-07-18T14:38:59.666Z"
   },
   {
    "duration": 101,
    "start_time": "2022-07-18T14:38:59.940Z"
   },
   {
    "duration": 255,
    "start_time": "2022-07-18T14:39:00.044Z"
   },
   {
    "duration": 259,
    "start_time": "2022-07-18T14:39:00.301Z"
   },
   {
    "duration": 6,
    "start_time": "2022-07-18T14:39:00.562Z"
   },
   {
    "duration": 343,
    "start_time": "2022-07-18T14:39:00.569Z"
   },
   {
    "duration": 3,
    "start_time": "2022-07-18T14:39:00.913Z"
   },
   {
    "duration": 16,
    "start_time": "2022-07-18T14:39:00.918Z"
   },
   {
    "duration": 18,
    "start_time": "2022-07-18T14:39:00.936Z"
   },
   {
    "duration": 29,
    "start_time": "2022-07-18T14:39:00.955Z"
   },
   {
    "duration": 4488,
    "start_time": "2022-07-18T14:39:00.987Z"
   },
   {
    "duration": 4699,
    "start_time": "2022-07-18T14:39:05.478Z"
   },
   {
    "duration": 1253,
    "start_time": "2022-07-18T14:42:49.866Z"
   },
   {
    "duration": 3,
    "start_time": "2022-07-18T14:42:51.121Z"
   },
   {
    "duration": 470,
    "start_time": "2022-07-18T14:42:51.126Z"
   },
   {
    "duration": 392,
    "start_time": "2022-07-18T14:42:51.598Z"
   },
   {
    "duration": 113,
    "start_time": "2022-07-18T14:42:51.992Z"
   },
   {
    "duration": 3,
    "start_time": "2022-07-18T14:42:52.107Z"
   },
   {
    "duration": 9,
    "start_time": "2022-07-18T14:42:52.111Z"
   },
   {
    "duration": 6,
    "start_time": "2022-07-18T14:42:52.121Z"
   },
   {
    "duration": 7,
    "start_time": "2022-07-18T14:42:52.128Z"
   },
   {
    "duration": 26,
    "start_time": "2022-07-18T14:42:52.137Z"
   },
   {
    "duration": 35,
    "start_time": "2022-07-18T14:42:52.164Z"
   },
   {
    "duration": 214,
    "start_time": "2022-07-18T14:42:52.201Z"
   },
   {
    "duration": 96,
    "start_time": "2022-07-18T14:42:52.417Z"
   },
   {
    "duration": 211,
    "start_time": "2022-07-18T14:42:52.516Z"
   },
   {
    "duration": 105,
    "start_time": "2022-07-18T14:42:52.729Z"
   },
   {
    "duration": 282,
    "start_time": "2022-07-18T14:42:52.836Z"
   },
   {
    "duration": 99,
    "start_time": "2022-07-18T14:42:53.119Z"
   },
   {
    "duration": 257,
    "start_time": "2022-07-18T14:42:53.220Z"
   },
   {
    "duration": 258,
    "start_time": "2022-07-18T14:42:53.479Z"
   },
   {
    "duration": 5,
    "start_time": "2022-07-18T14:42:53.739Z"
   },
   {
    "duration": 299,
    "start_time": "2022-07-18T14:42:53.746Z"
   },
   {
    "duration": 3,
    "start_time": "2022-07-18T14:42:54.047Z"
   },
   {
    "duration": 10,
    "start_time": "2022-07-18T14:42:54.051Z"
   },
   {
    "duration": 9,
    "start_time": "2022-07-18T14:42:54.063Z"
   },
   {
    "duration": 25,
    "start_time": "2022-07-18T14:42:54.073Z"
   },
   {
    "duration": 4501,
    "start_time": "2022-07-18T14:42:54.100Z"
   },
   {
    "duration": 4658,
    "start_time": "2022-07-18T14:42:58.603Z"
   },
   {
    "duration": 101,
    "start_time": "2022-07-18T14:43:11.216Z"
   },
   {
    "duration": 1309,
    "start_time": "2022-07-18T14:43:17.053Z"
   },
   {
    "duration": 1405,
    "start_time": "2022-07-18T14:46:04.843Z"
   },
   {
    "duration": 4,
    "start_time": "2022-07-18T14:46:06.249Z"
   },
   {
    "duration": 569,
    "start_time": "2022-07-18T14:46:06.255Z"
   },
   {
    "duration": 397,
    "start_time": "2022-07-18T14:46:06.825Z"
   },
   {
    "duration": 115,
    "start_time": "2022-07-18T14:46:07.224Z"
   },
   {
    "duration": 3,
    "start_time": "2022-07-18T14:46:07.340Z"
   },
   {
    "duration": 18,
    "start_time": "2022-07-18T14:46:07.344Z"
   },
   {
    "duration": 9,
    "start_time": "2022-07-18T14:46:07.364Z"
   },
   {
    "duration": 9,
    "start_time": "2022-07-18T14:46:07.374Z"
   },
   {
    "duration": 14,
    "start_time": "2022-07-18T14:46:07.385Z"
   },
   {
    "duration": 24,
    "start_time": "2022-07-18T14:46:07.400Z"
   },
   {
    "duration": 239,
    "start_time": "2022-07-18T14:46:07.426Z"
   },
   {
    "duration": 105,
    "start_time": "2022-07-18T14:46:07.666Z"
   },
   {
    "duration": 210,
    "start_time": "2022-07-18T14:46:07.774Z"
   },
   {
    "duration": 103,
    "start_time": "2022-07-18T14:46:07.985Z"
   },
   {
    "duration": 281,
    "start_time": "2022-07-18T14:46:08.090Z"
   },
   {
    "duration": 98,
    "start_time": "2022-07-18T14:46:08.372Z"
   },
   {
    "duration": 257,
    "start_time": "2022-07-18T14:46:08.472Z"
   },
   {
    "duration": 270,
    "start_time": "2022-07-18T14:46:08.731Z"
   },
   {
    "duration": 5,
    "start_time": "2022-07-18T14:46:09.002Z"
   },
   {
    "duration": 298,
    "start_time": "2022-07-18T14:46:09.009Z"
   },
   {
    "duration": 3,
    "start_time": "2022-07-18T14:46:09.309Z"
   },
   {
    "duration": 7,
    "start_time": "2022-07-18T14:46:09.313Z"
   },
   {
    "duration": 10,
    "start_time": "2022-07-18T14:46:09.322Z"
   },
   {
    "duration": 28,
    "start_time": "2022-07-18T14:46:09.334Z"
   },
   {
    "duration": 4512,
    "start_time": "2022-07-18T14:46:09.364Z"
   },
   {
    "duration": 4752,
    "start_time": "2022-07-18T14:46:13.878Z"
   },
   {
    "duration": 1629,
    "start_time": "2022-07-18T14:46:18.632Z"
   },
   {
    "duration": 267485,
    "start_time": "2022-07-18T14:46:20.263Z"
   },
   {
    "duration": 1378,
    "start_time": "2022-07-18T14:51:31.290Z"
   },
   {
    "duration": 265344,
    "start_time": "2022-07-18T14:52:18.323Z"
   },
   {
    "duration": 1401,
    "start_time": "2022-07-18T14:56:43.669Z"
   },
   {
    "duration": 2723,
    "start_time": "2022-07-18T16:11:07.543Z"
   },
   {
    "duration": 5053,
    "start_time": "2022-07-18T16:11:31.308Z"
   },
   {
    "duration": 2408,
    "start_time": "2022-07-18T16:11:42.255Z"
   },
   {
    "duration": 2575,
    "start_time": "2022-07-18T16:11:53.787Z"
   },
   {
    "duration": 1581,
    "start_time": "2022-07-18T16:12:19.989Z"
   },
   {
    "duration": 1593,
    "start_time": "2022-07-18T16:12:21.573Z"
   },
   {
    "duration": 1105,
    "start_time": "2022-07-18T16:13:14.759Z"
   },
   {
    "duration": 1308,
    "start_time": "2022-07-18T16:15:50.083Z"
   },
   {
    "duration": 4,
    "start_time": "2022-07-18T16:15:51.393Z"
   },
   {
    "duration": 495,
    "start_time": "2022-07-18T16:15:51.398Z"
   },
   {
    "duration": 406,
    "start_time": "2022-07-18T16:15:51.895Z"
   },
   {
    "duration": 116,
    "start_time": "2022-07-18T16:15:52.303Z"
   },
   {
    "duration": 3,
    "start_time": "2022-07-18T16:15:52.420Z"
   },
   {
    "duration": 10,
    "start_time": "2022-07-18T16:15:52.424Z"
   },
   {
    "duration": 9,
    "start_time": "2022-07-18T16:15:52.435Z"
   },
   {
    "duration": 19,
    "start_time": "2022-07-18T16:15:52.445Z"
   },
   {
    "duration": 13,
    "start_time": "2022-07-18T16:15:52.467Z"
   },
   {
    "duration": 23,
    "start_time": "2022-07-18T16:15:52.482Z"
   },
   {
    "duration": 247,
    "start_time": "2022-07-18T16:15:52.507Z"
   },
   {
    "duration": 100,
    "start_time": "2022-07-18T16:15:52.760Z"
   },
   {
    "duration": 217,
    "start_time": "2022-07-18T16:15:52.862Z"
   },
   {
    "duration": 116,
    "start_time": "2022-07-18T16:15:53.081Z"
   },
   {
    "duration": 293,
    "start_time": "2022-07-18T16:15:53.198Z"
   },
   {
    "duration": 112,
    "start_time": "2022-07-18T16:15:53.493Z"
   },
   {
    "duration": 266,
    "start_time": "2022-07-18T16:15:53.607Z"
   },
   {
    "duration": 270,
    "start_time": "2022-07-18T16:15:53.874Z"
   },
   {
    "duration": 6,
    "start_time": "2022-07-18T16:15:54.145Z"
   },
   {
    "duration": 314,
    "start_time": "2022-07-18T16:15:54.161Z"
   },
   {
    "duration": 3,
    "start_time": "2022-07-18T16:15:54.476Z"
   },
   {
    "duration": 7,
    "start_time": "2022-07-18T16:15:54.481Z"
   },
   {
    "duration": 11,
    "start_time": "2022-07-18T16:15:54.489Z"
   },
   {
    "duration": 23,
    "start_time": "2022-07-18T16:15:54.501Z"
   },
   {
    "duration": 125,
    "start_time": "2022-07-18T16:15:54.526Z"
   },
   {
    "duration": 0,
    "start_time": "2022-07-18T16:15:54.652Z"
   },
   {
    "duration": 0,
    "start_time": "2022-07-18T16:15:54.653Z"
   },
   {
    "duration": 0,
    "start_time": "2022-07-18T16:15:54.660Z"
   },
   {
    "duration": 0,
    "start_time": "2022-07-18T16:15:54.661Z"
   },
   {
    "duration": 0,
    "start_time": "2022-07-18T16:15:54.662Z"
   },
   {
    "duration": 1329,
    "start_time": "2022-07-18T16:16:42.524Z"
   },
   {
    "duration": 3,
    "start_time": "2022-07-18T16:16:43.855Z"
   },
   {
    "duration": 494,
    "start_time": "2022-07-18T16:16:43.860Z"
   },
   {
    "duration": 444,
    "start_time": "2022-07-18T16:16:44.357Z"
   },
   {
    "duration": 122,
    "start_time": "2022-07-18T16:16:44.803Z"
   },
   {
    "duration": 3,
    "start_time": "2022-07-18T16:16:44.927Z"
   },
   {
    "duration": 8,
    "start_time": "2022-07-18T16:16:44.931Z"
   },
   {
    "duration": 20,
    "start_time": "2022-07-18T16:16:44.941Z"
   },
   {
    "duration": 5,
    "start_time": "2022-07-18T16:16:44.963Z"
   },
   {
    "duration": 8,
    "start_time": "2022-07-18T16:16:44.970Z"
   },
   {
    "duration": 24,
    "start_time": "2022-07-18T16:16:44.980Z"
   },
   {
    "duration": 256,
    "start_time": "2022-07-18T16:16:45.006Z"
   },
   {
    "duration": 145,
    "start_time": "2022-07-18T16:16:45.264Z"
   },
   {
    "duration": 214,
    "start_time": "2022-07-18T16:16:45.411Z"
   },
   {
    "duration": 115,
    "start_time": "2022-07-18T16:16:45.627Z"
   },
   {
    "duration": 283,
    "start_time": "2022-07-18T16:16:45.744Z"
   },
   {
    "duration": 98,
    "start_time": "2022-07-18T16:16:46.029Z"
   },
   {
    "duration": 379,
    "start_time": "2022-07-18T16:16:46.129Z"
   },
   {
    "duration": 288,
    "start_time": "2022-07-18T16:16:46.511Z"
   },
   {
    "duration": 6,
    "start_time": "2022-07-18T16:16:46.801Z"
   },
   {
    "duration": 314,
    "start_time": "2022-07-18T16:16:46.808Z"
   },
   {
    "duration": 2,
    "start_time": "2022-07-18T16:16:47.124Z"
   },
   {
    "duration": 7,
    "start_time": "2022-07-18T16:16:47.128Z"
   },
   {
    "duration": 14,
    "start_time": "2022-07-18T16:16:47.137Z"
   },
   {
    "duration": 33,
    "start_time": "2022-07-18T16:16:47.153Z"
   },
   {
    "duration": 4525,
    "start_time": "2022-07-18T16:16:47.188Z"
   },
   {
    "duration": 4811,
    "start_time": "2022-07-18T16:16:51.715Z"
   },
   {
    "duration": 280123,
    "start_time": "2022-07-18T16:16:56.531Z"
   },
   {
    "duration": 282367,
    "start_time": "2022-07-18T16:21:36.656Z"
   },
   {
    "duration": 1338,
    "start_time": "2022-07-18T16:26:19.024Z"
   },
   {
    "duration": 1404,
    "start_time": "2022-07-18T16:26:20.364Z"
   },
   {
    "duration": 4,
    "start_time": "2022-07-18T16:29:27.516Z"
   },
   {
    "duration": 123,
    "start_time": "2022-07-18T16:32:30.648Z"
   },
   {
    "duration": 4,
    "start_time": "2022-07-18T16:32:56.981Z"
   },
   {
    "duration": 13,
    "start_time": "2022-07-18T16:33:12.574Z"
   },
   {
    "duration": 9,
    "start_time": "2022-07-18T16:33:51.224Z"
   },
   {
    "duration": 16,
    "start_time": "2022-07-18T16:33:59.626Z"
   },
   {
    "duration": 10,
    "start_time": "2022-07-18T16:57:38.903Z"
   },
   {
    "duration": 9,
    "start_time": "2022-07-18T16:58:05.171Z"
   },
   {
    "duration": 10,
    "start_time": "2022-07-18T16:58:07.414Z"
   },
   {
    "duration": 4,
    "start_time": "2022-07-18T16:58:20.327Z"
   },
   {
    "duration": 3,
    "start_time": "2022-07-18T16:58:24.537Z"
   },
   {
    "duration": 5,
    "start_time": "2022-07-18T16:58:26.433Z"
   },
   {
    "duration": 509,
    "start_time": "2022-07-18T16:58:28.051Z"
   },
   {
    "duration": 442,
    "start_time": "2022-07-18T16:58:31.177Z"
   },
   {
    "duration": 463,
    "start_time": "2022-07-18T16:58:34.665Z"
   },
   {
    "duration": 134,
    "start_time": "2022-07-18T16:58:38.604Z"
   },
   {
    "duration": 5,
    "start_time": "2022-07-18T16:58:49.581Z"
   },
   {
    "duration": 5,
    "start_time": "2022-07-18T16:58:50.427Z"
   },
   {
    "duration": 9,
    "start_time": "2022-07-18T16:58:51.008Z"
   },
   {
    "duration": 5,
    "start_time": "2022-07-18T16:58:52.878Z"
   },
   {
    "duration": 5,
    "start_time": "2022-07-18T16:58:58.695Z"
   },
   {
    "duration": 10,
    "start_time": "2022-07-18T16:58:59.976Z"
   },
   {
    "duration": 12,
    "start_time": "2022-07-18T16:59:04.595Z"
   },
   {
    "duration": 15,
    "start_time": "2022-07-18T16:59:55.934Z"
   },
   {
    "duration": 579,
    "start_time": "2022-07-18T17:00:21.555Z"
   },
   {
    "duration": 479,
    "start_time": "2022-07-18T17:00:25.674Z"
   },
   {
    "duration": 465,
    "start_time": "2022-07-18T17:01:13.073Z"
   },
   {
    "duration": 12,
    "start_time": "2022-07-18T17:01:30.736Z"
   },
   {
    "duration": 11,
    "start_time": "2022-07-18T17:06:28.597Z"
   },
   {
    "duration": 37,
    "start_time": "2022-07-18T17:06:48.319Z"
   },
   {
    "duration": 8,
    "start_time": "2022-07-18T17:07:16.055Z"
   },
   {
    "duration": 16,
    "start_time": "2022-07-18T17:09:08.407Z"
   },
   {
    "duration": 10,
    "start_time": "2022-07-18T17:10:32.690Z"
   },
   {
    "duration": 1336,
    "start_time": "2022-07-18T17:10:51.961Z"
   },
   {
    "duration": 3,
    "start_time": "2022-07-18T17:10:53.299Z"
   },
   {
    "duration": 484,
    "start_time": "2022-07-18T17:10:53.304Z"
   },
   {
    "duration": 396,
    "start_time": "2022-07-18T17:10:53.790Z"
   },
   {
    "duration": 116,
    "start_time": "2022-07-18T17:10:54.189Z"
   },
   {
    "duration": 3,
    "start_time": "2022-07-18T17:10:54.307Z"
   },
   {
    "duration": 14,
    "start_time": "2022-07-18T17:10:54.311Z"
   },
   {
    "duration": 6,
    "start_time": "2022-07-18T17:10:54.327Z"
   },
   {
    "duration": 6,
    "start_time": "2022-07-18T17:10:54.335Z"
   },
   {
    "duration": 22,
    "start_time": "2022-07-18T17:10:54.342Z"
   },
   {
    "duration": 27,
    "start_time": "2022-07-18T17:10:54.365Z"
   },
   {
    "duration": 8,
    "start_time": "2022-07-18T17:10:54.394Z"
   },
   {
    "duration": 251,
    "start_time": "2022-07-18T17:10:54.404Z"
   },
   {
    "duration": 106,
    "start_time": "2022-07-18T17:10:54.660Z"
   },
   {
    "duration": 221,
    "start_time": "2022-07-18T17:10:54.767Z"
   },
   {
    "duration": 116,
    "start_time": "2022-07-18T17:10:54.991Z"
   },
   {
    "duration": 319,
    "start_time": "2022-07-18T17:10:55.108Z"
   },
   {
    "duration": 103,
    "start_time": "2022-07-18T17:10:55.429Z"
   },
   {
    "duration": 283,
    "start_time": "2022-07-18T17:10:55.534Z"
   },
   {
    "duration": 265,
    "start_time": "2022-07-18T17:10:55.819Z"
   },
   {
    "duration": 6,
    "start_time": "2022-07-18T17:10:56.085Z"
   },
   {
    "duration": 440,
    "start_time": "2022-07-18T17:10:56.093Z"
   },
   {
    "duration": 4,
    "start_time": "2022-07-18T17:10:56.534Z"
   },
   {
    "duration": 7,
    "start_time": "2022-07-18T17:10:56.540Z"
   },
   {
    "duration": 28,
    "start_time": "2022-07-18T17:10:56.548Z"
   },
   {
    "duration": 153,
    "start_time": "2022-07-18T17:10:56.578Z"
   },
   {
    "duration": 0,
    "start_time": "2022-07-18T17:10:56.733Z"
   },
   {
    "duration": 0,
    "start_time": "2022-07-18T17:10:56.734Z"
   },
   {
    "duration": 0,
    "start_time": "2022-07-18T17:10:56.735Z"
   },
   {
    "duration": 0,
    "start_time": "2022-07-18T17:10:56.736Z"
   },
   {
    "duration": 0,
    "start_time": "2022-07-18T17:10:56.738Z"
   },
   {
    "duration": 0,
    "start_time": "2022-07-18T17:10:56.739Z"
   },
   {
    "duration": 0,
    "start_time": "2022-07-18T17:10:56.741Z"
   },
   {
    "duration": 21,
    "start_time": "2022-07-18T17:12:52.672Z"
   },
   {
    "duration": 1355,
    "start_time": "2022-07-18T17:12:58.539Z"
   },
   {
    "duration": 4,
    "start_time": "2022-07-18T17:12:59.895Z"
   },
   {
    "duration": 501,
    "start_time": "2022-07-18T17:12:59.900Z"
   },
   {
    "duration": 404,
    "start_time": "2022-07-18T17:13:00.403Z"
   },
   {
    "duration": 117,
    "start_time": "2022-07-18T17:13:00.809Z"
   },
   {
    "duration": 3,
    "start_time": "2022-07-18T17:13:00.927Z"
   },
   {
    "duration": 52,
    "start_time": "2022-07-18T17:13:00.931Z"
   },
   {
    "duration": 11,
    "start_time": "2022-07-18T17:13:00.985Z"
   },
   {
    "duration": 8,
    "start_time": "2022-07-18T17:13:00.998Z"
   },
   {
    "duration": 15,
    "start_time": "2022-07-18T17:13:01.009Z"
   },
   {
    "duration": 28,
    "start_time": "2022-07-18T17:13:01.025Z"
   },
   {
    "duration": 11,
    "start_time": "2022-07-18T17:13:01.055Z"
   },
   {
    "duration": 269,
    "start_time": "2022-07-18T17:13:01.068Z"
   },
   {
    "duration": 106,
    "start_time": "2022-07-18T17:13:01.339Z"
   },
   {
    "duration": 229,
    "start_time": "2022-07-18T17:13:01.447Z"
   },
   {
    "duration": 118,
    "start_time": "2022-07-18T17:13:01.678Z"
   },
   {
    "duration": 319,
    "start_time": "2022-07-18T17:13:01.798Z"
   },
   {
    "duration": 121,
    "start_time": "2022-07-18T17:13:02.120Z"
   },
   {
    "duration": 289,
    "start_time": "2022-07-18T17:13:02.243Z"
   },
   {
    "duration": 288,
    "start_time": "2022-07-18T17:13:02.534Z"
   },
   {
    "duration": 6,
    "start_time": "2022-07-18T17:13:02.824Z"
   },
   {
    "duration": 324,
    "start_time": "2022-07-18T17:13:02.832Z"
   },
   {
    "duration": 4,
    "start_time": "2022-07-18T17:13:03.159Z"
   },
   {
    "duration": 19,
    "start_time": "2022-07-18T17:13:03.165Z"
   },
   {
    "duration": 19,
    "start_time": "2022-07-18T17:13:03.185Z"
   },
   {
    "duration": 30,
    "start_time": "2022-07-18T17:13:03.206Z"
   },
   {
    "duration": 4820,
    "start_time": "2022-07-18T17:13:03.237Z"
   },
   {
    "duration": 4998,
    "start_time": "2022-07-18T17:13:08.060Z"
   },
   {
    "duration": 271635,
    "start_time": "2022-07-18T17:13:13.061Z"
   },
   {
    "duration": 276408,
    "start_time": "2022-07-18T17:17:44.698Z"
   },
   {
    "duration": 1561,
    "start_time": "2022-07-18T17:22:21.108Z"
   },
   {
    "duration": 1595,
    "start_time": "2022-07-18T17:22:22.674Z"
   },
   {
    "duration": 493,
    "start_time": "2022-07-18T17:22:24.273Z"
   },
   {
    "duration": 80,
    "start_time": "2022-07-18T17:24:19.591Z"
   },
   {
    "duration": 240,
    "start_time": "2022-07-18T17:24:43.821Z"
   },
   {
    "duration": 75503,
    "start_time": "2022-07-18T17:27:27.696Z"
   },
   {
    "duration": 76602,
    "start_time": "2022-07-18T17:30:34.003Z"
   },
   {
    "duration": 9,
    "start_time": "2022-07-18T17:32:26.987Z"
   },
   {
    "duration": 1403,
    "start_time": "2022-07-18T17:33:06.535Z"
   },
   {
    "duration": 4,
    "start_time": "2022-07-18T17:33:07.940Z"
   },
   {
    "duration": 555,
    "start_time": "2022-07-18T17:33:07.946Z"
   },
   {
    "duration": 451,
    "start_time": "2022-07-18T17:33:08.504Z"
   },
   {
    "duration": 124,
    "start_time": "2022-07-18T17:33:08.960Z"
   },
   {
    "duration": 3,
    "start_time": "2022-07-18T17:33:09.086Z"
   },
   {
    "duration": 29,
    "start_time": "2022-07-18T17:33:09.090Z"
   },
   {
    "duration": 23,
    "start_time": "2022-07-18T17:33:09.121Z"
   },
   {
    "duration": 47,
    "start_time": "2022-07-18T17:33:09.145Z"
   },
   {
    "duration": 30,
    "start_time": "2022-07-18T17:33:09.194Z"
   },
   {
    "duration": 42,
    "start_time": "2022-07-18T17:33:09.225Z"
   },
   {
    "duration": 18,
    "start_time": "2022-07-18T17:33:09.269Z"
   },
   {
    "duration": 259,
    "start_time": "2022-07-18T17:33:09.289Z"
   },
   {
    "duration": 118,
    "start_time": "2022-07-18T17:33:09.550Z"
   },
   {
    "duration": 216,
    "start_time": "2022-07-18T17:33:09.671Z"
   },
   {
    "duration": 113,
    "start_time": "2022-07-18T17:33:09.889Z"
   },
   {
    "duration": 308,
    "start_time": "2022-07-18T17:33:10.004Z"
   },
   {
    "duration": 110,
    "start_time": "2022-07-18T17:33:10.314Z"
   },
   {
    "duration": 288,
    "start_time": "2022-07-18T17:33:10.426Z"
   },
   {
    "duration": 286,
    "start_time": "2022-07-18T17:33:10.716Z"
   },
   {
    "duration": 5,
    "start_time": "2022-07-18T17:33:11.004Z"
   },
   {
    "duration": 349,
    "start_time": "2022-07-18T17:33:11.011Z"
   },
   {
    "duration": 13,
    "start_time": "2022-07-18T17:33:11.362Z"
   },
   {
    "duration": 38,
    "start_time": "2022-07-18T17:33:11.376Z"
   },
   {
    "duration": 22,
    "start_time": "2022-07-18T17:33:11.415Z"
   },
   {
    "duration": 65,
    "start_time": "2022-07-18T17:33:11.438Z"
   },
   {
    "duration": 4912,
    "start_time": "2022-07-18T17:33:11.504Z"
   },
   {
    "duration": 5169,
    "start_time": "2022-07-18T17:33:16.420Z"
   },
   {
    "duration": 293486,
    "start_time": "2022-07-18T17:33:21.591Z"
   },
   {
    "duration": 286541,
    "start_time": "2022-07-18T17:38:15.079Z"
   },
   {
    "duration": 1441,
    "start_time": "2022-07-18T17:43:01.621Z"
   },
   {
    "duration": 1698,
    "start_time": "2022-07-18T17:43:03.064Z"
   },
   {
    "duration": 74849,
    "start_time": "2022-07-18T17:43:04.764Z"
   },
   {
    "duration": 120,
    "start_time": "2022-07-18T17:44:19.614Z"
   },
   {
    "duration": 72042,
    "start_time": "2022-07-18T17:47:12.064Z"
   },
   {
    "duration": 4,
    "start_time": "2022-07-18T17:56:12.790Z"
   },
   {
    "duration": 3,
    "start_time": "2022-07-18T17:56:16.000Z"
   },
   {
    "duration": 502,
    "start_time": "2022-07-18T17:56:17.922Z"
   },
   {
    "duration": 1360,
    "start_time": "2022-07-18T17:56:34.323Z"
   },
   {
    "duration": 4,
    "start_time": "2022-07-18T17:56:38.026Z"
   },
   {
    "duration": 500,
    "start_time": "2022-07-18T17:56:39.624Z"
   },
   {
    "duration": 424,
    "start_time": "2022-07-18T17:56:45.282Z"
   },
   {
    "duration": 130,
    "start_time": "2022-07-18T17:56:51.560Z"
   },
   {
    "duration": 4,
    "start_time": "2022-07-18T17:57:03.678Z"
   },
   {
    "duration": 6,
    "start_time": "2022-07-18T17:57:06.967Z"
   },
   {
    "duration": 8,
    "start_time": "2022-07-18T17:57:10.701Z"
   },
   {
    "duration": 6,
    "start_time": "2022-07-18T17:57:16.408Z"
   },
   {
    "duration": 7,
    "start_time": "2022-07-18T17:57:19.854Z"
   },
   {
    "duration": 20,
    "start_time": "2022-07-18T17:57:21.436Z"
   },
   {
    "duration": 7,
    "start_time": "2022-07-18T17:57:25.369Z"
   },
   {
    "duration": 224,
    "start_time": "2022-07-18T17:57:31.378Z"
   },
   {
    "duration": 95,
    "start_time": "2022-07-18T17:57:35.486Z"
   },
   {
    "duration": 217,
    "start_time": "2022-07-18T17:57:40.610Z"
   },
   {
    "duration": 105,
    "start_time": "2022-07-18T17:57:44.993Z"
   },
   {
    "duration": 268,
    "start_time": "2022-07-18T17:57:49.816Z"
   },
   {
    "duration": 91,
    "start_time": "2022-07-18T17:57:52.405Z"
   },
   {
    "duration": 275,
    "start_time": "2022-07-18T17:57:56.529Z"
   },
   {
    "duration": 276,
    "start_time": "2022-07-18T17:57:59.462Z"
   },
   {
    "duration": 5,
    "start_time": "2022-07-18T17:58:06.162Z"
   },
   {
    "duration": 284,
    "start_time": "2022-07-18T17:58:07.949Z"
   },
   {
    "duration": 3,
    "start_time": "2022-07-18T17:58:19.404Z"
   },
   {
    "duration": 3,
    "start_time": "2022-07-18T17:58:20.438Z"
   },
   {
    "duration": 13,
    "start_time": "2022-07-18T17:58:21.847Z"
   },
   {
    "duration": 21,
    "start_time": "2022-07-18T17:58:25.569Z"
   },
   {
    "duration": 4502,
    "start_time": "2022-07-18T17:58:27.559Z"
   },
   {
    "duration": 4773,
    "start_time": "2022-07-18T17:58:33.549Z"
   },
   {
    "duration": 266525,
    "start_time": "2022-07-18T17:58:39.511Z"
   },
   {
    "duration": 271392,
    "start_time": "2022-07-18T18:03:06.038Z"
   },
   {
    "duration": 1632,
    "start_time": "2022-07-18T18:07:37.432Z"
   },
   {
    "duration": 1497,
    "start_time": "2022-07-18T18:07:39.070Z"
   },
   {
    "duration": 70551,
    "start_time": "2022-07-18T18:07:40.569Z"
   },
   {
    "duration": 1394,
    "start_time": "2022-07-19T17:39:48.668Z"
   },
   {
    "duration": 3,
    "start_time": "2022-07-19T17:40:25.863Z"
   },
   {
    "duration": 7,
    "start_time": "2022-07-19T17:40:27.475Z"
   },
   {
    "duration": 650,
    "start_time": "2022-07-19T17:40:29.465Z"
   },
   {
    "duration": 1184,
    "start_time": "2022-07-19T17:40:33.876Z"
   },
   {
    "duration": 192,
    "start_time": "2022-07-19T17:40:37.704Z"
   },
   {
    "duration": 3,
    "start_time": "2022-07-19T17:40:43.795Z"
   },
   {
    "duration": 6,
    "start_time": "2022-07-19T17:40:44.605Z"
   },
   {
    "duration": 7,
    "start_time": "2022-07-19T17:40:45.155Z"
   },
   {
    "duration": 4,
    "start_time": "2022-07-19T17:40:47.176Z"
   },
   {
    "duration": 9,
    "start_time": "2022-07-19T17:40:50.084Z"
   },
   {
    "duration": 18,
    "start_time": "2022-07-19T17:40:51.963Z"
   },
   {
    "duration": 8,
    "start_time": "2022-07-19T17:40:53.854Z"
   },
   {
    "duration": 206,
    "start_time": "2022-07-19T17:40:58.913Z"
   },
   {
    "duration": 89,
    "start_time": "2022-07-19T17:41:01.263Z"
   },
   {
    "duration": 202,
    "start_time": "2022-07-19T17:41:03.363Z"
   },
   {
    "duration": 100,
    "start_time": "2022-07-19T17:41:05.063Z"
   },
   {
    "duration": 261,
    "start_time": "2022-07-19T17:41:06.923Z"
   },
   {
    "duration": 89,
    "start_time": "2022-07-19T17:41:09.273Z"
   },
   {
    "duration": 283,
    "start_time": "2022-07-19T17:41:11.893Z"
   },
   {
    "duration": 315,
    "start_time": "2022-07-19T17:42:06.514Z"
   },
   {
    "duration": 284,
    "start_time": "2022-07-19T17:52:33.082Z"
   },
   {
    "duration": 6,
    "start_time": "2022-07-19T17:52:38.603Z"
   },
   {
    "duration": 269,
    "start_time": "2022-07-19T17:52:40.154Z"
   },
   {
    "duration": 4,
    "start_time": "2022-07-19T17:52:44.262Z"
   },
   {
    "duration": 10,
    "start_time": "2022-07-19T17:57:04.851Z"
   },
   {
    "duration": 20,
    "start_time": "2022-07-19T17:57:59.891Z"
   },
   {
    "duration": 23,
    "start_time": "2022-07-19T17:58:55.730Z"
   },
   {
    "duration": 21,
    "start_time": "2022-07-19T17:59:34.711Z"
   },
   {
    "duration": 25,
    "start_time": "2022-07-19T18:00:10.342Z"
   },
   {
    "duration": 3,
    "start_time": "2022-07-19T18:06:48.971Z"
   },
   {
    "duration": 97,
    "start_time": "2022-07-19T18:11:58.851Z"
   },
   {
    "duration": 3,
    "start_time": "2022-07-19T18:12:03.661Z"
   },
   {
    "duration": 3,
    "start_time": "2022-07-19T18:12:04.670Z"
   },
   {
    "duration": 7,
    "start_time": "2022-07-19T18:12:06.363Z"
   },
   {
    "duration": 19,
    "start_time": "2022-07-19T18:12:07.812Z"
   },
   {
    "duration": 4082,
    "start_time": "2022-07-19T18:12:09.987Z"
   },
   {
    "duration": 4109,
    "start_time": "2022-07-19T18:12:25.849Z"
   },
   {
    "duration": 1280,
    "start_time": "2022-07-19T18:13:19.749Z"
   },
   {
    "duration": 4,
    "start_time": "2022-07-19T18:13:21.030Z"
   },
   {
    "duration": 462,
    "start_time": "2022-07-19T18:13:23.160Z"
   },
   {
    "duration": 375,
    "start_time": "2022-07-19T18:13:26.832Z"
   },
   {
    "duration": 117,
    "start_time": "2022-07-19T18:13:29.942Z"
   },
   {
    "duration": 3,
    "start_time": "2022-07-19T18:13:33.049Z"
   },
   {
    "duration": 8,
    "start_time": "2022-07-19T18:13:38.872Z"
   },
   {
    "duration": 6,
    "start_time": "2022-07-19T18:13:40.211Z"
   },
   {
    "duration": 5,
    "start_time": "2022-07-19T18:13:43.111Z"
   },
   {
    "duration": 12,
    "start_time": "2022-07-19T18:13:45.991Z"
   },
   {
    "duration": 18,
    "start_time": "2022-07-19T18:13:47.853Z"
   },
   {
    "duration": 9,
    "start_time": "2022-07-19T18:13:54.452Z"
   },
   {
    "duration": 225,
    "start_time": "2022-07-19T18:14:02.920Z"
   },
   {
    "duration": 90,
    "start_time": "2022-07-19T18:14:08.081Z"
   },
   {
    "duration": 202,
    "start_time": "2022-07-19T18:14:10.041Z"
   },
   {
    "duration": 99,
    "start_time": "2022-07-19T18:14:13.312Z"
   },
   {
    "duration": 311,
    "start_time": "2022-07-19T18:14:15.091Z"
   },
   {
    "duration": 155,
    "start_time": "2022-07-19T18:14:17.822Z"
   },
   {
    "duration": 345,
    "start_time": "2022-07-19T18:14:20.181Z"
   },
   {
    "duration": 319,
    "start_time": "2022-07-19T18:14:22.301Z"
   },
   {
    "duration": 7,
    "start_time": "2022-07-19T18:14:25.651Z"
   },
   {
    "duration": 332,
    "start_time": "2022-07-19T18:14:27.570Z"
   },
   {
    "duration": 44,
    "start_time": "2022-07-19T18:14:37.331Z"
   },
   {
    "duration": 3,
    "start_time": "2022-07-19T18:14:44.299Z"
   },
   {
    "duration": 4,
    "start_time": "2022-07-19T18:14:45.433Z"
   },
   {
    "duration": 8,
    "start_time": "2022-07-19T18:14:46.961Z"
   },
   {
    "duration": 20,
    "start_time": "2022-07-19T18:14:48.450Z"
   },
   {
    "duration": 4134,
    "start_time": "2022-07-19T18:14:50.091Z"
   },
   {
    "duration": 4202,
    "start_time": "2022-07-19T18:17:48.781Z"
   },
   {
    "duration": 4291,
    "start_time": "2022-07-19T18:20:06.260Z"
   },
   {
    "duration": 1305,
    "start_time": "2022-07-19T18:20:21.903Z"
   },
   {
    "duration": 1477,
    "start_time": "2022-07-19T18:20:32.429Z"
   },
   {
    "duration": 92,
    "start_time": "2022-07-19T18:26:40.629Z"
   },
   {
    "duration": 9,
    "start_time": "2022-07-19T18:27:00.740Z"
   },
   {
    "duration": 3,
    "start_time": "2022-07-19T18:27:24.030Z"
   },
   {
    "duration": 3584,
    "start_time": "2022-07-19T18:27:38.802Z"
   },
   {
    "duration": 3579,
    "start_time": "2022-07-19T18:28:13.169Z"
   },
   {
    "duration": 3931,
    "start_time": "2022-07-19T18:28:21.692Z"
   },
   {
    "duration": 71,
    "start_time": "2022-07-19T18:28:31.109Z"
   },
   {
    "duration": 3591,
    "start_time": "2022-07-19T18:29:11.819Z"
   },
   {
    "duration": 3700,
    "start_time": "2022-07-19T18:30:36.760Z"
   },
   {
    "duration": 3588,
    "start_time": "2022-07-19T18:30:53.229Z"
   },
   {
    "duration": 3589,
    "start_time": "2022-07-19T18:31:03.259Z"
   },
   {
    "duration": 292,
    "start_time": "2022-07-19T18:31:33.993Z"
   },
   {
    "duration": 4022,
    "start_time": "2022-07-19T18:32:04.114Z"
   },
   {
    "duration": 3929,
    "start_time": "2022-07-19T18:32:18.354Z"
   },
   {
    "duration": 3911,
    "start_time": "2022-07-19T18:34:09.720Z"
   },
   {
    "duration": 3937,
    "start_time": "2022-07-19T18:35:36.590Z"
   },
   {
    "duration": 4034,
    "start_time": "2022-07-19T18:36:33.130Z"
   },
   {
    "duration": 18696,
    "start_time": "2022-07-19T18:39:07.092Z"
   },
   {
    "duration": 17109,
    "start_time": "2022-07-19T18:39:29.002Z"
   },
   {
    "duration": 15989,
    "start_time": "2022-07-19T18:40:14.469Z"
   },
   {
    "duration": 1393,
    "start_time": "2022-07-19T18:53:16.913Z"
   },
   {
    "duration": 7,
    "start_time": "2022-07-19T18:53:18.308Z"
   },
   {
    "duration": 458,
    "start_time": "2022-07-19T18:53:18.317Z"
   },
   {
    "duration": 358,
    "start_time": "2022-07-19T18:53:18.776Z"
   },
   {
    "duration": 111,
    "start_time": "2022-07-19T18:53:19.136Z"
   },
   {
    "duration": 3,
    "start_time": "2022-07-19T18:53:19.248Z"
   },
   {
    "duration": 7,
    "start_time": "2022-07-19T18:53:19.252Z"
   },
   {
    "duration": 6,
    "start_time": "2022-07-19T18:53:19.260Z"
   },
   {
    "duration": 5,
    "start_time": "2022-07-19T18:53:19.268Z"
   },
   {
    "duration": 30,
    "start_time": "2022-07-19T18:53:19.274Z"
   },
   {
    "duration": 37,
    "start_time": "2022-07-19T18:53:19.306Z"
   },
   {
    "duration": 8,
    "start_time": "2022-07-19T18:53:19.344Z"
   },
   {
    "duration": 231,
    "start_time": "2022-07-19T18:53:19.353Z"
   },
   {
    "duration": 99,
    "start_time": "2022-07-19T18:53:19.587Z"
   },
   {
    "duration": 207,
    "start_time": "2022-07-19T18:53:19.687Z"
   },
   {
    "duration": 106,
    "start_time": "2022-07-19T18:53:19.896Z"
   },
   {
    "duration": 267,
    "start_time": "2022-07-19T18:53:20.016Z"
   },
   {
    "duration": 93,
    "start_time": "2022-07-19T18:53:20.285Z"
   },
   {
    "duration": 301,
    "start_time": "2022-07-19T18:53:20.379Z"
   },
   {
    "duration": 296,
    "start_time": "2022-07-19T18:53:20.681Z"
   },
   {
    "duration": 6,
    "start_time": "2022-07-19T18:53:20.979Z"
   },
   {
    "duration": 289,
    "start_time": "2022-07-19T18:53:20.986Z"
   },
   {
    "duration": 40,
    "start_time": "2022-07-19T18:53:21.276Z"
   },
   {
    "duration": 2,
    "start_time": "2022-07-19T18:53:21.318Z"
   },
   {
    "duration": 7,
    "start_time": "2022-07-19T18:53:21.322Z"
   },
   {
    "duration": 8,
    "start_time": "2022-07-19T18:53:21.330Z"
   },
   {
    "duration": 21,
    "start_time": "2022-07-19T18:53:21.340Z"
   },
   {
    "duration": 21777,
    "start_time": "2022-07-19T18:53:21.362Z"
   },
   {
    "duration": 19296,
    "start_time": "2022-07-19T18:53:43.141Z"
   },
   {
    "duration": 1264,
    "start_time": "2022-07-19T18:59:53.692Z"
   },
   {
    "duration": 3,
    "start_time": "2022-07-19T18:59:54.958Z"
   },
   {
    "duration": 448,
    "start_time": "2022-07-19T18:59:54.962Z"
   },
   {
    "duration": 350,
    "start_time": "2022-07-19T18:59:55.412Z"
   },
   {
    "duration": 105,
    "start_time": "2022-07-19T18:59:55.764Z"
   },
   {
    "duration": 3,
    "start_time": "2022-07-19T18:59:55.870Z"
   },
   {
    "duration": 12,
    "start_time": "2022-07-19T18:59:55.875Z"
   },
   {
    "duration": 17,
    "start_time": "2022-07-19T18:59:55.888Z"
   },
   {
    "duration": 13,
    "start_time": "2022-07-19T18:59:55.907Z"
   },
   {
    "duration": 15,
    "start_time": "2022-07-19T18:59:55.921Z"
   },
   {
    "duration": 21,
    "start_time": "2022-07-19T18:59:55.938Z"
   },
   {
    "duration": 7,
    "start_time": "2022-07-19T18:59:55.960Z"
   },
   {
    "duration": 211,
    "start_time": "2022-07-19T18:59:55.969Z"
   },
   {
    "duration": 95,
    "start_time": "2022-07-19T18:59:56.183Z"
   },
   {
    "duration": 189,
    "start_time": "2022-07-19T18:59:56.280Z"
   },
   {
    "duration": 99,
    "start_time": "2022-07-19T18:59:56.470Z"
   },
   {
    "duration": 253,
    "start_time": "2022-07-19T18:59:56.571Z"
   },
   {
    "duration": 95,
    "start_time": "2022-07-19T18:59:56.826Z"
   },
   {
    "duration": 291,
    "start_time": "2022-07-19T18:59:56.923Z"
   },
   {
    "duration": 351,
    "start_time": "2022-07-19T18:59:57.215Z"
   },
   {
    "duration": 5,
    "start_time": "2022-07-19T18:59:57.567Z"
   },
   {
    "duration": 296,
    "start_time": "2022-07-19T18:59:57.574Z"
   },
   {
    "duration": 40,
    "start_time": "2022-07-19T18:59:57.872Z"
   },
   {
    "duration": 2,
    "start_time": "2022-07-19T18:59:57.914Z"
   },
   {
    "duration": 25,
    "start_time": "2022-07-19T18:59:57.918Z"
   },
   {
    "duration": 17,
    "start_time": "2022-07-19T18:59:57.945Z"
   },
   {
    "duration": 41,
    "start_time": "2022-07-19T18:59:57.963Z"
   },
   {
    "duration": 17004,
    "start_time": "2022-07-19T18:59:58.006Z"
   },
   {
    "duration": 18203,
    "start_time": "2022-07-19T19:00:15.012Z"
   },
   {
    "duration": 525242,
    "start_time": "2022-07-19T19:00:33.217Z"
   },
   {
    "duration": 35702,
    "start_time": "2022-07-19T19:09:18.461Z"
   },
   {
    "duration": 1639,
    "start_time": "2022-07-19T19:09:54.164Z"
   },
   {
    "duration": 1696,
    "start_time": "2022-07-19T19:09:55.805Z"
   },
   {
    "duration": 64525,
    "start_time": "2022-07-19T19:09:57.503Z"
   },
   {
    "duration": 1262,
    "start_time": "2022-07-19T19:31:31.875Z"
   },
   {
    "duration": 3,
    "start_time": "2022-07-19T19:31:33.144Z"
   },
   {
    "duration": 480,
    "start_time": "2022-07-19T19:31:35.415Z"
   },
   {
    "duration": 378,
    "start_time": "2022-07-19T19:31:39.644Z"
   },
   {
    "duration": 122,
    "start_time": "2022-07-19T19:31:43.117Z"
   },
   {
    "duration": 3,
    "start_time": "2022-07-19T19:31:45.837Z"
   },
   {
    "duration": 5,
    "start_time": "2022-07-19T19:31:46.765Z"
   },
   {
    "duration": 7,
    "start_time": "2022-07-19T19:31:47.367Z"
   },
   {
    "duration": 4,
    "start_time": "2022-07-19T19:31:48.817Z"
   },
   {
    "duration": 7,
    "start_time": "2022-07-19T19:31:50.956Z"
   },
   {
    "duration": 25,
    "start_time": "2022-07-19T19:31:52.187Z"
   },
   {
    "duration": 8,
    "start_time": "2022-07-19T19:31:53.876Z"
   },
   {
    "duration": 222,
    "start_time": "2022-07-19T19:31:56.396Z"
   },
   {
    "duration": 98,
    "start_time": "2022-07-19T19:31:58.265Z"
   },
   {
    "duration": 191,
    "start_time": "2022-07-19T19:32:00.455Z"
   },
   {
    "duration": 98,
    "start_time": "2022-07-19T19:32:02.565Z"
   },
   {
    "duration": 254,
    "start_time": "2022-07-19T19:32:04.337Z"
   },
   {
    "duration": 92,
    "start_time": "2022-07-19T19:32:06.266Z"
   },
   {
    "duration": 284,
    "start_time": "2022-07-19T19:32:08.285Z"
   },
   {
    "duration": 274,
    "start_time": "2022-07-19T19:32:12.558Z"
   },
   {
    "duration": 5,
    "start_time": "2022-07-19T19:32:18.046Z"
   },
   {
    "duration": 265,
    "start_time": "2022-07-19T19:32:19.537Z"
   },
   {
    "duration": 32,
    "start_time": "2022-07-19T19:32:21.896Z"
   },
   {
    "duration": 3,
    "start_time": "2022-07-19T19:32:24.886Z"
   },
   {
    "duration": 3,
    "start_time": "2022-07-19T19:32:25.817Z"
   },
   {
    "duration": 8,
    "start_time": "2022-07-19T19:32:27.625Z"
   },
   {
    "duration": 19,
    "start_time": "2022-07-19T19:32:28.897Z"
   },
   {
    "duration": 18654,
    "start_time": "2022-07-19T19:32:30.594Z"
   },
   {
    "duration": 18096,
    "start_time": "2022-07-19T19:32:53.655Z"
   },
   {
    "duration": 43,
    "start_time": "2022-07-19T19:34:58.715Z"
   },
   {
    "duration": 76829,
    "start_time": "2022-07-19T19:35:45.646Z"
   },
   {
    "duration": 95,
    "start_time": "2022-07-19T19:43:29.888Z"
   },
   {
    "duration": 74913,
    "start_time": "2022-07-19T19:43:41.637Z"
   },
   {
    "duration": 4299,
    "start_time": "2022-07-19T19:45:58.996Z"
   },
   {
    "duration": 3638,
    "start_time": "2022-07-19T19:46:19.207Z"
   },
   {
    "duration": 1485,
    "start_time": "2022-07-20T08:41:48.895Z"
   },
   {
    "duration": 4,
    "start_time": "2022-07-20T08:41:51.807Z"
   },
   {
    "duration": 659,
    "start_time": "2022-07-20T08:41:53.258Z"
   },
   {
    "duration": 1170,
    "start_time": "2022-07-20T08:41:57.904Z"
   },
   {
    "duration": 179,
    "start_time": "2022-07-20T08:42:03.132Z"
   },
   {
    "duration": 3,
    "start_time": "2022-07-20T08:42:08.549Z"
   },
   {
    "duration": 6,
    "start_time": "2022-07-20T08:42:09.258Z"
   },
   {
    "duration": 6,
    "start_time": "2022-07-20T08:42:09.764Z"
   },
   {
    "duration": 5,
    "start_time": "2022-07-20T08:42:13.399Z"
   },
   {
    "duration": 6,
    "start_time": "2022-07-20T08:42:15.789Z"
   },
   {
    "duration": 18,
    "start_time": "2022-07-20T08:42:17.387Z"
   },
   {
    "duration": 7,
    "start_time": "2022-07-20T08:42:18.961Z"
   },
   {
    "duration": 211,
    "start_time": "2022-07-20T08:42:23.385Z"
   },
   {
    "duration": 89,
    "start_time": "2022-07-20T08:42:25.026Z"
   },
   {
    "duration": 181,
    "start_time": "2022-07-20T08:42:29.436Z"
   },
   {
    "duration": 154,
    "start_time": "2022-07-20T08:42:31.188Z"
   },
   {
    "duration": 186,
    "start_time": "2022-07-20T08:42:33.204Z"
   },
   {
    "duration": 133,
    "start_time": "2022-07-20T08:42:35.790Z"
   },
   {
    "duration": 271,
    "start_time": "2022-07-20T08:42:50.334Z"
   },
   {
    "duration": 294,
    "start_time": "2022-07-20T08:42:54.841Z"
   },
   {
    "duration": 6,
    "start_time": "2022-07-20T08:42:58.113Z"
   },
   {
    "duration": 287,
    "start_time": "2022-07-20T08:42:59.063Z"
   },
   {
    "duration": 36,
    "start_time": "2022-07-20T08:43:01.208Z"
   },
   {
    "duration": 3,
    "start_time": "2022-07-20T08:43:03.127Z"
   },
   {
    "duration": 2,
    "start_time": "2022-07-20T08:43:04.179Z"
   },
   {
    "duration": 7,
    "start_time": "2022-07-20T08:43:06.205Z"
   },
   {
    "duration": 19,
    "start_time": "2022-07-20T08:43:07.587Z"
   },
   {
    "duration": 21248,
    "start_time": "2022-07-20T08:43:09.974Z"
   },
   {
    "duration": 21143,
    "start_time": "2022-07-20T08:43:38.341Z"
   },
   {
    "duration": 1320,
    "start_time": "2022-07-20T08:43:59.485Z"
   },
   {
    "duration": 1202,
    "start_time": "2022-07-20T08:44:00.807Z"
   },
   {
    "duration": 262741,
    "start_time": "2022-07-20T08:44:39.102Z"
   },
   {
    "duration": 1337,
    "start_time": "2022-07-20T09:08:40.761Z"
   },
   {
    "duration": 3,
    "start_time": "2022-07-20T09:08:43.569Z"
   },
   {
    "duration": 444,
    "start_time": "2022-07-20T09:08:45.118Z"
   },
   {
    "duration": 357,
    "start_time": "2022-07-20T09:08:46.982Z"
   },
   {
    "duration": 122,
    "start_time": "2022-07-20T09:08:50.418Z"
   },
   {
    "duration": 4,
    "start_time": "2022-07-20T09:08:53.190Z"
   },
   {
    "duration": 5,
    "start_time": "2022-07-20T09:08:53.715Z"
   },
   {
    "duration": 6,
    "start_time": "2022-07-20T09:08:54.235Z"
   },
   {
    "duration": 5,
    "start_time": "2022-07-20T09:08:55.970Z"
   },
   {
    "duration": 8,
    "start_time": "2022-07-20T09:09:00.279Z"
   },
   {
    "duration": 23,
    "start_time": "2022-07-20T09:09:01.012Z"
   },
   {
    "duration": 11,
    "start_time": "2022-07-20T09:09:02.203Z"
   },
   {
    "duration": 225,
    "start_time": "2022-07-20T09:09:03.954Z"
   },
   {
    "duration": 98,
    "start_time": "2022-07-20T09:09:06.187Z"
   },
   {
    "duration": 218,
    "start_time": "2022-07-20T09:09:10.036Z"
   },
   {
    "duration": 166,
    "start_time": "2022-07-20T09:09:12.202Z"
   },
   {
    "duration": 189,
    "start_time": "2022-07-20T09:09:13.979Z"
   },
   {
    "duration": 91,
    "start_time": "2022-07-20T09:09:16.307Z"
   },
   {
    "duration": 299,
    "start_time": "2022-07-20T09:09:19.317Z"
   },
   {
    "duration": 306,
    "start_time": "2022-07-20T09:09:21.262Z"
   },
   {
    "duration": 6,
    "start_time": "2022-07-20T09:09:23.788Z"
   },
   {
    "duration": 330,
    "start_time": "2022-07-20T09:09:24.861Z"
   },
   {
    "duration": 33,
    "start_time": "2022-07-20T09:09:26.856Z"
   },
   {
    "duration": 3,
    "start_time": "2022-07-20T09:09:28.772Z"
   },
   {
    "duration": 3,
    "start_time": "2022-07-20T09:09:29.515Z"
   },
   {
    "duration": 7,
    "start_time": "2022-07-20T09:09:30.968Z"
   },
   {
    "duration": 19,
    "start_time": "2022-07-20T09:09:32.365Z"
   },
   {
    "duration": 19655,
    "start_time": "2022-07-20T09:09:33.905Z"
   },
   {
    "duration": 17853,
    "start_time": "2022-07-20T09:09:53.562Z"
   },
   {
    "duration": 12097,
    "start_time": "2022-07-20T09:10:25.135Z"
   },
   {
    "duration": 1359,
    "start_time": "2022-07-20T09:30:42.702Z"
   },
   {
    "duration": 4,
    "start_time": "2022-07-20T09:30:45.443Z"
   },
   {
    "duration": 443,
    "start_time": "2022-07-20T09:30:46.550Z"
   },
   {
    "duration": 379,
    "start_time": "2022-07-20T09:30:48.202Z"
   },
   {
    "duration": 121,
    "start_time": "2022-07-20T09:30:50.022Z"
   },
   {
    "duration": 4,
    "start_time": "2022-07-20T09:30:51.615Z"
   },
   {
    "duration": 5,
    "start_time": "2022-07-20T09:30:52.360Z"
   },
   {
    "duration": 7,
    "start_time": "2022-07-20T09:30:52.926Z"
   },
   {
    "duration": 5,
    "start_time": "2022-07-20T09:30:54.172Z"
   },
   {
    "duration": 7,
    "start_time": "2022-07-20T09:30:56.743Z"
   },
   {
    "duration": 21,
    "start_time": "2022-07-20T09:30:57.480Z"
   },
   {
    "duration": 12,
    "start_time": "2022-07-20T09:30:59.710Z"
   },
   {
    "duration": 251,
    "start_time": "2022-07-20T09:31:01.527Z"
   },
   {
    "duration": 230,
    "start_time": "2022-07-20T09:31:05.919Z"
   },
   {
    "duration": 109,
    "start_time": "2022-07-20T09:31:08.387Z"
   },
   {
    "duration": 279,
    "start_time": "2022-07-20T09:31:10.242Z"
   },
   {
    "duration": 96,
    "start_time": "2022-07-20T09:31:12.430Z"
   },
   {
    "duration": 102,
    "start_time": "2022-07-20T09:31:23.443Z"
   },
   {
    "duration": 329,
    "start_time": "2022-07-20T09:31:28.158Z"
   },
   {
    "duration": 372,
    "start_time": "2022-07-20T09:31:29.682Z"
   },
   {
    "duration": 7,
    "start_time": "2022-07-20T09:31:32.680Z"
   },
   {
    "duration": 344,
    "start_time": "2022-07-20T09:31:34.181Z"
   },
   {
    "duration": 40,
    "start_time": "2022-07-20T09:31:37.223Z"
   },
   {
    "duration": 3,
    "start_time": "2022-07-20T09:31:39.183Z"
   },
   {
    "duration": 3,
    "start_time": "2022-07-20T09:31:39.899Z"
   },
   {
    "duration": 12,
    "start_time": "2022-07-20T09:31:41.611Z"
   },
   {
    "duration": 20,
    "start_time": "2022-07-20T09:31:43.939Z"
   },
   {
    "duration": 17769,
    "start_time": "2022-07-20T09:31:57.847Z"
   },
   {
    "duration": 20045,
    "start_time": "2022-07-20T09:32:31.871Z"
   },
   {
    "duration": 20724,
    "start_time": "2022-07-20T09:32:51.921Z"
   },
   {
    "duration": 220389,
    "start_time": "2022-07-20T09:33:12.647Z"
   },
   {
    "duration": 382485,
    "start_time": "2022-07-20T09:37:20.961Z"
   },
   {
    "duration": 222552,
    "start_time": "2022-07-20T09:43:43.448Z"
   },
   {
    "duration": 316093,
    "start_time": "2022-07-20T09:47:53.124Z"
   },
   {
    "duration": 231940,
    "start_time": "2022-07-20T09:53:09.219Z"
   },
   {
    "duration": 1856,
    "start_time": "2022-07-20T09:57:01.161Z"
   },
   {
    "duration": 1890,
    "start_time": "2022-07-20T09:57:03.024Z"
   },
   {
    "duration": 24,
    "start_time": "2022-07-20T10:00:32.627Z"
   },
   {
    "duration": 12,
    "start_time": "2022-07-20T10:00:43.981Z"
   },
   {
    "duration": 29,
    "start_time": "2022-07-20T10:00:49.483Z"
   },
   {
    "duration": 13,
    "start_time": "2022-07-20T10:00:54.362Z"
   },
   {
    "duration": 23,
    "start_time": "2022-07-20T10:01:00.144Z"
   },
   {
    "duration": 4,
    "start_time": "2022-07-20T10:02:53.348Z"
   },
   {
    "duration": 11,
    "start_time": "2022-07-20T10:07:15.411Z"
   },
   {
    "duration": 10,
    "start_time": "2022-07-20T10:07:26.863Z"
   },
   {
    "duration": 85396,
    "start_time": "2022-07-20T10:07:49.545Z"
   },
   {
    "duration": 676912,
    "start_time": "2022-07-20T10:10:16.952Z"
   },
   {
    "duration": 29,
    "start_time": "2022-07-20T10:22:57.514Z"
   },
   {
    "duration": 24,
    "start_time": "2022-07-20T10:22:58.856Z"
   },
   {
    "duration": 23,
    "start_time": "2022-07-20T10:23:07.063Z"
   },
   {
    "duration": 11,
    "start_time": "2022-07-20T10:23:21.480Z"
   },
   {
    "duration": 171242,
    "start_time": "2022-07-20T10:23:45.873Z"
   },
   {
    "duration": 538674,
    "start_time": "2022-07-20T10:27:07.583Z"
   },
   {
    "duration": 12,
    "start_time": "2022-07-20T10:36:37.971Z"
   },
   {
    "duration": 11,
    "start_time": "2022-07-20T10:36:39.789Z"
   },
   {
    "duration": 1347,
    "start_time": "2022-07-20T10:36:49.105Z"
   },
   {
    "duration": 3,
    "start_time": "2022-07-20T10:36:50.454Z"
   },
   {
    "duration": 444,
    "start_time": "2022-07-20T10:36:50.458Z"
   },
   {
    "duration": 359,
    "start_time": "2022-07-20T10:36:50.904Z"
   },
   {
    "duration": 105,
    "start_time": "2022-07-20T10:36:51.265Z"
   },
   {
    "duration": 2,
    "start_time": "2022-07-20T10:36:51.372Z"
   },
   {
    "duration": 6,
    "start_time": "2022-07-20T10:36:51.376Z"
   },
   {
    "duration": 24,
    "start_time": "2022-07-20T10:36:51.383Z"
   },
   {
    "duration": 4,
    "start_time": "2022-07-20T10:36:51.409Z"
   },
   {
    "duration": 9,
    "start_time": "2022-07-20T10:36:51.416Z"
   },
   {
    "duration": 22,
    "start_time": "2022-07-20T10:36:51.427Z"
   },
   {
    "duration": 9,
    "start_time": "2022-07-20T10:36:51.450Z"
   },
   {
    "duration": 243,
    "start_time": "2022-07-20T10:36:51.460Z"
   },
   {
    "duration": 99,
    "start_time": "2022-07-20T10:36:51.705Z"
   },
   {
    "duration": 196,
    "start_time": "2022-07-20T10:36:51.806Z"
   },
   {
    "duration": 174,
    "start_time": "2022-07-20T10:36:52.004Z"
   },
   {
    "duration": 207,
    "start_time": "2022-07-20T10:36:52.181Z"
   },
   {
    "duration": 95,
    "start_time": "2022-07-20T10:36:52.390Z"
   },
   {
    "duration": 302,
    "start_time": "2022-07-20T10:36:52.487Z"
   },
   {
    "duration": 342,
    "start_time": "2022-07-20T10:36:52.790Z"
   },
   {
    "duration": 6,
    "start_time": "2022-07-20T10:36:53.134Z"
   },
   {
    "duration": 297,
    "start_time": "2022-07-20T10:36:53.142Z"
   },
   {
    "duration": 36,
    "start_time": "2022-07-20T10:36:53.441Z"
   },
   {
    "duration": 3,
    "start_time": "2022-07-20T10:36:53.479Z"
   },
   {
    "duration": 19,
    "start_time": "2022-07-20T10:36:53.483Z"
   },
   {
    "duration": 21,
    "start_time": "2022-07-20T10:36:53.503Z"
   },
   {
    "duration": 39,
    "start_time": "2022-07-20T10:36:53.526Z"
   },
   {
    "duration": 17695,
    "start_time": "2022-07-20T10:36:53.568Z"
   },
   {
    "duration": 19190,
    "start_time": "2022-07-20T10:37:11.265Z"
   },
   {
    "duration": 329566,
    "start_time": "2022-07-20T10:37:30.457Z"
   },
   {
    "duration": 277429,
    "start_time": "2022-07-20T10:43:00.025Z"
   },
   {
    "duration": 1359,
    "start_time": "2022-07-20T10:47:37.456Z"
   },
   {
    "duration": 1806,
    "start_time": "2022-07-20T10:47:38.823Z"
   },
   {
    "duration": 40062,
    "start_time": "2022-07-20T10:47:40.702Z"
   },
   {
    "duration": 787233,
    "start_time": "2022-07-20T10:48:20.766Z"
   },
   {
    "duration": 10,
    "start_time": "2022-07-20T11:01:28.001Z"
   },
   {
    "duration": 9,
    "start_time": "2022-07-20T11:01:28.013Z"
   },
   {
    "duration": 32,
    "start_time": "2022-07-20T11:03:15.356Z"
   },
   {
    "duration": 35,
    "start_time": "2022-07-20T11:03:21.895Z"
   },
   {
    "duration": 123793,
    "start_time": "2022-07-20T11:03:37.370Z"
   },
   {
    "duration": 1256,
    "start_time": "2022-07-20T11:06:37.966Z"
   },
   {
    "duration": 3,
    "start_time": "2022-07-20T11:06:39.224Z"
   },
   {
    "duration": 447,
    "start_time": "2022-07-20T11:06:39.228Z"
   },
   {
    "duration": 367,
    "start_time": "2022-07-20T11:06:39.677Z"
   },
   {
    "duration": 105,
    "start_time": "2022-07-20T11:06:40.046Z"
   },
   {
    "duration": 2,
    "start_time": "2022-07-20T11:06:40.153Z"
   },
   {
    "duration": 10,
    "start_time": "2022-07-20T11:06:40.157Z"
   },
   {
    "duration": 7,
    "start_time": "2022-07-20T11:06:40.168Z"
   },
   {
    "duration": 5,
    "start_time": "2022-07-20T11:06:40.177Z"
   },
   {
    "duration": 7,
    "start_time": "2022-07-20T11:06:40.202Z"
   },
   {
    "duration": 22,
    "start_time": "2022-07-20T11:06:40.210Z"
   },
   {
    "duration": 7,
    "start_time": "2022-07-20T11:06:40.234Z"
   },
   {
    "duration": 230,
    "start_time": "2022-07-20T11:06:40.242Z"
   },
   {
    "duration": 97,
    "start_time": "2022-07-20T11:06:40.473Z"
   },
   {
    "duration": 193,
    "start_time": "2022-07-20T11:06:40.571Z"
   },
   {
    "duration": 171,
    "start_time": "2022-07-20T11:06:40.766Z"
   },
   {
    "duration": 200,
    "start_time": "2022-07-20T11:06:40.939Z"
   },
   {
    "duration": 95,
    "start_time": "2022-07-20T11:06:41.141Z"
   },
   {
    "duration": 360,
    "start_time": "2022-07-20T11:06:41.237Z"
   },
   {
    "duration": 325,
    "start_time": "2022-07-20T11:06:41.598Z"
   },
   {
    "duration": 7,
    "start_time": "2022-07-20T11:06:41.925Z"
   },
   {
    "duration": 287,
    "start_time": "2022-07-20T11:06:41.933Z"
   },
   {
    "duration": 35,
    "start_time": "2022-07-20T11:06:42.222Z"
   },
   {
    "duration": 3,
    "start_time": "2022-07-20T11:06:42.259Z"
   },
   {
    "duration": 8,
    "start_time": "2022-07-20T11:06:42.263Z"
   },
   {
    "duration": 8,
    "start_time": "2022-07-20T11:06:42.272Z"
   },
   {
    "duration": 34,
    "start_time": "2022-07-20T11:06:42.281Z"
   },
   {
    "duration": 16388,
    "start_time": "2022-07-20T11:06:42.318Z"
   },
   {
    "duration": 19162,
    "start_time": "2022-07-20T11:06:58.708Z"
   },
   {
    "duration": 448575,
    "start_time": "2022-07-20T11:07:17.871Z"
   },
   {
    "duration": 385941,
    "start_time": "2022-07-20T11:14:46.448Z"
   },
   {
    "duration": 1222,
    "start_time": "2022-07-20T11:21:12.390Z"
   },
   {
    "duration": 1289,
    "start_time": "2022-07-20T11:21:13.614Z"
   },
   {
    "duration": 704868,
    "start_time": "2022-07-20T11:21:14.905Z"
   },
   {
    "duration": 553512,
    "start_time": "2022-07-20T11:32:59.775Z"
   },
   {
    "duration": 54,
    "start_time": "2022-07-20T11:42:13.289Z"
   },
   {
    "duration": 13,
    "start_time": "2022-07-20T11:42:13.345Z"
   },
   {
    "duration": 1374,
    "start_time": "2022-07-20T12:04:39.406Z"
   },
   {
    "duration": 3,
    "start_time": "2022-07-20T12:04:40.782Z"
   },
   {
    "duration": 460,
    "start_time": "2022-07-20T12:04:40.786Z"
   },
   {
    "duration": 369,
    "start_time": "2022-07-20T12:04:41.248Z"
   },
   {
    "duration": 104,
    "start_time": "2022-07-20T12:04:41.619Z"
   },
   {
    "duration": 3,
    "start_time": "2022-07-20T12:04:41.724Z"
   },
   {
    "duration": 10,
    "start_time": "2022-07-20T12:04:41.728Z"
   },
   {
    "duration": 21,
    "start_time": "2022-07-20T12:04:41.739Z"
   },
   {
    "duration": 22,
    "start_time": "2022-07-20T12:04:41.762Z"
   },
   {
    "duration": 11,
    "start_time": "2022-07-20T12:04:41.787Z"
   },
   {
    "duration": 21,
    "start_time": "2022-07-20T12:04:41.799Z"
   },
   {
    "duration": 8,
    "start_time": "2022-07-20T12:04:41.821Z"
   },
   {
    "duration": 220,
    "start_time": "2022-07-20T12:04:41.831Z"
   },
   {
    "duration": 98,
    "start_time": "2022-07-20T12:04:42.053Z"
   },
   {
    "duration": 198,
    "start_time": "2022-07-20T12:04:42.152Z"
   },
   {
    "duration": 165,
    "start_time": "2022-07-20T12:04:42.352Z"
   },
   {
    "duration": 198,
    "start_time": "2022-07-20T12:04:42.518Z"
   },
   {
    "duration": 93,
    "start_time": "2022-07-20T12:04:42.717Z"
   },
   {
    "duration": 279,
    "start_time": "2022-07-20T12:04:42.811Z"
   },
   {
    "duration": 292,
    "start_time": "2022-07-20T12:04:43.091Z"
   },
   {
    "duration": 5,
    "start_time": "2022-07-20T12:04:43.384Z"
   },
   {
    "duration": 267,
    "start_time": "2022-07-20T12:04:43.390Z"
   },
   {
    "duration": 45,
    "start_time": "2022-07-20T12:04:43.658Z"
   },
   {
    "duration": 3,
    "start_time": "2022-07-20T12:04:43.704Z"
   },
   {
    "duration": 6,
    "start_time": "2022-07-20T12:04:43.709Z"
   },
   {
    "duration": 8,
    "start_time": "2022-07-20T12:04:43.717Z"
   },
   {
    "duration": 20,
    "start_time": "2022-07-20T12:04:43.726Z"
   },
   {
    "duration": 17405,
    "start_time": "2022-07-20T12:04:43.749Z"
   },
   {
    "duration": 18322,
    "start_time": "2022-07-20T12:05:01.155Z"
   },
   {
    "duration": 332311,
    "start_time": "2022-07-20T12:05:19.478Z"
   },
   {
    "duration": 145250,
    "start_time": "2022-07-20T12:10:51.790Z"
   },
   {
    "duration": 1463,
    "start_time": "2022-07-20T12:13:17.041Z"
   },
   {
    "duration": 1600,
    "start_time": "2022-07-20T12:13:18.506Z"
   },
   {
    "duration": 281413,
    "start_time": "2022-07-20T12:13:20.108Z"
   },
   {
    "duration": 643010,
    "start_time": "2022-07-20T12:18:01.522Z"
   },
   {
    "duration": 34,
    "start_time": "2022-07-20T12:28:44.533Z"
   },
   {
    "duration": 8,
    "start_time": "2022-07-20T12:28:44.569Z"
   },
   {
    "duration": 35,
    "start_time": "2022-07-20T12:30:45.681Z"
   },
   {
    "duration": 11,
    "start_time": "2022-07-20T12:31:01.985Z"
   },
   {
    "duration": 10,
    "start_time": "2022-07-20T12:31:03.662Z"
   },
   {
    "duration": 1494,
    "start_time": "2022-07-20T12:31:25.140Z"
   },
   {
    "duration": 3,
    "start_time": "2022-07-20T12:31:26.636Z"
   },
   {
    "duration": 502,
    "start_time": "2022-07-20T12:31:26.641Z"
   },
   {
    "duration": 390,
    "start_time": "2022-07-20T12:31:27.144Z"
   },
   {
    "duration": 142,
    "start_time": "2022-07-20T12:31:27.536Z"
   },
   {
    "duration": 3,
    "start_time": "2022-07-20T12:31:27.680Z"
   },
   {
    "duration": 20,
    "start_time": "2022-07-20T12:31:27.685Z"
   },
   {
    "duration": 50,
    "start_time": "2022-07-20T12:31:27.707Z"
   },
   {
    "duration": 21,
    "start_time": "2022-07-20T12:31:27.759Z"
   },
   {
    "duration": 31,
    "start_time": "2022-07-20T12:31:27.782Z"
   },
   {
    "duration": 34,
    "start_time": "2022-07-20T12:31:27.815Z"
   },
   {
    "duration": 12,
    "start_time": "2022-07-20T12:31:27.850Z"
   },
   {
    "duration": 218,
    "start_time": "2022-07-20T12:31:27.863Z"
   },
   {
    "duration": 98,
    "start_time": "2022-07-20T12:31:28.084Z"
   },
   {
    "duration": 211,
    "start_time": "2022-07-20T12:31:28.183Z"
   },
   {
    "duration": 185,
    "start_time": "2022-07-20T12:31:28.402Z"
   },
   {
    "duration": 197,
    "start_time": "2022-07-20T12:31:28.589Z"
   },
   {
    "duration": 97,
    "start_time": "2022-07-20T12:31:28.788Z"
   },
   {
    "duration": 306,
    "start_time": "2022-07-20T12:31:28.887Z"
   },
   {
    "duration": 319,
    "start_time": "2022-07-20T12:31:29.195Z"
   },
   {
    "duration": 7,
    "start_time": "2022-07-20T12:31:29.516Z"
   },
   {
    "duration": 307,
    "start_time": "2022-07-20T12:31:29.525Z"
   },
   {
    "duration": 36,
    "start_time": "2022-07-20T12:31:29.833Z"
   },
   {
    "duration": 3,
    "start_time": "2022-07-20T12:31:29.870Z"
   },
   {
    "duration": 11,
    "start_time": "2022-07-20T12:31:29.875Z"
   },
   {
    "duration": 16,
    "start_time": "2022-07-20T12:31:29.887Z"
   },
   {
    "duration": 28,
    "start_time": "2022-07-20T12:31:29.904Z"
   },
   {
    "duration": 17005,
    "start_time": "2022-07-20T12:31:29.936Z"
   },
   {
    "duration": 19676,
    "start_time": "2022-07-20T12:31:46.943Z"
   },
   {
    "duration": 58985,
    "start_time": "2022-07-20T12:32:06.621Z"
   },
   {
    "duration": 0,
    "start_time": "2022-07-20T12:33:05.608Z"
   },
   {
    "duration": 0,
    "start_time": "2022-07-20T12:33:05.610Z"
   },
   {
    "duration": 0,
    "start_time": "2022-07-20T12:33:05.611Z"
   },
   {
    "duration": 0,
    "start_time": "2022-07-20T12:33:05.613Z"
   },
   {
    "duration": 0,
    "start_time": "2022-07-20T12:33:05.614Z"
   },
   {
    "duration": 0,
    "start_time": "2022-07-20T12:33:05.615Z"
   },
   {
    "duration": 0,
    "start_time": "2022-07-20T12:33:05.616Z"
   },
   {
    "duration": 1339,
    "start_time": "2022-07-20T12:34:24.745Z"
   },
   {
    "duration": 4,
    "start_time": "2022-07-20T12:34:26.085Z"
   },
   {
    "duration": 485,
    "start_time": "2022-07-20T12:34:26.090Z"
   },
   {
    "duration": 374,
    "start_time": "2022-07-20T12:34:26.577Z"
   },
   {
    "duration": 114,
    "start_time": "2022-07-20T12:34:26.952Z"
   },
   {
    "duration": 3,
    "start_time": "2022-07-20T12:34:27.067Z"
   },
   {
    "duration": 7,
    "start_time": "2022-07-20T12:34:27.072Z"
   },
   {
    "duration": 6,
    "start_time": "2022-07-20T12:34:27.080Z"
   },
   {
    "duration": 7,
    "start_time": "2022-07-20T12:34:27.101Z"
   },
   {
    "duration": 19,
    "start_time": "2022-07-20T12:34:27.111Z"
   },
   {
    "duration": 21,
    "start_time": "2022-07-20T12:34:27.132Z"
   },
   {
    "duration": 8,
    "start_time": "2022-07-20T12:34:27.155Z"
   },
   {
    "duration": 325,
    "start_time": "2022-07-20T12:34:27.164Z"
   },
   {
    "duration": 127,
    "start_time": "2022-07-20T12:34:27.491Z"
   },
   {
    "duration": 211,
    "start_time": "2022-07-20T12:34:27.622Z"
   },
   {
    "duration": 179,
    "start_time": "2022-07-20T12:34:27.835Z"
   },
   {
    "duration": 201,
    "start_time": "2022-07-20T12:34:28.016Z"
   },
   {
    "duration": 104,
    "start_time": "2022-07-20T12:34:28.219Z"
   },
   {
    "duration": 304,
    "start_time": "2022-07-20T12:34:28.325Z"
   },
   {
    "duration": 310,
    "start_time": "2022-07-20T12:34:28.631Z"
   },
   {
    "duration": 5,
    "start_time": "2022-07-20T12:34:28.942Z"
   },
   {
    "duration": 294,
    "start_time": "2022-07-20T12:34:28.949Z"
   },
   {
    "duration": 34,
    "start_time": "2022-07-20T12:34:29.244Z"
   },
   {
    "duration": 3,
    "start_time": "2022-07-20T12:34:29.279Z"
   },
   {
    "duration": 10,
    "start_time": "2022-07-20T12:34:29.284Z"
   },
   {
    "duration": 9,
    "start_time": "2022-07-20T12:34:29.315Z"
   },
   {
    "duration": 26,
    "start_time": "2022-07-20T12:34:29.325Z"
   },
   {
    "duration": 18044,
    "start_time": "2022-07-20T12:34:29.354Z"
   },
   {
    "duration": 18289,
    "start_time": "2022-07-20T12:34:47.408Z"
   },
   {
    "duration": 110504,
    "start_time": "2022-07-20T12:35:05.698Z"
   },
   {
    "duration": 462368,
    "start_time": "2022-07-20T12:36:56.205Z"
   },
   {
    "duration": 1344,
    "start_time": "2022-07-20T12:44:38.574Z"
   },
   {
    "duration": 1589,
    "start_time": "2022-07-20T12:44:39.922Z"
   },
   {
    "duration": 952147,
    "start_time": "2022-07-20T12:44:41.519Z"
   },
   {
    "duration": 1312,
    "start_time": "2022-07-20T13:03:42.771Z"
   },
   {
    "duration": 4,
    "start_time": "2022-07-20T13:03:44.085Z"
   },
   {
    "duration": 454,
    "start_time": "2022-07-20T13:03:44.090Z"
   },
   {
    "duration": 362,
    "start_time": "2022-07-20T13:03:44.546Z"
   },
   {
    "duration": 114,
    "start_time": "2022-07-20T13:03:44.910Z"
   },
   {
    "duration": 4,
    "start_time": "2022-07-20T13:03:45.025Z"
   },
   {
    "duration": 11,
    "start_time": "2022-07-20T13:03:45.032Z"
   },
   {
    "duration": 10,
    "start_time": "2022-07-20T13:03:45.045Z"
   },
   {
    "duration": 8,
    "start_time": "2022-07-20T13:03:45.056Z"
   },
   {
    "duration": 11,
    "start_time": "2022-07-20T13:03:45.067Z"
   },
   {
    "duration": 30,
    "start_time": "2022-07-20T13:03:45.080Z"
   },
   {
    "duration": 11,
    "start_time": "2022-07-20T13:03:45.113Z"
   },
   {
    "duration": 255,
    "start_time": "2022-07-20T13:03:45.126Z"
   },
   {
    "duration": 101,
    "start_time": "2022-07-20T13:03:45.382Z"
   },
   {
    "duration": 220,
    "start_time": "2022-07-20T13:03:45.485Z"
   },
   {
    "duration": 166,
    "start_time": "2022-07-20T13:03:45.707Z"
   },
   {
    "duration": 203,
    "start_time": "2022-07-20T13:03:45.874Z"
   },
   {
    "duration": 99,
    "start_time": "2022-07-20T13:03:46.079Z"
   },
   {
    "duration": 291,
    "start_time": "2022-07-20T13:03:46.179Z"
   },
   {
    "duration": 298,
    "start_time": "2022-07-20T13:03:46.472Z"
   },
   {
    "duration": 6,
    "start_time": "2022-07-20T13:03:46.771Z"
   },
   {
    "duration": 284,
    "start_time": "2022-07-20T13:03:46.778Z"
   },
   {
    "duration": 42,
    "start_time": "2022-07-20T13:03:47.064Z"
   },
   {
    "duration": 4,
    "start_time": "2022-07-20T13:03:47.108Z"
   },
   {
    "duration": 8,
    "start_time": "2022-07-20T13:03:47.113Z"
   },
   {
    "duration": 10,
    "start_time": "2022-07-20T13:03:47.122Z"
   },
   {
    "duration": 21,
    "start_time": "2022-07-20T13:03:47.133Z"
   },
   {
    "duration": 19462,
    "start_time": "2022-07-20T13:03:47.158Z"
   },
   {
    "duration": 17465,
    "start_time": "2022-07-20T13:04:06.622Z"
   },
   {
    "duration": 150482,
    "start_time": "2022-07-20T13:04:24.089Z"
   },
   {
    "duration": 745384,
    "start_time": "2022-07-20T13:06:54.573Z"
   },
   {
    "duration": 1152,
    "start_time": "2022-07-20T13:19:19.958Z"
   },
   {
    "duration": 1592,
    "start_time": "2022-07-20T13:19:21.111Z"
   },
   {
    "duration": 1519,
    "start_time": "2022-07-20T13:53:56.110Z"
   },
   {
    "duration": 3,
    "start_time": "2022-07-20T13:53:57.632Z"
   },
   {
    "duration": 499,
    "start_time": "2022-07-20T13:53:57.641Z"
   },
   {
    "duration": 400,
    "start_time": "2022-07-20T13:53:58.142Z"
   },
   {
    "duration": 106,
    "start_time": "2022-07-20T13:53:58.545Z"
   },
   {
    "duration": 3,
    "start_time": "2022-07-20T13:53:58.652Z"
   },
   {
    "duration": 40,
    "start_time": "2022-07-20T13:53:58.656Z"
   },
   {
    "duration": 19,
    "start_time": "2022-07-20T13:53:58.697Z"
   },
   {
    "duration": 24,
    "start_time": "2022-07-20T13:53:58.718Z"
   },
   {
    "duration": 19,
    "start_time": "2022-07-20T13:53:58.743Z"
   },
   {
    "duration": 38,
    "start_time": "2022-07-20T13:53:58.764Z"
   },
   {
    "duration": 11,
    "start_time": "2022-07-20T13:53:58.804Z"
   },
   {
    "duration": 245,
    "start_time": "2022-07-20T13:53:58.817Z"
   },
   {
    "duration": 107,
    "start_time": "2022-07-20T13:53:59.064Z"
   },
   {
    "duration": 199,
    "start_time": "2022-07-20T13:53:59.172Z"
   },
   {
    "duration": 169,
    "start_time": "2022-07-20T13:53:59.373Z"
   },
   {
    "duration": 211,
    "start_time": "2022-07-20T13:53:59.543Z"
   },
   {
    "duration": 100,
    "start_time": "2022-07-20T13:53:59.755Z"
   },
   {
    "duration": 308,
    "start_time": "2022-07-20T13:53:59.856Z"
   },
   {
    "duration": 307,
    "start_time": "2022-07-20T13:54:00.166Z"
   },
   {
    "duration": 5,
    "start_time": "2022-07-20T13:54:00.474Z"
   },
   {
    "duration": 282,
    "start_time": "2022-07-20T13:54:00.481Z"
   },
   {
    "duration": 40,
    "start_time": "2022-07-20T13:54:00.764Z"
   },
   {
    "duration": 2,
    "start_time": "2022-07-20T13:54:00.806Z"
   },
   {
    "duration": 8,
    "start_time": "2022-07-20T13:54:00.810Z"
   },
   {
    "duration": 10,
    "start_time": "2022-07-20T13:54:00.819Z"
   },
   {
    "duration": 24,
    "start_time": "2022-07-20T13:54:00.831Z"
   },
   {
    "duration": 16068,
    "start_time": "2022-07-20T13:54:00.856Z"
   },
   {
    "duration": 16227,
    "start_time": "2022-07-20T13:54:16.926Z"
   },
   {
    "duration": 437655,
    "start_time": "2022-07-20T13:54:33.154Z"
   },
   {
    "duration": 97403,
    "start_time": "2022-07-20T14:01:50.811Z"
   },
   {
    "duration": 1295,
    "start_time": "2022-07-20T14:03:28.215Z"
   },
   {
    "duration": 1495,
    "start_time": "2022-07-20T14:03:29.512Z"
   },
   {
    "duration": 1291,
    "start_time": "2022-07-20T14:26:28.213Z"
   },
   {
    "duration": 3,
    "start_time": "2022-07-20T14:26:29.505Z"
   },
   {
    "duration": 446,
    "start_time": "2022-07-20T14:26:29.509Z"
   },
   {
    "duration": 367,
    "start_time": "2022-07-20T14:26:29.956Z"
   },
   {
    "duration": 107,
    "start_time": "2022-07-20T14:26:30.324Z"
   },
   {
    "duration": 2,
    "start_time": "2022-07-20T14:26:30.433Z"
   },
   {
    "duration": 11,
    "start_time": "2022-07-20T14:26:30.437Z"
   },
   {
    "duration": 15,
    "start_time": "2022-07-20T14:26:30.449Z"
   },
   {
    "duration": 17,
    "start_time": "2022-07-20T14:26:30.465Z"
   },
   {
    "duration": 8,
    "start_time": "2022-07-20T14:26:30.485Z"
   },
   {
    "duration": 33,
    "start_time": "2022-07-20T14:26:30.494Z"
   },
   {
    "duration": 8,
    "start_time": "2022-07-20T14:26:30.529Z"
   },
   {
    "duration": 211,
    "start_time": "2022-07-20T14:26:30.538Z"
   },
   {
    "duration": 93,
    "start_time": "2022-07-20T14:26:30.751Z"
   },
   {
    "duration": 200,
    "start_time": "2022-07-20T14:26:30.845Z"
   },
   {
    "duration": 162,
    "start_time": "2022-07-20T14:26:31.047Z"
   },
   {
    "duration": 194,
    "start_time": "2022-07-20T14:26:31.210Z"
   },
   {
    "duration": 103,
    "start_time": "2022-07-20T14:26:31.405Z"
   },
   {
    "duration": 288,
    "start_time": "2022-07-20T14:26:31.509Z"
   },
   {
    "duration": 318,
    "start_time": "2022-07-20T14:26:31.798Z"
   },
   {
    "duration": 6,
    "start_time": "2022-07-20T14:26:32.117Z"
   },
   {
    "duration": 311,
    "start_time": "2022-07-20T14:26:32.124Z"
   },
   {
    "duration": 43,
    "start_time": "2022-07-20T14:26:32.436Z"
   },
   {
    "duration": 3,
    "start_time": "2022-07-20T14:26:32.480Z"
   },
   {
    "duration": 8,
    "start_time": "2022-07-20T14:26:32.485Z"
   },
   {
    "duration": 9,
    "start_time": "2022-07-20T14:26:32.501Z"
   },
   {
    "duration": 22,
    "start_time": "2022-07-20T14:26:32.511Z"
   },
   {
    "duration": 20157,
    "start_time": "2022-07-20T14:26:32.536Z"
   },
   {
    "duration": 20208,
    "start_time": "2022-07-20T14:26:52.694Z"
   },
   {
    "duration": 1279,
    "start_time": "2022-07-20T14:27:24.358Z"
   },
   {
    "duration": 4,
    "start_time": "2022-07-20T14:27:25.638Z"
   },
   {
    "duration": 447,
    "start_time": "2022-07-20T14:27:25.645Z"
   },
   {
    "duration": 364,
    "start_time": "2022-07-20T14:27:26.094Z"
   },
   {
    "duration": 104,
    "start_time": "2022-07-20T14:27:26.460Z"
   },
   {
    "duration": 3,
    "start_time": "2022-07-20T14:27:26.565Z"
   },
   {
    "duration": 21,
    "start_time": "2022-07-20T14:27:26.569Z"
   },
   {
    "duration": 44,
    "start_time": "2022-07-20T14:27:26.591Z"
   },
   {
    "duration": 21,
    "start_time": "2022-07-20T14:27:26.637Z"
   },
   {
    "duration": 30,
    "start_time": "2022-07-20T14:27:26.659Z"
   },
   {
    "duration": 39,
    "start_time": "2022-07-20T14:27:26.690Z"
   },
   {
    "duration": 7,
    "start_time": "2022-07-20T14:27:26.731Z"
   },
   {
    "duration": 210,
    "start_time": "2022-07-20T14:27:26.741Z"
   },
   {
    "duration": 94,
    "start_time": "2022-07-20T14:27:26.953Z"
   },
   {
    "duration": 191,
    "start_time": "2022-07-20T14:27:27.049Z"
   },
   {
    "duration": 194,
    "start_time": "2022-07-20T14:27:27.242Z"
   },
   {
    "duration": 226,
    "start_time": "2022-07-20T14:27:27.438Z"
   },
   {
    "duration": 98,
    "start_time": "2022-07-20T14:27:27.665Z"
   },
   {
    "duration": 283,
    "start_time": "2022-07-20T14:27:27.765Z"
   },
   {
    "duration": 295,
    "start_time": "2022-07-20T14:27:28.049Z"
   },
   {
    "duration": 5,
    "start_time": "2022-07-20T14:27:28.346Z"
   },
   {
    "duration": 274,
    "start_time": "2022-07-20T14:27:28.352Z"
   },
   {
    "duration": 34,
    "start_time": "2022-07-20T14:27:28.627Z"
   },
   {
    "duration": 3,
    "start_time": "2022-07-20T14:27:28.663Z"
   },
   {
    "duration": 9,
    "start_time": "2022-07-20T14:27:28.667Z"
   },
   {
    "duration": 12,
    "start_time": "2022-07-20T14:27:28.678Z"
   },
   {
    "duration": 26,
    "start_time": "2022-07-20T14:27:28.692Z"
   },
   {
    "duration": 18613,
    "start_time": "2022-07-20T14:27:28.720Z"
   },
   {
    "duration": 19490,
    "start_time": "2022-07-20T14:27:47.335Z"
   },
   {
    "duration": 470403,
    "start_time": "2022-07-20T14:28:06.826Z"
   },
   {
    "duration": 673029,
    "start_time": "2022-07-20T14:35:57.230Z"
   },
   {
    "duration": 1141,
    "start_time": "2022-07-20T14:47:10.260Z"
   },
   {
    "duration": 1401,
    "start_time": "2022-07-20T14:47:11.403Z"
   },
   {
    "duration": 1312,
    "start_time": "2022-07-20T15:07:55.180Z"
   },
   {
    "duration": 3,
    "start_time": "2022-07-20T15:07:56.494Z"
   },
   {
    "duration": 458,
    "start_time": "2022-07-20T15:07:56.499Z"
   },
   {
    "duration": 375,
    "start_time": "2022-07-20T15:07:56.959Z"
   },
   {
    "duration": 147,
    "start_time": "2022-07-20T15:07:57.337Z"
   },
   {
    "duration": 3,
    "start_time": "2022-07-20T15:07:57.487Z"
   },
   {
    "duration": 22,
    "start_time": "2022-07-20T15:07:57.491Z"
   },
   {
    "duration": 19,
    "start_time": "2022-07-20T15:07:57.515Z"
   },
   {
    "duration": 23,
    "start_time": "2022-07-20T15:07:57.536Z"
   },
   {
    "duration": 15,
    "start_time": "2022-07-20T15:07:57.561Z"
   },
   {
    "duration": 31,
    "start_time": "2022-07-20T15:07:57.578Z"
   },
   {
    "duration": 8,
    "start_time": "2022-07-20T15:07:57.611Z"
   },
   {
    "duration": 235,
    "start_time": "2022-07-20T15:07:57.620Z"
   },
   {
    "duration": 97,
    "start_time": "2022-07-20T15:07:57.858Z"
   },
   {
    "duration": 199,
    "start_time": "2022-07-20T15:07:57.957Z"
   },
   {
    "duration": 185,
    "start_time": "2022-07-20T15:07:58.159Z"
   },
   {
    "duration": 202,
    "start_time": "2022-07-20T15:07:58.345Z"
   },
   {
    "duration": 97,
    "start_time": "2022-07-20T15:07:58.548Z"
   },
   {
    "duration": 297,
    "start_time": "2022-07-20T15:07:58.647Z"
   },
   {
    "duration": 301,
    "start_time": "2022-07-20T15:07:58.945Z"
   },
   {
    "duration": 5,
    "start_time": "2022-07-20T15:07:59.248Z"
   },
   {
    "duration": 296,
    "start_time": "2022-07-20T15:07:59.255Z"
   },
   {
    "duration": 37,
    "start_time": "2022-07-20T15:07:59.553Z"
   },
   {
    "duration": 10,
    "start_time": "2022-07-20T15:07:59.592Z"
   },
   {
    "duration": 7,
    "start_time": "2022-07-20T15:07:59.604Z"
   },
   {
    "duration": 11,
    "start_time": "2022-07-20T15:07:59.612Z"
   },
   {
    "duration": 24,
    "start_time": "2022-07-20T15:07:59.624Z"
   },
   {
    "duration": 21733,
    "start_time": "2022-07-20T15:07:59.650Z"
   },
   {
    "duration": 16154,
    "start_time": "2022-07-20T15:08:21.385Z"
   },
   {
    "duration": 1399,
    "start_time": "2022-07-20T15:08:41.376Z"
   },
   {
    "duration": 3,
    "start_time": "2022-07-20T15:08:42.777Z"
   },
   {
    "duration": 461,
    "start_time": "2022-07-20T15:08:42.781Z"
   },
   {
    "duration": 375,
    "start_time": "2022-07-20T15:08:43.245Z"
   },
   {
    "duration": 110,
    "start_time": "2022-07-20T15:08:43.621Z"
   },
   {
    "duration": 3,
    "start_time": "2022-07-20T15:08:43.732Z"
   },
   {
    "duration": 8,
    "start_time": "2022-07-20T15:08:43.736Z"
   },
   {
    "duration": 6,
    "start_time": "2022-07-20T15:08:43.745Z"
   },
   {
    "duration": 7,
    "start_time": "2022-07-20T15:08:43.753Z"
   },
   {
    "duration": 9,
    "start_time": "2022-07-20T15:08:43.763Z"
   },
   {
    "duration": 22,
    "start_time": "2022-07-20T15:08:43.802Z"
   },
   {
    "duration": 7,
    "start_time": "2022-07-20T15:08:43.826Z"
   },
   {
    "duration": 236,
    "start_time": "2022-07-20T15:08:43.835Z"
   },
   {
    "duration": 92,
    "start_time": "2022-07-20T15:08:44.072Z"
   },
   {
    "duration": 200,
    "start_time": "2022-07-20T15:08:44.166Z"
   },
   {
    "duration": 184,
    "start_time": "2022-07-20T15:08:44.368Z"
   },
   {
    "duration": 204,
    "start_time": "2022-07-20T15:08:44.553Z"
   },
   {
    "duration": 101,
    "start_time": "2022-07-20T15:08:44.759Z"
   },
   {
    "duration": 309,
    "start_time": "2022-07-20T15:08:44.861Z"
   },
   {
    "duration": 359,
    "start_time": "2022-07-20T15:08:45.172Z"
   },
   {
    "duration": 5,
    "start_time": "2022-07-20T15:08:45.533Z"
   },
   {
    "duration": 311,
    "start_time": "2022-07-20T15:08:45.539Z"
   },
   {
    "duration": 52,
    "start_time": "2022-07-20T15:08:45.852Z"
   },
   {
    "duration": 3,
    "start_time": "2022-07-20T15:08:45.906Z"
   },
   {
    "duration": 49,
    "start_time": "2022-07-20T15:08:45.910Z"
   },
   {
    "duration": 18,
    "start_time": "2022-07-20T15:08:45.961Z"
   },
   {
    "duration": 49,
    "start_time": "2022-07-20T15:08:45.981Z"
   },
   {
    "duration": 20176,
    "start_time": "2022-07-20T15:08:46.033Z"
   },
   {
    "duration": 1425,
    "start_time": "2022-07-20T15:09:15.796Z"
   },
   {
    "duration": 5,
    "start_time": "2022-07-20T15:09:17.222Z"
   },
   {
    "duration": 499,
    "start_time": "2022-07-20T15:09:17.228Z"
   },
   {
    "duration": 358,
    "start_time": "2022-07-20T15:09:17.729Z"
   },
   {
    "duration": 114,
    "start_time": "2022-07-20T15:09:18.088Z"
   },
   {
    "duration": 3,
    "start_time": "2022-07-20T15:09:18.204Z"
   },
   {
    "duration": 13,
    "start_time": "2022-07-20T15:09:18.208Z"
   },
   {
    "duration": 11,
    "start_time": "2022-07-20T15:09:18.223Z"
   },
   {
    "duration": 9,
    "start_time": "2022-07-20T15:09:18.235Z"
   },
   {
    "duration": 9,
    "start_time": "2022-07-20T15:09:18.246Z"
   },
   {
    "duration": 24,
    "start_time": "2022-07-20T15:09:18.257Z"
   },
   {
    "duration": 21,
    "start_time": "2022-07-20T15:09:18.282Z"
   },
   {
    "duration": 246,
    "start_time": "2022-07-20T15:09:18.305Z"
   },
   {
    "duration": 110,
    "start_time": "2022-07-20T15:09:18.552Z"
   },
   {
    "duration": 207,
    "start_time": "2022-07-20T15:09:18.664Z"
   },
   {
    "duration": 185,
    "start_time": "2022-07-20T15:09:18.873Z"
   },
   {
    "duration": 256,
    "start_time": "2022-07-20T15:09:19.060Z"
   },
   {
    "duration": 117,
    "start_time": "2022-07-20T15:09:19.318Z"
   },
   {
    "duration": 370,
    "start_time": "2022-07-20T15:09:19.437Z"
   },
   {
    "duration": 343,
    "start_time": "2022-07-20T15:09:19.809Z"
   },
   {
    "duration": 6,
    "start_time": "2022-07-20T15:09:20.153Z"
   },
   {
    "duration": 339,
    "start_time": "2022-07-20T15:09:20.160Z"
   },
   {
    "duration": 37,
    "start_time": "2022-07-20T15:09:20.502Z"
   },
   {
    "duration": 12,
    "start_time": "2022-07-20T15:09:20.541Z"
   },
   {
    "duration": 33,
    "start_time": "2022-07-20T15:09:20.555Z"
   },
   {
    "duration": 37,
    "start_time": "2022-07-20T15:09:20.591Z"
   },
   {
    "duration": 46,
    "start_time": "2022-07-20T15:09:20.630Z"
   },
   {
    "duration": 16995,
    "start_time": "2022-07-20T15:09:20.680Z"
   },
   {
    "duration": 18518,
    "start_time": "2022-07-20T15:09:37.677Z"
   },
   {
    "duration": 28539,
    "start_time": "2022-07-20T15:09:56.203Z"
   },
   {
    "duration": 1363,
    "start_time": "2022-07-20T15:10:47.372Z"
   },
   {
    "duration": 3,
    "start_time": "2022-07-20T15:10:48.737Z"
   },
   {
    "duration": 443,
    "start_time": "2022-07-20T15:10:48.742Z"
   },
   {
    "duration": 360,
    "start_time": "2022-07-20T15:10:49.189Z"
   },
   {
    "duration": 113,
    "start_time": "2022-07-20T15:10:49.551Z"
   },
   {
    "duration": 4,
    "start_time": "2022-07-20T15:10:49.667Z"
   },
   {
    "duration": 8,
    "start_time": "2022-07-20T15:10:49.673Z"
   },
   {
    "duration": 20,
    "start_time": "2022-07-20T15:10:49.683Z"
   },
   {
    "duration": 7,
    "start_time": "2022-07-20T15:10:49.704Z"
   },
   {
    "duration": 26,
    "start_time": "2022-07-20T15:10:49.714Z"
   },
   {
    "duration": 24,
    "start_time": "2022-07-20T15:10:49.742Z"
   },
   {
    "duration": 8,
    "start_time": "2022-07-20T15:10:49.768Z"
   },
   {
    "duration": 244,
    "start_time": "2022-07-20T15:10:49.778Z"
   },
   {
    "duration": 111,
    "start_time": "2022-07-20T15:10:50.024Z"
   },
   {
    "duration": 200,
    "start_time": "2022-07-20T15:10:50.137Z"
   },
   {
    "duration": 182,
    "start_time": "2022-07-20T15:10:50.339Z"
   },
   {
    "duration": 200,
    "start_time": "2022-07-20T15:10:50.522Z"
   },
   {
    "duration": 105,
    "start_time": "2022-07-20T15:10:50.724Z"
   },
   {
    "duration": 298,
    "start_time": "2022-07-20T15:10:50.831Z"
   },
   {
    "duration": 302,
    "start_time": "2022-07-20T15:10:51.131Z"
   },
   {
    "duration": 6,
    "start_time": "2022-07-20T15:10:51.435Z"
   },
   {
    "duration": 305,
    "start_time": "2022-07-20T15:10:51.443Z"
   },
   {
    "duration": 34,
    "start_time": "2022-07-20T15:10:51.750Z"
   },
   {
    "duration": 3,
    "start_time": "2022-07-20T15:10:51.786Z"
   },
   {
    "duration": 3,
    "start_time": "2022-07-20T15:10:51.802Z"
   },
   {
    "duration": 10,
    "start_time": "2022-07-20T15:10:51.807Z"
   },
   {
    "duration": 27,
    "start_time": "2022-07-20T15:10:51.819Z"
   },
   {
    "duration": 19602,
    "start_time": "2022-07-20T15:10:51.850Z"
   },
   {
    "duration": 18509,
    "start_time": "2022-07-20T15:11:11.454Z"
   },
   {
    "duration": 300928,
    "start_time": "2022-07-20T15:11:29.964Z"
   },
   {
    "duration": 123715,
    "start_time": "2022-07-20T15:16:30.894Z"
   },
   {
    "duration": 1393,
    "start_time": "2022-07-20T15:18:34.611Z"
   },
   {
    "duration": 1302,
    "start_time": "2022-07-20T15:18:36.006Z"
   },
   {
    "duration": 1474,
    "start_time": "2022-07-20T15:37:11.301Z"
   },
   {
    "duration": 3,
    "start_time": "2022-07-20T15:37:12.777Z"
   },
   {
    "duration": 467,
    "start_time": "2022-07-20T15:37:12.781Z"
   },
   {
    "duration": 381,
    "start_time": "2022-07-20T15:37:13.250Z"
   },
   {
    "duration": 109,
    "start_time": "2022-07-20T15:37:13.633Z"
   },
   {
    "duration": 2,
    "start_time": "2022-07-20T15:37:13.744Z"
   },
   {
    "duration": 8,
    "start_time": "2022-07-20T15:37:13.747Z"
   },
   {
    "duration": 7,
    "start_time": "2022-07-20T15:37:13.756Z"
   },
   {
    "duration": 7,
    "start_time": "2022-07-20T15:37:13.764Z"
   },
   {
    "duration": 32,
    "start_time": "2022-07-20T15:37:13.774Z"
   },
   {
    "duration": 21,
    "start_time": "2022-07-20T15:37:13.807Z"
   },
   {
    "duration": 8,
    "start_time": "2022-07-20T15:37:13.830Z"
   },
   {
    "duration": 236,
    "start_time": "2022-07-20T15:37:13.840Z"
   },
   {
    "duration": 103,
    "start_time": "2022-07-20T15:37:14.079Z"
   },
   {
    "duration": 210,
    "start_time": "2022-07-20T15:37:14.184Z"
   },
   {
    "duration": 172,
    "start_time": "2022-07-20T15:37:14.401Z"
   },
   {
    "duration": 201,
    "start_time": "2022-07-20T15:37:14.575Z"
   },
   {
    "duration": 96,
    "start_time": "2022-07-20T15:37:14.778Z"
   },
   {
    "duration": 309,
    "start_time": "2022-07-20T15:37:14.876Z"
   },
   {
    "duration": 336,
    "start_time": "2022-07-20T15:37:15.188Z"
   },
   {
    "duration": 6,
    "start_time": "2022-07-20T15:37:15.527Z"
   },
   {
    "duration": 291,
    "start_time": "2022-07-20T15:37:15.534Z"
   },
   {
    "duration": 52,
    "start_time": "2022-07-20T15:37:15.826Z"
   },
   {
    "duration": 3,
    "start_time": "2022-07-20T15:37:15.879Z"
   },
   {
    "duration": 18,
    "start_time": "2022-07-20T15:37:15.884Z"
   },
   {
    "duration": 10,
    "start_time": "2022-07-20T15:37:15.904Z"
   },
   {
    "duration": 23,
    "start_time": "2022-07-20T15:37:15.915Z"
   },
   {
    "duration": 16934,
    "start_time": "2022-07-20T15:37:15.941Z"
   },
   {
    "duration": 1481,
    "start_time": "2022-07-20T15:37:41.378Z"
   },
   {
    "duration": 3,
    "start_time": "2022-07-20T15:37:42.861Z"
   },
   {
    "duration": 469,
    "start_time": "2022-07-20T15:37:42.865Z"
   },
   {
    "duration": 376,
    "start_time": "2022-07-20T15:37:43.336Z"
   },
   {
    "duration": 109,
    "start_time": "2022-07-20T15:37:43.714Z"
   },
   {
    "duration": 3,
    "start_time": "2022-07-20T15:37:43.824Z"
   },
   {
    "duration": 9,
    "start_time": "2022-07-20T15:37:43.828Z"
   },
   {
    "duration": 6,
    "start_time": "2022-07-20T15:37:43.839Z"
   },
   {
    "duration": 5,
    "start_time": "2022-07-20T15:37:43.847Z"
   },
   {
    "duration": 8,
    "start_time": "2022-07-20T15:37:43.854Z"
   },
   {
    "duration": 45,
    "start_time": "2022-07-20T15:37:43.863Z"
   },
   {
    "duration": 8,
    "start_time": "2022-07-20T15:37:43.909Z"
   },
   {
    "duration": 229,
    "start_time": "2022-07-20T15:37:43.919Z"
   },
   {
    "duration": 103,
    "start_time": "2022-07-20T15:37:44.149Z"
   },
   {
    "duration": 237,
    "start_time": "2022-07-20T15:37:44.254Z"
   },
   {
    "duration": 182,
    "start_time": "2022-07-20T15:37:44.493Z"
   },
   {
    "duration": 199,
    "start_time": "2022-07-20T15:37:44.677Z"
   },
   {
    "duration": 99,
    "start_time": "2022-07-20T15:37:44.877Z"
   },
   {
    "duration": 337,
    "start_time": "2022-07-20T15:37:44.978Z"
   },
   {
    "duration": 309,
    "start_time": "2022-07-20T15:37:45.316Z"
   },
   {
    "duration": 5,
    "start_time": "2022-07-20T15:37:45.627Z"
   },
   {
    "duration": 291,
    "start_time": "2022-07-20T15:37:45.634Z"
   },
   {
    "duration": 38,
    "start_time": "2022-07-20T15:37:45.927Z"
   },
   {
    "duration": 3,
    "start_time": "2022-07-20T15:37:45.966Z"
   },
   {
    "duration": 27,
    "start_time": "2022-07-20T15:37:45.971Z"
   },
   {
    "duration": 18,
    "start_time": "2022-07-20T15:37:46.000Z"
   },
   {
    "duration": 37,
    "start_time": "2022-07-20T15:37:46.019Z"
   },
   {
    "duration": 18878,
    "start_time": "2022-07-20T15:37:46.059Z"
   },
   {
    "duration": 1357,
    "start_time": "2022-07-20T15:38:40.061Z"
   },
   {
    "duration": 3,
    "start_time": "2022-07-20T15:38:41.420Z"
   },
   {
    "duration": 464,
    "start_time": "2022-07-20T15:38:41.424Z"
   },
   {
    "duration": 642,
    "start_time": "2022-07-20T15:38:41.890Z"
   },
   {
    "duration": 209,
    "start_time": "2022-07-20T15:38:42.533Z"
   },
   {
    "duration": 2,
    "start_time": "2022-07-20T15:38:42.744Z"
   },
   {
    "duration": 6,
    "start_time": "2022-07-20T15:38:42.801Z"
   },
   {
    "duration": 6,
    "start_time": "2022-07-20T15:38:42.809Z"
   },
   {
    "duration": 5,
    "start_time": "2022-07-20T15:38:42.817Z"
   },
   {
    "duration": 7,
    "start_time": "2022-07-20T15:38:42.824Z"
   },
   {
    "duration": 74,
    "start_time": "2022-07-20T15:38:42.833Z"
   },
   {
    "duration": 10,
    "start_time": "2022-07-20T15:38:42.909Z"
   },
   {
    "duration": 426,
    "start_time": "2022-07-20T15:38:42.920Z"
   },
   {
    "duration": 201,
    "start_time": "2022-07-20T15:38:43.347Z"
   },
   {
    "duration": 287,
    "start_time": "2022-07-20T15:38:43.549Z"
   },
   {
    "duration": 179,
    "start_time": "2022-07-20T15:38:43.838Z"
   },
   {
    "duration": 200,
    "start_time": "2022-07-20T15:38:44.018Z"
   },
   {
    "duration": 97,
    "start_time": "2022-07-20T15:38:44.220Z"
   },
   {
    "duration": 297,
    "start_time": "2022-07-20T15:38:44.319Z"
   },
   {
    "duration": 307,
    "start_time": "2022-07-20T15:38:44.618Z"
   },
   {
    "duration": 6,
    "start_time": "2022-07-20T15:38:44.926Z"
   },
   {
    "duration": 317,
    "start_time": "2022-07-20T15:38:44.934Z"
   },
   {
    "duration": 52,
    "start_time": "2022-07-20T15:38:45.253Z"
   },
   {
    "duration": 3,
    "start_time": "2022-07-20T15:38:45.307Z"
   },
   {
    "duration": 14,
    "start_time": "2022-07-20T15:38:45.311Z"
   },
   {
    "duration": 22,
    "start_time": "2022-07-20T15:38:45.326Z"
   },
   {
    "duration": 29,
    "start_time": "2022-07-20T15:38:45.350Z"
   },
   {
    "duration": 17424,
    "start_time": "2022-07-20T15:38:45.382Z"
   },
   {
    "duration": 15883,
    "start_time": "2022-07-20T15:39:02.808Z"
   },
   {
    "duration": 1635,
    "start_time": "2022-07-20T15:43:56.323Z"
   },
   {
    "duration": 5,
    "start_time": "2022-07-20T15:43:57.960Z"
   },
   {
    "duration": 498,
    "start_time": "2022-07-20T15:43:57.966Z"
   },
   {
    "duration": 397,
    "start_time": "2022-07-20T15:43:58.466Z"
   },
   {
    "duration": 113,
    "start_time": "2022-07-20T15:43:58.865Z"
   },
   {
    "duration": 3,
    "start_time": "2022-07-20T15:43:58.980Z"
   },
   {
    "duration": 19,
    "start_time": "2022-07-20T15:43:58.986Z"
   },
   {
    "duration": 11,
    "start_time": "2022-07-20T15:43:59.006Z"
   },
   {
    "duration": 13,
    "start_time": "2022-07-20T15:43:59.019Z"
   },
   {
    "duration": 14,
    "start_time": "2022-07-20T15:43:59.036Z"
   },
   {
    "duration": 21,
    "start_time": "2022-07-20T15:43:59.055Z"
   },
   {
    "duration": 27,
    "start_time": "2022-07-20T15:43:59.077Z"
   },
   {
    "duration": 279,
    "start_time": "2022-07-20T15:43:59.107Z"
   },
   {
    "duration": 116,
    "start_time": "2022-07-20T15:43:59.388Z"
   },
   {
    "duration": 228,
    "start_time": "2022-07-20T15:43:59.505Z"
   },
   {
    "duration": 201,
    "start_time": "2022-07-20T15:43:59.734Z"
   },
   {
    "duration": 218,
    "start_time": "2022-07-20T15:43:59.937Z"
   },
   {
    "duration": 109,
    "start_time": "2022-07-20T15:44:00.157Z"
   },
   {
    "duration": 353,
    "start_time": "2022-07-20T15:44:00.268Z"
   },
   {
    "duration": 329,
    "start_time": "2022-07-20T15:44:00.623Z"
   },
   {
    "duration": 6,
    "start_time": "2022-07-20T15:44:00.954Z"
   },
   {
    "duration": 295,
    "start_time": "2022-07-20T15:44:00.962Z"
   },
   {
    "duration": 43,
    "start_time": "2022-07-20T15:44:01.259Z"
   },
   {
    "duration": 2,
    "start_time": "2022-07-20T15:44:01.304Z"
   },
   {
    "duration": 19,
    "start_time": "2022-07-20T15:44:01.308Z"
   },
   {
    "duration": 21,
    "start_time": "2022-07-20T15:44:01.328Z"
   },
   {
    "duration": 32,
    "start_time": "2022-07-20T15:44:01.350Z"
   },
   {
    "duration": 18485,
    "start_time": "2022-07-20T15:44:01.385Z"
   },
   {
    "duration": 20227,
    "start_time": "2022-07-20T15:44:19.872Z"
   },
   {
    "duration": 153075,
    "start_time": "2022-07-20T15:44:40.102Z"
   },
   {
    "duration": 576730,
    "start_time": "2022-07-20T15:47:13.180Z"
   },
   {
    "duration": 1191,
    "start_time": "2022-07-20T15:56:49.912Z"
   },
   {
    "duration": 1498,
    "start_time": "2022-07-20T15:56:51.105Z"
   },
   {
    "duration": 213722,
    "start_time": "2022-07-20T15:56:52.604Z"
   },
   {
    "duration": 1283,
    "start_time": "2022-07-20T16:01:18.656Z"
   },
   {
    "duration": 4,
    "start_time": "2022-07-20T16:01:19.941Z"
   },
   {
    "duration": 457,
    "start_time": "2022-07-20T16:01:19.946Z"
   },
   {
    "duration": 373,
    "start_time": "2022-07-20T16:01:20.404Z"
   },
   {
    "duration": 110,
    "start_time": "2022-07-20T16:01:20.779Z"
   },
   {
    "duration": 12,
    "start_time": "2022-07-20T16:01:20.890Z"
   },
   {
    "duration": 5,
    "start_time": "2022-07-20T16:01:20.904Z"
   },
   {
    "duration": 7,
    "start_time": "2022-07-20T16:01:20.910Z"
   },
   {
    "duration": 6,
    "start_time": "2022-07-20T16:01:20.919Z"
   },
   {
    "duration": 9,
    "start_time": "2022-07-20T16:01:20.926Z"
   },
   {
    "duration": 23,
    "start_time": "2022-07-20T16:01:20.936Z"
   },
   {
    "duration": 8,
    "start_time": "2022-07-20T16:01:20.960Z"
   },
   {
    "duration": 248,
    "start_time": "2022-07-20T16:01:20.969Z"
   },
   {
    "duration": 99,
    "start_time": "2022-07-20T16:01:21.220Z"
   },
   {
    "duration": 211,
    "start_time": "2022-07-20T16:01:21.320Z"
   },
   {
    "duration": 186,
    "start_time": "2022-07-20T16:01:21.533Z"
   },
   {
    "duration": 197,
    "start_time": "2022-07-20T16:01:21.720Z"
   },
   {
    "duration": 94,
    "start_time": "2022-07-20T16:01:21.919Z"
   },
   {
    "duration": 293,
    "start_time": "2022-07-20T16:01:22.014Z"
   },
   {
    "duration": 331,
    "start_time": "2022-07-20T16:01:22.309Z"
   },
   {
    "duration": 6,
    "start_time": "2022-07-20T16:01:22.642Z"
   },
   {
    "duration": 292,
    "start_time": "2022-07-20T16:01:22.650Z"
   },
   {
    "duration": 39,
    "start_time": "2022-07-20T16:01:22.944Z"
   },
   {
    "duration": 3,
    "start_time": "2022-07-20T16:01:22.985Z"
   },
   {
    "duration": 3,
    "start_time": "2022-07-20T16:01:23.003Z"
   },
   {
    "duration": 13,
    "start_time": "2022-07-20T16:01:23.008Z"
   },
   {
    "duration": 23,
    "start_time": "2022-07-20T16:01:23.022Z"
   },
   {
    "duration": 20033,
    "start_time": "2022-07-20T16:01:23.047Z"
   },
   {
    "duration": 1342,
    "start_time": "2022-07-20T16:01:49.424Z"
   },
   {
    "duration": 3,
    "start_time": "2022-07-20T16:01:50.769Z"
   },
   {
    "duration": 469,
    "start_time": "2022-07-20T16:01:50.773Z"
   },
   {
    "duration": 381,
    "start_time": "2022-07-20T16:01:51.244Z"
   },
   {
    "duration": 110,
    "start_time": "2022-07-20T16:01:51.627Z"
   },
   {
    "duration": 3,
    "start_time": "2022-07-20T16:01:51.739Z"
   },
   {
    "duration": 8,
    "start_time": "2022-07-20T16:01:51.743Z"
   },
   {
    "duration": 6,
    "start_time": "2022-07-20T16:01:51.753Z"
   },
   {
    "duration": 4,
    "start_time": "2022-07-20T16:01:51.761Z"
   },
   {
    "duration": 9,
    "start_time": "2022-07-20T16:01:51.767Z"
   },
   {
    "duration": 44,
    "start_time": "2022-07-20T16:01:51.777Z"
   },
   {
    "duration": 7,
    "start_time": "2022-07-20T16:01:51.823Z"
   },
   {
    "duration": 226,
    "start_time": "2022-07-20T16:01:51.832Z"
   },
   {
    "duration": 103,
    "start_time": "2022-07-20T16:01:52.060Z"
   },
   {
    "duration": 199,
    "start_time": "2022-07-20T16:01:52.165Z"
   },
   {
    "duration": 188,
    "start_time": "2022-07-20T16:01:52.366Z"
   },
   {
    "duration": 201,
    "start_time": "2022-07-20T16:01:52.557Z"
   },
   {
    "duration": 99,
    "start_time": "2022-07-20T16:01:52.760Z"
   },
   {
    "duration": 310,
    "start_time": "2022-07-20T16:01:52.860Z"
   },
   {
    "duration": 331,
    "start_time": "2022-07-20T16:01:53.171Z"
   },
   {
    "duration": 6,
    "start_time": "2022-07-20T16:01:53.503Z"
   },
   {
    "duration": 318,
    "start_time": "2022-07-20T16:01:53.510Z"
   },
   {
    "duration": 37,
    "start_time": "2022-07-20T16:01:53.830Z"
   },
   {
    "duration": 4,
    "start_time": "2022-07-20T16:01:53.868Z"
   },
   {
    "duration": 7,
    "start_time": "2022-07-20T16:01:53.873Z"
   },
   {
    "duration": 24,
    "start_time": "2022-07-20T16:01:53.881Z"
   },
   {
    "duration": 22,
    "start_time": "2022-07-20T16:01:53.907Z"
   },
   {
    "duration": 17377,
    "start_time": "2022-07-20T16:01:53.932Z"
   },
   {
    "duration": 16497,
    "start_time": "2022-07-20T16:02:11.311Z"
   },
   {
    "duration": 1349,
    "start_time": "2022-07-20T16:16:09.059Z"
   },
   {
    "duration": 3,
    "start_time": "2022-07-20T16:16:10.410Z"
   },
   {
    "duration": 453,
    "start_time": "2022-07-20T16:16:10.415Z"
   },
   {
    "duration": 378,
    "start_time": "2022-07-20T16:16:10.870Z"
   },
   {
    "duration": 108,
    "start_time": "2022-07-20T16:16:11.250Z"
   },
   {
    "duration": 2,
    "start_time": "2022-07-20T16:16:11.360Z"
   },
   {
    "duration": 9,
    "start_time": "2022-07-20T16:16:11.364Z"
   },
   {
    "duration": 7,
    "start_time": "2022-07-20T16:16:11.374Z"
   },
   {
    "duration": 6,
    "start_time": "2022-07-20T16:16:11.382Z"
   },
   {
    "duration": 15,
    "start_time": "2022-07-20T16:16:11.402Z"
   },
   {
    "duration": 26,
    "start_time": "2022-07-20T16:16:11.419Z"
   },
   {
    "duration": 8,
    "start_time": "2022-07-20T16:16:11.447Z"
   },
   {
    "duration": 238,
    "start_time": "2022-07-20T16:16:11.456Z"
   },
   {
    "duration": 104,
    "start_time": "2022-07-20T16:16:11.701Z"
   },
   {
    "duration": 233,
    "start_time": "2022-07-20T16:16:11.806Z"
   },
   {
    "duration": 196,
    "start_time": "2022-07-20T16:16:12.041Z"
   },
   {
    "duration": 239,
    "start_time": "2022-07-20T16:16:12.240Z"
   },
   {
    "duration": 102,
    "start_time": "2022-07-20T16:16:12.481Z"
   },
   {
    "duration": 342,
    "start_time": "2022-07-20T16:16:12.585Z"
   },
   {
    "duration": 329,
    "start_time": "2022-07-20T16:16:12.928Z"
   },
   {
    "duration": 6,
    "start_time": "2022-07-20T16:16:13.259Z"
   },
   {
    "duration": 290,
    "start_time": "2022-07-20T16:16:13.267Z"
   },
   {
    "duration": 44,
    "start_time": "2022-07-20T16:16:13.559Z"
   },
   {
    "duration": 3,
    "start_time": "2022-07-20T16:16:13.605Z"
   },
   {
    "duration": 7,
    "start_time": "2022-07-20T16:16:13.609Z"
   },
   {
    "duration": 13,
    "start_time": "2022-07-20T16:16:13.617Z"
   },
   {
    "duration": 23,
    "start_time": "2022-07-20T16:16:13.632Z"
   },
   {
    "duration": 17996,
    "start_time": "2022-07-20T16:16:13.657Z"
   },
   {
    "duration": 17294,
    "start_time": "2022-07-20T16:16:31.654Z"
   },
   {
    "duration": 415931,
    "start_time": "2022-07-20T16:16:48.949Z"
   },
   {
    "duration": 241680,
    "start_time": "2022-07-20T16:23:44.882Z"
   },
   {
    "duration": 1551,
    "start_time": "2022-07-20T16:27:46.564Z"
   },
   {
    "duration": 1599,
    "start_time": "2022-07-20T16:27:48.116Z"
   },
   {
    "duration": 1383,
    "start_time": "2022-07-20T16:57:12.497Z"
   },
   {
    "duration": 4,
    "start_time": "2022-07-20T16:57:16.116Z"
   },
   {
    "duration": 506,
    "start_time": "2022-07-20T16:57:17.450Z"
   },
   {
    "duration": 398,
    "start_time": "2022-07-20T16:57:22.458Z"
   },
   {
    "duration": 127,
    "start_time": "2022-07-20T16:57:25.766Z"
   },
   {
    "duration": 3,
    "start_time": "2022-07-20T16:57:28.696Z"
   },
   {
    "duration": 6,
    "start_time": "2022-07-20T16:57:29.520Z"
   },
   {
    "duration": 7,
    "start_time": "2022-07-20T16:57:30.848Z"
   },
   {
    "duration": 5,
    "start_time": "2022-07-20T16:57:32.753Z"
   },
   {
    "duration": 8,
    "start_time": "2022-07-20T16:57:35.649Z"
   },
   {
    "duration": 105,
    "start_time": "2022-07-20T16:57:36.042Z"
   },
   {
    "duration": 10,
    "start_time": "2022-07-20T16:57:38.758Z"
   },
   {
    "duration": 1420,
    "start_time": "2022-07-20T16:57:44.895Z"
   },
   {
    "duration": 4,
    "start_time": "2022-07-20T16:57:46.318Z"
   },
   {
    "duration": 496,
    "start_time": "2022-07-20T16:57:46.324Z"
   },
   {
    "duration": 390,
    "start_time": "2022-07-20T16:57:46.821Z"
   },
   {
    "duration": 128,
    "start_time": "2022-07-20T16:57:47.217Z"
   },
   {
    "duration": 3,
    "start_time": "2022-07-20T16:57:47.347Z"
   },
   {
    "duration": 9,
    "start_time": "2022-07-20T16:57:47.351Z"
   },
   {
    "duration": 7,
    "start_time": "2022-07-20T16:57:47.361Z"
   },
   {
    "duration": 7,
    "start_time": "2022-07-20T16:57:47.369Z"
   },
   {
    "duration": 47,
    "start_time": "2022-07-20T16:57:47.378Z"
   },
   {
    "duration": 36,
    "start_time": "2022-07-20T16:57:47.427Z"
   },
   {
    "duration": 10,
    "start_time": "2022-07-20T16:57:47.465Z"
   },
   {
    "duration": 297,
    "start_time": "2022-07-20T16:57:47.476Z"
   },
   {
    "duration": 118,
    "start_time": "2022-07-20T16:57:47.774Z"
   },
   {
    "duration": 206,
    "start_time": "2022-07-20T16:57:47.893Z"
   },
   {
    "duration": 180,
    "start_time": "2022-07-20T16:57:48.109Z"
   },
   {
    "duration": 226,
    "start_time": "2022-07-20T16:57:48.291Z"
   },
   {
    "duration": 102,
    "start_time": "2022-07-20T16:57:48.519Z"
   },
   {
    "duration": 313,
    "start_time": "2022-07-20T16:57:48.623Z"
   },
   {
    "duration": 316,
    "start_time": "2022-07-20T16:57:48.938Z"
   },
   {
    "duration": 5,
    "start_time": "2022-07-20T16:57:49.256Z"
   },
   {
    "duration": 313,
    "start_time": "2022-07-20T16:57:49.263Z"
   },
   {
    "duration": 45,
    "start_time": "2022-07-20T16:57:49.578Z"
   },
   {
    "duration": 3,
    "start_time": "2022-07-20T16:57:49.624Z"
   },
   {
    "duration": 12,
    "start_time": "2022-07-20T16:57:49.628Z"
   },
   {
    "duration": 10,
    "start_time": "2022-07-20T16:57:49.641Z"
   },
   {
    "duration": 24,
    "start_time": "2022-07-20T16:57:49.652Z"
   },
   {
    "duration": 19269,
    "start_time": "2022-07-20T16:57:49.679Z"
   },
   {
    "duration": 20075,
    "start_time": "2022-07-20T16:58:08.949Z"
   },
   {
    "duration": 1421,
    "start_time": "2022-07-20T17:03:37.616Z"
   },
   {
    "duration": 3,
    "start_time": "2022-07-20T17:03:39.039Z"
   },
   {
    "duration": 495,
    "start_time": "2022-07-20T17:03:39.044Z"
   },
   {
    "duration": 403,
    "start_time": "2022-07-20T17:03:39.541Z"
   },
   {
    "duration": 141,
    "start_time": "2022-07-20T17:03:39.946Z"
   },
   {
    "duration": 3,
    "start_time": "2022-07-20T17:03:40.089Z"
   },
   {
    "duration": 24,
    "start_time": "2022-07-20T17:03:40.094Z"
   },
   {
    "duration": 21,
    "start_time": "2022-07-20T17:03:40.119Z"
   },
   {
    "duration": 15,
    "start_time": "2022-07-20T17:03:40.142Z"
   },
   {
    "duration": 17,
    "start_time": "2022-07-20T17:03:40.160Z"
   },
   {
    "duration": 24,
    "start_time": "2022-07-20T17:03:40.179Z"
   },
   {
    "duration": 10,
    "start_time": "2022-07-20T17:03:40.205Z"
   },
   {
    "duration": 275,
    "start_time": "2022-07-20T17:03:40.217Z"
   },
   {
    "duration": 110,
    "start_time": "2022-07-20T17:03:40.494Z"
   },
   {
    "duration": 217,
    "start_time": "2022-07-20T17:03:40.606Z"
   },
   {
    "duration": 177,
    "start_time": "2022-07-20T17:03:40.825Z"
   },
   {
    "duration": 203,
    "start_time": "2022-07-20T17:03:41.003Z"
   },
   {
    "duration": 98,
    "start_time": "2022-07-20T17:03:41.208Z"
   },
   {
    "duration": 311,
    "start_time": "2022-07-20T17:03:41.308Z"
   },
   {
    "duration": 339,
    "start_time": "2022-07-20T17:03:41.621Z"
   },
   {
    "duration": 7,
    "start_time": "2022-07-20T17:03:41.962Z"
   },
   {
    "duration": 319,
    "start_time": "2022-07-20T17:03:41.971Z"
   },
   {
    "duration": 55,
    "start_time": "2022-07-20T17:03:42.292Z"
   },
   {
    "duration": 3,
    "start_time": "2022-07-20T17:03:42.349Z"
   },
   {
    "duration": 8,
    "start_time": "2022-07-20T17:03:42.354Z"
   },
   {
    "duration": 11,
    "start_time": "2022-07-20T17:03:42.364Z"
   },
   {
    "duration": 36,
    "start_time": "2022-07-20T17:03:42.376Z"
   },
   {
    "duration": 16903,
    "start_time": "2022-07-20T17:03:42.416Z"
   },
   {
    "duration": 16513,
    "start_time": "2022-07-20T17:03:59.320Z"
   },
   {
    "duration": 276476,
    "start_time": "2022-07-20T17:04:15.835Z"
   },
   {
    "duration": 237735,
    "start_time": "2022-07-20T17:08:52.312Z"
   },
   {
    "duration": 2470,
    "start_time": "2022-07-20T17:12:50.050Z"
   },
   {
    "duration": 2291,
    "start_time": "2022-07-20T17:12:52.525Z"
   },
   {
    "duration": 1496,
    "start_time": "2022-07-20T17:34:59.879Z"
   },
   {
    "duration": 4,
    "start_time": "2022-07-20T17:35:01.377Z"
   },
   {
    "duration": 548,
    "start_time": "2022-07-20T17:35:01.382Z"
   },
   {
    "duration": 410,
    "start_time": "2022-07-20T17:35:01.932Z"
   },
   {
    "duration": 131,
    "start_time": "2022-07-20T17:35:02.344Z"
   },
   {
    "duration": 3,
    "start_time": "2022-07-20T17:35:02.477Z"
   },
   {
    "duration": 34,
    "start_time": "2022-07-20T17:35:02.482Z"
   },
   {
    "duration": 24,
    "start_time": "2022-07-20T17:35:02.518Z"
   },
   {
    "duration": 14,
    "start_time": "2022-07-20T17:35:02.544Z"
   },
   {
    "duration": 13,
    "start_time": "2022-07-20T17:35:02.560Z"
   },
   {
    "duration": 22,
    "start_time": "2022-07-20T17:35:02.575Z"
   },
   {
    "duration": 20,
    "start_time": "2022-07-20T17:35:02.599Z"
   },
   {
    "duration": 239,
    "start_time": "2022-07-20T17:35:02.621Z"
   },
   {
    "duration": 119,
    "start_time": "2022-07-20T17:35:02.863Z"
   },
   {
    "duration": 228,
    "start_time": "2022-07-20T17:35:02.983Z"
   },
   {
    "duration": 194,
    "start_time": "2022-07-20T17:35:03.213Z"
   },
   {
    "duration": 210,
    "start_time": "2022-07-20T17:35:03.414Z"
   },
   {
    "duration": 115,
    "start_time": "2022-07-20T17:35:03.626Z"
   },
   {
    "duration": 392,
    "start_time": "2022-07-20T17:35:03.742Z"
   },
   {
    "duration": 389,
    "start_time": "2022-07-20T17:35:04.136Z"
   },
   {
    "duration": 8,
    "start_time": "2022-07-20T17:35:04.527Z"
   },
   {
    "duration": 312,
    "start_time": "2022-07-20T17:35:04.537Z"
   },
   {
    "duration": 34,
    "start_time": "2022-07-20T17:35:04.851Z"
   },
   {
    "duration": 3,
    "start_time": "2022-07-20T17:35:04.887Z"
   },
   {
    "duration": 15,
    "start_time": "2022-07-20T17:35:04.902Z"
   },
   {
    "duration": 9,
    "start_time": "2022-07-20T17:35:04.919Z"
   },
   {
    "duration": 23,
    "start_time": "2022-07-20T17:35:04.930Z"
   },
   {
    "duration": 18032,
    "start_time": "2022-07-20T17:35:04.954Z"
   },
   {
    "duration": 17952,
    "start_time": "2022-07-20T17:35:22.987Z"
   },
   {
    "duration": 186084,
    "start_time": "2022-07-20T17:35:40.941Z"
   },
   {
    "duration": 393392,
    "start_time": "2022-07-20T17:38:47.026Z"
   },
   {
    "duration": 1400,
    "start_time": "2022-07-20T17:45:20.420Z"
   },
   {
    "duration": 1694,
    "start_time": "2022-07-20T17:45:21.823Z"
   },
   {
    "duration": 153262,
    "start_time": "2022-07-20T17:45:23.519Z"
   },
   {
    "duration": 90706,
    "start_time": "2022-07-20T17:47:56.783Z"
   },
   {
    "duration": 55,
    "start_time": "2022-07-20T17:49:27.491Z"
   },
   {
    "duration": 12,
    "start_time": "2022-07-20T17:49:27.548Z"
   },
   {
    "duration": 1408,
    "start_time": "2022-07-20T17:50:27.831Z"
   },
   {
    "duration": 3,
    "start_time": "2022-07-20T17:50:29.241Z"
   },
   {
    "duration": 505,
    "start_time": "2022-07-20T17:50:29.246Z"
   },
   {
    "duration": 414,
    "start_time": "2022-07-20T17:50:29.752Z"
   },
   {
    "duration": 119,
    "start_time": "2022-07-20T17:50:30.168Z"
   },
   {
    "duration": 3,
    "start_time": "2022-07-20T17:50:30.289Z"
   },
   {
    "duration": 44,
    "start_time": "2022-07-20T17:50:30.293Z"
   },
   {
    "duration": 9,
    "start_time": "2022-07-20T17:50:30.339Z"
   },
   {
    "duration": 24,
    "start_time": "2022-07-20T17:50:30.349Z"
   },
   {
    "duration": 23,
    "start_time": "2022-07-20T17:50:30.375Z"
   },
   {
    "duration": 50,
    "start_time": "2022-07-20T17:50:30.400Z"
   },
   {
    "duration": 8,
    "start_time": "2022-07-20T17:50:30.451Z"
   },
   {
    "duration": 257,
    "start_time": "2022-07-20T17:50:30.460Z"
   },
   {
    "duration": 112,
    "start_time": "2022-07-20T17:50:30.725Z"
   },
   {
    "duration": 220,
    "start_time": "2022-07-20T17:50:30.838Z"
   },
   {
    "duration": 191,
    "start_time": "2022-07-20T17:50:31.060Z"
   },
   {
    "duration": 229,
    "start_time": "2022-07-20T17:50:31.253Z"
   },
   {
    "duration": 120,
    "start_time": "2022-07-20T17:50:31.484Z"
   },
   {
    "duration": 333,
    "start_time": "2022-07-20T17:50:31.606Z"
   },
   {
    "duration": 334,
    "start_time": "2022-07-20T17:50:31.940Z"
   },
   {
    "duration": 7,
    "start_time": "2022-07-20T17:50:32.276Z"
   },
   {
    "duration": 337,
    "start_time": "2022-07-20T17:50:32.284Z"
   },
   {
    "duration": 44,
    "start_time": "2022-07-20T17:50:32.622Z"
   },
   {
    "duration": 3,
    "start_time": "2022-07-20T17:50:32.668Z"
   },
   {
    "duration": 17,
    "start_time": "2022-07-20T17:50:32.672Z"
   },
   {
    "duration": 9,
    "start_time": "2022-07-20T17:50:32.691Z"
   },
   {
    "duration": 54,
    "start_time": "2022-07-20T17:50:32.711Z"
   },
   {
    "duration": 19333,
    "start_time": "2022-07-20T17:50:32.767Z"
   },
   {
    "duration": 19858,
    "start_time": "2022-07-20T17:50:52.102Z"
   },
   {
    "duration": 533282,
    "start_time": "2022-07-20T17:51:11.962Z"
   },
   {
    "duration": 1465,
    "start_time": "2022-07-20T18:06:52.227Z"
   },
   {
    "duration": 3,
    "start_time": "2022-07-20T18:06:53.694Z"
   },
   {
    "duration": 533,
    "start_time": "2022-07-20T18:06:53.704Z"
   },
   {
    "duration": 403,
    "start_time": "2022-07-20T18:06:54.239Z"
   },
   {
    "duration": 121,
    "start_time": "2022-07-20T18:06:54.644Z"
   },
   {
    "duration": 3,
    "start_time": "2022-07-20T18:06:54.766Z"
   },
   {
    "duration": 22,
    "start_time": "2022-07-20T18:06:54.770Z"
   },
   {
    "duration": 48,
    "start_time": "2022-07-20T18:06:54.793Z"
   },
   {
    "duration": 36,
    "start_time": "2022-07-20T18:06:54.842Z"
   },
   {
    "duration": 12,
    "start_time": "2022-07-20T18:06:54.880Z"
   },
   {
    "duration": 67,
    "start_time": "2022-07-20T18:06:54.894Z"
   },
   {
    "duration": 13,
    "start_time": "2022-07-20T18:06:54.963Z"
   },
   {
    "duration": 287,
    "start_time": "2022-07-20T18:06:54.978Z"
   },
   {
    "duration": 156,
    "start_time": "2022-07-20T18:06:55.268Z"
   },
   {
    "duration": 211,
    "start_time": "2022-07-20T18:06:55.430Z"
   },
   {
    "duration": 187,
    "start_time": "2022-07-20T18:06:55.643Z"
   },
   {
    "duration": 222,
    "start_time": "2022-07-20T18:06:55.832Z"
   },
   {
    "duration": 107,
    "start_time": "2022-07-20T18:06:56.056Z"
   },
   {
    "duration": 326,
    "start_time": "2022-07-20T18:06:56.165Z"
   },
   {
    "duration": 340,
    "start_time": "2022-07-20T18:06:56.492Z"
   },
   {
    "duration": 5,
    "start_time": "2022-07-20T18:06:56.834Z"
   },
   {
    "duration": 311,
    "start_time": "2022-07-20T18:06:56.841Z"
   },
   {
    "duration": 36,
    "start_time": "2022-07-20T18:06:57.154Z"
   },
   {
    "duration": 14,
    "start_time": "2022-07-20T18:06:57.192Z"
   },
   {
    "duration": 30,
    "start_time": "2022-07-20T18:06:57.214Z"
   },
   {
    "duration": 14,
    "start_time": "2022-07-20T18:06:57.246Z"
   },
   {
    "duration": 22,
    "start_time": "2022-07-20T18:06:57.262Z"
   },
   {
    "duration": 17784,
    "start_time": "2022-07-20T18:06:57.286Z"
   },
   {
    "duration": 20895,
    "start_time": "2022-07-20T18:07:15.071Z"
   },
   {
    "duration": 82609,
    "start_time": "2022-07-20T18:07:35.967Z"
   },
   {
    "duration": 1535,
    "start_time": "2022-07-20T18:10:46.561Z"
   },
   {
    "duration": 7,
    "start_time": "2022-07-20T18:10:48.098Z"
   },
   {
    "duration": 527,
    "start_time": "2022-07-20T18:10:48.106Z"
   },
   {
    "duration": 414,
    "start_time": "2022-07-20T18:10:48.635Z"
   },
   {
    "duration": 123,
    "start_time": "2022-07-20T18:10:49.051Z"
   },
   {
    "duration": 3,
    "start_time": "2022-07-20T18:10:49.175Z"
   },
   {
    "duration": 29,
    "start_time": "2022-07-20T18:10:49.179Z"
   },
   {
    "duration": 43,
    "start_time": "2022-07-20T18:10:49.211Z"
   },
   {
    "duration": 28,
    "start_time": "2022-07-20T18:10:49.256Z"
   },
   {
    "duration": 45,
    "start_time": "2022-07-20T18:10:49.286Z"
   },
   {
    "duration": 37,
    "start_time": "2022-07-20T18:10:49.333Z"
   },
   {
    "duration": 7,
    "start_time": "2022-07-20T18:10:49.372Z"
   },
   {
    "duration": 311,
    "start_time": "2022-07-20T18:10:49.381Z"
   },
   {
    "duration": 119,
    "start_time": "2022-07-20T18:10:49.696Z"
   },
   {
    "duration": 237,
    "start_time": "2022-07-20T18:10:49.818Z"
   },
   {
    "duration": 193,
    "start_time": "2022-07-20T18:10:50.056Z"
   },
   {
    "duration": 239,
    "start_time": "2022-07-20T18:10:50.251Z"
   },
   {
    "duration": 121,
    "start_time": "2022-07-20T18:10:50.492Z"
   },
   {
    "duration": 353,
    "start_time": "2022-07-20T18:10:50.615Z"
   },
   {
    "duration": 340,
    "start_time": "2022-07-20T18:10:50.970Z"
   },
   {
    "duration": 10,
    "start_time": "2022-07-20T18:10:51.312Z"
   },
   {
    "duration": 347,
    "start_time": "2022-07-20T18:10:51.323Z"
   },
   {
    "duration": 41,
    "start_time": "2022-07-20T18:10:51.672Z"
   },
   {
    "duration": 8,
    "start_time": "2022-07-20T18:10:51.714Z"
   },
   {
    "duration": 26,
    "start_time": "2022-07-20T18:10:51.724Z"
   },
   {
    "duration": 10,
    "start_time": "2022-07-20T18:10:51.752Z"
   },
   {
    "duration": 25,
    "start_time": "2022-07-20T18:10:51.764Z"
   },
   {
    "duration": 21145,
    "start_time": "2022-07-20T18:10:51.791Z"
   },
   {
    "duration": 19931,
    "start_time": "2022-07-20T18:11:12.938Z"
   },
   {
    "duration": 193760,
    "start_time": "2022-07-20T18:11:32.870Z"
   },
   {
    "duration": 273482,
    "start_time": "2022-07-20T18:14:46.631Z"
   },
   {
    "duration": 2105,
    "start_time": "2022-07-20T18:19:20.116Z"
   },
   {
    "duration": 1612,
    "start_time": "2022-07-20T18:19:22.302Z"
   },
   {
    "duration": 281556,
    "start_time": "2022-07-20T18:19:23.919Z"
   },
   {
    "duration": 1377695,
    "start_time": "2022-07-20T18:24:05.478Z"
   },
   {
    "duration": 56,
    "start_time": "2022-07-20T18:47:03.178Z"
   },
   {
    "duration": 16,
    "start_time": "2022-07-20T18:47:03.236Z"
   }
  ],
  "kernelspec": {
   "display_name": "Python 3 (ipykernel)",
   "language": "python",
   "name": "python3"
  },
  "language_info": {
   "codemirror_mode": {
    "name": "ipython",
    "version": 3
   },
   "file_extension": ".py",
   "mimetype": "text/x-python",
   "name": "python",
   "nbconvert_exporter": "python",
   "pygments_lexer": "ipython3",
   "version": "3.9.12"
  },
  "toc": {
   "base_numbering": 1,
   "nav_menu": {},
   "number_sections": true,
   "sideBar": true,
   "skip_h1_title": true,
   "title_cell": "Содержание",
   "title_sidebar": "Contents",
   "toc_cell": true,
   "toc_position": {},
   "toc_section_display": true,
   "toc_window_display": true
  }
 },
 "nbformat": 4,
 "nbformat_minor": 2
}
